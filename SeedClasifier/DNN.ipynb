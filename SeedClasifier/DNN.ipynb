{
 "cells": [
  {
   "cell_type": "markdown",
   "metadata": {},
   "source": [
    "Deep Neural Network approach to the downstream tracking.\n",
    "====================\n",
    "\n",
    "The baseline to beat\n",
    "* BDT 0.80457111174771212 \n",
    "* Logistic Regresion 0.76763467806915342\n",
    "-------------"
   ]
  },
  {
   "cell_type": "code",
   "execution_count": 1,
   "metadata": {
    "collapsed": false
   },
   "outputs": [
    {
     "name": "stdout",
     "output_type": "stream",
     "text": [
      "random GPU roll:  2\n"
     ]
    }
   ],
   "source": [
    "import random\n",
    "gpuid = random.randint(0,3)\n",
    "import os\n",
    "print \"random GPU roll: \",gpuid\n",
    "os.environ[\"THEANO_FLAGS\"]=\"device=gpu%i\"%gpuid"
   ]
  },
  {
   "cell_type": "markdown",
   "metadata": {},
   "source": [
    "Get the cutting-edge version of lasagne to enable BatchNormLayer. Have to be done only once. \n",
    "Need to update the requiements file. "
   ]
  },
  {
   "cell_type": "code",
   "execution_count": 2,
   "metadata": {
    "collapsed": false
   },
   "outputs": [
    {
     "data": {
      "application/javascript": [
       "\n",
       "require(['notebook'],\n",
       "  function() {\n",
       "    IPython.CodeCell.config_defaults.highlight_modes['magic_text/x-c++src'] = {'reg':[/^%%cpp/]};\n",
       "    console.log(\"JupyROOT - %%cpp magic configured\");\n",
       "  }\n",
       ");\n"
      ]
     },
     "metadata": {},
     "output_type": "display_data"
    },
    {
     "name": "stdout",
     "output_type": "stream",
     "text": [
      "Welcome to JupyROOT 6.07/07\n"
     ]
    },
    {
     "name": "stderr",
     "output_type": "stream",
     "text": [
      "WARNING (theano.sandbox.cuda): CUDA is installed, but device gpu2 is not available  (error: Unable to get the number of gpus available: no CUDA-capable device is detected)\n"
     ]
    }
   ],
   "source": [
    "import root_numpy\n",
    "import pandas as pd\n",
    "import numpy\n",
    "import numpy as np\n",
    "import matplotlib.pyplot as plt\n",
    "import ROOT\n",
    "%matplotlib inline\n",
    "\n",
    "import warnings # current version of seaborn generates a bunch of warnings that we'll ignore\n",
    "warnings.filterwarnings(\"ignore\")\n",
    "import seaborn as sns\n",
    "\n",
    "from sklearn import linear_model\n",
    "from sklearn.cross_validation import train_test_split\n",
    "from sklearn.metrics import roc_auc_score, accuracy_score\n",
    "from sklearn.metrics import roc_curve, auc\n",
    "from sklearn import cross_validation\n",
    "from sklearn.preprocessing import PolynomialFeatures\n",
    "from sklearn.learning_curve import learning_curve\n",
    "from sklearn.pipeline import Pipeline\n",
    "from sklearn.preprocessing import StandardScaler\n",
    "from sklearn.learning_curve import validation_curve\n",
    "\n",
    "import theano\n",
    "import theano.tensor as T\n",
    "import lasagne\n",
    "from lasagne.layers import InputLayer, DenseLayer, batch_norm, dropout\n",
    "\n",
    "import time"
   ]
  },
  {
   "cell_type": "markdown",
   "metadata": {},
   "source": [
    "As a very first step I need to grab training data form the NTpule. \n",
    "--------------------------"
   ]
  },
  {
   "cell_type": "code",
   "execution_count": 3,
   "metadata": {
    "collapsed": false
   },
   "outputs": [],
   "source": [
    "root_file = ROOT.TFile(\"datasets/Brunel_test_30kev.root\")\n",
    "root_file.cd(\"ToolSvc.PatDebugTTTruthTool\")\n",
    "tree = ROOT.gDirectory.Get(\"DownstreamSeedDebugTuple\")\n",
    "data = pd.DataFrame(root_numpy.tree2array(tree))\n",
    "\n",
    "target = data.is_true_seed\n",
    "features = data.drop(\"is_true_seed\", axis=1).astype(numpy.float64)"
   ]
  },
  {
   "cell_type": "code",
   "execution_count": 4,
   "metadata": {
    "collapsed": true
   },
   "outputs": [],
   "source": [
    "def replace_transforamtion(data):\n",
    "    #abs transformation\n",
    "    out = data\n",
    "    out[\"seed_x\"]=numpy.abs(data['seed_x'])\n",
    "    out[\"seed_y\"]=numpy.abs(data['seed_y'])\n",
    "    out[\"seed_tx\"]=numpy.abs(data['seed_tx'])\n",
    "    out[\"seed_ty\"]=numpy.abs(data['seed_ty'])\n",
    "    #log transformation\n",
    "    out[\"seed_p\"]= numpy.log(data['seed_p'])\n",
    "    out[\"seed_pt\"]= numpy.log(data['seed_pt'])\n",
    "    return out"
   ]
  },
  {
   "cell_type": "code",
   "execution_count": 5,
   "metadata": {
    "collapsed": false
   },
   "outputs": [
    {
     "data": {
      "text/html": [
       "<div>\n",
       "<table border=\"1\" class=\"dataframe\">\n",
       "  <thead>\n",
       "    <tr style=\"text-align: right;\">\n",
       "      <th></th>\n",
       "      <th>seed_chi2PerDoF</th>\n",
       "      <th>seed_p</th>\n",
       "      <th>seed_pt</th>\n",
       "      <th>seed_nLHCbIDs</th>\n",
       "      <th>seed_nbIT</th>\n",
       "      <th>seed_nLayers</th>\n",
       "      <th>seed_x</th>\n",
       "      <th>seed_y</th>\n",
       "      <th>seed_tx</th>\n",
       "      <th>seed_ty</th>\n",
       "    </tr>\n",
       "  </thead>\n",
       "  <tbody>\n",
       "    <tr>\n",
       "      <th>0</th>\n",
       "      <td>1.213708</td>\n",
       "      <td>7.841285</td>\n",
       "      <td>7.079410</td>\n",
       "      <td>25.0</td>\n",
       "      <td>0.0</td>\n",
       "      <td>12.0</td>\n",
       "      <td>1263.157617</td>\n",
       "      <td>517.249191</td>\n",
       "      <td>0.524220</td>\n",
       "      <td>0.061572</td>\n",
       "    </tr>\n",
       "    <tr>\n",
       "      <th>1</th>\n",
       "      <td>1.346112</td>\n",
       "      <td>7.930741</td>\n",
       "      <td>7.093734</td>\n",
       "      <td>25.0</td>\n",
       "      <td>0.0</td>\n",
       "      <td>12.0</td>\n",
       "      <td>1264.522435</td>\n",
       "      <td>99.363473</td>\n",
       "      <td>0.480288</td>\n",
       "      <td>0.009081</td>\n",
       "    </tr>\n",
       "    <tr>\n",
       "      <th>2</th>\n",
       "      <td>1.627632</td>\n",
       "      <td>8.469986</td>\n",
       "      <td>7.443378</td>\n",
       "      <td>25.0</td>\n",
       "      <td>0.0</td>\n",
       "      <td>12.0</td>\n",
       "      <td>1521.093160</td>\n",
       "      <td>196.064807</td>\n",
       "      <td>0.382802</td>\n",
       "      <td>0.025975</td>\n",
       "    </tr>\n",
       "    <tr>\n",
       "      <th>3</th>\n",
       "      <td>1.789231</td>\n",
       "      <td>8.556975</td>\n",
       "      <td>7.508752</td>\n",
       "      <td>25.0</td>\n",
       "      <td>0.0</td>\n",
       "      <td>12.0</td>\n",
       "      <td>1563.145597</td>\n",
       "      <td>483.850246</td>\n",
       "      <td>0.369674</td>\n",
       "      <td>0.058753</td>\n",
       "    </tr>\n",
       "    <tr>\n",
       "      <th>4</th>\n",
       "      <td>1.269238</td>\n",
       "      <td>7.741082</td>\n",
       "      <td>7.132965</td>\n",
       "      <td>24.0</td>\n",
       "      <td>0.0</td>\n",
       "      <td>12.0</td>\n",
       "      <td>1641.727752</td>\n",
       "      <td>411.084316</td>\n",
       "      <td>0.646627</td>\n",
       "      <td>0.054980</td>\n",
       "    </tr>\n",
       "  </tbody>\n",
       "</table>\n",
       "</div>"
      ],
      "text/plain": [
       "   seed_chi2PerDoF    seed_p   seed_pt  seed_nLHCbIDs  seed_nbIT  \\\n",
       "0         1.213708  7.841285  7.079410           25.0        0.0   \n",
       "1         1.346112  7.930741  7.093734           25.0        0.0   \n",
       "2         1.627632  8.469986  7.443378           25.0        0.0   \n",
       "3         1.789231  8.556975  7.508752           25.0        0.0   \n",
       "4         1.269238  7.741082  7.132965           24.0        0.0   \n",
       "\n",
       "   seed_nLayers       seed_x      seed_y   seed_tx   seed_ty  \n",
       "0          12.0  1263.157617  517.249191  0.524220  0.061572  \n",
       "1          12.0  1264.522435   99.363473  0.480288  0.009081  \n",
       "2          12.0  1521.093160  196.064807  0.382802  0.025975  \n",
       "3          12.0  1563.145597  483.850246  0.369674  0.058753  \n",
       "4          12.0  1641.727752  411.084316  0.646627  0.054980  "
      ]
     },
     "execution_count": 5,
     "metadata": {},
     "output_type": "execute_result"
    }
   ],
   "source": [
    "data = replace_transforamtion(data)\n",
    "features = data.drop(\"is_true_seed\", axis=1).astype(numpy.float64)\n",
    "features.head()"
   ]
  },
  {
   "cell_type": "markdown",
   "metadata": {},
   "source": [
    "Print the features\n",
    "-------------------------"
   ]
  },
  {
   "cell_type": "code",
   "execution_count": 6,
   "metadata": {
    "collapsed": false,
    "scrolled": true
   },
   "outputs": [
    {
     "data": {
      "text/html": [
       "<div>\n",
       "<table border=\"1\" class=\"dataframe\">\n",
       "  <thead>\n",
       "    <tr style=\"text-align: right;\">\n",
       "      <th></th>\n",
       "      <th>seed_chi2PerDoF</th>\n",
       "      <th>seed_p</th>\n",
       "      <th>seed_pt</th>\n",
       "      <th>seed_nLHCbIDs</th>\n",
       "      <th>seed_nbIT</th>\n",
       "      <th>seed_nLayers</th>\n",
       "      <th>seed_x</th>\n",
       "      <th>seed_y</th>\n",
       "      <th>seed_tx</th>\n",
       "      <th>seed_ty</th>\n",
       "    </tr>\n",
       "  </thead>\n",
       "  <tbody>\n",
       "    <tr>\n",
       "      <th>count</th>\n",
       "      <td>2.820225e+06</td>\n",
       "      <td>2.820225e+06</td>\n",
       "      <td>2.820225e+06</td>\n",
       "      <td>2.820225e+06</td>\n",
       "      <td>2.820225e+06</td>\n",
       "      <td>2.820225e+06</td>\n",
       "      <td>2.820225e+06</td>\n",
       "      <td>2.820225e+06</td>\n",
       "      <td>2.820225e+06</td>\n",
       "      <td>2.820225e+06</td>\n",
       "    </tr>\n",
       "    <tr>\n",
       "      <th>mean</th>\n",
       "      <td>2.151541e+00</td>\n",
       "      <td>8.832627e+00</td>\n",
       "      <td>7.059373e+00</td>\n",
       "      <td>1.778696e+01</td>\n",
       "      <td>2.583371e+00</td>\n",
       "      <td>1.116850e+01</td>\n",
       "      <td>5.329296e+02</td>\n",
       "      <td>3.792155e+02</td>\n",
       "      <td>2.452544e-01</td>\n",
       "      <td>5.047799e-02</td>\n",
       "    </tr>\n",
       "    <tr>\n",
       "      <th>std</th>\n",
       "      <td>1.450411e+00</td>\n",
       "      <td>1.058556e+00</td>\n",
       "      <td>5.334005e-01</td>\n",
       "      <td>4.672981e+00</td>\n",
       "      <td>4.624577e+00</td>\n",
       "      <td>1.080491e+00</td>\n",
       "      <td>4.467357e+02</td>\n",
       "      <td>4.158186e+02</td>\n",
       "      <td>2.053685e-01</td>\n",
       "      <td>5.301402e-02</td>\n",
       "    </tr>\n",
       "    <tr>\n",
       "      <th>min</th>\n",
       "      <td>2.503011e-04</td>\n",
       "      <td>7.014427e+00</td>\n",
       "      <td>5.664902e-01</td>\n",
       "      <td>8.000000e+00</td>\n",
       "      <td>0.000000e+00</td>\n",
       "      <td>8.000000e+00</td>\n",
       "      <td>1.936797e-04</td>\n",
       "      <td>8.009404e-04</td>\n",
       "      <td>4.877929e-07</td>\n",
       "      <td>1.786139e-09</td>\n",
       "    </tr>\n",
       "    <tr>\n",
       "      <th>25%</th>\n",
       "      <td>1.053873e+00</td>\n",
       "      <td>8.011151e+00</td>\n",
       "      <td>6.837125e+00</td>\n",
       "      <td>1.300000e+01</td>\n",
       "      <td>0.000000e+00</td>\n",
       "      <td>1.100000e+01</td>\n",
       "      <td>1.680454e+02</td>\n",
       "      <td>9.086889e+01</td>\n",
       "      <td>7.756509e-02</td>\n",
       "      <td>1.284370e-02</td>\n",
       "    </tr>\n",
       "    <tr>\n",
       "      <th>50%</th>\n",
       "      <td>1.714204e+00</td>\n",
       "      <td>8.656816e+00</td>\n",
       "      <td>7.024174e+00</td>\n",
       "      <td>1.900000e+01</td>\n",
       "      <td>0.000000e+00</td>\n",
       "      <td>1.200000e+01</td>\n",
       "      <td>3.975971e+02</td>\n",
       "      <td>2.159103e+02</td>\n",
       "      <td>1.848496e-01</td>\n",
       "      <td>3.124117e-02</td>\n",
       "    </tr>\n",
       "    <tr>\n",
       "      <th>75%</th>\n",
       "      <td>2.949078e+00</td>\n",
       "      <td>9.487110e+00</td>\n",
       "      <td>7.223235e+00</td>\n",
       "      <td>2.200000e+01</td>\n",
       "      <td>4.000000e+00</td>\n",
       "      <td>1.200000e+01</td>\n",
       "      <td>8.020341e+02</td>\n",
       "      <td>5.185574e+02</td>\n",
       "      <td>3.700550e-01</td>\n",
       "      <td>6.991058e-02</td>\n",
       "    </tr>\n",
       "    <tr>\n",
       "      <th>max</th>\n",
       "      <td>8.999829e+00</td>\n",
       "      <td>2.212160e+01</td>\n",
       "      <td>1.893711e+01</td>\n",
       "      <td>3.200000e+01</td>\n",
       "      <td>2.300000e+01</td>\n",
       "      <td>1.200000e+01</td>\n",
       "      <td>2.505840e+03</td>\n",
       "      <td>2.277240e+03</td>\n",
       "      <td>1.358254e+00</td>\n",
       "      <td>1.225459e+00</td>\n",
       "    </tr>\n",
       "  </tbody>\n",
       "</table>\n",
       "</div>"
      ],
      "text/plain": [
       "       seed_chi2PerDoF        seed_p       seed_pt  seed_nLHCbIDs  \\\n",
       "count     2.820225e+06  2.820225e+06  2.820225e+06   2.820225e+06   \n",
       "mean      2.151541e+00  8.832627e+00  7.059373e+00   1.778696e+01   \n",
       "std       1.450411e+00  1.058556e+00  5.334005e-01   4.672981e+00   \n",
       "min       2.503011e-04  7.014427e+00  5.664902e-01   8.000000e+00   \n",
       "25%       1.053873e+00  8.011151e+00  6.837125e+00   1.300000e+01   \n",
       "50%       1.714204e+00  8.656816e+00  7.024174e+00   1.900000e+01   \n",
       "75%       2.949078e+00  9.487110e+00  7.223235e+00   2.200000e+01   \n",
       "max       8.999829e+00  2.212160e+01  1.893711e+01   3.200000e+01   \n",
       "\n",
       "          seed_nbIT  seed_nLayers        seed_x        seed_y       seed_tx  \\\n",
       "count  2.820225e+06  2.820225e+06  2.820225e+06  2.820225e+06  2.820225e+06   \n",
       "mean   2.583371e+00  1.116850e+01  5.329296e+02  3.792155e+02  2.452544e-01   \n",
       "std    4.624577e+00  1.080491e+00  4.467357e+02  4.158186e+02  2.053685e-01   \n",
       "min    0.000000e+00  8.000000e+00  1.936797e-04  8.009404e-04  4.877929e-07   \n",
       "25%    0.000000e+00  1.100000e+01  1.680454e+02  9.086889e+01  7.756509e-02   \n",
       "50%    0.000000e+00  1.200000e+01  3.975971e+02  2.159103e+02  1.848496e-01   \n",
       "75%    4.000000e+00  1.200000e+01  8.020341e+02  5.185574e+02  3.700550e-01   \n",
       "max    2.300000e+01  1.200000e+01  2.505840e+03  2.277240e+03  1.358254e+00   \n",
       "\n",
       "            seed_ty  \n",
       "count  2.820225e+06  \n",
       "mean   5.047799e-02  \n",
       "std    5.301402e-02  \n",
       "min    1.786139e-09  \n",
       "25%    1.284370e-02  \n",
       "50%    3.124117e-02  \n",
       "75%    6.991058e-02  \n",
       "max    1.225459e+00  "
      ]
     },
     "execution_count": 6,
     "metadata": {},
     "output_type": "execute_result"
    }
   ],
   "source": [
    "features.describe()"
   ]
  },
  {
   "cell_type": "code",
   "execution_count": 7,
   "metadata": {
    "collapsed": true
   },
   "outputs": [],
   "source": [
    "def print_features_histograms(Xdata, target):\n",
    "    hist_params = {'normed': True, 'bins': 60, 'alpha': 0.4}\n",
    "    # create the figure\n",
    "    fig = plt.figure(figsize=(16,  25))\n",
    "    for n, feature in enumerate(Xdata):\n",
    "        # add sub plot on our figure\n",
    "        ax = fig.add_subplot(Xdata.shape[1] // 5 + 1, 6, n + 1)\n",
    "        # define range for histograms by cutting 1% of data from both ends\n",
    "        min_value, max_value = numpy.percentile(Xdata[feature], [1, 99])\n",
    "        ax.hist(Xdata.ix[target == 0, feature].values, range=(min_value, max_value), \n",
    "                 label='ghost', **hist_params)\n",
    "        ax.hist(Xdata.ix[target == 1, feature].values, range=(min_value, max_value), \n",
    "                 label='true', **hist_params)\n",
    "        ax.legend(loc='best')\n",
    "\n",
    "        ax.set_title(feature)"
   ]
  },
  {
   "cell_type": "code",
   "execution_count": 8,
   "metadata": {
    "collapsed": false
   },
   "outputs": [
    {
     "data": {
      "image/png": "[encoded data removed]",
      "text/plain": [
       "<matplotlib.figure.Figure at 0x7f6c2eee2f90>"
      ]
     },
     "metadata": {},
     "output_type": "display_data"
    }
   ],
   "source": [
    "print_features_histograms(features, target)"
   ]
  },
  {
   "cell_type": "code",
   "execution_count": 20,
   "metadata": {
    "collapsed": false
   },
   "outputs": [],
   "source": [
    "data_scaled = StandardScaler().fit_transform(features)\n",
    "scaled_features = pd.DataFrame(data_scaled)"
   ]
  },
  {
   "cell_type": "markdown",
   "metadata": {},
   "source": [
    "Training of the basic version of the Deep Neural Network\n",
    "=======================\n",
    "I take a simple NN with 3 hidden layers:\n",
    "* Layers must contain 500 hidden units each\n",
    "* Layers must use tanh nonlinearity\n",
    "* dropout probablilty set to 3\n",
    "\n",
    "structure can be farther optimized, so feel free to experiment after you got it working"
   ]
  },
  {
   "cell_type": "markdown",
   "metadata": {},
   "source": [
    "Split data into train and validation sets\n",
    "----------------------"
   ]
  },
  {
   "cell_type": "code",
   "execution_count": 21,
   "metadata": {
    "collapsed": false
   },
   "outputs": [],
   "source": [
    "y = data['is_true_seed'].values==1\n",
    "X = scaled_features[scaled_features.columns[1:]].values.astype(theano.config.floatX)"
   ]
  },
  {
   "cell_type": "code",
   "execution_count": 22,
   "metadata": {
    "collapsed": false
   },
   "outputs": [],
   "source": [
    "X_train,X_val,y_train,y_val = train_test_split(X,y,random_state=11, train_size=0.5)"
   ]
  },
  {
   "cell_type": "code",
   "execution_count": 23,
   "metadata": {
    "collapsed": false
   },
   "outputs": [],
   "source": [
    "input_X = T.matrix('input X')\n",
    "target_Y = T.ivector('target Y')"
   ]
  },
  {
   "cell_type": "markdown",
   "metadata": {},
   "source": [
    "Build the NN architecture\n",
    "--------------------------"
   ]
  },
  {
   "cell_type": "code",
   "execution_count": 25,
   "metadata": {
    "collapsed": false
   },
   "outputs": [],
   "source": [
    "n_features = len(scaled_features.columns.values)-1\n",
    "n_hid = 500\n",
    "p_drop = 0.2"
   ]
  },
  {
   "cell_type": "code",
   "execution_count": 26,
   "metadata": {
    "collapsed": false
   },
   "outputs": [],
   "source": [
    "l_in = InputLayer([None, n_features],input_X,'input layer')\n",
    "\n",
    "l_0 = lasagne.layers.BatchNormLayer(l_in, name=\"l_0\")\n",
    "\n",
    "l_1 = batch_norm(DenseLayer(l_0,\n",
    "                num_units=n_hid,\n",
    "                name='dense0',\n",
    "                nonlinearity=lasagne.nonlinearities.tanh))\n",
    "\n",
    "d_1 = dropout(l_1, p=p_drop)\n",
    "\n",
    "l_2 = batch_norm(DenseLayer(d_1,\n",
    "                num_units=n_hid,\n",
    "                name='dense1',\n",
    "                nonlinearity=lasagne.nonlinearities.tanh))\n",
    "\n",
    "d_2 = dropout(l_2, p=p_drop)\n",
    "\n",
    "l_3 = batch_norm(DenseLayer(d_2,\n",
    "                num_units=n_hid,\n",
    "                name='dense2',\n",
    "                nonlinearity=lasagne.nonlinearities.tanh))\n",
    "\n",
    "nn = DenseLayer(l_3,num_units=2,\n",
    "                name='dense_out',\n",
    "                nonlinearity=lasagne.nonlinearities.softmax,)"
   ]
  },
  {
   "cell_type": "code",
   "execution_count": 27,
   "metadata": {
    "collapsed": false,
    "scrolled": true
   },
   "outputs": [
    {
     "data": {
      "text/plain": [
       "[l_0.beta,\n",
       " l_0.gamma,\n",
       " dense0.W,\n",
       " dense0_bn.beta,\n",
       " dense0_bn.gamma,\n",
       " dense1.W,\n",
       " dense1_bn.beta,\n",
       " dense1_bn.gamma,\n",
       " dense2.W,\n",
       " dense2_bn.beta,\n",
       " dense2_bn.gamma,\n",
       " dense_out.W,\n",
       " dense_out.b]"
      ]
     },
     "execution_count": 27,
     "metadata": {},
     "output_type": "execute_result"
    }
   ],
   "source": [
    "weights = lasagne.layers.get_all_params(nn,trainable=True)\n",
    "weights"
   ]
  },
  {
   "cell_type": "code",
   "execution_count": 28,
   "metadata": {
    "collapsed": true
   },
   "outputs": [],
   "source": [
    "nn_out = lasagne.layers.get_output(nn)\n",
    "loss = lasagne.objectives.categorical_crossentropy(nn_out, target_Y).mean()"
   ]
  },
  {
   "cell_type": "code",
   "execution_count": 29,
   "metadata": {
    "collapsed": true
   },
   "outputs": [],
   "source": [
    "updates =lasagne.updates.adadelta(loss,weights)\n",
    "train_fun = theano.function([input_X,target_Y],[loss,nn_out[:,1]],updates=updates)"
   ]
  },
  {
   "cell_type": "code",
   "execution_count": 30,
   "metadata": {
    "collapsed": true
   },
   "outputs": [],
   "source": [
    "det_nn_out = lasagne.layers.get_output(nn,deterministic=True)\n",
    "det_loss = lasagne.objectives.categorical_crossentropy(det_nn_out,target_Y).mean()\n",
    "val_fun = theano.function([input_X,target_Y],[det_loss,nn_out[:,1]])"
   ]
  },
  {
   "cell_type": "markdown",
   "metadata": {},
   "source": [
    "training loop\n",
    "--------------"
   ]
  },
  {
   "cell_type": "code",
   "execution_count": 31,
   "metadata": {
    "collapsed": true
   },
   "outputs": [],
   "source": [
    "def iterate_minibatches(inputs, targets, batchsize, shuffle=True):\n",
    "    assert len(inputs) == len(targets)\n",
    "    if shuffle:\n",
    "        indices = np.arange(len(inputs))\n",
    "        np.random.shuffle(indices)\n",
    "    for start_idx in range(0, len(inputs) - batchsize + 1, batchsize):\n",
    "        if shuffle:\n",
    "            excerpt = indices[start_idx:start_idx + batchsize]\n",
    "        else:\n",
    "            excerpt = slice(start_idx, start_idx + batchsize)\n",
    "        yield inputs[excerpt], targets[excerpt]"
   ]
  },
  {
   "cell_type": "code",
   "execution_count": 32,
   "metadata": {
    "collapsed": true
   },
   "outputs": [],
   "source": [
    "train_auc_curve = []\n",
    "train_acc_curve = []\n",
    "val_auc_curve = []\n",
    "val_acc_curve = []"
   ]
  },
  {
   "cell_type": "code",
   "execution_count": 33,
   "metadata": {
    "collapsed": false
   },
   "outputs": [
    {
     "ename": "KeyboardInterrupt",
     "evalue": "",
     "output_type": "error",
     "traceback": [
      "\u001b[1;31m\u001b[0m",
      "\u001b[1;31mKeyboardInterrupt\u001b[0mTraceback (most recent call last)",
      "\u001b[1;32m<ipython-input-33-1d65924456be>\u001b[0m in \u001b[0;36m<module>\u001b[1;34m()\u001b[0m\n\u001b[0;32m     13\u001b[0m     \u001b[1;32mfor\u001b[0m \u001b[0mbatch\u001b[0m \u001b[1;32min\u001b[0m \u001b[0miterate_minibatches\u001b[0m\u001b[1;33m(\u001b[0m\u001b[0mX_train\u001b[0m\u001b[1;33m,\u001b[0m \u001b[0my_train\u001b[0m\u001b[1;33m,\u001b[0m \u001b[0mbatch_size\u001b[0m\u001b[1;33m,\u001b[0m \u001b[0mshuffle\u001b[0m\u001b[1;33m=\u001b[0m\u001b[0mTrue\u001b[0m\u001b[1;33m)\u001b[0m\u001b[1;33m:\u001b[0m\u001b[1;33m\u001b[0m\u001b[0m\n\u001b[0;32m     14\u001b[0m         \u001b[0minputs\u001b[0m\u001b[1;33m,\u001b[0m \u001b[0mtargets\u001b[0m \u001b[1;33m=\u001b[0m \u001b[0mbatch\u001b[0m\u001b[1;33m\u001b[0m\u001b[0m\n\u001b[1;32m---> 15\u001b[1;33m         \u001b[0merr\u001b[0m\u001b[1;33m,\u001b[0m \u001b[0my_pred\u001b[0m \u001b[1;33m=\u001b[0m \u001b[0mtrain_fun\u001b[0m\u001b[1;33m(\u001b[0m\u001b[0minputs\u001b[0m\u001b[1;33m,\u001b[0m \u001b[0mtargets\u001b[0m\u001b[1;33m)\u001b[0m\u001b[1;33m\u001b[0m\u001b[0m\n\u001b[0m\u001b[0;32m     16\u001b[0m \u001b[1;33m\u001b[0m\u001b[0m\n\u001b[0;32m     17\u001b[0m         \u001b[0mYpred_batches\u001b[0m\u001b[1;33m.\u001b[0m\u001b[0mappend\u001b[0m\u001b[1;33m(\u001b[0m\u001b[0my_pred\u001b[0m\u001b[1;33m)\u001b[0m\u001b[1;33m\u001b[0m\u001b[0m\n",
      "\u001b[1;32m/home/adendek/.local/lib/python2.7/site-packages/theano/compile/function_module.pyc\u001b[0m in \u001b[0;36m__call__\u001b[1;34m(self, *args, **kwargs)\u001b[0m\n\u001b[0;32m    860\u001b[0m         \u001b[1;32mtry\u001b[0m\u001b[1;33m:\u001b[0m\u001b[1;33m\u001b[0m\u001b[0m\n\u001b[0;32m    861\u001b[0m             \u001b[0moutputs\u001b[0m \u001b[1;33m=\u001b[0m\u001b[0;31m\\\u001b[0m\u001b[1;33m\u001b[0m\u001b[0m\n\u001b[1;32m--> 862\u001b[1;33m                 \u001b[0mself\u001b[0m\u001b[1;33m.\u001b[0m\u001b[0mfn\u001b[0m\u001b[1;33m(\u001b[0m\u001b[1;33m)\u001b[0m \u001b[1;32mif\u001b[0m \u001b[0moutput_subset\u001b[0m \u001b[1;32mis\u001b[0m \u001b[0mNone\u001b[0m \u001b[1;32melse\u001b[0m\u001b[0;31m\\\u001b[0m\u001b[1;33m\u001b[0m\u001b[0m\n\u001b[0m\u001b[0;32m    863\u001b[0m                 \u001b[0mself\u001b[0m\u001b[1;33m.\u001b[0m\u001b[0mfn\u001b[0m\u001b[1;33m(\u001b[0m\u001b[0moutput_subset\u001b[0m\u001b[1;33m=\u001b[0m\u001b[0moutput_subset\u001b[0m\u001b[1;33m)\u001b[0m\u001b[1;33m\u001b[0m\u001b[0m\n\u001b[0;32m    864\u001b[0m         \u001b[1;32mexcept\u001b[0m \u001b[0mException\u001b[0m\u001b[1;33m:\u001b[0m\u001b[1;33m\u001b[0m\u001b[0m\n",
      "\u001b[1;31mKeyboardInterrupt\u001b[0m: "
     ]
    },
    {
     "name": "stdout",
     "output_type": "stream",
     "text": [
      "start epoch 0\n"
     ]
    }
   ],
   "source": [
    "num_epochs = 10\n",
    "batch_size = 1000\n",
    "for epoch in range(num_epochs):\n",
    "    # In each epoch, we do a full pass over the training data:\n",
    "    print (\"start epoch %d\"%epoch)\n",
    "    start_time = time.time()\n",
    "    \n",
    "    train_err = 0\n",
    "    Ypred_batches = []\n",
    "    Ytrue_batches = []\n",
    "    train_batches = 0\n",
    "    \n",
    "    for batch in iterate_minibatches(X_train, y_train, batch_size, shuffle=True):\n",
    "        inputs, targets = batch\n",
    "        err, y_pred = train_fun(inputs, targets)\n",
    "        \n",
    "        Ypred_batches.append(y_pred)\n",
    "        Ytrue_batches.append(targets)\n",
    "        \n",
    "        train_err += err\n",
    "        train_batches += 1\n",
    "    \n",
    "    Ypred_train = np.concatenate(Ypred_batches)\n",
    "    Ytrue_train = np.concatenate(Ytrue_batches)\n",
    "    train_acc = accuracy_score(Ytrue_train, Ypred_train>0.5)\n",
    "    train_auc = roc_auc_score(Ytrue_train, Ypred_train)\n",
    "    \n",
    "    train_acc_curve.append(train_acc)\n",
    "    train_auc_curve.append(train_auc)\n",
    "\n",
    "\n",
    "    # And a full pass over the validation data:\n",
    "    val_err = 0\n",
    "    Ypred_batches = []\n",
    "    Ytrue_batches = []\n",
    "    val_batches = 0\n",
    "    \n",
    "    for batch in iterate_minibatches(X_val, y_val, batch_size, shuffle=False):\n",
    "        inputs, targets = batch\n",
    "        err, y_pred = val_fun(inputs, targets)\n",
    "        Ypred_batches.append(y_pred)\n",
    "        Ytrue_batches.append(targets)\n",
    "        \n",
    "        val_err += err\n",
    "        val_batches += 1\n",
    "\n",
    "    Ypred_val = np.concatenate(Ypred_batches)\n",
    "    Ytrue_val = np.concatenate(Ytrue_batches)\n",
    "    val_acc = accuracy_score(Ytrue_val, Ypred_val>0.5)\n",
    "    val_auc = roc_auc_score(Ytrue_val, Ypred_val)\n",
    "    \n",
    "    val_acc_curve.append(val_acc)\n",
    "    val_auc_curve.append(val_auc)\n",
    "\n",
    "\n",
    "    # Then we print the results for this epoch:\n",
    "    print(\"Epoch {} of {} took {:.3f}s\".format(\n",
    "        epoch + 1, num_epochs, time.time() - start_time))\n",
    "    print(\"  training loss:\\t\\t{:.6f}\".format(train_err / train_batches))\n",
    "    print(\"  training accuracy:\\t\\t{:.2f} %\".format(\n",
    "        train_acc * 100))\n",
    "    print(\"  training AUCscore:\\t\\t{:.2f} %\".format(\n",
    "        train_auc * 100))\n",
    "    print(\"  validation loss:\\t\\t{:.6f}\".format(val_err / val_batches))\n",
    "    print(\"  validation accuracy:\\t\\t{:.2f} %\".format(\n",
    "        val_acc  * 100))\n",
    "    print(\"  validation AUCscore:\\t\\t{:.2f} %\".format(\n",
    "        val_auc * 100))"
   ]
  },
  {
   "cell_type": "code",
   "execution_count": null,
   "metadata": {
    "collapsed": true
   },
   "outputs": [],
   "source": []
  }
 ],
 "metadata": {
  "kernelspec": {
   "display_name": "Python 2",
   "language": "python",
   "name": "python2"
  },
  "language_info": {
   "codemirror_mode": {
    "name": "ipython",
    "version": 2
   },
   "file_extension": ".py",
   "mimetype": "text/x-python",
   "name": "python",
   "nbconvert_exporter": "python",
   "pygments_lexer": "ipython2",
   "version": "2.7.9"
  }
 },
 "nbformat": 4,
 "nbformat_minor": 0
}

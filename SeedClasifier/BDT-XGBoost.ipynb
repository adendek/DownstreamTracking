{
 "cells": [
  {
   "cell_type": "markdown",
   "metadata": {},
   "source": [
    "Study of the T-seed selection using BDT- XGBoost classifier\n",
    "-----------------------------\n",
    "This script contains all of my study based on **BDT - [XGBoost](https://github.com/dmlc/xgboost)**.  \n",
    "I want to compare results of sklearn's GradientBoostedClassifier and XGBoost.  \n",
    "[Rumour](https://github.com/dmlc/xgboost/blob/master/demo/README.md) has it that XGBoost is better than sklern's Gradient Boosted Classifier. We will see.  \n",
    "The study contains similar steps as Baseline-BDT. \n",
    "\n",
    "Study roadmap \n",
    "--------------\n",
    "1. Train  the first version of XGBoost with default parameters and without any features engineering. Just to know baseline score. \n",
    "2. Add basic features transformation eg. pseudorapidity and absolute values. \n",
    "3. Tune hiperparameters. As a first take care of number of trees and learning rate\n",
    "4. Try to balance training dataset. \n",
    "4. Add linear combination and features's ratios  \n",
    "   4.1 See at the learning curve. If needed perform step 3 for the new dataset.  \n",
    "5. Speedup the algorithm using idea of [bonsai Decision Trees](http://arxiv.org/pdf/1210.6861v1.pdf)  \n",
    "   I will use implementation of bBDT from [hep_ml](https://github.com/arogozhnikov/hep_ml/blob/master/hep_ml/speedup.py). \n",
    "6. Implement bBDT in C++\n",
    "\n",
    "The result to beat is 0.8131906\n",
    "-----------\n"
   ]
  },
  {
   "cell_type": "code",
   "execution_count": 30,
   "metadata": {
    "collapsed": false
   },
   "outputs": [
    {
     "name": "stdout",
     "output_type": "stream",
     "text": [
      "kernel is alive!\n"
     ]
    }
   ],
   "source": [
    "print (\"kernel is alive!\")"
   ]
  },
  {
   "cell_type": "code",
   "execution_count": 2,
   "metadata": {
    "collapsed": false
   },
   "outputs": [
    {
     "data": {
      "application/javascript": [
       "require(['codemirror/mode/clike/clike'], function(Clike) { console.log('ROOTaaS - C++ CodeMirror module loaded'); });"
      ]
     },
     "metadata": {},
     "output_type": "display_data"
    },
    {
     "data": {
      "application/javascript": [
       "IPython.CodeCell.config_defaults.highlight_modes['magic_text/x-c++src'] = {'reg':[/^%%cpp/]};"
      ]
     },
     "metadata": {},
     "output_type": "display_data"
    },
    {
     "name": "stdout",
     "output_type": "stream",
     "text": [
      "Welcome to ROOTaaS 6.06/02\n"
     ]
    }
   ],
   "source": [
    "import root_numpy\n",
    "import pandas as pd\n",
    "import numpy\n",
    "import matplotlib.pyplot as plt\n",
    "import ROOT\n",
    "%matplotlib inline\n",
    "\n",
    "import warnings # current version of seaborn generates a bunch of warnings that we'll ignore\n",
    "warnings.filterwarnings(\"ignore\")\n",
    "import seaborn as sns\n",
    "\n",
    "#sklearn imports \n",
    "from sklearn.cross_validation import train_test_split\n",
    "from sklearn.metrics import roc_auc_score\n",
    "from sklearn.pipeline import Pipeline\n",
    "from sklearn.preprocessing import StandardScaler\n",
    "from sklearn import cross_validation\n",
    "from sklearn.metrics import roc_curve, auc\n",
    "from sklearn import grid_search\n",
    "from sklearn.metrics import classification_report\n",
    "\n",
    "from sklearn.externals import joblib\n",
    "\n",
    "import xgboost as xgb\n",
    "\n",
    "from hep_ml.speedup import LookupClassifier"
   ]
  },
  {
   "cell_type": "markdown",
   "metadata": {},
   "source": [
    "As a very first step I need to grab training data form the NTpule. \n",
    "--------------------------\n",
    "To obtain this goal I will use **root_numpy**, that allows me to convert root NTuple to pandas.Dataframe"
   ]
  },
  {
   "cell_type": "code",
   "execution_count": 3,
   "metadata": {
    "collapsed": false
   },
   "outputs": [
    {
     "data": {
      "text/html": [
       "<div style=\"max-height:1000px;max-width:1500px;overflow:auto;\">\n",
       "<table border=\"1\" class=\"dataframe\">\n",
       "  <thead>\n",
       "    <tr style=\"text-align: right;\">\n",
       "      <th></th>\n",
       "      <th>is_true_seed</th>\n",
       "      <th>seed_chi2PerDoF</th>\n",
       "      <th>seed_p</th>\n",
       "      <th>seed_pt</th>\n",
       "      <th>seed_nLHCbIDs</th>\n",
       "      <th>seed_nbIT</th>\n",
       "      <th>seed_nLayers</th>\n",
       "      <th>seed_x</th>\n",
       "      <th>seed_y</th>\n",
       "      <th>seed_tx</th>\n",
       "      <th>seed_ty</th>\n",
       "    </tr>\n",
       "  </thead>\n",
       "  <tbody>\n",
       "    <tr>\n",
       "      <th>0</th>\n",
       "      <td>False</td>\n",
       "      <td>1.213708</td>\n",
       "      <td>2543.471925</td>\n",
       "      <td>1187.267858</td>\n",
       "      <td>25</td>\n",
       "      <td>0</td>\n",
       "      <td>12</td>\n",
       "      <td>-1263.157617</td>\n",
       "      <td>-517.249191</td>\n",
       "      <td>-0.524220</td>\n",
       "      <td>-0.061572</td>\n",
       "    </tr>\n",
       "    <tr>\n",
       "      <th>1</th>\n",
       "      <td>False</td>\n",
       "      <td>1.346112</td>\n",
       "      <td>2781.485771</td>\n",
       "      <td>1204.396954</td>\n",
       "      <td>25</td>\n",
       "      <td>0</td>\n",
       "      <td>12</td>\n",
       "      <td>1264.522435</td>\n",
       "      <td>-99.363473</td>\n",
       "      <td>0.480288</td>\n",
       "      <td>-0.009081</td>\n",
       "    </tr>\n",
       "    <tr>\n",
       "      <th>2</th>\n",
       "      <td>False</td>\n",
       "      <td>1.627632</td>\n",
       "      <td>4769.446536</td>\n",
       "      <td>1708.511389</td>\n",
       "      <td>25</td>\n",
       "      <td>0</td>\n",
       "      <td>12</td>\n",
       "      <td>-1521.093160</td>\n",
       "      <td>-196.064807</td>\n",
       "      <td>-0.382802</td>\n",
       "      <td>-0.025975</td>\n",
       "    </tr>\n",
       "    <tr>\n",
       "      <th>3</th>\n",
       "      <td>False</td>\n",
       "      <td>1.789231</td>\n",
       "      <td>5202.918132</td>\n",
       "      <td>1823.936187</td>\n",
       "      <td>25</td>\n",
       "      <td>0</td>\n",
       "      <td>12</td>\n",
       "      <td>-1563.145597</td>\n",
       "      <td>-483.850246</td>\n",
       "      <td>-0.369674</td>\n",
       "      <td>-0.058753</td>\n",
       "    </tr>\n",
       "    <tr>\n",
       "      <th>4</th>\n",
       "      <td>True</td>\n",
       "      <td>1.269238</td>\n",
       "      <td>2300.960611</td>\n",
       "      <td>1252.585447</td>\n",
       "      <td>24</td>\n",
       "      <td>0</td>\n",
       "      <td>12</td>\n",
       "      <td>-1641.727752</td>\n",
       "      <td>-411.084316</td>\n",
       "      <td>-0.646627</td>\n",
       "      <td>-0.054980</td>\n",
       "    </tr>\n",
       "  </tbody>\n",
       "</table>\n",
       "</div>"
      ],
      "text/plain": [
       "  is_true_seed  seed_chi2PerDoF       seed_p      seed_pt  seed_nLHCbIDs  \\\n",
       "0        False         1.213708  2543.471925  1187.267858             25   \n",
       "1        False         1.346112  2781.485771  1204.396954             25   \n",
       "2        False         1.627632  4769.446536  1708.511389             25   \n",
       "3        False         1.789231  5202.918132  1823.936187             25   \n",
       "4         True         1.269238  2300.960611  1252.585447             24   \n",
       "\n",
       "   seed_nbIT  seed_nLayers       seed_x      seed_y   seed_tx   seed_ty  \n",
       "0          0            12 -1263.157617 -517.249191 -0.524220 -0.061572  \n",
       "1          0            12  1264.522435  -99.363473  0.480288 -0.009081  \n",
       "2          0            12 -1521.093160 -196.064807 -0.382802 -0.025975  \n",
       "3          0            12 -1563.145597 -483.850246 -0.369674 -0.058753  \n",
       "4          0            12 -1641.727752 -411.084316 -0.646627 -0.054980  "
      ]
     },
     "execution_count": 3,
     "metadata": {},
     "output_type": "execute_result"
    }
   ],
   "source": [
    "root_file = ROOT.TFile(\"datasets/Brunel_test_30kev.root\")\n",
    "root_file.cd(\"ToolSvc.PatDebugTTTruthTool\")\n",
    "tree = ROOT.gDirectory.Get(\"DownstreamSeedDebugTuple\")\n",
    "data = pd.DataFrame(root_numpy.tree2array(tree))\n",
    "\n",
    "target = data.is_true_seed\n",
    "features = data.drop(\"is_true_seed\", axis=1).astype(numpy.float64)\n",
    "data.head()"
   ]
  },
  {
   "cell_type": "markdown",
   "metadata": {},
   "source": [
    "Train xgboost classifier with default parameters\n",
    "-------------\n",
    "At first I need to split data into training and test subsets. "
   ]
  },
  {
   "cell_type": "code",
   "execution_count": 5,
   "metadata": {
    "collapsed": false
   },
   "outputs": [],
   "source": [
    "trainX, testX, trainY, testY = train_test_split(features, target, random_state=42,train_size=0.5 )"
   ]
  },
  {
   "cell_type": "code",
   "execution_count": null,
   "metadata": {
    "collapsed": false
   },
   "outputs": [],
   "source": [
    "gb = xgb.XGBClassifier(max_depth=6, learning_rate=0.1,n_estimators = 100)\n",
    "gb.fit(trainX,trainY)"
   ]
  },
  {
   "cell_type": "code",
   "execution_count": 9,
   "metadata": {
    "collapsed": false
   },
   "outputs": [
    {
     "name": "stdout",
     "output_type": "stream",
     "text": [
      "ROC AUC score\n"
     ]
    },
    {
     "data": {
      "text/plain": [
       "0.79019802348145729"
      ]
     },
     "execution_count": 9,
     "metadata": {},
     "output_type": "execute_result"
    }
   ],
   "source": [
    "print \"ROC AUC score\"\n",
    "roc_auc_score(testY, gb.predict_proba(testX)[:, 1])"
   ]
  },
  {
   "cell_type": "code",
   "execution_count": 10,
   "metadata": {
    "collapsed": false
   },
   "outputs": [
    {
     "data": {
      "image/png": "[encoded data removed]",
      "text/plain": [
       "<matplotlib.figure.Figure at 0x7f4c47a90590>"
      ]
     },
     "metadata": {},
     "output_type": "display_data"
    }
   ],
   "source": [
    "plt.figure(figsize=[6, 6])\n",
    "fpr, tpr, thresholds = roc_curve(testY, gb.predict_proba(testX)[:, 1])\n",
    "roc_auc = auc(fpr, tpr)\n",
    "plt.plot(fpr, tpr, lw=1, label='ROC BDT (area = %0.2f)'%(roc_auc))\n",
    "plt.plot([0, 1], [0, 1], '--', color=(0.6, 0.6, 0.6), label='no discrimination')\n",
    "plt.xlim([-0.05, 1.05])\n",
    "plt.ylim([-0.05, 1.05])\n",
    "plt.xlabel('False Positive Rate')\n",
    "plt.ylabel('True Positive Rate')\n",
    "plt.title('Receiver operating characteristic')\n",
    "plt.legend(loc=\"lower right\")\n",
    "plt.grid()\n",
    "plt.show()"
   ]
  },
  {
   "cell_type": "markdown",
   "metadata": {},
   "source": [
    "Feature Engenering\n",
    "======================\n",
    "Add transformated features\n",
    "-------------------\n",
    "At the begining let's try some very basic feature transformation.  \n",
    "I also add pseudorapidity and seed_r"
   ]
  },
  {
   "cell_type": "code",
   "execution_count": 4,
   "metadata": {
    "collapsed": false
   },
   "outputs": [],
   "source": [
    "def basic_transforamtion(data):\n",
    "    #abs transformation\n",
    "    out = data\n",
    "    out[\"abs_seed_x\"]=numpy.abs(data['seed_x'])\n",
    "    out[\"abs_seed_y\"]=numpy.abs(data['seed_y'])\n",
    "    out[\"abs_seed_tx\"]=numpy.abs(data['seed_tx'])\n",
    "    out[\"abs_seed_ty\"]=numpy.abs(data['seed_ty'])\n",
    "    out['seed_r'] = numpy.sqrt(numpy.square(data.seed_x) +numpy.square(data.seed_y))    \n",
    "    out['pseudo_rapidity'] = numpy.arctanh(data.seed_pt/data.seed_p)\n",
    "    return out"
   ]
  },
  {
   "cell_type": "code",
   "execution_count": 5,
   "metadata": {
    "collapsed": false
   },
   "outputs": [
    {
     "data": {
      "text/html": [
       "<div style=\"max-height:1000px;max-width:1500px;overflow:auto;\">\n",
       "<table border=\"1\" class=\"dataframe\">\n",
       "  <thead>\n",
       "    <tr style=\"text-align: right;\">\n",
       "      <th></th>\n",
       "      <th>seed_chi2PerDoF</th>\n",
       "      <th>seed_p</th>\n",
       "      <th>seed_pt</th>\n",
       "      <th>seed_nLHCbIDs</th>\n",
       "      <th>seed_nbIT</th>\n",
       "      <th>seed_nLayers</th>\n",
       "      <th>seed_x</th>\n",
       "      <th>seed_y</th>\n",
       "      <th>seed_tx</th>\n",
       "      <th>seed_ty</th>\n",
       "      <th>abs_seed_x</th>\n",
       "      <th>abs_seed_y</th>\n",
       "      <th>abs_seed_tx</th>\n",
       "      <th>abs_seed_ty</th>\n",
       "      <th>seed_r</th>\n",
       "      <th>pseudo_rapidity</th>\n",
       "    </tr>\n",
       "  </thead>\n",
       "  <tbody>\n",
       "    <tr>\n",
       "      <th>0</th>\n",
       "      <td>1.213708</td>\n",
       "      <td>2543.471925</td>\n",
       "      <td>1187.267858</td>\n",
       "      <td>25</td>\n",
       "      <td>0</td>\n",
       "      <td>12</td>\n",
       "      <td>-1263.157617</td>\n",
       "      <td>-517.249191</td>\n",
       "      <td>-0.524220</td>\n",
       "      <td>-0.061572</td>\n",
       "      <td>1263.157617</td>\n",
       "      <td>517.249191</td>\n",
       "      <td>0.524220</td>\n",
       "      <td>0.061572</td>\n",
       "      <td>1364.959300</td>\n",
       "      <td>0.505958</td>\n",
       "    </tr>\n",
       "    <tr>\n",
       "      <th>1</th>\n",
       "      <td>1.346112</td>\n",
       "      <td>2781.485771</td>\n",
       "      <td>1204.396954</td>\n",
       "      <td>25</td>\n",
       "      <td>0</td>\n",
       "      <td>12</td>\n",
       "      <td>1264.522435</td>\n",
       "      <td>-99.363473</td>\n",
       "      <td>0.480288</td>\n",
       "      <td>-0.009081</td>\n",
       "      <td>1264.522435</td>\n",
       "      <td>99.363473</td>\n",
       "      <td>0.480288</td>\n",
       "      <td>0.009081</td>\n",
       "      <td>1268.420312</td>\n",
       "      <td>0.463589</td>\n",
       "    </tr>\n",
       "    <tr>\n",
       "      <th>2</th>\n",
       "      <td>1.627632</td>\n",
       "      <td>4769.446536</td>\n",
       "      <td>1708.511389</td>\n",
       "      <td>25</td>\n",
       "      <td>0</td>\n",
       "      <td>12</td>\n",
       "      <td>-1521.093160</td>\n",
       "      <td>-196.064807</td>\n",
       "      <td>-0.382802</td>\n",
       "      <td>-0.025975</td>\n",
       "      <td>1521.093160</td>\n",
       "      <td>196.064807</td>\n",
       "      <td>0.382802</td>\n",
       "      <td>0.025975</td>\n",
       "      <td>1533.677219</td>\n",
       "      <td>0.374842</td>\n",
       "    </tr>\n",
       "    <tr>\n",
       "      <th>3</th>\n",
       "      <td>1.789231</td>\n",
       "      <td>5202.918132</td>\n",
       "      <td>1823.936187</td>\n",
       "      <td>25</td>\n",
       "      <td>0</td>\n",
       "      <td>12</td>\n",
       "      <td>-1563.145597</td>\n",
       "      <td>-483.850246</td>\n",
       "      <td>-0.369674</td>\n",
       "      <td>-0.058753</td>\n",
       "      <td>1563.145597</td>\n",
       "      <td>483.850246</td>\n",
       "      <td>0.369674</td>\n",
       "      <td>0.058753</td>\n",
       "      <td>1636.317578</td>\n",
       "      <td>0.366082</td>\n",
       "    </tr>\n",
       "    <tr>\n",
       "      <th>4</th>\n",
       "      <td>1.269238</td>\n",
       "      <td>2300.960611</td>\n",
       "      <td>1252.585447</td>\n",
       "      <td>24</td>\n",
       "      <td>0</td>\n",
       "      <td>12</td>\n",
       "      <td>-1641.727752</td>\n",
       "      <td>-411.084316</td>\n",
       "      <td>-0.646627</td>\n",
       "      <td>-0.054980</td>\n",
       "      <td>1641.727752</td>\n",
       "      <td>411.084316</td>\n",
       "      <td>0.646627</td>\n",
       "      <td>0.054980</td>\n",
       "      <td>1692.412576</td>\n",
       "      <td>0.610352</td>\n",
       "    </tr>\n",
       "  </tbody>\n",
       "</table>\n",
       "</div>"
      ],
      "text/plain": [
       "   seed_chi2PerDoF       seed_p      seed_pt  seed_nLHCbIDs  seed_nbIT  \\\n",
       "0         1.213708  2543.471925  1187.267858             25          0   \n",
       "1         1.346112  2781.485771  1204.396954             25          0   \n",
       "2         1.627632  4769.446536  1708.511389             25          0   \n",
       "3         1.789231  5202.918132  1823.936187             25          0   \n",
       "4         1.269238  2300.960611  1252.585447             24          0   \n",
       "\n",
       "   seed_nLayers       seed_x      seed_y   seed_tx   seed_ty   abs_seed_x  \\\n",
       "0            12 -1263.157617 -517.249191 -0.524220 -0.061572  1263.157617   \n",
       "1            12  1264.522435  -99.363473  0.480288 -0.009081  1264.522435   \n",
       "2            12 -1521.093160 -196.064807 -0.382802 -0.025975  1521.093160   \n",
       "3            12 -1563.145597 -483.850246 -0.369674 -0.058753  1563.145597   \n",
       "4            12 -1641.727752 -411.084316 -0.646627 -0.054980  1641.727752   \n",
       "\n",
       "   abs_seed_y  abs_seed_tx  abs_seed_ty       seed_r  pseudo_rapidity  \n",
       "0  517.249191     0.524220     0.061572  1364.959300         0.505958  \n",
       "1   99.363473     0.480288     0.009081  1268.420312         0.463589  \n",
       "2  196.064807     0.382802     0.025975  1533.677219         0.374842  \n",
       "3  483.850246     0.369674     0.058753  1636.317578         0.366082  \n",
       "4  411.084316     0.646627     0.054980  1692.412576         0.610352  "
      ]
     },
     "execution_count": 5,
     "metadata": {},
     "output_type": "execute_result"
    }
   ],
   "source": [
    "new_data = basic_transforamtion(data)\n",
    "new_features = new_data.drop(\"is_true_seed\", axis=1).astype(numpy.float64)\n",
    "new_features.head()"
   ]
  },
  {
   "cell_type": "code",
   "execution_count": 15,
   "metadata": {
    "collapsed": true
   },
   "outputs": [],
   "source": [
    "new_trainX, new_testX, new_trainY, new_testY = train_test_split(new_features, target, random_state=42,train_size=0.5 )"
   ]
  },
  {
   "cell_type": "code",
   "execution_count": 19,
   "metadata": {
    "collapsed": false
   },
   "outputs": [
    {
     "data": {
      "text/plain": [
       "XGBClassifier(base_score=0.5, colsample_bylevel=1, colsample_bytree=1,\n",
       "       gamma=0, learning_rate=0.1, max_delta_step=0, max_depth=6,\n",
       "       min_child_weight=1, missing=None, n_estimators=100, nthread=-1,\n",
       "       objective='binary:logistic', reg_alpha=0, reg_lambda=1,\n",
       "       scale_pos_weight=1, seed=0, silent=True, subsample=0.8)"
      ]
     },
     "execution_count": 19,
     "metadata": {},
     "output_type": "execute_result"
    }
   ],
   "source": [
    "gb2 = xgb.XGBClassifier(learning_rate=0.1, n_estimators=100, subsample=0.8, max_depth=6)\n",
    "gb2.fit(new_trainX,new_trainY)"
   ]
  },
  {
   "cell_type": "code",
   "execution_count": 20,
   "metadata": {
    "collapsed": false
   },
   "outputs": [
    {
     "data": {
      "text/plain": [
       "0.80090517263682215"
      ]
     },
     "execution_count": 20,
     "metadata": {},
     "output_type": "execute_result"
    }
   ],
   "source": [
    "roc_auc_score(new_testY, gb2.predict_proba(new_testX)[:, 1])"
   ]
  },
  {
   "cell_type": "code",
   "execution_count": 21,
   "metadata": {
    "collapsed": false
   },
   "outputs": [
    {
     "data": {
      "image/png": "[encoded data removed]",
      "text/plain": [
       "<matplotlib.figure.Figure at 0x7f4c883fb2d0>"
      ]
     },
     "metadata": {},
     "output_type": "display_data"
    }
   ],
   "source": [
    "plt.figure(figsize=[6, 6])\n",
    "fpr, tpr, thresholds = roc_curve(new_testY, gb2.predict_proba(new_testX)[:, 1])\n",
    "roc_auc = auc(fpr, tpr)\n",
    "plt.plot(fpr, tpr, lw=1, label='ROC BDT (area = %0.2f)'%(roc_auc))\n",
    "plt.plot([0, 1], [0, 1], '--', color=(0.6, 0.6, 0.6), label='no discrimination')\n",
    "plt.xlim([-0.05, 1.05])\n",
    "plt.ylim([-0.05, 1.05])\n",
    "plt.xlabel('False Positive Rate')\n",
    "plt.ylabel('True Positive Rate')\n",
    "plt.title('Receiver operating characteristic')\n",
    "plt.legend(loc=\"lower right\")\n",
    "plt.grid()\n",
    "plt.show()"
   ]
  },
  {
   "cell_type": "markdown",
   "metadata": {},
   "source": [
    "Hyperparameters optimalization\n",
    "----------------\n",
    "Let's try to improve above classifier by serching for the best hyperparameters values. \n",
    "In the first iteration I want to find the best values of following hyperparameters:\n",
    "* Number of trees. The cosidered range of n_estimators is between 50 and 250, step = 50\n",
    "* learning rate in range 0.01-3 with semilogaritmic step\n",
    "\n",
    "I use only 10% of data for grid search. Should be enough."
   ]
  },
  {
   "cell_type": "code",
   "execution_count": null,
   "metadata": {
    "collapsed": false
   },
   "outputs": [],
   "source": [
    "train_gs_X, test_gs_X, train_gs_Y, test_gs_Y = train_test_split(new_features, target, random_state=42,train_size=0.1 )\n",
    "gb_grid_params = {\"n_estimators\": [x  for x in range(49,251) if x % 50 == 0],\n",
    "                   \"learning_rate\": [0.01, 0.03,0.1,0.3,1]}\n",
    "print(gb_grid_params)\n",
    "\n",
    "gb_gs = xgb.XGBClassifier()\n",
    "\n",
    "clf = grid_search.GridSearchCV(gb_gs,                               \n",
    "                               gb_grid_params,\n",
    "                               cv=3,\n",
    "                               scoring='roc_auc',\n",
    "                               verbose = 3, \n",
    "                               n_jobs=8);\n",
    "clf.fit(train_gs_X, train_gs_Y);\n"
   ]
  },
  {
   "cell_type": "code",
   "execution_count": 8,
   "metadata": {
    "collapsed": false,
    "scrolled": true
   },
   "outputs": [
    {
     "name": "stdout",
     "output_type": "stream",
     "text": [
      "Best parameters set found on development set:\n",
      "{'n_estimators': 250, 'learning_rate': 0.3}\n",
      "Grid scores on development set:\n",
      "0.740 (+/-0.002) for {'n_estimators': 50, 'learning_rate': 0.01}\n",
      "0.743 (+/-0.003) for {'n_estimators': 100, 'learning_rate': 0.01}\n",
      "0.746 (+/-0.002) for {'n_estimators': 150, 'learning_rate': 0.01}\n",
      "0.750 (+/-0.003) for {'n_estimators': 200, 'learning_rate': 0.01}\n",
      "0.753 (+/-0.004) for {'n_estimators': 250, 'learning_rate': 0.01}\n",
      "0.746 (+/-0.002) for {'n_estimators': 50, 'learning_rate': 0.03}\n",
      "0.757 (+/-0.004) for {'n_estimators': 100, 'learning_rate': 0.03}\n",
      "0.767 (+/-0.005) for {'n_estimators': 150, 'learning_rate': 0.03}\n",
      "0.773 (+/-0.004) for {'n_estimators': 200, 'learning_rate': 0.03}\n",
      "0.775 (+/-0.004) for {'n_estimators': 250, 'learning_rate': 0.03}\n",
      "0.770 (+/-0.004) for {'n_estimators': 50, 'learning_rate': 0.1}\n",
      "0.779 (+/-0.004) for {'n_estimators': 100, 'learning_rate': 0.1}\n",
      "0.782 (+/-0.005) for {'n_estimators': 150, 'learning_rate': 0.1}\n",
      "0.784 (+/-0.005) for {'n_estimators': 200, 'learning_rate': 0.1}\n",
      "0.785 (+/-0.005) for {'n_estimators': 250, 'learning_rate': 0.1}\n",
      "0.780 (+/-0.005) for {'n_estimators': 50, 'learning_rate': 0.3}\n",
      "0.786 (+/-0.005) for {'n_estimators': 100, 'learning_rate': 0.3}\n",
      "0.789 (+/-0.007) for {'n_estimators': 150, 'learning_rate': 0.3}\n",
      "0.791 (+/-0.006) for {'n_estimators': 200, 'learning_rate': 0.3}\n",
      "0.793 (+/-0.007) for {'n_estimators': 250, 'learning_rate': 0.3}\n",
      "0.781 (+/-0.002) for {'n_estimators': 50, 'learning_rate': 1}\n",
      "0.781 (+/-0.005) for {'n_estimators': 100, 'learning_rate': 1}\n",
      "0.781 (+/-0.003) for {'n_estimators': 150, 'learning_rate': 1}\n",
      "0.779 (+/-0.004) for {'n_estimators': 200, 'learning_rate': 1}\n",
      "0.777 (+/-0.004) for {'n_estimators': 250, 'learning_rate': 1}\n"
     ]
    }
   ],
   "source": [
    "print(\"Best parameters set found on development set:\")\n",
    "print(clf.best_params_)\n",
    "print(\"Grid scores on development set:\")\n",
    "for params, mean_score, scores in clf.grid_scores_:\n",
    "    print(\"%0.3f (+/-%0.03f) for %r\"\n",
    "        % (mean_score, scores.std() * 2, params))"
   ]
  },
  {
   "cell_type": "code",
   "execution_count": 9,
   "metadata": {
    "collapsed": false,
    "scrolled": true
   },
   "outputs": [
    {
     "data": {
      "text/plain": [
       "XGBClassifier(base_score=0.5, colsample_bylevel=1, colsample_bytree=1,\n",
       "       gamma=0, learning_rate=0.3, max_delta_step=0, max_depth=6,\n",
       "       min_child_weight=1, missing=None, n_estimators=250, nthread=-1,\n",
       "       objective='binary:logistic', reg_alpha=0, reg_lambda=1,\n",
       "       scale_pos_weight=1, seed=0, silent=True, subsample=1)"
      ]
     },
     "execution_count": 9,
     "metadata": {},
     "output_type": "execute_result"
    }
   ],
   "source": [
    "new_trainX, new_testX, new_trainY, new_testY = train_test_split(new_features, target, random_state=42,train_size=0.5 )\n",
    "gb2 = xgb.XGBClassifier(learning_rate=0.3, n_estimators=250, max_depth=6)\n",
    "gb2.fit(new_trainX,new_trainY)"
   ]
  },
  {
   "cell_type": "code",
   "execution_count": 10,
   "metadata": {
    "collapsed": false
   },
   "outputs": [
    {
     "name": "stdout",
     "output_type": "stream",
     "text": [
      "ROC AUC score - model XGBoost with learning rate 0.3 and number of trees 250\n"
     ]
    },
    {
     "data": {
      "text/plain": [
       "0.81758089824153213"
      ]
     },
     "execution_count": 10,
     "metadata": {},
     "output_type": "execute_result"
    }
   ],
   "source": [
    "print \"ROC AUC score - model XGBoost with learning rate 0.3 and number of trees 250\"\n",
    "roc_auc_score(new_testY, gb2.predict_proba(new_testX)[:, 1])"
   ]
  },
  {
   "cell_type": "code",
   "execution_count": 11,
   "metadata": {
    "collapsed": false
   },
   "outputs": [
    {
     "data": {
      "image/png": "[encoded data removed]",
      "text/plain": [
       "<matplotlib.figure.Figure at 0x7f6ed7f3e450>"
      ]
     },
     "metadata": {},
     "output_type": "display_data"
    }
   ],
   "source": [
    "plt.figure(figsize=[6, 6])\n",
    "fpr, tpr, thresholds = roc_curve(new_testY, gb2.predict_proba(new_testX)[:, 1])\n",
    "roc_auc = auc(fpr, tpr)\n",
    "plt.plot(fpr, tpr, lw=1, label='ROC BDT (area = %0.2f)'%(roc_auc))\n",
    "plt.plot([0, 1], [0, 1], '--', color=(0.6, 0.6, 0.6), label='no discrimination')\n",
    "plt.xlim([-0.05, 1.05])\n",
    "plt.ylim([-0.05, 1.05])\n",
    "plt.xlabel('False Positive Rate')\n",
    "plt.ylabel('True Positive Rate')\n",
    "plt.title('Receiver operating characteristic')\n",
    "plt.legend(loc=\"lower right\")\n",
    "plt.grid()\n",
    "plt.show()"
   ]
  },
  {
   "cell_type": "markdown",
   "metadata": {},
   "source": [
    "Show dependency of BDT quality on the number of trees. \n",
    "----------\n",
    "I plot the learning curve, number of trees vs score, of the BDT classifier.  \n",
    "This plot allows me to decide weather or not decrease the number of trees. \n",
    "\n",
    "To obtain this values I use staged_predict_proba"
   ]
  },
  {
   "cell_type": "code",
   "execution_count": null,
   "metadata": {
    "collapsed": false,
    "scrolled": true
   },
   "outputs": [],
   "source": [
    "tree_scores = [] \n",
    "for tree_nb in range(1,249):\n",
    "    proba = gb2.predict_proba(new_testX,ntree_limit=tree_nb)\n",
    "    predicted = proba[:, 1]\n",
    "    score =  roc_auc_score(new_testY, predicted)\n",
    "    tree_scores.append(score)"
   ]
  },
  {
   "cell_type": "code",
   "execution_count": 17,
   "metadata": {
    "collapsed": false,
    "scrolled": true
   },
   "outputs": [
    {
     "data": {
      "image/png": "[encoded data removed]",
      "text/plain": [
       "<matplotlib.figure.Figure at 0x7f6ed5cdfc50>"
      ]
     },
     "metadata": {},
     "output_type": "display_data"
    }
   ],
   "source": [
    "x = numpy.array([x  for x in range(1,249)])\n",
    "plt.figure()\n",
    "plt.plot(x,tree_scores)\n",
    "plt.ylim(0.75, 0.82)\n",
    "plt.xlabel('no of trees')\n",
    "plt.ylabel('score ROC_AUC')\n",
    "plt.show()"
   ]
  },
  {
   "cell_type": "markdown",
   "metadata": {},
   "source": [
    "Save model to file \n",
    "-------\n",
    "It is a good idea to save BDT parameters to file for further study.  \n",
    "I use **sklearn.externals.joblib**. According to the documentation is more effitient than pickle. "
   ]
  },
  {
   "cell_type": "code",
   "execution_count": 19,
   "metadata": {
    "collapsed": false
   },
   "outputs": [
    {
     "data": {
      "text/plain": [
       "['models/XGBoost_200tree.pkl',\n",
       " 'models/XGBoost_200tree.pkl_01.npy',\n",
       " 'models/XGBoost_200tree.pkl_02.npy']"
      ]
     },
     "execution_count": 19,
     "metadata": {},
     "output_type": "execute_result"
    }
   ],
   "source": [
    "joblib.dump(gb2, 'models/XGBoost_200tree.pkl') "
   ]
  },
  {
   "cell_type": "markdown",
   "metadata": {},
   "source": [
    "Extend grid search  range of n_estimators to 600. \n",
    "-----------------\n",
    "This time I want to increase hyperparameter search space. "
   ]
  },
  {
   "cell_type": "code",
   "execution_count": null,
   "metadata": {
    "collapsed": false,
    "scrolled": false
   },
   "outputs": [],
   "source": [
    "train_gs_X, test_gs_X, train_gs_Y, test_gs_Y = train_test_split(new_features, target, random_state=42,train_size=0.1 )\n",
    "gb_grid_params = {\"n_estimators\": [x  for x in range(299,601) if x % 50 == 0],\n",
    "                   \"learning_rate\": [0.1,0.3,0.7,1]}\n",
    "print(gb_grid_params)\n",
    "\n",
    "gb_gs = xgb.XGBClassifier()\n",
    "\n",
    "clf = grid_search.GridSearchCV(gb_gs,\n",
    "                               gb_grid_params,\n",
    "                               cv=3,\n",
    "                               scoring='roc_auc',\n",
    "                               verbose = 3, \n",
    "                               n_jobs=8);\n",
    "clf.fit(train_gs_X, train_gs_Y);"
   ]
  },
  {
   "cell_type": "code",
   "execution_count": 8,
   "metadata": {
    "collapsed": false
   },
   "outputs": [
    {
     "name": "stdout",
     "output_type": "stream",
     "text": [
      "Best parameters set found on development set:\n",
      "{'n_estimators': 450, 'learning_rate': 0.3}\n",
      "Grid scores on development set:\n",
      "0.787 (+/-0.005) for {'n_estimators': 300, 'learning_rate': 0.1}\n",
      "0.788 (+/-0.005) for {'n_estimators': 350, 'learning_rate': 0.1}\n",
      "0.789 (+/-0.006) for {'n_estimators': 400, 'learning_rate': 0.1}\n",
      "0.790 (+/-0.006) for {'n_estimators': 450, 'learning_rate': 0.1}\n",
      "0.791 (+/-0.006) for {'n_estimators': 500, 'learning_rate': 0.1}\n",
      "0.791 (+/-0.006) for {'n_estimators': 550, 'learning_rate': 0.1}\n",
      "0.792 (+/-0.007) for {'n_estimators': 600, 'learning_rate': 0.1}\n",
      "0.793 (+/-0.007) for {'n_estimators': 300, 'learning_rate': 0.3}\n",
      "0.794 (+/-0.008) for {'n_estimators': 350, 'learning_rate': 0.3}\n",
      "0.795 (+/-0.007) for {'n_estimators': 400, 'learning_rate': 0.3}\n",
      "0.795 (+/-0.006) for {'n_estimators': 450, 'learning_rate': 0.3}\n",
      "0.795 (+/-0.005) for {'n_estimators': 500, 'learning_rate': 0.3}\n",
      "0.794 (+/-0.005) for {'n_estimators': 550, 'learning_rate': 0.3}\n",
      "0.794 (+/-0.006) for {'n_estimators': 600, 'learning_rate': 0.3}\n",
      "0.783 (+/-0.006) for {'n_estimators': 300, 'learning_rate': 0.7}\n",
      "0.782 (+/-0.006) for {'n_estimators': 350, 'learning_rate': 0.7}\n",
      "0.781 (+/-0.006) for {'n_estimators': 400, 'learning_rate': 0.7}\n",
      "0.780 (+/-0.006) for {'n_estimators': 450, 'learning_rate': 0.7}\n",
      "0.779 (+/-0.006) for {'n_estimators': 500, 'learning_rate': 0.7}\n",
      "0.778 (+/-0.006) for {'n_estimators': 550, 'learning_rate': 0.7}\n",
      "0.777 (+/-0.006) for {'n_estimators': 600, 'learning_rate': 0.7}\n",
      "0.774 (+/-0.002) for {'n_estimators': 300, 'learning_rate': 1}\n",
      "0.773 (+/-0.001) for {'n_estimators': 350, 'learning_rate': 1}\n",
      "0.770 (+/-0.001) for {'n_estimators': 400, 'learning_rate': 1}\n",
      "0.768 (+/-0.003) for {'n_estimators': 450, 'learning_rate': 1}\n",
      "0.766 (+/-0.004) for {'n_estimators': 500, 'learning_rate': 1}\n",
      "0.765 (+/-0.002) for {'n_estimators': 550, 'learning_rate': 1}\n",
      "0.764 (+/-0.003) for {'n_estimators': 600, 'learning_rate': 1}\n"
     ]
    }
   ],
   "source": [
    "print(\"Best parameters set found on development set:\")\n",
    "print(clf.best_params_)\n",
    "print(\"Grid scores on development set:\")\n",
    "for params, mean_score, scores in clf.grid_scores_:\n",
    "    print(\"%0.3f (+/-%0.03f) for %r\"\n",
    "        % (mean_score, scores.std() * 2, params))"
   ]
  },
  {
   "cell_type": "markdown",
   "metadata": {},
   "source": [
    "Train the new model\n",
    "----------\n",
    "* n_estimators 400\n",
    "* learning rate 0.3"
   ]
  },
  {
   "cell_type": "code",
   "execution_count": 13,
   "metadata": {
    "collapsed": false
   },
   "outputs": [
    {
     "data": {
      "text/plain": [
       "['models/XGBoost_400trees.pkl',\n",
       " 'models/XGBoost_400trees.pkl_01.npy',\n",
       " 'models/XGBoost_400trees.pkl_02.npy']"
      ]
     },
     "execution_count": 13,
     "metadata": {},
     "output_type": "execute_result"
    }
   ],
   "source": [
    "train_X, test_X, train_Y, test_Y = train_test_split(new_features, target, random_state=42,train_size=0.5 )\n",
    "\n",
    "gb3 = xgb.XGBClassifier( n_estimators=400, learning_rate=0.2, max_depth=6)\n",
    "gb4.fit(train_X,train_y2)\n",
    "joblib.dump(gb4, 'models/XGBoost_400_balanced.pkl') "
   ]
  },
  {
   "cell_type": "code",
   "execution_count": 7,
   "metadata": {
    "collapsed": false
   },
   "outputs": [],
   "source": [
    "gb3 = joblib.load('models/XGBoost_400trees.pkl')\n",
    "train_X, test_X, train_Y, test_Y = train_test_split(new_features, target, random_state=42,train_size=0.5 )              "
   ]
  },
  {
   "cell_type": "code",
   "execution_count": 14,
   "metadata": {
    "collapsed": false
   },
   "outputs": [
    {
     "name": "stdout",
     "output_type": "stream",
     "text": [
      "ROC AUC score\n"
     ]
    },
    {
     "data": {
      "text/plain": [
       "0.81908188341647703"
      ]
     },
     "execution_count": 14,
     "metadata": {},
     "output_type": "execute_result"
    }
   ],
   "source": [
    "print \"ROC AUC score\"\n",
    "roc_auc_score(test_Y, gb3.predict_proba(test_X)[:, 1])"
   ]
  },
  {
   "cell_type": "code",
   "execution_count": 15,
   "metadata": {
    "collapsed": false,
    "scrolled": true
   },
   "outputs": [
    {
     "data": {
      "image/png": "[encoded data removed]",
      "text/plain": [
       "<matplotlib.figure.Figure at 0x7faf63f40510>"
      ]
     },
     "metadata": {},
     "output_type": "display_data"
    }
   ],
   "source": [
    "plt.figure(figsize=[6, 6])\n",
    "fpr, tpr, thresholds = roc_curve(test_Y, gb3.predict_proba(test_X)[:, 1])\n",
    "roc_auc = auc(fpr, tpr)\n",
    "plt.plot(fpr, tpr, lw=1, label='ROC BDT (area = %0.2f)'%(roc_auc))\n",
    "plt.plot([0, 1], [0, 1], '--', color=(0.6, 0.6, 0.6), label='no discrimination')\n",
    "plt.plot([0.95, 1], [0.95, 1], '--', color=(0.6, 0.6, 0.6), label='no discrimination')\n",
    "plt.xlim([-0.05, 1.05])\n",
    "plt.ylim([-0.05, 1.05])\n",
    "plt.xlabel('False Positive Rate')\n",
    "plt.ylabel('True Positive Rate')\n",
    "plt.title('Receiver operating characteristic')\n",
    "plt.legend(loc=\"lower right\")\n",
    "plt.grid()\n",
    "plt.show()"
   ]
  },
  {
   "cell_type": "code",
   "execution_count": 31,
   "metadata": {
    "collapsed": false
   },
   "outputs": [
    {
     "data": {
      "image/png": "[encoded data removed]",
      "text/plain": [
       "<matplotlib.figure.Figure at 0x7fafa85f7ed0>"
      ]
     },
     "metadata": {},
     "output_type": "display_data"
    }
   ],
   "source": [
    "plt.figure(figsize=[6, 6])\n",
    "fpr, tpr, thresholds = roc_curve(test_Y, gb3.predict_proba(test_X)[:, 1])\n",
    "roc_auc = auc(fpr, tpr)\n",
    "plt.plot(fpr, tpr, lw=1, label='ROC BDT (area = %0.2f)'%(roc_auc))\n",
    "plt.plot([0, 1], [0, 1], '--', color=(0.6, 0.6, 0.6), label='no discrimination')\n",
    "plt.plot([0.95, 1], [0.95, 1], '--', color=(0.6, 0.6, 0.6), label='no discrimination')\n",
    "plt.xlim([0.5, 1])\n",
    "plt.ylim([0.95, 1])\n",
    "plt.xlabel('False Positive Rate')\n",
    "plt.ylabel('True Positive Rate')\n",
    "plt.title('Zoomed receiver operating characteristic')\n",
    "plt.legend(loc=\"lower right\")\n",
    "plt.grid()\n",
    "plt.show()"
   ]
  },
  {
   "cell_type": "code",
   "execution_count": null,
   "metadata": {
    "collapsed": false,
    "scrolled": false
   },
   "outputs": [],
   "source": [
    "tree_scores = [] \n",
    "for tree_nb in range(1,399):\n",
    "    proba = gb3.predict_proba(test_X,ntree_limit=tree_nb)\n",
    "    predicted = proba[:, 1]\n",
    "    score =  roc_auc_score(test_Y, predicted)\n",
    "    print(\"\".join([\"tree \",str(tree_nb), \" score \", str(score)]))\n",
    "    tree_scores.append(score)"
   ]
  },
  {
   "cell_type": "code",
   "execution_count": 26,
   "metadata": {
    "collapsed": false
   },
   "outputs": [
    {
     "data": {
      "image/png": "[encoded data removed]",
      "text/plain": [
       "<matplotlib.figure.Figure at 0x7fafac674310>"
      ]
     },
     "metadata": {},
     "output_type": "display_data"
    }
   ],
   "source": [
    "x = numpy.array([x  for x in range(400)])\n",
    "plt.figure()\n",
    "plt.plot(x,tree_scores[:400])\n",
    "plt.ylim(0.76, 0.825)\n",
    "plt.xlabel('no of trees')\n",
    "plt.ylabel('score ROC_AUC')\n",
    "plt.show()"
   ]
  },
  {
   "cell_type": "markdown",
   "metadata": {},
   "source": [
    "Model comparison \n",
    "---------\n",
    "In comparable to sklearn's model I obtained about 1% of improvement! This is quite nice. "
   ]
  },
  {
   "cell_type": "markdown",
   "metadata": {},
   "source": [
    "Balance dataset\n",
    "--------------\n",
    "Do to big data class misbalance I would like to balance it.  \n",
    "First I split data into trainig and test sets and for training I grab only part of the ghost tracks. \n",
    "\n",
    "Balance via xgboost paramerer\n",
    "-----------\n",
    "I found parameter to be set. \n",
    "<font color=\"red\"> I know I am dumb!!!!! </font>\n"
   ]
  },
  {
   "cell_type": "code",
   "execution_count": 6,
   "metadata": {
    "collapsed": false
   },
   "outputs": [
    {
     "name": "stdout",
     "output_type": "stream",
     "text": [
      "good tracks 178831\n",
      "ghost track 2641394\n",
      "ratio ghost to good 14.770000\n"
     ]
    }
   ],
   "source": [
    "good_track_no = counts = new_features[target == 1].count()[0]\n",
    "ghost_track_no = counts = new_features[target == 0].count()[0]\n",
    "print(\"good tracks %d\") % good_track_no\n",
    "print(\"ghost track %d\") % ghost_track_no\n",
    "ratio_ghost_to_good = float(ghost_track_no)/good_track_no\n",
    "ratio_ghost_to_good = numpy.round(ratio_ghost_to_good, 3)\n",
    "print (\"ratio ghost to good %f\") % ratio_ghost_to_good"
   ]
  },
  {
   "cell_type": "code",
   "execution_count": 7,
   "metadata": {
    "collapsed": false
   },
   "outputs": [
    {
     "data": {
      "text/plain": [
       "['models/XGBoost_400_balanced2.pkl',\n",
       " 'models/XGBoost_400_balanced2.pkl_01.npy',\n",
       " 'models/XGBoost_400_balanced2.pkl_02.npy']"
      ]
     },
     "execution_count": 7,
     "metadata": {},
     "output_type": "execute_result"
    }
   ],
   "source": [
    "train_X, test_X, train_Y, test_Y = train_test_split(new_features, target, random_state=42,train_size=0.5 )              \n",
    "gb6 = xgb.XGBClassifier( n_estimators=400, learning_rate=0.2, scale_pos_weight=ratio_ghost_to_good, max_depth=6)\n",
    "gb6.fit(train_X,train_Y)\n",
    "joblib.dump(gb6, 'models/XGBoost_400_balanced2.pkl') "
   ]
  },
  {
   "cell_type": "code",
   "execution_count": 8,
   "metadata": {
    "collapsed": false
   },
   "outputs": [
    {
     "name": "stdout",
     "output_type": "stream",
     "text": [
      "ROC AUC score of XGBoost with 400 trees and trained using scale positive weight\n"
     ]
    },
    {
     "data": {
      "text/plain": [
       "0.8168021694229628"
      ]
     },
     "execution_count": 8,
     "metadata": {},
     "output_type": "execute_result"
    }
   ],
   "source": [
    "print \"ROC AUC score of XGBoost with 400 trees and trained using scale positive weight\"\n",
    "roc_auc_score(test_Y, gb6.predict_proba(test_X)[:, 1])"
   ]
  },
  {
   "cell_type": "code",
   "execution_count": 10,
   "metadata": {
    "collapsed": false
   },
   "outputs": [
    {
     "data": {
      "image/png": "[encoded data removed]",
      "text/plain": [
       "<matplotlib.figure.Figure at 0x7f80a7336a90>"
      ]
     },
     "metadata": {},
     "output_type": "display_data"
    }
   ],
   "source": [
    "plt.figure(figsize=[6, 6])\n",
    "fpr, tpr, thresholds = roc_curve(test_Y, gb6.predict_proba(test_X)[:, 1])\n",
    "roc_auc = auc(fpr, tpr)\n",
    "plt.plot(fpr, tpr, lw=1, label='ROC BDT (area = %0.2f)'%(roc_auc))\n",
    "plt.plot([0, 1], [0, 1], '--', color=(0.6, 0.6, 0.6), label='no discrimination')\n",
    "plt.plot([0.95, 1], [0.95, 1], '--', color=(0.6, 0.6, 0.6), label='no discrimination')\n",
    "plt.xlim([-0.05, 1.05])\n",
    "plt.ylim([-0.05, 1.05])\n",
    "plt.xlabel('False Positive Rate')\n",
    "plt.ylabel('True Positive Rate')\n",
    "plt.title('Receiver operating characteristic')\n",
    "plt.legend(loc=\"lower right\")\n",
    "plt.grid()\n",
    "plt.show()"
   ]
  },
  {
   "cell_type": "code",
   "execution_count": 11,
   "metadata": {
    "collapsed": false,
    "scrolled": true
   },
   "outputs": [
    {
     "data": {
      "image/png": "[encoded data removed]",
      "text/plain": [
       "<matplotlib.figure.Figure at 0x7f80a7336750>"
      ]
     },
     "metadata": {},
     "output_type": "display_data"
    }
   ],
   "source": [
    "plt.figure(figsize=[6, 6])\n",
    "fpr, tpr, thresholds = roc_curve(test_Y, gb6.predict_proba(test_X)[:, 1])\n",
    "roc_auc = auc(fpr, tpr)\n",
    "plt.plot(fpr, tpr, lw=1, label='ROC BDT (area = %0.2f)'%(roc_auc))\n",
    "plt.plot([0, 1], [0, 1], '--', color=(0.6, 0.6, 0.6), label='no discrimination')\n",
    "plt.plot([0.95, 1], [0.95, 1], '--', color=(0.6, 0.6, 0.6), label='no discrimination')\n",
    "plt.xlim([0.5, 1])\n",
    "plt.ylim([0.95, 1])\n",
    "plt.xlabel('False Positive Rate')\n",
    "plt.ylabel('True Positive Rate')\n",
    "plt.title('Zoomed receiver operating characteristic')\n",
    "plt.legend(loc=\"lower right\")\n",
    "plt.grid()\n",
    "plt.show()"
   ]
  },
  {
   "cell_type": "code",
   "execution_count": null,
   "metadata": {
    "collapsed": false
   },
   "outputs": [],
   "source": [
    "tree_scores = [] \n",
    "for tree_nb in range(1,399):\n",
    "    proba = gb6.predict_proba(test_X,ntree_limit=tree_nb)\n",
    "    predicted = proba[:, 1]\n",
    "    score =  roc_auc_score(test_Y, predicted)\n",
    "    print(\"\".join([\"tree \",str(tree_nb), \" score \", str(score)]))\n",
    "    tree_scores.append(score)"
   ]
  },
  {
   "cell_type": "code",
   "execution_count": 13,
   "metadata": {
    "collapsed": false
   },
   "outputs": [
    {
     "data": {
      "image/png": "[encoded data removed]",
      "text/plain": [
       "<matplotlib.figure.Figure at 0x7f80a7525c90>"
      ]
     },
     "metadata": {},
     "output_type": "display_data"
    }
   ],
   "source": [
    "plt.figure()\n",
    "plt.plot(tree_scores)\n",
    "plt.ylim(0.76, 0.825)\n",
    "plt.xlabel('no of trees')\n",
    "plt.ylabel('score ROC_AUC')\n",
    "plt.show()"
   ]
  },
  {
   "cell_type": "markdown",
   "metadata": {},
   "source": [
    "Learning curve seems to decrease. I will try to find the best possible parameters. "
   ]
  },
  {
   "cell_type": "markdown",
   "metadata": {},
   "source": [
    "Perform grid search for balanced data\n",
    "---------\n",
    "I use grid search to look at the following hyperparameters: \n",
    "* number of trees \n",
    "  * from the previous study we know that number of trees should be higher than 300. See graph above. \n",
    "* learning rates \n",
    "    * I check range [0.05-2]  \n",
    "       * I checked range [0.1-0.7]   the best scores obtained for 0.1, that why I check different region \n",
    "       \n",
    "In the next step I will focus on **min_child_weight** and **max_depth** and **gamma**"
   ]
  },
  {
   "cell_type": "code",
   "execution_count": null,
   "metadata": {
    "collapsed": false
   },
   "outputs": [],
   "source": [
    "train_gs_X, test_gs_X, train_gs_Y, test_gs_Y = train_test_split(new_features, target, random_state=42,train_size=0.1 )\n",
    "gb_grid_params = {\"n_estimators\": [x  for x in range(299,501) if x % 50 == 0],\n",
    "                   \"learning_rate\": [0.05,0.07,1,1.5,2]}\n",
    "print(gb_grid_params)\n",
    "\n",
    "gb_gs = xgb.XGBClassifier(scale_pos_weight=ratio_ghost_to_good, max_depth=6)\n",
    "\n",
    "clf = grid_search.GridSearchCV(gb_gs,\n",
    "                               gb_grid_params,\n",
    "                               cv=3,\n",
    "                               scoring='roc_auc',\n",
    "                               verbose = 3, \n",
    "                               n_jobs=10);\n",
    "clf.fit(train_gs_X, train_gs_Y);"
   ]
  },
  {
   "cell_type": "code",
   "execution_count": 9,
   "metadata": {
    "collapsed": false
   },
   "outputs": [
    {
     "name": "stdout",
     "output_type": "stream",
     "text": [
      "Best parameters set found on development set:\n",
      "{'n_estimators': 500, 'learning_rate': 0.07}\n",
      "Grid scores on development set:\n",
      "0.794 (+/-0.005) for {'n_estimators': 300, 'learning_rate': 0.05}\n",
      "0.794 (+/-0.005) for {'n_estimators': 350, 'learning_rate': 0.05}\n",
      "0.795 (+/-0.006) for {'n_estimators': 400, 'learning_rate': 0.05}\n",
      "0.795 (+/-0.006) for {'n_estimators': 450, 'learning_rate': 0.05}\n",
      "0.796 (+/-0.006) for {'n_estimators': 500, 'learning_rate': 0.05}\n",
      "0.795 (+/-0.005) for {'n_estimators': 300, 'learning_rate': 0.07}\n",
      "0.796 (+/-0.005) for {'n_estimators': 350, 'learning_rate': 0.07}\n",
      "0.796 (+/-0.006) for {'n_estimators': 400, 'learning_rate': 0.07}\n",
      "0.796 (+/-0.006) for {'n_estimators': 450, 'learning_rate': 0.07}\n",
      "0.796 (+/-0.007) for {'n_estimators': 500, 'learning_rate': 0.07}\n",
      "0.738 (+/-0.000) for {'n_estimators': 300, 'learning_rate': 1}\n",
      "0.737 (+/-0.003) for {'n_estimators': 350, 'learning_rate': 1}\n",
      "0.736 (+/-0.004) for {'n_estimators': 400, 'learning_rate': 1}\n",
      "0.736 (+/-0.003) for {'n_estimators': 450, 'learning_rate': 1}\n",
      "0.736 (+/-0.003) for {'n_estimators': 500, 'learning_rate': 1}\n",
      "0.714 (+/-0.004) for {'n_estimators': 300, 'learning_rate': 1.5}\n",
      "0.713 (+/-0.004) for {'n_estimators': 350, 'learning_rate': 1.5}\n",
      "0.711 (+/-0.005) for {'n_estimators': 400, 'learning_rate': 1.5}\n",
      "0.710 (+/-0.005) for {'n_estimators': 450, 'learning_rate': 1.5}\n",
      "0.710 (+/-0.005) for {'n_estimators': 500, 'learning_rate': 1.5}\n",
      "0.529 (+/-0.136) for {'n_estimators': 300, 'learning_rate': 2}\n",
      "0.529 (+/-0.136) for {'n_estimators': 350, 'learning_rate': 2}\n",
      "0.529 (+/-0.136) for {'n_estimators': 400, 'learning_rate': 2}\n",
      "0.529 (+/-0.136) for {'n_estimators': 450, 'learning_rate': 2}\n",
      "0.529 (+/-0.136) for {'n_estimators': 500, 'learning_rate': 2}\n",
      "The history saving thread hit an unexpected error (DatabaseError('database disk image is malformed',)).History will not be written to the database.\n"
     ]
    }
   ],
   "source": [
    "print(\"Best parameters set found on development set:\")\n",
    "print(clf.best_params_)\n",
    "print(\"Grid scores on development set:\")\n",
    "for params, mean_score, scores in clf.grid_scores_:\n",
    "    print(\"%0.3f (+/-%0.03f) for %r\"\n",
    "        % (mean_score, scores.std() * 2, params))"
   ]
  },
  {
   "cell_type": "markdown",
   "metadata": {},
   "source": [
    "Train model with obtained parameters\n",
    "--------------\n",
    "I use 500 trees and learning rate 0.07"
   ]
  },
  {
   "cell_type": "code",
   "execution_count": 7,
   "metadata": {
    "collapsed": false
   },
   "outputs": [
    {
     "data": {
      "text/plain": [
       "['models/XGBoost_500_balanced_afterGS.pkl',\n",
       " 'models/XGBoost_500_balanced_afterGS.pkl_01.npy',\n",
       " 'models/XGBoost_500_balanced_afterGS.pkl_02.npy']"
      ]
     },
     "execution_count": 7,
     "metadata": {},
     "output_type": "execute_result"
    }
   ],
   "source": [
    "train_X, test_X, train_Y, test_Y = train_test_split(new_features, target, random_state=42,train_size=0.5 )              \n",
    "gb6 = xgb.XGBClassifier( n_estimators=500, learning_rate=0.07, scale_pos_weight=ratio_ghost_to_good, max_depth=6)\n",
    "gb6.fit(train_X,train_Y) \n",
    "joblib.dump(gb6, 'models/XGBoost_500_balanced_afterGS.pkl') "
   ]
  },
  {
   "cell_type": "code",
   "execution_count": 10,
   "metadata": {
    "collapsed": false
   },
   "outputs": [
    {
     "name": "stdout",
     "output_type": "stream",
     "text": [
      "ROC AUC score of XGBoost with 500 trees and trained using scale positive weight\n"
     ]
    },
    {
     "data": {
      "text/plain": [
       "0.81567448613125149"
      ]
     },
     "execution_count": 10,
     "metadata": {},
     "output_type": "execute_result"
    }
   ],
   "source": [
    "print \"ROC AUC score of XGBoost with 500 trees and trained using scale positive weight\"\n",
    "roc_auc_score(test_Y, gb6.predict_proba(test_X)[:, 1])"
   ]
  },
  {
   "cell_type": "code",
   "execution_count": 9,
   "metadata": {
    "collapsed": false
   },
   "outputs": [
    {
     "data": {
      "image/png": "[encoded data removed]",
      "text/plain": [
       "<matplotlib.figure.Figure at 0x7f67ac95bbd0>"
      ]
     },
     "metadata": {},
     "output_type": "display_data"
    }
   ],
   "source": [
    "plt.figure(figsize=[6, 6])\n",
    "fpr, tpr, thresholds = roc_curve(test_Y, gb6.predict_proba(test_X)[:, 1])\n",
    "roc_auc = auc(fpr, tpr)\n",
    "plt.plot(fpr, tpr, lw=1, label='ROC BDT (area = %0.2f)'%(roc_auc))\n",
    "plt.plot([0, 1], [0, 1], '--', color=(0.6, 0.6, 0.6), label='no discrimination')\n",
    "plt.plot([0.95, 1], [0.95, 1], '--', color=(0.6, 0.6, 0.6), label='no discrimination')\n",
    "plt.xlim([-0.05, 1.05])\n",
    "plt.ylim([-0.05, 1.05])\n",
    "plt.xlabel('False Positive Rate')\n",
    "plt.ylabel('True Positive Rate')\n",
    "plt.title('Receiver operating characteristic')\n",
    "plt.legend(loc=\"lower right\")\n",
    "plt.grid()\n",
    "plt.show()"
   ]
  },
  {
   "cell_type": "markdown",
   "metadata": {},
   "source": [
    "The result is the same no improvement! \n",
    "----------\n",
    "\n",
    "The last idea is to perform grid search to find optimal values of **tree depth**, **gamma** and **min_child_weight**"
   ]
  },
  {
   "cell_type": "code",
   "execution_count": null,
   "metadata": {
    "collapsed": false
   },
   "outputs": [
    {
     "name": "stdout",
     "output_type": "stream",
     "text": [
      "{'max_depth': [5, 6, 8, 10], 'min_child_weight': [1, 10, 20, 50]}\n",
      "Fitting 3 folds for each of 16 candidates, totalling 48 fits\n",
      "[CV] max_depth=5, min_child_weight=1 .................................\n",
      "[CV] max_depth=5, min_child_weight=1 .................................\n",
      "[CV] max_depth=5, min_child_weight=1 .................................\n",
      "[CV] max_depth=5, min_child_weight=10 ................................\n",
      "[CV] max_depth=5, min_child_weight=10 ................................\n",
      "[CV] max_depth=5, min_child_weight=10 ................................\n",
      "[CV] max_depth=5, min_child_weight=20 ................................\n",
      "[CV] max_depth=5, min_child_weight=20 ................................\n",
      "[CV] max_depth=5, min_child_weight=20 ................................\n",
      "[CV] max_depth=5, min_child_weight=50 ................................\n"
     ]
    }
   ],
   "source": [
    "train_gs_X, test_gs_X, train_gs_Y, test_gs_Y = train_test_split(new_features, target, random_state=42,train_size=0.1 )\n",
    "gb_grid_params = { \"min_child_weight\": [1,10,20,50],\n",
    "                  \"max_depth\": [5,6,8,10]\n",
    "                 }\n",
    "print(gb_grid_params)\n",
    "\n",
    "gb_gs = xgb.XGBClassifier(n_estimators=400, learning_rate=0.07 ,scale_pos_weight=ratio_ghost_to_good)\n",
    "\n",
    "clf = grid_search.GridSearchCV(gb_gs,\n",
    "                               gb_grid_params,\n",
    "                               cv=3,\n",
    "                               scoring='roc_auc',\n",
    "                               verbose = 3, \n",
    "                               n_jobs=10);\n",
    "clf.fit(train_gs_X, train_gs_Y);"
   ]
  },
  {
   "cell_type": "code",
   "execution_count": null,
   "metadata": {
    "collapsed": true
   },
   "outputs": [],
   "source": [
    "print(\"Best parameters set found on development set:\")\n",
    "print(clf.best_params_)\n",
    "print(\"Grid scores on development set:\")\n",
    "for params, mean_score, scores in clf.grid_scores_:\n",
    "    print(\"%0.3f (+/-%0.03f) for %r\"\n",
    "        % (mean_score, scores.std() * 2, params))"
   ]
  },
  {
   "cell_type": "markdown",
   "metadata": {},
   "source": [
    "To be done! \n",
    "========="
   ]
  },
  {
   "cell_type": "markdown",
   "metadata": {},
   "source": [
    "Add linear combination and ratios of the features\n",
    "-----------\n",
    "\n",
    "As a very first step I add such features as \n",
    "* number of cluster minus number of layers\n",
    "* number of hit in OT\n",
    "* pseudo rapidity, momentum and transverse momentum divided by chi2 \n",
    "\n",
    "And then I will try to find importance of it. "
   ]
  },
  {
   "cell_type": "code",
   "execution_count": 17,
   "metadata": {
    "collapsed": true
   },
   "outputs": [],
   "source": [
    "def add_more_features(data):\n",
    "    out = data\n",
    "    out[\"seed_lhcbId-layers\"] = data.seed_nLHCbIDs - data.seed_nLayers\n",
    "    out[\"seed_ot\"] = data.seed_nLHCbIDs - data.seed_nbIT\n",
    "    out[\"seed_pr/chi2\"] = data.pseudo_rapidity / data.seed_chi2PerDoF\n",
    "    out[\"seed_p/chi2\"] = data.seed_p/ data.seed_chi2PerDoF\n",
    "    out[\"seed_tr\"]= numpy.sqrt(numpy.square(data.seed_tx) +numpy.square(data.seed_ty))    \n",
    "    return out"
   ]
  },
  {
   "cell_type": "code",
   "execution_count": 19,
   "metadata": {
    "collapsed": false
   },
   "outputs": [
    {
     "data": {
      "text/html": [
       "<div style=\"max-height:1000px;max-width:1500px;overflow:auto;\">\n",
       "<table border=\"1\" class=\"dataframe\">\n",
       "  <thead>\n",
       "    <tr style=\"text-align: right;\">\n",
       "      <th></th>\n",
       "      <th>seed_chi2PerDoF</th>\n",
       "      <th>seed_p</th>\n",
       "      <th>seed_pt</th>\n",
       "      <th>seed_nLHCbIDs</th>\n",
       "      <th>seed_nbIT</th>\n",
       "      <th>seed_nLayers</th>\n",
       "      <th>seed_x</th>\n",
       "      <th>seed_y</th>\n",
       "      <th>seed_tx</th>\n",
       "      <th>seed_ty</th>\n",
       "      <th>...</th>\n",
       "      <th>abs_seed_y</th>\n",
       "      <th>abs_seed_tx</th>\n",
       "      <th>abs_seed_ty</th>\n",
       "      <th>seed_r</th>\n",
       "      <th>pseudo_rapidity</th>\n",
       "      <th>seed_lhcbId-layers</th>\n",
       "      <th>seed_ot</th>\n",
       "      <th>seed_pr/chi2</th>\n",
       "      <th>seed_p/chi2</th>\n",
       "      <th>seed_tr</th>\n",
       "    </tr>\n",
       "  </thead>\n",
       "  <tbody>\n",
       "    <tr>\n",
       "      <th>0</th>\n",
       "      <td>1.213708</td>\n",
       "      <td>2543.471925</td>\n",
       "      <td>1187.267858</td>\n",
       "      <td>25</td>\n",
       "      <td>0</td>\n",
       "      <td>12</td>\n",
       "      <td>-1263.157617</td>\n",
       "      <td>-517.249191</td>\n",
       "      <td>-0.524220</td>\n",
       "      <td>-0.061572</td>\n",
       "      <td>...</td>\n",
       "      <td>517.249191</td>\n",
       "      <td>0.524220</td>\n",
       "      <td>0.061572</td>\n",
       "      <td>1364.959300</td>\n",
       "      <td>0.505958</td>\n",
       "      <td>13</td>\n",
       "      <td>25</td>\n",
       "      <td>0.416870</td>\n",
       "      <td>2095.620933</td>\n",
       "      <td>0.527823</td>\n",
       "    </tr>\n",
       "    <tr>\n",
       "      <th>1</th>\n",
       "      <td>1.346112</td>\n",
       "      <td>2781.485771</td>\n",
       "      <td>1204.396954</td>\n",
       "      <td>25</td>\n",
       "      <td>0</td>\n",
       "      <td>12</td>\n",
       "      <td>1264.522435</td>\n",
       "      <td>-99.363473</td>\n",
       "      <td>0.480288</td>\n",
       "      <td>-0.009081</td>\n",
       "      <td>...</td>\n",
       "      <td>99.363473</td>\n",
       "      <td>0.480288</td>\n",
       "      <td>0.009081</td>\n",
       "      <td>1268.420312</td>\n",
       "      <td>0.463589</td>\n",
       "      <td>13</td>\n",
       "      <td>25</td>\n",
       "      <td>0.344391</td>\n",
       "      <td>2066.311262</td>\n",
       "      <td>0.480374</td>\n",
       "    </tr>\n",
       "    <tr>\n",
       "      <th>2</th>\n",
       "      <td>1.627632</td>\n",
       "      <td>4769.446536</td>\n",
       "      <td>1708.511389</td>\n",
       "      <td>25</td>\n",
       "      <td>0</td>\n",
       "      <td>12</td>\n",
       "      <td>-1521.093160</td>\n",
       "      <td>-196.064807</td>\n",
       "      <td>-0.382802</td>\n",
       "      <td>-0.025975</td>\n",
       "      <td>...</td>\n",
       "      <td>196.064807</td>\n",
       "      <td>0.382802</td>\n",
       "      <td>0.025975</td>\n",
       "      <td>1533.677219</td>\n",
       "      <td>0.374842</td>\n",
       "      <td>13</td>\n",
       "      <td>25</td>\n",
       "      <td>0.230299</td>\n",
       "      <td>2930.298550</td>\n",
       "      <td>0.383682</td>\n",
       "    </tr>\n",
       "    <tr>\n",
       "      <th>3</th>\n",
       "      <td>1.789231</td>\n",
       "      <td>5202.918132</td>\n",
       "      <td>1823.936187</td>\n",
       "      <td>25</td>\n",
       "      <td>0</td>\n",
       "      <td>12</td>\n",
       "      <td>-1563.145597</td>\n",
       "      <td>-483.850246</td>\n",
       "      <td>-0.369674</td>\n",
       "      <td>-0.058753</td>\n",
       "      <td>...</td>\n",
       "      <td>483.850246</td>\n",
       "      <td>0.369674</td>\n",
       "      <td>0.058753</td>\n",
       "      <td>1636.317578</td>\n",
       "      <td>0.366082</td>\n",
       "      <td>13</td>\n",
       "      <td>25</td>\n",
       "      <td>0.204603</td>\n",
       "      <td>2907.907705</td>\n",
       "      <td>0.374314</td>\n",
       "    </tr>\n",
       "    <tr>\n",
       "      <th>4</th>\n",
       "      <td>1.269238</td>\n",
       "      <td>2300.960611</td>\n",
       "      <td>1252.585447</td>\n",
       "      <td>24</td>\n",
       "      <td>0</td>\n",
       "      <td>12</td>\n",
       "      <td>-1641.727752</td>\n",
       "      <td>-411.084316</td>\n",
       "      <td>-0.646627</td>\n",
       "      <td>-0.054980</td>\n",
       "      <td>...</td>\n",
       "      <td>411.084316</td>\n",
       "      <td>0.646627</td>\n",
       "      <td>0.054980</td>\n",
       "      <td>1692.412576</td>\n",
       "      <td>0.610352</td>\n",
       "      <td>12</td>\n",
       "      <td>24</td>\n",
       "      <td>0.480881</td>\n",
       "      <td>1812.867601</td>\n",
       "      <td>0.648960</td>\n",
       "    </tr>\n",
       "  </tbody>\n",
       "</table>\n",
       "<p>5 rows × 21 columns</p>\n",
       "</div>"
      ],
      "text/plain": [
       "   seed_chi2PerDoF       seed_p      seed_pt  seed_nLHCbIDs  seed_nbIT  \\\n",
       "0         1.213708  2543.471925  1187.267858             25          0   \n",
       "1         1.346112  2781.485771  1204.396954             25          0   \n",
       "2         1.627632  4769.446536  1708.511389             25          0   \n",
       "3         1.789231  5202.918132  1823.936187             25          0   \n",
       "4         1.269238  2300.960611  1252.585447             24          0   \n",
       "\n",
       "   seed_nLayers       seed_x      seed_y   seed_tx   seed_ty    ...     \\\n",
       "0            12 -1263.157617 -517.249191 -0.524220 -0.061572    ...      \n",
       "1            12  1264.522435  -99.363473  0.480288 -0.009081    ...      \n",
       "2            12 -1521.093160 -196.064807 -0.382802 -0.025975    ...      \n",
       "3            12 -1563.145597 -483.850246 -0.369674 -0.058753    ...      \n",
       "4            12 -1641.727752 -411.084316 -0.646627 -0.054980    ...      \n",
       "\n",
       "   abs_seed_y  abs_seed_tx  abs_seed_ty       seed_r  pseudo_rapidity  \\\n",
       "0  517.249191     0.524220     0.061572  1364.959300         0.505958   \n",
       "1   99.363473     0.480288     0.009081  1268.420312         0.463589   \n",
       "2  196.064807     0.382802     0.025975  1533.677219         0.374842   \n",
       "3  483.850246     0.369674     0.058753  1636.317578         0.366082   \n",
       "4  411.084316     0.646627     0.054980  1692.412576         0.610352   \n",
       "\n",
       "   seed_lhcbId-layers  seed_ot  seed_pr/chi2  seed_p/chi2   seed_tr  \n",
       "0                  13       25      0.416870  2095.620933  0.527823  \n",
       "1                  13       25      0.344391  2066.311262  0.480374  \n",
       "2                  13       25      0.230299  2930.298550  0.383682  \n",
       "3                  13       25      0.204603  2907.907705  0.374314  \n",
       "4                  12       24      0.480881  1812.867601  0.648960  \n",
       "\n",
       "[5 rows x 21 columns]"
      ]
     },
     "execution_count": 19,
     "metadata": {},
     "output_type": "execute_result"
    }
   ],
   "source": [
    "mf_data = add_more_features(new_data)\n",
    "mf_features = mf_data.drop(\"is_true_seed\", axis=1).astype(numpy.float64)\n",
    "mf_features.head()"
   ]
  },
  {
   "cell_type": "code",
   "execution_count": 20,
   "metadata": {
    "collapsed": true
   },
   "outputs": [],
   "source": [
    "mf_trainX, mf_testX, mf_trainY, mf_testY = train_test_split(mf_features, target, random_state=42,train_size=0.5 )"
   ]
  },
  {
   "cell_type": "code",
   "execution_count": 22,
   "metadata": {
    "collapsed": false
   },
   "outputs": [
    {
     "data": {
      "text/plain": [
       "['models/XGBoost_400trees_linearFeatures.pkl',\n",
       " 'models/XGBoost_400trees_linearFeatures.pkl_01.npy',\n",
       " 'models/XGBoost_400trees_linearFeatures.pkl_02.npy']"
      ]
     },
     "execution_count": 22,
     "metadata": {},
     "output_type": "execute_result"
    }
   ],
   "source": [
    "gb5 = xgb.XGBClassifier( n_estimators=400, learning_rate=0.2, max_depth=6)\n",
    "gb5.fit(mf_trainX, mf_trainY)\n",
    "joblib.dump(gb5, 'models/XGBoost_400trees_linearFeatures.pkl') "
   ]
  },
  {
   "cell_type": "code",
   "execution_count": 23,
   "metadata": {
    "collapsed": false
   },
   "outputs": [
    {
     "name": "stdout",
     "output_type": "stream",
     "text": [
      "ROC AUC score of XGBoost with 400 trees with additional linear combination of the features\n"
     ]
    },
    {
     "data": {
      "text/plain": [
       "0.81894167992847922"
      ]
     },
     "execution_count": 23,
     "metadata": {},
     "output_type": "execute_result"
    }
   ],
   "source": [
    "print \"ROC AUC score of XGBoost with 400 trees with additional linear combination of the features\"\n",
    "roc_auc_score(mf_testY, gb5.predict_proba(mf_testX)[:, 1])"
   ]
  },
  {
   "cell_type": "code",
   "execution_count": null,
   "metadata": {
    "collapsed": false
   },
   "outputs": [],
   "source": [
    "tree_scores = [] \n",
    "for tree_nb in range(1,399):\n",
    "    proba = gb5.predict_proba(mf_testX,ntree_limit=tree_nb)\n",
    "    predicted = proba[:, 1]\n",
    "    score =  roc_auc_score(mf_testY, predicted)\n",
    "    print(\"\".join([\"tree \",str(tree_nb), \" score \", str(score)]))\n",
    "    tree_scores.append(score)"
   ]
  },
  {
   "cell_type": "code",
   "execution_count": 25,
   "metadata": {
    "collapsed": false
   },
   "outputs": [
    {
     "data": {
      "image/png": "[encoded data removed]",
      "text/plain": [
       "<matplotlib.figure.Figure at 0x7ff4483af290>"
      ]
     },
     "metadata": {},
     "output_type": "display_data"
    }
   ],
   "source": [
    "plt.figure()\n",
    "plt.plot(tree_scores)\n",
    "plt.ylim(0.76, 0.825)\n",
    "plt.xlabel('no of trees')\n",
    "plt.ylabel('score ROC_AUC')\n",
    "plt.show()"
   ]
  },
  {
   "cell_type": "markdown",
   "metadata": {},
   "source": [
    "Conclusion on selected linear combinations and ratios of the featured\n",
    "-----------\n",
    "Adding this features has no influence on classifier performance. "
   ]
  },
  {
   "cell_type": "markdown",
   "metadata": {
    "collapsed": true
   },
   "source": [
    "# Try to speedup this algorithm.\n",
    "\n",
    "LookupClassifier splits each of features into bins, trains a base_estimator to use this data.\n",
    "To predict class for new observation, results of base_estimator are kept for all possible combinations of bins, and saved together. \n",
    "\n",
    "See also: this idea is used inside LHCb triggers, see V. Gligorov, M. Williams, 'Bonsai BDT'\n",
    "\n",
    "As a very first step I will use **5 bin** per feature. It corresponds to array size of **5^11~ 240 mln** .\n",
    "\n",
    "Then I will try to tune using more complex binning strategy. I also need to reduce features space. I decided to remove \"seed_x,y,tx,ty\" and keep it's absolute values.  "
   ]
  },
  {
   "cell_type": "code",
   "execution_count": 7,
   "metadata": {
    "collapsed": false
   },
   "outputs": [],
   "source": [
    "new_features = new_features.drop([\"seed_x\",\"seed_y\",\"seed_ty\",\"seed_tx\", \"seed_p\"], axis=1).astype(numpy.float64)"
   ]
  },
  {
   "cell_type": "code",
   "execution_count": 8,
   "metadata": {
    "collapsed": false
   },
   "outputs": [
    {
     "data": {
      "text/html": [
       "<div style=\"max-height:1000px;max-width:1500px;overflow:auto;\">\n",
       "<table border=\"1\" class=\"dataframe\">\n",
       "  <thead>\n",
       "    <tr style=\"text-align: right;\">\n",
       "      <th></th>\n",
       "      <th>seed_chi2PerDoF</th>\n",
       "      <th>seed_pt</th>\n",
       "      <th>seed_nLHCbIDs</th>\n",
       "      <th>seed_nbIT</th>\n",
       "      <th>seed_nLayers</th>\n",
       "      <th>abs_seed_x</th>\n",
       "      <th>abs_seed_y</th>\n",
       "      <th>abs_seed_tx</th>\n",
       "      <th>abs_seed_ty</th>\n",
       "      <th>seed_r</th>\n",
       "      <th>pseudo_rapidity</th>\n",
       "    </tr>\n",
       "  </thead>\n",
       "  <tbody>\n",
       "    <tr>\n",
       "      <th>0</th>\n",
       "      <td>1.213708</td>\n",
       "      <td>1187.267858</td>\n",
       "      <td>25</td>\n",
       "      <td>0</td>\n",
       "      <td>12</td>\n",
       "      <td>1263.157617</td>\n",
       "      <td>517.249191</td>\n",
       "      <td>0.524220</td>\n",
       "      <td>0.061572</td>\n",
       "      <td>1364.959300</td>\n",
       "      <td>0.505958</td>\n",
       "    </tr>\n",
       "    <tr>\n",
       "      <th>1</th>\n",
       "      <td>1.346112</td>\n",
       "      <td>1204.396954</td>\n",
       "      <td>25</td>\n",
       "      <td>0</td>\n",
       "      <td>12</td>\n",
       "      <td>1264.522435</td>\n",
       "      <td>99.363473</td>\n",
       "      <td>0.480288</td>\n",
       "      <td>0.009081</td>\n",
       "      <td>1268.420312</td>\n",
       "      <td>0.463589</td>\n",
       "    </tr>\n",
       "    <tr>\n",
       "      <th>2</th>\n",
       "      <td>1.627632</td>\n",
       "      <td>1708.511389</td>\n",
       "      <td>25</td>\n",
       "      <td>0</td>\n",
       "      <td>12</td>\n",
       "      <td>1521.093160</td>\n",
       "      <td>196.064807</td>\n",
       "      <td>0.382802</td>\n",
       "      <td>0.025975</td>\n",
       "      <td>1533.677219</td>\n",
       "      <td>0.374842</td>\n",
       "    </tr>\n",
       "    <tr>\n",
       "      <th>3</th>\n",
       "      <td>1.789231</td>\n",
       "      <td>1823.936187</td>\n",
       "      <td>25</td>\n",
       "      <td>0</td>\n",
       "      <td>12</td>\n",
       "      <td>1563.145597</td>\n",
       "      <td>483.850246</td>\n",
       "      <td>0.369674</td>\n",
       "      <td>0.058753</td>\n",
       "      <td>1636.317578</td>\n",
       "      <td>0.366082</td>\n",
       "    </tr>\n",
       "    <tr>\n",
       "      <th>4</th>\n",
       "      <td>1.269238</td>\n",
       "      <td>1252.585447</td>\n",
       "      <td>24</td>\n",
       "      <td>0</td>\n",
       "      <td>12</td>\n",
       "      <td>1641.727752</td>\n",
       "      <td>411.084316</td>\n",
       "      <td>0.646627</td>\n",
       "      <td>0.054980</td>\n",
       "      <td>1692.412576</td>\n",
       "      <td>0.610352</td>\n",
       "    </tr>\n",
       "  </tbody>\n",
       "</table>\n",
       "</div>"
      ],
      "text/plain": [
       "   seed_chi2PerDoF      seed_pt  seed_nLHCbIDs  seed_nbIT  seed_nLayers  \\\n",
       "0         1.213708  1187.267858             25          0            12   \n",
       "1         1.346112  1204.396954             25          0            12   \n",
       "2         1.627632  1708.511389             25          0            12   \n",
       "3         1.789231  1823.936187             25          0            12   \n",
       "4         1.269238  1252.585447             24          0            12   \n",
       "\n",
       "    abs_seed_x  abs_seed_y  abs_seed_tx  abs_seed_ty       seed_r  \\\n",
       "0  1263.157617  517.249191     0.524220     0.061572  1364.959300   \n",
       "1  1264.522435   99.363473     0.480288     0.009081  1268.420312   \n",
       "2  1521.093160  196.064807     0.382802     0.025975  1533.677219   \n",
       "3  1563.145597  483.850246     0.369674     0.058753  1636.317578   \n",
       "4  1641.727752  411.084316     0.646627     0.054980  1692.412576   \n",
       "\n",
       "   pseudo_rapidity  \n",
       "0         0.505958  \n",
       "1         0.463589  \n",
       "2         0.374842  \n",
       "3         0.366082  \n",
       "4         0.610352  "
      ]
     },
     "execution_count": 8,
     "metadata": {},
     "output_type": "execute_result"
    }
   ],
   "source": [
    "new_features.head()"
   ]
  },
  {
   "cell_type": "code",
   "execution_count": 9,
   "metadata": {
    "collapsed": false
   },
   "outputs": [
    {
     "data": {
      "text/plain": [
       "LookupClassifier(base_estimator=XGBClassifier(base_score=0.5, colsample_bylevel=1, colsample_bytree=1,\n",
       "       gamma=0, learning_rate=0.07, max_delta_step=0, max_depth=6,\n",
       "       min_child_weight=1, missing=None, n_estimators=400, nthread=-1,\n",
       "       objective='binary:logistic', reg_alpha=0, reg_lambda=1,\n",
       "       scale_pos_weight=14.77, seed=0, silent=True, subsample=1),\n",
       "         keep_trained_estimator=False, max_cells=500000000, n_bins=5)"
      ]
     },
     "execution_count": 9,
     "metadata": {},
     "output_type": "execute_result"
    }
   ],
   "source": [
    "train_X, test_X, train_Y, test_Y = train_test_split(new_features, target, random_state=42,train_size=0.7 )              \n",
    "\n",
    "n_bins = 5\n",
    "\n",
    "base_classifier = xgb.XGBClassifier(n_estimators=400, learning_rate=0.07 ,scale_pos_weight=ratio_ghost_to_good, max_depth=6)\n",
    "classifier = LookupClassifier(base_estimator=base_classifier, n_bins=n_bins, keep_trained_estimator=False)\n",
    "classifier.fit(train_X, train_Y)"
   ]
  },
  {
   "cell_type": "code",
   "execution_count": 10,
   "metadata": {
    "collapsed": false
   },
   "outputs": [
    {
     "name": "stdout",
     "output_type": "stream",
     "text": [
      "ROC AUC score of binarized XGBoost with 400 trees and trained using scale positive weight\n"
     ]
    },
    {
     "data": {
      "text/plain": [
       "0.78075017783695599"
      ]
     },
     "execution_count": 10,
     "metadata": {},
     "output_type": "execute_result"
    }
   ],
   "source": [
    "print \"ROC AUC score of binarized XGBoost with 400 trees and trained using scale positive weight\"\n",
    "roc_auc_score(test_Y, classifier.predict_proba(test_X)[:, 1])"
   ]
  },
  {
   "cell_type": "code",
   "execution_count": 11,
   "metadata": {
    "collapsed": false
   },
   "outputs": [
    {
     "data": {
      "image/png": "[encoded data removed]",
      "text/plain": [
       "<matplotlib.figure.Figure at 0x7f1ab1ab7a10>"
      ]
     },
     "metadata": {},
     "output_type": "display_data"
    }
   ],
   "source": [
    "plt.figure(figsize=[6, 6])\n",
    "fpr, tpr, thresholds = roc_curve(test_Y, classifier.predict_proba(test_X)[:, 1])\n",
    "roc_auc = auc(fpr, tpr)\n",
    "plt.plot(fpr, tpr, lw=1, label='ROC bBDT (area = %0.2f)'%(roc_auc))\n",
    "plt.plot([0, 1], [0, 1], '--', color=(0.6, 0.6, 0.6), label='no discrimination')\n",
    "plt.plot([0.95, 1], [0.95, 1], '--', color=(0.6, 0.6, 0.6), label='no discrimination')\n",
    "plt.xlim([-0.05, 1.05])\n",
    "plt.ylim([-0.05, 1.05])\n",
    "plt.xlabel('False Positive Rate')\n",
    "plt.ylabel('True Positive Rate')\n",
    "plt.title('Receiver operating characteristic')\n",
    "plt.legend(loc=\"lower right\")\n",
    "plt.grid()\n",
    "plt.show()"
   ]
  },
  {
   "cell_type": "code",
   "execution_count": 12,
   "metadata": {
    "collapsed": false,
    "scrolled": true
   },
   "outputs": [
    {
     "data": {
      "image/png": "[encoded data removed]",
      "text/plain": [
       "<matplotlib.figure.Figure at 0x7f1aad387510>"
      ]
     },
     "metadata": {},
     "output_type": "display_data"
    }
   ],
   "source": [
    "plt.figure(figsize=[6, 6])\n",
    "fpr, tpr, thresholds = roc_curve(test_Y, classifier.predict_proba(test_X)[:, 1])\n",
    "roc_auc = auc(fpr, tpr)\n",
    "plt.plot(fpr, tpr, lw=1, label='ROC bBDT (area = %0.2f)'%(roc_auc))\n",
    "plt.plot([0, 1], [0, 1], '--', color=(0.6, 0.6, 0.6), label='no discrimination')\n",
    "plt.plot([0.95, 1], [0.95, 1], '--', color=(0.6, 0.6, 0.6), label='no discrimination')\n",
    "plt.xlim([0.5, 1])\n",
    "plt.ylim([0.95, 1])\n",
    "plt.xlabel('False Positive Rate')\n",
    "plt.ylabel('True Positive Rate')\n",
    "plt.title('Zoomed receiver operating characteristic')\n",
    "plt.legend(loc=\"lower right\")\n",
    "plt.grid()\n",
    "plt.show()"
   ]
  },
  {
   "cell_type": "markdown",
   "metadata": {},
   "source": [
    "Write model's parameters into c++ class.\n",
    "------- \n",
    "I will generate source code of the class responsible for evaluation of the bBDT classifier.  \n",
    "The template has been written manualy using CLion IDE. \n",
    "There will be 3 python function:\n",
    "1. Generate header file (PatBBDTSeedClassifier.h),\n",
    "2. Generate cpp file with all function except initialization of the lookup table (PatBBDTSeedClassifier.cpp)\n",
    "3. Generate cpp file containing lookuptabel implementation (PatBBDTSeedClassifier_lookupTable.cpp) \n",
    "<font color=\"red\">Warning! File size is about 550 MB</font>\n",
    "\n",
    "I need to find a more smart way to transfer lookup table to c++. "
   ]
  },
  {
   "cell_type": "code",
   "execution_count": 55,
   "metadata": {
    "collapsed": true
   },
   "outputs": [],
   "source": [
    "def generate_header():\n",
    "    return \"\"\"\n",
    "/** This file was generated automaticly by python script \n",
    "https://github.com/adendek/DownstreamTracking/blob/master/SeedClasifier/BDT-XGBoost.ipynb\n",
    "DO NOT MODIFY IT MANUALLY!!!!!!\n",
    "*/\n",
    "    \n",
    "#pragma once\n",
    "\n",
    "#include \"IPatMvaClassifier.h\"\n",
    "#include \"PatKernel/IPatMvaClassifier.h\"\n",
    "#include \"GaudiAlg/GaudiTool.h\"\n",
    "#include <vector>\n",
    "#include <map>\n",
    "\n",
    "\n",
    "class PatBBDTSeedClassifier : public GaudiTool, virtual public IPatMvaClassifier\n",
    "{\n",
    "public:\n",
    "    PatBBDTSeedClassifier( const std::string& type,\n",
    "                           const std::string& name,\n",
    "                           const IInterface* parent);\n",
    "\n",
    "    double getMvaValue(const std::vector<double>& parametersVector );\n",
    "\n",
    "    virtual StatusCode initialize();\n",
    "\n",
    "private:\n",
    "    //initialization phase\n",
    "    std::map<std::string, std::vector<double> > initBinEdgeMaps();\n",
    "    std::vector<double> initLookupTable();\n",
    "\n",
    "    // model prediction phase\n",
    "    std::vector<int> getBinIndices(const std::vector<double>& parametersVector);\n",
    "    int convertBinIndicesToLookupIndex(std::vector<int>& binIndices);\n",
    "    double getBBDTPrediction(int lookupIndex);\n",
    "\n",
    "\n",
    "    std::map<std::string, std::vector<double> > m_binsEdgeMap;\n",
    "    std::vector<double> m_lookupTable;\n",
    "};\n",
    "\n",
    "\"\"\""
   ]
  },
  {
   "cell_type": "code",
   "execution_count": 56,
   "metadata": {
    "collapsed": true
   },
   "outputs": [],
   "source": [
    "def generate_source_file():\n",
    "    return \"\"\"\n",
    "#include \"PatBBDTSeedClassifier.h\"\n",
    "#include <fstream>\n",
    "#include <iterator>\n",
    "#include <algorithm>\n",
    "\n",
    "DECLARE_TOOL_FACTORY( PatBBDTSeedClassifier )\n",
    "\n",
    "double PatBBDTSeedClassifier::getMvaValue(const std::vector<double>& parametersVector )\n",
    "{\n",
    "    auto binIndices = getBinIndices(parametersVector);\n",
    "    int lookupTableIndex = convertBinIndicesToLookupIndex(binIndices);\n",
    "    return getBBDTPrediction(lookupTableIndex);\n",
    "}\n",
    "\n",
    "\n",
    "\n",
    "PatBBDTSeedClassifier::PatBBDTSeedClassifier( const std::string& type,\n",
    "                                                const std::string& name,\n",
    "                                                const IInterface* parent )\n",
    "        : GaudiTool ( type, name , parent )\n",
    "{\n",
    "    declareInterface<IPatMvaClassifier>(this);\n",
    "}\n",
    "\n",
    "\n",
    "StatusCode PatBBDTSeedClassifier::initialize()\n",
    "{\n",
    "    StatusCode sc =  GaudiTool::initialize();\n",
    "    if(sc.isFailure()) return Error(\"Failed to initialize\", sc);\n",
    "\n",
    "    m_binsEdgeMap = initBinEdgeMaps();\n",
    "    m_lookupTable = initLookupTable();\n",
    "    return StatusCode::SUCCESS;\n",
    "}\n",
    "\n",
    "std::vector<int> PatBBDTSeedClassifier::getBinIndices(const std::vector<double>& parametersVector)\n",
    "{\n",
    "    std::vector<int> binIndicesMap;\n",
    "    int actualFeature = 0;\n",
    "    for (const auto& featurePair: m_binsEdgeMap){\n",
    "        int binNumber = 0;\n",
    "        for(const auto& binValue : featurePair.second) {\n",
    "            if (parametersVector[actualFeature] > binValue) {\n",
    "                binIndicesMap.push_back(binNumber);\n",
    "                break;\n",
    "            }\n",
    "            binNumber++;\n",
    "        }\n",
    "        actualFeature++;\n",
    "    }\n",
    "    return binIndicesMap;\n",
    "}\n",
    "/**\n",
    " * adopt to C++ python method\n",
    " *  hep_ml.speedup.LookupClassifier.convert_lookup_index_to_bins()\n",
    " */\n",
    "\n",
    "\n",
    "int PatBBDTSeedClassifier::convertBinIndicesToLookupIndex(std::vector<int> &binIndices)\n",
    "{\n",
    "    int index = 0;\n",
    "    const int binPerFeature = 5;\n",
    "\n",
    "    for (const auto& indice : binIndices){\n",
    "        index *= binPerFeature+1;\n",
    "        index += indice;\n",
    "    }\n",
    "    return index;\n",
    "}\n",
    "\n",
    "double PatBBDTSeedClassifier::getBBDTPrediction(int lookupIndex)\n",
    "{\n",
    "    return m_lookupTable[lookupIndex];\n",
    "}\n",
    "    \"\"\""
   ]
  },
  {
   "cell_type": "code",
   "execution_count": 41,
   "metadata": {
    "collapsed": false
   },
   "outputs": [],
   "source": [
    "def generate_InitBinEdgeMap_function():\n",
    "    function_body = \"\"\"std::map<std::string, std::vector<double> > PatBBDTSeedClassifier::initBinEdgeMaps()\n",
    "{\n",
    "    std::map<std::string, std::vector<double> >  binMap ={\n",
    "    \"\"\"\n",
    "    for feature, bins_edges in classifier.bin_edges.iteritems():\n",
    "        function_body += \"\\t {\\\"\" + str(feature) +\"\\\", {\"\n",
    "        for bin_edge in bins_edges:\n",
    "            function_body += str(bin_edge)+ \",\"\n",
    "        function_body +=  \"}},\\n\"\n",
    "    \n",
    "    function_body += \"\"\"\\n };\n",
    "return binMap;\n",
    "}\n",
    "    \"\"\"\n",
    "    return function_body"
   ]
  },
  {
   "cell_type": "code",
   "execution_count": 57,
   "metadata": {
    "collapsed": false
   },
   "outputs": [],
   "source": [
    "file = open(\"models/cpp/PatBBDTSeedClassifier.h\", 'w')\n",
    "file.write(generate_header())\n",
    "file.close()\n",
    "\n",
    "file = open(\"models/cpp/PatBBDTSeedClassifier.cpp\", 'w')\n",
    "file_content = generate_source_file()\n",
    "file_content += generate_InitBinEdgeMap_function()\n",
    "\n",
    "file.write(file_content)\n",
    "file.close()"
   ]
  },
  {
   "cell_type": "markdown",
   "metadata": {},
   "source": [
    "This time I need to convert lookup table into vector.\n",
    "-------\n",
    "I will use two approaches:\n",
    "1. Generate C++ function\n",
    "2. Store lookup table into binary file. \n"
   ]
  },
  {
   "cell_type": "code",
   "execution_count": 51,
   "metadata": {
    "collapsed": true
   },
   "outputs": [],
   "source": [
    "def generate_initLookupTable_function():\n",
    "    numbers_per_row = 100\n",
    "    function_body = \"\"\"\n",
    "#include \"PatBBDTSeedClassifier.h\"\n",
    "\n",
    "std::vector<double> PatBBDTSeedClassifier::initLookupTable()\n",
    "{\n",
    "   std::vector<double> indicesVector ={\n",
    "    \"\"\"\n",
    "    row_nb = 1\n",
    "    for bin_value in classifier._lookup_table[:,0]:\n",
    "        function_body += \"\\t\" + str(bin_value) +\" , \"\n",
    "        if (row_nb % numbers_per_row) == 0:\n",
    "            function_body += \"\\n\"\n",
    "        row_nb += 1\n",
    "    \n",
    "    function_body += \"\"\"\\n };\n",
    "return indicesVector;\n",
    "}\n",
    "    \"\"\"\n",
    "    return function_body"
   ]
  },
  {
   "cell_type": "markdown",
   "metadata": {},
   "source": [
    "Write lookup table to c++ text file. \n",
    "----------\n",
    "The size of this file is huge ~ 500 MB! \n"
   ]
  },
  {
   "cell_type": "code",
   "execution_count": 52,
   "metadata": {
    "collapsed": false
   },
   "outputs": [],
   "source": [
    "file = open(\"models/cpp/PatBBDTSeedClassifier_lookupTable.cpp\", 'w')\n",
    "file.write(generate_initLookupTable_function())\n",
    "file.close()"
   ]
  },
  {
   "cell_type": "markdown",
   "metadata": {},
   "source": [
    "Write lookup table to binary file\n",
    "------------\n",
    "I need to figure out how to use this approach to deploy model in C++. "
   ]
  },
  {
   "cell_type": "code",
   "execution_count": 28,
   "metadata": {
    "collapsed": false
   },
   "outputs": [],
   "source": [
    "file = open(\"models/BBDT_lookuptable.dat\", 'wb')\n",
    "table = numpy.array(classifier._lookup_table[:,0])\n",
    "table.tofile(file)\n",
    "file.close()"
   ]
  },
  {
   "cell_type": "markdown",
   "metadata": {},
   "source": [
    "Now you can go to the next model - [Logistic Regression](https://github.com/adendek/DownstreamTracking/blob/master/SeedClasifier/LogisticRegression.ipynb)    \n",
    "========="
   ]
  }
 ],
 "metadata": {
  "kernelspec": {
   "display_name": "Python 2",
   "language": "python",
   "name": "python2"
  },
  "language_info": {
   "codemirror_mode": {
    "name": "ipython",
    "version": 2
   },
   "file_extension": ".py",
   "mimetype": "text/x-python",
   "name": "python",
   "nbconvert_exporter": "python",
   "pygments_lexer": "ipython2",
   "version": "2.7.10"
  }
 },
 "nbformat": 4,
 "nbformat_minor": 0
}

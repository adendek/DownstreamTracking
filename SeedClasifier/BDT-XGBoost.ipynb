{
 "cells": [
  {
   "cell_type": "markdown",
   "metadata": {},
   "source": [
    "Study of the T-seed selection using BDT- XGBoost classifier\n",
    "-----------------------------\n",
    "This script contains all of my study based on **BDT - [XGBoost](https://github.com/dmlc/xgboost)**.  \n",
    "I want to compare results of sklearn's GradientBoostedClassifier and XGBoost.  \n",
    "[Rumour](https://github.com/dmlc/xgboost/blob/master/demo/README.md) has it that XGBoost is better than sklern's Gradient Boosted Classifier. We will see.  \n",
    "The study contains simmilar steps as Baseline-BDT. \n",
    "\n",
    "Study roadmap \n",
    "--------------\n",
    "1. Train  the first version of XGBoost with default parameters and without any features engeenering. Just to know baseline score. \n",
    "2. Add basic features transforamtion eg. pseudorapidity and abs. \n",
    "3. Tune hiperparameters at first number of trees and learining rate\n",
    "4. Try to balance training dataset\n",
    "4. Add linear combination and features's ratios  \n",
    "   4.1 See at the learning curve. If needed perform step 3 for the new dataset.  \n",
    "5. Speedup the algorithm using idea of [bonsai Decision Trees](http://arxiv.org/pdf/1210.6861v1.pdf)  \n",
    "   I will use implementation of bBDT from [hep_ml](https://github.com/arogozhnikov/hep_ml/blob/master/hep_ml/speedup.py). \n",
    "\n",
    "The reslut to beat is 0.8131906\n",
    "-----------\n"
   ]
  },
  {
   "cell_type": "code",
   "execution_count": 1,
   "metadata": {
    "collapsed": false
   },
   "outputs": [
    {
     "name": "stdout",
     "output_type": "stream",
     "text": [
      "kernel is alive!\n"
     ]
    }
   ],
   "source": [
    "print (\"kernel is alive!\")"
   ]
  },
  {
   "cell_type": "code",
   "execution_count": 3,
   "metadata": {
    "collapsed": false
   },
   "outputs": [],
   "source": [
    "import root_numpy\n",
    "import pandas as pd\n",
    "import numpy\n",
    "import matplotlib.pyplot as plt\n",
    "import ROOT\n",
    "%matplotlib inline\n",
    "\n",
    "import warnings # current version of seaborn generates a bunch of warnings that we'll ignore\n",
    "warnings.filterwarnings(\"ignore\")\n",
    "import seaborn as sns\n",
    "\n",
    "#sklearn imports \n",
    "from sklearn.cross_validation import train_test_split\n",
    "from sklearn.metrics import roc_auc_score\n",
    "from sklearn.pipeline import Pipeline\n",
    "from sklearn.preprocessing import StandardScaler\n",
    "from sklearn import cross_validation\n",
    "from sklearn.metrics import roc_curve, auc\n",
    "from sklearn import grid_search\n",
    "from sklearn.metrics import classification_report\n",
    "\n",
    "from sklearn.externals import joblib\n",
    "\n",
    "import xgboost as xgb\n",
    "\n",
    "from hep_ml.speedup import LookupClassifier"
   ]
  },
  {
   "cell_type": "markdown",
   "metadata": {},
   "source": [
    "As a very first step I need to grab training data form the NTpule. \n",
    "--------------------------"
   ]
  },
  {
   "cell_type": "code",
   "execution_count": 4,
   "metadata": {
    "collapsed": false
   },
   "outputs": [
    {
     "data": {
      "text/html": [
       "<div style=\"max-height:1000px;max-width:1500px;overflow:auto;\">\n",
       "<table border=\"1\" class=\"dataframe\">\n",
       "  <thead>\n",
       "    <tr style=\"text-align: right;\">\n",
       "      <th></th>\n",
       "      <th>is_true_seed</th>\n",
       "      <th>seed_chi2PerDoF</th>\n",
       "      <th>seed_p</th>\n",
       "      <th>seed_pt</th>\n",
       "      <th>seed_nLHCbIDs</th>\n",
       "      <th>seed_nbIT</th>\n",
       "      <th>seed_nLayers</th>\n",
       "      <th>seed_x</th>\n",
       "      <th>seed_y</th>\n",
       "      <th>seed_tx</th>\n",
       "      <th>seed_ty</th>\n",
       "    </tr>\n",
       "  </thead>\n",
       "  <tbody>\n",
       "    <tr>\n",
       "      <th>0</th>\n",
       "      <td>False</td>\n",
       "      <td>1.213708</td>\n",
       "      <td>2543.471925</td>\n",
       "      <td>1187.267858</td>\n",
       "      <td>25</td>\n",
       "      <td>0</td>\n",
       "      <td>12</td>\n",
       "      <td>-1263.157617</td>\n",
       "      <td>-517.249191</td>\n",
       "      <td>-0.524220</td>\n",
       "      <td>-0.061572</td>\n",
       "    </tr>\n",
       "    <tr>\n",
       "      <th>1</th>\n",
       "      <td>False</td>\n",
       "      <td>1.346112</td>\n",
       "      <td>2781.485771</td>\n",
       "      <td>1204.396954</td>\n",
       "      <td>25</td>\n",
       "      <td>0</td>\n",
       "      <td>12</td>\n",
       "      <td>1264.522435</td>\n",
       "      <td>-99.363473</td>\n",
       "      <td>0.480288</td>\n",
       "      <td>-0.009081</td>\n",
       "    </tr>\n",
       "    <tr>\n",
       "      <th>2</th>\n",
       "      <td>False</td>\n",
       "      <td>1.627632</td>\n",
       "      <td>4769.446536</td>\n",
       "      <td>1708.511389</td>\n",
       "      <td>25</td>\n",
       "      <td>0</td>\n",
       "      <td>12</td>\n",
       "      <td>-1521.093160</td>\n",
       "      <td>-196.064807</td>\n",
       "      <td>-0.382802</td>\n",
       "      <td>-0.025975</td>\n",
       "    </tr>\n",
       "    <tr>\n",
       "      <th>3</th>\n",
       "      <td>False</td>\n",
       "      <td>1.789231</td>\n",
       "      <td>5202.918132</td>\n",
       "      <td>1823.936187</td>\n",
       "      <td>25</td>\n",
       "      <td>0</td>\n",
       "      <td>12</td>\n",
       "      <td>-1563.145597</td>\n",
       "      <td>-483.850246</td>\n",
       "      <td>-0.369674</td>\n",
       "      <td>-0.058753</td>\n",
       "    </tr>\n",
       "    <tr>\n",
       "      <th>4</th>\n",
       "      <td>True</td>\n",
       "      <td>1.269238</td>\n",
       "      <td>2300.960611</td>\n",
       "      <td>1252.585447</td>\n",
       "      <td>24</td>\n",
       "      <td>0</td>\n",
       "      <td>12</td>\n",
       "      <td>-1641.727752</td>\n",
       "      <td>-411.084316</td>\n",
       "      <td>-0.646627</td>\n",
       "      <td>-0.054980</td>\n",
       "    </tr>\n",
       "  </tbody>\n",
       "</table>\n",
       "</div>"
      ],
      "text/plain": [
       "  is_true_seed  seed_chi2PerDoF       seed_p      seed_pt  seed_nLHCbIDs  \\\n",
       "0        False         1.213708  2543.471925  1187.267858             25   \n",
       "1        False         1.346112  2781.485771  1204.396954             25   \n",
       "2        False         1.627632  4769.446536  1708.511389             25   \n",
       "3        False         1.789231  5202.918132  1823.936187             25   \n",
       "4         True         1.269238  2300.960611  1252.585447             24   \n",
       "\n",
       "   seed_nbIT  seed_nLayers       seed_x      seed_y   seed_tx   seed_ty  \n",
       "0          0            12 -1263.157617 -517.249191 -0.524220 -0.061572  \n",
       "1          0            12  1264.522435  -99.363473  0.480288 -0.009081  \n",
       "2          0            12 -1521.093160 -196.064807 -0.382802 -0.025975  \n",
       "3          0            12 -1563.145597 -483.850246 -0.369674 -0.058753  \n",
       "4          0            12 -1641.727752 -411.084316 -0.646627 -0.054980  "
      ]
     },
     "execution_count": 4,
     "metadata": {},
     "output_type": "execute_result"
    }
   ],
   "source": [
    "root_file = ROOT.TFile(\"datasets/Brunel_test_30kev.root\")\n",
    "root_file.cd(\"ToolSvc.PatDebugTTTruthTool\")\n",
    "tree = ROOT.gDirectory.Get(\"DownstreamSeedDebugTuple\")\n",
    "data = pd.DataFrame(root_numpy.tree2array(tree))\n",
    "\n",
    "target = data.is_true_seed\n",
    "features = data.drop(\"is_true_seed\", axis=1).astype(numpy.float64)\n",
    "data.head()"
   ]
  },
  {
   "cell_type": "markdown",
   "metadata": {},
   "source": [
    "Split data into train and validation sets\n",
    "----------------------"
   ]
  },
  {
   "cell_type": "code",
   "execution_count": 5,
   "metadata": {
    "collapsed": false
   },
   "outputs": [],
   "source": [
    "trainX, testX, trainY, testY = train_test_split(features, target, random_state=42,train_size=0.5 )"
   ]
  },
  {
   "cell_type": "code",
   "execution_count": null,
   "metadata": {
    "collapsed": false
   },
   "outputs": [],
   "source": [
    "gb = xgb.XGBClassifier(max_depth=6, learning_rate=0.1,n_estimators = 100)\n",
    "gb.fit(trainX,trainY)"
   ]
  },
  {
   "cell_type": "code",
   "execution_count": 9,
   "metadata": {
    "collapsed": false
   },
   "outputs": [
    {
     "name": "stdout",
     "output_type": "stream",
     "text": [
      "ROC AUC score\n"
     ]
    },
    {
     "data": {
      "text/plain": [
       "0.79019802348145729"
      ]
     },
     "execution_count": 9,
     "metadata": {},
     "output_type": "execute_result"
    }
   ],
   "source": [
    "print \"ROC AUC score\"\n",
    "roc_auc_score(testY, gb.predict_proba(testX)[:, 1])"
   ]
  },
  {
   "cell_type": "code",
   "execution_count": 10,
   "metadata": {
    "collapsed": false
   },
   "outputs": [
    {
     "data": {
      "image/png": "[encoded data removed]",
      "text/plain": [
       "<matplotlib.figure.Figure at 0x7f4c47a90590>"
      ]
     },
     "metadata": {},
     "output_type": "display_data"
    }
   ],
   "source": [
    "plt.figure(figsize=[6, 6])\n",
    "fpr, tpr, thresholds = roc_curve(testY, gb.predict_proba(testX)[:, 1])\n",
    "roc_auc = auc(fpr, tpr)\n",
    "plt.plot(fpr, tpr, lw=1, label='ROC BDT (area = %0.2f)'%(roc_auc))\n",
    "plt.plot([0, 1], [0, 1], '--', color=(0.6, 0.6, 0.6), label='no discrimination')\n",
    "plt.xlim([-0.05, 1.05])\n",
    "plt.ylim([-0.05, 1.05])\n",
    "plt.xlabel('False Positive Rate')\n",
    "plt.ylabel('True Positive Rate')\n",
    "plt.title('Receiver operating characteristic')\n",
    "plt.legend(loc=\"lower right\")\n",
    "plt.grid()\n",
    "plt.show()"
   ]
  },
  {
   "cell_type": "markdown",
   "metadata": {},
   "source": [
    "Check importance of the features based on the BDT. "
   ]
  },
  {
   "cell_type": "markdown",
   "metadata": {},
   "source": [
    "Feature Engenering\n",
    "======================\n",
    "Add transformated features\n",
    "-------------------\n",
    "At the begining let's try some very basic feature transformation. \n",
    "I also add pseudorapidity and seed_r"
   ]
  },
  {
   "cell_type": "code",
   "execution_count": 6,
   "metadata": {
    "collapsed": false
   },
   "outputs": [],
   "source": [
    "def basic_transforamtion(data):\n",
    "    #abs transformation\n",
    "    out = data\n",
    "    out[\"abs_seed_x\"]=numpy.abs(data['seed_x'])\n",
    "    out[\"abs_seed_y\"]=numpy.abs(data['seed_y'])\n",
    "    out[\"abs_seed_tx\"]=numpy.abs(data['seed_tx'])\n",
    "    out[\"abs_seed_ty\"]=numpy.abs(data['seed_ty'])\n",
    "    out['seed_r'] = numpy.sqrt(numpy.square(data.seed_x) +numpy.square(data.seed_y))    \n",
    "    out['pseudo_rapidity'] = numpy.arctanh(data.seed_pt/data.seed_p)\n",
    "    return out"
   ]
  },
  {
   "cell_type": "code",
   "execution_count": 7,
   "metadata": {
    "collapsed": false
   },
   "outputs": [
    {
     "data": {
      "text/html": [
       "<div style=\"max-height:1000px;max-width:1500px;overflow:auto;\">\n",
       "<table border=\"1\" class=\"dataframe\">\n",
       "  <thead>\n",
       "    <tr style=\"text-align: right;\">\n",
       "      <th></th>\n",
       "      <th>seed_chi2PerDoF</th>\n",
       "      <th>seed_p</th>\n",
       "      <th>seed_pt</th>\n",
       "      <th>seed_nLHCbIDs</th>\n",
       "      <th>seed_nbIT</th>\n",
       "      <th>seed_nLayers</th>\n",
       "      <th>seed_x</th>\n",
       "      <th>seed_y</th>\n",
       "      <th>seed_tx</th>\n",
       "      <th>seed_ty</th>\n",
       "      <th>abs_seed_x</th>\n",
       "      <th>abs_seed_y</th>\n",
       "      <th>abs_seed_tx</th>\n",
       "      <th>abs_seed_ty</th>\n",
       "      <th>seed_r</th>\n",
       "      <th>pseudo_rapidity</th>\n",
       "    </tr>\n",
       "  </thead>\n",
       "  <tbody>\n",
       "    <tr>\n",
       "      <th>0</th>\n",
       "      <td>1.213708</td>\n",
       "      <td>2543.471925</td>\n",
       "      <td>1187.267858</td>\n",
       "      <td>25</td>\n",
       "      <td>0</td>\n",
       "      <td>12</td>\n",
       "      <td>-1263.157617</td>\n",
       "      <td>-517.249191</td>\n",
       "      <td>-0.524220</td>\n",
       "      <td>-0.061572</td>\n",
       "      <td>1263.157617</td>\n",
       "      <td>517.249191</td>\n",
       "      <td>0.524220</td>\n",
       "      <td>0.061572</td>\n",
       "      <td>1364.959300</td>\n",
       "      <td>0.505958</td>\n",
       "    </tr>\n",
       "    <tr>\n",
       "      <th>1</th>\n",
       "      <td>1.346112</td>\n",
       "      <td>2781.485771</td>\n",
       "      <td>1204.396954</td>\n",
       "      <td>25</td>\n",
       "      <td>0</td>\n",
       "      <td>12</td>\n",
       "      <td>1264.522435</td>\n",
       "      <td>-99.363473</td>\n",
       "      <td>0.480288</td>\n",
       "      <td>-0.009081</td>\n",
       "      <td>1264.522435</td>\n",
       "      <td>99.363473</td>\n",
       "      <td>0.480288</td>\n",
       "      <td>0.009081</td>\n",
       "      <td>1268.420312</td>\n",
       "      <td>0.463589</td>\n",
       "    </tr>\n",
       "    <tr>\n",
       "      <th>2</th>\n",
       "      <td>1.627632</td>\n",
       "      <td>4769.446536</td>\n",
       "      <td>1708.511389</td>\n",
       "      <td>25</td>\n",
       "      <td>0</td>\n",
       "      <td>12</td>\n",
       "      <td>-1521.093160</td>\n",
       "      <td>-196.064807</td>\n",
       "      <td>-0.382802</td>\n",
       "      <td>-0.025975</td>\n",
       "      <td>1521.093160</td>\n",
       "      <td>196.064807</td>\n",
       "      <td>0.382802</td>\n",
       "      <td>0.025975</td>\n",
       "      <td>1533.677219</td>\n",
       "      <td>0.374842</td>\n",
       "    </tr>\n",
       "    <tr>\n",
       "      <th>3</th>\n",
       "      <td>1.789231</td>\n",
       "      <td>5202.918132</td>\n",
       "      <td>1823.936187</td>\n",
       "      <td>25</td>\n",
       "      <td>0</td>\n",
       "      <td>12</td>\n",
       "      <td>-1563.145597</td>\n",
       "      <td>-483.850246</td>\n",
       "      <td>-0.369674</td>\n",
       "      <td>-0.058753</td>\n",
       "      <td>1563.145597</td>\n",
       "      <td>483.850246</td>\n",
       "      <td>0.369674</td>\n",
       "      <td>0.058753</td>\n",
       "      <td>1636.317578</td>\n",
       "      <td>0.366082</td>\n",
       "    </tr>\n",
       "    <tr>\n",
       "      <th>4</th>\n",
       "      <td>1.269238</td>\n",
       "      <td>2300.960611</td>\n",
       "      <td>1252.585447</td>\n",
       "      <td>24</td>\n",
       "      <td>0</td>\n",
       "      <td>12</td>\n",
       "      <td>-1641.727752</td>\n",
       "      <td>-411.084316</td>\n",
       "      <td>-0.646627</td>\n",
       "      <td>-0.054980</td>\n",
       "      <td>1641.727752</td>\n",
       "      <td>411.084316</td>\n",
       "      <td>0.646627</td>\n",
       "      <td>0.054980</td>\n",
       "      <td>1692.412576</td>\n",
       "      <td>0.610352</td>\n",
       "    </tr>\n",
       "  </tbody>\n",
       "</table>\n",
       "</div>"
      ],
      "text/plain": [
       "   seed_chi2PerDoF       seed_p      seed_pt  seed_nLHCbIDs  seed_nbIT  \\\n",
       "0         1.213708  2543.471925  1187.267858             25          0   \n",
       "1         1.346112  2781.485771  1204.396954             25          0   \n",
       "2         1.627632  4769.446536  1708.511389             25          0   \n",
       "3         1.789231  5202.918132  1823.936187             25          0   \n",
       "4         1.269238  2300.960611  1252.585447             24          0   \n",
       "\n",
       "   seed_nLayers       seed_x      seed_y   seed_tx   seed_ty   abs_seed_x  \\\n",
       "0            12 -1263.157617 -517.249191 -0.524220 -0.061572  1263.157617   \n",
       "1            12  1264.522435  -99.363473  0.480288 -0.009081  1264.522435   \n",
       "2            12 -1521.093160 -196.064807 -0.382802 -0.025975  1521.093160   \n",
       "3            12 -1563.145597 -483.850246 -0.369674 -0.058753  1563.145597   \n",
       "4            12 -1641.727752 -411.084316 -0.646627 -0.054980  1641.727752   \n",
       "\n",
       "   abs_seed_y  abs_seed_tx  abs_seed_ty       seed_r  pseudo_rapidity  \n",
       "0  517.249191     0.524220     0.061572  1364.959300         0.505958  \n",
       "1   99.363473     0.480288     0.009081  1268.420312         0.463589  \n",
       "2  196.064807     0.382802     0.025975  1533.677219         0.374842  \n",
       "3  483.850246     0.369674     0.058753  1636.317578         0.366082  \n",
       "4  411.084316     0.646627     0.054980  1692.412576         0.610352  "
      ]
     },
     "execution_count": 7,
     "metadata": {},
     "output_type": "execute_result"
    }
   ],
   "source": [
    "new_data = basic_transforamtion(data)\n",
    "new_features = new_data.drop(\"is_true_seed\", axis=1).astype(numpy.float64)\n",
    "new_features.head()"
   ]
  },
  {
   "cell_type": "code",
   "execution_count": 15,
   "metadata": {
    "collapsed": true
   },
   "outputs": [],
   "source": [
    "new_trainX, new_testX, new_trainY, new_testY = train_test_split(new_features, target, random_state=42,train_size=0.5 )"
   ]
  },
  {
   "cell_type": "code",
   "execution_count": 19,
   "metadata": {
    "collapsed": false
   },
   "outputs": [
    {
     "data": {
      "text/plain": [
       "XGBClassifier(base_score=0.5, colsample_bylevel=1, colsample_bytree=1,\n",
       "       gamma=0, learning_rate=0.1, max_delta_step=0, max_depth=6,\n",
       "       min_child_weight=1, missing=None, n_estimators=100, nthread=-1,\n",
       "       objective='binary:logistic', reg_alpha=0, reg_lambda=1,\n",
       "       scale_pos_weight=1, seed=0, silent=True, subsample=0.8)"
      ]
     },
     "execution_count": 19,
     "metadata": {},
     "output_type": "execute_result"
    }
   ],
   "source": [
    "gb2 = xgb.XGBClassifier(learning_rate=0.1, n_estimators=100, subsample=0.8, max_depth=6)\n",
    "gb2.fit(new_trainX,new_trainY)"
   ]
  },
  {
   "cell_type": "code",
   "execution_count": 20,
   "metadata": {
    "collapsed": false
   },
   "outputs": [
    {
     "data": {
      "text/plain": [
       "0.80090517263682215"
      ]
     },
     "execution_count": 20,
     "metadata": {},
     "output_type": "execute_result"
    }
   ],
   "source": [
    "roc_auc_score(new_testY, gb2.predict_proba(new_testX)[:, 1])"
   ]
  },
  {
   "cell_type": "code",
   "execution_count": 21,
   "metadata": {
    "collapsed": false
   },
   "outputs": [
    {
     "data": {
      "image/png": "[encoded data removed]",
      "text/plain": [
       "<matplotlib.figure.Figure at 0x7f4c883fb2d0>"
      ]
     },
     "metadata": {},
     "output_type": "display_data"
    }
   ],
   "source": [
    "plt.figure(figsize=[6, 6])\n",
    "fpr, tpr, thresholds = roc_curve(new_testY, gb2.predict_proba(new_testX)[:, 1])\n",
    "roc_auc = auc(fpr, tpr)\n",
    "plt.plot(fpr, tpr, lw=1, label='ROC BDT (area = %0.2f)'%(roc_auc))\n",
    "plt.plot([0, 1], [0, 1], '--', color=(0.6, 0.6, 0.6), label='no discrimination')\n",
    "plt.xlim([-0.05, 1.05])\n",
    "plt.ylim([-0.05, 1.05])\n",
    "plt.xlabel('False Positive Rate')\n",
    "plt.ylabel('True Positive Rate')\n",
    "plt.title('Receiver operating characteristic')\n",
    "plt.legend(loc=\"lower right\")\n",
    "plt.grid()\n",
    "plt.show()"
   ]
  },
  {
   "cell_type": "markdown",
   "metadata": {},
   "source": [
    "Hyperparameters optimalization\n",
    "----------------\n",
    "Let's improve it by serching for the best hyperparameters values. \n",
    "In the first iteration I want to find the best values of following hyperparameters \n",
    "* The cosidered range of n_estimators is between 50 and 250, step = 50\n",
    "* learning rate in range 0.01-3 with semilogaritmic step\n",
    "\n",
    "I use only 10% of data for grid search. Should be enough.\n"
   ]
  },
  {
   "cell_type": "code",
   "execution_count": 7,
   "metadata": {
    "collapsed": false
   },
   "outputs": [
    {
     "name": "stdout",
     "output_type": "stream",
     "text": [
      "{'n_estimators': [50, 100, 150, 200, 250], 'learning_rate': [0.01, 0.03, 0.1, 0.3, 1]}\n",
      "Fitting 3 folds for each of 25 candidates, totalling 75 fits\n",
      "[CV] n_estimators=50, learning_rate=0.01 .............................\n",
      "[CV] n_estimators=50, learning_rate=0.01 .............................\n",
      "[CV] n_estimators=50, learning_rate=0.01 .............................\n",
      "[CV] n_estimators=100, learning_rate=0.01 ............................\n",
      "[CV] n_estimators=100, learning_rate=0.01 ............................\n",
      "[CV] n_estimators=100, learning_rate=0.01 ............................\n",
      "[CV] n_estimators=150, learning_rate=0.01 ............................\n",
      "[CV] n_estimators=150, learning_rate=0.01 ............................\n",
      "[CV] .... n_estimators=50, learning_rate=0.01, score=0.738884 -  48.3s\n"
     ]
    },
    {
     "name": "stderr",
     "output_type": "stream",
     "text": [
      "[Parallel(n_jobs=8)]: Done   1 jobs       | elapsed:   49.4s\n"
     ]
    },
    {
     "name": "stdout",
     "output_type": "stream",
     "text": [
      "[CV] n_estimators=150, learning_rate=0.01 ............................\n",
      "[CV] .... n_estimators=50, learning_rate=0.01, score=0.740385 -  48.7s\n",
      "[CV] n_estimators=200, learning_rate=0.01 ............................\n",
      "[CV] .... n_estimators=50, learning_rate=0.01, score=0.741720 -  50.8s\n",
      "[CV] n_estimators=200, learning_rate=0.01 ............................\n",
      "[CV] ... n_estimators=100, learning_rate=0.01, score=0.742955 - 1.7min\n",
      "[CV] n_estimators=200, learning_rate=0.01 ............................\n",
      "[CV] ... n_estimators=100, learning_rate=0.01, score=0.741665 - 1.8min\n",
      "[CV] n_estimators=250, learning_rate=0.01 ............................\n",
      "[CV] ... n_estimators=100, learning_rate=0.01, score=0.745500 - 1.8min\n",
      "[CV] n_estimators=250, learning_rate=0.01 ............................\n",
      "[CV] ... n_estimators=150, learning_rate=0.01, score=0.744525 - 2.7min\n",
      "[CV] n_estimators=250, learning_rate=0.01 ............................\n",
      "[CV] ... n_estimators=150, learning_rate=0.01, score=0.746119 - 2.7min\n",
      "[CV] n_estimators=50, learning_rate=0.03 .............................\n",
      "[CV] ... n_estimators=150, learning_rate=0.01, score=0.747343 - 2.6min\n",
      "[CV] n_estimators=50, learning_rate=0.03 .............................\n",
      "[CV] .... n_estimators=50, learning_rate=0.03, score=0.744408 -  49.8s\n",
      "[CV] n_estimators=50, learning_rate=0.03 .............................\n",
      "[CV] ... n_estimators=200, learning_rate=0.01, score=0.747906 - 3.4min\n",
      "[CV] n_estimators=100, learning_rate=0.03 ............................\n",
      "[CV] .... n_estimators=50, learning_rate=0.03, score=0.746350 -  50.4s\n",
      "[CV] n_estimators=100, learning_rate=0.03 ............................\n",
      "[CV] ... n_estimators=200, learning_rate=0.01, score=0.750763 - 3.5min\n",
      "[CV] n_estimators=100, learning_rate=0.03 ............................\n",
      "[CV] .... n_estimators=50, learning_rate=0.03, score=0.747365 -  51.7s\n",
      "[CV] n_estimators=150, learning_rate=0.03 ............................\n",
      "[CV] ... n_estimators=200, learning_rate=0.01, score=0.751196 - 3.5min\n",
      "[CV] n_estimators=150, learning_rate=0.03 ............................\n",
      "[CV] ... n_estimators=100, learning_rate=0.03, score=0.754097 - 2.0min\n",
      "[CV] n_estimators=150, learning_rate=0.03 ............................\n",
      "[CV] ... n_estimators=100, learning_rate=0.03, score=0.757661 - 1.9min\n",
      "[CV] ... n_estimators=100, learning_rate=0.03, score=0.758163 - 2.0min\n",
      "[CV] n_estimators=200, learning_rate=0.03 ............................\n",
      "[CV] n_estimators=200, learning_rate=0.03 ............................\n",
      "[CV] ... n_estimators=250, learning_rate=0.01, score=0.754554 - 4.5min\n",
      "[CV] n_estimators=200, learning_rate=0.03 ............................\n",
      "[CV] ... n_estimators=250, learning_rate=0.01, score=0.750746 - 4.6min\n",
      "[CV] n_estimators=250, learning_rate=0.03 ............................\n",
      "[CV] ... n_estimators=250, learning_rate=0.01, score=0.754808 - 4.7min\n",
      "[CV] ... n_estimators=150, learning_rate=0.03, score=0.764129 - 3.0min\n",
      "[CV] n_estimators=250, learning_rate=0.03 ............................\n",
      "[CV] n_estimators=250, learning_rate=0.03 ............................\n",
      "[CV] ... n_estimators=150, learning_rate=0.03, score=0.768566 - 2.9min\n",
      "[CV] n_estimators=50, learning_rate=0.1 ..............................\n",
      "[CV] ..... n_estimators=50, learning_rate=0.1, score=0.766805 - 1.0min\n",
      "[CV] n_estimators=50, learning_rate=0.1 ..............................\n",
      "[CV] ... n_estimators=150, learning_rate=0.03, score=0.769724 - 3.0min\n",
      "[CV] n_estimators=50, learning_rate=0.1 ..............................\n",
      "[CV] ... n_estimators=200, learning_rate=0.03, score=0.772872 - 3.9min\n",
      "[CV] n_estimators=100, learning_rate=0.1 .............................\n",
      "[CV] ..... n_estimators=50, learning_rate=0.1, score=0.769565 - 1.0min\n"
     ]
    },
    {
     "name": "stderr",
     "output_type": "stream",
     "text": [
      "[Parallel(n_jobs=8)]: Done  32 jobs       | elapsed: 10.3min\n"
     ]
    },
    {
     "name": "stdout",
     "output_type": "stream",
     "text": [
      "[CV] n_estimators=100, learning_rate=0.1 .............................\n",
      "[CV] ... n_estimators=200, learning_rate=0.03, score=0.774847 - 4.0min\n",
      "[CV] ..... n_estimators=50, learning_rate=0.1, score=0.772185 - 1.0min\n",
      "[CV] n_estimators=100, learning_rate=0.1 .............................\n",
      "[CV] n_estimators=150, learning_rate=0.1 .............................\n",
      "[CV] ... n_estimators=200, learning_rate=0.03, score=0.769898 - 4.1min\n",
      "[CV] n_estimators=150, learning_rate=0.1 .............................\n",
      "[CV] ... n_estimators=250, learning_rate=0.03, score=0.772692 - 4.7min\n",
      "[CV] n_estimators=150, learning_rate=0.1 .............................\n",
      "[CV] .... n_estimators=100, learning_rate=0.1, score=0.780142 - 1.7min\n",
      "[CV] n_estimators=200, learning_rate=0.1 .............................\n",
      "[CV] .... n_estimators=100, learning_rate=0.1, score=0.775639 - 1.8min\n",
      "[CV] n_estimators=200, learning_rate=0.1 .............................\n",
      "[CV] .... n_estimators=100, learning_rate=0.1, score=0.779923 - 1.8min\n",
      "[CV] n_estimators=200, learning_rate=0.1 .............................\n",
      "[CV] ... n_estimators=250, learning_rate=0.03, score=0.776199 - 4.6min\n",
      "[CV] n_estimators=250, learning_rate=0.1 .............................\n",
      "[CV] ... n_estimators=250, learning_rate=0.03, score=0.777533 - 4.6min\n",
      "[CV] n_estimators=250, learning_rate=0.1 .............................\n",
      "[CV] .... n_estimators=150, learning_rate=0.1, score=0.778167 - 2.6min\n",
      "[CV] n_estimators=250, learning_rate=0.1 .............................\n",
      "[CV] .... n_estimators=150, learning_rate=0.1, score=0.783733 - 2.6min\n",
      "[CV] n_estimators=50, learning_rate=0.3 ..............................\n",
      "[CV] .... n_estimators=150, learning_rate=0.1, score=0.782792 - 2.6min\n",
      "[CV] n_estimators=50, learning_rate=0.3 ..............................\n",
      "[CV] ..... n_estimators=50, learning_rate=0.3, score=0.776853 -  52.6s\n",
      "[CV] n_estimators=50, learning_rate=0.3 ..............................\n",
      "[CV] ..... n_estimators=50, learning_rate=0.3, score=0.782674 -  54.1s\n",
      "[CV] n_estimators=100, learning_rate=0.3 .............................\n",
      "[CV] ..... n_estimators=50, learning_rate=0.3, score=0.781464 -  55.2s\n",
      "[CV] n_estimators=100, learning_rate=0.3 .............................\n",
      "[CV] .... n_estimators=200, learning_rate=0.1, score=0.780146 - 3.4min\n",
      "[CV] .... n_estimators=200, learning_rate=0.1, score=0.785995 - 3.4min\n",
      "[CV] n_estimators=100, learning_rate=0.3 .............................\n",
      "[CV] .... n_estimators=200, learning_rate=0.1, score=0.784805 - 3.4min\n",
      "[CV] n_estimators=150, learning_rate=0.3 .............................\n",
      "[CV] n_estimators=150, learning_rate=0.3 .............................\n",
      "[CV] .... n_estimators=250, learning_rate=0.1, score=0.787625 - 4.2min\n",
      "[CV] n_estimators=150, learning_rate=0.3 .............................\n",
      "[CV] .... n_estimators=100, learning_rate=0.3, score=0.788239 - 1.6min\n",
      "[CV] .... n_estimators=100, learning_rate=0.3, score=0.782710 - 1.7min\n",
      "[CV] n_estimators=200, learning_rate=0.3 .............................\n",
      "[CV] .... n_estimators=250, learning_rate=0.1, score=0.781930 - 4.3min\n",
      "[CV] n_estimators=200, learning_rate=0.3 .............................\n",
      "[CV] n_estimators=200, learning_rate=0.3 .............................\n",
      "[CV] .... n_estimators=100, learning_rate=0.3, score=0.785901 - 1.7min\n",
      "[CV] n_estimators=250, learning_rate=0.3 .............................\n",
      "[CV] .... n_estimators=250, learning_rate=0.1, score=0.786246 - 4.2min\n",
      "[CV] n_estimators=250, learning_rate=0.3 .............................\n",
      "[CV] .... n_estimators=150, learning_rate=0.3, score=0.784531 - 2.4min\n",
      "[CV] n_estimators=250, learning_rate=0.3 .............................\n",
      "[CV] .... n_estimators=150, learning_rate=0.3, score=0.791776 - 2.4min\n",
      "[CV] n_estimators=50, learning_rate=1 ................................\n",
      "[CV] ....... n_estimators=50, learning_rate=1, score=0.782091 -  52.1s\n",
      "[CV] n_estimators=50, learning_rate=1 ................................\n",
      "[CV] .... n_estimators=150, learning_rate=0.3, score=0.791307 - 2.6min\n",
      "[CV] n_estimators=50, learning_rate=1 ................................\n",
      "[CV] ....... n_estimators=50, learning_rate=1, score=0.780813 -  49.2s\n",
      "[CV] n_estimators=100, learning_rate=1 ...............................\n",
      "[CV] .... n_estimators=200, learning_rate=0.3, score=0.786817 - 3.4min\n",
      "[CV] ....... n_estimators=50, learning_rate=1, score=0.779253 -  51.8s\n",
      "[CV] .... n_estimators=200, learning_rate=0.3, score=0.793571 - 3.3min\n",
      "[CV] n_estimators=100, learning_rate=1 ...............................\n",
      "[CV] n_estimators=100, learning_rate=1 ...............................\n",
      "[CV] n_estimators=150, learning_rate=1 ...............................\n",
      "[CV] .... n_estimators=200, learning_rate=0.3, score=0.793266 - 3.4min\n",
      "[CV] n_estimators=150, learning_rate=1 ...............................\n",
      "[CV] .... n_estimators=250, learning_rate=0.3, score=0.787847 - 4.1min\n",
      "[CV] n_estimators=150, learning_rate=1 ...............................\n",
      "[CV] ...... n_estimators=100, learning_rate=1, score=0.783583 - 1.7min\n",
      "[CV] n_estimators=200, learning_rate=1 ...............................\n",
      "[CV] .... n_estimators=250, learning_rate=0.3, score=0.795621 - 4.1min\n",
      "[CV] n_estimators=200, learning_rate=1 ...............................\n",
      "[CV] ...... n_estimators=100, learning_rate=1, score=0.781340 - 1.7min\n",
      "[CV] n_estimators=200, learning_rate=1 ...............................\n",
      "[CV] ...... n_estimators=100, learning_rate=1, score=0.777204 - 1.7min\n",
      "[CV] n_estimators=250, learning_rate=1 ...............................\n",
      "[CV] .... n_estimators=250, learning_rate=0.3, score=0.795745 - 4.2min\n",
      "[CV] n_estimators=250, learning_rate=1 ...............................\n",
      "[CV] ...... n_estimators=150, learning_rate=1, score=0.780914 - 2.5min\n",
      "[CV] ...... n_estimators=150, learning_rate=1, score=0.779562 - 2.4min\n",
      "[CV] n_estimators=250, learning_rate=1 ...............................\n",
      "[CV] ...... n_estimators=150, learning_rate=1, score=0.782920 - 2.3min\n",
      "[CV] ...... n_estimators=200, learning_rate=1, score=0.780285 - 3.0min\n",
      "[CV] ...... n_estimators=200, learning_rate=1, score=0.776097 - 3.0min\n",
      "[CV] ...... n_estimators=200, learning_rate=1, score=0.779976 - 2.9min\n",
      "[CV] ...... n_estimators=250, learning_rate=1, score=0.777187 - 3.2min\n",
      "[CV] ...... n_estimators=250, learning_rate=1, score=0.774169 - 2.8min\n",
      "[CV] ...... n_estimators=250, learning_rate=1, score=0.778463 - 2.6min\n"
     ]
    },
    {
     "name": "stderr",
     "output_type": "stream",
     "text": [
      "[Parallel(n_jobs=8)]: Done  75 out of  75 | elapsed: 24.9min finished\n"
     ]
    }
   ],
   "source": [
    "train_gs_X, test_gs_X, train_gs_Y, test_gs_Y = train_test_split(new_features, target, random_state=42,train_size=0.1 )\n",
    "gb_grid_params = {\"n_estimators\": [x  for x in range(49,251) if x % 50 == 0],\n",
    "                   \"learning_rate\": [0.01, 0.03,0.1,0.3,1]}\n",
    "print(gb_grid_params)\n",
    "\n",
    "gb_gs = xgb.XGBClassifier()\n",
    "\n",
    "clf = grid_search.GridSearchCV(gb_gs,                               \n",
    "                               gb_grid_params,\n",
    "                               cv=3,\n",
    "                               scoring='roc_auc',\n",
    "                               verbose = 3, \n",
    "                               n_jobs=8);\n",
    "clf.fit(train_gs_X, train_gs_Y);\n"
   ]
  },
  {
   "cell_type": "code",
   "execution_count": 8,
   "metadata": {
    "collapsed": false,
    "scrolled": true
   },
   "outputs": [
    {
     "name": "stdout",
     "output_type": "stream",
     "text": [
      "Best parameters set found on development set:\n",
      "{'n_estimators': 250, 'learning_rate': 0.3}\n",
      "Grid scores on development set:\n",
      "0.740 (+/-0.002) for {'n_estimators': 50, 'learning_rate': 0.01}\n",
      "0.743 (+/-0.003) for {'n_estimators': 100, 'learning_rate': 0.01}\n",
      "0.746 (+/-0.002) for {'n_estimators': 150, 'learning_rate': 0.01}\n",
      "0.750 (+/-0.003) for {'n_estimators': 200, 'learning_rate': 0.01}\n",
      "0.753 (+/-0.004) for {'n_estimators': 250, 'learning_rate': 0.01}\n",
      "0.746 (+/-0.002) for {'n_estimators': 50, 'learning_rate': 0.03}\n",
      "0.757 (+/-0.004) for {'n_estimators': 100, 'learning_rate': 0.03}\n",
      "0.767 (+/-0.005) for {'n_estimators': 150, 'learning_rate': 0.03}\n",
      "0.773 (+/-0.004) for {'n_estimators': 200, 'learning_rate': 0.03}\n",
      "0.775 (+/-0.004) for {'n_estimators': 250, 'learning_rate': 0.03}\n",
      "0.770 (+/-0.004) for {'n_estimators': 50, 'learning_rate': 0.1}\n",
      "0.779 (+/-0.004) for {'n_estimators': 100, 'learning_rate': 0.1}\n",
      "0.782 (+/-0.005) for {'n_estimators': 150, 'learning_rate': 0.1}\n",
      "0.784 (+/-0.005) for {'n_estimators': 200, 'learning_rate': 0.1}\n",
      "0.785 (+/-0.005) for {'n_estimators': 250, 'learning_rate': 0.1}\n",
      "0.780 (+/-0.005) for {'n_estimators': 50, 'learning_rate': 0.3}\n",
      "0.786 (+/-0.005) for {'n_estimators': 100, 'learning_rate': 0.3}\n",
      "0.789 (+/-0.007) for {'n_estimators': 150, 'learning_rate': 0.3}\n",
      "0.791 (+/-0.006) for {'n_estimators': 200, 'learning_rate': 0.3}\n",
      "0.793 (+/-0.007) for {'n_estimators': 250, 'learning_rate': 0.3}\n",
      "0.781 (+/-0.002) for {'n_estimators': 50, 'learning_rate': 1}\n",
      "0.781 (+/-0.005) for {'n_estimators': 100, 'learning_rate': 1}\n",
      "0.781 (+/-0.003) for {'n_estimators': 150, 'learning_rate': 1}\n",
      "0.779 (+/-0.004) for {'n_estimators': 200, 'learning_rate': 1}\n",
      "0.777 (+/-0.004) for {'n_estimators': 250, 'learning_rate': 1}\n"
     ]
    }
   ],
   "source": [
    "print(\"Best parameters set found on development set:\")\n",
    "print(clf.best_params_)\n",
    "print(\"Grid scores on development set:\")\n",
    "for params, mean_score, scores in clf.grid_scores_:\n",
    "    print(\"%0.3f (+/-%0.03f) for %r\"\n",
    "        % (mean_score, scores.std() * 2, params))"
   ]
  },
  {
   "cell_type": "code",
   "execution_count": 9,
   "metadata": {
    "collapsed": false,
    "scrolled": true
   },
   "outputs": [
    {
     "data": {
      "text/plain": [
       "XGBClassifier(base_score=0.5, colsample_bylevel=1, colsample_bytree=1,\n",
       "       gamma=0, learning_rate=0.3, max_delta_step=0, max_depth=6,\n",
       "       min_child_weight=1, missing=None, n_estimators=250, nthread=-1,\n",
       "       objective='binary:logistic', reg_alpha=0, reg_lambda=1,\n",
       "       scale_pos_weight=1, seed=0, silent=True, subsample=1)"
      ]
     },
     "execution_count": 9,
     "metadata": {},
     "output_type": "execute_result"
    }
   ],
   "source": [
    "new_trainX, new_testX, new_trainY, new_testY = train_test_split(new_features, target, random_state=42,train_size=0.5 )\n",
    "gb2 = xgb.XGBClassifier(learning_rate=0.3, n_estimators=250, max_depth=6)\n",
    "gb2.fit(new_trainX,new_trainY)"
   ]
  },
  {
   "cell_type": "code",
   "execution_count": 10,
   "metadata": {
    "collapsed": false
   },
   "outputs": [
    {
     "name": "stdout",
     "output_type": "stream",
     "text": [
      "ROC AUC score - model XGBoost with learning rate 0.3 and number of trees 250\n"
     ]
    },
    {
     "data": {
      "text/plain": [
       "0.81758089824153213"
      ]
     },
     "execution_count": 10,
     "metadata": {},
     "output_type": "execute_result"
    }
   ],
   "source": [
    "print \"ROC AUC score - model XGBoost with learning rate 0.3 and number of trees 250\"\n",
    "roc_auc_score(new_testY, gb2.predict_proba(new_testX)[:, 1])"
   ]
  },
  {
   "cell_type": "code",
   "execution_count": 11,
   "metadata": {
    "collapsed": false
   },
   "outputs": [
    {
     "data": {
      "image/png": "[encoded data removed]",
      "text/plain": [
       "<matplotlib.figure.Figure at 0x7f6ed7f3e450>"
      ]
     },
     "metadata": {},
     "output_type": "display_data"
    }
   ],
   "source": [
    "plt.figure(figsize=[6, 6])\n",
    "fpr, tpr, thresholds = roc_curve(new_testY, gb2.predict_proba(new_testX)[:, 1])\n",
    "roc_auc = auc(fpr, tpr)\n",
    "plt.plot(fpr, tpr, lw=1, label='ROC BDT (area = %0.2f)'%(roc_auc))\n",
    "plt.plot([0, 1], [0, 1], '--', color=(0.6, 0.6, 0.6), label='no discrimination')\n",
    "plt.xlim([-0.05, 1.05])\n",
    "plt.ylim([-0.05, 1.05])\n",
    "plt.xlabel('False Positive Rate')\n",
    "plt.ylabel('True Positive Rate')\n",
    "plt.title('Receiver operating characteristic')\n",
    "plt.legend(loc=\"lower right\")\n",
    "plt.grid()\n",
    "plt.show()"
   ]
  },
  {
   "cell_type": "markdown",
   "metadata": {},
   "source": [
    "Show dependency of BDT quality on the number of trees. \n",
    "----------\n",
    "To obtain this values I use staged_predict_proba"
   ]
  },
  {
   "cell_type": "code",
   "execution_count": null,
   "metadata": {
    "collapsed": false,
    "scrolled": true
   },
   "outputs": [],
   "source": [
    "tree_scores = [] \n",
    "for tree_nb in range(1,249):\n",
    "    proba = gb2.predict_proba(new_testX,ntree_limit=tree_nb)\n",
    "    predicted = proba[:, 1]\n",
    "    score =  roc_auc_score(new_testY, predicted)\n",
    "    tree_scores.append(score)"
   ]
  },
  {
   "cell_type": "code",
   "execution_count": 17,
   "metadata": {
    "collapsed": false,
    "scrolled": true
   },
   "outputs": [
    {
     "data": {
      "image/png": "[encoded data removed]",
      "text/plain": [
       "<matplotlib.figure.Figure at 0x7f6ed5cdfc50>"
      ]
     },
     "metadata": {},
     "output_type": "display_data"
    }
   ],
   "source": [
    "x = numpy.array([x  for x in range(1,249)])\n",
    "plt.figure()\n",
    "plt.plot(x,tree_scores)\n",
    "plt.ylim(0.75, 0.82)\n",
    "plt.xlabel('no of trees')\n",
    "plt.ylabel('score ROC_AUC')\n",
    "plt.show()"
   ]
  },
  {
   "cell_type": "markdown",
   "metadata": {},
   "source": [
    "Save model to file \n",
    "-------\n",
    "It is a good idea to save BDT parameters to file for further study.  \n",
    "I use **sklearn.externals.joblib**. According to the documentation is more effitient than pickle. "
   ]
  },
  {
   "cell_type": "code",
   "execution_count": 19,
   "metadata": {
    "collapsed": false
   },
   "outputs": [
    {
     "data": {
      "text/plain": [
       "['models/XGBoost_200tree.pkl',\n",
       " 'models/XGBoost_200tree.pkl_01.npy',\n",
       " 'models/XGBoost_200tree.pkl_02.npy']"
      ]
     },
     "execution_count": 19,
     "metadata": {},
     "output_type": "execute_result"
    }
   ],
   "source": [
    "joblib.dump(gb2, 'models/XGBoost_200tree.pkl') "
   ]
  },
  {
   "cell_type": "markdown",
   "metadata": {},
   "source": [
    "Extend grid search  range of n_estimators to 600. \n",
    "-----------------\n",
    "This time I want to increase classifier score via extending search space.  \n",
    "I use data without linear feature transformations. "
   ]
  },
  {
   "cell_type": "code",
   "execution_count": null,
   "metadata": {
    "collapsed": false,
    "scrolled": false
   },
   "outputs": [],
   "source": [
    "train_gs_X, test_gs_X, train_gs_Y, test_gs_Y = train_test_split(new_features, target, random_state=42,train_size=0.1 )\n",
    "gb_grid_params = {\"n_estimators\": [x  for x in range(299,601) if x % 50 == 0],\n",
    "                   \"learning_rate\": [0.1,0.3,0.7,1]}\n",
    "print(gb_grid_params)\n",
    "\n",
    "gb_gs = xgb.XGBClassifier()\n",
    "\n",
    "clf = grid_search.GridSearchCV(gb_gs,\n",
    "                               gb_grid_params,\n",
    "                               cv=3,\n",
    "                               scoring='roc_auc',\n",
    "                               verbose = 3, \n",
    "                               n_jobs=8);\n",
    "clf.fit(train_gs_X, train_gs_Y);"
   ]
  },
  {
   "cell_type": "code",
   "execution_count": 8,
   "metadata": {
    "collapsed": false
   },
   "outputs": [
    {
     "name": "stdout",
     "output_type": "stream",
     "text": [
      "Best parameters set found on development set:\n",
      "{'n_estimators': 450, 'learning_rate': 0.3}\n",
      "Grid scores on development set:\n",
      "0.787 (+/-0.005) for {'n_estimators': 300, 'learning_rate': 0.1}\n",
      "0.788 (+/-0.005) for {'n_estimators': 350, 'learning_rate': 0.1}\n",
      "0.789 (+/-0.006) for {'n_estimators': 400, 'learning_rate': 0.1}\n",
      "0.790 (+/-0.006) for {'n_estimators': 450, 'learning_rate': 0.1}\n",
      "0.791 (+/-0.006) for {'n_estimators': 500, 'learning_rate': 0.1}\n",
      "0.791 (+/-0.006) for {'n_estimators': 550, 'learning_rate': 0.1}\n",
      "0.792 (+/-0.007) for {'n_estimators': 600, 'learning_rate': 0.1}\n",
      "0.793 (+/-0.007) for {'n_estimators': 300, 'learning_rate': 0.3}\n",
      "0.794 (+/-0.008) for {'n_estimators': 350, 'learning_rate': 0.3}\n",
      "0.795 (+/-0.007) for {'n_estimators': 400, 'learning_rate': 0.3}\n",
      "0.795 (+/-0.006) for {'n_estimators': 450, 'learning_rate': 0.3}\n",
      "0.795 (+/-0.005) for {'n_estimators': 500, 'learning_rate': 0.3}\n",
      "0.794 (+/-0.005) for {'n_estimators': 550, 'learning_rate': 0.3}\n",
      "0.794 (+/-0.006) for {'n_estimators': 600, 'learning_rate': 0.3}\n",
      "0.783 (+/-0.006) for {'n_estimators': 300, 'learning_rate': 0.7}\n",
      "0.782 (+/-0.006) for {'n_estimators': 350, 'learning_rate': 0.7}\n",
      "0.781 (+/-0.006) for {'n_estimators': 400, 'learning_rate': 0.7}\n",
      "0.780 (+/-0.006) for {'n_estimators': 450, 'learning_rate': 0.7}\n",
      "0.779 (+/-0.006) for {'n_estimators': 500, 'learning_rate': 0.7}\n",
      "0.778 (+/-0.006) for {'n_estimators': 550, 'learning_rate': 0.7}\n",
      "0.777 (+/-0.006) for {'n_estimators': 600, 'learning_rate': 0.7}\n",
      "0.774 (+/-0.002) for {'n_estimators': 300, 'learning_rate': 1}\n",
      "0.773 (+/-0.001) for {'n_estimators': 350, 'learning_rate': 1}\n",
      "0.770 (+/-0.001) for {'n_estimators': 400, 'learning_rate': 1}\n",
      "0.768 (+/-0.003) for {'n_estimators': 450, 'learning_rate': 1}\n",
      "0.766 (+/-0.004) for {'n_estimators': 500, 'learning_rate': 1}\n",
      "0.765 (+/-0.002) for {'n_estimators': 550, 'learning_rate': 1}\n",
      "0.764 (+/-0.003) for {'n_estimators': 600, 'learning_rate': 1}\n"
     ]
    }
   ],
   "source": [
    "print(\"Best parameters set found on development set:\")\n",
    "print(clf.best_params_)\n",
    "print(\"Grid scores on development set:\")\n",
    "for params, mean_score, scores in clf.grid_scores_:\n",
    "    print(\"%0.3f (+/-%0.03f) for %r\"\n",
    "        % (mean_score, scores.std() * 2, params))"
   ]
  },
  {
   "cell_type": "markdown",
   "metadata": {},
   "source": [
    "Train the new model\n",
    "----------\n",
    "* n_estimators 400\n",
    "* learning rate 0.3"
   ]
  },
  {
   "cell_type": "code",
   "execution_count": 13,
   "metadata": {
    "collapsed": false
   },
   "outputs": [
    {
     "data": {
      "text/plain": [
       "['models/XGBoost_400trees.pkl',\n",
       " 'models/XGBoost_400trees.pkl_01.npy',\n",
       " 'models/XGBoost_400trees.pkl_02.npy']"
      ]
     },
     "execution_count": 13,
     "metadata": {},
     "output_type": "execute_result"
    }
   ],
   "source": [
    "train_X, test_X, train_Y, test_Y = train_test_split(new_features, target, random_state=42,train_size=0.5 )\n",
    "\n",
    "gb3 = xgb.XGBClassifier( n_estimators=400, learning_rate=0.2, max_depth=6)\n",
    "gb4.fit(train_X,train_y2)\n",
    "joblib.dump(gb4, 'models/XGBoost_400_balanced.pkl') "
   ]
  },
  {
   "cell_type": "code",
   "execution_count": 7,
   "metadata": {
    "collapsed": false
   },
   "outputs": [],
   "source": [
    "gb3 = joblib.load('models/XGBoost_400trees.pkl')\n",
    "train_X, test_X, train_Y, test_Y = train_test_split(new_features, target, random_state=42,train_size=0.5 )              "
   ]
  },
  {
   "cell_type": "code",
   "execution_count": 14,
   "metadata": {
    "collapsed": false
   },
   "outputs": [
    {
     "name": "stdout",
     "output_type": "stream",
     "text": [
      "ROC AUC score\n"
     ]
    },
    {
     "data": {
      "text/plain": [
       "0.81908188341647703"
      ]
     },
     "execution_count": 14,
     "metadata": {},
     "output_type": "execute_result"
    }
   ],
   "source": [
    "print \"ROC AUC score\"\n",
    "roc_auc_score(test_Y, gb3.predict_proba(test_X)[:, 1])"
   ]
  },
  {
   "cell_type": "code",
   "execution_count": 15,
   "metadata": {
    "collapsed": false,
    "scrolled": true
   },
   "outputs": [
    {
     "data": {
      "image/png": "[encoded data removed]",
      "text/plain": [
       "<matplotlib.figure.Figure at 0x7faf63f40510>"
      ]
     },
     "metadata": {},
     "output_type": "display_data"
    }
   ],
   "source": [
    "plt.figure(figsize=[6, 6])\n",
    "fpr, tpr, thresholds = roc_curve(test_Y, gb3.predict_proba(test_X)[:, 1])\n",
    "roc_auc = auc(fpr, tpr)\n",
    "plt.plot(fpr, tpr, lw=1, label='ROC BDT (area = %0.2f)'%(roc_auc))\n",
    "plt.plot([0, 1], [0, 1], '--', color=(0.6, 0.6, 0.6), label='no discrimination')\n",
    "plt.plot([0.95, 1], [0.95, 1], '--', color=(0.6, 0.6, 0.6), label='no discrimination')\n",
    "plt.xlim([-0.05, 1.05])\n",
    "plt.ylim([-0.05, 1.05])\n",
    "plt.xlabel('False Positive Rate')\n",
    "plt.ylabel('True Positive Rate')\n",
    "plt.title('Receiver operating characteristic')\n",
    "plt.legend(loc=\"lower right\")\n",
    "plt.grid()\n",
    "plt.show()"
   ]
  },
  {
   "cell_type": "code",
   "execution_count": 31,
   "metadata": {
    "collapsed": false
   },
   "outputs": [
    {
     "data": {
      "image/png": "[encoded data removed]",
      "text/plain": [
       "<matplotlib.figure.Figure at 0x7fafa85f7ed0>"
      ]
     },
     "metadata": {},
     "output_type": "display_data"
    }
   ],
   "source": [
    "plt.figure(figsize=[6, 6])\n",
    "fpr, tpr, thresholds = roc_curve(test_Y, gb3.predict_proba(test_X)[:, 1])\n",
    "roc_auc = auc(fpr, tpr)\n",
    "plt.plot(fpr, tpr, lw=1, label='ROC BDT (area = %0.2f)'%(roc_auc))\n",
    "plt.plot([0, 1], [0, 1], '--', color=(0.6, 0.6, 0.6), label='no discrimination')\n",
    "plt.plot([0.95, 1], [0.95, 1], '--', color=(0.6, 0.6, 0.6), label='no discrimination')\n",
    "plt.xlim([0.5, 1])\n",
    "plt.ylim([0.95, 1])\n",
    "plt.xlabel('False Positive Rate')\n",
    "plt.ylabel('True Positive Rate')\n",
    "plt.title('Zoomed receiver operating characteristic')\n",
    "plt.legend(loc=\"lower right\")\n",
    "plt.grid()\n",
    "plt.show()"
   ]
  },
  {
   "cell_type": "code",
   "execution_count": null,
   "metadata": {
    "collapsed": false,
    "scrolled": false
   },
   "outputs": [],
   "source": [
    "tree_scores = [] \n",
    "for tree_nb in range(1,399):\n",
    "    proba = gb3.predict_proba(test_X,ntree_limit=tree_nb)\n",
    "    predicted = proba[:, 1]\n",
    "    score =  roc_auc_score(test_Y, predicted)\n",
    "    print(\"\".join([\"tree \",str(tree_nb), \" score \", str(score)]))\n",
    "    tree_scores.append(score)"
   ]
  },
  {
   "cell_type": "code",
   "execution_count": 26,
   "metadata": {
    "collapsed": false
   },
   "outputs": [
    {
     "data": {
      "image/png": "[encoded data removed]",
      "text/plain": [
       "<matplotlib.figure.Figure at 0x7fafac674310>"
      ]
     },
     "metadata": {},
     "output_type": "display_data"
    }
   ],
   "source": [
    "x = numpy.array([x  for x in range(400)])\n",
    "plt.figure()\n",
    "plt.plot(x,tree_scores[:400])\n",
    "plt.ylim(0.76, 0.825)\n",
    "plt.xlabel('no of trees')\n",
    "plt.ylabel('score ROC_AUC')\n",
    "plt.show()"
   ]
  },
  {
   "cell_type": "markdown",
   "metadata": {},
   "source": [
    "Model comparison \n",
    "---------\n",
    "In comparable to sklearn's model I obtained about 1% of improvement! This is quite nice. "
   ]
  },
  {
   "cell_type": "markdown",
   "metadata": {},
   "source": [
    "Balance dataset\n",
    "--------------\n",
    "Do to big data class misbalance I would like to balance it.  \n",
    "First I split data into trainig and test sets and for training I grab only part of the ghost tracks. "
   ]
  },
  {
   "cell_type": "code",
   "execution_count": 8,
   "metadata": {
    "collapsed": false
   },
   "outputs": [
    {
     "name": "stdout",
     "output_type": "stream",
     "text": [
      "number of the good seeds 143025\n",
      "number of the ghost seeds 2113155\n"
     ]
    }
   ],
   "source": [
    "train_X, test_X, train_Y, test_Y = train_test_split(new_features, target, random_state=42,train_size=0.8 )\n",
    "train_good = train_X[train_Y == 1]\n",
    "train_ghost = train_X[train_Y == 0]\n",
    "nb_good_seeds = train_good.count()[0]\n",
    "print (\" \".join([\"number of the good seeds\",str(nb_good_seeds)]))\n",
    "print (\" \".join([\"number of the ghost seeds\",str(train_ghost.count()[0])]))\n",
    "train_ghost=train_ghost.head(nb_good_seeds)\n",
    "train_X=pd.concat([train_ghost, train_good])\n",
    "train_X.head()\n",
    "train_y2 =train_Y[train_X.index]"
   ]
  },
  {
   "cell_type": "code",
   "execution_count": 9,
   "metadata": {
    "collapsed": false
   },
   "outputs": [
    {
     "data": {
      "text/plain": [
       "['models/XGBoost_400_balanced.pkl',\n",
       " 'models/XGBoost_400_balanced.pkl_01.npy',\n",
       " 'models/XGBoost_400_balanced.pkl_02.npy']"
      ]
     },
     "execution_count": 9,
     "metadata": {},
     "output_type": "execute_result"
    }
   ],
   "source": [
    "gb4 = xgb.XGBClassifier(learning_rate=0.3, n_estimators=400, max_depth=6)\n",
    "gb4.fit(train_X,train_y2)\n",
    "joblib.dump(gb4, 'models/XGBoost_400_balanced.pkl') "
   ]
  },
  {
   "cell_type": "code",
   "execution_count": 10,
   "metadata": {
    "collapsed": false
   },
   "outputs": [
    {
     "name": "stdout",
     "output_type": "stream",
     "text": [
      "ROC AUC score of XGBoost with 400 trees and trained using equal number of good and ghost seeds\n"
     ]
    },
    {
     "data": {
      "text/plain": [
       "0.81356480459444547"
      ]
     },
     "execution_count": 10,
     "metadata": {},
     "output_type": "execute_result"
    }
   ],
   "source": [
    "print \"ROC AUC score of XGBoost with 400 trees and trained using equal number of good and ghost seeds\"\n",
    "roc_auc_score(test_Y, gb4.predict_proba(test_X)[:, 1])"
   ]
  },
  {
   "cell_type": "code",
   "execution_count": null,
   "metadata": {
    "collapsed": false
   },
   "outputs": [],
   "source": [
    "tree_scores = [] \n",
    "for tree_nb in range(1,399):\n",
    "    proba = gb4.predict_proba(test_X,ntree_limit=tree_nb)\n",
    "    predicted = proba[:, 1]\n",
    "    score =  roc_auc_score(test_Y, predicted)\n",
    "    print(\"\".join([\"tree \",str(tree_nb), \" score \", str(score)]))\n",
    "    tree_scores.append(score)"
   ]
  },
  {
   "cell_type": "code",
   "execution_count": 15,
   "metadata": {
    "collapsed": false
   },
   "outputs": [
    {
     "data": {
      "image/png": "[encoded data removed]",
      "text/plain": [
       "<matplotlib.figure.Figure at 0x7ff4483a2650>"
      ]
     },
     "metadata": {},
     "output_type": "display_data"
    }
   ],
   "source": [
    "plt.figure()\n",
    "plt.plot(tree_scores)\n",
    "plt.ylim(0.76, 0.825)\n",
    "plt.xlabel('no of trees')\n",
    "plt.ylabel('score ROC_AUC')\n",
    "plt.show()"
   ]
  },
  {
   "cell_type": "markdown",
   "metadata": {},
   "source": [
    "This balanced approach has no influence on classifier performance. \n",
    "------------"
   ]
  },
  {
   "cell_type": "markdown",
   "metadata": {},
   "source": [
    "Balance via xgboost paramerer\n",
    "-----------\n",
    "I found parameter to be set. \n",
    "<font color=\"red\"> I know I am dumb!!!!! </font>\n"
   ]
  },
  {
   "cell_type": "code",
   "execution_count": 9,
   "metadata": {
    "collapsed": false
   },
   "outputs": [
    {
     "name": "stdout",
     "output_type": "stream",
     "text": [
      "good tracks 178831\n",
      "ghost track 2641394\n",
      "ratio ghost to good 14.770000\n"
     ]
    }
   ],
   "source": [
    "good_track_no = counts = new_features[target == 1].count()[0]\n",
    "ghost_track_no = counts = new_features[target == 0].count()[0]\n",
    "print(\"good tracks %d\") % good_track_no\n",
    "print(\"ghost track %d\") % ghost_track_no\n",
    "ratio_ghost_to_good = float(ghost_track_no)/good_track_no\n",
    "ratio_ghost_to_good = numpy.round(ratio_ghost_to_good, 3)\n",
    "print (\"ratio ghost to good %f\") % ratio_ghost_to_good"
   ]
  },
  {
   "cell_type": "code",
   "execution_count": 7,
   "metadata": {
    "collapsed": false
   },
   "outputs": [
    {
     "data": {
      "text/plain": [
       "['models/XGBoost_400_balanced2.pkl',\n",
       " 'models/XGBoost_400_balanced2.pkl_01.npy',\n",
       " 'models/XGBoost_400_balanced2.pkl_02.npy']"
      ]
     },
     "execution_count": 7,
     "metadata": {},
     "output_type": "execute_result"
    }
   ],
   "source": [
    "train_X, test_X, train_Y, test_Y = train_test_split(new_features, target, random_state=42,train_size=0.5 )              \n",
    "gb6 = xgb.XGBClassifier( n_estimators=400, learning_rate=0.2, scale_pos_weight=ratio_ghost_to_good, max_depth=6)\n",
    "gb6.fit(train_X,train_Y)\n",
    "joblib.dump(gb6, 'models/XGBoost_400_balanced2.pkl') "
   ]
  },
  {
   "cell_type": "code",
   "execution_count": 8,
   "metadata": {
    "collapsed": false
   },
   "outputs": [
    {
     "name": "stdout",
     "output_type": "stream",
     "text": [
      "ROC AUC score of XGBoost with 400 trees and trained using scale positive weight\n"
     ]
    },
    {
     "data": {
      "text/plain": [
       "0.8168021694229628"
      ]
     },
     "execution_count": 8,
     "metadata": {},
     "output_type": "execute_result"
    }
   ],
   "source": [
    "print \"ROC AUC score of XGBoost with 400 trees and trained using scale positive weight\"\n",
    "roc_auc_score(test_Y, gb6.predict_proba(test_X)[:, 1])"
   ]
  },
  {
   "cell_type": "code",
   "execution_count": 10,
   "metadata": {
    "collapsed": false
   },
   "outputs": [
    {
     "data": {
      "image/png": "[encoded data removed]",
      "text/plain": [
       "<matplotlib.figure.Figure at 0x7f80a7336a90>"
      ]
     },
     "metadata": {},
     "output_type": "display_data"
    }
   ],
   "source": [
    "plt.figure(figsize=[6, 6])\n",
    "fpr, tpr, thresholds = roc_curve(test_Y, gb6.predict_proba(test_X)[:, 1])\n",
    "roc_auc = auc(fpr, tpr)\n",
    "plt.plot(fpr, tpr, lw=1, label='ROC BDT (area = %0.2f)'%(roc_auc))\n",
    "plt.plot([0, 1], [0, 1], '--', color=(0.6, 0.6, 0.6), label='no discrimination')\n",
    "plt.plot([0.95, 1], [0.95, 1], '--', color=(0.6, 0.6, 0.6), label='no discrimination')\n",
    "plt.xlim([-0.05, 1.05])\n",
    "plt.ylim([-0.05, 1.05])\n",
    "plt.xlabel('False Positive Rate')\n",
    "plt.ylabel('True Positive Rate')\n",
    "plt.title('Receiver operating characteristic')\n",
    "plt.legend(loc=\"lower right\")\n",
    "plt.grid()\n",
    "plt.show()"
   ]
  },
  {
   "cell_type": "code",
   "execution_count": 11,
   "metadata": {
    "collapsed": false,
    "scrolled": true
   },
   "outputs": [
    {
     "data": {
      "image/png": "[encoded data removed]",
      "text/plain": [
       "<matplotlib.figure.Figure at 0x7f80a7336750>"
      ]
     },
     "metadata": {},
     "output_type": "display_data"
    }
   ],
   "source": [
    "plt.figure(figsize=[6, 6])\n",
    "fpr, tpr, thresholds = roc_curve(test_Y, gb6.predict_proba(test_X)[:, 1])\n",
    "roc_auc = auc(fpr, tpr)\n",
    "plt.plot(fpr, tpr, lw=1, label='ROC BDT (area = %0.2f)'%(roc_auc))\n",
    "plt.plot([0, 1], [0, 1], '--', color=(0.6, 0.6, 0.6), label='no discrimination')\n",
    "plt.plot([0.95, 1], [0.95, 1], '--', color=(0.6, 0.6, 0.6), label='no discrimination')\n",
    "plt.xlim([0.5, 1])\n",
    "plt.ylim([0.95, 1])\n",
    "plt.xlabel('False Positive Rate')\n",
    "plt.ylabel('True Positive Rate')\n",
    "plt.title('Zoomed receiver operating characteristic')\n",
    "plt.legend(loc=\"lower right\")\n",
    "plt.grid()\n",
    "plt.show()"
   ]
  },
  {
   "cell_type": "code",
   "execution_count": null,
   "metadata": {
    "collapsed": false
   },
   "outputs": [],
   "source": [
    "tree_scores = [] \n",
    "for tree_nb in range(1,399):\n",
    "    proba = gb6.predict_proba(test_X,ntree_limit=tree_nb)\n",
    "    predicted = proba[:, 1]\n",
    "    score =  roc_auc_score(test_Y, predicted)\n",
    "    print(\"\".join([\"tree \",str(tree_nb), \" score \", str(score)]))\n",
    "    tree_scores.append(score)"
   ]
  },
  {
   "cell_type": "code",
   "execution_count": 13,
   "metadata": {
    "collapsed": false
   },
   "outputs": [
    {
     "data": {
      "image/png": "[encoded data removed]",
      "text/plain": [
       "<matplotlib.figure.Figure at 0x7f80a7525c90>"
      ]
     },
     "metadata": {},
     "output_type": "display_data"
    }
   ],
   "source": [
    "plt.figure()\n",
    "plt.plot(tree_scores)\n",
    "plt.ylim(0.76, 0.825)\n",
    "plt.xlabel('no of trees')\n",
    "plt.ylabel('score ROC_AUC')\n",
    "plt.show()"
   ]
  },
  {
   "cell_type": "markdown",
   "metadata": {},
   "source": [
    "Learning curve seems to decrease. I will try to find the best possible parameters. "
   ]
  },
  {
   "cell_type": "markdown",
   "metadata": {},
   "source": [
    "Perform grid search for balanced data\n",
    "---------\n",
    "I use grid search to look at the following hyperparameters: \n",
    "* number of trees \n",
    "  * from the previous study we know that number of trees should be higher than 300. See graph above. \n",
    "* learning rates \n",
    "    * I check range [0.05-2]  \n",
    "       * I checked range [0.1-0.7]   the best scores obtained for 0.1, that why I check different region \n",
    "       \n",
    "In the next step I will focus on **min_child_weight** and **max_depth** and **gamma**"
   ]
  },
  {
   "cell_type": "code",
   "execution_count": null,
   "metadata": {
    "collapsed": false
   },
   "outputs": [],
   "source": [
    "train_gs_X, test_gs_X, train_gs_Y, test_gs_Y = train_test_split(new_features, target, random_state=42,train_size=0.1 )\n",
    "gb_grid_params = {\"n_estimators\": [x  for x in range(299,501) if x % 50 == 0],\n",
    "                   \"learning_rate\": [0.05,0.07,1,1.5,2]}\n",
    "print(gb_grid_params)\n",
    "\n",
    "gb_gs = xgb.XGBClassifier(scale_pos_weight=ratio_ghost_to_good, max_depth=6)\n",
    "\n",
    "clf = grid_search.GridSearchCV(gb_gs,\n",
    "                               gb_grid_params,\n",
    "                               cv=3,\n",
    "                               scoring='roc_auc',\n",
    "                               verbose = 3, \n",
    "                               n_jobs=10);\n",
    "clf.fit(train_gs_X, train_gs_Y);"
   ]
  },
  {
   "cell_type": "code",
   "execution_count": 9,
   "metadata": {
    "collapsed": false
   },
   "outputs": [
    {
     "name": "stdout",
     "output_type": "stream",
     "text": [
      "Best parameters set found on development set:\n",
      "{'n_estimators': 500, 'learning_rate': 0.07}\n",
      "Grid scores on development set:\n",
      "0.794 (+/-0.005) for {'n_estimators': 300, 'learning_rate': 0.05}\n",
      "0.794 (+/-0.005) for {'n_estimators': 350, 'learning_rate': 0.05}\n",
      "0.795 (+/-0.006) for {'n_estimators': 400, 'learning_rate': 0.05}\n",
      "0.795 (+/-0.006) for {'n_estimators': 450, 'learning_rate': 0.05}\n",
      "0.796 (+/-0.006) for {'n_estimators': 500, 'learning_rate': 0.05}\n",
      "0.795 (+/-0.005) for {'n_estimators': 300, 'learning_rate': 0.07}\n",
      "0.796 (+/-0.005) for {'n_estimators': 350, 'learning_rate': 0.07}\n",
      "0.796 (+/-0.006) for {'n_estimators': 400, 'learning_rate': 0.07}\n",
      "0.796 (+/-0.006) for {'n_estimators': 450, 'learning_rate': 0.07}\n",
      "0.796 (+/-0.007) for {'n_estimators': 500, 'learning_rate': 0.07}\n",
      "0.738 (+/-0.000) for {'n_estimators': 300, 'learning_rate': 1}\n",
      "0.737 (+/-0.003) for {'n_estimators': 350, 'learning_rate': 1}\n",
      "0.736 (+/-0.004) for {'n_estimators': 400, 'learning_rate': 1}\n",
      "0.736 (+/-0.003) for {'n_estimators': 450, 'learning_rate': 1}\n",
      "0.736 (+/-0.003) for {'n_estimators': 500, 'learning_rate': 1}\n",
      "0.714 (+/-0.004) for {'n_estimators': 300, 'learning_rate': 1.5}\n",
      "0.713 (+/-0.004) for {'n_estimators': 350, 'learning_rate': 1.5}\n",
      "0.711 (+/-0.005) for {'n_estimators': 400, 'learning_rate': 1.5}\n",
      "0.710 (+/-0.005) for {'n_estimators': 450, 'learning_rate': 1.5}\n",
      "0.710 (+/-0.005) for {'n_estimators': 500, 'learning_rate': 1.5}\n",
      "0.529 (+/-0.136) for {'n_estimators': 300, 'learning_rate': 2}\n",
      "0.529 (+/-0.136) for {'n_estimators': 350, 'learning_rate': 2}\n",
      "0.529 (+/-0.136) for {'n_estimators': 400, 'learning_rate': 2}\n",
      "0.529 (+/-0.136) for {'n_estimators': 450, 'learning_rate': 2}\n",
      "0.529 (+/-0.136) for {'n_estimators': 500, 'learning_rate': 2}\n",
      "The history saving thread hit an unexpected error (DatabaseError('database disk image is malformed',)).History will not be written to the database.\n"
     ]
    }
   ],
   "source": [
    "print(\"Best parameters set found on development set:\")\n",
    "print(clf.best_params_)\n",
    "print(\"Grid scores on development set:\")\n",
    "for params, mean_score, scores in clf.grid_scores_:\n",
    "    print(\"%0.3f (+/-%0.03f) for %r\"\n",
    "        % (mean_score, scores.std() * 2, params))"
   ]
  },
  {
   "cell_type": "markdown",
   "metadata": {},
   "source": [
    "Train model with obtained parameters\n",
    "--------------\n",
    "I use 500 trees and learning rate 0.07"
   ]
  },
  {
   "cell_type": "code",
   "execution_count": 7,
   "metadata": {
    "collapsed": false
   },
   "outputs": [
    {
     "data": {
      "text/plain": [
       "['models/XGBoost_500_balanced_afterGS.pkl',\n",
       " 'models/XGBoost_500_balanced_afterGS.pkl_01.npy',\n",
       " 'models/XGBoost_500_balanced_afterGS.pkl_02.npy']"
      ]
     },
     "execution_count": 7,
     "metadata": {},
     "output_type": "execute_result"
    }
   ],
   "source": [
    "train_X, test_X, train_Y, test_Y = train_test_split(new_features, target, random_state=42,train_size=0.5 )              \n",
    "gb6 = xgb.XGBClassifier( n_estimators=500, learning_rate=0.07, scale_pos_weight=ratio_ghost_to_good, max_depth=6)\n",
    "gb6.fit(train_X,train_Y)\n",
    "joblib.dump(gb6, 'models/XGBoost_500_balanced_afterGS.pkl') "
   ]
  },
  {
   "cell_type": "code",
   "execution_count": 10,
   "metadata": {
    "collapsed": false
   },
   "outputs": [
    {
     "name": "stdout",
     "output_type": "stream",
     "text": [
      "ROC AUC score of XGBoost with 500 trees and trained using scale positive weight\n"
     ]
    },
    {
     "data": {
      "text/plain": [
       "0.81567448613125149"
      ]
     },
     "execution_count": 10,
     "metadata": {},
     "output_type": "execute_result"
    }
   ],
   "source": [
    "print \"ROC AUC score of XGBoost with 500 trees and trained using scale positive weight\"\n",
    "roc_auc_score(test_Y, gb6.predict_proba(test_X)[:, 1])"
   ]
  },
  {
   "cell_type": "code",
   "execution_count": 9,
   "metadata": {
    "collapsed": false
   },
   "outputs": [
    {
     "data": {
      "image/png": "[encoded data removed]",
      "text/plain": [
       "<matplotlib.figure.Figure at 0x7f67ac95bbd0>"
      ]
     },
     "metadata": {},
     "output_type": "display_data"
    }
   ],
   "source": [
    "plt.figure(figsize=[6, 6])\n",
    "fpr, tpr, thresholds = roc_curve(test_Y, gb6.predict_proba(test_X)[:, 1])\n",
    "roc_auc = auc(fpr, tpr)\n",
    "plt.plot(fpr, tpr, lw=1, label='ROC BDT (area = %0.2f)'%(roc_auc))\n",
    "plt.plot([0, 1], [0, 1], '--', color=(0.6, 0.6, 0.6), label='no discrimination')\n",
    "plt.plot([0.95, 1], [0.95, 1], '--', color=(0.6, 0.6, 0.6), label='no discrimination')\n",
    "plt.xlim([-0.05, 1.05])\n",
    "plt.ylim([-0.05, 1.05])\n",
    "plt.xlabel('False Positive Rate')\n",
    "plt.ylabel('True Positive Rate')\n",
    "plt.title('Receiver operating characteristic')\n",
    "plt.legend(loc=\"lower right\")\n",
    "plt.grid()\n",
    "plt.show()"
   ]
  },
  {
   "cell_type": "markdown",
   "metadata": {},
   "source": [
    "The result is the same no improvement! \n",
    "----------\n",
    "\n",
    "The last idea is to perform grid search to find optimal values of **tree depth**, **gamma** and **min_child_weight**"
   ]
  },
  {
   "cell_type": "code",
   "execution_count": null,
   "metadata": {
    "collapsed": false
   },
   "outputs": [
    {
     "name": "stdout",
     "output_type": "stream",
     "text": [
      "{'max_depth': [5, 6, 8, 10], 'min_child_weight': [1, 10, 20, 50]}\n",
      "Fitting 3 folds for each of 16 candidates, totalling 48 fits\n",
      "[CV] max_depth=5, min_child_weight=1 .................................\n",
      "[CV] max_depth=5, min_child_weight=1 .................................\n",
      "[CV] max_depth=5, min_child_weight=1 .................................\n",
      "[CV] max_depth=5, min_child_weight=10 ................................\n",
      "[CV] max_depth=5, min_child_weight=10 ................................\n",
      "[CV] max_depth=5, min_child_weight=10 ................................\n",
      "[CV] max_depth=5, min_child_weight=20 ................................\n",
      "[CV] max_depth=5, min_child_weight=20 ................................\n",
      "[CV] max_depth=5, min_child_weight=20 ................................\n",
      "[CV] max_depth=5, min_child_weight=50 ................................\n"
     ]
    }
   ],
   "source": [
    "train_gs_X, test_gs_X, train_gs_Y, test_gs_Y = train_test_split(new_features, target, random_state=42,train_size=0.1 )\n",
    "gb_grid_params = { \"min_child_weight\": [1,10,20,50],\n",
    "                  \"max_depth\": [5,6,8,10]\n",
    "                 }\n",
    "print(gb_grid_params)\n",
    "\n",
    "gb_gs = xgb.XGBClassifier(n_estimators=400, learning_rate=0.07 ,scale_pos_weight=ratio_ghost_to_good)\n",
    "\n",
    "clf = grid_search.GridSearchCV(gb_gs,\n",
    "                               gb_grid_params,\n",
    "                               cv=3,\n",
    "                               scoring='roc_auc',\n",
    "                               verbose = 3, \n",
    "                               n_jobs=10);\n",
    "clf.fit(train_gs_X, train_gs_Y);"
   ]
  },
  {
   "cell_type": "code",
   "execution_count": null,
   "metadata": {
    "collapsed": true
   },
   "outputs": [],
   "source": [
    "print(\"Best parameters set found on development set:\")\n",
    "print(clf.best_params_)\n",
    "print(\"Grid scores on development set:\")\n",
    "for params, mean_score, scores in clf.grid_scores_:\n",
    "    print(\"%0.3f (+/-%0.03f) for %r\"\n",
    "        % (mean_score, scores.std() * 2, params))"
   ]
  },
  {
   "cell_type": "markdown",
   "metadata": {},
   "source": [
    "The result will be committed leater! \n",
    "========="
   ]
  },
  {
   "cell_type": "markdown",
   "metadata": {},
   "source": [
    "Add linear combination and ratios of the features\n",
    "-----------\n",
    "\n",
    "As a very first step I add such features as \n",
    "* number of cluster minus number of layers\n",
    "* number of hit in OT\n",
    "* pseudo rapidity, momentum and transverse momentum divided by chi2 \n",
    "\n",
    "And then I will try to find importance of it. "
   ]
  },
  {
   "cell_type": "code",
   "execution_count": 17,
   "metadata": {
    "collapsed": true
   },
   "outputs": [],
   "source": [
    "def add_more_features(data):\n",
    "    out = data\n",
    "    out[\"seed_lhcbId-layers\"] = data.seed_nLHCbIDs - data.seed_nLayers\n",
    "    out[\"seed_ot\"] = data.seed_nLHCbIDs - data.seed_nbIT\n",
    "    out[\"seed_pr/chi2\"] = data.pseudo_rapidity / data.seed_chi2PerDoF\n",
    "    out[\"seed_p/chi2\"] = data.seed_p/ data.seed_chi2PerDoF\n",
    "    out[\"seed_tr\"]= numpy.sqrt(numpy.square(data.seed_tx) +numpy.square(data.seed_ty))    \n",
    "    return out"
   ]
  },
  {
   "cell_type": "code",
   "execution_count": 19,
   "metadata": {
    "collapsed": false
   },
   "outputs": [
    {
     "data": {
      "text/html": [
       "<div style=\"max-height:1000px;max-width:1500px;overflow:auto;\">\n",
       "<table border=\"1\" class=\"dataframe\">\n",
       "  <thead>\n",
       "    <tr style=\"text-align: right;\">\n",
       "      <th></th>\n",
       "      <th>seed_chi2PerDoF</th>\n",
       "      <th>seed_p</th>\n",
       "      <th>seed_pt</th>\n",
       "      <th>seed_nLHCbIDs</th>\n",
       "      <th>seed_nbIT</th>\n",
       "      <th>seed_nLayers</th>\n",
       "      <th>seed_x</th>\n",
       "      <th>seed_y</th>\n",
       "      <th>seed_tx</th>\n",
       "      <th>seed_ty</th>\n",
       "      <th>...</th>\n",
       "      <th>abs_seed_y</th>\n",
       "      <th>abs_seed_tx</th>\n",
       "      <th>abs_seed_ty</th>\n",
       "      <th>seed_r</th>\n",
       "      <th>pseudo_rapidity</th>\n",
       "      <th>seed_lhcbId-layers</th>\n",
       "      <th>seed_ot</th>\n",
       "      <th>seed_pr/chi2</th>\n",
       "      <th>seed_p/chi2</th>\n",
       "      <th>seed_tr</th>\n",
       "    </tr>\n",
       "  </thead>\n",
       "  <tbody>\n",
       "    <tr>\n",
       "      <th>0</th>\n",
       "      <td>1.213708</td>\n",
       "      <td>2543.471925</td>\n",
       "      <td>1187.267858</td>\n",
       "      <td>25</td>\n",
       "      <td>0</td>\n",
       "      <td>12</td>\n",
       "      <td>-1263.157617</td>\n",
       "      <td>-517.249191</td>\n",
       "      <td>-0.524220</td>\n",
       "      <td>-0.061572</td>\n",
       "      <td>...</td>\n",
       "      <td>517.249191</td>\n",
       "      <td>0.524220</td>\n",
       "      <td>0.061572</td>\n",
       "      <td>1364.959300</td>\n",
       "      <td>0.505958</td>\n",
       "      <td>13</td>\n",
       "      <td>25</td>\n",
       "      <td>0.416870</td>\n",
       "      <td>2095.620933</td>\n",
       "      <td>0.527823</td>\n",
       "    </tr>\n",
       "    <tr>\n",
       "      <th>1</th>\n",
       "      <td>1.346112</td>\n",
       "      <td>2781.485771</td>\n",
       "      <td>1204.396954</td>\n",
       "      <td>25</td>\n",
       "      <td>0</td>\n",
       "      <td>12</td>\n",
       "      <td>1264.522435</td>\n",
       "      <td>-99.363473</td>\n",
       "      <td>0.480288</td>\n",
       "      <td>-0.009081</td>\n",
       "      <td>...</td>\n",
       "      <td>99.363473</td>\n",
       "      <td>0.480288</td>\n",
       "      <td>0.009081</td>\n",
       "      <td>1268.420312</td>\n",
       "      <td>0.463589</td>\n",
       "      <td>13</td>\n",
       "      <td>25</td>\n",
       "      <td>0.344391</td>\n",
       "      <td>2066.311262</td>\n",
       "      <td>0.480374</td>\n",
       "    </tr>\n",
       "    <tr>\n",
       "      <th>2</th>\n",
       "      <td>1.627632</td>\n",
       "      <td>4769.446536</td>\n",
       "      <td>1708.511389</td>\n",
       "      <td>25</td>\n",
       "      <td>0</td>\n",
       "      <td>12</td>\n",
       "      <td>-1521.093160</td>\n",
       "      <td>-196.064807</td>\n",
       "      <td>-0.382802</td>\n",
       "      <td>-0.025975</td>\n",
       "      <td>...</td>\n",
       "      <td>196.064807</td>\n",
       "      <td>0.382802</td>\n",
       "      <td>0.025975</td>\n",
       "      <td>1533.677219</td>\n",
       "      <td>0.374842</td>\n",
       "      <td>13</td>\n",
       "      <td>25</td>\n",
       "      <td>0.230299</td>\n",
       "      <td>2930.298550</td>\n",
       "      <td>0.383682</td>\n",
       "    </tr>\n",
       "    <tr>\n",
       "      <th>3</th>\n",
       "      <td>1.789231</td>\n",
       "      <td>5202.918132</td>\n",
       "      <td>1823.936187</td>\n",
       "      <td>25</td>\n",
       "      <td>0</td>\n",
       "      <td>12</td>\n",
       "      <td>-1563.145597</td>\n",
       "      <td>-483.850246</td>\n",
       "      <td>-0.369674</td>\n",
       "      <td>-0.058753</td>\n",
       "      <td>...</td>\n",
       "      <td>483.850246</td>\n",
       "      <td>0.369674</td>\n",
       "      <td>0.058753</td>\n",
       "      <td>1636.317578</td>\n",
       "      <td>0.366082</td>\n",
       "      <td>13</td>\n",
       "      <td>25</td>\n",
       "      <td>0.204603</td>\n",
       "      <td>2907.907705</td>\n",
       "      <td>0.374314</td>\n",
       "    </tr>\n",
       "    <tr>\n",
       "      <th>4</th>\n",
       "      <td>1.269238</td>\n",
       "      <td>2300.960611</td>\n",
       "      <td>1252.585447</td>\n",
       "      <td>24</td>\n",
       "      <td>0</td>\n",
       "      <td>12</td>\n",
       "      <td>-1641.727752</td>\n",
       "      <td>-411.084316</td>\n",
       "      <td>-0.646627</td>\n",
       "      <td>-0.054980</td>\n",
       "      <td>...</td>\n",
       "      <td>411.084316</td>\n",
       "      <td>0.646627</td>\n",
       "      <td>0.054980</td>\n",
       "      <td>1692.412576</td>\n",
       "      <td>0.610352</td>\n",
       "      <td>12</td>\n",
       "      <td>24</td>\n",
       "      <td>0.480881</td>\n",
       "      <td>1812.867601</td>\n",
       "      <td>0.648960</td>\n",
       "    </tr>\n",
       "  </tbody>\n",
       "</table>\n",
       "<p>5 rows × 21 columns</p>\n",
       "</div>"
      ],
      "text/plain": [
       "   seed_chi2PerDoF       seed_p      seed_pt  seed_nLHCbIDs  seed_nbIT  \\\n",
       "0         1.213708  2543.471925  1187.267858             25          0   \n",
       "1         1.346112  2781.485771  1204.396954             25          0   \n",
       "2         1.627632  4769.446536  1708.511389             25          0   \n",
       "3         1.789231  5202.918132  1823.936187             25          0   \n",
       "4         1.269238  2300.960611  1252.585447             24          0   \n",
       "\n",
       "   seed_nLayers       seed_x      seed_y   seed_tx   seed_ty    ...     \\\n",
       "0            12 -1263.157617 -517.249191 -0.524220 -0.061572    ...      \n",
       "1            12  1264.522435  -99.363473  0.480288 -0.009081    ...      \n",
       "2            12 -1521.093160 -196.064807 -0.382802 -0.025975    ...      \n",
       "3            12 -1563.145597 -483.850246 -0.369674 -0.058753    ...      \n",
       "4            12 -1641.727752 -411.084316 -0.646627 -0.054980    ...      \n",
       "\n",
       "   abs_seed_y  abs_seed_tx  abs_seed_ty       seed_r  pseudo_rapidity  \\\n",
       "0  517.249191     0.524220     0.061572  1364.959300         0.505958   \n",
       "1   99.363473     0.480288     0.009081  1268.420312         0.463589   \n",
       "2  196.064807     0.382802     0.025975  1533.677219         0.374842   \n",
       "3  483.850246     0.369674     0.058753  1636.317578         0.366082   \n",
       "4  411.084316     0.646627     0.054980  1692.412576         0.610352   \n",
       "\n",
       "   seed_lhcbId-layers  seed_ot  seed_pr/chi2  seed_p/chi2   seed_tr  \n",
       "0                  13       25      0.416870  2095.620933  0.527823  \n",
       "1                  13       25      0.344391  2066.311262  0.480374  \n",
       "2                  13       25      0.230299  2930.298550  0.383682  \n",
       "3                  13       25      0.204603  2907.907705  0.374314  \n",
       "4                  12       24      0.480881  1812.867601  0.648960  \n",
       "\n",
       "[5 rows x 21 columns]"
      ]
     },
     "execution_count": 19,
     "metadata": {},
     "output_type": "execute_result"
    }
   ],
   "source": [
    "mf_data = add_more_features(new_data)\n",
    "mf_features = mf_data.drop(\"is_true_seed\", axis=1).astype(numpy.float64)\n",
    "mf_features.head()"
   ]
  },
  {
   "cell_type": "code",
   "execution_count": 20,
   "metadata": {
    "collapsed": true
   },
   "outputs": [],
   "source": [
    "mf_trainX, mf_testX, mf_trainY, mf_testY = train_test_split(mf_features, target, random_state=42,train_size=0.5 )"
   ]
  },
  {
   "cell_type": "code",
   "execution_count": 22,
   "metadata": {
    "collapsed": false
   },
   "outputs": [
    {
     "data": {
      "text/plain": [
       "['models/XGBoost_400trees_linearFeatures.pkl',\n",
       " 'models/XGBoost_400trees_linearFeatures.pkl_01.npy',\n",
       " 'models/XGBoost_400trees_linearFeatures.pkl_02.npy']"
      ]
     },
     "execution_count": 22,
     "metadata": {},
     "output_type": "execute_result"
    }
   ],
   "source": [
    "gb5 = xgb.XGBClassifier( n_estimators=400, learning_rate=0.2, max_depth=6)\n",
    "gb5.fit(mf_trainX, mf_trainY)\n",
    "joblib.dump(gb5, 'models/XGBoost_400trees_linearFeatures.pkl') "
   ]
  },
  {
   "cell_type": "code",
   "execution_count": 23,
   "metadata": {
    "collapsed": false
   },
   "outputs": [
    {
     "name": "stdout",
     "output_type": "stream",
     "text": [
      "ROC AUC score of XGBoost with 400 trees with additional linear combination of the features\n"
     ]
    },
    {
     "data": {
      "text/plain": [
       "0.81894167992847922"
      ]
     },
     "execution_count": 23,
     "metadata": {},
     "output_type": "execute_result"
    }
   ],
   "source": [
    "print \"ROC AUC score of XGBoost with 400 trees with additional linear combination of the features\"\n",
    "roc_auc_score(mf_testY, gb5.predict_proba(mf_testX)[:, 1])"
   ]
  },
  {
   "cell_type": "code",
   "execution_count": 24,
   "metadata": {
    "collapsed": false
   },
   "outputs": [
    {
     "name": "stdout",
     "output_type": "stream",
     "text": [
      "tree 1 score 0.762271105362\n",
      "tree 2 score 0.766251827594\n",
      "tree 3 score 0.770781878641\n",
      "tree 4 score 0.771862329496\n",
      "tree 5 score 0.773108018141\n",
      "tree 6 score 0.774435737418\n",
      "tree 7 score 0.775385457913\n",
      "tree 8 score 0.776902208118\n",
      "tree 9 score 0.777887759592\n",
      "tree 10 score 0.778752600837\n",
      "tree 11 score 0.78011598334\n",
      "tree 12 score 0.781158430581\n",
      "tree 13 score 0.782203193847\n",
      "tree 14 score 0.782899290218\n",
      "tree 15 score 0.783839083698\n",
      "tree 16 score 0.784707871777\n",
      "tree 17 score 0.784907310925\n",
      "tree 18 score 0.785801248357\n",
      "tree 19 score 0.786160359751\n",
      "tree 20 score 0.787050651956\n",
      "tree 21 score 0.787401555557\n",
      "tree 22 score 0.788053131512\n",
      "tree 23 score 0.788738802183\n",
      "tree 24 score 0.789380049521\n",
      "tree 25 score 0.790177228009\n",
      "tree 26 score 0.790420508105\n",
      "tree 27 score 0.7906021471\n",
      "tree 28 score 0.791025650511\n",
      "tree 29 score 0.79113598399\n",
      "tree 30 score 0.791331903935\n",
      "tree 31 score 0.791808551248\n",
      "tree 32 score 0.791952599426\n",
      "tree 33 score 0.792428008184\n",
      "tree 34 score 0.792833806681\n",
      "tree 35 score 0.79301036953\n",
      "tree 36 score 0.793148343077\n",
      "tree 37 score 0.793446800298\n",
      "tree 38 score 0.793599175303\n",
      "tree 39 score 0.793694837302\n",
      "tree 40 score 0.794125154292\n",
      "tree 41 score 0.794412900494\n",
      "tree 42 score 0.794844653852\n",
      "tree 43 score 0.795252009379\n",
      "tree 44 score 0.795852674945\n",
      "tree 45 score 0.796282823519\n",
      "tree 46 score 0.796458059445\n",
      "tree 47 score 0.796622981553\n",
      "tree 48 score 0.796858036121\n",
      "tree 49 score 0.796892755972\n",
      "tree 50 score 0.79711028727\n",
      "tree 51 score 0.797204639183\n",
      "tree 52 score 0.797415902739\n",
      "tree 53 score 0.797624989105\n",
      "tree 54 score 0.797681016195\n",
      "tree 55 score 0.797918578771\n",
      "tree 56 score 0.798370567686\n",
      "tree 57 score 0.798378699236\n",
      "tree 58 score 0.798400334917\n",
      "tree 59 score 0.79884029\n",
      "tree 60 score 0.799152011421\n",
      "tree 61 score 0.799961776439\n",
      "tree 62 score 0.800096740871\n",
      "tree 63 score 0.800516406328\n",
      "tree 64 score 0.801021820672\n",
      "tree 65 score 0.801214783647\n",
      "tree 66 score 0.801340817702\n",
      "tree 67 score 0.801357208387\n",
      "tree 68 score 0.801519167081\n",
      "tree 69 score 0.801552933672\n",
      "tree 70 score 0.801573075085\n",
      "tree 71 score 0.801656020331\n",
      "tree 72 score 0.801766470841\n",
      "tree 73 score 0.803635542918\n",
      "tree 74 score 0.803741032905\n",
      "tree 75 score 0.804268367899\n",
      "tree 76 score 0.804769881732\n",
      "tree 77 score 0.805669623113\n",
      "tree 78 score 0.806285269261\n",
      "tree 79 score 0.80637176778\n",
      "tree 80 score 0.806402937386\n",
      "tree 81 score 0.807583487252\n",
      "tree 82 score 0.807893792506\n",
      "tree 83 score 0.807968496917\n",
      "tree 84 score 0.808034503143\n",
      "tree 85 score 0.808033611757\n",
      "tree 86 score 0.808087514062\n",
      "tree 87 score 0.808275781078\n",
      "tree 88 score 0.808273858541\n",
      "tree 89 score 0.808271561754\n",
      "tree 90 score 0.808645053316\n",
      "tree 91 score 0.808915787012\n",
      "tree 92 score 0.80970903897\n",
      "tree 93 score 0.80983485834\n",
      "tree 94 score 0.809935899782\n",
      "tree 95 score 0.81001497924\n",
      "tree 96 score 0.810038688763\n",
      "tree 97 score 0.810148281581\n",
      "tree 98 score 0.810201957497\n",
      "tree 99 score 0.810444366833\n",
      "tree 100 score 0.81059652967\n",
      "tree 101 score 0.810628325147\n",
      "tree 102 score 0.811214205593\n",
      "tree 103 score 0.811356364881\n",
      "tree 104 score 0.81136200734\n",
      "tree 105 score 0.811442517979\n",
      "tree 106 score 0.811453724709\n",
      "tree 107 score 0.811526990794\n",
      "tree 108 score 0.811643617819\n",
      "tree 109 score 0.81175551065\n",
      "tree 110 score 0.811761221119\n",
      "tree 111 score 0.811784745136\n",
      "tree 112 score 0.811834683673\n",
      "tree 113 score 0.811861259159\n",
      "tree 114 score 0.811913768898\n",
      "tree 115 score 0.81196586387\n",
      "tree 116 score 0.811964554143\n",
      "tree 117 score 0.81199369147\n",
      "tree 118 score 0.812078798253\n",
      "tree 119 score 0.812191642434\n",
      "tree 120 score 0.81219554211\n",
      "tree 121 score 0.812641765422\n",
      "tree 122 score 0.812639497331\n",
      "tree 123 score 0.812657842839\n",
      "tree 124 score 0.812663788722\n",
      "tree 125 score 0.812658729426\n",
      "tree 126 score 0.812668961679\n",
      "tree 127 score 0.812676123052\n",
      "tree 128 score 0.812712437993\n",
      "tree 129 score 0.812712693022\n",
      "tree 130 score 0.812766677326\n",
      "tree 131 score 0.813011185331\n",
      "tree 132 score 0.81310235527\n",
      "tree 133 score 0.813101680699\n",
      "tree 134 score 0.813101670137\n",
      "tree 135 score 0.813098792492\n",
      "tree 136 score 0.813113411356\n",
      "tree 137 score 0.813116566384\n",
      "tree 138 score 0.813115038325\n",
      "tree 139 score 0.813112626506\n",
      "tree 140 score 0.813144372751\n",
      "tree 141 score 0.81315531759\n",
      "tree 142 score 0.813294779267\n",
      "tree 143 score 0.813341927897\n",
      "tree 144 score 0.813392625217\n",
      "tree 145 score 0.813479508853\n",
      "tree 146 score 0.813722907685\n",
      "tree 147 score 0.813728246406\n",
      "tree 148 score 0.813723169791\n",
      "tree 149 score 0.813813967835\n",
      "tree 150 score 0.813809613895\n",
      "tree 151 score 0.813902368812\n",
      "tree 152 score 0.813999391657\n",
      "tree 153 score 0.814017449626\n",
      "tree 154 score 0.813990335505\n",
      "tree 155 score 0.814030339319\n",
      "tree 156 score 0.814498020226\n",
      "tree 157 score 0.81452387286\n",
      "tree 158 score 0.814549062144\n",
      "tree 159 score 0.814560814656\n",
      "tree 160 score 0.814563026648\n",
      "tree 161 score 0.814611099618\n",
      "tree 162 score 0.814686790489\n",
      "tree 163 score 0.814675526784\n",
      "tree 164 score 0.814786649971\n",
      "tree 165 score 0.814793379472\n",
      "tree 166 score 0.814838662861\n",
      "tree 167 score 0.81483886185\n",
      "tree 168 score 0.814856783614\n",
      "tree 169 score 0.814862653052\n",
      "tree 170 score 0.815125927718\n",
      "tree 171 score 0.815138373126\n",
      "tree 172 score 0.81518038508\n",
      "tree 173 score 0.815183558146\n",
      "tree 174 score 0.815176253587\n",
      "tree 175 score 0.815178581696\n",
      "tree 176 score 0.815177957994\n",
      "tree 177 score 0.815173412832\n",
      "tree 178 score 0.815167575591\n",
      "tree 179 score 0.815161331324\n",
      "tree 180 score 0.815146317678\n",
      "tree 181 score 0.815139907443\n",
      "tree 182 score 0.81536388434\n",
      "tree 183 score 0.81537413011\n",
      "tree 184 score 0.81538550436\n",
      "tree 185 score 0.815378704734\n",
      "tree 186 score 0.815375686406\n",
      "tree 187 score 0.81538550691\n",
      "tree 188 score 0.81541472165\n",
      "tree 189 score 0.81543687949\n",
      "tree 190 score 0.81545463058\n",
      "tree 191 score 0.815764449759\n",
      "tree 192 score 0.815859148042\n",
      "tree 193 score 0.815859049403\n",
      "tree 194 score 0.815860643202\n",
      "tree 195 score 0.81586444638\n",
      "tree 196 score 0.815879006431\n",
      "tree 197 score 0.81602351168\n",
      "tree 198 score 0.816099057225\n",
      "tree 199 score 0.816099704178\n",
      "tree 200 score 0.816248923008\n",
      "tree 201 score 0.816249978522\n",
      "tree 202 score 0.81627636684\n",
      "tree 203 score 0.816272613639\n",
      "tree 204 score 0.816269612092\n",
      "tree 205 score 0.816260757301\n",
      "tree 206 score 0.816268804918\n",
      "tree 207 score 0.816323243812\n",
      "tree 208 score 0.816331397962\n",
      "tree 209 score 0.816364112113\n",
      "tree 210 score 0.816364867759\n",
      "tree 211 score 0.816361254213\n",
      "tree 212 score 0.816348850968\n",
      "tree 213 score 0.816344758332\n",
      "tree 214 score 0.816345681209\n",
      "tree 215 score 0.816346527806\n",
      "tree 216 score 0.816340597588\n",
      "tree 217 score 0.816441593121\n",
      "tree 218 score 0.816473897066\n",
      "tree 219 score 0.816469040941\n",
      "tree 220 score 0.816489622533\n",
      "tree 221 score 0.816490143297\n",
      "tree 222 score 0.816527459893\n",
      "tree 223 score 0.816722104211\n",
      "tree 224 score 0.816733325909\n",
      "tree 225 score 0.816749882236\n",
      "tree 226 score 0.816755161172\n",
      "tree 227 score 0.816854017462\n",
      "tree 228 score 0.816852324703\n",
      "tree 229 score 0.816854573121\n",
      "tree 230 score 0.816866054524\n",
      "tree 231 score 0.816860150796\n",
      "tree 232 score 0.816881540885\n",
      "tree 233 score 0.816986706113\n",
      "tree 234 score 0.816988387523\n",
      "tree 235 score 0.817006410758\n",
      "tree 236 score 0.817006264346\n",
      "tree 237 score 0.817009719416\n",
      "tree 238 score 0.817019051713\n",
      "tree 239 score 0.817027398552\n",
      "tree 240 score 0.817025298598\n",
      "tree 241 score 0.81701633379\n",
      "tree 242 score 0.817035198451\n",
      "tree 243 score 0.817298214769\n",
      "tree 244 score 0.817316977553\n",
      "tree 245 score 0.817318406526\n",
      "tree 246 score 0.817322326219\n",
      "tree 247 score 0.817332126267\n",
      "tree 248 score 0.817337682992\n",
      "tree 249 score 0.817345561247\n",
      "tree 250 score 0.817358548288\n",
      "tree 251 score 0.817372408966\n",
      "tree 252 score 0.81736906652\n",
      "tree 253 score 0.817413674543\n",
      "tree 254 score 0.817423642009\n",
      "tree 255 score 0.817437902859\n",
      "tree 256 score 0.817464907273\n",
      "tree 257 score 0.817472458764\n",
      "tree 258 score 0.817506981369\n",
      "tree 259 score 0.817539878028\n",
      "tree 260 score 0.817554562707\n",
      "tree 261 score 0.817550269162\n",
      "tree 262 score 0.817563249286\n",
      "tree 263 score 0.817584635376\n",
      "tree 264 score 0.817728932168\n",
      "tree 265 score 0.817729274525\n",
      "tree 266 score 0.817885725119\n",
      "tree 267 score 0.817886171937\n",
      "tree 268 score 0.817886612873\n",
      "tree 269 score 0.817907917072\n",
      "tree 270 score 0.817903996047\n",
      "tree 271 score 0.817900512872\n",
      "tree 272 score 0.81789385535\n",
      "tree 273 score 0.81789667655\n",
      "tree 274 score 0.81790384005\n",
      "tree 275 score 0.818006722308\n",
      "tree 276 score 0.81800632071\n",
      "tree 277 score 0.818017061702\n",
      "tree 278 score 0.818025062383\n",
      "tree 279 score 0.81801608128\n",
      "tree 280 score 0.818027543137\n",
      "tree 281 score 0.818030798212\n",
      "tree 282 score 0.818037619887\n",
      "tree 283 score 0.818026318544\n",
      "tree 284 score 0.818033724286\n",
      "tree 285 score 0.818037493318\n",
      "tree 286 score 0.818048565779\n",
      "tree 287 score 0.81805083817\n",
      "tree 288 score 0.818072950549\n",
      "tree 289 score 0.818068401675\n",
      "tree 290 score 0.818067806843\n",
      "tree 291 score 0.818062998191\n",
      "tree 292 score 0.818062824351\n",
      "tree 293 score 0.81806102525\n",
      "tree 294 score 0.818052396241\n",
      "tree 295 score 0.818061333887\n",
      "tree 296 score 0.818043365745\n",
      "tree 297 score 0.818047892151\n",
      "tree 298 score 0.818050243203\n",
      "tree 299 score 0.818044971709\n",
      "tree 300 score 0.818041948277\n",
      "tree 301 score 0.818042256103\n",
      "tree 302 score 0.818045958976\n",
      "tree 303 score 0.818042445003\n",
      "tree 304 score 0.818040468249\n",
      "tree 305 score 0.818044509682\n",
      "tree 306 score 0.818034801\n",
      "tree 307 score 0.818038685156\n",
      "tree 308 score 0.818042296312\n",
      "tree 309 score 0.818041454802\n",
      "tree 310 score 0.81803481719\n",
      "tree 311 score 0.818034502405\n",
      "tree 312 score 0.818032794649\n",
      "tree 313 score 0.818029863069\n",
      "tree 314 score 0.818027189702\n",
      "tree 315 score 0.818027259876\n",
      "tree 316 score 0.818028028781\n",
      "tree 317 score 0.818028577324\n",
      "tree 318 score 0.81803997071\n",
      "tree 319 score 0.818049771228\n",
      "tree 320 score 0.81804392011\n",
      "tree 321 score 0.818041966648\n",
      "tree 322 score 0.818035762954\n",
      "tree 323 score 0.818051215659\n",
      "tree 324 score 0.818052333314\n",
      "tree 325 score 0.81807501686\n",
      "tree 326 score 0.818075382354\n",
      "tree 327 score 0.818078611312\n",
      "tree 328 score 0.818074272779\n",
      "tree 329 score 0.8180778666\n",
      "tree 330 score 0.818082637934\n",
      "tree 331 score 0.818073229865\n",
      "tree 332 score 0.818069993339\n",
      "tree 333 score 0.818088613499\n",
      "tree 334 score 0.818086872319\n",
      "tree 335 score 0.818080367691\n",
      "tree 336 score 0.818083570071\n",
      "tree 337 score 0.818196292612\n",
      "tree 338 score 0.818187845342\n",
      "tree 339 score 0.81828493916\n",
      "tree 340 score 0.818427190575\n",
      "tree 341 score 0.818513378005\n",
      "tree 342 score 0.818544039641\n",
      "tree 343 score 0.818542841892\n",
      "tree 344 score 0.818545520883\n",
      "tree 345 score 0.818559777746\n",
      "tree 346 score 0.818600175086\n",
      "tree 347 score 0.818615177046\n",
      "tree 348 score 0.818622288814\n",
      "tree 349 score 0.818616819857\n",
      "tree 350 score 0.818689244901\n",
      "tree 351 score 0.81869289502\n",
      "tree 352 score 0.818681880129\n",
      "tree 353 score 0.818687807501\n",
      "tree 354 score 0.818692182819\n",
      "tree 355 score 0.818734544843\n",
      "tree 356 score 0.818779307755\n",
      "tree 357 score 0.818788714387\n",
      "tree 358 score 0.818812150344\n",
      "tree 359 score 0.818810893068\n",
      "tree 360 score 0.818796752724\n",
      "tree 361 score 0.818837074423\n",
      "tree 362 score 0.818822325171\n",
      "tree 363 score 0.818823031647\n",
      "tree 364 score 0.818827661926\n",
      "tree 365 score 0.818829626491\n",
      "tree 366 score 0.818816784949\n",
      "tree 367 score 0.81882066677\n",
      "tree 368 score 0.818818954997\n",
      "tree 369 score 0.81884593192\n",
      "tree 370 score 0.818853996915\n",
      "tree 371 score 0.81884910658\n",
      "tree 372 score 0.81884397259\n",
      "tree 373 score 0.818837456491\n",
      "tree 374 score 0.818832895266\n",
      "tree 375 score 0.8188312281\n",
      "tree 376 score 0.818834397876\n",
      "tree 377 score 0.818827534617\n",
      "tree 378 score 0.818828028938\n",
      "tree 379 score 0.818850351451\n",
      "tree 380 score 0.818863485184\n",
      "tree 381 score 0.818858590938\n",
      "tree 382 score 0.818859385322\n",
      "tree 383 score 0.818874798079\n",
      "tree 384 score 0.81886952352\n",
      "tree 385 score 0.818882882046\n",
      "tree 386 score 0.818882783332\n",
      "tree 387 score 0.818883492785\n",
      "tree 388 score 0.81888692808\n",
      "tree 389 score 0.818882508443\n",
      "tree 390 score 0.818883995016\n",
      "tree 391 score 0.818882978055\n",
      "tree 392 score 0.818883087124\n",
      "tree 393 score 0.818880611668\n",
      "tree 394 score 0.818872503004\n",
      "tree 395 score 0.818875686924\n",
      "tree 396 score 0.818875787545\n",
      "tree 397 score 0.818923265649\n",
      "tree 398 score 0.818930805661\n"
     ]
    }
   ],
   "source": [
    "tree_scores = [] \n",
    "for tree_nb in range(1,399):\n",
    "    proba = gb5.predict_proba(mf_testX,ntree_limit=tree_nb)\n",
    "    predicted = proba[:, 1]\n",
    "    score =  roc_auc_score(mf_testY, predicted)\n",
    "    print(\"\".join([\"tree \",str(tree_nb), \" score \", str(score)]))\n",
    "    tree_scores.append(score)"
   ]
  },
  {
   "cell_type": "code",
   "execution_count": 25,
   "metadata": {
    "collapsed": false
   },
   "outputs": [
    {
     "data": {
      "image/png": "[encoded data removed]",
      "text/plain": [
       "<matplotlib.figure.Figure at 0x7ff4483af290>"
      ]
     },
     "metadata": {},
     "output_type": "display_data"
    }
   ],
   "source": [
    "plt.figure()\n",
    "plt.plot(tree_scores)\n",
    "plt.ylim(0.76, 0.825)\n",
    "plt.xlabel('no of trees')\n",
    "plt.ylabel('score ROC_AUC')\n",
    "plt.show()"
   ]
  },
  {
   "cell_type": "markdown",
   "metadata": {},
   "source": [
    "Conclusion on selected linear combinations and ratios of the featured\n",
    "-----------\n",
    "Adding this features has no influence on classifier performance. "
   ]
  },
  {
   "cell_type": "markdown",
   "metadata": {
    "collapsed": true
   },
   "source": [
    "Speedup the classifier\n",
    "========="
   ]
  },
  {
   "cell_type": "code",
   "execution_count": 11,
   "metadata": {
    "collapsed": false
   },
   "outputs": [
    {
     "ename": "ValueError",
     "evalue": "feature_names mismatch: [u'seed_chi2PerDoF', u'seed_p', u'seed_pt', u'seed_nLHCbIDs', u'seed_nbIT', u'seed_nLayers', u'seed_x', u'seed_y', u'seed_tx', u'seed_ty', u'abs_seed_x', u'abs_seed_y', u'abs_seed_tx', u'abs_seed_ty', u'seed_r', u'pseudo_rapidity'] ['f0', 'f1', 'f2', 'f3', 'f4', 'f5', 'f6', 'f7', 'f8', 'f9', 'f10', 'f11', 'f12', 'f13', 'f14', 'f15']\nexpected seed_nbIT, abs_seed_y, abs_seed_x, seed_tx, seed_pt, seed_nLayers, seed_x, seed_y, seed_ty, pseudo_rapidity, seed_p, seed_r, abs_seed_tx, abs_seed_ty, seed_nLHCbIDs, seed_chi2PerDoF in input data\ntraining data did not have the following fields: f0, f1, f2, f3, f4, f5, f6, f7, f8, f9, f12, f13, f10, f11, f14, f15",
     "output_type": "error",
     "traceback": [
      "\u001b[1;31m---------------------------------------------------------------------------\u001b[0m",
      "\u001b[1;31mValueError\u001b[0m                                Traceback (most recent call last)",
      "\u001b[1;32m<ipython-input-11-afeadcdc082e>\u001b[0m in \u001b[0;36m<module>\u001b[1;34m()\u001b[0m\n\u001b[0;32m      3\u001b[0m \u001b[0mbase_classifier\u001b[0m \u001b[1;33m=\u001b[0m \u001b[0mxgb\u001b[0m\u001b[1;33m.\u001b[0m\u001b[0mXGBClassifier\u001b[0m\u001b[1;33m(\u001b[0m\u001b[0mn_estimators\u001b[0m\u001b[1;33m=\u001b[0m\u001b[1;36m400\u001b[0m\u001b[1;33m,\u001b[0m \u001b[0mlearning_rate\u001b[0m\u001b[1;33m=\u001b[0m\u001b[1;36m0.07\u001b[0m \u001b[1;33m,\u001b[0m\u001b[0mscale_pos_weight\u001b[0m\u001b[1;33m=\u001b[0m\u001b[0mratio_ghost_to_good\u001b[0m\u001b[1;33m)\u001b[0m\u001b[1;33m\u001b[0m\u001b[0m\n\u001b[0;32m      4\u001b[0m \u001b[0mclassifier\u001b[0m \u001b[1;33m=\u001b[0m \u001b[0mLookupClassifier\u001b[0m\u001b[1;33m(\u001b[0m\u001b[0mbase_estimator\u001b[0m\u001b[1;33m=\u001b[0m\u001b[0mbase_classifier\u001b[0m\u001b[1;33m,\u001b[0m \u001b[0mkeep_trained_estimator\u001b[0m\u001b[1;33m=\u001b[0m\u001b[0mFalse\u001b[0m\u001b[1;33m)\u001b[0m\u001b[1;33m\u001b[0m\u001b[0m\n\u001b[1;32m----> 5\u001b[1;33m \u001b[0mclassifier\u001b[0m\u001b[1;33m.\u001b[0m\u001b[0mfit\u001b[0m\u001b[1;33m(\u001b[0m\u001b[0mtrain_X\u001b[0m\u001b[1;33m,\u001b[0m \u001b[0mtrain_Y\u001b[0m\u001b[1;33m)\u001b[0m\u001b[1;33m\u001b[0m\u001b[0m\n\u001b[0m",
      "\u001b[1;32m/afs/cern.ch/user/a/adendek/.local/lib/python2.7/site-packages/hep_ml/speedup.pyc\u001b[0m in \u001b[0;36mfit\u001b[1;34m(self, X, y, sample_weight)\u001b[0m\n\u001b[0;32m     91\u001b[0m         \u001b[0mall_lookup_indices\u001b[0m \u001b[1;33m=\u001b[0m \u001b[0mnumpy\u001b[0m\u001b[1;33m.\u001b[0m\u001b[0marange\u001b[0m\u001b[1;33m(\u001b[0m\u001b[0mint\u001b[0m\u001b[1;33m(\u001b[0m\u001b[0mn_parameter_combinations\u001b[0m\u001b[1;33m)\u001b[0m\u001b[1;33m)\u001b[0m\u001b[1;33m\u001b[0m\u001b[0m\n\u001b[0;32m     92\u001b[0m         \u001b[0mall_combinations\u001b[0m \u001b[1;33m=\u001b[0m \u001b[0mself\u001b[0m\u001b[1;33m.\u001b[0m\u001b[0mconvert_lookup_index_to_bins\u001b[0m\u001b[1;33m(\u001b[0m\u001b[0mall_lookup_indices\u001b[0m\u001b[1;33m)\u001b[0m\u001b[1;33m\u001b[0m\u001b[0m\n\u001b[1;32m---> 93\u001b[1;33m         \u001b[0mself\u001b[0m\u001b[1;33m.\u001b[0m\u001b[0m_lookup_table\u001b[0m \u001b[1;33m=\u001b[0m \u001b[0mtrained_estimator\u001b[0m\u001b[1;33m.\u001b[0m\u001b[0mpredict_proba\u001b[0m\u001b[1;33m(\u001b[0m\u001b[0mall_combinations\u001b[0m\u001b[1;33m)\u001b[0m\u001b[1;33m\u001b[0m\u001b[0m\n\u001b[0m\u001b[0;32m     94\u001b[0m \u001b[1;33m\u001b[0m\u001b[0m\n\u001b[0;32m     95\u001b[0m         \u001b[1;32mif\u001b[0m \u001b[0mself\u001b[0m\u001b[1;33m.\u001b[0m\u001b[0mkeep_trained_estimator\u001b[0m\u001b[1;33m:\u001b[0m\u001b[1;33m\u001b[0m\u001b[0m\n",
      "\u001b[1;32m/afs/cern.ch/user/a/adendek/.local/lib/python2.7/site-packages/xgboost/sklearn.pyc\u001b[0m in \u001b[0;36mpredict_proba\u001b[1;34m(self, data, output_margin, ntree_limit)\u001b[0m\n\u001b[0;32m    475\u001b[0m         class_probs = self.booster().predict(test_dmatrix,\n\u001b[0;32m    476\u001b[0m                                              \u001b[0moutput_margin\u001b[0m\u001b[1;33m=\u001b[0m\u001b[0moutput_margin\u001b[0m\u001b[1;33m,\u001b[0m\u001b[1;33m\u001b[0m\u001b[0m\n\u001b[1;32m--> 477\u001b[1;33m                                              ntree_limit=ntree_limit)\n\u001b[0m\u001b[0;32m    478\u001b[0m         \u001b[1;32mif\u001b[0m \u001b[0mself\u001b[0m\u001b[1;33m.\u001b[0m\u001b[0mobjective\u001b[0m \u001b[1;33m==\u001b[0m \u001b[1;34m\"multi:softprob\"\u001b[0m\u001b[1;33m:\u001b[0m\u001b[1;33m\u001b[0m\u001b[0m\n\u001b[0;32m    479\u001b[0m             \u001b[1;32mreturn\u001b[0m \u001b[0mclass_probs\u001b[0m\u001b[1;33m\u001b[0m\u001b[0m\n",
      "\u001b[1;32m/afs/cern.ch/user/a/adendek/.local/lib/python2.7/site-packages/xgboost/core.pyc\u001b[0m in \u001b[0;36mpredict\u001b[1;34m(self, data, output_margin, ntree_limit, pred_leaf)\u001b[0m\n\u001b[0;32m    937\u001b[0m             \u001b[0moption_mask\u001b[0m \u001b[1;33m|=\u001b[0m \u001b[1;36m0x02\u001b[0m\u001b[1;33m\u001b[0m\u001b[0m\n\u001b[0;32m    938\u001b[0m \u001b[1;33m\u001b[0m\u001b[0m\n\u001b[1;32m--> 939\u001b[1;33m         \u001b[0mself\u001b[0m\u001b[1;33m.\u001b[0m\u001b[0m_validate_features\u001b[0m\u001b[1;33m(\u001b[0m\u001b[0mdata\u001b[0m\u001b[1;33m)\u001b[0m\u001b[1;33m\u001b[0m\u001b[0m\n\u001b[0m\u001b[0;32m    940\u001b[0m \u001b[1;33m\u001b[0m\u001b[0m\n\u001b[0;32m    941\u001b[0m         \u001b[0mlength\u001b[0m \u001b[1;33m=\u001b[0m \u001b[0mctypes\u001b[0m\u001b[1;33m.\u001b[0m\u001b[0mc_ulong\u001b[0m\u001b[1;33m(\u001b[0m\u001b[1;33m)\u001b[0m\u001b[1;33m\u001b[0m\u001b[0m\n",
      "\u001b[1;32m/afs/cern.ch/user/a/adendek/.local/lib/python2.7/site-packages/xgboost/core.pyc\u001b[0m in \u001b[0;36m_validate_features\u001b[1;34m(self, data)\u001b[0m\n\u001b[0;32m   1177\u001b[0m \u001b[1;33m\u001b[0m\u001b[0m\n\u001b[0;32m   1178\u001b[0m                 raise ValueError(msg.format(self.feature_names,\n\u001b[1;32m-> 1179\u001b[1;33m                                             data.feature_names))\n\u001b[0m\u001b[0;32m   1180\u001b[0m \u001b[1;33m\u001b[0m\u001b[0m\n\u001b[0;32m   1181\u001b[0m     \u001b[1;32mdef\u001b[0m \u001b[0mget_split_value_histogram\u001b[0m\u001b[1;33m(\u001b[0m\u001b[0mself\u001b[0m\u001b[1;33m,\u001b[0m \u001b[0mfeature\u001b[0m\u001b[1;33m,\u001b[0m \u001b[0mfmap\u001b[0m\u001b[1;33m=\u001b[0m\u001b[1;34m''\u001b[0m\u001b[1;33m,\u001b[0m \u001b[0mbins\u001b[0m\u001b[1;33m=\u001b[0m\u001b[0mNone\u001b[0m\u001b[1;33m,\u001b[0m \u001b[0mas_pandas\u001b[0m\u001b[1;33m=\u001b[0m\u001b[0mTrue\u001b[0m\u001b[1;33m)\u001b[0m\u001b[1;33m:\u001b[0m\u001b[1;33m\u001b[0m\u001b[0m\n",
      "\u001b[1;31mValueError\u001b[0m: feature_names mismatch: [u'seed_chi2PerDoF', u'seed_p', u'seed_pt', u'seed_nLHCbIDs', u'seed_nbIT', u'seed_nLayers', u'seed_x', u'seed_y', u'seed_tx', u'seed_ty', u'abs_seed_x', u'abs_seed_y', u'abs_seed_tx', u'abs_seed_ty', u'seed_r', u'pseudo_rapidity'] ['f0', 'f1', 'f2', 'f3', 'f4', 'f5', 'f6', 'f7', 'f8', 'f9', 'f10', 'f11', 'f12', 'f13', 'f14', 'f15']\nexpected seed_nbIT, abs_seed_y, abs_seed_x, seed_tx, seed_pt, seed_nLayers, seed_x, seed_y, seed_ty, pseudo_rapidity, seed_p, seed_r, abs_seed_tx, abs_seed_ty, seed_nLHCbIDs, seed_chi2PerDoF in input data\ntraining data did not have the following fields: f0, f1, f2, f3, f4, f5, f6, f7, f8, f9, f12, f13, f10, f11, f14, f15"
     ]
    }
   ],
   "source": [
    "train_X, test_X, train_Y, test_Y = train_test_split(new_features, target, random_state=42,train_size=0.5 )              \n",
    "\n",
    "base_classifier = xgb.XGBClassifier(n_estimators=400, learning_rate=0.07 ,scale_pos_weight=ratio_ghost_to_good)\n",
    "classifier = LookupClassifier(base_estimator=base_classifier, keep_trained_estimator=False)\n",
    "classifier.fit(train_X, train_Y)"
   ]
  },
  {
   "cell_type": "markdown",
   "metadata": {},
   "source": [
    "so ML_hep doesn't work with xgboost.  So sad :( \n",
    "---------"
   ]
  },
  {
   "cell_type": "code",
   "execution_count": null,
   "metadata": {
    "collapsed": true
   },
   "outputs": [],
   "source": [
    "print \"ROC AUC score of binarized XGBoost with 400 trees and trained using scale positive weight\"\n",
    "roc_auc_score(test_Y, classifier.predict_proba(test_X)[:, 1])"
   ]
  },
  {
   "cell_type": "markdown",
   "metadata": {},
   "source": [
    "Now you can go to the next model - [Logistic Regression](https://github.com/adendek/DownstreamTracking/blob/master/SeedClasifier/LogisticRegression.ipynb)    \n",
    "========="
   ]
  }
 ],
 "metadata": {
  "kernelspec": {
   "display_name": "Python 2",
   "language": "python",
   "name": "python2"
  },
  "language_info": {
   "codemirror_mode": {
    "name": "ipython",
    "version": 2
   },
   "file_extension": ".py",
   "mimetype": "text/x-python",
   "name": "python",
   "nbconvert_exporter": "python",
   "pygments_lexer": "ipython2",
   "version": "2.7.10"
  }
 },
 "nbformat": 4,
 "nbformat_minor": 0
}

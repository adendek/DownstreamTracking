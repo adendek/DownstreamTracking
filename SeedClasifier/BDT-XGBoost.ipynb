{
 "cells": [
  {
   "cell_type": "markdown",
   "metadata": {},
   "source": [
    "Study of the T-seed selection using BDT- XGBoost classifier\n",
    "-----------------------------\n",
    "This script contains all of my study based on **BDT - [XGBoost](https://github.com/dmlc/xgboost)**.  \n",
    "I want to compare results of sklearn's GradientBoostedClassifier and XGBoost.  \n",
    "[Rumour](https://github.com/dmlc/xgboost/blob/master/demo/README.md) has it that XGBoost is better than sklern's Gradient Boosted Classifier. We will see.  \n",
    "The study contains simmilar steps as Baseline-BDT. \n",
    "\n",
    "Study roadmap \n",
    "--------------\n",
    "1. Train  the first version of XGBoost with default parameters and without any features engeenering. Just to know baseline score. \n",
    "2. Add basic features transforamtion eg. pseudorapidity and abs. \n",
    "3. Tune hiperparameters at first number of trees and learining rate   \n",
    "4. Add linear combination and features's ratios\n",
    "5. ... \n",
    "\n",
    "The reslut to beat is 0.8131906\n",
    "-----------\n"
   ]
  },
  {
   "cell_type": "code",
   "execution_count": 1,
   "metadata": {
    "collapsed": false
   },
   "outputs": [
    {
     "name": "stdout",
     "output_type": "stream",
     "text": [
      "kernel is alive!\n"
     ]
    }
   ],
   "source": [
    "print (\"kernel is alive!\")"
   ]
  },
  {
   "cell_type": "code",
   "execution_count": 2,
   "metadata": {
    "collapsed": false
   },
   "outputs": [
    {
     "data": {
      "application/javascript": [
       "require(['codemirror/mode/clike/clike'], function(Clike) { console.log('ROOTaaS - C++ CodeMirror module loaded'); });"
      ]
     },
     "metadata": {},
     "output_type": "display_data"
    },
    {
     "data": {
      "application/javascript": [
       "IPython.CodeCell.config_defaults.highlight_modes['magic_text/x-c++src'] = {'reg':[/^%%cpp/]};"
      ]
     },
     "metadata": {},
     "output_type": "display_data"
    },
    {
     "name": "stdout",
     "output_type": "stream",
     "text": [
      "Welcome to ROOTaaS 6.06/02\n"
     ]
    }
   ],
   "source": [
    "import root_numpy\n",
    "import pandas as pd\n",
    "import numpy\n",
    "import matplotlib.pyplot as plt\n",
    "import ROOT\n",
    "%matplotlib inline\n",
    "\n",
    "import warnings # current version of seaborn generates a bunch of warnings that we'll ignore\n",
    "warnings.filterwarnings(\"ignore\")\n",
    "import seaborn as sns\n",
    "\n",
    "#sklearn imports \n",
    "from sklearn.cross_validation import train_test_split\n",
    "from sklearn.metrics import roc_auc_score\n",
    "from sklearn.pipeline import Pipeline\n",
    "from sklearn.preprocessing import StandardScaler\n",
    "from sklearn import cross_validation\n",
    "from sklearn.metrics import roc_curve, auc\n",
    "from sklearn import grid_search\n",
    "from sklearn.metrics import classification_report\n",
    "\n",
    "from sklearn.externals import joblib\n",
    "\n",
    "import xgboost as xgb"
   ]
  },
  {
   "cell_type": "markdown",
   "metadata": {},
   "source": [
    "As a very first step I need to grab training data form the NTpule. \n",
    "--------------------------"
   ]
  },
  {
   "cell_type": "code",
   "execution_count": 3,
   "metadata": {
    "collapsed": false
   },
   "outputs": [
    {
     "data": {
      "text/html": [
       "<div style=\"max-height:1000px;max-width:1500px;overflow:auto;\">\n",
       "<table border=\"1\" class=\"dataframe\">\n",
       "  <thead>\n",
       "    <tr style=\"text-align: right;\">\n",
       "      <th></th>\n",
       "      <th>is_true_seed</th>\n",
       "      <th>seed_chi2PerDoF</th>\n",
       "      <th>seed_p</th>\n",
       "      <th>seed_pt</th>\n",
       "      <th>seed_nLHCbIDs</th>\n",
       "      <th>seed_nbIT</th>\n",
       "      <th>seed_nLayers</th>\n",
       "      <th>seed_x</th>\n",
       "      <th>seed_y</th>\n",
       "      <th>seed_tx</th>\n",
       "      <th>seed_ty</th>\n",
       "    </tr>\n",
       "  </thead>\n",
       "  <tbody>\n",
       "    <tr>\n",
       "      <th>0</th>\n",
       "      <td>False</td>\n",
       "      <td>1.213708</td>\n",
       "      <td>2543.471925</td>\n",
       "      <td>1187.267858</td>\n",
       "      <td>25</td>\n",
       "      <td>0</td>\n",
       "      <td>12</td>\n",
       "      <td>-1263.157617</td>\n",
       "      <td>-517.249191</td>\n",
       "      <td>-0.524220</td>\n",
       "      <td>-0.061572</td>\n",
       "    </tr>\n",
       "    <tr>\n",
       "      <th>1</th>\n",
       "      <td>False</td>\n",
       "      <td>1.346112</td>\n",
       "      <td>2781.485771</td>\n",
       "      <td>1204.396954</td>\n",
       "      <td>25</td>\n",
       "      <td>0</td>\n",
       "      <td>12</td>\n",
       "      <td>1264.522435</td>\n",
       "      <td>-99.363473</td>\n",
       "      <td>0.480288</td>\n",
       "      <td>-0.009081</td>\n",
       "    </tr>\n",
       "    <tr>\n",
       "      <th>2</th>\n",
       "      <td>False</td>\n",
       "      <td>1.627632</td>\n",
       "      <td>4769.446536</td>\n",
       "      <td>1708.511389</td>\n",
       "      <td>25</td>\n",
       "      <td>0</td>\n",
       "      <td>12</td>\n",
       "      <td>-1521.093160</td>\n",
       "      <td>-196.064807</td>\n",
       "      <td>-0.382802</td>\n",
       "      <td>-0.025975</td>\n",
       "    </tr>\n",
       "    <tr>\n",
       "      <th>3</th>\n",
       "      <td>False</td>\n",
       "      <td>1.789231</td>\n",
       "      <td>5202.918132</td>\n",
       "      <td>1823.936187</td>\n",
       "      <td>25</td>\n",
       "      <td>0</td>\n",
       "      <td>12</td>\n",
       "      <td>-1563.145597</td>\n",
       "      <td>-483.850246</td>\n",
       "      <td>-0.369674</td>\n",
       "      <td>-0.058753</td>\n",
       "    </tr>\n",
       "    <tr>\n",
       "      <th>4</th>\n",
       "      <td>True</td>\n",
       "      <td>1.269238</td>\n",
       "      <td>2300.960611</td>\n",
       "      <td>1252.585447</td>\n",
       "      <td>24</td>\n",
       "      <td>0</td>\n",
       "      <td>12</td>\n",
       "      <td>-1641.727752</td>\n",
       "      <td>-411.084316</td>\n",
       "      <td>-0.646627</td>\n",
       "      <td>-0.054980</td>\n",
       "    </tr>\n",
       "  </tbody>\n",
       "</table>\n",
       "</div>"
      ],
      "text/plain": [
       "  is_true_seed  seed_chi2PerDoF       seed_p      seed_pt  seed_nLHCbIDs  \\\n",
       "0        False         1.213708  2543.471925  1187.267858             25   \n",
       "1        False         1.346112  2781.485771  1204.396954             25   \n",
       "2        False         1.627632  4769.446536  1708.511389             25   \n",
       "3        False         1.789231  5202.918132  1823.936187             25   \n",
       "4         True         1.269238  2300.960611  1252.585447             24   \n",
       "\n",
       "   seed_nbIT  seed_nLayers       seed_x      seed_y   seed_tx   seed_ty  \n",
       "0          0            12 -1263.157617 -517.249191 -0.524220 -0.061572  \n",
       "1          0            12  1264.522435  -99.363473  0.480288 -0.009081  \n",
       "2          0            12 -1521.093160 -196.064807 -0.382802 -0.025975  \n",
       "3          0            12 -1563.145597 -483.850246 -0.369674 -0.058753  \n",
       "4          0            12 -1641.727752 -411.084316 -0.646627 -0.054980  "
      ]
     },
     "execution_count": 3,
     "metadata": {},
     "output_type": "execute_result"
    }
   ],
   "source": [
    "root_file = ROOT.TFile(\"datasets/Brunel_test_30kev.root\")\n",
    "root_file.cd(\"ToolSvc.PatDebugTTTruthTool\")\n",
    "tree = ROOT.gDirectory.Get(\"DownstreamSeedDebugTuple\")\n",
    "data = pd.DataFrame(root_numpy.tree2array(tree))\n",
    "\n",
    "target = data.is_true_seed\n",
    "features = data.drop(\"is_true_seed\", axis=1).astype(numpy.float64)\n",
    "data.head()"
   ]
  },
  {
   "cell_type": "markdown",
   "metadata": {},
   "source": [
    "Print the features\n",
    "-------------------------"
   ]
  },
  {
   "cell_type": "code",
   "execution_count": 4,
   "metadata": {
    "collapsed": false,
    "scrolled": true
   },
   "outputs": [
    {
     "data": {
      "text/html": [
       "<div style=\"max-height:1000px;max-width:1500px;overflow:auto;\">\n",
       "<table border=\"1\" class=\"dataframe\">\n",
       "  <thead>\n",
       "    <tr style=\"text-align: right;\">\n",
       "      <th></th>\n",
       "      <th>seed_chi2PerDoF</th>\n",
       "      <th>seed_p</th>\n",
       "      <th>seed_pt</th>\n",
       "      <th>seed_nLHCbIDs</th>\n",
       "      <th>seed_nbIT</th>\n",
       "      <th>seed_nLayers</th>\n",
       "      <th>seed_x</th>\n",
       "      <th>seed_y</th>\n",
       "      <th>seed_tx</th>\n",
       "      <th>seed_ty</th>\n",
       "    </tr>\n",
       "  </thead>\n",
       "  <tbody>\n",
       "    <tr>\n",
       "      <th>count</th>\n",
       "      <td>2820225.000000</td>\n",
       "      <td>2.820225e+06</td>\n",
       "      <td>2.820225e+06</td>\n",
       "      <td>2820225.000000</td>\n",
       "      <td>2820225.000000</td>\n",
       "      <td>2820225.000000</td>\n",
       "      <td>2820225.000000</td>\n",
       "      <td>2820225.000000</td>\n",
       "      <td>2820225.000000</td>\n",
       "      <td>2820225.000000</td>\n",
       "    </tr>\n",
       "    <tr>\n",
       "      <th>mean</th>\n",
       "      <td>2.151541</td>\n",
       "      <td>2.597007e+04</td>\n",
       "      <td>2.154239e+03</td>\n",
       "      <td>17.786964</td>\n",
       "      <td>2.583371</td>\n",
       "      <td>11.168504</td>\n",
       "      <td>2.711442</td>\n",
       "      <td>-6.605598</td>\n",
       "      <td>0.003993</td>\n",
       "      <td>-0.000770</td>\n",
       "    </tr>\n",
       "    <tr>\n",
       "      <th>std</th>\n",
       "      <td>1.450411</td>\n",
       "      <td>3.971438e+06</td>\n",
       "      <td>1.839172e+05</td>\n",
       "      <td>4.672981</td>\n",
       "      <td>4.624577</td>\n",
       "      <td>1.080491</td>\n",
       "      <td>695.398805</td>\n",
       "      <td>562.730757</td>\n",
       "      <td>0.319859</td>\n",
       "      <td>0.073198</td>\n",
       "    </tr>\n",
       "    <tr>\n",
       "      <th>min</th>\n",
       "      <td>0.000250</td>\n",
       "      <td>1.112569e+03</td>\n",
       "      <td>1.762072e+00</td>\n",
       "      <td>8.000000</td>\n",
       "      <td>0.000000</td>\n",
       "      <td>8.000000</td>\n",
       "      <td>-2491.031005</td>\n",
       "      <td>-2277.240338</td>\n",
       "      <td>-1.284890</td>\n",
       "      <td>-1.225459</td>\n",
       "    </tr>\n",
       "    <tr>\n",
       "      <th>25%</th>\n",
       "      <td>1.053873</td>\n",
       "      <td>3.014385e+03</td>\n",
       "      <td>9.318066e+02</td>\n",
       "      <td>13.000000</td>\n",
       "      <td>0.000000</td>\n",
       "      <td>11.000000</td>\n",
       "      <td>-395.587195</td>\n",
       "      <td>-222.158379</td>\n",
       "      <td>-0.179371</td>\n",
       "      <td>-0.031975</td>\n",
       "    </tr>\n",
       "    <tr>\n",
       "      <th>50%</th>\n",
       "      <td>1.714204</td>\n",
       "      <td>5.749199e+03</td>\n",
       "      <td>1.123466e+03</td>\n",
       "      <td>19.000000</td>\n",
       "      <td>0.000000</td>\n",
       "      <td>12.000000</td>\n",
       "      <td>-4.058384</td>\n",
       "      <td>-4.284824</td>\n",
       "      <td>0.004472</td>\n",
       "      <td>-0.000420</td>\n",
       "    </tr>\n",
       "    <tr>\n",
       "      <th>75%</th>\n",
       "      <td>2.949078</td>\n",
       "      <td>1.318862e+04</td>\n",
       "      <td>1.370916e+03</td>\n",
       "      <td>22.000000</td>\n",
       "      <td>4.000000</td>\n",
       "      <td>12.000000</td>\n",
       "      <td>399.664220</td>\n",
       "      <td>209.894007</td>\n",
       "      <td>0.190217</td>\n",
       "      <td>0.030538</td>\n",
       "    </tr>\n",
       "    <tr>\n",
       "      <th>max</th>\n",
       "      <td>8.999829</td>\n",
       "      <td>4.048456e+09</td>\n",
       "      <td>1.676033e+08</td>\n",
       "      <td>32.000000</td>\n",
       "      <td>23.000000</td>\n",
       "      <td>12.000000</td>\n",
       "      <td>2505.840240</td>\n",
       "      <td>2217.239114</td>\n",
       "      <td>1.358254</td>\n",
       "      <td>0.594471</td>\n",
       "    </tr>\n",
       "  </tbody>\n",
       "</table>\n",
       "</div>"
      ],
      "text/plain": [
       "       seed_chi2PerDoF        seed_p       seed_pt   seed_nLHCbIDs  \\\n",
       "count   2820225.000000  2.820225e+06  2.820225e+06  2820225.000000   \n",
       "mean          2.151541  2.597007e+04  2.154239e+03       17.786964   \n",
       "std           1.450411  3.971438e+06  1.839172e+05        4.672981   \n",
       "min           0.000250  1.112569e+03  1.762072e+00        8.000000   \n",
       "25%           1.053873  3.014385e+03  9.318066e+02       13.000000   \n",
       "50%           1.714204  5.749199e+03  1.123466e+03       19.000000   \n",
       "75%           2.949078  1.318862e+04  1.370916e+03       22.000000   \n",
       "max           8.999829  4.048456e+09  1.676033e+08       32.000000   \n",
       "\n",
       "            seed_nbIT    seed_nLayers          seed_x          seed_y  \\\n",
       "count  2820225.000000  2820225.000000  2820225.000000  2820225.000000   \n",
       "mean         2.583371       11.168504        2.711442       -6.605598   \n",
       "std          4.624577        1.080491      695.398805      562.730757   \n",
       "min          0.000000        8.000000    -2491.031005    -2277.240338   \n",
       "25%          0.000000       11.000000     -395.587195     -222.158379   \n",
       "50%          0.000000       12.000000       -4.058384       -4.284824   \n",
       "75%          4.000000       12.000000      399.664220      209.894007   \n",
       "max         23.000000       12.000000     2505.840240     2217.239114   \n",
       "\n",
       "              seed_tx         seed_ty  \n",
       "count  2820225.000000  2820225.000000  \n",
       "mean         0.003993       -0.000770  \n",
       "std          0.319859        0.073198  \n",
       "min         -1.284890       -1.225459  \n",
       "25%         -0.179371       -0.031975  \n",
       "50%          0.004472       -0.000420  \n",
       "75%          0.190217        0.030538  \n",
       "max          1.358254        0.594471  "
      ]
     },
     "execution_count": 4,
     "metadata": {},
     "output_type": "execute_result"
    }
   ],
   "source": [
    "features.describe()"
   ]
  },
  {
   "cell_type": "markdown",
   "metadata": {},
   "source": [
    "Split data into train and validation sets\n",
    "----------------------"
   ]
  },
  {
   "cell_type": "code",
   "execution_count": 5,
   "metadata": {
    "collapsed": false
   },
   "outputs": [],
   "source": [
    "trainX, testX, trainY, testY = train_test_split(features, target, random_state=42,train_size=0.5 )"
   ]
  },
  {
   "cell_type": "code",
   "execution_count": null,
   "metadata": {
    "collapsed": false
   },
   "outputs": [],
   "source": [
    "gb = xgb.XGBClassifier(max_depth=6, learning_rate=0.1,n_estimators = 100)\n",
    "gb.fit(trainX,trainY)"
   ]
  },
  {
   "cell_type": "code",
   "execution_count": 9,
   "metadata": {
    "collapsed": false
   },
   "outputs": [
    {
     "name": "stdout",
     "output_type": "stream",
     "text": [
      "ROC AUC score\n"
     ]
    },
    {
     "data": {
      "text/plain": [
       "0.79019802348145729"
      ]
     },
     "execution_count": 9,
     "metadata": {},
     "output_type": "execute_result"
    }
   ],
   "source": [
    "print \"ROC AUC score\"\n",
    "roc_auc_score(testY, gb.predict_proba(testX)[:, 1])"
   ]
  },
  {
   "cell_type": "code",
   "execution_count": 10,
   "metadata": {
    "collapsed": false
   },
   "outputs": [
    {
     "data": {
      "image/png": "[encoded data removed]",
      "text/plain": [
       "<matplotlib.figure.Figure at 0x7f4c47a90590>"
      ]
     },
     "metadata": {},
     "output_type": "display_data"
    }
   ],
   "source": [
    "plt.figure(figsize=[6, 6])\n",
    "fpr, tpr, thresholds = roc_curve(testY, gb.predict_proba(testX)[:, 1])\n",
    "roc_auc = auc(fpr, tpr)\n",
    "plt.plot(fpr, tpr, lw=1, label='ROC BDT (area = %0.2f)'%(roc_auc))\n",
    "plt.plot([0, 1], [0, 1], '--', color=(0.6, 0.6, 0.6), label='no discrimination')\n",
    "plt.xlim([-0.05, 1.05])\n",
    "plt.ylim([-0.05, 1.05])\n",
    "plt.xlabel('False Positive Rate')\n",
    "plt.ylabel('True Positive Rate')\n",
    "plt.title('Receiver operating characteristic')\n",
    "plt.legend(loc=\"lower right\")\n",
    "plt.grid()\n",
    "plt.show()"
   ]
  },
  {
   "cell_type": "markdown",
   "metadata": {},
   "source": [
    "Check importance of the features based on the BDT. "
   ]
  },
  {
   "cell_type": "markdown",
   "metadata": {},
   "source": [
    "Feature Engenering\n",
    "======================\n",
    "Add transformated features\n",
    "-------------------\n",
    "At the begining let's try some very basic feature transformation. \n",
    "I also add pseudorapidity and seed_r"
   ]
  },
  {
   "cell_type": "code",
   "execution_count": 4,
   "metadata": {
    "collapsed": false
   },
   "outputs": [],
   "source": [
    "def basic_transforamtion(data):\n",
    "    #abs transformation\n",
    "    out = data\n",
    "    out[\"abs_seed_x\"]=numpy.abs(data['seed_x'])\n",
    "    out[\"abs_seed_y\"]=numpy.abs(data['seed_y'])\n",
    "    out[\"abs_seed_tx\"]=numpy.abs(data['seed_tx'])\n",
    "    out[\"abs_seed_ty\"]=numpy.abs(data['seed_ty'])\n",
    "    out['seed_r'] = numpy.sqrt(numpy.square(data.seed_x) +numpy.square(data.seed_y))    \n",
    "    out['pseudo_rapidity'] = numpy.arctanh(data.seed_pt/data.seed_p)\n",
    "    return out"
   ]
  },
  {
   "cell_type": "code",
   "execution_count": 5,
   "metadata": {
    "collapsed": false
   },
   "outputs": [
    {
     "data": {
      "text/html": [
       "<div style=\"max-height:1000px;max-width:1500px;overflow:auto;\">\n",
       "<table border=\"1\" class=\"dataframe\">\n",
       "  <thead>\n",
       "    <tr style=\"text-align: right;\">\n",
       "      <th></th>\n",
       "      <th>seed_chi2PerDoF</th>\n",
       "      <th>seed_p</th>\n",
       "      <th>seed_pt</th>\n",
       "      <th>seed_nLHCbIDs</th>\n",
       "      <th>seed_nbIT</th>\n",
       "      <th>seed_nLayers</th>\n",
       "      <th>seed_x</th>\n",
       "      <th>seed_y</th>\n",
       "      <th>seed_tx</th>\n",
       "      <th>seed_ty</th>\n",
       "      <th>abs_seed_x</th>\n",
       "      <th>abs_seed_y</th>\n",
       "      <th>abs_seed_tx</th>\n",
       "      <th>abs_seed_ty</th>\n",
       "      <th>seed_r</th>\n",
       "      <th>pseudo_rapidity</th>\n",
       "    </tr>\n",
       "  </thead>\n",
       "  <tbody>\n",
       "    <tr>\n",
       "      <th>0</th>\n",
       "      <td>1.213708</td>\n",
       "      <td>2543.471925</td>\n",
       "      <td>1187.267858</td>\n",
       "      <td>25</td>\n",
       "      <td>0</td>\n",
       "      <td>12</td>\n",
       "      <td>-1263.157617</td>\n",
       "      <td>-517.249191</td>\n",
       "      <td>-0.524220</td>\n",
       "      <td>-0.061572</td>\n",
       "      <td>1263.157617</td>\n",
       "      <td>517.249191</td>\n",
       "      <td>0.524220</td>\n",
       "      <td>0.061572</td>\n",
       "      <td>1364.959300</td>\n",
       "      <td>0.505958</td>\n",
       "    </tr>\n",
       "    <tr>\n",
       "      <th>1</th>\n",
       "      <td>1.346112</td>\n",
       "      <td>2781.485771</td>\n",
       "      <td>1204.396954</td>\n",
       "      <td>25</td>\n",
       "      <td>0</td>\n",
       "      <td>12</td>\n",
       "      <td>1264.522435</td>\n",
       "      <td>-99.363473</td>\n",
       "      <td>0.480288</td>\n",
       "      <td>-0.009081</td>\n",
       "      <td>1264.522435</td>\n",
       "      <td>99.363473</td>\n",
       "      <td>0.480288</td>\n",
       "      <td>0.009081</td>\n",
       "      <td>1268.420312</td>\n",
       "      <td>0.463589</td>\n",
       "    </tr>\n",
       "    <tr>\n",
       "      <th>2</th>\n",
       "      <td>1.627632</td>\n",
       "      <td>4769.446536</td>\n",
       "      <td>1708.511389</td>\n",
       "      <td>25</td>\n",
       "      <td>0</td>\n",
       "      <td>12</td>\n",
       "      <td>-1521.093160</td>\n",
       "      <td>-196.064807</td>\n",
       "      <td>-0.382802</td>\n",
       "      <td>-0.025975</td>\n",
       "      <td>1521.093160</td>\n",
       "      <td>196.064807</td>\n",
       "      <td>0.382802</td>\n",
       "      <td>0.025975</td>\n",
       "      <td>1533.677219</td>\n",
       "      <td>0.374842</td>\n",
       "    </tr>\n",
       "    <tr>\n",
       "      <th>3</th>\n",
       "      <td>1.789231</td>\n",
       "      <td>5202.918132</td>\n",
       "      <td>1823.936187</td>\n",
       "      <td>25</td>\n",
       "      <td>0</td>\n",
       "      <td>12</td>\n",
       "      <td>-1563.145597</td>\n",
       "      <td>-483.850246</td>\n",
       "      <td>-0.369674</td>\n",
       "      <td>-0.058753</td>\n",
       "      <td>1563.145597</td>\n",
       "      <td>483.850246</td>\n",
       "      <td>0.369674</td>\n",
       "      <td>0.058753</td>\n",
       "      <td>1636.317578</td>\n",
       "      <td>0.366082</td>\n",
       "    </tr>\n",
       "    <tr>\n",
       "      <th>4</th>\n",
       "      <td>1.269238</td>\n",
       "      <td>2300.960611</td>\n",
       "      <td>1252.585447</td>\n",
       "      <td>24</td>\n",
       "      <td>0</td>\n",
       "      <td>12</td>\n",
       "      <td>-1641.727752</td>\n",
       "      <td>-411.084316</td>\n",
       "      <td>-0.646627</td>\n",
       "      <td>-0.054980</td>\n",
       "      <td>1641.727752</td>\n",
       "      <td>411.084316</td>\n",
       "      <td>0.646627</td>\n",
       "      <td>0.054980</td>\n",
       "      <td>1692.412576</td>\n",
       "      <td>0.610352</td>\n",
       "    </tr>\n",
       "  </tbody>\n",
       "</table>\n",
       "</div>"
      ],
      "text/plain": [
       "   seed_chi2PerDoF       seed_p      seed_pt  seed_nLHCbIDs  seed_nbIT  \\\n",
       "0         1.213708  2543.471925  1187.267858             25          0   \n",
       "1         1.346112  2781.485771  1204.396954             25          0   \n",
       "2         1.627632  4769.446536  1708.511389             25          0   \n",
       "3         1.789231  5202.918132  1823.936187             25          0   \n",
       "4         1.269238  2300.960611  1252.585447             24          0   \n",
       "\n",
       "   seed_nLayers       seed_x      seed_y   seed_tx   seed_ty   abs_seed_x  \\\n",
       "0            12 -1263.157617 -517.249191 -0.524220 -0.061572  1263.157617   \n",
       "1            12  1264.522435  -99.363473  0.480288 -0.009081  1264.522435   \n",
       "2            12 -1521.093160 -196.064807 -0.382802 -0.025975  1521.093160   \n",
       "3            12 -1563.145597 -483.850246 -0.369674 -0.058753  1563.145597   \n",
       "4            12 -1641.727752 -411.084316 -0.646627 -0.054980  1641.727752   \n",
       "\n",
       "   abs_seed_y  abs_seed_tx  abs_seed_ty       seed_r  pseudo_rapidity  \n",
       "0  517.249191     0.524220     0.061572  1364.959300         0.505958  \n",
       "1   99.363473     0.480288     0.009081  1268.420312         0.463589  \n",
       "2  196.064807     0.382802     0.025975  1533.677219         0.374842  \n",
       "3  483.850246     0.369674     0.058753  1636.317578         0.366082  \n",
       "4  411.084316     0.646627     0.054980  1692.412576         0.610352  "
      ]
     },
     "execution_count": 5,
     "metadata": {},
     "output_type": "execute_result"
    }
   ],
   "source": [
    "new_data = basic_transforamtion(data)\n",
    "new_features = new_data.drop(\"is_true_seed\", axis=1).astype(numpy.float64)\n",
    "new_features.head()"
   ]
  },
  {
   "cell_type": "code",
   "execution_count": 15,
   "metadata": {
    "collapsed": true
   },
   "outputs": [],
   "source": [
    "new_trainX, new_testX, new_trainY, new_testY = train_test_split(new_features, target, random_state=42,train_size=0.5 )"
   ]
  },
  {
   "cell_type": "code",
   "execution_count": 19,
   "metadata": {
    "collapsed": false
   },
   "outputs": [
    {
     "data": {
      "text/plain": [
       "XGBClassifier(base_score=0.5, colsample_bylevel=1, colsample_bytree=1,\n",
       "       gamma=0, learning_rate=0.1, max_delta_step=0, max_depth=6,\n",
       "       min_child_weight=1, missing=None, n_estimators=100, nthread=-1,\n",
       "       objective='binary:logistic', reg_alpha=0, reg_lambda=1,\n",
       "       scale_pos_weight=1, seed=0, silent=True, subsample=0.8)"
      ]
     },
     "execution_count": 19,
     "metadata": {},
     "output_type": "execute_result"
    }
   ],
   "source": [
    "gb2 = xgb.XGBClassifier(learning_rate=0.1, n_estimators=100, subsample=0.8, max_depth=6)\n",
    "gb2.fit(new_trainX,new_trainY)"
   ]
  },
  {
   "cell_type": "code",
   "execution_count": 20,
   "metadata": {
    "collapsed": false
   },
   "outputs": [
    {
     "data": {
      "text/plain": [
       "0.80090517263682215"
      ]
     },
     "execution_count": 20,
     "metadata": {},
     "output_type": "execute_result"
    }
   ],
   "source": [
    "roc_auc_score(new_testY, gb2.predict_proba(new_testX)[:, 1])"
   ]
  },
  {
   "cell_type": "code",
   "execution_count": 21,
   "metadata": {
    "collapsed": false
   },
   "outputs": [
    {
     "data": {
      "image/png": "[encoded data removed]",
      "text/plain": [
       "<matplotlib.figure.Figure at 0x7f4c883fb2d0>"
      ]
     },
     "metadata": {},
     "output_type": "display_data"
    }
   ],
   "source": [
    "plt.figure(figsize=[6, 6])\n",
    "fpr, tpr, thresholds = roc_curve(new_testY, gb2.predict_proba(new_testX)[:, 1])\n",
    "roc_auc = auc(fpr, tpr)\n",
    "plt.plot(fpr, tpr, lw=1, label='ROC BDT (area = %0.2f)'%(roc_auc))\n",
    "plt.plot([0, 1], [0, 1], '--', color=(0.6, 0.6, 0.6), label='no discrimination')\n",
    "plt.xlim([-0.05, 1.05])\n",
    "plt.ylim([-0.05, 1.05])\n",
    "plt.xlabel('False Positive Rate')\n",
    "plt.ylabel('True Positive Rate')\n",
    "plt.title('Receiver operating characteristic')\n",
    "plt.legend(loc=\"lower right\")\n",
    "plt.grid()\n",
    "plt.show()"
   ]
  },
  {
   "cell_type": "markdown",
   "metadata": {},
   "source": [
    "Hyperparameters optimalization\n",
    "----------------\n",
    "Let's improve it by serching for the best hyperparameters values. \n",
    "In the first iteration I want to find the best values of following hyperparameters \n",
    "* The cosidered range of n_estimators is between 50 and 250, step = 50\n",
    "* learning rate in range 0.01-3 with semilogaritmic step\n",
    "\n",
    "I use only 10% of data for grid search. Should be enough.\n"
   ]
  },
  {
   "cell_type": "code",
   "execution_count": 7,
   "metadata": {
    "collapsed": false
   },
   "outputs": [
    {
     "name": "stdout",
     "output_type": "stream",
     "text": [
      "{'n_estimators': [50, 100, 150, 200, 250], 'learning_rate': [0.01, 0.03, 0.1, 0.3, 1]}\n",
      "Fitting 3 folds for each of 25 candidates, totalling 75 fits\n",
      "[CV] n_estimators=50, learning_rate=0.01 .............................\n",
      "[CV] n_estimators=50, learning_rate=0.01 .............................\n",
      "[CV] n_estimators=50, learning_rate=0.01 .............................\n",
      "[CV] n_estimators=100, learning_rate=0.01 ............................\n",
      "[CV] n_estimators=100, learning_rate=0.01 ............................\n",
      "[CV] n_estimators=100, learning_rate=0.01 ............................\n",
      "[CV] n_estimators=150, learning_rate=0.01 ............................\n",
      "[CV] n_estimators=150, learning_rate=0.01 ............................\n",
      "[CV] .... n_estimators=50, learning_rate=0.01, score=0.738884 -  48.3s\n"
     ]
    },
    {
     "name": "stderr",
     "output_type": "stream",
     "text": [
      "[Parallel(n_jobs=8)]: Done   1 jobs       | elapsed:   49.4s\n"
     ]
    },
    {
     "name": "stdout",
     "output_type": "stream",
     "text": [
      "[CV] n_estimators=150, learning_rate=0.01 ............................\n",
      "[CV] .... n_estimators=50, learning_rate=0.01, score=0.740385 -  48.7s\n",
      "[CV] n_estimators=200, learning_rate=0.01 ............................\n",
      "[CV] .... n_estimators=50, learning_rate=0.01, score=0.741720 -  50.8s\n",
      "[CV] n_estimators=200, learning_rate=0.01 ............................\n",
      "[CV] ... n_estimators=100, learning_rate=0.01, score=0.742955 - 1.7min\n",
      "[CV] n_estimators=200, learning_rate=0.01 ............................\n",
      "[CV] ... n_estimators=100, learning_rate=0.01, score=0.741665 - 1.8min\n",
      "[CV] n_estimators=250, learning_rate=0.01 ............................\n",
      "[CV] ... n_estimators=100, learning_rate=0.01, score=0.745500 - 1.8min\n",
      "[CV] n_estimators=250, learning_rate=0.01 ............................\n",
      "[CV] ... n_estimators=150, learning_rate=0.01, score=0.744525 - 2.7min\n",
      "[CV] n_estimators=250, learning_rate=0.01 ............................\n",
      "[CV] ... n_estimators=150, learning_rate=0.01, score=0.746119 - 2.7min\n",
      "[CV] n_estimators=50, learning_rate=0.03 .............................\n",
      "[CV] ... n_estimators=150, learning_rate=0.01, score=0.747343 - 2.6min\n",
      "[CV] n_estimators=50, learning_rate=0.03 .............................\n",
      "[CV] .... n_estimators=50, learning_rate=0.03, score=0.744408 -  49.8s\n",
      "[CV] n_estimators=50, learning_rate=0.03 .............................\n",
      "[CV] ... n_estimators=200, learning_rate=0.01, score=0.747906 - 3.4min\n",
      "[CV] n_estimators=100, learning_rate=0.03 ............................\n",
      "[CV] .... n_estimators=50, learning_rate=0.03, score=0.746350 -  50.4s\n",
      "[CV] n_estimators=100, learning_rate=0.03 ............................\n",
      "[CV] ... n_estimators=200, learning_rate=0.01, score=0.750763 - 3.5min\n",
      "[CV] n_estimators=100, learning_rate=0.03 ............................\n",
      "[CV] .... n_estimators=50, learning_rate=0.03, score=0.747365 -  51.7s\n",
      "[CV] n_estimators=150, learning_rate=0.03 ............................\n",
      "[CV] ... n_estimators=200, learning_rate=0.01, score=0.751196 - 3.5min\n",
      "[CV] n_estimators=150, learning_rate=0.03 ............................\n",
      "[CV] ... n_estimators=100, learning_rate=0.03, score=0.754097 - 2.0min\n",
      "[CV] n_estimators=150, learning_rate=0.03 ............................\n",
      "[CV] ... n_estimators=100, learning_rate=0.03, score=0.757661 - 1.9min\n",
      "[CV] ... n_estimators=100, learning_rate=0.03, score=0.758163 - 2.0min\n",
      "[CV] n_estimators=200, learning_rate=0.03 ............................\n",
      "[CV] n_estimators=200, learning_rate=0.03 ............................\n",
      "[CV] ... n_estimators=250, learning_rate=0.01, score=0.754554 - 4.5min\n",
      "[CV] n_estimators=200, learning_rate=0.03 ............................\n",
      "[CV] ... n_estimators=250, learning_rate=0.01, score=0.750746 - 4.6min\n",
      "[CV] n_estimators=250, learning_rate=0.03 ............................\n",
      "[CV] ... n_estimators=250, learning_rate=0.01, score=0.754808 - 4.7min\n",
      "[CV] ... n_estimators=150, learning_rate=0.03, score=0.764129 - 3.0min\n",
      "[CV] n_estimators=250, learning_rate=0.03 ............................\n",
      "[CV] n_estimators=250, learning_rate=0.03 ............................\n",
      "[CV] ... n_estimators=150, learning_rate=0.03, score=0.768566 - 2.9min\n",
      "[CV] n_estimators=50, learning_rate=0.1 ..............................\n",
      "[CV] ..... n_estimators=50, learning_rate=0.1, score=0.766805 - 1.0min\n",
      "[CV] n_estimators=50, learning_rate=0.1 ..............................\n",
      "[CV] ... n_estimators=150, learning_rate=0.03, score=0.769724 - 3.0min\n",
      "[CV] n_estimators=50, learning_rate=0.1 ..............................\n",
      "[CV] ... n_estimators=200, learning_rate=0.03, score=0.772872 - 3.9min\n",
      "[CV] n_estimators=100, learning_rate=0.1 .............................\n",
      "[CV] ..... n_estimators=50, learning_rate=0.1, score=0.769565 - 1.0min\n"
     ]
    },
    {
     "name": "stderr",
     "output_type": "stream",
     "text": [
      "[Parallel(n_jobs=8)]: Done  32 jobs       | elapsed: 10.3min\n"
     ]
    },
    {
     "name": "stdout",
     "output_type": "stream",
     "text": [
      "[CV] n_estimators=100, learning_rate=0.1 .............................\n",
      "[CV] ... n_estimators=200, learning_rate=0.03, score=0.774847 - 4.0min\n",
      "[CV] ..... n_estimators=50, learning_rate=0.1, score=0.772185 - 1.0min\n",
      "[CV] n_estimators=100, learning_rate=0.1 .............................\n",
      "[CV] n_estimators=150, learning_rate=0.1 .............................\n",
      "[CV] ... n_estimators=200, learning_rate=0.03, score=0.769898 - 4.1min\n",
      "[CV] n_estimators=150, learning_rate=0.1 .............................\n",
      "[CV] ... n_estimators=250, learning_rate=0.03, score=0.772692 - 4.7min\n",
      "[CV] n_estimators=150, learning_rate=0.1 .............................\n",
      "[CV] .... n_estimators=100, learning_rate=0.1, score=0.780142 - 1.7min\n",
      "[CV] n_estimators=200, learning_rate=0.1 .............................\n",
      "[CV] .... n_estimators=100, learning_rate=0.1, score=0.775639 - 1.8min\n",
      "[CV] n_estimators=200, learning_rate=0.1 .............................\n",
      "[CV] .... n_estimators=100, learning_rate=0.1, score=0.779923 - 1.8min\n",
      "[CV] n_estimators=200, learning_rate=0.1 .............................\n",
      "[CV] ... n_estimators=250, learning_rate=0.03, score=0.776199 - 4.6min\n",
      "[CV] n_estimators=250, learning_rate=0.1 .............................\n",
      "[CV] ... n_estimators=250, learning_rate=0.03, score=0.777533 - 4.6min\n",
      "[CV] n_estimators=250, learning_rate=0.1 .............................\n",
      "[CV] .... n_estimators=150, learning_rate=0.1, score=0.778167 - 2.6min\n",
      "[CV] n_estimators=250, learning_rate=0.1 .............................\n",
      "[CV] .... n_estimators=150, learning_rate=0.1, score=0.783733 - 2.6min\n",
      "[CV] n_estimators=50, learning_rate=0.3 ..............................\n",
      "[CV] .... n_estimators=150, learning_rate=0.1, score=0.782792 - 2.6min\n",
      "[CV] n_estimators=50, learning_rate=0.3 ..............................\n",
      "[CV] ..... n_estimators=50, learning_rate=0.3, score=0.776853 -  52.6s\n",
      "[CV] n_estimators=50, learning_rate=0.3 ..............................\n",
      "[CV] ..... n_estimators=50, learning_rate=0.3, score=0.782674 -  54.1s\n",
      "[CV] n_estimators=100, learning_rate=0.3 .............................\n",
      "[CV] ..... n_estimators=50, learning_rate=0.3, score=0.781464 -  55.2s\n",
      "[CV] n_estimators=100, learning_rate=0.3 .............................\n",
      "[CV] .... n_estimators=200, learning_rate=0.1, score=0.780146 - 3.4min\n",
      "[CV] .... n_estimators=200, learning_rate=0.1, score=0.785995 - 3.4min\n",
      "[CV] n_estimators=100, learning_rate=0.3 .............................\n",
      "[CV] .... n_estimators=200, learning_rate=0.1, score=0.784805 - 3.4min\n",
      "[CV] n_estimators=150, learning_rate=0.3 .............................\n",
      "[CV] n_estimators=150, learning_rate=0.3 .............................\n",
      "[CV] .... n_estimators=250, learning_rate=0.1, score=0.787625 - 4.2min\n",
      "[CV] n_estimators=150, learning_rate=0.3 .............................\n",
      "[CV] .... n_estimators=100, learning_rate=0.3, score=0.788239 - 1.6min\n",
      "[CV] .... n_estimators=100, learning_rate=0.3, score=0.782710 - 1.7min\n",
      "[CV] n_estimators=200, learning_rate=0.3 .............................\n",
      "[CV] .... n_estimators=250, learning_rate=0.1, score=0.781930 - 4.3min\n",
      "[CV] n_estimators=200, learning_rate=0.3 .............................\n",
      "[CV] n_estimators=200, learning_rate=0.3 .............................\n",
      "[CV] .... n_estimators=100, learning_rate=0.3, score=0.785901 - 1.7min\n",
      "[CV] n_estimators=250, learning_rate=0.3 .............................\n",
      "[CV] .... n_estimators=250, learning_rate=0.1, score=0.786246 - 4.2min\n",
      "[CV] n_estimators=250, learning_rate=0.3 .............................\n",
      "[CV] .... n_estimators=150, learning_rate=0.3, score=0.784531 - 2.4min\n",
      "[CV] n_estimators=250, learning_rate=0.3 .............................\n",
      "[CV] .... n_estimators=150, learning_rate=0.3, score=0.791776 - 2.4min\n",
      "[CV] n_estimators=50, learning_rate=1 ................................\n",
      "[CV] ....... n_estimators=50, learning_rate=1, score=0.782091 -  52.1s\n",
      "[CV] n_estimators=50, learning_rate=1 ................................\n",
      "[CV] .... n_estimators=150, learning_rate=0.3, score=0.791307 - 2.6min\n",
      "[CV] n_estimators=50, learning_rate=1 ................................\n",
      "[CV] ....... n_estimators=50, learning_rate=1, score=0.780813 -  49.2s\n",
      "[CV] n_estimators=100, learning_rate=1 ...............................\n",
      "[CV] .... n_estimators=200, learning_rate=0.3, score=0.786817 - 3.4min\n",
      "[CV] ....... n_estimators=50, learning_rate=1, score=0.779253 -  51.8s\n",
      "[CV] .... n_estimators=200, learning_rate=0.3, score=0.793571 - 3.3min\n",
      "[CV] n_estimators=100, learning_rate=1 ...............................\n",
      "[CV] n_estimators=100, learning_rate=1 ...............................\n",
      "[CV] n_estimators=150, learning_rate=1 ...............................\n",
      "[CV] .... n_estimators=200, learning_rate=0.3, score=0.793266 - 3.4min\n",
      "[CV] n_estimators=150, learning_rate=1 ...............................\n",
      "[CV] .... n_estimators=250, learning_rate=0.3, score=0.787847 - 4.1min\n",
      "[CV] n_estimators=150, learning_rate=1 ...............................\n",
      "[CV] ...... n_estimators=100, learning_rate=1, score=0.783583 - 1.7min\n",
      "[CV] n_estimators=200, learning_rate=1 ...............................\n",
      "[CV] .... n_estimators=250, learning_rate=0.3, score=0.795621 - 4.1min\n",
      "[CV] n_estimators=200, learning_rate=1 ...............................\n",
      "[CV] ...... n_estimators=100, learning_rate=1, score=0.781340 - 1.7min\n",
      "[CV] n_estimators=200, learning_rate=1 ...............................\n",
      "[CV] ...... n_estimators=100, learning_rate=1, score=0.777204 - 1.7min\n",
      "[CV] n_estimators=250, learning_rate=1 ...............................\n",
      "[CV] .... n_estimators=250, learning_rate=0.3, score=0.795745 - 4.2min\n",
      "[CV] n_estimators=250, learning_rate=1 ...............................\n",
      "[CV] ...... n_estimators=150, learning_rate=1, score=0.780914 - 2.5min\n",
      "[CV] ...... n_estimators=150, learning_rate=1, score=0.779562 - 2.4min\n",
      "[CV] n_estimators=250, learning_rate=1 ...............................\n",
      "[CV] ...... n_estimators=150, learning_rate=1, score=0.782920 - 2.3min\n",
      "[CV] ...... n_estimators=200, learning_rate=1, score=0.780285 - 3.0min\n",
      "[CV] ...... n_estimators=200, learning_rate=1, score=0.776097 - 3.0min\n",
      "[CV] ...... n_estimators=200, learning_rate=1, score=0.779976 - 2.9min\n",
      "[CV] ...... n_estimators=250, learning_rate=1, score=0.777187 - 3.2min\n",
      "[CV] ...... n_estimators=250, learning_rate=1, score=0.774169 - 2.8min\n",
      "[CV] ...... n_estimators=250, learning_rate=1, score=0.778463 - 2.6min\n"
     ]
    },
    {
     "name": "stderr",
     "output_type": "stream",
     "text": [
      "[Parallel(n_jobs=8)]: Done  75 out of  75 | elapsed: 24.9min finished\n"
     ]
    }
   ],
   "source": [
    "train_gs_X, test_gs_X, train_gs_Y, test_gs_Y = train_test_split(new_features, target, random_state=42,train_size=0.1 )\n",
    "gb_grid_params = {\"n_estimators\": [x  for x in range(49,251) if x % 50 == 0],\n",
    "                   \"learning_rate\": [0.01, 0.03,0.1,0.3,1]}\n",
    "print(gb_grid_params)\n",
    "\n",
    "gb_gs = xgb.XGBClassifier()\n",
    "\n",
    "clf = grid_search.GridSearchCV(gb_gs,                               \n",
    "                               gb_grid_params,\n",
    "                               cv=3,\n",
    "                               scoring='roc_auc',\n",
    "                               verbose = 3, \n",
    "                               n_jobs=8);\n",
    "clf.fit(train_gs_X, train_gs_Y);\n"
   ]
  },
  {
   "cell_type": "code",
   "execution_count": 8,
   "metadata": {
    "collapsed": false,
    "scrolled": true
   },
   "outputs": [
    {
     "name": "stdout",
     "output_type": "stream",
     "text": [
      "Best parameters set found on development set:\n",
      "{'n_estimators': 250, 'learning_rate': 0.3}\n",
      "Grid scores on development set:\n",
      "0.740 (+/-0.002) for {'n_estimators': 50, 'learning_rate': 0.01}\n",
      "0.743 (+/-0.003) for {'n_estimators': 100, 'learning_rate': 0.01}\n",
      "0.746 (+/-0.002) for {'n_estimators': 150, 'learning_rate': 0.01}\n",
      "0.750 (+/-0.003) for {'n_estimators': 200, 'learning_rate': 0.01}\n",
      "0.753 (+/-0.004) for {'n_estimators': 250, 'learning_rate': 0.01}\n",
      "0.746 (+/-0.002) for {'n_estimators': 50, 'learning_rate': 0.03}\n",
      "0.757 (+/-0.004) for {'n_estimators': 100, 'learning_rate': 0.03}\n",
      "0.767 (+/-0.005) for {'n_estimators': 150, 'learning_rate': 0.03}\n",
      "0.773 (+/-0.004) for {'n_estimators': 200, 'learning_rate': 0.03}\n",
      "0.775 (+/-0.004) for {'n_estimators': 250, 'learning_rate': 0.03}\n",
      "0.770 (+/-0.004) for {'n_estimators': 50, 'learning_rate': 0.1}\n",
      "0.779 (+/-0.004) for {'n_estimators': 100, 'learning_rate': 0.1}\n",
      "0.782 (+/-0.005) for {'n_estimators': 150, 'learning_rate': 0.1}\n",
      "0.784 (+/-0.005) for {'n_estimators': 200, 'learning_rate': 0.1}\n",
      "0.785 (+/-0.005) for {'n_estimators': 250, 'learning_rate': 0.1}\n",
      "0.780 (+/-0.005) for {'n_estimators': 50, 'learning_rate': 0.3}\n",
      "0.786 (+/-0.005) for {'n_estimators': 100, 'learning_rate': 0.3}\n",
      "0.789 (+/-0.007) for {'n_estimators': 150, 'learning_rate': 0.3}\n",
      "0.791 (+/-0.006) for {'n_estimators': 200, 'learning_rate': 0.3}\n",
      "0.793 (+/-0.007) for {'n_estimators': 250, 'learning_rate': 0.3}\n",
      "0.781 (+/-0.002) for {'n_estimators': 50, 'learning_rate': 1}\n",
      "0.781 (+/-0.005) for {'n_estimators': 100, 'learning_rate': 1}\n",
      "0.781 (+/-0.003) for {'n_estimators': 150, 'learning_rate': 1}\n",
      "0.779 (+/-0.004) for {'n_estimators': 200, 'learning_rate': 1}\n",
      "0.777 (+/-0.004) for {'n_estimators': 250, 'learning_rate': 1}\n"
     ]
    }
   ],
   "source": [
    "print(\"Best parameters set found on development set:\")\n",
    "print(clf.best_params_)\n",
    "print(\"Grid scores on development set:\")\n",
    "for params, mean_score, scores in clf.grid_scores_:\n",
    "    print(\"%0.3f (+/-%0.03f) for %r\"\n",
    "        % (mean_score, scores.std() * 2, params))"
   ]
  },
  {
   "cell_type": "code",
   "execution_count": 9,
   "metadata": {
    "collapsed": false,
    "scrolled": true
   },
   "outputs": [
    {
     "data": {
      "text/plain": [
       "XGBClassifier(base_score=0.5, colsample_bylevel=1, colsample_bytree=1,\n",
       "       gamma=0, learning_rate=0.3, max_delta_step=0, max_depth=6,\n",
       "       min_child_weight=1, missing=None, n_estimators=250, nthread=-1,\n",
       "       objective='binary:logistic', reg_alpha=0, reg_lambda=1,\n",
       "       scale_pos_weight=1, seed=0, silent=True, subsample=1)"
      ]
     },
     "execution_count": 9,
     "metadata": {},
     "output_type": "execute_result"
    }
   ],
   "source": [
    "new_trainX, new_testX, new_trainY, new_testY = train_test_split(new_features, target, random_state=42,train_size=0.5 )\n",
    "gb2 = xgb.XGBClassifier(learning_rate=0.3, n_estimators=250, max_depth=6)\n",
    "gb2.fit(new_trainX,new_trainY)"
   ]
  },
  {
   "cell_type": "code",
   "execution_count": 10,
   "metadata": {
    "collapsed": false
   },
   "outputs": [
    {
     "name": "stdout",
     "output_type": "stream",
     "text": [
      "ROC AUC score - model XGBoost with learning rate 0.3 and number of trees 250\n"
     ]
    },
    {
     "data": {
      "text/plain": [
       "0.81758089824153213"
      ]
     },
     "execution_count": 10,
     "metadata": {},
     "output_type": "execute_result"
    }
   ],
   "source": [
    "print \"ROC AUC score - model XGBoost with learning rate 0.3 and number of trees 250\"\n",
    "roc_auc_score(new_testY, gb2.predict_proba(new_testX)[:, 1])"
   ]
  },
  {
   "cell_type": "code",
   "execution_count": 11,
   "metadata": {
    "collapsed": false
   },
   "outputs": [
    {
     "data": {
      "image/png": "[encoded data removed]",
      "text/plain": [
       "<matplotlib.figure.Figure at 0x7f6ed7f3e450>"
      ]
     },
     "metadata": {},
     "output_type": "display_data"
    }
   ],
   "source": [
    "plt.figure(figsize=[6, 6])\n",
    "fpr, tpr, thresholds = roc_curve(new_testY, gb2.predict_proba(new_testX)[:, 1])\n",
    "roc_auc = auc(fpr, tpr)\n",
    "plt.plot(fpr, tpr, lw=1, label='ROC BDT (area = %0.2f)'%(roc_auc))\n",
    "plt.plot([0, 1], [0, 1], '--', color=(0.6, 0.6, 0.6), label='no discrimination')\n",
    "plt.xlim([-0.05, 1.05])\n",
    "plt.ylim([-0.05, 1.05])\n",
    "plt.xlabel('False Positive Rate')\n",
    "plt.ylabel('True Positive Rate')\n",
    "plt.title('Receiver operating characteristic')\n",
    "plt.legend(loc=\"lower right\")\n",
    "plt.grid()\n",
    "plt.show()"
   ]
  },
  {
   "cell_type": "markdown",
   "metadata": {},
   "source": [
    "Show dependency of BDT quality on the number of trees. \n",
    "----------\n",
    "To obtain this values I use staged_predict_proba"
   ]
  },
  {
   "cell_type": "code",
   "execution_count": null,
   "metadata": {
    "collapsed": false,
    "scrolled": true
   },
   "outputs": [],
   "source": [
    "tree_scores = [] \n",
    "for tree_nb in range(1,249):\n",
    "    proba = gb2.predict_proba(new_testX,ntree_limit=tree_nb)\n",
    "    predicted = proba[:, 1]\n",
    "    score =  roc_auc_score(new_testY, predicted)\n",
    "    tree_scores.append(score)"
   ]
  },
  {
   "cell_type": "code",
   "execution_count": 17,
   "metadata": {
    "collapsed": false,
    "scrolled": true
   },
   "outputs": [
    {
     "data": {
      "image/png": "[encoded data removed]",
      "text/plain": [
       "<matplotlib.figure.Figure at 0x7f6ed5cdfc50>"
      ]
     },
     "metadata": {},
     "output_type": "display_data"
    }
   ],
   "source": [
    "x = numpy.array([x  for x in range(1,249)])\n",
    "plt.figure()\n",
    "plt.plot(x,tree_scores)\n",
    "plt.ylim(0.75, 0.82)\n",
    "plt.xlabel('no of trees')\n",
    "plt.ylabel('score ROC_AUC')\n",
    "plt.show()"
   ]
  },
  {
   "cell_type": "markdown",
   "metadata": {},
   "source": [
    "Save model to file \n",
    "-------\n",
    "It is a good idea to save BDT parameters to file for further study.  \n",
    "I use **sklearn.externals.joblib**. According to the documentation is more effitient than pickle. "
   ]
  },
  {
   "cell_type": "code",
   "execution_count": 19,
   "metadata": {
    "collapsed": false
   },
   "outputs": [
    {
     "data": {
      "text/plain": [
       "['models/XGBoost_200tree.pkl',\n",
       " 'models/XGBoost_200tree.pkl_01.npy',\n",
       " 'models/XGBoost_200tree.pkl_02.npy']"
      ]
     },
     "execution_count": 19,
     "metadata": {},
     "output_type": "execute_result"
    }
   ],
   "source": [
    "joblib.dump(gb2, 'models/XGBoost_200tree.pkl') "
   ]
  },
  {
   "cell_type": "markdown",
   "metadata": {},
   "source": [
    "Extend grid search  range of n_estimators to 600. \n",
    "-----------------\n",
    "This time I want to increase classifier score via extending search space.  \n",
    "I use data without linear feature transformations. "
   ]
  },
  {
   "cell_type": "code",
   "execution_count": null,
   "metadata": {
    "collapsed": false,
    "scrolled": false
   },
   "outputs": [],
   "source": [
    "train_gs_X, test_gs_X, train_gs_Y, test_gs_Y = train_test_split(new_features, target, random_state=42,train_size=0.1 )\n",
    "gb_grid_params = {\"n_estimators\": [x  for x in range(299,601) if x % 50 == 0],\n",
    "                   \"learning_rate\": [0.1,0.3,0.7,1]}\n",
    "print(gb_grid_params)\n",
    "\n",
    "gb_gs = xgb.XGBClassifier()\n",
    "\n",
    "clf = grid_search.GridSearchCV(gb_gs,\n",
    "                               gb_grid_params,\n",
    "                               cv=3,\n",
    "                               scoring='roc_auc',\n",
    "                               verbose = 3, \n",
    "                               n_jobs=8);\n",
    "clf.fit(train_gs_X, train_gs_Y);"
   ]
  },
  {
   "cell_type": "code",
   "execution_count": 8,
   "metadata": {
    "collapsed": false
   },
   "outputs": [
    {
     "name": "stdout",
     "output_type": "stream",
     "text": [
      "Best parameters set found on development set:\n",
      "{'n_estimators': 450, 'learning_rate': 0.3}\n",
      "Grid scores on development set:\n",
      "0.787 (+/-0.005) for {'n_estimators': 300, 'learning_rate': 0.1}\n",
      "0.788 (+/-0.005) for {'n_estimators': 350, 'learning_rate': 0.1}\n",
      "0.789 (+/-0.006) for {'n_estimators': 400, 'learning_rate': 0.1}\n",
      "0.790 (+/-0.006) for {'n_estimators': 450, 'learning_rate': 0.1}\n",
      "0.791 (+/-0.006) for {'n_estimators': 500, 'learning_rate': 0.1}\n",
      "0.791 (+/-0.006) for {'n_estimators': 550, 'learning_rate': 0.1}\n",
      "0.792 (+/-0.007) for {'n_estimators': 600, 'learning_rate': 0.1}\n",
      "0.793 (+/-0.007) for {'n_estimators': 300, 'learning_rate': 0.3}\n",
      "0.794 (+/-0.008) for {'n_estimators': 350, 'learning_rate': 0.3}\n",
      "0.795 (+/-0.007) for {'n_estimators': 400, 'learning_rate': 0.3}\n",
      "0.795 (+/-0.006) for {'n_estimators': 450, 'learning_rate': 0.3}\n",
      "0.795 (+/-0.005) for {'n_estimators': 500, 'learning_rate': 0.3}\n",
      "0.794 (+/-0.005) for {'n_estimators': 550, 'learning_rate': 0.3}\n",
      "0.794 (+/-0.006) for {'n_estimators': 600, 'learning_rate': 0.3}\n",
      "0.783 (+/-0.006) for {'n_estimators': 300, 'learning_rate': 0.7}\n",
      "0.782 (+/-0.006) for {'n_estimators': 350, 'learning_rate': 0.7}\n",
      "0.781 (+/-0.006) for {'n_estimators': 400, 'learning_rate': 0.7}\n",
      "0.780 (+/-0.006) for {'n_estimators': 450, 'learning_rate': 0.7}\n",
      "0.779 (+/-0.006) for {'n_estimators': 500, 'learning_rate': 0.7}\n",
      "0.778 (+/-0.006) for {'n_estimators': 550, 'learning_rate': 0.7}\n",
      "0.777 (+/-0.006) for {'n_estimators': 600, 'learning_rate': 0.7}\n",
      "0.774 (+/-0.002) for {'n_estimators': 300, 'learning_rate': 1}\n",
      "0.773 (+/-0.001) for {'n_estimators': 350, 'learning_rate': 1}\n",
      "0.770 (+/-0.001) for {'n_estimators': 400, 'learning_rate': 1}\n",
      "0.768 (+/-0.003) for {'n_estimators': 450, 'learning_rate': 1}\n",
      "0.766 (+/-0.004) for {'n_estimators': 500, 'learning_rate': 1}\n",
      "0.765 (+/-0.002) for {'n_estimators': 550, 'learning_rate': 1}\n",
      "0.764 (+/-0.003) for {'n_estimators': 600, 'learning_rate': 1}\n"
     ]
    }
   ],
   "source": [
    "print(\"Best parameters set found on development set:\")\n",
    "print(clf.best_params_)\n",
    "print(\"Grid scores on development set:\")\n",
    "for params, mean_score, scores in clf.grid_scores_:\n",
    "    print(\"%0.3f (+/-%0.03f) for %r\"\n",
    "        % (mean_score, scores.std() * 2, params))"
   ]
  },
  {
   "cell_type": "markdown",
   "metadata": {},
   "source": [
    "Train the new model\n",
    "----------\n",
    "* n_estimators 400\n",
    "* learning rate 0.3"
   ]
  },
  {
   "cell_type": "code",
   "execution_count": 13,
   "metadata": {
    "collapsed": false
   },
   "outputs": [
    {
     "data": {
      "text/plain": [
       "['models/XGBoost_400trees.pkl',\n",
       " 'models/XGBoost_400trees.pkl_01.npy',\n",
       " 'models/XGBoost_400trees.pkl_02.npy']"
      ]
     },
     "execution_count": 13,
     "metadata": {},
     "output_type": "execute_result"
    }
   ],
   "source": [
    "train_X, test_X, train_Y, test_Y = train_test_split(new_features, target, random_state=42,train_size=0.5 )\n",
    "\n",
    "gb3 = xgb.XGBClassifier( n_estimators=400, learning_rate=0.2, max_depth=6)\n",
    "gb3.fit(train_X, train_Y)\n",
    "joblib.dump(gb3, 'models/XGBoost_400trees.pkl') "
   ]
  },
  {
   "cell_type": "code",
   "execution_count": 7,
   "metadata": {
    "collapsed": false
   },
   "outputs": [],
   "source": [
    "gb3 = joblib.load('models/XGBoost_400trees.pkl')\n",
    "train_X, test_X, train_Y, test_Y = train_test_split(new_features, target, random_state=42,train_size=0.5 )              "
   ]
  },
  {
   "cell_type": "code",
   "execution_count": 14,
   "metadata": {
    "collapsed": false
   },
   "outputs": [
    {
     "name": "stdout",
     "output_type": "stream",
     "text": [
      "ROC AUC score\n"
     ]
    },
    {
     "data": {
      "text/plain": [
       "0.81908188341647703"
      ]
     },
     "execution_count": 14,
     "metadata": {},
     "output_type": "execute_result"
    }
   ],
   "source": [
    "print \"ROC AUC score\"\n",
    "roc_auc_score(test_Y, gb3.predict_proba(test_X)[:, 1])"
   ]
  },
  {
   "cell_type": "code",
   "execution_count": 15,
   "metadata": {
    "collapsed": false,
    "scrolled": true
   },
   "outputs": [
    {
     "data": {
      "image/png": "[encoded data removed]",
      "text/plain": [
       "<matplotlib.figure.Figure at 0x7faf63f40510>"
      ]
     },
     "metadata": {},
     "output_type": "display_data"
    }
   ],
   "source": [
    "plt.figure(figsize=[6, 6])\n",
    "fpr, tpr, thresholds = roc_curve(test_Y, gb3.predict_proba(test_X)[:, 1])\n",
    "roc_auc = auc(fpr, tpr)\n",
    "plt.plot(fpr, tpr, lw=1, label='ROC BDT (area = %0.2f)'%(roc_auc))\n",
    "plt.plot([0, 1], [0, 1], '--', color=(0.6, 0.6, 0.6), label='no discrimination')\n",
    "plt.plot([0.95, 1], [0.95, 1], '--', color=(0.6, 0.6, 0.6), label='no discrimination')\n",
    "plt.xlim([-0.05, 1.05])\n",
    "plt.ylim([-0.05, 1.05])\n",
    "plt.xlabel('False Positive Rate')\n",
    "plt.ylabel('True Positive Rate')\n",
    "plt.title('Receiver operating characteristic')\n",
    "plt.legend(loc=\"lower right\")\n",
    "plt.grid()\n",
    "plt.show()"
   ]
  },
  {
   "cell_type": "code",
   "execution_count": 31,
   "metadata": {
    "collapsed": false
   },
   "outputs": [
    {
     "data": {
      "image/png": "[encoded data removed]",
      "text/plain": [
       "<matplotlib.figure.Figure at 0x7fafa85f7ed0>"
      ]
     },
     "metadata": {},
     "output_type": "display_data"
    }
   ],
   "source": [
    "plt.figure(figsize=[6, 6])\n",
    "fpr, tpr, thresholds = roc_curve(test_Y, gb3.predict_proba(test_X)[:, 1])\n",
    "roc_auc = auc(fpr, tpr)\n",
    "plt.plot(fpr, tpr, lw=1, label='ROC BDT (area = %0.2f)'%(roc_auc))\n",
    "plt.plot([0, 1], [0, 1], '--', color=(0.6, 0.6, 0.6), label='no discrimination')\n",
    "plt.plot([0.95, 1], [0.95, 1], '--', color=(0.6, 0.6, 0.6), label='no discrimination')\n",
    "plt.xlim([0.5, 1])\n",
    "plt.ylim([0.95, 1])\n",
    "plt.xlabel('False Positive Rate')\n",
    "plt.ylabel('True Positive Rate')\n",
    "plt.title('Zoomed receiver operating characteristic')\n",
    "plt.legend(loc=\"lower right\")\n",
    "plt.grid()\n",
    "plt.show()"
   ]
  },
  {
   "cell_type": "code",
   "execution_count": null,
   "metadata": {
    "collapsed": false,
    "scrolled": false
   },
   "outputs": [],
   "source": [
    "tree_scores = [] \n",
    "for tree_nb in range(1,399):\n",
    "    proba = gb3.predict_proba(test_X,ntree_limit=tree_nb)\n",
    "    predicted = proba[:, 1]\n",
    "    score =  roc_auc_score(test_Y, predicted)\n",
    "    print(\"\".join([\"tree \",str(tree_nb), \" score \", str(score)]))\n",
    "    tree_scores.append(score)"
   ]
  },
  {
   "cell_type": "code",
   "execution_count": 26,
   "metadata": {
    "collapsed": false
   },
   "outputs": [
    {
     "data": {
      "image/png": "[encoded data removed]",
      "text/plain": [
       "<matplotlib.figure.Figure at 0x7fafac674310>"
      ]
     },
     "metadata": {},
     "output_type": "display_data"
    }
   ],
   "source": [
    "x = numpy.array([x  for x in range(400)])\n",
    "plt.figure()\n",
    "plt.plot(x,tree_scores[:400])\n",
    "plt.ylim(0.76, 0.825)\n",
    "plt.xlabel('no of trees')\n",
    "plt.ylabel('score ROC_AUC')\n",
    "plt.show()"
   ]
  },
  {
   "cell_type": "markdown",
   "metadata": {},
   "source": [
    "Conclusions\n",
    "--------\n",
    "I try to add more features I will use as a number of trees = 300 for further study.  \n",
    "To get the best, final  result I need to use about 350 trees. \n",
    "\n",
    "Model comparison \n",
    "---------\n",
    "In comparable to sklearn's model I obtained about 1% of improvement! This is quite nice. "
   ]
  },
  {
   "cell_type": "markdown",
   "metadata": {},
   "source": [
    "Now you can go to the next model - [Logistic Regression](https://github.com/adendek/DownstreamTracking/blob/master/SeedClasifier/LogisticRegression.ipynb)    \n",
    "========="
   ]
  },
  {
   "cell_type": "code",
   "execution_count": null,
   "metadata": {
    "collapsed": true
   },
   "outputs": [],
   "source": []
  }
 ],
 "metadata": {
  "kernelspec": {
   "display_name": "Python 2",
   "language": "python",
   "name": "python2"
  },
  "language_info": {
   "codemirror_mode": {
    "name": "ipython",
    "version": 2
   },
   "file_extension": ".py",
   "mimetype": "text/x-python",
   "name": "python",
   "nbconvert_exporter": "python",
   "pygments_lexer": "ipython2",
   "version": "2.7.10"
  }
 },
 "nbformat": 4,
 "nbformat_minor": 0
}

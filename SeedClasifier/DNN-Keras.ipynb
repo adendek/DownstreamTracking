{
 "cells": [
  {
   "cell_type": "markdown",
   "metadata": {},
   "source": [
    "(Deep) Neural Network approach to the LHCb Ddownstream Tracking T-Seed selection. \n",
    "====================\n",
    "Study description\n",
    "-------------\n",
    "This script contains all of my study based on deep and shalow neural networks.  \n",
    "To constructs models I will use [Keras](https://keras.io/) with Theano background.  \n",
    "All features are normalized. \n",
    "\n",
    "Study roadmap\n",
    "----------------\n",
    "1. Train 1 NN with ReLU nonlinearities  \n",
    "   1.1 At first I use 200 hidden unit per layer  \n",
    "   1.2  Try different drop-out and regularization layers (both L1 and L2)    \n",
    "2. Use GridSearchCV to tune number of hidden layer\n",
    "3. Train second Shallow Neural Network contains 2 hidden layers. Do simillar optimalization steps as prevoiusly. \n",
    "4. Train Deep Neural Network (at least 5 hidden layer). \n",
    "\n",
    "\n",
    "The previous models scores to beat:\n",
    "----------\n",
    "* kNN **0.787**\n",
    "* Logistic Regresion **0.77**\n",
    "* BDT (XGboost) **0.82 **\n",
    "* Lasagne 1NN   **0.78722** "
   ]
  },
  {
   "cell_type": "code",
   "execution_count": 1,
   "metadata": {
    "collapsed": false
   },
   "outputs": [
    {
     "name": "stdout",
     "output_type": "stream",
     "text": [
      "Kernel is alive!\n"
     ]
    }
   ],
   "source": [
    "print(\"Kernel is alive!\")"
   ]
  },
  {
   "cell_type": "code",
   "execution_count": 2,
   "metadata": {
    "collapsed": false
   },
   "outputs": [
    {
     "data": {
      "application/javascript": [
       "require(['codemirror/mode/clike/clike'], function(Clike) { console.log('ROOTaaS - C++ CodeMirror module loaded'); });"
      ]
     },
     "metadata": {},
     "output_type": "display_data"
    },
    {
     "data": {
      "application/javascript": [
       "IPython.CodeCell.config_defaults.highlight_modes['magic_text/x-c++src'] = {'reg':[/^%%cpp/]};"
      ]
     },
     "metadata": {},
     "output_type": "display_data"
    },
    {
     "name": "stdout",
     "output_type": "stream",
     "text": [
      "Welcome to ROOTaaS 6.06/02\n",
      "Couldn't import dot_parser, loading of dot files will not be possible.\n"
     ]
    },
    {
     "name": "stderr",
     "output_type": "stream",
     "text": [
      "Using Theano backend.\n"
     ]
    }
   ],
   "source": [
    "import root_numpy\n",
    "import pandas as pd\n",
    "import numpy\n",
    "import numpy as np\n",
    "import matplotlib.pyplot as plt\n",
    "import ROOT\n",
    "%matplotlib inline\n",
    "\n",
    "import warnings # current version of seaborn generates a bunch of warnings that we'll ignore\n",
    "warnings.filterwarnings(\"ignore\")\n",
    "import seaborn as sns\n",
    "\n",
    "from sklearn import linear_model\n",
    "from sklearn.cross_validation import train_test_split\n",
    "from sklearn.metrics import roc_auc_score, accuracy_score\n",
    "from sklearn.metrics import roc_curve, auc\n",
    "from sklearn import cross_validation\n",
    "from sklearn.preprocessing import PolynomialFeatures\n",
    "from sklearn.learning_curve import learning_curve\n",
    "from sklearn.pipeline import Pipeline\n",
    "from sklearn.preprocessing import StandardScaler\n",
    "from sklearn.learning_curve import validation_curve\n",
    "\n",
    "import theano\n",
    "import theano.tensor as T\n",
    "\n",
    "from keras.models import Sequential\n",
    "from keras.layers.core import Dense, Activation, Dropout\n",
    "from keras.layers.advanced_activations import PReLU, LeakyReLU\n",
    "from keras.utils import np_utils\n",
    "from keras.wrappers.scikit_learn import KerasClassifier\n",
    "from keras.regularizers import l2, activity_l2\n",
    "from keras.regularizers import l1, activity_l1\n",
    "from keras.layers.normalization import BatchNormalization\n",
    "from keras.optimizers import  RMSprop\n",
    "\n",
    "theano.config.gcc.cxxflags=\"-march=sandybridge\"\n",
    "\n",
    "import time"
   ]
  },
  {
   "cell_type": "markdown",
   "metadata": {},
   "source": [
    "Grab training data form the NTuple\n",
    "--------------------------"
   ]
  },
  {
   "cell_type": "code",
   "execution_count": 3,
   "metadata": {
    "collapsed": false
   },
   "outputs": [],
   "source": [
    "root_file = ROOT.TFile(\"datasets/Brunel_test_30kev.root\")\n",
    "root_file.cd(\"ToolSvc.PatDebugTTTruthTool\")\n",
    "tree = ROOT.gDirectory.Get(\"DownstreamSeedDebugTuple\")\n",
    "data = pd.DataFrame(root_numpy.tree2array(tree, stop=1000000))\n",
    "\n",
    "target = data.is_true_seed\n",
    "features = data.drop(\"is_true_seed\", axis=1).astype(numpy.float64)"
   ]
  },
  {
   "cell_type": "code",
   "execution_count": 4,
   "metadata": {
    "collapsed": false
   },
   "outputs": [],
   "source": [
    "def add_basic_features(data):\n",
    "    #abs transformation\n",
    "    out = data\n",
    "    out[\"seed_x\"]=numpy.abs(data['seed_x'])\n",
    "    out[\"seed_y\"]=numpy.abs(data['seed_y'])\n",
    "    out[\"seed_tx\"]=numpy.abs(data['seed_tx'])\n",
    "    out[\"seed_ty\"]=numpy.abs(data['seed_ty'])\n",
    "    #log transformation\n",
    "    out[\"seed_p\"]= numpy.log(data['seed_p'])\n",
    "    out[\"seed_pt\"]= numpy.log(data['seed_pt'])\n",
    "    out['pseudo_rapidity'] = numpy.arctanh(data.seed_pt/data.seed_p)\n",
    "    out['seed_r'] = numpy.sqrt(numpy.square(data.seed_x) +numpy.square(data.seed_y))\n",
    "    \n",
    "    return out"
   ]
  },
  {
   "cell_type": "code",
   "execution_count": 5,
   "metadata": {
    "collapsed": false
   },
   "outputs": [
    {
     "data": {
      "text/html": [
       "<div style=\"max-height:1000px;max-width:1500px;overflow:auto;\">\n",
       "<table border=\"1\" class=\"dataframe\">\n",
       "  <thead>\n",
       "    <tr style=\"text-align: right;\">\n",
       "      <th></th>\n",
       "      <th>seed_chi2PerDoF</th>\n",
       "      <th>seed_p</th>\n",
       "      <th>seed_pt</th>\n",
       "      <th>seed_nLHCbIDs</th>\n",
       "      <th>seed_nbIT</th>\n",
       "      <th>seed_nLayers</th>\n",
       "      <th>seed_x</th>\n",
       "      <th>seed_y</th>\n",
       "      <th>seed_tx</th>\n",
       "      <th>seed_ty</th>\n",
       "      <th>pseudo_rapidity</th>\n",
       "      <th>seed_r</th>\n",
       "    </tr>\n",
       "  </thead>\n",
       "  <tbody>\n",
       "    <tr>\n",
       "      <th>0</th>\n",
       "      <td>1.213708</td>\n",
       "      <td>7.841285</td>\n",
       "      <td>7.079410</td>\n",
       "      <td>25</td>\n",
       "      <td>0</td>\n",
       "      <td>12</td>\n",
       "      <td>1263.157617</td>\n",
       "      <td>517.249191</td>\n",
       "      <td>0.524220</td>\n",
       "      <td>0.061572</td>\n",
       "      <td>1.487361</td>\n",
       "      <td>1364.959300</td>\n",
       "    </tr>\n",
       "    <tr>\n",
       "      <th>1</th>\n",
       "      <td>1.346112</td>\n",
       "      <td>7.930741</td>\n",
       "      <td>7.093734</td>\n",
       "      <td>25</td>\n",
       "      <td>0</td>\n",
       "      <td>12</td>\n",
       "      <td>1264.522435</td>\n",
       "      <td>99.363473</td>\n",
       "      <td>0.480288</td>\n",
       "      <td>0.009081</td>\n",
       "      <td>1.443802</td>\n",
       "      <td>1268.420312</td>\n",
       "    </tr>\n",
       "    <tr>\n",
       "      <th>2</th>\n",
       "      <td>1.627632</td>\n",
       "      <td>8.469986</td>\n",
       "      <td>7.443378</td>\n",
       "      <td>25</td>\n",
       "      <td>0</td>\n",
       "      <td>12</td>\n",
       "      <td>1521.093160</td>\n",
       "      <td>196.064807</td>\n",
       "      <td>0.382802</td>\n",
       "      <td>0.025975</td>\n",
       "      <td>1.370450</td>\n",
       "      <td>1533.677219</td>\n",
       "    </tr>\n",
       "    <tr>\n",
       "      <th>3</th>\n",
       "      <td>1.789231</td>\n",
       "      <td>8.556975</td>\n",
       "      <td>7.508752</td>\n",
       "      <td>25</td>\n",
       "      <td>0</td>\n",
       "      <td>12</td>\n",
       "      <td>1563.145597</td>\n",
       "      <td>483.850246</td>\n",
       "      <td>0.369674</td>\n",
       "      <td>0.058753</td>\n",
       "      <td>1.364796</td>\n",
       "      <td>1636.317578</td>\n",
       "    </tr>\n",
       "    <tr>\n",
       "      <th>4</th>\n",
       "      <td>1.269238</td>\n",
       "      <td>7.741082</td>\n",
       "      <td>7.132965</td>\n",
       "      <td>24</td>\n",
       "      <td>0</td>\n",
       "      <td>12</td>\n",
       "      <td>1641.727752</td>\n",
       "      <td>411.084316</td>\n",
       "      <td>0.646627</td>\n",
       "      <td>0.054980</td>\n",
       "      <td>1.598503</td>\n",
       "      <td>1692.412576</td>\n",
       "    </tr>\n",
       "  </tbody>\n",
       "</table>\n",
       "</div>"
      ],
      "text/plain": [
       "   seed_chi2PerDoF    seed_p   seed_pt  seed_nLHCbIDs  seed_nbIT  \\\n",
       "0         1.213708  7.841285  7.079410             25          0   \n",
       "1         1.346112  7.930741  7.093734             25          0   \n",
       "2         1.627632  8.469986  7.443378             25          0   \n",
       "3         1.789231  8.556975  7.508752             25          0   \n",
       "4         1.269238  7.741082  7.132965             24          0   \n",
       "\n",
       "   seed_nLayers       seed_x      seed_y   seed_tx   seed_ty  pseudo_rapidity  \\\n",
       "0            12  1263.157617  517.249191  0.524220  0.061572         1.487361   \n",
       "1            12  1264.522435   99.363473  0.480288  0.009081         1.443802   \n",
       "2            12  1521.093160  196.064807  0.382802  0.025975         1.370450   \n",
       "3            12  1563.145597  483.850246  0.369674  0.058753         1.364796   \n",
       "4            12  1641.727752  411.084316  0.646627  0.054980         1.598503   \n",
       "\n",
       "        seed_r  \n",
       "0  1364.959300  \n",
       "1  1268.420312  \n",
       "2  1533.677219  \n",
       "3  1636.317578  \n",
       "4  1692.412576  "
      ]
     },
     "execution_count": 5,
     "metadata": {},
     "output_type": "execute_result"
    }
   ],
   "source": [
    "data = add_basic_features(data)\n",
    "features = data.drop(\"is_true_seed\", axis=1).astype(numpy.float64)\n",
    "features.head()"
   ]
  },
  {
   "cell_type": "markdown",
   "metadata": {},
   "source": [
    "Train Shallow Neural Network (1NN) \n",
    "==================\n",
    "I try to train the shallow, contains only 1 hidden layer, neural network.  \n",
    "The data is normalized via StandardScaler. \n",
    "I first network also contains dropout and regularization layer.  \n",
    "The SNN is created using keras framework. To be able to use lot of sklearn features I will use keras sklearn [wrapper](https://keras.io/scikit-learn-api/)  \n",
    "I will train this classifier during 10 epoch."
   ]
  },
  {
   "cell_type": "code",
   "execution_count": 26,
   "metadata": {
    "collapsed": false
   },
   "outputs": [],
   "source": [
    "n_hidden = 400 \n",
    "p_drop = 0.2\n",
    "n_features = features.shape[1]"
   ]
  },
  {
   "cell_type": "code",
   "execution_count": 7,
   "metadata": {
    "collapsed": false
   },
   "outputs": [
    {
     "name": "stdout",
     "output_type": "stream",
     "text": [
      "good tracks 63737\n",
      "ghost track 936263\n",
      "ratio ghost to good 14.689000\n"
     ]
    }
   ],
   "source": [
    "good_track_no = counts = features[target == 1].count()[0]\n",
    "ghost_track_no = counts = features[target == 0].count()[0]\n",
    "print(\"good tracks %d\") % good_track_no\n",
    "print(\"ghost track %d\") % ghost_track_no\n",
    "ratio_ghost_to_good = float(ghost_track_no)/good_track_no\n",
    "ratio_ghost_to_good = numpy.round(ratio_ghost_to_good, 3)\n",
    "print (\"ratio ghost to good %f\") % ratio_ghost_to_good"
   ]
  },
  {
   "cell_type": "code",
   "execution_count": 35,
   "metadata": {
    "collapsed": false
   },
   "outputs": [],
   "source": [
    "def create_1nn(n_features, n_hidden, p_drop, reg ):\n",
    "    model = Sequential()\n",
    "    model.add(BatchNormalization(input_shape=(n_features,)))\n",
    "    model.add(Dense(n_hidden,input_dim=n_features,\n",
    "                    W_regularizer=l2(reg), activity_regularizer=activity_l2(reg)))\n",
    "    model.add(Activation('relu'))\n",
    "    #PReLU(input_shape=(n_hidden,))\n",
    "    #model.add(Dropout(p_drop))\n",
    "    model.add(Dense(2,input_dim=n_hidden))\n",
    "    model.add(Activation('softmax'))\n",
    "    \n",
    "    model.compile(loss='categorical_crossentropy', optimizer=\"rmsprop\")\n",
    "    return model"
   ]
  },
  {
   "cell_type": "code",
   "execution_count": 36,
   "metadata": {
    "collapsed": false
   },
   "outputs": [
    {
     "data": {
      "image/svg+xml": [
       "<svg height=\"488pt\" viewBox=\"0.00 0.00 412.00 488.00\" width=\"412pt\" xmlns=\"http://www.w3.org/2000/svg\" xmlns:xlink=\"http://www.w3.org/1999/xlink\">\n",
       "<g class=\"graph\" id=\"graph1\" transform=\"scale(1 1) rotate(0) translate(4 484)\">\n",
       "<title>G</title>\n",
       "<polygon fill=\"white\" points=\"-4,5 -4,-484 409,-484 409,5 -4,5\" stroke=\"white\"/>\n",
       "<!-- 140659381262672 -->\n",
       "<g class=\"node\" id=\"node1\"><title>140659381262672</title>\n",
       "<polygon fill=\"none\" points=\"7.5,-431 7.5,-479 396.5,-479 396.5,-431 7.5,-431\" stroke=\"black\"/>\n",
       "<text font-family=\"Times,serif\" font-size=\"14.00\" text-anchor=\"middle\" x=\"135.5\" y=\"-450.4\">batchnormalization_input_13 (InputLayer)</text>\n",
       "<polyline fill=\"none\" points=\"263.5,-431 263.5,-479 \" stroke=\"black\"/>\n",
       "<text font-family=\"Times,serif\" font-size=\"14.00\" text-anchor=\"middle\" x=\"291.5\" y=\"-462.4\">input:</text>\n",
       "<polyline fill=\"none\" points=\"263.5,-455 319.5,-455 \" stroke=\"black\"/>\n",
       "<text font-family=\"Times,serif\" font-size=\"14.00\" text-anchor=\"middle\" x=\"291.5\" y=\"-438.4\">output:</text>\n",
       "<polyline fill=\"none\" points=\"319.5,-431 319.5,-479 \" stroke=\"black\"/>\n",
       "<text font-family=\"Times,serif\" font-size=\"14.00\" text-anchor=\"middle\" x=\"358\" y=\"-462.4\">(None, 12)</text>\n",
       "<polyline fill=\"none\" points=\"319.5,-455 396.5,-455 \" stroke=\"black\"/>\n",
       "<text font-family=\"Times,serif\" font-size=\"14.00\" text-anchor=\"middle\" x=\"358\" y=\"-438.4\">(None, 12)</text>\n",
       "</g>\n",
       "<!-- 140659381261072 -->\n",
       "<g class=\"node\" id=\"node2\"><title>140659381261072</title>\n",
       "<polygon fill=\"none\" points=\"-0.5,-345 -0.5,-393 404.5,-393 404.5,-345 -0.5,-345\" stroke=\"black\"/>\n",
       "<text font-family=\"Times,serif\" font-size=\"14.00\" text-anchor=\"middle\" x=\"135.5\" y=\"-364.4\">batchnormalization_13 (BatchNormalization)</text>\n",
       "<polyline fill=\"none\" points=\"271.5,-345 271.5,-393 \" stroke=\"black\"/>\n",
       "<text font-family=\"Times,serif\" font-size=\"14.00\" text-anchor=\"middle\" x=\"299.5\" y=\"-376.4\">input:</text>\n",
       "<polyline fill=\"none\" points=\"271.5,-369 327.5,-369 \" stroke=\"black\"/>\n",
       "<text font-family=\"Times,serif\" font-size=\"14.00\" text-anchor=\"middle\" x=\"299.5\" y=\"-352.4\">output:</text>\n",
       "<polyline fill=\"none\" points=\"327.5,-345 327.5,-393 \" stroke=\"black\"/>\n",
       "<text font-family=\"Times,serif\" font-size=\"14.00\" text-anchor=\"middle\" x=\"366\" y=\"-376.4\">(None, 12)</text>\n",
       "<polyline fill=\"none\" points=\"327.5,-369 404.5,-369 \" stroke=\"black\"/>\n",
       "<text font-family=\"Times,serif\" font-size=\"14.00\" text-anchor=\"middle\" x=\"366\" y=\"-352.4\">(None, 12)</text>\n",
       "</g>\n",
       "<!-- 140659381262672&#45;&gt;140659381261072 -->\n",
       "<g class=\"edge\" id=\"edge2\"><title>140659381262672-&gt;140659381261072</title>\n",
       "<path d=\"M202,-430.601C202,-422.227 202,-412.617 202,-403.554\" fill=\"none\" stroke=\"black\"/>\n",
       "<polygon fill=\"black\" points=\"205.5,-403.273 202,-393.273 198.5,-403.273 205.5,-403.273\" stroke=\"black\"/>\n",
       "</g>\n",
       "<!-- 140659807097360 -->\n",
       "<g class=\"node\" id=\"node3\"><title>140659807097360</title>\n",
       "<polygon fill=\"none\" points=\"73.5,-259 73.5,-307 330.5,-307 330.5,-259 73.5,-259\" stroke=\"black\"/>\n",
       "<text font-family=\"Times,serif\" font-size=\"14.00\" text-anchor=\"middle\" x=\"132\" y=\"-278.4\">dense_25 (Dense)</text>\n",
       "<polyline fill=\"none\" points=\"190.5,-259 190.5,-307 \" stroke=\"black\"/>\n",
       "<text font-family=\"Times,serif\" font-size=\"14.00\" text-anchor=\"middle\" x=\"218.5\" y=\"-290.4\">input:</text>\n",
       "<polyline fill=\"none\" points=\"190.5,-283 246.5,-283 \" stroke=\"black\"/>\n",
       "<text font-family=\"Times,serif\" font-size=\"14.00\" text-anchor=\"middle\" x=\"218.5\" y=\"-266.4\">output:</text>\n",
       "<polyline fill=\"none\" points=\"246.5,-259 246.5,-307 \" stroke=\"black\"/>\n",
       "<text font-family=\"Times,serif\" font-size=\"14.00\" text-anchor=\"middle\" x=\"288.5\" y=\"-290.4\">(None, 12)</text>\n",
       "<polyline fill=\"none\" points=\"246.5,-283 330.5,-283 \" stroke=\"black\"/>\n",
       "<text font-family=\"Times,serif\" font-size=\"14.00\" text-anchor=\"middle\" x=\"288.5\" y=\"-266.4\">(None, 400)</text>\n",
       "</g>\n",
       "<!-- 140659381261072&#45;&gt;140659807097360 -->\n",
       "<g class=\"edge\" id=\"edge4\"><title>140659381261072-&gt;140659807097360</title>\n",
       "<path d=\"M202,-344.601C202,-336.227 202,-326.617 202,-317.554\" fill=\"none\" stroke=\"black\"/>\n",
       "<polygon fill=\"black\" points=\"205.5,-317.273 202,-307.273 198.5,-317.273 205.5,-317.273\" stroke=\"black\"/>\n",
       "</g>\n",
       "<!-- 140659373994064 -->\n",
       "<g class=\"node\" id=\"node4\"><title>140659373994064</title>\n",
       "<polygon fill=\"none\" points=\"50,-173 50,-221 354,-221 354,-173 50,-173\" stroke=\"black\"/>\n",
       "<text font-family=\"Times,serif\" font-size=\"14.00\" text-anchor=\"middle\" x=\"132\" y=\"-192.4\">activation_23 (Activation)</text>\n",
       "<polyline fill=\"none\" points=\"214,-173 214,-221 \" stroke=\"black\"/>\n",
       "<text font-family=\"Times,serif\" font-size=\"14.00\" text-anchor=\"middle\" x=\"242\" y=\"-204.4\">input:</text>\n",
       "<polyline fill=\"none\" points=\"214,-197 270,-197 \" stroke=\"black\"/>\n",
       "<text font-family=\"Times,serif\" font-size=\"14.00\" text-anchor=\"middle\" x=\"242\" y=\"-180.4\">output:</text>\n",
       "<polyline fill=\"none\" points=\"270,-173 270,-221 \" stroke=\"black\"/>\n",
       "<text font-family=\"Times,serif\" font-size=\"14.00\" text-anchor=\"middle\" x=\"312\" y=\"-204.4\">(None, 400)</text>\n",
       "<polyline fill=\"none\" points=\"270,-197 354,-197 \" stroke=\"black\"/>\n",
       "<text font-family=\"Times,serif\" font-size=\"14.00\" text-anchor=\"middle\" x=\"312\" y=\"-180.4\">(None, 400)</text>\n",
       "</g>\n",
       "<!-- 140659807097360&#45;&gt;140659373994064 -->\n",
       "<g class=\"edge\" id=\"edge6\"><title>140659807097360-&gt;140659373994064</title>\n",
       "<path d=\"M202,-258.601C202,-250.227 202,-240.617 202,-231.554\" fill=\"none\" stroke=\"black\"/>\n",
       "<polygon fill=\"black\" points=\"205.5,-231.273 202,-221.273 198.5,-231.273 205.5,-231.273\" stroke=\"black\"/>\n",
       "</g>\n",
       "<!-- 140659713466512 -->\n",
       "<g class=\"node\" id=\"node5\"><title>140659713466512</title>\n",
       "<polygon fill=\"none\" points=\"73.5,-87 73.5,-135 330.5,-135 330.5,-87 73.5,-87\" stroke=\"black\"/>\n",
       "<text font-family=\"Times,serif\" font-size=\"14.00\" text-anchor=\"middle\" x=\"132\" y=\"-106.4\">dense_26 (Dense)</text>\n",
       "<polyline fill=\"none\" points=\"190.5,-87 190.5,-135 \" stroke=\"black\"/>\n",
       "<text font-family=\"Times,serif\" font-size=\"14.00\" text-anchor=\"middle\" x=\"218.5\" y=\"-118.4\">input:</text>\n",
       "<polyline fill=\"none\" points=\"190.5,-111 246.5,-111 \" stroke=\"black\"/>\n",
       "<text font-family=\"Times,serif\" font-size=\"14.00\" text-anchor=\"middle\" x=\"218.5\" y=\"-94.4\">output:</text>\n",
       "<polyline fill=\"none\" points=\"246.5,-87 246.5,-135 \" stroke=\"black\"/>\n",
       "<text font-family=\"Times,serif\" font-size=\"14.00\" text-anchor=\"middle\" x=\"288.5\" y=\"-118.4\">(None, 400)</text>\n",
       "<polyline fill=\"none\" points=\"246.5,-111 330.5,-111 \" stroke=\"black\"/>\n",
       "<text font-family=\"Times,serif\" font-size=\"14.00\" text-anchor=\"middle\" x=\"288.5\" y=\"-94.4\">(None, 2)</text>\n",
       "</g>\n",
       "<!-- 140659373994064&#45;&gt;140659713466512 -->\n",
       "<g class=\"edge\" id=\"edge8\"><title>140659373994064-&gt;140659713466512</title>\n",
       "<path d=\"M202,-172.601C202,-164.227 202,-154.617 202,-145.554\" fill=\"none\" stroke=\"black\"/>\n",
       "<polygon fill=\"black\" points=\"205.5,-145.273 202,-135.273 198.5,-145.273 205.5,-145.273\" stroke=\"black\"/>\n",
       "</g>\n",
       "<!-- 140659817829328 -->\n",
       "<g class=\"node\" id=\"node6\"><title>140659817829328</title>\n",
       "<polygon fill=\"none\" points=\"57,-1 57,-49 347,-49 347,-1 57,-1\" stroke=\"black\"/>\n",
       "<text font-family=\"Times,serif\" font-size=\"14.00\" text-anchor=\"middle\" x=\"139\" y=\"-20.4\">activation_24 (Activation)</text>\n",
       "<polyline fill=\"none\" points=\"221,-1 221,-49 \" stroke=\"black\"/>\n",
       "<text font-family=\"Times,serif\" font-size=\"14.00\" text-anchor=\"middle\" x=\"249\" y=\"-32.4\">input:</text>\n",
       "<polyline fill=\"none\" points=\"221,-25 277,-25 \" stroke=\"black\"/>\n",
       "<text font-family=\"Times,serif\" font-size=\"14.00\" text-anchor=\"middle\" x=\"249\" y=\"-8.4\">output:</text>\n",
       "<polyline fill=\"none\" points=\"277,-1 277,-49 \" stroke=\"black\"/>\n",
       "<text font-family=\"Times,serif\" font-size=\"14.00\" text-anchor=\"middle\" x=\"312\" y=\"-32.4\">(None, 2)</text>\n",
       "<polyline fill=\"none\" points=\"277,-25 347,-25 \" stroke=\"black\"/>\n",
       "<text font-family=\"Times,serif\" font-size=\"14.00\" text-anchor=\"middle\" x=\"312\" y=\"-8.4\">(None, 2)</text>\n",
       "</g>\n",
       "<!-- 140659713466512&#45;&gt;140659817829328 -->\n",
       "<g class=\"edge\" id=\"edge10\"><title>140659713466512-&gt;140659817829328</title>\n",
       "<path d=\"M202,-86.6013C202,-78.2273 202,-68.6171 202,-59.5541\" fill=\"none\" stroke=\"black\"/>\n",
       "<polygon fill=\"black\" points=\"205.5,-59.2732 202,-49.2732 198.5,-59.2732 205.5,-59.2732\" stroke=\"black\"/>\n",
       "</g>\n",
       "</g>\n",
       "</svg>"
      ],
      "text/plain": [
       "<IPython.core.display.SVG object>"
      ]
     },
     "execution_count": 36,
     "metadata": {},
     "output_type": "execute_result"
    }
   ],
   "source": [
    "from IPython.display import SVG\n",
    "from keras.utils.visualize_util import model_to_dot\n",
    "model = create_1nn ( n_features=n_features, n_hidden=n_hidden, p_drop=p_drop, reg  = 0.01 )\n",
    "SVG(model_to_dot(model, show_shapes=True).create( prog='dot', format='svg'))"
   ]
  },
  {
   "cell_type": "code",
   "execution_count": 37,
   "metadata": {
    "collapsed": false
   },
   "outputs": [],
   "source": [
    "%%capture\n",
    "trainX, testX, trainY, testY = train_test_split(features, target, random_state=42,train_size=0.5 )\n",
    "\n",
    "nb_epoch = 15\n",
    "batch_size = 126 \n",
    "n_features = trainX.shape[1]\n",
    "class_weights = {1:ratio_ghost_to_good,\n",
    "                 0:1}\n",
    "\n",
    "# prepare Train \n",
    "trainY = trainY.values\n",
    "y_train = np_utils.to_categorical(trainY)\n",
    "trainX = trainX.values\n",
    "\n",
    "clf = Pipeline([\n",
    "  ('feature_scale', StandardScaler() ),\n",
    "  ('clf', KerasClassifier(build_fn = create_1nn , \n",
    "                         n_features=n_features, n_hidden=n_hidden, p_drop=p_drop, reg=0.01, class_weight=class_weights,\n",
    "                          sample_weight = None,\n",
    "                          batch_size=batch_size, nb_epoch=nb_epoch) )\n",
    "])\n",
    "clf.fit(trainX, y_train)\n",
    "time.sleep(0.1)"
   ]
  },
  {
   "cell_type": "code",
   "execution_count": 39,
   "metadata": {
    "collapsed": false
   },
   "outputs": [
    {
     "name": "stdout",
     "output_type": "stream",
     "text": [
      "Relu 400 Hidden unit\n",
      "499716/500000 [============================>.] - ETA: 0s"
     ]
    },
    {
     "data": {
      "text/plain": [
       "0.76626729016595641"
      ]
     },
     "execution_count": 39,
     "metadata": {},
     "output_type": "execute_result"
    }
   ],
   "source": [
    "print \"Relu 400 Hidden unit\"\n",
    "roc_auc_score(testY, clf.predict_proba(testX)[:, 1])"
   ]
  },
  {
   "cell_type": "code",
   "execution_count": 40,
   "metadata": {
    "collapsed": false
   },
   "outputs": [
    {
     "name": "stdout",
     "output_type": "stream",
     "text": [
      "499338/500000 [============================>.] - ETA: 0s"
     ]
    },
    {
     "data": {
      "image/png": "[encoded data removed]",
      "text/plain": [
       "<matplotlib.figure.Figure at 0x7fedcbd24990>"
      ]
     },
     "metadata": {},
     "output_type": "display_data"
    }
   ],
   "source": [
    "\n",
    "plt.figure(figsize=[6, 6])\n",
    "fpr, tpr, thresholds = roc_curve(testY, clf.predict_proba(testX)[:, 1])\n",
    "roc_auc = auc(fpr, tpr)\n",
    "plt.plot(fpr, tpr, lw=1, label='ROC 1NN (area = %0.2f)'%(roc_auc))\n",
    "plt.plot([0, 1], [0, 1], '--', color=(0.6, 0.6, 0.6), label='no discrimination')\n",
    "plt.xlim([-0.05, 1.05])\n",
    "plt.ylim([-0.05, 1.05])\n",
    "plt.xlabel('False Positive Rate')\n",
    "plt.ylabel('True Positive Rate')\n",
    "plt.title('Receiver operating characteristic')\n",
    "plt.legend(loc=\"lower right\")\n",
    "plt.grid()\n",
    "plt.show()"
   ]
  },
  {
   "cell_type": "markdown",
   "metadata": {
    "collapsed": true
   },
   "source": [
    "Try grid search to tune NN parameters\n",
    "---------------------"
   ]
  },
  {
   "cell_type": "code",
   "execution_count": null,
   "metadata": {
    "collapsed": true
   },
   "outputs": [],
   "source": []
  }
 ],
 "metadata": {
  "kernelspec": {
   "display_name": "Python 2",
   "language": "python",
   "name": "python2"
  },
  "language_info": {
   "codemirror_mode": {
    "name": "ipython",
    "version": 2
   },
   "file_extension": ".py",
   "mimetype": "text/x-python",
   "name": "python",
   "nbconvert_exporter": "python",
   "pygments_lexer": "ipython2",
   "version": "2.7.10"
  }
 },
 "nbformat": 4,
 "nbformat_minor": 0
}

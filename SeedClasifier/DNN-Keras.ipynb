{
 "cells": [
  {
   "cell_type": "markdown",
   "metadata": {},
   "source": [
    "(Deep) Neural Network approach to the LHCb Ddownstream Tracking T-Seed selection. \n",
    "====================\n",
    "Study description\n",
    "-------------\n",
    "This script contains all of my study based on deep and shalow neural networks.  \n",
    "To constructs models I will use [Keras](https://keras.io/) with Theano background.  \n",
    "All features are normalized. \n",
    "\n",
    "Study roadmap\n",
    "----------------\n",
    "1. Train 1 NN with ReLU nonlinearities  \n",
    "   1.1 At first I use 200 hidden unit per layer  \n",
    "   1.2  Try different drop-out and regularization layers (both L1 and L2)    \n",
    "2. Use GridSearchCV to tune number of hidden layer\n",
    "3. Train second Shallow Neural Network contains 2 hidden layers. Do simillar optimalization steps as prevoiusly. \n",
    "4. Train Deep Neural Network (at least 5 hidden layer). \n",
    "\n",
    "\n",
    "The previous models scores to beat:\n",
    "----------\n",
    "* kNN **0.787**\n",
    "* Logistic Regresion **0.77**\n",
    "* BDT (XGboost) **0.82 **\n",
    "* Lasagne 1NN   **0.78722** "
   ]
  },
  {
   "cell_type": "code",
   "execution_count": 1,
   "metadata": {
    "collapsed": false
   },
   "outputs": [
    {
     "name": "stdout",
     "output_type": "stream",
     "text": [
      "Kernel is alive!\n"
     ]
    }
   ],
   "source": [
    "print(\"Kernel is alive!\")"
   ]
  },
  {
   "cell_type": "code",
   "execution_count": 2,
   "metadata": {
    "collapsed": false
   },
   "outputs": [
    {
     "data": {
      "application/javascript": [
       "require(['codemirror/mode/clike/clike'], function(Clike) { console.log('ROOTaaS - C++ CodeMirror module loaded'); });"
      ]
     },
     "metadata": {},
     "output_type": "display_data"
    },
    {
     "data": {
      "application/javascript": [
       "IPython.CodeCell.config_defaults.highlight_modes['magic_text/x-c++src'] = {'reg':[/^%%cpp/]};"
      ]
     },
     "metadata": {},
     "output_type": "display_data"
    },
    {
     "name": "stdout",
     "output_type": "stream",
     "text": [
      "Welcome to ROOTaaS 6.06/02\n",
      "Couldn't import dot_parser, loading of dot files will not be possible.\n"
     ]
    },
    {
     "name": "stderr",
     "output_type": "stream",
     "text": [
      "Using Theano backend.\n"
     ]
    }
   ],
   "source": [
    "import root_numpy\n",
    "import pandas as pd\n",
    "import numpy\n",
    "import numpy as np\n",
    "import matplotlib.pyplot as plt\n",
    "import ROOT\n",
    "%matplotlib inline\n",
    "\n",
    "import warnings # current version of seaborn generates a bunch of warnings that we'll ignore\n",
    "warnings.filterwarnings(\"ignore\")\n",
    "import seaborn as sns\n",
    "\n",
    "from sklearn import linear_model\n",
    "from sklearn.cross_validation import train_test_split\n",
    "from sklearn.metrics import roc_auc_score, accuracy_score\n",
    "from sklearn.metrics import roc_curve, auc\n",
    "from sklearn import cross_validation\n",
    "from sklearn.preprocessing import PolynomialFeatures\n",
    "from sklearn.learning_curve import learning_curve\n",
    "from sklearn.pipeline import Pipeline\n",
    "from sklearn.preprocessing import StandardScaler\n",
    "from sklearn.learning_curve import validation_curve\n",
    "\n",
    "import theano\n",
    "import theano.tensor as T\n",
    "\n",
    "from keras.models import Sequential\n",
    "from keras.layers.core import Dense, Activation, Dropout\n",
    "from keras.layers.advanced_activations import PReLU, LeakyReLU\n",
    "from keras.utils import np_utils\n",
    "from keras.wrappers.scikit_learn import KerasClassifier\n",
    "from keras.regularizers import l2, activity_l2\n",
    "from keras.regularizers import l1, activity_l1\n",
    "from keras.layers.normalization import BatchNormalization\n",
    "from keras.optimizers import  RMSprop\n",
    "\n",
    "theano.config.gcc.cxxflags=\"-march=sandybridge\"\n",
    "\n",
    "import time"
   ]
  },
  {
   "cell_type": "markdown",
   "metadata": {},
   "source": [
    "Grab training data form the NTuple\n",
    "--------------------------"
   ]
  },
  {
   "cell_type": "code",
   "execution_count": 3,
   "metadata": {
    "collapsed": false
   },
   "outputs": [],
   "source": [
    "root_file = ROOT.TFile(\"datasets/Brunel_test_30kev.root\")\n",
    "root_file.cd(\"ToolSvc.PatDebugTTTruthTool\")\n",
    "tree = ROOT.gDirectory.Get(\"DownstreamSeedDebugTuple\")\n",
    "data = pd.DataFrame(root_numpy.tree2array(tree, stop=1000000))\n",
    "\n",
    "target = data.is_true_seed\n",
    "features = data.drop(\"is_true_seed\", axis=1).astype(numpy.float64)"
   ]
  },
  {
   "cell_type": "code",
   "execution_count": 4,
   "metadata": {
    "collapsed": false
   },
   "outputs": [],
   "source": [
    "def add_basic_features(data):\n",
    "    #abs transformation\n",
    "    out = data\n",
    "    out[\"seed_x\"]=numpy.abs(data['seed_x'])\n",
    "    out[\"seed_y\"]=numpy.abs(data['seed_y'])\n",
    "    out[\"seed_tx\"]=numpy.abs(data['seed_tx'])\n",
    "    out[\"seed_ty\"]=numpy.abs(data['seed_ty'])\n",
    "    #log transformation\n",
    "    out[\"seed_p\"]= numpy.log(data['seed_p'])\n",
    "    out[\"seed_pt\"]= numpy.log(data['seed_pt'])\n",
    "    out['pseudo_rapidity'] = numpy.arctanh(data.seed_pt/data.seed_p)\n",
    "    out['seed_r'] = numpy.sqrt(numpy.square(data.seed_x) +numpy.square(data.seed_y))\n",
    "    \n",
    "    return out"
   ]
  },
  {
   "cell_type": "code",
   "execution_count": 5,
   "metadata": {
    "collapsed": false
   },
   "outputs": [
    {
     "data": {
      "text/html": [
       "<div style=\"max-height:1000px;max-width:1500px;overflow:auto;\">\n",
       "<table border=\"1\" class=\"dataframe\">\n",
       "  <thead>\n",
       "    <tr style=\"text-align: right;\">\n",
       "      <th></th>\n",
       "      <th>seed_chi2PerDoF</th>\n",
       "      <th>seed_p</th>\n",
       "      <th>seed_pt</th>\n",
       "      <th>seed_nLHCbIDs</th>\n",
       "      <th>seed_nbIT</th>\n",
       "      <th>seed_nLayers</th>\n",
       "      <th>seed_x</th>\n",
       "      <th>seed_y</th>\n",
       "      <th>seed_tx</th>\n",
       "      <th>seed_ty</th>\n",
       "      <th>pseudo_rapidity</th>\n",
       "      <th>seed_r</th>\n",
       "    </tr>\n",
       "  </thead>\n",
       "  <tbody>\n",
       "    <tr>\n",
       "      <th>0</th>\n",
       "      <td>1.213708</td>\n",
       "      <td>7.841285</td>\n",
       "      <td>7.079410</td>\n",
       "      <td>25</td>\n",
       "      <td>0</td>\n",
       "      <td>12</td>\n",
       "      <td>1263.157617</td>\n",
       "      <td>517.249191</td>\n",
       "      <td>0.524220</td>\n",
       "      <td>0.061572</td>\n",
       "      <td>1.487361</td>\n",
       "      <td>1364.959300</td>\n",
       "    </tr>\n",
       "    <tr>\n",
       "      <th>1</th>\n",
       "      <td>1.346112</td>\n",
       "      <td>7.930741</td>\n",
       "      <td>7.093734</td>\n",
       "      <td>25</td>\n",
       "      <td>0</td>\n",
       "      <td>12</td>\n",
       "      <td>1264.522435</td>\n",
       "      <td>99.363473</td>\n",
       "      <td>0.480288</td>\n",
       "      <td>0.009081</td>\n",
       "      <td>1.443802</td>\n",
       "      <td>1268.420312</td>\n",
       "    </tr>\n",
       "    <tr>\n",
       "      <th>2</th>\n",
       "      <td>1.627632</td>\n",
       "      <td>8.469986</td>\n",
       "      <td>7.443378</td>\n",
       "      <td>25</td>\n",
       "      <td>0</td>\n",
       "      <td>12</td>\n",
       "      <td>1521.093160</td>\n",
       "      <td>196.064807</td>\n",
       "      <td>0.382802</td>\n",
       "      <td>0.025975</td>\n",
       "      <td>1.370450</td>\n",
       "      <td>1533.677219</td>\n",
       "    </tr>\n",
       "    <tr>\n",
       "      <th>3</th>\n",
       "      <td>1.789231</td>\n",
       "      <td>8.556975</td>\n",
       "      <td>7.508752</td>\n",
       "      <td>25</td>\n",
       "      <td>0</td>\n",
       "      <td>12</td>\n",
       "      <td>1563.145597</td>\n",
       "      <td>483.850246</td>\n",
       "      <td>0.369674</td>\n",
       "      <td>0.058753</td>\n",
       "      <td>1.364796</td>\n",
       "      <td>1636.317578</td>\n",
       "    </tr>\n",
       "    <tr>\n",
       "      <th>4</th>\n",
       "      <td>1.269238</td>\n",
       "      <td>7.741082</td>\n",
       "      <td>7.132965</td>\n",
       "      <td>24</td>\n",
       "      <td>0</td>\n",
       "      <td>12</td>\n",
       "      <td>1641.727752</td>\n",
       "      <td>411.084316</td>\n",
       "      <td>0.646627</td>\n",
       "      <td>0.054980</td>\n",
       "      <td>1.598503</td>\n",
       "      <td>1692.412576</td>\n",
       "    </tr>\n",
       "  </tbody>\n",
       "</table>\n",
       "</div>"
      ],
      "text/plain": [
       "   seed_chi2PerDoF    seed_p   seed_pt  seed_nLHCbIDs  seed_nbIT  \\\n",
       "0         1.213708  7.841285  7.079410             25          0   \n",
       "1         1.346112  7.930741  7.093734             25          0   \n",
       "2         1.627632  8.469986  7.443378             25          0   \n",
       "3         1.789231  8.556975  7.508752             25          0   \n",
       "4         1.269238  7.741082  7.132965             24          0   \n",
       "\n",
       "   seed_nLayers       seed_x      seed_y   seed_tx   seed_ty  pseudo_rapidity  \\\n",
       "0            12  1263.157617  517.249191  0.524220  0.061572         1.487361   \n",
       "1            12  1264.522435   99.363473  0.480288  0.009081         1.443802   \n",
       "2            12  1521.093160  196.064807  0.382802  0.025975         1.370450   \n",
       "3            12  1563.145597  483.850246  0.369674  0.058753         1.364796   \n",
       "4            12  1641.727752  411.084316  0.646627  0.054980         1.598503   \n",
       "\n",
       "        seed_r  \n",
       "0  1364.959300  \n",
       "1  1268.420312  \n",
       "2  1533.677219  \n",
       "3  1636.317578  \n",
       "4  1692.412576  "
      ]
     },
     "execution_count": 5,
     "metadata": {},
     "output_type": "execute_result"
    }
   ],
   "source": [
    "data = add_basic_features(data)\n",
    "features = data.drop(\"is_true_seed\", axis=1).astype(numpy.float64)\n",
    "features.head()"
   ]
  },
  {
   "cell_type": "markdown",
   "metadata": {},
   "source": [
    "Train Shallow Neural Network (1NN) \n",
    "==================\n",
    "I try to train the shallow, contains only 1 hidden layer, neural network.  \n",
    "The data is normalized via StandardScaler. \n",
    "I first network also contains dropout and regularization layer.  \n",
    "The SNN is created using keras framework. To be able to use lot of sklearn features I will use keras sklearn [wrapper](https://keras.io/scikit-learn-api/)  \n",
    "I will train this classifier during 10 epoch."
   ]
  },
  {
   "cell_type": "code",
   "execution_count": 6,
   "metadata": {
    "collapsed": false
   },
   "outputs": [],
   "source": [
    "n_hidden = 400 \n",
    "p_drop = 0.2\n",
    "n_features = features.shape[1]"
   ]
  },
  {
   "cell_type": "code",
   "execution_count": 7,
   "metadata": {
    "collapsed": false
   },
   "outputs": [
    {
     "name": "stdout",
     "output_type": "stream",
     "text": [
      "good tracks 63737\n",
      "ghost track 936263\n",
      "ratio ghost to good 14.689000\n"
     ]
    }
   ],
   "source": [
    "good_track_no = counts = features[target == 1].count()[0]\n",
    "ghost_track_no = counts = features[target == 0].count()[0]\n",
    "print(\"good tracks %d\") % good_track_no\n",
    "print(\"ghost track %d\") % ghost_track_no\n",
    "ratio_ghost_to_good = float(ghost_track_no)/good_track_no\n",
    "ratio_ghost_to_good = numpy.round(ratio_ghost_to_good, 3)\n",
    "print (\"ratio ghost to good %f\") % ratio_ghost_to_good"
   ]
  },
  {
   "cell_type": "code",
   "execution_count": 36,
   "metadata": {
    "collapsed": false
   },
   "outputs": [],
   "source": [
    "def create_1nn(n_features, n_hidden, p_drop, reg ):\n",
    "    model = Sequential()\n",
    "    model.add(BatchNormalization(input_shape=(n_features,)))\n",
    "    model.add(Dense(n_hidden,input_dim=n_features,\n",
    "                    W_regularizer=l2(reg), activity_regularizer=activity_l2(reg)))\n",
    "    model.add(Activation('relu'))\n",
    "    #PReLU(input_shape=(n_hidden,))\n",
    "    model.add(Dropout(p_drop))\n",
    "    model.add(Dense(2,input_dim=n_hidden))\n",
    "    model.add(Activation('softmax'))\n",
    "    \n",
    "    model.compile(loss='categorical_crossentropy', optimizer=\"rmsprop\")\n",
    "    return model"
   ]
  },
  {
   "cell_type": "code",
   "execution_count": 37,
   "metadata": {
    "collapsed": false
   },
   "outputs": [
    {
     "data": {
      "image/svg+xml": [
       "<svg height=\"574pt\" viewBox=\"0.00 0.00 420.00 574.00\" width=\"420pt\" xmlns=\"http://www.w3.org/2000/svg\" xmlns:xlink=\"http://www.w3.org/1999/xlink\">\n",
       "<g class=\"graph\" id=\"graph1\" transform=\"scale(1 1) rotate(0) translate(4 570)\">\n",
       "<title>G</title>\n",
       "<polygon fill=\"white\" points=\"-4,5 -4,-570 417,-570 417,5 -4,5\" stroke=\"white\"/>\n",
       "<!-- 139698090399184 -->\n",
       "<g class=\"node\" id=\"node1\"><title>139698090399184</title>\n",
       "<polygon fill=\"none\" points=\"8,-517 8,-565 404,-565 404,-517 8,-517\" stroke=\"black\"/>\n",
       "<text font-family=\"Times,serif\" font-size=\"14.00\" text-anchor=\"middle\" x=\"139.5\" y=\"-536.4\">batchnormalization_input_305 (InputLayer)</text>\n",
       "<polyline fill=\"none\" points=\"271,-517 271,-565 \" stroke=\"black\"/>\n",
       "<text font-family=\"Times,serif\" font-size=\"14.00\" text-anchor=\"middle\" x=\"299\" y=\"-548.4\">input:</text>\n",
       "<polyline fill=\"none\" points=\"271,-541 327,-541 \" stroke=\"black\"/>\n",
       "<text font-family=\"Times,serif\" font-size=\"14.00\" text-anchor=\"middle\" x=\"299\" y=\"-524.4\">output:</text>\n",
       "<polyline fill=\"none\" points=\"327,-517 327,-565 \" stroke=\"black\"/>\n",
       "<text font-family=\"Times,serif\" font-size=\"14.00\" text-anchor=\"middle\" x=\"365.5\" y=\"-548.4\">(None, 12)</text>\n",
       "<polyline fill=\"none\" points=\"327,-541 404,-541 \" stroke=\"black\"/>\n",
       "<text font-family=\"Times,serif\" font-size=\"14.00\" text-anchor=\"middle\" x=\"365.5\" y=\"-524.4\">(None, 12)</text>\n",
       "</g>\n",
       "<!-- 139698090399056 -->\n",
       "<g class=\"node\" id=\"node2\"><title>139698090399056</title>\n",
       "<polygon fill=\"none\" points=\"0,-431 0,-479 412,-479 412,-431 0,-431\" stroke=\"black\"/>\n",
       "<text font-family=\"Times,serif\" font-size=\"14.00\" text-anchor=\"middle\" x=\"139.5\" y=\"-450.4\">batchnormalization_305 (BatchNormalization)</text>\n",
       "<polyline fill=\"none\" points=\"279,-431 279,-479 \" stroke=\"black\"/>\n",
       "<text font-family=\"Times,serif\" font-size=\"14.00\" text-anchor=\"middle\" x=\"307\" y=\"-462.4\">input:</text>\n",
       "<polyline fill=\"none\" points=\"279,-455 335,-455 \" stroke=\"black\"/>\n",
       "<text font-family=\"Times,serif\" font-size=\"14.00\" text-anchor=\"middle\" x=\"307\" y=\"-438.4\">output:</text>\n",
       "<polyline fill=\"none\" points=\"335,-431 335,-479 \" stroke=\"black\"/>\n",
       "<text font-family=\"Times,serif\" font-size=\"14.00\" text-anchor=\"middle\" x=\"373.5\" y=\"-462.4\">(None, 12)</text>\n",
       "<polyline fill=\"none\" points=\"335,-455 412,-455 \" stroke=\"black\"/>\n",
       "<text font-family=\"Times,serif\" font-size=\"14.00\" text-anchor=\"middle\" x=\"373.5\" y=\"-438.4\">(None, 12)</text>\n",
       "</g>\n",
       "<!-- 139698090399184&#45;&gt;139698090399056 -->\n",
       "<g class=\"edge\" id=\"edge2\"><title>139698090399184-&gt;139698090399056</title>\n",
       "<path d=\"M206,-516.601C206,-508.227 206,-498.617 206,-489.554\" fill=\"none\" stroke=\"black\"/>\n",
       "<polygon fill=\"black\" points=\"209.5,-489.273 206,-479.273 202.5,-489.273 209.5,-489.273\" stroke=\"black\"/>\n",
       "</g>\n",
       "<!-- 139698090100880 -->\n",
       "<g class=\"node\" id=\"node3\"><title>139698090100880</title>\n",
       "<polygon fill=\"none\" points=\"74,-345 74,-393 338,-393 338,-345 74,-345\" stroke=\"black\"/>\n",
       "<text font-family=\"Times,serif\" font-size=\"14.00\" text-anchor=\"middle\" x=\"136\" y=\"-364.4\">dense_609 (Dense)</text>\n",
       "<polyline fill=\"none\" points=\"198,-345 198,-393 \" stroke=\"black\"/>\n",
       "<text font-family=\"Times,serif\" font-size=\"14.00\" text-anchor=\"middle\" x=\"226\" y=\"-376.4\">input:</text>\n",
       "<polyline fill=\"none\" points=\"198,-369 254,-369 \" stroke=\"black\"/>\n",
       "<text font-family=\"Times,serif\" font-size=\"14.00\" text-anchor=\"middle\" x=\"226\" y=\"-352.4\">output:</text>\n",
       "<polyline fill=\"none\" points=\"254,-345 254,-393 \" stroke=\"black\"/>\n",
       "<text font-family=\"Times,serif\" font-size=\"14.00\" text-anchor=\"middle\" x=\"296\" y=\"-376.4\">(None, 12)</text>\n",
       "<polyline fill=\"none\" points=\"254,-369 338,-369 \" stroke=\"black\"/>\n",
       "<text font-family=\"Times,serif\" font-size=\"14.00\" text-anchor=\"middle\" x=\"296\" y=\"-352.4\">(None, 400)</text>\n",
       "</g>\n",
       "<!-- 139698090399056&#45;&gt;139698090100880 -->\n",
       "<g class=\"edge\" id=\"edge4\"><title>139698090399056-&gt;139698090100880</title>\n",
       "<path d=\"M206,-430.601C206,-422.227 206,-412.617 206,-403.554\" fill=\"none\" stroke=\"black\"/>\n",
       "<polygon fill=\"black\" points=\"209.5,-403.273 206,-393.273 202.5,-403.273 209.5,-403.273\" stroke=\"black\"/>\n",
       "</g>\n",
       "<!-- 139698090060752 -->\n",
       "<g class=\"node\" id=\"node4\"><title>139698090060752</title>\n",
       "<polygon fill=\"none\" points=\"50.5,-259 50.5,-307 361.5,-307 361.5,-259 50.5,-259\" stroke=\"black\"/>\n",
       "<text font-family=\"Times,serif\" font-size=\"14.00\" text-anchor=\"middle\" x=\"136\" y=\"-278.4\">activation_609 (Activation)</text>\n",
       "<polyline fill=\"none\" points=\"221.5,-259 221.5,-307 \" stroke=\"black\"/>\n",
       "<text font-family=\"Times,serif\" font-size=\"14.00\" text-anchor=\"middle\" x=\"249.5\" y=\"-290.4\">input:</text>\n",
       "<polyline fill=\"none\" points=\"221.5,-283 277.5,-283 \" stroke=\"black\"/>\n",
       "<text font-family=\"Times,serif\" font-size=\"14.00\" text-anchor=\"middle\" x=\"249.5\" y=\"-266.4\">output:</text>\n",
       "<polyline fill=\"none\" points=\"277.5,-259 277.5,-307 \" stroke=\"black\"/>\n",
       "<text font-family=\"Times,serif\" font-size=\"14.00\" text-anchor=\"middle\" x=\"319.5\" y=\"-290.4\">(None, 400)</text>\n",
       "<polyline fill=\"none\" points=\"277.5,-283 361.5,-283 \" stroke=\"black\"/>\n",
       "<text font-family=\"Times,serif\" font-size=\"14.00\" text-anchor=\"middle\" x=\"319.5\" y=\"-266.4\">(None, 400)</text>\n",
       "</g>\n",
       "<!-- 139698090100880&#45;&gt;139698090060752 -->\n",
       "<g class=\"edge\" id=\"edge6\"><title>139698090100880-&gt;139698090060752</title>\n",
       "<path d=\"M206,-344.601C206,-336.227 206,-326.617 206,-317.554\" fill=\"none\" stroke=\"black\"/>\n",
       "<polygon fill=\"black\" points=\"209.5,-317.273 206,-307.273 202.5,-317.273 209.5,-317.273\" stroke=\"black\"/>\n",
       "</g>\n",
       "<!-- 139698090099088 -->\n",
       "<g class=\"node\" id=\"node5\"><title>139698090099088</title>\n",
       "<polygon fill=\"none\" points=\"62.5,-173 62.5,-221 349.5,-221 349.5,-173 62.5,-173\" stroke=\"black\"/>\n",
       "<text font-family=\"Times,serif\" font-size=\"14.00\" text-anchor=\"middle\" x=\"136\" y=\"-192.4\">dropout_155 (Dropout)</text>\n",
       "<polyline fill=\"none\" points=\"209.5,-173 209.5,-221 \" stroke=\"black\"/>\n",
       "<text font-family=\"Times,serif\" font-size=\"14.00\" text-anchor=\"middle\" x=\"237.5\" y=\"-204.4\">input:</text>\n",
       "<polyline fill=\"none\" points=\"209.5,-197 265.5,-197 \" stroke=\"black\"/>\n",
       "<text font-family=\"Times,serif\" font-size=\"14.00\" text-anchor=\"middle\" x=\"237.5\" y=\"-180.4\">output:</text>\n",
       "<polyline fill=\"none\" points=\"265.5,-173 265.5,-221 \" stroke=\"black\"/>\n",
       "<text font-family=\"Times,serif\" font-size=\"14.00\" text-anchor=\"middle\" x=\"307.5\" y=\"-204.4\">(None, 400)</text>\n",
       "<polyline fill=\"none\" points=\"265.5,-197 349.5,-197 \" stroke=\"black\"/>\n",
       "<text font-family=\"Times,serif\" font-size=\"14.00\" text-anchor=\"middle\" x=\"307.5\" y=\"-180.4\">(None, 400)</text>\n",
       "</g>\n",
       "<!-- 139698090060752&#45;&gt;139698090099088 -->\n",
       "<g class=\"edge\" id=\"edge8\"><title>139698090060752-&gt;139698090099088</title>\n",
       "<path d=\"M206,-258.601C206,-250.227 206,-240.617 206,-231.554\" fill=\"none\" stroke=\"black\"/>\n",
       "<polygon fill=\"black\" points=\"209.5,-231.273 206,-221.273 202.5,-231.273 209.5,-231.273\" stroke=\"black\"/>\n",
       "</g>\n",
       "<!-- 139698090194192 -->\n",
       "<g class=\"node\" id=\"node6\"><title>139698090194192</title>\n",
       "<polygon fill=\"none\" points=\"74,-87 74,-135 338,-135 338,-87 74,-87\" stroke=\"black\"/>\n",
       "<text font-family=\"Times,serif\" font-size=\"14.00\" text-anchor=\"middle\" x=\"136\" y=\"-106.4\">dense_610 (Dense)</text>\n",
       "<polyline fill=\"none\" points=\"198,-87 198,-135 \" stroke=\"black\"/>\n",
       "<text font-family=\"Times,serif\" font-size=\"14.00\" text-anchor=\"middle\" x=\"226\" y=\"-118.4\">input:</text>\n",
       "<polyline fill=\"none\" points=\"198,-111 254,-111 \" stroke=\"black\"/>\n",
       "<text font-family=\"Times,serif\" font-size=\"14.00\" text-anchor=\"middle\" x=\"226\" y=\"-94.4\">output:</text>\n",
       "<polyline fill=\"none\" points=\"254,-87 254,-135 \" stroke=\"black\"/>\n",
       "<text font-family=\"Times,serif\" font-size=\"14.00\" text-anchor=\"middle\" x=\"296\" y=\"-118.4\">(None, 400)</text>\n",
       "<polyline fill=\"none\" points=\"254,-111 338,-111 \" stroke=\"black\"/>\n",
       "<text font-family=\"Times,serif\" font-size=\"14.00\" text-anchor=\"middle\" x=\"296\" y=\"-94.4\">(None, 2)</text>\n",
       "</g>\n",
       "<!-- 139698090099088&#45;&gt;139698090194192 -->\n",
       "<g class=\"edge\" id=\"edge10\"><title>139698090099088-&gt;139698090194192</title>\n",
       "<path d=\"M206,-172.601C206,-164.227 206,-154.617 206,-145.554\" fill=\"none\" stroke=\"black\"/>\n",
       "<polygon fill=\"black\" points=\"209.5,-145.273 206,-135.273 202.5,-145.273 209.5,-145.273\" stroke=\"black\"/>\n",
       "</g>\n",
       "<!-- 139698090359248 -->\n",
       "<g class=\"node\" id=\"node7\"><title>139698090359248</title>\n",
       "<polygon fill=\"none\" points=\"57.5,-1 57.5,-49 354.5,-49 354.5,-1 57.5,-1\" stroke=\"black\"/>\n",
       "<text font-family=\"Times,serif\" font-size=\"14.00\" text-anchor=\"middle\" x=\"143\" y=\"-20.4\">activation_610 (Activation)</text>\n",
       "<polyline fill=\"none\" points=\"228.5,-1 228.5,-49 \" stroke=\"black\"/>\n",
       "<text font-family=\"Times,serif\" font-size=\"14.00\" text-anchor=\"middle\" x=\"256.5\" y=\"-32.4\">input:</text>\n",
       "<polyline fill=\"none\" points=\"228.5,-25 284.5,-25 \" stroke=\"black\"/>\n",
       "<text font-family=\"Times,serif\" font-size=\"14.00\" text-anchor=\"middle\" x=\"256.5\" y=\"-8.4\">output:</text>\n",
       "<polyline fill=\"none\" points=\"284.5,-1 284.5,-49 \" stroke=\"black\"/>\n",
       "<text font-family=\"Times,serif\" font-size=\"14.00\" text-anchor=\"middle\" x=\"319.5\" y=\"-32.4\">(None, 2)</text>\n",
       "<polyline fill=\"none\" points=\"284.5,-25 354.5,-25 \" stroke=\"black\"/>\n",
       "<text font-family=\"Times,serif\" font-size=\"14.00\" text-anchor=\"middle\" x=\"319.5\" y=\"-8.4\">(None, 2)</text>\n",
       "</g>\n",
       "<!-- 139698090194192&#45;&gt;139698090359248 -->\n",
       "<g class=\"edge\" id=\"edge12\"><title>139698090194192-&gt;139698090359248</title>\n",
       "<path d=\"M206,-86.6013C206,-78.2273 206,-68.6171 206,-59.5541\" fill=\"none\" stroke=\"black\"/>\n",
       "<polygon fill=\"black\" points=\"209.5,-59.2732 206,-49.2732 202.5,-59.2732 209.5,-59.2732\" stroke=\"black\"/>\n",
       "</g>\n",
       "</g>\n",
       "</svg>"
      ],
      "text/plain": [
       "<IPython.core.display.SVG object>"
      ]
     },
     "execution_count": 37,
     "metadata": {},
     "output_type": "execute_result"
    }
   ],
   "source": [
    "from IPython.display import SVG\n",
    "from keras.utils.visualize_util import model_to_dot\n",
    "model = create_1nn ( n_features=n_features, n_hidden=n_hidden, p_drop=p_drop, reg  = 0.01 )\n",
    "SVG(model_to_dot(model, show_shapes=True).create( prog='dot', format='svg'))"
   ]
  },
  {
   "cell_type": "code",
   "execution_count": 17,
   "metadata": {
    "collapsed": false
   },
   "outputs": [],
   "source": [
    "%%capture\n",
    "trainX, testX, trainY, testY = train_test_split(features, target, random_state=42,train_size=0.5 )\n",
    "\n",
    "nb_epoch = 15\n",
    "batch_size = 126 \n",
    "n_features = trainX.shape[1]\n",
    "class_weights = {1:ratio_ghost_to_good,\n",
    "                 0:1}\n",
    "\n",
    "# prepare Train \n",
    "trainY = trainY.values\n",
    "y_train = np_utils.to_categorical(trainY)\n",
    "trainX = trainX.values\n",
    "\n",
    "clf = Pipeline([\n",
    "  ('feature_scale', StandardScaler() ),\n",
    "  ('clf', KerasClassifier(build_fn = create_1nn , \n",
    "                         n_features=n_features, n_hidden=n_hidden, p_drop=p_drop, reg=0.01, class_weight=class_weights,\n",
    "                          sample_weight = None,\n",
    "                          batch_size=batch_size, nb_epoch=nb_epoch) )\n",
    "])\n",
    "clf.fit(trainX, y_train)\n",
    "time.sleep(0.1)"
   ]
  },
  {
   "cell_type": "code",
   "execution_count": 19,
   "metadata": {
    "collapsed": false
   },
   "outputs": [
    {
     "name": "stdout",
     "output_type": "stream",
     "text": [
      "Relu 400 Hidden unit\n",
      "499590/500000 [============================>.] - ETA: 0s"
     ]
    },
    {
     "data": {
      "text/plain": [
       "0.76234657325603905"
      ]
     },
     "execution_count": 19,
     "metadata": {},
     "output_type": "execute_result"
    }
   ],
   "source": [
    "print \"Relu 400 Hidden unit\"\n",
    "roc_auc_score(testY, clf.predict_proba(testX)[:, 1])"
   ]
  },
  {
   "cell_type": "code",
   "execution_count": 22,
   "metadata": {
    "collapsed": false
   },
   "outputs": [
    {
     "name": "stdout",
     "output_type": "stream",
     "text": [
      "499338/500000 [============================>.] - ETA: 0s"
     ]
    },
    {
     "data": {
      "image/png": "[encoded data removed]",
      "text/plain": [
       "<matplotlib.figure.Figure at 0x7f8bcdaa14d0>"
      ]
     },
     "metadata": {},
     "output_type": "display_data"
    }
   ],
   "source": [
    "\n",
    "plt.figure(figsize=[6, 6])\n",
    "fpr, tpr, thresholds = roc_curve(testY, clf.predict_proba(testX)[:, 1])\n",
    "roc_auc = auc(fpr, tpr)\n",
    "plt.plot(fpr, tpr, lw=1, label='ROC 1NN (area = %0.2f)'%(roc_auc))\n",
    "plt.plot([0, 1], [0, 1], '--', color=(0.6, 0.6, 0.6), label='no discrimination')\n",
    "plt.xlim([-0.05, 1.05])\n",
    "plt.ylim([-0.05, 1.05])\n",
    "plt.xlabel('False Positive Rate')\n",
    "plt.ylabel('True Positive Rate')\n",
    "plt.title('Receiver operating characteristic')\n",
    "plt.legend(loc=\"lower right\")\n",
    "plt.grid()\n",
    "plt.show()"
   ]
  },
  {
   "cell_type": "markdown",
   "metadata": {
    "collapsed": true
   },
   "source": [
    "Try grid search to tune NN parameters\n",
    "---------------------\n",
    "This study has the aim to compart the results using different number of hidden units as well as regularization strength."
   ]
  },
  {
   "cell_type": "code",
   "execution_count": 14,
   "metadata": {
    "collapsed": false
   },
   "outputs": [],
   "source": [
    "def create_1nn_to_gridSearch(n_features, n_hidden, activation, has_dropout, p_drop, reg ):\n",
    "    model = Sequential()\n",
    "    model.add(BatchNormalization(input_shape=(n_features,)))\n",
    "    model.add(Dense(n_hidden,input_dim=n_features,\n",
    "                    W_regularizer=l2(reg), activity_regularizer=activity_l2(reg)))\n",
    "    # set activation according to the parameter\n",
    "    if activation is \"relu\":\n",
    "        model.add(Activation('relu'))\n",
    "    elif activation is \"PReLU\":\n",
    "        model.add(PReLU(input_shape=(n_hidden,)))\n",
    "    elif activation is \"LeakyReLU\":\n",
    "        model.add(LeakyReLU(input_shape=(n_hidden,)))\n",
    "    # enable dropout\n",
    "    if has_dropout:\n",
    "        model.add(Dropout(p_drop))\n",
    "    model.add(Dense(2,input_dim=n_hidden))\n",
    "    model.add(Activation('softmax'))\n",
    "    \n",
    "    model.compile(loss='categorical_crossentropy', optimizer=\"rmsprop\")\n",
    "    return model"
   ]
  },
  {
   "cell_type": "code",
   "execution_count": 34,
   "metadata": {
    "collapsed": false
   },
   "outputs": [
    {
     "data": {
      "text/plain": [
       "GridSearchCV(cv=3, error_score='raise',\n",
       "       estimator=Pipeline(steps=[('feature_scale', StandardScaler(copy=True, with_mean=True, with_std=True)), ('clf', <keras.wrappers.scikit_learn.KerasClassifier object at 0x7f0e284f3f90>)]),\n",
       "       fit_params={}, iid=True, loss_func=None, n_jobs=1,\n",
       "       param_grid={'clf__reg': [0.01, 0.05, 0.1], 'clf__has_dropout': [True, False], 'clf__n_hidden': [50, 100, 200, 400]},\n",
       "       pre_dispatch='2*n_jobs', refit=True, score_func=None,\n",
       "       scoring='roc_auc', verbose=3)"
      ]
     },
     "execution_count": 34,
     "metadata": {},
     "output_type": "execute_result"
    }
   ],
   "source": [
    "%%capture\n",
    "\n",
    "from sklearn import grid_search\n",
    "train_gs_X, test_gs_X, train_gs_Y, test_gs_Y = train_test_split(features, target, random_state=42,train_size=0.3 )\n",
    "grid_params = {\"clf__n_hidden\": [50,100,200,400],\n",
    "                   \"clf__reg\": [0.01, 0.05,0.1],\n",
    "                  \"clf__has_dropout\": [True, False]\n",
    "                  }\n",
    "print(grid_params)\n",
    "\n",
    "p_drop = 0.2\n",
    "class_weights = {1:ratio_ghost_to_good,\n",
    "                 0:1}\n",
    "batch_size = 256\n",
    "nb_epoch = 15\n",
    "activation = \"relu\"\n",
    "\n",
    "train_gs_Y = train_gs_Y.values\n",
    "train_gs_Y = np_utils.to_categorical(train_gs_Y)\n",
    "train_gs_X = train_gs_X.values\n",
    "\n",
    "\n",
    "clf_gs = Pipeline([\n",
    "  ('feature_scale', StandardScaler() ),\n",
    "  ('clf', KerasClassifier(build_fn = create_1nn_to_gridSearch , \n",
    "                         n_features=n_features, \n",
    "                          has_dropout=has_dropout,  activation=activation, p_drop=p_drop, class_weight=class_weights,\n",
    "                          sample_weight = None,\n",
    "                          batch_size=batch_size, nb_epoch=nb_epoch) )\n",
    "])\n",
    "\n",
    "clf = grid_search.GridSearchCV(estimator = clf_gs,                               \n",
    "                               param_grid = grid_params,\n",
    "                               cv=3,\n",
    "                               scoring='roc_auc',\n",
    "                               verbose = 3);\n",
    "clf.fit(train_gs_X, train_gs_Y);\n"
   ]
  },
  {
   "cell_type": "code",
   "execution_count": 35,
   "metadata": {
    "collapsed": false
   },
   "outputs": [
    {
     "name": "stdout",
     "output_type": "stream",
     "text": [
      "Best parameters set found on development set:\n",
      "{'clf__reg': 0.01, 'clf__has_dropout': True, 'clf__n_hidden': 50}\n",
      "Grid scores on development set:\n",
      "0.764 (+/-0.004) for {'clf__reg': 0.01, 'clf__has_dropout': True, 'clf__n_hidden': 50}\n",
      "0.744 (+/-0.013) for {'clf__reg': 0.05, 'clf__has_dropout': True, 'clf__n_hidden': 50}\n",
      "0.742 (+/-0.004) for {'clf__reg': 0.1, 'clf__has_dropout': True, 'clf__n_hidden': 50}\n",
      "0.761 (+/-0.012) for {'clf__reg': 0.01, 'clf__has_dropout': True, 'clf__n_hidden': 100}\n",
      "0.746 (+/-0.010) for {'clf__reg': 0.05, 'clf__has_dropout': True, 'clf__n_hidden': 100}\n",
      "0.738 (+/-0.008) for {'clf__reg': 0.1, 'clf__has_dropout': True, 'clf__n_hidden': 100}\n",
      "0.759 (+/-0.003) for {'clf__reg': 0.01, 'clf__has_dropout': True, 'clf__n_hidden': 200}\n",
      "0.740 (+/-0.009) for {'clf__reg': 0.05, 'clf__has_dropout': True, 'clf__n_hidden': 200}\n",
      "0.738 (+/-0.002) for {'clf__reg': 0.1, 'clf__has_dropout': True, 'clf__n_hidden': 200}\n",
      "0.758 (+/-0.003) for {'clf__reg': 0.01, 'clf__has_dropout': True, 'clf__n_hidden': 400}\n",
      "0.737 (+/-0.008) for {'clf__reg': 0.05, 'clf__has_dropout': True, 'clf__n_hidden': 400}\n",
      "0.739 (+/-0.002) for {'clf__reg': 0.1, 'clf__has_dropout': True, 'clf__n_hidden': 400}\n",
      "0.758 (+/-0.014) for {'clf__reg': 0.01, 'clf__has_dropout': False, 'clf__n_hidden': 50}\n",
      "0.746 (+/-0.003) for {'clf__reg': 0.05, 'clf__has_dropout': False, 'clf__n_hidden': 50}\n",
      "0.741 (+/-0.007) for {'clf__reg': 0.1, 'clf__has_dropout': False, 'clf__n_hidden': 50}\n",
      "0.758 (+/-0.005) for {'clf__reg': 0.01, 'clf__has_dropout': False, 'clf__n_hidden': 100}\n",
      "0.732 (+/-0.037) for {'clf__reg': 0.05, 'clf__has_dropout': False, 'clf__n_hidden': 100}\n",
      "0.742 (+/-0.003) for {'clf__reg': 0.1, 'clf__has_dropout': False, 'clf__n_hidden': 100}\n",
      "0.762 (+/-0.007) for {'clf__reg': 0.01, 'clf__has_dropout': False, 'clf__n_hidden': 200}\n",
      "0.734 (+/-0.025) for {'clf__reg': 0.05, 'clf__has_dropout': False, 'clf__n_hidden': 200}\n",
      "0.742 (+/-0.003) for {'clf__reg': 0.1, 'clf__has_dropout': False, 'clf__n_hidden': 200}\n",
      "0.760 (+/-0.004) for {'clf__reg': 0.01, 'clf__has_dropout': False, 'clf__n_hidden': 400}\n",
      "0.745 (+/-0.005) for {'clf__reg': 0.05, 'clf__has_dropout': False, 'clf__n_hidden': 400}\n",
      "0.739 (+/-0.013) for {'clf__reg': 0.1, 'clf__has_dropout': False, 'clf__n_hidden': 400}\n"
     ]
    }
   ],
   "source": [
    "print(\"Best parameters set found on development set:\")\n",
    "print(clf.best_params_)\n",
    "print(\"Grid scores on development set:\")\n",
    "for params, mean_score, scores in clf.grid_scores_:\n",
    "    print(\"%0.3f (+/-%0.03f) for %r\"\n",
    "        % (mean_score, scores.std() * 2, params))"
   ]
  },
  {
   "cell_type": "markdown",
   "metadata": {},
   "source": [
    "Train new model using found hyperparameters values\n",
    "----------------"
   ]
  },
  {
   "cell_type": "code",
   "execution_count": 39,
   "metadata": {
    "collapsed": false
   },
   "outputs": [
    {
     "name": "stdout",
     "output_type": "stream",
     "text": [
      "Epoch 1/20\n",
      "500000/500000 [==============================] - 4s - loss: 2.5337     \n",
      "Epoch 2/20\n",
      "500000/500000 [==============================] - 4s - loss: 1.1609     \n",
      "Epoch 3/20\n",
      "500000/500000 [==============================] - 4s - loss: 1.1461     \n",
      "Epoch 4/20\n",
      "500000/500000 [==============================] - 4s - loss: 1.1381     \n",
      "Epoch 5/20\n",
      "500000/500000 [==============================] - 4s - loss: 1.1322     \n",
      "Epoch 6/20\n",
      "500000/500000 [==============================] - 3s - loss: 1.1273     \n",
      "Epoch 7/20\n",
      "500000/500000 [==============================] - 4s - loss: 1.1240     \n",
      "Epoch 8/20\n",
      "500000/500000 [==============================] - 4s - loss: 1.1215     \n",
      "Epoch 9/20\n",
      "500000/500000 [==============================] - 3s - loss: 1.1189     \n",
      "Epoch 10/20\n",
      "500000/500000 [==============================] - 3s - loss: 1.1173     \n",
      "Epoch 11/20\n",
      "500000/500000 [==============================] - 3s - loss: 1.1158     \n",
      "Epoch 12/20\n",
      "500000/500000 [==============================] - 4s - loss: 1.1156     \n",
      "Epoch 13/20\n",
      "500000/500000 [==============================] - 4s - loss: 1.1150     \n",
      "Epoch 14/20\n",
      "500000/500000 [==============================] - 4s - loss: 1.1139     \n",
      "Epoch 15/20\n",
      "500000/500000 [==============================] - 4s - loss: 1.1121     \n",
      "Epoch 16/20\n",
      "500000/500000 [==============================] - 4s - loss: 1.1128     \n",
      "Epoch 17/20\n",
      "500000/500000 [==============================] - 4s - loss: 1.1125     \n",
      "Epoch 18/20\n",
      "500000/500000 [==============================] - 4s - loss: 1.1112     \n",
      "Epoch 19/20\n",
      "500000/500000 [==============================] - 4s - loss: 1.1111     \n",
      "Epoch 20/20\n",
      "500000/500000 [==============================] - 4s - loss: 1.1111     \n"
     ]
    }
   ],
   "source": [
    "trainX, testX, trainY, testY = train_test_split(features, target, random_state=42,train_size=0.5 )\n",
    "\n",
    "nb_epoch = 20\n",
    "batch_size = 256 \n",
    "n_features = trainX.shape[1]\n",
    "class_weights = {1:ratio_ghost_to_good,\n",
    "                 0:1}\n",
    "\n",
    "# prepare Train \n",
    "trainY = trainY.values\n",
    "y_train = np_utils.to_categorical(trainY)\n",
    "trainX = trainX.values\n",
    "\n",
    "clf = Pipeline([\n",
    "  ('feature_scale', StandardScaler() ),\n",
    "  ('clf', KerasClassifier(build_fn = create_1nn , \n",
    "                         n_features=n_features, n_hidden=50, p_drop=0.2, reg=0.01, class_weight=class_weights,\n",
    "                          sample_weight = None,\n",
    "                          batch_size=batch_size, nb_epoch=nb_epoch) )\n",
    "])\n",
    "clf.fit(trainX, y_train)\n",
    "time.sleep(0.1)"
   ]
  },
  {
   "cell_type": "code",
   "execution_count": 40,
   "metadata": {
    "collapsed": false
   },
   "outputs": [
    {
     "name": "stdout",
     "output_type": "stream",
     "text": [
      "Relu 50 Hidden unit\n",
      "499200/500000 [============================>.] - ETA: 0s"
     ]
    },
    {
     "data": {
      "text/plain": [
       "0.76111173838071378"
      ]
     },
     "execution_count": 40,
     "metadata": {},
     "output_type": "execute_result"
    }
   ],
   "source": [
    "print \"Relu 50 Hidden unit\"\n",
    "roc_auc_score(testY, clf.predict_proba(testX)[:, 1])"
   ]
  },
  {
   "cell_type": "markdown",
   "metadata": {},
   "source": [
    "The grid search result is very sensitive!\n",
    "----------\n",
    "But the good thing is I obtained similar result for 50 hidden units as for 400. \n",
    "So this model can be definetely implemented in C++.  \n",
    "I try to play with other hyperparameters. \n",
    "Now I want to play with different types of ReLu activation, dropout probaility. "
   ]
  },
  {
   "cell_type": "code",
   "execution_count": 42,
   "metadata": {
    "collapsed": false
   },
   "outputs": [
    {
     "data": {
      "text/plain": [
       "GridSearchCV(cv=3, error_score='raise',\n",
       "       estimator=Pipeline(steps=[('feature_scale', StandardScaler(copy=True, with_mean=True, with_std=True)), ('clf', <keras.wrappers.scikit_learn.KerasClassifier object at 0x7f0e2b6a45d0>)]),\n",
       "       fit_params={}, iid=True, loss_func=None, n_jobs=1,\n",
       "       param_grid={'clf__p_drop': [0.2, 0.4, 0.5, 0.7, 0.8], 'clf__activation': ['relu', 'PReLU', 'LeakyReLU']},\n",
       "       pre_dispatch='2*n_jobs', refit=True, score_func=None,\n",
       "       scoring='roc_auc', verbose=3)"
      ]
     },
     "execution_count": 42,
     "metadata": {},
     "output_type": "execute_result"
    },
    {
     "name": "stdout",
     "output_type": "stream",
     "text": [
      "\u0007\u0007\u0007\u0007\u0007\u0007"
     ]
    }
   ],
   "source": [
    "%%capture\n",
    "\n",
    "from sklearn import grid_search\n",
    "train_gs_X, test_gs_X, train_gs_Y, test_gs_Y = train_test_split(features, target, random_state=42,train_size=0.3 )\n",
    "grid_params = {\"clf__p_drop\": [0.2,0.4,0.5,0.7,0.8],\n",
    "                   \"clf__activation\": ['relu', 'PReLU',\"LeakyReLU\"],\n",
    "                  }\n",
    "print(grid_params)\n",
    "\n",
    "class_weights = {1:ratio_ghost_to_good,\n",
    "                 0:1}\n",
    "batch_size = 256\n",
    "nb_epoch = 15\n",
    "n_hidden = 50\n",
    "reg = 0.01\n",
    "has_dropout = True\n",
    "\n",
    "train_gs_Y = train_gs_Y.values\n",
    "train_gs_Y = np_utils.to_categorical(train_gs_Y)\n",
    "train_gs_X = train_gs_X.values\n",
    "\n",
    "\n",
    "clf_gs = Pipeline([\n",
    "  ('feature_scale', StandardScaler() ),\n",
    "  ('clf', KerasClassifier(build_fn = create_1nn_to_gridSearch , n_features=n_features,\n",
    "                          n_hidden=n_hidden, reg=reg,has_dropout=has_dropout,\n",
    "                          class_weight=class_weights, sample_weight = None,\n",
    "                          batch_size=batch_size, nb_epoch=nb_epoch) )\n",
    "])\n",
    "\n",
    "clf = grid_search.GridSearchCV(estimator = clf_gs,                               \n",
    "                               param_grid = grid_params,\n",
    "                               cv=3,\n",
    "                               scoring='roc_auc',\n",
    "                               verbose = 3);\n",
    "clf.fit(train_gs_X, train_gs_Y);"
   ]
  },
  {
   "cell_type": "code",
   "execution_count": 43,
   "metadata": {
    "collapsed": false
   },
   "outputs": [
    {
     "name": "stdout",
     "output_type": "stream",
     "text": [
      "Best parameters set found on development set:\n",
      "{'clf__p_drop': 0.2, 'clf__activation': 'PReLU'}\n",
      "Grid scores on development set:\n",
      "0.759 (+/-0.003) for {'clf__p_drop': 0.2, 'clf__activation': 'relu'}\n",
      "0.756 (+/-0.004) for {'clf__p_drop': 0.4, 'clf__activation': 'relu'}\n",
      "0.759 (+/-0.006) for {'clf__p_drop': 0.5, 'clf__activation': 'relu'}\n",
      "0.750 (+/-0.002) for {'clf__p_drop': 0.7, 'clf__activation': 'relu'}\n",
      "0.747 (+/-0.002) for {'clf__p_drop': 0.8, 'clf__activation': 'relu'}\n",
      "0.763 (+/-0.005) for {'clf__p_drop': 0.2, 'clf__activation': 'PReLU'}\n",
      "0.751 (+/-0.006) for {'clf__p_drop': 0.4, 'clf__activation': 'PReLU'}\n",
      "0.746 (+/-0.013) for {'clf__p_drop': 0.5, 'clf__activation': 'PReLU'}\n",
      "0.744 (+/-0.009) for {'clf__p_drop': 0.7, 'clf__activation': 'PReLU'}\n",
      "0.742 (+/-0.004) for {'clf__p_drop': 0.8, 'clf__activation': 'PReLU'}\n",
      "0.746 (+/-0.017) for {'clf__p_drop': 0.2, 'clf__activation': 'LeakyReLU'}\n",
      "0.747 (+/-0.004) for {'clf__p_drop': 0.4, 'clf__activation': 'LeakyReLU'}\n",
      "0.749 (+/-0.003) for {'clf__p_drop': 0.5, 'clf__activation': 'LeakyReLU'}\n",
      "0.744 (+/-0.001) for {'clf__p_drop': 0.7, 'clf__activation': 'LeakyReLU'}\n",
      "0.739 (+/-0.003) for {'clf__p_drop': 0.8, 'clf__activation': 'LeakyReLU'}\n"
     ]
    }
   ],
   "source": [
    "print(\"Best parameters set found on development set:\")\n",
    "print(clf.best_params_)\n",
    "print(\"Grid scores on development set:\")\n",
    "for params, mean_score, scores in clf.grid_scores_:\n",
    "    print(\"%0.3f (+/-%0.03f) for %r\"\n",
    "        % (mean_score, scores.std() * 2, params))"
   ]
  },
  {
   "cell_type": "markdown",
   "metadata": {},
   "source": [
    "Try the classifier using obtained parameters values\n",
    "-----------"
   ]
  },
  {
   "cell_type": "code",
   "execution_count": 51,
   "metadata": {
    "collapsed": false
   },
   "outputs": [
    {
     "name": "stdout",
     "output_type": "stream",
     "text": [
      "Epoch 1/20\n",
      "500000/500000 [==============================] - 4s - loss: 2.5184     \n",
      "Epoch 2/20\n",
      "500000/500000 [==============================] - 4s - loss: 1.1605     \n",
      "Epoch 3/20\n",
      "500000/500000 [==============================] - 4s - loss: 1.1485     \n",
      "Epoch 4/20\n",
      "500000/500000 [==============================] - 4s - loss: 1.1400     \n",
      "Epoch 5/20\n",
      "500000/500000 [==============================] - 4s - loss: 1.1318     \n",
      "Epoch 6/20\n",
      "500000/500000 [==============================] - 4s - loss: 1.1269     \n",
      "Epoch 7/20\n",
      "500000/500000 [==============================] - 4s - loss: 1.1224     \n",
      "Epoch 8/20\n",
      "500000/500000 [==============================] - 4s - loss: 1.1187     \n",
      "Epoch 9/20\n",
      "500000/500000 [==============================] - 4s - loss: 1.1165     \n",
      "Epoch 10/20\n",
      "500000/500000 [==============================] - 4s - loss: 1.1133     \n",
      "Epoch 11/20\n",
      "500000/500000 [==============================] - 4s - loss: 1.1121     \n",
      "Epoch 12/20\n",
      "500000/500000 [==============================] - 4s - loss: 1.1118     \n",
      "Epoch 13/20\n",
      "500000/500000 [==============================] - 4s - loss: 1.1110     \n",
      "Epoch 14/20\n",
      "500000/500000 [==============================] - 4s - loss: 1.1095     \n",
      "Epoch 15/20\n",
      "500000/500000 [==============================] - 4s - loss: 1.1089     \n",
      "Epoch 16/20\n",
      "500000/500000 [==============================] - 4s - loss: 1.1096     \n",
      "Epoch 17/20\n",
      "500000/500000 [==============================] - 4s - loss: 1.1058     \n",
      "Epoch 18/20\n",
      "500000/500000 [==============================] - 4s - loss: 1.1070     \n",
      "Epoch 19/20\n",
      "500000/500000 [==============================] - 4s - loss: 1.1069     \n",
      "Epoch 20/20\n",
      "500000/500000 [==============================] - 4s - loss: 1.1069     \n"
     ]
    }
   ],
   "source": [
    "trainX, testX, trainY, testY = train_test_split(features, target, random_state=42,train_size=0.5 )\n",
    "\n",
    "nb_epoch = 20\n",
    "batch_size = 256 \n",
    "n_features = trainX.shape[1]\n",
    "class_weights = {1:ratio_ghost_to_good,\n",
    "                 0:1}\n",
    "\n",
    "# prepare Train \n",
    "trainY = trainY.values\n",
    "y_train = np_utils.to_categorical(trainY)\n",
    "trainX = trainX.values\n",
    "\n",
    "clf = Pipeline([\n",
    "  ('feature_scale', StandardScaler() ),\n",
    "  ('clf', KerasClassifier(build_fn = create_1nn_to_gridSearch, n_features=n_features,\n",
    "                          n_hidden=50, has_dropout=True, p_drop=0.2, reg=0.01, activation = \"PReLU\",\n",
    "                          class_weight=class_weights, sample_weight = None,\n",
    "                          batch_size=batch_size, nb_epoch=nb_epoch) )\n",
    "])\n",
    "clf.fit(trainX, y_train)\n",
    "time.sleep(0.1)"
   ]
  },
  {
   "cell_type": "code",
   "execution_count": 52,
   "metadata": {
    "collapsed": false
   },
   "outputs": [
    {
     "name": "stdout",
     "output_type": "stream",
     "text": [
      "PReLU 50 Hidden unit\n",
      "499968/500000 [============================>.] - ETA: 0s"
     ]
    },
    {
     "data": {
      "text/plain": [
       "0.76495058500210988"
      ]
     },
     "execution_count": 52,
     "metadata": {},
     "output_type": "execute_result"
    }
   ],
   "source": [
    "print \"PReLU 50 Hidden unit\"\n",
    "roc_auc_score(testY, clf.predict_proba(testX)[:, 1])"
   ]
  },
  {
   "cell_type": "code",
   "execution_count": 53,
   "metadata": {
    "collapsed": false
   },
   "outputs": [
    {
     "name": "stdout",
     "output_type": "stream",
     "text": [
      "498176/500000 [============================>.] - ETA: 0s"
     ]
    },
    {
     "data": {
      "image/png": "[encoded data removed]",
      "text/plain": [
       "<matplotlib.figure.Figure at 0x7f0dff8b8e90>"
      ]
     },
     "metadata": {},
     "output_type": "display_data"
    }
   ],
   "source": [
    "plt.figure(figsize=[6, 6])\n",
    "fpr, tpr, thresholds = roc_curve(testY, clf.predict_proba(testX)[:, 1])\n",
    "roc_auc = auc(fpr, tpr)\n",
    "plt.plot(fpr, tpr, lw=1, label='ROC 1NN (area = %0.2f)'%(roc_auc))\n",
    "plt.plot([0, 1], [0, 1], '--', color=(0.6, 0.6, 0.6), label='no discrimination')\n",
    "plt.xlim([-0.05, 1.05])\n",
    "plt.ylim([-0.05, 1.05])\n",
    "plt.xlabel('False Positive Rate')\n",
    "plt.ylabel('True Positive Rate')\n",
    "plt.title('Receiver operating characteristic')\n",
    "plt.legend(loc=\"lower right\")\n",
    "plt.grid()\n",
    "plt.show()"
   ]
  },
  {
   "cell_type": "code",
   "execution_count": 58,
   "metadata": {
    "collapsed": false
   },
   "outputs": [
    {
     "name": "stdout",
     "output_type": "stream",
     "text": [
      "499968/500000 [============================>.] - ETA: 0s"
     ]
    },
    {
     "data": {
      "image/png": "[encoded data removed]",
      "text/plain": [
       "<matplotlib.figure.Figure at 0x7f0e2e0dcd50>"
      ]
     },
     "metadata": {},
     "output_type": "display_data"
    }
   ],
   "source": [
    "plt.figure(figsize=[6, 6])\n",
    "fpr, tpr, thresholds = roc_curve(testY, clf.predict_proba(testX)[:, 1])\n",
    "roc_auc = auc(fpr, tpr)\n",
    "plt.plot(fpr, tpr, lw=1, label='ROC 1NN (area = %0.2f)'%(roc_auc))\n",
    "plt.plot([0, 1], [0, 1], '--', color=(0.6, 0.6, 0.6), label='no discrimination')\n",
    "plt.ylim([0.95, 1])\n",
    "plt.xlim([0.6, 1])\n",
    "plt.xlabel('False Positive Rate')\n",
    "plt.ylabel('True Positive Rate')\n",
    "plt.title('Zoomed Receiver operating characteristic')\n",
    "plt.legend(loc=\"lower right\")\n",
    "plt.grid()\n",
    "plt.show()"
   ]
  },
  {
   "cell_type": "markdown",
   "metadata": {},
   "source": [
    "Train 2 layer Neural Network. \n",
    "===============\n",
    "\n",
    "I try to train the shallow, contains 2 hidden layer, neural network.  \n",
    "The data is normalized via StandardScaler.  \n",
    "The network has similar layers as previous one. "
   ]
  },
  {
   "cell_type": "code",
   "execution_count": null,
   "metadata": {
    "collapsed": true
   },
   "outputs": [],
   "source": []
  }
 ],
 "metadata": {
  "kernelspec": {
   "display_name": "Python 2",
   "language": "python",
   "name": "python2"
  },
  "language_info": {
   "codemirror_mode": {
    "name": "ipython",
    "version": 2
   },
   "file_extension": ".py",
   "mimetype": "text/x-python",
   "name": "python",
   "nbconvert_exporter": "python",
   "pygments_lexer": "ipython2",
   "version": "2.7.10"
  }
 },
 "nbformat": 4,
 "nbformat_minor": 0
}

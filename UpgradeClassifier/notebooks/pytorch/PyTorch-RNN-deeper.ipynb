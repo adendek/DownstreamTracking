{
 "cells": [
  {
   "cell_type": "markdown",
   "metadata": {},
   "source": [
    "# RNN approach to the Upgrade classifier \n",
    "\n",
    "This notebook is dedicated to storing my study on a recurrent neural network to classify the track seeds. In these exercises I'll build a model that uses only hits information in order to make a prediction. \n",
    "\n",
    "Study roadmap:\n",
    "\n",
    "1. Import an FT hits data and converts it into time series. This point will be a little bit challenging since hits need to be coded. \n",
    "2. Build a model that use LSTM units to classify the tracks\n",
    "3. Compare the result to the track information NN. \n",
    "\n",
    "\n",
    "Open questions:\n",
    "1. What is the meaning of repetited planeID?"
   ]
  },
  {
   "cell_type": "code",
   "execution_count": null,
   "metadata": {},
   "outputs": [],
   "source": [
    "import sys\n",
    "!{sys.executable} -m pip install --upgrade tmpfile\n"
   ]
  },
  {
   "cell_type": "code",
   "execution_count": 1,
   "metadata": {},
   "outputs": [],
   "source": [
    "import pandas as pd\n",
    "pd.options.mode.chained_assignment = None  # default='warn'\n",
    "\n",
    "import numpy as np\n",
    "import random\n",
    "import itertools\n",
    "\n",
    "%matplotlib inline\n",
    "import matplotlib.pyplot as plt\n",
    "\n",
    "from sklearn.model_selection import train_test_split\n",
    "from sklearn.metrics import accuracy_score, log_loss, precision_score, precision_recall_curve\n",
    "from sklearn.metrics import roc_auc_score, roc_curve, auc\n",
    "from sklearn.metrics import classification_report\n",
    "\n",
    "import torch\n",
    "import torch.nn as nn\n",
    "import torch.optim as optim\n",
    "import torch.nn.functional as F\n",
    "from torch.utils.data import Dataset, DataLoader, TensorDataset,ConcatDataset\n",
    "from torch.autograd import Variable\n",
    "\n",
    "\n",
    "from timeit import default_timer as timer\n",
    "from tqdm.notebook import tqdm\n",
    "from multiprocessing import Pool\n",
    "import tempfile\n"
   ]
  },
  {
   "cell_type": "code",
   "execution_count": 2,
   "metadata": {},
   "outputs": [],
   "source": [
    "hits_df = pd.read_pickle(\"/data/work/wessex/Wessex/test/FT_hits.pickle\")"
   ]
  },
  {
   "cell_type": "code",
   "execution_count": 3,
   "metadata": {},
   "outputs": [],
   "source": [
    "class HitsDataset(Dataset):\n",
    "    def __init__(self, hits_df):\n",
    "        self.features = hits_df.features\n",
    "        self.target  = hits_df.target\n",
    "        \n",
    "\n",
    "    def __getitem__(self,index):        \n",
    "        return (torch.tensor(self.features.iloc[index]), \n",
    "                torch.tensor(self.target.iloc[index]))\n",
    "        \n",
    "    def __len__(self):\n",
    "        return len(self.features)"
   ]
  },
  {
   "cell_type": "code",
   "execution_count": 4,
   "metadata": {},
   "outputs": [],
   "source": [
    "X_train, X_valid = train_test_split(hits_df, test_size=0.2, random_state=12)"
   ]
  },
  {
   "cell_type": "code",
   "execution_count": 5,
   "metadata": {},
   "outputs": [],
   "source": [
    "datasets={\n",
    "    \"train\":HitsDataset(X_train),\n",
    "    \"valid\":HitsDataset(X_valid)\n",
    "}\n"
   ]
  },
  {
   "cell_type": "code",
   "execution_count": 6,
   "metadata": {},
   "outputs": [],
   "source": [
    "def create_sampler(target):\n",
    "    class_sample_count = np.array(\n",
    "        [len(np.where(target == t)[0]) for t in np.unique(target)])\n",
    "    weight = 1. / class_sample_count\n",
    "    samples_weight = np.array([weight[t] for t in target])\n",
    "    samples_weight = torch.from_numpy(samples_weight)\n",
    "    samples_weigth = samples_weight.double()\n",
    "    return torch.utils.data.sampler.WeightedRandomSampler(samples_weight, len(samples_weight))\n",
    "\n"
   ]
  },
  {
   "cell_type": "code",
   "execution_count": 7,
   "metadata": {},
   "outputs": [],
   "source": [
    "dataloaders = { \n",
    "    'train':DataLoader(datasets[\"train\"], \n",
    "                   batch_size=256,\n",
    "                    sampler = create_sampler(X_train.target),\n",
    "                    num_workers=0),\n",
    "    'valid':DataLoader(datasets[\"valid\"],\n",
    "                      batch_size=128,\n",
    "                      shuffle=False,\n",
    "                      num_workers=5)\n",
    "}"
   ]
  },
  {
   "cell_type": "code",
   "execution_count": 8,
   "metadata": {},
   "outputs": [
    {
     "name": "stdout",
     "output_type": "stream",
     "text": [
      "features tensor([[[-0.0000e+00,  1.0000e+00,  3.4602e+01, -1.4161e+03],\n",
      "         [ 8.7489e-02,  1.0000e+00,  2.5000e+01, -1.5131e+03],\n",
      "         [-8.7489e-02,  1.0000e+00,  3.4602e+01, -1.4372e+03],\n",
      "         ...,\n",
      "         [ 8.7489e-02,  1.0000e+00,  2.5000e+01, -2.3248e+03],\n",
      "         [-8.7489e-02,  1.0000e+00,  3.4602e+01, -2.2345e+03],\n",
      "         [-0.0000e+00,  1.0000e+00,  2.5000e+01, -2.3427e+03]],\n",
      "\n",
      "        [[ 0.0000e+00,  0.0000e+00,  2.5000e+01,  1.0393e+03],\n",
      "         [ 8.7489e-02,  0.0000e+00,  2.5000e+01,  1.1300e+03],\n",
      "         [-8.7489e-02,  0.0000e+00,  1.8904e+01,  1.0521e+03],\n",
      "         ...,\n",
      "         [ 8.7489e-02,  0.0000e+00,  3.4602e+01,  1.8407e+03],\n",
      "         [-8.7489e-02,  0.0000e+00,  3.4602e+01,  1.7484e+03],\n",
      "         [ 0.0000e+00,  0.0000e+00,  3.4602e+01,  1.8500e+03]],\n",
      "\n",
      "        [[ 0.0000e+00,  0.0000e+00,  3.4602e+01, -1.3196e+02],\n",
      "         [ 8.7489e-02,  0.0000e+00,  3.4602e+01, -1.1695e+02],\n",
      "         [-8.7489e-02,  0.0000e+00,  2.5000e+01, -1.6543e+02],\n",
      "         ...,\n",
      "         [ 8.7489e-02,  0.0000e+00,  3.4602e+01, -2.3996e+02],\n",
      "         [-8.7489e-02,  0.0000e+00,  3.4602e+01, -2.9622e+02],\n",
      "         [ 0.0000e+00,  0.0000e+00,  3.4602e+01, -2.7799e+02]],\n",
      "\n",
      "        ...,\n",
      "\n",
      "        [[ 0.0000e+00,  0.0000e+00,  3.4602e+01, -1.0454e+03],\n",
      "         [ 8.7489e-02,  0.0000e+00,  3.4602e+01, -1.0103e+03],\n",
      "         [-8.7489e-02,  0.0000e+00,  2.5000e+01, -1.1383e+03],\n",
      "         ...,\n",
      "         [ 8.7489e-02,  0.0000e+00,  3.4602e+01, -1.3852e+03],\n",
      "         [-8.7489e-02,  0.0000e+00,  3.4602e+01, -1.5322e+03],\n",
      "         [ 0.0000e+00,  0.0000e+00,  0.0000e+00,  0.0000e+00]],\n",
      "\n",
      "        [[-0.0000e+00,  1.0000e+00,  2.5000e+01,  5.6024e+02],\n",
      "         [ 8.7489e-02,  1.0000e+00,  3.4602e+01,  5.6400e+02],\n",
      "         [-8.7489e-02,  1.0000e+00,  3.4602e+01,  6.2023e+02],\n",
      "         ...,\n",
      "         [ 8.7489e-02,  1.0000e+00,  3.4602e+01,  9.9298e+02],\n",
      "         [-8.7489e-02,  1.0000e+00,  3.4602e+01,  1.0565e+03],\n",
      "         [ 0.0000e+00,  0.0000e+00,  0.0000e+00,  0.0000e+00]],\n",
      "\n",
      "        [[ 0.0000e+00,  0.0000e+00,  3.4602e+01,  2.8360e+01],\n",
      "         [ 8.7489e-02,  0.0000e+00,  3.4602e+01,  4.7510e+01],\n",
      "         [ 0.0000e+00,  0.0000e+00,  0.0000e+00,  0.0000e+00],\n",
      "         ...,\n",
      "         [ 0.0000e+00,  0.0000e+00,  0.0000e+00,  0.0000e+00],\n",
      "         [-8.7489e-02,  0.0000e+00,  3.4602e+01, -5.2300e+01],\n",
      "         [ 0.0000e+00,  0.0000e+00,  3.4602e+01, -2.9360e+01]]],\n",
      "       dtype=torch.float64) torch.Size([256, 12, 4])\n",
      "target tensor([0, 1, 1, 1, 0, 0, 0, 1, 0, 0, 1, 1, 1, 1, 0, 1, 1, 1, 0, 1, 1, 1, 1, 1,\n",
      "        0, 1, 1, 1, 0, 0, 1, 1, 0, 1, 1, 0, 1, 0, 0, 1, 0, 0, 0, 1, 0, 0, 1, 0,\n",
      "        0, 1, 1, 1, 0, 0, 1, 1, 1, 0, 1, 1, 1, 0, 1, 0, 0, 0, 0, 0, 1, 1, 1, 1,\n",
      "        1, 1, 0, 0, 1, 0, 0, 1, 0, 0, 0, 0, 1, 1, 0, 0, 1, 0, 0, 1, 0, 0, 1, 0,\n",
      "        0, 1, 0, 0, 1, 1, 0, 0, 1, 1, 1, 0, 0, 0, 1, 1, 1, 0, 0, 0, 1, 1, 1, 0,\n",
      "        1, 1, 1, 1, 1, 1, 0, 1, 1, 0, 0, 0, 1, 0, 0, 0, 1, 1, 0, 1, 0, 0, 1, 0,\n",
      "        1, 0, 0, 0, 0, 0, 1, 1, 1, 0, 1, 1, 1, 1, 0, 0, 1, 0, 0, 1, 1, 0, 1, 1,\n",
      "        1, 0, 1, 0, 1, 1, 1, 1, 0, 0, 1, 1, 0, 1, 1, 0, 0, 1, 1, 1, 1, 1, 0, 0,\n",
      "        0, 0, 1, 1, 0, 1, 0, 0, 0, 0, 1, 0, 0, 0, 1, 0, 0, 1, 0, 0, 1, 1, 0, 1,\n",
      "        0, 1, 0, 1, 0, 0, 0, 0, 0, 1, 0, 1, 1, 1, 0, 0, 1, 1, 1, 1, 1, 1, 1, 0,\n",
      "        1, 0, 0, 0, 1, 1, 0, 1, 0, 1, 0, 1, 1, 1, 1, 0]) 256\n"
     ]
    }
   ],
   "source": [
    "    for batch in dataloaders[\"train\"]:\n",
    "        print(\"features\", batch[0], batch[0].shape)\n",
    "        print(\"target\", batch[1], len(batch[1]))\n",
    "        break"
   ]
  },
  {
   "cell_type": "markdown",
   "metadata": {},
   "source": [
    "# Build a model "
   ]
  },
  {
   "cell_type": "code",
   "execution_count": 9,
   "metadata": {},
   "outputs": [
    {
     "data": {
      "text/plain": [
       "device(type='cuda', index=0)"
      ]
     },
     "execution_count": 9,
     "metadata": {},
     "output_type": "execute_result"
    }
   ],
   "source": [
    "device = torch.device(\"cuda:0\" if torch.cuda.is_available() else \"cpu\")\n",
    "device"
   ]
  },
  {
   "cell_type": "code",
   "execution_count": 10,
   "metadata": {},
   "outputs": [],
   "source": [
    "class RNNUpgradeTracking(nn.Module):\n",
    "    def __init__(self,):\n",
    "        super(RNNUpgradeTracking, self).__init__()\n",
    "        self.num_layers = 12\n",
    "        self.hidden_size = 14\n",
    "        self.batch_size = 256\n",
    "\n",
    "        self.rnn = nn.LSTM(\n",
    "            input_size= 4,\n",
    "            hidden_size= self.hidden_size,\n",
    "            num_layers=self.num_layers,\n",
    "            batch_first=True,\n",
    "        )\n",
    "        self.decoder = nn.Linear(self.hidden_size, 2)\n",
    "        \n",
    "        nn.init.xavier_normal_(self.decoder.weight)\n",
    "        self.hidden = self.init_hidden()\n",
    "\n",
    "    def init_hidden(self):\n",
    "        hidden = Variable(torch.zeros(self.num_layers, self.batch_size, self.hidden_size)).to(device)\n",
    "        cell =  Variable(torch.zeros(self.num_layers, self.batch_size, self.hidden_size)).to(device)\n",
    "        return (hidden, cell)\n",
    "\n",
    "\n",
    "    def forward(self, inputs):\n",
    "        # Avoid breaking if the last batch has a different size\n",
    "        batch_size = inputs.size(0)\n",
    "        if batch_size != self.batch_size:\n",
    "            self.batch_size = batch_size\n",
    "\n",
    "        output, self.hidden = self.rnn(inputs, self.init_hidden())\n",
    "        output = self.decoder(output[:,-1,:])\n",
    "        return output"
   ]
  },
  {
   "cell_type": "code",
   "execution_count": 12,
   "metadata": {},
   "outputs": [
    {
     "data": {
      "text/plain": [
       "RNNUpgradeTracking(\n",
       "  (rnn): LSTM(4, 14, num_layers=12, batch_first=True)\n",
       "  (decoder): Linear(in_features=14, out_features=2, bias=True)\n",
       ")"
      ]
     },
     "execution_count": 12,
     "metadata": {},
     "output_type": "execute_result"
    }
   ],
   "source": [
    "model = RNNUpgradeTracking()\n",
    "model.to(device)\n",
    "model\n"
   ]
  },
  {
   "cell_type": "code",
   "execution_count": 13,
   "metadata": {},
   "outputs": [],
   "source": [
    "lr = 1e-4\n",
    "optimizer = torch.optim.Adam(model.parameters(),lr)\n",
    "criterion =torch.nn.CrossEntropyLoss().to(device)"
   ]
  },
  {
   "cell_type": "code",
   "execution_count": 14,
   "metadata": {},
   "outputs": [],
   "source": [
    "def train_and_valid_classification(model,\n",
    "                                   criterion,\n",
    "                                   optimizer,\n",
    "                                   run_hist={},\n",
    "                                   num_epochs=10,\n",
    "                                   save_every_nth_batch_loss=50):\n",
    "    \"\"\"Train and evaluate the classification model.\"\"\"\n",
    "    if len(run_hist) == 0:\n",
    "        run_hist = {key: [] for key in ['epoch_loss_train',\n",
    "                                    'epoch_loss_valid',\n",
    "                                    'epoch_acc_valid',\n",
    "                                    'epoch_acc_train',   \n",
    "                                    'batch_loss_train']}\n",
    "    process_timer = timer()\n",
    "    \n",
    "    for epoch in range(num_epochs):\n",
    "        print('\\nEpoch {}/{}'.format(epoch+1, num_epochs))\n",
    "        print('-' * 10)\n",
    "\n",
    "        for phase in ['train', 'valid']:\n",
    "            start_epoch = timer()\n",
    "            if phase == 'train':\n",
    "                model.train()\n",
    "            else:\n",
    "                model.eval()\n",
    "        \n",
    "            running_loss = 0.0\n",
    "            running_corrects = 0\n",
    "            \n",
    "            batch_iterator = tqdm(iter(dataloaders[phase]), leave=False, total=len(dataloaders[phase]))\n",
    "\n",
    "        \n",
    "            for i, batch in enumerate(batch_iterator):\n",
    "                inputs, labels = batch\n",
    "                inputs = inputs.to(device)\n",
    "                labels = labels.to(device)\n",
    "\n",
    "                outputs = model(inputs.float())\n",
    "                loss = criterion(outputs, labels.long())\n",
    "\n",
    "                if phase == 'train':\n",
    "                    optimizer.zero_grad()\n",
    "                    loss.backward()\n",
    "                    optimizer.step()\n",
    "\n",
    "                _, preds = torch.max(outputs, 1)\n",
    "                running_loss += loss.detach() * inputs.size(0)\n",
    "                running_corrects += torch.sum(preds == labels.data.long())\n",
    "\n",
    "                if phase == 'train' and i % save_every_nth_batch_loss == 0:\n",
    "                    run_hist['batch_loss_train'].append(loss.item())\n",
    "\n",
    "            epoch_loss = running_loss / len(datasets[phase])\n",
    "            epoch_acc = running_corrects.float() / len(datasets[phase])\n",
    "\n",
    "            print('{} loss: {:.4f}, {} acc: {:.4f}, elapsed:{:.4f}'.\\\n",
    "            format(phase,\n",
    "                   epoch_loss.item(),\n",
    "                   phase,\n",
    "                   epoch_acc.item(),\n",
    "                   timer()-start_epoch\n",
    "                 ))\n",
    "                 \n",
    "        \n",
    "            run_hist['epoch_loss_' + phase].append(epoch_loss.item())\n",
    "            run_hist['epoch_acc_' + phase].append(epoch_acc.item())\n",
    "\n",
    "    print(\"training took: \",timer()- process_timer)    \n",
    "    return model, run_hist"
   ]
  },
  {
   "cell_type": "code",
   "execution_count": 15,
   "metadata": {},
   "outputs": [
    {
     "name": "stdout",
     "output_type": "stream",
     "text": [
      "Model's state_dict:\n",
      "rnn.weight_ih_l0 \t torch.Size([56, 4])\n",
      "rnn.weight_hh_l0 \t torch.Size([56, 14])\n",
      "rnn.bias_ih_l0 \t torch.Size([56])\n",
      "rnn.bias_hh_l0 \t torch.Size([56])\n",
      "rnn.weight_ih_l1 \t torch.Size([56, 14])\n",
      "rnn.weight_hh_l1 \t torch.Size([56, 14])\n",
      "rnn.bias_ih_l1 \t torch.Size([56])\n",
      "rnn.bias_hh_l1 \t torch.Size([56])\n",
      "rnn.weight_ih_l2 \t torch.Size([56, 14])\n",
      "rnn.weight_hh_l2 \t torch.Size([56, 14])\n",
      "rnn.bias_ih_l2 \t torch.Size([56])\n",
      "rnn.bias_hh_l2 \t torch.Size([56])\n",
      "rnn.weight_ih_l3 \t torch.Size([56, 14])\n",
      "rnn.weight_hh_l3 \t torch.Size([56, 14])\n",
      "rnn.bias_ih_l3 \t torch.Size([56])\n",
      "rnn.bias_hh_l3 \t torch.Size([56])\n",
      "rnn.weight_ih_l4 \t torch.Size([56, 14])\n",
      "rnn.weight_hh_l4 \t torch.Size([56, 14])\n",
      "rnn.bias_ih_l4 \t torch.Size([56])\n",
      "rnn.bias_hh_l4 \t torch.Size([56])\n",
      "rnn.weight_ih_l5 \t torch.Size([56, 14])\n",
      "rnn.weight_hh_l5 \t torch.Size([56, 14])\n",
      "rnn.bias_ih_l5 \t torch.Size([56])\n",
      "rnn.bias_hh_l5 \t torch.Size([56])\n",
      "rnn.weight_ih_l6 \t torch.Size([56, 14])\n",
      "rnn.weight_hh_l6 \t torch.Size([56, 14])\n",
      "rnn.bias_ih_l6 \t torch.Size([56])\n",
      "rnn.bias_hh_l6 \t torch.Size([56])\n",
      "rnn.weight_ih_l7 \t torch.Size([56, 14])\n",
      "rnn.weight_hh_l7 \t torch.Size([56, 14])\n",
      "rnn.bias_ih_l7 \t torch.Size([56])\n",
      "rnn.bias_hh_l7 \t torch.Size([56])\n",
      "rnn.weight_ih_l8 \t torch.Size([56, 14])\n",
      "rnn.weight_hh_l8 \t torch.Size([56, 14])\n",
      "rnn.bias_ih_l8 \t torch.Size([56])\n",
      "rnn.bias_hh_l8 \t torch.Size([56])\n",
      "rnn.weight_ih_l9 \t torch.Size([56, 14])\n",
      "rnn.weight_hh_l9 \t torch.Size([56, 14])\n",
      "rnn.bias_ih_l9 \t torch.Size([56])\n",
      "rnn.bias_hh_l9 \t torch.Size([56])\n",
      "rnn.weight_ih_l10 \t torch.Size([56, 14])\n",
      "rnn.weight_hh_l10 \t torch.Size([56, 14])\n",
      "rnn.bias_ih_l10 \t torch.Size([56])\n",
      "rnn.bias_hh_l10 \t torch.Size([56])\n",
      "rnn.weight_ih_l11 \t torch.Size([56, 14])\n",
      "rnn.weight_hh_l11 \t torch.Size([56, 14])\n",
      "rnn.bias_ih_l11 \t torch.Size([56])\n",
      "rnn.bias_hh_l11 \t torch.Size([56])\n",
      "decoder.weight \t torch.Size([2, 14])\n",
      "decoder.bias \t torch.Size([2])\n"
     ]
    }
   ],
   "source": [
    "print(\"Model's state_dict:\")\n",
    "for param_tensor in model.state_dict():\n",
    "    print(param_tensor, \"\\t\", model.state_dict()[param_tensor].size())\n"
   ]
  },
  {
   "cell_type": "code",
   "execution_count": 16,
   "metadata": {},
   "outputs": [
    {
     "data": {
      "text/plain": [
       "19630"
      ]
     },
     "execution_count": 16,
     "metadata": {},
     "output_type": "execute_result"
    }
   ],
   "source": [
    "model_parameters = filter(lambda p: p.requires_grad, model.parameters())\n",
    "params = sum([np.prod(p.size()) for p in model_parameters])\n",
    "params"
   ]
  },
  {
   "cell_type": "code",
   "execution_count": 17,
   "metadata": {
    "scrolled": false
   },
   "outputs": [
    {
     "name": "stdout",
     "output_type": "stream",
     "text": [
      "\n",
      "Epoch 1/3\n",
      "----------\n"
     ]
    },
    {
     "data": {
      "application/vnd.jupyter.widget-view+json": {
       "model_id": "",
       "version_major": 2,
       "version_minor": 0
      },
      "text/plain": [
       "HBox(children=(FloatProgress(value=0.0, max=20099.0), HTML(value='')))"
      ]
     },
     "metadata": {},
     "output_type": "display_data"
    },
    {
     "name": "stdout",
     "output_type": "stream",
     "text": [
      "train loss: 0.6758, train acc: 0.5734, elapsed:605.6164\n"
     ]
    },
    {
     "data": {
      "application/vnd.jupyter.widget-view+json": {
       "model_id": "",
       "version_major": 2,
       "version_minor": 0
      },
      "text/plain": [
       "HBox(children=(FloatProgress(value=0.0, max=10050.0), HTML(value='')))"
      ]
     },
     "metadata": {},
     "output_type": "display_data"
    },
    {
     "name": "stdout",
     "output_type": "stream",
     "text": [
      "valid loss: 0.6565, valid acc: 0.5558, elapsed:51.9662\n",
      "\n",
      "Epoch 2/3\n",
      "----------\n"
     ]
    },
    {
     "data": {
      "application/vnd.jupyter.widget-view+json": {
       "model_id": "",
       "version_major": 2,
       "version_minor": 0
      },
      "text/plain": [
       "HBox(children=(FloatProgress(value=0.0, max=20099.0), HTML(value='')))"
      ]
     },
     "metadata": {},
     "output_type": "display_data"
    },
    {
     "name": "stdout",
     "output_type": "stream",
     "text": [
      "train loss: 0.6676, train acc: 0.5896, elapsed:605.7025\n"
     ]
    },
    {
     "data": {
      "application/vnd.jupyter.widget-view+json": {
       "model_id": "",
       "version_major": 2,
       "version_minor": 0
      },
      "text/plain": [
       "HBox(children=(FloatProgress(value=0.0, max=10050.0), HTML(value='')))"
      ]
     },
     "metadata": {},
     "output_type": "display_data"
    },
    {
     "name": "stdout",
     "output_type": "stream",
     "text": [
      "valid loss: 0.6471, valid acc: 0.5729, elapsed:51.7012\n",
      "\n",
      "Epoch 3/3\n",
      "----------\n"
     ]
    },
    {
     "data": {
      "application/vnd.jupyter.widget-view+json": {
       "model_id": "",
       "version_major": 2,
       "version_minor": 0
      },
      "text/plain": [
       "HBox(children=(FloatProgress(value=0.0, max=20099.0), HTML(value='')))"
      ]
     },
     "metadata": {},
     "output_type": "display_data"
    },
    {
     "name": "stdout",
     "output_type": "stream",
     "text": [
      "train loss: 0.6644, train acc: 0.5944, elapsed:614.6226\n"
     ]
    },
    {
     "data": {
      "application/vnd.jupyter.widget-view+json": {
       "model_id": "",
       "version_major": 2,
       "version_minor": 0
      },
      "text/plain": [
       "HBox(children=(FloatProgress(value=0.0, max=10050.0), HTML(value='')))"
      ]
     },
     "metadata": {},
     "output_type": "display_data"
    },
    {
     "name": "stdout",
     "output_type": "stream",
     "text": [
      "valid loss: 0.6432, valid acc: 0.5726, elapsed:52.1633\n",
      "training took:  1981.7737234858796\n"
     ]
    }
   ],
   "source": [
    "model, run_hist = train_and_valid_classification(model, criterion, optimizer, num_epochs=3)"
   ]
  },
  {
   "cell_type": "code",
   "execution_count": null,
   "metadata": {},
   "outputs": [
    {
     "name": "stdout",
     "output_type": "stream",
     "text": [
      "\n",
      "Epoch 1/10\n",
      "----------\n"
     ]
    },
    {
     "data": {
      "application/vnd.jupyter.widget-view+json": {
       "model_id": "",
       "version_major": 2,
       "version_minor": 0
      },
      "text/plain": [
       "HBox(children=(FloatProgress(value=0.0, max=20099.0), HTML(value='')))"
      ]
     },
     "metadata": {},
     "output_type": "display_data"
    },
    {
     "name": "stdout",
     "output_type": "stream",
     "text": [
      "train loss: 0.6626, train acc: 0.5971, elapsed:604.8441\n"
     ]
    },
    {
     "data": {
      "application/vnd.jupyter.widget-view+json": {
       "model_id": "",
       "version_major": 2,
       "version_minor": 0
      },
      "text/plain": [
       "HBox(children=(FloatProgress(value=0.0, max=10050.0), HTML(value='')))"
      ]
     },
     "metadata": {},
     "output_type": "display_data"
    },
    {
     "name": "stdout",
     "output_type": "stream",
     "text": [
      "valid loss: 0.6537, valid acc: 0.5544, elapsed:52.5154\n",
      "\n",
      "Epoch 2/10\n",
      "----------\n"
     ]
    },
    {
     "data": {
      "application/vnd.jupyter.widget-view+json": {
       "model_id": "",
       "version_major": 2,
       "version_minor": 0
      },
      "text/plain": [
       "HBox(children=(FloatProgress(value=0.0, max=20099.0), HTML(value='')))"
      ]
     },
     "metadata": {},
     "output_type": "display_data"
    },
    {
     "name": "stdout",
     "output_type": "stream",
     "text": [
      "train loss: 0.6614, train acc: 0.5982, elapsed:609.9830\n"
     ]
    },
    {
     "data": {
      "application/vnd.jupyter.widget-view+json": {
       "model_id": "",
       "version_major": 2,
       "version_minor": 0
      },
      "text/plain": [
       "HBox(children=(FloatProgress(value=0.0, max=10050.0), HTML(value='')))"
      ]
     },
     "metadata": {},
     "output_type": "display_data"
    },
    {
     "name": "stdout",
     "output_type": "stream",
     "text": [
      "valid loss: 0.6718, valid acc: 0.5337, elapsed:52.4369\n",
      "\n",
      "Epoch 3/10\n",
      "----------\n"
     ]
    },
    {
     "data": {
      "application/vnd.jupyter.widget-view+json": {
       "model_id": "",
       "version_major": 2,
       "version_minor": 0
      },
      "text/plain": [
       "HBox(children=(FloatProgress(value=0.0, max=20099.0), HTML(value='')))"
      ]
     },
     "metadata": {},
     "output_type": "display_data"
    },
    {
     "name": "stdout",
     "output_type": "stream",
     "text": [
      "train loss: 0.6604, train acc: 0.5998, elapsed:599.9564\n"
     ]
    },
    {
     "data": {
      "application/vnd.jupyter.widget-view+json": {
       "model_id": "",
       "version_major": 2,
       "version_minor": 0
      },
      "text/plain": [
       "HBox(children=(FloatProgress(value=0.0, max=10050.0), HTML(value='')))"
      ]
     },
     "metadata": {},
     "output_type": "display_data"
    },
    {
     "name": "stdout",
     "output_type": "stream",
     "text": [
      "valid loss: 0.6542, valid acc: 0.5547, elapsed:53.1305\n",
      "\n",
      "Epoch 4/10\n",
      "----------\n"
     ]
    },
    {
     "data": {
      "application/vnd.jupyter.widget-view+json": {
       "model_id": "",
       "version_major": 2,
       "version_minor": 0
      },
      "text/plain": [
       "HBox(children=(FloatProgress(value=0.0, max=20099.0), HTML(value='')))"
      ]
     },
     "metadata": {},
     "output_type": "display_data"
    },
    {
     "name": "stdout",
     "output_type": "stream",
     "text": [
      "train loss: 0.6595, train acc: 0.6009, elapsed:617.5739\n"
     ]
    },
    {
     "data": {
      "application/vnd.jupyter.widget-view+json": {
       "model_id": "",
       "version_major": 2,
       "version_minor": 0
      },
      "text/plain": [
       "HBox(children=(FloatProgress(value=0.0, max=10050.0), HTML(value='')))"
      ]
     },
     "metadata": {},
     "output_type": "display_data"
    },
    {
     "name": "stdout",
     "output_type": "stream",
     "text": [
      "valid loss: 0.6738, valid acc: 0.5232, elapsed:53.0940\n",
      "\n",
      "Epoch 5/10\n",
      "----------\n"
     ]
    },
    {
     "data": {
      "application/vnd.jupyter.widget-view+json": {
       "model_id": "",
       "version_major": 2,
       "version_minor": 0
      },
      "text/plain": [
       "HBox(children=(FloatProgress(value=0.0, max=20099.0), HTML(value='')))"
      ]
     },
     "metadata": {},
     "output_type": "display_data"
    },
    {
     "name": "stdout",
     "output_type": "stream",
     "text": [
      "train loss: 0.6587, train acc: 0.6024, elapsed:615.5758\n"
     ]
    },
    {
     "data": {
      "application/vnd.jupyter.widget-view+json": {
       "model_id": "",
       "version_major": 2,
       "version_minor": 0
      },
      "text/plain": [
       "HBox(children=(FloatProgress(value=0.0, max=10050.0), HTML(value='')))"
      ]
     },
     "metadata": {},
     "output_type": "display_data"
    },
    {
     "name": "stdout",
     "output_type": "stream",
     "text": [
      "valid loss: 0.6645, valid acc: 0.5324, elapsed:53.5850\n",
      "\n",
      "Epoch 6/10\n",
      "----------\n"
     ]
    },
    {
     "data": {
      "application/vnd.jupyter.widget-view+json": {
       "model_id": "228aa29f143e4dc480922eeaab0241a1",
       "version_major": 2,
       "version_minor": 0
      },
      "text/plain": [
       "HBox(children=(FloatProgress(value=0.0, max=20099.0), HTML(value='')))"
      ]
     },
     "metadata": {},
     "output_type": "display_data"
    }
   ],
   "source": [
    "model, run_hist = train_and_valid_classification(model, criterion, optimizer,run_hist= run_hist, num_epochs=10)"
   ]
  },
  {
   "cell_type": "code",
   "execution_count": 19,
   "metadata": {},
   "outputs": [],
   "source": [
    "def print_roc(model, X, Y):\n",
    "    X = torch.tensor(X.values, dtype=torch.float).to(\"cpu\")\n",
    "    model.eval\n",
    "    model.to(\"cpu\")\n",
    "    output =  model(X)    \n",
    "    plt.figure(figsize=[6, 6])\n",
    "    pred = F.softmax(output).cpu().detach().numpy()[:,1]\n",
    "    fpr, tpr, thresholds = roc_curve(Y,pred )\n",
    "    roc_auc = auc(fpr, tpr)\n",
    "    plt.plot(fpr, tpr, lw=1, label='ROC BDT (area = %0.4f)'%(roc_auc))\n",
    "    plt.plot([0, 1], [0, 1], '--', color=(0.6, 0.6, 0.6), label='no discrimination')\n",
    "    plt.xlim([-0.05, 1.05])\n",
    "    plt.ylim([0.8, 1.05])\n",
    "    plt.xlabel('False Positive Rate')\n",
    "    plt.ylabel('True Positive Rate')\n",
    "    plt.title('Receiver operating characteristic')\n",
    "    plt.legend(loc=\"lower right\")\n",
    "    plt.grid()\n",
    "    plt.show()\n",
    "\n"
   ]
  },
  {
   "cell_type": "code",
   "execution_count": 20,
   "metadata": {},
   "outputs": [],
   "source": [
    "def plot_training_classification(run_hist):\n",
    "    \"\"\"Plot the training history of the classification model.\"\"\"\n",
    "    fig, ax = plt.subplots(1,2, figsize=(20,6), sharex=True)\n",
    "    x = np.arange(len(run_hist[\"epoch_loss_train\"])) + 1\n",
    "    ax[0].plot(x, run_hist[\"epoch_loss_train\"],'b', marker='.', label=\"train loss\")\n",
    "    ax[0].plot(x, run_hist[\"epoch_loss_valid\"],'r', marker='.', label=\"valid loss\")\n",
    "    ax[0].legend()\n",
    "    ax[1].plot(x, run_hist[\"epoch_acc_train\"],'b', marker='.', label=\"train accuracy\")\n",
    "    ax[1].plot(x, run_hist[\"epoch_acc_valid\"],'r', marker='.', label=\"valid accuracy\")\n",
    "    ax[1].legend()\n"
   ]
  },
  {
   "cell_type": "code",
   "execution_count": 21,
   "metadata": {},
   "outputs": [
    {
     "data": {
      "image/png": "[encoded data removed]",
      "text/plain": [
       "<Figure size 1440x432 with 2 Axes>"
      ]
     },
     "metadata": {
      "needs_background": "light"
     },
     "output_type": "display_data"
    }
   ],
   "source": [
    "plot_training_classification(run_hist)"
   ]
  },
  {
   "cell_type": "code",
   "execution_count": 22,
   "metadata": {},
   "outputs": [
    {
     "name": "stdout",
     "output_type": "stream",
     "text": [
      "('rnn.weight_ih_l0', Parameter containing:\n",
      "tensor([[ 4.2727e-02, -3.7077e-01, -3.2304e-01, -1.3599e-01],\n",
      "        [-3.1113e-01, -1.3764e-01,  3.9581e-01,  6.8304e-02],\n",
      "        [-3.1683e-01,  1.3472e-01,  3.2268e-02,  1.3676e-03],\n",
      "        [-4.1178e-01,  4.9620e-02, -3.9946e-03, -1.5692e-02],\n",
      "        [-1.8564e-01, -6.9797e-02, -5.8592e-03,  2.4092e-02],\n",
      "        [-3.9544e-01, -6.9007e-02,  2.5157e-01,  8.3176e-02],\n",
      "        [-3.3864e-01, -1.1904e-01, -1.0779e-01, -1.7974e-01],\n",
      "        [ 7.1393e-01,  1.6317e-01, -2.0063e-02,  5.8883e-03],\n",
      "        [-2.9443e-01, -5.1977e-02, -7.4965e-02,  1.1100e-01],\n",
      "        [ 2.5657e-01,  8.0032e-02, -1.0539e-02,  1.7689e-02],\n",
      "        [-5.1401e-01, -3.9779e-01, -2.0769e-02, -1.2474e-01],\n",
      "        [ 1.0681e-01,  1.5499e-02, -4.3173e-02,  4.0050e-02],\n",
      "        [ 6.4894e-01, -3.1844e-01,  4.8027e-01,  9.3268e-02],\n",
      "        [ 5.8967e-01, -7.2563e-02, -2.4579e-03,  2.5582e-03],\n",
      "        [-4.0940e-01, -1.8730e-01, -2.2015e-02, -3.3464e-01],\n",
      "        [ 8.1269e-02,  2.0841e-01,  3.6745e-01, -6.2922e-02],\n",
      "        [-5.3036e-02,  3.3144e-01,  1.5319e-01,  1.9606e-01],\n",
      "        [ 3.9644e-01, -8.0175e-02,  1.6117e-01,  1.9431e-01],\n",
      "        [-1.6758e-01, -2.4358e-01, -1.3315e-01,  4.1897e-02],\n",
      "        [ 2.5149e-01,  4.7257e-01, -1.5195e-01,  1.5380e-01],\n",
      "        [ 1.2055e-01, -7.0193e-02, -2.5157e-01,  6.6260e-05],\n",
      "        [ 5.7314e-01,  2.0597e-02, -1.4279e-01, -5.9721e-02],\n",
      "        [-5.2693e-02, -1.6390e-01, -2.5203e-01,  7.5753e-04],\n",
      "        [-3.9921e-01,  3.2275e-01,  9.6523e-02, -7.2165e-02],\n",
      "        [ 3.0656e-01, -8.4836e-02,  3.7099e-01,  8.6556e-04],\n",
      "        [ 5.4017e-02,  5.1970e-02, -5.3787e-02,  4.3954e-01],\n",
      "        [-2.7213e-01, -9.9903e-02, -1.1030e-01,  2.9212e-01],\n",
      "        [-3.7898e-01, -5.9559e-02, -2.6379e-01, -2.2727e-01],\n",
      "        [-4.8225e-03, -1.0940e-01,  7.8923e-03,  3.6744e-01],\n",
      "        [-2.1485e-02, -7.6529e-02, -2.5876e-01, -4.6526e-02],\n",
      "        [ 1.3788e-01, -1.5049e-01, -3.4085e-01,  8.6591e-04],\n",
      "        [-1.7016e-01, -3.9842e-04, -2.9442e-01,  2.0732e-02],\n",
      "        [ 3.4683e-01,  2.3087e-01, -2.1450e-01, -1.7016e-01],\n",
      "        [ 1.0411e-01, -1.2178e-01,  1.0557e-01,  2.4009e-01],\n",
      "        [ 1.3955e-01, -1.5450e-01, -6.7221e-02, -2.9293e-01],\n",
      "        [ 3.7625e-01, -2.1517e-01, -1.3579e-01,  2.2771e-02],\n",
      "        [ 8.7748e-03, -5.8705e-01,  1.7189e-02,  2.3238e-02],\n",
      "        [ 6.1806e-02,  1.3105e-01, -3.5595e-01, -8.9988e-02],\n",
      "        [ 1.0593e-01, -3.0786e-02, -2.3660e-02,  3.3488e-01],\n",
      "        [ 3.4581e-02,  2.9319e-02,  3.7173e-01, -1.2007e-04],\n",
      "        [-3.1328e-01,  1.0934e-01,  1.5974e-01, -4.3850e-02],\n",
      "        [ 2.6987e-01,  1.7804e-01,  1.2513e-01,  7.6165e-02],\n",
      "        [ 4.9732e-02, -1.1890e-01, -2.0199e-01, -4.2065e-02],\n",
      "        [ 1.5540e-01,  1.2926e-01,  4.7625e-01, -5.9960e-03],\n",
      "        [-5.0426e-02,  2.0228e-01,  1.3578e-01, -1.3073e-02],\n",
      "        [ 2.4454e-01,  1.6739e-01,  8.5549e-02,  1.0572e-02],\n",
      "        [-5.9710e-02, -2.4741e-01, -2.9445e-01,  4.1131e-02],\n",
      "        [ 2.9436e-01,  2.2222e-01,  2.7895e-02, -1.2065e-01],\n",
      "        [-2.0126e-01, -3.7573e-01,  4.3152e-02,  2.3112e-01],\n",
      "        [-1.1625e+00,  1.2430e-01,  3.1270e-01,  5.8215e-02],\n",
      "        [-2.1264e-01, -2.1098e-01, -9.3277e-02,  1.2437e-01],\n",
      "        [ 2.2034e-02, -1.1964e-01, -1.6476e-01, -2.3997e-01],\n",
      "        [-2.0848e-01,  1.2057e-01, -1.7126e-03,  2.7021e-02],\n",
      "        [ 1.2009e-01,  3.5327e-01, -2.5979e-01, -2.3728e-01],\n",
      "        [ 7.1126e-01, -1.8922e-01, -2.9698e-01,  7.4020e-02],\n",
      "        [-3.5850e-01, -9.2790e-02,  1.1522e-01,  3.3964e-01]], device='cuda:0',\n",
      "       requires_grad=True))\n",
      "('rnn.weight_hh_l0', Parameter containing:\n",
      "tensor([[-2.4397e-01, -1.8707e-01, -1.9840e-01, -5.3747e-02,  7.9599e-02,\n",
      "         -1.6491e-01,  1.6336e-02,  1.4938e-02,  2.0714e-01, -4.4259e-01,\n",
      "          2.2024e-01,  1.4586e-01, -2.6868e-01, -2.2106e-01],\n",
      "        [-8.0982e-02,  9.2658e-01,  3.7111e-03, -1.8419e-02, -4.9093e-01,\n",
      "          1.6616e+00,  2.0689e-01, -3.2218e-01,  1.8903e-01,  5.0142e-01,\n",
      "         -1.0076e-01, -5.8861e-02, -1.3000e+00, -4.7427e-01],\n",
      "        [-5.0826e-01,  2.4072e-01,  4.2839e-01, -6.9365e-01, -2.2275e-01,\n",
      "         -9.5458e-02, -1.9642e-01, -5.1228e-01,  4.3809e-01,  1.0866e-01,\n",
      "         -4.9200e-02,  5.2046e-01, -6.0321e-01,  5.0159e-02],\n",
      "        [-3.2745e-01, -5.7254e-02, -3.2671e-01,  5.5728e-02,  3.7269e-02,\n",
      "         -4.9329e-01, -8.1509e-01,  5.6579e-02,  4.4322e-01,  5.5949e-01,\n",
      "          4.8359e-01,  5.4063e-01,  1.0608e-01,  4.2782e-02],\n",
      "        [-1.0413e+00, -4.6586e-01, -7.9473e-01, -6.9105e-01, -3.5417e-02,\n",
      "          7.4346e-02, -1.2089e+00, -2.6019e-01,  5.1764e-01, -6.0361e-01,\n",
      "         -1.2367e-01,  1.2654e+00, -1.9130e-01,  3.0669e-01],\n",
      "        [-6.7512e-01, -3.9380e-01, -1.2831e-01, -2.2180e-01,  1.7714e-01,\n",
      "          1.1944e-02, -1.6591e+00, -2.3368e-02,  6.1336e-01, -1.8814e-01,\n",
      "         -4.3422e-01,  8.9596e-01, -5.4200e-02,  4.6190e-01],\n",
      "        [-2.4063e-01, -3.2192e-01,  1.2403e-01,  1.5704e-01,  6.6162e-02,\n",
      "         -1.5161e-01, -1.2545e+00, -1.1719e-01,  6.4807e-02,  1.6613e-01,\n",
      "         -1.7663e-02,  6.5161e-01, -3.0698e-02, -2.2845e-01],\n",
      "        [-2.9280e-01, -4.9109e-01, -5.3527e-01, -7.1000e-01, -1.3889e-01,\n",
      "          5.1223e-01, -1.2146e-01, -2.3728e-01,  2.3793e-01,  1.9196e-01,\n",
      "         -6.8858e-01,  7.8557e-01,  3.7250e-01,  1.8247e-02],\n",
      "        [-4.0181e-01, -4.1051e-01, -2.2090e-01,  2.9640e-02, -6.5132e-02,\n",
      "         -8.2148e-01, -1.1602e-02,  1.9879e-01,  4.0134e-01,  2.7128e-01,\n",
      "          3.4799e-02,  8.4319e-02, -4.5694e-01, -1.7917e-01],\n",
      "        [ 4.6668e-01,  3.6351e-01, -2.6473e-02,  1.1579e-01, -5.7317e-02,\n",
      "          3.3024e-01, -3.1199e-01, -6.9376e-02,  2.4871e-01,  1.4673e+00,\n",
      "          3.0791e-02,  4.5339e-01,  8.3256e-03,  1.9447e-01],\n",
      "        [-5.7185e-01,  3.7942e-01,  2.1230e-01,  6.0532e-01,  4.5418e-01,\n",
      "         -1.3986e-01, -9.1384e-01,  2.1679e-02, -3.3478e-01,  3.6581e-01,\n",
      "          1.7958e+00,  7.6687e-01,  5.0084e-02, -2.4182e-01],\n",
      "        [-9.2003e-02, -2.5614e-01, -2.1162e-01, -2.3908e-01, -9.1473e-02,\n",
      "         -1.1742e-01, -4.1845e-01, -2.0153e-03,  9.9408e-01,  1.1285e-01,\n",
      "         -6.1870e-02,  6.1512e-01, -7.8118e-01,  1.0213e-01],\n",
      "        [-4.9470e-01,  8.7072e-01, -1.3550e-01, -2.2775e-01,  7.9347e-02,\n",
      "          6.5523e-02, -1.1049e+00,  5.3097e-01, -1.7321e-02, -2.3204e-01,\n",
      "          4.9314e-01,  7.5761e-01,  4.2042e-01, -2.5929e-01],\n",
      "        [-5.2111e-03,  4.9701e-01,  4.5970e-01, -1.3457e-01,  3.7895e-01,\n",
      "          1.1078e-02,  1.1460e-01, -4.7692e-01, -6.2006e-01,  8.0342e-01,\n",
      "         -5.8073e-01, -3.5036e-01,  3.5687e-01, -1.0149e+00],\n",
      "        [-2.6239e-01,  2.5292e-01, -7.8794e-04,  2.2733e-01,  1.6171e-01,\n",
      "          2.2104e-01, -7.1973e-01,  2.3063e-01,  7.3227e-01, -1.5925e-02,\n",
      "         -4.5895e-01,  6.6151e-01, -5.7498e-01, -5.0228e-01],\n",
      "        [-1.3192e+00,  6.3049e-02, -7.2018e-01, -9.6788e-01, -4.9964e-01,\n",
      "         -8.1984e-01, -9.3456e-02, -3.2284e-01, -5.9924e-02, -1.5731e-01,\n",
      "          1.4773e-01,  9.6643e-02, -1.8615e-01, -2.5149e-01],\n",
      "        [-2.1493e-01,  4.3273e-02, -4.2787e-02, -1.4266e-01, -4.7101e-02,\n",
      "         -4.5230e-01, -9.3912e-01,  1.8017e-01,  6.2422e-01, -3.5106e-01,\n",
      "         -1.0345e-03, -1.3810e-01, -2.5795e-01,  2.2871e-01],\n",
      "        [-1.1039e-01,  1.0234e-01,  5.3714e-02,  1.3874e-02, -3.5501e-01,\n",
      "         -6.0904e-01, -4.1243e-01,  1.4159e-01,  5.5349e-01, -2.7482e-01,\n",
      "         -2.8867e-01,  5.8156e-01,  1.9376e-02, -1.7333e-01],\n",
      "        [-4.4227e-01,  8.4375e-02,  3.9517e-02,  4.0732e-01,  2.4862e-01,\n",
      "         -8.2194e-01, -1.4171e-01,  1.6066e-01, -3.6570e-01,  5.0767e-01,\n",
      "          1.9474e-01, -2.3734e-01,  9.0262e-02, -7.5829e-01],\n",
      "        [ 2.9693e-01, -5.5031e-03,  4.1728e-02, -2.7142e-01, -2.1712e-01,\n",
      "          6.6661e-02,  2.3022e-01,  1.2539e-02,  1.6733e-01, -1.5666e-01,\n",
      "          2.4657e-01, -9.5292e-02, -3.1800e-01, -3.5052e-01],\n",
      "        [ 2.7916e-01, -1.2947e-01, -1.1460e-01,  7.4475e-02,  1.8702e-01,\n",
      "          4.4918e-01, -1.6161e+00,  5.2552e-01,  8.4546e-01,  6.2075e-02,\n",
      "          1.2876e-01,  1.5182e+00, -9.5594e-01, -7.8684e-01],\n",
      "        [ 6.7369e-02, -4.8288e-01,  1.4904e-02, -5.9035e-02,  1.8002e-01,\n",
      "         -2.4179e-01,  1.6639e+00,  3.2636e-02,  8.5749e-02,  4.7127e-01,\n",
      "          1.6370e-01, -5.9506e-01, -2.2641e-01, -9.6319e-02],\n",
      "        [-3.1142e-01,  5.7256e-02, -9.4396e-02,  1.8838e-02, -3.2393e-01,\n",
      "         -1.0066e+00,  1.5821e-01, -1.0142e-01,  3.6124e-01,  8.6195e-01,\n",
      "          9.1700e-03, -6.5717e-01, -1.1150e-01,  1.1109e-01],\n",
      "        [-4.8249e-01, -1.5756e-01, -5.7715e-01, -6.3803e-01,  1.9156e-02,\n",
      "         -9.1490e-02,  2.4175e-01, -1.6920e-01, -3.1219e-01,  7.4774e-02,\n",
      "         -1.2871e-01, -3.3334e-01,  9.8056e-02, -5.1086e-01],\n",
      "        [-2.4519e-01, -6.1043e-01, -5.2662e-01, -1.6730e-01, -8.0528e-02,\n",
      "         -2.5045e-01, -4.2535e-01, -4.0498e-01,  2.9879e-02,  3.3063e-01,\n",
      "          2.3403e-01,  2.3050e-01, -7.6133e-01,  2.3505e-01],\n",
      "        [-3.2809e-03, -5.7232e-01, -2.7326e-01,  1.5512e-02, -5.7105e-01,\n",
      "          2.5744e-01, -8.2929e-01,  1.1094e-01,  4.7765e-01, -2.0245e-01,\n",
      "          1.8478e-01,  5.9393e-01, -6.3671e-01,  1.5792e-01],\n",
      "        [-2.3589e-01, -4.4816e-01, -7.1006e-01, -4.9975e-01, -2.4419e-01,\n",
      "         -3.4149e-01, -3.1201e-01, -3.7723e-01,  4.0557e-01,  4.4696e-01,\n",
      "          5.2433e-01,  1.7851e-02, -1.8723e-01,  6.0569e-01],\n",
      "        [-1.2884e-01,  2.2329e-01,  1.2619e-01,  1.3128e-01, -1.5393e-01,\n",
      "         -2.9893e-01, -4.6649e-01,  2.3515e-01, -3.4403e-01,  6.6343e-01,\n",
      "          3.2257e-02,  2.4642e-01, -2.3333e-01, -2.5517e-01],\n",
      "        [-1.3222e-02,  8.9983e-02,  4.7782e-01,  1.4202e-01,  1.1823e-01,\n",
      "         -2.4070e-01,  2.4321e-01, -9.7950e-02, -4.9556e-01, -5.5335e-02,\n",
      "         -3.2175e-01, -2.4929e-01,  1.0977e-01, -3.4841e-01],\n",
      "        [ 4.1449e-01, -1.5387e+00, -1.2543e-01, -1.8876e-01,  2.4042e-01,\n",
      "          1.3772e+00, -1.0930e-01, -1.2059e+00, -1.0014e-01,  1.1352e+00,\n",
      "         -5.2652e-02,  1.4970e-02,  1.4895e+00,  6.9240e-02],\n",
      "        [ 1.4770e-01,  3.5966e-01,  6.1064e-01,  3.1929e-01,  4.9676e-01,\n",
      "         -3.9224e-02,  6.6270e-01, -3.3129e-01, -2.0809e-02, -1.2226e-01,\n",
      "         -5.3993e-01,  6.2910e-02, -4.5011e-02, -3.4901e-01],\n",
      "        [ 7.2989e-02,  5.7869e-02, -1.2397e-02,  6.0003e-01,  1.0305e-01,\n",
      "         -3.7676e-01,  2.3610e-01,  1.6243e-01,  4.4474e-02,  1.1885e-01,\n",
      "          1.6700e-01,  3.4311e-02,  4.9546e-02,  7.7388e-03],\n",
      "        [ 5.5156e-01,  2.7421e-01,  9.0109e-03, -3.0883e-01,  3.7874e-01,\n",
      "         -4.9248e-02, -1.0130e+00, -2.3008e-01,  1.3325e-01, -1.8925e-01,\n",
      "          2.2321e-01,  1.0908e+00, -1.6579e-02,  3.9863e-01],\n",
      "        [ 6.8769e-02, -3.0173e-01, -1.0735e-02, -5.2134e-01,  1.6364e-01,\n",
      "         -1.0590e-01,  1.4352e+00, -3.0026e-01, -3.0025e-01,  2.1337e-01,\n",
      "         -2.5230e-01, -2.3331e-01,  1.0461e-01, -6.7081e-01],\n",
      "        [ 1.0147e-03,  3.4566e-01,  1.0094e-01,  2.7552e-01, -1.7106e-01,\n",
      "         -2.8559e-03,  8.1436e-01, -1.0731e-01, -2.8812e-01, -2.8234e-01,\n",
      "          1.3458e-01, -9.7711e-01,  2.8909e-02, -7.3587e-02],\n",
      "        [ 1.8785e-01, -1.8271e-01, -1.0174e-01, -6.0997e-01,  7.6056e-01,\n",
      "         -2.8655e-01, -8.7265e-01, -8.5104e-01,  6.6813e-02,  3.4410e-01,\n",
      "          5.2654e-01, -8.9431e-02,  3.8349e-01, -1.4932e-02],\n",
      "        [-1.5556e-01, -3.6980e-01, -3.9915e-01, -9.8519e-02,  1.0657e-01,\n",
      "         -5.8165e-01, -6.0690e-01,  5.4346e-01,  2.1073e-01,  3.2120e-02,\n",
      "         -1.9376e-01, -1.8253e-01, -4.3437e-01, -2.6055e-01],\n",
      "        [ 7.9296e-02,  7.5467e-02,  7.8558e-02, -9.4327e-02,  2.9321e-01,\n",
      "          3.5648e-02, -7.0274e-01,  1.0597e-01, -8.1740e-02,  3.7514e-01,\n",
      "          3.4797e-01,  3.0789e-01,  7.2011e-02, -4.6846e-02],\n",
      "        [ 6.2861e-02, -6.3026e-02,  1.4730e-01,  1.3723e-02,  2.2312e-01,\n",
      "         -4.7450e-01, -7.1954e-01,  1.4893e-01,  1.0123e-01,  4.1590e-01,\n",
      "          9.4594e-01,  3.9477e-01,  2.1526e-01, -1.3027e-01],\n",
      "        [-1.2837e-01, -1.4875e-01, -3.2441e-01,  7.2303e-02, -6.5257e-01,\n",
      "         -2.7391e-01, -4.5145e-01, -2.6038e-01,  4.3543e-01,  2.4636e-01,\n",
      "         -6.9295e-02,  6.1512e-01, -2.4293e-01,  3.4948e-01],\n",
      "        [ 3.0668e-01, -1.8859e-01,  2.1953e-01,  1.6689e-01, -1.0413e-01,\n",
      "          1.1524e-01,  5.1510e-01, -2.5781e-01,  3.1900e-01,  4.7471e-02,\n",
      "         -3.2395e-01, -6.4525e-01, -1.8850e-01,  6.0177e-02],\n",
      "        [ 2.5175e-01, -4.7666e-02, -4.6808e-03, -4.0725e-01, -2.9862e-01,\n",
      "         -1.0051e-01,  1.3047e+00, -4.2328e-01,  1.8067e-02, -1.0148e-01,\n",
      "         -2.4695e-01, -4.8629e-01,  3.7143e-02,  2.9327e-02],\n",
      "        [-1.3878e-02,  3.9247e-01, -7.5380e-02,  5.0303e-02,  2.4377e-01,\n",
      "         -7.2859e-01, -8.1805e-01, -1.6557e-01, -2.3074e-01, -1.0497e+00,\n",
      "          4.8641e-01,  1.6326e-01, -2.7882e-01, -2.6078e-01],\n",
      "        [-5.5468e-01,  1.0637e-01, -2.0263e-01, -3.3066e-01, -3.8387e-01,\n",
      "         -2.1911e-01,  9.2179e-01,  7.2491e-02,  2.8284e-01,  1.8648e-01,\n",
      "          1.7138e-01,  3.5132e-02, -1.5547e-01,  1.5298e-01],\n",
      "        [-5.6886e-01, -1.5935e-01,  1.7683e-01,  3.1694e-01,  6.8296e-03,\n",
      "         -1.9600e-01, -5.8383e-01, -1.8410e-01, -1.4711e-02,  1.5012e-01,\n",
      "          3.1396e-01,  2.8666e-01, -3.9629e-02,  4.1030e-01],\n",
      "        [-4.6358e-01, -4.9852e-01, -2.5197e-01, -1.0342e-01, -1.5468e-01,\n",
      "         -7.0853e-02, -5.2310e-01, -1.1705e+00, -2.5568e-01, -2.0630e-02,\n",
      "          6.1031e-01,  1.3281e-01,  5.7458e-03,  6.5544e-02],\n",
      "        [-7.9845e-01, -9.7589e-02,  1.5164e-01, -3.4479e-01,  4.1975e-01,\n",
      "         -3.0666e-01, -2.1611e-01, -6.6966e-01, -8.3099e-02,  1.1974e-01,\n",
      "          2.0700e-01, -1.8014e-01,  1.3456e-01, -2.8715e-01],\n",
      "        [-6.4286e-01, -4.6505e-01, -1.9869e-01, -3.3910e-01, -3.6016e-01,\n",
      "          3.4513e-01, -1.2239e+00, -1.5161e-01,  4.4545e-01, -6.6659e-01,\n",
      "         -1.3974e-01,  1.4104e+00, -3.5644e-01,  4.1391e-01],\n",
      "        [-1.1416e-02, -2.7884e-01,  1.5604e-01,  2.3049e-01,  6.8666e-02,\n",
      "         -2.4089e-01, -2.0276e+00,  3.7981e-02,  2.3110e-01,  1.7362e-01,\n",
      "          3.8619e-03,  7.2482e-01,  7.2857e-02, -3.0877e-01],\n",
      "        [-6.0169e-01,  8.0707e-01, -1.9860e-01, -1.3636e-01,  9.6230e-02,\n",
      "          7.9823e-01, -1.0663e+00,  4.9984e-01,  3.8098e-01,  4.6550e-01,\n",
      "          3.3755e-02,  5.0318e-01, -3.8547e-01, -6.3389e-01],\n",
      "        [-3.8667e-01,  8.1902e-02, -3.2565e-01,  1.1778e-01, -6.9994e-02,\n",
      "         -8.8314e-01,  3.9356e-01, -3.5617e-02,  4.0701e-01,  3.6226e-01,\n",
      "         -5.6422e-01, -4.6292e-01, -4.5160e-01,  6.2585e-02],\n",
      "        [-5.1795e-01,  3.1343e-02, -1.8140e-02,  1.8576e-01,  6.0367e-03,\n",
      "         -6.7870e-02, -1.3122e+00, -1.7363e-01, -1.7341e-01, -2.3405e-02,\n",
      "          1.4113e-01,  1.0430e+00,  2.6208e-01, -4.3098e-01],\n",
      "        [ 2.3577e-01, -1.7517e-01, -1.6011e-01,  6.3024e-02, -3.0732e-02,\n",
      "         -2.0882e-01,  3.4757e-01, -3.3196e-01, -1.2396e-01,  6.7311e-01,\n",
      "          3.1502e-01,  4.2699e-01, -2.2376e-01, -9.8117e-02],\n",
      "        [-4.7058e-01, -1.2063e-01, -4.4605e-01, -1.0766e-01, -2.4716e-01,\n",
      "         -5.3068e-02, -1.3741e+00,  3.1781e-01,  1.4488e-01,  1.9782e-01,\n",
      "          5.0057e-01,  5.4853e-01, -2.5810e-01,  1.3993e-01],\n",
      "        [-5.4086e-01,  2.2766e-01, -1.3788e-01, -1.2313e-01, -2.3437e-01,\n",
      "         -6.2606e-01, -2.3258e-01, -5.9494e-01, -2.6199e-02,  3.3528e-01,\n",
      "         -3.4411e-02, -2.8903e-02, -3.5498e-02,  3.2127e-02],\n",
      "        [-3.7326e-01, -1.3868e-01, -1.9953e-01, -3.0734e-02,  7.3456e-02,\n",
      "         -3.3841e-01, -1.2340e+00, -7.9813e-03,  1.8495e-01,  3.3750e-01,\n",
      "          1.0368e-01,  4.4479e-01, -6.0542e-03, -2.2821e-01]], device='cuda:0',\n",
      "       requires_grad=True))\n",
      "('rnn.bias_ih_l0', Parameter containing:\n",
      "tensor([ 0.0022, -0.0026,  0.4970,  0.2443,  0.4721,  0.3574,  0.1132,  0.9008,\n",
      "         0.1413, -0.0735, -0.0916,  0.2026,  0.3242, -0.5636,  0.1950,  0.4724,\n",
      "         0.3583,  0.1866, -0.1187, -0.0863,  0.1479,  0.3029, -0.0263,  0.2311,\n",
      "         0.9518,  0.6457,  0.3705,  0.2514, -0.0860, -0.0972, -0.2169,  0.0480,\n",
      "         0.3174, -0.3128, -0.3059, -0.0675,  0.1324,  0.1555,  0.0983,  0.1622,\n",
      "         0.0194, -0.4120, -0.0037,  0.2663,  0.0774,  0.6111, -0.3429,  0.2521,\n",
      "         0.4769,  0.3328,  0.4375,  0.1811,  0.2151,  0.3642, -0.1807,  0.5381],\n",
      "       device='cuda:0', requires_grad=True))\n",
      "('rnn.bias_hh_l0', Parameter containing:\n",
      "tensor([-0.0273, -0.2448,  0.1944,  0.6101,  0.9045,  0.0142,  0.3388,  0.9205,\n",
      "        -0.0374,  0.1480,  0.0059,  0.2786,  0.1401, -0.3553,  0.2591,  0.6769,\n",
      "        -0.0542,  0.0796,  0.1515, -0.1590, -0.1384, -0.0279,  0.1209,  0.1435,\n",
      "         0.5003,  0.6130,  0.4422,  0.2040,  0.0801, -0.1580, -0.4452, -0.0349,\n",
      "         0.2909, -0.0127, -0.5780, -0.2283,  0.0058, -0.0278,  0.2006,  0.4774,\n",
      "        -0.1159,  0.0248,  0.1946,  0.1275, -0.0112,  0.3754, -0.3380,  0.2787,\n",
      "         0.2246, -0.0736,  0.4227,  0.2653, -0.1735,  0.2413, -0.0723,  0.2870],\n",
      "       device='cuda:0', requires_grad=True))\n",
      "('rnn.weight_ih_l1', Parameter containing:\n",
      "tensor([[-3.1846e-01, -9.4773e-02, -3.0803e-01, -1.8661e-01, -1.7140e-01,\n",
      "         -3.1063e-01, -3.6363e-01,  2.3762e-01,  9.2851e-02, -1.1092e-01,\n",
      "         -1.2767e-01,  2.8329e-01, -2.3655e-01,  3.7574e-01],\n",
      "        [ 4.5336e-02, -1.1367e-01, -4.9418e-02,  2.2782e-01,  3.1151e-01,\n",
      "         -2.2975e-01, -2.6098e-01, -2.3418e-01, -6.1650e-02,  1.7755e-01,\n",
      "         -9.7351e-02, -1.3653e-01,  7.8467e-02,  1.1521e-01],\n",
      "        [-3.0353e-01,  2.1121e-01, -1.7777e-01, -2.0695e-02, -1.8213e-01,\n",
      "         -6.5312e-02, -2.2152e-01, -2.3249e-01,  8.7098e-02,  3.0406e-01,\n",
      "          5.8642e-02,  2.3047e-02, -1.3607e-01,  2.9780e-01],\n",
      "        [-1.9278e-02, -1.6946e-02,  2.1828e-01,  2.6650e-01, -1.0039e-02,\n",
      "          6.2490e-02, -6.2429e-01,  7.6014e-02, -2.2511e-01, -2.5836e-01,\n",
      "          2.2486e-01,  1.5710e-01, -2.0236e-01,  8.5459e-02],\n",
      "        [ 1.0361e-01,  2.8571e-02, -4.0570e-02,  1.1732e-01, -1.1981e-01,\n",
      "         -3.8688e-01, -4.8955e-01, -2.4457e-01, -1.2193e-01, -3.6810e-03,\n",
      "         -2.5154e-01,  2.0822e-02, -1.0387e-01,  4.2665e-01],\n",
      "        [-2.4367e-01,  7.8064e-02, -2.3849e-01, -1.2500e-01, -8.1819e-02,\n",
      "         -2.1423e-01,  6.6148e-02,  4.9301e-02,  3.1632e-01,  1.1683e-01,\n",
      "         -5.5112e-02,  2.2587e-01, -5.4771e-01,  5.1536e-01],\n",
      "        [-4.4813e-01,  7.4451e-02, -1.5809e-01,  2.7781e-02, -4.4158e-01,\n",
      "          1.9011e-01,  7.4800e-02,  1.3685e-01,  3.5759e-01,  1.4116e-01,\n",
      "          2.3985e-01, -5.2493e-02, -2.6250e-01,  3.6303e-02],\n",
      "        [-2.1426e-01,  3.4914e-01, -1.1795e-01, -6.0130e-03, -1.7983e-01,\n",
      "          2.7025e-01, -5.1857e-01,  4.5770e-01,  1.2459e-02, -3.3601e-01,\n",
      "         -3.4001e-01,  1.4893e-01,  1.3333e-01,  6.8527e-01],\n",
      "        [-1.0633e-01, -1.2590e-01, -1.1151e-01, -3.5748e-01, -8.0226e-02,\n",
      "         -3.0914e-01, -4.3297e-01, -1.9334e-01, -1.5290e-01,  6.4324e-02,\n",
      "          1.0394e-01, -3.4503e-01,  1.8657e-01,  7.8710e-02],\n",
      "        [-7.5154e-01, -2.5105e-02,  7.5972e-02,  1.4167e-01, -3.9220e-01,\n",
      "          1.3677e-01, -4.5886e-01, -3.6574e-01,  1.4394e-01, -2.6271e-01,\n",
      "         -9.8584e-02,  8.8157e-02, -1.9156e-01,  2.6441e-01],\n",
      "        [-1.2266e-01, -3.5565e-01,  1.0162e-01, -1.3760e-01,  4.4936e-02,\n",
      "          1.1814e-01,  1.1836e-01,  2.0815e-01, -1.9033e-01, -1.2050e-01,\n",
      "          8.6701e-02, -2.4135e-01, -1.5042e-01, -3.7831e-01],\n",
      "        [ 1.8258e-01,  1.7211e-01,  2.1218e-01, -8.7551e-02, -1.6512e-01,\n",
      "         -4.1785e-01, -4.8029e-01, -4.6221e-02,  7.9265e-02,  1.4605e-01,\n",
      "          2.4389e-02,  3.4761e-01, -2.4268e-01, -1.2876e-01],\n",
      "        [-4.0943e-01,  1.8037e-02, -4.0899e-01, -3.8028e-01, -2.3163e-01,\n",
      "          2.5128e-02, -2.3521e-01,  1.9759e-01, -2.2066e-01, -8.4319e-02,\n",
      "         -3.2461e-01, -2.6778e-01,  1.8457e-01,  1.3460e-01],\n",
      "        [-2.8075e-01, -7.8280e-02,  1.0028e-01,  3.1962e-01,  7.7708e-02,\n",
      "         -6.2866e-01, -6.4414e-01, -7.4664e-02, -1.1821e-01, -1.2353e-01,\n",
      "         -4.0613e-01,  1.3426e-01, -9.6039e-02, -3.2784e-02],\n",
      "        [ 8.8031e-03, -3.3512e-02, -1.8397e-01, -2.2413e-01,  1.6383e-04,\n",
      "          3.7103e-01, -9.4596e-02,  3.0585e-01,  9.7265e-02,  2.7462e-01,\n",
      "         -5.2577e-01,  5.8792e-01, -1.2266e-01,  2.1510e-01],\n",
      "        [ 1.7863e-01, -1.2917e-01, -3.0918e-01, -1.8148e-01,  2.1831e-01,\n",
      "         -2.9776e-02, -4.4515e-01, -1.4250e-01, -4.7624e-02,  6.0047e-02,\n",
      "         -1.3784e-02, -1.2780e-01, -1.2209e-01, -3.1111e-01],\n",
      "        [ 2.1887e-01, -2.5584e-01, -1.6896e-01, -2.9339e-01,  7.2834e-02,\n",
      "         -1.2371e-01, -3.8695e-01, -4.0891e-01,  5.2447e-02, -1.6253e-01,\n",
      "         -2.5654e-02,  6.3808e-02, -1.4100e-01,  4.9834e-02],\n",
      "        [-2.2627e-01,  2.3541e-01, -4.4898e-03,  3.6903e-01, -4.8840e-02,\n",
      "          1.1040e-02, -8.4625e-01,  5.7238e-01, -2.2934e-01, -3.6058e-01,\n",
      "          3.9192e-01,  4.6841e-01, -1.4864e-01,  9.9279e-02],\n",
      "        [-3.6319e-01, -2.1866e-01, -8.3901e-02, -5.5353e-01, -1.9567e-01,\n",
      "         -3.4765e-02,  3.4031e-01, -1.8922e-01,  1.4096e-01,  3.2600e-01,\n",
      "         -9.5930e-02,  1.5367e-01, -2.9077e-01, -4.9107e-02],\n",
      "        [-3.0095e-01, -2.2600e-02, -6.2693e-02, -2.9396e-01, -5.9940e-02,\n",
      "          8.1432e-02, -1.3247e-01,  5.2425e-02,  1.1069e-02,  1.0124e-01,\n",
      "          4.8398e-01,  4.2565e-02, -1.3941e-01, -1.3138e-01],\n",
      "        [-3.2396e-01, -2.3714e-01, -2.3029e-02, -5.4295e-02, -3.2218e-01,\n",
      "          2.9832e-01, -4.0666e-01,  5.3925e-01,  1.9550e-01,  1.1699e-01,\n",
      "          3.8989e-01,  1.2952e-01, -2.6993e-01,  6.3888e-02],\n",
      "        [-1.2755e-01,  1.9418e-01,  2.2495e-01, -1.4424e-01, -1.2208e-01,\n",
      "         -7.6739e-02,  3.1161e-02, -4.9402e-02, -6.3387e-03, -8.2897e-02,\n",
      "         -3.6405e-01,  2.7460e-01,  7.4254e-02,  2.6508e-01],\n",
      "        [-5.5741e-02, -1.2325e-01,  2.0408e-01, -3.4273e-01, -2.5041e-01,\n",
      "         -1.9887e-01, -3.0062e-01,  5.8577e-02,  1.9581e-01,  9.6151e-02,\n",
      "         -1.1542e-01, -1.3963e-01, -2.3504e-01,  1.2906e-01],\n",
      "        [-1.8190e-01,  2.1595e-01,  4.1081e-01,  2.6465e-01,  3.5243e-02,\n",
      "         -1.9756e-01,  3.8150e-02, -1.1252e-01, -1.9260e-02, -2.0620e-01,\n",
      "         -4.9847e-01,  3.1853e-01,  1.9143e-01,  3.1206e-01],\n",
      "        [-2.5555e-01, -3.7174e-02, -3.4293e-01, -6.0733e-01, -1.3944e-01,\n",
      "         -7.8217e-02, -3.9903e-01, -1.2643e-01, -1.3716e-02,  1.3533e-01,\n",
      "         -6.7923e-02,  5.2829e-03, -3.6496e-01, -2.0410e-01],\n",
      "        [-1.6288e-01,  1.7727e-01, -1.6788e-01, -7.7581e-02,  2.8198e-02,\n",
      "         -3.5084e-01, -9.5844e-02,  8.0496e-02,  5.4847e-04,  2.7842e-01,\n",
      "          1.0370e-02,  1.2314e-01, -1.9295e-01,  2.4390e-01],\n",
      "        [-3.2452e-01, -1.4028e-01,  1.5240e-01, -4.9368e-01, -1.0985e-01,\n",
      "          6.6786e-01,  3.2345e-01,  2.0062e-01,  1.4472e-02,  2.7852e-01,\n",
      "         -2.6096e-01, -1.0382e-01, -9.4614e-03, -2.2353e-01],\n",
      "        [ 2.1962e-01, -1.0141e-01, -1.0249e-01,  3.1735e-01, -2.5084e-01,\n",
      "         -4.5038e-01, -8.6863e-01,  3.8853e-01, -1.7953e-01, -1.3990e-01,\n",
      "         -6.1354e-01,  5.2542e-01,  9.7971e-02, -4.1693e-02],\n",
      "        [-1.3207e-01,  1.0765e-01, -7.5128e-02,  1.2765e-01, -1.9629e-02,\n",
      "          9.2205e-02, -3.1608e-01,  1.4770e-01,  2.1908e-01,  2.9502e-01,\n",
      "          3.2764e-01,  3.0710e-01,  9.1022e-03, -3.3544e-01],\n",
      "        [-7.6211e-02, -1.5811e-01,  1.1798e-01, -2.2840e-01, -1.7910e-01,\n",
      "          2.2382e-02, -4.7904e-01,  3.8482e-02,  1.2837e-01,  1.1947e-01,\n",
      "          2.6179e-03,  3.3067e-01,  9.7771e-02, -1.5687e-01],\n",
      "        [-8.2376e-02, -2.7899e-01,  1.1691e-02,  1.9789e-01,  6.1585e-02,\n",
      "         -7.4296e-02,  1.9487e-01,  2.3643e-01,  2.8201e-01, -3.5914e-02,\n",
      "          1.6440e-01, -1.7230e-01, -1.8658e-01,  9.4584e-03],\n",
      "        [-8.9939e-02, -4.9190e-02, -1.3744e-01,  8.7150e-02,  3.0357e-01,\n",
      "          3.3218e-01,  5.1846e-01, -6.9122e-01, -1.7554e-01,  1.6397e-03,\n",
      "         -2.4541e-01, -5.8519e-01, -1.9871e-02, -5.5241e-02],\n",
      "        [-2.6618e-01, -1.4904e-01,  1.8518e-01,  4.0549e-01,  2.4669e-02,\n",
      "          1.7585e-01,  1.7226e-01,  3.0492e-02,  1.4824e-01,  1.1401e-01,\n",
      "          1.0245e-01, -4.4073e-02, -3.2884e-02,  4.1381e-01],\n",
      "        [ 6.0675e-04,  1.1324e-01, -1.0269e-01,  1.7261e-01,  2.5562e-01,\n",
      "          7.7852e-02,  2.2084e-01,  3.3436e-02, -2.3350e-01, -3.6992e-01,\n",
      "         -2.7762e-01, -3.1033e-01, -2.7191e-01,  3.6609e-01],\n",
      "        [ 1.3528e-01,  6.6536e-02,  2.6804e-01, -3.0230e-01, -1.5645e-01,\n",
      "          2.3078e-01,  2.2106e-01, -5.3861e-02, -1.1633e-01, -2.3510e-01,\n",
      "          7.1561e-03, -2.6181e-01,  1.6101e-01,  1.1400e-01],\n",
      "        [ 7.6805e-02,  1.4295e-01,  2.5953e-01, -2.8435e-01,  2.1995e-01,\n",
      "         -2.8475e-02,  4.2492e-02, -3.0869e-01,  2.0895e-01, -4.7598e-01,\n",
      "         -1.9704e-01, -9.0119e-02, -9.8484e-02,  4.1352e-01],\n",
      "        [ 7.4829e-02, -1.1361e-01, -3.9405e-02, -4.4489e-01, -4.5362e-02,\n",
      "          1.1286e-01, -3.1654e-01, -7.3854e-02,  6.6309e-02, -3.7341e-01,\n",
      "         -2.3912e-01, -1.6124e-01, -6.6907e-02, -3.3509e-01],\n",
      "        [ 1.3993e-01,  1.3403e-01, -3.8655e-01,  5.2557e-01, -1.7200e-01,\n",
      "         -2.6378e-01, -2.5559e-02,  3.3761e-02,  2.2820e-01, -5.3801e-02,\n",
      "         -2.6059e-01, -1.2910e-01,  3.6483e-02, -3.9406e-01],\n",
      "        [-3.2192e-01,  1.8694e-01,  1.0503e-02, -3.2233e-02,  2.7042e-01,\n",
      "         -6.7440e-02,  5.2624e-01, -2.6713e-01,  1.3889e-02,  2.3973e-01,\n",
      "          1.2791e-01,  5.2856e-02, -2.0960e-01,  7.9819e-02],\n",
      "        [-1.9511e-01, -1.7685e-01,  1.2792e-01,  3.1375e-01, -9.8716e-02,\n",
      "         -4.3903e-02,  2.4263e-01, -1.3419e-01,  6.6529e-02, -1.8994e-01,\n",
      "         -4.8811e-01, -2.1953e-01,  2.6758e-01,  4.9486e-02],\n",
      "        [-2.7590e-01,  2.7195e-01, -2.6157e-02, -8.4120e-02,  3.1655e-01,\n",
      "          7.9947e-03, -2.0532e-01, -3.5991e-01, -1.9472e-01,  4.9811e-01,\n",
      "          2.9225e-01,  3.8760e-01, -2.4800e-01,  2.8818e-01],\n",
      "        [ 2.1355e-01,  2.7669e-01, -1.9400e-01, -2.9665e-02,  2.7321e-01,\n",
      "         -2.7736e-01, -2.2947e-01,  2.4275e-01, -2.0571e-01, -3.7470e-03,\n",
      "          2.6857e-01,  1.1006e-01, -1.7530e-01, -3.8985e-01],\n",
      "        [-1.9769e-01,  3.3709e-02, -9.2964e-02, -2.6966e-01, -2.0323e-01,\n",
      "         -1.3167e-01, -4.6963e-01,  2.9454e-02,  5.2724e-02, -3.6748e-02,\n",
      "         -5.0052e-01,  4.9437e-01, -1.6367e-01,  1.8088e-01],\n",
      "        [ 5.6637e-02, -1.6301e-01, -2.4058e-01,  1.4733e-01,  1.6560e-02,\n",
      "         -2.6618e-01, -6.4345e-01, -1.4355e-01, -1.4946e-01, -1.3664e-01,\n",
      "         -3.6901e-02,  5.4417e-02, -5.9476e-03, -4.4649e-02],\n",
      "        [-2.2964e-01, -2.4073e-02, -2.3349e-01, -2.4743e-02,  1.5879e-01,\n",
      "         -8.7067e-02, -3.2410e-01,  1.5658e-01, -1.3465e-01, -3.2516e-02,\n",
      "         -1.2402e-01,  1.1495e-01,  1.9988e-01,  1.9058e-01],\n",
      "        [-4.2260e-01,  1.5390e-01,  2.1831e-02,  4.2235e-02,  1.4106e-01,\n",
      "         -2.6544e-01, -4.5980e-01,  6.7608e-02,  2.7868e-01,  1.3612e-01,\n",
      "         -2.9887e-01,  9.3463e-02, -2.7818e-01,  3.5342e-01],\n",
      "        [-1.5785e-01,  1.1951e-01, -2.8278e-01, -5.5063e-02,  9.2617e-02,\n",
      "          1.8381e-01, -6.0469e-01, -3.2600e-01,  4.1380e-02,  1.1456e-01,\n",
      "          3.0120e-01,  3.6364e-01, -1.9000e-01,  1.8118e-01],\n",
      "        [-1.5975e-01,  6.4575e-02, -2.9128e-01,  1.8428e-01, -2.6421e-01,\n",
      "         -5.2124e-01, -4.7079e-01,  4.0074e-01,  1.3284e-01,  5.4893e-02,\n",
      "          6.2252e-01,  4.1004e-02, -3.6286e-01,  1.2155e-03],\n",
      "        [-1.0599e-01, -2.0380e-01, -2.2809e-02, -3.1978e-01, -1.5001e-01,\n",
      "         -2.3361e-01, -5.2543e-01,  3.9084e-01,  7.1919e-02,  8.6298e-02,\n",
      "          3.8958e-01,  2.6782e-01,  1.8045e-01, -2.5853e-01],\n",
      "        [-4.1865e-01, -1.3300e-02, -1.1845e-02,  5.1827e-02, -1.9176e-01,\n",
      "          3.0130e-01, -4.5751e-01,  2.0009e-01,  2.8959e-01, -2.3316e-01,\n",
      "         -4.3755e-02, -7.5765e-03, -3.3865e-01,  4.9523e-01],\n",
      "        [-4.0948e-01, -1.5719e-01,  1.4083e-01, -4.2732e-02,  1.6503e-02,\n",
      "          2.1053e-01, -1.5182e-01,  2.7019e-01, -8.1120e-02,  2.9351e-01,\n",
      "         -1.3102e-01, -3.6697e-01,  1.6901e-01, -1.2115e-01],\n",
      "        [-1.8994e-01,  2.3824e-02, -1.6852e-01,  1.0893e-01, -7.1322e-02,\n",
      "         -3.9526e-02,  8.4413e-02, -2.4347e-01,  9.8522e-02, -4.1062e-01,\n",
      "         -2.7298e-01, -2.2422e-01, -1.0073e-01,  7.1847e-01],\n",
      "        [-4.4195e-01, -1.5814e-01, -1.5381e-01, -3.2548e-01,  2.2719e-01,\n",
      "         -1.4709e-01, -2.1180e-01, -2.7099e-01,  2.5732e-01,  1.6466e-01,\n",
      "          2.9504e-01, -2.0692e-01, -1.4280e-01,  7.5379e-02],\n",
      "        [-3.0270e-01,  1.9825e-01,  2.3619e-01, -2.4250e-01,  2.8490e-01,\n",
      "         -5.0875e-01, -4.0084e-01, -3.5743e-01, -5.4819e-02,  5.2067e-02,\n",
      "         -6.1416e-02,  3.9437e-01,  1.9600e-01,  3.6679e-02],\n",
      "        [-6.9153e-01,  1.9058e-01,  4.7520e-02, -7.4141e-01,  9.8199e-02,\n",
      "          3.1614e-01, -1.8813e-01,  1.0577e-01,  1.1529e-01,  3.5197e-01,\n",
      "         -2.8962e-01,  2.8120e-01, -3.0876e-01, -5.0398e-02],\n",
      "        [-1.3683e-01,  2.1844e-01, -4.4496e-02,  4.9464e-02, -8.9289e-02,\n",
      "         -4.0381e-01, -1.0972e+00,  1.2803e-01, -3.3295e-02,  2.0309e-01,\n",
      "         -6.2682e-01,  4.1520e-01, -2.4291e-02,  3.1555e-01]], device='cuda:0',\n",
      "       requires_grad=True))\n",
      "('rnn.weight_hh_l1', Parameter containing:\n",
      "tensor([[-3.1976e-01,  1.8134e-01,  2.4197e-01, -2.9842e-01, -5.3879e-02,\n",
      "         -3.1355e-01, -5.4353e-02,  2.2100e-01,  4.5798e-01, -3.0783e-01,\n",
      "         -1.0700e-01,  2.8992e-02, -1.5595e-01, -5.1302e-01],\n",
      "        [ 7.2576e-02,  1.6946e-02, -6.4052e-02,  2.4500e-01, -3.9371e-01,\n",
      "          1.2929e-01, -3.4682e-01,  2.8267e-01,  8.0945e-02,  2.7262e-01,\n",
      "         -1.2769e-01,  1.0138e-02, -1.3339e-01, -7.2400e-02],\n",
      "        [-1.1541e-01,  1.7236e-01,  1.2393e-02,  2.5652e-02, -7.9747e-02,\n",
      "         -1.6913e-01,  2.7358e-01, -1.4380e-01, -1.8767e-02,  1.0812e-01,\n",
      "         -2.3710e-01, -3.3875e-02, -2.0168e-01, -1.1357e-01],\n",
      "        [ 3.8569e-01, -2.5676e-01,  1.1894e-01, -3.1484e-02, -1.7338e-01,\n",
      "         -1.3189e-01,  5.9397e-02, -3.1188e-02,  2.4178e-01,  9.8933e-02,\n",
      "          5.9524e-02,  1.9250e-02,  1.6102e-01, -1.0018e-01],\n",
      "        [-1.1683e-01,  3.1757e-01, -2.1043e-01, -7.1651e-03, -2.9795e-01,\n",
      "         -3.1999e-01,  3.0086e-01, -2.1990e-02,  1.7019e-01, -4.9854e-02,\n",
      "         -1.1978e-01,  2.1643e-01, -1.7087e-01, -4.1063e-01],\n",
      "        [ 1.4366e-01,  1.6675e-01,  5.4344e-02, -3.6024e-01,  1.0434e-01,\n",
      "          1.4076e-01, -3.2028e-01, -1.1412e-01,  9.9347e-02,  2.1439e-01,\n",
      "         -5.4953e-01, -1.1651e-01, -3.4485e-01,  9.9766e-02],\n",
      "        [ 3.2582e-01, -1.9047e-01,  2.0719e-01, -2.7672e-01,  2.3004e-01,\n",
      "         -2.9362e-01, -3.1636e-01,  4.2678e-01, -1.8608e-01, -6.8636e-03,\n",
      "          1.5302e-01, -1.2200e-01,  1.7360e-03,  1.1109e-01],\n",
      "        [ 3.2847e-01, -1.1088e-01, -1.4317e-01, -1.9791e-01,  4.0880e-01,\n",
      "          2.9856e-01,  8.2040e-02,  1.8551e-01, -2.4001e-01, -1.8380e-01,\n",
      "          1.4450e-01,  4.8808e-02,  3.7820e-01, -1.2188e-01],\n",
      "        [ 1.5799e-01,  2.7605e-01,  7.4780e-03,  1.2585e-01, -3.2203e-01,\n",
      "         -6.5068e-02, -1.4474e-01,  4.9500e-02, -4.5204e-02, -3.3150e-01,\n",
      "         -8.0053e-02, -8.9639e-01, -7.6818e-02,  4.2151e-01],\n",
      "        [ 4.2465e-01,  2.2793e-02,  2.3962e-01, -6.5292e-01, -9.7771e-03,\n",
      "         -2.9014e-01, -3.2777e-01,  6.2098e-02, -2.4756e-01, -3.4914e-01,\n",
      "         -2.5276e-04,  1.9420e-01,  9.8704e-02, -2.4981e-01],\n",
      "        [-8.9275e-02,  2.9289e-01,  1.1973e-01,  8.1908e-02,  1.2867e-01,\n",
      "          2.8149e-01, -3.9742e-01, -2.4026e-01,  1.4024e-01,  4.2222e-02,\n",
      "         -2.3620e-01, -8.6505e-02, -3.9594e-01,  5.5681e-01],\n",
      "        [ 4.1764e-01, -1.2800e-02, -2.4585e-01, -2.2884e-01, -5.2267e-01,\n",
      "         -2.9004e-01, -5.5239e-02,  8.8326e-02,  2.9234e-01, -2.5135e-01,\n",
      "         -3.4274e-01, -2.3372e-01, -1.3043e-01, -1.5754e-01],\n",
      "        [ 2.9701e-01,  3.2279e-01,  1.3444e-01,  1.4103e-01, -2.1982e-01,\n",
      "         -3.6774e-01,  3.2628e-01, -1.7359e-01, -2.2192e-02, -5.9481e-01,\n",
      "         -1.8337e-01, -6.3810e-01,  2.8890e-01, -1.1621e-01],\n",
      "        [ 3.4732e-01,  1.2537e-01, -3.1935e-01, -2.7263e-01, -2.0440e-01,\n",
      "          1.8297e-01, -5.2567e-01,  6.4422e-02, -1.7477e-02,  1.1842e-02,\n",
      "          1.0304e-02, -4.6968e-02,  3.2794e-01,  5.2639e-03],\n",
      "        [-3.1372e-01, -3.8905e-01,  2.9763e-01, -6.3784e-02,  1.1804e-01,\n",
      "          7.3573e-02,  2.2063e-01,  4.1547e-01,  6.5422e-02, -2.4532e-01,\n",
      "          5.6763e-02,  1.5494e-01, -1.5756e-01, -3.7322e-01],\n",
      "        [-1.6380e-01, -9.2030e-02, -1.2033e-01,  1.9701e-01, -1.9431e-01,\n",
      "         -1.8966e-01, -1.8561e-01, -8.8354e-02,  2.7421e-01,  1.6718e-01,\n",
      "         -2.1904e-01, -2.0923e-01,  6.5094e-02,  1.5518e-01],\n",
      "        [ 2.2640e-01, -1.3749e-03, -1.8488e-01,  9.5577e-02, -2.5547e-01,\n",
      "          4.6356e-02,  2.8968e-01,  1.0507e-01,  1.7246e-01, -1.0287e-01,\n",
      "          1.0878e-01, -4.8326e-01,  1.9301e-01, -1.4577e-01],\n",
      "        [ 3.3305e-02, -1.6539e-01,  1.1144e-01, -1.6394e-01, -4.0542e-02,\n",
      "          4.6905e-02,  1.2769e-01, -2.5038e-02,  2.3307e-01,  2.3194e-01,\n",
      "          7.1924e-02, -3.8281e-02, -3.1648e-02, -2.3985e-02],\n",
      "        [ 3.1066e-01,  1.5076e-01,  2.7856e-01, -3.8207e-01, -3.7887e-02,\n",
      "         -3.0642e-01,  9.9274e-03,  1.0341e-01, -5.7436e-02, -1.8041e-01,\n",
      "         -3.3470e-01, -2.5603e-01,  2.7072e-01, -2.8474e-01],\n",
      "        [-3.1096e-02,  4.3039e-02, -8.9834e-02, -2.9260e-01, -3.2539e-02,\n",
      "          1.8693e-01, -3.6377e-01, -2.2250e-02,  8.1278e-02,  2.5678e-03,\n",
      "         -3.1918e-01, -1.2787e-01, -9.5163e-02,  1.1476e-01],\n",
      "        [-4.0270e-02, -1.8730e-01,  3.0981e-01,  4.2396e-04, -1.4649e-01,\n",
      "         -1.7455e-01, -3.1702e-01,  3.5062e-01,  1.7383e-01,  6.8965e-02,\n",
      "         -3.0655e-01,  1.7452e-01,  2.7712e-01,  3.2943e-01],\n",
      "        [ 9.6849e-02, -2.3252e-01, -2.8359e-02,  1.2867e-01,  1.2076e-01,\n",
      "         -1.4945e-01,  5.5743e-02,  3.4558e-01, -8.7082e-02,  7.4258e-02,\n",
      "         -3.3084e-02,  2.5710e-01,  1.8787e-02,  1.5316e-01],\n",
      "        [ 2.3609e-01,  6.4036e-01,  1.2115e-01, -9.6363e-02, -5.4785e-01,\n",
      "         -1.5201e-01, -1.3548e-01, -7.9654e-02, -6.4021e-02, -5.1518e-02,\n",
      "         -5.4836e-01, -6.2880e-01, -3.1198e-01, -3.3279e-02],\n",
      "        [-1.3873e-01,  1.2160e-01,  2.1150e-01, -3.6560e-02, -6.8228e-02,\n",
      "         -1.2963e-01, -4.4105e-02,  7.4621e-02, -1.2314e-02, -1.7436e-01,\n",
      "          1.5066e-01,  1.8450e-01,  1.1645e-01, -3.4141e-01],\n",
      "        [ 1.1762e-01,  3.5560e-01,  5.5696e-02,  3.8867e-02, -3.6257e-01,\n",
      "         -1.1306e-01, -2.3316e-01,  1.2227e-01,  4.4745e-01, -2.0734e-01,\n",
      "         -3.0538e-01, -2.6682e-01, -4.8205e-01,  3.3716e-01],\n",
      "        [ 4.2160e-01,  5.3132e-02,  1.5001e-01, -2.2345e-01, -2.3213e-01,\n",
      "          3.5070e-02, -3.3367e-01, -9.3099e-02,  2.2553e-01,  1.5213e-01,\n",
      "         -1.0620e-01, -3.6372e-01,  8.4389e-02,  1.7486e-01],\n",
      "        [-8.1714e-03,  2.4105e-01, -3.7012e-02, -5.0984e-02, -3.6393e-01,\n",
      "         -2.6855e-01,  2.9065e-01, -8.0766e-02, -1.0147e-02, -9.7127e-02,\n",
      "         -1.2674e-01, -2.0869e-01,  7.9207e-02, -6.5176e-02],\n",
      "        [-3.2413e-03, -1.7324e-01, -4.9989e-02, -4.2488e-02,  8.8446e-02,\n",
      "         -1.7455e-01, -1.8867e-01, -2.5781e-01,  2.6517e-01,  1.8207e-01,\n",
      "         -2.1528e-02, -1.6714e-01,  2.5134e-01, -2.3925e-02],\n",
      "        [ 3.2748e-02, -1.3074e-01, -2.1780e-01,  1.2700e-01, -3.1907e-01,\n",
      "         -1.6019e-01, -1.6151e-01, -4.6405e-01,  1.8141e-01,  3.4650e-01,\n",
      "         -2.3944e-01, -1.9813e-01,  1.1280e-01, -5.5314e-02],\n",
      "        [-2.9558e-01, -1.9814e-01,  5.1002e-02,  5.4721e-02, -1.8443e-01,\n",
      "          4.6987e-03, -2.8391e-01,  1.0856e-01,  1.6893e-01,  5.1799e-02,\n",
      "         -6.5913e-02,  4.1129e-02, -2.6958e-01,  2.6614e-01],\n",
      "        [ 8.5668e-02, -9.8845e-03,  1.7533e-01, -9.4792e-02,  1.8812e-01,\n",
      "          1.4526e-01, -4.1962e-02, -5.0153e-03, -1.6778e-01, -2.7692e-01,\n",
      "          3.1067e-01,  1.3954e-01,  6.6833e-02, -1.8369e-01],\n",
      "        [-3.4926e-01,  2.8639e-02, -1.1459e-01,  3.8228e-02, -1.3259e-01,\n",
      "          1.5258e-01,  9.3782e-02,  1.0444e-01, -1.0219e-01,  1.2245e-01,\n",
      "         -1.7367e-01,  2.5272e-01, -4.6827e-01,  2.1655e-01],\n",
      "        [ 7.0750e-02, -1.8600e-01,  1.0690e-01, -1.3674e-01,  2.9321e-01,\n",
      "          6.0812e-02, -2.3921e-01,  2.7676e-01, -3.2741e-01,  1.5847e-01,\n",
      "          2.3033e-01,  2.3614e-03,  2.3346e-01, -1.5236e-01],\n",
      "        [ 2.5254e-01, -4.6419e-02,  9.9233e-02, -1.0131e-01,  2.0501e-01,\n",
      "         -1.2599e-01,  1.5778e-01,  9.8834e-02, -2.4644e-02,  2.1374e-01,\n",
      "         -2.3328e-01,  2.5344e-01, -1.1935e-01,  5.3398e-02],\n",
      "        [ 1.9850e-01, -5.0876e-02,  8.5666e-02,  9.2625e-02, -2.0659e-01,\n",
      "         -1.3547e-01,  1.8508e-01,  6.1216e-02,  2.1038e-01,  1.3625e-01,\n",
      "          1.1349e-01,  1.9327e-02, -1.8042e-01,  1.0522e-01],\n",
      "        [ 2.7772e-01,  1.6188e-01,  1.6846e-01, -1.5162e-01,  6.8402e-02,\n",
      "         -6.1814e-02,  8.8365e-02,  1.2904e-01,  1.6035e-01,  3.2212e-01,\n",
      "         -1.1532e-01,  2.0608e-01, -1.7500e-01,  1.0409e-01],\n",
      "        [ 1.4308e-01,  5.6673e-02, -2.3933e-01, -1.2889e-01, -3.1006e-01,\n",
      "          3.7880e-02,  1.7058e-01,  2.6614e-02,  4.6351e-02, -7.5037e-02,\n",
      "          1.4193e-01, -9.4040e-02, -1.8004e-01, -4.5783e-02],\n",
      "        [ 1.7374e-01, -8.9067e-02,  2.2518e-01,  1.5116e-01,  2.5296e-01,\n",
      "         -2.6968e-01, -4.4527e-01, -4.0169e-01,  5.8004e-03,  1.9140e-01,\n",
      "         -7.6582e-02,  3.0279e-01, -1.9793e-01,  4.7630e-01],\n",
      "        [ 4.7313e-02,  9.3339e-02,  3.2272e-01,  1.6698e-01,  3.9240e-01,\n",
      "          2.3494e-01, -1.5256e-01,  2.1256e-01, -1.9528e-01,  1.8868e-01,\n",
      "          2.1831e-01, -5.2677e-02,  6.1917e-02,  8.4723e-02],\n",
      "        [ 3.0666e-02, -1.4062e-01,  1.3972e-01,  3.3980e-02,  3.0485e-01,\n",
      "          3.1846e-02, -1.0334e-01,  2.8526e-01, -7.9413e-02, -1.1129e-01,\n",
      "          4.2489e-02,  2.2808e-01,  1.2150e-01, -2.6208e-01],\n",
      "        [-1.0857e-01, -3.4055e-01,  2.1577e-02, -1.4060e-01, -1.5121e-01,\n",
      "         -1.1202e-01, -1.6927e-01,  1.1651e-01,  1.7401e-01,  6.7162e-02,\n",
      "          8.9103e-02, -1.9330e-01,  1.6784e-01, -2.3474e-01],\n",
      "        [ 6.8196e-02,  2.5844e-01, -2.0030e-01, -4.0287e-02,  1.3485e-01,\n",
      "          1.8215e-02, -2.5517e-01,  4.9701e-02,  1.5090e-01,  9.9678e-02,\n",
      "          9.1581e-02,  1.7000e-01, -1.9241e-01,  3.3704e-01],\n",
      "        [-2.5975e-01,  8.0684e-02,  1.7783e-01, -2.2338e-01, -1.0328e-01,\n",
      "         -5.0273e-01,  1.4409e-02,  3.4600e-01,  1.9993e-01, -7.6744e-01,\n",
      "         -3.7185e-02, -1.2537e-01,  2.1137e-01, -4.6470e-01],\n",
      "        [-2.8715e-01, -6.8258e-03,  2.0127e-01,  1.2159e-01,  7.5869e-02,\n",
      "          1.5335e-01, -2.5339e-01, -3.3343e-02, -9.1607e-02,  9.8495e-03,\n",
      "          4.1249e-02, -1.3269e-01, -8.4429e-02,  2.5331e-01],\n",
      "        [ 3.0390e-01,  1.7284e-01,  1.0367e-01, -2.8355e-02, -3.2849e-01,\n",
      "         -2.8106e-01, -8.7473e-02,  1.2661e-01,  1.7388e-02, -2.5971e-01,\n",
      "         -7.8994e-02, -1.2696e-01, -1.0112e-01, -1.3519e-01],\n",
      "        [ 3.6323e-02,  1.2139e-01,  1.2375e-01, -5.7788e-02, -9.3744e-02,\n",
      "         -1.1569e-01, -1.5290e-01, -1.1623e-01, -1.6591e-01, -3.5753e-02,\n",
      "          5.2132e-02, -1.1713e-01,  9.2297e-02,  2.2576e-01],\n",
      "        [-2.0430e-01,  2.2920e-01, -2.3859e-01, -7.7631e-03, -2.3281e-02,\n",
      "         -1.0748e-02, -1.4234e-01,  5.0588e-02,  1.2383e-01, -9.8218e-02,\n",
      "         -3.0952e-01,  3.0595e-02,  1.8159e-01, -9.1025e-02],\n",
      "        [ 2.5819e-02,  3.6948e-01,  7.6627e-02, -1.5110e-01,  6.7645e-03,\n",
      "         -2.8906e-01, -1.7429e-01,  1.3592e-01, -7.8306e-02, -8.1569e-02,\n",
      "         -2.3019e-01, -4.1859e-01,  1.5041e-01, -1.7414e-01],\n",
      "        [-6.1042e-04,  1.9932e-01,  2.7556e-01, -2.1966e-01, -1.8291e-01,\n",
      "         -3.3409e-01, -1.1232e-01,  2.9953e-01,  2.4693e-01,  1.8878e-02,\n",
      "         -1.3984e-01,  2.7091e-02, -2.6745e-01, -8.6855e-03],\n",
      "        [-3.4116e-02, -7.1841e-02,  1.8181e-01, -4.1984e-01, -1.5606e-01,\n",
      "          2.4028e-01, -4.1416e-01,  2.2138e-01, -1.4991e-01, -4.4542e-01,\n",
      "          3.5202e-01,  3.6520e-01,  1.7578e-02,  1.2614e-01],\n",
      "        [ 2.5161e-01,  3.7369e-01, -2.4095e-02,  1.3915e-01, -2.4125e-01,\n",
      "         -4.4395e-01, -1.7630e-01, -2.7632e-01,  3.2253e-01,  3.4852e-02,\n",
      "         -5.5478e-01, -5.7766e-01, -3.6422e-01,  1.8429e-01],\n",
      "        [-3.3388e-01, -1.8503e-01,  6.0285e-02, -2.5600e-01,  4.4294e-01,\n",
      "          9.3136e-04, -1.7504e-01,  4.2851e-01, -2.9783e-01, -2.5201e-01,\n",
      "          1.7506e-01,  1.1758e-01,  2.8954e-01, -4.1641e-01],\n",
      "        [-1.0357e-01,  3.0227e-01,  1.0729e-01,  5.8786e-02,  9.8498e-02,\n",
      "          4.4520e-02, -2.6274e-01, -3.6040e-02,  5.6522e-02,  1.6092e-01,\n",
      "         -3.8215e-02, -1.5030e-01, -1.5596e-02,  2.0667e-01],\n",
      "        [ 1.0526e-01,  1.5563e-01, -2.5873e-01,  1.0722e-01, -2.7831e-01,\n",
      "          9.4910e-02, -3.1144e-01,  2.5509e-02,  9.8549e-02, -3.8568e-01,\n",
      "         -4.4890e-01, -2.3041e-01,  2.7760e-01, -3.1551e-01],\n",
      "        [ 1.1056e-01,  2.5881e-03,  1.4578e-01,  2.1150e-01, -4.9057e-01,\n",
      "         -3.7229e-01,  3.5525e-01,  5.0760e-03,  2.6969e-01, -1.6772e-01,\n",
      "         -1.6765e-01, -3.3781e-01,  3.4476e-01, -1.3619e-01],\n",
      "        [ 2.2117e-01, -6.3620e-02,  2.7597e-02, -4.3063e-01, -2.8947e-01,\n",
      "         -6.3872e-02, -2.5170e-01,  1.3719e-01,  3.7951e-01, -3.0752e-01,\n",
      "          6.6000e-02, -2.2900e-01,  3.4096e-01,  1.0027e-01]], device='cuda:0',\n",
      "       requires_grad=True))\n",
      "('rnn.bias_ih_l1', Parameter containing:\n",
      "tensor([ 0.4425, -0.0252,  0.0236, -0.1358,  0.0227,  0.2489,  0.1546,  0.0986,\n",
      "         0.0757,  0.3259, -0.1000, -0.1289, -0.0797,  0.3255,  0.1404,  0.0343,\n",
      "         0.1016,  0.2836,  0.3785, -0.1379,  0.0149,  0.1659,  0.0765, -0.0476,\n",
      "         0.0641, -0.1242,  0.0661,  0.0070,  0.1260, -0.0271,  0.0617, -0.2624,\n",
      "        -0.0860,  0.0194,  0.2429, -0.0591,  0.0079, -0.0431, -0.1714,  0.2032,\n",
      "        -0.1990, -0.0581,  0.1959,  0.2882,  0.1445,  0.2395,  0.2586,  0.3472,\n",
      "         0.0935,  0.1713,  0.0499,  0.4211,  0.0386,  0.1477,  0.1042,  0.0765],\n",
      "       device='cuda:0', requires_grad=True))\n",
      "('rnn.bias_hh_l1', Parameter containing:\n",
      "tensor([ 0.2938,  0.1474,  0.2913,  0.2984, -0.0488,  0.2163,  0.3504,  0.3229,\n",
      "        -0.0865,  0.4384,  0.1734, -0.0721,  0.2355,  0.1483, -0.1237,  0.2027,\n",
      "        -0.0381,  0.2805,  0.1616,  0.0599, -0.0886, -0.0093, -0.0025,  0.2258,\n",
      "         0.2738,  0.0274,  0.0936,  0.2107, -0.0365, -0.0688,  0.2849, -0.3226,\n",
      "         0.0224, -0.1174, -0.1528,  0.2478,  0.0813, -0.0806,  0.0685, -0.2098,\n",
      "        -0.0432,  0.1640,  0.3533, -0.0922, -0.1698, -0.1144, -0.0009,  0.2912,\n",
      "         0.3919,  0.2648, -0.0992,  0.4019,  0.2887,  0.0418, -0.1211,  0.0788],\n",
      "       device='cuda:0', requires_grad=True))\n",
      "('rnn.weight_ih_l2', Parameter containing:\n",
      "tensor([[ 0.1205,  0.3430, -0.2403, -0.1974, -0.2835, -0.0045, -0.2255, -0.0745,\n",
      "         -0.0593, -0.1641, -0.4336, -0.2365,  0.0619,  0.2571],\n",
      "        [ 0.3430, -0.0841,  0.3097, -0.2992,  0.1518,  0.0431, -0.2175, -0.0653,\n",
      "         -0.0328,  0.0922, -0.0607,  0.2609,  0.0051, -0.2556],\n",
      "        [ 0.1350, -0.0774,  0.0320, -0.1852, -0.0877, -0.0476,  0.2442, -0.0793,\n",
      "         -0.1126, -0.1494, -0.2048,  0.0232, -0.2628,  0.0628],\n",
      "        [ 0.1620,  0.6482,  0.4923, -0.7650, -0.2787, -0.8410, -0.5673,  0.1682,\n",
      "          0.5648, -0.2100, -0.2534,  0.0786, -0.0403,  0.2981],\n",
      "        [ 0.3513,  0.4298,  0.3308, -0.3499,  0.1232, -0.7274, -0.5182, -0.0074,\n",
      "          0.3104, -0.1836, -0.5193, -0.1837,  0.0132,  0.6012],\n",
      "        [-0.2169,  0.8692,  0.2396, -0.3861, -0.1700, -0.4643,  0.1485,  0.5896,\n",
      "          0.5220, -0.5461, -0.7611,  0.3571,  0.0123, -0.0036],\n",
      "        [ 0.4700,  0.1517, -0.2552, -0.2967, -0.4673, -0.1737, -0.3656,  0.1991,\n",
      "          0.2171, -0.0477, -0.2843, -0.2041, -0.1713,  0.0460],\n",
      "        [ 0.1157, -0.0221,  0.0427, -0.5101, -0.2765, -0.5045, -0.2026,  0.0762,\n",
      "          0.1939, -0.0540, -0.2671, -0.2619, -0.1435,  0.0709],\n",
      "        [ 0.1989,  0.1383,  0.0167, -0.0546, -0.4284, -0.3358, -0.2948,  0.0401,\n",
      "          0.3033, -0.2814, -0.1439, -0.1403, -0.0281, -0.2525],\n",
      "        [ 0.2297,  0.0241,  0.0719,  0.1621,  0.0141,  0.1301,  0.2507, -0.0751,\n",
      "          0.1554,  0.0948, -0.0725, -0.0780,  0.2438,  0.0990],\n",
      "        [ 0.1835,  0.0289,  0.2226, -0.2356, -0.0526, -0.4152, -0.2199, -0.2235,\n",
      "         -0.0459,  0.1501,  0.0018, -0.3720,  0.0993,  0.4583],\n",
      "        [ 0.0065,  0.2901, -0.2634, -0.2404, -0.2237, -0.4772, -0.1510,  0.4699,\n",
      "          0.4396, -0.1617, -0.4436, -0.2564, -0.3131, -0.0977],\n",
      "        [ 0.0930,  0.3720, -0.2474, -0.3496, -0.3203, -0.3042, -0.3099,  0.2361,\n",
      "          0.3441, -0.0688, -0.2251, -0.4981,  0.2693,  0.2652],\n",
      "        [ 0.8483, -0.1927,  0.1864, -0.4801,  0.1950, -0.2613, -0.9823, -0.1802,\n",
      "          0.0539,  0.1954, -0.2078,  0.1840,  0.1208,  1.0646],\n",
      "        [-0.2364, -0.2750, -0.1172, -0.2229,  0.0380,  0.1859, -0.0048, -0.0261,\n",
      "         -0.2709, -0.1061, -0.1943, -0.2139,  0.1996, -0.0452],\n",
      "        [ 0.2236, -0.2747,  0.3601, -0.1381, -0.0204, -0.0185,  0.0979,  0.0737,\n",
      "         -0.1251,  0.2991, -0.1024,  0.3769, -0.1852, -0.0052],\n",
      "        [-0.1984, -0.2202,  0.0134, -0.2238,  0.3739,  0.2124, -0.1819,  0.1968,\n",
      "         -0.1115, -0.2422, -0.1608,  0.2136, -0.2544, -0.0304],\n",
      "        [-0.0931, -0.3544,  0.0146, -0.3366,  0.1345,  0.2855,  0.1819,  0.0103,\n",
      "         -0.2657, -0.3099,  0.2764,  0.0245,  0.3116, -0.1787],\n",
      "        [ 0.5701, -0.1232,  0.4769, -0.3812,  0.1461, -0.2989, -0.3645, -0.1883,\n",
      "          0.2320, -0.0342, -0.2427, -0.4730,  0.0218,  0.3532],\n",
      "        [-0.4563, -0.0484,  0.2154, -0.1554,  0.1621,  0.2835,  0.3777,  0.2489,\n",
      "          0.2006, -0.2361,  0.0445,  0.1742, -0.0300, -0.1591],\n",
      "        [-0.2382, -0.0023, -0.1738, -0.1806, -0.2657,  0.0338, -0.1259,  0.2784,\n",
      "          0.0443,  0.1821,  0.0099, -0.3658,  0.2573,  0.5320],\n",
      "        [ 0.0237,  0.1981,  0.0732,  0.1672,  0.2026, -0.2668, -0.5988, -0.1088,\n",
      "          0.1054,  0.0186, -0.1320,  0.0932,  0.2369,  0.4641],\n",
      "        [-0.0797,  0.0862, -0.1771, -0.3479,  0.2631, -0.2505, -0.3611,  0.0182,\n",
      "          0.0552,  0.0917,  0.0919,  0.1848, -0.2052,  0.1145],\n",
      "        [-0.0206,  0.1453, -0.0335, -0.1379, -0.0178,  0.2481,  0.4762,  0.0824,\n",
      "         -0.0979, -0.1438, -0.0955,  0.3141, -0.0213,  0.1018],\n",
      "        [ 0.2191,  0.3349, -0.0902,  0.1175,  0.0463, -0.4076, -0.1068, -0.1362,\n",
      "          0.1568,  0.0877, -0.0242, -0.3263,  0.3378,  0.5210],\n",
      "        [-0.3958,  0.3752, -0.3042, -0.1225,  0.0594, -0.1988, -0.0712,  0.4098,\n",
      "          0.3652, -0.2795, -0.0825, -0.4155,  0.1619, -0.1688],\n",
      "        [-0.0799, -0.1086, -0.4231,  0.0714, -0.1721,  0.2149, -0.0348, -0.2572,\n",
      "          0.0361,  0.2112,  0.1798, -0.4554,  0.2807,  0.3406],\n",
      "        [-0.0559, -0.1963,  0.0152, -0.0954,  0.3327, -0.1339, -0.9313,  0.1159,\n",
      "         -0.3121,  0.1053, -0.1890,  0.1905,  0.0234,  0.4501],\n",
      "        [-0.2744, -0.0616,  0.0288, -0.0978,  0.1888,  0.1638,  0.1334,  0.2010,\n",
      "         -0.1420,  0.1218, -0.1402,  0.4676, -0.4090, -0.0492],\n",
      "        [ 0.1825, -0.0399, -0.1271,  0.1857,  0.0164, -0.1092,  0.4355, -0.1821,\n",
      "         -0.1599, -0.2952,  0.0539,  0.2360, -0.0039, -0.2335],\n",
      "        [-0.2136,  0.0761, -0.1053,  0.0771,  0.1164,  0.2050,  0.2800,  0.0808,\n",
      "          0.1580,  0.0921, -0.1918,  0.2707, -0.3980, -0.2974],\n",
      "        [ 0.2719, -0.0642,  0.0272, -0.2574, -0.1580, -0.2599, -0.8925, -0.2482,\n",
      "         -0.2854,  0.6316, -0.0679, -0.2410,  0.3356,  0.6437],\n",
      "        [-0.1757, -0.2719, -0.0785,  0.2480, -0.0099,  0.4281,  0.4195,  0.5890,\n",
      "          0.1073, -0.2421, -0.0122, -0.0125,  0.4349, -0.3355],\n",
      "        [-0.2359, -0.0655,  0.1153,  0.2092,  0.2116,  0.0665,  0.2565,  0.4413,\n",
      "         -0.1359, -0.5186, -0.0912,  0.0652, -0.1708, -0.4395],\n",
      "        [ 0.1083,  0.1295,  0.3409,  0.0428,  0.1383,  0.2215,  0.1433, -0.1933,\n",
      "          0.1429,  0.0309,  0.2154,  0.3733, -0.3388, -0.3873],\n",
      "        [-0.3760, -0.3311, -0.3397, -0.0040,  0.0226,  0.4582,  0.1326,  0.4050,\n",
      "         -0.0168, -0.2601, -0.1519,  0.1990,  0.1136, -0.4571],\n",
      "        [-0.0155,  0.1383, -0.1150,  0.0280, -0.0995, -0.1831, -0.3423,  0.1367,\n",
      "         -0.1079,  0.0992,  0.2079, -0.2102,  0.0363,  0.4172],\n",
      "        [-0.2930,  0.1931, -0.1697, -0.0436,  0.0693, -0.1408, -0.5103, -0.0267,\n",
      "          0.0860,  0.2281,  0.1279, -0.1335,  0.1998, -0.0148],\n",
      "        [-0.0932,  0.3139, -0.1772,  0.0788, -0.1291, -0.3869, -0.3109, -0.2307,\n",
      "         -0.1261, -0.0859,  0.1161, -0.3928,  0.0067,  0.1376],\n",
      "        [ 0.3280,  0.2369, -0.2747,  0.2206,  0.0697, -0.3600, -0.3690, -0.4421,\n",
      "         -0.0279,  0.1060, -0.2356, -0.0255,  0.0891, -0.0063],\n",
      "        [ 0.3018,  0.2220, -0.1062,  0.1914, -0.2112, -0.4320, -0.0731, -0.1416,\n",
      "          0.3127,  0.2424, -0.2100, -0.2867, -0.0917,  0.2341],\n",
      "        [-0.2899,  0.1065, -0.1464,  0.2103, -0.0654,  0.1847,  0.5190,  0.5229,\n",
      "         -0.0730, -0.2262,  0.1747,  0.0812,  0.1844, -0.6302],\n",
      "        [-0.1086,  0.2165,  0.0032, -0.2504, -0.0405,  0.4465,  0.2608,  0.1838,\n",
      "          0.3000, -0.1039,  0.0629, -0.3205,  0.2165, -0.0589],\n",
      "        [ 0.0907, -0.2691,  0.2572, -0.0345,  0.2167,  0.2610, -0.1581,  0.0137,\n",
      "          0.0323,  0.0967,  0.0218,  0.1514, -0.3826,  0.0480],\n",
      "        [ 0.2375,  0.2022, -0.0306, -0.4533, -0.2196,  0.2295,  0.3550, -0.1025,\n",
      "          0.0408, -0.0387,  0.0370,  0.2418, -0.3210,  0.1081],\n",
      "        [ 0.4913,  0.3512,  0.0590, -0.3064, -0.4474, -0.5902, -0.2199,  0.3455,\n",
      "          0.3732, -0.0675, -0.4236, -0.1321, -0.1459,  0.3303],\n",
      "        [ 0.3184,  0.2202, -0.0992, -0.5510, -0.4475, -0.3845, -0.2746, -0.1753,\n",
      "          0.0570, -0.0280, -0.3946, -0.8147,  0.4799,  0.1028],\n",
      "        [-0.3771,  0.5233, -0.0412, -0.3733, -0.0728, -0.5522,  0.2346,  0.8785,\n",
      "          0.7905, -0.7936, -0.4873,  0.0697,  0.0288, -0.1825],\n",
      "        [ 0.4658,  0.3323, -0.2695, -0.4072, -0.1815, -0.1100, -0.2117, -0.1824,\n",
      "          0.1570,  0.1412, -0.2796, -0.3831,  0.1337, -0.1321],\n",
      "        [ 0.3727,  0.2234,  0.2813, -0.2813, -0.1397, -0.3531, -0.3979, -0.2878,\n",
      "          0.2091,  0.1305, -0.2045, -0.1298,  0.2840,  0.5888],\n",
      "        [ 0.0768, -0.0072, -0.2290, -0.1549,  0.0547, -0.1681,  0.0138,  0.3190,\n",
      "         -0.0143, -0.0270, -0.3359, -0.0992,  0.0123, -0.1686],\n",
      "        [-0.1478,  0.2225,  0.2225, -0.1626,  0.0672, -0.0893,  0.4585, -0.0566,\n",
      "          0.2756, -0.3499, -0.1901, -0.0159,  0.2231, -0.4662],\n",
      "        [ 0.0281,  0.2283,  0.0871,  0.0479, -0.2432, -0.4606, -0.4950,  0.0072,\n",
      "          0.1695,  0.0235, -0.0614, -0.3798, -0.0157,  0.6434],\n",
      "        [-0.0246,  0.2923, -0.1740, -0.2188, -0.1982, -0.6502,  0.2679,  0.2494,\n",
      "          0.5675, -0.4411, -0.5669, -0.2692, -0.1487,  0.0213],\n",
      "        [ 0.3622,  0.2419, -0.0158, -0.0285, -0.1060, -0.0125, -0.4376, -0.1901,\n",
      "          0.3734,  0.2844, -0.3768, -0.6502,  0.1516,  0.2031],\n",
      "        [ 0.4770, -0.3572, -0.4003, -0.6876, -0.1332, -0.3077, -0.8612, -0.0962,\n",
      "         -0.0197,  0.3252, -0.2575, -0.0368,  0.8836,  0.2588]],\n",
      "       device='cuda:0', requires_grad=True))\n",
      "('rnn.weight_hh_l2', Parameter containing:\n",
      "tensor([[ 0.0568,  0.1689,  0.2141,  0.2051, -0.6466,  0.1590,  0.1955,  0.0476,\n",
      "          0.0397, -0.0652,  0.3734, -0.1216,  0.0480, -0.7904],\n",
      "        [-0.3142, -0.1335, -0.2392,  0.0553, -0.2136,  0.0861,  0.1350,  0.0670,\n",
      "         -0.0796, -0.2579,  0.3483, -0.0514,  0.1201, -0.1730],\n",
      "        [-0.0435,  0.3101,  0.1188,  0.5365, -0.5855, -0.1247,  0.4725, -0.1385,\n",
      "         -0.4677,  0.0206,  0.3318, -0.0786,  0.1994, -0.6416],\n",
      "        [ 0.1331,  0.1511,  0.5681, -0.0937, -0.5683,  0.1770, -0.2361, -0.7524,\n",
      "         -0.5652, -0.3885,  0.5989, -0.3581,  0.7873, -0.2027],\n",
      "        [-0.0426,  0.1018,  0.0885, -0.2314, -0.3272,  0.1415, -0.4429, -0.5690,\n",
      "         -0.0403, -0.5299,  0.0535, -0.0169,  0.5400,  0.0813],\n",
      "        [ 0.6211,  0.3299,  0.7541, -0.2794, -0.5939,  0.5324,  0.0380, -0.5423,\n",
      "         -0.7235, -0.4768,  0.3391, -0.1694,  0.6799, -0.6185],\n",
      "        [ 0.1760,  0.3248,  0.2748,  0.3119, -0.1300, -0.1192,  0.1485, -0.0769,\n",
      "         -0.0611,  0.1094,  0.3563,  0.4597,  0.3800, -0.6772],\n",
      "        [ 0.1702, -0.1166,  0.0613,  0.0612, -0.1357,  0.3519,  0.0832, -0.1790,\n",
      "          0.0880,  0.0499,  0.4383, -0.0860,  0.0355, -0.1886],\n",
      "        [-0.1583,  0.2617, -0.1385,  0.2594, -0.2182, -0.0098,  0.0687, -0.2760,\n",
      "         -0.0912,  0.0773,  0.1045,  0.0979,  0.5486, -0.4517],\n",
      "        [-0.2358,  0.4281,  0.2367, -0.0289, -0.2071, -0.0336, -0.0845, -0.1622,\n",
      "         -0.1339, -0.0603, -0.1041, -0.0284,  0.0695, -0.2093],\n",
      "        [ 0.3696, -0.0917,  0.0553,  0.1765, -0.2767, -0.1758, -0.0252, -0.3740,\n",
      "         -0.0525,  0.1698,  0.0248,  0.0727,  0.0428, -0.3318],\n",
      "        [ 0.4409,  0.3944,  0.6216, -0.1763, -0.1397,  0.3584,  0.3144, -0.0773,\n",
      "         -0.0669, -0.0921,  0.3435, -0.0382,  0.7083, -0.4681],\n",
      "        [ 0.0116,  0.2265,  0.4105,  0.1135, -0.0070,  0.4631, -0.0356, -0.2765,\n",
      "         -0.1678, -0.2975,  0.0632, -0.3005, -0.1779, -0.1471],\n",
      "        [ 0.0706,  0.4408,  0.0263,  0.1290, -0.8193, -0.3170, -0.3529, -0.8190,\n",
      "         -0.4683, -0.4941,  0.4026,  0.9113,  0.5265, -0.0557],\n",
      "        [-0.3128, -0.2638, -0.2223,  0.4208, -0.4418,  0.1351,  0.1631,  0.0582,\n",
      "          0.1384, -0.0081,  0.2847,  0.0215,  0.2845, -0.2326],\n",
      "        [-0.3610, -0.0445,  0.0501,  0.3776, -0.4095,  0.0840,  0.1095, -0.1722,\n",
      "          0.2923, -0.2942, -0.0811, -0.1620,  0.2029, -0.4115],\n",
      "        [ 0.1270,  0.0129, -0.2034,  0.3370, -0.3841, -0.1931,  0.1954, -0.1100,\n",
      "         -0.1446,  0.1571,  0.0918,  0.0661, -0.2312, -0.3857],\n",
      "        [-0.0836, -0.0332,  0.0173, -0.2983,  0.2645,  0.3260, -0.0850, -0.1158,\n",
      "         -0.1234, -0.0176,  0.1965, -0.1957,  0.1010,  0.0665],\n",
      "        [-0.2564,  0.0461, -0.1899, -0.1429, -0.4507, -0.1948, -0.2576, -0.3925,\n",
      "          0.3005, -0.3016, -0.0230, -0.1543,  0.3676, -0.1237],\n",
      "        [ 0.0538,  0.1438,  0.1956, -0.0896,  0.0014,  0.0691,  0.0072, -0.0040,\n",
      "          0.0836, -0.0583, -0.2082, -0.4900, -0.1328,  0.2881],\n",
      "        [-0.0523,  0.2037, -0.0286,  0.4362,  0.0840, -0.2220, -0.2086,  0.1198,\n",
      "          0.1159,  0.1462, -0.0150,  0.1458,  0.1898, -0.6345],\n",
      "        [ 0.0507, -0.2874, -0.1609, -0.0903, -0.1265,  0.3323,  0.0495, -0.3084,\n",
      "         -0.1051, -0.1451,  0.3061, -0.1422, -0.0194,  0.0730],\n",
      "        [-0.3618, -0.1623, -0.2340,  0.4268, -0.2702, -0.1297, -0.0787,  0.0394,\n",
      "         -0.0354,  0.0986,  0.1876,  0.2402,  0.2198, -0.5260],\n",
      "        [ 0.0378,  0.2182,  0.1221,  0.0152, -0.2135,  0.3088,  0.1434,  0.0192,\n",
      "          0.0077,  0.0236,  0.2527, -0.3287,  0.0949, -0.1548],\n",
      "        [ 0.3190,  0.2878,  0.0529,  0.2650, -0.1755,  0.2727, -0.3145, -0.0381,\n",
      "          0.0286, -0.1935,  0.2086, -0.1337,  0.0768, -0.3544],\n",
      "        [-0.0061, -0.0303,  0.1084, -0.2287, -0.0238,  0.3900,  0.2274, -0.2672,\n",
      "         -0.0129, -0.2338, -0.0083, -0.2822, -0.0803, -0.1301],\n",
      "        [ 0.3067,  0.3459,  0.2713, -0.1266,  0.1694,  0.0694, -0.0039, -0.0822,\n",
      "         -0.0819,  0.2410, -0.2121, -0.1875,  0.1781, -0.1484],\n",
      "        [-0.1925,  0.0745, -0.3648,  0.4064, -0.2094, -0.4275, -0.3018, -0.2200,\n",
      "          0.0864,  0.1652,  0.0223,  0.3732, -0.2299, -0.1428],\n",
      "        [ 0.1101,  0.2971,  0.2629, -0.0078,  0.0095,  0.1269,  0.2677,  0.1033,\n",
      "         -0.2466, -0.2154, -0.1685, -0.3448, -0.2171, -0.3322],\n",
      "        [ 0.2648,  0.2107,  0.1724,  0.1670, -0.3185,  0.0960,  0.1318,  0.0621,\n",
      "         -0.2894, -0.0550, -0.0511,  0.0718,  0.1925, -0.1615],\n",
      "        [-0.1354, -0.0310,  0.1079,  0.3203,  0.0725, -0.0437,  0.2858,  0.0592,\n",
      "         -0.2845,  0.0923,  0.0750, -0.2362, -0.1092, -0.2757],\n",
      "        [ 0.1559, -0.2370, -0.3219, -0.0177,  0.0410, -0.4747, -0.3209, -0.1284,\n",
      "         -0.0022,  0.3025,  0.2074,  0.3811,  0.4127,  0.1167],\n",
      "        [ 0.2062, -0.1809,  0.1802, -0.0261,  0.3609,  0.2777, -0.2353,  0.2698,\n",
      "          0.1349, -0.1727,  0.2338, -0.3235,  0.0595,  0.4209],\n",
      "        [-0.0251,  0.1237,  0.1204,  0.1736, -0.0300, -0.1455,  0.1901,  0.0185,\n",
      "          0.0216,  0.0324,  0.2638, -0.5313, -0.3146, -0.2402],\n",
      "        [-0.2089,  0.1111,  0.0260,  0.0223,  0.0886, -0.3154,  0.1437, -0.0448,\n",
      "         -0.1873,  0.2068, -0.0615,  0.1673, -0.0665, -0.1914],\n",
      "        [-0.0346, -0.0433,  0.1427,  0.1732,  0.1879,  0.2426, -0.2202, -0.1190,\n",
      "         -0.0439,  0.1532, -0.1703, -0.2315, -0.2091,  0.1287],\n",
      "        [-0.1415, -0.3540, -0.1764,  0.1232,  0.3420,  0.0495, -0.2978,  0.2883,\n",
      "          0.2808,  0.2046,  0.0898, -0.1342, -0.1530, -0.1415],\n",
      "        [ 0.3056, -0.3042,  0.1050, -0.1011,  0.0149, -0.2483,  0.0973, -0.0246,\n",
      "          0.0870,  0.2792, -0.0058,  0.1061,  0.1414,  0.0779],\n",
      "        [ 0.0977,  0.0516,  0.1283,  0.2889, -0.1115, -0.1144, -0.2026, -0.2696,\n",
      "         -0.0297,  0.0323,  0.2968, -0.2219,  0.0989,  0.2729],\n",
      "        [-0.2375,  0.1793, -0.0277, -0.3235,  0.0437, -0.0984, -0.2058,  0.2261,\n",
      "          0.1011, -0.2681, -0.2157, -0.1205,  0.1879,  0.0675],\n",
      "        [-0.1508, -0.0770,  0.2784, -0.3348,  0.0055,  0.2461, -0.1898,  0.1096,\n",
      "          0.2024,  0.1587, -0.3086, -0.0171,  0.1418, -0.0539],\n",
      "        [ 0.2156,  0.3145,  0.2352, -0.5478,  0.3406,  0.3463, -0.3199,  0.2177,\n",
      "         -0.1781, -0.3647, -0.2900, -0.5923,  0.1294,  0.3906],\n",
      "        [-0.1661,  0.0337,  0.2634,  0.1386, -0.3954, -0.0831, -0.0363, -0.1814,\n",
      "          0.0963, -0.1908,  0.2409, -0.2392,  0.0455, -0.3109],\n",
      "        [-0.0826,  0.3038, -0.1261,  0.1304,  0.1141, -0.0980,  0.5234, -0.0939,\n",
      "          0.2573,  0.1933,  0.2145, -0.0619,  0.0575, -0.3972],\n",
      "        [ 0.0343, -0.0010, -0.1594,  0.4234, -0.3657, -0.2641,  0.3377, -0.3694,\n",
      "         -0.4267, -0.0770, -0.1462, -0.2062,  0.0309, -0.3144],\n",
      "        [-0.1213,  0.2011, -0.1226,  0.0898, -0.3098, -0.0734, -0.3047, -0.6398,\n",
      "         -0.2910, -0.4439,  0.2116,  0.3422,  0.3508, -0.2612],\n",
      "        [-0.1779, -0.0287, -0.2804,  0.0426, -0.1255,  0.1732, -0.0927, -0.1345,\n",
      "         -0.0138, -0.0703,  0.0442,  0.0266,  0.2099, -0.2662],\n",
      "        [ 0.5545,  0.6193,  0.6005, -0.5422, -0.3272,  0.5414,  0.4113, -0.4109,\n",
      "         -0.5433, -0.2866,  0.1409, -0.1315,  0.2489, -0.2089],\n",
      "        [ 0.1562,  0.3120,  0.3416,  0.1582, -0.3253, -0.1264, -0.3018, -0.0791,\n",
      "         -0.2149, -0.2849,  0.2198,  0.1146,  0.1455, -0.3942],\n",
      "        [ 0.2523,  0.0408,  0.1454,  0.1559, -0.0266,  0.1707,  0.0057, -0.1195,\n",
      "          0.0298, -0.3798,  0.0730,  0.2747,  0.2789,  0.0465],\n",
      "        [ 0.0760, -0.0187, -0.0798,  0.4845, -0.1226, -0.1691,  0.0509, -0.1680,\n",
      "          0.2178,  0.1604,  0.4617,  0.1626,  0.4252, -0.5005],\n",
      "        [-0.1048,  0.2766,  0.3646, -0.0814,  0.0487,  0.2689,  0.1596, -0.0766,\n",
      "          0.0877, -0.2472,  0.3222, -0.3670,  0.0938,  0.1058],\n",
      "        [-0.0405,  0.0309, -0.2398, -0.0681, -0.2397, -0.0850, -0.2881, -0.0645,\n",
      "          0.0393,  0.1995, -0.1684,  0.0829,  0.1726,  0.0848],\n",
      "        [ 0.3248,  0.4056,  0.3647, -0.0174, -0.0923,  0.4557,  0.1219, -0.3625,\n",
      "         -0.6185, -0.2970,  0.3558, -0.2466,  0.6010, -0.5377],\n",
      "        [-0.0713,  0.4016,  0.0569,  0.1097,  0.0103,  0.3860, -0.3895, -0.3990,\n",
      "          0.2206, -0.0090,  0.1747, -0.2162,  0.1863, -0.0823],\n",
      "        [-0.2196, -0.1597, -0.3136,  0.0796, -0.4157, -0.4037, -0.3623, -0.3195,\n",
      "          0.4233, -0.5711,  0.0534,  0.6505,  0.4939,  0.2305]],\n",
      "       device='cuda:0', requires_grad=True))\n",
      "('rnn.bias_ih_l2', Parameter containing:\n",
      "tensor([ 0.0951,  0.3392, -0.0409,  0.3120,  0.2419,  0.5871, -0.0799,  0.2144,\n",
      "         0.2142,  0.1589,  0.0078,  0.0056, -0.0308,  0.3814,  0.1712, -0.0834,\n",
      "        -0.0862, -0.0049,  0.0641,  0.1326,  0.3024,  0.1213,  0.3405, -0.1499,\n",
      "         0.2225, -0.1394,  0.1637,  0.2004,  0.1186,  0.1121,  0.0616, -0.1645,\n",
      "        -0.0937,  0.0974, -0.1041, -0.3272,  0.0151, -0.1993,  0.1426,  0.2615,\n",
      "         0.1085, -0.2171, -0.1744, -0.0961,  0.0803,  0.2663,  0.0151,  0.3490,\n",
      "        -0.0622,  0.3296, -0.1214, -0.1076,  0.1930,  0.3049, -0.0037,  0.3947],\n",
      "       device='cuda:0', requires_grad=True))\n",
      "('rnn.bias_hh_l2', Parameter containing:\n",
      "tensor([ 0.0082,  0.2784, -0.0248,  0.4538,  0.0279,  0.5131,  0.2208, -0.0082,\n",
      "         0.3673, -0.1120,  0.3007,  0.3383,  0.0246,  0.7101,  0.0605,  0.1562,\n",
      "         0.0848, -0.0636, -0.0975,  0.1984,  0.2197,  0.0182,  0.2215,  0.1639,\n",
      "         0.0672, -0.0633, -0.1947,  0.2034,  0.1100,  0.0031,  0.2380,  0.1268,\n",
      "        -0.1119, -0.0540,  0.2428, -0.1984,  0.1134, -0.2312,  0.0660, -0.1706,\n",
      "         0.1788, -0.1202, -0.0307,  0.0257,  0.2054,  0.3406,  0.0272,  0.5407,\n",
      "         0.2276,  0.3934,  0.1392,  0.0653,  0.3090,  0.1267,  0.3187,  0.3092],\n",
      "       device='cuda:0', requires_grad=True))\n",
      "('decoder.weight', Parameter containing:\n",
      "tensor([[-0.3919, -0.2504, -0.0869,  0.6959, -0.4075, -0.4766, -0.6781, -0.2727,\n",
      "          0.2482, -0.1355,  0.5931,  0.5929,  1.0814, -0.8095],\n",
      "        [ 0.2665,  0.1182,  0.4844,  0.1791,  0.1368, -0.0569,  0.2314, -0.0446,\n",
      "         -0.1870, -0.1325,  0.0481,  0.2935, -0.2807, -0.1506]],\n",
      "       device='cuda:0', requires_grad=True))\n",
      "('decoder.bias', Parameter containing:\n",
      "tensor([0.0570, 0.0389], device='cuda:0', requires_grad=True))\n"
     ]
    }
   ],
   "source": [
    "for param in model.named_parameters():\n",
    "  print(param)\n"
   ]
  },
  {
   "cell_type": "code",
   "execution_count": 23,
   "metadata": {},
   "outputs": [],
   "source": [
    "torch.save({\n",
    "            'model_state_dict': model.state_dict(),\n",
    "            'optimizer_state_dict': optimizer.state_dict(),\n",
    "            'run_history':run_hist,\n",
    "            }, \".RNN_1.pt\")\n"
   ]
  },
  {
   "cell_type": "code",
   "execution_count": 24,
   "metadata": {},
   "outputs": [
    {
     "data": {
      "text/plain": [
       "RNNUpgradeTracking(\n",
       "  (rnn): LSTM(4, 14, num_layers=3, batch_first=True)\n",
       "  (decoder): Linear(in_features=14, out_features=2, bias=True)\n",
       ")"
      ]
     },
     "execution_count": 24,
     "metadata": {},
     "output_type": "execute_result"
    }
   ],
   "source": [
    "model.to(device)"
   ]
  },
  {
   "cell_type": "code",
   "execution_count": 25,
   "metadata": {},
   "outputs": [],
   "source": [
    "def make_prediction(dataloader, model):\n",
    "    model.eval() \n",
    "    outputs = []\n",
    "    batch_iterator = tqdm(iter(dataloader), leave=False, total=len(dataloader))\n",
    "    for i, batch in enumerate(dataloader):\n",
    "            inputs, _ = batch\n",
    "            inputs = inputs.to(device)\n",
    "            logits = model(inputs.float())\n",
    "            outputs.append(logits.detach().cpu())\n",
    "    logits = torch.cat(outputs)\n",
    "    probas = torch.softmax(logits, dim=1)\n",
    "    return probas"
   ]
  },
  {
   "cell_type": "code",
   "execution_count": 32,
   "metadata": {},
   "outputs": [
    {
     "name": "stdout",
     "output_type": "stream",
     "text": [
      "\n",
      "Epoch 1/15\n",
      "----------\n"
     ]
    },
    {
     "data": {
      "application/vnd.jupyter.widget-view+json": {
       "model_id": "",
       "version_major": 2,
       "version_minor": 0
      },
      "text/plain": [
       "HBox(children=(FloatProgress(value=0.0, max=20099.0), HTML(value='')))"
      ]
     },
     "metadata": {},
     "output_type": "display_data"
    },
    {
     "name": "stdout",
     "output_type": "stream",
     "text": [
      "train loss: 0.6552, train acc: 0.6054, elapsed:420.4344\n"
     ]
    },
    {
     "data": {
      "application/vnd.jupyter.widget-view+json": {
       "model_id": "",
       "version_major": 2,
       "version_minor": 0
      },
      "text/plain": [
       "HBox(children=(FloatProgress(value=0.0, max=10050.0), HTML(value='')))"
      ]
     },
     "metadata": {},
     "output_type": "display_data"
    },
    {
     "name": "stdout",
     "output_type": "stream",
     "text": [
      "valid loss: 0.6441, valid acc: 0.5705, elapsed:33.5936\n",
      "\n",
      "Epoch 2/15\n",
      "----------\n"
     ]
    },
    {
     "data": {
      "application/vnd.jupyter.widget-view+json": {
       "model_id": "",
       "version_major": 2,
       "version_minor": 0
      },
      "text/plain": [
       "HBox(children=(FloatProgress(value=0.0, max=20099.0), HTML(value='')))"
      ]
     },
     "metadata": {},
     "output_type": "display_data"
    },
    {
     "name": "stdout",
     "output_type": "stream",
     "text": [
      "train loss: 0.6547, train acc: 0.6061, elapsed:409.3473\n"
     ]
    },
    {
     "data": {
      "application/vnd.jupyter.widget-view+json": {
       "model_id": "",
       "version_major": 2,
       "version_minor": 0
      },
      "text/plain": [
       "HBox(children=(FloatProgress(value=0.0, max=10050.0), HTML(value='')))"
      ]
     },
     "metadata": {},
     "output_type": "display_data"
    },
    {
     "name": "stdout",
     "output_type": "stream",
     "text": [
      "valid loss: 0.6549, valid acc: 0.5412, elapsed:33.2750\n",
      "\n",
      "Epoch 3/15\n",
      "----------\n"
     ]
    },
    {
     "data": {
      "application/vnd.jupyter.widget-view+json": {
       "model_id": "",
       "version_major": 2,
       "version_minor": 0
      },
      "text/plain": [
       "HBox(children=(FloatProgress(value=0.0, max=20099.0), HTML(value='')))"
      ]
     },
     "metadata": {},
     "output_type": "display_data"
    },
    {
     "name": "stdout",
     "output_type": "stream",
     "text": [
      "train loss: 0.6545, train acc: 0.6061, elapsed:415.6487\n"
     ]
    },
    {
     "data": {
      "application/vnd.jupyter.widget-view+json": {
       "model_id": "",
       "version_major": 2,
       "version_minor": 0
      },
      "text/plain": [
       "HBox(children=(FloatProgress(value=0.0, max=10050.0), HTML(value='')))"
      ]
     },
     "metadata": {},
     "output_type": "display_data"
    },
    {
     "name": "stdout",
     "output_type": "stream",
     "text": [
      "valid loss: 0.6606, valid acc: 0.5337, elapsed:33.7106\n",
      "\n",
      "Epoch 4/15\n",
      "----------\n"
     ]
    },
    {
     "data": {
      "application/vnd.jupyter.widget-view+json": {
       "model_id": "",
       "version_major": 2,
       "version_minor": 0
      },
      "text/plain": [
       "HBox(children=(FloatProgress(value=0.0, max=20099.0), HTML(value='')))"
      ]
     },
     "metadata": {},
     "output_type": "display_data"
    },
    {
     "name": "stdout",
     "output_type": "stream",
     "text": [
      "train loss: 0.6542, train acc: 0.6064, elapsed:410.4019\n"
     ]
    },
    {
     "data": {
      "application/vnd.jupyter.widget-view+json": {
       "model_id": "",
       "version_major": 2,
       "version_minor": 0
      },
      "text/plain": [
       "HBox(children=(FloatProgress(value=0.0, max=10050.0), HTML(value='')))"
      ]
     },
     "metadata": {},
     "output_type": "display_data"
    },
    {
     "name": "stdout",
     "output_type": "stream",
     "text": [
      "valid loss: 0.6480, valid acc: 0.5374, elapsed:34.1678\n",
      "\n",
      "Epoch 5/15\n",
      "----------\n"
     ]
    },
    {
     "data": {
      "application/vnd.jupyter.widget-view+json": {
       "model_id": "",
       "version_major": 2,
       "version_minor": 0
      },
      "text/plain": [
       "HBox(children=(FloatProgress(value=0.0, max=20099.0), HTML(value='')))"
      ]
     },
     "metadata": {},
     "output_type": "display_data"
    },
    {
     "name": "stdout",
     "output_type": "stream",
     "text": [
      "train loss: 0.6540, train acc: 0.6069, elapsed:414.9865\n"
     ]
    },
    {
     "data": {
      "application/vnd.jupyter.widget-view+json": {
       "model_id": "",
       "version_major": 2,
       "version_minor": 0
      },
      "text/plain": [
       "HBox(children=(FloatProgress(value=0.0, max=10050.0), HTML(value='')))"
      ]
     },
     "metadata": {},
     "output_type": "display_data"
    },
    {
     "name": "stdout",
     "output_type": "stream",
     "text": [
      "valid loss: 0.6675, valid acc: 0.5362, elapsed:33.8012\n",
      "\n",
      "Epoch 6/15\n",
      "----------\n"
     ]
    },
    {
     "data": {
      "application/vnd.jupyter.widget-view+json": {
       "model_id": "",
       "version_major": 2,
       "version_minor": 0
      },
      "text/plain": [
       "HBox(children=(FloatProgress(value=0.0, max=20099.0), HTML(value='')))"
      ]
     },
     "metadata": {},
     "output_type": "display_data"
    },
    {
     "name": "stdout",
     "output_type": "stream",
     "text": [
      "train loss: 0.6539, train acc: 0.6069, elapsed:412.8853\n"
     ]
    },
    {
     "data": {
      "application/vnd.jupyter.widget-view+json": {
       "model_id": "",
       "version_major": 2,
       "version_minor": 0
      },
      "text/plain": [
       "HBox(children=(FloatProgress(value=0.0, max=10050.0), HTML(value='')))"
      ]
     },
     "metadata": {},
     "output_type": "display_data"
    },
    {
     "name": "stdout",
     "output_type": "stream",
     "text": [
      "valid loss: 0.6373, valid acc: 0.5654, elapsed:34.5025\n",
      "\n",
      "Epoch 7/15\n",
      "----------\n"
     ]
    },
    {
     "data": {
      "application/vnd.jupyter.widget-view+json": {
       "model_id": "",
       "version_major": 2,
       "version_minor": 0
      },
      "text/plain": [
       "HBox(children=(FloatProgress(value=0.0, max=20099.0), HTML(value='')))"
      ]
     },
     "metadata": {},
     "output_type": "display_data"
    },
    {
     "name": "stdout",
     "output_type": "stream",
     "text": [
      "train loss: 0.6534, train acc: 0.6074, elapsed:412.4722\n"
     ]
    },
    {
     "data": {
      "application/vnd.jupyter.widget-view+json": {
       "model_id": "",
       "version_major": 2,
       "version_minor": 0
      },
      "text/plain": [
       "HBox(children=(FloatProgress(value=0.0, max=10050.0), HTML(value='')))"
      ]
     },
     "metadata": {},
     "output_type": "display_data"
    },
    {
     "name": "stdout",
     "output_type": "stream",
     "text": [
      "valid loss: 0.6490, valid acc: 0.5581, elapsed:34.3996\n",
      "\n",
      "Epoch 8/15\n",
      "----------\n"
     ]
    },
    {
     "data": {
      "application/vnd.jupyter.widget-view+json": {
       "model_id": "",
       "version_major": 2,
       "version_minor": 0
      },
      "text/plain": [
       "HBox(children=(FloatProgress(value=0.0, max=20099.0), HTML(value='')))"
      ]
     },
     "metadata": {},
     "output_type": "display_data"
    },
    {
     "name": "stdout",
     "output_type": "stream",
     "text": [
      "train loss: 0.6527, train acc: 0.6085, elapsed:419.9163\n"
     ]
    },
    {
     "data": {
      "application/vnd.jupyter.widget-view+json": {
       "model_id": "",
       "version_major": 2,
       "version_minor": 0
      },
      "text/plain": [
       "HBox(children=(FloatProgress(value=0.0, max=10050.0), HTML(value='')))"
      ]
     },
     "metadata": {},
     "output_type": "display_data"
    },
    {
     "name": "stdout",
     "output_type": "stream",
     "text": [
      "valid loss: 0.6550, valid acc: 0.5452, elapsed:34.6365\n",
      "\n",
      "Epoch 9/15\n",
      "----------\n"
     ]
    },
    {
     "data": {
      "application/vnd.jupyter.widget-view+json": {
       "model_id": "",
       "version_major": 2,
       "version_minor": 0
      },
      "text/plain": [
       "HBox(children=(FloatProgress(value=0.0, max=20099.0), HTML(value='')))"
      ]
     },
     "metadata": {},
     "output_type": "display_data"
    },
    {
     "name": "stdout",
     "output_type": "stream",
     "text": [
      "train loss: 0.6527, train acc: 0.6085, elapsed:415.0260\n"
     ]
    },
    {
     "data": {
      "application/vnd.jupyter.widget-view+json": {
       "model_id": "",
       "version_major": 2,
       "version_minor": 0
      },
      "text/plain": [
       "HBox(children=(FloatProgress(value=0.0, max=10050.0), HTML(value='')))"
      ]
     },
     "metadata": {},
     "output_type": "display_data"
    },
    {
     "name": "stdout",
     "output_type": "stream",
     "text": [
      "valid loss: 0.6653, valid acc: 0.5136, elapsed:34.1276\n",
      "\n",
      "Epoch 10/15\n",
      "----------\n"
     ]
    },
    {
     "data": {
      "application/vnd.jupyter.widget-view+json": {
       "model_id": "",
       "version_major": 2,
       "version_minor": 0
      },
      "text/plain": [
       "HBox(children=(FloatProgress(value=0.0, max=20099.0), HTML(value='')))"
      ]
     },
     "metadata": {},
     "output_type": "display_data"
    },
    {
     "name": "stdout",
     "output_type": "stream",
     "text": [
      "train loss: 0.6524, train acc: 0.6090, elapsed:407.6246\n"
     ]
    },
    {
     "data": {
      "application/vnd.jupyter.widget-view+json": {
       "model_id": "",
       "version_major": 2,
       "version_minor": 0
      },
      "text/plain": [
       "HBox(children=(FloatProgress(value=0.0, max=10050.0), HTML(value='')))"
      ]
     },
     "metadata": {},
     "output_type": "display_data"
    },
    {
     "name": "stdout",
     "output_type": "stream",
     "text": [
      "valid loss: 0.6607, valid acc: 0.5300, elapsed:34.7800\n",
      "\n",
      "Epoch 11/15\n",
      "----------\n"
     ]
    },
    {
     "data": {
      "application/vnd.jupyter.widget-view+json": {
       "model_id": "",
       "version_major": 2,
       "version_minor": 0
      },
      "text/plain": [
       "HBox(children=(FloatProgress(value=0.0, max=20099.0), HTML(value='')))"
      ]
     },
     "metadata": {},
     "output_type": "display_data"
    },
    {
     "name": "stdout",
     "output_type": "stream",
     "text": [
      "train loss: 0.6516, train acc: 0.6096, elapsed:411.7227\n"
     ]
    },
    {
     "data": {
      "application/vnd.jupyter.widget-view+json": {
       "model_id": "",
       "version_major": 2,
       "version_minor": 0
      },
      "text/plain": [
       "HBox(children=(FloatProgress(value=0.0, max=10050.0), HTML(value='')))"
      ]
     },
     "metadata": {},
     "output_type": "display_data"
    },
    {
     "name": "stdout",
     "output_type": "stream",
     "text": [
      "valid loss: 0.6609, valid acc: 0.5341, elapsed:34.0408\n",
      "\n",
      "Epoch 12/15\n",
      "----------\n"
     ]
    },
    {
     "data": {
      "application/vnd.jupyter.widget-view+json": {
       "model_id": "",
       "version_major": 2,
       "version_minor": 0
      },
      "text/plain": [
       "HBox(children=(FloatProgress(value=0.0, max=20099.0), HTML(value='')))"
      ]
     },
     "metadata": {},
     "output_type": "display_data"
    },
    {
     "name": "stdout",
     "output_type": "stream",
     "text": [
      "train loss: 0.6515, train acc: 0.6099, elapsed:408.6875\n"
     ]
    },
    {
     "data": {
      "application/vnd.jupyter.widget-view+json": {
       "model_id": "",
       "version_major": 2,
       "version_minor": 0
      },
      "text/plain": [
       "HBox(children=(FloatProgress(value=0.0, max=10050.0), HTML(value='')))"
      ]
     },
     "metadata": {},
     "output_type": "display_data"
    },
    {
     "name": "stdout",
     "output_type": "stream",
     "text": [
      "valid loss: 0.6552, valid acc: 0.5526, elapsed:35.4640\n",
      "\n",
      "Epoch 13/15\n",
      "----------\n"
     ]
    },
    {
     "data": {
      "application/vnd.jupyter.widget-view+json": {
       "model_id": "",
       "version_major": 2,
       "version_minor": 0
      },
      "text/plain": [
       "HBox(children=(FloatProgress(value=0.0, max=20099.0), HTML(value='')))"
      ]
     },
     "metadata": {},
     "output_type": "display_data"
    },
    {
     "name": "stdout",
     "output_type": "stream",
     "text": [
      "train loss: 0.6513, train acc: 0.6100, elapsed:414.1335\n"
     ]
    },
    {
     "data": {
      "application/vnd.jupyter.widget-view+json": {
       "model_id": "",
       "version_major": 2,
       "version_minor": 0
      },
      "text/plain": [
       "HBox(children=(FloatProgress(value=0.0, max=10050.0), HTML(value='')))"
      ]
     },
     "metadata": {},
     "output_type": "display_data"
    },
    {
     "name": "stdout",
     "output_type": "stream",
     "text": [
      "valid loss: 0.6418, valid acc: 0.5679, elapsed:35.3564\n",
      "\n",
      "Epoch 14/15\n",
      "----------\n"
     ]
    },
    {
     "data": {
      "application/vnd.jupyter.widget-view+json": {
       "model_id": "",
       "version_major": 2,
       "version_minor": 0
      },
      "text/plain": [
       "HBox(children=(FloatProgress(value=0.0, max=20099.0), HTML(value='')))"
      ]
     },
     "metadata": {},
     "output_type": "display_data"
    },
    {
     "name": "stdout",
     "output_type": "stream",
     "text": [
      "train loss: 0.6510, train acc: 0.6102, elapsed:408.4455\n"
     ]
    },
    {
     "data": {
      "application/vnd.jupyter.widget-view+json": {
       "model_id": "",
       "version_major": 2,
       "version_minor": 0
      },
      "text/plain": [
       "HBox(children=(FloatProgress(value=0.0, max=10050.0), HTML(value='')))"
      ]
     },
     "metadata": {},
     "output_type": "display_data"
    },
    {
     "name": "stdout",
     "output_type": "stream",
     "text": [
      "valid loss: 0.6536, valid acc: 0.5554, elapsed:34.4816\n",
      "\n",
      "Epoch 15/15\n",
      "----------\n"
     ]
    },
    {
     "data": {
      "application/vnd.jupyter.widget-view+json": {
       "model_id": "",
       "version_major": 2,
       "version_minor": 0
      },
      "text/plain": [
       "HBox(children=(FloatProgress(value=0.0, max=20099.0), HTML(value='')))"
      ]
     },
     "metadata": {},
     "output_type": "display_data"
    },
    {
     "name": "stdout",
     "output_type": "stream",
     "text": [
      "train loss: 0.6505, train acc: 0.6109, elapsed:418.7329\n"
     ]
    },
    {
     "data": {
      "application/vnd.jupyter.widget-view+json": {
       "model_id": "",
       "version_major": 2,
       "version_minor": 0
      },
      "text/plain": [
       "HBox(children=(FloatProgress(value=0.0, max=10050.0), HTML(value='')))"
      ]
     },
     "metadata": {},
     "output_type": "display_data"
    },
    {
     "name": "stdout",
     "output_type": "stream",
     "text": [
      "valid loss: 0.6340, valid acc: 0.5933, elapsed:35.3439\n",
      "training took:  6716.154227311723\n"
     ]
    }
   ],
   "source": [
    "model, run_hist = train_and_valid_classification(model, criterion, optimizer,run_hist= run_hist, num_epochs=15)"
   ]
  },
  {
   "cell_type": "code",
   "execution_count": 34,
   "metadata": {},
   "outputs": [],
   "source": [
    "torch.save({\n",
    "            'model_state_dict': model.state_dict(),\n",
    "            'optimizer_state_dict': optimizer.state_dict(),\n",
    "            'run_history':run_hist,\n",
    "            }, \".RNN_1.pt\")\n"
   ]
  },
  {
   "cell_type": "code",
   "execution_count": 37,
   "metadata": {},
   "outputs": [
    {
     "data": {
      "image/png": "[encoded data removed]",
      "text/plain": [
       "<Figure size 1440x432 with 2 Axes>"
      ]
     },
     "metadata": {
      "needs_background": "light"
     },
     "output_type": "display_data"
    }
   ],
   "source": [
    "plot_training_classification(run_hist)"
   ]
  },
  {
   "cell_type": "code",
   "execution_count": 35,
   "metadata": {},
   "outputs": [
    {
     "name": "stdout",
     "output_type": "stream",
     "text": [
      "\n",
      "Epoch 1/30\n",
      "----------\n"
     ]
    },
    {
     "data": {
      "application/vnd.jupyter.widget-view+json": {
       "model_id": "",
       "version_major": 2,
       "version_minor": 0
      },
      "text/plain": [
       "HBox(children=(FloatProgress(value=0.0, max=20099.0), HTML(value='')))"
      ]
     },
     "metadata": {},
     "output_type": "display_data"
    },
    {
     "name": "stdout",
     "output_type": "stream",
     "text": [
      "train loss: 0.6507, train acc: 0.6103, elapsed:416.4205\n"
     ]
    },
    {
     "data": {
      "application/vnd.jupyter.widget-view+json": {
       "model_id": "",
       "version_major": 2,
       "version_minor": 0
      },
      "text/plain": [
       "HBox(children=(FloatProgress(value=0.0, max=10050.0), HTML(value='')))"
      ]
     },
     "metadata": {},
     "output_type": "display_data"
    },
    {
     "name": "stdout",
     "output_type": "stream",
     "text": [
      "valid loss: 0.6553, valid acc: 0.5525, elapsed:35.5111\n",
      "\n",
      "Epoch 2/30\n",
      "----------\n"
     ]
    },
    {
     "data": {
      "application/vnd.jupyter.widget-view+json": {
       "model_id": "",
       "version_major": 2,
       "version_minor": 0
      },
      "text/plain": [
       "HBox(children=(FloatProgress(value=0.0, max=20099.0), HTML(value='')))"
      ]
     },
     "metadata": {},
     "output_type": "display_data"
    },
    {
     "name": "stdout",
     "output_type": "stream",
     "text": [
      "train loss: 0.6504, train acc: 0.6107, elapsed:411.6752\n"
     ]
    },
    {
     "data": {
      "application/vnd.jupyter.widget-view+json": {
       "model_id": "",
       "version_major": 2,
       "version_minor": 0
      },
      "text/plain": [
       "HBox(children=(FloatProgress(value=0.0, max=10050.0), HTML(value='')))"
      ]
     },
     "metadata": {},
     "output_type": "display_data"
    },
    {
     "name": "stdout",
     "output_type": "stream",
     "text": [
      "valid loss: 0.6431, valid acc: 0.5831, elapsed:35.5488\n",
      "\n",
      "Epoch 3/30\n",
      "----------\n"
     ]
    },
    {
     "data": {
      "application/vnd.jupyter.widget-view+json": {
       "model_id": "",
       "version_major": 2,
       "version_minor": 0
      },
      "text/plain": [
       "HBox(children=(FloatProgress(value=0.0, max=20099.0), HTML(value='')))"
      ]
     },
     "metadata": {},
     "output_type": "display_data"
    },
    {
     "name": "stdout",
     "output_type": "stream",
     "text": [
      "train loss: 0.6500, train acc: 0.6110, elapsed:407.7336\n"
     ]
    },
    {
     "data": {
      "application/vnd.jupyter.widget-view+json": {
       "model_id": "",
       "version_major": 2,
       "version_minor": 0
      },
      "text/plain": [
       "HBox(children=(FloatProgress(value=0.0, max=10050.0), HTML(value='')))"
      ]
     },
     "metadata": {},
     "output_type": "display_data"
    },
    {
     "name": "stdout",
     "output_type": "stream",
     "text": [
      "valid loss: 0.6557, valid acc: 0.5586, elapsed:34.5937\n",
      "\n",
      "Epoch 4/30\n",
      "----------\n"
     ]
    },
    {
     "data": {
      "application/vnd.jupyter.widget-view+json": {
       "model_id": "",
       "version_major": 2,
       "version_minor": 0
      },
      "text/plain": [
       "HBox(children=(FloatProgress(value=0.0, max=20099.0), HTML(value='')))"
      ]
     },
     "metadata": {},
     "output_type": "display_data"
    },
    {
     "name": "stdout",
     "output_type": "stream",
     "text": [
      "train loss: 0.6500, train acc: 0.6112, elapsed:408.6864\n"
     ]
    },
    {
     "data": {
      "application/vnd.jupyter.widget-view+json": {
       "model_id": "",
       "version_major": 2,
       "version_minor": 0
      },
      "text/plain": [
       "HBox(children=(FloatProgress(value=0.0, max=10050.0), HTML(value='')))"
      ]
     },
     "metadata": {},
     "output_type": "display_data"
    },
    {
     "name": "stdout",
     "output_type": "stream",
     "text": [
      "valid loss: 0.6660, valid acc: 0.5295, elapsed:35.6593\n",
      "\n",
      "Epoch 5/30\n",
      "----------\n"
     ]
    },
    {
     "data": {
      "application/vnd.jupyter.widget-view+json": {
       "model_id": "",
       "version_major": 2,
       "version_minor": 0
      },
      "text/plain": [
       "HBox(children=(FloatProgress(value=0.0, max=20099.0), HTML(value='')))"
      ]
     },
     "metadata": {},
     "output_type": "display_data"
    },
    {
     "name": "stdout",
     "output_type": "stream",
     "text": [
      "train loss: 0.6496, train acc: 0.6117, elapsed:408.1206\n"
     ]
    },
    {
     "data": {
      "application/vnd.jupyter.widget-view+json": {
       "model_id": "",
       "version_major": 2,
       "version_minor": 0
      },
      "text/plain": [
       "HBox(children=(FloatProgress(value=0.0, max=10050.0), HTML(value='')))"
      ]
     },
     "metadata": {},
     "output_type": "display_data"
    },
    {
     "name": "stdout",
     "output_type": "stream",
     "text": [
      "valid loss: 0.6534, valid acc: 0.5711, elapsed:35.9748\n",
      "\n",
      "Epoch 6/30\n",
      "----------\n"
     ]
    },
    {
     "data": {
      "application/vnd.jupyter.widget-view+json": {
       "model_id": "",
       "version_major": 2,
       "version_minor": 0
      },
      "text/plain": [
       "HBox(children=(FloatProgress(value=0.0, max=20099.0), HTML(value='')))"
      ]
     },
     "metadata": {},
     "output_type": "display_data"
    },
    {
     "name": "stdout",
     "output_type": "stream",
     "text": [
      "train loss: 0.6496, train acc: 0.6117, elapsed:406.0291\n"
     ]
    },
    {
     "data": {
      "application/vnd.jupyter.widget-view+json": {
       "model_id": "",
       "version_major": 2,
       "version_minor": 0
      },
      "text/plain": [
       "HBox(children=(FloatProgress(value=0.0, max=10050.0), HTML(value='')))"
      ]
     },
     "metadata": {},
     "output_type": "display_data"
    },
    {
     "name": "stdout",
     "output_type": "stream",
     "text": [
      "valid loss: 0.6507, valid acc: 0.5676, elapsed:35.8465\n",
      "\n",
      "Epoch 7/30\n",
      "----------\n"
     ]
    },
    {
     "data": {
      "application/vnd.jupyter.widget-view+json": {
       "model_id": "",
       "version_major": 2,
       "version_minor": 0
      },
      "text/plain": [
       "HBox(children=(FloatProgress(value=0.0, max=20099.0), HTML(value='')))"
      ]
     },
     "metadata": {},
     "output_type": "display_data"
    },
    {
     "name": "stdout",
     "output_type": "stream",
     "text": [
      "train loss: 0.6495, train acc: 0.6117, elapsed:409.5733\n"
     ]
    },
    {
     "data": {
      "application/vnd.jupyter.widget-view+json": {
       "model_id": "",
       "version_major": 2,
       "version_minor": 0
      },
      "text/plain": [
       "HBox(children=(FloatProgress(value=0.0, max=10050.0), HTML(value='')))"
      ]
     },
     "metadata": {},
     "output_type": "display_data"
    },
    {
     "name": "stdout",
     "output_type": "stream",
     "text": [
      "valid loss: 0.6436, valid acc: 0.5640, elapsed:36.3895\n",
      "\n",
      "Epoch 8/30\n",
      "----------\n"
     ]
    },
    {
     "data": {
      "application/vnd.jupyter.widget-view+json": {
       "model_id": "",
       "version_major": 2,
       "version_minor": 0
      },
      "text/plain": [
       "HBox(children=(FloatProgress(value=0.0, max=20099.0), HTML(value='')))"
      ]
     },
     "metadata": {},
     "output_type": "display_data"
    },
    {
     "name": "stdout",
     "output_type": "stream",
     "text": [
      "train loss: 0.6495, train acc: 0.6112, elapsed:405.1078\n"
     ]
    },
    {
     "data": {
      "application/vnd.jupyter.widget-view+json": {
       "model_id": "",
       "version_major": 2,
       "version_minor": 0
      },
      "text/plain": [
       "HBox(children=(FloatProgress(value=0.0, max=10050.0), HTML(value='')))"
      ]
     },
     "metadata": {},
     "output_type": "display_data"
    },
    {
     "name": "stdout",
     "output_type": "stream",
     "text": [
      "valid loss: 0.6442, valid acc: 0.5714, elapsed:34.6399\n",
      "\n",
      "Epoch 9/30\n",
      "----------\n"
     ]
    },
    {
     "data": {
      "application/vnd.jupyter.widget-view+json": {
       "model_id": "",
       "version_major": 2,
       "version_minor": 0
      },
      "text/plain": [
       "HBox(children=(FloatProgress(value=0.0, max=20099.0), HTML(value='')))"
      ]
     },
     "metadata": {},
     "output_type": "display_data"
    },
    {
     "name": "stdout",
     "output_type": "stream",
     "text": [
      "train loss: 0.6492, train acc: 0.6118, elapsed:421.6457\n"
     ]
    },
    {
     "data": {
      "application/vnd.jupyter.widget-view+json": {
       "model_id": "",
       "version_major": 2,
       "version_minor": 0
      },
      "text/plain": [
       "HBox(children=(FloatProgress(value=0.0, max=10050.0), HTML(value='')))"
      ]
     },
     "metadata": {},
     "output_type": "display_data"
    },
    {
     "name": "stdout",
     "output_type": "stream",
     "text": [
      "valid loss: 0.6418, valid acc: 0.5765, elapsed:35.5430\n",
      "\n",
      "Epoch 10/30\n",
      "----------\n"
     ]
    },
    {
     "data": {
      "application/vnd.jupyter.widget-view+json": {
       "model_id": "",
       "version_major": 2,
       "version_minor": 0
      },
      "text/plain": [
       "HBox(children=(FloatProgress(value=0.0, max=20099.0), HTML(value='')))"
      ]
     },
     "metadata": {},
     "output_type": "display_data"
    },
    {
     "name": "stdout",
     "output_type": "stream",
     "text": [
      "train loss: 0.6489, train acc: 0.6122, elapsed:407.6206\n"
     ]
    },
    {
     "data": {
      "application/vnd.jupyter.widget-view+json": {
       "model_id": "",
       "version_major": 2,
       "version_minor": 0
      },
      "text/plain": [
       "HBox(children=(FloatProgress(value=0.0, max=10050.0), HTML(value='')))"
      ]
     },
     "metadata": {},
     "output_type": "display_data"
    },
    {
     "name": "stdout",
     "output_type": "stream",
     "text": [
      "valid loss: 0.6547, valid acc: 0.5616, elapsed:35.3262\n",
      "\n",
      "Epoch 11/30\n",
      "----------\n"
     ]
    },
    {
     "data": {
      "application/vnd.jupyter.widget-view+json": {
       "model_id": "",
       "version_major": 2,
       "version_minor": 0
      },
      "text/plain": [
       "HBox(children=(FloatProgress(value=0.0, max=20099.0), HTML(value='')))"
      ]
     },
     "metadata": {},
     "output_type": "display_data"
    },
    {
     "name": "stdout",
     "output_type": "stream",
     "text": [
      "train loss: 0.6489, train acc: 0.6121, elapsed:407.4277\n"
     ]
    },
    {
     "data": {
      "application/vnd.jupyter.widget-view+json": {
       "model_id": "",
       "version_major": 2,
       "version_minor": 0
      },
      "text/plain": [
       "HBox(children=(FloatProgress(value=0.0, max=10050.0), HTML(value='')))"
      ]
     },
     "metadata": {},
     "output_type": "display_data"
    },
    {
     "name": "stdout",
     "output_type": "stream",
     "text": [
      "valid loss: 0.6457, valid acc: 0.5644, elapsed:35.8086\n",
      "\n",
      "Epoch 12/30\n",
      "----------\n"
     ]
    },
    {
     "data": {
      "application/vnd.jupyter.widget-view+json": {
       "model_id": "",
       "version_major": 2,
       "version_minor": 0
      },
      "text/plain": [
       "HBox(children=(FloatProgress(value=0.0, max=20099.0), HTML(value='')))"
      ]
     },
     "metadata": {},
     "output_type": "display_data"
    },
    {
     "name": "stdout",
     "output_type": "stream",
     "text": [
      "train loss: 0.6486, train acc: 0.6126, elapsed:415.2058\n"
     ]
    },
    {
     "data": {
      "application/vnd.jupyter.widget-view+json": {
       "model_id": "",
       "version_major": 2,
       "version_minor": 0
      },
      "text/plain": [
       "HBox(children=(FloatProgress(value=0.0, max=10050.0), HTML(value='')))"
      ]
     },
     "metadata": {},
     "output_type": "display_data"
    },
    {
     "name": "stdout",
     "output_type": "stream",
     "text": [
      "valid loss: 0.6419, valid acc: 0.5700, elapsed:35.6420\n",
      "\n",
      "Epoch 13/30\n",
      "----------\n"
     ]
    },
    {
     "data": {
      "application/vnd.jupyter.widget-view+json": {
       "model_id": "",
       "version_major": 2,
       "version_minor": 0
      },
      "text/plain": [
       "HBox(children=(FloatProgress(value=0.0, max=20099.0), HTML(value='')))"
      ]
     },
     "metadata": {},
     "output_type": "display_data"
    },
    {
     "name": "stdout",
     "output_type": "stream",
     "text": [
      "train loss: 0.6482, train acc: 0.6130, elapsed:414.3690\n"
     ]
    },
    {
     "data": {
      "application/vnd.jupyter.widget-view+json": {
       "model_id": "",
       "version_major": 2,
       "version_minor": 0
      },
      "text/plain": [
       "HBox(children=(FloatProgress(value=0.0, max=10050.0), HTML(value='')))"
      ]
     },
     "metadata": {},
     "output_type": "display_data"
    },
    {
     "name": "stdout",
     "output_type": "stream",
     "text": [
      "valid loss: 0.6598, valid acc: 0.5551, elapsed:34.7857\n",
      "\n",
      "Epoch 14/30\n",
      "----------\n"
     ]
    },
    {
     "data": {
      "application/vnd.jupyter.widget-view+json": {
       "model_id": "",
       "version_major": 2,
       "version_minor": 0
      },
      "text/plain": [
       "HBox(children=(FloatProgress(value=0.0, max=20099.0), HTML(value='')))"
      ]
     },
     "metadata": {},
     "output_type": "display_data"
    },
    {
     "name": "stdout",
     "output_type": "stream",
     "text": [
      "train loss: 0.6483, train acc: 0.6126, elapsed:409.7632\n"
     ]
    },
    {
     "data": {
      "application/vnd.jupyter.widget-view+json": {
       "model_id": "",
       "version_major": 2,
       "version_minor": 0
      },
      "text/plain": [
       "HBox(children=(FloatProgress(value=0.0, max=10050.0), HTML(value='')))"
      ]
     },
     "metadata": {},
     "output_type": "display_data"
    },
    {
     "name": "stdout",
     "output_type": "stream",
     "text": [
      "valid loss: 0.6415, valid acc: 0.5850, elapsed:33.8815\n",
      "\n",
      "Epoch 15/30\n",
      "----------\n"
     ]
    },
    {
     "data": {
      "application/vnd.jupyter.widget-view+json": {
       "model_id": "",
       "version_major": 2,
       "version_minor": 0
      },
      "text/plain": [
       "HBox(children=(FloatProgress(value=0.0, max=20099.0), HTML(value='')))"
      ]
     },
     "metadata": {},
     "output_type": "display_data"
    },
    {
     "name": "stdout",
     "output_type": "stream",
     "text": [
      "train loss: 0.6481, train acc: 0.6126, elapsed:405.8272\n"
     ]
    },
    {
     "data": {
      "application/vnd.jupyter.widget-view+json": {
       "model_id": "",
       "version_major": 2,
       "version_minor": 0
      },
      "text/plain": [
       "HBox(children=(FloatProgress(value=0.0, max=10050.0), HTML(value='')))"
      ]
     },
     "metadata": {},
     "output_type": "display_data"
    },
    {
     "name": "stdout",
     "output_type": "stream",
     "text": [
      "valid loss: 0.6375, valid acc: 0.5764, elapsed:34.2451\n",
      "\n",
      "Epoch 16/30\n",
      "----------\n"
     ]
    },
    {
     "data": {
      "application/vnd.jupyter.widget-view+json": {
       "model_id": "",
       "version_major": 2,
       "version_minor": 0
      },
      "text/plain": [
       "HBox(children=(FloatProgress(value=0.0, max=20099.0), HTML(value='')))"
      ]
     },
     "metadata": {},
     "output_type": "display_data"
    },
    {
     "name": "stdout",
     "output_type": "stream",
     "text": [
      "train loss: 0.6481, train acc: 0.6129, elapsed:410.5564\n"
     ]
    },
    {
     "data": {
      "application/vnd.jupyter.widget-view+json": {
       "model_id": "",
       "version_major": 2,
       "version_minor": 0
      },
      "text/plain": [
       "HBox(children=(FloatProgress(value=0.0, max=10050.0), HTML(value='')))"
      ]
     },
     "metadata": {},
     "output_type": "display_data"
    },
    {
     "name": "stdout",
     "output_type": "stream",
     "text": [
      "valid loss: 0.6477, valid acc: 0.5586, elapsed:34.2125\n",
      "\n",
      "Epoch 17/30\n",
      "----------\n"
     ]
    },
    {
     "data": {
      "application/vnd.jupyter.widget-view+json": {
       "model_id": "",
       "version_major": 2,
       "version_minor": 0
      },
      "text/plain": [
       "HBox(children=(FloatProgress(value=0.0, max=20099.0), HTML(value='')))"
      ]
     },
     "metadata": {},
     "output_type": "display_data"
    },
    {
     "name": "stdout",
     "output_type": "stream",
     "text": [
      "train loss: 0.6482, train acc: 0.6127, elapsed:398.1670\n"
     ]
    },
    {
     "data": {
      "application/vnd.jupyter.widget-view+json": {
       "model_id": "",
       "version_major": 2,
       "version_minor": 0
      },
      "text/plain": [
       "HBox(children=(FloatProgress(value=0.0, max=10050.0), HTML(value='')))"
      ]
     },
     "metadata": {},
     "output_type": "display_data"
    },
    {
     "name": "stdout",
     "output_type": "stream",
     "text": [
      "valid loss: 0.6409, valid acc: 0.5710, elapsed:34.5910\n",
      "\n",
      "Epoch 18/30\n",
      "----------\n"
     ]
    },
    {
     "data": {
      "application/vnd.jupyter.widget-view+json": {
       "model_id": "",
       "version_major": 2,
       "version_minor": 0
      },
      "text/plain": [
       "HBox(children=(FloatProgress(value=0.0, max=20099.0), HTML(value='')))"
      ]
     },
     "metadata": {},
     "output_type": "display_data"
    },
    {
     "name": "stdout",
     "output_type": "stream",
     "text": [
      "train loss: 0.6480, train acc: 0.6128, elapsed:417.1411\n"
     ]
    },
    {
     "data": {
      "application/vnd.jupyter.widget-view+json": {
       "model_id": "",
       "version_major": 2,
       "version_minor": 0
      },
      "text/plain": [
       "HBox(children=(FloatProgress(value=0.0, max=10050.0), HTML(value='')))"
      ]
     },
     "metadata": {},
     "output_type": "display_data"
    },
    {
     "name": "stdout",
     "output_type": "stream",
     "text": [
      "valid loss: 0.6539, valid acc: 0.5591, elapsed:34.3510\n",
      "\n",
      "Epoch 19/30\n",
      "----------\n"
     ]
    },
    {
     "data": {
      "application/vnd.jupyter.widget-view+json": {
       "model_id": "",
       "version_major": 2,
       "version_minor": 0
      },
      "text/plain": [
       "HBox(children=(FloatProgress(value=0.0, max=20099.0), HTML(value='')))"
      ]
     },
     "metadata": {},
     "output_type": "display_data"
    },
    {
     "name": "stdout",
     "output_type": "stream",
     "text": [
      "train loss: 0.6477, train acc: 0.6133, elapsed:398.9322\n"
     ]
    },
    {
     "data": {
      "application/vnd.jupyter.widget-view+json": {
       "model_id": "",
       "version_major": 2,
       "version_minor": 0
      },
      "text/plain": [
       "HBox(children=(FloatProgress(value=0.0, max=10050.0), HTML(value='')))"
      ]
     },
     "metadata": {},
     "output_type": "display_data"
    },
    {
     "name": "stdout",
     "output_type": "stream",
     "text": [
      "valid loss: 0.6693, valid acc: 0.5307, elapsed:35.0385\n",
      "\n",
      "Epoch 20/30\n",
      "----------\n"
     ]
    },
    {
     "data": {
      "application/vnd.jupyter.widget-view+json": {
       "model_id": "",
       "version_major": 2,
       "version_minor": 0
      },
      "text/plain": [
       "HBox(children=(FloatProgress(value=0.0, max=20099.0), HTML(value='')))"
      ]
     },
     "metadata": {},
     "output_type": "display_data"
    },
    {
     "name": "stdout",
     "output_type": "stream",
     "text": [
      "train loss: 0.6475, train acc: 0.6133, elapsed:406.6262\n"
     ]
    },
    {
     "data": {
      "application/vnd.jupyter.widget-view+json": {
       "model_id": "",
       "version_major": 2,
       "version_minor": 0
      },
      "text/plain": [
       "HBox(children=(FloatProgress(value=0.0, max=10050.0), HTML(value='')))"
      ]
     },
     "metadata": {},
     "output_type": "display_data"
    },
    {
     "name": "stdout",
     "output_type": "stream",
     "text": [
      "valid loss: 0.6504, valid acc: 0.5564, elapsed:35.4275\n",
      "\n",
      "Epoch 21/30\n",
      "----------\n"
     ]
    },
    {
     "data": {
      "application/vnd.jupyter.widget-view+json": {
       "model_id": "",
       "version_major": 2,
       "version_minor": 0
      },
      "text/plain": [
       "HBox(children=(FloatProgress(value=0.0, max=20099.0), HTML(value='')))"
      ]
     },
     "metadata": {},
     "output_type": "display_data"
    },
    {
     "name": "stdout",
     "output_type": "stream",
     "text": [
      "train loss: 0.6473, train acc: 0.6135, elapsed:405.1429\n"
     ]
    },
    {
     "data": {
      "application/vnd.jupyter.widget-view+json": {
       "model_id": "",
       "version_major": 2,
       "version_minor": 0
      },
      "text/plain": [
       "HBox(children=(FloatProgress(value=0.0, max=10050.0), HTML(value='')))"
      ]
     },
     "metadata": {},
     "output_type": "display_data"
    },
    {
     "name": "stdout",
     "output_type": "stream",
     "text": [
      "valid loss: 0.6591, valid acc: 0.5454, elapsed:34.6441\n",
      "\n",
      "Epoch 22/30\n",
      "----------\n"
     ]
    },
    {
     "data": {
      "application/vnd.jupyter.widget-view+json": {
       "model_id": "",
       "version_major": 2,
       "version_minor": 0
      },
      "text/plain": [
       "HBox(children=(FloatProgress(value=0.0, max=20099.0), HTML(value='')))"
      ]
     },
     "metadata": {},
     "output_type": "display_data"
    },
    {
     "name": "stdout",
     "output_type": "stream",
     "text": [
      "train loss: 0.6473, train acc: 0.6136, elapsed:407.7414\n"
     ]
    },
    {
     "data": {
      "application/vnd.jupyter.widget-view+json": {
       "model_id": "",
       "version_major": 2,
       "version_minor": 0
      },
      "text/plain": [
       "HBox(children=(FloatProgress(value=0.0, max=10050.0), HTML(value='')))"
      ]
     },
     "metadata": {},
     "output_type": "display_data"
    },
    {
     "name": "stdout",
     "output_type": "stream",
     "text": [
      "valid loss: 0.6431, valid acc: 0.5738, elapsed:34.9062\n",
      "\n",
      "Epoch 23/30\n",
      "----------\n"
     ]
    },
    {
     "data": {
      "application/vnd.jupyter.widget-view+json": {
       "model_id": "",
       "version_major": 2,
       "version_minor": 0
      },
      "text/plain": [
       "HBox(children=(FloatProgress(value=0.0, max=20099.0), HTML(value='')))"
      ]
     },
     "metadata": {},
     "output_type": "display_data"
    },
    {
     "name": "stdout",
     "output_type": "stream",
     "text": [
      "train loss: 0.6472, train acc: 0.6139, elapsed:400.7044\n"
     ]
    },
    {
     "data": {
      "application/vnd.jupyter.widget-view+json": {
       "model_id": "",
       "version_major": 2,
       "version_minor": 0
      },
      "text/plain": [
       "HBox(children=(FloatProgress(value=0.0, max=10050.0), HTML(value='')))"
      ]
     },
     "metadata": {},
     "output_type": "display_data"
    },
    {
     "name": "stdout",
     "output_type": "stream",
     "text": [
      "valid loss: 0.6479, valid acc: 0.5550, elapsed:34.2270\n",
      "\n",
      "Epoch 24/30\n",
      "----------\n"
     ]
    },
    {
     "data": {
      "application/vnd.jupyter.widget-view+json": {
       "model_id": "",
       "version_major": 2,
       "version_minor": 0
      },
      "text/plain": [
       "HBox(children=(FloatProgress(value=0.0, max=20099.0), HTML(value='')))"
      ]
     },
     "metadata": {},
     "output_type": "display_data"
    },
    {
     "name": "stdout",
     "output_type": "stream",
     "text": [
      "train loss: 0.6472, train acc: 0.6135, elapsed:416.2550\n"
     ]
    },
    {
     "data": {
      "application/vnd.jupyter.widget-view+json": {
       "model_id": "",
       "version_major": 2,
       "version_minor": 0
      },
      "text/plain": [
       "HBox(children=(FloatProgress(value=0.0, max=10050.0), HTML(value='')))"
      ]
     },
     "metadata": {},
     "output_type": "display_data"
    },
    {
     "name": "stdout",
     "output_type": "stream",
     "text": [
      "valid loss: 0.6546, valid acc: 0.5506, elapsed:34.6513\n",
      "\n",
      "Epoch 25/30\n",
      "----------\n"
     ]
    },
    {
     "data": {
      "application/vnd.jupyter.widget-view+json": {
       "model_id": "",
       "version_major": 2,
       "version_minor": 0
      },
      "text/plain": [
       "HBox(children=(FloatProgress(value=0.0, max=20099.0), HTML(value='')))"
      ]
     },
     "metadata": {},
     "output_type": "display_data"
    },
    {
     "name": "stdout",
     "output_type": "stream",
     "text": [
      "train loss: 0.6472, train acc: 0.6133, elapsed:397.4365\n"
     ]
    },
    {
     "data": {
      "application/vnd.jupyter.widget-view+json": {
       "model_id": "",
       "version_major": 2,
       "version_minor": 0
      },
      "text/plain": [
       "HBox(children=(FloatProgress(value=0.0, max=10050.0), HTML(value='')))"
      ]
     },
     "metadata": {},
     "output_type": "display_data"
    },
    {
     "name": "stdout",
     "output_type": "stream",
     "text": [
      "valid loss: 0.6555, valid acc: 0.5551, elapsed:35.1107\n",
      "\n",
      "Epoch 26/30\n",
      "----------\n"
     ]
    },
    {
     "data": {
      "application/vnd.jupyter.widget-view+json": {
       "model_id": "",
       "version_major": 2,
       "version_minor": 0
      },
      "text/plain": [
       "HBox(children=(FloatProgress(value=0.0, max=20099.0), HTML(value='')))"
      ]
     },
     "metadata": {},
     "output_type": "display_data"
    },
    {
     "name": "stdout",
     "output_type": "stream",
     "text": [
      "train loss: 0.6471, train acc: 0.6134, elapsed:410.7838\n"
     ]
    },
    {
     "data": {
      "application/vnd.jupyter.widget-view+json": {
       "model_id": "",
       "version_major": 2,
       "version_minor": 0
      },
      "text/plain": [
       "HBox(children=(FloatProgress(value=0.0, max=10050.0), HTML(value='')))"
      ]
     },
     "metadata": {},
     "output_type": "display_data"
    },
    {
     "name": "stdout",
     "output_type": "stream",
     "text": [
      "valid loss: 0.6610, valid acc: 0.5479, elapsed:34.7263\n",
      "\n",
      "Epoch 27/30\n",
      "----------\n"
     ]
    },
    {
     "data": {
      "application/vnd.jupyter.widget-view+json": {
       "model_id": "",
       "version_major": 2,
       "version_minor": 0
      },
      "text/plain": [
       "HBox(children=(FloatProgress(value=0.0, max=20099.0), HTML(value='')))"
      ]
     },
     "metadata": {},
     "output_type": "display_data"
    },
    {
     "name": "stdout",
     "output_type": "stream",
     "text": [
      "train loss: 0.6469, train acc: 0.6140, elapsed:402.9216\n"
     ]
    },
    {
     "data": {
      "application/vnd.jupyter.widget-view+json": {
       "model_id": "",
       "version_major": 2,
       "version_minor": 0
      },
      "text/plain": [
       "HBox(children=(FloatProgress(value=0.0, max=10050.0), HTML(value='')))"
      ]
     },
     "metadata": {},
     "output_type": "display_data"
    },
    {
     "name": "stdout",
     "output_type": "stream",
     "text": [
      "valid loss: 0.6629, valid acc: 0.5377, elapsed:34.7334\n",
      "\n",
      "Epoch 28/30\n",
      "----------\n"
     ]
    },
    {
     "data": {
      "application/vnd.jupyter.widget-view+json": {
       "model_id": "",
       "version_major": 2,
       "version_minor": 0
      },
      "text/plain": [
       "HBox(children=(FloatProgress(value=0.0, max=20099.0), HTML(value='')))"
      ]
     },
     "metadata": {},
     "output_type": "display_data"
    },
    {
     "name": "stdout",
     "output_type": "stream",
     "text": [
      "train loss: 0.6469, train acc: 0.6137, elapsed:405.3342\n"
     ]
    },
    {
     "data": {
      "application/vnd.jupyter.widget-view+json": {
       "model_id": "",
       "version_major": 2,
       "version_minor": 0
      },
      "text/plain": [
       "HBox(children=(FloatProgress(value=0.0, max=10050.0), HTML(value='')))"
      ]
     },
     "metadata": {},
     "output_type": "display_data"
    },
    {
     "name": "stdout",
     "output_type": "stream",
     "text": [
      "valid loss: 0.6573, valid acc: 0.5396, elapsed:34.9989\n",
      "\n",
      "Epoch 29/30\n",
      "----------\n"
     ]
    },
    {
     "data": {
      "application/vnd.jupyter.widget-view+json": {
       "model_id": "",
       "version_major": 2,
       "version_minor": 0
      },
      "text/plain": [
       "HBox(children=(FloatProgress(value=0.0, max=20099.0), HTML(value='')))"
      ]
     },
     "metadata": {},
     "output_type": "display_data"
    },
    {
     "name": "stdout",
     "output_type": "stream",
     "text": [
      "train loss: 0.6467, train acc: 0.6137, elapsed:401.3810\n"
     ]
    },
    {
     "data": {
      "application/vnd.jupyter.widget-view+json": {
       "model_id": "",
       "version_major": 2,
       "version_minor": 0
      },
      "text/plain": [
       "HBox(children=(FloatProgress(value=0.0, max=10050.0), HTML(value='')))"
      ]
     },
     "metadata": {},
     "output_type": "display_data"
    },
    {
     "name": "stdout",
     "output_type": "stream",
     "text": [
      "valid loss: 0.6518, valid acc: 0.5452, elapsed:35.2606\n",
      "\n",
      "Epoch 30/30\n",
      "----------\n"
     ]
    },
    {
     "data": {
      "application/vnd.jupyter.widget-view+json": {
       "model_id": "",
       "version_major": 2,
       "version_minor": 0
      },
      "text/plain": [
       "HBox(children=(FloatProgress(value=0.0, max=20099.0), HTML(value='')))"
      ]
     },
     "metadata": {},
     "output_type": "display_data"
    },
    {
     "name": "stdout",
     "output_type": "stream",
     "text": [
      "train loss: 0.6464, train acc: 0.6143, elapsed:398.7452\n"
     ]
    },
    {
     "data": {
      "application/vnd.jupyter.widget-view+json": {
       "model_id": "",
       "version_major": 2,
       "version_minor": 0
      },
      "text/plain": [
       "HBox(children=(FloatProgress(value=0.0, max=10050.0), HTML(value='')))"
      ]
     },
     "metadata": {},
     "output_type": "display_data"
    },
    {
     "name": "stdout",
     "output_type": "stream",
     "text": [
      "valid loss: 0.6540, valid acc: 0.5600, elapsed:35.1332\n",
      "training took:  13284.49905347405\n"
     ]
    }
   ],
   "source": [
    "model, run_hist = train_and_valid_classification(model, criterion, optimizer,run_hist= run_hist, num_epochs=30)"
   ]
  },
  {
   "cell_type": "code",
   "execution_count": 38,
   "metadata": {},
   "outputs": [],
   "source": [
    "learning_rate = 1e-5\n",
    "optimizer_2 = torch.optim.Adam(model.parameters(), lr=learning_rate)"
   ]
  },
  {
   "cell_type": "code",
   "execution_count": null,
   "metadata": {},
   "outputs": [],
   "source": []
  }
 ],
 "metadata": {
  "kernelspec": {
   "display_name": "Python 3.6 - AzureML",
   "language": "python",
   "name": "python3-azureml"
  },
  "language_info": {
   "codemirror_mode": {
    "name": "ipython",
    "version": 3
   },
   "file_extension": ".py",
   "mimetype": "text/x-python",
   "name": "python",
   "nbconvert_exporter": "python",
   "pygments_lexer": "ipython3",
   "version": "3.6.9"
  }
 },
 "nbformat": 4,
 "nbformat_minor": 2
}

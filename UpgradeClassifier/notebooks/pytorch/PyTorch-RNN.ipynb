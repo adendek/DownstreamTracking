{
 "cells": [
  {
   "cell_type": "markdown",
   "metadata": {},
   "source": [
    "# RNN approach to the Upgrade classifier \n",
    "\n",
    "This notebook is dedicated to storing my study on a recurrent neural network to classify the track seeds. In these exercises I'll build a model that uses only hits information in order to make a prediction. \n",
    "\n",
    "Study roadmap:\n",
    "\n",
    "1. Import an FT hits data and converts it into time series. This point will be a little bit challenging since hits need to be coded. \n",
    "2. Build a model that use LSTM units to classify the tracks\n",
    "3. Compare the result to the track information NN. \n",
    "\n",
    "\n",
    "Open questions:\n",
    "1. What is the meaning of repetited planeID?"
   ]
  },
  {
   "cell_type": "code",
   "execution_count": 289,
   "metadata": {},
   "outputs": [
    {
     "name": "stdout",
     "output_type": "stream",
     "text": [
      "\u001b[31mERROR: Could not find a version that satisfies the requirement tmpfile (from versions: none)\u001b[0m\r\n",
      "\u001b[31mERROR: No matching distribution found for tmpfile\u001b[0m\r\n"
     ]
    }
   ],
   "source": [
    "import sys\n",
    "!{sys.executable} -m pip install --upgrade tmpfile\n"
   ]
  },
  {
   "cell_type": "code",
   "execution_count": 1,
   "metadata": {},
   "outputs": [],
   "source": [
    "import pandas as pd\n",
    "pd.options.mode.chained_assignment = None  # default='warn'\n",
    "\n",
    "import numpy as np\n",
    "import random\n",
    "import itertools\n",
    "\n",
    "%matplotlib inline\n",
    "import matplotlib.pyplot as plt\n",
    "\n",
    "from sklearn.model_selection import train_test_split\n",
    "from sklearn.metrics import accuracy_score, log_loss, precision_score, precision_recall_curve\n",
    "from sklearn.metrics import roc_auc_score, roc_curve, auc\n",
    "from sklearn.metrics import classification_report\n",
    "\n",
    "import torch\n",
    "import torch.nn as nn\n",
    "import torch.optim as optim\n",
    "import torch.nn.functional as F\n",
    "from torch.utils.data import Dataset, DataLoader, TensorDataset,ConcatDataset\n",
    "from torch.autograd import Variable\n",
    "\n",
    "\n",
    "from timeit import default_timer as timer\n",
    "from tqdm.notebook import tqdm\n",
    "from multiprocessing import Pool\n",
    "import tempfile\n"
   ]
  },
  {
   "cell_type": "code",
   "execution_count": 65,
   "metadata": {},
   "outputs": [
    {
     "name": "stdout",
     "output_type": "stream",
     "text": [
      "Brunel_BdJPsiKs_MagU_30k.csv\t    FT_Hits.csv\r\n",
      "Brunel_track_seeds_with_target.csv  FT_hits_with_info.csv\r\n"
     ]
    }
   ],
   "source": [
    "! ls /data/work/wessex/Wessex/test/"
   ]
  },
  {
   "cell_type": "code",
   "execution_count": 3,
   "metadata": {},
   "outputs": [],
   "source": [
    "data = pd.read_csv(\"/data/work/wessex/Wessex/test/FT_hits_with_info.csv\")\n"
   ]
  },
  {
   "cell_type": "code",
   "execution_count": 4,
   "metadata": {},
   "outputs": [
    {
     "data": {
      "text/html": [
       "<div>\n",
       "<style scoped>\n",
       "    .dataframe tbody tr th:only-of-type {\n",
       "        vertical-align: middle;\n",
       "    }\n",
       "\n",
       "    .dataframe tbody tr th {\n",
       "        vertical-align: top;\n",
       "    }\n",
       "\n",
       "    .dataframe thead th {\n",
       "        text-align: right;\n",
       "    }\n",
       "</style>\n",
       "<table border=\"1\" class=\"dataframe\">\n",
       "  <thead>\n",
       "    <tr style=\"text-align: right;\">\n",
       "      <th></th>\n",
       "      <th>Unnamed: 0</th>\n",
       "      <th>Unnamed: 0.1</th>\n",
       "      <th>eventID</th>\n",
       "      <th>FT_dxdy</th>\n",
       "      <th>FT_hitPlaneCode</th>\n",
       "      <th>FT_hitzone</th>\n",
       "      <th>FT_lhcbID</th>\n",
       "      <th>FT_particle_key</th>\n",
       "      <th>FT_w</th>\n",
       "      <th>FT_x</th>\n",
       "      <th>FT_z</th>\n",
       "      <th>particle_key</th>\n",
       "      <th>particle_isDown_noVelo</th>\n",
       "    </tr>\n",
       "  </thead>\n",
       "  <tbody>\n",
       "    <tr>\n",
       "      <th>0</th>\n",
       "      <td>0</td>\n",
       "      <td>4</td>\n",
       "      <td>31123</td>\n",
       "      <td>-0.000000</td>\n",
       "      <td>0</td>\n",
       "      <td>1</td>\n",
       "      <td>-1610315668</td>\n",
       "      <td>1518</td>\n",
       "      <td>34.602074</td>\n",
       "      <td>-561.110000</td>\n",
       "      <td>7826.0990</td>\n",
       "      <td>1518</td>\n",
       "      <td>0</td>\n",
       "    </tr>\n",
       "    <tr>\n",
       "      <th>1</th>\n",
       "      <td>1</td>\n",
       "      <td>5</td>\n",
       "      <td>31123</td>\n",
       "      <td>0.087489</td>\n",
       "      <td>1</td>\n",
       "      <td>1</td>\n",
       "      <td>-1610248364</td>\n",
       "      <td>1518</td>\n",
       "      <td>34.602074</td>\n",
       "      <td>-579.305500</td>\n",
       "      <td>7895.9000</td>\n",
       "      <td>1518</td>\n",
       "      <td>0</td>\n",
       "    </tr>\n",
       "    <tr>\n",
       "      <th>2</th>\n",
       "      <td>2</td>\n",
       "      <td>6</td>\n",
       "      <td>31123</td>\n",
       "      <td>-0.087489</td>\n",
       "      <td>2</td>\n",
       "      <td>1</td>\n",
       "      <td>-1610184504</td>\n",
       "      <td>1518</td>\n",
       "      <td>400.000000</td>\n",
       "      <td>-587.054930</td>\n",
       "      <td>7966.1000</td>\n",
       "      <td>1518</td>\n",
       "      <td>0</td>\n",
       "    </tr>\n",
       "    <tr>\n",
       "      <th>3</th>\n",
       "      <td>3</td>\n",
       "      <td>7</td>\n",
       "      <td>31123</td>\n",
       "      <td>-0.087489</td>\n",
       "      <td>2</td>\n",
       "      <td>1</td>\n",
       "      <td>-1610184507</td>\n",
       "      <td>1518</td>\n",
       "      <td>400.000000</td>\n",
       "      <td>-586.302060</td>\n",
       "      <td>7966.0996</td>\n",
       "      <td>1518</td>\n",
       "      <td>0</td>\n",
       "    </tr>\n",
       "    <tr>\n",
       "      <th>4</th>\n",
       "      <td>4</td>\n",
       "      <td>8</td>\n",
       "      <td>31123</td>\n",
       "      <td>-0.000000</td>\n",
       "      <td>3</td>\n",
       "      <td>1</td>\n",
       "      <td>-1610117403</td>\n",
       "      <td>1518</td>\n",
       "      <td>34.602074</td>\n",
       "      <td>-605.665000</td>\n",
       "      <td>8035.9010</td>\n",
       "      <td>1518</td>\n",
       "      <td>0</td>\n",
       "    </tr>\n",
       "    <tr>\n",
       "      <th>5</th>\n",
       "      <td>5</td>\n",
       "      <td>9</td>\n",
       "      <td>31123</td>\n",
       "      <td>-0.000000</td>\n",
       "      <td>4</td>\n",
       "      <td>1</td>\n",
       "      <td>-1610052948</td>\n",
       "      <td>1518</td>\n",
       "      <td>34.602074</td>\n",
       "      <td>-708.389950</td>\n",
       "      <td>8508.1000</td>\n",
       "      <td>1518</td>\n",
       "      <td>0</td>\n",
       "    </tr>\n",
       "    <tr>\n",
       "      <th>6</th>\n",
       "      <td>6</td>\n",
       "      <td>10</td>\n",
       "      <td>31123</td>\n",
       "      <td>0.087489</td>\n",
       "      <td>5</td>\n",
       "      <td>1</td>\n",
       "      <td>-1609986799</td>\n",
       "      <td>1518</td>\n",
       "      <td>34.602074</td>\n",
       "      <td>-727.765400</td>\n",
       "      <td>8577.9000</td>\n",
       "      <td>1518</td>\n",
       "      <td>0</td>\n",
       "    </tr>\n",
       "    <tr>\n",
       "      <th>7</th>\n",
       "      <td>7</td>\n",
       "      <td>11</td>\n",
       "      <td>31123</td>\n",
       "      <td>-0.087489</td>\n",
       "      <td>6</td>\n",
       "      <td>1</td>\n",
       "      <td>-1609921781</td>\n",
       "      <td>1518</td>\n",
       "      <td>34.602074</td>\n",
       "      <td>-735.650400</td>\n",
       "      <td>8648.1010</td>\n",
       "      <td>1518</td>\n",
       "      <td>0</td>\n",
       "    </tr>\n",
       "    <tr>\n",
       "      <th>8</th>\n",
       "      <td>8</td>\n",
       "      <td>12</td>\n",
       "      <td>31123</td>\n",
       "      <td>-0.000000</td>\n",
       "      <td>7</td>\n",
       "      <td>1</td>\n",
       "      <td>-1609855846</td>\n",
       "      <td>1518</td>\n",
       "      <td>11.890608</td>\n",
       "      <td>-755.310000</td>\n",
       "      <td>8717.9000</td>\n",
       "      <td>1518</td>\n",
       "      <td>0</td>\n",
       "    </tr>\n",
       "    <tr>\n",
       "      <th>9</th>\n",
       "      <td>9</td>\n",
       "      <td>13</td>\n",
       "      <td>31123</td>\n",
       "      <td>-0.000000</td>\n",
       "      <td>8</td>\n",
       "      <td>1</td>\n",
       "      <td>-1609790205</td>\n",
       "      <td>1518</td>\n",
       "      <td>34.602074</td>\n",
       "      <td>-861.640000</td>\n",
       "      <td>9193.1000</td>\n",
       "      <td>1518</td>\n",
       "      <td>0</td>\n",
       "    </tr>\n",
       "    <tr>\n",
       "      <th>10</th>\n",
       "      <td>10</td>\n",
       "      <td>14</td>\n",
       "      <td>31123</td>\n",
       "      <td>0.087489</td>\n",
       "      <td>9</td>\n",
       "      <td>1</td>\n",
       "      <td>-1609725253</td>\n",
       "      <td>1518</td>\n",
       "      <td>34.602074</td>\n",
       "      <td>-881.349800</td>\n",
       "      <td>9262.8990</td>\n",
       "      <td>1518</td>\n",
       "      <td>0</td>\n",
       "    </tr>\n",
       "    <tr>\n",
       "      <th>11</th>\n",
       "      <td>11</td>\n",
       "      <td>15</td>\n",
       "      <td>31123</td>\n",
       "      <td>-0.087489</td>\n",
       "      <td>10</td>\n",
       "      <td>1</td>\n",
       "      <td>-1609659037</td>\n",
       "      <td>1518</td>\n",
       "      <td>34.602074</td>\n",
       "      <td>-889.129460</td>\n",
       "      <td>9333.1010</td>\n",
       "      <td>1518</td>\n",
       "      <td>0</td>\n",
       "    </tr>\n",
       "    <tr>\n",
       "      <th>12</th>\n",
       "      <td>12</td>\n",
       "      <td>16</td>\n",
       "      <td>31123</td>\n",
       "      <td>-0.000000</td>\n",
       "      <td>11</td>\n",
       "      <td>1</td>\n",
       "      <td>-1609594303</td>\n",
       "      <td>1518</td>\n",
       "      <td>34.602074</td>\n",
       "      <td>-908.965000</td>\n",
       "      <td>9402.9000</td>\n",
       "      <td>1518</td>\n",
       "      <td>0</td>\n",
       "    </tr>\n",
       "    <tr>\n",
       "      <th>13</th>\n",
       "      <td>13</td>\n",
       "      <td>17</td>\n",
       "      <td>31123</td>\n",
       "      <td>-0.000000</td>\n",
       "      <td>0</td>\n",
       "      <td>1</td>\n",
       "      <td>-1610300863</td>\n",
       "      <td>997</td>\n",
       "      <td>34.602074</td>\n",
       "      <td>378.965000</td>\n",
       "      <td>7826.0990</td>\n",
       "      <td>997</td>\n",
       "      <td>0</td>\n",
       "    </tr>\n",
       "    <tr>\n",
       "      <th>14</th>\n",
       "      <td>14</td>\n",
       "      <td>18</td>\n",
       "      <td>31123</td>\n",
       "      <td>0.087489</td>\n",
       "      <td>1</td>\n",
       "      <td>1</td>\n",
       "      <td>-1610234935</td>\n",
       "      <td>997</td>\n",
       "      <td>34.602074</td>\n",
       "      <td>252.208710</td>\n",
       "      <td>7895.9000</td>\n",
       "      <td>997</td>\n",
       "      <td>0</td>\n",
       "    </tr>\n",
       "    <tr>\n",
       "      <th>15</th>\n",
       "      <td>15</td>\n",
       "      <td>19</td>\n",
       "      <td>31123</td>\n",
       "      <td>-0.087489</td>\n",
       "      <td>2</td>\n",
       "      <td>1</td>\n",
       "      <td>-1610169989</td>\n",
       "      <td>997</td>\n",
       "      <td>34.602074</td>\n",
       "      <td>431.495970</td>\n",
       "      <td>7966.1000</td>\n",
       "      <td>997</td>\n",
       "      <td>0</td>\n",
       "    </tr>\n",
       "    <tr>\n",
       "      <th>16</th>\n",
       "      <td>16</td>\n",
       "      <td>20</td>\n",
       "      <td>31123</td>\n",
       "      <td>-0.000000</td>\n",
       "      <td>3</td>\n",
       "      <td>1</td>\n",
       "      <td>-1610103656</td>\n",
       "      <td>997</td>\n",
       "      <td>25.000000</td>\n",
       "      <td>304.065000</td>\n",
       "      <td>8035.9010</td>\n",
       "      <td>997</td>\n",
       "      <td>0</td>\n",
       "    </tr>\n",
       "    <tr>\n",
       "      <th>17</th>\n",
       "      <td>17</td>\n",
       "      <td>21</td>\n",
       "      <td>31123</td>\n",
       "      <td>-0.000000</td>\n",
       "      <td>4</td>\n",
       "      <td>1</td>\n",
       "      <td>-1610037745</td>\n",
       "      <td>997</td>\n",
       "      <td>34.602074</td>\n",
       "      <td>130.085000</td>\n",
       "      <td>8508.1000</td>\n",
       "      <td>997</td>\n",
       "      <td>0</td>\n",
       "    </tr>\n",
       "    <tr>\n",
       "      <th>18</th>\n",
       "      <td>18</td>\n",
       "      <td>22</td>\n",
       "      <td>31123</td>\n",
       "      <td>0.087489</td>\n",
       "      <td>5</td>\n",
       "      <td>1</td>\n",
       "      <td>-1609988100</td>\n",
       "      <td>997</td>\n",
       "      <td>34.602074</td>\n",
       "      <td>-4.543299</td>\n",
       "      <td>8577.8990</td>\n",
       "      <td>997</td>\n",
       "      <td>0</td>\n",
       "    </tr>\n",
       "    <tr>\n",
       "      <th>19</th>\n",
       "      <td>19</td>\n",
       "      <td>23</td>\n",
       "      <td>31123</td>\n",
       "      <td>-0.087489</td>\n",
       "      <td>6</td>\n",
       "      <td>1</td>\n",
       "      <td>-1609906890</td>\n",
       "      <td>997</td>\n",
       "      <td>34.602074</td>\n",
       "      <td>186.433430</td>\n",
       "      <td>8648.1010</td>\n",
       "      <td>997</td>\n",
       "      <td>0</td>\n",
       "    </tr>\n",
       "    <tr>\n",
       "      <th>20</th>\n",
       "      <td>20</td>\n",
       "      <td>24</td>\n",
       "      <td>31123</td>\n",
       "      <td>-0.000000</td>\n",
       "      <td>7</td>\n",
       "      <td>1</td>\n",
       "      <td>-1609842501</td>\n",
       "      <td>997</td>\n",
       "      <td>34.602074</td>\n",
       "      <td>51.215000</td>\n",
       "      <td>8717.9000</td>\n",
       "      <td>997</td>\n",
       "      <td>0</td>\n",
       "    </tr>\n",
       "    <tr>\n",
       "      <th>21</th>\n",
       "      <td>21</td>\n",
       "      <td>25</td>\n",
       "      <td>31123</td>\n",
       "      <td>-0.000000</td>\n",
       "      <td>8</td>\n",
       "      <td>1</td>\n",
       "      <td>-1609793043</td>\n",
       "      <td>997</td>\n",
       "      <td>34.602074</td>\n",
       "      <td>-129.460000</td>\n",
       "      <td>9193.1000</td>\n",
       "      <td>997</td>\n",
       "      <td>0</td>\n",
       "    </tr>\n",
       "    <tr>\n",
       "      <th>22</th>\n",
       "      <td>22</td>\n",
       "      <td>26</td>\n",
       "      <td>31123</td>\n",
       "      <td>0.087489</td>\n",
       "      <td>9</td>\n",
       "      <td>1</td>\n",
       "      <td>-1609726993</td>\n",
       "      <td>997</td>\n",
       "      <td>34.602074</td>\n",
       "      <td>-270.405000</td>\n",
       "      <td>9262.8990</td>\n",
       "      <td>997</td>\n",
       "      <td>0</td>\n",
       "    </tr>\n",
       "    <tr>\n",
       "      <th>23</th>\n",
       "      <td>23</td>\n",
       "      <td>27</td>\n",
       "      <td>31123</td>\n",
       "      <td>-0.087489</td>\n",
       "      <td>10</td>\n",
       "      <td>1</td>\n",
       "      <td>-1609662212</td>\n",
       "      <td>997</td>\n",
       "      <td>34.602074</td>\n",
       "      <td>-68.080080</td>\n",
       "      <td>9333.1010</td>\n",
       "      <td>997</td>\n",
       "      <td>0</td>\n",
       "    </tr>\n",
       "    <tr>\n",
       "      <th>24</th>\n",
       "      <td>24</td>\n",
       "      <td>28</td>\n",
       "      <td>31123</td>\n",
       "      <td>-0.000000</td>\n",
       "      <td>11</td>\n",
       "      <td>1</td>\n",
       "      <td>-1609595688</td>\n",
       "      <td>997</td>\n",
       "      <td>34.602074</td>\n",
       "      <td>-209.715010</td>\n",
       "      <td>9402.9000</td>\n",
       "      <td>997</td>\n",
       "      <td>0</td>\n",
       "    </tr>\n",
       "    <tr>\n",
       "      <th>25</th>\n",
       "      <td>25</td>\n",
       "      <td>32</td>\n",
       "      <td>31123</td>\n",
       "      <td>0.000000</td>\n",
       "      <td>0</td>\n",
       "      <td>0</td>\n",
       "      <td>-1610344978</td>\n",
       "      <td>1061</td>\n",
       "      <td>34.602074</td>\n",
       "      <td>-1198.815000</td>\n",
       "      <td>7826.0990</td>\n",
       "      <td>1061</td>\n",
       "      <td>0</td>\n",
       "    </tr>\n",
       "    <tr>\n",
       "      <th>26</th>\n",
       "      <td>26</td>\n",
       "      <td>33</td>\n",
       "      <td>31123</td>\n",
       "      <td>0.087489</td>\n",
       "      <td>1</td>\n",
       "      <td>0</td>\n",
       "      <td>-1610280399</td>\n",
       "      <td>1061</td>\n",
       "      <td>34.602074</td>\n",
       "      <td>-1211.561400</td>\n",
       "      <td>7895.9000</td>\n",
       "      <td>1061</td>\n",
       "      <td>0</td>\n",
       "    </tr>\n",
       "    <tr>\n",
       "      <th>27</th>\n",
       "      <td>27</td>\n",
       "      <td>34</td>\n",
       "      <td>31123</td>\n",
       "      <td>-0.087489</td>\n",
       "      <td>2</td>\n",
       "      <td>0</td>\n",
       "      <td>-1610214144</td>\n",
       "      <td>1061</td>\n",
       "      <td>34.602074</td>\n",
       "      <td>-1263.930700</td>\n",
       "      <td>7966.1000</td>\n",
       "      <td>1061</td>\n",
       "      <td>0</td>\n",
       "    </tr>\n",
       "    <tr>\n",
       "      <th>28</th>\n",
       "      <td>28</td>\n",
       "      <td>35</td>\n",
       "      <td>31123</td>\n",
       "      <td>0.000000</td>\n",
       "      <td>3</td>\n",
       "      <td>0</td>\n",
       "      <td>-1610149054</td>\n",
       "      <td>1061</td>\n",
       "      <td>34.602074</td>\n",
       "      <td>-1276.684900</td>\n",
       "      <td>8035.9010</td>\n",
       "      <td>1061</td>\n",
       "      <td>0</td>\n",
       "    </tr>\n",
       "    <tr>\n",
       "      <th>29</th>\n",
       "      <td>29</td>\n",
       "      <td>36</td>\n",
       "      <td>31123</td>\n",
       "      <td>0.000000</td>\n",
       "      <td>4</td>\n",
       "      <td>0</td>\n",
       "      <td>-1610083839</td>\n",
       "      <td>1061</td>\n",
       "      <td>34.602074</td>\n",
       "      <td>-1455.185000</td>\n",
       "      <td>8508.1000</td>\n",
       "      <td>1061</td>\n",
       "      <td>0</td>\n",
       "    </tr>\n",
       "  </tbody>\n",
       "</table>\n",
       "</div>"
      ],
      "text/plain": [
       "    Unnamed: 0  Unnamed: 0.1  eventID   FT_dxdy  FT_hitPlaneCode  FT_hitzone  \\\n",
       "0            0             4    31123 -0.000000                0           1   \n",
       "1            1             5    31123  0.087489                1           1   \n",
       "2            2             6    31123 -0.087489                2           1   \n",
       "3            3             7    31123 -0.087489                2           1   \n",
       "4            4             8    31123 -0.000000                3           1   \n",
       "5            5             9    31123 -0.000000                4           1   \n",
       "6            6            10    31123  0.087489                5           1   \n",
       "7            7            11    31123 -0.087489                6           1   \n",
       "8            8            12    31123 -0.000000                7           1   \n",
       "9            9            13    31123 -0.000000                8           1   \n",
       "10          10            14    31123  0.087489                9           1   \n",
       "11          11            15    31123 -0.087489               10           1   \n",
       "12          12            16    31123 -0.000000               11           1   \n",
       "13          13            17    31123 -0.000000                0           1   \n",
       "14          14            18    31123  0.087489                1           1   \n",
       "15          15            19    31123 -0.087489                2           1   \n",
       "16          16            20    31123 -0.000000                3           1   \n",
       "17          17            21    31123 -0.000000                4           1   \n",
       "18          18            22    31123  0.087489                5           1   \n",
       "19          19            23    31123 -0.087489                6           1   \n",
       "20          20            24    31123 -0.000000                7           1   \n",
       "21          21            25    31123 -0.000000                8           1   \n",
       "22          22            26    31123  0.087489                9           1   \n",
       "23          23            27    31123 -0.087489               10           1   \n",
       "24          24            28    31123 -0.000000               11           1   \n",
       "25          25            32    31123  0.000000                0           0   \n",
       "26          26            33    31123  0.087489                1           0   \n",
       "27          27            34    31123 -0.087489                2           0   \n",
       "28          28            35    31123  0.000000                3           0   \n",
       "29          29            36    31123  0.000000                4           0   \n",
       "\n",
       "     FT_lhcbID  FT_particle_key        FT_w         FT_x       FT_z  \\\n",
       "0  -1610315668             1518   34.602074  -561.110000  7826.0990   \n",
       "1  -1610248364             1518   34.602074  -579.305500  7895.9000   \n",
       "2  -1610184504             1518  400.000000  -587.054930  7966.1000   \n",
       "3  -1610184507             1518  400.000000  -586.302060  7966.0996   \n",
       "4  -1610117403             1518   34.602074  -605.665000  8035.9010   \n",
       "5  -1610052948             1518   34.602074  -708.389950  8508.1000   \n",
       "6  -1609986799             1518   34.602074  -727.765400  8577.9000   \n",
       "7  -1609921781             1518   34.602074  -735.650400  8648.1010   \n",
       "8  -1609855846             1518   11.890608  -755.310000  8717.9000   \n",
       "9  -1609790205             1518   34.602074  -861.640000  9193.1000   \n",
       "10 -1609725253             1518   34.602074  -881.349800  9262.8990   \n",
       "11 -1609659037             1518   34.602074  -889.129460  9333.1010   \n",
       "12 -1609594303             1518   34.602074  -908.965000  9402.9000   \n",
       "13 -1610300863              997   34.602074   378.965000  7826.0990   \n",
       "14 -1610234935              997   34.602074   252.208710  7895.9000   \n",
       "15 -1610169989              997   34.602074   431.495970  7966.1000   \n",
       "16 -1610103656              997   25.000000   304.065000  8035.9010   \n",
       "17 -1610037745              997   34.602074   130.085000  8508.1000   \n",
       "18 -1609988100              997   34.602074    -4.543299  8577.8990   \n",
       "19 -1609906890              997   34.602074   186.433430  8648.1010   \n",
       "20 -1609842501              997   34.602074    51.215000  8717.9000   \n",
       "21 -1609793043              997   34.602074  -129.460000  9193.1000   \n",
       "22 -1609726993              997   34.602074  -270.405000  9262.8990   \n",
       "23 -1609662212              997   34.602074   -68.080080  9333.1010   \n",
       "24 -1609595688              997   34.602074  -209.715010  9402.9000   \n",
       "25 -1610344978             1061   34.602074 -1198.815000  7826.0990   \n",
       "26 -1610280399             1061   34.602074 -1211.561400  7895.9000   \n",
       "27 -1610214144             1061   34.602074 -1263.930700  7966.1000   \n",
       "28 -1610149054             1061   34.602074 -1276.684900  8035.9010   \n",
       "29 -1610083839             1061   34.602074 -1455.185000  8508.1000   \n",
       "\n",
       "    particle_key  particle_isDown_noVelo  \n",
       "0           1518                       0  \n",
       "1           1518                       0  \n",
       "2           1518                       0  \n",
       "3           1518                       0  \n",
       "4           1518                       0  \n",
       "5           1518                       0  \n",
       "6           1518                       0  \n",
       "7           1518                       0  \n",
       "8           1518                       0  \n",
       "9           1518                       0  \n",
       "10          1518                       0  \n",
       "11          1518                       0  \n",
       "12          1518                       0  \n",
       "13           997                       0  \n",
       "14           997                       0  \n",
       "15           997                       0  \n",
       "16           997                       0  \n",
       "17           997                       0  \n",
       "18           997                       0  \n",
       "19           997                       0  \n",
       "20           997                       0  \n",
       "21           997                       0  \n",
       "22           997                       0  \n",
       "23           997                       0  \n",
       "24           997                       0  \n",
       "25          1061                       0  \n",
       "26          1061                       0  \n",
       "27          1061                       0  \n",
       "28          1061                       0  \n",
       "29          1061                       0  "
      ]
     },
     "execution_count": 4,
     "metadata": {},
     "output_type": "execute_result"
    }
   ],
   "source": [
    "data.head(30)"
   ]
  },
  {
   "cell_type": "code",
   "execution_count": 5,
   "metadata": {},
   "outputs": [
    {
     "data": {
      "text/plain": [
       "75418582"
      ]
     },
     "execution_count": 5,
     "metadata": {},
     "output_type": "execute_result"
    }
   ],
   "source": [
    "len(data)"
   ]
  },
  {
   "cell_type": "markdown",
   "metadata": {},
   "source": [
    "\n",
    "checking whether FT_z uniquely define hitPlaneCode and therefore this variable can be removed.\n",
    "Thanks to pandas this check can be done via one simple method. "
   ]
  },
  {
   "cell_type": "code",
   "execution_count": 6,
   "metadata": {},
   "outputs": [
    {
     "data": {
      "text/plain": [
       "10998009"
      ]
     },
     "execution_count": 6,
     "metadata": {},
     "output_type": "execute_result"
    }
   ],
   "source": [
    "len(data[data.particle_isDown_noVelo == 1])"
   ]
  },
  {
   "cell_type": "code",
   "execution_count": 58,
   "metadata": {},
   "outputs": [
    {
     "data": {
      "text/plain": [
       "FT_hitPlaneCode\n",
       "0                                [7826.099]\n",
       "1            [7895.9, 7895.9004, 7895.8994]\n",
       "2            [7966.1, 7966.0996, 7966.1006]\n",
       "3                                [8035.901]\n",
       "4                                  [8508.1]\n",
       "5     [8577.9, 8577.899, 8577.898000000001]\n",
       "6     [8648.101, 8648.1, 8648.101999999999]\n",
       "7                                  [8717.9]\n",
       "8                                  [9193.1]\n",
       "9              [9262.899, 9262.9, 9262.898]\n",
       "10             [9333.101, 9333.1, 9333.102]\n",
       "11                                 [9402.9]\n",
       "Name: FT_z, dtype: object"
      ]
     },
     "execution_count": 58,
     "metadata": {},
     "output_type": "execute_result"
    }
   ],
   "source": [
    "data.groupby(\"FT_hitPlaneCode\")[\"FT_z\"].unique()"
   ]
  },
  {
   "cell_type": "code",
   "execution_count": 17,
   "metadata": {},
   "outputs": [],
   "source": [
    "data_with_plane_count =  data_with_track_id.groupby(\"track_index\").FT_hitPlaneCode.count().reset_index()"
   ]
  },
  {
   "cell_type": "code",
   "execution_count": 18,
   "metadata": {},
   "outputs": [],
   "source": [
    "data_with_plane_count.rename(columns={\"FT_hitPlaneCode\":\"FT_hitPlane_count\"}, inplace=True)"
   ]
  },
  {
   "cell_type": "code",
   "execution_count": 19,
   "metadata": {},
   "outputs": [
    {
     "data": {
      "text/html": [
       "<div>\n",
       "<style scoped>\n",
       "    .dataframe tbody tr th:only-of-type {\n",
       "        vertical-align: middle;\n",
       "    }\n",
       "\n",
       "    .dataframe tbody tr th {\n",
       "        vertical-align: top;\n",
       "    }\n",
       "\n",
       "    .dataframe thead th {\n",
       "        text-align: right;\n",
       "    }\n",
       "</style>\n",
       "<table border=\"1\" class=\"dataframe\">\n",
       "  <thead>\n",
       "    <tr style=\"text-align: right;\">\n",
       "      <th></th>\n",
       "      <th>track_index</th>\n",
       "      <th>FT_hitPlane_count</th>\n",
       "    </tr>\n",
       "  </thead>\n",
       "  <tbody>\n",
       "    <tr>\n",
       "      <th>0</th>\n",
       "      <td>0</td>\n",
       "      <td>13</td>\n",
       "    </tr>\n",
       "    <tr>\n",
       "      <th>1</th>\n",
       "      <td>1</td>\n",
       "      <td>12</td>\n",
       "    </tr>\n",
       "    <tr>\n",
       "      <th>2</th>\n",
       "      <td>2</td>\n",
       "      <td>12</td>\n",
       "    </tr>\n",
       "    <tr>\n",
       "      <th>3</th>\n",
       "      <td>3</td>\n",
       "      <td>11</td>\n",
       "    </tr>\n",
       "    <tr>\n",
       "      <th>4</th>\n",
       "      <td>4</td>\n",
       "      <td>12</td>\n",
       "    </tr>\n",
       "  </tbody>\n",
       "</table>\n",
       "</div>"
      ],
      "text/plain": [
       "   track_index  FT_hitPlane_count\n",
       "0            0                 13\n",
       "1            1                 12\n",
       "2            2                 12\n",
       "3            3                 11\n",
       "4            4                 12"
      ]
     },
     "execution_count": 19,
     "metadata": {},
     "output_type": "execute_result"
    }
   ],
   "source": [
    "data_with_plane_count.head()"
   ]
  },
  {
   "cell_type": "code",
   "execution_count": 20,
   "metadata": {},
   "outputs": [],
   "source": [
    "data_with_track_id = data_with_track_id.merge(data_with_plane_count, on=\"track_index\")"
   ]
  },
  {
   "cell_type": "code",
   "execution_count": 21,
   "metadata": {},
   "outputs": [
    {
     "data": {
      "text/html": [
       "<div>\n",
       "<style scoped>\n",
       "    .dataframe tbody tr th:only-of-type {\n",
       "        vertical-align: middle;\n",
       "    }\n",
       "\n",
       "    .dataframe tbody tr th {\n",
       "        vertical-align: top;\n",
       "    }\n",
       "\n",
       "    .dataframe thead th {\n",
       "        text-align: right;\n",
       "    }\n",
       "</style>\n",
       "<table border=\"1\" class=\"dataframe\">\n",
       "  <thead>\n",
       "    <tr style=\"text-align: right;\">\n",
       "      <th></th>\n",
       "      <th>Unnamed: 0</th>\n",
       "      <th>Unnamed: 0.1</th>\n",
       "      <th>eventID</th>\n",
       "      <th>FT_dxdy</th>\n",
       "      <th>FT_hitPlaneCode</th>\n",
       "      <th>FT_hitzone</th>\n",
       "      <th>FT_lhcbID</th>\n",
       "      <th>FT_particle_key</th>\n",
       "      <th>FT_w</th>\n",
       "      <th>FT_x</th>\n",
       "      <th>FT_z</th>\n",
       "      <th>particle_key</th>\n",
       "      <th>particle_isDown_noVelo</th>\n",
       "      <th>track_index</th>\n",
       "      <th>FT_hitPlane_count</th>\n",
       "    </tr>\n",
       "  </thead>\n",
       "  <tbody>\n",
       "    <tr>\n",
       "      <th>2008192</th>\n",
       "      <td>266245</td>\n",
       "      <td>6920949</td>\n",
       "      <td>35928</td>\n",
       "      <td>0.000000</td>\n",
       "      <td>0</td>\n",
       "      <td>0</td>\n",
       "      <td>-1610324762</td>\n",
       "      <td>7495</td>\n",
       "      <td>34.602074</td>\n",
       "      <td>2443.9100</td>\n",
       "      <td>7826.099</td>\n",
       "      <td>7495</td>\n",
       "      <td>0</td>\n",
       "      <td>171264</td>\n",
       "      <td>23</td>\n",
       "    </tr>\n",
       "    <tr>\n",
       "      <th>2008193</th>\n",
       "      <td>266246</td>\n",
       "      <td>6920950</td>\n",
       "      <td>35928</td>\n",
       "      <td>0.000000</td>\n",
       "      <td>0</td>\n",
       "      <td>0</td>\n",
       "      <td>-1610324759</td>\n",
       "      <td>7495</td>\n",
       "      <td>34.602074</td>\n",
       "      <td>2444.6600</td>\n",
       "      <td>7826.099</td>\n",
       "      <td>7495</td>\n",
       "      <td>0</td>\n",
       "      <td>171264</td>\n",
       "      <td>23</td>\n",
       "    </tr>\n",
       "    <tr>\n",
       "      <th>2008194</th>\n",
       "      <td>266247</td>\n",
       "      <td>6920951</td>\n",
       "      <td>35928</td>\n",
       "      <td>0.000000</td>\n",
       "      <td>0</td>\n",
       "      <td>0</td>\n",
       "      <td>-1610324755</td>\n",
       "      <td>7495</td>\n",
       "      <td>34.602074</td>\n",
       "      <td>2445.6600</td>\n",
       "      <td>7826.099</td>\n",
       "      <td>7495</td>\n",
       "      <td>0</td>\n",
       "      <td>171264</td>\n",
       "      <td>23</td>\n",
       "    </tr>\n",
       "    <tr>\n",
       "      <th>2008195</th>\n",
       "      <td>266248</td>\n",
       "      <td>6920952</td>\n",
       "      <td>35928</td>\n",
       "      <td>-0.000000</td>\n",
       "      <td>0</td>\n",
       "      <td>1</td>\n",
       "      <td>-1610293814</td>\n",
       "      <td>7495</td>\n",
       "      <td>34.602074</td>\n",
       "      <td>1737.8150</td>\n",
       "      <td>7826.099</td>\n",
       "      <td>7495</td>\n",
       "      <td>0</td>\n",
       "      <td>171264</td>\n",
       "      <td>23</td>\n",
       "    </tr>\n",
       "    <tr>\n",
       "      <th>2008196</th>\n",
       "      <td>266249</td>\n",
       "      <td>6920953</td>\n",
       "      <td>35928</td>\n",
       "      <td>0.087489</td>\n",
       "      <td>1</td>\n",
       "      <td>1</td>\n",
       "      <td>-1610229045</td>\n",
       "      <td>7495</td>\n",
       "      <td>34.602074</td>\n",
       "      <td>1783.0089</td>\n",
       "      <td>7895.900</td>\n",
       "      <td>7495</td>\n",
       "      <td>0</td>\n",
       "      <td>171264</td>\n",
       "      <td>23</td>\n",
       "    </tr>\n",
       "    <tr>\n",
       "      <th>...</th>\n",
       "      <td>...</td>\n",
       "      <td>...</td>\n",
       "      <td>...</td>\n",
       "      <td>...</td>\n",
       "      <td>...</td>\n",
       "      <td>...</td>\n",
       "      <td>...</td>\n",
       "      <td>...</td>\n",
       "      <td>...</td>\n",
       "      <td>...</td>\n",
       "      <td>...</td>\n",
       "      <td>...</td>\n",
       "      <td>...</td>\n",
       "      <td>...</td>\n",
       "      <td>...</td>\n",
       "    </tr>\n",
       "    <tr>\n",
       "      <th>13497422</th>\n",
       "      <td>196989</td>\n",
       "      <td>46680175</td>\n",
       "      <td>55543</td>\n",
       "      <td>0.000000</td>\n",
       "      <td>11</td>\n",
       "      <td>0</td>\n",
       "      <td>-1609607171</td>\n",
       "      <td>9621</td>\n",
       "      <td>400.000000</td>\n",
       "      <td>1064.1400</td>\n",
       "      <td>9402.900</td>\n",
       "      <td>9621</td>\n",
       "      <td>0</td>\n",
       "      <td>1150941</td>\n",
       "      <td>32</td>\n",
       "    </tr>\n",
       "    <tr>\n",
       "      <th>13497423</th>\n",
       "      <td>196990</td>\n",
       "      <td>46680176</td>\n",
       "      <td>55543</td>\n",
       "      <td>0.000000</td>\n",
       "      <td>11</td>\n",
       "      <td>0</td>\n",
       "      <td>-1609607175</td>\n",
       "      <td>9621</td>\n",
       "      <td>400.000000</td>\n",
       "      <td>1065.1400</td>\n",
       "      <td>9402.900</td>\n",
       "      <td>9621</td>\n",
       "      <td>0</td>\n",
       "      <td>1150941</td>\n",
       "      <td>32</td>\n",
       "    </tr>\n",
       "    <tr>\n",
       "      <th>13497424</th>\n",
       "      <td>196991</td>\n",
       "      <td>46680177</td>\n",
       "      <td>55543</td>\n",
       "      <td>0.000000</td>\n",
       "      <td>11</td>\n",
       "      <td>0</td>\n",
       "      <td>-1609607179</td>\n",
       "      <td>9621</td>\n",
       "      <td>400.000000</td>\n",
       "      <td>1066.1400</td>\n",
       "      <td>9402.900</td>\n",
       "      <td>9621</td>\n",
       "      <td>0</td>\n",
       "      <td>1150941</td>\n",
       "      <td>32</td>\n",
       "    </tr>\n",
       "    <tr>\n",
       "      <th>13497425</th>\n",
       "      <td>196992</td>\n",
       "      <td>46680178</td>\n",
       "      <td>55543</td>\n",
       "      <td>0.000000</td>\n",
       "      <td>11</td>\n",
       "      <td>0</td>\n",
       "      <td>-1609607611</td>\n",
       "      <td>9621</td>\n",
       "      <td>18.903591</td>\n",
       "      <td>1176.2400</td>\n",
       "      <td>9402.900</td>\n",
       "      <td>9621</td>\n",
       "      <td>0</td>\n",
       "      <td>1150941</td>\n",
       "      <td>32</td>\n",
       "    </tr>\n",
       "    <tr>\n",
       "      <th>13497426</th>\n",
       "      <td>196993</td>\n",
       "      <td>46680179</td>\n",
       "      <td>55543</td>\n",
       "      <td>0.000000</td>\n",
       "      <td>11</td>\n",
       "      <td>0</td>\n",
       "      <td>-1609607615</td>\n",
       "      <td>9621</td>\n",
       "      <td>400.000000</td>\n",
       "      <td>1177.3650</td>\n",
       "      <td>9402.900</td>\n",
       "      <td>9621</td>\n",
       "      <td>0</td>\n",
       "      <td>1150941</td>\n",
       "      <td>32</td>\n",
       "    </tr>\n",
       "  </tbody>\n",
       "</table>\n",
       "<p>200 rows × 15 columns</p>\n",
       "</div>"
      ],
      "text/plain": [
       "          Unnamed: 0  Unnamed: 0.1  eventID   FT_dxdy  FT_hitPlaneCode  \\\n",
       "2008192       266245       6920949    35928  0.000000                0   \n",
       "2008193       266246       6920950    35928  0.000000                0   \n",
       "2008194       266247       6920951    35928  0.000000                0   \n",
       "2008195       266248       6920952    35928 -0.000000                0   \n",
       "2008196       266249       6920953    35928  0.087489                1   \n",
       "...              ...           ...      ...       ...              ...   \n",
       "13497422      196989      46680175    55543  0.000000               11   \n",
       "13497423      196990      46680176    55543  0.000000               11   \n",
       "13497424      196991      46680177    55543  0.000000               11   \n",
       "13497425      196992      46680178    55543  0.000000               11   \n",
       "13497426      196993      46680179    55543  0.000000               11   \n",
       "\n",
       "          FT_hitzone   FT_lhcbID  FT_particle_key        FT_w       FT_x  \\\n",
       "2008192            0 -1610324762             7495   34.602074  2443.9100   \n",
       "2008193            0 -1610324759             7495   34.602074  2444.6600   \n",
       "2008194            0 -1610324755             7495   34.602074  2445.6600   \n",
       "2008195            1 -1610293814             7495   34.602074  1737.8150   \n",
       "2008196            1 -1610229045             7495   34.602074  1783.0089   \n",
       "...              ...         ...              ...         ...        ...   \n",
       "13497422           0 -1609607171             9621  400.000000  1064.1400   \n",
       "13497423           0 -1609607175             9621  400.000000  1065.1400   \n",
       "13497424           0 -1609607179             9621  400.000000  1066.1400   \n",
       "13497425           0 -1609607611             9621   18.903591  1176.2400   \n",
       "13497426           0 -1609607615             9621  400.000000  1177.3650   \n",
       "\n",
       "              FT_z  particle_key  particle_isDown_noVelo  track_index  \\\n",
       "2008192   7826.099          7495                       0       171264   \n",
       "2008193   7826.099          7495                       0       171264   \n",
       "2008194   7826.099          7495                       0       171264   \n",
       "2008195   7826.099          7495                       0       171264   \n",
       "2008196   7895.900          7495                       0       171264   \n",
       "...            ...           ...                     ...          ...   \n",
       "13497422  9402.900          9621                       0      1150941   \n",
       "13497423  9402.900          9621                       0      1150941   \n",
       "13497424  9402.900          9621                       0      1150941   \n",
       "13497425  9402.900          9621                       0      1150941   \n",
       "13497426  9402.900          9621                       0      1150941   \n",
       "\n",
       "          FT_hitPlane_count  \n",
       "2008192                  23  \n",
       "2008193                  23  \n",
       "2008194                  23  \n",
       "2008195                  23  \n",
       "2008196                  23  \n",
       "...                     ...  \n",
       "13497422                 32  \n",
       "13497423                 32  \n",
       "13497424                 32  \n",
       "13497425                 32  \n",
       "13497426                 32  \n",
       "\n",
       "[200 rows x 15 columns]"
      ]
     },
     "execution_count": 21,
     "metadata": {},
     "output_type": "execute_result"
    }
   ],
   "source": [
    "data_with_track_id[data_with_track_id.FT_hitPlane_count>20].head(200)"
   ]
  },
  {
   "cell_type": "code",
   "execution_count": 52,
   "metadata": {},
   "outputs": [
    {
     "data": {
      "text/html": [
       "<div>\n",
       "<style scoped>\n",
       "    .dataframe tbody tr th:only-of-type {\n",
       "        vertical-align: middle;\n",
       "    }\n",
       "\n",
       "    .dataframe tbody tr th {\n",
       "        vertical-align: top;\n",
       "    }\n",
       "\n",
       "    .dataframe thead th {\n",
       "        text-align: right;\n",
       "    }\n",
       "</style>\n",
       "<table border=\"1\" class=\"dataframe\">\n",
       "  <thead>\n",
       "    <tr style=\"text-align: right;\">\n",
       "      <th></th>\n",
       "      <th>Unnamed: 0</th>\n",
       "      <th>Unnamed: 0.1</th>\n",
       "      <th>eventID</th>\n",
       "      <th>FT_dxdy</th>\n",
       "      <th>FT_hitPlaneCode</th>\n",
       "      <th>FT_hitzone</th>\n",
       "      <th>FT_lhcbID</th>\n",
       "      <th>FT_particle_key</th>\n",
       "      <th>FT_w</th>\n",
       "      <th>FT_x</th>\n",
       "      <th>FT_z</th>\n",
       "      <th>particle_key</th>\n",
       "      <th>particle_isDown_noVelo</th>\n",
       "      <th>track_index</th>\n",
       "      <th>FT_hitPlane_count</th>\n",
       "    </tr>\n",
       "  </thead>\n",
       "  <tbody>\n",
       "    <tr>\n",
       "      <th>251</th>\n",
       "      <td>251</td>\n",
       "      <td>751</td>\n",
       "      <td>31123</td>\n",
       "      <td>0.087489</td>\n",
       "      <td>1</td>\n",
       "      <td>1</td>\n",
       "      <td>-1610250759</td>\n",
       "      <td>1846</td>\n",
       "      <td>34.602074</td>\n",
       "      <td>-136.470320</td>\n",
       "      <td>7895.900</td>\n",
       "      <td>1846</td>\n",
       "      <td>0</td>\n",
       "      <td>21</td>\n",
       "      <td>10</td>\n",
       "    </tr>\n",
       "    <tr>\n",
       "      <th>252</th>\n",
       "      <td>252</td>\n",
       "      <td>752</td>\n",
       "      <td>31123</td>\n",
       "      <td>-0.087489</td>\n",
       "      <td>2</td>\n",
       "      <td>1</td>\n",
       "      <td>-1610186294</td>\n",
       "      <td>1846</td>\n",
       "      <td>34.602074</td>\n",
       "      <td>-121.182144</td>\n",
       "      <td>7966.100</td>\n",
       "      <td>1846</td>\n",
       "      <td>0</td>\n",
       "      <td>21</td>\n",
       "      <td>10</td>\n",
       "    </tr>\n",
       "    <tr>\n",
       "      <th>253</th>\n",
       "      <td>253</td>\n",
       "      <td>753</td>\n",
       "      <td>31123</td>\n",
       "      <td>-0.000000</td>\n",
       "      <td>4</td>\n",
       "      <td>1</td>\n",
       "      <td>-1610055083</td>\n",
       "      <td>1846</td>\n",
       "      <td>34.602074</td>\n",
       "      <td>-156.035000</td>\n",
       "      <td>8508.100</td>\n",
       "      <td>1846</td>\n",
       "      <td>0</td>\n",
       "      <td>21</td>\n",
       "      <td>10</td>\n",
       "    </tr>\n",
       "    <tr>\n",
       "      <th>254</th>\n",
       "      <td>254</td>\n",
       "      <td>754</td>\n",
       "      <td>31123</td>\n",
       "      <td>0.087489</td>\n",
       "      <td>5</td>\n",
       "      <td>1</td>\n",
       "      <td>-1609988742</td>\n",
       "      <td>1846</td>\n",
       "      <td>34.602074</td>\n",
       "      <td>-169.169770</td>\n",
       "      <td>8577.899</td>\n",
       "      <td>1846</td>\n",
       "      <td>0</td>\n",
       "      <td>21</td>\n",
       "      <td>10</td>\n",
       "    </tr>\n",
       "    <tr>\n",
       "      <th>255</th>\n",
       "      <td>255</td>\n",
       "      <td>755</td>\n",
       "      <td>31123</td>\n",
       "      <td>-0.087489</td>\n",
       "      <td>6</td>\n",
       "      <td>1</td>\n",
       "      <td>-1609924027</td>\n",
       "      <td>1846</td>\n",
       "      <td>34.602074</td>\n",
       "      <td>-152.626800</td>\n",
       "      <td>8648.101</td>\n",
       "      <td>1846</td>\n",
       "      <td>0</td>\n",
       "      <td>21</td>\n",
       "      <td>10</td>\n",
       "    </tr>\n",
       "    <tr>\n",
       "      <th>...</th>\n",
       "      <td>...</td>\n",
       "      <td>...</td>\n",
       "      <td>...</td>\n",
       "      <td>...</td>\n",
       "      <td>...</td>\n",
       "      <td>...</td>\n",
       "      <td>...</td>\n",
       "      <td>...</td>\n",
       "      <td>...</td>\n",
       "      <td>...</td>\n",
       "      <td>...</td>\n",
       "      <td>...</td>\n",
       "      <td>...</td>\n",
       "      <td>...</td>\n",
       "      <td>...</td>\n",
       "    </tr>\n",
       "    <tr>\n",
       "      <th>75418411</th>\n",
       "      <td>88556</td>\n",
       "      <td>260313266</td>\n",
       "      <td>91637</td>\n",
       "      <td>0.000000</td>\n",
       "      <td>7</td>\n",
       "      <td>0</td>\n",
       "      <td>-1609872343</td>\n",
       "      <td>2086</td>\n",
       "      <td>34.602074</td>\n",
       "      <td>784.385000</td>\n",
       "      <td>8717.900</td>\n",
       "      <td>2086</td>\n",
       "      <td>0</td>\n",
       "      <td>6431422</td>\n",
       "      <td>10</td>\n",
       "    </tr>\n",
       "    <tr>\n",
       "      <th>75418412</th>\n",
       "      <td>88557</td>\n",
       "      <td>260313267</td>\n",
       "      <td>91637</td>\n",
       "      <td>0.000000</td>\n",
       "      <td>8</td>\n",
       "      <td>0</td>\n",
       "      <td>-1609806256</td>\n",
       "      <td>2086</td>\n",
       "      <td>34.602074</td>\n",
       "      <td>946.510000</td>\n",
       "      <td>9193.100</td>\n",
       "      <td>2086</td>\n",
       "      <td>0</td>\n",
       "      <td>6431422</td>\n",
       "      <td>10</td>\n",
       "    </tr>\n",
       "    <tr>\n",
       "      <th>75418413</th>\n",
       "      <td>88558</td>\n",
       "      <td>260313268</td>\n",
       "      <td>91637</td>\n",
       "      <td>0.087489</td>\n",
       "      <td>9</td>\n",
       "      <td>0</td>\n",
       "      <td>-1609742103</td>\n",
       "      <td>2086</td>\n",
       "      <td>34.602074</td>\n",
       "      <td>1000.862600</td>\n",
       "      <td>9262.899</td>\n",
       "      <td>2086</td>\n",
       "      <td>0</td>\n",
       "      <td>6431422</td>\n",
       "      <td>10</td>\n",
       "    </tr>\n",
       "    <tr>\n",
       "      <th>75418414</th>\n",
       "      <td>88559</td>\n",
       "      <td>260313269</td>\n",
       "      <td>91637</td>\n",
       "      <td>-0.087489</td>\n",
       "      <td>10</td>\n",
       "      <td>0</td>\n",
       "      <td>-1609675130</td>\n",
       "      <td>2086</td>\n",
       "      <td>34.602074</td>\n",
       "      <td>964.147900</td>\n",
       "      <td>9333.101</td>\n",
       "      <td>2086</td>\n",
       "      <td>0</td>\n",
       "      <td>6431422</td>\n",
       "      <td>10</td>\n",
       "    </tr>\n",
       "    <tr>\n",
       "      <th>75418415</th>\n",
       "      <td>88560</td>\n",
       "      <td>260313270</td>\n",
       "      <td>91637</td>\n",
       "      <td>0.000000</td>\n",
       "      <td>11</td>\n",
       "      <td>0</td>\n",
       "      <td>-1609611117</td>\n",
       "      <td>2086</td>\n",
       "      <td>34.602074</td>\n",
       "      <td>1018.785030</td>\n",
       "      <td>9402.900</td>\n",
       "      <td>2086</td>\n",
       "      <td>0</td>\n",
       "      <td>6431422</td>\n",
       "      <td>10</td>\n",
       "    </tr>\n",
       "  </tbody>\n",
       "</table>\n",
       "<p>2987840 rows × 15 columns</p>\n",
       "</div>"
      ],
      "text/plain": [
       "          Unnamed: 0  Unnamed: 0.1  eventID   FT_dxdy  FT_hitPlaneCode  \\\n",
       "251              251           751    31123  0.087489                1   \n",
       "252              252           752    31123 -0.087489                2   \n",
       "253              253           753    31123 -0.000000                4   \n",
       "254              254           754    31123  0.087489                5   \n",
       "255              255           755    31123 -0.087489                6   \n",
       "...              ...           ...      ...       ...              ...   \n",
       "75418411       88556     260313266    91637  0.000000                7   \n",
       "75418412       88557     260313267    91637  0.000000                8   \n",
       "75418413       88558     260313268    91637  0.087489                9   \n",
       "75418414       88559     260313269    91637 -0.087489               10   \n",
       "75418415       88560     260313270    91637  0.000000               11   \n",
       "\n",
       "          FT_hitzone   FT_lhcbID  FT_particle_key       FT_w         FT_x  \\\n",
       "251                1 -1610250759             1846  34.602074  -136.470320   \n",
       "252                1 -1610186294             1846  34.602074  -121.182144   \n",
       "253                1 -1610055083             1846  34.602074  -156.035000   \n",
       "254                1 -1609988742             1846  34.602074  -169.169770   \n",
       "255                1 -1609924027             1846  34.602074  -152.626800   \n",
       "...              ...         ...              ...        ...          ...   \n",
       "75418411           0 -1609872343             2086  34.602074   784.385000   \n",
       "75418412           0 -1609806256             2086  34.602074   946.510000   \n",
       "75418413           0 -1609742103             2086  34.602074  1000.862600   \n",
       "75418414           0 -1609675130             2086  34.602074   964.147900   \n",
       "75418415           0 -1609611117             2086  34.602074  1018.785030   \n",
       "\n",
       "              FT_z  particle_key  particle_isDown_noVelo  track_index  \\\n",
       "251       7895.900          1846                       0           21   \n",
       "252       7966.100          1846                       0           21   \n",
       "253       8508.100          1846                       0           21   \n",
       "254       8577.899          1846                       0           21   \n",
       "255       8648.101          1846                       0           21   \n",
       "...            ...           ...                     ...          ...   \n",
       "75418411  8717.900          2086                       0      6431422   \n",
       "75418412  9193.100          2086                       0      6431422   \n",
       "75418413  9262.899          2086                       0      6431422   \n",
       "75418414  9333.101          2086                       0      6431422   \n",
       "75418415  9402.900          2086                       0      6431422   \n",
       "\n",
       "          FT_hitPlane_count  \n",
       "251                      10  \n",
       "252                      10  \n",
       "253                      10  \n",
       "254                      10  \n",
       "255                      10  \n",
       "...                     ...  \n",
       "75418411                 10  \n",
       "75418412                 10  \n",
       "75418413                 10  \n",
       "75418414                 10  \n",
       "75418415                 10  \n",
       "\n",
       "[2987840 rows x 15 columns]"
      ]
     },
     "execution_count": 52,
     "metadata": {},
     "output_type": "execute_result"
    }
   ],
   "source": [
    "data_with_track_id[data_with_track_id.FT_hitPlane_count ==10]"
   ]
  },
  {
   "cell_type": "code",
   "execution_count": 29,
   "metadata": {},
   "outputs": [],
   "source": [
    "data_with_track_id = data_with_track_id[data_with_track_id.FT_hitPlane_count > 11 ]"
   ]
  },
  {
   "cell_type": "code",
   "execution_count": 32,
   "metadata": {},
   "outputs": [
    {
     "data": {
      "text/plain": [
       "54860320"
      ]
     },
     "execution_count": 32,
     "metadata": {},
     "output_type": "execute_result"
    }
   ],
   "source": [
    "len(data_with_track_id)"
   ]
  },
  {
   "cell_type": "code",
   "execution_count": 18,
   "metadata": {},
   "outputs": [
    {
     "data": {
      "image/png": "[encoded data removed]",
      "text/plain": [
       "<Figure size 432x288 with 1 Axes>"
      ]
     },
     "metadata": {
      "needs_background": "light"
     },
     "output_type": "display_data"
    }
   ],
   "source": [
    "fig, ax = plt.subplots()\n",
    "features.groupby(\"track_index\").FT_hitPlaneCode.count().hist(ax=ax);\n",
    "ax.set_yscale('log') \n",
    "# wtf?!"
   ]
  },
  {
   "cell_type": "code",
   "execution_count": 28,
   "metadata": {},
   "outputs": [
    {
     "data": {
      "image/png": "[encoded data removed]",
      "text/plain": [
       "<Figure size 432x288 with 1 Axes>"
      ]
     },
     "metadata": {
      "needs_background": "light"
     },
     "output_type": "display_data"
    }
   ],
   "source": [
    "fig, ax = plt.subplots()\n",
    "features.groupby(\"track_index\").FT_hitPlaneCode.nunique().hist(ax=ax);\n",
    "ax.set_yscale('log') \n"
   ]
  },
  {
   "cell_type": "code",
   "execution_count": 13,
   "metadata": {},
   "outputs": [
    {
     "data": {
      "text/plain": [
       "array([7826.099 , 7895.9   , 7966.1   , 7966.0996, 8035.901 , 8508.1   ,\n",
       "       8577.9   , 8648.101 , 8717.9   , 9193.1   , 9262.899 , 9333.101 ,\n",
       "       9402.9   , 8577.899 , 7895.9004, 8648.1   , 7895.8994, 7966.1006,\n",
       "       9333.1   , 9262.9   , 9333.102 , 8577.898 , 8648.102 , 9262.898 ])"
      ]
     },
     "execution_count": 13,
     "metadata": {},
     "output_type": "execute_result"
    }
   ],
   "source": [
    "data.FT_z.unique()"
   ]
  },
  {
   "cell_type": "code",
   "execution_count": 182,
   "metadata": {},
   "outputs": [],
   "source": [
    "def split_test_train_with_stratification(df, stratify_column, test_size ):\n",
    "    all_indices = df[stratify_column].unique().tolist()\n",
    "    n_test = int(test_size * len(all_indices))\n",
    "    \n",
    "    train_indices = random.sample(all_indices, k=n_test)\n",
    "    X_train = df[~df[stratify_column].isin(train_indices)] \n",
    "    X_test = df[df[stratify_column].isin(train_indices)]\n",
    "    return X_train, X_test"
   ]
  },
  {
   "cell_type": "code",
   "execution_count": 2,
   "metadata": {},
   "outputs": [],
   "source": [
    "class HitsDataset(Dataset):\n",
    "    def __init__(self, hits_df):\n",
    "        self.df = hits_df\n",
    "        self.n_planes = 12\n",
    "        self.df[\"track_id\"]= list(zip(self.df.eventID, self.df.particle_key))\n",
    "        self.target = self.df[[\"track_id\",\"particle_isDown_noVelo\"]].drop_duplicates(\"track_id\")\n",
    "        self.index_dict = {index:x for index, x in enumerate(self.df[\"track_id\"].unique())}\n",
    "\n",
    "    def __getitem__(self,index):\n",
    "        features = self._extract_features(self.df[self.df.track_id == self.index_dict[index]])        \n",
    "        hits_tensor = features\n",
    "        \n",
    "        target = self.target[self.target.track_id == self.index_dict[index]].particle_isDown_noVelo.iloc[0]        \n",
    "        \n",
    "        return hits_tensor,  target\n",
    "        \n",
    "    def __len__(self):\n",
    "        return max(self.index_dict.keys())\n",
    "    \n",
    "    def _extract_features(self,df):\n",
    "        \"\"\"\n",
    "        This function converts dataframe into a pytorch tensor of shape (n_planes, n_features)\n",
    "        if number of planes is smaller that **n_planes** the input tensor is zero padded via adding a zero vector \n",
    "        on missing possition, e.g. if plane 3 is missing the vector of zeros will be inserted into position 3. \n",
    "        \"\"\"\n",
    "        df.drop_duplicates(subset=[\"track_id\", \"FT_hitPlaneCode\"], keep='first', inplace=True)\n",
    "        idx = pd.MultiIndex.from_product([df['track_id'].unique(), \n",
    "                                  np.arange(self.n_planes)],\n",
    "                                 names=['track_id', 'FT_hitPlaneCode'])\n",
    "        df = df.set_index(['track_id', 'FT_hitPlaneCode']).reindex(idx).reset_index()\n",
    "        df.fillna(0., inplace=True)\n",
    "        df[\"feature_vector\"] = df[[\"FT_dxdy\", \"FT_hitzone\",\"FT_w\",\"FT_x\"]].apply(np.array, axis=1)\n",
    "        return df.groupby([\"track_id\"])[\"feature_vector\"].apply(np.vstack).iloc[0]\n"
   ]
  },
  {
   "cell_type": "code",
   "execution_count": 3,
   "metadata": {},
   "outputs": [
    {
     "data": {
      "application/vnd.jupyter.widget-view+json": {
       "model_id": "",
       "version_major": 2,
       "version_minor": 0
      },
      "text/plain": [
       "HBox(children=(FloatProgress(value=0.0, max=754.0), HTML(value='')))"
      ]
     },
     "metadata": {},
     "output_type": "display_data"
    }
   ],
   "source": [
    "chunksize = 100000\n",
    "n_chunks = 75418583//chunksize\n",
    "datasets_train = []\n",
    "for df_chunk in tqdm(pd.read_csv(\"/data/work/wessex/Wessex/test/FT_hits_with_info.csv\", \n",
    "                                chunksize=chunksize), leave=False, total=n_chunks ):\n",
    "    datasets_train.append(HitsDataset(df_chunk))\n"
   ]
  },
  {
   "cell_type": "code",
   "execution_count": 4,
   "metadata": {},
   "outputs": [],
   "source": [
    "def serialize_dataset(dataset):\n",
    "    features_numpy = []\n",
    "    target_list = []\n",
    "    for i in tqdm(range(len(dataset)),position=1,leave=False ):\n",
    "        item = dataset.__getitem__(i)\n",
    "        features_numpy.append(item[0])\n",
    "        target_list.append(item[1])  \n",
    "    df = pd.DataFrame({'features':features_numpy,'target':target_list})    \n",
    "    df.to_pickle(\"_\".join([\"/data/work/wessex/Wessex/test/ft_hits/ft_hits\",str(tempfile.mkdtemp().split(\"/\")[-1]),\".pickle\"]))\n",
    "    del df, features_numpy, target_list\n"
   ]
  },
  {
   "cell_type": "code",
   "execution_count": 6,
   "metadata": {},
   "outputs": [
    {
     "data": {
      "application/vnd.jupyter.widget-view+json": {
       "model_id": "0b301c968441410ba0d60a8991279f03",
       "version_major": 2,
       "version_minor": 0
      },
      "text/plain": [
       "HBox(children=(FloatProgress(value=0.0, max=22.0), HTML(value='')))"
      ]
     },
     "metadata": {},
     "output_type": "display_data"
    },
    {
     "name": "stdout",
     "output_type": "stream",
     "text": [
      "\n"
     ]
    }
   ],
   "source": [
    "with Pool(processes=11) as p:\n",
    "        with tqdm(total=len(datasets_train[:22]), position=0) as pbar:\n",
    "            for i, _ in enumerate(p.imap_unordered(serialize_dataset, datasets_train[:22])):\n",
    "                pbar.update()"
   ]
  },
  {
   "cell_type": "code",
   "execution_count": 7,
   "metadata": {},
   "outputs": [],
   "source": [
    "import glob\n",
    "hits_df = pd.concat([pd.read_pickle(path) for path in glob.glob(\"/data/work/wessex/Wessex/test/ft_hits/*\")])"
   ]
  },
  {
   "cell_type": "code",
   "execution_count": 8,
   "metadata": {},
   "outputs": [
    {
     "data": {
      "text/html": [
       "<div>\n",
       "<style scoped>\n",
       "    .dataframe tbody tr th:only-of-type {\n",
       "        vertical-align: middle;\n",
       "    }\n",
       "\n",
       "    .dataframe tbody tr th {\n",
       "        vertical-align: top;\n",
       "    }\n",
       "\n",
       "    .dataframe thead th {\n",
       "        text-align: right;\n",
       "    }\n",
       "</style>\n",
       "<table border=\"1\" class=\"dataframe\">\n",
       "  <thead>\n",
       "    <tr style=\"text-align: right;\">\n",
       "      <th></th>\n",
       "      <th>features</th>\n",
       "      <th>target</th>\n",
       "    </tr>\n",
       "  </thead>\n",
       "  <tbody>\n",
       "    <tr>\n",
       "      <th>0</th>\n",
       "      <td>[[0.0, 0.0, 25.0, 221.435], [0.08748923, 0.0, ...</td>\n",
       "      <td>0</td>\n",
       "    </tr>\n",
       "    <tr>\n",
       "      <th>1</th>\n",
       "      <td>[[-0.0, 1.0, 34.602074, 115.990005], [0.087489...</td>\n",
       "      <td>0</td>\n",
       "    </tr>\n",
       "    <tr>\n",
       "      <th>2</th>\n",
       "      <td>[[0.0, 0.0, 34.602074, -536.89], [0.08748923, ...</td>\n",
       "      <td>0</td>\n",
       "    </tr>\n",
       "    <tr>\n",
       "      <th>3</th>\n",
       "      <td>[[0.0, 0.0, 34.602074, -379.215], [0.08748923,...</td>\n",
       "      <td>0</td>\n",
       "    </tr>\n",
       "    <tr>\n",
       "      <th>4</th>\n",
       "      <td>[[-0.0, 1.0, 34.602074, -440.49002], [0.087489...</td>\n",
       "      <td>0</td>\n",
       "    </tr>\n",
       "  </tbody>\n",
       "</table>\n",
       "</div>"
      ],
      "text/plain": [
       "                                            features  target\n",
       "0  [[0.0, 0.0, 25.0, 221.435], [0.08748923, 0.0, ...       0\n",
       "1  [[-0.0, 1.0, 34.602074, 115.990005], [0.087489...       0\n",
       "2  [[0.0, 0.0, 34.602074, -536.89], [0.08748923, ...       0\n",
       "3  [[0.0, 0.0, 34.602074, -379.215], [0.08748923,...       0\n",
       "4  [[-0.0, 1.0, 34.602074, -440.49002], [0.087489...       0"
      ]
     },
     "execution_count": 8,
     "metadata": {},
     "output_type": "execute_result"
    }
   ],
   "source": [
    "hits_df.head()"
   ]
  },
  {
   "cell_type": "code",
   "execution_count": 14,
   "metadata": {},
   "outputs": [
    {
     "data": {
      "text/plain": [
       "tensor(1)"
      ]
     },
     "execution_count": 14,
     "metadata": {},
     "output_type": "execute_result"
    }
   ],
   "source": [
    "torch.tensor(hits_df.target.iloc[1232])"
   ]
  },
  {
   "cell_type": "code",
   "execution_count": 10,
   "metadata": {},
   "outputs": [],
   "source": [
    "hits_df.to_pickle(\"/data/work/wessex/Wessex/test/FT_hits.pickle\")"
   ]
  },
  {
   "cell_type": "code",
   "execution_count": 17,
   "metadata": {},
   "outputs": [],
   "source": [
    "class HitsDataset(Dataset):\n",
    "    def __init__(self, hits_df):\n",
    "        self.features = hits_df.features\n",
    "        self.target  = hits_df.target\n",
    "        \n",
    "\n",
    "    def __getitem__(self,index):        \n",
    "        return (torch.tensor(self.features.iloc[index]), \n",
    "                torch.tensor(self.target.iloc[index]))\n",
    "        \n",
    "    def __len__(self):\n",
    "        return len(self.features)"
   ]
  },
  {
   "cell_type": "code",
   "execution_count": 18,
   "metadata": {},
   "outputs": [],
   "source": [
    "X_train, X_valid = train_test_split(hits_df, test_size=0.2, random_state=12)"
   ]
  },
  {
   "cell_type": "code",
   "execution_count": 19,
   "metadata": {},
   "outputs": [],
   "source": [
    "datasets={\n",
    "    \"train\":HitsDataset(X_train),\n",
    "    \"valid\":HitsDataset(X_valid)\n",
    "}\n"
   ]
  },
  {
   "cell_type": "code",
   "execution_count": 20,
   "metadata": {},
   "outputs": [],
   "source": [
    "dataloaders = { \n",
    "    'train':DataLoader(datasets[\"train\"], \n",
    "                   batch_size=256,\n",
    "                   shuffle=True,\n",
    "                    num_workers=0),\n",
    "    'valid':DataLoader(datasets[\"valid\"],\n",
    "                      batch_size=128,\n",
    "                      shuffle=False,\n",
    "                      num_workers=5)\n",
    "}"
   ]
  },
  {
   "cell_type": "code",
   "execution_count": 21,
   "metadata": {},
   "outputs": [
    {
     "name": "stdout",
     "output_type": "stream",
     "text": [
      "features tensor([[[-0.0000e+00,  1.0000e+00,  3.4602e+01, -4.6194e+02],\n",
      "         [ 8.7489e-02,  1.0000e+00,  3.4602e+01, -4.7501e+02],\n",
      "         [-8.7489e-02,  1.0000e+00,  3.4602e+01, -4.6547e+02],\n",
      "         ...,\n",
      "         [ 8.7489e-02,  1.0000e+00,  3.4602e+01, -5.8593e+02],\n",
      "         [-8.7489e-02,  1.0000e+00,  2.5000e+01, -5.7441e+02],\n",
      "         [-0.0000e+00,  1.0000e+00,  3.4602e+01, -5.8843e+02]],\n",
      "\n",
      "        [[-0.0000e+00,  1.0000e+00,  2.5000e+01, -3.9715e+01],\n",
      "         [ 8.7489e-02,  1.0000e+00,  3.4602e+01, -5.9297e+01],\n",
      "         [-8.7489e-02,  1.0000e+00,  3.4602e+01, -8.1821e+00],\n",
      "         ...,\n",
      "         [ 8.7489e-02,  1.0000e+00,  3.4602e+01,  2.2309e+01],\n",
      "         [-8.7489e-02,  1.0000e+00,  1.8904e+01,  8.2342e+01],\n",
      "         [-0.0000e+00,  1.0000e+00,  3.4602e+01,  5.8935e+01]],\n",
      "\n",
      "        [[ 0.0000e+00,  0.0000e+00,  3.4602e+01, -1.3769e+02],\n",
      "         [ 8.7489e-02,  0.0000e+00,  3.4602e+01, -1.1732e+02],\n",
      "         [-8.7489e-02,  0.0000e+00,  1.4793e+01, -1.4438e+02],\n",
      "         ...,\n",
      "         [ 8.7489e-02,  0.0000e+00,  2.5000e+01, -1.8346e+01],\n",
      "         [-8.7489e-02,  0.0000e+00,  3.4602e+01, -5.0418e+01],\n",
      "         [ 0.0000e+00,  0.0000e+00,  3.4602e+01, -2.6110e+01]],\n",
      "\n",
      "        ...,\n",
      "\n",
      "        [[-0.0000e+00,  1.0000e+00,  2.5000e+01, -1.1734e+03],\n",
      "         [ 8.7489e-02,  1.0000e+00,  3.4602e+01, -1.2075e+03],\n",
      "         [-8.7489e-02,  1.0000e+00,  3.4602e+01, -1.2379e+03],\n",
      "         ...,\n",
      "         [ 8.7489e-02,  1.0000e+00,  3.4602e+01, -1.8725e+03],\n",
      "         [-8.7489e-02,  1.0000e+00,  3.4602e+01, -1.9048e+03],\n",
      "         [-0.0000e+00,  1.0000e+00,  3.4602e+01, -1.9410e+03]],\n",
      "\n",
      "        [[-0.0000e+00,  1.0000e+00,  3.4602e+01, -1.5398e+03],\n",
      "         [ 0.0000e+00,  0.0000e+00,  0.0000e+00,  0.0000e+00],\n",
      "         [-8.7489e-02,  1.0000e+00,  3.4602e+01, -1.6135e+03],\n",
      "         ...,\n",
      "         [ 8.7489e-02,  1.0000e+00,  3.4602e+01, -2.5035e+03],\n",
      "         [-8.7489e-02,  1.0000e+00,  2.5000e+01, -2.5190e+03],\n",
      "         [-0.0000e+00,  1.0000e+00,  3.4602e+01, -2.5826e+03]],\n",
      "\n",
      "        [[-0.0000e+00,  1.0000e+00,  3.4602e+01, -1.1790e+03],\n",
      "         [ 8.7489e-02,  1.0000e+00,  3.4602e+01, -1.2154e+03],\n",
      "         [-8.7489e-02,  1.0000e+00,  3.4602e+01, -1.2487e+03],\n",
      "         ...,\n",
      "         [ 8.7489e-02,  1.0000e+00,  3.4602e+01, -1.9394e+03],\n",
      "         [-8.7489e-02,  1.0000e+00,  3.4602e+01, -1.9764e+03],\n",
      "         [-0.0000e+00,  1.0000e+00,  3.4602e+01, -2.0155e+03]]],\n",
      "       dtype=torch.float64) torch.Size([256, 12, 4])\n",
      "target tensor([0, 0, 0, 0, 0, 0, 0, 1, 0, 0, 0, 0, 0, 0, 0, 1, 1, 1, 0, 0, 0, 1, 0, 0,\n",
      "        0, 0, 0, 0, 0, 0, 0, 0, 0, 0, 0, 0, 1, 0, 0, 0, 0, 0, 0, 1, 0, 0, 0, 0,\n",
      "        0, 1, 0, 0, 0, 0, 0, 0, 0, 0, 0, 0, 0, 0, 0, 0, 0, 0, 0, 0, 0, 0, 0, 0,\n",
      "        0, 0, 0, 0, 0, 0, 0, 0, 0, 0, 0, 1, 0, 0, 0, 0, 0, 0, 0, 0, 0, 0, 0, 0,\n",
      "        0, 0, 0, 0, 0, 0, 0, 0, 0, 0, 0, 0, 0, 0, 0, 0, 0, 0, 0, 0, 0, 0, 0, 0,\n",
      "        0, 0, 0, 0, 0, 0, 0, 0, 0, 1, 0, 0, 0, 0, 0, 0, 0, 0, 0, 0, 0, 0, 0, 0,\n",
      "        0, 0, 0, 0, 0, 1, 1, 0, 1, 0, 0, 0, 0, 1, 0, 0, 0, 0, 1, 0, 1, 0, 0, 0,\n",
      "        1, 1, 1, 0, 0, 1, 0, 0, 0, 0, 0, 0, 0, 0, 0, 0, 0, 1, 0, 0, 0, 1, 0, 0,\n",
      "        0, 0, 1, 0, 0, 0, 0, 0, 0, 0, 1, 0, 0, 0, 0, 0, 0, 1, 0, 1, 0, 1, 0, 1,\n",
      "        1, 1, 0, 0, 1, 0, 0, 0, 0, 0, 1, 0, 0, 1, 1, 0, 0, 0, 0, 0, 0, 0, 0, 0,\n",
      "        0, 1, 0, 0, 0, 0, 0, 0, 0, 0, 0, 0, 0, 0, 1, 0]) 256\n"
     ]
    }
   ],
   "source": [
    "    for batch in dataloaders[\"train\"]:\n",
    "        print(\"features\", batch[0], batch[0].shape)\n",
    "        print(\"target\", batch[1], len(batch[1]))\n",
    "        break"
   ]
  },
  {
   "cell_type": "markdown",
   "metadata": {},
   "source": [
    "# Build a model "
   ]
  },
  {
   "cell_type": "code",
   "execution_count": 22,
   "metadata": {},
   "outputs": [
    {
     "data": {
      "text/plain": [
       "device(type='cuda', index=0)"
      ]
     },
     "execution_count": 22,
     "metadata": {},
     "output_type": "execute_result"
    }
   ],
   "source": [
    "device = torch.device(\"cuda:0\" if torch.cuda.is_available() else \"cpu\")\n",
    "device"
   ]
  },
  {
   "cell_type": "code",
   "execution_count": 23,
   "metadata": {},
   "outputs": [],
   "source": [
    "class RNNUpgradeTracking(nn.Module):\n",
    "    def __init__(self,):\n",
    "        super(RNNUpgradeTracking, self).__init__()\n",
    "        self.num_layers = 2\n",
    "        self.hidden_size = 12\n",
    "        self.batch_size = 256\n",
    "\n",
    "        self.rnn = nn.LSTM(\n",
    "            input_size= 4,\n",
    "            hidden_size= self.hidden_size,\n",
    "            num_layers=self.num_layers,\n",
    "            batch_first=True,\n",
    "        )\n",
    "        self.decoder = nn.Linear(self.hidden_size, 2)\n",
    "        self.hidden = self.init_hidden()\n",
    "\n",
    "    def init_hidden(self):\n",
    "        hidden = Variable(torch.zeros(self.num_layers, self.batch_size, self.hidden_size)).to(device)\n",
    "        cell =  Variable(torch.zeros(self.num_layers, self.batch_size, self.hidden_size)).to(device)\n",
    "        return (hidden, cell)\n",
    "\n",
    "\n",
    "    def forward(self, inputs):\n",
    "        # Avoid breaking if the last batch has a different size\n",
    "        batch_size = inputs.size(0)\n",
    "        if batch_size != self.batch_size:\n",
    "            self.batch_size = batch_size\n",
    "\n",
    "        output, self.hidden = self.rnn(inputs, self.init_hidden())\n",
    "        output = self.decoder(output[:,-1,:])\n",
    "        return output"
   ]
  },
  {
   "cell_type": "code",
   "execution_count": 24,
   "metadata": {},
   "outputs": [
    {
     "data": {
      "text/plain": [
       "RNNUpgradeTracking(\n",
       "  (rnn): LSTM(4, 12, num_layers=2, batch_first=True)\n",
       "  (decoder): Linear(in_features=12, out_features=2, bias=True)\n",
       ")"
      ]
     },
     "execution_count": 24,
     "metadata": {},
     "output_type": "execute_result"
    }
   ],
   "source": [
    "model = RNNUpgradeTracking()\n",
    "model.to(device)\n",
    "model\n"
   ]
  },
  {
   "cell_type": "code",
   "execution_count": 25,
   "metadata": {},
   "outputs": [],
   "source": [
    "lr = 1e-4\n",
    "optimizer = torch.optim.Adam(model.parameters(),lr)\n",
    "criterion =torch.nn.CrossEntropyLoss().to(device)"
   ]
  },
  {
   "cell_type": "code",
   "execution_count": 26,
   "metadata": {},
   "outputs": [],
   "source": [
    "def train_and_valid_classification(model,\n",
    "                                   criterion,\n",
    "                                   optimizer,\n",
    "                                   run_hist={},\n",
    "                                   num_epochs=10,\n",
    "                                   save_every_nth_batch_loss=50):\n",
    "    \"\"\"Train and evaluate the classification model.\"\"\"\n",
    "    if len(run_hist) == 0:\n",
    "        run_hist = {key: [] for key in ['epoch_loss_train',\n",
    "                                    'epoch_loss_valid',\n",
    "                                    'epoch_acc_valid',\n",
    "                                    'epoch_acc_train',   \n",
    "                                    'batch_loss_train']}\n",
    "    process_timer = timer()\n",
    "    \n",
    "    for epoch in range(num_epochs):\n",
    "        print('\\nEpoch {}/{}'.format(epoch+1, num_epochs))\n",
    "        print('-' * 10)\n",
    "\n",
    "        for phase in ['train', 'valid']:\n",
    "            start_epoch = timer()\n",
    "            if phase == 'train':\n",
    "                model.train()\n",
    "            else:\n",
    "                model.eval()\n",
    "        \n",
    "            running_loss = 0.0\n",
    "            running_corrects = 0\n",
    "            \n",
    "            batch_iterator = tqdm(iter(dataloaders[phase]), leave=False, total=len(dataloaders[phase]))\n",
    "\n",
    "        \n",
    "            for i, batch in enumerate(batch_iterator):\n",
    "                inputs, labels = batch\n",
    "                inputs = inputs.to(device)\n",
    "                labels = labels.to(device)\n",
    "\n",
    "                outputs = model(inputs.float())\n",
    "                loss = criterion(outputs, labels.long())\n",
    "\n",
    "                if phase == 'train':\n",
    "                    optimizer.zero_grad()\n",
    "                    loss.backward()\n",
    "                    optimizer.step()\n",
    "\n",
    "                _, preds = torch.max(outputs, 1)\n",
    "                running_loss += loss.detach() * inputs.size(0)\n",
    "                running_corrects += torch.sum(preds == labels.data.long())\n",
    "\n",
    "                if phase == 'train' and i % save_every_nth_batch_loss == 0:\n",
    "                    run_hist['batch_loss_train'].append(loss.item())\n",
    "\n",
    "            epoch_loss = running_loss / len(datasets[phase])\n",
    "            epoch_acc = running_corrects.float() / len(datasets[phase])\n",
    "\n",
    "            print('{} loss: {:.4f}, {} acc: {:.4f}, elapsed:{:.4f}'.\\\n",
    "            format(phase,\n",
    "                   epoch_loss.item(),\n",
    "                   phase,\n",
    "                   epoch_acc.item(),\n",
    "                   timer()-start_epoch\n",
    "                 ))\n",
    "                 \n",
    "        \n",
    "            run_hist['epoch_loss_' + phase].append(epoch_loss.item())\n",
    "            run_hist['epoch_acc_' + phase].append(epoch_acc.item())\n",
    "\n",
    "    print(\"training took: \",timer()- process_timer)    \n",
    "    return model, run_hist"
   ]
  },
  {
   "cell_type": "code",
   "execution_count": 27,
   "metadata": {},
   "outputs": [
    {
     "name": "stdout",
     "output_type": "stream",
     "text": [
      "Model's state_dict:\n",
      "rnn.weight_ih_l0 \t torch.Size([48, 4])\n",
      "rnn.weight_hh_l0 \t torch.Size([48, 12])\n",
      "rnn.bias_ih_l0 \t torch.Size([48])\n",
      "rnn.bias_hh_l0 \t torch.Size([48])\n",
      "rnn.weight_ih_l1 \t torch.Size([48, 12])\n",
      "rnn.weight_hh_l1 \t torch.Size([48, 12])\n",
      "rnn.bias_ih_l1 \t torch.Size([48])\n",
      "rnn.bias_hh_l1 \t torch.Size([48])\n",
      "decoder.weight \t torch.Size([2, 12])\n",
      "decoder.bias \t torch.Size([2])\n"
     ]
    }
   ],
   "source": [
    "print(\"Model's state_dict:\")\n",
    "for param_tensor in model.state_dict():\n",
    "    print(param_tensor, \"\\t\", model.state_dict()[param_tensor].size())\n"
   ]
  },
  {
   "cell_type": "code",
   "execution_count": 28,
   "metadata": {},
   "outputs": [
    {
     "data": {
      "text/plain": [
       "2138"
      ]
     },
     "execution_count": 28,
     "metadata": {},
     "output_type": "execute_result"
    }
   ],
   "source": [
    "model_parameters = filter(lambda p: p.requires_grad, model.parameters())\n",
    "params = sum([np.prod(p.size()) for p in model_parameters])\n",
    "params"
   ]
  },
  {
   "cell_type": "code",
   "execution_count": 29,
   "metadata": {
    "scrolled": false
   },
   "outputs": [
    {
     "name": "stdout",
     "output_type": "stream",
     "text": [
      "\n",
      "Epoch 1/3\n",
      "----------\n"
     ]
    },
    {
     "data": {
      "application/vnd.jupyter.widget-view+json": {
       "model_id": "",
       "version_major": 2,
       "version_minor": 0
      },
      "text/plain": [
       "HBox(children=(FloatProgress(value=0.0, max=20099.0), HTML(value='')))"
      ]
     },
     "metadata": {},
     "output_type": "display_data"
    },
    {
     "name": "stdout",
     "output_type": "stream",
     "text": [
      "train loss: 0.4092, train acc: 0.8541, elapsed:391.6204\n"
     ]
    },
    {
     "data": {
      "application/vnd.jupyter.widget-view+json": {
       "model_id": "",
       "version_major": 2,
       "version_minor": 0
      },
      "text/plain": [
       "HBox(children=(FloatProgress(value=0.0, max=10050.0), HTML(value='')))"
      ]
     },
     "metadata": {},
     "output_type": "display_data"
    },
    {
     "name": "stdout",
     "output_type": "stream",
     "text": [
      "valid loss: 0.4012, valid acc: 0.8560, elapsed:29.7024\n",
      "\n",
      "Epoch 2/3\n",
      "----------\n"
     ]
    },
    {
     "data": {
      "application/vnd.jupyter.widget-view+json": {
       "model_id": "",
       "version_major": 2,
       "version_minor": 0
      },
      "text/plain": [
       "HBox(children=(FloatProgress(value=0.0, max=20099.0), HTML(value='')))"
      ]
     },
     "metadata": {},
     "output_type": "display_data"
    },
    {
     "name": "stdout",
     "output_type": "stream",
     "text": [
      "train loss: 0.4020, train acc: 0.8551, elapsed:417.9155\n"
     ]
    },
    {
     "data": {
      "application/vnd.jupyter.widget-view+json": {
       "model_id": "",
       "version_major": 2,
       "version_minor": 0
      },
      "text/plain": [
       "HBox(children=(FloatProgress(value=0.0, max=10050.0), HTML(value='')))"
      ]
     },
     "metadata": {},
     "output_type": "display_data"
    },
    {
     "name": "stdout",
     "output_type": "stream",
     "text": [
      "valid loss: 0.4002, valid acc: 0.8560, elapsed:30.6179\n",
      "\n",
      "Epoch 3/3\n",
      "----------\n"
     ]
    },
    {
     "data": {
      "application/vnd.jupyter.widget-view+json": {
       "model_id": "",
       "version_major": 2,
       "version_minor": 0
      },
      "text/plain": [
       "HBox(children=(FloatProgress(value=0.0, max=20099.0), HTML(value='')))"
      ]
     },
     "metadata": {},
     "output_type": "display_data"
    },
    {
     "name": "stdout",
     "output_type": "stream",
     "text": [
      "train loss: 0.4013, train acc: 0.8551, elapsed:400.5192\n"
     ]
    },
    {
     "data": {
      "application/vnd.jupyter.widget-view+json": {
       "model_id": "",
       "version_major": 2,
       "version_minor": 0
      },
      "text/plain": [
       "HBox(children=(FloatProgress(value=0.0, max=10050.0), HTML(value='')))"
      ]
     },
     "metadata": {},
     "output_type": "display_data"
    },
    {
     "name": "stdout",
     "output_type": "stream",
     "text": [
      "valid loss: 0.3994, valid acc: 0.8560, elapsed:30.6069\n",
      "training took:  1300.9839938282967\n"
     ]
    }
   ],
   "source": [
    "model, run_hist = train_and_valid_classification(model, criterion, optimizer, num_epochs=3)"
   ]
  },
  {
   "cell_type": "code",
   "execution_count": 30,
   "metadata": {},
   "outputs": [],
   "source": [
    "lr = 1e-3\n",
    "optimizer = torch.optim.Adam(model.parameters(),lr)"
   ]
  },
  {
   "cell_type": "code",
   "execution_count": 31,
   "metadata": {},
   "outputs": [
    {
     "name": "stdout",
     "output_type": "stream",
     "text": [
      "\n",
      "Epoch 1/3\n",
      "----------\n"
     ]
    },
    {
     "data": {
      "application/vnd.jupyter.widget-view+json": {
       "model_id": "",
       "version_major": 2,
       "version_minor": 0
      },
      "text/plain": [
       "HBox(children=(FloatProgress(value=0.0, max=20099.0), HTML(value='')))"
      ]
     },
     "metadata": {},
     "output_type": "display_data"
    },
    {
     "name": "stdout",
     "output_type": "stream",
     "text": [
      "train loss: 0.4015, train acc: 0.8551, elapsed:401.3702\n"
     ]
    },
    {
     "data": {
      "application/vnd.jupyter.widget-view+json": {
       "model_id": "",
       "version_major": 2,
       "version_minor": 0
      },
      "text/plain": [
       "HBox(children=(FloatProgress(value=0.0, max=10050.0), HTML(value='')))"
      ]
     },
     "metadata": {},
     "output_type": "display_data"
    },
    {
     "name": "stdout",
     "output_type": "stream",
     "text": [
      "valid loss: 0.3988, valid acc: 0.8560, elapsed:31.5028\n",
      "\n",
      "Epoch 2/3\n",
      "----------\n"
     ]
    },
    {
     "data": {
      "application/vnd.jupyter.widget-view+json": {
       "model_id": "",
       "version_major": 2,
       "version_minor": 0
      },
      "text/plain": [
       "HBox(children=(FloatProgress(value=0.0, max=20099.0), HTML(value='')))"
      ]
     },
     "metadata": {},
     "output_type": "display_data"
    },
    {
     "name": "stdout",
     "output_type": "stream",
     "text": [
      "train loss: 0.4000, train acc: 0.8551, elapsed:402.2940\n"
     ]
    },
    {
     "data": {
      "application/vnd.jupyter.widget-view+json": {
       "model_id": "",
       "version_major": 2,
       "version_minor": 0
      },
      "text/plain": [
       "HBox(children=(FloatProgress(value=0.0, max=10050.0), HTML(value='')))"
      ]
     },
     "metadata": {},
     "output_type": "display_data"
    },
    {
     "name": "stdout",
     "output_type": "stream",
     "text": [
      "valid loss: 0.3979, valid acc: 0.8560, elapsed:31.3695\n",
      "\n",
      "Epoch 3/3\n",
      "----------\n"
     ]
    },
    {
     "data": {
      "application/vnd.jupyter.widget-view+json": {
       "model_id": "",
       "version_major": 2,
       "version_minor": 0
      },
      "text/plain": [
       "HBox(children=(FloatProgress(value=0.0, max=20099.0), HTML(value='')))"
      ]
     },
     "metadata": {},
     "output_type": "display_data"
    },
    {
     "name": "stdout",
     "output_type": "stream",
     "text": [
      "train loss: 0.3991, train acc: 0.8551, elapsed:409.6870\n"
     ]
    },
    {
     "data": {
      "application/vnd.jupyter.widget-view+json": {
       "model_id": "",
       "version_major": 2,
       "version_minor": 0
      },
      "text/plain": [
       "HBox(children=(FloatProgress(value=0.0, max=10050.0), HTML(value='')))"
      ]
     },
     "metadata": {},
     "output_type": "display_data"
    },
    {
     "name": "stdout",
     "output_type": "stream",
     "text": [
      "valid loss: 0.3974, valid acc: 0.8560, elapsed:31.7038\n",
      "training took:  1307.9292850359343\n"
     ]
    }
   ],
   "source": [
    "model, run_hist = train_and_valid_classification(model, criterion, optimizer,run_hist= run_hist, num_epochs=3)"
   ]
  },
  {
   "cell_type": "code",
   "execution_count": 32,
   "metadata": {},
   "outputs": [],
   "source": [
    "def print_roc(model, X, Y):\n",
    "    X = torch.tensor(X.values, dtype=torch.float).to(\"cpu\")\n",
    "    model.eval\n",
    "    model.to(\"cpu\")\n",
    "    output =  model(X)    \n",
    "    plt.figure(figsize=[6, 6])\n",
    "    pred = F.softmax(output).cpu().detach().numpy()[:,1]\n",
    "    fpr, tpr, thresholds = roc_curve(Y,pred )\n",
    "    roc_auc = auc(fpr, tpr)\n",
    "    plt.plot(fpr, tpr, lw=1, label='ROC BDT (area = %0.4f)'%(roc_auc))\n",
    "    plt.plot([0, 1], [0, 1], '--', color=(0.6, 0.6, 0.6), label='no discrimination')\n",
    "    plt.xlim([-0.05, 1.05])\n",
    "    plt.ylim([0.8, 1.05])\n",
    "    plt.xlabel('False Positive Rate')\n",
    "    plt.ylabel('True Positive Rate')\n",
    "    plt.title('Receiver operating characteristic')\n",
    "    plt.legend(loc=\"lower right\")\n",
    "    plt.grid()\n",
    "    plt.show()\n",
    "\n"
   ]
  },
  {
   "cell_type": "code",
   "execution_count": 33,
   "metadata": {},
   "outputs": [],
   "source": [
    "def plot_training_classification(run_hist):\n",
    "    \"\"\"Plot the training history of the classification model.\"\"\"\n",
    "    fig, ax = plt.subplots(1,2, figsize=(20,6), sharex=True)\n",
    "    x = np.arange(len(run_hist[\"epoch_loss_train\"])) + 1\n",
    "    ax[0].plot(x, run_hist[\"epoch_loss_train\"],'b', marker='.', label=\"train loss\")\n",
    "    ax[0].plot(x, run_hist[\"epoch_loss_valid\"],'r', marker='.', label=\"valid loss\")\n",
    "    ax[0].legend()\n",
    "    ax[1].plot(x, run_hist[\"epoch_acc_train\"],'b', marker='.', label=\"train accuracy\")\n",
    "    ax[1].plot(x, run_hist[\"epoch_acc_valid\"],'r', marker='.', label=\"valid accuracy\")\n",
    "    ax[1].legend()\n"
   ]
  },
  {
   "cell_type": "code",
   "execution_count": 34,
   "metadata": {},
   "outputs": [
    {
     "data": {
      "image/png": "[encoded data removed]",
      "text/plain": [
       "<Figure size 1440x432 with 2 Axes>"
      ]
     },
     "metadata": {
      "needs_background": "light"
     },
     "output_type": "display_data"
    }
   ],
   "source": [
    "plot_training_classification(run_hist)"
   ]
  },
  {
   "cell_type": "code",
   "execution_count": 187,
   "metadata": {},
   "outputs": [
    {
     "ename": "NameError",
     "evalue": "name 'X_valid' is not defined",
     "output_type": "error",
     "traceback": [
      "\u001b[0;31m---------------------------------------------------------------------------\u001b[0m",
      "\u001b[0;31mNameError\u001b[0m                                 Traceback (most recent call last)",
      "\u001b[0;32m<ipython-input-187-e888ab63a95e>\u001b[0m in \u001b[0;36m<module>\u001b[0;34m\u001b[0m\n\u001b[0;32m----> 1\u001b[0;31m \u001b[0mprint_roc\u001b[0m\u001b[0;34m(\u001b[0m\u001b[0mmodel\u001b[0m\u001b[0;34m,\u001b[0m\u001b[0mX_valid\u001b[0m\u001b[0;34m,\u001b[0m \u001b[0mY_valid\u001b[0m \u001b[0;34m)\u001b[0m\u001b[0;34m\u001b[0m\u001b[0;34m\u001b[0m\u001b[0m\n\u001b[0m",
      "\u001b[0;31mNameError\u001b[0m: name 'X_valid' is not defined"
     ]
    }
   ],
   "source": [
    "print_roc(model,X_valid, Y_valid )"
   ]
  },
  {
   "cell_type": "code",
   "execution_count": 35,
   "metadata": {},
   "outputs": [
    {
     "name": "stdout",
     "output_type": "stream",
     "text": [
      "('rnn.weight_ih_l0', Parameter containing:\n",
      "tensor([[-2.1166e-02,  2.8504e-01,  7.0119e-01,  4.1134e-03],\n",
      "        [ 5.1272e-01,  1.4020e-01, -1.1521e-01, -2.1040e-01],\n",
      "        [-4.8158e-01,  9.6915e-03,  2.4526e-03, -4.4403e-02],\n",
      "        [-5.5780e-01,  3.5443e-01,  2.4188e-01,  2.3517e-01],\n",
      "        [-1.5378e-01,  6.4636e-01,  3.7092e-01, -9.2683e-02],\n",
      "        [-1.4312e-01, -3.7882e-01, -2.2075e-01, -3.4001e-01],\n",
      "        [-3.2469e-01,  1.7279e-01, -4.9206e-03,  3.0934e-02],\n",
      "        [ 2.4121e-01,  3.0918e-01, -2.7858e-03,  5.4739e-02],\n",
      "        [-4.7485e-01,  3.9073e-01,  1.3812e-01, -1.2654e-01],\n",
      "        [-8.4885e-01,  4.4782e-01,  1.6363e-01, -2.9644e-02],\n",
      "        [ 7.7875e-01, -2.3120e-01, -5.2335e-01,  1.3368e-01],\n",
      "        [ 8.4739e-02, -4.6857e-01, -8.1248e-01, -4.5743e-02],\n",
      "        [ 1.5215e-01,  8.3031e-02,  3.3876e-01, -1.6700e-01],\n",
      "        [-1.8382e-01,  2.9527e-01,  5.8262e-03,  1.6585e-01],\n",
      "        [-6.4633e-01,  2.5015e-01,  4.3780e-01,  7.2508e-02],\n",
      "        [-3.1719e-01,  5.0558e-01,  3.1201e-01,  1.3926e-01],\n",
      "        [-2.8308e-01,  1.0689e-01,  1.0485e-02, -6.8236e-01],\n",
      "        [-1.1627e-01, -1.0808e-01,  2.4522e-01,  3.5968e-01],\n",
      "        [-1.8779e-01,  3.0948e-01,  7.5191e-01,  9.7203e-04],\n",
      "        [ 3.8656e-01, -3.9820e-02,  2.2180e-02, -1.7700e-01],\n",
      "        [ 6.4689e-01, -2.7606e-01,  1.4539e-01, -4.3190e-01],\n",
      "        [-1.4244e-01,  3.6327e-01,  1.5108e-01, -1.9266e-01],\n",
      "        [-5.7860e-01, -1.1052e-01,  3.3038e-01, -1.7606e-01],\n",
      "        [-4.3075e-01,  7.1178e-01,  5.6279e-01,  9.9557e-02],\n",
      "        [ 3.3909e-02,  1.5246e-01,  5.1169e-01, -5.7308e-04],\n",
      "        [ 1.5315e-01, -2.5150e-01, -1.5099e-02, -6.1827e-01],\n",
      "        [-6.6265e-02, -4.3288e-01, -6.0209e-01,  1.1387e-02],\n",
      "        [-1.5680e-01, -6.5665e-02, -3.9545e-01, -8.0576e-02],\n",
      "        [ 9.7467e-02,  4.7279e-01,  4.2530e-01, -1.6946e-02],\n",
      "        [ 9.2326e-02,  4.2612e-01,  2.4722e-01, -3.0081e-02],\n",
      "        [-2.9502e-01, -5.4775e-01, -5.7107e-01, -9.7381e-03],\n",
      "        [-1.2193e-01,  6.6444e-02,  5.1251e-01,  1.5042e-02],\n",
      "        [ 1.9093e-01, -3.1349e-01, -4.2561e-01,  2.6959e-02],\n",
      "        [ 4.7675e-01, -6.2237e-01, -4.8096e-02,  2.8283e-01],\n",
      "        [-2.4406e-01, -1.8372e-01,  2.7025e-01, -1.5123e-01],\n",
      "        [ 3.5102e-01,  2.3547e-01,  3.1689e-01, -1.2448e-02],\n",
      "        [ 3.4506e-01,  4.5537e-01,  8.4761e-01,  3.5765e-02],\n",
      "        [ 3.2067e-01, -3.1074e-02,  5.1156e-02,  1.5026e-01],\n",
      "        [ 1.8504e-01,  4.0696e-01,  2.2812e-01,  3.1506e-02],\n",
      "        [-1.9413e-01, -1.0641e+00, -5.0373e-01,  3.5271e-02],\n",
      "        [ 9.7477e-04,  6.0347e-01, -4.4443e-01,  3.2171e-02],\n",
      "        [ 5.0379e-01, -5.7025e-01, -2.2138e-01, -5.6147e-02],\n",
      "        [-7.1413e-01,  1.0593e+00,  1.1039e+00, -2.4768e-02],\n",
      "        [-3.5544e-02,  3.1247e-01, -5.5098e-03, -2.7181e-02],\n",
      "        [-3.3147e-01,  2.9934e-01,  5.4544e-01, -1.3056e-02],\n",
      "        [ 6.3362e-01,  3.7901e-01, -3.0565e-01,  1.1205e-01],\n",
      "        [ 2.5481e-01,  1.7063e-01, -3.8710e-01,  1.4166e-01],\n",
      "        [ 1.8335e-01,  7.0141e-01,  9.1887e-01,  8.2505e-02]], device='cuda:0',\n",
      "       requires_grad=True))\n",
      "('rnn.weight_hh_l0', Parameter containing:\n",
      "tensor([[ 1.6024e+00, -4.0982e-01, -7.6787e-01, -1.4813e-01,  1.9513e+00,\n",
      "          2.7098e-02, -2.5688e-01,  4.1257e-01, -5.1289e-01,  2.3392e-01,\n",
      "         -7.9446e-01,  6.7831e-01],\n",
      "        [ 4.2520e-01, -3.1664e-01,  4.1521e-02,  2.6904e-01,  1.8469e+00,\n",
      "          2.1573e-01,  7.4183e-01,  4.4197e-01, -5.7499e-01, -5.4629e-01,\n",
      "          2.0013e-01,  1.3437e+00],\n",
      "        [-5.5440e-01,  2.1219e-01,  1.4215e+00,  5.3349e-01,  1.5731e+00,\n",
      "          2.1646e-01,  6.3943e-01, -1.5016e-01, -1.1664e+00, -4.9674e-01,\n",
      "          1.1724e+00,  5.6005e-01],\n",
      "        [ 1.0203e+00,  3.3643e-01, -1.0135e+00,  9.9283e-01,  2.3565e+00,\n",
      "         -2.6461e-01, -5.7155e-01,  2.9581e-01, -3.4143e-01,  1.0390e+00,\n",
      "         -8.1121e-01,  1.3362e+00],\n",
      "        [-4.1576e-01, -2.8769e-02,  6.8140e-01, -1.9165e-01,  4.3304e+00,\n",
      "          1.2116e+00,  2.7709e-01, -1.1801e-01,  3.2341e-02,  2.5981e-01,\n",
      "         -1.6184e-02,  6.4998e-01],\n",
      "        [ 1.0136e+00, -2.8039e-01, -3.7037e-01,  1.4966e-01,  1.1516e+00,\n",
      "          5.9661e-02, -5.0994e-01, -3.3381e-01, -6.6745e-02,  7.1124e-01,\n",
      "         -3.7186e-01, -1.6419e-01],\n",
      "        [-6.7310e-01, -4.0525e-01,  1.6963e+00,  4.6614e-01,  4.0015e-01,\n",
      "         -1.3996e+00,  6.8597e-01, -1.7089e+00,  1.6357e+00,  2.3932e-01,\n",
      "         -8.4372e-01, -3.1924e-01],\n",
      "        [ 1.1283e+00, -3.9847e-01, -7.7838e-01,  3.8912e-03,  9.5071e-01,\n",
      "          7.2129e-01, -4.1460e-01, -1.9700e+00, -7.7378e-01,  8.9470e-01,\n",
      "         -4.6195e-01, -1.5317e+00],\n",
      "        [ 5.4954e-01,  9.3961e-02, -7.4566e-01,  1.0561e-01,  1.3830e+00,\n",
      "         -7.2092e-01, -5.6156e-01, -2.6144e-01, -1.0515e-01,  3.0961e-01,\n",
      "          3.1343e-01, -5.0811e-02],\n",
      "        [ 1.6036e+00,  7.3057e-02, -7.7392e-03, -3.1177e+00,  9.9483e-01,\n",
      "          6.4599e-01, -1.6192e+00,  1.1283e+00, -4.3491e-01, -9.8740e-02,\n",
      "         -1.1236e+00, -1.0444e+00],\n",
      "        [-5.0190e-01,  1.3613e-02, -7.0576e-01,  7.2765e-01,  1.8164e+00,\n",
      "         -1.6562e-03,  6.3959e-01, -3.8727e-01, -2.5069e-01,  2.4248e-01,\n",
      "          1.2764e+00,  3.0062e-03],\n",
      "        [-4.8617e-01, -1.1553e+00,  3.9474e-01,  7.5211e-01,  1.9992e+00,\n",
      "         -6.2355e-02,  8.0670e-01, -1.0626e+00,  5.6362e-02,  5.7247e-02,\n",
      "          7.0237e-01,  2.6581e+00],\n",
      "        [ 1.9510e-01,  1.3533e-01, -7.7603e-02,  8.3646e-02,  8.1968e-01,\n",
      "         -1.4347e-01, -6.1550e-01, -3.7900e-01,  2.4975e-01,  7.6957e-01,\n",
      "          3.6128e-01, -6.8439e-01],\n",
      "        [ 3.2223e-01, -1.0856e+00, -2.9586e-01, -6.2054e-01,  7.2778e-02,\n",
      "          3.0450e-01, -2.0742e-02,  6.0543e-01,  7.5701e-02,  3.7164e-01,\n",
      "          1.8644e-02,  5.4680e-01],\n",
      "        [ 9.7266e-01, -9.4413e-01,  5.1657e-02, -3.8151e-01,  8.7685e-01,\n",
      "          2.9798e-01,  6.9409e-01, -1.8752e+00, -4.4741e-01,  1.1440e+00,\n",
      "         -7.5069e-01, -9.3957e-01],\n",
      "        [ 1.4405e-01, -7.3137e-01,  4.7094e-01, -6.3237e-01,  2.9811e+00,\n",
      "         -5.7159e-01, -2.3316e-01, -4.0944e-02, -7.8974e-01, -5.3749e-01,\n",
      "         -3.5990e-01,  3.6982e-01],\n",
      "        [ 3.5360e-01, -1.2220e+00,  4.6320e-01, -1.4578e+00,  3.5106e+00,\n",
      "          5.7951e-01, -1.6166e-01, -4.3906e-01, -8.0220e-02,  1.0998e+00,\n",
      "         -2.9167e+00,  1.5962e+00],\n",
      "        [ 6.9891e-01, -9.4442e-01, -4.3616e-01,  3.9514e-01,  1.7831e+00,\n",
      "          8.4563e-02,  9.7781e-01,  6.0171e-02, -7.4177e-01,  5.2960e-01,\n",
      "          6.2072e-02,  3.0100e-01],\n",
      "        [ 9.7409e-01, -3.0465e-01, -4.6232e-01,  1.8965e-01,  1.2257e+00,\n",
      "          1.0020e+00, -7.4113e-01, -7.5839e-02, -5.3531e-01,  2.0167e-01,\n",
      "         -1.9089e-01,  2.0397e-01],\n",
      "        [ 4.0158e-02, -9.3116e-01, -2.1821e-01,  5.8142e-01,  4.7076e-02,\n",
      "         -4.8090e-02,  1.8111e-01,  4.2517e-02, -1.6976e-01,  5.5079e-01,\n",
      "          5.4416e-01, -5.1156e-02],\n",
      "        [ 2.4725e-01, -2.9959e-01, -2.6062e-01, -5.4231e-01,  1.0165e+00,\n",
      "         -2.6274e-01, -1.3686e+00, -6.4404e-01, -8.0469e-02,  3.4752e-01,\n",
      "         -1.4971e-01,  1.7700e-01],\n",
      "        [-2.0277e-01,  5.6991e-02,  4.3963e-01,  2.9591e+00, -4.8814e-01,\n",
      "          8.1600e-02, -6.4291e-02, -9.5516e-01, -2.2049e-01,  1.0032e+00,\n",
      "         -6.6634e-01, -6.3475e-01],\n",
      "        [-1.7196e-01, -1.0294e+00,  5.0983e-01,  3.3777e-01, -8.5459e-01,\n",
      "         -1.2464e+00, -6.8449e-01, -1.2041e+00, -1.5251e-01,  2.1136e+00,\n",
      "         -5.1924e-01, -1.4295e+00],\n",
      "        [ 9.6558e-01,  7.1107e-02, -9.5142e-01,  5.1812e-01,  2.5402e+00,\n",
      "          7.4889e-01, -1.2286e+00, -9.0621e-01, -1.3541e+00,  5.0640e-01,\n",
      "         -8.8565e-01,  1.7109e+00],\n",
      "        [ 7.6344e-01, -6.9552e-01, -1.0133e+00, -3.8251e-01,  1.1927e+00,\n",
      "         -1.0111e-01, -4.7119e-01, -1.2340e-01, -7.5162e-01,  2.2377e-01,\n",
      "         -1.5449e+00,  7.7182e-01],\n",
      "        [ 2.6601e-01, -7.1234e-02, -3.4635e-01, -5.6113e-02, -2.0530e+00,\n",
      "          2.3535e-01,  2.1030e-01,  8.6073e-02, -1.0642e-01, -1.9952e-01,\n",
      "         -2.0307e-02, -9.3812e-01],\n",
      "        [-4.1754e-02,  1.4541e-01,  4.1928e-01,  7.9494e-03,  8.1404e-01,\n",
      "          3.6763e-01, -2.1742e-03, -5.0162e-01, -1.7993e-01,  1.7284e-01,\n",
      "          5.1769e-02,  6.7477e-01],\n",
      "        [ 5.2340e-02, -1.1257e+00,  5.0905e-01,  9.9393e-01, -7.4339e-01,\n",
      "         -1.6066e-01, -1.6186e-01, -2.0402e-01,  2.2205e-01,  1.2627e+00,\n",
      "         -2.6960e-01,  1.3542e+00],\n",
      "        [-1.7395e-01,  2.8404e-01,  5.2505e-01,  3.1064e-01,  5.0222e+00,\n",
      "          1.2617e+00, -5.2437e-02, -1.2043e-02,  5.5744e-02,  4.7045e-01,\n",
      "          3.0201e-03,  3.5485e-01],\n",
      "        [ 2.7748e-01, -3.4016e-01, -5.9756e-01, -5.2938e-01,  3.0502e-01,\n",
      "          5.1544e-01, -9.2161e-01, -4.6620e-01, -4.8056e-01,  2.3991e-01,\n",
      "         -1.2178e-01, -2.7953e-01],\n",
      "        [-5.0162e-01,  2.2332e-01,  9.7731e-01, -1.0499e-01, -7.3233e-01,\n",
      "          2.0229e-01,  1.1203e+00,  9.1787e-02,  2.4649e-02, -6.3454e-01,\n",
      "          4.5750e-01, -7.9453e-01],\n",
      "        [-4.3523e-02,  3.0387e-01, -1.6200e-02,  1.6626e-01, -8.6753e-01,\n",
      "          4.0667e-02, -8.4304e-02,  4.8256e-01,  7.2746e-02, -1.8983e-01,\n",
      "          1.9339e-02, -3.2125e-01],\n",
      "        [ 2.4302e-01,  1.4563e-01, -4.6365e-01, -4.2736e-01, -1.8016e+00,\n",
      "         -3.3789e-01, -1.1533e-01, -3.1099e-01,  1.1524e-01, -4.1131e-01,\n",
      "         -1.3736e-01, -9.5671e-01],\n",
      "        [-1.4693e-01, -5.6998e-01, -3.7363e-01,  3.6322e-01,  3.3608e-01,\n",
      "         -2.6625e-01,  2.6238e-01, -1.1452e+00, -4.6563e-01,  3.2192e-01,\n",
      "          1.6601e-01,  1.3347e+00],\n",
      "        [-3.3099e-01,  1.8860e+00, -3.5097e-01,  2.1088e+00, -4.1478e-01,\n",
      "          4.6063e-01, -6.8829e-01,  1.0197e+00,  1.1986e-01, -1.0625e+00,\n",
      "          1.4006e-01,  4.3237e-02],\n",
      "        [ 1.2423e-01, -3.6816e-01,  1.2241e-01,  2.1646e-01,  1.3827e+00,\n",
      "          2.9250e-01,  4.2043e-01, -9.3698e-02, -2.7239e-01, -8.5359e-03,\n",
      "         -6.7190e-03,  1.6550e+00],\n",
      "        [-7.4495e-01,  8.6223e-03, -8.9223e-01,  3.6932e-01,  1.6042e+00,\n",
      "          1.1223e+00,  7.9963e-01, -9.5575e-01, -6.9739e-01, -5.9344e-01,\n",
      "         -4.1744e-02,  7.2921e-01],\n",
      "        [ 4.1785e-01, -1.0389e+00, -3.9880e-01, -8.8652e-01,  2.0658e+00,\n",
      "         -4.6977e-02,  8.6309e-02, -9.6765e-02, -7.8378e-01, -7.5777e-01,\n",
      "         -6.3131e-01,  7.0396e-02],\n",
      "        [ 5.4435e-01,  5.2981e-01,  6.6829e-01, -5.3226e-01, -5.8046e-02,\n",
      "          1.2071e+00,  2.8709e-01, -1.7323e+00, -1.4335e+00, -6.2034e-01,\n",
      "         -1.9671e-01, -1.0605e+00],\n",
      "        [-6.4276e-01, -9.7464e-01,  2.2409e-01,  2.4593e+00,  2.6441e+00,\n",
      "          3.4462e-01,  6.5226e-01, -3.8727e-01, -4.1101e-01, -1.4053e+00,\n",
      "          1.5137e-01,  4.1542e-01],\n",
      "        [ 3.8695e-01, -3.2560e-01, -5.2585e-01, -2.8572e-02,  4.4727e+00,\n",
      "         -7.4024e-02, -2.5026e-01, -6.0768e-01, -3.7323e-01,  1.9675e-01,\n",
      "         -3.9687e-01,  1.0371e+00],\n",
      "        [-5.4973e-01, -1.7461e+00,  1.1360e+00, -3.2361e-02,  9.7514e-01,\n",
      "         -9.7591e-01, -4.6160e-01, -4.5190e-01,  2.5023e-01,  3.3062e-01,\n",
      "          6.0767e-02,  1.6300e-01],\n",
      "        [ 6.5757e-01,  1.3465e+00, -5.3617e-01, -9.6743e-01, -1.3573e+00,\n",
      "          4.8819e-01,  8.8770e-01,  3.5371e-01, -1.5552e-02,  6.4950e-02,\n",
      "         -8.7352e-01, -8.8378e-01],\n",
      "        [ 3.5290e-01, -1.5106e+00,  5.9637e-01, -3.3072e-01,  1.1241e+00,\n",
      "          1.1831e-01, -9.6459e-02, -1.0935e+00, -1.3104e-01,  1.1358e+00,\n",
      "         -1.5371e+00, -1.2301e+00],\n",
      "        [ 8.7328e-01, -1.0725e+00, -1.2265e-01, -8.6959e-01,  1.1309e+00,\n",
      "          1.3915e+00, -2.6254e-02, -1.4122e-01,  6.3996e-01,  4.0005e-01,\n",
      "         -4.2422e-01,  8.3194e-01],\n",
      "        [ 2.0416e-01,  1.5020e-01,  1.0627e-01,  1.1529e+00,  1.5786e+00,\n",
      "         -2.7213e-01, -2.6087e-01, -1.2407e+00,  4.1705e-01,  5.9566e-01,\n",
      "         -1.8780e-01,  2.8938e-01],\n",
      "        [ 4.9924e-01, -3.3685e-01, -5.6606e-01, -2.7805e-01,  7.2828e-01,\n",
      "         -1.8068e-01, -5.9748e-01, -2.1337e+00, -9.9232e-01,  1.9398e-01,\n",
      "         -4.6624e-01,  1.3565e+00],\n",
      "        [ 2.7970e-01, -1.2252e+00, -1.0457e-01, -1.1961e+00,  1.5941e+00,\n",
      "         -7.0931e-01, -1.6468e-01, -5.8761e-01, -3.7002e-01,  3.0654e-02,\n",
      "         -2.7017e-02,  1.1647e+00]], device='cuda:0', requires_grad=True))\n",
      "('rnn.bias_ih_l0', Parameter containing:\n",
      "tensor([ 1.1057, -0.0021,  0.7087,  0.6522,  0.7478,  1.0415,  0.2293,  1.6549,\n",
      "         0.3242,  0.6921,  0.5560, -0.4991,  0.4888,  0.5006,  1.1301,  0.2818,\n",
      "         0.7539,  0.0637,  0.7396,  0.4200,  0.0887, -0.0282, -0.1735,  1.3394,\n",
      "         0.6544, -0.0213,  0.1238,  0.4016,  0.5422, -0.3817,  0.0378,  0.0989,\n",
      "        -0.1427,  0.1576, -0.2964,  0.3072,  0.8919,  0.7767,  0.7845, -0.3620,\n",
      "         0.3491,  0.2957,  0.7000,  0.4600,  1.1390,  0.3897,  0.5382,  0.3323],\n",
      "       device='cuda:0', requires_grad=True))\n",
      "('rnn.bias_hh_l0', Parameter containing:\n",
      "tensor([ 1.3032,  0.1796,  0.8491,  0.6645,  0.6685,  1.1958,  0.1772,  1.6940,\n",
      "         0.5155,  0.6097,  0.3773, -0.3531,  0.5137,  0.5074,  1.0246,  0.3556,\n",
      "         0.5270, -0.2082,  0.8021,  0.4318,  0.1554,  0.3939,  0.0547,  1.1746,\n",
      "         0.5239,  0.0957, -0.0239,  0.3966,  1.0100, -0.5099, -0.4258, -0.1417,\n",
      "         0.2036,  0.3215,  0.2343,  0.2306,  1.1462,  0.4468,  0.6293, -0.3557,\n",
      "         0.3028,  0.0530,  0.7315,  0.9040,  1.0044,  0.7176,  0.4155,  0.2199],\n",
      "       device='cuda:0', requires_grad=True))\n",
      "('rnn.weight_ih_l1', Parameter containing:\n",
      "tensor([[-1.5359e-01,  1.1078e-01, -4.9329e-01, -4.6343e-01, -3.5013e-01,\n",
      "          1.4615e-01, -5.8436e-01,  2.9740e-01,  1.2035e-02,  7.3786e-01,\n",
      "         -5.8051e-02, -1.7882e-01],\n",
      "        [-2.3862e-02, -6.8022e-01,  3.5067e-01,  7.9766e-01,  6.3182e-01,\n",
      "         -1.0204e-01,  4.4058e-02, -1.0635e-01, -3.3993e-01,  4.3245e-01,\n",
      "         -1.2105e-01,  9.0934e-01],\n",
      "        [ 1.3666e-01, -5.0937e-01,  3.5042e-01, -1.7312e-02, -3.6741e-01,\n",
      "          7.4876e-01, -1.0361e-01, -1.2494e-01, -5.6974e-01, -2.8628e-01,\n",
      "         -1.1779e-01,  4.9408e-01],\n",
      "        [-1.8710e-01, -1.7021e+00,  3.3701e-01,  1.7864e-01,  4.6215e-01,\n",
      "          2.0123e-01,  8.9051e-01,  1.2937e-01, -5.2815e-01, -5.0956e-02,\n",
      "         -2.0344e-01,  8.6892e-01],\n",
      "        [-1.8384e-01, -3.9101e-01, -9.5314e-02, -5.8988e-02, -1.5753e-02,\n",
      "          9.8010e-02, -1.6005e-01, -1.5714e-01, -4.0741e-01, -1.5388e-01,\n",
      "         -3.1709e-01,  2.3447e-01],\n",
      "        [ 1.0205e-01, -5.6666e-01,  7.4154e-01,  2.4223e-01,  1.5389e-01,\n",
      "         -3.8712e-01,  3.5690e-01, -5.2903e-01, -7.4926e-02, -1.3856e-01,\n",
      "          9.5289e-02,  5.1319e-01],\n",
      "        [ 2.9894e-01, -8.6492e-01,  1.2569e+00,  2.5515e-01, -2.3065e-02,\n",
      "         -1.5221e-01, -1.4781e-01, -6.0103e-01, -2.7871e-01, -2.1080e-01,\n",
      "         -5.8099e-01, -1.0110e-02],\n",
      "        [ 6.5829e-03, -5.6367e-01, -3.1324e-01, -4.2135e-01, -6.5204e-01,\n",
      "          3.6773e-01,  1.3652e-01, -6.0851e-01, -2.0827e-01,  7.7530e-02,\n",
      "         -7.3285e-01,  1.1090e+00],\n",
      "        [ 4.5375e-02, -1.4088e-01,  7.3454e-01,  2.1225e-01, -4.4350e-01,\n",
      "          1.7009e-01,  1.2873e-01, -2.7611e-01, -1.8233e-01, -2.2128e-01,\n",
      "         -2.9174e-01,  2.7374e-01],\n",
      "        [ 6.7438e-01, -9.1941e-01,  1.6988e-01,  6.3742e-01, -8.9987e-02,\n",
      "          7.7104e-01, -2.0356e-01, -6.0290e-01, -5.8540e-01,  1.0345e-01,\n",
      "         -2.9062e-01,  6.3731e-01],\n",
      "        [ 6.6364e-02, -4.0297e-01, -3.3448e-02, -3.5492e-01,  4.8502e-01,\n",
      "         -5.0510e-01, -1.7507e-01, -2.8301e-01,  2.2976e-02,  2.4117e-01,\n",
      "         -4.0617e-02,  2.3168e-01],\n",
      "        [ 8.9941e-02, -8.7700e-01,  2.2195e-02,  2.6285e-01, -1.7892e-01,\n",
      "         -4.4923e-02,  6.5673e-02, -2.7975e-01,  9.6516e-02,  9.5098e-01,\n",
      "         -3.0175e-01,  1.4547e+00],\n",
      "        [ 3.9323e-01, -1.2918e-01,  7.7570e-01, -1.7974e-01,  2.7761e-01,\n",
      "          7.9311e-01, -6.0737e-01,  1.2612e-01, -1.0042e+00, -8.0823e-03,\n",
      "          1.3972e-01, -1.3283e-01],\n",
      "        [ 4.5700e-01, -6.6610e-01, -2.0455e-01,  4.7516e-01,  6.7422e-01,\n",
      "         -1.3680e-01, -4.8876e-01, -8.0708e-01, -4.4406e-01,  7.9764e-01,\n",
      "          1.4146e-01,  1.3591e+00],\n",
      "        [ 9.7197e-02,  4.0253e-01,  1.1587e-01,  8.8101e-02,  3.2221e-01,\n",
      "          6.0233e-03,  2.3935e-01, -3.3727e-01, -4.6735e-01,  9.2068e-01,\n",
      "         -3.2223e-01, -3.5461e-01],\n",
      "        [ 3.7332e-01, -8.3922e-01, -2.0379e-01,  2.3715e-01,  8.9801e-01,\n",
      "          2.0165e-01,  9.1702e-01, -1.3679e-02, -6.1378e-01, -4.2873e-01,\n",
      "          3.9786e-01,  1.9473e+00],\n",
      "        [-1.8141e-01,  1.7554e-01, -1.2634e-01,  2.0121e-01,  3.0733e-01,\n",
      "          8.0400e-03, -1.3610e-01, -3.2964e-01, -3.0200e-02,  4.2486e-01,\n",
      "          4.6115e-01,  5.4485e-01],\n",
      "        [ 4.8927e-02, -1.3708e-01,  2.0459e-01, -1.2469e-01,  3.1498e-01,\n",
      "          1.0348e-01,  1.4175e-01, -3.8248e-01, -5.3756e-01, -4.2193e-01,\n",
      "          4.9668e-01, -1.1623e-01],\n",
      "        [ 4.5512e-01,  4.8305e-01,  9.2317e-01,  9.7336e-03,  3.5640e-01,\n",
      "          1.0892e-01, -4.2530e-01, -8.3058e-01, -7.6200e-01,  2.0322e-01,\n",
      "         -6.0723e-01,  7.5466e-02],\n",
      "        [ 1.4327e-01,  3.4975e-01, -7.2927e-01, -2.7323e-01,  7.2502e-01,\n",
      "         -6.8847e-02, -3.4564e-01, -7.3940e-01, -2.4648e-01,  1.2535e+00,\n",
      "         -4.6571e-01, -6.4756e-02],\n",
      "        [-1.7680e-03, -4.5936e-01,  7.3852e-02,  2.4669e-01,  3.0108e-02,\n",
      "         -9.5110e-02,  2.7368e-01,  1.6096e-01,  6.7333e-03, -5.5934e-01,\n",
      "          2.9490e-01, -6.4499e-03],\n",
      "        [ 5.2232e-01, -1.1203e-01, -5.4145e-01, -8.4369e-02, -1.2224e-02,\n",
      "         -1.1482e-01, -1.6530e-01, -3.0963e-02, -9.1093e-02, -4.2305e-03,\n",
      "         -1.8668e-01,  8.6596e-01],\n",
      "        [ 1.9743e-01, -7.1217e-01,  1.7348e-02,  5.2777e-01,  9.6423e-01,\n",
      "          2.4008e-01, -4.4555e-01,  4.5851e-01, -5.2738e-01,  5.2836e-01,\n",
      "          5.1633e-01, -3.6217e-02],\n",
      "        [-1.2589e-01, -9.8295e-01, -1.4877e-01,  4.4841e-01,  6.0294e-01,\n",
      "          1.9498e-02, -1.7334e-01, -3.7573e-01, -9.6353e-04,  5.3328e-01,\n",
      "         -1.6175e-01,  1.1099e+00],\n",
      "        [-2.5717e-01, -3.4259e-02, -4.8178e-01, -1.5857e-01,  9.1424e-02,\n",
      "         -1.0539e-01, -2.2319e-01,  6.2680e-01, -3.7947e-01,  6.1055e-01,\n",
      "          4.2664e-01, -1.0221e-01],\n",
      "        [-3.5738e-01,  8.4919e-01,  4.2269e-01, -2.0101e-02, -5.1345e-01,\n",
      "          5.1406e-01, -6.8495e-02,  6.6888e-01, -1.4257e-01, -3.0659e-01,\n",
      "         -4.1907e-01, -6.7642e-01],\n",
      "        [-2.3332e-01,  2.8449e-02,  1.4948e-01, -3.4811e-01,  8.5451e-02,\n",
      "          2.7471e-01,  4.8991e-01, -6.5447e-01,  1.0520e-01, -1.7606e-01,\n",
      "         -2.5090e-01, -3.4019e-01],\n",
      "        [-4.5526e-01,  6.3548e-01,  6.5119e-01,  1.3229e-01, -1.8912e-02,\n",
      "         -2.0182e-01, -9.3436e-02,  1.2251e-02,  3.7283e-03, -2.1171e-01,\n",
      "          2.6340e-01, -4.7624e-01],\n",
      "        [-1.1256e-01,  1.1693e-01, -3.6928e-01, -2.4687e-01,  3.6115e-02,\n",
      "         -3.1745e-01,  7.4719e-01, -8.8180e-01,  1.4342e-01, -1.4836e-01,\n",
      "         -3.5216e-01,  6.0927e-01],\n",
      "        [ 1.0473e-01,  4.8772e-03,  4.8010e-01, -2.5402e-01, -2.7933e-01,\n",
      "          2.3102e-02, -2.3748e-01,  2.4584e-01, -2.6209e-01, -3.5114e-01,\n",
      "          8.2822e-02,  2.0911e-01],\n",
      "        [ 1.6601e-01, -5.5150e-01,  1.8861e-02, -2.6192e-03,  3.5268e-02,\n",
      "          1.0388e-01, -1.7989e-01, -5.9817e-01, -1.6176e-01,  8.1776e-01,\n",
      "         -3.5926e-01,  3.0035e-01],\n",
      "        [-2.3667e-01, -1.1860e-02,  4.4574e-01,  5.2966e-01,  2.5413e-01,\n",
      "          3.5653e-01,  1.1414e-01, -1.9192e-01, -4.5939e-01,  1.4021e-01,\n",
      "         -2.2921e-01, -3.4943e-01],\n",
      "        [ 3.9104e-01,  1.2535e-01, -1.7259e-01,  2.5046e-01, -8.8818e-01,\n",
      "          5.0437e-02, -3.1902e-01, -1.1498e-01,  9.9704e-02, -5.9810e-01,\n",
      "         -1.8792e-01, -6.4918e-01],\n",
      "        [-9.5712e-02,  2.0060e-01, -6.9561e-01,  2.2529e-01,  1.3710e-01,\n",
      "         -4.6770e-01,  3.1164e-01, -4.6854e-02,  1.9360e-01,  6.9984e-01,\n",
      "         -2.7807e-01, -6.2275e-02],\n",
      "        [ 1.8555e-01,  1.8415e-02,  8.1455e-02,  5.6489e-01,  6.2296e-01,\n",
      "          3.4961e-01, -4.8436e-01,  6.6184e-01, -6.8826e-01,  3.1742e-01,\n",
      "          3.2341e-01,  3.0476e-01],\n",
      "        [ 9.7112e-02,  6.5645e-01,  3.2735e-01,  3.6188e-01, -2.0182e-01,\n",
      "         -3.9119e-01, -2.3509e-01,  4.5935e-01, -7.6244e-02,  5.6660e-01,\n",
      "          5.5180e-01, -4.1719e-01],\n",
      "        [ 4.0627e-01,  5.7937e-01, -5.6891e-01, -1.1286e-01, -5.0213e-01,\n",
      "          4.8838e-01, -5.9870e-01, -4.3405e-01, -3.1639e-01,  7.8815e-01,\n",
      "         -1.4962e-01, -5.1423e-01],\n",
      "        [ 2.8397e-01, -5.2085e-01,  1.2652e-01,  3.9544e-01,  1.4683e-02,\n",
      "          1.9225e-01,  1.5192e-01, -3.0374e-01, -4.1676e-01,  4.0500e-01,\n",
      "          1.2505e-01,  1.1983e+00],\n",
      "        [-1.2376e-01,  2.6724e-01, -3.0613e-01,  2.5152e-01, -2.8091e-01,\n",
      "          6.7940e-02,  6.7066e-02, -5.1374e-01, -3.0385e-01,  7.8566e-01,\n",
      "         -1.5341e-01,  2.3525e-01],\n",
      "        [ 3.5215e-01, -1.0273e+00,  8.8584e-01,  1.7987e-01,  6.2710e-01,\n",
      "          5.4418e-01,  1.0665e+00, -7.4711e-01, -2.2249e-01, -7.8814e-01,\n",
      "          1.4976e-01,  7.7510e-01],\n",
      "        [-3.5881e-01, -2.1825e-01, -3.5067e-01,  3.7922e-01,  1.6880e-01,\n",
      "         -7.5445e-02,  7.8887e-02, -2.3123e-01, -2.6048e-01,  3.5640e-01,\n",
      "         -1.9559e-01,  2.5297e-01],\n",
      "        [-7.4937e-02, -4.6468e-01,  7.3313e-01,  2.0946e-01, -3.2163e-01,\n",
      "         -1.1787e-01,  9.7778e-02, -5.7513e-01, -2.2611e-02,  2.9164e-01,\n",
      "          1.1094e-01,  2.4049e-01],\n",
      "        [-2.0799e-03, -8.1428e-02,  1.0295e+00,  6.3440e-02,  1.3653e-01,\n",
      "          1.0723e-01, -5.1455e-01, -1.5839e-01, -5.5752e-02,  2.5728e-01,\n",
      "         -8.5370e-02,  3.5982e-01],\n",
      "        [ 6.1874e-01,  3.2399e-01, -1.1809e+00, -4.3689e-02, -2.2093e-01,\n",
      "          1.2178e-02,  1.8370e-01, -6.7988e-02, -9.8704e-02,  1.0988e+00,\n",
      "         -6.3583e-01,  4.0385e-01],\n",
      "        [ 7.9326e-03, -3.8812e-01,  3.1430e-01,  5.7471e-01, -1.6535e-01,\n",
      "         -1.1654e-01, -1.8280e-02, -9.9480e-02, -2.0462e-01, -2.0255e-01,\n",
      "         -2.7927e-01,  2.6121e-01],\n",
      "        [ 4.5258e-01, -9.1979e-02, -3.9470e-01,  3.9052e-01,  2.7385e-01,\n",
      "          3.5972e-01, -2.9554e-01, -8.5642e-01, -5.5388e-01, -3.2062e-01,\n",
      "         -2.7170e-01,  8.4985e-01],\n",
      "        [ 4.8707e-01,  5.8763e-02, -5.2254e-01, -1.8046e-01,  4.2229e-01,\n",
      "         -5.5702e-01,  3.2156e-01, -5.1027e-01,  1.6930e-01,  1.0936e-01,\n",
      "         -5.1415e-01,  8.6081e-01],\n",
      "        [-2.6803e-01, -9.5698e-01,  4.4776e-01,  2.9343e-01, -1.4914e-01,\n",
      "         -1.2213e-01,  1.1094e-01, -3.6342e-01,  1.4841e-01,  1.1209e+00,\n",
      "         -2.5790e-01,  1.3217e+00]], device='cuda:0', requires_grad=True))\n",
      "('rnn.weight_hh_l1', Parameter containing:\n",
      "tensor([[ 0.6761,  0.1566, -0.5997,  0.5991, -0.5156,  0.0808,  0.0325, -0.4519,\n",
      "          0.0816,  0.8059,  0.2904,  0.3794],\n",
      "        [-0.6443, -0.0686,  0.8697, -0.3135,  0.4505, -0.2481, -0.9867, -0.3767,\n",
      "         -0.0958, -0.6408,  0.1919,  0.3041],\n",
      "        [ 0.2781, -0.0779, -0.0178, -0.1672,  0.4772,  0.3425,  0.2759, -0.1682,\n",
      "          0.4977, -0.4075,  0.2536, -0.3938],\n",
      "        [-0.2543, -0.6204,  0.1645, -0.7234,  0.3628, -0.5710, -0.5974, -0.4323,\n",
      "         -0.7099, -0.1522,  0.1396,  0.2529],\n",
      "        [ 0.1894,  0.0510,  0.3691,  0.4887, -0.2728, -0.2123,  0.0402,  0.1269,\n",
      "          0.0226, -1.1379,  0.1958, -0.0299],\n",
      "        [-0.2814, -0.3252, -0.3525, -0.1752, -0.0191, -0.8077, -0.1895, -0.2481,\n",
      "         -0.2407, -0.2177,  0.1438,  0.3929],\n",
      "        [-0.4821, -0.0768, -0.7159, -0.5824, -0.7363, -0.1165, -0.2052,  0.3852,\n",
      "         -0.2379, -0.3236,  0.4482, -0.1407],\n",
      "        [-0.4727, -0.1493,  0.1551, -0.1772, -0.0144,  0.1693, -0.3943, -0.3866,\n",
      "          0.8874, -0.9060,  0.0146, -0.0348],\n",
      "        [-1.0049, -0.1632, -0.2891, -0.1354, -0.1933, -0.5297, -0.2237, -0.6749,\n",
      "         -0.3206, -0.4153, -0.4752, -0.2143],\n",
      "        [ 0.1786, -0.3192,  0.2211, -0.0355,  0.0323, -0.0400, -0.0994,  0.0802,\n",
      "          0.3601, -0.2636,  0.3931, -0.5617],\n",
      "        [ 0.6513, -0.3791,  0.3461, -0.4646, -0.0490,  0.4003,  0.2881, -0.6301,\n",
      "          0.0839, -1.0274,  0.1703,  0.0840],\n",
      "        [-0.1946,  0.1466, -0.7316,  0.4843, -0.4480, -0.0915,  0.0608, -0.1898,\n",
      "         -0.2918,  0.1480,  0.1683,  0.4645],\n",
      "        [ 0.2608, -0.0839,  0.6714,  0.1439,  0.0730,  0.2709,  0.0729, -0.1545,\n",
      "          0.7834, -0.6654,  0.4271, -0.3924],\n",
      "        [ 0.1038, -0.5206,  0.0428, -0.2011,  0.4420, -0.1241,  0.6409, -0.2884,\n",
      "         -0.3145,  0.1045, -0.1477, -0.0512],\n",
      "        [-0.2229,  0.3605, -0.0187,  0.0994,  0.5578,  0.2124,  0.2736, -0.0783,\n",
      "         -0.0888, -0.1613,  0.1673,  0.1463],\n",
      "        [-0.0299, -0.6113, -0.0724,  0.0089,  0.2824, -0.6487,  0.7890, -0.7288,\n",
      "         -0.5532,  0.6331,  0.4365, -0.1503],\n",
      "        [-0.1189,  0.5317,  0.1496,  0.6195,  0.0122, -0.1437,  0.3869,  0.2355,\n",
      "         -0.4106, -0.1447,  0.2037,  0.4219],\n",
      "        [-0.1153,  0.1055, -0.4570, -0.0514,  0.0250, -0.5772, -0.1355, -0.2750,\n",
      "         -0.0308,  0.3520, -0.1000,  0.5023],\n",
      "        [-0.1769,  0.2676, -0.0023, -0.3017, -0.2896,  0.1807,  0.3392,  0.5462,\n",
      "         -0.0360,  0.2051,  0.2776, -0.3328],\n",
      "        [-0.2809,  0.8067,  0.1138,  0.6741, -0.3315, -0.0303,  0.0472,  0.1521,\n",
      "          0.5341, -0.2740,  0.0033,  0.0592],\n",
      "        [-1.0304, -0.1999, -0.3930, -0.1246, -0.0607, -0.1121, -0.1550, -0.1081,\n",
      "         -0.0941, -0.5041,  0.2239, -0.0242],\n",
      "        [-0.0803,  0.1156, -0.3870, -0.0268, -0.2079, -0.0837,  0.1018, -0.0291,\n",
      "         -0.1828,  0.2060,  0.3804, -0.0401],\n",
      "        [-0.2088, -0.0599, -0.2620,  0.1097, -0.1647, -0.0159,  0.1764, -0.4416,\n",
      "          0.1711, -0.1000, -0.3995,  0.2130],\n",
      "        [-0.3749, -0.2731, -0.7541,  0.1373, -0.4777, -0.0950,  0.2529,  0.0969,\n",
      "         -0.2269, -0.3630,  0.3528,  0.0969],\n",
      "        [ 0.3653,  0.1262, -0.1927,  0.0616, -0.1872, -0.0359,  0.5690,  0.6613,\n",
      "          0.1814,  0.1320,  0.7510,  0.1637],\n",
      "        [-0.2299,  0.0998,  0.4455, -0.5769, -0.1478,  0.5696,  0.0582,  0.4001,\n",
      "          0.1466, -0.3568,  0.0557, -0.2342],\n",
      "        [-0.0481, -0.0410,  0.0880, -0.2315,  0.4904,  0.0913, -0.0429, -0.0113,\n",
      "          0.3780, -0.7814,  0.1487, -0.3409],\n",
      "        [ 0.3264,  0.2580,  0.5954, -0.4837,  0.3116,  0.1586,  0.1285,  0.1340,\n",
      "          0.3987, -0.1628, -0.2733,  0.0443],\n",
      "        [ 0.2519, -0.1484,  0.0250,  0.4722,  0.3577, -0.1392, -0.1600, -0.4638,\n",
      "         -0.3397,  0.1306,  0.1553, -0.2419],\n",
      "        [ 0.0237,  0.0480, -0.5123,  0.7228, -0.4304, -0.4459, -0.4513, -0.2155,\n",
      "         -0.1771,  0.6408, -0.5680,  0.2496],\n",
      "        [-0.3108,  0.6391, -0.1759,  0.3382, -0.6261,  0.1668,  0.2035,  0.2565,\n",
      "         -0.1521,  0.4266,  0.0812,  0.2623],\n",
      "        [-0.6605,  0.4112,  0.3038, -0.4755,  0.1145, -0.1474,  0.1187,  0.3544,\n",
      "          0.4349, -0.4386,  0.2036, -0.6208],\n",
      "        [-0.2216,  0.4404, -0.2659,  0.3392,  0.0762,  0.3130,  0.0131, -0.4096,\n",
      "         -0.1500, -0.3264,  0.1334, -0.1672],\n",
      "        [ 0.0720, -0.0177,  0.4210,  0.0372,  0.3829, -0.3230, -0.0146,  0.8976,\n",
      "         -0.1550,  0.1595, -0.2244, -0.2249],\n",
      "        [-0.3258, -0.0835, -0.3218, -0.2044, -0.4835, -0.2254,  0.0994, -0.0294,\n",
      "         -0.1172,  0.2074, -0.3071,  0.3393],\n",
      "        [ 0.0343,  0.2193,  0.0851, -0.0971, -0.0434, -0.0507,  0.3292,  0.5721,\n",
      "         -0.2843,  0.4347,  0.4282,  0.2184],\n",
      "        [ 0.8000,  0.2325, -0.1825, -0.0770, -0.1493,  0.7280,  0.2410, -0.1438,\n",
      "          0.5362, -0.0837,  0.5113, -0.1560],\n",
      "        [-0.2540, -0.2919,  0.6152, -0.6533, -0.1005, -0.1622,  0.4827, -0.0354,\n",
      "         -0.0441, -0.3323,  0.2192,  0.1929],\n",
      "        [ 0.0696, -0.7017, -0.0455, -0.3284,  0.2227,  0.6866,  0.0865, -0.1503,\n",
      "         -0.1075, -0.6465,  0.3031, -0.2400],\n",
      "        [-0.1382, -0.3791,  0.4263, -1.1143,  0.4948, -0.8525, -0.5102, -0.7367,\n",
      "         -0.6195, -0.7824,  0.2349, -0.5822],\n",
      "        [-0.1436,  0.2980, -0.1881,  0.1397,  0.1953,  0.0171, -0.0102, -0.3062,\n",
      "         -0.4100, -0.4695,  0.5832, -0.3610],\n",
      "        [-0.5183, -0.3414, -0.0876, -0.2841, -0.2980, -0.4812,  0.0812, -0.0035,\n",
      "         -0.6398, -0.0142, -0.3662,  0.1374],\n",
      "        [-0.3230, -0.1340, -0.4136, -0.8797, -0.5102, -0.0392,  0.3706, -0.0236,\n",
      "          0.1081,  0.2248,  0.4688, -0.3569],\n",
      "        [-0.1796, -0.5318,  0.0937, -0.5043, -0.2322, -0.0588, -0.0967, -0.0321,\n",
      "          0.4412, -0.6039,  0.3928, -0.4812],\n",
      "        [-1.1892,  0.0660,  0.0609, -0.3627, -0.0141, -0.1553, -0.3901, -0.1026,\n",
      "          0.0637, -0.3386,  0.0854, -0.3365],\n",
      "        [ 0.9466,  0.0113, -0.0933, -0.1147,  0.0032, -0.1069,  0.1580, -0.2389,\n",
      "          0.7759, -0.5065,  0.7907, -0.2861],\n",
      "        [-0.1663, -0.1114,  0.2537,  0.0448,  0.3759, -0.3789,  0.4719, -0.2895,\n",
      "          0.2880, -0.2455,  0.2058, -0.4067],\n",
      "        [-0.0823, -0.6439, -0.3326, -0.3400, -0.0250,  0.0744, -0.2302,  0.2425,\n",
      "         -0.2068, -0.3913,  0.1502,  0.2045]], device='cuda:0',\n",
      "       requires_grad=True))\n",
      "('rnn.bias_ih_l1', Parameter containing:\n",
      "tensor([-0.1657, -0.4899,  0.3643, -0.4081,  0.0022, -0.0255, -0.0268,  0.2560,\n",
      "        -0.4868, -0.2022, -0.3247, -0.3063,  0.2309,  0.0021,  0.1612, -0.3118,\n",
      "         0.2989, -0.2744, -0.1398,  0.2634, -0.2713,  0.2111,  0.0175, -0.0915,\n",
      "         0.1329, -0.1051,  0.2085, -0.0225,  0.1839,  0.0710,  0.1284,  0.4108,\n",
      "         0.1074, -0.3054, -0.0449, -0.1563,  0.4236, -0.0189,  0.3204, -0.4533,\n",
      "        -0.0993, -0.5442,  0.1368,  0.5500, -0.0397,  0.4457, -0.3671, -0.1492],\n",
      "       device='cuda:0', requires_grad=True))\n",
      "('rnn.bias_hh_l1', Parameter containing:\n",
      "tensor([ 0.2357, -0.3067,  0.0938, -0.1164,  0.2779, -0.2645, -0.1270,  0.0809,\n",
      "        -0.0698, -0.1603, -0.1957, -0.3079,  0.5602, -0.1279,  0.0044, -0.4809,\n",
      "        -0.0939, -0.0620,  0.0538,  0.1669, -0.1992,  0.0447, -0.0587, -0.3105,\n",
      "        -0.3025, -0.0399,  0.2705,  0.1919,  0.3436,  0.0793, -0.1656, -0.0823,\n",
      "         0.0344,  0.1920,  0.1434, -0.3023,  0.6648, -0.2726,  0.3799, -0.1941,\n",
      "         0.2088, -0.4461,  0.1672,  0.3949, -0.4451,  0.4698, -0.3638, -0.0839],\n",
      "       device='cuda:0', requires_grad=True))\n",
      "('decoder.weight', Parameter containing:\n",
      "tensor([[ 3.5460e-01, -5.9825e-01,  1.5185e-01, -5.2659e-01,  3.2689e-01,\n",
      "          5.6722e-02,  4.3990e-01,  1.4707e-01,  4.7173e-04, -4.3283e-02,\n",
      "          5.0169e-01, -4.3177e-01],\n",
      "        [-1.1237e-01,  2.5579e-01, -3.5485e-01,  4.4475e-01, -2.7303e-01,\n",
      "          1.0978e-02, -4.2883e-01, -8.1682e-03,  3.3490e-02,  3.7530e-01,\n",
      "         -6.4585e-01,  2.0281e-01]], device='cuda:0', requires_grad=True))\n",
      "('decoder.bias', Parameter containing:\n",
      "tensor([ 0.5886, -0.1265], device='cuda:0', requires_grad=True))\n"
     ]
    }
   ],
   "source": [
    "for param in model.named_parameters():\n",
    "  print(param)\n"
   ]
  },
  {
   "cell_type": "code",
   "execution_count": 36,
   "metadata": {},
   "outputs": [],
   "source": [
    "torch.save({\n",
    "            'model_state_dict': model.state_dict(),\n",
    "            'optimizer_state_dict': optimizer.state_dict(),\n",
    "            'run_history':run_hist,\n",
    "            }, \".RNN_1.pt\")\n"
   ]
  },
  {
   "cell_type": "code",
   "execution_count": 37,
   "metadata": {},
   "outputs": [
    {
     "name": "stdout",
     "output_type": "stream",
     "text": [
      "\n",
      "Epoch 1/15\n",
      "----------\n"
     ]
    },
    {
     "data": {
      "application/vnd.jupyter.widget-view+json": {
       "model_id": "",
       "version_major": 2,
       "version_minor": 0
      },
      "text/plain": [
       "HBox(children=(FloatProgress(value=0.0, max=20099.0), HTML(value='')))"
      ]
     },
     "metadata": {},
     "output_type": "display_data"
    },
    {
     "name": "stdout",
     "output_type": "stream",
     "text": [
      "train loss: 0.3986, train acc: 0.8551, elapsed:391.3887\n"
     ]
    },
    {
     "data": {
      "application/vnd.jupyter.widget-view+json": {
       "model_id": "",
       "version_major": 2,
       "version_minor": 0
      },
      "text/plain": [
       "HBox(children=(FloatProgress(value=0.0, max=10050.0), HTML(value='')))"
      ]
     },
     "metadata": {},
     "output_type": "display_data"
    },
    {
     "name": "stdout",
     "output_type": "stream",
     "text": [
      "valid loss: 0.3966, valid acc: 0.8560, elapsed:31.0022\n",
      "\n",
      "Epoch 2/15\n",
      "----------\n"
     ]
    },
    {
     "data": {
      "application/vnd.jupyter.widget-view+json": {
       "model_id": "",
       "version_major": 2,
       "version_minor": 0
      },
      "text/plain": [
       "HBox(children=(FloatProgress(value=0.0, max=20099.0), HTML(value='')))"
      ]
     },
     "metadata": {},
     "output_type": "display_data"
    },
    {
     "name": "stdout",
     "output_type": "stream",
     "text": [
      "train loss: 0.3982, train acc: 0.8551, elapsed:399.8248\n"
     ]
    },
    {
     "data": {
      "application/vnd.jupyter.widget-view+json": {
       "model_id": "",
       "version_major": 2,
       "version_minor": 0
      },
      "text/plain": [
       "HBox(children=(FloatProgress(value=0.0, max=10050.0), HTML(value='')))"
      ]
     },
     "metadata": {},
     "output_type": "display_data"
    },
    {
     "name": "stdout",
     "output_type": "stream",
     "text": [
      "valid loss: 0.3969, valid acc: 0.8560, elapsed:31.4357\n",
      "\n",
      "Epoch 3/15\n",
      "----------\n"
     ]
    },
    {
     "data": {
      "application/vnd.jupyter.widget-view+json": {
       "model_id": "",
       "version_major": 2,
       "version_minor": 0
      },
      "text/plain": [
       "HBox(children=(FloatProgress(value=0.0, max=20099.0), HTML(value='')))"
      ]
     },
     "metadata": {},
     "output_type": "display_data"
    },
    {
     "name": "stdout",
     "output_type": "stream",
     "text": [
      "train loss: 0.3980, train acc: 0.8551, elapsed:401.9308\n"
     ]
    },
    {
     "data": {
      "application/vnd.jupyter.widget-view+json": {
       "model_id": "",
       "version_major": 2,
       "version_minor": 0
      },
      "text/plain": [
       "HBox(children=(FloatProgress(value=0.0, max=10050.0), HTML(value='')))"
      ]
     },
     "metadata": {},
     "output_type": "display_data"
    },
    {
     "name": "stdout",
     "output_type": "stream",
     "text": [
      "valid loss: 0.3964, valid acc: 0.8560, elapsed:31.0404\n",
      "\n",
      "Epoch 4/15\n",
      "----------\n"
     ]
    },
    {
     "data": {
      "application/vnd.jupyter.widget-view+json": {
       "model_id": "",
       "version_major": 2,
       "version_minor": 0
      },
      "text/plain": [
       "HBox(children=(FloatProgress(value=0.0, max=20099.0), HTML(value='')))"
      ]
     },
     "metadata": {},
     "output_type": "display_data"
    },
    {
     "name": "stdout",
     "output_type": "stream",
     "text": [
      "train loss: 0.3977, train acc: 0.8551, elapsed:395.9930\n"
     ]
    },
    {
     "data": {
      "application/vnd.jupyter.widget-view+json": {
       "model_id": "",
       "version_major": 2,
       "version_minor": 0
      },
      "text/plain": [
       "HBox(children=(FloatProgress(value=0.0, max=10050.0), HTML(value='')))"
      ]
     },
     "metadata": {},
     "output_type": "display_data"
    },
    {
     "name": "stdout",
     "output_type": "stream",
     "text": [
      "valid loss: 0.3960, valid acc: 0.8560, elapsed:31.5714\n",
      "\n",
      "Epoch 5/15\n",
      "----------\n"
     ]
    },
    {
     "data": {
      "application/vnd.jupyter.widget-view+json": {
       "model_id": "",
       "version_major": 2,
       "version_minor": 0
      },
      "text/plain": [
       "HBox(children=(FloatProgress(value=0.0, max=20099.0), HTML(value='')))"
      ]
     },
     "metadata": {},
     "output_type": "display_data"
    },
    {
     "name": "stdout",
     "output_type": "stream",
     "text": [
      "train loss: 0.3977, train acc: 0.8551, elapsed:399.8593\n"
     ]
    },
    {
     "data": {
      "application/vnd.jupyter.widget-view+json": {
       "model_id": "",
       "version_major": 2,
       "version_minor": 0
      },
      "text/plain": [
       "HBox(children=(FloatProgress(value=0.0, max=10050.0), HTML(value='')))"
      ]
     },
     "metadata": {},
     "output_type": "display_data"
    },
    {
     "name": "stdout",
     "output_type": "stream",
     "text": [
      "valid loss: 0.3961, valid acc: 0.8560, elapsed:31.2701\n",
      "\n",
      "Epoch 6/15\n",
      "----------\n"
     ]
    },
    {
     "data": {
      "application/vnd.jupyter.widget-view+json": {
       "model_id": "",
       "version_major": 2,
       "version_minor": 0
      },
      "text/plain": [
       "HBox(children=(FloatProgress(value=0.0, max=20099.0), HTML(value='')))"
      ]
     },
     "metadata": {},
     "output_type": "display_data"
    },
    {
     "name": "stdout",
     "output_type": "stream",
     "text": [
      "train loss: 0.3975, train acc: 0.8551, elapsed:389.8695\n"
     ]
    },
    {
     "data": {
      "application/vnd.jupyter.widget-view+json": {
       "model_id": "",
       "version_major": 2,
       "version_minor": 0
      },
      "text/plain": [
       "HBox(children=(FloatProgress(value=0.0, max=10050.0), HTML(value='')))"
      ]
     },
     "metadata": {},
     "output_type": "display_data"
    },
    {
     "name": "stdout",
     "output_type": "stream",
     "text": [
      "valid loss: 0.3956, valid acc: 0.8560, elapsed:32.3890\n",
      "\n",
      "Epoch 7/15\n",
      "----------\n"
     ]
    },
    {
     "data": {
      "application/vnd.jupyter.widget-view+json": {
       "model_id": "",
       "version_major": 2,
       "version_minor": 0
      },
      "text/plain": [
       "HBox(children=(FloatProgress(value=0.0, max=20099.0), HTML(value='')))"
      ]
     },
     "metadata": {},
     "output_type": "display_data"
    },
    {
     "name": "stdout",
     "output_type": "stream",
     "text": [
      "train loss: 0.3973, train acc: 0.8551, elapsed:396.8174\n"
     ]
    },
    {
     "data": {
      "application/vnd.jupyter.widget-view+json": {
       "model_id": "",
       "version_major": 2,
       "version_minor": 0
      },
      "text/plain": [
       "HBox(children=(FloatProgress(value=0.0, max=10050.0), HTML(value='')))"
      ]
     },
     "metadata": {},
     "output_type": "display_data"
    },
    {
     "name": "stdout",
     "output_type": "stream",
     "text": [
      "valid loss: 0.3961, valid acc: 0.8560, elapsed:32.8968\n",
      "\n",
      "Epoch 8/15\n",
      "----------\n"
     ]
    },
    {
     "data": {
      "application/vnd.jupyter.widget-view+json": {
       "model_id": "",
       "version_major": 2,
       "version_minor": 0
      },
      "text/plain": [
       "HBox(children=(FloatProgress(value=0.0, max=20099.0), HTML(value='')))"
      ]
     },
     "metadata": {},
     "output_type": "display_data"
    },
    {
     "name": "stdout",
     "output_type": "stream",
     "text": [
      "train loss: 0.3972, train acc: 0.8551, elapsed:398.0242\n"
     ]
    },
    {
     "data": {
      "application/vnd.jupyter.widget-view+json": {
       "model_id": "",
       "version_major": 2,
       "version_minor": 0
      },
      "text/plain": [
       "HBox(children=(FloatProgress(value=0.0, max=10050.0), HTML(value='')))"
      ]
     },
     "metadata": {},
     "output_type": "display_data"
    },
    {
     "name": "stdout",
     "output_type": "stream",
     "text": [
      "valid loss: 0.3954, valid acc: 0.8560, elapsed:31.4808\n",
      "\n",
      "Epoch 9/15\n",
      "----------\n"
     ]
    },
    {
     "data": {
      "application/vnd.jupyter.widget-view+json": {
       "model_id": "",
       "version_major": 2,
       "version_minor": 0
      },
      "text/plain": [
       "HBox(children=(FloatProgress(value=0.0, max=20099.0), HTML(value='')))"
      ]
     },
     "metadata": {},
     "output_type": "display_data"
    },
    {
     "name": "stdout",
     "output_type": "stream",
     "text": [
      "train loss: 0.3971, train acc: 0.8551, elapsed:398.3950\n"
     ]
    },
    {
     "data": {
      "application/vnd.jupyter.widget-view+json": {
       "model_id": "",
       "version_major": 2,
       "version_minor": 0
      },
      "text/plain": [
       "HBox(children=(FloatProgress(value=0.0, max=10050.0), HTML(value='')))"
      ]
     },
     "metadata": {},
     "output_type": "display_data"
    },
    {
     "name": "stdout",
     "output_type": "stream",
     "text": [
      "valid loss: 0.3956, valid acc: 0.8560, elapsed:31.8380\n",
      "\n",
      "Epoch 10/15\n",
      "----------\n"
     ]
    },
    {
     "data": {
      "application/vnd.jupyter.widget-view+json": {
       "model_id": "",
       "version_major": 2,
       "version_minor": 0
      },
      "text/plain": [
       "HBox(children=(FloatProgress(value=0.0, max=20099.0), HTML(value='')))"
      ]
     },
     "metadata": {},
     "output_type": "display_data"
    },
    {
     "name": "stdout",
     "output_type": "stream",
     "text": [
      "train loss: 0.3969, train acc: 0.8551, elapsed:396.4944\n"
     ]
    },
    {
     "data": {
      "application/vnd.jupyter.widget-view+json": {
       "model_id": "",
       "version_major": 2,
       "version_minor": 0
      },
      "text/plain": [
       "HBox(children=(FloatProgress(value=0.0, max=10050.0), HTML(value='')))"
      ]
     },
     "metadata": {},
     "output_type": "display_data"
    },
    {
     "name": "stdout",
     "output_type": "stream",
     "text": [
      "valid loss: 0.3950, valid acc: 0.8560, elapsed:32.6087\n",
      "\n",
      "Epoch 11/15\n",
      "----------\n"
     ]
    },
    {
     "data": {
      "application/vnd.jupyter.widget-view+json": {
       "model_id": "",
       "version_major": 2,
       "version_minor": 0
      },
      "text/plain": [
       "HBox(children=(FloatProgress(value=0.0, max=20099.0), HTML(value='')))"
      ]
     },
     "metadata": {},
     "output_type": "display_data"
    },
    {
     "name": "stdout",
     "output_type": "stream",
     "text": [
      "train loss: 0.3967, train acc: 0.8551, elapsed:390.6698\n"
     ]
    },
    {
     "data": {
      "application/vnd.jupyter.widget-view+json": {
       "model_id": "",
       "version_major": 2,
       "version_minor": 0
      },
      "text/plain": [
       "HBox(children=(FloatProgress(value=0.0, max=10050.0), HTML(value='')))"
      ]
     },
     "metadata": {},
     "output_type": "display_data"
    },
    {
     "name": "stdout",
     "output_type": "stream",
     "text": [
      "valid loss: 0.3948, valid acc: 0.8560, elapsed:33.0893\n",
      "\n",
      "Epoch 12/15\n",
      "----------\n"
     ]
    },
    {
     "data": {
      "application/vnd.jupyter.widget-view+json": {
       "model_id": "",
       "version_major": 2,
       "version_minor": 0
      },
      "text/plain": [
       "HBox(children=(FloatProgress(value=0.0, max=20099.0), HTML(value='')))"
      ]
     },
     "metadata": {},
     "output_type": "display_data"
    },
    {
     "name": "stdout",
     "output_type": "stream",
     "text": [
      "train loss: 0.3966, train acc: 0.8551, elapsed:396.6773\n"
     ]
    },
    {
     "data": {
      "application/vnd.jupyter.widget-view+json": {
       "model_id": "",
       "version_major": 2,
       "version_minor": 0
      },
      "text/plain": [
       "HBox(children=(FloatProgress(value=0.0, max=10050.0), HTML(value='')))"
      ]
     },
     "metadata": {},
     "output_type": "display_data"
    },
    {
     "name": "stdout",
     "output_type": "stream",
     "text": [
      "valid loss: 0.3948, valid acc: 0.8560, elapsed:30.4677\n",
      "\n",
      "Epoch 13/15\n",
      "----------\n"
     ]
    },
    {
     "data": {
      "application/vnd.jupyter.widget-view+json": {
       "model_id": "",
       "version_major": 2,
       "version_minor": 0
      },
      "text/plain": [
       "HBox(children=(FloatProgress(value=0.0, max=20099.0), HTML(value='')))"
      ]
     },
     "metadata": {},
     "output_type": "display_data"
    },
    {
     "name": "stdout",
     "output_type": "stream",
     "text": [
      "train loss: 0.3963, train acc: 0.8551, elapsed:388.5996\n"
     ]
    },
    {
     "data": {
      "application/vnd.jupyter.widget-view+json": {
       "model_id": "",
       "version_major": 2,
       "version_minor": 0
      },
      "text/plain": [
       "HBox(children=(FloatProgress(value=0.0, max=10050.0), HTML(value='')))"
      ]
     },
     "metadata": {},
     "output_type": "display_data"
    },
    {
     "name": "stdout",
     "output_type": "stream",
     "text": [
      "valid loss: 0.3948, valid acc: 0.8560, elapsed:32.2418\n",
      "\n",
      "Epoch 14/15\n",
      "----------\n"
     ]
    },
    {
     "data": {
      "application/vnd.jupyter.widget-view+json": {
       "model_id": "",
       "version_major": 2,
       "version_minor": 0
      },
      "text/plain": [
       "HBox(children=(FloatProgress(value=0.0, max=20099.0), HTML(value='')))"
      ]
     },
     "metadata": {},
     "output_type": "display_data"
    },
    {
     "name": "stdout",
     "output_type": "stream",
     "text": [
      "train loss: 0.3964, train acc: 0.8551, elapsed:406.3830\n"
     ]
    },
    {
     "data": {
      "application/vnd.jupyter.widget-view+json": {
       "model_id": "",
       "version_major": 2,
       "version_minor": 0
      },
      "text/plain": [
       "HBox(children=(FloatProgress(value=0.0, max=10050.0), HTML(value='')))"
      ]
     },
     "metadata": {},
     "output_type": "display_data"
    },
    {
     "name": "stdout",
     "output_type": "stream",
     "text": [
      "valid loss: 0.3954, valid acc: 0.8560, elapsed:31.2174\n",
      "\n",
      "Epoch 15/15\n",
      "----------\n"
     ]
    },
    {
     "data": {
      "application/vnd.jupyter.widget-view+json": {
       "model_id": "",
       "version_major": 2,
       "version_minor": 0
      },
      "text/plain": [
       "HBox(children=(FloatProgress(value=0.0, max=20099.0), HTML(value='')))"
      ]
     },
     "metadata": {},
     "output_type": "display_data"
    },
    {
     "name": "stdout",
     "output_type": "stream",
     "text": [
      "train loss: 0.3962, train acc: 0.8551, elapsed:393.9763\n"
     ]
    },
    {
     "data": {
      "application/vnd.jupyter.widget-view+json": {
       "model_id": "",
       "version_major": 2,
       "version_minor": 0
      },
      "text/plain": [
       "HBox(children=(FloatProgress(value=0.0, max=10050.0), HTML(value='')))"
      ]
     },
     "metadata": {},
     "output_type": "display_data"
    },
    {
     "name": "stdout",
     "output_type": "stream",
     "text": [
      "valid loss: 0.3945, valid acc: 0.8560, elapsed:32.0252\n",
      "training took:  6421.485638681799\n"
     ]
    }
   ],
   "source": [
    "model, run_hist = train_and_valid_classification(model, criterion, optimizer,run_hist= run_hist, num_epochs=15)"
   ]
  },
  {
   "cell_type": "code",
   "execution_count": 38,
   "metadata": {},
   "outputs": [
    {
     "data": {
      "image/png": "[encoded data removed]",
      "text/plain": [
       "<Figure size 1440x432 with 2 Axes>"
      ]
     },
     "metadata": {
      "needs_background": "light"
     },
     "output_type": "display_data"
    }
   ],
   "source": [
    "plot_training_classification(run_hist)"
   ]
  }
 ],
 "metadata": {
  "kernelspec": {
   "display_name": "Python 3.6 - AzureML",
   "language": "python",
   "name": "python3-azureml"
  },
  "language_info": {
   "codemirror_mode": {
    "name": "ipython",
    "version": 3
   },
   "file_extension": ".py",
   "mimetype": "text/x-python",
   "name": "python",
   "nbconvert_exporter": "python",
   "pygments_lexer": "ipython3",
   "version": "3.6.9"
  }
 },
 "nbformat": 4,
 "nbformat_minor": 2
}

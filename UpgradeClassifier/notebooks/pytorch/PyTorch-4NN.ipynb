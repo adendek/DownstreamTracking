{
 "cells": [
  {
   "cell_type": "code",
   "execution_count": 1,
   "metadata": {},
   "outputs": [],
   "source": [
    "import pandas as pd\n",
    "import numpy as np\n",
    "\n",
    "%matplotlib inline\n",
    "import matplotlib.pyplot as plt\n",
    "\n",
    "from sklearn.model_selection import train_test_split\n",
    "from sklearn.metrics import accuracy_score, log_loss, precision_score, precision_recall_curve\n",
    "from sklearn.metrics import roc_auc_score, roc_curve, auc\n",
    "from sklearn.metrics import classification_report\n",
    "\n",
    "import torch\n",
    "import torch.nn as nn\n",
    "import torch.optim as optim\n",
    "import torch.nn.functional as F\n",
    "from torch.utils.data import DataLoader, TensorDataset\n",
    "\n",
    "from timeit import default_timer as timer\n",
    "from tqdm.notebook import tqdm\n"
   ]
  },
  {
   "cell_type": "code",
   "execution_count": 210,
   "metadata": {},
   "outputs": [
    {
     "data": {
      "text/html": [
       "<div>\n",
       "<style scoped>\n",
       "    .dataframe tbody tr th:only-of-type {\n",
       "        vertical-align: middle;\n",
       "    }\n",
       "\n",
       "    .dataframe tbody tr th {\n",
       "        vertical-align: top;\n",
       "    }\n",
       "\n",
       "    .dataframe thead th {\n",
       "        text-align: right;\n",
       "    }\n",
       "</style>\n",
       "<table border=\"1\" class=\"dataframe\">\n",
       "  <thead>\n",
       "    <tr style=\"text-align: right;\">\n",
       "      <th></th>\n",
       "      <th>track_phi</th>\n",
       "      <th>track_tx</th>\n",
       "      <th>track_ty</th>\n",
       "      <th>track_nLHCbIDs</th>\n",
       "      <th>track_p</th>\n",
       "      <th>track_chi2</th>\n",
       "      <th>track_position_x</th>\n",
       "      <th>track_position_y</th>\n",
       "      <th>track_chi2PerDoF</th>\n",
       "      <th>track_pt</th>\n",
       "      <th>track_pseudoRapidity</th>\n",
       "      <th>track_position_r</th>\n",
       "      <th>track_position_phi</th>\n",
       "    </tr>\n",
       "  </thead>\n",
       "  <tbody>\n",
       "    <tr>\n",
       "      <th>0</th>\n",
       "      <td>2.849378</td>\n",
       "      <td>-0.343474</td>\n",
       "      <td>0.103326</td>\n",
       "      <td>12.0</td>\n",
       "      <td>2020.072174</td>\n",
       "      <td>6.275086</td>\n",
       "      <td>494.515198</td>\n",
       "      <td>1124.644897</td>\n",
       "      <td>0.896441</td>\n",
       "      <td>682.012956</td>\n",
       "      <td>1.749189</td>\n",
       "      <td>7599.958646</td>\n",
       "      <td>1.156534</td>\n",
       "    </tr>\n",
       "    <tr>\n",
       "      <th>1</th>\n",
       "      <td>-3.082239</td>\n",
       "      <td>-0.358948</td>\n",
       "      <td>-0.021330</td>\n",
       "      <td>12.0</td>\n",
       "      <td>3841.771978</td>\n",
       "      <td>1.360128</td>\n",
       "      <td>-1080.491943</td>\n",
       "      <td>-141.657471</td>\n",
       "      <td>0.194304</td>\n",
       "      <td>1299.941130</td>\n",
       "      <td>1.746825</td>\n",
       "      <td>7578.755154</td>\n",
       "      <td>-3.011232</td>\n",
       "    </tr>\n",
       "    <tr>\n",
       "      <th>2</th>\n",
       "      <td>-0.011027</td>\n",
       "      <td>0.096606</td>\n",
       "      <td>-0.001065</td>\n",
       "      <td>11.0</td>\n",
       "      <td>11831.335600</td>\n",
       "      <td>1.228229</td>\n",
       "      <td>235.222702</td>\n",
       "      <td>-5.106698</td>\n",
       "      <td>0.204705</td>\n",
       "      <td>1137.754221</td>\n",
       "      <td>3.032522</td>\n",
       "      <td>7503.689479</td>\n",
       "      <td>-0.021707</td>\n",
       "    </tr>\n",
       "    <tr>\n",
       "      <th>3</th>\n",
       "      <td>3.105371</td>\n",
       "      <td>-0.442834</td>\n",
       "      <td>0.016047</td>\n",
       "      <td>9.0</td>\n",
       "      <td>1982.935289</td>\n",
       "      <td>1.397992</td>\n",
       "      <td>-256.822998</td>\n",
       "      <td>115.813004</td>\n",
       "      <td>0.349498</td>\n",
       "      <td>803.347165</td>\n",
       "      <td>1.552877</td>\n",
       "      <td>7505.289515</td>\n",
       "      <td>2.717953</td>\n",
       "    </tr>\n",
       "    <tr>\n",
       "      <th>4</th>\n",
       "      <td>-3.125277</td>\n",
       "      <td>-0.170356</td>\n",
       "      <td>-0.002780</td>\n",
       "      <td>11.0</td>\n",
       "      <td>6950.099982</td>\n",
       "      <td>1.731246</td>\n",
       "      <td>-439.475525</td>\n",
       "      <td>-42.887833</td>\n",
       "      <td>0.288541</td>\n",
       "      <td>1167.325690</td>\n",
       "      <td>2.470060</td>\n",
       "      <td>7512.987296</td>\n",
       "      <td>-3.044312</td>\n",
       "    </tr>\n",
       "  </tbody>\n",
       "</table>\n",
       "</div>"
      ],
      "text/plain": [
       "   track_phi  track_tx  track_ty  track_nLHCbIDs       track_p  track_chi2  \\\n",
       "0   2.849378 -0.343474  0.103326            12.0   2020.072174    6.275086   \n",
       "1  -3.082239 -0.358948 -0.021330            12.0   3841.771978    1.360128   \n",
       "2  -0.011027  0.096606 -0.001065            11.0  11831.335600    1.228229   \n",
       "3   3.105371 -0.442834  0.016047             9.0   1982.935289    1.397992   \n",
       "4  -3.125277 -0.170356 -0.002780            11.0   6950.099982    1.731246   \n",
       "\n",
       "   track_position_x  track_position_y  track_chi2PerDoF     track_pt  \\\n",
       "0        494.515198       1124.644897          0.896441   682.012956   \n",
       "1      -1080.491943       -141.657471          0.194304  1299.941130   \n",
       "2        235.222702         -5.106698          0.204705  1137.754221   \n",
       "3       -256.822998        115.813004          0.349498   803.347165   \n",
       "4       -439.475525        -42.887833          0.288541  1167.325690   \n",
       "\n",
       "   track_pseudoRapidity  track_position_r  track_position_phi  \n",
       "0              1.749189       7599.958646            1.156534  \n",
       "1              1.746825       7578.755154           -3.011232  \n",
       "2              3.032522       7503.689479           -0.021707  \n",
       "3              1.552877       7505.289515            2.717953  \n",
       "4              2.470060       7512.987296           -3.044312  "
      ]
     },
     "execution_count": 210,
     "metadata": {},
     "output_type": "execute_result"
    }
   ],
   "source": [
    "data = pd.read_csv(\"/data/work/wessex/Wessex/test/Brunel_track_seeds_with_target.csv\")\n",
    "target = data.particle_isDown_noVelo \n",
    "features = data.drop([\"Unnamed: 0\", \n",
    "                      \"Unnamed: 0_x\", # index\n",
    "                      \"Unnamed: 0_y\",\n",
    "                      \"eventID\",\n",
    "                      \"particle_key\",\n",
    "                      \"particle_hasUT\",\n",
    "                      \"particle_pid\", # this are MC info\n",
    "                      \"particle_hasScifi\",\n",
    "                      \"particle_isDown_noVelo\",\n",
    "                      \"particle_isDown\",\n",
    "                      \"particle_hasVelo\",\n",
    "                      \"track_charge\",\n",
    "                      \"track_position_z\",\n",
    "                     ], axis=1)\n",
    "features.head()"
   ]
  },
  {
   "cell_type": "code",
   "execution_count": 211,
   "metadata": {},
   "outputs": [
    {
     "data": {
      "text/plain": [
       "0          False\n",
       "1          False\n",
       "2          False\n",
       "3          False\n",
       "4          False\n",
       "           ...  \n",
       "6431432    False\n",
       "6431433    False\n",
       "6431434    False\n",
       "6431435    False\n",
       "6431436    False\n",
       "Name: particle_isDown_noVelo, Length: 6431437, dtype: bool"
      ]
     },
     "execution_count": 211,
     "metadata": {},
     "output_type": "execute_result"
    }
   ],
   "source": [
    "target"
   ]
  },
  {
   "cell_type": "code",
   "execution_count": 219,
   "metadata": {},
   "outputs": [],
   "source": [
    "target =  target.astype(int)"
   ]
  },
  {
   "cell_type": "code",
   "execution_count": 225,
   "metadata": {},
   "outputs": [],
   "source": [
    "def create_sampler(target):\n",
    "    class_sample_count = np.array(\n",
    "        [len(np.where(target == t)[0]) for t in np.unique(target)])\n",
    "    weight = 1. / class_sample_count\n",
    "    samples_weight = np.array([weight[t] for t in target])\n",
    "    samples_weight = torch.from_numpy(samples_weight)\n",
    "    samples_weigth = samples_weight.double()\n",
    "    return torch.utils.data.sampler.WeightedRandomSampler(samples_weight, len(samples_weight))\n",
    "\n",
    "\n"
   ]
  },
  {
   "cell_type": "code",
   "execution_count": 226,
   "metadata": {},
   "outputs": [
    {
     "data": {
      "text/plain": [
       "device(type='cuda', index=0)"
      ]
     },
     "execution_count": 226,
     "metadata": {},
     "output_type": "execute_result"
    }
   ],
   "source": [
    "device = torch.device(\"cuda:0\" if torch.cuda.is_available() else \"cpu\")\n",
    "device"
   ]
  },
  {
   "cell_type": "code",
   "execution_count": 227,
   "metadata": {},
   "outputs": [],
   "source": [
    "X_train, X_valid, Y_train, Y_valid = train_test_split(features, target, test_size=0.2, random_state=12)"
   ]
  },
  {
   "cell_type": "code",
   "execution_count": 228,
   "metadata": {},
   "outputs": [],
   "source": [
    "X_valid = (X_valid - X_train.mean()) / X_train.std()\n",
    "X_train = (X_train - X_train.mean()) / X_train.std()"
   ]
  },
  {
   "cell_type": "code",
   "execution_count": 229,
   "metadata": {},
   "outputs": [],
   "source": [
    "datasets={\n",
    "    \"train\":TensorDataset(torch.Tensor(np.array(X_train.values)).to(device), torch.Tensor(np.array(Y_train.values, dtype=np.uint8)).to(device)),\n",
    "    \"valid\":TensorDataset(torch.Tensor(np.array(X_valid.values)).to(device), torch.Tensor(np.array(Y_valid.values, dtype=np.uint8)).to(device))\n",
    "}\n"
   ]
  },
  {
   "cell_type": "code",
   "execution_count": 230,
   "metadata": {},
   "outputs": [
    {
     "data": {
      "text/plain": [
       "(tensor([ 5.5752e-02,  6.0465e-01,  3.2267e-01,  7.1693e-01, -3.9098e-03,\n",
       "         -5.5659e-01,  7.8569e-01,  2.9878e-01, -5.9557e-01, -3.3483e-04,\n",
       "         -1.3694e-01, -3.9947e-01,  1.2029e-01], device='cuda:0'),\n",
       " tensor(0., device='cuda:0'))"
      ]
     },
     "execution_count": 230,
     "metadata": {},
     "output_type": "execute_result"
    }
   ],
   "source": [
    "datasets[\"valid\"].__getitem__(0)"
   ]
  },
  {
   "cell_type": "code",
   "execution_count": 231,
   "metadata": {},
   "outputs": [],
   "source": [
    "dataloaders = { \n",
    "    'train':DataLoader(datasets[\"train\"],\n",
    "                   sampler=create_sampler(Y_train),\n",
    "                   batch_size=128,\n",
    "                   shuffle=False,\n",
    "                    num_workers=0),\n",
    "    'valid':DataLoader(datasets[\"valid\"],\n",
    "                      batch_size=128,\n",
    "                      shuffle=False,\n",
    "                      num_workers=0)\n",
    "}"
   ]
  },
  {
   "cell_type": "code",
   "execution_count": 232,
   "metadata": {},
   "outputs": [
    {
     "name": "stdout",
     "output_type": "stream",
     "text": [
      "features tensor([[ 1.0330e-03,  1.2663e-01, -5.2506e-03,  ...,  1.4542e+00,\n",
      "         -7.6270e-01,  2.2914e-02],\n",
      "        [-2.2668e-01,  1.0831e+00, -2.7371e+00,  ..., -8.8094e-01,\n",
      "          1.6608e+00, -5.4596e-01],\n",
      "        [-2.0846e-01,  1.7663e-01, -4.6886e-01,  ...,  1.0306e+00,\n",
      "         -7.4656e-01, -7.6060e-01],\n",
      "        ...,\n",
      "        [-1.5344e+00, -1.5827e+00, -1.6323e-01,  ..., -1.1089e+00,\n",
      "          1.3096e-01, -1.5927e+00],\n",
      "        [ 1.5149e-02,  2.0297e-01,  2.4969e-02,  ...,  1.0053e+00,\n",
      "         -7.6538e-01, -3.5325e-02],\n",
      "        [-1.2531e-02,  1.4379e+00, -2.4544e-01,  ..., -1.0551e+00,\n",
      "          6.7910e-02, -6.7365e-02]], device='cuda:0') 128\n",
      "target tensor([0., 1., 0., 0., 1., 1., 1., 0., 1., 1., 0., 0., 1., 0., 0., 0., 1., 1.,\n",
      "        0., 1., 0., 0., 1., 0., 0., 1., 0., 0., 1., 1., 0., 1., 0., 0., 0., 1.,\n",
      "        0., 1., 1., 0., 0., 0., 1., 0., 0., 0., 0., 0., 1., 1., 0., 0., 0., 0.,\n",
      "        1., 1., 1., 1., 0., 1., 0., 1., 0., 0., 0., 0., 0., 0., 1., 1., 1., 0.,\n",
      "        1., 1., 0., 0., 1., 0., 1., 0., 1., 0., 1., 1., 1., 1., 0., 0., 1., 1.,\n",
      "        1., 0., 1., 1., 0., 0., 0., 1., 0., 1., 1., 0., 0., 1., 0., 0., 1., 1.,\n",
      "        1., 0., 0., 0., 0., 0., 1., 1., 0., 1., 1., 1., 0., 0., 0., 1., 1., 1.,\n",
      "        0., 1.], device='cuda:0') 128\n"
     ]
    }
   ],
   "source": [
    "for batch in dataloaders[\"train\"]:\n",
    "    print(\"features\", batch[0], len(batch[0]))\n",
    "    print(\"target\", batch[1], len(batch[1]))\n",
    "    break"
   ]
  },
  {
   "cell_type": "code",
   "execution_count": 233,
   "metadata": {},
   "outputs": [],
   "source": [
    "def train_and_valid_classification(model,\n",
    "                                   criterion,\n",
    "                                   optimizer,\n",
    "                                   run_hist={},\n",
    "                                   num_epochs=10,\n",
    "                                   save_every_nth_batch_loss=50):\n",
    "    \"\"\"Train and evaluate the classification model.\"\"\"\n",
    "    if len(run_hist) == 0:\n",
    "        run_hist = {key: [] for key in ['epoch_loss_train',\n",
    "                                    'epoch_loss_valid',\n",
    "                                    'epoch_acc_valid',\n",
    "                                    'epoch_acc_train',   \n",
    "                                    'batch_loss_train']}\n",
    "    process_timer = timer()\n",
    "    \n",
    "    for epoch in range(num_epochs):\n",
    "        print('\\nEpoch {}/{}'.format(epoch+1, num_epochs))\n",
    "        print('-' * 10)\n",
    "\n",
    "        for phase in ['train', 'valid']:\n",
    "            start_epoch = timer()\n",
    "            if phase == 'train':\n",
    "                model.train()\n",
    "            else:\n",
    "                model.eval()\n",
    "        \n",
    "            running_loss = 0.0\n",
    "            running_corrects = 0\n",
    "            \n",
    "            batch_iterator = tqdm(iter(dataloaders[phase]), leave=False, total=len(dataloaders[phase]))\n",
    "\n",
    "        \n",
    "            for i, batch in enumerate(batch_iterator):\n",
    "                inputs, labels = batch\n",
    "                inputs = inputs.to(device)\n",
    "                labels = labels.to(device)\n",
    "\n",
    "                outputs = model(inputs)\n",
    "                loss = criterion(outputs, labels.long())\n",
    "\n",
    "                if phase == 'train':\n",
    "                    optimizer.zero_grad()\n",
    "                    loss.backward()\n",
    "                    optimizer.step()\n",
    "\n",
    "                _, preds = torch.max(outputs, 1)\n",
    "                running_loss += loss.detach() * inputs.size(0)\n",
    "                running_corrects += torch.sum(preds == labels.data.long())\n",
    "\n",
    "                if phase == 'train' and i % save_every_nth_batch_loss == 0:\n",
    "                    run_hist['batch_loss_train'].append(loss.item())\n",
    "\n",
    "            epoch_loss = running_loss / len(datasets[phase])\n",
    "            epoch_acc = running_corrects.float() / len(datasets[phase])\n",
    "\n",
    "            print('{} loss: {:.4f}, {} acc: {:.4f}, elapsed:{:.4f}'.\\\n",
    "            format(phase,\n",
    "                   epoch_loss.item(),\n",
    "                   phase,\n",
    "                   epoch_acc.item(),\n",
    "                   timer()-start_epoch\n",
    "                 ))\n",
    "                 \n",
    "        \n",
    "            run_hist['epoch_loss_' + phase].append(epoch_loss.item())\n",
    "            run_hist['epoch_acc_' + phase].append(epoch_acc.item())\n",
    "\n",
    "    print(\"training took: \",timer()- process_timer)    \n",
    "    return model, run_hist"
   ]
  },
  {
   "cell_type": "markdown",
   "metadata": {},
   "source": [
    "# Build the shallow model"
   ]
  },
  {
   "cell_type": "code",
   "execution_count": 234,
   "metadata": {},
   "outputs": [],
   "source": [
    "class NHiddenTrackingNetwork(torch.nn.Module):\n",
    "    def __init__(self, inputs,n_hidden, hidden_dict):\n",
    "        super(NHiddenTrackingNetwork, self).__init__()\n",
    "        if n_hidden < 3: \n",
    "          raise ValueError(\"n_hidden must be greater than 2\")\n",
    "        self.input_layer = nn.Linear(inputs, hidden_dict[0])\n",
    "        self.layers = nn.ModuleList()\n",
    "        for layer_it in range(n_hidden-1):\n",
    "          self.layers.append(nn.Linear(hidden_dict[layer_it],\n",
    "                                       hidden_dict[layer_it+1]))\n",
    "        self.output_layer = nn.Linear(hidden_dict[n_hidden-1], 2) \n",
    "        # initialize layers\n",
    "        self.layers.apply(self._init_weights)\n",
    "        self._init_weights(self.output_layer)\n",
    "                \n",
    "        \n",
    "    def forward(self, x):\n",
    "        x = self.input_layer(x)\n",
    "        x = F.relu(x)\n",
    "        for layer in self.layers:\n",
    "          x = layer(x)\n",
    "          x = F.relu(x)\n",
    "        x = self.output_layer(x)\n",
    "        return x\n",
    "    \n",
    "    def _init_weights(self, m):\n",
    "        if isinstance(m, nn.Linear):\n",
    "            nn.init.xavier_normal_(m.weight)\n",
    "            m.bias.data.fill_(0.01)\n",
    "\n",
    "\n"
   ]
  },
  {
   "cell_type": "code",
   "execution_count": 235,
   "metadata": {},
   "outputs": [
    {
     "data": {
      "text/plain": [
       "NHiddenTrackingNetwork(\n",
       "  (input_layer): Linear(in_features=13, out_features=40, bias=True)\n",
       "  (layers): ModuleList(\n",
       "    (0): Linear(in_features=40, out_features=30, bias=True)\n",
       "    (1): Linear(in_features=30, out_features=20, bias=True)\n",
       "    (2): Linear(in_features=20, out_features=10, bias=True)\n",
       "  )\n",
       "  (output_layer): Linear(in_features=10, out_features=2, bias=True)\n",
       ")"
      ]
     },
     "execution_count": 235,
     "metadata": {},
     "output_type": "execute_result"
    }
   ],
   "source": [
    "n_hidden = {0:40,\n",
    "            1:30,\n",
    "           2:20,\n",
    "           3:10}\n",
    "\n",
    "model = NHiddenTrackingNetwork(X_train.shape[1], 4, n_hidden).to(device)\n",
    "model"
   ]
  },
  {
   "cell_type": "code",
   "execution_count": 236,
   "metadata": {},
   "outputs": [
    {
     "name": "stdout",
     "output_type": "stream",
     "text": [
      "Model's state_dict:\n",
      "input_layer.weight \t torch.Size([40, 13])\n",
      "input_layer.bias \t torch.Size([40])\n",
      "layers.0.weight \t torch.Size([30, 40])\n",
      "layers.0.bias \t torch.Size([30])\n",
      "layers.1.weight \t torch.Size([20, 30])\n",
      "layers.1.bias \t torch.Size([20])\n",
      "layers.2.weight \t torch.Size([10, 20])\n",
      "layers.2.bias \t torch.Size([10])\n",
      "output_layer.weight \t torch.Size([2, 10])\n",
      "output_layer.bias \t torch.Size([2])\n"
     ]
    }
   ],
   "source": [
    "print(\"Model's state_dict:\")\n",
    "for param_tensor in model.state_dict():\n",
    "    print(param_tensor, \"\\t\", model.state_dict()[param_tensor].size())\n"
   ]
  },
  {
   "cell_type": "code",
   "execution_count": 64,
   "metadata": {},
   "outputs": [
    {
     "data": {
      "text/plain": [
       "0.8552497676646759"
      ]
     },
     "execution_count": 64,
     "metadata": {},
     "output_type": "execute_result"
    }
   ],
   "source": [
    "1- sum(target)/len(target)"
   ]
  },
  {
   "cell_type": "code",
   "execution_count": 65,
   "metadata": {},
   "outputs": [
    {
     "data": {
      "text/plain": [
       "0.855171929909124"
      ]
     },
     "execution_count": 65,
     "metadata": {},
     "output_type": "execute_result"
    }
   ],
   "source": [
    "1- sum(Y_train)/len(Y_train)"
   ]
  },
  {
   "cell_type": "code",
   "execution_count": 66,
   "metadata": {},
   "outputs": [
    {
     "data": {
      "text/plain": [
       "0.8555611185053424"
      ]
     },
     "execution_count": 66,
     "metadata": {},
     "output_type": "execute_result"
    }
   ],
   "source": [
    "1- sum(Y_valid)/len(Y_valid)"
   ]
  },
  {
   "cell_type": "code",
   "execution_count": 237,
   "metadata": {},
   "outputs": [],
   "source": [
    "criterion = nn.CrossEntropyLoss().cuda()\n",
    "learning_rate = 1e-4\n",
    "optimizer = torch.optim.Adam(model.parameters(), lr=learning_rate)"
   ]
  },
  {
   "cell_type": "code",
   "execution_count": 238,
   "metadata": {},
   "outputs": [
    {
     "name": "stdout",
     "output_type": "stream",
     "text": [
      "\n",
      "Epoch 1/10\n",
      "----------\n"
     ]
    },
    {
     "data": {
      "application/vnd.jupyter.widget-view+json": {
       "model_id": "",
       "version_major": 2,
       "version_minor": 0
      },
      "text/plain": [
       "HBox(children=(FloatProgress(value=0.0, max=40197.0), HTML(value='')))"
      ]
     },
     "metadata": {},
     "output_type": "display_data"
    },
    {
     "name": "stdout",
     "output_type": "stream",
     "text": [
      "train loss: 0.6388, train acc: 0.6323, elapsed:157.6476\n"
     ]
    },
    {
     "data": {
      "application/vnd.jupyter.widget-view+json": {
       "model_id": "",
       "version_major": 2,
       "version_minor": 0
      },
      "text/plain": [
       "HBox(children=(FloatProgress(value=0.0, max=10050.0), HTML(value='')))"
      ]
     },
     "metadata": {},
     "output_type": "display_data"
    },
    {
     "name": "stdout",
     "output_type": "stream",
     "text": [
      "valid loss: 0.6264, valid acc: 0.6187, elapsed:17.6634\n",
      "\n",
      "Epoch 2/10\n",
      "----------\n"
     ]
    },
    {
     "data": {
      "application/vnd.jupyter.widget-view+json": {
       "model_id": "",
       "version_major": 2,
       "version_minor": 0
      },
      "text/plain": [
       "HBox(children=(FloatProgress(value=0.0, max=40197.0), HTML(value='')))"
      ]
     },
     "metadata": {},
     "output_type": "display_data"
    },
    {
     "name": "stdout",
     "output_type": "stream",
     "text": [
      "train loss: 0.6040, train acc: 0.6642, elapsed:160.0908\n"
     ]
    },
    {
     "data": {
      "application/vnd.jupyter.widget-view+json": {
       "model_id": "",
       "version_major": 2,
       "version_minor": 0
      },
      "text/plain": [
       "HBox(children=(FloatProgress(value=0.0, max=10050.0), HTML(value='')))"
      ]
     },
     "metadata": {},
     "output_type": "display_data"
    },
    {
     "name": "stdout",
     "output_type": "stream",
     "text": [
      "valid loss: 0.6011, valid acc: 0.6538, elapsed:17.6422\n",
      "\n",
      "Epoch 3/10\n",
      "----------\n"
     ]
    },
    {
     "data": {
      "application/vnd.jupyter.widget-view+json": {
       "model_id": "",
       "version_major": 2,
       "version_minor": 0
      },
      "text/plain": [
       "HBox(children=(FloatProgress(value=0.0, max=40197.0), HTML(value='')))"
      ]
     },
     "metadata": {},
     "output_type": "display_data"
    },
    {
     "name": "stdout",
     "output_type": "stream",
     "text": [
      "train loss: 0.5898, train acc: 0.6724, elapsed:155.4188\n"
     ]
    },
    {
     "data": {
      "application/vnd.jupyter.widget-view+json": {
       "model_id": "",
       "version_major": 2,
       "version_minor": 0
      },
      "text/plain": [
       "HBox(children=(FloatProgress(value=0.0, max=10050.0), HTML(value='')))"
      ]
     },
     "metadata": {},
     "output_type": "display_data"
    },
    {
     "name": "stdout",
     "output_type": "stream",
     "text": [
      "valid loss: 0.6143, valid acc: 0.6424, elapsed:17.4915\n",
      "\n",
      "Epoch 4/10\n",
      "----------\n"
     ]
    },
    {
     "data": {
      "application/vnd.jupyter.widget-view+json": {
       "model_id": "",
       "version_major": 2,
       "version_minor": 0
      },
      "text/plain": [
       "HBox(children=(FloatProgress(value=0.0, max=40197.0), HTML(value='')))"
      ]
     },
     "metadata": {},
     "output_type": "display_data"
    },
    {
     "name": "stdout",
     "output_type": "stream",
     "text": [
      "train loss: 0.5814, train acc: 0.6777, elapsed:156.3532\n"
     ]
    },
    {
     "data": {
      "application/vnd.jupyter.widget-view+json": {
       "model_id": "",
       "version_major": 2,
       "version_minor": 0
      },
      "text/plain": [
       "HBox(children=(FloatProgress(value=0.0, max=10050.0), HTML(value='')))"
      ]
     },
     "metadata": {},
     "output_type": "display_data"
    },
    {
     "name": "stdout",
     "output_type": "stream",
     "text": [
      "valid loss: 0.5979, valid acc: 0.6562, elapsed:17.4621\n",
      "\n",
      "Epoch 5/10\n",
      "----------\n"
     ]
    },
    {
     "data": {
      "application/vnd.jupyter.widget-view+json": {
       "model_id": "",
       "version_major": 2,
       "version_minor": 0
      },
      "text/plain": [
       "HBox(children=(FloatProgress(value=0.0, max=40197.0), HTML(value='')))"
      ]
     },
     "metadata": {},
     "output_type": "display_data"
    },
    {
     "name": "stdout",
     "output_type": "stream",
     "text": [
      "train loss: 0.5763, train acc: 0.6809, elapsed:155.7328\n"
     ]
    },
    {
     "data": {
      "application/vnd.jupyter.widget-view+json": {
       "model_id": "",
       "version_major": 2,
       "version_minor": 0
      },
      "text/plain": [
       "HBox(children=(FloatProgress(value=0.0, max=10050.0), HTML(value='')))"
      ]
     },
     "metadata": {},
     "output_type": "display_data"
    },
    {
     "name": "stdout",
     "output_type": "stream",
     "text": [
      "valid loss: 0.5655, valid acc: 0.6954, elapsed:17.5845\n",
      "\n",
      "Epoch 6/10\n",
      "----------\n"
     ]
    },
    {
     "data": {
      "application/vnd.jupyter.widget-view+json": {
       "model_id": "",
       "version_major": 2,
       "version_minor": 0
      },
      "text/plain": [
       "HBox(children=(FloatProgress(value=0.0, max=40197.0), HTML(value='')))"
      ]
     },
     "metadata": {},
     "output_type": "display_data"
    },
    {
     "name": "stdout",
     "output_type": "stream",
     "text": [
      "train loss: 0.5736, train acc: 0.6826, elapsed:157.0929\n"
     ]
    },
    {
     "data": {
      "application/vnd.jupyter.widget-view+json": {
       "model_id": "",
       "version_major": 2,
       "version_minor": 0
      },
      "text/plain": [
       "HBox(children=(FloatProgress(value=0.0, max=10050.0), HTML(value='')))"
      ]
     },
     "metadata": {},
     "output_type": "display_data"
    },
    {
     "name": "stdout",
     "output_type": "stream",
     "text": [
      "valid loss: 0.5856, valid acc: 0.6712, elapsed:17.5651\n",
      "\n",
      "Epoch 7/10\n",
      "----------\n"
     ]
    },
    {
     "data": {
      "application/vnd.jupyter.widget-view+json": {
       "model_id": "",
       "version_major": 2,
       "version_minor": 0
      },
      "text/plain": [
       "HBox(children=(FloatProgress(value=0.0, max=40197.0), HTML(value='')))"
      ]
     },
     "metadata": {},
     "output_type": "display_data"
    },
    {
     "name": "stdout",
     "output_type": "stream",
     "text": [
      "train loss: 0.5719, train acc: 0.6840, elapsed:154.6162\n"
     ]
    },
    {
     "data": {
      "application/vnd.jupyter.widget-view+json": {
       "model_id": "",
       "version_major": 2,
       "version_minor": 0
      },
      "text/plain": [
       "HBox(children=(FloatProgress(value=0.0, max=10050.0), HTML(value='')))"
      ]
     },
     "metadata": {},
     "output_type": "display_data"
    },
    {
     "name": "stdout",
     "output_type": "stream",
     "text": [
      "valid loss: 0.5809, valid acc: 0.6772, elapsed:17.8722\n",
      "\n",
      "Epoch 8/10\n",
      "----------\n"
     ]
    },
    {
     "data": {
      "application/vnd.jupyter.widget-view+json": {
       "model_id": "",
       "version_major": 2,
       "version_minor": 0
      },
      "text/plain": [
       "HBox(children=(FloatProgress(value=0.0, max=40197.0), HTML(value='')))"
      ]
     },
     "metadata": {},
     "output_type": "display_data"
    },
    {
     "name": "stdout",
     "output_type": "stream",
     "text": [
      "train loss: 0.5707, train acc: 0.6851, elapsed:158.9507\n"
     ]
    },
    {
     "data": {
      "application/vnd.jupyter.widget-view+json": {
       "model_id": "",
       "version_major": 2,
       "version_minor": 0
      },
      "text/plain": [
       "HBox(children=(FloatProgress(value=0.0, max=10050.0), HTML(value='')))"
      ]
     },
     "metadata": {},
     "output_type": "display_data"
    },
    {
     "name": "stdout",
     "output_type": "stream",
     "text": [
      "valid loss: 0.5778, valid acc: 0.6744, elapsed:17.4764\n",
      "\n",
      "Epoch 9/10\n",
      "----------\n"
     ]
    },
    {
     "data": {
      "application/vnd.jupyter.widget-view+json": {
       "model_id": "",
       "version_major": 2,
       "version_minor": 0
      },
      "text/plain": [
       "HBox(children=(FloatProgress(value=0.0, max=40197.0), HTML(value='')))"
      ]
     },
     "metadata": {},
     "output_type": "display_data"
    },
    {
     "name": "stdout",
     "output_type": "stream",
     "text": [
      "train loss: 0.5696, train acc: 0.6857, elapsed:156.7937\n"
     ]
    },
    {
     "data": {
      "application/vnd.jupyter.widget-view+json": {
       "model_id": "",
       "version_major": 2,
       "version_minor": 0
      },
      "text/plain": [
       "HBox(children=(FloatProgress(value=0.0, max=10050.0), HTML(value='')))"
      ]
     },
     "metadata": {},
     "output_type": "display_data"
    },
    {
     "name": "stdout",
     "output_type": "stream",
     "text": [
      "valid loss: 0.5667, valid acc: 0.6951, elapsed:17.3716\n",
      "\n",
      "Epoch 10/10\n",
      "----------\n"
     ]
    },
    {
     "data": {
      "application/vnd.jupyter.widget-view+json": {
       "model_id": "",
       "version_major": 2,
       "version_minor": 0
      },
      "text/plain": [
       "HBox(children=(FloatProgress(value=0.0, max=40197.0), HTML(value='')))"
      ]
     },
     "metadata": {},
     "output_type": "display_data"
    },
    {
     "name": "stdout",
     "output_type": "stream",
     "text": [
      "train loss: 0.5685, train acc: 0.6866, elapsed:155.2071\n"
     ]
    },
    {
     "data": {
      "application/vnd.jupyter.widget-view+json": {
       "model_id": "",
       "version_major": 2,
       "version_minor": 0
      },
      "text/plain": [
       "HBox(children=(FloatProgress(value=0.0, max=10050.0), HTML(value='')))"
      ]
     },
     "metadata": {},
     "output_type": "display_data"
    },
    {
     "name": "stdout",
     "output_type": "stream",
     "text": [
      "valid loss: 0.5686, valid acc: 0.6935, elapsed:17.2453\n",
      "training took:  1743.2827578759752\n"
     ]
    }
   ],
   "source": [
    "model, run_hist = train_and_valid_classification(model, criterion, optimizer, num_epochs=10)"
   ]
  },
  {
   "cell_type": "code",
   "execution_count": 239,
   "metadata": {},
   "outputs": [],
   "source": [
    "def print_roc(model, X, Y):\n",
    "    X = torch.tensor(X.values, dtype=torch.float).to(\"cpu\")\n",
    "    model.eval\n",
    "    model.to(\"cpu\")\n",
    "    output =  model(X)    \n",
    "    plt.figure(figsize=[6, 6])\n",
    "    pred = F.softmax(output, dim=1).cpu().detach().numpy()[:,1]\n",
    "    fpr, tpr, thresholds = roc_curve(Y,pred )\n",
    "    roc_auc = auc(fpr, tpr)\n",
    "    plt.plot(fpr, tpr, lw=1, label='ROC BDT (area = %0.4f)'%(roc_auc))\n",
    "    plt.plot([0, 1], [0, 1], '--', color=(0.6, 0.6, 0.6), label='no discrimination')\n",
    "    plt.xlim([-0.05, 1.05])\n",
    "    plt.ylim([0.8, 1.05])\n",
    "    plt.xlabel('False Positive Rate')\n",
    "    plt.ylabel('True Positive Rate')\n",
    "    plt.title('Receiver operating characteristic')\n",
    "    plt.legend(loc=\"lower right\")\n",
    "    plt.grid()\n",
    "    plt.show()\n",
    "    del X\n",
    "\n"
   ]
  },
  {
   "cell_type": "code",
   "execution_count": 240,
   "metadata": {},
   "outputs": [],
   "source": [
    "def plot_training_classification(run_hist):\n",
    "    \"\"\"Plot the training history of the classification model.\"\"\"\n",
    "    fig, ax = plt.subplots(1,2, figsize=(20,6), sharex=True)\n",
    "    x = np.arange(len(run_hist[\"epoch_loss_train\"])) + 1\n",
    "    ax[0].plot(x, run_hist[\"epoch_loss_train\"],'b', marker='.', label=\"train loss\")\n",
    "    ax[0].plot(x, run_hist[\"epoch_loss_valid\"],'r', marker='.', label=\"valid loss\")\n",
    "    ax[0].legend()\n",
    "    ax[1].plot(x, run_hist[\"epoch_acc_train\"],'b', marker='.', label=\"train accuracy\")\n",
    "    ax[1].plot(x, run_hist[\"epoch_acc_valid\"],'r', marker='.', label=\"valid accuracy\")\n",
    "    ax[1].legend()\n"
   ]
  },
  {
   "cell_type": "code",
   "execution_count": 241,
   "metadata": {},
   "outputs": [
    {
     "data": {
      "image/png": "[encoded data removed]",
      "text/plain": [
       "<Figure size 1440x432 with 2 Axes>"
      ]
     },
     "metadata": {
      "needs_background": "light"
     },
     "output_type": "display_data"
    }
   ],
   "source": [
    "plot_training_classification(run_hist)"
   ]
  },
  {
   "cell_type": "code",
   "execution_count": 242,
   "metadata": {},
   "outputs": [
    {
     "data": {
      "image/png": "[encoded data removed]",
      "text/plain": [
       "<Figure size 432x432 with 1 Axes>"
      ]
     },
     "metadata": {
      "needs_background": "light"
     },
     "output_type": "display_data"
    }
   ],
   "source": [
    "print_roc(model,X_valid, Y_valid )"
   ]
  },
  {
   "cell_type": "code",
   "execution_count": 243,
   "metadata": {},
   "outputs": [
    {
     "name": "stdout",
     "output_type": "stream",
     "text": [
      "('input_layer.weight', Parameter containing:\n",
      "tensor([[-2.1678e-01, -1.8300e-01,  3.9787e-01, -3.8210e-02,  2.9885e-01,\n",
      "          1.1089e-01,  2.5829e-01,  3.8043e-01, -1.0578e-01, -1.1624e+00,\n",
      "         -1.3596e-01, -8.9366e-03, -1.2414e-01],\n",
      "        [ 3.8910e-02, -4.6832e-01,  1.3174e-04, -2.6043e-04, -3.0280e-01,\n",
      "         -4.7216e-03,  5.1375e-01,  1.2744e-02,  3.7833e-03,  2.6545e-02,\n",
      "          1.3457e-02,  3.0392e-02, -4.1950e-02],\n",
      "        [-2.7658e-01,  3.6508e-01,  3.2715e-01,  1.9576e-02, -6.9636e-01,\n",
      "         -9.9735e-02, -1.9277e-01, -3.8028e-01,  1.0100e-01, -1.2258e+00,\n",
      "         -9.0516e-02,  9.4528e-02, -2.2495e-01],\n",
      "        [ 1.1549e-01, -8.3609e-03,  2.9422e-01,  1.5940e-03, -3.4693e-01,\n",
      "          5.6437e-02, -1.2215e-01, -3.3597e-02, -6.3920e-02, -1.4121e+00,\n",
      "          4.5536e-02,  7.8831e-02,  1.4491e-01],\n",
      "        [-2.0908e-01, -1.8924e-01, -4.8148e-01,  5.3928e-03,  2.1040e-01,\n",
      "          1.8666e-02,  1.0935e-01, -5.9276e-03, -2.9193e-02, -1.1342e+00,\n",
      "         -3.4327e-03,  1.4384e-01, -1.9773e-01],\n",
      "        [-6.6981e-03, -2.1616e-01, -3.3881e-01,  1.1324e-02,  4.8317e-01,\n",
      "         -2.2563e-03,  3.0016e-01, -4.2274e-01,  1.4970e-03, -3.7705e-01,\n",
      "         -7.5485e-02, -1.1181e-01,  5.0122e-02],\n",
      "        [-1.8201e-01,  1.1341e-01,  4.1415e-01,  2.0588e-02,  1.9962e-01,\n",
      "          7.7749e-02, -9.6117e-02,  9.6884e-02, -1.3405e-01, -8.7938e-01,\n",
      "         -2.5609e-02,  2.5192e-02,  2.6816e-02],\n",
      "        [-1.6941e-01,  1.7462e-01, -4.6572e-01, -1.3315e-02,  3.4301e-01,\n",
      "         -1.9964e-02,  5.1499e-02,  8.8086e-02,  3.4107e-02, -1.2105e+00,\n",
      "         -1.6769e-01, -3.5844e-02,  2.4016e-01],\n",
      "        [-1.9011e-01,  4.9672e-01, -3.4870e-01,  3.7253e-03, -7.9220e-02,\n",
      "         -9.5856e-03, -5.3761e-01, -2.5458e-01,  3.2501e-03, -4.2938e-02,\n",
      "         -2.3787e-02, -3.3224e-02,  2.0565e-01],\n",
      "        [-2.0768e-01, -3.1168e-01,  1.8959e-01, -2.7760e-03,  2.7885e-01,\n",
      "          1.0455e-02,  3.2180e-01, -4.1599e-01, -1.2715e-02,  6.5832e-01,\n",
      "         -2.3300e-02, -7.0976e-02,  2.1776e-01],\n",
      "        [-9.0889e-02,  2.0802e-01, -4.8238e-01,  7.2408e-04,  7.1445e-01,\n",
      "         -3.6091e-02, -3.6164e-01,  4.2210e-02,  5.7030e-02,  7.3847e-01,\n",
      "         -7.6496e-02,  7.2278e-02, -4.8281e-02],\n",
      "        [ 4.4664e-02,  7.5611e-02, -3.7753e-01,  4.2705e-03,  1.7990e-01,\n",
      "          2.9087e-02, -1.4674e-01,  5.9731e-01, -4.4122e-02,  5.2545e-01,\n",
      "          4.3651e-02, -3.4160e-02, -1.4406e-01],\n",
      "        [-2.1224e-01, -9.8074e-02, -1.2424e-01,  7.9864e-03, -1.6317e-01,\n",
      "         -1.4150e-02, -3.0322e-02, -3.1592e-01,  1.8393e-02, -1.2812e+00,\n",
      "         -1.6312e-01,  7.7477e-02, -2.4537e-01],\n",
      "        [-1.8631e-01,  1.5879e-01, -4.8920e-01,  1.6510e-02,  9.5978e-02,\n",
      "         -4.9589e-02,  1.4107e-01,  3.1937e-01,  5.1745e-02,  7.6124e-01,\n",
      "          4.2736e-02, -3.9177e-02, -3.5326e-01],\n",
      "        [-5.5244e-02, -1.0314e-01, -3.4115e-01,  3.2872e-02, -3.8845e-02,\n",
      "         -8.3812e-02,  3.4258e-01,  9.0743e-03,  3.8618e-02, -5.0132e-01,\n",
      "         -1.5136e-01, -2.2815e-01,  3.6406e-02],\n",
      "        [-5.8204e-02,  1.9743e-01,  2.1361e-01,  1.4726e-02,  5.9738e-01,\n",
      "         -2.6451e-02,  1.3252e-02,  3.8822e-01, -2.8640e-03,  1.3904e+00,\n",
      "          9.7110e-03,  3.3909e-02,  2.6840e-01],\n",
      "        [ 2.5951e-01,  2.0790e-01,  1.5730e-01, -3.6473e-02,  4.7850e-01,\n",
      "         -3.3784e-03, -2.9301e-01, -1.6801e-01,  1.6141e-02,  5.5359e-01,\n",
      "         -1.9528e-01, -2.0293e-02,  1.1629e-02],\n",
      "        [ 2.6550e-01,  4.5518e-02, -5.0932e-01,  3.4943e-03,  6.9316e-01,\n",
      "          1.8662e-02,  5.7893e-02,  7.1521e-01, -2.6364e-02,  1.8504e+00,\n",
      "          7.3792e-02, -3.9055e-04,  3.5401e-01],\n",
      "        [-1.6485e-01, -3.5588e-01, -2.4829e-01, -6.0473e-03, -7.8896e-01,\n",
      "          4.4282e-02,  1.3118e-01,  7.9170e-02, -4.6603e-02, -1.4329e+00,\n",
      "          1.2690e-01, -1.3695e-01, -7.5047e-02],\n",
      "        [-3.9098e-02, -1.1987e-01, -1.5329e-01, -3.4221e-03,  1.2356e+00,\n",
      "         -5.5120e-02,  6.8587e-02,  3.9911e-01,  6.3534e-02,  1.1959e+00,\n",
      "          7.8208e-02, -2.2106e-01, -1.6397e-01],\n",
      "        [ 7.6692e-02,  2.0566e-01,  3.1813e-01, -6.2776e-03,  3.3145e-01,\n",
      "          1.7963e-01, -7.6846e-02, -4.0625e-01, -1.9376e-01,  8.1993e-01,\n",
      "         -1.5099e-02,  3.5262e-02,  9.9794e-02],\n",
      "        [-1.3632e-01, -2.0663e-01,  2.7463e-01, -4.4643e-03,  1.1289e+00,\n",
      "         -4.1917e-02,  7.7575e-02, -3.7948e-01,  4.3664e-02,  1.4939e+00,\n",
      "          1.4128e-01,  4.9224e-02, -4.6704e-03],\n",
      "        [-2.5521e-01,  2.3396e-01,  2.2152e-01, -4.3212e-03, -2.3324e-01,\n",
      "          9.6183e-03,  1.0848e-01, -3.7609e-01, -1.2600e-02,  1.9360e-01,\n",
      "          2.5682e-02,  8.4446e-02, -2.8185e-01],\n",
      "        [-4.4676e-02,  1.3744e-01, -5.5854e-01,  1.2728e-02,  2.8771e-01,\n",
      "         -4.1824e-02, -6.7727e-02,  2.2061e-01,  1.1726e-02, -3.1211e-01,\n",
      "          1.2263e-01, -5.7632e-02, -2.7006e-01],\n",
      "        [-5.2170e-02,  8.1241e-02,  2.1707e-01, -9.1553e-03, -6.9955e-01,\n",
      "          1.7111e-02, -6.6085e-02, -6.0944e-01, -1.4008e-02,  3.7105e-01,\n",
      "          1.8094e-01,  2.1452e-01,  3.7524e-02],\n",
      "        [-3.2476e-01,  9.9610e-03, -1.6827e-01, -9.9365e-03,  9.8827e-01,\n",
      "          1.7541e-01,  3.9019e-01,  2.2360e-01, -1.9463e-01,  1.1804e+00,\n",
      "          9.8338e-02,  5.8888e-02,  2.7715e-01],\n",
      "        [-2.1251e-02,  2.0550e-01, -2.0128e-01,  9.1216e-04, -6.2214e-01,\n",
      "          2.8712e-02, -1.8749e-01,  6.1842e-01, -2.9617e-02, -3.8322e-01,\n",
      "         -3.6331e-02, -4.5609e-02,  1.7421e-01],\n",
      "        [-1.2017e-01,  1.5905e-01,  2.6006e-01, -1.6629e-02, -7.4314e-01,\n",
      "          1.9393e-01, -1.9057e-01, -4.0251e-01, -1.9944e-01, -1.6683e+00,\n",
      "         -9.8829e-02, -2.1659e-01,  5.2336e-02],\n",
      "        [-1.8741e-03,  3.4530e-01,  2.9167e-02,  2.4658e-02,  4.7518e-01,\n",
      "          5.6843e-02,  1.7381e-01, -1.7960e-02, -8.5916e-02,  7.3352e-01,\n",
      "          1.4158e-01,  6.8966e-02,  1.4802e-02],\n",
      "        [ 1.4058e-01, -2.9140e-01, -2.1280e-01,  2.0478e-02,  9.2009e-01,\n",
      "          4.6762e-02,  1.1395e-01,  1.7771e-01, -7.5256e-02,  1.5868e+00,\n",
      "         -2.3348e-02,  1.0117e-01,  9.8247e-02],\n",
      "        [-9.1354e-02, -3.8255e-01, -2.8193e-01, -6.5605e-03,  4.6674e-01,\n",
      "          1.2601e-01, -3.8403e-02,  3.8059e-02, -1.6304e-01,  1.4974e-01,\n",
      "          1.1104e-01, -3.2906e-01,  1.5474e-01],\n",
      "        [-1.8439e-01, -1.3213e-01,  3.7791e-01,  2.9427e-02,  5.0256e-01,\n",
      "         -1.2371e-01, -9.7091e-02, -1.0396e-01,  1.1359e-01, -2.2273e-01,\n",
      "         -1.9005e-02, -1.1297e-01, -1.9528e-02],\n",
      "        [-1.3023e-01,  2.7995e-01,  1.7794e-01, -6.2984e-03,  9.9590e-01,\n",
      "         -7.2665e-02, -1.6448e-01, -5.8412e-01,  9.4765e-02,  1.4997e+00,\n",
      "         -7.3913e-02, -1.6599e-01, -7.9562e-02],\n",
      "        [ 1.5570e-01, -2.0122e-01, -2.6043e-01,  4.3530e-03,  5.6356e-02,\n",
      "          1.5239e-01, -6.1419e-02,  3.5004e-01, -1.7268e-01, -2.3654e-01,\n",
      "         -2.6784e-01,  5.5686e-02,  1.2143e-01],\n",
      "        [-2.2247e-01,  1.5356e-01, -2.8167e-01,  2.3197e-03, -1.0789e+00,\n",
      "          2.1574e-02, -5.7110e-02,  3.5772e-01, -2.8056e-02, -2.2046e+00,\n",
      "         -1.1166e-01, -3.1821e-01,  2.1358e-01],\n",
      "        [ 3.3208e-03,  9.3841e-02,  2.5728e-01, -2.1348e-03,  4.2644e-01,\n",
      "          5.1633e-02, -3.1054e-01, -2.1489e-02, -6.9154e-02,  8.6880e-01,\n",
      "          1.1081e-01,  1.0259e-01,  1.3111e-01],\n",
      "        [-9.7484e-02,  2.9567e-01,  3.5833e-03,  3.8342e-02, -5.2148e-01,\n",
      "          5.5584e-02, -4.2406e-01, -3.5973e-01, -1.0679e-01,  1.2710e-01,\n",
      "         -5.4291e-02,  6.8583e-03, -2.0822e-01],\n",
      "        [ 3.6248e-02,  1.1817e-01,  3.0251e-01,  2.5124e-03, -4.5948e-01,\n",
      "          2.7121e-02, -2.7408e-02, -6.2219e-01, -4.0694e-02,  5.1330e-01,\n",
      "          1.0538e-01,  3.6272e-02, -2.7044e-01],\n",
      "        [ 2.3468e-01, -1.0467e-01,  5.6624e-01, -1.0056e-02,  4.0022e-01,\n",
      "          5.5025e-02,  1.1979e-01, -4.0584e-01, -5.8774e-02, -9.3823e-01,\n",
      "         -7.2094e-03, -1.0077e-01,  1.7440e-01],\n",
      "        [ 5.7683e-02,  2.5547e-01, -1.1741e-01, -7.5126e-04, -5.0522e-03,\n",
      "         -7.7088e-03, -9.5222e-02,  3.2997e-02,  2.2656e-02, -1.0839e+00,\n",
      "         -1.2362e-01,  2.4340e-02,  2.3395e-01]], requires_grad=True))\n",
      "('input_layer.bias', Parameter containing:\n",
      "tensor([-1.8752e-01,  7.6085e-05, -3.3846e-02,  1.1626e-01, -1.3191e-01,\n",
      "         2.2763e-01,  8.9546e-02,  1.1516e-02,  5.2738e-02, -5.1365e-02,\n",
      "         9.8454e-03,  8.2378e-02, -1.4826e-01,  2.0347e-01, -1.7778e-01,\n",
      "         1.8724e-01, -1.7927e-01,  1.2227e-01,  2.7153e-01,  1.3105e-01,\n",
      "         2.4410e-01,  2.8011e-01,  1.1384e-01, -1.8810e-01,  1.7587e-01,\n",
      "         5.4330e-02, -2.7589e-02,  1.3550e-01, -1.6275e-02,  2.1821e-01,\n",
      "        -1.9610e-01,  1.7161e-01, -1.0697e-01,  6.5758e-02,  7.5540e-02,\n",
      "         1.7139e-01,  6.0484e-03, -1.1431e-01,  1.0603e-01, -2.4381e-01],\n",
      "       requires_grad=True))\n",
      "('layers.0.weight', Parameter containing:\n",
      "tensor([[-0.0277,  0.4559, -0.0259,  ..., -0.4241,  0.0771,  0.0106],\n",
      "        [-0.1176, -0.9855,  0.0302,  ..., -0.0264,  0.4154, -0.2068],\n",
      "        [ 0.3163,  0.1450,  0.3043,  ...,  0.2477,  0.0790, -0.0275],\n",
      "        ...,\n",
      "        [ 0.1207, -0.0281, -0.1476,  ..., -0.1968,  0.2855, -0.0375],\n",
      "        [ 0.1465, -0.0232,  0.0978,  ...,  0.0912, -0.2390, -0.0949],\n",
      "        [-0.2376,  0.1264,  0.1056,  ...,  0.0741, -0.0042, -0.5166]],\n",
      "       requires_grad=True))\n",
      "('layers.0.bias', Parameter containing:\n",
      "tensor([ 5.0627e-02,  1.8068e-01, -3.1240e-02,  4.1823e-02,  1.2877e-01,\n",
      "         1.0967e-01, -3.1776e-02,  5.2538e-02, -8.2008e-02, -5.8145e-02,\n",
      "         3.1778e-02, -1.0029e-03, -3.9603e-02, -1.4454e-01,  3.6325e-02,\n",
      "         3.7324e-02,  3.9562e-02,  9.7862e-02,  8.6542e-05,  3.7185e-02,\n",
      "         4.0936e-02, -4.6518e-02, -2.6165e-03, -9.0731e-02,  2.4642e-02,\n",
      "        -6.8892e-03, -3.2610e-02,  7.8271e-02,  6.1502e-02,  1.2280e-01],\n",
      "       requires_grad=True))\n",
      "('layers.1.weight', Parameter containing:\n",
      "tensor([[-2.9507e-01,  5.3839e-01, -6.7489e-01,  1.0782e-02,  1.1440e-01,\n",
      "          7.3573e-02, -4.1182e-01, -4.0291e-01, -3.2832e-02,  3.0751e-01,\n",
      "          1.6270e-01,  8.5187e-01,  4.0647e-01,  6.7247e-02,  2.4348e-01,\n",
      "          9.5719e-02,  1.3644e-02, -5.8760e-02,  4.7925e-02,  2.6635e-01,\n",
      "         -2.7824e-01, -3.0097e-01, -9.4817e-02,  2.6338e-01, -3.7291e-01,\n",
      "          2.9262e-03,  2.1429e-02, -4.1966e-01, -1.2436e-01, -1.6828e-01],\n",
      "        [ 3.2676e-01, -1.8527e-01,  2.6722e-02,  3.0170e-02,  2.6663e-01,\n",
      "         -2.4423e-01,  2.6616e-02,  5.2396e-02,  3.0430e-02, -3.1499e-01,\n",
      "          6.6199e-02, -1.3526e+00, -4.3745e-01, -1.0985e-01, -1.8597e-01,\n",
      "         -2.6276e-01, -2.1390e-01, -1.4930e-01, -3.2161e-01, -1.3435e-01,\n",
      "         -7.3782e-02,  2.6353e-01,  3.8041e-01,  3.6880e-01,  7.0186e-02,\n",
      "          4.2225e-01, -1.0893e-01, -5.5092e-02,  1.3246e-01,  1.9791e-01],\n",
      "        [-1.9323e-01,  1.4518e-01,  4.8317e-02, -1.7509e-01,  2.0944e-01,\n",
      "          9.5315e-02,  1.4143e-01, -7.9521e-02,  1.8216e-01, -2.8080e-01,\n",
      "          5.2339e-02,  7.8522e-01, -1.2139e-01,  3.6429e-01,  3.1499e-01,\n",
      "          2.9028e-01,  3.5955e-01,  1.5833e-02,  6.3806e-02,  3.5034e-01,\n",
      "         -4.7553e-02, -3.0537e-01, -1.8266e-01,  3.4008e-01,  1.7573e-01,\n",
      "          2.7434e-01,  3.9313e-01, -1.6753e-01, -4.7882e-01,  2.8724e-01],\n",
      "        [-1.0227e-01, -4.8551e-02,  1.6565e-01,  3.1649e-01,  2.4270e-01,\n",
      "          1.8165e-01, -4.3703e-01,  1.3758e-01, -3.1146e-01, -3.7212e-02,\n",
      "         -9.1214e-03, -7.5493e-01, -5.2477e-01, -1.8402e-01,  2.3081e-02,\n",
      "         -6.1373e-01, -7.4669e-02, -9.2033e-02, -9.3919e-02,  3.7656e-01,\n",
      "          1.4750e-02,  1.7059e-02,  3.1242e-01,  1.4469e-01,  6.5741e-02,\n",
      "         -7.5495e-02,  1.0974e-01, -3.2358e-01, -2.9738e-01,  6.9058e-02],\n",
      "        [-3.5350e-01,  4.8258e-01,  2.3783e-01, -1.4993e-01, -4.0556e-01,\n",
      "         -9.2770e-01,  3.7890e-01, -4.6372e-01,  4.7018e-01, -5.9651e-02,\n",
      "         -1.2425e-01,  2.0536e+00, -3.2491e-01, -1.9377e-01,  2.0638e-01,\n",
      "          1.6735e-01,  1.8998e-02, -8.9569e-02,  1.0628e-01,  4.5314e-02,\n",
      "          1.4875e-01,  2.5725e-01,  1.2068e-01, -8.5989e-02, -3.0643e-01,\n",
      "         -3.2916e-01,  1.8029e-02,  3.3711e-01, -8.5152e-02,  1.3939e-02],\n",
      "        [ 3.1377e-01, -4.0202e-01,  3.3563e-01, -1.2624e-01,  1.2675e-01,\n",
      "          1.1608e-01,  4.0205e-01, -6.1018e-01, -1.7806e-01,  1.0988e-01,\n",
      "         -2.6623e-01,  1.3883e+00,  3.2070e-01,  2.6674e-01,  3.4692e-01,\n",
      "          3.3491e-01, -7.0097e-02,  1.2788e-01,  3.4501e-02, -2.6606e-01,\n",
      "          2.2750e-01, -1.0013e+00,  1.3154e-01,  2.0888e-01,  6.6203e-02,\n",
      "          2.4980e-01, -9.3076e-02, -1.5560e-01,  1.5600e-01, -2.5375e-01],\n",
      "        [ 1.4334e-01,  3.9436e-01, -5.6719e-01, -9.9249e-02,  2.6177e-01,\n",
      "         -6.7595e-02, -1.8677e-01,  2.0535e-01,  1.4895e-01, -2.7015e-01,\n",
      "         -1.4907e-01, -4.9195e-01, -3.4381e-01, -4.1208e-01,  2.2631e-01,\n",
      "         -2.8226e-01,  1.9244e-02,  1.2761e-01,  2.6382e-01,  1.9992e-01,\n",
      "          1.5060e-01,  2.0496e-01,  1.7633e-01, -1.4297e-01,  4.7038e-01,\n",
      "         -3.2286e-01, -6.3524e-02,  1.5014e-01,  2.5317e-01,  3.6727e-02],\n",
      "        [ 1.9307e-01,  2.8292e-01, -3.6859e-02, -1.3353e-01, -1.8068e-01,\n",
      "         -8.9697e-02,  5.8357e-01,  1.8132e-01,  1.8354e-01,  3.3040e-01,\n",
      "          4.1408e-01,  1.8719e-01,  5.0462e-01,  8.4028e-02,  2.7696e-01,\n",
      "          4.4877e-01,  2.7467e-02, -1.0653e-01, -3.1401e-01, -5.1696e-01,\n",
      "          6.9177e-02,  5.3382e-01,  6.6858e-02, -8.8579e-02, -2.6564e-01,\n",
      "          4.7367e-01,  3.9016e-02,  2.5056e-01,  5.5876e-03, -2.2590e-01],\n",
      "        [ 3.3298e-02, -2.8717e-01,  4.2614e-01, -1.2685e-01, -3.1322e-01,\n",
      "          1.2093e-01, -8.5569e-01,  3.8539e-02,  1.5112e-02,  1.9738e-01,\n",
      "         -6.2423e-02,  1.7165e-01,  5.9061e-01, -4.6304e-02,  2.4018e-01,\n",
      "         -3.5267e-01, -4.2026e-01, -4.7624e-03,  4.0605e-01, -2.1821e-01,\n",
      "         -5.1072e-01, -1.1599e+00, -5.8067e-03,  1.0362e-01,  1.6566e-01,\n",
      "          4.1126e-01, -2.3092e-01, -4.3553e-01,  4.3585e-03,  3.8152e-01],\n",
      "        [ 2.6392e-01,  1.1363e-01,  1.5024e-01, -3.3374e-01,  1.5597e-01,\n",
      "          5.2610e-01, -2.2189e-01, -3.8390e-01,  6.4621e-02, -1.4214e-01,\n",
      "         -8.3018e-02, -1.0990e+00, -3.1731e-01, -2.1093e-01, -5.0350e-03,\n",
      "          3.3654e-03, -4.4862e-02,  2.2462e-01,  2.9282e-01, -8.7095e-02,\n",
      "         -1.2997e-01, -6.1246e-02, -7.1909e-02, -1.3579e-01, -2.9121e-01,\n",
      "         -9.2308e-02,  1.0552e-01,  4.8117e-01, -8.2726e-01,  9.2741e-02],\n",
      "        [ 5.0801e-02,  4.4475e-01, -3.9613e-01,  1.1572e-01, -8.7403e-02,\n",
      "         -6.3667e-01, -2.4715e-01, -2.0237e-01,  1.1350e-01, -1.5601e-02,\n",
      "         -1.5071e-03,  1.5119e+00, -6.8676e-01, -2.5228e-02,  2.0374e-01,\n",
      "         -3.2071e-01,  5.5361e-02, -6.5820e-02, -7.9363e-02, -1.0977e-01,\n",
      "          3.2789e-01,  9.0155e-02,  2.8183e-01,  2.2118e-02,  5.9699e-02,\n",
      "         -2.0834e-01, -8.0516e-02,  2.5453e-01, -4.5267e-01,  2.9660e-01],\n",
      "        [ 1.6808e-01,  3.1411e-01, -3.8593e-01, -1.4839e-01,  3.5694e-01,\n",
      "         -6.9545e-01,  4.4813e-01,  2.4094e-02, -2.1328e-01,  3.7250e-01,\n",
      "         -1.1739e-01,  4.5745e-01, -4.2609e-01,  1.0308e-01,  2.6609e-01,\n",
      "          2.6847e-01,  1.2467e-01, -6.1673e-02, -1.7312e-01, -2.3474e-01,\n",
      "         -1.6403e-01, -9.3693e-02, -8.9685e-02, -2.8027e-01, -2.9756e-02,\n",
      "          2.1677e-01,  2.4154e-01, -1.5442e-01, -6.7930e-02, -3.1431e-01],\n",
      "        [-1.5973e-01,  4.5567e-01,  1.0746e+00, -6.1562e-02, -7.4660e-02,\n",
      "         -5.1929e-01,  5.8274e-02,  5.4105e-02,  1.7617e-01,  2.0882e-01,\n",
      "         -1.0042e-01, -4.7842e-02, -4.5787e-01, -5.8016e-02,  3.9709e-02,\n",
      "          3.4569e-01,  2.1754e-01, -2.2141e-01,  6.9377e-02, -8.5529e-02,\n",
      "         -8.2981e-02,  2.5045e-02,  1.1382e-01,  8.7214e-02,  3.0998e-01,\n",
      "         -9.0451e-02,  1.8270e-01,  5.5655e-02, -6.3921e-02, -2.0313e-01],\n",
      "        [-2.3334e-01,  1.2517e-01, -1.8623e-01, -2.6078e-01, -1.4333e-01,\n",
      "         -4.8689e-02,  3.1670e-01, -3.2008e-01, -2.6553e-01,  6.6221e-02,\n",
      "         -1.2528e-01,  2.6509e-01,  6.0156e-02,  2.3306e-01,  2.1350e-01,\n",
      "          5.3974e-01,  1.8172e-02,  4.9419e-01, -1.3803e-04, -1.9594e-01,\n",
      "          9.7857e-02, -2.3363e-01, -7.4490e-02,  1.9863e-01, -5.8395e-01,\n",
      "          1.4472e-01,  2.5627e-01, -3.1026e-01,  9.4376e-02, -1.9282e-01],\n",
      "        [ 6.6604e-02, -3.2613e-01,  3.7634e-01, -2.2051e-01, -3.1620e-01,\n",
      "          2.6900e-01, -9.6972e-01, -1.8699e-01, -2.9304e-01, -3.4535e-02,\n",
      "          1.7938e-01,  5.5235e-01, -6.3192e-02,  2.1422e-01, -1.4177e-01,\n",
      "          6.0635e-02, -7.2832e-01,  1.5214e-01, -6.6069e-02,  2.5301e-01,\n",
      "         -4.0904e-01, -2.0305e+00, -2.3174e-01, -1.8090e-01,  3.8029e-01,\n",
      "          3.0127e-01,  1.9685e-01, -7.1584e-02, -3.5150e-01,  2.9676e-01],\n",
      "        [ 2.0578e-03,  7.3712e-01, -1.1045e+00, -1.5972e-01,  2.3596e-01,\n",
      "          9.1966e-02, -2.2222e-02,  2.1370e-01, -3.9890e-01,  9.0322e-02,\n",
      "          4.0487e-01, -4.4843e-01, -4.5256e-01,  2.4360e-01,  1.6331e-01,\n",
      "          4.9040e-01, -3.2800e-01,  1.1689e-01, -1.6758e-01,  4.2626e-02,\n",
      "         -2.5824e-02, -8.2071e-02, -9.9975e-02, -3.6168e-02,  6.2313e-03,\n",
      "          8.1941e-01, -4.5704e-01,  2.0677e-01, -1.6474e-01,  4.6736e-02],\n",
      "        [-1.3174e-01, -3.3391e-02, -2.7040e-01, -5.4588e-02, -1.0483e-01,\n",
      "          2.7934e-01,  1.4117e-01,  4.2960e-02,  3.3682e-02,  2.7881e-01,\n",
      "         -1.6728e-01,  6.1127e-01, -1.3595e+00, -7.9520e-03,  9.7183e-03,\n",
      "         -3.7245e-01, -2.2472e-01,  1.0024e-01, -2.2732e-01, -5.0491e-01,\n",
      "         -1.1958e-01, -6.7874e-02, -8.8663e-02,  1.3626e-01,  8.6906e-02,\n",
      "          6.1041e-03, -2.7853e-01, -1.8399e-01, -3.0244e-02,  4.8403e-01],\n",
      "        [-8.5219e-02,  2.4318e-01, -1.1076e+00, -2.0298e-01,  1.0297e-01,\n",
      "         -8.0322e-01,  9.8709e-02,  9.3672e-02, -9.4766e-02,  4.0475e-01,\n",
      "         -3.3636e-01,  6.6165e-01, -2.8299e-01,  1.6318e-01,  1.0443e-01,\n",
      "         -2.4604e-01,  1.5635e-01,  1.1473e-01, -2.8821e-01,  3.8005e-02,\n",
      "          3.2696e-01,  4.7722e-01,  2.8771e-01, -1.7466e-01,  2.5976e-01,\n",
      "         -1.5491e-01, -3.3991e-01, -1.5961e-01,  4.1151e-02, -2.9097e-01],\n",
      "        [ 8.0797e-05,  1.0287e-01, -7.0645e-01,  3.6411e-02,  1.0817e-01,\n",
      "         -2.2695e-02,  6.4579e-01, -2.7655e-01, -1.6002e-01, -1.0588e-02,\n",
      "         -3.5010e-01, -4.0488e-01,  7.2393e-02,  1.7598e-01,  1.7567e-01,\n",
      "          3.5951e-01, -1.6060e-01,  4.9899e-02,  6.1404e-02,  1.8356e-01,\n",
      "         -1.4387e-01,  2.0351e-02,  3.3217e-01,  5.2409e-02, -2.9038e-01,\n",
      "          7.0906e-01, -9.8597e-02,  3.3985e-02,  1.9338e-01,  5.8226e-02],\n",
      "        [-1.1501e-01,  2.3383e-01, -7.7020e-01,  1.7150e-01, -4.3440e-02,\n",
      "         -3.7689e-01,  4.6996e-01,  2.7337e-01,  2.0623e-01, -6.4081e-02,\n",
      "         -2.5195e-01,  6.9537e-01, -4.1427e-01,  1.0422e-01,  1.4949e-01,\n",
      "          2.5753e-01,  3.1691e-01,  1.5409e-01,  5.8894e-02,  3.4603e-01,\n",
      "         -1.9862e-01, -7.3858e-02, -1.4713e-01,  1.5171e-01,  3.1482e-01,\n",
      "         -3.8246e-01,  5.8468e-02, -7.8999e-03,  1.3363e-01,  3.2560e-01]],\n",
      "       requires_grad=True))\n",
      "('layers.1.bias', Parameter containing:\n",
      "tensor([ 0.0518,  0.0581,  0.0131,  0.0745,  0.0404, -0.0093,  0.0601, -0.0044,\n",
      "         0.0789,  0.0101,  0.0761, -0.0161, -0.0427,  0.1145,  0.0752,  0.0750,\n",
      "         0.0475,  0.1114,  0.0185,  0.1668], requires_grad=True))\n",
      "('layers.2.weight', Parameter containing:\n",
      "tensor([[ 7.0649e-03, -3.8649e-01,  1.2152e-01,  3.0865e-01,  1.0447e+00,\n",
      "          6.2527e-01,  1.6558e-01, -5.6762e-01,  5.9419e-03, -3.8686e-01,\n",
      "          2.6397e-01, -1.1558e-01, -1.1400e+00, -2.8427e-01,  9.5567e-02,\n",
      "          1.6190e-01, -1.2946e-01, -3.9976e-01, -6.0490e-02,  2.6590e-01],\n",
      "        [ 4.9033e-02, -1.8867e-02,  7.4382e-02, -2.6395e-01, -7.7986e-01,\n",
      "         -3.4159e-01, -1.3724e-02,  3.3844e-02, -9.8175e-01, -4.0943e-01,\n",
      "         -1.9019e-01,  3.6794e-01, -1.3513e-01, -6.5313e-01, -1.0640e+00,\n",
      "          5.2371e-01,  6.3692e-01,  5.3235e-01,  1.6282e-01,  2.4766e-01],\n",
      "        [ 4.1006e-01, -4.7929e-01,  7.4386e-01,  1.5436e-01,  1.0463e+00,\n",
      "          2.2203e-01, -2.6515e-01, -2.2160e-01, -3.1288e-01, -3.4822e-01,\n",
      "         -6.9199e-02, -2.7398e-01, -7.8522e-01, -6.8788e-01,  1.6424e-01,\n",
      "         -3.6010e-02, -2.1407e-01, -2.4911e-01,  1.9054e-01,  3.4083e-02],\n",
      "        [ 2.2382e-01, -5.8735e-01,  4.6313e-01, -2.1178e-01,  1.4246e+00,\n",
      "          9.8705e-01, -2.8629e-01, -7.3217e-01, -6.5592e-02, -2.9202e-01,\n",
      "          7.1764e-04,  4.0361e-01, -1.0935e+00,  2.6606e-01,  2.7195e-01,\n",
      "          3.7743e-01, -4.1463e-01, -7.0839e-01,  1.2398e-01,  2.0442e-01],\n",
      "        [-7.6573e-03,  2.9152e-01,  2.4443e-01,  1.0097e+00, -7.8972e-01,\n",
      "         -1.3165e+00,  1.6162e-01, -2.8763e-01, -3.7120e-01, -2.2017e-01,\n",
      "         -3.5015e-01,  5.6816e-01, -2.1794e-01, -5.2113e-01, -9.7840e-01,\n",
      "         -7.4284e-02,  8.2676e-01,  8.2986e-01, -1.4931e-01,  5.6587e-01],\n",
      "        [-1.0315e-01,  5.3775e-01,  1.4081e-03, -1.6367e-01, -7.7679e-01,\n",
      "         -1.1589e+00,  5.3953e-01,  3.6625e-01, -5.8708e-01,  7.0088e-02,\n",
      "         -2.8913e-01,  7.9056e-01, -1.4874e-01, -9.0279e-01, -6.5275e-01,\n",
      "          3.7502e-02,  4.7400e-01,  5.5374e-01, -4.1548e-02,  3.9822e-01],\n",
      "        [ 4.4423e-02, -1.0712e-01, -3.9045e-01,  1.0465e-01, -2.2033e+00,\n",
      "         -6.1481e-01,  1.7618e-01, -1.4225e-01,  7.8530e-03,  3.6994e-01,\n",
      "          2.2241e-01, -2.3496e-01, -3.9102e-02, -5.2160e-02, -5.8859e-01,\n",
      "          7.6231e-01,  2.2157e-01,  6.9916e-02,  2.7068e-01, -2.7511e-02],\n",
      "        [ 3.9541e-01, -2.7492e-01, -7.1575e-02, -2.2052e-01,  7.9633e-01,\n",
      "          2.3999e-01,  3.4952e-01, -1.6922e-01, -3.1222e-01, -1.0107e+00,\n",
      "          7.5596e-01, -1.4165e+00, -1.1851e-01,  1.0459e+00, -6.3124e-01,\n",
      "         -4.0871e-01,  1.1421e-01, -1.2847e+00, -2.4608e-01,  4.0506e-01],\n",
      "        [ 1.9013e-01, -3.1127e-01,  1.2216e-01, -3.9222e-01,  2.8015e-01,\n",
      "          6.6270e-01, -7.4069e-02, -8.8656e-01,  6.8150e-02,  3.2924e-01,\n",
      "          2.4889e-01, -5.3513e-01,  8.6988e-02,  9.6924e-01,  2.1929e-01,\n",
      "         -1.4421e-01,  2.6703e-01, -5.4836e-01, -1.7155e-01,  1.5026e-01],\n",
      "        [-2.8006e-01,  1.7287e-01, -9.6764e-02, -3.1041e-01, -5.9352e-02,\n",
      "         -3.9626e-01, -2.1501e-01,  1.6040e-01, -5.3278e-01, -4.8277e-02,\n",
      "         -2.0543e-01,  1.1571e+00,  3.2242e-02, -4.3651e-01, -3.8397e-01,\n",
      "         -1.7102e-01,  4.4237e-01, -9.8560e-02, -5.5673e-01, -2.5676e-01]],\n",
      "       requires_grad=True))\n",
      "('layers.2.bias', Parameter containing:\n",
      "tensor([-0.0625, -0.0190,  0.0528,  0.0711, -0.0269,  0.0206,  0.0859,  0.0501,\n",
      "         0.0481,  0.1879], requires_grad=True))\n",
      "('output_layer.weight', Parameter containing:\n",
      "tensor([[ 0.5381, -1.2860,  0.2486,  0.6899, -0.2563, -0.3045, -0.6284,  1.7858,\n",
      "          1.6524, -1.2247],\n",
      "        [-0.0613,  1.8981, -0.4706, -0.8718,  0.6686,  0.8258,  0.5607, -1.5299,\n",
      "         -0.7478,  1.0006]], requires_grad=True))\n",
      "('output_layer.bias', Parameter containing:\n",
      "tensor([0.0192, 0.0009], requires_grad=True))\n"
     ]
    }
   ],
   "source": [
    "for param in model.named_parameters():\n",
    "  print(param)\n"
   ]
  },
  {
   "cell_type": "code",
   "execution_count": 244,
   "metadata": {},
   "outputs": [
    {
     "name": "stdout",
     "output_type": "stream",
     "text": [
      "n_params 2642\n"
     ]
    }
   ],
   "source": [
    "trenable_parameters = filter(lambda p: p.requires_grad, model.parameters())\n",
    "print(\"n_params\", sum([np.prod(p.size()) for p in trenable_parameters]) )"
   ]
  },
  {
   "cell_type": "code",
   "execution_count": 245,
   "metadata": {},
   "outputs": [],
   "source": [
    "torch.save({\n",
    "            'model_state_dict': model.state_dict(),\n",
    "            'optimizer_state_dict': optimizer.state_dict(),\n",
    "            'run_history':run_hist,\n",
    "            }, \".4NN.pt\")\n"
   ]
  },
  {
   "cell_type": "code",
   "execution_count": 246,
   "metadata": {},
   "outputs": [
    {
     "data": {
      "text/plain": [
       "NHiddenTrackingNetwork(\n",
       "  (input_layer): Linear(in_features=13, out_features=40, bias=True)\n",
       "  (layers): ModuleList(\n",
       "    (0): Linear(in_features=40, out_features=30, bias=True)\n",
       "    (1): Linear(in_features=30, out_features=20, bias=True)\n",
       "    (2): Linear(in_features=20, out_features=10, bias=True)\n",
       "  )\n",
       "  (output_layer): Linear(in_features=10, out_features=2, bias=True)\n",
       ")"
      ]
     },
     "execution_count": 246,
     "metadata": {},
     "output_type": "execute_result"
    }
   ],
   "source": [
    "model.to(device)"
   ]
  },
  {
   "cell_type": "code",
   "execution_count": 247,
   "metadata": {},
   "outputs": [
    {
     "name": "stdout",
     "output_type": "stream",
     "text": [
      "\n",
      "Epoch 1/20\n",
      "----------\n"
     ]
    },
    {
     "data": {
      "application/vnd.jupyter.widget-view+json": {
       "model_id": "",
       "version_major": 2,
       "version_minor": 0
      },
      "text/plain": [
       "HBox(children=(FloatProgress(value=0.0, max=40197.0), HTML(value='')))"
      ]
     },
     "metadata": {},
     "output_type": "display_data"
    },
    {
     "name": "stdout",
     "output_type": "stream",
     "text": [
      "train loss: 0.5681, train acc: 0.6868, elapsed:159.0224\n"
     ]
    },
    {
     "data": {
      "application/vnd.jupyter.widget-view+json": {
       "model_id": "",
       "version_major": 2,
       "version_minor": 0
      },
      "text/plain": [
       "HBox(children=(FloatProgress(value=0.0, max=10050.0), HTML(value='')))"
      ]
     },
     "metadata": {},
     "output_type": "display_data"
    },
    {
     "name": "stdout",
     "output_type": "stream",
     "text": [
      "valid loss: 0.5592, valid acc: 0.7036, elapsed:17.6148\n",
      "\n",
      "Epoch 2/20\n",
      "----------\n"
     ]
    },
    {
     "data": {
      "application/vnd.jupyter.widget-view+json": {
       "model_id": "",
       "version_major": 2,
       "version_minor": 0
      },
      "text/plain": [
       "HBox(children=(FloatProgress(value=0.0, max=40197.0), HTML(value='')))"
      ]
     },
     "metadata": {},
     "output_type": "display_data"
    },
    {
     "name": "stdout",
     "output_type": "stream",
     "text": [
      "train loss: 0.5676, train acc: 0.6874, elapsed:153.7366\n"
     ]
    },
    {
     "data": {
      "application/vnd.jupyter.widget-view+json": {
       "model_id": "",
       "version_major": 2,
       "version_minor": 0
      },
      "text/plain": [
       "HBox(children=(FloatProgress(value=0.0, max=10050.0), HTML(value='')))"
      ]
     },
     "metadata": {},
     "output_type": "display_data"
    },
    {
     "name": "stdout",
     "output_type": "stream",
     "text": [
      "valid loss: 0.5738, valid acc: 0.6848, elapsed:17.6309\n",
      "\n",
      "Epoch 3/20\n",
      "----------\n"
     ]
    },
    {
     "data": {
      "application/vnd.jupyter.widget-view+json": {
       "model_id": "",
       "version_major": 2,
       "version_minor": 0
      },
      "text/plain": [
       "HBox(children=(FloatProgress(value=0.0, max=40197.0), HTML(value='')))"
      ]
     },
     "metadata": {},
     "output_type": "display_data"
    },
    {
     "name": "stdout",
     "output_type": "stream",
     "text": [
      "train loss: 0.5669, train acc: 0.6877, elapsed:157.0809\n"
     ]
    },
    {
     "data": {
      "application/vnd.jupyter.widget-view+json": {
       "model_id": "",
       "version_major": 2,
       "version_minor": 0
      },
      "text/plain": [
       "HBox(children=(FloatProgress(value=0.0, max=10050.0), HTML(value='')))"
      ]
     },
     "metadata": {},
     "output_type": "display_data"
    },
    {
     "name": "stdout",
     "output_type": "stream",
     "text": [
      "valid loss: 0.5517, valid acc: 0.7143, elapsed:19.1420\n",
      "\n",
      "Epoch 4/20\n",
      "----------\n"
     ]
    },
    {
     "data": {
      "application/vnd.jupyter.widget-view+json": {
       "model_id": "",
       "version_major": 2,
       "version_minor": 0
      },
      "text/plain": [
       "HBox(children=(FloatProgress(value=0.0, max=40197.0), HTML(value='')))"
      ]
     },
     "metadata": {},
     "output_type": "display_data"
    },
    {
     "name": "stdout",
     "output_type": "stream",
     "text": [
      "train loss: 0.5666, train acc: 0.6881, elapsed:155.3510\n"
     ]
    },
    {
     "data": {
      "application/vnd.jupyter.widget-view+json": {
       "model_id": "",
       "version_major": 2,
       "version_minor": 0
      },
      "text/plain": [
       "HBox(children=(FloatProgress(value=0.0, max=10050.0), HTML(value='')))"
      ]
     },
     "metadata": {},
     "output_type": "display_data"
    },
    {
     "name": "stdout",
     "output_type": "stream",
     "text": [
      "valid loss: 0.5641, valid acc: 0.6976, elapsed:19.6809\n",
      "\n",
      "Epoch 5/20\n",
      "----------\n"
     ]
    },
    {
     "data": {
      "application/vnd.jupyter.widget-view+json": {
       "model_id": "",
       "version_major": 2,
       "version_minor": 0
      },
      "text/plain": [
       "HBox(children=(FloatProgress(value=0.0, max=40197.0), HTML(value='')))"
      ]
     },
     "metadata": {},
     "output_type": "display_data"
    },
    {
     "name": "stdout",
     "output_type": "stream",
     "text": [
      "train loss: 0.5659, train acc: 0.6883, elapsed:158.6134\n"
     ]
    },
    {
     "data": {
      "application/vnd.jupyter.widget-view+json": {
       "model_id": "",
       "version_major": 2,
       "version_minor": 0
      },
      "text/plain": [
       "HBox(children=(FloatProgress(value=0.0, max=10050.0), HTML(value='')))"
      ]
     },
     "metadata": {},
     "output_type": "display_data"
    },
    {
     "name": "stdout",
     "output_type": "stream",
     "text": [
      "valid loss: 0.5672, valid acc: 0.6905, elapsed:17.5667\n",
      "\n",
      "Epoch 6/20\n",
      "----------\n"
     ]
    },
    {
     "data": {
      "application/vnd.jupyter.widget-view+json": {
       "model_id": "",
       "version_major": 2,
       "version_minor": 0
      },
      "text/plain": [
       "HBox(children=(FloatProgress(value=0.0, max=40197.0), HTML(value='')))"
      ]
     },
     "metadata": {},
     "output_type": "display_data"
    },
    {
     "name": "stdout",
     "output_type": "stream",
     "text": [
      "train loss: 0.5657, train acc: 0.6885, elapsed:157.8483\n"
     ]
    },
    {
     "data": {
      "application/vnd.jupyter.widget-view+json": {
       "model_id": "",
       "version_major": 2,
       "version_minor": 0
      },
      "text/plain": [
       "HBox(children=(FloatProgress(value=0.0, max=10050.0), HTML(value='')))"
      ]
     },
     "metadata": {},
     "output_type": "display_data"
    },
    {
     "name": "stdout",
     "output_type": "stream",
     "text": [
      "valid loss: 0.5707, valid acc: 0.6906, elapsed:17.4830\n",
      "\n",
      "Epoch 7/20\n",
      "----------\n"
     ]
    },
    {
     "data": {
      "application/vnd.jupyter.widget-view+json": {
       "model_id": "",
       "version_major": 2,
       "version_minor": 0
      },
      "text/plain": [
       "HBox(children=(FloatProgress(value=0.0, max=40197.0), HTML(value='')))"
      ]
     },
     "metadata": {},
     "output_type": "display_data"
    },
    {
     "name": "stdout",
     "output_type": "stream",
     "text": [
      "train loss: 0.5654, train acc: 0.6891, elapsed:156.9042\n"
     ]
    },
    {
     "data": {
      "application/vnd.jupyter.widget-view+json": {
       "model_id": "",
       "version_major": 2,
       "version_minor": 0
      },
      "text/plain": [
       "HBox(children=(FloatProgress(value=0.0, max=10050.0), HTML(value='')))"
      ]
     },
     "metadata": {},
     "output_type": "display_data"
    },
    {
     "name": "stdout",
     "output_type": "stream",
     "text": [
      "valid loss: 0.5659, valid acc: 0.6914, elapsed:17.6326\n",
      "\n",
      "Epoch 8/20\n",
      "----------\n"
     ]
    },
    {
     "data": {
      "application/vnd.jupyter.widget-view+json": {
       "model_id": "",
       "version_major": 2,
       "version_minor": 0
      },
      "text/plain": [
       "HBox(children=(FloatProgress(value=0.0, max=40197.0), HTML(value='')))"
      ]
     },
     "metadata": {},
     "output_type": "display_data"
    },
    {
     "name": "stdout",
     "output_type": "stream",
     "text": [
      "train loss: 0.5648, train acc: 0.6892, elapsed:156.6877\n"
     ]
    },
    {
     "data": {
      "application/vnd.jupyter.widget-view+json": {
       "model_id": "",
       "version_major": 2,
       "version_minor": 0
      },
      "text/plain": [
       "HBox(children=(FloatProgress(value=0.0, max=10050.0), HTML(value='')))"
      ]
     },
     "metadata": {},
     "output_type": "display_data"
    },
    {
     "name": "stdout",
     "output_type": "stream",
     "text": [
      "valid loss: 0.5698, valid acc: 0.6874, elapsed:17.7060\n",
      "\n",
      "Epoch 9/20\n",
      "----------\n"
     ]
    },
    {
     "data": {
      "application/vnd.jupyter.widget-view+json": {
       "model_id": "",
       "version_major": 2,
       "version_minor": 0
      },
      "text/plain": [
       "HBox(children=(FloatProgress(value=0.0, max=40197.0), HTML(value='')))"
      ]
     },
     "metadata": {},
     "output_type": "display_data"
    },
    {
     "name": "stdout",
     "output_type": "stream",
     "text": [
      "train loss: 0.5648, train acc: 0.6893, elapsed:158.6965\n"
     ]
    },
    {
     "data": {
      "application/vnd.jupyter.widget-view+json": {
       "model_id": "",
       "version_major": 2,
       "version_minor": 0
      },
      "text/plain": [
       "HBox(children=(FloatProgress(value=0.0, max=10050.0), HTML(value='')))"
      ]
     },
     "metadata": {},
     "output_type": "display_data"
    },
    {
     "name": "stdout",
     "output_type": "stream",
     "text": [
      "valid loss: 0.5526, valid acc: 0.7057, elapsed:17.7265\n",
      "\n",
      "Epoch 10/20\n",
      "----------\n"
     ]
    },
    {
     "data": {
      "application/vnd.jupyter.widget-view+json": {
       "model_id": "",
       "version_major": 2,
       "version_minor": 0
      },
      "text/plain": [
       "HBox(children=(FloatProgress(value=0.0, max=40197.0), HTML(value='')))"
      ]
     },
     "metadata": {},
     "output_type": "display_data"
    },
    {
     "name": "stdout",
     "output_type": "stream",
     "text": [
      "train loss: 0.5643, train acc: 0.6898, elapsed:160.5694\n"
     ]
    },
    {
     "data": {
      "application/vnd.jupyter.widget-view+json": {
       "model_id": "",
       "version_major": 2,
       "version_minor": 0
      },
      "text/plain": [
       "HBox(children=(FloatProgress(value=0.0, max=10050.0), HTML(value='')))"
      ]
     },
     "metadata": {},
     "output_type": "display_data"
    },
    {
     "name": "stdout",
     "output_type": "stream",
     "text": [
      "valid loss: 0.5789, valid acc: 0.6788, elapsed:17.6730\n",
      "\n",
      "Epoch 11/20\n",
      "----------\n"
     ]
    },
    {
     "data": {
      "application/vnd.jupyter.widget-view+json": {
       "model_id": "",
       "version_major": 2,
       "version_minor": 0
      },
      "text/plain": [
       "HBox(children=(FloatProgress(value=0.0, max=40197.0), HTML(value='')))"
      ]
     },
     "metadata": {},
     "output_type": "display_data"
    },
    {
     "name": "stdout",
     "output_type": "stream",
     "text": [
      "train loss: 0.5645, train acc: 0.6893, elapsed:155.1620\n"
     ]
    },
    {
     "data": {
      "application/vnd.jupyter.widget-view+json": {
       "model_id": "",
       "version_major": 2,
       "version_minor": 0
      },
      "text/plain": [
       "HBox(children=(FloatProgress(value=0.0, max=10050.0), HTML(value='')))"
      ]
     },
     "metadata": {},
     "output_type": "display_data"
    },
    {
     "name": "stdout",
     "output_type": "stream",
     "text": [
      "valid loss: 0.5569, valid acc: 0.7023, elapsed:17.4336\n",
      "\n",
      "Epoch 12/20\n",
      "----------\n"
     ]
    },
    {
     "data": {
      "application/vnd.jupyter.widget-view+json": {
       "model_id": "",
       "version_major": 2,
       "version_minor": 0
      },
      "text/plain": [
       "HBox(children=(FloatProgress(value=0.0, max=40197.0), HTML(value='')))"
      ]
     },
     "metadata": {},
     "output_type": "display_data"
    },
    {
     "name": "stdout",
     "output_type": "stream",
     "text": [
      "train loss: 0.5639, train acc: 0.6903, elapsed:156.6860\n"
     ]
    },
    {
     "data": {
      "application/vnd.jupyter.widget-view+json": {
       "model_id": "",
       "version_major": 2,
       "version_minor": 0
      },
      "text/plain": [
       "HBox(children=(FloatProgress(value=0.0, max=10050.0), HTML(value='')))"
      ]
     },
     "metadata": {},
     "output_type": "display_data"
    },
    {
     "name": "stdout",
     "output_type": "stream",
     "text": [
      "valid loss: 0.5757, valid acc: 0.6829, elapsed:17.6667\n",
      "\n",
      "Epoch 13/20\n",
      "----------\n"
     ]
    },
    {
     "data": {
      "application/vnd.jupyter.widget-view+json": {
       "model_id": "",
       "version_major": 2,
       "version_minor": 0
      },
      "text/plain": [
       "HBox(children=(FloatProgress(value=0.0, max=40197.0), HTML(value='')))"
      ]
     },
     "metadata": {},
     "output_type": "display_data"
    },
    {
     "name": "stdout",
     "output_type": "stream",
     "text": [
      "train loss: 0.5635, train acc: 0.6902, elapsed:159.2103\n"
     ]
    },
    {
     "data": {
      "application/vnd.jupyter.widget-view+json": {
       "model_id": "",
       "version_major": 2,
       "version_minor": 0
      },
      "text/plain": [
       "HBox(children=(FloatProgress(value=0.0, max=10050.0), HTML(value='')))"
      ]
     },
     "metadata": {},
     "output_type": "display_data"
    },
    {
     "name": "stdout",
     "output_type": "stream",
     "text": [
      "valid loss: 0.5814, valid acc: 0.6799, elapsed:17.7625\n",
      "\n",
      "Epoch 14/20\n",
      "----------\n"
     ]
    },
    {
     "data": {
      "application/vnd.jupyter.widget-view+json": {
       "model_id": "",
       "version_major": 2,
       "version_minor": 0
      },
      "text/plain": [
       "HBox(children=(FloatProgress(value=0.0, max=40197.0), HTML(value='')))"
      ]
     },
     "metadata": {},
     "output_type": "display_data"
    },
    {
     "name": "stdout",
     "output_type": "stream",
     "text": [
      "train loss: 0.5634, train acc: 0.6905, elapsed:160.5766\n"
     ]
    },
    {
     "data": {
      "application/vnd.jupyter.widget-view+json": {
       "model_id": "",
       "version_major": 2,
       "version_minor": 0
      },
      "text/plain": [
       "HBox(children=(FloatProgress(value=0.0, max=10050.0), HTML(value='')))"
      ]
     },
     "metadata": {},
     "output_type": "display_data"
    },
    {
     "name": "stdout",
     "output_type": "stream",
     "text": [
      "valid loss: 0.5747, valid acc: 0.6820, elapsed:17.7206\n",
      "\n",
      "Epoch 15/20\n",
      "----------\n"
     ]
    },
    {
     "data": {
      "application/vnd.jupyter.widget-view+json": {
       "model_id": "",
       "version_major": 2,
       "version_minor": 0
      },
      "text/plain": [
       "HBox(children=(FloatProgress(value=0.0, max=40197.0), HTML(value='')))"
      ]
     },
     "metadata": {},
     "output_type": "display_data"
    },
    {
     "name": "stdout",
     "output_type": "stream",
     "text": [
      "train loss: 0.5635, train acc: 0.6903, elapsed:159.4167\n"
     ]
    },
    {
     "data": {
      "application/vnd.jupyter.widget-view+json": {
       "model_id": "",
       "version_major": 2,
       "version_minor": 0
      },
      "text/plain": [
       "HBox(children=(FloatProgress(value=0.0, max=10050.0), HTML(value='')))"
      ]
     },
     "metadata": {},
     "output_type": "display_data"
    },
    {
     "name": "stdout",
     "output_type": "stream",
     "text": [
      "valid loss: 0.5720, valid acc: 0.6881, elapsed:17.7755\n",
      "\n",
      "Epoch 16/20\n",
      "----------\n"
     ]
    },
    {
     "data": {
      "application/vnd.jupyter.widget-view+json": {
       "model_id": "",
       "version_major": 2,
       "version_minor": 0
      },
      "text/plain": [
       "HBox(children=(FloatProgress(value=0.0, max=40197.0), HTML(value='')))"
      ]
     },
     "metadata": {},
     "output_type": "display_data"
    },
    {
     "name": "stdout",
     "output_type": "stream",
     "text": [
      "train loss: 0.5631, train acc: 0.6908, elapsed:154.9500\n"
     ]
    },
    {
     "data": {
      "application/vnd.jupyter.widget-view+json": {
       "model_id": "",
       "version_major": 2,
       "version_minor": 0
      },
      "text/plain": [
       "HBox(children=(FloatProgress(value=0.0, max=10050.0), HTML(value='')))"
      ]
     },
     "metadata": {},
     "output_type": "display_data"
    },
    {
     "name": "stdout",
     "output_type": "stream",
     "text": [
      "valid loss: 0.5709, valid acc: 0.6847, elapsed:17.6330\n",
      "\n",
      "Epoch 17/20\n",
      "----------\n"
     ]
    },
    {
     "data": {
      "application/vnd.jupyter.widget-view+json": {
       "model_id": "",
       "version_major": 2,
       "version_minor": 0
      },
      "text/plain": [
       "HBox(children=(FloatProgress(value=0.0, max=40197.0), HTML(value='')))"
      ]
     },
     "metadata": {},
     "output_type": "display_data"
    },
    {
     "name": "stdout",
     "output_type": "stream",
     "text": [
      "train loss: 0.5635, train acc: 0.6903, elapsed:157.8587\n"
     ]
    },
    {
     "data": {
      "application/vnd.jupyter.widget-view+json": {
       "model_id": "",
       "version_major": 2,
       "version_minor": 0
      },
      "text/plain": [
       "HBox(children=(FloatProgress(value=0.0, max=10050.0), HTML(value='')))"
      ]
     },
     "metadata": {},
     "output_type": "display_data"
    },
    {
     "name": "stdout",
     "output_type": "stream",
     "text": [
      "valid loss: 0.5798, valid acc: 0.6791, elapsed:17.4307\n",
      "\n",
      "Epoch 18/20\n",
      "----------\n"
     ]
    },
    {
     "data": {
      "application/vnd.jupyter.widget-view+json": {
       "model_id": "",
       "version_major": 2,
       "version_minor": 0
      },
      "text/plain": [
       "HBox(children=(FloatProgress(value=0.0, max=40197.0), HTML(value='')))"
      ]
     },
     "metadata": {},
     "output_type": "display_data"
    },
    {
     "name": "stdout",
     "output_type": "stream",
     "text": [
      "train loss: 0.5631, train acc: 0.6906, elapsed:157.6984\n"
     ]
    },
    {
     "data": {
      "application/vnd.jupyter.widget-view+json": {
       "model_id": "",
       "version_major": 2,
       "version_minor": 0
      },
      "text/plain": [
       "HBox(children=(FloatProgress(value=0.0, max=10050.0), HTML(value='')))"
      ]
     },
     "metadata": {},
     "output_type": "display_data"
    },
    {
     "name": "stdout",
     "output_type": "stream",
     "text": [
      "valid loss: 0.5720, valid acc: 0.6884, elapsed:17.4685\n",
      "\n",
      "Epoch 19/20\n",
      "----------\n"
     ]
    },
    {
     "data": {
      "application/vnd.jupyter.widget-view+json": {
       "model_id": "",
       "version_major": 2,
       "version_minor": 0
      },
      "text/plain": [
       "HBox(children=(FloatProgress(value=0.0, max=40197.0), HTML(value='')))"
      ]
     },
     "metadata": {},
     "output_type": "display_data"
    },
    {
     "name": "stdout",
     "output_type": "stream",
     "text": [
      "train loss: 0.5629, train acc: 0.6908, elapsed:157.7817\n"
     ]
    },
    {
     "data": {
      "application/vnd.jupyter.widget-view+json": {
       "model_id": "",
       "version_major": 2,
       "version_minor": 0
      },
      "text/plain": [
       "HBox(children=(FloatProgress(value=0.0, max=10050.0), HTML(value='')))"
      ]
     },
     "metadata": {},
     "output_type": "display_data"
    },
    {
     "name": "stdout",
     "output_type": "stream",
     "text": [
      "valid loss: 0.5819, valid acc: 0.6809, elapsed:17.6733\n",
      "\n",
      "Epoch 20/20\n",
      "----------\n"
     ]
    },
    {
     "data": {
      "application/vnd.jupyter.widget-view+json": {
       "model_id": "",
       "version_major": 2,
       "version_minor": 0
      },
      "text/plain": [
       "HBox(children=(FloatProgress(value=0.0, max=40197.0), HTML(value='')))"
      ]
     },
     "metadata": {},
     "output_type": "display_data"
    },
    {
     "name": "stdout",
     "output_type": "stream",
     "text": [
      "train loss: 0.5627, train acc: 0.6912, elapsed:157.5637\n"
     ]
    },
    {
     "data": {
      "application/vnd.jupyter.widget-view+json": {
       "model_id": "",
       "version_major": 2,
       "version_minor": 0
      },
      "text/plain": [
       "HBox(children=(FloatProgress(value=0.0, max=10050.0), HTML(value='')))"
      ]
     },
     "metadata": {},
     "output_type": "display_data"
    },
    {
     "name": "stdout",
     "output_type": "stream",
     "text": [
      "valid loss: 0.5799, valid acc: 0.6775, elapsed:17.4580\n",
      "training took:  3507.310215326026\n"
     ]
    }
   ],
   "source": [
    "model, run_hist = train_and_valid_classification(model, criterion, optimizer,run_hist, num_epochs=20)"
   ]
  },
  {
   "cell_type": "code",
   "execution_count": 248,
   "metadata": {},
   "outputs": [
    {
     "data": {
      "image/png": "[encoded data removed]",
      "text/plain": [
       "<Figure size 1440x432 with 2 Axes>"
      ]
     },
     "metadata": {
      "needs_background": "light"
     },
     "output_type": "display_data"
    }
   ],
   "source": [
    "plot_training_classification(run_hist)"
   ]
  },
  {
   "cell_type": "code",
   "execution_count": 249,
   "metadata": {},
   "outputs": [
    {
     "data": {
      "image/png": "[encoded data removed]",
      "text/plain": [
       "<Figure size 432x432 with 1 Axes>"
      ]
     },
     "metadata": {
      "needs_background": "light"
     },
     "output_type": "display_data"
    }
   ],
   "source": [
    "print_roc(model,X_valid, Y_valid )"
   ]
  },
  {
   "cell_type": "code",
   "execution_count": 259,
   "metadata": {},
   "outputs": [
    {
     "name": "stdout",
     "output_type": "stream",
     "text": [
      "              precision    recall  f1-score   support\n",
      "\n",
      "       ghost       0.99      0.21      0.35   1100498\n",
      "        true       0.17      0.98      0.29    185790\n",
      "\n",
      "   micro avg       0.32      0.32      0.32   1286288\n",
      "   macro avg       0.58      0.60      0.32   1286288\n",
      "weighted avg       0.87      0.32      0.34   1286288\n",
      "\n"
     ]
    }
   ],
   "source": [
    "print_classification_report(model,X_valid, Y_valid, 0.20)"
   ]
  },
  {
   "cell_type": "code",
   "execution_count": 260,
   "metadata": {},
   "outputs": [
    {
     "data": {
      "text/plain": [
       "NHiddenTrackingNetwork(\n",
       "  (input_layer): Linear(in_features=13, out_features=40, bias=True)\n",
       "  (layers): ModuleList(\n",
       "    (0): Linear(in_features=40, out_features=30, bias=True)\n",
       "    (1): Linear(in_features=30, out_features=20, bias=True)\n",
       "    (2): Linear(in_features=20, out_features=10, bias=True)\n",
       "  )\n",
       "  (output_layer): Linear(in_features=10, out_features=2, bias=True)\n",
       ")"
      ]
     },
     "execution_count": 260,
     "metadata": {},
     "output_type": "execute_result"
    }
   ],
   "source": [
    "model.to(device)"
   ]
  },
  {
   "cell_type": "code",
   "execution_count": 261,
   "metadata": {},
   "outputs": [
    {
     "name": "stdout",
     "output_type": "stream",
     "text": [
      "\n",
      "Epoch 1/10\n",
      "----------\n"
     ]
    },
    {
     "data": {
      "application/vnd.jupyter.widget-view+json": {
       "model_id": "",
       "version_major": 2,
       "version_minor": 0
      },
      "text/plain": [
       "HBox(children=(FloatProgress(value=0.0, max=40197.0), HTML(value='')))"
      ]
     },
     "metadata": {},
     "output_type": "display_data"
    },
    {
     "name": "stdout",
     "output_type": "stream",
     "text": [
      "train loss: 0.5627, train acc: 0.6910, elapsed:158.1074\n"
     ]
    },
    {
     "data": {
      "application/vnd.jupyter.widget-view+json": {
       "model_id": "",
       "version_major": 2,
       "version_minor": 0
      },
      "text/plain": [
       "HBox(children=(FloatProgress(value=0.0, max=10050.0), HTML(value='')))"
      ]
     },
     "metadata": {},
     "output_type": "display_data"
    },
    {
     "name": "stdout",
     "output_type": "stream",
     "text": [
      "valid loss: 0.5467, valid acc: 0.7099, elapsed:19.9237\n",
      "\n",
      "Epoch 2/10\n",
      "----------\n"
     ]
    },
    {
     "data": {
      "application/vnd.jupyter.widget-view+json": {
       "model_id": "",
       "version_major": 2,
       "version_minor": 0
      },
      "text/plain": [
       "HBox(children=(FloatProgress(value=0.0, max=40197.0), HTML(value='')))"
      ]
     },
     "metadata": {},
     "output_type": "display_data"
    },
    {
     "name": "stdout",
     "output_type": "stream",
     "text": [
      "train loss: 0.5627, train acc: 0.6910, elapsed:157.1958\n"
     ]
    },
    {
     "data": {
      "application/vnd.jupyter.widget-view+json": {
       "model_id": "",
       "version_major": 2,
       "version_minor": 0
      },
      "text/plain": [
       "HBox(children=(FloatProgress(value=0.0, max=10050.0), HTML(value='')))"
      ]
     },
     "metadata": {},
     "output_type": "display_data"
    },
    {
     "name": "stdout",
     "output_type": "stream",
     "text": [
      "valid loss: 0.5628, valid acc: 0.6963, elapsed:17.5808\n",
      "\n",
      "Epoch 3/10\n",
      "----------\n"
     ]
    },
    {
     "data": {
      "application/vnd.jupyter.widget-view+json": {
       "model_id": "",
       "version_major": 2,
       "version_minor": 0
      },
      "text/plain": [
       "HBox(children=(FloatProgress(value=0.0, max=40197.0), HTML(value='')))"
      ]
     },
     "metadata": {},
     "output_type": "display_data"
    },
    {
     "name": "stdout",
     "output_type": "stream",
     "text": [
      "train loss: 0.5624, train acc: 0.6916, elapsed:156.7979\n"
     ]
    },
    {
     "data": {
      "application/vnd.jupyter.widget-view+json": {
       "model_id": "",
       "version_major": 2,
       "version_minor": 0
      },
      "text/plain": [
       "HBox(children=(FloatProgress(value=0.0, max=10050.0), HTML(value='')))"
      ]
     },
     "metadata": {},
     "output_type": "display_data"
    },
    {
     "name": "stdout",
     "output_type": "stream",
     "text": [
      "valid loss: 0.5717, valid acc: 0.6877, elapsed:17.5340\n",
      "\n",
      "Epoch 4/10\n",
      "----------\n"
     ]
    },
    {
     "data": {
      "application/vnd.jupyter.widget-view+json": {
       "model_id": "",
       "version_major": 2,
       "version_minor": 0
      },
      "text/plain": [
       "HBox(children=(FloatProgress(value=0.0, max=40197.0), HTML(value='')))"
      ]
     },
     "metadata": {},
     "output_type": "display_data"
    },
    {
     "name": "stdout",
     "output_type": "stream",
     "text": [
      "train loss: 0.5625, train acc: 0.6913, elapsed:157.4088\n"
     ]
    },
    {
     "data": {
      "application/vnd.jupyter.widget-view+json": {
       "model_id": "",
       "version_major": 2,
       "version_minor": 0
      },
      "text/plain": [
       "HBox(children=(FloatProgress(value=0.0, max=10050.0), HTML(value='')))"
      ]
     },
     "metadata": {},
     "output_type": "display_data"
    },
    {
     "name": "stdout",
     "output_type": "stream",
     "text": [
      "valid loss: 0.5461, valid acc: 0.7129, elapsed:17.7015\n",
      "\n",
      "Epoch 5/10\n",
      "----------\n"
     ]
    },
    {
     "data": {
      "application/vnd.jupyter.widget-view+json": {
       "model_id": "",
       "version_major": 2,
       "version_minor": 0
      },
      "text/plain": [
       "HBox(children=(FloatProgress(value=0.0, max=40197.0), HTML(value='')))"
      ]
     },
     "metadata": {},
     "output_type": "display_data"
    },
    {
     "name": "stdout",
     "output_type": "stream",
     "text": [
      "train loss: 0.5620, train acc: 0.6916, elapsed:156.9812\n"
     ]
    },
    {
     "data": {
      "application/vnd.jupyter.widget-view+json": {
       "model_id": "",
       "version_major": 2,
       "version_minor": 0
      },
      "text/plain": [
       "HBox(children=(FloatProgress(value=0.0, max=10050.0), HTML(value='')))"
      ]
     },
     "metadata": {},
     "output_type": "display_data"
    },
    {
     "name": "stdout",
     "output_type": "stream",
     "text": [
      "valid loss: 0.5712, valid acc: 0.6896, elapsed:17.6712\n",
      "\n",
      "Epoch 6/10\n",
      "----------\n"
     ]
    },
    {
     "data": {
      "application/vnd.jupyter.widget-view+json": {
       "model_id": "",
       "version_major": 2,
       "version_minor": 0
      },
      "text/plain": [
       "HBox(children=(FloatProgress(value=0.0, max=40197.0), HTML(value='')))"
      ]
     },
     "metadata": {},
     "output_type": "display_data"
    },
    {
     "name": "stdout",
     "output_type": "stream",
     "text": [
      "train loss: 0.5617, train acc: 0.6920, elapsed:155.3630\n"
     ]
    },
    {
     "data": {
      "application/vnd.jupyter.widget-view+json": {
       "model_id": "",
       "version_major": 2,
       "version_minor": 0
      },
      "text/plain": [
       "HBox(children=(FloatProgress(value=0.0, max=10050.0), HTML(value='')))"
      ]
     },
     "metadata": {},
     "output_type": "display_data"
    },
    {
     "name": "stdout",
     "output_type": "stream",
     "text": [
      "valid loss: 0.5698, valid acc: 0.6872, elapsed:17.6333\n",
      "\n",
      "Epoch 7/10\n",
      "----------\n"
     ]
    },
    {
     "data": {
      "application/vnd.jupyter.widget-view+json": {
       "model_id": "",
       "version_major": 2,
       "version_minor": 0
      },
      "text/plain": [
       "HBox(children=(FloatProgress(value=0.0, max=40197.0), HTML(value='')))"
      ]
     },
     "metadata": {},
     "output_type": "display_data"
    },
    {
     "name": "stdout",
     "output_type": "stream",
     "text": [
      "train loss: 0.5618, train acc: 0.6920, elapsed:155.9501\n"
     ]
    },
    {
     "data": {
      "application/vnd.jupyter.widget-view+json": {
       "model_id": "",
       "version_major": 2,
       "version_minor": 0
      },
      "text/plain": [
       "HBox(children=(FloatProgress(value=0.0, max=10050.0), HTML(value='')))"
      ]
     },
     "metadata": {},
     "output_type": "display_data"
    },
    {
     "name": "stdout",
     "output_type": "stream",
     "text": [
      "valid loss: 0.5751, valid acc: 0.6869, elapsed:17.5829\n",
      "\n",
      "Epoch 8/10\n",
      "----------\n"
     ]
    },
    {
     "data": {
      "application/vnd.jupyter.widget-view+json": {
       "model_id": "",
       "version_major": 2,
       "version_minor": 0
      },
      "text/plain": [
       "HBox(children=(FloatProgress(value=0.0, max=40197.0), HTML(value='')))"
      ]
     },
     "metadata": {},
     "output_type": "display_data"
    },
    {
     "name": "stdout",
     "output_type": "stream",
     "text": [
      "train loss: 0.5618, train acc: 0.6915, elapsed:157.4842\n"
     ]
    },
    {
     "data": {
      "application/vnd.jupyter.widget-view+json": {
       "model_id": "",
       "version_major": 2,
       "version_minor": 0
      },
      "text/plain": [
       "HBox(children=(FloatProgress(value=0.0, max=10050.0), HTML(value='')))"
      ]
     },
     "metadata": {},
     "output_type": "display_data"
    },
    {
     "name": "stdout",
     "output_type": "stream",
     "text": [
      "valid loss: 0.5566, valid acc: 0.7051, elapsed:17.3927\n",
      "\n",
      "Epoch 9/10\n",
      "----------\n"
     ]
    },
    {
     "data": {
      "application/vnd.jupyter.widget-view+json": {
       "model_id": "",
       "version_major": 2,
       "version_minor": 0
      },
      "text/plain": [
       "HBox(children=(FloatProgress(value=0.0, max=40197.0), HTML(value='')))"
      ]
     },
     "metadata": {},
     "output_type": "display_data"
    },
    {
     "name": "stdout",
     "output_type": "stream",
     "text": [
      "train loss: 0.5617, train acc: 0.6921, elapsed:158.9790\n"
     ]
    },
    {
     "data": {
      "application/vnd.jupyter.widget-view+json": {
       "model_id": "",
       "version_major": 2,
       "version_minor": 0
      },
      "text/plain": [
       "HBox(children=(FloatProgress(value=0.0, max=10050.0), HTML(value='')))"
      ]
     },
     "metadata": {},
     "output_type": "display_data"
    },
    {
     "name": "stdout",
     "output_type": "stream",
     "text": [
      "valid loss: 0.5712, valid acc: 0.6897, elapsed:18.5339\n",
      "\n",
      "Epoch 10/10\n",
      "----------\n"
     ]
    },
    {
     "data": {
      "application/vnd.jupyter.widget-view+json": {
       "model_id": "",
       "version_major": 2,
       "version_minor": 0
      },
      "text/plain": [
       "HBox(children=(FloatProgress(value=0.0, max=40197.0), HTML(value='')))"
      ]
     },
     "metadata": {},
     "output_type": "display_data"
    },
    {
     "name": "stdout",
     "output_type": "stream",
     "text": [
      "train loss: 0.5616, train acc: 0.6918, elapsed:155.8535\n"
     ]
    },
    {
     "data": {
      "application/vnd.jupyter.widget-view+json": {
       "model_id": "",
       "version_major": 2,
       "version_minor": 0
      },
      "text/plain": [
       "HBox(children=(FloatProgress(value=0.0, max=10050.0), HTML(value='')))"
      ]
     },
     "metadata": {},
     "output_type": "display_data"
    },
    {
     "name": "stdout",
     "output_type": "stream",
     "text": [
      "valid loss: 0.5624, valid acc: 0.6956, elapsed:17.6580\n",
      "training took:  1749.337786336895\n"
     ]
    }
   ],
   "source": [
    "model, run_hist = train_and_valid_classification(model, criterion, optimizer,run_hist, num_epochs=10)"
   ]
  },
  {
   "cell_type": "code",
   "execution_count": 271,
   "metadata": {},
   "outputs": [
    {
     "data": {
      "image/png": "[encoded data removed]",
      "text/plain": [
       "<Figure size 1440x432 with 2 Axes>"
      ]
     },
     "metadata": {
      "needs_background": "light"
     },
     "output_type": "display_data"
    }
   ],
   "source": [
    "plot_training_classification(run_hist)"
   ]
  },
  {
   "cell_type": "code",
   "execution_count": 272,
   "metadata": {},
   "outputs": [
    {
     "data": {
      "image/png": "[encoded data removed]",
      "text/plain": [
       "<Figure size 432x432 with 1 Axes>"
      ]
     },
     "metadata": {
      "needs_background": "light"
     },
     "output_type": "display_data"
    }
   ],
   "source": [
    "print_roc(model,X_valid, Y_valid )"
   ]
  },
  {
   "cell_type": "code",
   "execution_count": 273,
   "metadata": {},
   "outputs": [
    {
     "name": "stdout",
     "output_type": "stream",
     "text": [
      "              precision    recall  f1-score   support\n",
      "\n",
      "       ghost       0.97      0.30      0.46   1100498\n",
      "        true       0.19      0.95      0.31    185790\n",
      "\n",
      "   micro avg       0.39      0.39      0.39   1286288\n",
      "   macro avg       0.58      0.63      0.38   1286288\n",
      "weighted avg       0.86      0.39      0.43   1286288\n",
      "\n"
     ]
    }
   ],
   "source": [
    "print_classification_report(model,X_valid, Y_valid, 0.28)"
   ]
  },
  {
   "cell_type": "code",
   "execution_count": 274,
   "metadata": {},
   "outputs": [],
   "source": [
    "torch.save({\n",
    "            'model_state_dict': model.state_dict(),\n",
    "            'optimizer_state_dict': optimizer.state_dict(),\n",
    "            'run_history':run_hist,\n",
    "            }, \".4NN_2.pt\")\n"
   ]
  },
  {
   "cell_type": "code",
   "execution_count": 275,
   "metadata": {},
   "outputs": [
    {
     "data": {
      "text/plain": [
       "NHiddenTrackingNetwork(\n",
       "  (input_layer): Linear(in_features=13, out_features=40, bias=True)\n",
       "  (layers): ModuleList(\n",
       "    (0): Linear(in_features=40, out_features=30, bias=True)\n",
       "    (1): Linear(in_features=30, out_features=20, bias=True)\n",
       "    (2): Linear(in_features=20, out_features=10, bias=True)\n",
       "  )\n",
       "  (output_layer): Linear(in_features=10, out_features=2, bias=True)\n",
       ")"
      ]
     },
     "execution_count": 275,
     "metadata": {},
     "output_type": "execute_result"
    }
   ],
   "source": [
    "model.to(device)"
   ]
  },
  {
   "cell_type": "code",
   "execution_count": 276,
   "metadata": {},
   "outputs": [
    {
     "name": "stdout",
     "output_type": "stream",
     "text": [
      "\n",
      "Epoch 1/20\n",
      "----------\n"
     ]
    },
    {
     "data": {
      "application/vnd.jupyter.widget-view+json": {
       "model_id": "",
       "version_major": 2,
       "version_minor": 0
      },
      "text/plain": [
       "HBox(children=(FloatProgress(value=0.0, max=40197.0), HTML(value='')))"
      ]
     },
     "metadata": {},
     "output_type": "display_data"
    },
    {
     "name": "stdout",
     "output_type": "stream",
     "text": [
      "train loss: 0.5618, train acc: 0.6917, elapsed:154.5194\n"
     ]
    },
    {
     "data": {
      "application/vnd.jupyter.widget-view+json": {
       "model_id": "",
       "version_major": 2,
       "version_minor": 0
      },
      "text/plain": [
       "HBox(children=(FloatProgress(value=0.0, max=10050.0), HTML(value='')))"
      ]
     },
     "metadata": {},
     "output_type": "display_data"
    },
    {
     "name": "stdout",
     "output_type": "stream",
     "text": [
      "valid loss: 0.5997, valid acc: 0.6590, elapsed:17.4986\n",
      "\n",
      "Epoch 2/20\n",
      "----------\n"
     ]
    },
    {
     "data": {
      "application/vnd.jupyter.widget-view+json": {
       "model_id": "",
       "version_major": 2,
       "version_minor": 0
      },
      "text/plain": [
       "HBox(children=(FloatProgress(value=0.0, max=40197.0), HTML(value='')))"
      ]
     },
     "metadata": {},
     "output_type": "display_data"
    },
    {
     "name": "stdout",
     "output_type": "stream",
     "text": [
      "train loss: 0.5616, train acc: 0.6918, elapsed:155.6353\n"
     ]
    },
    {
     "data": {
      "application/vnd.jupyter.widget-view+json": {
       "model_id": "",
       "version_major": 2,
       "version_minor": 0
      },
      "text/plain": [
       "HBox(children=(FloatProgress(value=0.0, max=10050.0), HTML(value='')))"
      ]
     },
     "metadata": {},
     "output_type": "display_data"
    },
    {
     "name": "stdout",
     "output_type": "stream",
     "text": [
      "valid loss: 0.5609, valid acc: 0.6994, elapsed:18.8038\n",
      "\n",
      "Epoch 3/20\n",
      "----------\n"
     ]
    },
    {
     "data": {
      "application/vnd.jupyter.widget-view+json": {
       "model_id": "",
       "version_major": 2,
       "version_minor": 0
      },
      "text/plain": [
       "HBox(children=(FloatProgress(value=0.0, max=40197.0), HTML(value='')))"
      ]
     },
     "metadata": {},
     "output_type": "display_data"
    },
    {
     "name": "stdout",
     "output_type": "stream",
     "text": [
      "train loss: 0.5616, train acc: 0.6920, elapsed:157.5776\n"
     ]
    },
    {
     "data": {
      "application/vnd.jupyter.widget-view+json": {
       "model_id": "",
       "version_major": 2,
       "version_minor": 0
      },
      "text/plain": [
       "HBox(children=(FloatProgress(value=0.0, max=10050.0), HTML(value='')))"
      ]
     },
     "metadata": {},
     "output_type": "display_data"
    },
    {
     "name": "stdout",
     "output_type": "stream",
     "text": [
      "valid loss: 0.5749, valid acc: 0.6823, elapsed:17.4147\n",
      "\n",
      "Epoch 4/20\n",
      "----------\n"
     ]
    },
    {
     "data": {
      "application/vnd.jupyter.widget-view+json": {
       "model_id": "",
       "version_major": 2,
       "version_minor": 0
      },
      "text/plain": [
       "HBox(children=(FloatProgress(value=0.0, max=40197.0), HTML(value='')))"
      ]
     },
     "metadata": {},
     "output_type": "display_data"
    },
    {
     "name": "stdout",
     "output_type": "stream",
     "text": [
      "train loss: 0.5615, train acc: 0.6918, elapsed:161.4499\n"
     ]
    },
    {
     "data": {
      "application/vnd.jupyter.widget-view+json": {
       "model_id": "",
       "version_major": 2,
       "version_minor": 0
      },
      "text/plain": [
       "HBox(children=(FloatProgress(value=0.0, max=10050.0), HTML(value='')))"
      ]
     },
     "metadata": {},
     "output_type": "display_data"
    },
    {
     "name": "stdout",
     "output_type": "stream",
     "text": [
      "valid loss: 0.5560, valid acc: 0.7063, elapsed:19.9721\n",
      "\n",
      "Epoch 5/20\n",
      "----------\n"
     ]
    },
    {
     "data": {
      "application/vnd.jupyter.widget-view+json": {
       "model_id": "",
       "version_major": 2,
       "version_minor": 0
      },
      "text/plain": [
       "HBox(children=(FloatProgress(value=0.0, max=40197.0), HTML(value='')))"
      ]
     },
     "metadata": {},
     "output_type": "display_data"
    },
    {
     "name": "stdout",
     "output_type": "stream",
     "text": [
      "train loss: 0.5612, train acc: 0.6923, elapsed:154.9093\n"
     ]
    },
    {
     "data": {
      "application/vnd.jupyter.widget-view+json": {
       "model_id": "",
       "version_major": 2,
       "version_minor": 0
      },
      "text/plain": [
       "HBox(children=(FloatProgress(value=0.0, max=10050.0), HTML(value='')))"
      ]
     },
     "metadata": {},
     "output_type": "display_data"
    },
    {
     "name": "stdout",
     "output_type": "stream",
     "text": [
      "valid loss: 0.5715, valid acc: 0.6846, elapsed:17.7132\n",
      "\n",
      "Epoch 6/20\n",
      "----------\n"
     ]
    },
    {
     "data": {
      "application/vnd.jupyter.widget-view+json": {
       "model_id": "",
       "version_major": 2,
       "version_minor": 0
      },
      "text/plain": [
       "HBox(children=(FloatProgress(value=0.0, max=40197.0), HTML(value='')))"
      ]
     },
     "metadata": {},
     "output_type": "display_data"
    },
    {
     "name": "stdout",
     "output_type": "stream",
     "text": [
      "train loss: 0.5612, train acc: 0.6924, elapsed:156.3136\n"
     ]
    },
    {
     "data": {
      "application/vnd.jupyter.widget-view+json": {
       "model_id": "",
       "version_major": 2,
       "version_minor": 0
      },
      "text/plain": [
       "HBox(children=(FloatProgress(value=0.0, max=10050.0), HTML(value='')))"
      ]
     },
     "metadata": {},
     "output_type": "display_data"
    },
    {
     "name": "stdout",
     "output_type": "stream",
     "text": [
      "valid loss: 0.5730, valid acc: 0.6878, elapsed:17.5853\n",
      "\n",
      "Epoch 7/20\n",
      "----------\n"
     ]
    },
    {
     "data": {
      "application/vnd.jupyter.widget-view+json": {
       "model_id": "",
       "version_major": 2,
       "version_minor": 0
      },
      "text/plain": [
       "HBox(children=(FloatProgress(value=0.0, max=40197.0), HTML(value='')))"
      ]
     },
     "metadata": {},
     "output_type": "display_data"
    },
    {
     "name": "stdout",
     "output_type": "stream",
     "text": [
      "train loss: 0.5612, train acc: 0.6920, elapsed:163.1484\n"
     ]
    },
    {
     "data": {
      "application/vnd.jupyter.widget-view+json": {
       "model_id": "",
       "version_major": 2,
       "version_minor": 0
      },
      "text/plain": [
       "HBox(children=(FloatProgress(value=0.0, max=10050.0), HTML(value='')))"
      ]
     },
     "metadata": {},
     "output_type": "display_data"
    },
    {
     "name": "stdout",
     "output_type": "stream",
     "text": [
      "valid loss: 0.5859, valid acc: 0.6739, elapsed:19.4925\n",
      "\n",
      "Epoch 8/20\n",
      "----------\n"
     ]
    },
    {
     "data": {
      "application/vnd.jupyter.widget-view+json": {
       "model_id": "",
       "version_major": 2,
       "version_minor": 0
      },
      "text/plain": [
       "HBox(children=(FloatProgress(value=0.0, max=40197.0), HTML(value='')))"
      ]
     },
     "metadata": {},
     "output_type": "display_data"
    },
    {
     "name": "stdout",
     "output_type": "stream",
     "text": [
      "train loss: 0.5612, train acc: 0.6923, elapsed:156.5148\n"
     ]
    },
    {
     "data": {
      "application/vnd.jupyter.widget-view+json": {
       "model_id": "",
       "version_major": 2,
       "version_minor": 0
      },
      "text/plain": [
       "HBox(children=(FloatProgress(value=0.0, max=10050.0), HTML(value='')))"
      ]
     },
     "metadata": {},
     "output_type": "display_data"
    },
    {
     "name": "stdout",
     "output_type": "stream",
     "text": [
      "valid loss: 0.5521, valid acc: 0.7058, elapsed:17.2812\n",
      "\n",
      "Epoch 9/20\n",
      "----------\n"
     ]
    },
    {
     "data": {
      "application/vnd.jupyter.widget-view+json": {
       "model_id": "",
       "version_major": 2,
       "version_minor": 0
      },
      "text/plain": [
       "HBox(children=(FloatProgress(value=0.0, max=40197.0), HTML(value='')))"
      ]
     },
     "metadata": {},
     "output_type": "display_data"
    },
    {
     "name": "stdout",
     "output_type": "stream",
     "text": [
      "train loss: 0.5612, train acc: 0.6923, elapsed:156.9652\n"
     ]
    },
    {
     "data": {
      "application/vnd.jupyter.widget-view+json": {
       "model_id": "",
       "version_major": 2,
       "version_minor": 0
      },
      "text/plain": [
       "HBox(children=(FloatProgress(value=0.0, max=10050.0), HTML(value='')))"
      ]
     },
     "metadata": {},
     "output_type": "display_data"
    },
    {
     "name": "stdout",
     "output_type": "stream",
     "text": [
      "valid loss: 0.5532, valid acc: 0.7097, elapsed:17.6245\n",
      "\n",
      "Epoch 10/20\n",
      "----------\n"
     ]
    },
    {
     "data": {
      "application/vnd.jupyter.widget-view+json": {
       "model_id": "",
       "version_major": 2,
       "version_minor": 0
      },
      "text/plain": [
       "HBox(children=(FloatProgress(value=0.0, max=40197.0), HTML(value='')))"
      ]
     },
     "metadata": {},
     "output_type": "display_data"
    },
    {
     "name": "stdout",
     "output_type": "stream",
     "text": [
      "train loss: 0.5610, train acc: 0.6923, elapsed:155.1658\n"
     ]
    },
    {
     "data": {
      "application/vnd.jupyter.widget-view+json": {
       "model_id": "",
       "version_major": 2,
       "version_minor": 0
      },
      "text/plain": [
       "HBox(children=(FloatProgress(value=0.0, max=10050.0), HTML(value='')))"
      ]
     },
     "metadata": {},
     "output_type": "display_data"
    },
    {
     "name": "stdout",
     "output_type": "stream",
     "text": [
      "valid loss: 0.5799, valid acc: 0.6768, elapsed:17.7229\n",
      "\n",
      "Epoch 11/20\n",
      "----------\n"
     ]
    },
    {
     "data": {
      "application/vnd.jupyter.widget-view+json": {
       "model_id": "",
       "version_major": 2,
       "version_minor": 0
      },
      "text/plain": [
       "HBox(children=(FloatProgress(value=0.0, max=40197.0), HTML(value='')))"
      ]
     },
     "metadata": {},
     "output_type": "display_data"
    },
    {
     "name": "stdout",
     "output_type": "stream",
     "text": [
      "train loss: 0.5610, train acc: 0.6922, elapsed:158.5414\n"
     ]
    },
    {
     "data": {
      "application/vnd.jupyter.widget-view+json": {
       "model_id": "",
       "version_major": 2,
       "version_minor": 0
      },
      "text/plain": [
       "HBox(children=(FloatProgress(value=0.0, max=10050.0), HTML(value='')))"
      ]
     },
     "metadata": {},
     "output_type": "display_data"
    },
    {
     "name": "stdout",
     "output_type": "stream",
     "text": [
      "valid loss: 0.5646, valid acc: 0.6946, elapsed:17.5929\n",
      "\n",
      "Epoch 12/20\n",
      "----------\n"
     ]
    },
    {
     "data": {
      "application/vnd.jupyter.widget-view+json": {
       "model_id": "",
       "version_major": 2,
       "version_minor": 0
      },
      "text/plain": [
       "HBox(children=(FloatProgress(value=0.0, max=40197.0), HTML(value='')))"
      ]
     },
     "metadata": {},
     "output_type": "display_data"
    },
    {
     "name": "stdout",
     "output_type": "stream",
     "text": [
      "train loss: 0.5609, train acc: 0.6926, elapsed:156.9727\n"
     ]
    },
    {
     "data": {
      "application/vnd.jupyter.widget-view+json": {
       "model_id": "",
       "version_major": 2,
       "version_minor": 0
      },
      "text/plain": [
       "HBox(children=(FloatProgress(value=0.0, max=10050.0), HTML(value='')))"
      ]
     },
     "metadata": {},
     "output_type": "display_data"
    },
    {
     "name": "stdout",
     "output_type": "stream",
     "text": [
      "valid loss: 0.5678, valid acc: 0.6889, elapsed:17.7200\n",
      "\n",
      "Epoch 13/20\n",
      "----------\n"
     ]
    },
    {
     "data": {
      "application/vnd.jupyter.widget-view+json": {
       "model_id": "",
       "version_major": 2,
       "version_minor": 0
      },
      "text/plain": [
       "HBox(children=(FloatProgress(value=0.0, max=40197.0), HTML(value='')))"
      ]
     },
     "metadata": {},
     "output_type": "display_data"
    },
    {
     "name": "stdout",
     "output_type": "stream",
     "text": [
      "train loss: 0.5607, train acc: 0.6928, elapsed:157.7394\n"
     ]
    },
    {
     "data": {
      "application/vnd.jupyter.widget-view+json": {
       "model_id": "",
       "version_major": 2,
       "version_minor": 0
      },
      "text/plain": [
       "HBox(children=(FloatProgress(value=0.0, max=10050.0), HTML(value='')))"
      ]
     },
     "metadata": {},
     "output_type": "display_data"
    },
    {
     "name": "stdout",
     "output_type": "stream",
     "text": [
      "valid loss: 0.5595, valid acc: 0.7010, elapsed:17.5338\n",
      "\n",
      "Epoch 14/20\n",
      "----------\n"
     ]
    },
    {
     "data": {
      "application/vnd.jupyter.widget-view+json": {
       "model_id": "",
       "version_major": 2,
       "version_minor": 0
      },
      "text/plain": [
       "HBox(children=(FloatProgress(value=0.0, max=40197.0), HTML(value='')))"
      ]
     },
     "metadata": {},
     "output_type": "display_data"
    },
    {
     "name": "stdout",
     "output_type": "stream",
     "text": [
      "train loss: 0.5606, train acc: 0.6926, elapsed:158.4907\n"
     ]
    },
    {
     "data": {
      "application/vnd.jupyter.widget-view+json": {
       "model_id": "",
       "version_major": 2,
       "version_minor": 0
      },
      "text/plain": [
       "HBox(children=(FloatProgress(value=0.0, max=10050.0), HTML(value='')))"
      ]
     },
     "metadata": {},
     "output_type": "display_data"
    },
    {
     "name": "stdout",
     "output_type": "stream",
     "text": [
      "valid loss: 0.5469, valid acc: 0.7151, elapsed:17.4480\n",
      "\n",
      "Epoch 15/20\n",
      "----------\n"
     ]
    },
    {
     "data": {
      "application/vnd.jupyter.widget-view+json": {
       "model_id": "",
       "version_major": 2,
       "version_minor": 0
      },
      "text/plain": [
       "HBox(children=(FloatProgress(value=0.0, max=40197.0), HTML(value='')))"
      ]
     },
     "metadata": {},
     "output_type": "display_data"
    },
    {
     "name": "stdout",
     "output_type": "stream",
     "text": [
      "train loss: 0.5607, train acc: 0.6927, elapsed:155.5353\n"
     ]
    },
    {
     "data": {
      "application/vnd.jupyter.widget-view+json": {
       "model_id": "",
       "version_major": 2,
       "version_minor": 0
      },
      "text/plain": [
       "HBox(children=(FloatProgress(value=0.0, max=10050.0), HTML(value='')))"
      ]
     },
     "metadata": {},
     "output_type": "display_data"
    },
    {
     "name": "stdout",
     "output_type": "stream",
     "text": [
      "valid loss: 0.5760, valid acc: 0.6792, elapsed:17.6168\n",
      "\n",
      "Epoch 16/20\n",
      "----------\n"
     ]
    },
    {
     "data": {
      "application/vnd.jupyter.widget-view+json": {
       "model_id": "",
       "version_major": 2,
       "version_minor": 0
      },
      "text/plain": [
       "HBox(children=(FloatProgress(value=0.0, max=40197.0), HTML(value='')))"
      ]
     },
     "metadata": {},
     "output_type": "display_data"
    },
    {
     "name": "stdout",
     "output_type": "stream",
     "text": [
      "train loss: 0.5607, train acc: 0.6930, elapsed:156.6264\n"
     ]
    },
    {
     "data": {
      "application/vnd.jupyter.widget-view+json": {
       "model_id": "",
       "version_major": 2,
       "version_minor": 0
      },
      "text/plain": [
       "HBox(children=(FloatProgress(value=0.0, max=10050.0), HTML(value='')))"
      ]
     },
     "metadata": {},
     "output_type": "display_data"
    },
    {
     "name": "stdout",
     "output_type": "stream",
     "text": [
      "valid loss: 0.5598, valid acc: 0.7024, elapsed:17.4969\n",
      "\n",
      "Epoch 17/20\n",
      "----------\n"
     ]
    },
    {
     "data": {
      "application/vnd.jupyter.widget-view+json": {
       "model_id": "",
       "version_major": 2,
       "version_minor": 0
      },
      "text/plain": [
       "HBox(children=(FloatProgress(value=0.0, max=40197.0), HTML(value='')))"
      ]
     },
     "metadata": {},
     "output_type": "display_data"
    },
    {
     "name": "stdout",
     "output_type": "stream",
     "text": [
      "train loss: 0.5605, train acc: 0.6928, elapsed:158.7126\n"
     ]
    },
    {
     "data": {
      "application/vnd.jupyter.widget-view+json": {
       "model_id": "",
       "version_major": 2,
       "version_minor": 0
      },
      "text/plain": [
       "HBox(children=(FloatProgress(value=0.0, max=10050.0), HTML(value='')))"
      ]
     },
     "metadata": {},
     "output_type": "display_data"
    },
    {
     "name": "stdout",
     "output_type": "stream",
     "text": [
      "valid loss: 0.5538, valid acc: 0.7086, elapsed:17.6065\n",
      "\n",
      "Epoch 18/20\n",
      "----------\n"
     ]
    },
    {
     "data": {
      "application/vnd.jupyter.widget-view+json": {
       "model_id": "",
       "version_major": 2,
       "version_minor": 0
      },
      "text/plain": [
       "HBox(children=(FloatProgress(value=0.0, max=40197.0), HTML(value='')))"
      ]
     },
     "metadata": {},
     "output_type": "display_data"
    },
    {
     "name": "stdout",
     "output_type": "stream",
     "text": [
      "train loss: 0.5606, train acc: 0.6928, elapsed:156.8481\n"
     ]
    },
    {
     "data": {
      "application/vnd.jupyter.widget-view+json": {
       "model_id": "",
       "version_major": 2,
       "version_minor": 0
      },
      "text/plain": [
       "HBox(children=(FloatProgress(value=0.0, max=10050.0), HTML(value='')))"
      ]
     },
     "metadata": {},
     "output_type": "display_data"
    },
    {
     "name": "stdout",
     "output_type": "stream",
     "text": [
      "valid loss: 0.5528, valid acc: 0.7101, elapsed:17.4199\n",
      "\n",
      "Epoch 19/20\n",
      "----------\n"
     ]
    },
    {
     "data": {
      "application/vnd.jupyter.widget-view+json": {
       "model_id": "",
       "version_major": 2,
       "version_minor": 0
      },
      "text/plain": [
       "HBox(children=(FloatProgress(value=0.0, max=40197.0), HTML(value='')))"
      ]
     },
     "metadata": {},
     "output_type": "display_data"
    },
    {
     "name": "stdout",
     "output_type": "stream",
     "text": [
      "train loss: 0.5603, train acc: 0.6930, elapsed:159.6533\n"
     ]
    },
    {
     "data": {
      "application/vnd.jupyter.widget-view+json": {
       "model_id": "",
       "version_major": 2,
       "version_minor": 0
      },
      "text/plain": [
       "HBox(children=(FloatProgress(value=0.0, max=10050.0), HTML(value='')))"
      ]
     },
     "metadata": {},
     "output_type": "display_data"
    },
    {
     "name": "stdout",
     "output_type": "stream",
     "text": [
      "valid loss: 0.5699, valid acc: 0.6850, elapsed:17.9868\n",
      "\n",
      "Epoch 20/20\n",
      "----------\n"
     ]
    },
    {
     "data": {
      "application/vnd.jupyter.widget-view+json": {
       "model_id": "",
       "version_major": 2,
       "version_minor": 0
      },
      "text/plain": [
       "HBox(children=(FloatProgress(value=0.0, max=40197.0), HTML(value='')))"
      ]
     },
     "metadata": {},
     "output_type": "display_data"
    },
    {
     "name": "stdout",
     "output_type": "stream",
     "text": [
      "train loss: 0.5602, train acc: 0.6931, elapsed:154.5378\n"
     ]
    },
    {
     "data": {
      "application/vnd.jupyter.widget-view+json": {
       "model_id": "",
       "version_major": 2,
       "version_minor": 0
      },
      "text/plain": [
       "HBox(children=(FloatProgress(value=0.0, max=10050.0), HTML(value='')))"
      ]
     },
     "metadata": {},
     "output_type": "display_data"
    },
    {
     "name": "stdout",
     "output_type": "stream",
     "text": [
      "valid loss: 0.5604, valid acc: 0.7003, elapsed:17.6895\n",
      "training took:  3503.0875212838873\n"
     ]
    }
   ],
   "source": [
    "model, run_hist = train_and_valid_classification(model, criterion, optimizer, run_hist, num_epochs=20)"
   ]
  },
  {
   "cell_type": "code",
   "execution_count": 277,
   "metadata": {},
   "outputs": [
    {
     "data": {
      "image/png": "[encoded data removed]",
      "text/plain": [
       "<Figure size 1440x432 with 2 Axes>"
      ]
     },
     "metadata": {
      "needs_background": "light"
     },
     "output_type": "display_data"
    }
   ],
   "source": [
    "plot_training_classification(run_hist)"
   ]
  },
  {
   "cell_type": "code",
   "execution_count": 280,
   "metadata": {},
   "outputs": [
    {
     "data": {
      "image/png": "[encoded data removed]",
      "text/plain": [
       "<Figure size 432x432 with 1 Axes>"
      ]
     },
     "metadata": {
      "needs_background": "light"
     },
     "output_type": "display_data"
    }
   ],
   "source": [
    "print_roc(model,X_valid, Y_valid )"
   ]
  },
  {
   "cell_type": "code",
   "execution_count": 284,
   "metadata": {},
   "outputs": [],
   "source": [
    "torch.save({\n",
    "            'model_state_dict': model.state_dict(),\n",
    "            'optimizer_state_dict': optimizer.state_dict(),\n",
    "            'run_history':run_hist,\n",
    "            }, \".4NN_3.pt\")"
   ]
  },
  {
   "cell_type": "code",
   "execution_count": 283,
   "metadata": {},
   "outputs": [
    {
     "data": {
      "text/plain": [
       "NHiddenTrackingNetwork(\n",
       "  (input_layer): Linear(in_features=13, out_features=40, bias=True)\n",
       "  (layers): ModuleList(\n",
       "    (0): Linear(in_features=40, out_features=30, bias=True)\n",
       "    (1): Linear(in_features=30, out_features=20, bias=True)\n",
       "    (2): Linear(in_features=20, out_features=10, bias=True)\n",
       "  )\n",
       "  (output_layer): Linear(in_features=10, out_features=2, bias=True)\n",
       ")"
      ]
     },
     "execution_count": 283,
     "metadata": {},
     "output_type": "execute_result"
    }
   ],
   "source": [
    "model.to(device)"
   ]
  },
  {
   "cell_type": "code",
   "execution_count": null,
   "metadata": {},
   "outputs": [],
   "source": []
  },
  {
   "cell_type": "code",
   "execution_count": 285,
   "metadata": {},
   "outputs": [],
   "source": [
    "learning_rate = 1e-5\n",
    "optimizer_2 = torch.optim.Adam(model.parameters(), lr=learning_rate)"
   ]
  },
  {
   "cell_type": "code",
   "execution_count": 178,
   "metadata": {},
   "outputs": [],
   "source": [
    "checkpoint = torch.load(\".4NN_3.pt\")\n",
    "# to create checkpoint\n",
    "model.load_state_dict(checkpoint['model_state_dict'])\n",
    "optimizer.load_state_dict(checkpoint['optimizer_state_dict'])\n",
    "run_hist = checkpoint[\"run_history\"]"
   ]
  },
  {
   "cell_type": "code",
   "execution_count": 286,
   "metadata": {},
   "outputs": [
    {
     "name": "stdout",
     "output_type": "stream",
     "text": [
      "\n",
      "Epoch 1/50\n",
      "----------\n"
     ]
    },
    {
     "data": {
      "application/vnd.jupyter.widget-view+json": {
       "model_id": "",
       "version_major": 2,
       "version_minor": 0
      },
      "text/plain": [
       "HBox(children=(FloatProgress(value=0.0, max=40197.0), HTML(value='')))"
      ]
     },
     "metadata": {},
     "output_type": "display_data"
    },
    {
     "name": "stdout",
     "output_type": "stream",
     "text": [
      "train loss: 0.5584, train acc: 0.6946, elapsed:156.4151\n"
     ]
    },
    {
     "data": {
      "application/vnd.jupyter.widget-view+json": {
       "model_id": "",
       "version_major": 2,
       "version_minor": 0
      },
      "text/plain": [
       "HBox(children=(FloatProgress(value=0.0, max=10050.0), HTML(value='')))"
      ]
     },
     "metadata": {},
     "output_type": "display_data"
    },
    {
     "name": "stdout",
     "output_type": "stream",
     "text": [
      "valid loss: 0.5660, valid acc: 0.6940, elapsed:17.5929\n",
      "\n",
      "Epoch 2/50\n",
      "----------\n"
     ]
    },
    {
     "data": {
      "application/vnd.jupyter.widget-view+json": {
       "model_id": "",
       "version_major": 2,
       "version_minor": 0
      },
      "text/plain": [
       "HBox(children=(FloatProgress(value=0.0, max=40197.0), HTML(value='')))"
      ]
     },
     "metadata": {},
     "output_type": "display_data"
    },
    {
     "name": "stdout",
     "output_type": "stream",
     "text": [
      "train loss: 0.5587, train acc: 0.6943, elapsed:155.4742\n"
     ]
    },
    {
     "data": {
      "application/vnd.jupyter.widget-view+json": {
       "model_id": "",
       "version_major": 2,
       "version_minor": 0
      },
      "text/plain": [
       "HBox(children=(FloatProgress(value=0.0, max=10050.0), HTML(value='')))"
      ]
     },
     "metadata": {},
     "output_type": "display_data"
    },
    {
     "name": "stdout",
     "output_type": "stream",
     "text": [
      "valid loss: 0.5610, valid acc: 0.6995, elapsed:17.5088\n",
      "\n",
      "Epoch 3/50\n",
      "----------\n"
     ]
    },
    {
     "data": {
      "application/vnd.jupyter.widget-view+json": {
       "model_id": "",
       "version_major": 2,
       "version_minor": 0
      },
      "text/plain": [
       "HBox(children=(FloatProgress(value=0.0, max=40197.0), HTML(value='')))"
      ]
     },
     "metadata": {},
     "output_type": "display_data"
    },
    {
     "name": "stdout",
     "output_type": "stream",
     "text": [
      "train loss: 0.5586, train acc: 0.6944, elapsed:159.9460\n"
     ]
    },
    {
     "data": {
      "application/vnd.jupyter.widget-view+json": {
       "model_id": "",
       "version_major": 2,
       "version_minor": 0
      },
      "text/plain": [
       "HBox(children=(FloatProgress(value=0.0, max=10050.0), HTML(value='')))"
      ]
     },
     "metadata": {},
     "output_type": "display_data"
    },
    {
     "name": "stdout",
     "output_type": "stream",
     "text": [
      "valid loss: 0.5643, valid acc: 0.6947, elapsed:17.6467\n",
      "\n",
      "Epoch 4/50\n",
      "----------\n"
     ]
    },
    {
     "data": {
      "application/vnd.jupyter.widget-view+json": {
       "model_id": "",
       "version_major": 2,
       "version_minor": 0
      },
      "text/plain": [
       "HBox(children=(FloatProgress(value=0.0, max=40197.0), HTML(value='')))"
      ]
     },
     "metadata": {},
     "output_type": "display_data"
    },
    {
     "name": "stdout",
     "output_type": "stream",
     "text": [
      "train loss: 0.5585, train acc: 0.6944, elapsed:158.4868\n"
     ]
    },
    {
     "data": {
      "application/vnd.jupyter.widget-view+json": {
       "model_id": "",
       "version_major": 2,
       "version_minor": 0
      },
      "text/plain": [
       "HBox(children=(FloatProgress(value=0.0, max=10050.0), HTML(value='')))"
      ]
     },
     "metadata": {},
     "output_type": "display_data"
    },
    {
     "name": "stdout",
     "output_type": "stream",
     "text": [
      "valid loss: 0.5635, valid acc: 0.6966, elapsed:17.3468\n",
      "\n",
      "Epoch 5/50\n",
      "----------\n"
     ]
    },
    {
     "data": {
      "application/vnd.jupyter.widget-view+json": {
       "model_id": "",
       "version_major": 2,
       "version_minor": 0
      },
      "text/plain": [
       "HBox(children=(FloatProgress(value=0.0, max=40197.0), HTML(value='')))"
      ]
     },
     "metadata": {},
     "output_type": "display_data"
    },
    {
     "name": "stdout",
     "output_type": "stream",
     "text": [
      "train loss: 0.5582, train acc: 0.6945, elapsed:153.9935\n"
     ]
    },
    {
     "data": {
      "application/vnd.jupyter.widget-view+json": {
       "model_id": "",
       "version_major": 2,
       "version_minor": 0
      },
      "text/plain": [
       "HBox(children=(FloatProgress(value=0.0, max=10050.0), HTML(value='')))"
      ]
     },
     "metadata": {},
     "output_type": "display_data"
    },
    {
     "name": "stdout",
     "output_type": "stream",
     "text": [
      "valid loss: 0.5644, valid acc: 0.6958, elapsed:17.5566\n",
      "\n",
      "Epoch 6/50\n",
      "----------\n"
     ]
    },
    {
     "data": {
      "application/vnd.jupyter.widget-view+json": {
       "model_id": "",
       "version_major": 2,
       "version_minor": 0
      },
      "text/plain": [
       "HBox(children=(FloatProgress(value=0.0, max=40197.0), HTML(value='')))"
      ]
     },
     "metadata": {},
     "output_type": "display_data"
    },
    {
     "name": "stdout",
     "output_type": "stream",
     "text": [
      "train loss: 0.5582, train acc: 0.6947, elapsed:159.4191\n"
     ]
    },
    {
     "data": {
      "application/vnd.jupyter.widget-view+json": {
       "model_id": "",
       "version_major": 2,
       "version_minor": 0
      },
      "text/plain": [
       "HBox(children=(FloatProgress(value=0.0, max=10050.0), HTML(value='')))"
      ]
     },
     "metadata": {},
     "output_type": "display_data"
    },
    {
     "name": "stdout",
     "output_type": "stream",
     "text": [
      "valid loss: 0.5589, valid acc: 0.7018, elapsed:17.6638\n",
      "\n",
      "Epoch 7/50\n",
      "----------\n"
     ]
    },
    {
     "data": {
      "application/vnd.jupyter.widget-view+json": {
       "model_id": "",
       "version_major": 2,
       "version_minor": 0
      },
      "text/plain": [
       "HBox(children=(FloatProgress(value=0.0, max=40197.0), HTML(value='')))"
      ]
     },
     "metadata": {},
     "output_type": "display_data"
    },
    {
     "name": "stdout",
     "output_type": "stream",
     "text": [
      "train loss: 0.5585, train acc: 0.6945, elapsed:160.2688\n"
     ]
    },
    {
     "data": {
      "application/vnd.jupyter.widget-view+json": {
       "model_id": "",
       "version_major": 2,
       "version_minor": 0
      },
      "text/plain": [
       "HBox(children=(FloatProgress(value=0.0, max=10050.0), HTML(value='')))"
      ]
     },
     "metadata": {},
     "output_type": "display_data"
    },
    {
     "name": "stdout",
     "output_type": "stream",
     "text": [
      "valid loss: 0.5564, valid acc: 0.7043, elapsed:17.4497\n",
      "\n",
      "Epoch 8/50\n",
      "----------\n"
     ]
    },
    {
     "data": {
      "application/vnd.jupyter.widget-view+json": {
       "model_id": "",
       "version_major": 2,
       "version_minor": 0
      },
      "text/plain": [
       "HBox(children=(FloatProgress(value=0.0, max=40197.0), HTML(value='')))"
      ]
     },
     "metadata": {},
     "output_type": "display_data"
    },
    {
     "name": "stdout",
     "output_type": "stream",
     "text": [
      "train loss: 0.5584, train acc: 0.6947, elapsed:154.6841\n"
     ]
    },
    {
     "data": {
      "application/vnd.jupyter.widget-view+json": {
       "model_id": "",
       "version_major": 2,
       "version_minor": 0
      },
      "text/plain": [
       "HBox(children=(FloatProgress(value=0.0, max=10050.0), HTML(value='')))"
      ]
     },
     "metadata": {},
     "output_type": "display_data"
    },
    {
     "name": "stdout",
     "output_type": "stream",
     "text": [
      "valid loss: 0.5615, valid acc: 0.6988, elapsed:17.7053\n",
      "\n",
      "Epoch 9/50\n",
      "----------\n"
     ]
    },
    {
     "data": {
      "application/vnd.jupyter.widget-view+json": {
       "model_id": "",
       "version_major": 2,
       "version_minor": 0
      },
      "text/plain": [
       "HBox(children=(FloatProgress(value=0.0, max=40197.0), HTML(value='')))"
      ]
     },
     "metadata": {},
     "output_type": "display_data"
    },
    {
     "name": "stdout",
     "output_type": "stream",
     "text": [
      "train loss: 0.5584, train acc: 0.6943, elapsed:161.6033\n"
     ]
    },
    {
     "data": {
      "application/vnd.jupyter.widget-view+json": {
       "model_id": "",
       "version_major": 2,
       "version_minor": 0
      },
      "text/plain": [
       "HBox(children=(FloatProgress(value=0.0, max=10050.0), HTML(value='')))"
      ]
     },
     "metadata": {},
     "output_type": "display_data"
    },
    {
     "name": "stdout",
     "output_type": "stream",
     "text": [
      "valid loss: 0.5591, valid acc: 0.7005, elapsed:20.9405\n",
      "\n",
      "Epoch 10/50\n",
      "----------\n"
     ]
    },
    {
     "data": {
      "application/vnd.jupyter.widget-view+json": {
       "model_id": "",
       "version_major": 2,
       "version_minor": 0
      },
      "text/plain": [
       "HBox(children=(FloatProgress(value=0.0, max=40197.0), HTML(value='')))"
      ]
     },
     "metadata": {},
     "output_type": "display_data"
    },
    {
     "name": "stdout",
     "output_type": "stream",
     "text": [
      "train loss: 0.5581, train acc: 0.6946, elapsed:157.2876\n"
     ]
    },
    {
     "data": {
      "application/vnd.jupyter.widget-view+json": {
       "model_id": "",
       "version_major": 2,
       "version_minor": 0
      },
      "text/plain": [
       "HBox(children=(FloatProgress(value=0.0, max=10050.0), HTML(value='')))"
      ]
     },
     "metadata": {},
     "output_type": "display_data"
    },
    {
     "name": "stdout",
     "output_type": "stream",
     "text": [
      "valid loss: 0.5608, valid acc: 0.6988, elapsed:17.6752\n",
      "\n",
      "Epoch 11/50\n",
      "----------\n"
     ]
    },
    {
     "data": {
      "application/vnd.jupyter.widget-view+json": {
       "model_id": "",
       "version_major": 2,
       "version_minor": 0
      },
      "text/plain": [
       "HBox(children=(FloatProgress(value=0.0, max=40197.0), HTML(value='')))"
      ]
     },
     "metadata": {},
     "output_type": "display_data"
    },
    {
     "name": "stdout",
     "output_type": "stream",
     "text": [
      "train loss: 0.5583, train acc: 0.6945, elapsed:159.9213\n"
     ]
    },
    {
     "data": {
      "application/vnd.jupyter.widget-view+json": {
       "model_id": "",
       "version_major": 2,
       "version_minor": 0
      },
      "text/plain": [
       "HBox(children=(FloatProgress(value=0.0, max=10050.0), HTML(value='')))"
      ]
     },
     "metadata": {},
     "output_type": "display_data"
    },
    {
     "name": "stdout",
     "output_type": "stream",
     "text": [
      "valid loss: 0.5643, valid acc: 0.6949, elapsed:20.3201\n",
      "\n",
      "Epoch 12/50\n",
      "----------\n"
     ]
    },
    {
     "data": {
      "application/vnd.jupyter.widget-view+json": {
       "model_id": "",
       "version_major": 2,
       "version_minor": 0
      },
      "text/plain": [
       "HBox(children=(FloatProgress(value=0.0, max=40197.0), HTML(value='')))"
      ]
     },
     "metadata": {},
     "output_type": "display_data"
    },
    {
     "name": "stdout",
     "output_type": "stream",
     "text": [
      "train loss: 0.5583, train acc: 0.6944, elapsed:156.2433\n"
     ]
    },
    {
     "data": {
      "application/vnd.jupyter.widget-view+json": {
       "model_id": "",
       "version_major": 2,
       "version_minor": 0
      },
      "text/plain": [
       "HBox(children=(FloatProgress(value=0.0, max=10050.0), HTML(value='')))"
      ]
     },
     "metadata": {},
     "output_type": "display_data"
    },
    {
     "name": "stdout",
     "output_type": "stream",
     "text": [
      "valid loss: 0.5635, valid acc: 0.6959, elapsed:22.0443\n",
      "\n",
      "Epoch 13/50\n",
      "----------\n"
     ]
    },
    {
     "data": {
      "application/vnd.jupyter.widget-view+json": {
       "model_id": "",
       "version_major": 2,
       "version_minor": 0
      },
      "text/plain": [
       "HBox(children=(FloatProgress(value=0.0, max=40197.0), HTML(value='')))"
      ]
     },
     "metadata": {},
     "output_type": "display_data"
    },
    {
     "name": "stdout",
     "output_type": "stream",
     "text": [
      "train loss: 0.5583, train acc: 0.6949, elapsed:161.7645\n"
     ]
    },
    {
     "data": {
      "application/vnd.jupyter.widget-view+json": {
       "model_id": "",
       "version_major": 2,
       "version_minor": 0
      },
      "text/plain": [
       "HBox(children=(FloatProgress(value=0.0, max=10050.0), HTML(value='')))"
      ]
     },
     "metadata": {},
     "output_type": "display_data"
    },
    {
     "name": "stdout",
     "output_type": "stream",
     "text": [
      "valid loss: 0.5621, valid acc: 0.6979, elapsed:17.8236\n",
      "\n",
      "Epoch 14/50\n",
      "----------\n"
     ]
    },
    {
     "data": {
      "application/vnd.jupyter.widget-view+json": {
       "model_id": "",
       "version_major": 2,
       "version_minor": 0
      },
      "text/plain": [
       "HBox(children=(FloatProgress(value=0.0, max=40197.0), HTML(value='')))"
      ]
     },
     "metadata": {},
     "output_type": "display_data"
    },
    {
     "name": "stdout",
     "output_type": "stream",
     "text": [
      "train loss: 0.5586, train acc: 0.6942, elapsed:156.3074\n"
     ]
    },
    {
     "data": {
      "application/vnd.jupyter.widget-view+json": {
       "model_id": "",
       "version_major": 2,
       "version_minor": 0
      },
      "text/plain": [
       "HBox(children=(FloatProgress(value=0.0, max=10050.0), HTML(value='')))"
      ]
     },
     "metadata": {},
     "output_type": "display_data"
    },
    {
     "name": "stdout",
     "output_type": "stream",
     "text": [
      "valid loss: 0.5601, valid acc: 0.6999, elapsed:17.3237\n",
      "\n",
      "Epoch 15/50\n",
      "----------\n"
     ]
    },
    {
     "data": {
      "application/vnd.jupyter.widget-view+json": {
       "model_id": "",
       "version_major": 2,
       "version_minor": 0
      },
      "text/plain": [
       "HBox(children=(FloatProgress(value=0.0, max=40197.0), HTML(value='')))"
      ]
     },
     "metadata": {},
     "output_type": "display_data"
    },
    {
     "name": "stdout",
     "output_type": "stream",
     "text": [
      "train loss: 0.5583, train acc: 0.6945, elapsed:155.3730\n"
     ]
    },
    {
     "data": {
      "application/vnd.jupyter.widget-view+json": {
       "model_id": "",
       "version_major": 2,
       "version_minor": 0
      },
      "text/plain": [
       "HBox(children=(FloatProgress(value=0.0, max=10050.0), HTML(value='')))"
      ]
     },
     "metadata": {},
     "output_type": "display_data"
    },
    {
     "name": "stdout",
     "output_type": "stream",
     "text": [
      "valid loss: 0.5550, valid acc: 0.7048, elapsed:17.5247\n",
      "\n",
      "Epoch 16/50\n",
      "----------\n"
     ]
    },
    {
     "data": {
      "application/vnd.jupyter.widget-view+json": {
       "model_id": "",
       "version_major": 2,
       "version_minor": 0
      },
      "text/plain": [
       "HBox(children=(FloatProgress(value=0.0, max=40197.0), HTML(value='')))"
      ]
     },
     "metadata": {},
     "output_type": "display_data"
    },
    {
     "name": "stdout",
     "output_type": "stream",
     "text": [
      "train loss: 0.5585, train acc: 0.6944, elapsed:156.6304\n"
     ]
    },
    {
     "data": {
      "application/vnd.jupyter.widget-view+json": {
       "model_id": "",
       "version_major": 2,
       "version_minor": 0
      },
      "text/plain": [
       "HBox(children=(FloatProgress(value=0.0, max=10050.0), HTML(value='')))"
      ]
     },
     "metadata": {},
     "output_type": "display_data"
    },
    {
     "name": "stdout",
     "output_type": "stream",
     "text": [
      "valid loss: 0.5618, valid acc: 0.6991, elapsed:17.7621\n",
      "\n",
      "Epoch 17/50\n",
      "----------\n"
     ]
    },
    {
     "data": {
      "application/vnd.jupyter.widget-view+json": {
       "model_id": "",
       "version_major": 2,
       "version_minor": 0
      },
      "text/plain": [
       "HBox(children=(FloatProgress(value=0.0, max=40197.0), HTML(value='')))"
      ]
     },
     "metadata": {},
     "output_type": "display_data"
    },
    {
     "name": "stdout",
     "output_type": "stream",
     "text": [
      "train loss: 0.5581, train acc: 0.6947, elapsed:158.2353\n"
     ]
    },
    {
     "data": {
      "application/vnd.jupyter.widget-view+json": {
       "model_id": "",
       "version_major": 2,
       "version_minor": 0
      },
      "text/plain": [
       "HBox(children=(FloatProgress(value=0.0, max=10050.0), HTML(value='')))"
      ]
     },
     "metadata": {},
     "output_type": "display_data"
    },
    {
     "name": "stdout",
     "output_type": "stream",
     "text": [
      "valid loss: 0.5622, valid acc: 0.6987, elapsed:19.3308\n",
      "\n",
      "Epoch 18/50\n",
      "----------\n"
     ]
    },
    {
     "data": {
      "application/vnd.jupyter.widget-view+json": {
       "model_id": "",
       "version_major": 2,
       "version_minor": 0
      },
      "text/plain": [
       "HBox(children=(FloatProgress(value=0.0, max=40197.0), HTML(value='')))"
      ]
     },
     "metadata": {},
     "output_type": "display_data"
    },
    {
     "name": "stdout",
     "output_type": "stream",
     "text": [
      "train loss: 0.5584, train acc: 0.6945, elapsed:155.1407\n"
     ]
    },
    {
     "data": {
      "application/vnd.jupyter.widget-view+json": {
       "model_id": "",
       "version_major": 2,
       "version_minor": 0
      },
      "text/plain": [
       "HBox(children=(FloatProgress(value=0.0, max=10050.0), HTML(value='')))"
      ]
     },
     "metadata": {},
     "output_type": "display_data"
    },
    {
     "name": "stdout",
     "output_type": "stream",
     "text": [
      "valid loss: 0.5585, valid acc: 0.7012, elapsed:18.1846\n",
      "\n",
      "Epoch 19/50\n",
      "----------\n"
     ]
    },
    {
     "data": {
      "application/vnd.jupyter.widget-view+json": {
       "model_id": "",
       "version_major": 2,
       "version_minor": 0
      },
      "text/plain": [
       "HBox(children=(FloatProgress(value=0.0, max=40197.0), HTML(value='')))"
      ]
     },
     "metadata": {},
     "output_type": "display_data"
    },
    {
     "name": "stdout",
     "output_type": "stream",
     "text": [
      "train loss: 0.5584, train acc: 0.6944, elapsed:161.0837\n"
     ]
    },
    {
     "data": {
      "application/vnd.jupyter.widget-view+json": {
       "model_id": "",
       "version_major": 2,
       "version_minor": 0
      },
      "text/plain": [
       "HBox(children=(FloatProgress(value=0.0, max=10050.0), HTML(value='')))"
      ]
     },
     "metadata": {},
     "output_type": "display_data"
    },
    {
     "name": "stdout",
     "output_type": "stream",
     "text": [
      "valid loss: 0.5584, valid acc: 0.7012, elapsed:17.6840\n",
      "\n",
      "Epoch 20/50\n",
      "----------\n"
     ]
    },
    {
     "data": {
      "application/vnd.jupyter.widget-view+json": {
       "model_id": "",
       "version_major": 2,
       "version_minor": 0
      },
      "text/plain": [
       "HBox(children=(FloatProgress(value=0.0, max=40197.0), HTML(value='')))"
      ]
     },
     "metadata": {},
     "output_type": "display_data"
    },
    {
     "name": "stdout",
     "output_type": "stream",
     "text": [
      "train loss: 0.5586, train acc: 0.6944, elapsed:158.8473\n"
     ]
    },
    {
     "data": {
      "application/vnd.jupyter.widget-view+json": {
       "model_id": "",
       "version_major": 2,
       "version_minor": 0
      },
      "text/plain": [
       "HBox(children=(FloatProgress(value=0.0, max=10050.0), HTML(value='')))"
      ]
     },
     "metadata": {},
     "output_type": "display_data"
    },
    {
     "name": "stdout",
     "output_type": "stream",
     "text": [
      "valid loss: 0.5600, valid acc: 0.6981, elapsed:17.8772\n",
      "\n",
      "Epoch 21/50\n",
      "----------\n"
     ]
    },
    {
     "data": {
      "application/vnd.jupyter.widget-view+json": {
       "model_id": "",
       "version_major": 2,
       "version_minor": 0
      },
      "text/plain": [
       "HBox(children=(FloatProgress(value=0.0, max=40197.0), HTML(value='')))"
      ]
     },
     "metadata": {},
     "output_type": "display_data"
    },
    {
     "name": "stdout",
     "output_type": "stream",
     "text": [
      "train loss: 0.5582, train acc: 0.6946, elapsed:158.8749\n"
     ]
    },
    {
     "data": {
      "application/vnd.jupyter.widget-view+json": {
       "model_id": "",
       "version_major": 2,
       "version_minor": 0
      },
      "text/plain": [
       "HBox(children=(FloatProgress(value=0.0, max=10050.0), HTML(value='')))"
      ]
     },
     "metadata": {},
     "output_type": "display_data"
    },
    {
     "name": "stdout",
     "output_type": "stream",
     "text": [
      "valid loss: 0.5641, valid acc: 0.6950, elapsed:17.6236\n",
      "\n",
      "Epoch 22/50\n",
      "----------\n"
     ]
    },
    {
     "data": {
      "application/vnd.jupyter.widget-view+json": {
       "model_id": "",
       "version_major": 2,
       "version_minor": 0
      },
      "text/plain": [
       "HBox(children=(FloatProgress(value=0.0, max=40197.0), HTML(value='')))"
      ]
     },
     "metadata": {},
     "output_type": "display_data"
    },
    {
     "name": "stdout",
     "output_type": "stream",
     "text": [
      "train loss: 0.5586, train acc: 0.6942, elapsed:158.5946\n"
     ]
    },
    {
     "data": {
      "application/vnd.jupyter.widget-view+json": {
       "model_id": "",
       "version_major": 2,
       "version_minor": 0
      },
      "text/plain": [
       "HBox(children=(FloatProgress(value=0.0, max=10050.0), HTML(value='')))"
      ]
     },
     "metadata": {},
     "output_type": "display_data"
    },
    {
     "name": "stdout",
     "output_type": "stream",
     "text": [
      "valid loss: 0.5614, valid acc: 0.6989, elapsed:17.7653\n",
      "\n",
      "Epoch 23/50\n",
      "----------\n"
     ]
    },
    {
     "data": {
      "application/vnd.jupyter.widget-view+json": {
       "model_id": "",
       "version_major": 2,
       "version_minor": 0
      },
      "text/plain": [
       "HBox(children=(FloatProgress(value=0.0, max=40197.0), HTML(value='')))"
      ]
     },
     "metadata": {},
     "output_type": "display_data"
    },
    {
     "name": "stdout",
     "output_type": "stream",
     "text": [
      "train loss: 0.5583, train acc: 0.6945, elapsed:156.1354\n"
     ]
    },
    {
     "data": {
      "application/vnd.jupyter.widget-view+json": {
       "model_id": "",
       "version_major": 2,
       "version_minor": 0
      },
      "text/plain": [
       "HBox(children=(FloatProgress(value=0.0, max=10050.0), HTML(value='')))"
      ]
     },
     "metadata": {},
     "output_type": "display_data"
    },
    {
     "name": "stdout",
     "output_type": "stream",
     "text": [
      "valid loss: 0.5609, valid acc: 0.6995, elapsed:17.6615\n",
      "\n",
      "Epoch 24/50\n",
      "----------\n"
     ]
    },
    {
     "data": {
      "application/vnd.jupyter.widget-view+json": {
       "model_id": "",
       "version_major": 2,
       "version_minor": 0
      },
      "text/plain": [
       "HBox(children=(FloatProgress(value=0.0, max=40197.0), HTML(value='')))"
      ]
     },
     "metadata": {},
     "output_type": "display_data"
    },
    {
     "name": "stdout",
     "output_type": "stream",
     "text": [
      "train loss: 0.5583, train acc: 0.6947, elapsed:159.7603\n"
     ]
    },
    {
     "data": {
      "application/vnd.jupyter.widget-view+json": {
       "model_id": "",
       "version_major": 2,
       "version_minor": 0
      },
      "text/plain": [
       "HBox(children=(FloatProgress(value=0.0, max=10050.0), HTML(value='')))"
      ]
     },
     "metadata": {},
     "output_type": "display_data"
    },
    {
     "name": "stdout",
     "output_type": "stream",
     "text": [
      "valid loss: 0.5610, valid acc: 0.6988, elapsed:17.6349\n",
      "\n",
      "Epoch 25/50\n",
      "----------\n"
     ]
    },
    {
     "data": {
      "application/vnd.jupyter.widget-view+json": {
       "model_id": "",
       "version_major": 2,
       "version_minor": 0
      },
      "text/plain": [
       "HBox(children=(FloatProgress(value=0.0, max=40197.0), HTML(value='')))"
      ]
     },
     "metadata": {},
     "output_type": "display_data"
    },
    {
     "name": "stdout",
     "output_type": "stream",
     "text": [
      "train loss: 0.5580, train acc: 0.6947, elapsed:155.0184\n"
     ]
    },
    {
     "data": {
      "application/vnd.jupyter.widget-view+json": {
       "model_id": "",
       "version_major": 2,
       "version_minor": 0
      },
      "text/plain": [
       "HBox(children=(FloatProgress(value=0.0, max=10050.0), HTML(value='')))"
      ]
     },
     "metadata": {},
     "output_type": "display_data"
    },
    {
     "name": "stdout",
     "output_type": "stream",
     "text": [
      "valid loss: 0.5599, valid acc: 0.7001, elapsed:17.4428\n",
      "\n",
      "Epoch 26/50\n",
      "----------\n"
     ]
    },
    {
     "data": {
      "application/vnd.jupyter.widget-view+json": {
       "model_id": "",
       "version_major": 2,
       "version_minor": 0
      },
      "text/plain": [
       "HBox(children=(FloatProgress(value=0.0, max=40197.0), HTML(value='')))"
      ]
     },
     "metadata": {},
     "output_type": "display_data"
    },
    {
     "name": "stdout",
     "output_type": "stream",
     "text": [
      "train loss: 0.5586, train acc: 0.6944, elapsed:158.3995\n"
     ]
    },
    {
     "data": {
      "application/vnd.jupyter.widget-view+json": {
       "model_id": "",
       "version_major": 2,
       "version_minor": 0
      },
      "text/plain": [
       "HBox(children=(FloatProgress(value=0.0, max=10050.0), HTML(value='')))"
      ]
     },
     "metadata": {},
     "output_type": "display_data"
    },
    {
     "name": "stdout",
     "output_type": "stream",
     "text": [
      "valid loss: 0.5657, valid acc: 0.6928, elapsed:17.6766\n",
      "\n",
      "Epoch 27/50\n",
      "----------\n"
     ]
    },
    {
     "data": {
      "application/vnd.jupyter.widget-view+json": {
       "model_id": "",
       "version_major": 2,
       "version_minor": 0
      },
      "text/plain": [
       "HBox(children=(FloatProgress(value=0.0, max=40197.0), HTML(value='')))"
      ]
     },
     "metadata": {},
     "output_type": "display_data"
    },
    {
     "name": "stdout",
     "output_type": "stream",
     "text": [
      "train loss: 0.5586, train acc: 0.6946, elapsed:154.3143\n"
     ]
    },
    {
     "data": {
      "application/vnd.jupyter.widget-view+json": {
       "model_id": "",
       "version_major": 2,
       "version_minor": 0
      },
      "text/plain": [
       "HBox(children=(FloatProgress(value=0.0, max=10050.0), HTML(value='')))"
      ]
     },
     "metadata": {},
     "output_type": "display_data"
    },
    {
     "name": "stdout",
     "output_type": "stream",
     "text": [
      "valid loss: 0.5635, valid acc: 0.6965, elapsed:17.4515\n",
      "\n",
      "Epoch 28/50\n",
      "----------\n"
     ]
    },
    {
     "data": {
      "application/vnd.jupyter.widget-view+json": {
       "model_id": "",
       "version_major": 2,
       "version_minor": 0
      },
      "text/plain": [
       "HBox(children=(FloatProgress(value=0.0, max=40197.0), HTML(value='')))"
      ]
     },
     "metadata": {},
     "output_type": "display_data"
    },
    {
     "name": "stdout",
     "output_type": "stream",
     "text": [
      "train loss: 0.5588, train acc: 0.6940, elapsed:163.6453\n"
     ]
    },
    {
     "data": {
      "application/vnd.jupyter.widget-view+json": {
       "model_id": "",
       "version_major": 2,
       "version_minor": 0
      },
      "text/plain": [
       "HBox(children=(FloatProgress(value=0.0, max=10050.0), HTML(value='')))"
      ]
     },
     "metadata": {},
     "output_type": "display_data"
    },
    {
     "name": "stdout",
     "output_type": "stream",
     "text": [
      "valid loss: 0.5629, valid acc: 0.6970, elapsed:17.6439\n",
      "\n",
      "Epoch 29/50\n",
      "----------\n"
     ]
    },
    {
     "data": {
      "application/vnd.jupyter.widget-view+json": {
       "model_id": "",
       "version_major": 2,
       "version_minor": 0
      },
      "text/plain": [
       "HBox(children=(FloatProgress(value=0.0, max=40197.0), HTML(value='')))"
      ]
     },
     "metadata": {},
     "output_type": "display_data"
    },
    {
     "name": "stdout",
     "output_type": "stream",
     "text": [
      "train loss: 0.5581, train acc: 0.6947, elapsed:160.9974\n"
     ]
    },
    {
     "data": {
      "application/vnd.jupyter.widget-view+json": {
       "model_id": "",
       "version_major": 2,
       "version_minor": 0
      },
      "text/plain": [
       "HBox(children=(FloatProgress(value=0.0, max=10050.0), HTML(value='')))"
      ]
     },
     "metadata": {},
     "output_type": "display_data"
    },
    {
     "name": "stdout",
     "output_type": "stream",
     "text": [
      "valid loss: 0.5620, valid acc: 0.6976, elapsed:17.5420\n",
      "\n",
      "Epoch 30/50\n",
      "----------\n"
     ]
    },
    {
     "data": {
      "application/vnd.jupyter.widget-view+json": {
       "model_id": "",
       "version_major": 2,
       "version_minor": 0
      },
      "text/plain": [
       "HBox(children=(FloatProgress(value=0.0, max=40197.0), HTML(value='')))"
      ]
     },
     "metadata": {},
     "output_type": "display_data"
    },
    {
     "name": "stdout",
     "output_type": "stream",
     "text": [
      "train loss: 0.5582, train acc: 0.6948, elapsed:156.9892\n"
     ]
    },
    {
     "data": {
      "application/vnd.jupyter.widget-view+json": {
       "model_id": "",
       "version_major": 2,
       "version_minor": 0
      },
      "text/plain": [
       "HBox(children=(FloatProgress(value=0.0, max=10050.0), HTML(value='')))"
      ]
     },
     "metadata": {},
     "output_type": "display_data"
    },
    {
     "name": "stdout",
     "output_type": "stream",
     "text": [
      "valid loss: 0.5648, valid acc: 0.6944, elapsed:17.7926\n",
      "\n",
      "Epoch 31/50\n",
      "----------\n"
     ]
    },
    {
     "data": {
      "application/vnd.jupyter.widget-view+json": {
       "model_id": "",
       "version_major": 2,
       "version_minor": 0
      },
      "text/plain": [
       "HBox(children=(FloatProgress(value=0.0, max=40197.0), HTML(value='')))"
      ]
     },
     "metadata": {},
     "output_type": "display_data"
    },
    {
     "name": "stdout",
     "output_type": "stream",
     "text": [
      "train loss: 0.5584, train acc: 0.6945, elapsed:155.1000\n"
     ]
    },
    {
     "data": {
      "application/vnd.jupyter.widget-view+json": {
       "model_id": "",
       "version_major": 2,
       "version_minor": 0
      },
      "text/plain": [
       "HBox(children=(FloatProgress(value=0.0, max=10050.0), HTML(value='')))"
      ]
     },
     "metadata": {},
     "output_type": "display_data"
    },
    {
     "name": "stdout",
     "output_type": "stream",
     "text": [
      "valid loss: 0.5635, valid acc: 0.6954, elapsed:17.9201\n",
      "\n",
      "Epoch 32/50\n",
      "----------\n"
     ]
    },
    {
     "data": {
      "application/vnd.jupyter.widget-view+json": {
       "model_id": "",
       "version_major": 2,
       "version_minor": 0
      },
      "text/plain": [
       "HBox(children=(FloatProgress(value=0.0, max=40197.0), HTML(value='')))"
      ]
     },
     "metadata": {},
     "output_type": "display_data"
    },
    {
     "name": "stdout",
     "output_type": "stream",
     "text": [
      "train loss: 0.5584, train acc: 0.6945, elapsed:159.6905\n"
     ]
    },
    {
     "data": {
      "application/vnd.jupyter.widget-view+json": {
       "model_id": "",
       "version_major": 2,
       "version_minor": 0
      },
      "text/plain": [
       "HBox(children=(FloatProgress(value=0.0, max=10050.0), HTML(value='')))"
      ]
     },
     "metadata": {},
     "output_type": "display_data"
    },
    {
     "name": "stdout",
     "output_type": "stream",
     "text": [
      "valid loss: 0.5631, valid acc: 0.6962, elapsed:17.6635\n",
      "\n",
      "Epoch 33/50\n",
      "----------\n"
     ]
    },
    {
     "data": {
      "application/vnd.jupyter.widget-view+json": {
       "model_id": "",
       "version_major": 2,
       "version_minor": 0
      },
      "text/plain": [
       "HBox(children=(FloatProgress(value=0.0, max=40197.0), HTML(value='')))"
      ]
     },
     "metadata": {},
     "output_type": "display_data"
    },
    {
     "name": "stdout",
     "output_type": "stream",
     "text": [
      "train loss: 0.5586, train acc: 0.6945, elapsed:155.4902\n"
     ]
    },
    {
     "data": {
      "application/vnd.jupyter.widget-view+json": {
       "model_id": "",
       "version_major": 2,
       "version_minor": 0
      },
      "text/plain": [
       "HBox(children=(FloatProgress(value=0.0, max=10050.0), HTML(value='')))"
      ]
     },
     "metadata": {},
     "output_type": "display_data"
    },
    {
     "name": "stdout",
     "output_type": "stream",
     "text": [
      "valid loss: 0.5575, valid acc: 0.7020, elapsed:17.7158\n",
      "\n",
      "Epoch 34/50\n",
      "----------\n"
     ]
    },
    {
     "data": {
      "application/vnd.jupyter.widget-view+json": {
       "model_id": "",
       "version_major": 2,
       "version_minor": 0
      },
      "text/plain": [
       "HBox(children=(FloatProgress(value=0.0, max=40197.0), HTML(value='')))"
      ]
     },
     "metadata": {},
     "output_type": "display_data"
    },
    {
     "name": "stdout",
     "output_type": "stream",
     "text": [
      "train loss: 0.5584, train acc: 0.6945, elapsed:158.5549\n"
     ]
    },
    {
     "data": {
      "application/vnd.jupyter.widget-view+json": {
       "model_id": "",
       "version_major": 2,
       "version_minor": 0
      },
      "text/plain": [
       "HBox(children=(FloatProgress(value=0.0, max=10050.0), HTML(value='')))"
      ]
     },
     "metadata": {},
     "output_type": "display_data"
    },
    {
     "name": "stdout",
     "output_type": "stream",
     "text": [
      "valid loss: 0.5615, valid acc: 0.6990, elapsed:17.6375\n",
      "\n",
      "Epoch 35/50\n",
      "----------\n"
     ]
    },
    {
     "data": {
      "application/vnd.jupyter.widget-view+json": {
       "model_id": "",
       "version_major": 2,
       "version_minor": 0
      },
      "text/plain": [
       "HBox(children=(FloatProgress(value=0.0, max=40197.0), HTML(value='')))"
      ]
     },
     "metadata": {},
     "output_type": "display_data"
    },
    {
     "name": "stdout",
     "output_type": "stream",
     "text": [
      "train loss: 0.5582, train acc: 0.6946, elapsed:161.5104\n"
     ]
    },
    {
     "data": {
      "application/vnd.jupyter.widget-view+json": {
       "model_id": "",
       "version_major": 2,
       "version_minor": 0
      },
      "text/plain": [
       "HBox(children=(FloatProgress(value=0.0, max=10050.0), HTML(value='')))"
      ]
     },
     "metadata": {},
     "output_type": "display_data"
    },
    {
     "name": "stdout",
     "output_type": "stream",
     "text": [
      "valid loss: 0.5676, valid acc: 0.6944, elapsed:17.3442\n",
      "\n",
      "Epoch 36/50\n",
      "----------\n"
     ]
    },
    {
     "data": {
      "application/vnd.jupyter.widget-view+json": {
       "model_id": "",
       "version_major": 2,
       "version_minor": 0
      },
      "text/plain": [
       "HBox(children=(FloatProgress(value=0.0, max=40197.0), HTML(value='')))"
      ]
     },
     "metadata": {},
     "output_type": "display_data"
    },
    {
     "name": "stdout",
     "output_type": "stream",
     "text": [
      "train loss: 0.5582, train acc: 0.6945, elapsed:155.9163\n"
     ]
    },
    {
     "data": {
      "application/vnd.jupyter.widget-view+json": {
       "model_id": "",
       "version_major": 2,
       "version_minor": 0
      },
      "text/plain": [
       "HBox(children=(FloatProgress(value=0.0, max=10050.0), HTML(value='')))"
      ]
     },
     "metadata": {},
     "output_type": "display_data"
    },
    {
     "name": "stdout",
     "output_type": "stream",
     "text": [
      "valid loss: 0.5596, valid acc: 0.7004, elapsed:17.9099\n",
      "\n",
      "Epoch 37/50\n",
      "----------\n"
     ]
    },
    {
     "data": {
      "application/vnd.jupyter.widget-view+json": {
       "model_id": "",
       "version_major": 2,
       "version_minor": 0
      },
      "text/plain": [
       "HBox(children=(FloatProgress(value=0.0, max=40197.0), HTML(value='')))"
      ]
     },
     "metadata": {},
     "output_type": "display_data"
    },
    {
     "name": "stdout",
     "output_type": "stream",
     "text": [
      "train loss: 0.5584, train acc: 0.6945, elapsed:159.5060\n"
     ]
    },
    {
     "data": {
      "application/vnd.jupyter.widget-view+json": {
       "model_id": "",
       "version_major": 2,
       "version_minor": 0
      },
      "text/plain": [
       "HBox(children=(FloatProgress(value=0.0, max=10050.0), HTML(value='')))"
      ]
     },
     "metadata": {},
     "output_type": "display_data"
    },
    {
     "name": "stdout",
     "output_type": "stream",
     "text": [
      "valid loss: 0.5645, valid acc: 0.6947, elapsed:17.3305\n",
      "\n",
      "Epoch 38/50\n",
      "----------\n"
     ]
    },
    {
     "data": {
      "application/vnd.jupyter.widget-view+json": {
       "model_id": "",
       "version_major": 2,
       "version_minor": 0
      },
      "text/plain": [
       "HBox(children=(FloatProgress(value=0.0, max=40197.0), HTML(value='')))"
      ]
     },
     "metadata": {},
     "output_type": "display_data"
    },
    {
     "name": "stdout",
     "output_type": "stream",
     "text": [
      "train loss: 0.5586, train acc: 0.6942, elapsed:152.9165\n"
     ]
    },
    {
     "data": {
      "application/vnd.jupyter.widget-view+json": {
       "model_id": "",
       "version_major": 2,
       "version_minor": 0
      },
      "text/plain": [
       "HBox(children=(FloatProgress(value=0.0, max=10050.0), HTML(value='')))"
      ]
     },
     "metadata": {},
     "output_type": "display_data"
    },
    {
     "name": "stdout",
     "output_type": "stream",
     "text": [
      "valid loss: 0.5642, valid acc: 0.6961, elapsed:17.6465\n",
      "\n",
      "Epoch 39/50\n",
      "----------\n"
     ]
    },
    {
     "data": {
      "application/vnd.jupyter.widget-view+json": {
       "model_id": "",
       "version_major": 2,
       "version_minor": 0
      },
      "text/plain": [
       "HBox(children=(FloatProgress(value=0.0, max=40197.0), HTML(value='')))"
      ]
     },
     "metadata": {},
     "output_type": "display_data"
    },
    {
     "name": "stdout",
     "output_type": "stream",
     "text": [
      "train loss: 0.5583, train acc: 0.6946, elapsed:158.1385\n"
     ]
    },
    {
     "data": {
      "application/vnd.jupyter.widget-view+json": {
       "model_id": "",
       "version_major": 2,
       "version_minor": 0
      },
      "text/plain": [
       "HBox(children=(FloatProgress(value=0.0, max=10050.0), HTML(value='')))"
      ]
     },
     "metadata": {},
     "output_type": "display_data"
    },
    {
     "name": "stdout",
     "output_type": "stream",
     "text": [
      "valid loss: 0.5599, valid acc: 0.6993, elapsed:17.5606\n",
      "\n",
      "Epoch 40/50\n",
      "----------\n"
     ]
    },
    {
     "data": {
      "application/vnd.jupyter.widget-view+json": {
       "model_id": "",
       "version_major": 2,
       "version_minor": 0
      },
      "text/plain": [
       "HBox(children=(FloatProgress(value=0.0, max=40197.0), HTML(value='')))"
      ]
     },
     "metadata": {},
     "output_type": "display_data"
    },
    {
     "name": "stdout",
     "output_type": "stream",
     "text": [
      "train loss: 0.5582, train acc: 0.6947, elapsed:157.6260\n"
     ]
    },
    {
     "data": {
      "application/vnd.jupyter.widget-view+json": {
       "model_id": "",
       "version_major": 2,
       "version_minor": 0
      },
      "text/plain": [
       "HBox(children=(FloatProgress(value=0.0, max=10050.0), HTML(value='')))"
      ]
     },
     "metadata": {},
     "output_type": "display_data"
    },
    {
     "name": "stdout",
     "output_type": "stream",
     "text": [
      "valid loss: 0.5606, valid acc: 0.6979, elapsed:17.4152\n",
      "\n",
      "Epoch 41/50\n",
      "----------\n"
     ]
    },
    {
     "data": {
      "application/vnd.jupyter.widget-view+json": {
       "model_id": "",
       "version_major": 2,
       "version_minor": 0
      },
      "text/plain": [
       "HBox(children=(FloatProgress(value=0.0, max=40197.0), HTML(value='')))"
      ]
     },
     "metadata": {},
     "output_type": "display_data"
    },
    {
     "name": "stdout",
     "output_type": "stream",
     "text": [
      "train loss: 0.5586, train acc: 0.6943, elapsed:155.8273\n"
     ]
    },
    {
     "data": {
      "application/vnd.jupyter.widget-view+json": {
       "model_id": "",
       "version_major": 2,
       "version_minor": 0
      },
      "text/plain": [
       "HBox(children=(FloatProgress(value=0.0, max=10050.0), HTML(value='')))"
      ]
     },
     "metadata": {},
     "output_type": "display_data"
    },
    {
     "name": "stdout",
     "output_type": "stream",
     "text": [
      "valid loss: 0.5645, valid acc: 0.6950, elapsed:18.2597\n",
      "\n",
      "Epoch 42/50\n",
      "----------\n"
     ]
    },
    {
     "data": {
      "application/vnd.jupyter.widget-view+json": {
       "model_id": "",
       "version_major": 2,
       "version_minor": 0
      },
      "text/plain": [
       "HBox(children=(FloatProgress(value=0.0, max=40197.0), HTML(value='')))"
      ]
     },
     "metadata": {},
     "output_type": "display_data"
    },
    {
     "name": "stdout",
     "output_type": "stream",
     "text": [
      "train loss: 0.5583, train acc: 0.6947, elapsed:155.6999\n"
     ]
    },
    {
     "data": {
      "application/vnd.jupyter.widget-view+json": {
       "model_id": "",
       "version_major": 2,
       "version_minor": 0
      },
      "text/plain": [
       "HBox(children=(FloatProgress(value=0.0, max=10050.0), HTML(value='')))"
      ]
     },
     "metadata": {},
     "output_type": "display_data"
    },
    {
     "name": "stdout",
     "output_type": "stream",
     "text": [
      "valid loss: 0.5577, valid acc: 0.7021, elapsed:17.7512\n",
      "\n",
      "Epoch 43/50\n",
      "----------\n"
     ]
    },
    {
     "data": {
      "application/vnd.jupyter.widget-view+json": {
       "model_id": "",
       "version_major": 2,
       "version_minor": 0
      },
      "text/plain": [
       "HBox(children=(FloatProgress(value=0.0, max=40197.0), HTML(value='')))"
      ]
     },
     "metadata": {},
     "output_type": "display_data"
    },
    {
     "name": "stdout",
     "output_type": "stream",
     "text": [
      "train loss: 0.5583, train acc: 0.6946, elapsed:154.6409\n"
     ]
    },
    {
     "data": {
      "application/vnd.jupyter.widget-view+json": {
       "model_id": "",
       "version_major": 2,
       "version_minor": 0
      },
      "text/plain": [
       "HBox(children=(FloatProgress(value=0.0, max=10050.0), HTML(value='')))"
      ]
     },
     "metadata": {},
     "output_type": "display_data"
    },
    {
     "name": "stdout",
     "output_type": "stream",
     "text": [
      "valid loss: 0.5615, valid acc: 0.6993, elapsed:17.4713\n",
      "\n",
      "Epoch 44/50\n",
      "----------\n"
     ]
    },
    {
     "data": {
      "application/vnd.jupyter.widget-view+json": {
       "model_id": "",
       "version_major": 2,
       "version_minor": 0
      },
      "text/plain": [
       "HBox(children=(FloatProgress(value=0.0, max=40197.0), HTML(value='')))"
      ]
     },
     "metadata": {},
     "output_type": "display_data"
    },
    {
     "name": "stdout",
     "output_type": "stream",
     "text": [
      "train loss: 0.5583, train acc: 0.6944, elapsed:157.3043\n"
     ]
    },
    {
     "data": {
      "application/vnd.jupyter.widget-view+json": {
       "model_id": "",
       "version_major": 2,
       "version_minor": 0
      },
      "text/plain": [
       "HBox(children=(FloatProgress(value=0.0, max=10050.0), HTML(value='')))"
      ]
     },
     "metadata": {},
     "output_type": "display_data"
    },
    {
     "name": "stdout",
     "output_type": "stream",
     "text": [
      "valid loss: 0.5645, valid acc: 0.6967, elapsed:17.4838\n",
      "\n",
      "Epoch 45/50\n",
      "----------\n"
     ]
    },
    {
     "data": {
      "application/vnd.jupyter.widget-view+json": {
       "model_id": "",
       "version_major": 2,
       "version_minor": 0
      },
      "text/plain": [
       "HBox(children=(FloatProgress(value=0.0, max=40197.0), HTML(value='')))"
      ]
     },
     "metadata": {},
     "output_type": "display_data"
    },
    {
     "name": "stdout",
     "output_type": "stream",
     "text": [
      "train loss: 0.5583, train acc: 0.6946, elapsed:153.3304\n"
     ]
    },
    {
     "data": {
      "application/vnd.jupyter.widget-view+json": {
       "model_id": "",
       "version_major": 2,
       "version_minor": 0
      },
      "text/plain": [
       "HBox(children=(FloatProgress(value=0.0, max=10050.0), HTML(value='')))"
      ]
     },
     "metadata": {},
     "output_type": "display_data"
    },
    {
     "name": "stdout",
     "output_type": "stream",
     "text": [
      "valid loss: 0.5662, valid acc: 0.6945, elapsed:17.7913\n",
      "\n",
      "Epoch 46/50\n",
      "----------\n"
     ]
    },
    {
     "data": {
      "application/vnd.jupyter.widget-view+json": {
       "model_id": "",
       "version_major": 2,
       "version_minor": 0
      },
      "text/plain": [
       "HBox(children=(FloatProgress(value=0.0, max=40197.0), HTML(value='')))"
      ]
     },
     "metadata": {},
     "output_type": "display_data"
    },
    {
     "name": "stdout",
     "output_type": "stream",
     "text": [
      "train loss: 0.5582, train acc: 0.6947, elapsed:155.7354\n"
     ]
    },
    {
     "data": {
      "application/vnd.jupyter.widget-view+json": {
       "model_id": "",
       "version_major": 2,
       "version_minor": 0
      },
      "text/plain": [
       "HBox(children=(FloatProgress(value=0.0, max=10050.0), HTML(value='')))"
      ]
     },
     "metadata": {},
     "output_type": "display_data"
    },
    {
     "name": "stdout",
     "output_type": "stream",
     "text": [
      "valid loss: 0.5704, valid acc: 0.6879, elapsed:17.6260\n",
      "\n",
      "Epoch 47/50\n",
      "----------\n"
     ]
    },
    {
     "data": {
      "application/vnd.jupyter.widget-view+json": {
       "model_id": "",
       "version_major": 2,
       "version_minor": 0
      },
      "text/plain": [
       "HBox(children=(FloatProgress(value=0.0, max=40197.0), HTML(value='')))"
      ]
     },
     "metadata": {},
     "output_type": "display_data"
    },
    {
     "name": "stdout",
     "output_type": "stream",
     "text": [
      "train loss: 0.5581, train acc: 0.6948, elapsed:158.4134\n"
     ]
    },
    {
     "data": {
      "application/vnd.jupyter.widget-view+json": {
       "model_id": "",
       "version_major": 2,
       "version_minor": 0
      },
      "text/plain": [
       "HBox(children=(FloatProgress(value=0.0, max=10050.0), HTML(value='')))"
      ]
     },
     "metadata": {},
     "output_type": "display_data"
    },
    {
     "name": "stdout",
     "output_type": "stream",
     "text": [
      "valid loss: 0.5648, valid acc: 0.6942, elapsed:17.6851\n",
      "\n",
      "Epoch 48/50\n",
      "----------\n"
     ]
    },
    {
     "data": {
      "application/vnd.jupyter.widget-view+json": {
       "model_id": "",
       "version_major": 2,
       "version_minor": 0
      },
      "text/plain": [
       "HBox(children=(FloatProgress(value=0.0, max=40197.0), HTML(value='')))"
      ]
     },
     "metadata": {},
     "output_type": "display_data"
    },
    {
     "name": "stdout",
     "output_type": "stream",
     "text": [
      "train loss: 0.5582, train acc: 0.6946, elapsed:155.7666\n"
     ]
    },
    {
     "data": {
      "application/vnd.jupyter.widget-view+json": {
       "model_id": "",
       "version_major": 2,
       "version_minor": 0
      },
      "text/plain": [
       "HBox(children=(FloatProgress(value=0.0, max=10050.0), HTML(value='')))"
      ]
     },
     "metadata": {},
     "output_type": "display_data"
    },
    {
     "name": "stdout",
     "output_type": "stream",
     "text": [
      "valid loss: 0.5629, valid acc: 0.6959, elapsed:17.8522\n",
      "\n",
      "Epoch 49/50\n",
      "----------\n"
     ]
    },
    {
     "data": {
      "application/vnd.jupyter.widget-view+json": {
       "model_id": "",
       "version_major": 2,
       "version_minor": 0
      },
      "text/plain": [
       "HBox(children=(FloatProgress(value=0.0, max=40197.0), HTML(value='')))"
      ]
     },
     "metadata": {},
     "output_type": "display_data"
    },
    {
     "name": "stdout",
     "output_type": "stream",
     "text": [
      "train loss: 0.5585, train acc: 0.6945, elapsed:160.1181\n"
     ]
    },
    {
     "data": {
      "application/vnd.jupyter.widget-view+json": {
       "model_id": "",
       "version_major": 2,
       "version_minor": 0
      },
      "text/plain": [
       "HBox(children=(FloatProgress(value=0.0, max=10050.0), HTML(value='')))"
      ]
     },
     "metadata": {},
     "output_type": "display_data"
    },
    {
     "name": "stdout",
     "output_type": "stream",
     "text": [
      "valid loss: 0.5589, valid acc: 0.7015, elapsed:17.6562\n",
      "\n",
      "Epoch 50/50\n",
      "----------\n"
     ]
    },
    {
     "data": {
      "application/vnd.jupyter.widget-view+json": {
       "model_id": "",
       "version_major": 2,
       "version_minor": 0
      },
      "text/plain": [
       "HBox(children=(FloatProgress(value=0.0, max=40197.0), HTML(value='')))"
      ]
     },
     "metadata": {},
     "output_type": "display_data"
    },
    {
     "name": "stdout",
     "output_type": "stream",
     "text": [
      "train loss: 0.5581, train acc: 0.6944, elapsed:155.3604\n"
     ]
    },
    {
     "data": {
      "application/vnd.jupyter.widget-view+json": {
       "model_id": "",
       "version_major": 2,
       "version_minor": 0
      },
      "text/plain": [
       "HBox(children=(FloatProgress(value=0.0, max=10050.0), HTML(value='')))"
      ]
     },
     "metadata": {},
     "output_type": "display_data"
    },
    {
     "name": "stdout",
     "output_type": "stream",
     "text": [
      "valid loss: 0.5627, valid acc: 0.6968, elapsed:17.5650\n",
      "training took:  8771.014183231164\n"
     ]
    }
   ],
   "source": [
    "model, run_hist = train_and_valid_classification(model, criterion, optimizer_2, run_hist, num_epochs=50)"
   ]
  },
  {
   "cell_type": "code",
   "execution_count": 252,
   "metadata": {},
   "outputs": [
    {
     "name": "stdout",
     "output_type": "stream",
     "text": [
      "              precision    recall  f1-score   support\n",
      "\n",
      "       ghost       0.93      0.67      0.78   1100498\n",
      "        true       0.27      0.71      0.39    185790\n",
      "\n",
      "   micro avg       0.68      0.68      0.68   1286288\n",
      "   macro avg       0.60      0.69      0.58   1286288\n",
      "weighted avg       0.84      0.68      0.72   1286288\n",
      "\n"
     ]
    },
    {
     "data": {
      "text/plain": [
       "tensor([[-0.0719,  0.1545],\n",
       "        [ 0.7917,  0.2230],\n",
       "        [ 0.4592,  0.1169],\n",
       "        ...,\n",
       "        [ 0.3024,  1.1462],\n",
       "        [ 1.7666, -1.0805],\n",
       "        [-0.1192,  0.5504]], grad_fn=<AddmmBackward>)"
      ]
     },
     "execution_count": 252,
     "metadata": {},
     "output_type": "execute_result"
    }
   ],
   "source": [
    "print_classification_report(model,X_valid, Y_valid, 0.1)"
   ]
  },
  {
   "cell_type": "code",
   "execution_count": 289,
   "metadata": {},
   "outputs": [
    {
     "data": {
      "image/png": "[encoded data removed]",
      "text/plain": [
       "<Figure size 432x432 with 1 Axes>"
      ]
     },
     "metadata": {
      "needs_background": "light"
     },
     "output_type": "display_data"
    }
   ],
   "source": [
    "print_roc(model,X_valid, Y_valid )"
   ]
  },
  {
   "cell_type": "code",
   "execution_count": 290,
   "metadata": {},
   "outputs": [
    {
     "data": {
      "image/png": "[encoded data removed]",
      "text/plain": [
       "<Figure size 1440x432 with 2 Axes>"
      ]
     },
     "metadata": {
      "needs_background": "light"
     },
     "output_type": "display_data"
    }
   ],
   "source": [
    "plot_training_classification(run_hist)"
   ]
  },
  {
   "cell_type": "code",
   "execution_count": 293,
   "metadata": {},
   "outputs": [
    {
     "data": {
      "text/plain": [
       "NHiddenTrackingNetwork(\n",
       "  (input_layer): Linear(in_features=13, out_features=40, bias=True)\n",
       "  (layers): ModuleList(\n",
       "    (0): Linear(in_features=40, out_features=30, bias=True)\n",
       "    (1): Linear(in_features=30, out_features=20, bias=True)\n",
       "    (2): Linear(in_features=20, out_features=10, bias=True)\n",
       "  )\n",
       "  (output_layer): Linear(in_features=10, out_features=2, bias=True)\n",
       ")"
      ]
     },
     "execution_count": 293,
     "metadata": {},
     "output_type": "execute_result"
    }
   ],
   "source": [
    "model.to(device)"
   ]
  },
  {
   "cell_type": "code",
   "execution_count": 294,
   "metadata": {},
   "outputs": [],
   "source": [
    "learning_rate = 1e-6\n",
    "optimizer_3 = torch.optim.Adam(model.parameters(), lr=learning_rate)"
   ]
  },
  {
   "cell_type": "code",
   "execution_count": 295,
   "metadata": {},
   "outputs": [
    {
     "name": "stdout",
     "output_type": "stream",
     "text": [
      "\n",
      "Epoch 1/50\n",
      "----------\n"
     ]
    },
    {
     "data": {
      "application/vnd.jupyter.widget-view+json": {
       "model_id": "",
       "version_major": 2,
       "version_minor": 0
      },
      "text/plain": [
       "HBox(children=(FloatProgress(value=0.0, max=40197.0), HTML(value='')))"
      ]
     },
     "metadata": {},
     "output_type": "display_data"
    },
    {
     "name": "stdout",
     "output_type": "stream",
     "text": [
      "train loss: 0.5579, train acc: 0.6948, elapsed:152.3418\n"
     ]
    },
    {
     "data": {
      "application/vnd.jupyter.widget-view+json": {
       "model_id": "",
       "version_major": 2,
       "version_minor": 0
      },
      "text/plain": [
       "HBox(children=(FloatProgress(value=0.0, max=10050.0), HTML(value='')))"
      ]
     },
     "metadata": {},
     "output_type": "display_data"
    },
    {
     "name": "stdout",
     "output_type": "stream",
     "text": [
      "valid loss: 0.5623, valid acc: 0.6978, elapsed:17.5370\n",
      "\n",
      "Epoch 2/50\n",
      "----------\n"
     ]
    },
    {
     "data": {
      "application/vnd.jupyter.widget-view+json": {
       "model_id": "",
       "version_major": 2,
       "version_minor": 0
      },
      "text/plain": [
       "HBox(children=(FloatProgress(value=0.0, max=40197.0), HTML(value='')))"
      ]
     },
     "metadata": {},
     "output_type": "display_data"
    },
    {
     "name": "stdout",
     "output_type": "stream",
     "text": [
      "train loss: 0.5582, train acc: 0.6945, elapsed:152.3977\n"
     ]
    },
    {
     "data": {
      "application/vnd.jupyter.widget-view+json": {
       "model_id": "",
       "version_major": 2,
       "version_minor": 0
      },
      "text/plain": [
       "HBox(children=(FloatProgress(value=0.0, max=10050.0), HTML(value='')))"
      ]
     },
     "metadata": {},
     "output_type": "display_data"
    },
    {
     "name": "stdout",
     "output_type": "stream",
     "text": [
      "valid loss: 0.5633, valid acc: 0.6966, elapsed:17.6030\n",
      "\n",
      "Epoch 3/50\n",
      "----------\n"
     ]
    },
    {
     "data": {
      "application/vnd.jupyter.widget-view+json": {
       "model_id": "",
       "version_major": 2,
       "version_minor": 0
      },
      "text/plain": [
       "HBox(children=(FloatProgress(value=0.0, max=40197.0), HTML(value='')))"
      ]
     },
     "metadata": {},
     "output_type": "display_data"
    },
    {
     "name": "stdout",
     "output_type": "stream",
     "text": [
      "train loss: 0.5580, train acc: 0.6949, elapsed:154.8245\n"
     ]
    },
    {
     "data": {
      "application/vnd.jupyter.widget-view+json": {
       "model_id": "",
       "version_major": 2,
       "version_minor": 0
      },
      "text/plain": [
       "HBox(children=(FloatProgress(value=0.0, max=10050.0), HTML(value='')))"
      ]
     },
     "metadata": {},
     "output_type": "display_data"
    },
    {
     "name": "stdout",
     "output_type": "stream",
     "text": [
      "valid loss: 0.5626, valid acc: 0.6978, elapsed:17.3710\n",
      "\n",
      "Epoch 4/50\n",
      "----------\n"
     ]
    },
    {
     "data": {
      "application/vnd.jupyter.widget-view+json": {
       "model_id": "",
       "version_major": 2,
       "version_minor": 0
      },
      "text/plain": [
       "HBox(children=(FloatProgress(value=0.0, max=40197.0), HTML(value='')))"
      ]
     },
     "metadata": {},
     "output_type": "display_data"
    },
    {
     "name": "stdout",
     "output_type": "stream",
     "text": [
      "train loss: 0.5579, train acc: 0.6947, elapsed:156.0382\n"
     ]
    },
    {
     "data": {
      "application/vnd.jupyter.widget-view+json": {
       "model_id": "",
       "version_major": 2,
       "version_minor": 0
      },
      "text/plain": [
       "HBox(children=(FloatProgress(value=0.0, max=10050.0), HTML(value='')))"
      ]
     },
     "metadata": {},
     "output_type": "display_data"
    },
    {
     "name": "stdout",
     "output_type": "stream",
     "text": [
      "valid loss: 0.5629, valid acc: 0.6972, elapsed:17.7169\n",
      "\n",
      "Epoch 5/50\n",
      "----------\n"
     ]
    },
    {
     "data": {
      "application/vnd.jupyter.widget-view+json": {
       "model_id": "",
       "version_major": 2,
       "version_minor": 0
      },
      "text/plain": [
       "HBox(children=(FloatProgress(value=0.0, max=40197.0), HTML(value='')))"
      ]
     },
     "metadata": {},
     "output_type": "display_data"
    },
    {
     "name": "stdout",
     "output_type": "stream",
     "text": [
      "train loss: 0.5581, train acc: 0.6948, elapsed:159.9786\n"
     ]
    },
    {
     "data": {
      "application/vnd.jupyter.widget-view+json": {
       "model_id": "",
       "version_major": 2,
       "version_minor": 0
      },
      "text/plain": [
       "HBox(children=(FloatProgress(value=0.0, max=10050.0), HTML(value='')))"
      ]
     },
     "metadata": {},
     "output_type": "display_data"
    },
    {
     "name": "stdout",
     "output_type": "stream",
     "text": [
      "valid loss: 0.5606, valid acc: 0.6995, elapsed:17.7327\n",
      "\n",
      "Epoch 6/50\n",
      "----------\n"
     ]
    },
    {
     "data": {
      "application/vnd.jupyter.widget-view+json": {
       "model_id": "9bc682f679e3489081ac7b8d22204a60",
       "version_major": 2,
       "version_minor": 0
      },
      "text/plain": [
       "HBox(children=(FloatProgress(value=0.0, max=40197.0), HTML(value='')))"
      ]
     },
     "metadata": {},
     "output_type": "display_data"
    },
    {
     "ename": "KeyboardInterrupt",
     "evalue": "",
     "output_type": "error",
     "traceback": [
      "\u001b[0;31m---------------------------------------------------------------------------\u001b[0m",
      "\u001b[0;31mKeyboardInterrupt\u001b[0m                         Traceback (most recent call last)",
      "\u001b[0;32m<ipython-input-295-26b5fef6f4d7>\u001b[0m in \u001b[0;36m<module>\u001b[0;34m\u001b[0m\n\u001b[0;32m----> 1\u001b[0;31m \u001b[0mmodel\u001b[0m\u001b[0;34m,\u001b[0m \u001b[0mrun_hist\u001b[0m \u001b[0;34m=\u001b[0m \u001b[0mtrain_and_valid_classification\u001b[0m\u001b[0;34m(\u001b[0m\u001b[0mmodel\u001b[0m\u001b[0;34m,\u001b[0m \u001b[0mcriterion\u001b[0m\u001b[0;34m,\u001b[0m \u001b[0moptimizer_3\u001b[0m\u001b[0;34m,\u001b[0m \u001b[0mrun_hist\u001b[0m\u001b[0;34m,\u001b[0m \u001b[0mnum_epochs\u001b[0m\u001b[0;34m=\u001b[0m\u001b[0;36m50\u001b[0m\u001b[0;34m)\u001b[0m\u001b[0;34m\u001b[0m\u001b[0;34m\u001b[0m\u001b[0m\n\u001b[0m",
      "\u001b[0;32m<ipython-input-233-36326d78c5da>\u001b[0m in \u001b[0;36mtrain_and_valid_classification\u001b[0;34m(model, criterion, optimizer, run_hist, num_epochs, save_every_nth_batch_loss)\u001b[0m\n\u001b[1;32m     42\u001b[0m                     \u001b[0moptimizer\u001b[0m\u001b[0;34m.\u001b[0m\u001b[0mzero_grad\u001b[0m\u001b[0;34m(\u001b[0m\u001b[0;34m)\u001b[0m\u001b[0;34m\u001b[0m\u001b[0;34m\u001b[0m\u001b[0m\n\u001b[1;32m     43\u001b[0m                     \u001b[0mloss\u001b[0m\u001b[0;34m.\u001b[0m\u001b[0mbackward\u001b[0m\u001b[0;34m(\u001b[0m\u001b[0;34m)\u001b[0m\u001b[0;34m\u001b[0m\u001b[0;34m\u001b[0m\u001b[0m\n\u001b[0;32m---> 44\u001b[0;31m                     \u001b[0moptimizer\u001b[0m\u001b[0;34m.\u001b[0m\u001b[0mstep\u001b[0m\u001b[0;34m(\u001b[0m\u001b[0;34m)\u001b[0m\u001b[0;34m\u001b[0m\u001b[0;34m\u001b[0m\u001b[0m\n\u001b[0m\u001b[1;32m     45\u001b[0m \u001b[0;34m\u001b[0m\u001b[0m\n\u001b[1;32m     46\u001b[0m                 \u001b[0m_\u001b[0m\u001b[0;34m,\u001b[0m \u001b[0mpreds\u001b[0m \u001b[0;34m=\u001b[0m \u001b[0mtorch\u001b[0m\u001b[0;34m.\u001b[0m\u001b[0mmax\u001b[0m\u001b[0;34m(\u001b[0m\u001b[0moutputs\u001b[0m\u001b[0;34m,\u001b[0m \u001b[0;36m1\u001b[0m\u001b[0;34m)\u001b[0m\u001b[0;34m\u001b[0m\u001b[0;34m\u001b[0m\u001b[0m\n",
      "\u001b[0;32m/anaconda/envs/py36/lib/python3.6/site-packages/torch/optim/adam.py\u001b[0m in \u001b[0;36mstep\u001b[0;34m(self, closure)\u001b[0m\n\u001b[1;32m     91\u001b[0m \u001b[0;34m\u001b[0m\u001b[0m\n\u001b[1;32m     92\u001b[0m                 \u001b[0;31m# Decay the first and second moment running average coefficient\u001b[0m\u001b[0;34m\u001b[0m\u001b[0;34m\u001b[0m\u001b[0;34m\u001b[0m\u001b[0m\n\u001b[0;32m---> 93\u001b[0;31m                 \u001b[0mexp_avg\u001b[0m\u001b[0;34m.\u001b[0m\u001b[0mmul_\u001b[0m\u001b[0;34m(\u001b[0m\u001b[0mbeta1\u001b[0m\u001b[0;34m)\u001b[0m\u001b[0;34m.\u001b[0m\u001b[0madd_\u001b[0m\u001b[0;34m(\u001b[0m\u001b[0;36m1\u001b[0m \u001b[0;34m-\u001b[0m \u001b[0mbeta1\u001b[0m\u001b[0;34m,\u001b[0m \u001b[0mgrad\u001b[0m\u001b[0;34m)\u001b[0m\u001b[0;34m\u001b[0m\u001b[0;34m\u001b[0m\u001b[0m\n\u001b[0m\u001b[1;32m     94\u001b[0m                 \u001b[0mexp_avg_sq\u001b[0m\u001b[0;34m.\u001b[0m\u001b[0mmul_\u001b[0m\u001b[0;34m(\u001b[0m\u001b[0mbeta2\u001b[0m\u001b[0;34m)\u001b[0m\u001b[0;34m.\u001b[0m\u001b[0maddcmul_\u001b[0m\u001b[0;34m(\u001b[0m\u001b[0;36m1\u001b[0m \u001b[0;34m-\u001b[0m \u001b[0mbeta2\u001b[0m\u001b[0;34m,\u001b[0m \u001b[0mgrad\u001b[0m\u001b[0;34m,\u001b[0m \u001b[0mgrad\u001b[0m\u001b[0;34m)\u001b[0m\u001b[0;34m\u001b[0m\u001b[0;34m\u001b[0m\u001b[0m\n\u001b[1;32m     95\u001b[0m                 \u001b[0;32mif\u001b[0m \u001b[0mamsgrad\u001b[0m\u001b[0;34m:\u001b[0m\u001b[0;34m\u001b[0m\u001b[0;34m\u001b[0m\u001b[0m\n",
      "\u001b[0;31mKeyboardInterrupt\u001b[0m: "
     ]
    }
   ],
   "source": [
    "model, run_hist = train_and_valid_classification(model, criterion, optimizer_3, run_hist, num_epochs=50)"
   ]
  },
  {
   "cell_type": "code",
   "execution_count": 296,
   "metadata": {},
   "outputs": [
    {
     "data": {
      "image/png": "[encoded data removed]",
      "text/plain": [
       "<Figure size 432x432 with 1 Axes>"
      ]
     },
     "metadata": {
      "needs_background": "light"
     },
     "output_type": "display_data"
    }
   ],
   "source": [
    "print_roc(model,X_valid, Y_valid )"
   ]
  },
  {
   "cell_type": "code",
   "execution_count": 297,
   "metadata": {},
   "outputs": [],
   "source": [
    "torch.save({\n",
    "            'model_state_dict': model.state_dict(),\n",
    "            'optimizer_state_dict': optimizer.state_dict(),\n",
    "            'run_history':run_hist,\n",
    "            }, \".4NN_3.pt\")"
   ]
  },
  {
   "cell_type": "code",
   "execution_count": 298,
   "metadata": {},
   "outputs": [],
   "source": [
    "def print_classification_report(model, X, Y, threshold =0.2):\n",
    "    def predict_vs_threshold(probas,threshold):\n",
    "        predicted = np.where(probas>threshold,1,0)\n",
    "        return predicted\n",
    "\n",
    "    \n",
    "    X = torch.tensor(X.values, dtype=torch.float).to(\"cpu\")\n",
    "    model.eval\n",
    "    model.to(\"cpu\")\n",
    "    output =  model(X)\n",
    "    probas = F.softmax(output, dim=1)\n",
    "    print(classification_report(Y, predict_vs_threshold(probas[:,1], threshold), target_names=[\"ghost\",\"true\"]))\n",
    "    del X\n",
    "\n"
   ]
  },
  {
   "cell_type": "code",
   "execution_count": 302,
   "metadata": {},
   "outputs": [
    {
     "name": "stdout",
     "output_type": "stream",
     "text": [
      "              precision    recall  f1-score   support\n",
      "\n",
      "       ghost       0.98      0.24      0.39   1100498\n",
      "        true       0.18      0.97      0.30    185790\n",
      "\n",
      "   micro avg       0.35      0.35      0.35   1286288\n",
      "   macro avg       0.58      0.61      0.35   1286288\n",
      "weighted avg       0.87      0.35      0.38   1286288\n",
      "\n"
     ]
    }
   ],
   "source": [
    "out =  print_classification_report(model,X_valid, Y_valid, 0.23)"
   ]
  }
 ],
 "metadata": {
  "kernelspec": {
   "display_name": "Python 3.6 - AzureML",
   "language": "python",
   "name": "python3-azureml"
  },
  "language_info": {
   "codemirror_mode": {
    "name": "ipython",
    "version": 3
   },
   "file_extension": ".py",
   "mimetype": "text/x-python",
   "name": "python",
   "nbconvert_exporter": "python",
   "pygments_lexer": "ipython3",
   "version": "3.6.9"
  }
 },
 "nbformat": 4,
 "nbformat_minor": 2
}

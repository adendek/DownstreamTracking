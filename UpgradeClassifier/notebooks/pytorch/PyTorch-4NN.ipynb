{
 "cells": [
  {
   "cell_type": "code",
   "execution_count": 101,
   "metadata": {},
   "outputs": [],
   "source": [
    "import pandas as pd\n",
    "import numpy as np\n",
    "\n",
    "%matplotlib inline\n",
    "import matplotlib.pyplot as plt\n",
    "\n",
    "from sklearn.model_selection import train_test_split\n",
    "from sklearn.metrics import accuracy_score, log_loss, precision_score, precision_recall_curve\n",
    "from sklearn.metrics import roc_auc_score, roc_curve, auc\n",
    "from sklearn.metrics import classification_report\n",
    "\n",
    "import torch\n",
    "import torch.nn as nn\n",
    "import torch.optim as optim\n",
    "import torch.nn.functional as F\n",
    "from torch.utils.data import DataLoader, TensorDataset\n",
    "\n",
    "from timeit import default_timer as timer\n",
    "from tqdm.notebook import tqdm\n"
   ]
  },
  {
   "cell_type": "code",
   "execution_count": 2,
   "metadata": {},
   "outputs": [
    {
     "data": {
      "text/html": [
       "<div>\n",
       "<style scoped>\n",
       "    .dataframe tbody tr th:only-of-type {\n",
       "        vertical-align: middle;\n",
       "    }\n",
       "\n",
       "    .dataframe tbody tr th {\n",
       "        vertical-align: top;\n",
       "    }\n",
       "\n",
       "    .dataframe thead th {\n",
       "        text-align: right;\n",
       "    }\n",
       "</style>\n",
       "<table border=\"1\" class=\"dataframe\">\n",
       "  <thead>\n",
       "    <tr style=\"text-align: right;\">\n",
       "      <th></th>\n",
       "      <th>track_phi</th>\n",
       "      <th>track_tx</th>\n",
       "      <th>track_ty</th>\n",
       "      <th>track_nLHCbIDs</th>\n",
       "      <th>track_p</th>\n",
       "      <th>track_chi2</th>\n",
       "      <th>track_position_x</th>\n",
       "      <th>track_position_y</th>\n",
       "      <th>track_chi2PerDoF</th>\n",
       "      <th>track_pt</th>\n",
       "      <th>track_pseudoRapidity</th>\n",
       "      <th>track_position_r</th>\n",
       "      <th>track_position_phi</th>\n",
       "    </tr>\n",
       "  </thead>\n",
       "  <tbody>\n",
       "    <tr>\n",
       "      <th>0</th>\n",
       "      <td>2.849378</td>\n",
       "      <td>-0.343474</td>\n",
       "      <td>0.103326</td>\n",
       "      <td>12.0</td>\n",
       "      <td>2020.072174</td>\n",
       "      <td>6.275086</td>\n",
       "      <td>494.515198</td>\n",
       "      <td>1124.644897</td>\n",
       "      <td>0.896441</td>\n",
       "      <td>682.012956</td>\n",
       "      <td>1.749189</td>\n",
       "      <td>7599.958646</td>\n",
       "      <td>1.156534</td>\n",
       "    </tr>\n",
       "    <tr>\n",
       "      <th>1</th>\n",
       "      <td>-3.082239</td>\n",
       "      <td>-0.358948</td>\n",
       "      <td>-0.021330</td>\n",
       "      <td>12.0</td>\n",
       "      <td>3841.771978</td>\n",
       "      <td>1.360128</td>\n",
       "      <td>-1080.491943</td>\n",
       "      <td>-141.657471</td>\n",
       "      <td>0.194304</td>\n",
       "      <td>1299.941130</td>\n",
       "      <td>1.746825</td>\n",
       "      <td>7578.755154</td>\n",
       "      <td>-3.011232</td>\n",
       "    </tr>\n",
       "    <tr>\n",
       "      <th>2</th>\n",
       "      <td>-0.011027</td>\n",
       "      <td>0.096606</td>\n",
       "      <td>-0.001065</td>\n",
       "      <td>11.0</td>\n",
       "      <td>11831.335600</td>\n",
       "      <td>1.228229</td>\n",
       "      <td>235.222702</td>\n",
       "      <td>-5.106698</td>\n",
       "      <td>0.204705</td>\n",
       "      <td>1137.754221</td>\n",
       "      <td>3.032522</td>\n",
       "      <td>7503.689479</td>\n",
       "      <td>-0.021707</td>\n",
       "    </tr>\n",
       "    <tr>\n",
       "      <th>3</th>\n",
       "      <td>3.105371</td>\n",
       "      <td>-0.442834</td>\n",
       "      <td>0.016047</td>\n",
       "      <td>9.0</td>\n",
       "      <td>1982.935289</td>\n",
       "      <td>1.397992</td>\n",
       "      <td>-256.822998</td>\n",
       "      <td>115.813004</td>\n",
       "      <td>0.349498</td>\n",
       "      <td>803.347165</td>\n",
       "      <td>1.552877</td>\n",
       "      <td>7505.289515</td>\n",
       "      <td>2.717953</td>\n",
       "    </tr>\n",
       "    <tr>\n",
       "      <th>4</th>\n",
       "      <td>-3.125277</td>\n",
       "      <td>-0.170356</td>\n",
       "      <td>-0.002780</td>\n",
       "      <td>11.0</td>\n",
       "      <td>6950.099982</td>\n",
       "      <td>1.731246</td>\n",
       "      <td>-439.475525</td>\n",
       "      <td>-42.887833</td>\n",
       "      <td>0.288541</td>\n",
       "      <td>1167.325690</td>\n",
       "      <td>2.470060</td>\n",
       "      <td>7512.987296</td>\n",
       "      <td>-3.044312</td>\n",
       "    </tr>\n",
       "  </tbody>\n",
       "</table>\n",
       "</div>"
      ],
      "text/plain": [
       "   track_phi  track_tx  track_ty  track_nLHCbIDs       track_p  track_chi2  \\\n",
       "0   2.849378 -0.343474  0.103326            12.0   2020.072174    6.275086   \n",
       "1  -3.082239 -0.358948 -0.021330            12.0   3841.771978    1.360128   \n",
       "2  -0.011027  0.096606 -0.001065            11.0  11831.335600    1.228229   \n",
       "3   3.105371 -0.442834  0.016047             9.0   1982.935289    1.397992   \n",
       "4  -3.125277 -0.170356 -0.002780            11.0   6950.099982    1.731246   \n",
       "\n",
       "   track_position_x  track_position_y  track_chi2PerDoF     track_pt  \\\n",
       "0        494.515198       1124.644897          0.896441   682.012956   \n",
       "1      -1080.491943       -141.657471          0.194304  1299.941130   \n",
       "2        235.222702         -5.106698          0.204705  1137.754221   \n",
       "3       -256.822998        115.813004          0.349498   803.347165   \n",
       "4       -439.475525        -42.887833          0.288541  1167.325690   \n",
       "\n",
       "   track_pseudoRapidity  track_position_r  track_position_phi  \n",
       "0              1.749189       7599.958646            1.156534  \n",
       "1              1.746825       7578.755154           -3.011232  \n",
       "2              3.032522       7503.689479           -0.021707  \n",
       "3              1.552877       7505.289515            2.717953  \n",
       "4              2.470060       7512.987296           -3.044312  "
      ]
     },
     "execution_count": 2,
     "metadata": {},
     "output_type": "execute_result"
    }
   ],
   "source": [
    "data = pd.read_csv(\"/data/work/wessex/Wessex/test/Brunel_track_seeds_with_target.csv\")\n",
    "target = data.particle_isDown_noVelo \n",
    "features = data.drop([\"Unnamed: 0\", \n",
    "                      \"Unnamed: 0_x\", # index\n",
    "                      \"Unnamed: 0_y\",\n",
    "                      \"eventID\",\n",
    "                      \"particle_key\",\n",
    "                      \"particle_hasUT\",\n",
    "                      \"particle_pid\", # this are MC info\n",
    "                      \"particle_hasScifi\",\n",
    "                      \"particle_isDown_noVelo\",\n",
    "                      \"particle_isDown\",\n",
    "                      \"particle_hasVelo\",\n",
    "                      \"track_charge\",\n",
    "                      \"track_position_z\",\n",
    "                     ], axis=1)\n",
    "features.head()"
   ]
  },
  {
   "cell_type": "code",
   "execution_count": 4,
   "metadata": {},
   "outputs": [
    {
     "data": {
      "text/plain": [
       "device(type='cuda', index=0)"
      ]
     },
     "execution_count": 4,
     "metadata": {},
     "output_type": "execute_result"
    }
   ],
   "source": [
    "device = torch.device(\"cuda:0\" if torch.cuda.is_available() else \"cpu\")\n",
    "device"
   ]
  },
  {
   "cell_type": "code",
   "execution_count": 5,
   "metadata": {},
   "outputs": [],
   "source": [
    "X_train, X_valid, Y_train, Y_valid = train_test_split(features, target, test_size=0.2, random_state=12)"
   ]
  },
  {
   "cell_type": "code",
   "execution_count": 6,
   "metadata": {},
   "outputs": [],
   "source": [
    "X_valid = (X_valid - X_train.mean()) / X_train.std()\n",
    "X_train = (X_train - X_train.mean()) / X_train.std()"
   ]
  },
  {
   "cell_type": "code",
   "execution_count": 8,
   "metadata": {},
   "outputs": [],
   "source": [
    "datasets={\n",
    "    \"train\":TensorDataset(torch.Tensor(np.array(X_train.values)).to(device), torch.Tensor(np.array(Y_train.values, dtype=np.uint8)).to(device)),\n",
    "    \"valid\":TensorDataset(torch.Tensor(np.array(X_valid.values)).to(device), torch.Tensor(np.array(Y_valid.values, dtype=np.uint8)).to(device))\n",
    "}\n"
   ]
  },
  {
   "cell_type": "code",
   "execution_count": 9,
   "metadata": {},
   "outputs": [
    {
     "data": {
      "text/plain": [
       "(tensor([ 5.5752e-02,  6.0465e-01,  3.2267e-01,  7.1693e-01, -3.9098e-03,\n",
       "         -5.5659e-01,  7.8569e-01,  2.9878e-01, -5.9557e-01, -3.3483e-04,\n",
       "         -1.3694e-01, -3.9947e-01,  1.2029e-01], device='cuda:0'),\n",
       " tensor(0., device='cuda:0'))"
      ]
     },
     "execution_count": 9,
     "metadata": {},
     "output_type": "execute_result"
    }
   ],
   "source": [
    "datasets[\"valid\"].__getitem__(0)"
   ]
  },
  {
   "cell_type": "code",
   "execution_count": 10,
   "metadata": {},
   "outputs": [],
   "source": [
    "dataloaders = { \n",
    "    'train':DataLoader(datasets[\"train\"], \n",
    "                   batch_size=128,\n",
    "                   shuffle=True,\n",
    "                    num_workers=0),\n",
    "    'valid':DataLoader(datasets[\"valid\"],\n",
    "                      batch_size=128,\n",
    "                      shuffle=False,\n",
    "                      num_workers=0)\n",
    "}"
   ]
  },
  {
   "cell_type": "code",
   "execution_count": 11,
   "metadata": {},
   "outputs": [
    {
     "name": "stdout",
     "output_type": "stream",
     "text": [
      "features tensor([[ 0.0434,  1.3710,  0.5385,  ..., -1.0083,  1.1475,  0.0943],\n",
      "        [-1.4580, -1.4504, -1.2241,  ..., -1.0308,  0.9639, -1.3900],\n",
      "        [ 1.5216, -2.0646,  0.6484,  ..., -1.3881,  0.5593,  1.5341],\n",
      "        ...,\n",
      "        [ 0.0515,  0.5779,  0.2836,  ..., -0.0874, -0.7527,  0.2849],\n",
      "        [-0.0191,  0.9217, -0.2211,  ..., -0.5854, -0.6030, -0.1133],\n",
      "        [ 0.0304,  1.4806,  0.3856,  ..., -1.0862, -0.1626,  0.1439]],\n",
      "       device='cuda:0') 128\n",
      "target tensor([0., 0., 0., 0., 1., 0., 0., 0., 0., 0., 0., 0., 0., 0., 0., 0., 0., 0.,\n",
      "        0., 0., 0., 0., 0., 0., 0., 1., 0., 0., 1., 0., 0., 0., 0., 0., 0., 0.,\n",
      "        0., 0., 0., 1., 0., 0., 0., 0., 1., 0., 0., 0., 1., 0., 0., 0., 0., 0.,\n",
      "        1., 0., 1., 1., 1., 0., 0., 0., 0., 0., 0., 0., 0., 1., 0., 0., 0., 0.,\n",
      "        0., 0., 0., 0., 0., 1., 0., 0., 1., 0., 0., 0., 0., 0., 0., 0., 0., 0.,\n",
      "        0., 0., 0., 0., 0., 0., 0., 0., 0., 0., 0., 0., 0., 0., 0., 0., 0., 0.,\n",
      "        0., 0., 1., 0., 0., 0., 0., 0., 0., 0., 0., 0., 0., 0., 0., 1., 1., 0.,\n",
      "        0., 0.], device='cuda:0') 128\n"
     ]
    }
   ],
   "source": [
    "for batch in dataloaders[\"train\"]:\n",
    "    print(\"features\", batch[0], len(batch[0]))\n",
    "    print(\"target\", batch[1], len(batch[1]))\n",
    "    break"
   ]
  },
  {
   "cell_type": "code",
   "execution_count": 26,
   "metadata": {},
   "outputs": [],
   "source": [
    "def train_and_valid_classification(model,\n",
    "                                   criterion,\n",
    "                                   optimizer,\n",
    "                                   run_hist={},\n",
    "                                   num_epochs=10,\n",
    "                                   save_every_nth_batch_loss=50):\n",
    "    \"\"\"Train and evaluate the classification model.\"\"\"\n",
    "    if len(run_hist) == 0:\n",
    "        run_hist = {key: [] for key in ['epoch_loss_train',\n",
    "                                    'epoch_loss_valid',\n",
    "                                    'epoch_acc_valid',\n",
    "                                    'epoch_acc_train',   \n",
    "                                    'batch_loss_train']}\n",
    "    process_timer = timer()\n",
    "    \n",
    "    for epoch in range(num_epochs):\n",
    "        print('\\nEpoch {}/{}'.format(epoch+1, num_epochs))\n",
    "        print('-' * 10)\n",
    "\n",
    "        for phase in ['train', 'valid']:\n",
    "            start_epoch = timer()\n",
    "            if phase == 'train':\n",
    "                model.train()\n",
    "            else:\n",
    "                model.eval()\n",
    "        \n",
    "            running_loss = 0.0\n",
    "            running_corrects = 0\n",
    "            \n",
    "            batch_iterator = tqdm(iter(dataloaders[phase]), leave=False, total=len(dataloaders[phase]))\n",
    "\n",
    "        \n",
    "            for i, batch in enumerate(batch_iterator):\n",
    "                inputs, labels = batch\n",
    "                inputs = inputs.to(device)\n",
    "                labels = labels.to(device)\n",
    "\n",
    "                outputs = model(inputs)\n",
    "                loss = criterion(outputs, labels.long())\n",
    "\n",
    "                if phase == 'train':\n",
    "                    optimizer.zero_grad()\n",
    "                    loss.backward()\n",
    "                    optimizer.step()\n",
    "\n",
    "                _, preds = torch.max(outputs, 1)\n",
    "                running_loss += loss.detach() * inputs.size(0)\n",
    "                running_corrects += torch.sum(preds == labels.data.long())\n",
    "\n",
    "                if phase == 'train' and i % save_every_nth_batch_loss == 0:\n",
    "                    run_hist['batch_loss_train'].append(loss.item())\n",
    "\n",
    "            epoch_loss = running_loss / len(datasets[phase])\n",
    "            epoch_acc = running_corrects.float() / len(datasets[phase])\n",
    "\n",
    "            print('{} loss: {:.4f}, {} acc: {:.4f}, elapsed:{:.4f}'.\\\n",
    "            format(phase,\n",
    "                   epoch_loss.item(),\n",
    "                   phase,\n",
    "                   epoch_acc.item(),\n",
    "                   timer()-start_epoch\n",
    "                 ))\n",
    "                 \n",
    "        \n",
    "            run_hist['epoch_loss_' + phase].append(epoch_loss.item())\n",
    "            run_hist['epoch_acc_' + phase].append(epoch_acc.item())\n",
    "\n",
    "    print(\"training took: \",timer()- process_timer)    \n",
    "    return model, run_hist"
   ]
  },
  {
   "cell_type": "markdown",
   "metadata": {},
   "source": [
    "# Build the shallow model"
   ]
  },
  {
   "cell_type": "code",
   "execution_count": 20,
   "metadata": {},
   "outputs": [],
   "source": [
    "class NHiddenTrackingNetwork(torch.nn.Module):\n",
    "    def __init__(self, inputs,n_hidden, hidden_dict):\n",
    "        super(NHiddenTrackingNetwork, self).__init__()\n",
    "        if n_hidden < 3: \n",
    "          raise ValueError(\"n_hidden must be greater than 2\")\n",
    "        self.input_layer = nn.Linear(inputs, hidden_dict[0])\n",
    "        self.layers = nn.ModuleList()\n",
    "        for layer_it in range(n_hidden-1):\n",
    "          self.layers.append(nn.Linear(hidden_dict[layer_it],\n",
    "                                       hidden_dict[layer_it+1]))\n",
    "        self.output_layer = nn.Linear(hidden_dict[n_hidden-1], 2)\n",
    "        self.inputs = inputs\n",
    "        \n",
    "    def forward(self, x):\n",
    "        x = self.input_layer(x)\n",
    "        x = F.relu(x)\n",
    "        for layer in self.layers:\n",
    "          x = layer(x)\n",
    "          x = F.relu(x)\n",
    "        x = self.output_layer(x)\n",
    "        return x"
   ]
  },
  {
   "cell_type": "code",
   "execution_count": 21,
   "metadata": {},
   "outputs": [
    {
     "data": {
      "text/plain": [
       "NHiddenTrackingNetwork(\n",
       "  (input_layer): Linear(in_features=13, out_features=40, bias=True)\n",
       "  (layers): ModuleList(\n",
       "    (0): Linear(in_features=40, out_features=30, bias=True)\n",
       "    (1): Linear(in_features=30, out_features=20, bias=True)\n",
       "    (2): Linear(in_features=20, out_features=10, bias=True)\n",
       "  )\n",
       "  (output_layer): Linear(in_features=10, out_features=2, bias=True)\n",
       ")"
      ]
     },
     "execution_count": 21,
     "metadata": {},
     "output_type": "execute_result"
    }
   ],
   "source": [
    "n_hidden = {0:40,\n",
    "            1:30,\n",
    "           2:20,\n",
    "           3:10}\n",
    "\n",
    "model = NHiddenTrackingNetwork(X_train.shape[1], 4, n_hidden).to(device)\n",
    "model"
   ]
  },
  {
   "cell_type": "code",
   "execution_count": 22,
   "metadata": {},
   "outputs": [
    {
     "name": "stdout",
     "output_type": "stream",
     "text": [
      "Model's state_dict:\n",
      "input_layer.weight \t torch.Size([40, 13])\n",
      "input_layer.bias \t torch.Size([40])\n",
      "layers.0.weight \t torch.Size([30, 40])\n",
      "layers.0.bias \t torch.Size([30])\n",
      "layers.1.weight \t torch.Size([20, 30])\n",
      "layers.1.bias \t torch.Size([20])\n",
      "layers.2.weight \t torch.Size([10, 20])\n",
      "layers.2.bias \t torch.Size([10])\n",
      "output_layer.weight \t torch.Size([2, 10])\n",
      "output_layer.bias \t torch.Size([2])\n"
     ]
    }
   ],
   "source": [
    "print(\"Model's state_dict:\")\n",
    "for param_tensor in model.state_dict():\n",
    "    print(param_tensor, \"\\t\", model.state_dict()[param_tensor].size())\n"
   ]
  },
  {
   "cell_type": "code",
   "execution_count": 23,
   "metadata": {},
   "outputs": [],
   "source": [
    "criterion = nn.CrossEntropyLoss().cuda()\n",
    "learning_rate = 1e-4\n",
    "optimizer = torch.optim.Adam(model.parameters(), lr=learning_rate)"
   ]
  },
  {
   "cell_type": "code",
   "execution_count": 27,
   "metadata": {},
   "outputs": [
    {
     "name": "stdout",
     "output_type": "stream",
     "text": [
      "\n",
      "Epoch 1/10\n",
      "----------\n"
     ]
    },
    {
     "data": {
      "application/vnd.jupyter.widget-view+json": {
       "model_id": "",
       "version_major": 2,
       "version_minor": 0
      },
      "text/plain": [
       "HBox(children=(IntProgress(value=0, max=40197), HTML(value='')))"
      ]
     },
     "metadata": {},
     "output_type": "display_data"
    },
    {
     "name": "stdout",
     "output_type": "stream",
     "text": [
      "\r",
      "train loss: 0.3944, train acc: 0.8552, elapsed:161.1246\n"
     ]
    },
    {
     "data": {
      "application/vnd.jupyter.widget-view+json": {
       "model_id": "",
       "version_major": 2,
       "version_minor": 0
      },
      "text/plain": [
       "HBox(children=(IntProgress(value=0, max=10050), HTML(value='')))"
      ]
     },
     "metadata": {},
     "output_type": "display_data"
    },
    {
     "name": "stdout",
     "output_type": "stream",
     "text": [
      "\r",
      "valid loss: 0.3901, valid acc: 0.8556, elapsed:18.2012\n",
      "\n",
      "Epoch 2/10\n",
      "----------\n"
     ]
    },
    {
     "data": {
      "application/vnd.jupyter.widget-view+json": {
       "model_id": "",
       "version_major": 2,
       "version_minor": 0
      },
      "text/plain": [
       "HBox(children=(IntProgress(value=0, max=40197), HTML(value='')))"
      ]
     },
     "metadata": {},
     "output_type": "display_data"
    },
    {
     "name": "stdout",
     "output_type": "stream",
     "text": [
      "\r",
      "train loss: 0.3861, train acc: 0.8551, elapsed:169.9736\n"
     ]
    },
    {
     "data": {
      "application/vnd.jupyter.widget-view+json": {
       "model_id": "",
       "version_major": 2,
       "version_minor": 0
      },
      "text/plain": [
       "HBox(children=(IntProgress(value=0, max=10050), HTML(value='')))"
      ]
     },
     "metadata": {},
     "output_type": "display_data"
    },
    {
     "name": "stdout",
     "output_type": "stream",
     "text": [
      "\r",
      "valid loss: 0.3802, valid acc: 0.8554, elapsed:18.4734\n",
      "\n",
      "Epoch 3/10\n",
      "----------\n"
     ]
    },
    {
     "data": {
      "application/vnd.jupyter.widget-view+json": {
       "model_id": "",
       "version_major": 2,
       "version_minor": 0
      },
      "text/plain": [
       "HBox(children=(IntProgress(value=0, max=40197), HTML(value='')))"
      ]
     },
     "metadata": {},
     "output_type": "display_data"
    },
    {
     "name": "stdout",
     "output_type": "stream",
     "text": [
      "\r",
      "train loss: 0.3767, train acc: 0.8561, elapsed:163.0501\n"
     ]
    },
    {
     "data": {
      "application/vnd.jupyter.widget-view+json": {
       "model_id": "",
       "version_major": 2,
       "version_minor": 0
      },
      "text/plain": [
       "HBox(children=(IntProgress(value=0, max=10050), HTML(value='')))"
      ]
     },
     "metadata": {},
     "output_type": "display_data"
    },
    {
     "name": "stdout",
     "output_type": "stream",
     "text": [
      "\r",
      "valid loss: 0.3709, valid acc: 0.8589, elapsed:18.7440\n",
      "\n",
      "Epoch 4/10\n",
      "----------\n"
     ]
    },
    {
     "data": {
      "application/vnd.jupyter.widget-view+json": {
       "model_id": "",
       "version_major": 2,
       "version_minor": 0
      },
      "text/plain": [
       "HBox(children=(IntProgress(value=0, max=40197), HTML(value='')))"
      ]
     },
     "metadata": {},
     "output_type": "display_data"
    },
    {
     "name": "stdout",
     "output_type": "stream",
     "text": [
      "\r",
      "train loss: 0.3679, train acc: 0.8608, elapsed:162.9221\n"
     ]
    },
    {
     "data": {
      "application/vnd.jupyter.widget-view+json": {
       "model_id": "",
       "version_major": 2,
       "version_minor": 0
      },
      "text/plain": [
       "HBox(children=(IntProgress(value=0, max=10050), HTML(value='')))"
      ]
     },
     "metadata": {},
     "output_type": "display_data"
    },
    {
     "name": "stdout",
     "output_type": "stream",
     "text": [
      "\r",
      "valid loss: 0.3669, valid acc: 0.8628, elapsed:18.5765\n",
      "\n",
      "Epoch 5/10\n",
      "----------\n"
     ]
    },
    {
     "data": {
      "application/vnd.jupyter.widget-view+json": {
       "model_id": "",
       "version_major": 2,
       "version_minor": 0
      },
      "text/plain": [
       "HBox(children=(IntProgress(value=0, max=40197), HTML(value='')))"
      ]
     },
     "metadata": {},
     "output_type": "display_data"
    },
    {
     "name": "stdout",
     "output_type": "stream",
     "text": [
      "\r",
      "train loss: 0.3636, train acc: 0.8634, elapsed:160.4217\n"
     ]
    },
    {
     "data": {
      "application/vnd.jupyter.widget-view+json": {
       "model_id": "",
       "version_major": 2,
       "version_minor": 0
      },
      "text/plain": [
       "HBox(children=(IntProgress(value=0, max=10050), HTML(value='')))"
      ]
     },
     "metadata": {},
     "output_type": "display_data"
    },
    {
     "name": "stdout",
     "output_type": "stream",
     "text": [
      "\r",
      "valid loss: 0.3628, valid acc: 0.8640, elapsed:18.4710\n",
      "\n",
      "Epoch 6/10\n",
      "----------\n"
     ]
    },
    {
     "data": {
      "application/vnd.jupyter.widget-view+json": {
       "model_id": "",
       "version_major": 2,
       "version_minor": 0
      },
      "text/plain": [
       "HBox(children=(IntProgress(value=0, max=40197), HTML(value='')))"
      ]
     },
     "metadata": {},
     "output_type": "display_data"
    },
    {
     "name": "stdout",
     "output_type": "stream",
     "text": [
      "\r",
      "train loss: 0.3615, train acc: 0.8642, elapsed:161.9341\n"
     ]
    },
    {
     "data": {
      "application/vnd.jupyter.widget-view+json": {
       "model_id": "",
       "version_major": 2,
       "version_minor": 0
      },
      "text/plain": [
       "HBox(children=(IntProgress(value=0, max=10050), HTML(value='')))"
      ]
     },
     "metadata": {},
     "output_type": "display_data"
    },
    {
     "name": "stdout",
     "output_type": "stream",
     "text": [
      "\r",
      "valid loss: 0.3608, valid acc: 0.8642, elapsed:21.7266\n",
      "\n",
      "Epoch 7/10\n",
      "----------\n"
     ]
    },
    {
     "data": {
      "application/vnd.jupyter.widget-view+json": {
       "model_id": "",
       "version_major": 2,
       "version_minor": 0
      },
      "text/plain": [
       "HBox(children=(IntProgress(value=0, max=40197), HTML(value='')))"
      ]
     },
     "metadata": {},
     "output_type": "display_data"
    },
    {
     "name": "stdout",
     "output_type": "stream",
     "text": [
      "\r",
      "train loss: 0.3600, train acc: 0.8647, elapsed:163.7655\n"
     ]
    },
    {
     "data": {
      "application/vnd.jupyter.widget-view+json": {
       "model_id": "",
       "version_major": 2,
       "version_minor": 0
      },
      "text/plain": [
       "HBox(children=(IntProgress(value=0, max=10050), HTML(value='')))"
      ]
     },
     "metadata": {},
     "output_type": "display_data"
    },
    {
     "name": "stdout",
     "output_type": "stream",
     "text": [
      "\r",
      "valid loss: 0.3588, valid acc: 0.8652, elapsed:17.9858\n",
      "\n",
      "Epoch 8/10\n",
      "----------\n"
     ]
    },
    {
     "data": {
      "application/vnd.jupyter.widget-view+json": {
       "model_id": "",
       "version_major": 2,
       "version_minor": 0
      },
      "text/plain": [
       "HBox(children=(IntProgress(value=0, max=40197), HTML(value='')))"
      ]
     },
     "metadata": {},
     "output_type": "display_data"
    },
    {
     "name": "stdout",
     "output_type": "stream",
     "text": [
      "\r",
      "train loss: 0.3589, train acc: 0.8651, elapsed:168.0002\n"
     ]
    },
    {
     "data": {
      "application/vnd.jupyter.widget-view+json": {
       "model_id": "",
       "version_major": 2,
       "version_minor": 0
      },
      "text/plain": [
       "HBox(children=(IntProgress(value=0, max=10050), HTML(value='')))"
      ]
     },
     "metadata": {},
     "output_type": "display_data"
    },
    {
     "name": "stdout",
     "output_type": "stream",
     "text": [
      "\r",
      "valid loss: 0.3577, valid acc: 0.8654, elapsed:18.7983\n",
      "\n",
      "Epoch 9/10\n",
      "----------\n"
     ]
    },
    {
     "data": {
      "application/vnd.jupyter.widget-view+json": {
       "model_id": "",
       "version_major": 2,
       "version_minor": 0
      },
      "text/plain": [
       "HBox(children=(IntProgress(value=0, max=40197), HTML(value='')))"
      ]
     },
     "metadata": {},
     "output_type": "display_data"
    },
    {
     "name": "stdout",
     "output_type": "stream",
     "text": [
      "\r",
      "train loss: 0.3578, train acc: 0.8654, elapsed:169.8548\n"
     ]
    },
    {
     "data": {
      "application/vnd.jupyter.widget-view+json": {
       "model_id": "",
       "version_major": 2,
       "version_minor": 0
      },
      "text/plain": [
       "HBox(children=(IntProgress(value=0, max=10050), HTML(value='')))"
      ]
     },
     "metadata": {},
     "output_type": "display_data"
    },
    {
     "name": "stdout",
     "output_type": "stream",
     "text": [
      "\r",
      "valid loss: 0.3565, valid acc: 0.8657, elapsed:20.2140\n",
      "\n",
      "Epoch 10/10\n",
      "----------\n"
     ]
    },
    {
     "data": {
      "application/vnd.jupyter.widget-view+json": {
       "model_id": "",
       "version_major": 2,
       "version_minor": 0
      },
      "text/plain": [
       "HBox(children=(IntProgress(value=0, max=40197), HTML(value='')))"
      ]
     },
     "metadata": {},
     "output_type": "display_data"
    },
    {
     "name": "stdout",
     "output_type": "stream",
     "text": [
      "\r",
      "train loss: 0.3568, train acc: 0.8656, elapsed:163.8741\n"
     ]
    },
    {
     "data": {
      "application/vnd.jupyter.widget-view+json": {
       "model_id": "",
       "version_major": 2,
       "version_minor": 0
      },
      "text/plain": [
       "HBox(children=(IntProgress(value=0, max=10050), HTML(value='')))"
      ]
     },
     "metadata": {},
     "output_type": "display_data"
    },
    {
     "name": "stdout",
     "output_type": "stream",
     "text": [
      "\r",
      "valid loss: 0.3552, valid acc: 0.8662, elapsed:18.0126\n",
      "training took:  1834.1298468320165\n"
     ]
    }
   ],
   "source": [
    "model, run_hist = train_and_valid_classification(model, criterion, optimizer, num_epochs=10)"
   ]
  },
  {
   "cell_type": "code",
   "execution_count": 118,
   "metadata": {},
   "outputs": [],
   "source": [
    "def print_roc(model, X, Y):\n",
    "    X = torch.tensor(X.values, dtype=torch.float).to(\"cpu\")\n",
    "    model.eval\n",
    "    model.to(\"cpu\")\n",
    "    output =  model(X)    \n",
    "    plt.figure(figsize=[6, 6])\n",
    "    pred = F.softmax(output).cpu().detach().numpy()[:,1]\n",
    "    fpr, tpr, thresholds = roc_curve(Y,pred )\n",
    "    roc_auc = auc(fpr, tpr)\n",
    "    plt.plot(fpr, tpr, lw=1, label='ROC BDT (area = %0.4f)'%(roc_auc))\n",
    "    plt.plot([0, 1], [0, 1], '--', color=(0.6, 0.6, 0.6), label='no discrimination')\n",
    "    plt.xlim([-0.05, 1.05])\n",
    "    plt.ylim([0.8, 1.05])\n",
    "    plt.xlabel('False Positive Rate')\n",
    "    plt.ylabel('True Positive Rate')\n",
    "    plt.title('Receiver operating characteristic')\n",
    "    plt.legend(loc=\"lower right\")\n",
    "    plt.grid()\n",
    "    plt.show()\n",
    "\n"
   ]
  },
  {
   "cell_type": "code",
   "execution_count": 29,
   "metadata": {},
   "outputs": [],
   "source": [
    "def plot_training_classification(run_hist):\n",
    "    \"\"\"Plot the training history of the classification model.\"\"\"\n",
    "    fig, ax = plt.subplots(1,2, figsize=(20,6), sharex=True)\n",
    "    x = np.arange(len(run_hist[\"epoch_loss_train\"])) + 1\n",
    "    ax[0].plot(x, run_hist[\"epoch_loss_train\"],'b', marker='.', label=\"train loss\")\n",
    "    ax[0].plot(x, run_hist[\"epoch_loss_valid\"],'r', marker='.', label=\"valid loss\")\n",
    "    ax[0].legend()\n",
    "    ax[1].plot(x, run_hist[\"epoch_acc_train\"],'b', marker='.', label=\"train accuracy\")\n",
    "    ax[1].plot(x, run_hist[\"epoch_acc_valid\"],'r', marker='.', label=\"valid accuracy\")\n",
    "    ax[1].legend()\n"
   ]
  },
  {
   "cell_type": "code",
   "execution_count": 30,
   "metadata": {},
   "outputs": [
    {
     "data": {
      "image/png": "[encoded data removed]",
      "text/plain": [
       "<Figure size 1440x432 with 2 Axes>"
      ]
     },
     "metadata": {
      "needs_background": "light"
     },
     "output_type": "display_data"
    }
   ],
   "source": [
    "plot_training_classification(run_hist)"
   ]
  },
  {
   "cell_type": "code",
   "execution_count": 31,
   "metadata": {},
   "outputs": [
    {
     "data": {
      "image/png": "[encoded data removed]",
      "text/plain": [
       "<Figure size 432x432 with 1 Axes>"
      ]
     },
     "metadata": {
      "needs_background": "light"
     },
     "output_type": "display_data"
    }
   ],
   "source": [
    "print_roc(model,X_valid, Y_valid )"
   ]
  },
  {
   "cell_type": "code",
   "execution_count": 32,
   "metadata": {},
   "outputs": [
    {
     "name": "stdout",
     "output_type": "stream",
     "text": [
      "('input_layer.weight', Parameter containing:\n",
      "tensor([[-3.9981e-01,  7.3016e-02, -2.7410e-01, -3.7644e-03,  6.1933e-01,\n",
      "         -2.1195e-02,  3.7706e-01,  3.4614e-01,  1.5167e-02,  7.2129e-01,\n",
      "          6.4822e-02, -1.6074e-01,  1.2925e-01],\n",
      "        [ 4.1454e-01, -7.9823e-02,  1.2972e-01,  3.2421e-02,  3.8442e-02,\n",
      "         -2.2268e-01,  2.3165e-01,  3.4128e-01,  2.0116e-01,  1.6422e+00,\n",
      "          2.2097e-01, -6.5440e-02, -1.7688e-02],\n",
      "        [ 3.6455e-02,  4.1489e-03, -4.6833e-01,  3.2288e-02,  6.6997e-01,\n",
      "          1.0412e-01, -1.5957e-01,  3.8589e-01, -1.2943e-01,  1.5910e+00,\n",
      "          4.1948e-02,  1.4317e-01, -4.4266e-02],\n",
      "        [-3.0319e-01, -1.5058e-01, -3.6314e-02,  2.1771e-02,  3.5879e-01,\n",
      "         -2.0662e-02,  2.2894e-01,  3.1040e-01,  2.4922e-02,  5.0365e-01,\n",
      "         -4.5619e-02, -2.1305e-01, -2.7092e-01],\n",
      "        [-1.0799e-01, -1.2097e-01,  6.3307e-01, -2.5390e-02,  8.5079e-01,\n",
      "         -2.5889e-02,  2.5178e-01,  3.0788e-01,  2.6075e-02,  4.3367e-02,\n",
      "         -5.5284e-03,  4.1062e-02, -6.7433e-02],\n",
      "        [-8.9157e-02,  2.7888e-01, -3.6877e-02, -5.1037e-03, -4.3829e-01,\n",
      "         -1.6550e-02, -3.5245e-01, -5.0138e-01,  2.8448e-02, -2.1719e+00,\n",
      "         -1.4755e-01, -1.2706e-01, -2.2908e-01],\n",
      "        [-2.2608e-01, -2.3709e-01,  1.7223e-01, -2.7079e-03,  7.3689e-01,\n",
      "          1.4702e-01,  2.3004e-01, -9.3648e-01, -1.5840e-01,  3.7426e-01,\n",
      "          8.9005e-03, -1.3522e-01,  2.8727e-01],\n",
      "        [ 1.6583e-02, -6.7418e-02,  9.8807e-02,  1.9887e-02, -5.3919e-01,\n",
      "         -3.5870e-02,  3.7634e-02,  3.0672e-01,  5.5347e-02, -2.5934e+00,\n",
      "         -3.0575e-01, -1.7353e-01,  7.5234e-02],\n",
      "        [-8.4485e-04,  3.0045e-02, -2.3034e-01,  4.1549e-02,  1.0407e+00,\n",
      "         -2.0204e-02,  8.6750e-02, -1.6677e-01, -6.6022e-02,  3.9958e+00,\n",
      "          1.5155e-01,  1.9498e-01, -2.7537e-01],\n",
      "        [ 3.5611e-02,  2.6998e-01,  3.9302e-01,  3.1072e-02, -2.9962e-01,\n",
      "         -1.5719e-02, -1.1199e-01, -4.9971e-02, -8.2383e-02, -2.3668e+00,\n",
      "         -4.2785e-02,  1.3574e-01,  1.1725e-02],\n",
      "        [ 1.4054e-02,  8.6523e-02,  1.7911e-01, -3.9743e-02,  7.0354e-01,\n",
      "          1.9243e-01, -3.2562e-01,  2.1575e-01, -1.7971e-01,  1.7855e+00,\n",
      "          6.7244e-02,  1.1345e-01, -2.0910e-01],\n",
      "        [-1.3371e-01, -3.4694e-01,  8.9327e-02, -1.4801e-02, -3.7465e-01,\n",
      "          5.9000e-02,  5.2797e-01, -4.8014e-01, -5.2233e-02,  6.1392e-02,\n",
      "         -1.0190e-01, -1.2314e-01,  6.3695e-02],\n",
      "        [ 6.6331e-02,  1.1024e-01,  2.2037e-01, -8.9365e-03,  8.2539e-01,\n",
      "         -2.2155e-02, -1.7446e-01,  1.4313e-01,  8.3530e-02,  1.3319e+00,\n",
      "          2.6428e-01, -1.3647e-01,  4.3108e-01],\n",
      "        [ 7.0736e-02,  3.1999e-01, -5.2937e-01,  9.8280e-03,  4.5457e-01,\n",
      "         -9.6484e-02, -2.2148e-01, -1.1999e-01,  1.0963e-01, -1.3649e+00,\n",
      "         -4.5970e-02, -1.8990e-01, -1.4180e-01],\n",
      "        [ 1.3899e-01,  6.9971e-02,  1.9806e-02,  4.2546e-03,  5.7777e-02,\n",
      "          5.3717e-02,  5.5795e-02, -8.7809e-02, -8.1828e-02,  9.5136e-01,\n",
      "          4.0546e-01,  7.3742e-03,  4.3937e-02],\n",
      "        [-1.3846e-02,  3.3406e-01,  1.7101e-01,  6.2830e-03, -4.2481e-01,\n",
      "          1.7116e-01, -3.7120e-01,  3.5730e-01, -1.9272e-01, -1.8433e+00,\n",
      "          3.4021e-02, -2.3243e-03,  2.5584e-01],\n",
      "        [-1.4320e-01,  3.0979e-01, -7.3888e-01,  2.1952e-02, -8.4643e-02,\n",
      "         -1.5481e-01, -8.4240e-02, -2.7793e-01,  1.4664e-01, -7.1878e-01,\n",
      "          1.4694e-01, -7.3494e-02,  5.7677e-02],\n",
      "        [ 1.6486e-01,  3.8762e-01,  2.2188e-01,  1.3839e-03, -3.0209e-01,\n",
      "         -1.1858e-01, -3.3500e-01,  2.6251e-02,  1.2641e-01, -1.9379e+00,\n",
      "         -4.8961e-02, -1.5029e-01, -2.7537e-01],\n",
      "        [ 2.4973e-02, -4.3948e-02, -3.5075e-01,  4.0283e-03, -2.9023e-01,\n",
      "         -4.5378e-02,  2.0843e-01, -2.6655e-01,  8.6277e-02, -1.1546e+00,\n",
      "         -2.2458e-01, -2.7974e-01, -8.1442e-02],\n",
      "        [-2.4045e-01,  2.4527e-02, -2.7225e-01, -3.7359e-02,  7.5072e-01,\n",
      "          6.1748e-03, -1.1050e-01,  4.7290e-02, -2.7953e-03,  2.0204e+00,\n",
      "          8.8777e-02, -3.2116e-01, -1.9833e-01],\n",
      "        [ 1.8300e-01,  3.9094e-01,  4.6725e-01, -3.6613e-02,  2.0632e-01,\n",
      "          4.4654e-02, -3.5743e-01, -1.6266e-01, -2.6564e-02, -7.7219e-01,\n",
      "         -8.7943e-02, -1.8319e-01,  2.1025e-01],\n",
      "        [-5.0380e-02, -7.3182e-02,  2.3057e-01, -2.0800e-04,  1.0390e+00,\n",
      "          1.6007e-03, -9.2350e-02, -3.5889e-01,  1.4826e-02,  2.2919e+00,\n",
      "         -5.7380e-02,  2.1524e-01,  1.9004e-01],\n",
      "        [ 3.4238e-01,  6.3245e-01, -9.8250e-02,  5.2544e-04, -2.4250e-01,\n",
      "         -6.6822e-02, -1.7229e-01,  2.1254e-01,  7.0051e-02,  1.9842e-01,\n",
      "         -2.0091e-01,  1.7173e-01,  2.0646e-01],\n",
      "        [-8.9118e-02, -2.9962e-02, -4.0127e-01,  1.1312e-02,  6.8635e-01,\n",
      "         -3.6547e-03,  6.6791e-02,  4.9835e-01, -3.1440e-03,  2.1910e+00,\n",
      "          3.6411e-01,  1.1232e-01,  1.6737e-01],\n",
      "        [ 2.4127e-01,  5.7632e-02, -3.1924e-01,  3.7143e-04,  7.0246e-01,\n",
      "          1.8491e-01,  7.6124e-02,  5.1030e-01, -2.3079e-01,  1.8761e+00,\n",
      "          3.0953e-01, -9.2910e-02,  1.2602e-01],\n",
      "        [-1.8032e-01, -8.5334e-02,  2.6637e-01, -4.2940e-02,  9.1835e-01,\n",
      "          1.1636e-01, -1.1428e-01,  1.7797e-01, -9.8728e-02,  1.6769e+00,\n",
      "         -2.3194e-02, -1.7480e-01, -1.9187e-01],\n",
      "        [ 9.8639e-02,  1.3054e-01,  4.4026e-01, -7.3048e-03, -3.7713e-01,\n",
      "          9.1819e-02, -2.8546e-01, -4.4609e-01, -9.6892e-02, -1.9658e+00,\n",
      "         -1.3346e-01,  8.8683e-02, -1.6475e-01],\n",
      "        [-2.2870e-01,  8.6876e-02,  5.3480e-01,  3.4646e-03,  1.3069e+00,\n",
      "          4.4904e-02,  2.2488e-01, -5.1868e-01, -3.3646e-02,  2.4353e+00,\n",
      "          1.2483e-01,  2.8029e-02, -3.1571e-01],\n",
      "        [-6.3864e-02,  3.9718e-01, -2.5214e-01,  1.3951e-03, -2.3461e-01,\n",
      "         -4.3346e-02, -4.2879e-01, -9.7088e-01,  3.8257e-02,  1.7503e+00,\n",
      "          1.3165e-01,  1.4937e-01, -1.7302e-02],\n",
      "        [ 2.4957e-01,  1.6198e-01,  1.2168e-01,  6.5205e-02,  6.4679e-01,\n",
      "         -8.4753e-02,  2.4884e-01,  2.7239e-01,  3.9415e-02,  1.1710e+00,\n",
      "         -1.1611e-01, -2.1548e-02, -4.6301e-02],\n",
      "        [ 2.2635e-01,  6.9455e-02,  2.2488e-01,  2.0804e-02,  1.3390e+00,\n",
      "         -1.3543e-01,  2.7186e-01, -3.9997e-01,  1.3906e-01,  1.6058e+00,\n",
      "          2.6164e-01, -1.8750e-01,  1.5963e-01],\n",
      "        [-1.8939e-01,  5.2302e-02,  2.8918e-01,  2.9150e-02,  1.0826e+00,\n",
      "         -9.0035e-02, -2.3650e-01, -3.9472e-01,  9.0817e-02,  2.6544e+00,\n",
      "          3.2445e-01, -4.8846e-02,  1.8701e-01],\n",
      "        [ 2.7264e-01,  3.9096e-01, -1.6587e-01,  1.1345e-02,  2.1376e-01,\n",
      "         -8.3747e-02, -2.2044e-01,  6.0545e-01,  1.0940e-01, -1.4104e-02,\n",
      "          2.5072e-02, -2.1869e-01,  1.4944e-01],\n",
      "        [-1.9494e-01, -9.0736e-02, -4.7219e-01, -8.3755e-03, -2.7281e-01,\n",
      "          4.4912e-02,  4.2898e-02,  4.6661e-01, -4.9350e-02, -1.6173e+00,\n",
      "         -5.2191e-02, -4.2538e-02,  2.2285e-01],\n",
      "        [ 7.3373e-02, -1.5782e-01,  1.1861e-01,  8.5308e-03,  6.2149e-01,\n",
      "          4.9967e-02, -2.4747e-01, -7.5677e-02, -5.4741e-02,  2.1186e+00,\n",
      "          1.9260e-01,  3.8035e-02, -1.8224e-01],\n",
      "        [ 1.5283e-01,  8.9378e-02, -3.4658e-01, -1.6104e-01,  1.1798e+00,\n",
      "          2.4872e-02, -1.2671e-02,  1.9116e-01,  7.5720e-02,  2.3270e+00,\n",
      "          1.4646e-01,  3.5283e-02,  1.1686e-01],\n",
      "        [-7.5187e-02, -2.0915e-01, -5.5509e-01, -3.1098e-02,  7.9555e-01,\n",
      "          2.6878e-02,  1.9555e-01,  4.1138e-02,  2.0048e-03, -7.1655e-01,\n",
      "         -1.9236e-01, -1.7977e-01,  9.0767e-02],\n",
      "        [-2.8664e-01, -3.4839e-01,  4.9760e-02,  1.1921e-03, -4.2337e-01,\n",
      "          1.1950e-03,  4.0501e-01, -7.2618e-03, -3.5520e-03,  4.5423e-02,\n",
      "          5.3347e-02,  9.1065e-02,  2.6537e-01],\n",
      "        [-2.0928e-02, -5.8214e-02, -6.1023e-01, -2.7315e-03,  4.0382e-01,\n",
      "          6.7344e-02, -5.2838e-02,  1.5019e-01, -7.1562e-02, -1.0842e+00,\n",
      "          3.4732e-02, -1.8076e-03, -3.1465e-01],\n",
      "        [ 2.7359e-01,  9.8396e-02,  5.3279e-01,  1.7432e-02,  7.8374e-01,\n",
      "         -2.2311e-03,  6.2544e-02, -5.3782e-01, -7.5827e-03,  3.1154e-01,\n",
      "         -3.4259e-02, -3.0865e-01,  3.6758e-01]], device='cuda:0',\n",
      "       requires_grad=True))\n",
      "('input_layer.bias', Parameter containing:\n",
      "tensor([ 1.7466e-01, -7.0181e-02,  3.2272e-01, -3.2305e-02, -1.0336e-01,\n",
      "        -6.8303e-02,  2.5524e-01, -1.9978e-01, -1.2121e-01, -6.5559e-02,\n",
      "         2.6401e-01, -1.2478e-01,  3.0068e-01,  1.1818e-01,  2.3456e-01,\n",
      "         1.8435e-01,  1.2572e-01, -9.0144e-02,  1.0171e-01, -7.4308e-02,\n",
      "         1.9077e-02,  2.9957e-01, -2.5402e-01,  2.2873e-01,  3.4506e-01,\n",
      "         1.3628e-01,  1.1884e-01,  2.2305e-01, -1.4003e-01,  3.2430e-01,\n",
      "        -1.5955e-01,  2.3918e-01, -2.0525e-04,  1.6802e-01, -3.7214e-01,\n",
      "         3.1561e-01, -2.4803e-02,  3.7372e-02,  9.2784e-02,  1.1236e-01],\n",
      "       device='cuda:0', requires_grad=True))\n",
      "('layers.0.weight', Parameter containing:\n",
      "tensor([[ 0.2334,  0.1321,  0.0632,  ...,  0.1937,  0.0768, -0.1192],\n",
      "        [ 0.2008,  0.1068,  0.0294,  ..., -0.2107,  0.2016,  0.1588],\n",
      "        [ 0.0800,  0.1574, -0.0996,  ...,  0.0874, -0.1019,  0.0436],\n",
      "        ...,\n",
      "        [ 0.1740, -0.0758,  0.5130,  ..., -0.0795,  0.2879, -0.0769],\n",
      "        [-0.0514,  0.0633, -0.1866,  ...,  0.1489,  0.1230,  0.1084],\n",
      "        [ 0.2857,  0.0092,  0.1363,  ..., -0.1923,  0.1576,  0.0853]],\n",
      "       device='cuda:0', requires_grad=True))\n",
      "('layers.0.bias', Parameter containing:\n",
      "tensor([ 0.0080,  0.0983,  0.1270,  0.0106,  0.2211,  0.0480,  0.0457,  0.0445,\n",
      "         0.1465,  0.0892, -0.0430,  0.1644, -0.1634,  0.0847, -0.0704,  0.1792,\n",
      "        -0.0871,  0.0663, -0.0424,  0.1055,  0.0289, -0.0977,  0.2477,  0.0364,\n",
      "         0.1545,  0.0556,  0.1131, -0.1662,  0.1762, -0.0671], device='cuda:0',\n",
      "       requires_grad=True))\n",
      "('layers.1.weight', Parameter containing:\n",
      "tensor([[-2.9820e-02,  1.8363e-01, -6.4730e-02,  3.6255e-01, -1.1936e+00,\n",
      "         -1.5762e-01, -3.7671e-02,  6.4762e-02,  2.2497e-01,  2.0185e-01,\n",
      "          2.4650e-01,  7.0478e-02, -5.0453e-02, -2.6419e-01,  6.6856e-01,\n",
      "          1.2263e-01, -1.8442e-01,  1.4757e-01,  2.1322e-01, -5.8513e-01,\n",
      "          4.7460e-01, -9.2087e-02,  9.6818e-02, -1.2812e-03,  9.4771e-02,\n",
      "          6.7729e-03,  3.2275e-02,  1.4450e-01, -2.4911e-03,  1.8597e-01],\n",
      "        [ 4.7221e-02,  1.9204e-01, -3.1988e-02,  2.4940e-02, -1.3006e+00,\n",
      "         -2.4420e-01,  1.5867e-01,  5.7412e-02,  3.5004e-01,  4.9705e-01,\n",
      "          1.7942e-01,  3.1702e-01, -5.3217e-01, -3.9574e-01,  8.9539e-02,\n",
      "         -1.4616e-01, -7.8038e-01, -2.3821e-01, -4.5439e-02, -5.1104e-01,\n",
      "          5.4557e-01,  7.7168e-02,  3.5607e-01, -6.6305e-02,  2.8182e-01,\n",
      "         -1.9669e-01, -1.0937e-01,  6.8809e-03,  1.9545e-01, -9.6089e-02],\n",
      "        [ 7.3181e-02,  5.5213e-02,  9.3017e-03,  2.5447e-01, -7.2152e-01,\n",
      "          8.5434e-02,  1.2198e-01,  3.0435e-02,  1.2220e-01,  1.0773e-01,\n",
      "          1.8452e-01,  2.6875e-01, -1.1014e+00, -4.2704e-01,  3.3969e-01,\n",
      "          8.0344e-02, -3.3787e-01,  3.7923e-01,  3.9191e-01, -1.0871e-02,\n",
      "          1.7049e-02,  9.7118e-02, -9.3427e-03,  2.2273e-01,  1.1914e-01,\n",
      "         -4.8761e-02,  1.3929e-01,  1.5194e-02,  2.5614e-01,  3.0331e-01],\n",
      "        [ 8.3807e-02,  1.4654e-01,  1.0528e-01,  1.4916e-01, -4.8383e-01,\n",
      "          8.9478e-02,  8.4019e-02,  2.4375e-01,  1.2291e-01,  2.6766e-01,\n",
      "         -5.1582e-02,  3.2515e-01,  2.5081e-02,  3.1011e-01, -7.3761e-01,\n",
      "          1.2409e-01, -9.1461e-02, -4.5109e-01,  1.8987e-01,  1.7255e-01,\n",
      "          4.9424e-02, -1.0914e-02,  8.3346e-02,  8.6944e-04,  4.1640e-02,\n",
      "         -7.3334e-02,  1.0535e-01,  2.6808e-01,  3.0031e-01,  8.6862e-02],\n",
      "        [ 8.6922e-02, -1.7838e-01,  1.0801e-01, -3.2032e-02,  7.1264e-01,\n",
      "         -4.7045e-02,  1.4114e-01, -2.6358e-02,  1.0783e-01, -2.5311e-01,\n",
      "         -7.1274e-02, -1.1488e+00,  5.3239e-02,  1.7027e-01,  2.7353e-01,\n",
      "          1.3616e-01,  1.7050e-01,  8.3437e-01, -4.2575e-02,  4.5181e-01,\n",
      "          7.4972e-03, -2.3946e-03,  9.7088e-02,  4.3725e-02, -2.5628e-01,\n",
      "          2.6074e-01,  3.8725e-02,  8.3954e-03,  1.2611e-03,  7.9192e-02],\n",
      "        [-3.0761e-02,  1.5799e-01, -1.1402e-01,  8.6962e-02, -6.2812e-01,\n",
      "         -2.4248e-01,  2.5943e-01,  2.4389e-01,  8.1046e-02,  6.1606e-02,\n",
      "          1.2759e-01,  1.7859e-02,  1.1069e-01,  1.4317e-01,  6.1803e-01,\n",
      "          4.2089e-01, -2.2041e-01,  1.7953e-01, -1.1763e-01, -7.3898e-01,\n",
      "          5.7111e-01,  5.4469e-02,  2.1192e-01,  1.5288e-01,  1.0768e-01,\n",
      "          6.8835e-02, -3.6408e-02, -5.4639e-02, -1.6451e-01, -1.8167e-01],\n",
      "        [ 3.2741e-02,  8.1455e-02,  2.2273e-01,  1.2982e-01, -4.0169e-01,\n",
      "          2.3511e-01,  2.6209e-01,  3.1489e-02,  1.5250e-01,  8.8088e-02,\n",
      "          2.4526e-01, -1.0121e-01, -5.7450e-01, -2.4448e-01,  4.7489e-01,\n",
      "         -8.7216e-02, -5.9450e-03,  5.3067e-01,  3.1325e-01,  4.5717e-02,\n",
      "          3.7543e-02,  4.7073e-02,  1.2627e-01,  1.3659e-02,  4.4731e-02,\n",
      "          2.4161e-01,  1.2318e-01, -1.9402e-01, -3.6396e-02,  1.8041e-01],\n",
      "        [-9.5843e-02, -1.1699e-01,  7.1960e-02,  2.6533e-02, -1.7765e-01,\n",
      "          1.9633e-01,  2.8430e-01,  2.0022e-01, -3.1371e-03,  2.9380e-01,\n",
      "          1.5241e-01, -1.4849e-01, -1.7891e-01, -3.4238e-01,  1.0413e+00,\n",
      "         -3.8228e-02, -2.9189e-01,  6.8302e-01, -1.4273e-01, -1.5459e-01,\n",
      "          3.0713e-01, -7.6148e-03,  3.0983e-02,  1.3454e-02,  1.3289e-01,\n",
      "          1.2435e-01,  6.4338e-02, -1.1924e-01,  1.0810e-01,  9.6803e-02],\n",
      "        [ 1.2254e-01, -1.8863e-02,  6.1019e-02,  2.7129e-01, -2.3560e-01,\n",
      "         -3.0605e-02,  2.1587e-01,  6.5268e-02,  2.7337e-01,  1.4612e-02,\n",
      "          2.4111e-02, -8.8789e-02, -9.2259e-03, -3.5006e-01,  6.6531e-01,\n",
      "         -6.8987e-02, -1.9692e-01,  5.1597e-01,  4.5679e-02, -2.4522e-01,\n",
      "          1.0316e-01,  1.9801e-01,  1.1548e-01,  2.0001e-02, -5.6224e-02,\n",
      "          2.1699e-01,  6.7472e-02,  9.9012e-02,  1.1822e-01, -9.5161e-02],\n",
      "        [-2.1413e-01,  2.8943e-01,  1.8351e-01, -2.6980e-01, -3.2857e-02,\n",
      "         -9.0370e-02,  8.4238e-02,  1.2784e-01,  3.0312e-02, -2.0122e-01,\n",
      "          2.6246e-01,  1.7070e-01,  2.7915e-01,  1.0201e-02, -8.7878e-01,\n",
      "         -9.1968e-02,  2.3869e-01, -5.4741e-01,  9.9817e-02, -6.3483e-01,\n",
      "         -3.8151e-02,  9.9797e-02, -3.8658e-01, -1.7278e-02,  6.3844e-02,\n",
      "         -1.7260e-01, -2.0873e-01, -5.8186e-02,  2.5602e-01, -4.7399e-01],\n",
      "        [ 6.4200e-02,  1.7288e-01, -5.7252e-02,  1.4812e-01,  4.5695e-01,\n",
      "          1.5798e-01, -5.2512e-02, -9.9888e-02, -3.0414e-02,  1.5677e-01,\n",
      "          3.1327e-03,  1.9255e-01,  2.0667e-01,  4.4873e-01, -9.2935e-01,\n",
      "          8.3235e-02,  2.3024e-01, -6.0447e-01,  1.1884e-01,  2.3838e-01,\n",
      "         -2.2195e-01, -4.2100e-02, -6.3510e-02,  1.2364e-01,  1.9419e-01,\n",
      "         -3.1118e-02, -1.0472e-01,  1.3235e-02,  1.9811e-01,  3.6065e-02],\n",
      "        [-1.8816e-01,  7.0230e-02, -1.2815e-01,  1.7635e-02, -1.2911e-01,\n",
      "          9.6557e-02,  1.5577e-01,  3.5859e-02, -1.4901e-01,  6.7895e-02,\n",
      "          5.4788e-01,  2.4890e-01, -2.2547e-01, -7.0169e-01,  1.0230e+00,\n",
      "         -3.7742e-01, -8.2340e-01, -3.0091e-02, -4.2703e-02, -3.3587e-01,\n",
      "          4.2419e-01, -9.9746e-03,  1.7465e-01, -1.4309e-01,  1.0459e-01,\n",
      "         -1.0145e-01, -4.0192e-03, -7.2134e-01,  1.7808e-01, -5.9088e-02],\n",
      "        [ 1.4041e-01, -6.9421e-02,  1.6267e-01,  5.0738e-02, -5.5736e-01,\n",
      "          2.0561e-01, -3.1353e-02,  2.6695e-01,  3.4320e-01,  2.5193e-01,\n",
      "          1.1646e-01,  8.3293e-02, -6.6495e-01, -2.0995e-01,  5.0655e-01,\n",
      "          8.7295e-02, -3.2028e-01,  3.2548e-01,  1.2400e-01, -6.6172e-02,\n",
      "          7.3780e-02, -7.2315e-02, -1.5199e-02,  1.3379e-01,  1.0392e-01,\n",
      "          2.2447e-01,  1.8962e-02, -3.2548e-02,  5.6324e-02, -2.0096e-02],\n",
      "        [ 1.6126e-02,  6.8767e-02, -8.1160e-02,  8.8825e-02,  2.5191e-01,\n",
      "          8.5864e-02,  5.3124e-02,  2.3622e-01, -2.2598e-01, -1.6911e-01,\n",
      "         -3.6585e-01, -1.8302e-01,  9.5306e-02,  4.2441e-01, -6.5592e-01,\n",
      "          2.3856e-01,  1.9944e-01, -7.7678e-01,  9.6057e-02,  3.7792e-01,\n",
      "         -1.0946e-01,  7.0427e-02,  1.9956e-01,  5.9321e-02, -1.2894e-02,\n",
      "          5.6759e-02, -8.0246e-02,  1.1285e-01,  1.0180e-01,  8.2113e-02],\n",
      "        [ 8.2894e-02,  2.9465e-01,  2.9535e-01,  1.5085e-01,  3.0577e-01,\n",
      "          2.8389e-01,  1.7267e-01,  1.7482e-01,  1.1072e-01,  3.8437e-01,\n",
      "         -9.2638e-02,  4.7273e-01, -5.5835e-01, -3.2857e-02, -1.0374e+00,\n",
      "          2.1433e-01,  1.3897e-01, -5.3058e-01,  1.2407e-01,  3.0255e-01,\n",
      "          1.3924e-01,  1.4735e-02,  3.2974e-01,  1.0194e-01,  3.6802e-01,\n",
      "         -1.0626e-01,  1.7161e-02,  1.8698e-01,  9.5428e-02,  2.5065e-01],\n",
      "        [ 1.5258e-01, -1.0070e-02,  2.1174e-01, -2.2594e-01,  1.2470e-01,\n",
      "          2.8673e-01, -1.6541e-02,  8.3728e-02, -8.0163e-02,  3.0840e-01,\n",
      "          2.0233e-01,  1.0635e-01, -5.7936e-01, -1.5248e-01, -2.0452e-01,\n",
      "         -2.9254e-01, -3.4858e-01, -3.5601e-01, -1.0888e-01,  1.1731e-02,\n",
      "          1.6091e-01, -1.4666e-01, -3.2570e-02, -2.0779e-01, -1.0442e-01,\n",
      "         -5.7360e-02,  3.8833e-02, -5.6368e-01,  7.2636e-02, -1.7198e-01],\n",
      "        [ 2.4528e-01,  1.0642e-01,  6.8664e-02,  2.0737e-01, -1.0785e+00,\n",
      "          1.0277e-01,  5.9672e-02,  3.3361e-01,  2.5885e-01,  6.0128e-01,\n",
      "          1.5866e-01,  5.9536e-01, -1.3801e+00, -3.1506e-01,  3.9868e-01,\n",
      "         -5.3238e-02, -2.9858e-01,  1.5067e-02,  1.9917e-01,  1.0823e-01,\n",
      "          6.1381e-02,  1.8087e-01,  2.3851e-01, -4.4094e-02,  3.3042e-01,\n",
      "         -3.9631e-02, -1.5080e-02, -3.0134e-02,  2.9054e-01,  1.8583e-01],\n",
      "        [ 1.3437e-01,  1.7272e-02,  1.8736e-01,  1.5004e-01,  9.6395e-02,\n",
      "          2.0702e-01,  2.1585e-01, -1.9084e-03, -8.0626e-02,  3.5518e-02,\n",
      "          3.2595e-01,  3.3965e-02, -3.1944e-01, -1.9160e-01,  6.0982e-01,\n",
      "         -1.3113e-01, -1.2211e-01,  7.0531e-01,  2.4917e-01, -3.2076e-01,\n",
      "          2.4493e-01,  2.2066e-01, -1.9509e-02, -8.4889e-02, -1.0883e-01,\n",
      "         -8.7187e-02, -1.2368e-01,  8.4541e-02, -7.7997e-02,  2.4032e-01],\n",
      "        [-2.7457e-01,  1.0590e-01,  7.6138e-02,  6.9871e-02, -7.9969e-02,\n",
      "          7.0768e-02, -1.6852e-01,  1.6503e-01,  1.0488e-01,  3.0190e-02,\n",
      "         -4.5702e-03,  9.1779e-04,  2.9067e-01,  1.0314e-01, -1.0011e-01,\n",
      "         -4.7517e-01,  7.9480e-02, -2.9571e-01,  8.4072e-04,  1.0110e-01,\n",
      "         -5.0898e-02, -1.1989e-01, -2.0042e-01, -6.3702e-02,  1.2874e-02,\n",
      "         -3.4163e-01, -2.3190e-01, -4.6441e-02, -1.5179e-01, -6.3335e-04],\n",
      "        [-2.5331e-02,  5.8316e-02,  6.7345e-02,  1.3482e-01,  1.3029e-01,\n",
      "          3.9491e-03, -3.0365e-02, -9.8802e-02, -1.0035e-01,  5.4205e-02,\n",
      "          5.9577e-02, -2.3734e-01, -2.0327e-01, -8.7453e-02,  1.1673e+00,\n",
      "          4.7988e-02, -8.4641e-02,  7.3756e-01,  1.1474e-01, -4.6742e-01,\n",
      "          4.3525e-01,  2.4383e-01, -9.8214e-02,  2.7321e-02,  1.5804e-01,\n",
      "         -2.2254e-01,  2.8287e-02,  2.3090e-01, -2.2410e-01,  2.4060e-01]],\n",
      "       device='cuda:0', requires_grad=True))\n",
      "('layers.1.bias', Parameter containing:\n",
      "tensor([-0.0044,  0.1234,  0.1321,  0.0853, -0.1263, -0.0065, -0.0639,  0.0703,\n",
      "        -0.0331, -0.0960, -0.1039,  0.1660, -0.0889, -0.0208,  0.3688,  0.1367,\n",
      "         0.1975,  0.0809, -0.1549, -0.0310], device='cuda:0',\n",
      "       requires_grad=True))\n",
      "('layers.2.weight', Parameter containing:\n",
      "tensor([[ 0.2363,  0.1585, -0.0565,  0.2303, -0.7587,  0.2874, -0.1620, -0.4171,\n",
      "         -0.1434, -1.0702,  0.3181, -1.4550, -0.0615,  0.3233,  0.0608, -1.4169,\n",
      "          0.0247, -0.2626, -0.5011, -0.9914],\n",
      "        [-0.0708, -0.0550, -0.1360,  0.1558, -0.0675, -0.1754,  0.1625, -0.0145,\n",
      "         -0.0864, -0.1372,  0.0618,  0.0593, -0.1834,  0.0268, -0.1899,  0.0277,\n",
      "          0.0175, -0.0533,  0.1832, -0.1403],\n",
      "        [ 0.1270, -0.1089,  0.0554, -0.1701,  0.0170,  0.0184, -0.0530, -0.1028,\n",
      "         -0.1222,  0.1855,  0.0667, -0.1431, -0.1446,  0.0123,  0.0043,  0.1931,\n",
      "         -0.0598, -0.1811, -0.0431, -0.1810],\n",
      "        [-0.1890,  0.0896,  0.1615,  0.1558, -0.8888, -0.3989,  0.0348, -0.3059,\n",
      "         -0.1548, -0.5586,  0.3414, -0.4412,  0.0757,  0.1838,  0.2849, -0.4556,\n",
      "          0.2173, -0.0423,  0.2114, -1.0721],\n",
      "        [-0.0955,  0.1246, -0.1004, -0.1933, -0.0486,  0.2074,  0.0356, -0.1512,\n",
      "         -0.0166,  0.0125,  0.1756, -0.1456, -0.1282,  0.0216, -0.1526, -0.1091,\n",
      "         -0.0529, -0.0347,  0.0563, -0.1304],\n",
      "        [-0.0102, -0.1782, -0.2082,  0.0709, -0.1598, -0.1689,  0.0274, -0.1863,\n",
      "         -0.0444,  0.2473,  0.1485, -0.1898, -0.1363,  0.0255,  0.0096, -0.1062,\n",
      "         -0.2782,  0.0080,  0.2667, -0.1405],\n",
      "        [-0.1825, -0.1074, -0.1126, -0.0752,  0.2180,  0.1194, -0.2176,  0.2146,\n",
      "          0.1525, -0.9133,  0.1628, -0.8674, -0.3418, -0.1935, -0.0178, -0.4825,\n",
      "         -0.2366,  0.1461, -0.5674,  0.4477],\n",
      "        [ 0.5443,  0.3482,  0.3957,  0.1925, -0.1544,  0.2793,  0.2459,  0.4584,\n",
      "          0.2757,  0.2565, -0.3999,  1.2372,  0.3064, -0.5746,  0.1678,  0.4563,\n",
      "          0.3829,  0.2062,  0.3402,  0.5291],\n",
      "        [-0.0233, -0.0214,  0.1666, -0.0094, -0.0051,  0.1490, -0.1463,  0.1298,\n",
      "         -0.0105,  0.0256, -0.1325,  0.0339, -0.0452, -0.1095, -0.2044,  0.0055,\n",
      "         -0.1163, -0.2192, -0.1364, -0.1128],\n",
      "        [-0.1472, -0.1493, -0.0537,  0.1379,  0.0273,  0.0104,  0.1346, -0.0676,\n",
      "         -0.0722,  0.1414, -0.1155, -0.2207,  0.0761, -0.0242, -0.1841,  0.0856,\n",
      "         -0.1932,  0.1470, -0.1063, -0.2377]], device='cuda:0',\n",
      "       requires_grad=True))\n",
      "('layers.2.bias', Parameter containing:\n",
      "tensor([ 0.1165, -0.0219,  0.0497, -0.1325, -0.0599,  0.1514,  0.3592,  0.2179,\n",
      "        -0.2085,  0.0171], device='cuda:0', requires_grad=True))\n",
      "('output_layer.weight', Parameter containing:\n",
      "tensor([[-1.9295, -0.3124, -0.2173, -0.7469,  0.0425, -0.0486, -0.8281,  0.4817,\n",
      "         -0.2219, -0.2541],\n",
      "        [ 2.1232, -0.1116,  0.2684,  0.8034, -0.1299, -0.3403,  0.5486, -0.4050,\n",
      "          0.1430,  0.1551]], device='cuda:0', requires_grad=True))\n",
      "('output_layer.bias', Parameter containing:\n",
      "tensor([0.4077, 0.1101], device='cuda:0', requires_grad=True))\n"
     ]
    }
   ],
   "source": [
    "for param in model.named_parameters():\n",
    "  print(param)\n"
   ]
  },
  {
   "cell_type": "code",
   "execution_count": 33,
   "metadata": {},
   "outputs": [
    {
     "name": "stdout",
     "output_type": "stream",
     "text": [
      "n_params 2642\n"
     ]
    }
   ],
   "source": [
    "trenable_parameters = filter(lambda p: p.requires_grad, model.parameters())\n",
    "print(\"n_params\", sum([np.prod(p.size()) for p in trenable_parameters]) )"
   ]
  },
  {
   "cell_type": "code",
   "execution_count": 34,
   "metadata": {},
   "outputs": [],
   "source": [
    "torch.save({\n",
    "            'model_state_dict': model.state_dict(),\n",
    "            'optimizer_state_dict': optimizer.state_dict(),\n",
    "            'run_history':run_hist,\n",
    "            }, \".4NN.pt\")\n"
   ]
  },
  {
   "cell_type": "code",
   "execution_count": 35,
   "metadata": {},
   "outputs": [
    {
     "name": "stdout",
     "output_type": "stream",
     "text": [
      "\n",
      "Epoch 1/10\n",
      "----------\n"
     ]
    },
    {
     "data": {
      "application/vnd.jupyter.widget-view+json": {
       "model_id": "",
       "version_major": 2,
       "version_minor": 0
      },
      "text/plain": [
       "HBox(children=(IntProgress(value=0, max=40197), HTML(value='')))"
      ]
     },
     "metadata": {},
     "output_type": "display_data"
    },
    {
     "name": "stdout",
     "output_type": "stream",
     "text": [
      "\r",
      "train loss: 0.3560, train acc: 0.8657, elapsed:155.1411\n"
     ]
    },
    {
     "data": {
      "application/vnd.jupyter.widget-view+json": {
       "model_id": "",
       "version_major": 2,
       "version_minor": 0
      },
      "text/plain": [
       "HBox(children=(IntProgress(value=0, max=10050), HTML(value='')))"
      ]
     },
     "metadata": {},
     "output_type": "display_data"
    },
    {
     "name": "stdout",
     "output_type": "stream",
     "text": [
      "\r",
      "valid loss: 0.3545, valid acc: 0.8662, elapsed:18.1532\n",
      "\n",
      "Epoch 2/10\n",
      "----------\n"
     ]
    },
    {
     "data": {
      "application/vnd.jupyter.widget-view+json": {
       "model_id": "",
       "version_major": 2,
       "version_minor": 0
      },
      "text/plain": [
       "HBox(children=(IntProgress(value=0, max=40197), HTML(value='')))"
      ]
     },
     "metadata": {},
     "output_type": "display_data"
    },
    {
     "name": "stdout",
     "output_type": "stream",
     "text": [
      "\r",
      "train loss: 0.3552, train acc: 0.8658, elapsed:159.2431\n"
     ]
    },
    {
     "data": {
      "application/vnd.jupyter.widget-view+json": {
       "model_id": "",
       "version_major": 2,
       "version_minor": 0
      },
      "text/plain": [
       "HBox(children=(IntProgress(value=0, max=10050), HTML(value='')))"
      ]
     },
     "metadata": {},
     "output_type": "display_data"
    },
    {
     "name": "stdout",
     "output_type": "stream",
     "text": [
      "\r",
      "valid loss: 0.3558, valid acc: 0.8660, elapsed:18.2312\n",
      "\n",
      "Epoch 3/10\n",
      "----------\n"
     ]
    },
    {
     "data": {
      "application/vnd.jupyter.widget-view+json": {
       "model_id": "",
       "version_major": 2,
       "version_minor": 0
      },
      "text/plain": [
       "HBox(children=(IntProgress(value=0, max=40197), HTML(value='')))"
      ]
     },
     "metadata": {},
     "output_type": "display_data"
    },
    {
     "name": "stdout",
     "output_type": "stream",
     "text": [
      "\r",
      "train loss: 0.3545, train acc: 0.8659, elapsed:156.8989\n"
     ]
    },
    {
     "data": {
      "application/vnd.jupyter.widget-view+json": {
       "model_id": "",
       "version_major": 2,
       "version_minor": 0
      },
      "text/plain": [
       "HBox(children=(IntProgress(value=0, max=10050), HTML(value='')))"
      ]
     },
     "metadata": {},
     "output_type": "display_data"
    },
    {
     "name": "stdout",
     "output_type": "stream",
     "text": [
      "\r",
      "valid loss: 0.3534, valid acc: 0.8663, elapsed:18.2012\n",
      "\n",
      "Epoch 4/10\n",
      "----------\n"
     ]
    },
    {
     "data": {
      "application/vnd.jupyter.widget-view+json": {
       "model_id": "",
       "version_major": 2,
       "version_minor": 0
      },
      "text/plain": [
       "HBox(children=(IntProgress(value=0, max=40197), HTML(value='')))"
      ]
     },
     "metadata": {},
     "output_type": "display_data"
    },
    {
     "name": "stdout",
     "output_type": "stream",
     "text": [
      "\r",
      "train loss: 0.3537, train acc: 0.8660, elapsed:160.1084\n"
     ]
    },
    {
     "data": {
      "application/vnd.jupyter.widget-view+json": {
       "model_id": "",
       "version_major": 2,
       "version_minor": 0
      },
      "text/plain": [
       "HBox(children=(IntProgress(value=0, max=10050), HTML(value='')))"
      ]
     },
     "metadata": {},
     "output_type": "display_data"
    },
    {
     "name": "stdout",
     "output_type": "stream",
     "text": [
      "\r",
      "valid loss: 0.3524, valid acc: 0.8665, elapsed:19.9547\n",
      "\n",
      "Epoch 5/10\n",
      "----------\n"
     ]
    },
    {
     "data": {
      "application/vnd.jupyter.widget-view+json": {
       "model_id": "",
       "version_major": 2,
       "version_minor": 0
      },
      "text/plain": [
       "HBox(children=(IntProgress(value=0, max=40197), HTML(value='')))"
      ]
     },
     "metadata": {},
     "output_type": "display_data"
    },
    {
     "name": "stdout",
     "output_type": "stream",
     "text": [
      "\r",
      "train loss: 0.3530, train acc: 0.8660, elapsed:160.0925\n"
     ]
    },
    {
     "data": {
      "application/vnd.jupyter.widget-view+json": {
       "model_id": "",
       "version_major": 2,
       "version_minor": 0
      },
      "text/plain": [
       "HBox(children=(IntProgress(value=0, max=10050), HTML(value='')))"
      ]
     },
     "metadata": {},
     "output_type": "display_data"
    },
    {
     "name": "stdout",
     "output_type": "stream",
     "text": [
      "\r",
      "valid loss: 0.3530, valid acc: 0.8659, elapsed:17.9611\n",
      "\n",
      "Epoch 6/10\n",
      "----------\n"
     ]
    },
    {
     "data": {
      "application/vnd.jupyter.widget-view+json": {
       "model_id": "",
       "version_major": 2,
       "version_minor": 0
      },
      "text/plain": [
       "HBox(children=(IntProgress(value=0, max=40197), HTML(value='')))"
      ]
     },
     "metadata": {},
     "output_type": "display_data"
    },
    {
     "name": "stdout",
     "output_type": "stream",
     "text": [
      "\r",
      "train loss: 0.3523, train acc: 0.8660, elapsed:156.5634\n"
     ]
    },
    {
     "data": {
      "application/vnd.jupyter.widget-view+json": {
       "model_id": "",
       "version_major": 2,
       "version_minor": 0
      },
      "text/plain": [
       "HBox(children=(IntProgress(value=0, max=10050), HTML(value='')))"
      ]
     },
     "metadata": {},
     "output_type": "display_data"
    },
    {
     "name": "stdout",
     "output_type": "stream",
     "text": [
      "\r",
      "valid loss: 0.3518, valid acc: 0.8665, elapsed:18.1393\n",
      "\n",
      "Epoch 7/10\n",
      "----------\n"
     ]
    },
    {
     "data": {
      "application/vnd.jupyter.widget-view+json": {
       "model_id": "",
       "version_major": 2,
       "version_minor": 0
      },
      "text/plain": [
       "HBox(children=(IntProgress(value=0, max=40197), HTML(value='')))"
      ]
     },
     "metadata": {},
     "output_type": "display_data"
    },
    {
     "name": "stdout",
     "output_type": "stream",
     "text": [
      "\r",
      "train loss: 0.3516, train acc: 0.8661, elapsed:156.4206\n"
     ]
    },
    {
     "data": {
      "application/vnd.jupyter.widget-view+json": {
       "model_id": "",
       "version_major": 2,
       "version_minor": 0
      },
      "text/plain": [
       "HBox(children=(IntProgress(value=0, max=10050), HTML(value='')))"
      ]
     },
     "metadata": {},
     "output_type": "display_data"
    },
    {
     "name": "stdout",
     "output_type": "stream",
     "text": [
      "\r",
      "valid loss: 0.3510, valid acc: 0.8662, elapsed:18.0889\n",
      "\n",
      "Epoch 8/10\n",
      "----------\n"
     ]
    },
    {
     "data": {
      "application/vnd.jupyter.widget-view+json": {
       "model_id": "",
       "version_major": 2,
       "version_minor": 0
      },
      "text/plain": [
       "HBox(children=(IntProgress(value=0, max=40197), HTML(value='')))"
      ]
     },
     "metadata": {},
     "output_type": "display_data"
    },
    {
     "name": "stdout",
     "output_type": "stream",
     "text": [
      "\r",
      "train loss: 0.3509, train acc: 0.8662, elapsed:159.4737\n"
     ]
    },
    {
     "data": {
      "application/vnd.jupyter.widget-view+json": {
       "model_id": "",
       "version_major": 2,
       "version_minor": 0
      },
      "text/plain": [
       "HBox(children=(IntProgress(value=0, max=10050), HTML(value='')))"
      ]
     },
     "metadata": {},
     "output_type": "display_data"
    },
    {
     "name": "stdout",
     "output_type": "stream",
     "text": [
      "\r",
      "valid loss: 0.3503, valid acc: 0.8663, elapsed:17.9585\n",
      "\n",
      "Epoch 9/10\n",
      "----------\n"
     ]
    },
    {
     "data": {
      "application/vnd.jupyter.widget-view+json": {
       "model_id": "",
       "version_major": 2,
       "version_minor": 0
      },
      "text/plain": [
       "HBox(children=(IntProgress(value=0, max=40197), HTML(value='')))"
      ]
     },
     "metadata": {},
     "output_type": "display_data"
    },
    {
     "name": "stdout",
     "output_type": "stream",
     "text": [
      "\r",
      "train loss: 0.3503, train acc: 0.8663, elapsed:165.8316\n"
     ]
    },
    {
     "data": {
      "application/vnd.jupyter.widget-view+json": {
       "model_id": "",
       "version_major": 2,
       "version_minor": 0
      },
      "text/plain": [
       "HBox(children=(IntProgress(value=0, max=10050), HTML(value='')))"
      ]
     },
     "metadata": {},
     "output_type": "display_data"
    },
    {
     "name": "stdout",
     "output_type": "stream",
     "text": [
      "\r",
      "valid loss: 0.3491, valid acc: 0.8666, elapsed:18.0874\n",
      "\n",
      "Epoch 10/10\n",
      "----------\n"
     ]
    },
    {
     "data": {
      "application/vnd.jupyter.widget-view+json": {
       "model_id": "",
       "version_major": 2,
       "version_minor": 0
      },
      "text/plain": [
       "HBox(children=(IntProgress(value=0, max=40197), HTML(value='')))"
      ]
     },
     "metadata": {},
     "output_type": "display_data"
    },
    {
     "name": "stdout",
     "output_type": "stream",
     "text": [
      "\r",
      "train loss: 0.3497, train acc: 0.8664, elapsed:158.2179\n"
     ]
    },
    {
     "data": {
      "application/vnd.jupyter.widget-view+json": {
       "model_id": "",
       "version_major": 2,
       "version_minor": 0
      },
      "text/plain": [
       "HBox(children=(IntProgress(value=0, max=10050), HTML(value='')))"
      ]
     },
     "metadata": {},
     "output_type": "display_data"
    },
    {
     "name": "stdout",
     "output_type": "stream",
     "text": [
      "\r",
      "valid loss: 0.3488, valid acc: 0.8668, elapsed:18.2083\n",
      "training took:  1770.9811489430722\n"
     ]
    }
   ],
   "source": [
    "model, run_hist = train_and_valid_classification(model, criterion, optimizer,run_hist, num_epochs=10)"
   ]
  },
  {
   "cell_type": "code",
   "execution_count": 36,
   "metadata": {},
   "outputs": [
    {
     "data": {
      "image/png": "[encoded data removed]",
      "text/plain": [
       "<Figure size 1440x432 with 2 Axes>"
      ]
     },
     "metadata": {
      "needs_background": "light"
     },
     "output_type": "display_data"
    }
   ],
   "source": [
    "plot_training_classification(run_hist)"
   ]
  },
  {
   "cell_type": "code",
   "execution_count": 39,
   "metadata": {},
   "outputs": [
    {
     "data": {
      "image/png": "[encoded data removed]",
      "text/plain": [
       "<Figure size 432x432 with 1 Axes>"
      ]
     },
     "metadata": {
      "needs_background": "light"
     },
     "output_type": "display_data"
    }
   ],
   "source": [
    "print_roc(model,X_valid, Y_valid )"
   ]
  },
  {
   "cell_type": "code",
   "execution_count": 40,
   "metadata": {},
   "outputs": [
    {
     "name": "stdout",
     "output_type": "stream",
     "text": [
      "\n",
      "Epoch 1/20\n",
      "----------\n"
     ]
    },
    {
     "data": {
      "application/vnd.jupyter.widget-view+json": {
       "model_id": "",
       "version_major": 2,
       "version_minor": 0
      },
      "text/plain": [
       "HBox(children=(IntProgress(value=0, max=40197), HTML(value='')))"
      ]
     },
     "metadata": {},
     "output_type": "display_data"
    },
    {
     "name": "stdout",
     "output_type": "stream",
     "text": [
      "\r",
      "train loss: 0.3492, train acc: 0.8664, elapsed:160.3557\n"
     ]
    },
    {
     "data": {
      "application/vnd.jupyter.widget-view+json": {
       "model_id": "",
       "version_major": 2,
       "version_minor": 0
      },
      "text/plain": [
       "HBox(children=(IntProgress(value=0, max=10050), HTML(value='')))"
      ]
     },
     "metadata": {},
     "output_type": "display_data"
    },
    {
     "name": "stdout",
     "output_type": "stream",
     "text": [
      "\r",
      "valid loss: 0.3488, valid acc: 0.8665, elapsed:18.1312\n",
      "\n",
      "Epoch 2/20\n",
      "----------\n"
     ]
    },
    {
     "data": {
      "application/vnd.jupyter.widget-view+json": {
       "model_id": "",
       "version_major": 2,
       "version_minor": 0
      },
      "text/plain": [
       "HBox(children=(IntProgress(value=0, max=40197), HTML(value='')))"
      ]
     },
     "metadata": {},
     "output_type": "display_data"
    },
    {
     "name": "stdout",
     "output_type": "stream",
     "text": [
      "\r",
      "train loss: 0.3489, train acc: 0.8665, elapsed:160.5328\n"
     ]
    },
    {
     "data": {
      "application/vnd.jupyter.widget-view+json": {
       "model_id": "",
       "version_major": 2,
       "version_minor": 0
      },
      "text/plain": [
       "HBox(children=(IntProgress(value=0, max=10050), HTML(value='')))"
      ]
     },
     "metadata": {},
     "output_type": "display_data"
    },
    {
     "name": "stdout",
     "output_type": "stream",
     "text": [
      "\r",
      "valid loss: 0.3481, valid acc: 0.8669, elapsed:17.7742\n",
      "\n",
      "Epoch 3/20\n",
      "----------\n"
     ]
    },
    {
     "data": {
      "application/vnd.jupyter.widget-view+json": {
       "model_id": "",
       "version_major": 2,
       "version_minor": 0
      },
      "text/plain": [
       "HBox(children=(IntProgress(value=0, max=40197), HTML(value='')))"
      ]
     },
     "metadata": {},
     "output_type": "display_data"
    },
    {
     "name": "stdout",
     "output_type": "stream",
     "text": [
      "\r",
      "train loss: 0.3486, train acc: 0.8665, elapsed:159.7310\n"
     ]
    },
    {
     "data": {
      "application/vnd.jupyter.widget-view+json": {
       "model_id": "",
       "version_major": 2,
       "version_minor": 0
      },
      "text/plain": [
       "HBox(children=(IntProgress(value=0, max=10050), HTML(value='')))"
      ]
     },
     "metadata": {},
     "output_type": "display_data"
    },
    {
     "name": "stdout",
     "output_type": "stream",
     "text": [
      "\r",
      "valid loss: 0.3482, valid acc: 0.8668, elapsed:17.8366\n",
      "\n",
      "Epoch 4/20\n",
      "----------\n"
     ]
    },
    {
     "data": {
      "application/vnd.jupyter.widget-view+json": {
       "model_id": "",
       "version_major": 2,
       "version_minor": 0
      },
      "text/plain": [
       "HBox(children=(IntProgress(value=0, max=40197), HTML(value='')))"
      ]
     },
     "metadata": {},
     "output_type": "display_data"
    },
    {
     "name": "stdout",
     "output_type": "stream",
     "text": [
      "\r",
      "train loss: 0.3484, train acc: 0.8666, elapsed:162.0598\n"
     ]
    },
    {
     "data": {
      "application/vnd.jupyter.widget-view+json": {
       "model_id": "",
       "version_major": 2,
       "version_minor": 0
      },
      "text/plain": [
       "HBox(children=(IntProgress(value=0, max=10050), HTML(value='')))"
      ]
     },
     "metadata": {},
     "output_type": "display_data"
    },
    {
     "name": "stdout",
     "output_type": "stream",
     "text": [
      "\r",
      "valid loss: 0.3480, valid acc: 0.8669, elapsed:21.1857\n",
      "\n",
      "Epoch 5/20\n",
      "----------\n"
     ]
    },
    {
     "data": {
      "application/vnd.jupyter.widget-view+json": {
       "model_id": "",
       "version_major": 2,
       "version_minor": 0
      },
      "text/plain": [
       "HBox(children=(IntProgress(value=0, max=40197), HTML(value='')))"
      ]
     },
     "metadata": {},
     "output_type": "display_data"
    },
    {
     "name": "stdout",
     "output_type": "stream",
     "text": [
      "\r",
      "train loss: 0.3481, train acc: 0.8666, elapsed:160.8344\n"
     ]
    },
    {
     "data": {
      "application/vnd.jupyter.widget-view+json": {
       "model_id": "",
       "version_major": 2,
       "version_minor": 0
      },
      "text/plain": [
       "HBox(children=(IntProgress(value=0, max=10050), HTML(value='')))"
      ]
     },
     "metadata": {},
     "output_type": "display_data"
    },
    {
     "name": "stdout",
     "output_type": "stream",
     "text": [
      "\r",
      "valid loss: 0.3476, valid acc: 0.8667, elapsed:18.2009\n",
      "\n",
      "Epoch 6/20\n",
      "----------\n"
     ]
    },
    {
     "data": {
      "application/vnd.jupyter.widget-view+json": {
       "model_id": "",
       "version_major": 2,
       "version_minor": 0
      },
      "text/plain": [
       "HBox(children=(IntProgress(value=0, max=40197), HTML(value='')))"
      ]
     },
     "metadata": {},
     "output_type": "display_data"
    },
    {
     "name": "stdout",
     "output_type": "stream",
     "text": [
      "\r",
      "train loss: 0.3479, train acc: 0.8666, elapsed:160.4524\n"
     ]
    },
    {
     "data": {
      "application/vnd.jupyter.widget-view+json": {
       "model_id": "",
       "version_major": 2,
       "version_minor": 0
      },
      "text/plain": [
       "HBox(children=(IntProgress(value=0, max=10050), HTML(value='')))"
      ]
     },
     "metadata": {},
     "output_type": "display_data"
    },
    {
     "name": "stdout",
     "output_type": "stream",
     "text": [
      "\r",
      "valid loss: 0.3474, valid acc: 0.8670, elapsed:19.6636\n",
      "\n",
      "Epoch 7/20\n",
      "----------\n"
     ]
    },
    {
     "data": {
      "application/vnd.jupyter.widget-view+json": {
       "model_id": "",
       "version_major": 2,
       "version_minor": 0
      },
      "text/plain": [
       "HBox(children=(IntProgress(value=0, max=40197), HTML(value='')))"
      ]
     },
     "metadata": {},
     "output_type": "display_data"
    },
    {
     "name": "stdout",
     "output_type": "stream",
     "text": [
      "\r",
      "train loss: 0.3477, train acc: 0.8667, elapsed:159.3825\n"
     ]
    },
    {
     "data": {
      "application/vnd.jupyter.widget-view+json": {
       "model_id": "",
       "version_major": 2,
       "version_minor": 0
      },
      "text/plain": [
       "HBox(children=(IntProgress(value=0, max=10050), HTML(value='')))"
      ]
     },
     "metadata": {},
     "output_type": "display_data"
    },
    {
     "name": "stdout",
     "output_type": "stream",
     "text": [
      "\r",
      "valid loss: 0.3483, valid acc: 0.8669, elapsed:18.0474\n",
      "\n",
      "Epoch 8/20\n",
      "----------\n"
     ]
    },
    {
     "data": {
      "application/vnd.jupyter.widget-view+json": {
       "model_id": "",
       "version_major": 2,
       "version_minor": 0
      },
      "text/plain": [
       "HBox(children=(IntProgress(value=0, max=40197), HTML(value='')))"
      ]
     },
     "metadata": {},
     "output_type": "display_data"
    },
    {
     "name": "stdout",
     "output_type": "stream",
     "text": [
      "\r",
      "train loss: 0.3476, train acc: 0.8668, elapsed:162.8943\n"
     ]
    },
    {
     "data": {
      "application/vnd.jupyter.widget-view+json": {
       "model_id": "",
       "version_major": 2,
       "version_minor": 0
      },
      "text/plain": [
       "HBox(children=(IntProgress(value=0, max=10050), HTML(value='')))"
      ]
     },
     "metadata": {},
     "output_type": "display_data"
    },
    {
     "name": "stdout",
     "output_type": "stream",
     "text": [
      "\r",
      "valid loss: 0.3471, valid acc: 0.8669, elapsed:18.2711\n",
      "\n",
      "Epoch 9/20\n",
      "----------\n"
     ]
    },
    {
     "data": {
      "application/vnd.jupyter.widget-view+json": {
       "model_id": "",
       "version_major": 2,
       "version_minor": 0
      },
      "text/plain": [
       "HBox(children=(IntProgress(value=0, max=40197), HTML(value='')))"
      ]
     },
     "metadata": {},
     "output_type": "display_data"
    },
    {
     "name": "stdout",
     "output_type": "stream",
     "text": [
      "\r",
      "train loss: 0.3474, train acc: 0.8667, elapsed:158.2175\n"
     ]
    },
    {
     "data": {
      "application/vnd.jupyter.widget-view+json": {
       "model_id": "",
       "version_major": 2,
       "version_minor": 0
      },
      "text/plain": [
       "HBox(children=(IntProgress(value=0, max=10050), HTML(value='')))"
      ]
     },
     "metadata": {},
     "output_type": "display_data"
    },
    {
     "name": "stdout",
     "output_type": "stream",
     "text": [
      "\r",
      "valid loss: 0.3471, valid acc: 0.8669, elapsed:18.1890\n",
      "\n",
      "Epoch 10/20\n",
      "----------\n"
     ]
    },
    {
     "data": {
      "application/vnd.jupyter.widget-view+json": {
       "model_id": "",
       "version_major": 2,
       "version_minor": 0
      },
      "text/plain": [
       "HBox(children=(IntProgress(value=0, max=40197), HTML(value='')))"
      ]
     },
     "metadata": {},
     "output_type": "display_data"
    },
    {
     "name": "stdout",
     "output_type": "stream",
     "text": [
      "\r",
      "train loss: 0.3473, train acc: 0.8668, elapsed:159.7398\n"
     ]
    },
    {
     "data": {
      "application/vnd.jupyter.widget-view+json": {
       "model_id": "",
       "version_major": 2,
       "version_minor": 0
      },
      "text/plain": [
       "HBox(children=(IntProgress(value=0, max=10050), HTML(value='')))"
      ]
     },
     "metadata": {},
     "output_type": "display_data"
    },
    {
     "name": "stdout",
     "output_type": "stream",
     "text": [
      "\r",
      "valid loss: 0.3465, valid acc: 0.8671, elapsed:18.2681\n",
      "\n",
      "Epoch 11/20\n",
      "----------\n"
     ]
    },
    {
     "data": {
      "application/vnd.jupyter.widget-view+json": {
       "model_id": "",
       "version_major": 2,
       "version_minor": 0
      },
      "text/plain": [
       "HBox(children=(IntProgress(value=0, max=40197), HTML(value='')))"
      ]
     },
     "metadata": {},
     "output_type": "display_data"
    },
    {
     "name": "stdout",
     "output_type": "stream",
     "text": [
      "\r",
      "train loss: 0.3471, train acc: 0.8669, elapsed:164.8795\n"
     ]
    },
    {
     "data": {
      "application/vnd.jupyter.widget-view+json": {
       "model_id": "",
       "version_major": 2,
       "version_minor": 0
      },
      "text/plain": [
       "HBox(children=(IntProgress(value=0, max=10050), HTML(value='')))"
      ]
     },
     "metadata": {},
     "output_type": "display_data"
    },
    {
     "name": "stdout",
     "output_type": "stream",
     "text": [
      "\r",
      "valid loss: 0.3472, valid acc: 0.8670, elapsed:18.0346\n",
      "\n",
      "Epoch 12/20\n",
      "----------\n"
     ]
    },
    {
     "data": {
      "application/vnd.jupyter.widget-view+json": {
       "model_id": "",
       "version_major": 2,
       "version_minor": 0
      },
      "text/plain": [
       "HBox(children=(IntProgress(value=0, max=40197), HTML(value='')))"
      ]
     },
     "metadata": {},
     "output_type": "display_data"
    },
    {
     "name": "stdout",
     "output_type": "stream",
     "text": [
      "\r",
      "train loss: 0.3470, train acc: 0.8669, elapsed:156.8019\n"
     ]
    },
    {
     "data": {
      "application/vnd.jupyter.widget-view+json": {
       "model_id": "",
       "version_major": 2,
       "version_minor": 0
      },
      "text/plain": [
       "HBox(children=(IntProgress(value=0, max=10050), HTML(value='')))"
      ]
     },
     "metadata": {},
     "output_type": "display_data"
    },
    {
     "name": "stdout",
     "output_type": "stream",
     "text": [
      "\r",
      "valid loss: 0.3465, valid acc: 0.8671, elapsed:17.9916\n",
      "\n",
      "Epoch 13/20\n",
      "----------\n"
     ]
    },
    {
     "data": {
      "application/vnd.jupyter.widget-view+json": {
       "model_id": "",
       "version_major": 2,
       "version_minor": 0
      },
      "text/plain": [
       "HBox(children=(IntProgress(value=0, max=40197), HTML(value='')))"
      ]
     },
     "metadata": {},
     "output_type": "display_data"
    },
    {
     "name": "stdout",
     "output_type": "stream",
     "text": [
      "\r",
      "train loss: 0.3469, train acc: 0.8669, elapsed:162.0730\n"
     ]
    },
    {
     "data": {
      "application/vnd.jupyter.widget-view+json": {
       "model_id": "",
       "version_major": 2,
       "version_minor": 0
      },
      "text/plain": [
       "HBox(children=(IntProgress(value=0, max=10050), HTML(value='')))"
      ]
     },
     "metadata": {},
     "output_type": "display_data"
    },
    {
     "name": "stdout",
     "output_type": "stream",
     "text": [
      "\r",
      "valid loss: 0.3463, valid acc: 0.8673, elapsed:18.2067\n",
      "\n",
      "Epoch 14/20\n",
      "----------\n"
     ]
    },
    {
     "data": {
      "application/vnd.jupyter.widget-view+json": {
       "model_id": "",
       "version_major": 2,
       "version_minor": 0
      },
      "text/plain": [
       "HBox(children=(IntProgress(value=0, max=40197), HTML(value='')))"
      ]
     },
     "metadata": {},
     "output_type": "display_data"
    },
    {
     "name": "stdout",
     "output_type": "stream",
     "text": [
      "\r",
      "train loss: 0.3468, train acc: 0.8670, elapsed:160.3380\n"
     ]
    },
    {
     "data": {
      "application/vnd.jupyter.widget-view+json": {
       "model_id": "",
       "version_major": 2,
       "version_minor": 0
      },
      "text/plain": [
       "HBox(children=(IntProgress(value=0, max=10050), HTML(value='')))"
      ]
     },
     "metadata": {},
     "output_type": "display_data"
    },
    {
     "name": "stdout",
     "output_type": "stream",
     "text": [
      "\r",
      "valid loss: 0.3464, valid acc: 0.8671, elapsed:18.8458\n",
      "\n",
      "Epoch 15/20\n",
      "----------\n"
     ]
    },
    {
     "data": {
      "application/vnd.jupyter.widget-view+json": {
       "model_id": "",
       "version_major": 2,
       "version_minor": 0
      },
      "text/plain": [
       "HBox(children=(IntProgress(value=0, max=40197), HTML(value='')))"
      ]
     },
     "metadata": {},
     "output_type": "display_data"
    },
    {
     "name": "stdout",
     "output_type": "stream",
     "text": [
      "\r",
      "train loss: 0.3467, train acc: 0.8670, elapsed:158.2872\n"
     ]
    },
    {
     "data": {
      "application/vnd.jupyter.widget-view+json": {
       "model_id": "",
       "version_major": 2,
       "version_minor": 0
      },
      "text/plain": [
       "HBox(children=(IntProgress(value=0, max=10050), HTML(value='')))"
      ]
     },
     "metadata": {},
     "output_type": "display_data"
    },
    {
     "name": "stdout",
     "output_type": "stream",
     "text": [
      "\r",
      "valid loss: 0.3462, valid acc: 0.8672, elapsed:18.1173\n",
      "\n",
      "Epoch 16/20\n",
      "----------\n"
     ]
    },
    {
     "data": {
      "application/vnd.jupyter.widget-view+json": {
       "model_id": "",
       "version_major": 2,
       "version_minor": 0
      },
      "text/plain": [
       "HBox(children=(IntProgress(value=0, max=40197), HTML(value='')))"
      ]
     },
     "metadata": {},
     "output_type": "display_data"
    },
    {
     "name": "stdout",
     "output_type": "stream",
     "text": [
      "\r",
      "train loss: 0.3466, train acc: 0.8670, elapsed:161.9852\n"
     ]
    },
    {
     "data": {
      "application/vnd.jupyter.widget-view+json": {
       "model_id": "",
       "version_major": 2,
       "version_minor": 0
      },
      "text/plain": [
       "HBox(children=(IntProgress(value=0, max=10050), HTML(value='')))"
      ]
     },
     "metadata": {},
     "output_type": "display_data"
    },
    {
     "name": "stdout",
     "output_type": "stream",
     "text": [
      "\r",
      "valid loss: 0.3463, valid acc: 0.8673, elapsed:18.5046\n",
      "\n",
      "Epoch 17/20\n",
      "----------\n"
     ]
    },
    {
     "data": {
      "application/vnd.jupyter.widget-view+json": {
       "model_id": "",
       "version_major": 2,
       "version_minor": 0
      },
      "text/plain": [
       "HBox(children=(IntProgress(value=0, max=40197), HTML(value='')))"
      ]
     },
     "metadata": {},
     "output_type": "display_data"
    },
    {
     "name": "stdout",
     "output_type": "stream",
     "text": [
      "\r",
      "train loss: 0.3465, train acc: 0.8669, elapsed:164.9676\n"
     ]
    },
    {
     "data": {
      "application/vnd.jupyter.widget-view+json": {
       "model_id": "",
       "version_major": 2,
       "version_minor": 0
      },
      "text/plain": [
       "HBox(children=(IntProgress(value=0, max=10050), HTML(value='')))"
      ]
     },
     "metadata": {},
     "output_type": "display_data"
    },
    {
     "name": "stdout",
     "output_type": "stream",
     "text": [
      "\r",
      "valid loss: 0.3469, valid acc: 0.8672, elapsed:20.0162\n",
      "\n",
      "Epoch 18/20\n",
      "----------\n"
     ]
    },
    {
     "data": {
      "application/vnd.jupyter.widget-view+json": {
       "model_id": "",
       "version_major": 2,
       "version_minor": 0
      },
      "text/plain": [
       "HBox(children=(IntProgress(value=0, max=40197), HTML(value='')))"
      ]
     },
     "metadata": {},
     "output_type": "display_data"
    },
    {
     "name": "stdout",
     "output_type": "stream",
     "text": [
      "\r",
      "train loss: 0.3465, train acc: 0.8670, elapsed:159.9546\n"
     ]
    },
    {
     "data": {
      "application/vnd.jupyter.widget-view+json": {
       "model_id": "",
       "version_major": 2,
       "version_minor": 0
      },
      "text/plain": [
       "HBox(children=(IntProgress(value=0, max=10050), HTML(value='')))"
      ]
     },
     "metadata": {},
     "output_type": "display_data"
    },
    {
     "name": "stdout",
     "output_type": "stream",
     "text": [
      "\r",
      "valid loss: 0.3458, valid acc: 0.8673, elapsed:21.7116\n",
      "\n",
      "Epoch 19/20\n",
      "----------\n"
     ]
    },
    {
     "data": {
      "application/vnd.jupyter.widget-view+json": {
       "model_id": "",
       "version_major": 2,
       "version_minor": 0
      },
      "text/plain": [
       "HBox(children=(IntProgress(value=0, max=40197), HTML(value='')))"
      ]
     },
     "metadata": {},
     "output_type": "display_data"
    },
    {
     "name": "stdout",
     "output_type": "stream",
     "text": [
      "\r",
      "train loss: 0.3464, train acc: 0.8670, elapsed:164.3891\n"
     ]
    },
    {
     "data": {
      "application/vnd.jupyter.widget-view+json": {
       "model_id": "",
       "version_major": 2,
       "version_minor": 0
      },
      "text/plain": [
       "HBox(children=(IntProgress(value=0, max=10050), HTML(value='')))"
      ]
     },
     "metadata": {},
     "output_type": "display_data"
    },
    {
     "name": "stdout",
     "output_type": "stream",
     "text": [
      "\r",
      "valid loss: 0.3456, valid acc: 0.8673, elapsed:20.5289\n",
      "\n",
      "Epoch 20/20\n",
      "----------\n"
     ]
    },
    {
     "data": {
      "application/vnd.jupyter.widget-view+json": {
       "model_id": "",
       "version_major": 2,
       "version_minor": 0
      },
      "text/plain": [
       "HBox(children=(IntProgress(value=0, max=40197), HTML(value='')))"
      ]
     },
     "metadata": {},
     "output_type": "display_data"
    },
    {
     "name": "stdout",
     "output_type": "stream",
     "text": [
      "\r",
      "train loss: 0.3463, train acc: 0.8670, elapsed:159.8643\n"
     ]
    },
    {
     "data": {
      "application/vnd.jupyter.widget-view+json": {
       "model_id": "",
       "version_major": 2,
       "version_minor": 0
      },
      "text/plain": [
       "HBox(children=(IntProgress(value=0, max=10050), HTML(value='')))"
      ]
     },
     "metadata": {},
     "output_type": "display_data"
    },
    {
     "name": "stdout",
     "output_type": "stream",
     "text": [
      "\r",
      "valid loss: 0.3459, valid acc: 0.8672, elapsed:18.1273\n",
      "training took:  3593.4034817200154\n"
     ]
    }
   ],
   "source": [
    "model, run_hist = train_and_valid_classification(model, criterion, optimizer,run_hist, num_epochs=20)"
   ]
  },
  {
   "cell_type": "code",
   "execution_count": 41,
   "metadata": {},
   "outputs": [
    {
     "data": {
      "image/png": "[encoded data removed]",
      "text/plain": [
       "<Figure size 1440x432 with 2 Axes>"
      ]
     },
     "metadata": {
      "needs_background": "light"
     },
     "output_type": "display_data"
    }
   ],
   "source": [
    "plot_training_classification(run_hist)"
   ]
  },
  {
   "cell_type": "code",
   "execution_count": 42,
   "metadata": {},
   "outputs": [
    {
     "data": {
      "image/png": "[encoded data removed]",
      "text/plain": [
       "<Figure size 432x432 with 1 Axes>"
      ]
     },
     "metadata": {
      "needs_background": "light"
     },
     "output_type": "display_data"
    }
   ],
   "source": [
    "print_roc(model,X_valid, Y_valid )"
   ]
  },
  {
   "cell_type": "code",
   "execution_count": 43,
   "metadata": {},
   "outputs": [],
   "source": [
    "torch.save({\n",
    "            'model_state_dict': model.state_dict(),\n",
    "            'optimizer_state_dict': optimizer.state_dict(),\n",
    "            'run_history':run_hist,\n",
    "            }, \".4NN_2.pt\")\n"
   ]
  },
  {
   "cell_type": "code",
   "execution_count": 46,
   "metadata": {},
   "outputs": [],
   "source": [
    "learning_rate = 5e-5\n",
    "optimizer_2 = torch.optim.Adam(model.parameters(), lr=learning_rate)"
   ]
  },
  {
   "cell_type": "code",
   "execution_count": 47,
   "metadata": {},
   "outputs": [
    {
     "name": "stdout",
     "output_type": "stream",
     "text": [
      "\n",
      "Epoch 1/10\n",
      "----------\n"
     ]
    },
    {
     "data": {
      "application/vnd.jupyter.widget-view+json": {
       "model_id": "",
       "version_major": 2,
       "version_minor": 0
      },
      "text/plain": [
       "HBox(children=(IntProgress(value=0, max=40197), HTML(value='')))"
      ]
     },
     "metadata": {},
     "output_type": "display_data"
    },
    {
     "name": "stdout",
     "output_type": "stream",
     "text": [
      "train loss: 0.3454, train acc: 0.8672, elapsed:164.9140\n"
     ]
    },
    {
     "data": {
      "application/vnd.jupyter.widget-view+json": {
       "model_id": "",
       "version_major": 2,
       "version_minor": 0
      },
      "text/plain": [
       "HBox(children=(IntProgress(value=0, max=10050), HTML(value='')))"
      ]
     },
     "metadata": {},
     "output_type": "display_data"
    },
    {
     "name": "stdout",
     "output_type": "stream",
     "text": [
      "valid loss: 0.3449, valid acc: 0.8675, elapsed:18.5357\n",
      "\n",
      "Epoch 2/10\n",
      "----------\n"
     ]
    },
    {
     "data": {
      "application/vnd.jupyter.widget-view+json": {
       "model_id": "",
       "version_major": 2,
       "version_minor": 0
      },
      "text/plain": [
       "HBox(children=(IntProgress(value=0, max=40197), HTML(value='')))"
      ]
     },
     "metadata": {},
     "output_type": "display_data"
    },
    {
     "name": "stdout",
     "output_type": "stream",
     "text": [
      "train loss: 0.3454, train acc: 0.8672, elapsed:167.9571\n"
     ]
    },
    {
     "data": {
      "application/vnd.jupyter.widget-view+json": {
       "model_id": "",
       "version_major": 2,
       "version_minor": 0
      },
      "text/plain": [
       "HBox(children=(IntProgress(value=0, max=10050), HTML(value='')))"
      ]
     },
     "metadata": {},
     "output_type": "display_data"
    },
    {
     "name": "stdout",
     "output_type": "stream",
     "text": [
      "valid loss: 0.3453, valid acc: 0.8674, elapsed:20.6009\n",
      "\n",
      "Epoch 3/10\n",
      "----------\n"
     ]
    },
    {
     "data": {
      "application/vnd.jupyter.widget-view+json": {
       "model_id": "",
       "version_major": 2,
       "version_minor": 0
      },
      "text/plain": [
       "HBox(children=(IntProgress(value=0, max=40197), HTML(value='')))"
      ]
     },
     "metadata": {},
     "output_type": "display_data"
    },
    {
     "name": "stdout",
     "output_type": "stream",
     "text": [
      "train loss: 0.3454, train acc: 0.8673, elapsed:170.0375\n"
     ]
    },
    {
     "data": {
      "application/vnd.jupyter.widget-view+json": {
       "model_id": "",
       "version_major": 2,
       "version_minor": 0
      },
      "text/plain": [
       "HBox(children=(IntProgress(value=0, max=10050), HTML(value='')))"
      ]
     },
     "metadata": {},
     "output_type": "display_data"
    },
    {
     "name": "stdout",
     "output_type": "stream",
     "text": [
      "valid loss: 0.3449, valid acc: 0.8675, elapsed:18.8440\n",
      "\n",
      "Epoch 4/10\n",
      "----------\n"
     ]
    },
    {
     "data": {
      "application/vnd.jupyter.widget-view+json": {
       "model_id": "",
       "version_major": 2,
       "version_minor": 0
      },
      "text/plain": [
       "HBox(children=(IntProgress(value=0, max=40197), HTML(value='')))"
      ]
     },
     "metadata": {},
     "output_type": "display_data"
    },
    {
     "name": "stdout",
     "output_type": "stream",
     "text": [
      "train loss: 0.3454, train acc: 0.8673, elapsed:162.3280\n"
     ]
    },
    {
     "data": {
      "application/vnd.jupyter.widget-view+json": {
       "model_id": "",
       "version_major": 2,
       "version_minor": 0
      },
      "text/plain": [
       "HBox(children=(IntProgress(value=0, max=10050), HTML(value='')))"
      ]
     },
     "metadata": {},
     "output_type": "display_data"
    },
    {
     "name": "stdout",
     "output_type": "stream",
     "text": [
      "valid loss: 0.3449, valid acc: 0.8675, elapsed:18.9834\n",
      "\n",
      "Epoch 5/10\n",
      "----------\n"
     ]
    },
    {
     "data": {
      "application/vnd.jupyter.widget-view+json": {
       "model_id": "",
       "version_major": 2,
       "version_minor": 0
      },
      "text/plain": [
       "HBox(children=(IntProgress(value=0, max=40197), HTML(value='')))"
      ]
     },
     "metadata": {},
     "output_type": "display_data"
    },
    {
     "name": "stdout",
     "output_type": "stream",
     "text": [
      "train loss: 0.3453, train acc: 0.8673, elapsed:164.4092\n"
     ]
    },
    {
     "data": {
      "application/vnd.jupyter.widget-view+json": {
       "model_id": "",
       "version_major": 2,
       "version_minor": 0
      },
      "text/plain": [
       "HBox(children=(IntProgress(value=0, max=10050), HTML(value='')))"
      ]
     },
     "metadata": {},
     "output_type": "display_data"
    },
    {
     "name": "stdout",
     "output_type": "stream",
     "text": [
      "valid loss: 0.3449, valid acc: 0.8676, elapsed:18.7090\n",
      "\n",
      "Epoch 6/10\n",
      "----------\n"
     ]
    },
    {
     "data": {
      "application/vnd.jupyter.widget-view+json": {
       "model_id": "",
       "version_major": 2,
       "version_minor": 0
      },
      "text/plain": [
       "HBox(children=(IntProgress(value=0, max=40197), HTML(value='')))"
      ]
     },
     "metadata": {},
     "output_type": "display_data"
    },
    {
     "name": "stdout",
     "output_type": "stream",
     "text": [
      "train loss: 0.3453, train acc: 0.8673, elapsed:163.1146\n"
     ]
    },
    {
     "data": {
      "application/vnd.jupyter.widget-view+json": {
       "model_id": "",
       "version_major": 2,
       "version_minor": 0
      },
      "text/plain": [
       "HBox(children=(IntProgress(value=0, max=10050), HTML(value='')))"
      ]
     },
     "metadata": {},
     "output_type": "display_data"
    },
    {
     "name": "stdout",
     "output_type": "stream",
     "text": [
      "valid loss: 0.3448, valid acc: 0.8675, elapsed:18.8034\n",
      "\n",
      "Epoch 7/10\n",
      "----------\n"
     ]
    },
    {
     "data": {
      "application/vnd.jupyter.widget-view+json": {
       "model_id": "",
       "version_major": 2,
       "version_minor": 0
      },
      "text/plain": [
       "HBox(children=(IntProgress(value=0, max=40197), HTML(value='')))"
      ]
     },
     "metadata": {},
     "output_type": "display_data"
    },
    {
     "name": "stdout",
     "output_type": "stream",
     "text": [
      "train loss: 0.3452, train acc: 0.8673, elapsed:160.9497\n"
     ]
    },
    {
     "data": {
      "application/vnd.jupyter.widget-view+json": {
       "model_id": "",
       "version_major": 2,
       "version_minor": 0
      },
      "text/plain": [
       "HBox(children=(IntProgress(value=0, max=10050), HTML(value='')))"
      ]
     },
     "metadata": {},
     "output_type": "display_data"
    },
    {
     "name": "stdout",
     "output_type": "stream",
     "text": [
      "valid loss: 0.3451, valid acc: 0.8676, elapsed:18.8336\n",
      "\n",
      "Epoch 8/10\n",
      "----------\n"
     ]
    },
    {
     "data": {
      "application/vnd.jupyter.widget-view+json": {
       "model_id": "",
       "version_major": 2,
       "version_minor": 0
      },
      "text/plain": [
       "HBox(children=(IntProgress(value=0, max=40197), HTML(value='')))"
      ]
     },
     "metadata": {},
     "output_type": "display_data"
    },
    {
     "name": "stdout",
     "output_type": "stream",
     "text": [
      "train loss: 0.3452, train acc: 0.8673, elapsed:161.2013\n"
     ]
    },
    {
     "data": {
      "application/vnd.jupyter.widget-view+json": {
       "model_id": "",
       "version_major": 2,
       "version_minor": 0
      },
      "text/plain": [
       "HBox(children=(IntProgress(value=0, max=10050), HTML(value='')))"
      ]
     },
     "metadata": {},
     "output_type": "display_data"
    },
    {
     "name": "stdout",
     "output_type": "stream",
     "text": [
      "valid loss: 0.3447, valid acc: 0.8675, elapsed:18.9533\n",
      "\n",
      "Epoch 9/10\n",
      "----------\n"
     ]
    },
    {
     "data": {
      "application/vnd.jupyter.widget-view+json": {
       "model_id": "",
       "version_major": 2,
       "version_minor": 0
      },
      "text/plain": [
       "HBox(children=(IntProgress(value=0, max=40197), HTML(value='')))"
      ]
     },
     "metadata": {},
     "output_type": "display_data"
    },
    {
     "name": "stdout",
     "output_type": "stream",
     "text": [
      "train loss: 0.3452, train acc: 0.8673, elapsed:164.4706\n"
     ]
    },
    {
     "data": {
      "application/vnd.jupyter.widget-view+json": {
       "model_id": "",
       "version_major": 2,
       "version_minor": 0
      },
      "text/plain": [
       "HBox(children=(IntProgress(value=0, max=10050), HTML(value='')))"
      ]
     },
     "metadata": {},
     "output_type": "display_data"
    },
    {
     "name": "stdout",
     "output_type": "stream",
     "text": [
      "valid loss: 0.3449, valid acc: 0.8675, elapsed:21.4646\n",
      "\n",
      "Epoch 10/10\n",
      "----------\n"
     ]
    },
    {
     "data": {
      "application/vnd.jupyter.widget-view+json": {
       "model_id": "",
       "version_major": 2,
       "version_minor": 0
      },
      "text/plain": [
       "HBox(children=(IntProgress(value=0, max=40197), HTML(value='')))"
      ]
     },
     "metadata": {},
     "output_type": "display_data"
    },
    {
     "name": "stdout",
     "output_type": "stream",
     "text": [
      "train loss: 0.3451, train acc: 0.8673, elapsed:160.6112\n"
     ]
    },
    {
     "data": {
      "application/vnd.jupyter.widget-view+json": {
       "model_id": "",
       "version_major": 2,
       "version_minor": 0
      },
      "text/plain": [
       "HBox(children=(IntProgress(value=0, max=10050), HTML(value='')))"
      ]
     },
     "metadata": {},
     "output_type": "display_data"
    },
    {
     "name": "stdout",
     "output_type": "stream",
     "text": [
      "valid loss: 0.3448, valid acc: 0.8676, elapsed:18.8461\n",
      "training took:  1832.5726585730445\n"
     ]
    }
   ],
   "source": [
    "model, run_hist = train_and_valid_classification(model, criterion, optimizer_2, run_hist, num_epochs=10)"
   ]
  },
  {
   "cell_type": "code",
   "execution_count": 48,
   "metadata": {},
   "outputs": [
    {
     "data": {
      "image/png": "[encoded data removed]",
      "text/plain": [
       "<Figure size 1440x432 with 2 Axes>"
      ]
     },
     "metadata": {
      "needs_background": "light"
     },
     "output_type": "display_data"
    }
   ],
   "source": [
    "plot_training_classification(run_hist)"
   ]
  },
  {
   "cell_type": "code",
   "execution_count": 49,
   "metadata": {},
   "outputs": [
    {
     "data": {
      "image/png": "[encoded data removed]",
      "text/plain": [
       "<Figure size 432x432 with 1 Axes>"
      ]
     },
     "metadata": {
      "needs_background": "light"
     },
     "output_type": "display_data"
    }
   ],
   "source": [
    "print_roc(model,X_valid, Y_valid )"
   ]
  },
  {
   "cell_type": "code",
   "execution_count": 51,
   "metadata": {},
   "outputs": [],
   "source": [
    "torch.save({\n",
    "            'model_state_dict': model.state_dict(),\n",
    "            'optimizer_state_dict': optimizer_2.state_dict(),\n",
    "            'run_history':run_hist,\n",
    "            }, \".4NN_3.pt\")"
   ]
  },
  {
   "cell_type": "code",
   "execution_count": 141,
   "metadata": {},
   "outputs": [],
   "source": [
    "weights = [0.1, 0.9]\n",
    "class_weights = torch.FloatTensor(weights).to(device)\n",
    "criterion_3 = nn.CrossEntropyLoss(weight=class_weights)\n",
    "learning_rate = 1e-4\n",
    "optimizer_3 = torch.optim.Adam(model.parameters(), lr=learning_rate)"
   ]
  },
  {
   "cell_type": "code",
   "execution_count": 165,
   "metadata": {},
   "outputs": [
    {
     "data": {
      "text/plain": [
       "NHiddenTrackingNetwork(\n",
       "  (input_layer): Linear(in_features=13, out_features=40, bias=True)\n",
       "  (layers): ModuleList(\n",
       "    (0): Linear(in_features=40, out_features=30, bias=True)\n",
       "    (1): Linear(in_features=30, out_features=20, bias=True)\n",
       "    (2): Linear(in_features=20, out_features=10, bias=True)\n",
       "  )\n",
       "  (output_layer): Linear(in_features=10, out_features=2, bias=True)\n",
       ")"
      ]
     },
     "execution_count": 165,
     "metadata": {},
     "output_type": "execute_result"
    }
   ],
   "source": [
    "model.to(device)"
   ]
  },
  {
   "cell_type": "code",
   "execution_count": 144,
   "metadata": {},
   "outputs": [
    {
     "name": "stdout",
     "output_type": "stream",
     "text": [
      "\n",
      "Epoch 1/10\n",
      "----------\n"
     ]
    },
    {
     "data": {
      "application/vnd.jupyter.widget-view+json": {
       "model_id": "",
       "version_major": 2,
       "version_minor": 0
      },
      "text/plain": [
       "HBox(children=(IntProgress(value=0, max=40197), HTML(value='')))"
      ]
     },
     "metadata": {},
     "output_type": "display_data"
    },
    {
     "name": "stdout",
     "output_type": "stream",
     "text": [
      "train loss: 0.5645, train acc: 0.5384, elapsed:158.9666\n"
     ]
    },
    {
     "data": {
      "application/vnd.jupyter.widget-view+json": {
       "model_id": "",
       "version_major": 2,
       "version_minor": 0
      },
      "text/plain": [
       "HBox(children=(IntProgress(value=0, max=10050), HTML(value='')))"
      ]
     },
     "metadata": {},
     "output_type": "display_data"
    },
    {
     "name": "stdout",
     "output_type": "stream",
     "text": [
      "valid loss: 0.5556, valid acc: 0.5779, elapsed:17.9320\n",
      "\n",
      "Epoch 2/10\n",
      "----------\n"
     ]
    },
    {
     "data": {
      "application/vnd.jupyter.widget-view+json": {
       "model_id": "",
       "version_major": 2,
       "version_minor": 0
      },
      "text/plain": [
       "HBox(children=(IntProgress(value=0, max=40197), HTML(value='')))"
      ]
     },
     "metadata": {},
     "output_type": "display_data"
    },
    {
     "name": "stdout",
     "output_type": "stream",
     "text": [
      "train loss: 0.5530, train acc: 0.5428, elapsed:158.0815\n"
     ]
    },
    {
     "data": {
      "application/vnd.jupyter.widget-view+json": {
       "model_id": "",
       "version_major": 2,
       "version_minor": 0
      },
      "text/plain": [
       "HBox(children=(IntProgress(value=0, max=10050), HTML(value='')))"
      ]
     },
     "metadata": {},
     "output_type": "display_data"
    },
    {
     "name": "stdout",
     "output_type": "stream",
     "text": [
      "valid loss: 0.5524, valid acc: 0.5570, elapsed:19.3472\n",
      "\n",
      "Epoch 3/10\n",
      "----------\n"
     ]
    },
    {
     "data": {
      "application/vnd.jupyter.widget-view+json": {
       "model_id": "",
       "version_major": 2,
       "version_minor": 0
      },
      "text/plain": [
       "HBox(children=(IntProgress(value=0, max=40197), HTML(value='')))"
      ]
     },
     "metadata": {},
     "output_type": "display_data"
    },
    {
     "name": "stdout",
     "output_type": "stream",
     "text": [
      "train loss: 0.5516, train acc: 0.5455, elapsed:162.1999\n"
     ]
    },
    {
     "data": {
      "application/vnd.jupyter.widget-view+json": {
       "model_id": "",
       "version_major": 2,
       "version_minor": 0
      },
      "text/plain": [
       "HBox(children=(IntProgress(value=0, max=10050), HTML(value='')))"
      ]
     },
     "metadata": {},
     "output_type": "display_data"
    },
    {
     "name": "stdout",
     "output_type": "stream",
     "text": [
      "valid loss: 0.5510, valid acc: 0.5668, elapsed:18.1548\n",
      "\n",
      "Epoch 4/10\n",
      "----------\n"
     ]
    },
    {
     "data": {
      "application/vnd.jupyter.widget-view+json": {
       "model_id": "",
       "version_major": 2,
       "version_minor": 0
      },
      "text/plain": [
       "HBox(children=(IntProgress(value=0, max=40197), HTML(value='')))"
      ]
     },
     "metadata": {},
     "output_type": "display_data"
    },
    {
     "name": "stdout",
     "output_type": "stream",
     "text": [
      "train loss: 0.5509, train acc: 0.5471, elapsed:161.4234\n"
     ]
    },
    {
     "data": {
      "application/vnd.jupyter.widget-view+json": {
       "model_id": "",
       "version_major": 2,
       "version_minor": 0
      },
      "text/plain": [
       "HBox(children=(IntProgress(value=0, max=10050), HTML(value='')))"
      ]
     },
     "metadata": {},
     "output_type": "display_data"
    },
    {
     "name": "stdout",
     "output_type": "stream",
     "text": [
      "valid loss: 0.5522, valid acc: 0.5468, elapsed:17.7234\n",
      "\n",
      "Epoch 5/10\n",
      "----------\n"
     ]
    },
    {
     "data": {
      "application/vnd.jupyter.widget-view+json": {
       "model_id": "",
       "version_major": 2,
       "version_minor": 0
      },
      "text/plain": [
       "HBox(children=(IntProgress(value=0, max=40197), HTML(value='')))"
      ]
     },
     "metadata": {},
     "output_type": "display_data"
    },
    {
     "name": "stdout",
     "output_type": "stream",
     "text": [
      "train loss: 0.5502, train acc: 0.5482, elapsed:157.7338\n"
     ]
    },
    {
     "data": {
      "application/vnd.jupyter.widget-view+json": {
       "model_id": "",
       "version_major": 2,
       "version_minor": 0
      },
      "text/plain": [
       "HBox(children=(IntProgress(value=0, max=10050), HTML(value='')))"
      ]
     },
     "metadata": {},
     "output_type": "display_data"
    },
    {
     "name": "stdout",
     "output_type": "stream",
     "text": [
      "valid loss: 0.5511, valid acc: 0.5326, elapsed:17.9182\n",
      "\n",
      "Epoch 6/10\n",
      "----------\n"
     ]
    },
    {
     "data": {
      "application/vnd.jupyter.widget-view+json": {
       "model_id": "",
       "version_major": 2,
       "version_minor": 0
      },
      "text/plain": [
       "HBox(children=(IntProgress(value=0, max=40197), HTML(value='')))"
      ]
     },
     "metadata": {},
     "output_type": "display_data"
    },
    {
     "name": "stdout",
     "output_type": "stream",
     "text": [
      "train loss: 0.5497, train acc: 0.5496, elapsed:154.1905\n"
     ]
    },
    {
     "data": {
      "application/vnd.jupyter.widget-view+json": {
       "model_id": "",
       "version_major": 2,
       "version_minor": 0
      },
      "text/plain": [
       "HBox(children=(IntProgress(value=0, max=10050), HTML(value='')))"
      ]
     },
     "metadata": {},
     "output_type": "display_data"
    },
    {
     "name": "stdout",
     "output_type": "stream",
     "text": [
      "valid loss: 0.5494, valid acc: 0.5410, elapsed:17.9281\n",
      "\n",
      "Epoch 7/10\n",
      "----------\n"
     ]
    },
    {
     "data": {
      "application/vnd.jupyter.widget-view+json": {
       "model_id": "",
       "version_major": 2,
       "version_minor": 0
      },
      "text/plain": [
       "HBox(children=(IntProgress(value=0, max=40197), HTML(value='')))"
      ]
     },
     "metadata": {},
     "output_type": "display_data"
    },
    {
     "name": "stdout",
     "output_type": "stream",
     "text": [
      "train loss: 0.5492, train acc: 0.5505, elapsed:158.1119\n"
     ]
    },
    {
     "data": {
      "application/vnd.jupyter.widget-view+json": {
       "model_id": "",
       "version_major": 2,
       "version_minor": 0
      },
      "text/plain": [
       "HBox(children=(IntProgress(value=0, max=10050), HTML(value='')))"
      ]
     },
     "metadata": {},
     "output_type": "display_data"
    },
    {
     "name": "stdout",
     "output_type": "stream",
     "text": [
      "valid loss: 0.5494, valid acc: 0.5580, elapsed:17.9632\n",
      "\n",
      "Epoch 8/10\n",
      "----------\n"
     ]
    },
    {
     "data": {
      "application/vnd.jupyter.widget-view+json": {
       "model_id": "",
       "version_major": 2,
       "version_minor": 0
      },
      "text/plain": [
       "HBox(children=(IntProgress(value=0, max=40197), HTML(value='')))"
      ]
     },
     "metadata": {},
     "output_type": "display_data"
    },
    {
     "name": "stdout",
     "output_type": "stream",
     "text": [
      "train loss: 0.5489, train acc: 0.5516, elapsed:158.3913\n"
     ]
    },
    {
     "data": {
      "application/vnd.jupyter.widget-view+json": {
       "model_id": "",
       "version_major": 2,
       "version_minor": 0
      },
      "text/plain": [
       "HBox(children=(IntProgress(value=0, max=10050), HTML(value='')))"
      ]
     },
     "metadata": {},
     "output_type": "display_data"
    },
    {
     "name": "stdout",
     "output_type": "stream",
     "text": [
      "valid loss: 0.5481, valid acc: 0.5544, elapsed:18.2131\n",
      "\n",
      "Epoch 9/10\n",
      "----------\n"
     ]
    },
    {
     "data": {
      "application/vnd.jupyter.widget-view+json": {
       "model_id": "",
       "version_major": 2,
       "version_minor": 0
      },
      "text/plain": [
       "HBox(children=(IntProgress(value=0, max=40197), HTML(value='')))"
      ]
     },
     "metadata": {},
     "output_type": "display_data"
    },
    {
     "name": "stdout",
     "output_type": "stream",
     "text": [
      "train loss: 0.5486, train acc: 0.5523, elapsed:161.0721\n"
     ]
    },
    {
     "data": {
      "application/vnd.jupyter.widget-view+json": {
       "model_id": "",
       "version_major": 2,
       "version_minor": 0
      },
      "text/plain": [
       "HBox(children=(IntProgress(value=0, max=10050), HTML(value='')))"
      ]
     },
     "metadata": {},
     "output_type": "display_data"
    },
    {
     "name": "stdout",
     "output_type": "stream",
     "text": [
      "valid loss: 0.5485, valid acc: 0.5383, elapsed:19.7551\n",
      "\n",
      "Epoch 10/10\n",
      "----------\n"
     ]
    },
    {
     "data": {
      "application/vnd.jupyter.widget-view+json": {
       "model_id": "",
       "version_major": 2,
       "version_minor": 0
      },
      "text/plain": [
       "HBox(children=(IntProgress(value=0, max=40197), HTML(value='')))"
      ]
     },
     "metadata": {},
     "output_type": "display_data"
    },
    {
     "name": "stdout",
     "output_type": "stream",
     "text": [
      "train loss: 0.5483, train acc: 0.5526, elapsed:156.9583\n"
     ]
    },
    {
     "data": {
      "application/vnd.jupyter.widget-view+json": {
       "model_id": "",
       "version_major": 2,
       "version_minor": 0
      },
      "text/plain": [
       "HBox(children=(IntProgress(value=0, max=10050), HTML(value='')))"
      ]
     },
     "metadata": {},
     "output_type": "display_data"
    },
    {
     "name": "stdout",
     "output_type": "stream",
     "text": [
      "valid loss: 0.5494, valid acc: 0.5250, elapsed:18.2584\n",
      "training took:  1770.327840322163\n"
     ]
    }
   ],
   "source": [
    "model, run_hist = train_and_valid_classification(model, criterion_3, optimizer_3, run_hist, num_epochs=10)"
   ]
  },
  {
   "cell_type": "code",
   "execution_count": 145,
   "metadata": {},
   "outputs": [
    {
     "name": "stderr",
     "output_type": "stream",
     "text": [
      "/anaconda/envs/py36/lib/python3.6/site-packages/ipykernel/__main__.py:7: UserWarning: Implicit dimension choice for softmax has been deprecated. Change the call to include dim=X as an argument.\n"
     ]
    },
    {
     "data": {
      "image/png": "[encoded data removed]",
      "text/plain": [
       "<Figure size 432x432 with 1 Axes>"
      ]
     },
     "metadata": {
      "needs_background": "light"
     },
     "output_type": "display_data"
    }
   ],
   "source": [
    "print_roc(model,X_valid, Y_valid )"
   ]
  },
  {
   "cell_type": "code",
   "execution_count": 149,
   "metadata": {},
   "outputs": [
    {
     "name": "stdout",
     "output_type": "stream",
     "text": [
      "\n",
      "Epoch 1/10\n",
      "----------\n"
     ]
    },
    {
     "data": {
      "application/vnd.jupyter.widget-view+json": {
       "model_id": "",
       "version_major": 2,
       "version_minor": 0
      },
      "text/plain": [
       "HBox(children=(IntProgress(value=0, max=40197), HTML(value='')))"
      ]
     },
     "metadata": {},
     "output_type": "display_data"
    },
    {
     "name": "stdout",
     "output_type": "stream",
     "text": [
      "train loss: 0.5480, train acc: 0.5531, elapsed:156.5470\n"
     ]
    },
    {
     "data": {
      "application/vnd.jupyter.widget-view+json": {
       "model_id": "",
       "version_major": 2,
       "version_minor": 0
      },
      "text/plain": [
       "HBox(children=(IntProgress(value=0, max=10050), HTML(value='')))"
      ]
     },
     "metadata": {},
     "output_type": "display_data"
    },
    {
     "name": "stdout",
     "output_type": "stream",
     "text": [
      "valid loss: 0.5494, valid acc: 0.5104, elapsed:18.1243\n",
      "\n",
      "Epoch 2/10\n",
      "----------\n"
     ]
    },
    {
     "data": {
      "application/vnd.jupyter.widget-view+json": {
       "model_id": "",
       "version_major": 2,
       "version_minor": 0
      },
      "text/plain": [
       "HBox(children=(IntProgress(value=0, max=40197), HTML(value='')))"
      ]
     },
     "metadata": {},
     "output_type": "display_data"
    },
    {
     "name": "stdout",
     "output_type": "stream",
     "text": [
      "train loss: 0.5478, train acc: 0.5532, elapsed:155.9909\n"
     ]
    },
    {
     "data": {
      "application/vnd.jupyter.widget-view+json": {
       "model_id": "",
       "version_major": 2,
       "version_minor": 0
      },
      "text/plain": [
       "HBox(children=(IntProgress(value=0, max=10050), HTML(value='')))"
      ]
     },
     "metadata": {},
     "output_type": "display_data"
    },
    {
     "name": "stdout",
     "output_type": "stream",
     "text": [
      "valid loss: 0.5483, valid acc: 0.5518, elapsed:20.0363\n",
      "\n",
      "Epoch 3/10\n",
      "----------\n"
     ]
    },
    {
     "data": {
      "application/vnd.jupyter.widget-view+json": {
       "model_id": "",
       "version_major": 2,
       "version_minor": 0
      },
      "text/plain": [
       "HBox(children=(IntProgress(value=0, max=40197), HTML(value='')))"
      ]
     },
     "metadata": {},
     "output_type": "display_data"
    },
    {
     "name": "stdout",
     "output_type": "stream",
     "text": [
      "train loss: 0.5476, train acc: 0.5536, elapsed:158.8983\n"
     ]
    },
    {
     "data": {
      "application/vnd.jupyter.widget-view+json": {
       "model_id": "",
       "version_major": 2,
       "version_minor": 0
      },
      "text/plain": [
       "HBox(children=(IntProgress(value=0, max=10050), HTML(value='')))"
      ]
     },
     "metadata": {},
     "output_type": "display_data"
    },
    {
     "name": "stdout",
     "output_type": "stream",
     "text": [
      "valid loss: 0.5481, valid acc: 0.5815, elapsed:19.3740\n",
      "\n",
      "Epoch 4/10\n",
      "----------\n"
     ]
    },
    {
     "data": {
      "application/vnd.jupyter.widget-view+json": {
       "model_id": "",
       "version_major": 2,
       "version_minor": 0
      },
      "text/plain": [
       "HBox(children=(IntProgress(value=0, max=40197), HTML(value='')))"
      ]
     },
     "metadata": {},
     "output_type": "display_data"
    },
    {
     "name": "stdout",
     "output_type": "stream",
     "text": [
      "train loss: 0.5474, train acc: 0.5538, elapsed:160.2956\n"
     ]
    },
    {
     "data": {
      "application/vnd.jupyter.widget-view+json": {
       "model_id": "",
       "version_major": 2,
       "version_minor": 0
      },
      "text/plain": [
       "HBox(children=(IntProgress(value=0, max=10050), HTML(value='')))"
      ]
     },
     "metadata": {},
     "output_type": "display_data"
    },
    {
     "name": "stdout",
     "output_type": "stream",
     "text": [
      "valid loss: 0.5485, valid acc: 0.5240, elapsed:18.1201\n",
      "\n",
      "Epoch 5/10\n",
      "----------\n"
     ]
    },
    {
     "data": {
      "application/vnd.jupyter.widget-view+json": {
       "model_id": "",
       "version_major": 2,
       "version_minor": 0
      },
      "text/plain": [
       "HBox(children=(IntProgress(value=0, max=40197), HTML(value='')))"
      ]
     },
     "metadata": {},
     "output_type": "display_data"
    },
    {
     "name": "stdout",
     "output_type": "stream",
     "text": [
      "train loss: 0.5473, train acc: 0.5542, elapsed:159.8172\n"
     ]
    },
    {
     "data": {
      "application/vnd.jupyter.widget-view+json": {
       "model_id": "",
       "version_major": 2,
       "version_minor": 0
      },
      "text/plain": [
       "HBox(children=(IntProgress(value=0, max=10050), HTML(value='')))"
      ]
     },
     "metadata": {},
     "output_type": "display_data"
    },
    {
     "name": "stdout",
     "output_type": "stream",
     "text": [
      "valid loss: 0.5479, valid acc: 0.5251, elapsed:17.9560\n",
      "\n",
      "Epoch 6/10\n",
      "----------\n"
     ]
    },
    {
     "data": {
      "application/vnd.jupyter.widget-view+json": {
       "model_id": "",
       "version_major": 2,
       "version_minor": 0
      },
      "text/plain": [
       "HBox(children=(IntProgress(value=0, max=40197), HTML(value='')))"
      ]
     },
     "metadata": {},
     "output_type": "display_data"
    },
    {
     "name": "stdout",
     "output_type": "stream",
     "text": [
      "train loss: 0.5472, train acc: 0.5548, elapsed:160.1252\n"
     ]
    },
    {
     "data": {
      "application/vnd.jupyter.widget-view+json": {
       "model_id": "",
       "version_major": 2,
       "version_minor": 0
      },
      "text/plain": [
       "HBox(children=(IntProgress(value=0, max=10050), HTML(value='')))"
      ]
     },
     "metadata": {},
     "output_type": "display_data"
    },
    {
     "name": "stdout",
     "output_type": "stream",
     "text": [
      "valid loss: 0.5474, valid acc: 0.5369, elapsed:18.0939\n",
      "\n",
      "Epoch 7/10\n",
      "----------\n"
     ]
    },
    {
     "data": {
      "application/vnd.jupyter.widget-view+json": {
       "model_id": "",
       "version_major": 2,
       "version_minor": 0
      },
      "text/plain": [
       "HBox(children=(IntProgress(value=0, max=40197), HTML(value='')))"
      ]
     },
     "metadata": {},
     "output_type": "display_data"
    },
    {
     "name": "stdout",
     "output_type": "stream",
     "text": [
      "train loss: 0.5470, train acc: 0.5545, elapsed:159.2406\n"
     ]
    },
    {
     "data": {
      "application/vnd.jupyter.widget-view+json": {
       "model_id": "",
       "version_major": 2,
       "version_minor": 0
      },
      "text/plain": [
       "HBox(children=(IntProgress(value=0, max=10050), HTML(value='')))"
      ]
     },
     "metadata": {},
     "output_type": "display_data"
    },
    {
     "name": "stdout",
     "output_type": "stream",
     "text": [
      "valid loss: 0.5476, valid acc: 0.5672, elapsed:18.4404\n",
      "\n",
      "Epoch 8/10\n",
      "----------\n"
     ]
    },
    {
     "data": {
      "application/vnd.jupyter.widget-view+json": {
       "model_id": "",
       "version_major": 2,
       "version_minor": 0
      },
      "text/plain": [
       "HBox(children=(IntProgress(value=0, max=40197), HTML(value='')))"
      ]
     },
     "metadata": {},
     "output_type": "display_data"
    },
    {
     "name": "stdout",
     "output_type": "stream",
     "text": [
      "train loss: 0.5469, train acc: 0.5549, elapsed:164.9834\n"
     ]
    },
    {
     "data": {
      "application/vnd.jupyter.widget-view+json": {
       "model_id": "",
       "version_major": 2,
       "version_minor": 0
      },
      "text/plain": [
       "HBox(children=(IntProgress(value=0, max=10050), HTML(value='')))"
      ]
     },
     "metadata": {},
     "output_type": "display_data"
    },
    {
     "name": "stdout",
     "output_type": "stream",
     "text": [
      "valid loss: 0.5474, valid acc: 0.5384, elapsed:20.7339\n",
      "\n",
      "Epoch 9/10\n",
      "----------\n"
     ]
    },
    {
     "data": {
      "application/vnd.jupyter.widget-view+json": {
       "model_id": "",
       "version_major": 2,
       "version_minor": 0
      },
      "text/plain": [
       "HBox(children=(IntProgress(value=0, max=40197), HTML(value='')))"
      ]
     },
     "metadata": {},
     "output_type": "display_data"
    },
    {
     "name": "stdout",
     "output_type": "stream",
     "text": [
      "train loss: 0.5468, train acc: 0.5552, elapsed:159.3115\n"
     ]
    },
    {
     "data": {
      "application/vnd.jupyter.widget-view+json": {
       "model_id": "",
       "version_major": 2,
       "version_minor": 0
      },
      "text/plain": [
       "HBox(children=(IntProgress(value=0, max=10050), HTML(value='')))"
      ]
     },
     "metadata": {},
     "output_type": "display_data"
    },
    {
     "name": "stdout",
     "output_type": "stream",
     "text": [
      "valid loss: 0.5470, valid acc: 0.5515, elapsed:18.0269\n",
      "\n",
      "Epoch 10/10\n",
      "----------\n"
     ]
    },
    {
     "data": {
      "application/vnd.jupyter.widget-view+json": {
       "model_id": "",
       "version_major": 2,
       "version_minor": 0
      },
      "text/plain": [
       "HBox(children=(IntProgress(value=0, max=40197), HTML(value='')))"
      ]
     },
     "metadata": {},
     "output_type": "display_data"
    },
    {
     "name": "stdout",
     "output_type": "stream",
     "text": [
      "train loss: 0.5467, train acc: 0.5556, elapsed:157.3932\n"
     ]
    },
    {
     "data": {
      "application/vnd.jupyter.widget-view+json": {
       "model_id": "",
       "version_major": 2,
       "version_minor": 0
      },
      "text/plain": [
       "HBox(children=(IntProgress(value=0, max=10050), HTML(value='')))"
      ]
     },
     "metadata": {},
     "output_type": "display_data"
    },
    {
     "name": "stdout",
     "output_type": "stream",
     "text": [
      "valid loss: 0.5468, valid acc: 0.5779, elapsed:18.2151\n",
      "training took:  1779.730148483999\n"
     ]
    }
   ],
   "source": [
    "model, run_hist = train_and_valid_classification(model, criterion_3, optimizer_3, run_hist, num_epochs=10)"
   ]
  },
  {
   "cell_type": "code",
   "execution_count": 150,
   "metadata": {},
   "outputs": [
    {
     "name": "stderr",
     "output_type": "stream",
     "text": [
      "/anaconda/envs/py36/lib/python3.6/site-packages/ipykernel/__main__.py:7: UserWarning: Implicit dimension choice for softmax has been deprecated. Change the call to include dim=X as an argument.\n"
     ]
    },
    {
     "data": {
      "image/png": "[encoded data removed]",
      "text/plain": [
       "<Figure size 432x432 with 1 Axes>"
      ]
     },
     "metadata": {
      "needs_background": "light"
     },
     "output_type": "display_data"
    }
   ],
   "source": [
    "print_roc(model,X_valid, Y_valid )"
   ]
  },
  {
   "cell_type": "code",
   "execution_count": 163,
   "metadata": {},
   "outputs": [],
   "source": [
    "def print_classification_report(model, X, Y):\n",
    "    def predict_vs_threshold(probas,threshold):\n",
    "        predicted = np.where(probas>threshold,1,0)\n",
    "        return predicted\n",
    "\n",
    "    \n",
    "    X = torch.tensor(X.values, dtype=torch.float).to(\"cpu\")\n",
    "    model.eval\n",
    "    model.to(\"cpu\")\n",
    "    output =  model(X)\n",
    "    probas = F.softmax(output)\n",
    "    print(classification_report(Y, predict_vs_threshold(probas[:,1], 0.3), target_names=[\"ghost\",\"true\"]))\n",
    "\n"
   ]
  },
  {
   "cell_type": "code",
   "execution_count": 164,
   "metadata": {},
   "outputs": [
    {
     "name": "stderr",
     "output_type": "stream",
     "text": [
      "/anaconda/envs/py36/lib/python3.6/site-packages/ipykernel/__main__.py:11: UserWarning: Implicit dimension choice for softmax has been deprecated. Change the call to include dim=X as an argument.\n"
     ]
    },
    {
     "name": "stdout",
     "output_type": "stream",
     "text": [
      "              precision    recall  f1-score   support\n",
      "\n",
      "       ghost       0.98      0.24      0.38   1100498\n",
      "        true       0.18      0.97      0.30    185790\n",
      "\n",
      "   micro avg       0.35      0.35      0.35   1286288\n",
      "   macro avg       0.58      0.61      0.34   1286288\n",
      "weighted avg       0.87      0.35      0.37   1286288\n",
      "\n"
     ]
    }
   ],
   "source": [
    "print_classification_report(model,X_valid, Y_valid)"
   ]
  },
  {
   "cell_type": "code",
   "execution_count": 169,
   "metadata": {},
   "outputs": [],
   "source": [
    "torch.save({\n",
    "            'model_state_dict': model.state_dict(),\n",
    "            'optimizer_state_dict': optimizer_3.state_dict(),\n",
    "            'run_history':run_hist,\n",
    "            }, \".4NN_weighted_loss_1.pt\")"
   ]
  },
  {
   "cell_type": "code",
   "execution_count": 174,
   "metadata": {},
   "outputs": [
    {
     "name": "stderr",
     "output_type": "stream",
     "text": [
      "/anaconda/envs/py36/lib/python3.6/site-packages/ipykernel/__main__.py:7: UserWarning: Implicit dimension choice for softmax has been deprecated. Change the call to include dim=X as an argument.\n"
     ]
    },
    {
     "data": {
      "image/png": "[encoded data removed]",
      "text/plain": [
       "<Figure size 432x432 with 1 Axes>"
      ]
     },
     "metadata": {
      "needs_background": "light"
     },
     "output_type": "display_data"
    }
   ],
   "source": [
    "print_roc(model,X_valid, Y_valid )"
   ]
  },
  {
   "cell_type": "code",
   "execution_count": null,
   "metadata": {},
   "outputs": [],
   "source": []
  }
 ],
 "metadata": {
  "kernelspec": {
   "display_name": "Python 3.6 - AzureML",
   "language": "python",
   "name": "python3-azureml"
  },
  "language_info": {
   "codemirror_mode": {
    "name": "ipython",
    "version": 3
   },
   "file_extension": ".py",
   "mimetype": "text/x-python",
   "name": "python",
   "nbconvert_exporter": "python",
   "pygments_lexer": "ipython3",
   "version": "3.6.9"
  }
 },
 "nbformat": 4,
 "nbformat_minor": 2
}

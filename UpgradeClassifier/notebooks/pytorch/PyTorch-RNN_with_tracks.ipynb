{
 "cells": [
  {
   "cell_type": "markdown",
   "metadata": {},
   "source": [
    "# RNN approach to the Upgrade classifier \n",
    "\n",
    "This notebook is dedicated to storing my study on a recurrent neural network to classify the track seeds. In these exercises I'll build a model that uses only hits information in order to make a prediction. \n",
    "\n",
    "Study roadmap:\n",
    "\n",
    "1. Import an FT hits data and converts it into time series. This point will be a little bit challenging since hits need to be coded. \n",
    "2. Build a model that use LSTM units to classify the tracks\n",
    "3. Compare the result to the track information NN. \n",
    "\n",
    "\n",
    "Open questions:\n",
    "1. What is the meaning of repetited planeID?"
   ]
  },
  {
   "cell_type": "code",
   "execution_count": 1,
   "metadata": {},
   "outputs": [
    {
     "name": "stdout",
     "output_type": "stream",
     "text": [
      "\u001b[31mERROR: Could not find a version that satisfies the requirement tmpfile (from versions: none)\u001b[0m\r\n",
      "\u001b[31mERROR: No matching distribution found for tmpfile\u001b[0m\r\n"
     ]
    }
   ],
   "source": [
    "import sys\n",
    "!{sys.executable} -m pip install --upgrade tmpfile\n"
   ]
  },
  {
   "cell_type": "code",
   "execution_count": 1,
   "metadata": {},
   "outputs": [],
   "source": [
    "import pandas as pd\n",
    "pd.options.mode.chained_assignment = None  # default='warn'\n",
    "\n",
    "import numpy as np\n",
    "import random\n",
    "import itertools\n",
    "\n",
    "%matplotlib inline\n",
    "import matplotlib.pyplot as plt\n",
    "\n",
    "from sklearn.model_selection import train_test_split\n",
    "from sklearn.metrics import accuracy_score, log_loss, precision_score, precision_recall_curve\n",
    "from sklearn.metrics import roc_auc_score, roc_curve, auc\n",
    "from sklearn.metrics import classification_report\n",
    "\n",
    "import torch\n",
    "import torch.nn as nn\n",
    "import torch.optim as optim\n",
    "import torch.nn.functional as F\n",
    "from torch.utils.data import Dataset, DataLoader, TensorDataset,ConcatDataset\n",
    "from torch.autograd import Variable\n",
    "\n",
    "\n",
    "from timeit import default_timer as timer\n",
    "from tqdm.notebook import tqdm\n",
    "from multiprocessing import Pool\n",
    "import tempfile\n"
   ]
  },
  {
   "cell_type": "code",
   "execution_count": 2,
   "metadata": {},
   "outputs": [],
   "source": [
    "hits_df = pd.read_pickle(\"/data/work/wessex/Wessex/test/FT_hits.pickle\")"
   ]
  },
  {
   "cell_type": "code",
   "execution_count": 4,
   "metadata": {},
   "outputs": [],
   "source": [
    "hits_df.drop_duplicates(subset=\"track_id\", keep=\"last\", inplace=True)"
   ]
  },
  {
   "cell_type": "code",
   "execution_count": 14,
   "metadata": {},
   "outputs": [
    {
     "data": {
      "text/plain": [
       "array([[-0.00000000e+00,  1.00000000e+00,  3.46020740e+01,\n",
       "         1.01266003e+03],\n",
       "       [ 0.00000000e+00,  0.00000000e+00,  0.00000000e+00,\n",
       "         0.00000000e+00],\n",
       "       [-8.74892300e-02,  1.00000000e+00,  3.46020740e+01,\n",
       "         1.09852920e+03],\n",
       "       [-0.00000000e+00,  1.00000000e+00,  3.46020740e+01,\n",
       "         1.08023510e+03],\n",
       "       [-0.00000000e+00,  1.00000000e+00,  3.46020740e+01,\n",
       "         1.23514000e+03],\n",
       "       [ 8.74892300e-02,  1.00000000e+00,  3.46020740e+01,\n",
       "         1.21467610e+03],\n",
       "       [-8.74892300e-02,  1.00000000e+00,  3.46020740e+01,\n",
       "         1.32554310e+03],\n",
       "       [-0.00000000e+00,  1.00000000e+00,  3.46020740e+01,\n",
       "         1.30491500e+03],\n",
       "       [-0.00000000e+00,  1.00000000e+00,  3.46020740e+01,\n",
       "         1.46428990e+03],\n",
       "       [ 8.74892300e-02,  1.00000000e+00,  3.46020740e+01,\n",
       "         1.44068620e+03],\n",
       "       [-8.74892300e-02,  1.00000000e+00,  3.46020740e+01,\n",
       "         1.55883080e+03],\n",
       "       [-0.00000000e+00,  1.00000000e+00,  2.50000000e+01,\n",
       "         1.53506500e+03]])"
      ]
     },
     "execution_count": 14,
     "metadata": {},
     "output_type": "execute_result"
    }
   ],
   "source": [
    "hits_df.features.iloc[2]"
   ]
  },
  {
   "cell_type": "code",
   "execution_count": 52,
   "metadata": {},
   "outputs": [],
   "source": [
    "# the above code can be used to normalize input vectors. Although, I am not sure if this is a good idea. \n",
    "# the outcome dependes on a number of zeros. "
   ]
  },
  {
   "cell_type": "code",
   "execution_count": 16,
   "metadata": {},
   "outputs": [],
   "source": [
    "a = hits_df.head(1000).features.to_numpy()"
   ]
  },
  {
   "cell_type": "code",
   "execution_count": 34,
   "metadata": {},
   "outputs": [],
   "source": [
    "nda = np.dstack(a)"
   ]
  },
  {
   "cell_type": "code",
   "execution_count": 51,
   "metadata": {},
   "outputs": [
    {
     "data": {
      "text/plain": [
       "array([[[ 1.45815383e-05,  1.45815383e-05,  1.45815383e-05, ...,\n",
       "          1.45815383e-05,  1.45815383e-05,  1.45815383e-05],\n",
       "        [-4.69833333e-01, -4.69833333e-01,  5.30166667e-01, ...,\n",
       "          5.30166667e-01,  5.30166667e-01, -4.69833333e-01],\n",
       "        [-3.62913645e+01, -1.12913645e+01, -1.68929054e+00, ...,\n",
       "         -1.68929054e+00, -1.68929054e+00, -1.68929054e+00],\n",
       "        [ 2.36345921e+01,  1.44834969e+03,  1.03629462e+03, ...,\n",
       "          1.50844602e+02, -6.24575368e+02,  8.83169622e+02]],\n",
       "\n",
       "       [[ 1.45815383e-05,  8.75038115e-02,  1.45815383e-05, ...,\n",
       "          8.75038115e-02,  8.75038115e-02,  8.75038115e-02],\n",
       "        [-4.69833333e-01, -4.69833333e-01, -4.69833333e-01, ...,\n",
       "          5.30166667e-01,  5.30166667e-01, -4.69833333e-01],\n",
       "        [-3.62913645e+01, -1.68929054e+00, -3.62913645e+01, ...,\n",
       "         -1.68929054e+00, -1.68929054e+00, -1.12913645e+01],\n",
       "        [ 2.36345921e+01,  1.57706979e+03,  2.36345921e+01, ...,\n",
       "          1.42285072e+02, -7.48354058e+02,  9.46068732e+02]],\n",
       "\n",
       "       [[ 1.45815383e-05, -8.74746485e-02, -8.74746485e-02, ...,\n",
       "         -8.74746485e-02, -8.74746485e-02, -8.74746485e-02],\n",
       "        [-4.69833333e-01, -4.69833333e-01,  5.30166667e-01, ...,\n",
       "          5.30166667e-01,  5.30166667e-01, -4.69833333e-01],\n",
       "        [-3.62913645e+01, -1.68929054e+00, -1.68929054e+00, ...,\n",
       "         -1.68929054e+00, -1.68929054e+00, -1.68929054e+00],\n",
       "        [ 2.36345921e+01,  1.43312719e+03,  1.12216379e+03, ...,\n",
       "          1.79627172e+02, -5.37245808e+02,  8.59996222e+02]],\n",
       "\n",
       "       ...,\n",
       "\n",
       "       [[ 1.45815383e-05,  8.75038115e-02,  8.75038115e-02, ...,\n",
       "          8.75038115e-02,  8.75038115e-02,  1.45815383e-05],\n",
       "        [-4.69833333e-01, -4.69833333e-01,  5.30166667e-01, ...,\n",
       "          5.30166667e-01,  5.30166667e-01, -4.69833333e-01],\n",
       "        [-3.62913645e+01, -1.68929054e+00, -1.68929054e+00, ...,\n",
       "         -1.68929054e+00, -1.68929054e+00, -3.62913645e+01],\n",
       "        [ 2.36345921e+01,  2.35784599e+03,  1.46432079e+03, ...,\n",
       "          2.74463052e+02, -1.01471771e+03,  2.36345921e+01]],\n",
       "\n",
       "       [[ 1.45815383e-05, -8.74746485e-02, -8.74746485e-02, ...,\n",
       "         -8.74746485e-02, -8.74746485e-02, -8.74746485e-02],\n",
       "        [-4.69833333e-01, -4.69833333e-01,  5.30166667e-01, ...,\n",
       "          5.30166667e-01,  5.30166667e-01, -4.69833333e-01],\n",
       "        [-3.62913645e+01, -1.68929054e+00, -1.68929054e+00, ...,\n",
       "         -1.68929054e+00, -1.68929054e+00, -1.68929054e+00],\n",
       "        [ 2.36345921e+01,  2.17118559e+03,  1.58246539e+03, ...,\n",
       "          3.18079022e+02, -7.65514408e+02,  1.11952889e+03]],\n",
       "\n",
       "       [[ 1.45815383e-05,  1.45815383e-05,  1.45815383e-05, ...,\n",
       "          1.45815383e-05,  1.45815383e-05,  1.45815383e-05],\n",
       "        [ 5.30166667e-01, -4.69833333e-01,  5.30166667e-01, ...,\n",
       "          5.30166667e-01,  5.30166667e-01, -4.69833333e-01],\n",
       "        [-1.68929054e+00, -1.12913645e+01, -1.12913645e+01, ...,\n",
       "         -1.12913645e+01, -1.68929054e+00, -1.68929054e+00],\n",
       "        [-4.45805408e+02,  2.32439969e+03,  1.55869959e+03, ...,\n",
       "          3.06719592e+02, -9.09780448e+02,  1.19187459e+03]]])"
      ]
     },
     "execution_count": 51,
     "metadata": {},
     "output_type": "execute_result"
    }
   ],
   "source": [
    "nda -  nda.mean(axis=-1).mean(axis=0).reshape((4,1))"
   ]
  },
  {
   "cell_type": "code",
   "execution_count": 5,
   "metadata": {},
   "outputs": [],
   "source": [
    "data = pd.read_csv(\"/data/work/wessex/Wessex/test/Brunel_track_seeds_with_target.csv\")"
   ]
  },
  {
   "cell_type": "code",
   "execution_count": 6,
   "metadata": {},
   "outputs": [
    {
     "data": {
      "text/html": [
       "<div>\n",
       "<style scoped>\n",
       "    .dataframe tbody tr th:only-of-type {\n",
       "        vertical-align: middle;\n",
       "    }\n",
       "\n",
       "    .dataframe tbody tr th {\n",
       "        vertical-align: top;\n",
       "    }\n",
       "\n",
       "    .dataframe thead th {\n",
       "        text-align: right;\n",
       "    }\n",
       "</style>\n",
       "<table border=\"1\" class=\"dataframe\">\n",
       "  <thead>\n",
       "    <tr style=\"text-align: right;\">\n",
       "      <th></th>\n",
       "      <th>eventID</th>\n",
       "      <th>track_phi</th>\n",
       "      <th>track_tx</th>\n",
       "      <th>track_ty</th>\n",
       "      <th>track_nLHCbIDs</th>\n",
       "      <th>particle_key</th>\n",
       "      <th>track_p</th>\n",
       "      <th>track_chi2</th>\n",
       "      <th>track_position_x</th>\n",
       "      <th>track_position_y</th>\n",
       "      <th>track_chi2PerDoF</th>\n",
       "      <th>track_pt</th>\n",
       "      <th>track_pseudoRapidity</th>\n",
       "      <th>track_position_r</th>\n",
       "      <th>track_position_phi</th>\n",
       "      <th>particle_isDown_noVelo</th>\n",
       "      <th>track_id</th>\n",
       "    </tr>\n",
       "  </thead>\n",
       "  <tbody>\n",
       "    <tr>\n",
       "      <th>0</th>\n",
       "      <td>31123</td>\n",
       "      <td>2.849378</td>\n",
       "      <td>-0.343474</td>\n",
       "      <td>0.103326</td>\n",
       "      <td>12.0</td>\n",
       "      <td>997</td>\n",
       "      <td>2020.072174</td>\n",
       "      <td>6.275086</td>\n",
       "      <td>494.515198</td>\n",
       "      <td>1124.644897</td>\n",
       "      <td>0.896441</td>\n",
       "      <td>682.012956</td>\n",
       "      <td>1.749189</td>\n",
       "      <td>7599.958646</td>\n",
       "      <td>1.156534</td>\n",
       "      <td>False</td>\n",
       "      <td>(31123, 997)</td>\n",
       "    </tr>\n",
       "    <tr>\n",
       "      <th>1</th>\n",
       "      <td>31123</td>\n",
       "      <td>-3.082239</td>\n",
       "      <td>-0.358948</td>\n",
       "      <td>-0.021330</td>\n",
       "      <td>12.0</td>\n",
       "      <td>1061</td>\n",
       "      <td>3841.771978</td>\n",
       "      <td>1.360128</td>\n",
       "      <td>-1080.491943</td>\n",
       "      <td>-141.657471</td>\n",
       "      <td>0.194304</td>\n",
       "      <td>1299.941130</td>\n",
       "      <td>1.746825</td>\n",
       "      <td>7578.755154</td>\n",
       "      <td>-3.011232</td>\n",
       "      <td>False</td>\n",
       "      <td>(31123, 1061)</td>\n",
       "    </tr>\n",
       "    <tr>\n",
       "      <th>2</th>\n",
       "      <td>31123</td>\n",
       "      <td>-0.011027</td>\n",
       "      <td>0.096606</td>\n",
       "      <td>-0.001065</td>\n",
       "      <td>11.0</td>\n",
       "      <td>1066</td>\n",
       "      <td>11831.335600</td>\n",
       "      <td>1.228229</td>\n",
       "      <td>235.222702</td>\n",
       "      <td>-5.106698</td>\n",
       "      <td>0.204705</td>\n",
       "      <td>1137.754221</td>\n",
       "      <td>3.032522</td>\n",
       "      <td>7503.689479</td>\n",
       "      <td>-0.021707</td>\n",
       "      <td>False</td>\n",
       "      <td>(31123, 1066)</td>\n",
       "    </tr>\n",
       "    <tr>\n",
       "      <th>3</th>\n",
       "      <td>31123</td>\n",
       "      <td>3.105371</td>\n",
       "      <td>-0.442834</td>\n",
       "      <td>0.016047</td>\n",
       "      <td>9.0</td>\n",
       "      <td>1105</td>\n",
       "      <td>1982.935289</td>\n",
       "      <td>1.397992</td>\n",
       "      <td>-256.822998</td>\n",
       "      <td>115.813004</td>\n",
       "      <td>0.349498</td>\n",
       "      <td>803.347165</td>\n",
       "      <td>1.552877</td>\n",
       "      <td>7505.289515</td>\n",
       "      <td>2.717953</td>\n",
       "      <td>False</td>\n",
       "      <td>(31123, 1105)</td>\n",
       "    </tr>\n",
       "    <tr>\n",
       "      <th>4</th>\n",
       "      <td>31123</td>\n",
       "      <td>-3.125277</td>\n",
       "      <td>-0.170356</td>\n",
       "      <td>-0.002780</td>\n",
       "      <td>11.0</td>\n",
       "      <td>1184</td>\n",
       "      <td>6950.099982</td>\n",
       "      <td>1.731246</td>\n",
       "      <td>-439.475525</td>\n",
       "      <td>-42.887833</td>\n",
       "      <td>0.288541</td>\n",
       "      <td>1167.325690</td>\n",
       "      <td>2.470060</td>\n",
       "      <td>7512.987296</td>\n",
       "      <td>-3.044312</td>\n",
       "      <td>False</td>\n",
       "      <td>(31123, 1184)</td>\n",
       "    </tr>\n",
       "  </tbody>\n",
       "</table>\n",
       "</div>"
      ],
      "text/plain": [
       "   eventID  track_phi  track_tx  track_ty  track_nLHCbIDs  particle_key  \\\n",
       "0    31123   2.849378 -0.343474  0.103326            12.0           997   \n",
       "1    31123  -3.082239 -0.358948 -0.021330            12.0          1061   \n",
       "2    31123  -0.011027  0.096606 -0.001065            11.0          1066   \n",
       "3    31123   3.105371 -0.442834  0.016047             9.0          1105   \n",
       "4    31123  -3.125277 -0.170356 -0.002780            11.0          1184   \n",
       "\n",
       "        track_p  track_chi2  track_position_x  track_position_y  \\\n",
       "0   2020.072174    6.275086        494.515198       1124.644897   \n",
       "1   3841.771978    1.360128      -1080.491943       -141.657471   \n",
       "2  11831.335600    1.228229        235.222702         -5.106698   \n",
       "3   1982.935289    1.397992       -256.822998        115.813004   \n",
       "4   6950.099982    1.731246       -439.475525        -42.887833   \n",
       "\n",
       "   track_chi2PerDoF     track_pt  track_pseudoRapidity  track_position_r  \\\n",
       "0          0.896441   682.012956              1.749189       7599.958646   \n",
       "1          0.194304  1299.941130              1.746825       7578.755154   \n",
       "2          0.204705  1137.754221              3.032522       7503.689479   \n",
       "3          0.349498   803.347165              1.552877       7505.289515   \n",
       "4          0.288541  1167.325690              2.470060       7512.987296   \n",
       "\n",
       "   track_position_phi  particle_isDown_noVelo       track_id  \n",
       "0            1.156534                   False   (31123, 997)  \n",
       "1           -3.011232                   False  (31123, 1061)  \n",
       "2           -0.021707                   False  (31123, 1066)  \n",
       "3            2.717953                   False  (31123, 1105)  \n",
       "4           -3.044312                   False  (31123, 1184)  "
      ]
     },
     "execution_count": 6,
     "metadata": {},
     "output_type": "execute_result"
    }
   ],
   "source": [
    "track_data = data.drop([\"Unnamed: 0\", \n",
    "                      \"Unnamed: 0_x\", # index\n",
    "                      \"Unnamed: 0_y\",\n",
    "                      \"particle_hasUT\",\n",
    "                      \"particle_pid\", # this is MC info\n",
    "                      \"particle_hasScifi\",\n",
    "                      \"particle_isDown\",\n",
    "                      \"particle_hasVelo\",\n",
    "                      \"track_charge\",\n",
    "                      \"track_position_z\",\n",
    "                     ], axis=1)\n",
    "track_data[\"track_id\"] = track_data.apply(lambda row: (row[\"eventID\"], row[\"particle_key\"]), axis=1 )\n",
    "track_data.head()"
   ]
  },
  {
   "cell_type": "code",
   "execution_count": 8,
   "metadata": {},
   "outputs": [],
   "source": [
    "track_data.drop([\"eventID\",\"particle_key\"], axis=1, inplace=True)"
   ]
  },
  {
   "cell_type": "code",
   "execution_count": 9,
   "metadata": {},
   "outputs": [
    {
     "data": {
      "text/html": [
       "<div>\n",
       "<style scoped>\n",
       "    .dataframe tbody tr th:only-of-type {\n",
       "        vertical-align: middle;\n",
       "    }\n",
       "\n",
       "    .dataframe tbody tr th {\n",
       "        vertical-align: top;\n",
       "    }\n",
       "\n",
       "    .dataframe thead th {\n",
       "        text-align: right;\n",
       "    }\n",
       "</style>\n",
       "<table border=\"1\" class=\"dataframe\">\n",
       "  <thead>\n",
       "    <tr style=\"text-align: right;\">\n",
       "      <th></th>\n",
       "      <th>track_phi</th>\n",
       "      <th>track_tx</th>\n",
       "      <th>track_ty</th>\n",
       "      <th>track_nLHCbIDs</th>\n",
       "      <th>track_p</th>\n",
       "      <th>track_chi2</th>\n",
       "      <th>track_position_x</th>\n",
       "      <th>track_position_y</th>\n",
       "      <th>track_chi2PerDoF</th>\n",
       "      <th>track_pt</th>\n",
       "      <th>track_pseudoRapidity</th>\n",
       "      <th>track_position_r</th>\n",
       "      <th>track_position_phi</th>\n",
       "      <th>particle_isDown_noVelo</th>\n",
       "      <th>track_id</th>\n",
       "    </tr>\n",
       "  </thead>\n",
       "  <tbody>\n",
       "    <tr>\n",
       "      <th>0</th>\n",
       "      <td>2.849378</td>\n",
       "      <td>-0.343474</td>\n",
       "      <td>0.103326</td>\n",
       "      <td>12.0</td>\n",
       "      <td>2020.072174</td>\n",
       "      <td>6.275086</td>\n",
       "      <td>494.515198</td>\n",
       "      <td>1124.644897</td>\n",
       "      <td>0.896441</td>\n",
       "      <td>682.012956</td>\n",
       "      <td>1.749189</td>\n",
       "      <td>7599.958646</td>\n",
       "      <td>1.156534</td>\n",
       "      <td>False</td>\n",
       "      <td>(31123, 997)</td>\n",
       "    </tr>\n",
       "    <tr>\n",
       "      <th>1</th>\n",
       "      <td>-3.082239</td>\n",
       "      <td>-0.358948</td>\n",
       "      <td>-0.021330</td>\n",
       "      <td>12.0</td>\n",
       "      <td>3841.771978</td>\n",
       "      <td>1.360128</td>\n",
       "      <td>-1080.491943</td>\n",
       "      <td>-141.657471</td>\n",
       "      <td>0.194304</td>\n",
       "      <td>1299.941130</td>\n",
       "      <td>1.746825</td>\n",
       "      <td>7578.755154</td>\n",
       "      <td>-3.011232</td>\n",
       "      <td>False</td>\n",
       "      <td>(31123, 1061)</td>\n",
       "    </tr>\n",
       "    <tr>\n",
       "      <th>2</th>\n",
       "      <td>-0.011027</td>\n",
       "      <td>0.096606</td>\n",
       "      <td>-0.001065</td>\n",
       "      <td>11.0</td>\n",
       "      <td>11831.335600</td>\n",
       "      <td>1.228229</td>\n",
       "      <td>235.222702</td>\n",
       "      <td>-5.106698</td>\n",
       "      <td>0.204705</td>\n",
       "      <td>1137.754221</td>\n",
       "      <td>3.032522</td>\n",
       "      <td>7503.689479</td>\n",
       "      <td>-0.021707</td>\n",
       "      <td>False</td>\n",
       "      <td>(31123, 1066)</td>\n",
       "    </tr>\n",
       "    <tr>\n",
       "      <th>3</th>\n",
       "      <td>3.105371</td>\n",
       "      <td>-0.442834</td>\n",
       "      <td>0.016047</td>\n",
       "      <td>9.0</td>\n",
       "      <td>1982.935289</td>\n",
       "      <td>1.397992</td>\n",
       "      <td>-256.822998</td>\n",
       "      <td>115.813004</td>\n",
       "      <td>0.349498</td>\n",
       "      <td>803.347165</td>\n",
       "      <td>1.552877</td>\n",
       "      <td>7505.289515</td>\n",
       "      <td>2.717953</td>\n",
       "      <td>False</td>\n",
       "      <td>(31123, 1105)</td>\n",
       "    </tr>\n",
       "    <tr>\n",
       "      <th>4</th>\n",
       "      <td>-3.125277</td>\n",
       "      <td>-0.170356</td>\n",
       "      <td>-0.002780</td>\n",
       "      <td>11.0</td>\n",
       "      <td>6950.099982</td>\n",
       "      <td>1.731246</td>\n",
       "      <td>-439.475525</td>\n",
       "      <td>-42.887833</td>\n",
       "      <td>0.288541</td>\n",
       "      <td>1167.325690</td>\n",
       "      <td>2.470060</td>\n",
       "      <td>7512.987296</td>\n",
       "      <td>-3.044312</td>\n",
       "      <td>False</td>\n",
       "      <td>(31123, 1184)</td>\n",
       "    </tr>\n",
       "  </tbody>\n",
       "</table>\n",
       "</div>"
      ],
      "text/plain": [
       "   track_phi  track_tx  track_ty  track_nLHCbIDs       track_p  track_chi2  \\\n",
       "0   2.849378 -0.343474  0.103326            12.0   2020.072174    6.275086   \n",
       "1  -3.082239 -0.358948 -0.021330            12.0   3841.771978    1.360128   \n",
       "2  -0.011027  0.096606 -0.001065            11.0  11831.335600    1.228229   \n",
       "3   3.105371 -0.442834  0.016047             9.0   1982.935289    1.397992   \n",
       "4  -3.125277 -0.170356 -0.002780            11.0   6950.099982    1.731246   \n",
       "\n",
       "   track_position_x  track_position_y  track_chi2PerDoF     track_pt  \\\n",
       "0        494.515198       1124.644897          0.896441   682.012956   \n",
       "1      -1080.491943       -141.657471          0.194304  1299.941130   \n",
       "2        235.222702         -5.106698          0.204705  1137.754221   \n",
       "3       -256.822998        115.813004          0.349498   803.347165   \n",
       "4       -439.475525        -42.887833          0.288541  1167.325690   \n",
       "\n",
       "   track_pseudoRapidity  track_position_r  track_position_phi  \\\n",
       "0              1.749189       7599.958646            1.156534   \n",
       "1              1.746825       7578.755154           -3.011232   \n",
       "2              3.032522       7503.689479           -0.021707   \n",
       "3              1.552877       7505.289515            2.717953   \n",
       "4              2.470060       7512.987296           -3.044312   \n",
       "\n",
       "   particle_isDown_noVelo       track_id  \n",
       "0                   False   (31123, 997)  \n",
       "1                   False  (31123, 1061)  \n",
       "2                   False  (31123, 1066)  \n",
       "3                   False  (31123, 1105)  \n",
       "4                   False  (31123, 1184)  "
      ]
     },
     "execution_count": 9,
     "metadata": {},
     "output_type": "execute_result"
    }
   ],
   "source": [
    "track_data.head()"
   ]
  },
  {
   "cell_type": "code",
   "execution_count": 10,
   "metadata": {},
   "outputs": [],
   "source": [
    "cmbined_data = track_data.merge(hits_df,\n",
    "                               on=\"track_id\",\n",
    "                               how=\"left\")"
   ]
  },
  {
   "cell_type": "code",
   "execution_count": 23,
   "metadata": {},
   "outputs": [],
   "source": [
    "cmbined_data = cmbined_data[cmbined_data['target'].notna()]"
   ]
  },
  {
   "cell_type": "code",
   "execution_count": 17,
   "metadata": {},
   "outputs": [],
   "source": [
    "cmbined_data.particle_isDown_noVelo = cmbined_data.particle_isDown_noVelo.astype(int)"
   ]
  },
  {
   "cell_type": "code",
   "execution_count": 25,
   "metadata": {},
   "outputs": [
    {
     "data": {
      "text/html": [
       "<div>\n",
       "<style scoped>\n",
       "    .dataframe tbody tr th:only-of-type {\n",
       "        vertical-align: middle;\n",
       "    }\n",
       "\n",
       "    .dataframe tbody tr th {\n",
       "        vertical-align: top;\n",
       "    }\n",
       "\n",
       "    .dataframe thead th {\n",
       "        text-align: right;\n",
       "    }\n",
       "</style>\n",
       "<table border=\"1\" class=\"dataframe\">\n",
       "  <thead>\n",
       "    <tr style=\"text-align: right;\">\n",
       "      <th></th>\n",
       "      <th>track_phi</th>\n",
       "      <th>track_tx</th>\n",
       "      <th>track_ty</th>\n",
       "      <th>track_nLHCbIDs</th>\n",
       "      <th>track_p</th>\n",
       "      <th>track_chi2</th>\n",
       "      <th>track_position_x</th>\n",
       "      <th>track_position_y</th>\n",
       "      <th>track_chi2PerDoF</th>\n",
       "      <th>track_pt</th>\n",
       "      <th>track_pseudoRapidity</th>\n",
       "      <th>track_position_r</th>\n",
       "      <th>track_position_phi</th>\n",
       "      <th>track_id</th>\n",
       "      <th>features</th>\n",
       "      <th>target</th>\n",
       "    </tr>\n",
       "  </thead>\n",
       "  <tbody>\n",
       "    <tr>\n",
       "      <th>0</th>\n",
       "      <td>2.849378</td>\n",
       "      <td>-0.343474</td>\n",
       "      <td>0.103326</td>\n",
       "      <td>12.0</td>\n",
       "      <td>2020.072174</td>\n",
       "      <td>6.275086</td>\n",
       "      <td>494.515198</td>\n",
       "      <td>1124.644897</td>\n",
       "      <td>0.896441</td>\n",
       "      <td>682.012956</td>\n",
       "      <td>1.749189</td>\n",
       "      <td>7599.958646</td>\n",
       "      <td>1.156534</td>\n",
       "      <td>(31123, 997)</td>\n",
       "      <td>[[-0.0, 1.0, 34.602074, 378.965], [0.08748923,...</td>\n",
       "      <td>0.0</td>\n",
       "    </tr>\n",
       "    <tr>\n",
       "      <th>1</th>\n",
       "      <td>-3.082239</td>\n",
       "      <td>-0.358948</td>\n",
       "      <td>-0.021330</td>\n",
       "      <td>12.0</td>\n",
       "      <td>3841.771978</td>\n",
       "      <td>1.360128</td>\n",
       "      <td>-1080.491943</td>\n",
       "      <td>-141.657471</td>\n",
       "      <td>0.194304</td>\n",
       "      <td>1299.941130</td>\n",
       "      <td>1.746825</td>\n",
       "      <td>7578.755154</td>\n",
       "      <td>-3.011232</td>\n",
       "      <td>(31123, 1061)</td>\n",
       "      <td>[[0.0, 0.0, 34.602074, -1198.815], [0.08748923...</td>\n",
       "      <td>0.0</td>\n",
       "    </tr>\n",
       "    <tr>\n",
       "      <th>2</th>\n",
       "      <td>-0.011027</td>\n",
       "      <td>0.096606</td>\n",
       "      <td>-0.001065</td>\n",
       "      <td>11.0</td>\n",
       "      <td>11831.335600</td>\n",
       "      <td>1.228229</td>\n",
       "      <td>235.222702</td>\n",
       "      <td>-5.106698</td>\n",
       "      <td>0.204705</td>\n",
       "      <td>1137.754221</td>\n",
       "      <td>3.032522</td>\n",
       "      <td>7503.689479</td>\n",
       "      <td>-0.021707</td>\n",
       "      <td>(31123, 1066)</td>\n",
       "      <td>[[0.0, 0.0, 34.602074, 267.115], [0.08748923, ...</td>\n",
       "      <td>0.0</td>\n",
       "    </tr>\n",
       "    <tr>\n",
       "      <th>3</th>\n",
       "      <td>3.105371</td>\n",
       "      <td>-0.442834</td>\n",
       "      <td>0.016047</td>\n",
       "      <td>9.0</td>\n",
       "      <td>1982.935289</td>\n",
       "      <td>1.397992</td>\n",
       "      <td>-256.822998</td>\n",
       "      <td>115.813004</td>\n",
       "      <td>0.349498</td>\n",
       "      <td>803.347165</td>\n",
       "      <td>1.552877</td>\n",
       "      <td>7505.289515</td>\n",
       "      <td>2.717953</td>\n",
       "      <td>(31123, 1105)</td>\n",
       "      <td>[[-0.0, 1.0, 34.602074, -405.29], [0.08748923,...</td>\n",
       "      <td>0.0</td>\n",
       "    </tr>\n",
       "    <tr>\n",
       "      <th>4</th>\n",
       "      <td>-3.125277</td>\n",
       "      <td>-0.170356</td>\n",
       "      <td>-0.002780</td>\n",
       "      <td>11.0</td>\n",
       "      <td>6950.099982</td>\n",
       "      <td>1.731246</td>\n",
       "      <td>-439.475525</td>\n",
       "      <td>-42.887833</td>\n",
       "      <td>0.288541</td>\n",
       "      <td>1167.325690</td>\n",
       "      <td>2.470060</td>\n",
       "      <td>7512.987296</td>\n",
       "      <td>-3.044312</td>\n",
       "      <td>(31123, 1184)</td>\n",
       "      <td>[[0.0, 0.0, 34.602074, -495.64], [0.08748923, ...</td>\n",
       "      <td>0.0</td>\n",
       "    </tr>\n",
       "  </tbody>\n",
       "</table>\n",
       "</div>"
      ],
      "text/plain": [
       "   track_phi  track_tx  track_ty  track_nLHCbIDs       track_p  track_chi2  \\\n",
       "0   2.849378 -0.343474  0.103326            12.0   2020.072174    6.275086   \n",
       "1  -3.082239 -0.358948 -0.021330            12.0   3841.771978    1.360128   \n",
       "2  -0.011027  0.096606 -0.001065            11.0  11831.335600    1.228229   \n",
       "3   3.105371 -0.442834  0.016047             9.0   1982.935289    1.397992   \n",
       "4  -3.125277 -0.170356 -0.002780            11.0   6950.099982    1.731246   \n",
       "\n",
       "   track_position_x  track_position_y  track_chi2PerDoF     track_pt  \\\n",
       "0        494.515198       1124.644897          0.896441   682.012956   \n",
       "1      -1080.491943       -141.657471          0.194304  1299.941130   \n",
       "2        235.222702         -5.106698          0.204705  1137.754221   \n",
       "3       -256.822998        115.813004          0.349498   803.347165   \n",
       "4       -439.475525        -42.887833          0.288541  1167.325690   \n",
       "\n",
       "   track_pseudoRapidity  track_position_r  track_position_phi       track_id  \\\n",
       "0              1.749189       7599.958646            1.156534   (31123, 997)   \n",
       "1              1.746825       7578.755154           -3.011232  (31123, 1061)   \n",
       "2              3.032522       7503.689479           -0.021707  (31123, 1066)   \n",
       "3              1.552877       7505.289515            2.717953  (31123, 1105)   \n",
       "4              2.470060       7512.987296           -3.044312  (31123, 1184)   \n",
       "\n",
       "                                            features  target  \n",
       "0  [[-0.0, 1.0, 34.602074, 378.965], [0.08748923,...     0.0  \n",
       "1  [[0.0, 0.0, 34.602074, -1198.815], [0.08748923...     0.0  \n",
       "2  [[0.0, 0.0, 34.602074, 267.115], [0.08748923, ...     0.0  \n",
       "3  [[-0.0, 1.0, 34.602074, -405.29], [0.08748923,...     0.0  \n",
       "4  [[0.0, 0.0, 34.602074, -495.64], [0.08748923, ...     0.0  "
      ]
     },
     "execution_count": 25,
     "metadata": {},
     "output_type": "execute_result"
    }
   ],
   "source": [
    "cmbined_data.head()"
   ]
  },
  {
   "cell_type": "code",
   "execution_count": 30,
   "metadata": {},
   "outputs": [],
   "source": [
    "class HitsWithTracksDataset(Dataset):\n",
    "    def __init__(self, hits_df, track_df):\n",
    "        self.hit_features = hits_df.features\n",
    "        self.track_features = track_df\n",
    "        self.target  = hits_df.target\n",
    "        \n",
    "\n",
    "    def __getitem__(self,index):        \n",
    "        return (torch.Tensor(self.track_features.iloc[index]),\n",
    "                torch.tensor(self.hit_features.iloc[index]),\n",
    "                torch.tensor(self.target.iloc[index]))\n",
    "        \n",
    "    def __len__(self):\n",
    "        return len(self.target)"
   ]
  },
  {
   "cell_type": "code",
   "execution_count": 31,
   "metadata": {},
   "outputs": [],
   "source": [
    "X_train, X_valid = train_test_split(cmbined_data, test_size=0.2, random_state=12)"
   ]
  },
  {
   "cell_type": "code",
   "execution_count": 39,
   "metadata": {},
   "outputs": [],
   "source": [
    "X_train_hits = X_train[[\"features\",\"target\"]]\n",
    "X_train_tracks = X_train.drop([\"features\",\"target\",\"track_id\"],axis=1)\n",
    "\n",
    "X_valid_hits = X_valid[[\"features\",\"target\"]]\n",
    "X_valid_tracks = X_valid.drop([\"features\",\"target\",\"track_id\"],axis=1)"
   ]
  },
  {
   "cell_type": "code",
   "execution_count": 40,
   "metadata": {},
   "outputs": [
    {
     "data": {
      "text/html": [
       "<div>\n",
       "<style scoped>\n",
       "    .dataframe tbody tr th:only-of-type {\n",
       "        vertical-align: middle;\n",
       "    }\n",
       "\n",
       "    .dataframe tbody tr th {\n",
       "        vertical-align: top;\n",
       "    }\n",
       "\n",
       "    .dataframe thead th {\n",
       "        text-align: right;\n",
       "    }\n",
       "</style>\n",
       "<table border=\"1\" class=\"dataframe\">\n",
       "  <thead>\n",
       "    <tr style=\"text-align: right;\">\n",
       "      <th></th>\n",
       "      <th>track_phi</th>\n",
       "      <th>track_tx</th>\n",
       "      <th>track_ty</th>\n",
       "      <th>track_nLHCbIDs</th>\n",
       "      <th>track_p</th>\n",
       "      <th>track_chi2</th>\n",
       "      <th>track_position_x</th>\n",
       "      <th>track_position_y</th>\n",
       "      <th>track_chi2PerDoF</th>\n",
       "      <th>track_pt</th>\n",
       "      <th>track_pseudoRapidity</th>\n",
       "      <th>track_position_r</th>\n",
       "      <th>track_position_phi</th>\n",
       "    </tr>\n",
       "  </thead>\n",
       "  <tbody>\n",
       "    <tr>\n",
       "      <th>2515564</th>\n",
       "      <td>0.228825</td>\n",
       "      <td>0.244668</td>\n",
       "      <td>0.056984</td>\n",
       "      <td>12.0</td>\n",
       "      <td>3332.727302</td>\n",
       "      <td>9.506754</td>\n",
       "      <td>33.876434</td>\n",
       "      <td>464.236938</td>\n",
       "      <td>1.358108</td>\n",
       "      <td>812.006409</td>\n",
       "      <td>2.090003</td>\n",
       "      <td>7514.430354</td>\n",
       "      <td>1.497953</td>\n",
       "    </tr>\n",
       "    <tr>\n",
       "      <th>5327399</th>\n",
       "      <td>0.097754</td>\n",
       "      <td>0.641672</td>\n",
       "      <td>0.062927</td>\n",
       "      <td>12.0</td>\n",
       "      <td>2178.160352</td>\n",
       "      <td>8.360332</td>\n",
       "      <td>1473.569092</td>\n",
       "      <td>601.963379</td>\n",
       "      <td>1.194333</td>\n",
       "      <td>1180.307957</td>\n",
       "      <td>1.222718</td>\n",
       "      <td>7667.057178</td>\n",
       "      <td>0.387818</td>\n",
       "    </tr>\n",
       "    <tr>\n",
       "      <th>3157043</th>\n",
       "      <td>0.056733</td>\n",
       "      <td>0.810708</td>\n",
       "      <td>0.046043</td>\n",
       "      <td>10.0</td>\n",
       "      <td>1776.674875</td>\n",
       "      <td>4.745351</td>\n",
       "      <td>1547.039795</td>\n",
       "      <td>641.032410</td>\n",
       "      <td>0.949070</td>\n",
       "      <td>1119.954563</td>\n",
       "      <td>1.035987</td>\n",
       "      <td>7684.676615</td>\n",
       "      <td>0.392825</td>\n",
       "    </tr>\n",
       "    <tr>\n",
       "      <th>3655435</th>\n",
       "      <td>-2.881100</td>\n",
       "      <td>-0.080149</td>\n",
       "      <td>-0.021364</td>\n",
       "      <td>12.0</td>\n",
       "      <td>15479.515780</td>\n",
       "      <td>2.808749</td>\n",
       "      <td>-239.034119</td>\n",
       "      <td>-169.015625</td>\n",
       "      <td>0.401250</td>\n",
       "      <td>1279.587920</td>\n",
       "      <td>3.184414</td>\n",
       "      <td>7505.711398</td>\n",
       "      <td>-2.526133</td>\n",
       "    </tr>\n",
       "    <tr>\n",
       "      <th>2360240</th>\n",
       "      <td>-0.082528</td>\n",
       "      <td>0.079708</td>\n",
       "      <td>-0.006593</td>\n",
       "      <td>12.0</td>\n",
       "      <td>11982.581328</td>\n",
       "      <td>1.320090</td>\n",
       "      <td>121.448929</td>\n",
       "      <td>-67.612083</td>\n",
       "      <td>0.188584</td>\n",
       "      <td>955.317732</td>\n",
       "      <td>3.220720</td>\n",
       "      <td>7501.287972</td>\n",
       "      <td>-0.507982</td>\n",
       "    </tr>\n",
       "  </tbody>\n",
       "</table>\n",
       "</div>"
      ],
      "text/plain": [
       "         track_phi  track_tx  track_ty  track_nLHCbIDs       track_p  \\\n",
       "2515564   0.228825  0.244668  0.056984            12.0   3332.727302   \n",
       "5327399   0.097754  0.641672  0.062927            12.0   2178.160352   \n",
       "3157043   0.056733  0.810708  0.046043            10.0   1776.674875   \n",
       "3655435  -2.881100 -0.080149 -0.021364            12.0  15479.515780   \n",
       "2360240  -0.082528  0.079708 -0.006593            12.0  11982.581328   \n",
       "\n",
       "         track_chi2  track_position_x  track_position_y  track_chi2PerDoF  \\\n",
       "2515564    9.506754         33.876434        464.236938          1.358108   \n",
       "5327399    8.360332       1473.569092        601.963379          1.194333   \n",
       "3157043    4.745351       1547.039795        641.032410          0.949070   \n",
       "3655435    2.808749       -239.034119       -169.015625          0.401250   \n",
       "2360240    1.320090        121.448929        -67.612083          0.188584   \n",
       "\n",
       "            track_pt  track_pseudoRapidity  track_position_r  \\\n",
       "2515564   812.006409              2.090003       7514.430354   \n",
       "5327399  1180.307957              1.222718       7667.057178   \n",
       "3157043  1119.954563              1.035987       7684.676615   \n",
       "3655435  1279.587920              3.184414       7505.711398   \n",
       "2360240   955.317732              3.220720       7501.287972   \n",
       "\n",
       "         track_position_phi  \n",
       "2515564            1.497953  \n",
       "5327399            0.387818  \n",
       "3157043            0.392825  \n",
       "3655435           -2.526133  \n",
       "2360240           -0.507982  "
      ]
     },
     "execution_count": 40,
     "metadata": {},
     "output_type": "execute_result"
    }
   ],
   "source": [
    "X_train_tracks.head()"
   ]
  },
  {
   "cell_type": "code",
   "execution_count": 41,
   "metadata": {},
   "outputs": [],
   "source": [
    "X_valid_tracks = (X_valid_tracks - X_train_tracks.mean()) / X_train_tracks.std()\n",
    "X_train_tracks = (X_train_tracks - X_train_tracks.mean()) / X_train_tracks.std()\n"
   ]
  },
  {
   "cell_type": "code",
   "execution_count": 42,
   "metadata": {},
   "outputs": [
    {
     "data": {
      "text/html": [
       "<div>\n",
       "<style scoped>\n",
       "    .dataframe tbody tr th:only-of-type {\n",
       "        vertical-align: middle;\n",
       "    }\n",
       "\n",
       "    .dataframe tbody tr th {\n",
       "        vertical-align: top;\n",
       "    }\n",
       "\n",
       "    .dataframe thead th {\n",
       "        text-align: right;\n",
       "    }\n",
       "</style>\n",
       "<table border=\"1\" class=\"dataframe\">\n",
       "  <thead>\n",
       "    <tr style=\"text-align: right;\">\n",
       "      <th></th>\n",
       "      <th>track_phi</th>\n",
       "      <th>track_tx</th>\n",
       "      <th>track_ty</th>\n",
       "      <th>track_nLHCbIDs</th>\n",
       "      <th>track_p</th>\n",
       "      <th>track_chi2</th>\n",
       "      <th>track_position_x</th>\n",
       "      <th>track_position_y</th>\n",
       "      <th>track_chi2PerDoF</th>\n",
       "      <th>track_pt</th>\n",
       "      <th>track_pseudoRapidity</th>\n",
       "      <th>track_position_r</th>\n",
       "      <th>track_position_phi</th>\n",
       "    </tr>\n",
       "  </thead>\n",
       "  <tbody>\n",
       "    <tr>\n",
       "      <th>2515564</th>\n",
       "      <td>0.117528</td>\n",
       "      <td>0.805444</td>\n",
       "      <td>0.946779</td>\n",
       "      <td>0.716983</td>\n",
       "      <td>-0.006258</td>\n",
       "      <td>1.841356</td>\n",
       "      <td>0.027917</td>\n",
       "      <td>1.000326</td>\n",
       "      <td>1.559017</td>\n",
       "      <td>-0.011251</td>\n",
       "      <td>-0.468302</td>\n",
       "      <td>-0.567504</td>\n",
       "      <td>0.785628</td>\n",
       "    </tr>\n",
       "    <tr>\n",
       "      <th>5327399</th>\n",
       "      <td>0.052894</td>\n",
       "      <td>2.166221</td>\n",
       "      <td>1.045463</td>\n",
       "      <td>0.716983</td>\n",
       "      <td>-0.006916</td>\n",
       "      <td>1.477097</td>\n",
       "      <td>1.951745</td>\n",
       "      <td>1.297183</td>\n",
       "      <td>1.231738</td>\n",
       "      <td>-0.004200</td>\n",
       "      <td>-1.468615</td>\n",
       "      <td>1.785549</td>\n",
       "      <td>0.204551</td>\n",
       "    </tr>\n",
       "    <tr>\n",
       "      <th>3157043</th>\n",
       "      <td>0.032666</td>\n",
       "      <td>2.745611</td>\n",
       "      <td>0.765071</td>\n",
       "      <td>-2.125336</td>\n",
       "      <td>-0.007145</td>\n",
       "      <td>0.328488</td>\n",
       "      <td>2.049922</td>\n",
       "      <td>1.381393</td>\n",
       "      <td>0.741618</td>\n",
       "      <td>-0.005356</td>\n",
       "      <td>-1.683987</td>\n",
       "      <td>2.057189</td>\n",
       "      <td>0.207171</td>\n",
       "    </tr>\n",
       "    <tr>\n",
       "      <th>3655435</th>\n",
       "      <td>-1.416032</td>\n",
       "      <td>-0.307905</td>\n",
       "      <td>-0.354394</td>\n",
       "      <td>0.716983</td>\n",
       "      <td>0.000668</td>\n",
       "      <td>-0.286839</td>\n",
       "      <td>-0.336767</td>\n",
       "      <td>-0.364595</td>\n",
       "      <td>-0.353117</td>\n",
       "      <td>-0.002299</td>\n",
       "      <td>0.793974</td>\n",
       "      <td>-0.701925</td>\n",
       "      <td>-1.320695</td>\n",
       "    </tr>\n",
       "    <tr>\n",
       "      <th>2360240</th>\n",
       "      <td>-0.036006</td>\n",
       "      <td>0.240023</td>\n",
       "      <td>-0.109092</td>\n",
       "      <td>0.716983</td>\n",
       "      <td>-0.001326</td>\n",
       "      <td>-0.759839</td>\n",
       "      <td>0.144939</td>\n",
       "      <td>-0.146029</td>\n",
       "      <td>-0.778097</td>\n",
       "      <td>-0.008507</td>\n",
       "      <td>0.835848</td>\n",
       "      <td>-0.770121</td>\n",
       "      <td>-0.264337</td>\n",
       "    </tr>\n",
       "  </tbody>\n",
       "</table>\n",
       "</div>"
      ],
      "text/plain": [
       "         track_phi  track_tx  track_ty  track_nLHCbIDs   track_p  track_chi2  \\\n",
       "2515564   0.117528  0.805444  0.946779        0.716983 -0.006258    1.841356   \n",
       "5327399   0.052894  2.166221  1.045463        0.716983 -0.006916    1.477097   \n",
       "3157043   0.032666  2.745611  0.765071       -2.125336 -0.007145    0.328488   \n",
       "3655435  -1.416032 -0.307905 -0.354394        0.716983  0.000668   -0.286839   \n",
       "2360240  -0.036006  0.240023 -0.109092        0.716983 -0.001326   -0.759839   \n",
       "\n",
       "         track_position_x  track_position_y  track_chi2PerDoF  track_pt  \\\n",
       "2515564          0.027917          1.000326          1.559017 -0.011251   \n",
       "5327399          1.951745          1.297183          1.231738 -0.004200   \n",
       "3157043          2.049922          1.381393          0.741618 -0.005356   \n",
       "3655435         -0.336767         -0.364595         -0.353117 -0.002299   \n",
       "2360240          0.144939         -0.146029         -0.778097 -0.008507   \n",
       "\n",
       "         track_pseudoRapidity  track_position_r  track_position_phi  \n",
       "2515564             -0.468302         -0.567504            0.785628  \n",
       "5327399             -1.468615          1.785549            0.204551  \n",
       "3157043             -1.683987          2.057189            0.207171  \n",
       "3655435              0.793974         -0.701925           -1.320695  \n",
       "2360240              0.835848         -0.770121           -0.264337  "
      ]
     },
     "execution_count": 42,
     "metadata": {},
     "output_type": "execute_result"
    }
   ],
   "source": [
    "X_train_tracks.head()"
   ]
  },
  {
   "cell_type": "code",
   "execution_count": 44,
   "metadata": {},
   "outputs": [],
   "source": [
    "datasets={\n",
    "    \"train\":HitsWithTracksDataset(X_train_hits, X_train_tracks ),\n",
    "    \"valid\":HitsWithTracksDataset(X_valid_hits,X_valid_tracks)\n",
    "}\n"
   ]
  },
  {
   "cell_type": "code",
   "execution_count": 56,
   "metadata": {},
   "outputs": [],
   "source": [
    "def create_sampler(target):\n",
    "    class_sample_count = np.array(\n",
    "        [len(np.where(target == t)[0]) for t in np.unique(target)])\n",
    "    weight = 1. / class_sample_count\n",
    "    samples_weight = np.array([weight[t] for t in target.astype(int)])\n",
    "    samples_weight = torch.from_numpy(samples_weight)\n",
    "    samples_weigth = samples_weight.double()\n",
    "    return torch.utils.data.sampler.WeightedRandomSampler(samples_weight, len(samples_weight))\n",
    "\n"
   ]
  },
  {
   "cell_type": "code",
   "execution_count": 57,
   "metadata": {},
   "outputs": [],
   "source": [
    "dataloaders = { \n",
    "    'train':DataLoader(datasets[\"train\"], \n",
    "                   batch_size=256,\n",
    "                    sampler = create_sampler(X_train_hits.target),\n",
    "                    num_workers=5),\n",
    "    'valid':DataLoader(datasets[\"valid\"],\n",
    "                      batch_size=128,\n",
    "                      shuffle=False,\n",
    "                      num_workers=5)\n",
    "}"
   ]
  },
  {
   "cell_type": "code",
   "execution_count": 59,
   "metadata": {},
   "outputs": [
    {
     "name": "stdout",
     "output_type": "stream",
     "text": [
      "track features tensor([[ 1.3618, -0.3988,  0.7276,  ...,  0.4159, -0.5578,  1.2384],\n",
      "        [-1.0994, -0.6479, -3.7730,  ..., -0.6261,  2.5489, -0.8822],\n",
      "        [-1.4635, -1.3816, -1.0830,  ..., -0.9757, -0.1202, -1.4479],\n",
      "        ...,\n",
      "        [ 1.5459, -2.4206,  0.1883,  ..., -1.5427,  1.9068,  1.6442],\n",
      "        [ 0.0319,  2.2193,  0.6035,  ..., -1.4885,  1.6501,  0.1153],\n",
      "        [ 0.0473,  0.7414,  0.3258,  ..., -0.3538, -0.3858,  0.1148]]) torch.Size([256, 13])\n",
      "hit fetarures tensor([[[-0.0000e+00,  1.0000e+00,  3.4602e+01, -3.7384e+02],\n",
      "         [ 8.7489e-02,  1.0000e+00,  3.4602e+01, -4.1187e+02],\n",
      "         [-8.7489e-02,  1.0000e+00,  3.4602e+01, -3.5798e+02],\n",
      "         ...,\n",
      "         [ 8.7489e-02,  1.0000e+00,  3.4602e+01, -5.6964e+02],\n",
      "         [-8.7489e-02,  1.0000e+00,  3.4602e+01, -5.0557e+02],\n",
      "         [-0.0000e+00,  1.0000e+00,  3.4602e+01, -5.4986e+02]],\n",
      "\n",
      "        [[ 0.0000e+00,  0.0000e+00,  3.4602e+01, -2.7037e+02],\n",
      "         [ 8.7489e-02,  0.0000e+00,  3.4602e+01, -1.1720e+02],\n",
      "         [-8.7489e-02,  0.0000e+00,  3.4602e+01, -4.6210e+02],\n",
      "         ...,\n",
      "         [ 8.7489e-02,  0.0000e+00,  3.4602e+01, -3.3493e+02],\n",
      "         [-8.7489e-02,  0.0000e+00,  3.4602e+01, -7.3414e+02],\n",
      "         [ 0.0000e+00,  0.0000e+00,  3.4602e+01, -5.5261e+02]],\n",
      "\n",
      "        [[ 0.0000e+00,  0.0000e+00,  3.4602e+01, -8.8336e+02],\n",
      "         [ 8.7489e-02,  0.0000e+00,  3.4602e+01, -8.8386e+02],\n",
      "         [-8.7489e-02,  0.0000e+00,  3.4602e+01, -9.6919e+02],\n",
      "         ...,\n",
      "         [ 8.7489e-02,  0.0000e+00,  3.4602e+01, -1.4665e+03],\n",
      "         [-8.7489e-02,  0.0000e+00,  3.4602e+01, -1.5696e+03],\n",
      "         [ 0.0000e+00,  0.0000e+00,  3.4602e+01, -1.5649e+03]],\n",
      "\n",
      "        ...,\n",
      "\n",
      "        [[-0.0000e+00,  1.0000e+00,  3.4602e+01, -1.8605e+03],\n",
      "         [ 8.7489e-02,  1.0000e+00,  2.5000e+01, -1.9121e+03],\n",
      "         [ 0.0000e+00,  0.0000e+00,  0.0000e+00,  0.0000e+00],\n",
      "         ...,\n",
      "         [ 8.7489e-02,  1.0000e+00,  1.4793e+01, -2.9526e+03],\n",
      "         [-8.7489e-02,  1.0000e+00,  4.0000e+02, -3.0041e+03],\n",
      "         [-0.0000e+00,  1.0000e+00,  2.5000e+01, -3.0604e+03]],\n",
      "\n",
      "        [[-0.0000e+00,  1.0000e+00,  2.5000e+01,  1.7311e+03],\n",
      "         [ 8.7489e-02,  1.0000e+00,  2.5000e+01,  1.7479e+03],\n",
      "         [-8.7489e-02,  1.0000e+00,  3.4602e+01,  1.8568e+03],\n",
      "         ...,\n",
      "         [ 8.7489e-02,  1.0000e+00,  4.0000e+02,  2.7089e+03],\n",
      "         [-8.7489e-02,  1.0000e+00,  1.8904e+01,  2.8304e+03],\n",
      "         [-0.0000e+00,  1.0000e+00,  3.4602e+01,  2.8455e+03]],\n",
      "\n",
      "        [[-0.0000e+00,  1.0000e+00,  3.4602e+01,  6.8791e+02],\n",
      "         [ 8.7489e-02,  1.0000e+00,  2.5000e+01,  6.9166e+02],\n",
      "         [-8.7489e-02,  1.0000e+00,  3.4602e+01,  7.3299e+02],\n",
      "         ...,\n",
      "         [ 8.7489e-02,  1.0000e+00,  3.4602e+01,  1.0200e+03],\n",
      "         [ 0.0000e+00,  0.0000e+00,  0.0000e+00,  0.0000e+00],\n",
      "         [-0.0000e+00,  1.0000e+00,  3.4602e+01,  1.0694e+03]]],\n",
      "       dtype=torch.float64) 256\n",
      "target tensor([1., 0., 0., 0., 1., 1., 1., 0., 0., 1., 0., 0., 1., 0., 1., 1., 1., 0.,\n",
      "        0., 1., 1., 0., 0., 1., 0., 0., 1., 0., 1., 0., 0., 0., 0., 0., 1., 1.,\n",
      "        0., 1., 0., 0., 0., 1., 0., 1., 0., 1., 1., 1., 0., 0., 1., 1., 0., 1.,\n",
      "        1., 1., 0., 1., 0., 0., 0., 1., 1., 0., 0., 1., 1., 0., 1., 1., 1., 0.,\n",
      "        0., 1., 1., 1., 1., 1., 1., 0., 0., 0., 1., 1., 0., 0., 1., 1., 0., 0.,\n",
      "        0., 1., 0., 0., 0., 1., 1., 0., 0., 1., 0., 1., 1., 0., 0., 1., 1., 0.,\n",
      "        0., 0., 1., 1., 0., 0., 1., 0., 0., 1., 1., 0., 0., 0., 0., 1., 1., 0.,\n",
      "        0., 1., 1., 0., 0., 1., 0., 1., 0., 1., 1., 0., 0., 0., 0., 0., 1., 1.,\n",
      "        0., 1., 1., 1., 1., 0., 0., 1., 1., 0., 1., 1., 0., 0., 1., 1., 1., 1.,\n",
      "        0., 0., 0., 0., 1., 1., 0., 0., 1., 1., 1., 1., 1., 1., 0., 1., 0., 0.,\n",
      "        0., 0., 1., 1., 1., 0., 1., 0., 0., 1., 0., 1., 0., 1., 0., 1., 1., 0.,\n",
      "        0., 0., 1., 0., 0., 0., 1., 0., 1., 0., 0., 0., 0., 1., 1., 1., 0., 1.,\n",
      "        0., 0., 0., 1., 0., 1., 1., 0., 0., 1., 0., 0., 1., 1., 0., 0., 0., 0.,\n",
      "        0., 1., 0., 1., 0., 0., 0., 1., 1., 1., 0., 1., 1., 1., 0., 0., 0., 1.,\n",
      "        1., 0., 1., 1.]) 256\n"
     ]
    }
   ],
   "source": [
    "    for batch in dataloaders[\"train\"]:\n",
    "        print(\"track features\", batch[0], batch[0].shape)\n",
    "        print(\"hit fetarures\", batch[1], len(batch[1]))\n",
    "        print(\"target\", batch[2], len(batch[2]))\n",
    "\n",
    "        break"
   ]
  },
  {
   "cell_type": "markdown",
   "metadata": {},
   "source": [
    "# Build a model "
   ]
  },
  {
   "cell_type": "code",
   "execution_count": 106,
   "metadata": {},
   "outputs": [],
   "source": [
    "class UpgradeTrackerNN(nn.Module):\n",
    "    def __init__(self, config):\n",
    "        super(UpgradeTrackerNN, self).__init__()\n",
    "        # construct LSTM \n",
    "        self.num_layers_lstm = config[\"num_layers_lstm\"]\n",
    "        self.hidden_size_lstm = config[\"hidden_size_lstm\"]\n",
    "        self.batch_size = config[\"batch_size\"]\n",
    "\n",
    "        self.rnn = nn.LSTM(\n",
    "            input_size= config[\"lstm_input_size\"],\n",
    "            hidden_size= self.hidden_size_lstm,\n",
    "            num_layers=self.num_layers_lstm,\n",
    "            batch_first=True,\n",
    "        )\n",
    "        #construct linear model\n",
    "        self.input_layer = nn.Linear(config[\"track_input_size\"]+self.hidden_size_lstm,\n",
    "                                   config[\"liner_hidden_dict\"][0])\n",
    "        \n",
    "        self.linear_module = nn.ModuleList()\n",
    "        for layer_it in range(config[\"linear_n_hidden\"]-1):\n",
    "            self.linear_module.append(nn.Linear(config[\"liner_hidden_dict\"][layer_it],\n",
    "                                       config[\"liner_hidden_dict\"][layer_it+1])\n",
    "                              )\n",
    "            \n",
    "        self.output_layer = nn.Linear(config[\"liner_hidden_dict\"][config[\"linear_n_hidden\"]-1], 2)\n",
    "        \n",
    "        #init model\n",
    "        self.linear_module.apply(self._init_weights)\n",
    "        self._init_weights(self.input_layer)\n",
    "        self._init_weights(self.output_layer)\n",
    "        self.hidden = self.init_hidden()\n",
    "\n",
    "    def forward(self, hits, tracks):\n",
    "        # Avoid breaking if the last batch has a different size\n",
    "        batch_size = hits.size(0)\n",
    "        if batch_size != self.batch_size:\n",
    "            self.batch_size = batch_size\n",
    "        # make sure hits are type of float    \n",
    "        hits = hits.float()\n",
    "        output, self.hidden = self.rnn(hits, self.init_hidden())\n",
    "        return self._forward_linear(output[:,-1,:],tracks)\n",
    "        \n",
    "        \n",
    "    def init_hidden(self):\n",
    "        hidden = Variable(torch.zeros(self.num_layers_lstm, self.batch_size, self.hidden_size_lstm)).to(device)\n",
    "        cell =  Variable(torch.zeros(self.num_layers_lstm, self.batch_size, self.hidden_size_lstm)).to(device)\n",
    "        return (hidden, cell)\n",
    "    \n",
    "    def _init_weights(self, m):\n",
    "        if isinstance(m, nn.Linear):\n",
    "            nn.init.xavier_normal_(m.weight)\n",
    "            m.bias.data.fill_(0.01)\n",
    "    \n",
    "    def _forward_linear(self, hits_lstm, tracks):\n",
    "        x = torch.cat([hits_lstm, tracks], dim=1)\n",
    "        x = self.input_layer(x)\n",
    "        x = F.relu(x)\n",
    "        for layer in self.linear_module:\n",
    "            x = layer(x)\n",
    "            x = F.relu(x)\n",
    "        return self.output_layer(x)\n"
   ]
  },
  {
   "cell_type": "code",
   "execution_count": 107,
   "metadata": {},
   "outputs": [
    {
     "data": {
      "text/plain": [
       "UpgradeTrackerNN(\n",
       "  (rnn): LSTM(4, 32, num_layers=3, batch_first=True)\n",
       "  (input_layer): Linear(in_features=45, out_features=40, bias=True)\n",
       "  (linear_module): ModuleList(\n",
       "    (0): Linear(in_features=40, out_features=30, bias=True)\n",
       "    (1): Linear(in_features=30, out_features=20, bias=True)\n",
       "    (2): Linear(in_features=20, out_features=10, bias=True)\n",
       "  )\n",
       "  (output_layer): Linear(in_features=10, out_features=2, bias=True)\n",
       ")"
      ]
     },
     "execution_count": 107,
     "metadata": {},
     "output_type": "execute_result"
    }
   ],
   "source": [
    "config ={\n",
    "    \"lstm_input_size\":4,\n",
    "    \"num_layers_lstm\":3,\n",
    "    \"hidden_size_lstm\":32,\n",
    "    \"batch_size\":256,\n",
    "    \"track_input_size\": X_train_tracks.shape[1],\n",
    "    \"linear_n_hidden\":4,\n",
    "    \"liner_hidden_dict\":{0:40,\n",
    "                        1:30,\n",
    "                        2:20,\n",
    "                        3:10}\n",
    "}\n",
    "\n",
    "model = UpgradeTrackerNN(config)\n",
    "model.to(device)\n",
    "model\n"
   ]
  },
  {
   "cell_type": "code",
   "execution_count": 109,
   "metadata": {},
   "outputs": [
    {
     "name": "stdout",
     "output_type": "stream",
     "text": [
      "Model's state_dict:\n",
      "rnn.weight_ih_l0 \t torch.Size([128, 4])\n",
      "rnn.weight_hh_l0 \t torch.Size([128, 32])\n",
      "rnn.bias_ih_l0 \t torch.Size([128])\n",
      "rnn.bias_hh_l0 \t torch.Size([128])\n",
      "rnn.weight_ih_l1 \t torch.Size([128, 32])\n",
      "rnn.weight_hh_l1 \t torch.Size([128, 32])\n",
      "rnn.bias_ih_l1 \t torch.Size([128])\n",
      "rnn.bias_hh_l1 \t torch.Size([128])\n",
      "rnn.weight_ih_l2 \t torch.Size([128, 32])\n",
      "rnn.weight_hh_l2 \t torch.Size([128, 32])\n",
      "rnn.bias_ih_l2 \t torch.Size([128])\n",
      "rnn.bias_hh_l2 \t torch.Size([128])\n",
      "input_layer.weight \t torch.Size([40, 45])\n",
      "input_layer.bias \t torch.Size([40])\n",
      "linear_module.0.weight \t torch.Size([30, 40])\n",
      "linear_module.0.bias \t torch.Size([30])\n",
      "linear_module.1.weight \t torch.Size([20, 30])\n",
      "linear_module.1.bias \t torch.Size([20])\n",
      "linear_module.2.weight \t torch.Size([10, 20])\n",
      "linear_module.2.bias \t torch.Size([10])\n",
      "output_layer.weight \t torch.Size([2, 10])\n",
      "output_layer.bias \t torch.Size([2])\n"
     ]
    }
   ],
   "source": [
    "print(\"Model's state_dict:\")\n",
    "for param_tensor in model.state_dict():\n",
    "    print(param_tensor, \"\\t\", model.state_dict()[param_tensor].size())\n"
   ]
  },
  {
   "cell_type": "code",
   "execution_count": 110,
   "metadata": {},
   "outputs": [
    {
     "data": {
      "text/plain": [
       "25682"
      ]
     },
     "execution_count": 110,
     "metadata": {},
     "output_type": "execute_result"
    }
   ],
   "source": [
    "model_parameters = filter(lambda p: p.requires_grad, model.parameters())\n",
    "params = sum([np.prod(p.size()) for p in model_parameters])\n",
    "params"
   ]
  },
  {
   "cell_type": "code",
   "execution_count": 119,
   "metadata": {},
   "outputs": [
    {
     "name": "stdout",
     "output_type": "stream",
     "text": [
      "tensor([[ 0.1773, -0.3740],\n",
      "        [ 0.3062, -0.2150]], grad_fn=<SliceBackward>)\n"
     ]
    }
   ],
   "source": [
    "# check if model works\n",
    "device = \"cpu\"\n",
    "model.to(device)\n",
    "for batch in dataloaders[\"train\"]:\n",
    "    track, hits, labels  = batch\n",
    "    preds =  model(hits, track)\n",
    "    print(preds[:2:])\n",
    "    break\n"
   ]
  },
  {
   "cell_type": "code",
   "execution_count": 124,
   "metadata": {},
   "outputs": [],
   "source": [
    "def train_and_valid_classification(model,\n",
    "                                   criterion,\n",
    "                                   optimizer,\n",
    "                                   run_hist={},\n",
    "                                   num_epochs=10,\n",
    "                                   save_every_nth_batch_loss=50):\n",
    "    \"\"\"Train and evaluate the classification model.\"\"\"\n",
    "    if len(run_hist) == 0:\n",
    "        run_hist = {key: [] for key in ['epoch_loss_train',\n",
    "                                    'epoch_loss_valid',\n",
    "                                    'epoch_acc_valid',\n",
    "                                    'epoch_acc_train',   \n",
    "                                    'batch_loss_train']}\n",
    "    process_timer = timer()\n",
    "    \n",
    "    for epoch in range(num_epochs):\n",
    "        print('\\nEpoch {}/{}'.format(epoch+1, num_epochs))\n",
    "        print('-' * 10)\n",
    "\n",
    "        for phase in ['train', 'valid']:\n",
    "            start_epoch = timer()\n",
    "            if phase == 'train':\n",
    "                model.train()\n",
    "            else:\n",
    "                model.eval()\n",
    "        \n",
    "            running_loss = 0.0\n",
    "            running_corrects = 0\n",
    "            \n",
    "            batch_iterator = tqdm(iter(dataloaders[phase]), leave=False, total=len(dataloaders[phase]))\n",
    "\n",
    "        \n",
    "            for i, batch in enumerate(batch_iterator):\n",
    "                track, hits, labels  = batch\n",
    "                track = track.to(device)\n",
    "                hits = hits.to(device)\n",
    "                labels = labels.to(device)\n",
    "\n",
    "                outputs = model(hits, track)\n",
    "                loss = criterion(outputs, labels.long())\n",
    "\n",
    "                if phase == 'train':\n",
    "                    optimizer.zero_grad()\n",
    "                    loss.backward()\n",
    "                    optimizer.step()\n",
    "\n",
    "                _, preds = torch.max(outputs, 1)\n",
    "                running_loss += loss.detach() * track.size(0)\n",
    "                running_corrects += torch.sum(preds == labels.data.long())\n",
    "\n",
    "                if phase == 'train' and i % save_every_nth_batch_loss == 0:\n",
    "                    run_hist['batch_loss_train'].append(loss.item())\n",
    "\n",
    "            epoch_loss = running_loss / len(datasets[phase])\n",
    "            epoch_acc = running_corrects.float() / len(datasets[phase])\n",
    "\n",
    "            print('{} loss: {:.4f}, {} acc: {:.4f}, elapsed:{:.4f}'.\\\n",
    "            format(phase,\n",
    "                   epoch_loss.item(),\n",
    "                   phase,\n",
    "                   epoch_acc.item(),\n",
    "                   timer()-start_epoch\n",
    "                 ))\n",
    "                 \n",
    "        \n",
    "            run_hist['epoch_loss_' + phase].append(epoch_loss.item())\n",
    "            run_hist['epoch_acc_' + phase].append(epoch_acc.item())\n",
    "\n",
    "    print(\"training took: \",timer()- process_timer)    \n",
    "    return model, run_hist"
   ]
  },
  {
   "cell_type": "code",
   "execution_count": 125,
   "metadata": {},
   "outputs": [
    {
     "data": {
      "text/plain": [
       "device(type='cuda', index=0)"
      ]
     },
     "execution_count": 125,
     "metadata": {},
     "output_type": "execute_result"
    }
   ],
   "source": [
    "device = torch.device(\"cuda:0\" if torch.cuda.is_available() else \"cpu\")\n",
    "device"
   ]
  },
  {
   "cell_type": "code",
   "execution_count": 126,
   "metadata": {},
   "outputs": [],
   "source": [
    "lr = 1e-4\n",
    "model.to(device)\n",
    "optimizer = torch.optim.Adam(model.parameters(),lr)\n",
    "criterion =torch.nn.CrossEntropyLoss().to(device)"
   ]
  },
  {
   "cell_type": "code",
   "execution_count": 127,
   "metadata": {
    "scrolled": false
   },
   "outputs": [
    {
     "name": "stdout",
     "output_type": "stream",
     "text": [
      "\n",
      "Epoch 1/3\n",
      "----------\n"
     ]
    },
    {
     "data": {
      "application/vnd.jupyter.widget-view+json": {
       "model_id": "",
       "version_major": 2,
       "version_minor": 0
      },
      "text/plain": [
       "HBox(children=(FloatProgress(value=0.0, max=20099.0), HTML(value='')))"
      ]
     },
     "metadata": {},
     "output_type": "display_data"
    },
    {
     "name": "stdout",
     "output_type": "stream",
     "text": [
      "train loss: 0.6461, train acc: 0.6216, elapsed:324.2719\n"
     ]
    },
    {
     "data": {
      "application/vnd.jupyter.widget-view+json": {
       "model_id": "",
       "version_major": 2,
       "version_minor": 0
      },
      "text/plain": [
       "HBox(children=(FloatProgress(value=0.0, max=10050.0), HTML(value='')))"
      ]
     },
     "metadata": {},
     "output_type": "display_data"
    },
    {
     "name": "stdout",
     "output_type": "stream",
     "text": [
      "valid loss: 0.6162, valid acc: 0.6306, elapsed:86.9701\n",
      "\n",
      "Epoch 2/3\n",
      "----------\n"
     ]
    },
    {
     "data": {
      "application/vnd.jupyter.widget-view+json": {
       "model_id": "",
       "version_major": 2,
       "version_minor": 0
      },
      "text/plain": [
       "HBox(children=(FloatProgress(value=0.0, max=20099.0), HTML(value='')))"
      ]
     },
     "metadata": {},
     "output_type": "display_data"
    },
    {
     "name": "stdout",
     "output_type": "stream",
     "text": [
      "train loss: 0.6146, train acc: 0.6551, elapsed:326.6437\n"
     ]
    },
    {
     "data": {
      "application/vnd.jupyter.widget-view+json": {
       "model_id": "",
       "version_major": 2,
       "version_minor": 0
      },
      "text/plain": [
       "HBox(children=(FloatProgress(value=0.0, max=10050.0), HTML(value='')))"
      ]
     },
     "metadata": {},
     "output_type": "display_data"
    },
    {
     "name": "stdout",
     "output_type": "stream",
     "text": [
      "valid loss: 0.6100, valid acc: 0.6392, elapsed:87.3697\n",
      "\n",
      "Epoch 3/3\n",
      "----------\n"
     ]
    },
    {
     "data": {
      "application/vnd.jupyter.widget-view+json": {
       "model_id": "",
       "version_major": 2,
       "version_minor": 0
      },
      "text/plain": [
       "HBox(children=(FloatProgress(value=0.0, max=20099.0), HTML(value='')))"
      ]
     },
     "metadata": {},
     "output_type": "display_data"
    },
    {
     "name": "stdout",
     "output_type": "stream",
     "text": [
      "train loss: 0.5952, train acc: 0.6700, elapsed:327.4397\n"
     ]
    },
    {
     "data": {
      "application/vnd.jupyter.widget-view+json": {
       "model_id": "",
       "version_major": 2,
       "version_minor": 0
      },
      "text/plain": [
       "HBox(children=(FloatProgress(value=0.0, max=10050.0), HTML(value='')))"
      ]
     },
     "metadata": {},
     "output_type": "display_data"
    },
    {
     "name": "stdout",
     "output_type": "stream",
     "text": [
      "valid loss: 0.5860, valid acc: 0.6587, elapsed:88.6264\n",
      "training took:  1241.3232442080043\n"
     ]
    }
   ],
   "source": [
    "model, run_hist = train_and_valid_classification(model, criterion, optimizer, num_epochs=3)"
   ]
  },
  {
   "cell_type": "code",
   "execution_count": 133,
   "metadata": {},
   "outputs": [
    {
     "name": "stdout",
     "output_type": "stream",
     "text": [
      "\n",
      "Epoch 1/10\n",
      "----------\n"
     ]
    },
    {
     "data": {
      "application/vnd.jupyter.widget-view+json": {
       "model_id": "",
       "version_major": 2,
       "version_minor": 0
      },
      "text/plain": [
       "HBox(children=(FloatProgress(value=0.0, max=20099.0), HTML(value='')))"
      ]
     },
     "metadata": {},
     "output_type": "display_data"
    },
    {
     "name": "stdout",
     "output_type": "stream",
     "text": [
      "train loss: 0.5845, train acc: 0.6761, elapsed:325.3326\n"
     ]
    },
    {
     "data": {
      "application/vnd.jupyter.widget-view+json": {
       "model_id": "",
       "version_major": 2,
       "version_minor": 0
      },
      "text/plain": [
       "HBox(children=(FloatProgress(value=0.0, max=10050.0), HTML(value='')))"
      ]
     },
     "metadata": {},
     "output_type": "display_data"
    },
    {
     "name": "stdout",
     "output_type": "stream",
     "text": [
      "valid loss: 0.5790, valid acc: 0.6726, elapsed:88.1695\n",
      "\n",
      "Epoch 2/10\n",
      "----------\n"
     ]
    },
    {
     "data": {
      "application/vnd.jupyter.widget-view+json": {
       "model_id": "",
       "version_major": 2,
       "version_minor": 0
      },
      "text/plain": [
       "HBox(children=(FloatProgress(value=0.0, max=20099.0), HTML(value='')))"
      ]
     },
     "metadata": {},
     "output_type": "display_data"
    },
    {
     "name": "stdout",
     "output_type": "stream",
     "text": [
      "train loss: 0.5789, train acc: 0.6790, elapsed:326.1530\n"
     ]
    },
    {
     "data": {
      "application/vnd.jupyter.widget-view+json": {
       "model_id": "",
       "version_major": 2,
       "version_minor": 0
      },
      "text/plain": [
       "HBox(children=(FloatProgress(value=0.0, max=10050.0), HTML(value='')))"
      ]
     },
     "metadata": {},
     "output_type": "display_data"
    },
    {
     "name": "stdout",
     "output_type": "stream",
     "text": [
      "valid loss: 0.5864, valid acc: 0.6685, elapsed:87.6091\n",
      "\n",
      "Epoch 3/10\n",
      "----------\n"
     ]
    },
    {
     "data": {
      "application/vnd.jupyter.widget-view+json": {
       "model_id": "",
       "version_major": 2,
       "version_minor": 0
      },
      "text/plain": [
       "HBox(children=(FloatProgress(value=0.0, max=20099.0), HTML(value='')))"
      ]
     },
     "metadata": {},
     "output_type": "display_data"
    },
    {
     "name": "stdout",
     "output_type": "stream",
     "text": [
      "train loss: 0.5748, train acc: 0.6816, elapsed:326.1169\n"
     ]
    },
    {
     "data": {
      "application/vnd.jupyter.widget-view+json": {
       "model_id": "",
       "version_major": 2,
       "version_minor": 0
      },
      "text/plain": [
       "HBox(children=(FloatProgress(value=0.0, max=10050.0), HTML(value='')))"
      ]
     },
     "metadata": {},
     "output_type": "display_data"
    },
    {
     "name": "stdout",
     "output_type": "stream",
     "text": [
      "valid loss: 0.5541, valid acc: 0.7105, elapsed:87.5004\n",
      "\n",
      "Epoch 4/10\n",
      "----------\n"
     ]
    },
    {
     "data": {
      "application/vnd.jupyter.widget-view+json": {
       "model_id": "",
       "version_major": 2,
       "version_minor": 0
      },
      "text/plain": [
       "HBox(children=(FloatProgress(value=0.0, max=20099.0), HTML(value='')))"
      ]
     },
     "metadata": {},
     "output_type": "display_data"
    },
    {
     "name": "stdout",
     "output_type": "stream",
     "text": [
      "train loss: 0.5722, train acc: 0.6837, elapsed:328.3054\n"
     ]
    },
    {
     "data": {
      "application/vnd.jupyter.widget-view+json": {
       "model_id": "",
       "version_major": 2,
       "version_minor": 0
      },
      "text/plain": [
       "HBox(children=(FloatProgress(value=0.0, max=10050.0), HTML(value='')))"
      ]
     },
     "metadata": {},
     "output_type": "display_data"
    },
    {
     "name": "stdout",
     "output_type": "stream",
     "text": [
      "valid loss: 0.5911, valid acc: 0.6660, elapsed:88.0311\n",
      "\n",
      "Epoch 5/10\n",
      "----------\n"
     ]
    },
    {
     "data": {
      "application/vnd.jupyter.widget-view+json": {
       "model_id": "",
       "version_major": 2,
       "version_minor": 0
      },
      "text/plain": [
       "HBox(children=(FloatProgress(value=0.0, max=20099.0), HTML(value='')))"
      ]
     },
     "metadata": {},
     "output_type": "display_data"
    },
    {
     "name": "stdout",
     "output_type": "stream",
     "text": [
      "train loss: 0.5704, train acc: 0.6848, elapsed:327.1604\n"
     ]
    },
    {
     "data": {
      "application/vnd.jupyter.widget-view+json": {
       "model_id": "",
       "version_major": 2,
       "version_minor": 0
      },
      "text/plain": [
       "HBox(children=(FloatProgress(value=0.0, max=10050.0), HTML(value='')))"
      ]
     },
     "metadata": {},
     "output_type": "display_data"
    },
    {
     "name": "stdout",
     "output_type": "stream",
     "text": [
      "valid loss: 0.5777, valid acc: 0.6854, elapsed:87.5062\n",
      "\n",
      "Epoch 6/10\n",
      "----------\n"
     ]
    },
    {
     "data": {
      "application/vnd.jupyter.widget-view+json": {
       "model_id": "",
       "version_major": 2,
       "version_minor": 0
      },
      "text/plain": [
       "HBox(children=(FloatProgress(value=0.0, max=20099.0), HTML(value='')))"
      ]
     },
     "metadata": {},
     "output_type": "display_data"
    },
    {
     "name": "stdout",
     "output_type": "stream",
     "text": [
      "train loss: 0.5689, train acc: 0.6857, elapsed:329.6939\n"
     ]
    },
    {
     "data": {
      "application/vnd.jupyter.widget-view+json": {
       "model_id": "",
       "version_major": 2,
       "version_minor": 0
      },
      "text/plain": [
       "HBox(children=(FloatProgress(value=0.0, max=10050.0), HTML(value='')))"
      ]
     },
     "metadata": {},
     "output_type": "display_data"
    },
    {
     "name": "stdout",
     "output_type": "stream",
     "text": [
      "valid loss: 0.5831, valid acc: 0.6774, elapsed:88.2762\n",
      "\n",
      "Epoch 7/10\n",
      "----------\n"
     ]
    },
    {
     "data": {
      "application/vnd.jupyter.widget-view+json": {
       "model_id": "",
       "version_major": 2,
       "version_minor": 0
      },
      "text/plain": [
       "HBox(children=(FloatProgress(value=0.0, max=20099.0), HTML(value='')))"
      ]
     },
     "metadata": {},
     "output_type": "display_data"
    },
    {
     "name": "stdout",
     "output_type": "stream",
     "text": [
      "train loss: 0.5681, train acc: 0.6861, elapsed:330.9116\n"
     ]
    },
    {
     "data": {
      "application/vnd.jupyter.widget-view+json": {
       "model_id": "",
       "version_major": 2,
       "version_minor": 0
      },
      "text/plain": [
       "HBox(children=(FloatProgress(value=0.0, max=10050.0), HTML(value='')))"
      ]
     },
     "metadata": {},
     "output_type": "display_data"
    },
    {
     "name": "stdout",
     "output_type": "stream",
     "text": [
      "valid loss: 0.5730, valid acc: 0.6918, elapsed:88.5741\n",
      "\n",
      "Epoch 8/10\n",
      "----------\n"
     ]
    },
    {
     "data": {
      "application/vnd.jupyter.widget-view+json": {
       "model_id": "",
       "version_major": 2,
       "version_minor": 0
      },
      "text/plain": [
       "HBox(children=(FloatProgress(value=0.0, max=20099.0), HTML(value='')))"
      ]
     },
     "metadata": {},
     "output_type": "display_data"
    },
    {
     "name": "stdout",
     "output_type": "stream",
     "text": [
      "train loss: 0.5674, train acc: 0.6866, elapsed:327.6199\n"
     ]
    },
    {
     "data": {
      "application/vnd.jupyter.widget-view+json": {
       "model_id": "",
       "version_major": 2,
       "version_minor": 0
      },
      "text/plain": [
       "HBox(children=(FloatProgress(value=0.0, max=10050.0), HTML(value='')))"
      ]
     },
     "metadata": {},
     "output_type": "display_data"
    },
    {
     "name": "stdout",
     "output_type": "stream",
     "text": [
      "valid loss: 0.5719, valid acc: 0.6897, elapsed:88.7486\n",
      "\n",
      "Epoch 9/10\n",
      "----------\n"
     ]
    },
    {
     "data": {
      "application/vnd.jupyter.widget-view+json": {
       "model_id": "",
       "version_major": 2,
       "version_minor": 0
      },
      "text/plain": [
       "HBox(children=(FloatProgress(value=0.0, max=20099.0), HTML(value='')))"
      ]
     },
     "metadata": {},
     "output_type": "display_data"
    },
    {
     "name": "stdout",
     "output_type": "stream",
     "text": [
      "train loss: 0.5665, train acc: 0.6872, elapsed:327.4095\n"
     ]
    },
    {
     "data": {
      "application/vnd.jupyter.widget-view+json": {
       "model_id": "",
       "version_major": 2,
       "version_minor": 0
      },
      "text/plain": [
       "HBox(children=(FloatProgress(value=0.0, max=10050.0), HTML(value='')))"
      ]
     },
     "metadata": {},
     "output_type": "display_data"
    },
    {
     "name": "stdout",
     "output_type": "stream",
     "text": [
      "valid loss: 0.5512, valid acc: 0.7141, elapsed:88.3470\n",
      "\n",
      "Epoch 10/10\n",
      "----------\n"
     ]
    },
    {
     "data": {
      "application/vnd.jupyter.widget-view+json": {
       "model_id": "",
       "version_major": 2,
       "version_minor": 0
      },
      "text/plain": [
       "HBox(children=(FloatProgress(value=0.0, max=20099.0), HTML(value='')))"
      ]
     },
     "metadata": {},
     "output_type": "display_data"
    },
    {
     "name": "stdout",
     "output_type": "stream",
     "text": [
      "train loss: 0.5658, train acc: 0.6879, elapsed:328.4327\n"
     ]
    },
    {
     "data": {
      "application/vnd.jupyter.widget-view+json": {
       "model_id": "",
       "version_major": 2,
       "version_minor": 0
      },
      "text/plain": [
       "HBox(children=(FloatProgress(value=0.0, max=10050.0), HTML(value='')))"
      ]
     },
     "metadata": {},
     "output_type": "display_data"
    },
    {
     "name": "stdout",
     "output_type": "stream",
     "text": [
      "valid loss: 0.5836, valid acc: 0.6773, elapsed:88.7301\n",
      "training took:  4158.63338956004\n"
     ]
    }
   ],
   "source": [
    "model, run_hist = train_and_valid_classification(model, criterion, optimizer,run_hist= run_hist, num_epochs=10)"
   ]
  },
  {
   "cell_type": "code",
   "execution_count": 134,
   "metadata": {},
   "outputs": [],
   "source": [
    "def plot_training_classification(run_hist):\n",
    "    \"\"\"Plot the training history of the classification model.\"\"\"\n",
    "    fig, ax = plt.subplots(1,2, figsize=(20,6), sharex=True)\n",
    "    x = np.arange(len(run_hist[\"epoch_loss_train\"])) + 1\n",
    "    ax[0].plot(x, run_hist[\"epoch_loss_train\"],'b', marker='.', label=\"train loss\")\n",
    "    ax[0].plot(x, run_hist[\"epoch_loss_valid\"],'r', marker='.', label=\"valid loss\")\n",
    "    ax[0].legend()\n",
    "    ax[1].plot(x, run_hist[\"epoch_acc_train\"],'b', marker='.', label=\"train accuracy\")\n",
    "    ax[1].plot(x, run_hist[\"epoch_acc_valid\"],'r', marker='.', label=\"valid accuracy\")\n",
    "    ax[1].legend()\n"
   ]
  },
  {
   "cell_type": "code",
   "execution_count": 135,
   "metadata": {},
   "outputs": [
    {
     "data": {
      "image/png": "[encoded data removed]",
      "text/plain": [
       "<Figure size 1440x432 with 2 Axes>"
      ]
     },
     "metadata": {
      "needs_background": "light"
     },
     "output_type": "display_data"
    }
   ],
   "source": [
    "plot_training_classification(run_hist)"
   ]
  },
  {
   "cell_type": "code",
   "execution_count": 137,
   "metadata": {},
   "outputs": [],
   "source": [
    "torch.save({\n",
    "            'model_state_dict': model.state_dict(),\n",
    "            'optimizer_state_dict': optimizer.state_dict(),\n",
    "            'run_history':run_hist,\n",
    "            }, \"RNN_with_tracks_1.pt\")\n"
   ]
  },
  {
   "cell_type": "code",
   "execution_count": 138,
   "metadata": {},
   "outputs": [],
   "source": [
    "dataloaders = { \n",
    "    'train':DataLoader(datasets[\"train\"], \n",
    "                   batch_size=64,\n",
    "                    sampler = create_sampler(X_train_hits.target),\n",
    "                    num_workers=5),\n",
    "    'valid':DataLoader(datasets[\"valid\"],\n",
    "                      batch_size=128,\n",
    "                      sampler = create_sampler(X_valid_hits.target),\n",
    "                      num_workers=5)\n",
    "}"
   ]
  },
  {
   "cell_type": "code",
   "execution_count": 139,
   "metadata": {},
   "outputs": [
    {
     "data": {
      "text/plain": [
       "UpgradeTrackerNN(\n",
       "  (rnn): LSTM(4, 32, num_layers=3, batch_first=True)\n",
       "  (input_layer): Linear(in_features=45, out_features=40, bias=True)\n",
       "  (linear_module): ModuleList(\n",
       "    (0): Linear(in_features=40, out_features=30, bias=True)\n",
       "    (1): Linear(in_features=30, out_features=20, bias=True)\n",
       "    (2): Linear(in_features=20, out_features=10, bias=True)\n",
       "  )\n",
       "  (output_layer): Linear(in_features=10, out_features=2, bias=True)\n",
       ")"
      ]
     },
     "execution_count": 139,
     "metadata": {},
     "output_type": "execute_result"
    }
   ],
   "source": [
    "model.to(device)"
   ]
  },
  {
   "cell_type": "code",
   "execution_count": 25,
   "metadata": {},
   "outputs": [],
   "source": [
    "def make_prediction(dataloader, model):\n",
    "    model.eval() \n",
    "    outputs = []\n",
    "    batch_iterator = tqdm(iter(dataloader), leave=False, total=len(dataloader))\n",
    "    for i, batch in enumerate(dataloader):\n",
    "            inputs, _ = batch\n",
    "            inputs = inputs.to(device)\n",
    "            logits = model(inputs.float())\n",
    "            outputs.append(logits.detach().cpu())\n",
    "    logits = torch.cat(outputs)\n",
    "    probas = torch.softmax(logits, dim=1)\n",
    "    return probas"
   ]
  },
  {
   "cell_type": "code",
   "execution_count": 140,
   "metadata": {},
   "outputs": [
    {
     "name": "stdout",
     "output_type": "stream",
     "text": [
      "\n",
      "Epoch 1/15\n",
      "----------\n"
     ]
    },
    {
     "data": {
      "application/vnd.jupyter.widget-view+json": {
       "model_id": "",
       "version_major": 2,
       "version_minor": 0
      },
      "text/plain": [
       "HBox(children=(FloatProgress(value=0.0, max=80393.0), HTML(value='')))"
      ]
     },
     "metadata": {},
     "output_type": "display_data"
    },
    {
     "name": "stdout",
     "output_type": "stream",
     "text": [
      "train loss: 0.5673, train acc: 0.6867, elapsed:682.3824\n"
     ]
    },
    {
     "data": {
      "application/vnd.jupyter.widget-view+json": {
       "model_id": "",
       "version_major": 2,
       "version_minor": 0
      },
      "text/plain": [
       "HBox(children=(FloatProgress(value=0.0, max=10050.0), HTML(value='')))"
      ]
     },
     "metadata": {},
     "output_type": "display_data"
    },
    {
     "name": "stdout",
     "output_type": "stream",
     "text": [
      "valid loss: 0.5675, valid acc: 0.6868, elapsed:89.0830\n",
      "\n",
      "Epoch 2/15\n",
      "----------\n"
     ]
    },
    {
     "data": {
      "application/vnd.jupyter.widget-view+json": {
       "model_id": "",
       "version_major": 2,
       "version_minor": 0
      },
      "text/plain": [
       "HBox(children=(FloatProgress(value=0.0, max=80393.0), HTML(value='')))"
      ]
     },
     "metadata": {},
     "output_type": "display_data"
    },
    {
     "name": "stdout",
     "output_type": "stream",
     "text": [
      "train loss: 0.5661, train acc: 0.6876, elapsed:680.0845\n"
     ]
    },
    {
     "data": {
      "application/vnd.jupyter.widget-view+json": {
       "model_id": "",
       "version_major": 2,
       "version_minor": 0
      },
      "text/plain": [
       "HBox(children=(FloatProgress(value=0.0, max=10050.0), HTML(value='')))"
      ]
     },
     "metadata": {},
     "output_type": "display_data"
    },
    {
     "name": "stdout",
     "output_type": "stream",
     "text": [
      "valid loss: 0.5652, valid acc: 0.6884, elapsed:90.3112\n",
      "\n",
      "Epoch 3/15\n",
      "----------\n"
     ]
    },
    {
     "data": {
      "application/vnd.jupyter.widget-view+json": {
       "model_id": "",
       "version_major": 2,
       "version_minor": 0
      },
      "text/plain": [
       "HBox(children=(FloatProgress(value=0.0, max=80393.0), HTML(value='')))"
      ]
     },
     "metadata": {},
     "output_type": "display_data"
    },
    {
     "name": "stdout",
     "output_type": "stream",
     "text": [
      "train loss: 0.5652, train acc: 0.6886, elapsed:679.6763\n"
     ]
    },
    {
     "data": {
      "application/vnd.jupyter.widget-view+json": {
       "model_id": "",
       "version_major": 2,
       "version_minor": 0
      },
      "text/plain": [
       "HBox(children=(FloatProgress(value=0.0, max=10050.0), HTML(value='')))"
      ]
     },
     "metadata": {},
     "output_type": "display_data"
    },
    {
     "name": "stdout",
     "output_type": "stream",
     "text": [
      "valid loss: 0.5649, valid acc: 0.6884, elapsed:88.9032\n",
      "\n",
      "Epoch 4/15\n",
      "----------\n"
     ]
    },
    {
     "data": {
      "application/vnd.jupyter.widget-view+json": {
       "model_id": "",
       "version_major": 2,
       "version_minor": 0
      },
      "text/plain": [
       "HBox(children=(FloatProgress(value=0.0, max=80393.0), HTML(value='')))"
      ]
     },
     "metadata": {},
     "output_type": "display_data"
    },
    {
     "name": "stdout",
     "output_type": "stream",
     "text": [
      "train loss: 0.5642, train acc: 0.6891, elapsed:678.9876\n"
     ]
    },
    {
     "data": {
      "application/vnd.jupyter.widget-view+json": {
       "model_id": "",
       "version_major": 2,
       "version_minor": 0
      },
      "text/plain": [
       "HBox(children=(FloatProgress(value=0.0, max=10050.0), HTML(value='')))"
      ]
     },
     "metadata": {},
     "output_type": "display_data"
    },
    {
     "name": "stdout",
     "output_type": "stream",
     "text": [
      "valid loss: 0.5645, valid acc: 0.6894, elapsed:89.1173\n",
      "\n",
      "Epoch 5/15\n",
      "----------\n"
     ]
    },
    {
     "data": {
      "application/vnd.jupyter.widget-view+json": {
       "model_id": "",
       "version_major": 2,
       "version_minor": 0
      },
      "text/plain": [
       "HBox(children=(FloatProgress(value=0.0, max=80393.0), HTML(value='')))"
      ]
     },
     "metadata": {},
     "output_type": "display_data"
    },
    {
     "name": "stdout",
     "output_type": "stream",
     "text": [
      "train loss: 0.5636, train acc: 0.6894, elapsed:678.7172\n"
     ]
    },
    {
     "data": {
      "application/vnd.jupyter.widget-view+json": {
       "model_id": "",
       "version_major": 2,
       "version_minor": 0
      },
      "text/plain": [
       "HBox(children=(FloatProgress(value=0.0, max=10050.0), HTML(value='')))"
      ]
     },
     "metadata": {},
     "output_type": "display_data"
    },
    {
     "name": "stdout",
     "output_type": "stream",
     "text": [
      "valid loss: 0.5651, valid acc: 0.6880, elapsed:88.5846\n",
      "\n",
      "Epoch 6/15\n",
      "----------\n"
     ]
    },
    {
     "data": {
      "application/vnd.jupyter.widget-view+json": {
       "model_id": "",
       "version_major": 2,
       "version_minor": 0
      },
      "text/plain": [
       "HBox(children=(FloatProgress(value=0.0, max=80393.0), HTML(value='')))"
      ]
     },
     "metadata": {},
     "output_type": "display_data"
    },
    {
     "name": "stdout",
     "output_type": "stream",
     "text": [
      "train loss: 0.5629, train acc: 0.6900, elapsed:678.4389\n"
     ]
    },
    {
     "data": {
      "application/vnd.jupyter.widget-view+json": {
       "model_id": "",
       "version_major": 2,
       "version_minor": 0
      },
      "text/plain": [
       "HBox(children=(FloatProgress(value=0.0, max=10050.0), HTML(value='')))"
      ]
     },
     "metadata": {},
     "output_type": "display_data"
    },
    {
     "name": "stdout",
     "output_type": "stream",
     "text": [
      "valid loss: 0.5646, valid acc: 0.6896, elapsed:88.7649\n",
      "\n",
      "Epoch 7/15\n",
      "----------\n"
     ]
    },
    {
     "data": {
      "application/vnd.jupyter.widget-view+json": {
       "model_id": "",
       "version_major": 2,
       "version_minor": 0
      },
      "text/plain": [
       "HBox(children=(FloatProgress(value=0.0, max=80393.0), HTML(value='')))"
      ]
     },
     "metadata": {},
     "output_type": "display_data"
    },
    {
     "name": "stdout",
     "output_type": "stream",
     "text": [
      "train loss: 0.5623, train acc: 0.6904, elapsed:681.1814\n"
     ]
    },
    {
     "data": {
      "application/vnd.jupyter.widget-view+json": {
       "model_id": "",
       "version_major": 2,
       "version_minor": 0
      },
      "text/plain": [
       "HBox(children=(FloatProgress(value=0.0, max=10050.0), HTML(value='')))"
      ]
     },
     "metadata": {},
     "output_type": "display_data"
    },
    {
     "name": "stdout",
     "output_type": "stream",
     "text": [
      "valid loss: 0.5628, valid acc: 0.6902, elapsed:88.7561\n",
      "\n",
      "Epoch 8/15\n",
      "----------\n"
     ]
    },
    {
     "data": {
      "application/vnd.jupyter.widget-view+json": {
       "model_id": "",
       "version_major": 2,
       "version_minor": 0
      },
      "text/plain": [
       "HBox(children=(FloatProgress(value=0.0, max=80393.0), HTML(value='')))"
      ]
     },
     "metadata": {},
     "output_type": "display_data"
    },
    {
     "name": "stdout",
     "output_type": "stream",
     "text": [
      "train loss: 0.5620, train acc: 0.6903, elapsed:681.2722\n"
     ]
    },
    {
     "data": {
      "application/vnd.jupyter.widget-view+json": {
       "model_id": "",
       "version_major": 2,
       "version_minor": 0
      },
      "text/plain": [
       "HBox(children=(FloatProgress(value=0.0, max=10050.0), HTML(value='')))"
      ]
     },
     "metadata": {},
     "output_type": "display_data"
    },
    {
     "name": "stdout",
     "output_type": "stream",
     "text": [
      "valid loss: 0.5634, valid acc: 0.6905, elapsed:88.7091\n",
      "\n",
      "Epoch 9/15\n",
      "----------\n"
     ]
    },
    {
     "data": {
      "application/vnd.jupyter.widget-view+json": {
       "model_id": "",
       "version_major": 2,
       "version_minor": 0
      },
      "text/plain": [
       "HBox(children=(FloatProgress(value=0.0, max=80393.0), HTML(value='')))"
      ]
     },
     "metadata": {},
     "output_type": "display_data"
    },
    {
     "name": "stdout",
     "output_type": "stream",
     "text": [
      "train loss: 0.5614, train acc: 0.6912, elapsed:684.5192\n"
     ]
    },
    {
     "data": {
      "application/vnd.jupyter.widget-view+json": {
       "model_id": "",
       "version_major": 2,
       "version_minor": 0
      },
      "text/plain": [
       "HBox(children=(FloatProgress(value=0.0, max=10050.0), HTML(value='')))"
      ]
     },
     "metadata": {},
     "output_type": "display_data"
    },
    {
     "name": "stdout",
     "output_type": "stream",
     "text": [
      "valid loss: 0.5624, valid acc: 0.6897, elapsed:88.5332\n",
      "\n",
      "Epoch 10/15\n",
      "----------\n"
     ]
    },
    {
     "data": {
      "application/vnd.jupyter.widget-view+json": {
       "model_id": "",
       "version_major": 2,
       "version_minor": 0
      },
      "text/plain": [
       "HBox(children=(FloatProgress(value=0.0, max=80393.0), HTML(value='')))"
      ]
     },
     "metadata": {},
     "output_type": "display_data"
    },
    {
     "name": "stdout",
     "output_type": "stream",
     "text": [
      "train loss: 0.5611, train acc: 0.6911, elapsed:682.6728\n"
     ]
    },
    {
     "data": {
      "application/vnd.jupyter.widget-view+json": {
       "model_id": "",
       "version_major": 2,
       "version_minor": 0
      },
      "text/plain": [
       "HBox(children=(FloatProgress(value=0.0, max=10050.0), HTML(value='')))"
      ]
     },
     "metadata": {},
     "output_type": "display_data"
    },
    {
     "name": "stdout",
     "output_type": "stream",
     "text": [
      "valid loss: 0.5613, valid acc: 0.6914, elapsed:89.4667\n",
      "\n",
      "Epoch 11/15\n",
      "----------\n"
     ]
    },
    {
     "data": {
      "application/vnd.jupyter.widget-view+json": {
       "model_id": "",
       "version_major": 2,
       "version_minor": 0
      },
      "text/plain": [
       "HBox(children=(FloatProgress(value=0.0, max=80393.0), HTML(value='')))"
      ]
     },
     "metadata": {},
     "output_type": "display_data"
    },
    {
     "name": "stdout",
     "output_type": "stream",
     "text": [
      "train loss: 0.5609, train acc: 0.6913, elapsed:682.5754\n"
     ]
    },
    {
     "data": {
      "application/vnd.jupyter.widget-view+json": {
       "model_id": "",
       "version_major": 2,
       "version_minor": 0
      },
      "text/plain": [
       "HBox(children=(FloatProgress(value=0.0, max=10050.0), HTML(value='')))"
      ]
     },
     "metadata": {},
     "output_type": "display_data"
    },
    {
     "name": "stdout",
     "output_type": "stream",
     "text": [
      "valid loss: 0.5622, valid acc: 0.6902, elapsed:89.4579\n",
      "\n",
      "Epoch 12/15\n",
      "----------\n"
     ]
    },
    {
     "data": {
      "application/vnd.jupyter.widget-view+json": {
       "model_id": "",
       "version_major": 2,
       "version_minor": 0
      },
      "text/plain": [
       "HBox(children=(FloatProgress(value=0.0, max=80393.0), HTML(value='')))"
      ]
     },
     "metadata": {},
     "output_type": "display_data"
    },
    {
     "name": "stdout",
     "output_type": "stream",
     "text": [
      "train loss: 0.5603, train acc: 0.6917, elapsed:680.3462\n"
     ]
    },
    {
     "data": {
      "application/vnd.jupyter.widget-view+json": {
       "model_id": "",
       "version_major": 2,
       "version_minor": 0
      },
      "text/plain": [
       "HBox(children=(FloatProgress(value=0.0, max=10050.0), HTML(value='')))"
      ]
     },
     "metadata": {},
     "output_type": "display_data"
    },
    {
     "name": "stdout",
     "output_type": "stream",
     "text": [
      "valid loss: 0.5606, valid acc: 0.6923, elapsed:89.1167\n",
      "\n",
      "Epoch 13/15\n",
      "----------\n"
     ]
    },
    {
     "data": {
      "application/vnd.jupyter.widget-view+json": {
       "model_id": "",
       "version_major": 2,
       "version_minor": 0
      },
      "text/plain": [
       "HBox(children=(FloatProgress(value=0.0, max=80393.0), HTML(value='')))"
      ]
     },
     "metadata": {},
     "output_type": "display_data"
    },
    {
     "name": "stdout",
     "output_type": "stream",
     "text": [
      "train loss: 0.5601, train acc: 0.6919, elapsed:681.1453\n"
     ]
    },
    {
     "data": {
      "application/vnd.jupyter.widget-view+json": {
       "model_id": "",
       "version_major": 2,
       "version_minor": 0
      },
      "text/plain": [
       "HBox(children=(FloatProgress(value=0.0, max=10050.0), HTML(value='')))"
      ]
     },
     "metadata": {},
     "output_type": "display_data"
    },
    {
     "name": "stdout",
     "output_type": "stream",
     "text": [
      "valid loss: 0.5635, valid acc: 0.6891, elapsed:88.9368\n",
      "\n",
      "Epoch 14/15\n",
      "----------\n"
     ]
    },
    {
     "data": {
      "application/vnd.jupyter.widget-view+json": {
       "model_id": "",
       "version_major": 2,
       "version_minor": 0
      },
      "text/plain": [
       "HBox(children=(FloatProgress(value=0.0, max=80393.0), HTML(value='')))"
      ]
     },
     "metadata": {},
     "output_type": "display_data"
    },
    {
     "name": "stdout",
     "output_type": "stream",
     "text": [
      "train loss: 0.5596, train acc: 0.6923, elapsed:682.6837\n"
     ]
    },
    {
     "data": {
      "application/vnd.jupyter.widget-view+json": {
       "model_id": "",
       "version_major": 2,
       "version_minor": 0
      },
      "text/plain": [
       "HBox(children=(FloatProgress(value=0.0, max=10050.0), HTML(value='')))"
      ]
     },
     "metadata": {},
     "output_type": "display_data"
    },
    {
     "name": "stdout",
     "output_type": "stream",
     "text": [
      "valid loss: 0.5608, valid acc: 0.6918, elapsed:88.9297\n",
      "\n",
      "Epoch 15/15\n",
      "----------\n"
     ]
    },
    {
     "data": {
      "application/vnd.jupyter.widget-view+json": {
       "model_id": "",
       "version_major": 2,
       "version_minor": 0
      },
      "text/plain": [
       "HBox(children=(FloatProgress(value=0.0, max=80393.0), HTML(value='')))"
      ]
     },
     "metadata": {},
     "output_type": "display_data"
    },
    {
     "name": "stdout",
     "output_type": "stream",
     "text": [
      "train loss: 0.5595, train acc: 0.6921, elapsed:679.3724\n"
     ]
    },
    {
     "data": {
      "application/vnd.jupyter.widget-view+json": {
       "model_id": "",
       "version_major": 2,
       "version_minor": 0
      },
      "text/plain": [
       "HBox(children=(FloatProgress(value=0.0, max=10050.0), HTML(value='')))"
      ]
     },
     "metadata": {},
     "output_type": "display_data"
    },
    {
     "name": "stdout",
     "output_type": "stream",
     "text": [
      "valid loss: 0.5599, valid acc: 0.6920, elapsed:89.4649\n",
      "training took:  11550.1982036829\n"
     ]
    }
   ],
   "source": [
    "model, run_hist = train_and_valid_classification(model, criterion, optimizer,run_hist= run_hist, num_epochs=15)"
   ]
  },
  {
   "cell_type": "code",
   "execution_count": 141,
   "metadata": {},
   "outputs": [],
   "source": [
    "torch.save({\n",
    "            'model_state_dict': model.state_dict(),\n",
    "            'optimizer_state_dict': optimizer.state_dict(),\n",
    "            'run_history':run_hist,\n",
    "            }, \".RNN_with_tracks_2.pt\")\n"
   ]
  },
  {
   "cell_type": "code",
   "execution_count": 142,
   "metadata": {},
   "outputs": [
    {
     "data": {
      "image/png": "[encoded data removed]",
      "text/plain": [
       "<Figure size 1440x432 with 2 Axes>"
      ]
     },
     "metadata": {
      "needs_background": "light"
     },
     "output_type": "display_data"
    }
   ],
   "source": [
    "plot_training_classification(run_hist)"
   ]
  },
  {
   "cell_type": "code",
   "execution_count": 143,
   "metadata": {},
   "outputs": [],
   "source": [
    "learning_rate = 1e-5\n",
    "optimizer_2 = torch.optim.Adam(model.parameters(), lr=learning_rate)"
   ]
  },
  {
   "cell_type": "code",
   "execution_count": null,
   "metadata": {},
   "outputs": [
    {
     "name": "stdout",
     "output_type": "stream",
     "text": [
      "\n",
      "Epoch 1/10\n",
      "----------\n"
     ]
    },
    {
     "data": {
      "application/vnd.jupyter.widget-view+json": {
       "model_id": "",
       "version_major": 2,
       "version_minor": 0
      },
      "text/plain": [
       "HBox(children=(FloatProgress(value=0.0, max=80393.0), HTML(value='')))"
      ]
     },
     "metadata": {},
     "output_type": "display_data"
    },
    {
     "name": "stdout",
     "output_type": "stream",
     "text": [
      "train loss: 0.5568, train acc: 0.6947, elapsed:678.0735\n"
     ]
    },
    {
     "data": {
      "application/vnd.jupyter.widget-view+json": {
       "model_id": "",
       "version_major": 2,
       "version_minor": 0
      },
      "text/plain": [
       "HBox(children=(FloatProgress(value=0.0, max=10050.0), HTML(value='')))"
      ]
     },
     "metadata": {},
     "output_type": "display_data"
    },
    {
     "name": "stdout",
     "output_type": "stream",
     "text": [
      "valid loss: 0.5579, valid acc: 0.6934, elapsed:89.4309\n",
      "\n",
      "Epoch 2/10\n",
      "----------\n"
     ]
    },
    {
     "data": {
      "application/vnd.jupyter.widget-view+json": {
       "model_id": "",
       "version_major": 2,
       "version_minor": 0
      },
      "text/plain": [
       "HBox(children=(FloatProgress(value=0.0, max=80393.0), HTML(value='')))"
      ]
     },
     "metadata": {},
     "output_type": "display_data"
    },
    {
     "name": "stdout",
     "output_type": "stream",
     "text": [
      "train loss: 0.5565, train acc: 0.6946, elapsed:678.0193\n"
     ]
    },
    {
     "data": {
      "application/vnd.jupyter.widget-view+json": {
       "model_id": "",
       "version_major": 2,
       "version_minor": 0
      },
      "text/plain": [
       "HBox(children=(FloatProgress(value=0.0, max=10050.0), HTML(value='')))"
      ]
     },
     "metadata": {},
     "output_type": "display_data"
    },
    {
     "name": "stdout",
     "output_type": "stream",
     "text": [
      "valid loss: 0.5586, valid acc: 0.6930, elapsed:89.2602\n",
      "\n",
      "Epoch 3/10\n",
      "----------\n"
     ]
    },
    {
     "data": {
      "application/vnd.jupyter.widget-view+json": {
       "model_id": "",
       "version_major": 2,
       "version_minor": 0
      },
      "text/plain": [
       "HBox(children=(FloatProgress(value=0.0, max=80393.0), HTML(value='')))"
      ]
     },
     "metadata": {},
     "output_type": "display_data"
    },
    {
     "name": "stdout",
     "output_type": "stream",
     "text": [
      "train loss: 0.5567, train acc: 0.6946, elapsed:679.1054\n"
     ]
    },
    {
     "data": {
      "application/vnd.jupyter.widget-view+json": {
       "model_id": "",
       "version_major": 2,
       "version_minor": 0
      },
      "text/plain": [
       "HBox(children=(FloatProgress(value=0.0, max=10050.0), HTML(value='')))"
      ]
     },
     "metadata": {},
     "output_type": "display_data"
    },
    {
     "name": "stdout",
     "output_type": "stream",
     "text": [
      "valid loss: 0.5577, valid acc: 0.6938, elapsed:89.1003\n",
      "\n",
      "Epoch 4/10\n",
      "----------\n"
     ]
    },
    {
     "data": {
      "application/vnd.jupyter.widget-view+json": {
       "model_id": "",
       "version_major": 2,
       "version_minor": 0
      },
      "text/plain": [
       "HBox(children=(FloatProgress(value=0.0, max=80393.0), HTML(value='')))"
      ]
     },
     "metadata": {},
     "output_type": "display_data"
    },
    {
     "name": "stdout",
     "output_type": "stream",
     "text": [
      "train loss: 0.5561, train acc: 0.6951, elapsed:678.8573\n"
     ]
    },
    {
     "data": {
      "application/vnd.jupyter.widget-view+json": {
       "model_id": "",
       "version_major": 2,
       "version_minor": 0
      },
      "text/plain": [
       "HBox(children=(FloatProgress(value=0.0, max=10050.0), HTML(value='')))"
      ]
     },
     "metadata": {},
     "output_type": "display_data"
    },
    {
     "name": "stdout",
     "output_type": "stream",
     "text": [
      "valid loss: 0.5576, valid acc: 0.6943, elapsed:87.9484\n",
      "\n",
      "Epoch 5/10\n",
      "----------\n"
     ]
    },
    {
     "data": {
      "application/vnd.jupyter.widget-view+json": {
       "model_id": "",
       "version_major": 2,
       "version_minor": 0
      },
      "text/plain": [
       "HBox(children=(FloatProgress(value=0.0, max=80393.0), HTML(value='')))"
      ]
     },
     "metadata": {},
     "output_type": "display_data"
    },
    {
     "name": "stdout",
     "output_type": "stream",
     "text": [
      "train loss: 0.5561, train acc: 0.6949, elapsed:676.2247\n"
     ]
    },
    {
     "data": {
      "application/vnd.jupyter.widget-view+json": {
       "model_id": "",
       "version_major": 2,
       "version_minor": 0
      },
      "text/plain": [
       "HBox(children=(FloatProgress(value=0.0, max=10050.0), HTML(value='')))"
      ]
     },
     "metadata": {},
     "output_type": "display_data"
    },
    {
     "name": "stdout",
     "output_type": "stream",
     "text": [
      "valid loss: 0.5586, valid acc: 0.6932, elapsed:88.5186\n",
      "\n",
      "Epoch 6/10\n",
      "----------\n"
     ]
    },
    {
     "data": {
      "application/vnd.jupyter.widget-view+json": {
       "model_id": "",
       "version_major": 2,
       "version_minor": 0
      },
      "text/plain": [
       "HBox(children=(FloatProgress(value=0.0, max=80393.0), HTML(value='')))"
      ]
     },
     "metadata": {},
     "output_type": "display_data"
    },
    {
     "name": "stdout",
     "output_type": "stream",
     "text": [
      "train loss: 0.5558, train acc: 0.6952, elapsed:682.9940\n"
     ]
    },
    {
     "data": {
      "application/vnd.jupyter.widget-view+json": {
       "model_id": "",
       "version_major": 2,
       "version_minor": 0
      },
      "text/plain": [
       "HBox(children=(FloatProgress(value=0.0, max=10050.0), HTML(value='')))"
      ]
     },
     "metadata": {},
     "output_type": "display_data"
    },
    {
     "name": "stdout",
     "output_type": "stream",
     "text": [
      "valid loss: 0.5586, valid acc: 0.6931, elapsed:88.5376\n",
      "\n",
      "Epoch 7/10\n",
      "----------\n"
     ]
    },
    {
     "data": {
      "application/vnd.jupyter.widget-view+json": {
       "model_id": "",
       "version_major": 2,
       "version_minor": 0
      },
      "text/plain": [
       "HBox(children=(FloatProgress(value=0.0, max=80393.0), HTML(value='')))"
      ]
     },
     "metadata": {},
     "output_type": "display_data"
    },
    {
     "name": "stdout",
     "output_type": "stream",
     "text": [
      "train loss: 0.5565, train acc: 0.6946, elapsed:680.3330\n"
     ]
    },
    {
     "data": {
      "application/vnd.jupyter.widget-view+json": {
       "model_id": "",
       "version_major": 2,
       "version_minor": 0
      },
      "text/plain": [
       "HBox(children=(FloatProgress(value=0.0, max=10050.0), HTML(value='')))"
      ]
     },
     "metadata": {},
     "output_type": "display_data"
    },
    {
     "name": "stdout",
     "output_type": "stream",
     "text": [
      "valid loss: 0.5579, valid acc: 0.6937, elapsed:88.3564\n",
      "\n",
      "Epoch 8/10\n",
      "----------\n"
     ]
    },
    {
     "data": {
      "application/vnd.jupyter.widget-view+json": {
       "model_id": "",
       "version_major": 2,
       "version_minor": 0
      },
      "text/plain": [
       "HBox(children=(FloatProgress(value=0.0, max=80393.0), HTML(value='')))"
      ]
     },
     "metadata": {},
     "output_type": "display_data"
    },
    {
     "name": "stdout",
     "output_type": "stream",
     "text": [
      "train loss: 0.5565, train acc: 0.6946, elapsed:682.2011\n"
     ]
    },
    {
     "data": {
      "application/vnd.jupyter.widget-view+json": {
       "model_id": "",
       "version_major": 2,
       "version_minor": 0
      },
      "text/plain": [
       "HBox(children=(FloatProgress(value=0.0, max=10050.0), HTML(value='')))"
      ]
     },
     "metadata": {},
     "output_type": "display_data"
    },
    {
     "name": "stdout",
     "output_type": "stream",
     "text": [
      "valid loss: 0.5580, valid acc: 0.6931, elapsed:89.0276\n",
      "\n",
      "Epoch 9/10\n",
      "----------\n"
     ]
    },
    {
     "data": {
      "application/vnd.jupyter.widget-view+json": {
       "model_id": "",
       "version_major": 2,
       "version_minor": 0
      },
      "text/plain": [
       "HBox(children=(FloatProgress(value=0.0, max=80393.0), HTML(value='')))"
      ]
     },
     "metadata": {},
     "output_type": "display_data"
    },
    {
     "name": "stdout",
     "output_type": "stream",
     "text": [
      "train loss: 0.5562, train acc: 0.6948, elapsed:678.2782\n"
     ]
    },
    {
     "data": {
      "application/vnd.jupyter.widget-view+json": {
       "model_id": "",
       "version_major": 2,
       "version_minor": 0
      },
      "text/plain": [
       "HBox(children=(FloatProgress(value=0.0, max=10050.0), HTML(value='')))"
      ]
     },
     "metadata": {},
     "output_type": "display_data"
    },
    {
     "name": "stdout",
     "output_type": "stream",
     "text": [
      "valid loss: 0.5571, valid acc: 0.6946, elapsed:88.5805\n",
      "\n",
      "Epoch 10/10\n",
      "----------\n"
     ]
    },
    {
     "data": {
      "application/vnd.jupyter.widget-view+json": {
       "model_id": "c3d91420fc714b59a8438f5d39b5dcd5",
       "version_major": 2,
       "version_minor": 0
      },
      "text/plain": [
       "HBox(children=(FloatProgress(value=0.0, max=80393.0), HTML(value='')))"
      ]
     },
     "metadata": {},
     "output_type": "display_data"
    }
   ],
   "source": [
    "model, run_hist = train_and_valid_classification(model, criterion, optimizer_2,run_hist= run_hist, num_epochs=10)"
   ]
  },
  {
   "cell_type": "code",
   "execution_count": null,
   "metadata": {},
   "outputs": [],
   "source": [
    "torch.save({\n",
    "            'model_state_dict': model.state_dict(),\n",
    "            'optimizer_state_dict': optimizer.state_dict(),\n",
    "            'run_history':run_hist,\n",
    "            }, \".RNN_with_tracks_3.pt\")\n"
   ]
  },
  {
   "cell_type": "code",
   "execution_count": 149,
   "metadata": {},
   "outputs": [
    {
     "data": {
      "image/png": "[encoded data removed]",
      "text/plain": [
       "<Figure size 1440x432 with 2 Axes>"
      ]
     },
     "metadata": {
      "needs_background": "light"
     },
     "output_type": "display_data"
    }
   ],
   "source": [
    "plot_training_classification(run_hist)"
   ]
  },
  {
   "cell_type": "code",
   "execution_count": 150,
   "metadata": {},
   "outputs": [],
   "source": [
    "learning_rate = 1e-6\n",
    "optimizer_3 = torch.optim.Adam(model.parameters(), lr=learning_rate)"
   ]
  },
  {
   "cell_type": "code",
   "execution_count": null,
   "metadata": {},
   "outputs": [
    {
     "name": "stdout",
     "output_type": "stream",
     "text": [
      "\n",
      "Epoch 1/3\n",
      "----------\n"
     ]
    },
    {
     "data": {
      "application/vnd.jupyter.widget-view+json": {
       "model_id": "",
       "version_major": 2,
       "version_minor": 0
      },
      "text/plain": [
       "HBox(children=(FloatProgress(value=0.0, max=80393.0), HTML(value='')))"
      ]
     },
     "metadata": {},
     "output_type": "display_data"
    },
    {
     "name": "stdout",
     "output_type": "stream",
     "text": [
      "train loss: 0.5555, train acc: 0.6955, elapsed:676.1559\n"
     ]
    },
    {
     "data": {
      "application/vnd.jupyter.widget-view+json": {
       "model_id": "",
       "version_major": 2,
       "version_minor": 0
      },
      "text/plain": [
       "HBox(children=(FloatProgress(value=0.0, max=10050.0), HTML(value='')))"
      ]
     },
     "metadata": {},
     "output_type": "display_data"
    },
    {
     "name": "stdout",
     "output_type": "stream",
     "text": [
      "valid loss: 0.5570, valid acc: 0.6944, elapsed:89.9564\n",
      "\n",
      "Epoch 2/3\n",
      "----------\n"
     ]
    },
    {
     "data": {
      "application/vnd.jupyter.widget-view+json": {
       "model_id": "05a08a51e1ed4bd69153af155b1a4afe",
       "version_major": 2,
       "version_minor": 0
      },
      "text/plain": [
       "HBox(children=(FloatProgress(value=0.0, max=80393.0), HTML(value='')))"
      ]
     },
     "metadata": {},
     "output_type": "display_data"
    }
   ],
   "source": [
    "model, run_hist = train_and_valid_classification(model, criterion, optimizer_3,run_hist= run_hist, num_epochs=3)"
   ]
  },
  {
   "cell_type": "code",
   "execution_count": null,
   "metadata": {},
   "outputs": [],
   "source": []
  }
 ],
 "metadata": {
  "kernelspec": {
   "display_name": "Python 3.6 - AzureML",
   "language": "python",
   "name": "python3-azureml"
  },
  "language_info": {
   "codemirror_mode": {
    "name": "ipython",
    "version": 3
   },
   "file_extension": ".py",
   "mimetype": "text/x-python",
   "name": "python",
   "nbconvert_exporter": "python",
   "pygments_lexer": "ipython3",
   "version": "3.6.9"
  }
 },
 "nbformat": 4,
 "nbformat_minor": 2
}

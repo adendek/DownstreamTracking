{
 "cells": [
  {
   "cell_type": "code",
   "execution_count": 3,
   "metadata": {},
   "outputs": [],
   "source": [
    "import pandas as pd\n",
    "import numpy as np\n",
    "\n",
    "%matplotlib inline\n",
    "import matplotlib.pyplot as plt\n",
    "\n",
    "from sklearn.model_selection import train_test_split\n",
    "from sklearn.metrics import accuracy_score, log_loss, precision_score, precision_recall_curve\n",
    "from sklearn.metrics import roc_auc_score, roc_curve, auc\n",
    "from sklearn.metrics import classification_report\n",
    "\n",
    "import torch\n",
    "import torch.nn as nn\n",
    "import torch.optim as optim\n",
    "import torch.nn.functional as F\n",
    "from torch.utils.data import DataLoader, TensorDataset\n",
    "\n",
    "from timeit import default_timer as timer\n",
    "from tqdm.notebook import tqdm\n"
   ]
  },
  {
   "cell_type": "code",
   "execution_count": 4,
   "metadata": {},
   "outputs": [
    {
     "data": {
      "text/html": [
       "<div>\n",
       "<style scoped>\n",
       "    .dataframe tbody tr th:only-of-type {\n",
       "        vertical-align: middle;\n",
       "    }\n",
       "\n",
       "    .dataframe tbody tr th {\n",
       "        vertical-align: top;\n",
       "    }\n",
       "\n",
       "    .dataframe thead th {\n",
       "        text-align: right;\n",
       "    }\n",
       "</style>\n",
       "<table border=\"1\" class=\"dataframe\">\n",
       "  <thead>\n",
       "    <tr style=\"text-align: right;\">\n",
       "      <th></th>\n",
       "      <th>track_phi</th>\n",
       "      <th>track_tx</th>\n",
       "      <th>track_ty</th>\n",
       "      <th>track_nLHCbIDs</th>\n",
       "      <th>track_p</th>\n",
       "      <th>track_chi2</th>\n",
       "      <th>track_position_x</th>\n",
       "      <th>track_position_y</th>\n",
       "      <th>track_chi2PerDoF</th>\n",
       "      <th>track_pt</th>\n",
       "      <th>track_pseudoRapidity</th>\n",
       "      <th>track_position_r</th>\n",
       "      <th>track_position_phi</th>\n",
       "    </tr>\n",
       "  </thead>\n",
       "  <tbody>\n",
       "    <tr>\n",
       "      <th>0</th>\n",
       "      <td>2.849378</td>\n",
       "      <td>-0.343474</td>\n",
       "      <td>0.103326</td>\n",
       "      <td>12.0</td>\n",
       "      <td>2020.072174</td>\n",
       "      <td>6.275086</td>\n",
       "      <td>494.515198</td>\n",
       "      <td>1124.644897</td>\n",
       "      <td>0.896441</td>\n",
       "      <td>682.012956</td>\n",
       "      <td>1.749189</td>\n",
       "      <td>7599.958646</td>\n",
       "      <td>1.156534</td>\n",
       "    </tr>\n",
       "    <tr>\n",
       "      <th>1</th>\n",
       "      <td>-3.082239</td>\n",
       "      <td>-0.358948</td>\n",
       "      <td>-0.021330</td>\n",
       "      <td>12.0</td>\n",
       "      <td>3841.771978</td>\n",
       "      <td>1.360128</td>\n",
       "      <td>-1080.491943</td>\n",
       "      <td>-141.657471</td>\n",
       "      <td>0.194304</td>\n",
       "      <td>1299.941130</td>\n",
       "      <td>1.746825</td>\n",
       "      <td>7578.755154</td>\n",
       "      <td>-3.011232</td>\n",
       "    </tr>\n",
       "    <tr>\n",
       "      <th>2</th>\n",
       "      <td>-0.011027</td>\n",
       "      <td>0.096606</td>\n",
       "      <td>-0.001065</td>\n",
       "      <td>11.0</td>\n",
       "      <td>11831.335600</td>\n",
       "      <td>1.228229</td>\n",
       "      <td>235.222702</td>\n",
       "      <td>-5.106698</td>\n",
       "      <td>0.204705</td>\n",
       "      <td>1137.754221</td>\n",
       "      <td>3.032522</td>\n",
       "      <td>7503.689479</td>\n",
       "      <td>-0.021707</td>\n",
       "    </tr>\n",
       "    <tr>\n",
       "      <th>3</th>\n",
       "      <td>3.105371</td>\n",
       "      <td>-0.442834</td>\n",
       "      <td>0.016047</td>\n",
       "      <td>9.0</td>\n",
       "      <td>1982.935289</td>\n",
       "      <td>1.397992</td>\n",
       "      <td>-256.822998</td>\n",
       "      <td>115.813004</td>\n",
       "      <td>0.349498</td>\n",
       "      <td>803.347165</td>\n",
       "      <td>1.552877</td>\n",
       "      <td>7505.289515</td>\n",
       "      <td>2.717953</td>\n",
       "    </tr>\n",
       "    <tr>\n",
       "      <th>4</th>\n",
       "      <td>-3.125277</td>\n",
       "      <td>-0.170356</td>\n",
       "      <td>-0.002780</td>\n",
       "      <td>11.0</td>\n",
       "      <td>6950.099982</td>\n",
       "      <td>1.731246</td>\n",
       "      <td>-439.475525</td>\n",
       "      <td>-42.887833</td>\n",
       "      <td>0.288541</td>\n",
       "      <td>1167.325690</td>\n",
       "      <td>2.470060</td>\n",
       "      <td>7512.987296</td>\n",
       "      <td>-3.044312</td>\n",
       "    </tr>\n",
       "  </tbody>\n",
       "</table>\n",
       "</div>"
      ],
      "text/plain": [
       "   track_phi  track_tx  track_ty  track_nLHCbIDs       track_p  track_chi2  \\\n",
       "0   2.849378 -0.343474  0.103326            12.0   2020.072174    6.275086   \n",
       "1  -3.082239 -0.358948 -0.021330            12.0   3841.771978    1.360128   \n",
       "2  -0.011027  0.096606 -0.001065            11.0  11831.335600    1.228229   \n",
       "3   3.105371 -0.442834  0.016047             9.0   1982.935289    1.397992   \n",
       "4  -3.125277 -0.170356 -0.002780            11.0   6950.099982    1.731246   \n",
       "\n",
       "   track_position_x  track_position_y  track_chi2PerDoF     track_pt  \\\n",
       "0        494.515198       1124.644897          0.896441   682.012956   \n",
       "1      -1080.491943       -141.657471          0.194304  1299.941130   \n",
       "2        235.222702         -5.106698          0.204705  1137.754221   \n",
       "3       -256.822998        115.813004          0.349498   803.347165   \n",
       "4       -439.475525        -42.887833          0.288541  1167.325690   \n",
       "\n",
       "   track_pseudoRapidity  track_position_r  track_position_phi  \n",
       "0              1.749189       7599.958646            1.156534  \n",
       "1              1.746825       7578.755154           -3.011232  \n",
       "2              3.032522       7503.689479           -0.021707  \n",
       "3              1.552877       7505.289515            2.717953  \n",
       "4              2.470060       7512.987296           -3.044312  "
      ]
     },
     "execution_count": 4,
     "metadata": {},
     "output_type": "execute_result"
    }
   ],
   "source": [
    "data = pd.read_csv(\"/data/work/wessex/Wessex/test/Brunel_track_seeds_with_target.csv\")\n",
    "target = data.particle_isDown_noVelo \n",
    "features = data.drop([\"Unnamed: 0\", \n",
    "                      \"Unnamed: 0_x\", # index\n",
    "                      \"Unnamed: 0_y\",\n",
    "                      \"eventID\",\n",
    "                      \"particle_key\",\n",
    "                      \"particle_hasUT\",\n",
    "                      \"particle_pid\", # this are MC info\n",
    "                      \"particle_hasScifi\",\n",
    "                      \"particle_isDown_noVelo\",\n",
    "                      \"particle_isDown\",\n",
    "                      \"particle_hasVelo\",\n",
    "                      \"track_charge\",\n",
    "                      \"track_position_z\",\n",
    "                     ], axis=1)\n",
    "features.head()"
   ]
  },
  {
   "cell_type": "code",
   "execution_count": 5,
   "metadata": {},
   "outputs": [
    {
     "data": {
      "text/plain": [
       "0          False\n",
       "1          False\n",
       "2          False\n",
       "3          False\n",
       "4          False\n",
       "           ...  \n",
       "6431432    False\n",
       "6431433    False\n",
       "6431434    False\n",
       "6431435    False\n",
       "6431436    False\n",
       "Name: particle_isDown_noVelo, Length: 6431437, dtype: bool"
      ]
     },
     "execution_count": 5,
     "metadata": {},
     "output_type": "execute_result"
    }
   ],
   "source": [
    "target"
   ]
  },
  {
   "cell_type": "code",
   "execution_count": 6,
   "metadata": {},
   "outputs": [],
   "source": [
    "target =  target.astype(int)"
   ]
  },
  {
   "cell_type": "code",
   "execution_count": 7,
   "metadata": {},
   "outputs": [],
   "source": [
    "def create_sampler(target):\n",
    "    class_sample_count = np.array(\n",
    "        [len(np.where(target == t)[0]) for t in np.unique(target)])\n",
    "    weight = 1. / class_sample_count\n",
    "    samples_weight = np.array([weight[t] for t in target])\n",
    "    samples_weight = torch.from_numpy(samples_weight)\n",
    "    samples_weigth = samples_weight.double()\n",
    "    return torch.utils.data.sampler.WeightedRandomSampler(samples_weight, len(samples_weight))\n",
    "\n",
    "\n"
   ]
  },
  {
   "cell_type": "code",
   "execution_count": 8,
   "metadata": {},
   "outputs": [
    {
     "data": {
      "text/plain": [
       "device(type='cuda', index=0)"
      ]
     },
     "execution_count": 8,
     "metadata": {},
     "output_type": "execute_result"
    }
   ],
   "source": [
    "device = torch.device(\"cuda:0\" if torch.cuda.is_available() else \"cpu\")\n",
    "device"
   ]
  },
  {
   "cell_type": "code",
   "execution_count": 9,
   "metadata": {},
   "outputs": [],
   "source": [
    "X_train, X_valid, Y_train, Y_valid = train_test_split(features, target, test_size=0.2, random_state=12)"
   ]
  },
  {
   "cell_type": "code",
   "execution_count": 10,
   "metadata": {},
   "outputs": [],
   "source": [
    "X_valid = (X_valid - X_train.mean()) / X_train.std()\n",
    "X_train = (X_train - X_train.mean()) / X_train.std()"
   ]
  },
  {
   "cell_type": "code",
   "execution_count": 11,
   "metadata": {},
   "outputs": [],
   "source": [
    "datasets={\n",
    "    \"train\":TensorDataset(torch.Tensor(np.array(X_train.values)).to(device), torch.Tensor(np.array(Y_train.values, dtype=np.uint8)).to(device)),\n",
    "    \"valid\":TensorDataset(torch.Tensor(np.array(X_valid.values)).to(device), torch.Tensor(np.array(Y_valid.values, dtype=np.uint8)).to(device))\n",
    "}\n"
   ]
  },
  {
   "cell_type": "code",
   "execution_count": 12,
   "metadata": {},
   "outputs": [
    {
     "data": {
      "text/plain": [
       "(tensor([ 5.5752e-02,  6.0465e-01,  3.2267e-01,  7.1693e-01, -3.9098e-03,\n",
       "         -5.5659e-01,  7.8569e-01,  2.9878e-01, -5.9557e-01, -3.3483e-04,\n",
       "         -1.3694e-01, -3.9947e-01,  1.2029e-01], device='cuda:0'),\n",
       " tensor(0., device='cuda:0'))"
      ]
     },
     "execution_count": 12,
     "metadata": {},
     "output_type": "execute_result"
    }
   ],
   "source": [
    "datasets[\"valid\"].__getitem__(0)"
   ]
  },
  {
   "cell_type": "code",
   "execution_count": 13,
   "metadata": {},
   "outputs": [],
   "source": [
    "dataloaders = { \n",
    "    'train':DataLoader(datasets[\"train\"],\n",
    "                   sampler=create_sampler(Y_train),\n",
    "                   batch_size=128,\n",
    "                   shuffle=False,\n",
    "                    num_workers=0),\n",
    "    'valid':DataLoader(datasets[\"valid\"],\n",
    "                      batch_size=128,\n",
    "                      shuffle=False,\n",
    "                      num_workers=0)\n",
    "}"
   ]
  },
  {
   "cell_type": "code",
   "execution_count": 14,
   "metadata": {},
   "outputs": [
    {
     "name": "stdout",
     "output_type": "stream",
     "text": [
      "features tensor([[ 0.0911,  0.7758,  0.6955,  ..., -0.4164, -0.2706,  0.2194],\n",
      "        [ 0.0074,  1.5782,  0.0473,  ..., -1.1503, -0.1537, -0.0032],\n",
      "        [ 1.5061, -1.0437,  0.4770,  ..., -0.6511, -0.1982,  1.4824],\n",
      "        ...,\n",
      "        [ 1.4881, -0.9481,  0.5955,  ..., -0.5454, -0.1836,  1.4574],\n",
      "        [ 0.8796, -0.0691,  0.8318,  ...,  1.3504, -0.6208,  0.6384],\n",
      "        [ 1.4509, -0.1484,  0.1180,  ...,  1.8142, -0.7564,  1.4799]],\n",
      "       device='cuda:0') 128\n",
      "target tensor([1., 0., 1., 1., 1., 1., 0., 1., 0., 1., 1., 1., 0., 1., 1., 0., 1., 0.,\n",
      "        1., 0., 1., 0., 0., 1., 0., 0., 0., 1., 1., 1., 0., 1., 1., 1., 0., 1.,\n",
      "        1., 1., 1., 1., 0., 1., 0., 0., 0., 1., 1., 1., 1., 0., 1., 1., 1., 1.,\n",
      "        0., 1., 1., 0., 1., 1., 1., 1., 1., 1., 0., 0., 1., 1., 0., 1., 1., 0.,\n",
      "        0., 0., 1., 1., 1., 1., 1., 0., 0., 0., 0., 1., 1., 1., 0., 1., 0., 1.,\n",
      "        0., 0., 1., 0., 0., 0., 0., 1., 0., 1., 1., 1., 0., 1., 1., 1., 0., 1.,\n",
      "        1., 1., 1., 0., 1., 0., 1., 1., 1., 1., 1., 0., 1., 0., 1., 0., 1., 1.,\n",
      "        0., 0.], device='cuda:0') 128\n"
     ]
    }
   ],
   "source": [
    "for batch in dataloaders[\"train\"]:\n",
    "    print(\"features\", batch[0], len(batch[0]))\n",
    "    print(\"target\", batch[1], len(batch[1]))\n",
    "    break"
   ]
  },
  {
   "cell_type": "code",
   "execution_count": 15,
   "metadata": {},
   "outputs": [],
   "source": [
    "def train_and_valid_classification(model,\n",
    "                                   criterion,\n",
    "                                   optimizer,\n",
    "                                   run_hist={},\n",
    "                                   num_epochs=10,\n",
    "                                   save_every_nth_batch_loss=50):\n",
    "    \"\"\"Train and evaluate the classification model.\"\"\"\n",
    "    if len(run_hist) == 0:\n",
    "        run_hist = {key: [] for key in ['epoch_loss_train',\n",
    "                                    'epoch_loss_valid',\n",
    "                                    'epoch_acc_valid',\n",
    "                                    'epoch_acc_train',   \n",
    "                                    'batch_loss_train']}\n",
    "    process_timer = timer()\n",
    "    \n",
    "    for epoch in range(num_epochs):\n",
    "        print('\\nEpoch {}/{}'.format(epoch+1, num_epochs))\n",
    "        print('-' * 10)\n",
    "\n",
    "        for phase in ['train', 'valid']:\n",
    "            start_epoch = timer()\n",
    "            if phase == 'train':\n",
    "                model.train()\n",
    "            else:\n",
    "                model.eval()\n",
    "        \n",
    "            running_loss = 0.0\n",
    "            running_corrects = 0\n",
    "            \n",
    "            batch_iterator = tqdm(iter(dataloaders[phase]), leave=False, total=len(dataloaders[phase]))\n",
    "\n",
    "        \n",
    "            for i, batch in enumerate(batch_iterator):\n",
    "                inputs, labels = batch\n",
    "                inputs = inputs.to(device)\n",
    "                labels = labels.to(device)\n",
    "\n",
    "                outputs = model(inputs)\n",
    "                loss = criterion(outputs, labels.long())\n",
    "\n",
    "                if phase == 'train':\n",
    "                    optimizer.zero_grad()\n",
    "                    loss.backward()\n",
    "                    optimizer.step()\n",
    "\n",
    "                _, preds = torch.max(outputs, 1)\n",
    "                running_loss += loss.detach() * inputs.size(0)\n",
    "                running_corrects += torch.sum(preds == labels.data.long())\n",
    "\n",
    "                if phase == 'train' and i % save_every_nth_batch_loss == 0:\n",
    "                    run_hist['batch_loss_train'].append(loss.item())\n",
    "\n",
    "            epoch_loss = running_loss / len(datasets[phase])\n",
    "            epoch_acc = running_corrects.float() / len(datasets[phase])\n",
    "\n",
    "            print('{} loss: {:.4f}, {} acc: {:.4f}, elapsed:{:.4f}'.\\\n",
    "            format(phase,\n",
    "                   epoch_loss.item(),\n",
    "                   phase,\n",
    "                   epoch_acc.item(),\n",
    "                   timer()-start_epoch\n",
    "                 ))\n",
    "                 \n",
    "        \n",
    "            run_hist['epoch_loss_' + phase].append(epoch_loss.item())\n",
    "            run_hist['epoch_acc_' + phase].append(epoch_acc.item())\n",
    "\n",
    "    print(\"training took: \",timer()- process_timer)    \n",
    "    return model, run_hist"
   ]
  },
  {
   "cell_type": "markdown",
   "metadata": {},
   "source": [
    "# Build model with 10 hidden layers"
   ]
  },
  {
   "cell_type": "code",
   "execution_count": 16,
   "metadata": {},
   "outputs": [],
   "source": [
    "class NHiddenTrackingNetwork(torch.nn.Module):\n",
    "    def __init__(self, inputs,n_hidden, hidden_dict):\n",
    "        super(NHiddenTrackingNetwork, self).__init__()\n",
    "        if n_hidden < 3: \n",
    "          raise ValueError(\"n_hidden must be greater than 2\")\n",
    "        self.input_layer = nn.Linear(inputs, hidden_dict[0])\n",
    "        self.layers = nn.ModuleList()\n",
    "        for layer_it in range(n_hidden-1):\n",
    "          self.layers.append(nn.Linear(hidden_dict[layer_it],\n",
    "                                       hidden_dict[layer_it+1]))\n",
    "        self.output_layer = nn.Linear(hidden_dict[n_hidden-1], 2) \n",
    "        # initialize layers\n",
    "        self.layers.apply(self._init_weights)\n",
    "        self._init_weights(self.output_layer)\n",
    "                \n",
    "        \n",
    "    def forward(self, x):\n",
    "        x = self.input_layer(x)\n",
    "        x = F.relu(x)\n",
    "        for layer in self.layers:\n",
    "          x = layer(x)\n",
    "          x = F.relu(x)\n",
    "        x = self.output_layer(x)\n",
    "        return x\n",
    "    \n",
    "    def _init_weights(self, m):\n",
    "        if isinstance(m, nn.Linear):\n",
    "            nn.init.xavier_normal_(m.weight)\n",
    "            m.bias.data.fill_(0.01)\n",
    "\n",
    "\n"
   ]
  },
  {
   "cell_type": "code",
   "execution_count": 17,
   "metadata": {},
   "outputs": [
    {
     "data": {
      "text/plain": [
       "{0: 100, 1: 90, 2: 80, 3: 70, 4: 60, 5: 50, 6: 40, 7: 30, 8: 20, 9: 10}"
      ]
     },
     "execution_count": 17,
     "metadata": {},
     "output_type": "execute_result"
    }
   ],
   "source": [
    "n_hidden = 10\n",
    "hidden_dict = {hidden: (n_hidden-hidden)*10 for hidden in range(n_hidden)}\n",
    "hidden_dict"
   ]
  },
  {
   "cell_type": "code",
   "execution_count": 18,
   "metadata": {},
   "outputs": [
    {
     "data": {
      "text/plain": [
       "NHiddenTrackingNetwork(\n",
       "  (input_layer): Linear(in_features=13, out_features=100, bias=True)\n",
       "  (layers): ModuleList(\n",
       "    (0): Linear(in_features=100, out_features=90, bias=True)\n",
       "    (1): Linear(in_features=90, out_features=80, bias=True)\n",
       "    (2): Linear(in_features=80, out_features=70, bias=True)\n",
       "    (3): Linear(in_features=70, out_features=60, bias=True)\n",
       "    (4): Linear(in_features=60, out_features=50, bias=True)\n",
       "    (5): Linear(in_features=50, out_features=40, bias=True)\n",
       "    (6): Linear(in_features=40, out_features=30, bias=True)\n",
       "    (7): Linear(in_features=30, out_features=20, bias=True)\n",
       "    (8): Linear(in_features=20, out_features=10, bias=True)\n",
       "  )\n",
       "  (output_layer): Linear(in_features=10, out_features=2, bias=True)\n",
       ")"
      ]
     },
     "execution_count": 18,
     "metadata": {},
     "output_type": "execute_result"
    }
   ],
   "source": [
    "model = NHiddenTrackingNetwork(X_train.shape[1], n_hidden, hidden_dict).to(device)\n",
    "model"
   ]
  },
  {
   "cell_type": "code",
   "execution_count": 19,
   "metadata": {},
   "outputs": [
    {
     "name": "stdout",
     "output_type": "stream",
     "text": [
      "Model's state_dict:\n",
      "input_layer.weight \t torch.Size([100, 13])\n",
      "input_layer.bias \t torch.Size([100])\n",
      "layers.0.weight \t torch.Size([90, 100])\n",
      "layers.0.bias \t torch.Size([90])\n",
      "layers.1.weight \t torch.Size([80, 90])\n",
      "layers.1.bias \t torch.Size([80])\n",
      "layers.2.weight \t torch.Size([70, 80])\n",
      "layers.2.bias \t torch.Size([70])\n",
      "layers.3.weight \t torch.Size([60, 70])\n",
      "layers.3.bias \t torch.Size([60])\n",
      "layers.4.weight \t torch.Size([50, 60])\n",
      "layers.4.bias \t torch.Size([50])\n",
      "layers.5.weight \t torch.Size([40, 50])\n",
      "layers.5.bias \t torch.Size([40])\n",
      "layers.6.weight \t torch.Size([30, 40])\n",
      "layers.6.bias \t torch.Size([30])\n",
      "layers.7.weight \t torch.Size([20, 30])\n",
      "layers.7.bias \t torch.Size([20])\n",
      "layers.8.weight \t torch.Size([10, 20])\n",
      "layers.8.bias \t torch.Size([10])\n",
      "output_layer.weight \t torch.Size([2, 10])\n",
      "output_layer.bias \t torch.Size([2])\n"
     ]
    }
   ],
   "source": [
    "print(\"Model's state_dict:\")\n",
    "for param_tensor in model.state_dict():\n",
    "    print(param_tensor, \"\\t\", model.state_dict()[param_tensor].size())\n"
   ]
  },
  {
   "cell_type": "code",
   "execution_count": 20,
   "metadata": {},
   "outputs": [
    {
     "name": "stdout",
     "output_type": "stream",
     "text": [
      "n_params 34872\n"
     ]
    }
   ],
   "source": [
    "trenable_parameters = filter(lambda p: p.requires_grad, model.parameters())\n",
    "print(\"n_params\", sum([np.prod(p.size()) for p in trenable_parameters]) )"
   ]
  },
  {
   "cell_type": "code",
   "execution_count": 21,
   "metadata": {},
   "outputs": [
    {
     "data": {
      "text/plain": [
       "0.8552497676646759"
      ]
     },
     "execution_count": 21,
     "metadata": {},
     "output_type": "execute_result"
    }
   ],
   "source": [
    "1- sum(target)/len(target)"
   ]
  },
  {
   "cell_type": "code",
   "execution_count": 22,
   "metadata": {},
   "outputs": [
    {
     "data": {
      "text/plain": [
       "0.855171929909124"
      ]
     },
     "execution_count": 22,
     "metadata": {},
     "output_type": "execute_result"
    }
   ],
   "source": [
    "1- sum(Y_train)/len(Y_train)"
   ]
  },
  {
   "cell_type": "code",
   "execution_count": 23,
   "metadata": {},
   "outputs": [
    {
     "data": {
      "text/plain": [
       "0.8555611185053424"
      ]
     },
     "execution_count": 23,
     "metadata": {},
     "output_type": "execute_result"
    }
   ],
   "source": [
    "1- sum(Y_valid)/len(Y_valid)"
   ]
  },
  {
   "cell_type": "code",
   "execution_count": 24,
   "metadata": {},
   "outputs": [],
   "source": [
    "criterion = nn.CrossEntropyLoss().cuda()\n",
    "learning_rate = 1e-4\n",
    "optimizer = torch.optim.Adam(model.parameters(), lr=learning_rate)"
   ]
  },
  {
   "cell_type": "code",
   "execution_count": 25,
   "metadata": {},
   "outputs": [
    {
     "name": "stdout",
     "output_type": "stream",
     "text": [
      "\n",
      "Epoch 1/10\n",
      "----------\n"
     ]
    },
    {
     "data": {
      "application/vnd.jupyter.widget-view+json": {
       "model_id": "",
       "version_major": 2,
       "version_minor": 0
      },
      "text/plain": [
       "HBox(children=(FloatProgress(value=0.0, max=40197.0), HTML(value='')))"
      ]
     },
     "metadata": {},
     "output_type": "display_data"
    },
    {
     "name": "stdout",
     "output_type": "stream",
     "text": [
      "train loss: 0.6035, train acc: 0.6610, elapsed:274.5993\n"
     ]
    },
    {
     "data": {
      "application/vnd.jupyter.widget-view+json": {
       "model_id": "",
       "version_major": 2,
       "version_minor": 0
      },
      "text/plain": [
       "HBox(children=(FloatProgress(value=0.0, max=10050.0), HTML(value='')))"
      ]
     },
     "metadata": {},
     "output_type": "display_data"
    },
    {
     "name": "stdout",
     "output_type": "stream",
     "text": [
      "valid loss: 0.5801, valid acc: 0.6789, elapsed:22.9260\n",
      "\n",
      "Epoch 2/10\n",
      "----------\n"
     ]
    },
    {
     "data": {
      "application/vnd.jupyter.widget-view+json": {
       "model_id": "",
       "version_major": 2,
       "version_minor": 0
      },
      "text/plain": [
       "HBox(children=(FloatProgress(value=0.0, max=40197.0), HTML(value='')))"
      ]
     },
     "metadata": {},
     "output_type": "display_data"
    },
    {
     "name": "stdout",
     "output_type": "stream",
     "text": [
      "train loss: 0.5729, train acc: 0.6831, elapsed:265.7470\n"
     ]
    },
    {
     "data": {
      "application/vnd.jupyter.widget-view+json": {
       "model_id": "",
       "version_major": 2,
       "version_minor": 0
      },
      "text/plain": [
       "HBox(children=(FloatProgress(value=0.0, max=10050.0), HTML(value='')))"
      ]
     },
     "metadata": {},
     "output_type": "display_data"
    },
    {
     "name": "stdout",
     "output_type": "stream",
     "text": [
      "valid loss: 0.5934, valid acc: 0.6647, elapsed:22.7073\n",
      "\n",
      "Epoch 3/10\n",
      "----------\n"
     ]
    },
    {
     "data": {
      "application/vnd.jupyter.widget-view+json": {
       "model_id": "",
       "version_major": 2,
       "version_minor": 0
      },
      "text/plain": [
       "HBox(children=(FloatProgress(value=0.0, max=40197.0), HTML(value='')))"
      ]
     },
     "metadata": {},
     "output_type": "display_data"
    },
    {
     "name": "stdout",
     "output_type": "stream",
     "text": [
      "train loss: 0.5666, train acc: 0.6875, elapsed:268.8786\n"
     ]
    },
    {
     "data": {
      "application/vnd.jupyter.widget-view+json": {
       "model_id": "",
       "version_major": 2,
       "version_minor": 0
      },
      "text/plain": [
       "HBox(children=(FloatProgress(value=0.0, max=10050.0), HTML(value='')))"
      ]
     },
     "metadata": {},
     "output_type": "display_data"
    },
    {
     "name": "stdout",
     "output_type": "stream",
     "text": [
      "valid loss: 0.5663, valid acc: 0.7029, elapsed:22.9764\n",
      "\n",
      "Epoch 4/10\n",
      "----------\n"
     ]
    },
    {
     "data": {
      "application/vnd.jupyter.widget-view+json": {
       "model_id": "",
       "version_major": 2,
       "version_minor": 0
      },
      "text/plain": [
       "HBox(children=(FloatProgress(value=0.0, max=40197.0), HTML(value='')))"
      ]
     },
     "metadata": {},
     "output_type": "display_data"
    },
    {
     "name": "stdout",
     "output_type": "stream",
     "text": [
      "train loss: 0.5632, train acc: 0.6903, elapsed:270.7873\n"
     ]
    },
    {
     "data": {
      "application/vnd.jupyter.widget-view+json": {
       "model_id": "",
       "version_major": 2,
       "version_minor": 0
      },
      "text/plain": [
       "HBox(children=(FloatProgress(value=0.0, max=10050.0), HTML(value='')))"
      ]
     },
     "metadata": {},
     "output_type": "display_data"
    },
    {
     "name": "stdout",
     "output_type": "stream",
     "text": [
      "valid loss: 0.5696, valid acc: 0.6989, elapsed:25.1891\n",
      "\n",
      "Epoch 5/10\n",
      "----------\n"
     ]
    },
    {
     "data": {
      "application/vnd.jupyter.widget-view+json": {
       "model_id": "",
       "version_major": 2,
       "version_minor": 0
      },
      "text/plain": [
       "HBox(children=(FloatProgress(value=0.0, max=40197.0), HTML(value='')))"
      ]
     },
     "metadata": {},
     "output_type": "display_data"
    },
    {
     "name": "stdout",
     "output_type": "stream",
     "text": [
      "train loss: 0.5612, train acc: 0.6919, elapsed:271.5306\n"
     ]
    },
    {
     "data": {
      "application/vnd.jupyter.widget-view+json": {
       "model_id": "",
       "version_major": 2,
       "version_minor": 0
      },
      "text/plain": [
       "HBox(children=(FloatProgress(value=0.0, max=10050.0), HTML(value='')))"
      ]
     },
     "metadata": {},
     "output_type": "display_data"
    },
    {
     "name": "stdout",
     "output_type": "stream",
     "text": [
      "valid loss: 0.5853, valid acc: 0.6772, elapsed:23.7445\n",
      "\n",
      "Epoch 6/10\n",
      "----------\n"
     ]
    },
    {
     "data": {
      "application/vnd.jupyter.widget-view+json": {
       "model_id": "",
       "version_major": 2,
       "version_minor": 0
      },
      "text/plain": [
       "HBox(children=(FloatProgress(value=0.0, max=40197.0), HTML(value='')))"
      ]
     },
     "metadata": {},
     "output_type": "display_data"
    },
    {
     "name": "stdout",
     "output_type": "stream",
     "text": [
      "train loss: 0.5602, train acc: 0.6926, elapsed:266.7803\n"
     ]
    },
    {
     "data": {
      "application/vnd.jupyter.widget-view+json": {
       "model_id": "",
       "version_major": 2,
       "version_minor": 0
      },
      "text/plain": [
       "HBox(children=(FloatProgress(value=0.0, max=10050.0), HTML(value='')))"
      ]
     },
     "metadata": {},
     "output_type": "display_data"
    },
    {
     "name": "stdout",
     "output_type": "stream",
     "text": [
      "valid loss: 0.5613, valid acc: 0.6998, elapsed:23.0942\n",
      "\n",
      "Epoch 7/10\n",
      "----------\n"
     ]
    },
    {
     "data": {
      "application/vnd.jupyter.widget-view+json": {
       "model_id": "",
       "version_major": 2,
       "version_minor": 0
      },
      "text/plain": [
       "HBox(children=(FloatProgress(value=0.0, max=40197.0), HTML(value='')))"
      ]
     },
     "metadata": {},
     "output_type": "display_data"
    },
    {
     "name": "stdout",
     "output_type": "stream",
     "text": [
      "train loss: 0.5588, train acc: 0.6937, elapsed:268.7310\n"
     ]
    },
    {
     "data": {
      "application/vnd.jupyter.widget-view+json": {
       "model_id": "",
       "version_major": 2,
       "version_minor": 0
      },
      "text/plain": [
       "HBox(children=(FloatProgress(value=0.0, max=10050.0), HTML(value='')))"
      ]
     },
     "metadata": {},
     "output_type": "display_data"
    },
    {
     "name": "stdout",
     "output_type": "stream",
     "text": [
      "valid loss: 0.5657, valid acc: 0.7029, elapsed:22.7066\n",
      "\n",
      "Epoch 8/10\n",
      "----------\n"
     ]
    },
    {
     "data": {
      "application/vnd.jupyter.widget-view+json": {
       "model_id": "",
       "version_major": 2,
       "version_minor": 0
      },
      "text/plain": [
       "HBox(children=(FloatProgress(value=0.0, max=40197.0), HTML(value='')))"
      ]
     },
     "metadata": {},
     "output_type": "display_data"
    },
    {
     "name": "stdout",
     "output_type": "stream",
     "text": [
      "train loss: 0.5586, train acc: 0.6939, elapsed:268.7220\n"
     ]
    },
    {
     "data": {
      "application/vnd.jupyter.widget-view+json": {
       "model_id": "",
       "version_major": 2,
       "version_minor": 0
      },
      "text/plain": [
       "HBox(children=(FloatProgress(value=0.0, max=10050.0), HTML(value='')))"
      ]
     },
     "metadata": {},
     "output_type": "display_data"
    },
    {
     "name": "stdout",
     "output_type": "stream",
     "text": [
      "valid loss: 0.5485, valid acc: 0.7225, elapsed:23.0039\n",
      "\n",
      "Epoch 9/10\n",
      "----------\n"
     ]
    },
    {
     "data": {
      "application/vnd.jupyter.widget-view+json": {
       "model_id": "",
       "version_major": 2,
       "version_minor": 0
      },
      "text/plain": [
       "HBox(children=(FloatProgress(value=0.0, max=40197.0), HTML(value='')))"
      ]
     },
     "metadata": {},
     "output_type": "display_data"
    },
    {
     "name": "stdout",
     "output_type": "stream",
     "text": [
      "train loss: 0.5578, train acc: 0.6947, elapsed:267.8039\n"
     ]
    },
    {
     "data": {
      "application/vnd.jupyter.widget-view+json": {
       "model_id": "",
       "version_major": 2,
       "version_minor": 0
      },
      "text/plain": [
       "HBox(children=(FloatProgress(value=0.0, max=10050.0), HTML(value='')))"
      ]
     },
     "metadata": {},
     "output_type": "display_data"
    },
    {
     "name": "stdout",
     "output_type": "stream",
     "text": [
      "valid loss: 0.5698, valid acc: 0.6905, elapsed:23.0363\n",
      "\n",
      "Epoch 10/10\n",
      "----------\n"
     ]
    },
    {
     "data": {
      "application/vnd.jupyter.widget-view+json": {
       "model_id": "",
       "version_major": 2,
       "version_minor": 0
      },
      "text/plain": [
       "HBox(children=(FloatProgress(value=0.0, max=40197.0), HTML(value='')))"
      ]
     },
     "metadata": {},
     "output_type": "display_data"
    },
    {
     "name": "stdout",
     "output_type": "stream",
     "text": [
      "train loss: 0.5570, train acc: 0.6952, elapsed:265.7163\n"
     ]
    },
    {
     "data": {
      "application/vnd.jupyter.widget-view+json": {
       "model_id": "",
       "version_major": 2,
       "version_minor": 0
      },
      "text/plain": [
       "HBox(children=(FloatProgress(value=0.0, max=10050.0), HTML(value='')))"
      ]
     },
     "metadata": {},
     "output_type": "display_data"
    },
    {
     "name": "stdout",
     "output_type": "stream",
     "text": [
      "valid loss: 0.5589, valid acc: 0.7099, elapsed:23.0983\n",
      "training took:  2921.783536407631\n"
     ]
    }
   ],
   "source": [
    "model, run_hist = train_and_valid_classification(model, criterion, optimizer, num_epochs=10)"
   ]
  },
  {
   "cell_type": "code",
   "execution_count": 26,
   "metadata": {},
   "outputs": [],
   "source": [
    "def print_roc(model, X, Y):\n",
    "    X = torch.tensor(X.values, dtype=torch.float).to(\"cpu\")\n",
    "    model.eval\n",
    "    model.to(\"cpu\")\n",
    "    output =  model(X)    \n",
    "    plt.figure(figsize=[6, 6])\n",
    "    pred = F.softmax(output, dim=1).cpu().detach().numpy()[:,1]\n",
    "    fpr, tpr, thresholds = roc_curve(Y,pred )\n",
    "    roc_auc = auc(fpr, tpr)\n",
    "    plt.plot(fpr, tpr, lw=1, label='ROC BDT (area = %0.4f)'%(roc_auc))\n",
    "    plt.plot([0, 1], [0, 1], '--', color=(0.6, 0.6, 0.6), label='no discrimination')\n",
    "    plt.xlim([-0.05, 1.05])\n",
    "    plt.ylim([0.8, 1.05])\n",
    "    plt.xlabel('False Positive Rate')\n",
    "    plt.ylabel('True Positive Rate')\n",
    "    plt.title('Receiver operating characteristic')\n",
    "    plt.legend(loc=\"lower right\")\n",
    "    plt.grid()\n",
    "    plt.show()\n",
    "    del X\n",
    "\n"
   ]
  },
  {
   "cell_type": "code",
   "execution_count": 27,
   "metadata": {},
   "outputs": [],
   "source": [
    "def plot_training_classification(run_hist):\n",
    "    \"\"\"Plot the training history of the classification model.\"\"\"\n",
    "    fig, ax = plt.subplots(1,2, figsize=(20,6), sharex=True)\n",
    "    x = np.arange(len(run_hist[\"epoch_loss_train\"])) + 1\n",
    "    ax[0].plot(x, run_hist[\"epoch_loss_train\"],'b', marker='.', label=\"train loss\")\n",
    "    ax[0].plot(x, run_hist[\"epoch_loss_valid\"],'r', marker='.', label=\"valid loss\")\n",
    "    ax[0].legend()\n",
    "    ax[1].plot(x, run_hist[\"epoch_acc_train\"],'b', marker='.', label=\"train accuracy\")\n",
    "    ax[1].plot(x, run_hist[\"epoch_acc_valid\"],'r', marker='.', label=\"valid accuracy\")\n",
    "    ax[1].legend()\n"
   ]
  },
  {
   "cell_type": "code",
   "execution_count": 28,
   "metadata": {},
   "outputs": [
    {
     "data": {
      "image/png": "[encoded data removed]",
      "text/plain": [
       "<Figure size 1440x432 with 2 Axes>"
      ]
     },
     "metadata": {
      "needs_background": "light"
     },
     "output_type": "display_data"
    }
   ],
   "source": [
    "plot_training_classification(run_hist)"
   ]
  },
  {
   "cell_type": "code",
   "execution_count": 29,
   "metadata": {},
   "outputs": [
    {
     "data": {
      "image/png": "[encoded data removed]",
      "text/plain": [
       "<Figure size 432x432 with 1 Axes>"
      ]
     },
     "metadata": {
      "needs_background": "light"
     },
     "output_type": "display_data"
    }
   ],
   "source": [
    "print_roc(model,X_valid, Y_valid )"
   ]
  },
  {
   "cell_type": "code",
   "execution_count": 30,
   "metadata": {},
   "outputs": [
    {
     "name": "stdout",
     "output_type": "stream",
     "text": [
      "('input_layer.weight', Parameter containing:\n",
      "tensor([[-0.0769,  0.2308,  0.2395,  ..., -0.0846, -0.0774, -0.1619],\n",
      "        [ 0.0119,  0.3154,  0.2168,  ..., -0.1007,  0.0751,  0.1299],\n",
      "        [ 0.0103,  0.0261,  0.0843,  ...,  0.0197, -0.2323,  0.2103],\n",
      "        ...,\n",
      "        [-0.0686, -0.1370,  0.2498,  ..., -0.0766, -0.1605, -0.0387],\n",
      "        [ 0.0401,  0.1701, -0.2398,  ..., -0.0051, -0.0311,  0.2672],\n",
      "        [-0.0567, -0.3250,  0.0175,  ..., -0.1672, -0.2572, -0.1019]],\n",
      "       requires_grad=True))\n",
      "('input_layer.bias', Parameter containing:\n",
      "tensor([-0.0900, -0.0185, -0.1366,  0.0793, -0.2042,  0.0108,  0.0291, -0.1414,\n",
      "        -0.0305, -0.1471, -0.3556,  0.0415,  0.1452, -0.1485, -0.3490,  0.2186,\n",
      "        -0.2817, -0.1298, -0.0049,  0.2254, -0.0883, -0.0838, -0.3255,  0.1336,\n",
      "        -0.0933, -0.1703, -0.1484,  0.0836,  0.1223,  0.2184, -0.1044, -0.2617,\n",
      "         0.0744, -0.2037, -0.2057,  0.0100,  0.0584, -0.2288,  0.1674,  0.1405,\n",
      "        -0.2534,  0.1650,  0.1751, -0.2135,  0.1823,  0.1160, -0.2261,  0.2532,\n",
      "        -0.1983, -0.2921, -0.2060, -0.3315,  0.1088,  0.0581, -0.2491,  0.2952,\n",
      "        -0.2479, -0.2197, -0.2677, -0.2967, -0.0087,  0.0248, -0.1302, -0.3294,\n",
      "         0.1491, -0.2357, -0.2924, -0.1482,  0.1953, -0.1498, -0.0925,  0.1038,\n",
      "         0.0323,  0.1315,  0.0335,  0.0775, -0.2276,  0.1719,  0.1659, -0.2398,\n",
      "        -0.2085, -0.2955, -0.3071,  0.0682, -0.0222,  0.0395,  0.2120,  0.1180,\n",
      "         0.0288,  0.1485, -0.0755, -0.0838,  0.1851,  0.2142, -0.0613,  0.0422,\n",
      "         0.1136,  0.0026,  0.0849, -0.0368], requires_grad=True))\n",
      "('layers.0.weight', Parameter containing:\n",
      "tensor([[-1.1316e-01,  5.2296e-02, -4.3480e-02,  ..., -9.7412e-02,\n",
      "          1.3416e-02,  2.1684e-01],\n",
      "        [ 3.6508e-02, -3.3363e-02,  1.7434e-01,  ...,  1.0792e-01,\n",
      "         -4.1984e-02, -1.3751e-01],\n",
      "        [-2.2847e-02, -8.4474e-03, -7.6095e-03,  ..., -9.4892e-02,\n",
      "          4.5936e-02, -5.1000e-02],\n",
      "        ...,\n",
      "        [-5.5394e-02,  2.7871e-03,  1.8170e-01,  ...,  1.0293e-01,\n",
      "         -1.4318e-04,  1.5789e-01],\n",
      "        [ 7.0956e-02,  1.2487e-01,  9.4759e-02,  ...,  4.0115e-02,\n",
      "         -4.1547e-02, -1.6191e-01],\n",
      "        [-2.8708e-02,  1.2835e-01,  3.0779e-03,  ..., -7.2723e-03,\n",
      "         -2.3186e-01,  2.7728e-02]], requires_grad=True))\n",
      "('layers.0.bias', Parameter containing:\n",
      "tensor([-0.0114,  0.0019,  0.0124,  0.0211,  0.0478, -0.0167,  0.0264, -0.0009,\n",
      "        -0.0706,  0.0133, -0.0014, -0.0010, -0.0044, -0.0196,  0.0377,  0.0231,\n",
      "         0.0491,  0.0352, -0.0008, -0.0235,  0.0597, -0.0355,  0.0216,  0.0227,\n",
      "         0.0527,  0.0176, -0.0244,  0.0372,  0.0326,  0.0246, -0.0222,  0.0211,\n",
      "         0.0431, -0.0067,  0.0022, -0.0092, -0.0354, -0.0241,  0.0112,  0.0304,\n",
      "         0.0594, -0.0066,  0.0260,  0.0092, -0.0030,  0.0256, -0.0062,  0.0194,\n",
      "         0.0967, -0.0147,  0.0014,  0.0274,  0.0187, -0.0303,  0.0272,  0.0092,\n",
      "         0.0129, -0.0023,  0.0240, -0.0142, -0.0639, -0.0017, -0.0143,  0.0321,\n",
      "         0.0336, -0.0026,  0.0350,  0.0219,  0.0340,  0.0122,  0.0278, -0.0252,\n",
      "         0.0342,  0.0751, -0.0022, -0.0028, -0.0550, -0.0583,  0.0055, -0.0167,\n",
      "         0.0088, -0.0259,  0.0183, -0.0342,  0.0013,  0.0017,  0.0236, -0.0033,\n",
      "         0.0265, -0.0041], requires_grad=True))\n",
      "('layers.1.weight', Parameter containing:\n",
      "tensor([[-0.1132, -0.1064,  0.2404,  ..., -0.0750,  0.2125,  0.1020],\n",
      "        [ 0.1214, -0.0871, -0.0304,  ...,  0.2143, -0.0122,  0.0545],\n",
      "        [-0.2360,  0.3197, -0.0482,  ..., -0.1458, -0.2140,  0.2507],\n",
      "        ...,\n",
      "        [-0.0910, -0.0056,  0.2210,  ...,  0.2309,  0.0682,  0.0235],\n",
      "        [-0.1386,  0.0603,  0.0229,  ..., -0.0846, -0.0501,  0.3009],\n",
      "        [-0.0186, -0.0103,  0.1241,  ..., -0.2578,  0.1946, -0.2255]],\n",
      "       requires_grad=True))\n",
      "('layers.1.bias', Parameter containing:\n",
      "tensor([ 0.0037, -0.0456, -0.0170, -0.0126,  0.1014,  0.0272,  0.0220,  0.0445,\n",
      "         0.0118,  0.0323,  0.0534, -0.0433,  0.1022,  0.0384, -0.0435,  0.0499,\n",
      "         0.0469, -0.0036, -0.0574,  0.0125, -0.0279, -0.0667,  0.0653, -0.0252,\n",
      "         0.0374, -0.0174,  0.0296,  0.0678,  0.0104, -0.0606,  0.0613,  0.0557,\n",
      "         0.0513,  0.0573,  0.0066,  0.0218,  0.0429,  0.1075, -0.0223, -0.0168,\n",
      "        -0.2339,  0.0806,  0.0603,  0.0177, -0.0405,  0.0099, -0.0076, -0.0265,\n",
      "        -0.0055, -0.0594,  0.0785, -0.0020,  0.0394,  0.0009, -0.0548, -0.0043,\n",
      "        -0.1306,  0.0017,  0.0451,  0.0285,  0.0943,  0.0015, -0.0400, -0.0342,\n",
      "         0.0349,  0.0589, -0.0349,  0.0155, -0.0136,  0.0507, -0.0254,  0.0182,\n",
      "         0.0680,  0.1117,  0.0549, -0.0091,  0.0544,  0.0095, -0.0244,  0.0356],\n",
      "       requires_grad=True))\n",
      "('layers.2.weight', Parameter containing:\n",
      "tensor([[-0.0351, -0.0593,  0.1046,  ..., -0.1384, -0.1782, -0.0824],\n",
      "        [-0.1292,  0.2208, -0.0241,  ...,  0.0604,  0.0303, -0.1194],\n",
      "        [ 0.1493,  0.1642,  0.1259,  ..., -0.0166,  0.0308,  0.0112],\n",
      "        ...,\n",
      "        [-0.0316, -0.1216,  0.1020,  ..., -0.0542,  0.1269,  0.0213],\n",
      "        [ 0.0709,  0.1342, -0.1107,  ...,  0.1139,  0.0013, -0.0911],\n",
      "        [-0.0395,  0.3444,  0.0753,  ..., -0.0278,  0.0466,  0.2349]],\n",
      "       requires_grad=True))\n",
      "('layers.2.bias', Parameter containing:\n",
      "tensor([-0.0319,  0.0398,  0.0974,  0.0942, -0.0289, -0.0357,  0.0299,  0.0752,\n",
      "         0.0688,  0.0448, -0.0099,  0.0365,  0.0462,  0.0009,  0.0409,  0.0278,\n",
      "         0.0176, -0.0246, -0.0140,  0.0173,  0.0393,  0.0093, -0.0313, -0.0076,\n",
      "         0.0044,  0.0731,  0.0014, -0.0223,  0.0096, -0.0180, -0.0897, -0.0763,\n",
      "         0.0630,  0.0495, -0.0622,  0.0393, -0.0327,  0.0270,  0.0016,  0.0132,\n",
      "         0.0066,  0.0872,  0.0617,  0.0526, -0.0069, -0.0419,  0.0860,  0.0672,\n",
      "         0.0872,  0.0463,  0.0562,  0.0812,  0.0103,  0.0180,  0.0102,  0.0232,\n",
      "         0.0159,  0.0676,  0.0224,  0.0675,  0.0875, -0.0860,  0.0626, -0.0105,\n",
      "         0.0511, -0.0071,  0.0798, -0.0217, -0.1045,  0.0495],\n",
      "       requires_grad=True))\n",
      "('layers.3.weight', Parameter containing:\n",
      "tensor([[-0.0242, -0.0917,  0.2186,  ..., -0.3769, -0.2616,  0.1143],\n",
      "        [ 0.2548,  0.2147, -0.0960,  ...,  0.1905,  0.2918,  0.0428],\n",
      "        [ 0.3078, -0.1138,  0.2136,  ...,  0.0877, -0.2342,  0.0752],\n",
      "        ...,\n",
      "        [-0.0565,  0.2230,  0.1190,  ..., -0.0156,  0.0877,  0.0634],\n",
      "        [ 0.0496, -0.0796,  0.2420,  ..., -0.0583, -0.1422,  0.1094],\n",
      "        [-0.0698, -0.2071,  0.0613,  ..., -0.2939, -0.0438, -0.1434]],\n",
      "       requires_grad=True))\n",
      "('layers.3.bias', Parameter containing:\n",
      "tensor([ 0.0244, -0.0054,  0.0216, -0.1117,  0.0649,  0.0049,  0.0151,  0.0093,\n",
      "        -0.0071,  0.0362,  0.0893, -0.0335,  0.0132,  0.0774,  0.0680, -0.0130,\n",
      "        -0.1518,  0.0719,  0.0024, -0.0647, -0.0156, -0.0382,  0.0465, -0.0120,\n",
      "         0.0471, -0.0394,  0.0443, -0.0163,  0.0656,  0.0008,  0.0305, -0.0137,\n",
      "        -0.0279,  0.0415,  0.0606,  0.0066, -0.0116,  0.0183,  0.0492,  0.0087,\n",
      "         0.0789,  0.0580,  0.0749,  0.0390,  0.0919,  0.0259,  0.0079, -0.0413,\n",
      "         0.0057,  0.0908,  0.0149,  0.0007, -0.0113,  0.0666,  0.0680,  0.0421,\n",
      "        -0.0049,  0.0399,  0.0797, -0.0022], requires_grad=True))\n",
      "('layers.4.weight', Parameter containing:\n",
      "tensor([[ 0.2646,  0.0248,  0.1306,  ..., -0.1976,  0.0916, -0.0160],\n",
      "        [-0.1982, -0.0857, -0.0213,  ..., -0.1021,  0.1769,  0.1323],\n",
      "        [-0.0464,  0.2242, -0.3021,  ..., -0.1061, -0.1571, -0.0032],\n",
      "        ...,\n",
      "        [ 0.2877,  0.0539, -0.0276,  ...,  0.0229,  0.1229, -0.0599],\n",
      "        [ 0.0981, -0.1773, -0.0790,  ...,  0.0695,  0.3271,  0.1494],\n",
      "        [ 0.3060,  0.0614,  0.0489,  ...,  0.2646, -0.0513, -0.0758]],\n",
      "       requires_grad=True))\n",
      "('layers.4.bias', Parameter containing:\n",
      "tensor([ 6.1403e-02,  5.0283e-02, -2.1736e-02,  3.4011e-02,  2.1803e-02,\n",
      "        -9.9774e-02,  1.0122e-01,  7.5154e-02, -4.9533e-02,  7.1695e-02,\n",
      "         4.7670e-02, -2.2278e-02,  3.3473e-02,  9.8009e-02,  5.8142e-02,\n",
      "         4.3290e-02, -3.5571e-02, -7.8222e-02, -1.8553e-02,  5.6234e-02,\n",
      "        -4.5597e-02,  7.4970e-02,  3.0745e-02,  2.8570e-02,  3.5734e-02,\n",
      "        -8.7838e-05,  1.8044e-02,  6.6685e-02,  6.1270e-02,  1.7167e-02,\n",
      "         2.8308e-02, -9.0288e-03, -2.8790e-02,  7.4049e-02, -6.7248e-02,\n",
      "         3.0303e-02, -4.1113e-02, -3.7249e-02,  5.9065e-02, -4.2225e-02,\n",
      "         2.8474e-03, -7.5699e-04, -4.7310e-02,  1.7074e-02,  1.3491e-02,\n",
      "         8.8171e-02,  1.0520e-02,  4.1817e-02,  7.3514e-02,  9.3906e-02],\n",
      "       requires_grad=True))\n",
      "('layers.5.weight', Parameter containing:\n",
      "tensor([[-0.2042,  0.2295, -0.2465,  ...,  0.1130,  0.0599,  0.4163],\n",
      "        [-0.0188, -0.2313, -0.3573,  ..., -0.2761,  0.0830,  0.0509],\n",
      "        [ 0.1551, -0.1863, -0.1641,  ..., -0.0288, -0.5343, -0.1248],\n",
      "        ...,\n",
      "        [-0.2815,  0.2518,  0.0812,  ..., -0.0548, -0.0320, -0.0705],\n",
      "        [ 0.0629,  0.2769, -0.1333,  ..., -0.1729, -0.0272, -0.0862],\n",
      "        [ 0.1438,  0.2422, -0.0217,  ..., -0.2185, -0.2122,  0.0330]],\n",
      "       requires_grad=True))\n",
      "('layers.5.bias', Parameter containing:\n",
      "tensor([ 0.0397,  0.0180,  0.0259,  0.0538,  0.0243,  0.0987, -0.0507,  0.0335,\n",
      "         0.0547,  0.0563, -0.0398, -0.0619,  0.0499,  0.1508,  0.0195, -0.0300,\n",
      "         0.0484,  0.0461, -0.0185, -0.0857,  0.0314, -0.0241,  0.0100, -0.0570,\n",
      "         0.0803,  0.0619,  0.0265,  0.0373,  0.0396,  0.0047,  0.0169,  0.0673,\n",
      "         0.0333,  0.1019,  0.0341, -0.0094,  0.0568, -0.0560,  0.0378, -0.0560],\n",
      "       requires_grad=True))\n",
      "('layers.6.weight', Parameter containing:\n",
      "tensor([[ 0.8736,  0.2591,  0.0529,  ..., -0.2105, -0.2846,  0.0465],\n",
      "        [ 0.0402, -0.0905,  0.1021,  ...,  0.2660,  0.1570, -0.0184],\n",
      "        [-0.0749, -0.0276,  0.1057,  ...,  0.5303, -0.1569,  0.2298],\n",
      "        ...,\n",
      "        [-0.2114, -0.1508, -0.1468,  ...,  0.0787,  0.2932,  0.1199],\n",
      "        [ 0.1388,  0.2051,  0.0845,  ..., -0.2639, -0.0635,  0.1494],\n",
      "        [-0.0452,  0.1080, -0.0475,  ...,  0.1345,  0.2767,  0.2523]],\n",
      "       requires_grad=True))\n",
      "('layers.6.bias', Parameter containing:\n",
      "tensor([-0.0647, -0.0151,  0.0453,  0.0211,  0.0361,  0.0278,  0.0301, -0.0119,\n",
      "         0.0850,  0.0786,  0.0573,  0.0443,  0.0320,  0.0260,  0.0821,  0.0883,\n",
      "        -0.0067,  0.0760,  0.0385,  0.0215,  0.0633, -0.0657,  0.0369, -0.0483,\n",
      "         0.0511,  0.0271,  0.0420, -0.0191,  0.0501,  0.0035],\n",
      "       requires_grad=True))\n",
      "('layers.7.weight', Parameter containing:\n",
      "tensor([[-1.5140e-01, -4.2967e-03,  1.7954e-01, -2.7934e-01,  3.8979e-01,\n",
      "          2.7689e-01,  2.3936e-01, -2.8377e-01, -1.0624e-01, -1.7900e-01,\n",
      "          5.3063e-02,  2.8924e-01,  4.9890e-02,  3.0223e-01, -3.0377e-02,\n",
      "         -5.3735e-02, -1.9528e-01,  2.4462e-01, -2.0824e-01,  2.8900e-01,\n",
      "          2.3936e-01,  6.3221e-02, -5.3386e-02,  6.2828e-01,  1.5206e-01,\n",
      "          1.8740e-01, -7.9912e-02, -3.7463e-01,  9.8172e-02, -9.7757e-02],\n",
      "        [ 1.0769e-01, -1.9121e-01, -1.4755e-01, -1.5714e-01,  2.5026e-01,\n",
      "         -7.1580e-02, -3.9617e-01, -2.6206e-01, -1.3733e-01,  1.6948e-01,\n",
      "          2.6630e-01, -1.9771e-01, -1.5891e-01, -6.5924e-02, -5.3802e-02,\n",
      "         -8.1610e-02, -7.9632e-02, -3.8565e-01,  1.1067e-01,  4.8932e-01,\n",
      "         -1.5655e-01, -1.3875e-01,  5.2816e-02,  2.6722e-01,  4.7842e-02,\n",
      "          2.4889e-01,  1.7500e-01, -9.7586e-02, -4.3374e-01, -1.4932e-01],\n",
      "        [-1.0352e-01,  5.0373e-01,  1.6931e-01,  2.9480e-01, -2.8001e-01,\n",
      "          8.4143e-02,  1.6967e-01,  7.9703e-02,  3.9701e-02, -1.3572e-01,\n",
      "         -2.3765e-01,  3.6824e-01,  2.1165e-02, -1.6416e-02, -1.8427e-01,\n",
      "         -2.4791e-01, -1.2144e-01, -2.5744e-01,  1.5318e-02, -1.7399e-01,\n",
      "         -1.2649e-01,  4.3295e-01,  2.5539e-01, -2.3239e-01,  7.4557e-02,\n",
      "          3.5235e-02, -5.8152e-02,  2.4582e-01,  6.5555e-02, -1.5913e-01],\n",
      "        [-3.1719e-01, -5.7996e-02,  5.7820e-02, -2.5390e-01, -1.6029e-02,\n",
      "          1.0136e-01,  1.8063e-01, -4.3160e-01,  1.4134e-01,  3.2845e-01,\n",
      "          1.3180e-01,  4.6159e-02,  3.2665e-02,  2.8790e-01, -2.9047e-02,\n",
      "         -2.1136e-01, -1.0831e-01, -1.0911e-01,  1.3766e-01,  9.7041e-02,\n",
      "          2.1275e-01,  1.1896e-01, -1.4215e-02,  3.9821e-02, -2.3033e-01,\n",
      "          1.5241e-01, -1.7283e-01, -6.3611e-02, -1.0770e-01, -7.8056e-02],\n",
      "        [-1.5630e-01,  1.8711e-01,  3.9148e-02,  3.6726e-02, -4.7247e-01,\n",
      "          7.1224e-02,  2.1952e-01,  3.2230e-01,  1.1894e-01, -9.0931e-02,\n",
      "         -2.7042e-01, -1.6926e-01,  7.8877e-02, -2.5085e-01,  3.4605e-01,\n",
      "         -1.2907e-01,  2.6575e-01,  3.5265e-01,  3.7861e-01, -4.2681e-01,\n",
      "          4.6490e-01,  1.9762e-01, -2.4558e-01, -4.1406e-01, -7.8343e-02,\n",
      "         -6.3759e-01,  1.1205e-02,  1.4860e-01,  4.1602e-01, -7.3709e-02],\n",
      "        [-5.0330e-01, -9.7959e-02, -1.9817e-02, -7.2541e-02, -2.9432e-01,\n",
      "         -1.1964e-01,  2.4306e-01, -3.8065e-02, -8.6419e-02,  3.4303e-01,\n",
      "         -9.5363e-02, -1.7672e-01,  3.4518e-01,  1.1139e-01, -2.1414e-01,\n",
      "          1.5206e-01, -1.6085e-01,  5.9741e-02, -6.6172e-01, -2.8948e-01,\n",
      "          1.4387e-01,  1.7245e-01,  2.5127e-01, -1.8947e-01,  8.2363e-02,\n",
      "         -3.3585e-01,  2.1763e-01,  2.3164e-01,  2.9762e-01, -2.8859e-01],\n",
      "        [-3.3364e-01,  1.2853e-01, -1.1654e-01, -1.8690e-01, -5.8323e-02,\n",
      "         -5.7146e-02, -6.5498e-02, -9.8000e-03, -7.0043e-02, -1.0581e-01,\n",
      "         -1.4929e-01,  3.3504e-01, -8.3424e-02, -7.1962e-02, -2.0030e-01,\n",
      "         -1.5335e-01,  2.5910e-02,  4.5721e-01, -2.7345e-01,  2.4329e-01,\n",
      "         -2.2717e-01,  4.9191e-02,  4.1721e-02, -8.5507e-02, -3.4197e-02,\n",
      "         -1.3156e-01, -9.9604e-02,  3.3278e-01, -3.9302e-01, -2.7600e-02],\n",
      "        [-1.1663e-01,  3.8304e-01,  2.9038e-01, -2.6300e-01, -1.3943e-01,\n",
      "         -2.3726e-01, -2.9984e-01, -3.2491e-02,  6.6412e-02,  2.6734e-01,\n",
      "          3.3687e-02, -6.6069e-02,  2.1817e-01,  1.6439e-01, -3.1064e-01,\n",
      "          1.9733e-02, -5.5913e-01, -1.4422e-01,  7.4723e-02,  1.5715e-01,\n",
      "          1.5094e-01,  2.9860e-01, -2.9459e-02,  1.8263e-01,  5.5588e-02,\n",
      "         -5.2407e-02,  3.5807e-01,  7.9311e-03,  4.7873e-04, -7.7565e-02],\n",
      "        [ 1.9266e-01,  1.7080e-01, -1.1197e-01,  9.7254e-02,  6.5259e-02,\n",
      "          4.5185e-01,  7.0967e-02, -3.6189e-01, -1.4596e-01,  2.0583e-02,\n",
      "          7.9575e-02, -7.7753e-01, -2.5686e-01,  7.2430e-03,  1.1462e-01,\n",
      "          7.5634e-02, -4.4986e-01,  8.4269e-02,  1.2365e-01, -2.6097e-01,\n",
      "          1.2181e-01, -3.9502e-01,  4.6456e-01, -1.6038e-01, -7.2864e-02,\n",
      "          1.1028e-01,  1.2846e-01, -3.0130e-02,  2.1166e-01, -4.8706e-01],\n",
      "        [ 1.5182e-01, -1.2428e-01, -1.3616e-01,  8.7664e-03,  1.4425e-01,\n",
      "         -2.7686e-01,  2.1778e-01,  4.5343e-01,  1.0314e-01, -7.4998e-02,\n",
      "          4.4115e-02, -1.4796e-01,  3.6418e-02, -1.3480e-01, -1.4887e-01,\n",
      "         -1.4357e-01, -9.9890e-02,  4.2007e-01,  5.5154e-02,  1.7504e-02,\n",
      "         -3.9768e-03, -1.4344e-01, -1.3725e-02, -1.7710e-01,  3.0818e-01,\n",
      "         -4.7009e-01,  1.6976e-01, -4.1106e-01, -2.2715e-01,  3.2221e-01],\n",
      "        [-1.2520e-01, -2.8733e-01, -2.5658e-01, -6.2450e-02, -1.7306e-01,\n",
      "         -5.6127e-02, -3.9336e-02,  1.1559e-01,  6.3462e-02, -1.7622e-02,\n",
      "         -5.7877e-02, -6.2577e-02,  2.3365e-01,  1.5156e-02,  2.2706e-02,\n",
      "         -3.6072e-01, -1.3002e-01,  1.9496e-01,  1.7425e-01, -3.1216e-01,\n",
      "          1.5792e-01,  1.0300e-01, -3.9895e-02,  2.9496e-01,  2.0542e-01,\n",
      "         -2.5063e-01, -1.5377e-01, -5.6900e-02, -3.4824e-01,  1.4696e-02],\n",
      "        [ 5.2011e-01, -7.3399e-02, -1.2974e-01,  2.4687e-01, -4.8207e-02,\n",
      "         -2.0826e-01,  1.0036e-01,  7.3553e-01,  7.2386e-01,  7.8280e-02,\n",
      "          6.1253e-02,  6.2406e-01, -2.5182e-01,  6.3878e-01,  2.0376e-01,\n",
      "          6.0972e-01, -1.2444e-01,  1.9347e-01, -7.9077e-02,  2.8614e-01,\n",
      "         -2.4101e-01,  3.6529e-01, -2.6465e-01, -2.4974e-01, -6.3963e-02,\n",
      "          1.0550e-01, -1.4115e-02,  3.5435e-02, -2.9516e-01,  4.9750e-01],\n",
      "        [ 2.7796e-01,  7.3202e-02,  4.8178e-02,  3.6804e-01, -9.8987e-02,\n",
      "         -1.8496e-01,  2.3557e-01,  4.4459e-01,  6.7518e-02, -2.0276e-01,\n",
      "          9.5511e-02, -1.8755e-02,  2.9137e-01,  2.2749e-03,  5.4499e-02,\n",
      "         -8.6949e-02,  6.7907e-02, -1.2459e-01,  1.9306e-01,  3.0092e-01,\n",
      "          1.4417e-01,  3.0377e-01, -6.8620e-02, -1.3457e-01, -6.0321e-01,\n",
      "         -2.2102e-01, -7.6601e-04, -3.4679e-02,  1.7813e-01,  1.6095e-01],\n",
      "        [ 3.8639e-01, -8.8980e-02,  2.7209e-01,  9.9128e-02, -5.2023e-01,\n",
      "         -2.0439e-01, -1.5130e-01,  2.9110e-01,  4.2772e-01,  2.4662e-01,\n",
      "          1.3076e-01,  1.8492e-01, -1.7525e-01, -6.5446e-02,  3.2167e-01,\n",
      "         -4.0292e-02, -2.1583e-02,  8.9453e-02,  4.8186e-02, -6.7197e-02,\n",
      "         -2.2360e-01, -2.0332e-02,  3.7728e-01, -2.4174e-01, -4.0294e-01,\n",
      "         -3.0447e-01,  1.2002e-01,  7.7799e-02,  5.8082e-01, -5.3437e-02],\n",
      "        [-4.2588e-01, -2.7474e-01, -2.5557e-01,  1.8153e-01, -1.1178e-01,\n",
      "          1.3266e-01,  6.5746e-02, -1.3509e-01,  3.6730e-02, -3.0093e-01,\n",
      "          4.6357e-01, -2.0479e-01, -8.6637e-02, -7.6049e-02,  3.8320e-01,\n",
      "          3.5924e-01,  2.3580e-01,  7.1308e-02,  2.9603e-02,  2.1503e-01,\n",
      "         -2.3697e-02,  2.5939e-02, -1.0044e-01,  5.7595e-01,  1.6693e-01,\n",
      "          1.4334e-01,  3.3176e-01, -2.3565e-01,  1.6059e-01,  6.8247e-02],\n",
      "        [ 2.6985e-01,  2.6629e-01,  1.1973e-01,  5.8863e-02, -5.3747e-01,\n",
      "         -1.2328e-01, -4.2317e-01, -4.0316e-01, -1.4130e-01, -6.9914e-02,\n",
      "         -2.1858e-01, -2.4560e-01, -1.3219e-01, -1.0983e-01,  4.6649e-02,\n",
      "         -4.0928e-01, -1.4589e-01,  5.4940e-02, -1.3949e-01, -2.2055e-01,\n",
      "         -4.1969e-01, -1.4508e-01,  3.9782e-01, -1.5085e-01, -6.0500e-03,\n",
      "          2.5886e-01, -1.0024e-01, -2.9237e-01,  2.2215e-02,  1.7957e-01],\n",
      "        [-4.3109e-02, -1.1813e-01, -4.8809e-02, -3.4716e-01,  9.8317e-02,\n",
      "         -5.3694e-03, -1.0890e-01,  2.8982e-01, -3.8825e-02, -2.0094e-01,\n",
      "          2.2805e-01,  3.2428e-01, -1.0042e-02,  3.3462e-01, -7.6137e-02,\n",
      "         -2.4582e-01, -6.3604e-02, -5.4189e-01, -2.9892e-03,  1.9476e-01,\n",
      "         -2.2211e-01,  2.6238e-01,  2.2041e-01, -2.0933e-01, -1.7818e-02,\n",
      "          2.8915e-01,  2.1536e-01,  5.6572e-02, -3.4051e-02, -8.3603e-02],\n",
      "        [ 2.3401e-01, -6.1764e-02, -9.1854e-02,  2.9825e-01,  1.4709e-01,\n",
      "         -4.5963e-01,  1.2434e-01,  8.0896e-02, -1.6340e-01,  1.1007e-01,\n",
      "          1.6725e-01,  1.9689e-01,  1.3719e-01, -7.8742e-02, -2.6483e-01,\n",
      "          1.5612e-01, -2.6364e-01,  1.9573e-01,  7.5452e-02, -1.9777e-01,\n",
      "          1.7820e-01, -4.5109e-01,  3.4305e-01, -2.0024e-01, -3.1285e-02,\n",
      "         -3.8037e-01, -1.7390e-01,  3.8898e-01, -5.1534e-02, -3.1251e-01],\n",
      "        [-2.1487e-01,  9.1077e-02,  1.1299e-01, -2.4770e-01,  1.4533e-01,\n",
      "          8.1142e-02,  4.3663e-01, -8.4362e-02,  6.1714e-02, -3.5494e-02,\n",
      "          1.8627e-01, -3.6108e-01,  1.0032e-01,  2.9965e-01,  4.0645e-01,\n",
      "          1.9236e-01, -2.6404e-01, -4.3730e-02, -4.3154e-01,  1.4774e-01,\n",
      "          9.8118e-02,  3.5454e-01,  4.4740e-02,  3.4560e-01, -6.0860e-02,\n",
      "          1.1202e-01,  2.8636e-02, -6.4319e-02, -1.6207e-01,  1.4084e-01],\n",
      "        [ 2.1950e-01,  4.3067e-01, -2.9541e-01,  5.1133e-02,  1.0094e-01,\n",
      "         -2.1056e-01,  1.4471e-02, -2.8678e-02, -2.5102e-01, -8.5483e-03,\n",
      "          1.2220e-01,  3.7074e-01, -1.0223e-01, -1.6731e-02, -1.2343e-01,\n",
      "         -3.8856e-01,  3.9493e-01,  4.5546e-02, -2.8693e-01, -6.1768e-02,\n",
      "         -1.5760e-01,  8.9982e-02,  1.1335e-01, -9.6075e-03, -2.6380e-01,\n",
      "         -2.7042e-01, -2.8377e-01, -1.3449e-01,  2.4904e-02, -2.0101e-01]],\n",
      "       requires_grad=True))\n",
      "('layers.7.bias', Parameter containing:\n",
      "tensor([ 0.0514,  0.0392, -0.2061, -0.0499,  0.0537,  0.0429, -0.0359,  0.0445,\n",
      "         0.0168,  0.0240,  0.0131,  0.1447,  0.0194,  0.1057,  0.0078, -0.1170,\n",
      "         0.0210,  0.0096,  0.0445, -0.0297], requires_grad=True))\n",
      "('layers.8.weight', Parameter containing:\n",
      "tensor([[-0.0554, -0.2583, -0.2347, -0.3613,  0.3812, -0.2966, -0.2493, -0.2635,\n",
      "         -0.1576, -0.0167,  0.1332,  0.7161,  0.2964,  0.6019, -0.1433, -0.0276,\n",
      "         -0.1525, -0.2993, -0.2310, -0.0572],\n",
      "        [ 0.0072,  0.6025, -0.5556,  0.1163, -0.2849,  0.0641,  0.0429,  0.1885,\n",
      "         -0.3552, -0.0944,  0.4556, -0.2704,  0.2788, -0.1125, -0.1396, -0.0990,\n",
      "          0.3268, -0.5313,  0.4499, -0.3771],\n",
      "        [ 0.5704,  0.1778, -0.1371,  0.1124,  0.0855,  0.3803, -0.1836, -0.2379,\n",
      "         -0.2687, -0.0101,  0.3280,  0.0144,  0.0379, -0.0877,  0.0471, -0.2962,\n",
      "         -0.1274, -0.2313, -0.0757,  0.2295],\n",
      "        [ 0.2111, -0.0819, -0.2695, -0.2947, -0.0392, -0.0891,  0.0479,  0.4134,\n",
      "          0.1712, -0.1252,  0.0410,  0.3459,  0.0010, -0.1462,  0.3111,  0.2239,\n",
      "          0.5907, -0.2601,  0.1550,  0.1847],\n",
      "        [ 0.1351,  0.1294, -0.4431,  0.1246,  0.0177,  0.1133,  0.0705,  0.1469,\n",
      "         -0.6988, -0.0553, -0.0863, -0.1827, -0.5891, -0.0419,  0.0607,  0.2123,\n",
      "          0.2036,  0.0536,  0.3023, -0.3203],\n",
      "        [-0.0807, -0.0238, -0.0120,  0.2404,  0.1027,  0.0190, -0.6712, -0.0424,\n",
      "         -0.3383,  0.2634, -0.0623, -0.4264, -0.1796, -0.0637,  0.0785, -0.4142,\n",
      "          0.2788, -0.1012, -0.1353, -0.2589],\n",
      "        [ 0.3141,  0.2977, -0.1494, -0.1480, -0.0560,  0.2637, -0.5165,  0.2900,\n",
      "          0.0346, -0.6575,  0.3487,  0.1422, -0.5496,  0.0421,  0.0915,  0.3098,\n",
      "         -0.0125, -0.1846,  0.4481,  0.2533],\n",
      "        [-0.1705, -0.1407, -0.6283, -0.3986,  0.0104,  0.1651,  0.0420,  0.0385,\n",
      "         -0.0544,  0.1266,  0.4590,  0.4301, -0.3958,  0.4020, -0.0101, -0.6362,\n",
      "         -0.1940, -0.1175, -0.2392, -0.5000],\n",
      "        [ 0.2474,  0.2356, -0.3631, -0.1475,  0.4256,  0.0586, -0.2070,  0.0088,\n",
      "          0.0532, -0.2129, -0.2207,  0.1157, -0.2692, -0.2070,  0.0879, -0.2761,\n",
      "          0.6812,  0.1268, -0.2217, -0.4603],\n",
      "        [-0.3958, -0.5427,  0.2685, -0.3202,  0.0256, -0.1716,  0.4949,  0.2759,\n",
      "         -0.1743,  0.0292,  0.0830,  0.1687,  0.0310, -0.0614, -0.2678, -0.0917,\n",
      "         -0.6241,  0.1220, -0.3472,  0.3573]], requires_grad=True))\n",
      "('layers.8.bias', Parameter containing:\n",
      "tensor([ 0.1278,  0.1060,  0.0760,  0.0089, -0.1107,  0.0100,  0.0637,  0.0570,\n",
      "         0.0632,  0.0456], requires_grad=True))\n",
      "('output_layer.weight', Parameter containing:\n",
      "tensor([[ 0.2520, -0.8136, -0.0696, -0.6829,  0.2426,  0.3244, -0.5061,  0.3406,\n",
      "          0.0693,  0.6532],\n",
      "        [-0.4961,  0.2086,  0.3030,  0.3376,  0.3928, -0.4774,  0.2551, -0.2011,\n",
      "          0.1330, -0.3231]], requires_grad=True))\n",
      "('output_layer.bias', Parameter containing:\n",
      "tensor([ 0.0347, -0.0147], requires_grad=True))\n"
     ]
    }
   ],
   "source": [
    "for param in model.named_parameters():\n",
    "  print(param)\n"
   ]
  },
  {
   "cell_type": "code",
   "execution_count": 31,
   "metadata": {},
   "outputs": [],
   "source": [
    "torch.save({\n",
    "            'model_state_dict': model.state_dict(),\n",
    "            'optimizer_state_dict': optimizer.state_dict(),\n",
    "            'run_history':run_hist,\n",
    "            }, \".19NN.pt\")\n"
   ]
  },
  {
   "cell_type": "code",
   "execution_count": 32,
   "metadata": {},
   "outputs": [
    {
     "data": {
      "text/plain": [
       "NHiddenTrackingNetwork(\n",
       "  (input_layer): Linear(in_features=13, out_features=100, bias=True)\n",
       "  (layers): ModuleList(\n",
       "    (0): Linear(in_features=100, out_features=90, bias=True)\n",
       "    (1): Linear(in_features=90, out_features=80, bias=True)\n",
       "    (2): Linear(in_features=80, out_features=70, bias=True)\n",
       "    (3): Linear(in_features=70, out_features=60, bias=True)\n",
       "    (4): Linear(in_features=60, out_features=50, bias=True)\n",
       "    (5): Linear(in_features=50, out_features=40, bias=True)\n",
       "    (6): Linear(in_features=40, out_features=30, bias=True)\n",
       "    (7): Linear(in_features=30, out_features=20, bias=True)\n",
       "    (8): Linear(in_features=20, out_features=10, bias=True)\n",
       "  )\n",
       "  (output_layer): Linear(in_features=10, out_features=2, bias=True)\n",
       ")"
      ]
     },
     "execution_count": 32,
     "metadata": {},
     "output_type": "execute_result"
    }
   ],
   "source": [
    "model.to(device)"
   ]
  },
  {
   "cell_type": "code",
   "execution_count": null,
   "metadata": {},
   "outputs": [
    {
     "name": "stdout",
     "output_type": "stream",
     "text": [
      "\n",
      "Epoch 1/20\n",
      "----------\n"
     ]
    },
    {
     "data": {
      "application/vnd.jupyter.widget-view+json": {
       "model_id": "",
       "version_major": 2,
       "version_minor": 0
      },
      "text/plain": [
       "HBox(children=(FloatProgress(value=0.0, max=40197.0), HTML(value='')))"
      ]
     },
     "metadata": {},
     "output_type": "display_data"
    },
    {
     "name": "stdout",
     "output_type": "stream",
     "text": [
      "train loss: 0.5568, train acc: 0.6954, elapsed:269.8367\n"
     ]
    },
    {
     "data": {
      "application/vnd.jupyter.widget-view+json": {
       "model_id": "",
       "version_major": 2,
       "version_minor": 0
      },
      "text/plain": [
       "HBox(children=(FloatProgress(value=0.0, max=10050.0), HTML(value='')))"
      ]
     },
     "metadata": {},
     "output_type": "display_data"
    },
    {
     "name": "stdout",
     "output_type": "stream",
     "text": [
      "valid loss: 0.5577, valid acc: 0.7063, elapsed:23.3102\n",
      "\n",
      "Epoch 2/20\n",
      "----------\n"
     ]
    },
    {
     "data": {
      "application/vnd.jupyter.widget-view+json": {
       "model_id": "",
       "version_major": 2,
       "version_minor": 0
      },
      "text/plain": [
       "HBox(children=(FloatProgress(value=0.0, max=40197.0), HTML(value='')))"
      ]
     },
     "metadata": {},
     "output_type": "display_data"
    },
    {
     "name": "stdout",
     "output_type": "stream",
     "text": [
      "train loss: 0.5563, train acc: 0.6958, elapsed:269.5248\n"
     ]
    },
    {
     "data": {
      "application/vnd.jupyter.widget-view+json": {
       "model_id": "",
       "version_major": 2,
       "version_minor": 0
      },
      "text/plain": [
       "HBox(children=(FloatProgress(value=0.0, max=10050.0), HTML(value='')))"
      ]
     },
     "metadata": {},
     "output_type": "display_data"
    },
    {
     "name": "stdout",
     "output_type": "stream",
     "text": [
      "valid loss: 0.5834, valid acc: 0.6837, elapsed:23.2838\n",
      "\n",
      "Epoch 3/20\n",
      "----------\n"
     ]
    },
    {
     "data": {
      "application/vnd.jupyter.widget-view+json": {
       "model_id": "",
       "version_major": 2,
       "version_minor": 0
      },
      "text/plain": [
       "HBox(children=(FloatProgress(value=0.0, max=40197.0), HTML(value='')))"
      ]
     },
     "metadata": {},
     "output_type": "display_data"
    },
    {
     "name": "stdout",
     "output_type": "stream",
     "text": [
      "train loss: 0.5561, train acc: 0.6961, elapsed:272.4001\n"
     ]
    },
    {
     "data": {
      "application/vnd.jupyter.widget-view+json": {
       "model_id": "",
       "version_major": 2,
       "version_minor": 0
      },
      "text/plain": [
       "HBox(children=(FloatProgress(value=0.0, max=10050.0), HTML(value='')))"
      ]
     },
     "metadata": {},
     "output_type": "display_data"
    },
    {
     "name": "stdout",
     "output_type": "stream",
     "text": [
      "valid loss: 0.5438, valid acc: 0.7207, elapsed:23.1901\n",
      "\n",
      "Epoch 4/20\n",
      "----------\n"
     ]
    },
    {
     "data": {
      "application/vnd.jupyter.widget-view+json": {
       "model_id": "",
       "version_major": 2,
       "version_minor": 0
      },
      "text/plain": [
       "HBox(children=(FloatProgress(value=0.0, max=40197.0), HTML(value='')))"
      ]
     },
     "metadata": {},
     "output_type": "display_data"
    },
    {
     "name": "stdout",
     "output_type": "stream",
     "text": [
      "train loss: 0.5559, train acc: 0.6962, elapsed:270.3674\n"
     ]
    },
    {
     "data": {
      "application/vnd.jupyter.widget-view+json": {
       "model_id": "",
       "version_major": 2,
       "version_minor": 0
      },
      "text/plain": [
       "HBox(children=(FloatProgress(value=0.0, max=10050.0), HTML(value='')))"
      ]
     },
     "metadata": {},
     "output_type": "display_data"
    },
    {
     "name": "stdout",
     "output_type": "stream",
     "text": [
      "valid loss: 0.5505, valid acc: 0.7128, elapsed:23.5331\n",
      "\n",
      "Epoch 5/20\n",
      "----------\n"
     ]
    },
    {
     "data": {
      "application/vnd.jupyter.widget-view+json": {
       "model_id": "",
       "version_major": 2,
       "version_minor": 0
      },
      "text/plain": [
       "HBox(children=(FloatProgress(value=0.0, max=40197.0), HTML(value='')))"
      ]
     },
     "metadata": {},
     "output_type": "display_data"
    },
    {
     "name": "stdout",
     "output_type": "stream",
     "text": [
      "train loss: 0.5555, train acc: 0.6966, elapsed:270.0912\n"
     ]
    },
    {
     "data": {
      "application/vnd.jupyter.widget-view+json": {
       "model_id": "",
       "version_major": 2,
       "version_minor": 0
      },
      "text/plain": [
       "HBox(children=(FloatProgress(value=0.0, max=10050.0), HTML(value='')))"
      ]
     },
     "metadata": {},
     "output_type": "display_data"
    },
    {
     "name": "stdout",
     "output_type": "stream",
     "text": [
      "valid loss: 0.5461, valid acc: 0.7110, elapsed:23.1362\n",
      "\n",
      "Epoch 6/20\n",
      "----------\n"
     ]
    },
    {
     "data": {
      "application/vnd.jupyter.widget-view+json": {
       "model_id": "",
       "version_major": 2,
       "version_minor": 0
      },
      "text/plain": [
       "HBox(children=(FloatProgress(value=0.0, max=40197.0), HTML(value='')))"
      ]
     },
     "metadata": {},
     "output_type": "display_data"
    },
    {
     "name": "stdout",
     "output_type": "stream",
     "text": [
      "train loss: 0.5553, train acc: 0.6967, elapsed:267.3242\n"
     ]
    },
    {
     "data": {
      "application/vnd.jupyter.widget-view+json": {
       "model_id": "",
       "version_major": 2,
       "version_minor": 0
      },
      "text/plain": [
       "HBox(children=(FloatProgress(value=0.0, max=10050.0), HTML(value='')))"
      ]
     },
     "metadata": {},
     "output_type": "display_data"
    },
    {
     "name": "stdout",
     "output_type": "stream",
     "text": [
      "valid loss: 0.5601, valid acc: 0.7003, elapsed:23.1626\n",
      "\n",
      "Epoch 7/20\n",
      "----------\n"
     ]
    },
    {
     "data": {
      "application/vnd.jupyter.widget-view+json": {
       "model_id": "",
       "version_major": 2,
       "version_minor": 0
      },
      "text/plain": [
       "HBox(children=(FloatProgress(value=0.0, max=40197.0), HTML(value='')))"
      ]
     },
     "metadata": {},
     "output_type": "display_data"
    },
    {
     "name": "stdout",
     "output_type": "stream",
     "text": [
      "train loss: 0.5550, train acc: 0.6969, elapsed:273.8013\n"
     ]
    },
    {
     "data": {
      "application/vnd.jupyter.widget-view+json": {
       "model_id": "",
       "version_major": 2,
       "version_minor": 0
      },
      "text/plain": [
       "HBox(children=(FloatProgress(value=0.0, max=10050.0), HTML(value='')))"
      ]
     },
     "metadata": {},
     "output_type": "display_data"
    },
    {
     "name": "stdout",
     "output_type": "stream",
     "text": [
      "valid loss: 0.5571, valid acc: 0.7025, elapsed:22.9319\n",
      "\n",
      "Epoch 8/20\n",
      "----------\n"
     ]
    },
    {
     "data": {
      "application/vnd.jupyter.widget-view+json": {
       "model_id": "",
       "version_major": 2,
       "version_minor": 0
      },
      "text/plain": [
       "HBox(children=(FloatProgress(value=0.0, max=40197.0), HTML(value='')))"
      ]
     },
     "metadata": {},
     "output_type": "display_data"
    },
    {
     "name": "stdout",
     "output_type": "stream",
     "text": [
      "train loss: 0.5545, train acc: 0.6973, elapsed:269.6865\n"
     ]
    },
    {
     "data": {
      "application/vnd.jupyter.widget-view+json": {
       "model_id": "",
       "version_major": 2,
       "version_minor": 0
      },
      "text/plain": [
       "HBox(children=(FloatProgress(value=0.0, max=10050.0), HTML(value='')))"
      ]
     },
     "metadata": {},
     "output_type": "display_data"
    },
    {
     "name": "stdout",
     "output_type": "stream",
     "text": [
      "valid loss: 0.5433, valid acc: 0.7168, elapsed:23.2251\n",
      "\n",
      "Epoch 9/20\n",
      "----------\n"
     ]
    },
    {
     "data": {
      "application/vnd.jupyter.widget-view+json": {
       "model_id": "",
       "version_major": 2,
       "version_minor": 0
      },
      "text/plain": [
       "HBox(children=(FloatProgress(value=0.0, max=40197.0), HTML(value='')))"
      ]
     },
     "metadata": {},
     "output_type": "display_data"
    },
    {
     "name": "stdout",
     "output_type": "stream",
     "text": [
      "train loss: 0.5543, train acc: 0.6974, elapsed:268.1211\n"
     ]
    },
    {
     "data": {
      "application/vnd.jupyter.widget-view+json": {
       "model_id": "",
       "version_major": 2,
       "version_minor": 0
      },
      "text/plain": [
       "HBox(children=(FloatProgress(value=0.0, max=10050.0), HTML(value='')))"
      ]
     },
     "metadata": {},
     "output_type": "display_data"
    },
    {
     "name": "stdout",
     "output_type": "stream",
     "text": [
      "valid loss: 0.5578, valid acc: 0.7042, elapsed:24.3463\n",
      "\n",
      "Epoch 10/20\n",
      "----------\n"
     ]
    },
    {
     "data": {
      "application/vnd.jupyter.widget-view+json": {
       "model_id": "",
       "version_major": 2,
       "version_minor": 0
      },
      "text/plain": [
       "HBox(children=(FloatProgress(value=0.0, max=40197.0), HTML(value='')))"
      ]
     },
     "metadata": {},
     "output_type": "display_data"
    },
    {
     "name": "stdout",
     "output_type": "stream",
     "text": [
      "train loss: 0.5542, train acc: 0.6976, elapsed:262.0991\n"
     ]
    },
    {
     "data": {
      "application/vnd.jupyter.widget-view+json": {
       "model_id": "",
       "version_major": 2,
       "version_minor": 0
      },
      "text/plain": [
       "HBox(children=(FloatProgress(value=0.0, max=10050.0), HTML(value='')))"
      ]
     },
     "metadata": {},
     "output_type": "display_data"
    },
    {
     "name": "stdout",
     "output_type": "stream",
     "text": [
      "valid loss: 0.5581, valid acc: 0.7005, elapsed:22.5105\n",
      "\n",
      "Epoch 11/20\n",
      "----------\n"
     ]
    },
    {
     "data": {
      "application/vnd.jupyter.widget-view+json": {
       "model_id": "",
       "version_major": 2,
       "version_minor": 0
      },
      "text/plain": [
       "HBox(children=(FloatProgress(value=0.0, max=40197.0), HTML(value='')))"
      ]
     },
     "metadata": {},
     "output_type": "display_data"
    },
    {
     "name": "stdout",
     "output_type": "stream",
     "text": [
      "train loss: 0.5538, train acc: 0.6976, elapsed:259.2155\n"
     ]
    },
    {
     "data": {
      "application/vnd.jupyter.widget-view+json": {
       "model_id": "",
       "version_major": 2,
       "version_minor": 0
      },
      "text/plain": [
       "HBox(children=(FloatProgress(value=0.0, max=10050.0), HTML(value='')))"
      ]
     },
     "metadata": {},
     "output_type": "display_data"
    },
    {
     "name": "stdout",
     "output_type": "stream",
     "text": [
      "valid loss: 0.5461, valid acc: 0.7180, elapsed:22.5838\n",
      "\n",
      "Epoch 12/20\n",
      "----------\n"
     ]
    },
    {
     "data": {
      "application/vnd.jupyter.widget-view+json": {
       "model_id": "",
       "version_major": 2,
       "version_minor": 0
      },
      "text/plain": [
       "HBox(children=(FloatProgress(value=0.0, max=40197.0), HTML(value='')))"
      ]
     },
     "metadata": {},
     "output_type": "display_data"
    },
    {
     "name": "stdout",
     "output_type": "stream",
     "text": [
      "train loss: 0.5539, train acc: 0.6977, elapsed:259.9032\n"
     ]
    },
    {
     "data": {
      "application/vnd.jupyter.widget-view+json": {
       "model_id": "",
       "version_major": 2,
       "version_minor": 0
      },
      "text/plain": [
       "HBox(children=(FloatProgress(value=0.0, max=10050.0), HTML(value='')))"
      ]
     },
     "metadata": {},
     "output_type": "display_data"
    },
    {
     "name": "stdout",
     "output_type": "stream",
     "text": [
      "valid loss: 0.5595, valid acc: 0.7067, elapsed:22.3110\n",
      "\n",
      "Epoch 13/20\n",
      "----------\n"
     ]
    },
    {
     "data": {
      "application/vnd.jupyter.widget-view+json": {
       "model_id": "e6d948653aad422a87f98f9a3208be70",
       "version_major": 2,
       "version_minor": 0
      },
      "text/plain": [
       "HBox(children=(FloatProgress(value=0.0, max=40197.0), HTML(value='')))"
      ]
     },
     "metadata": {},
     "output_type": "display_data"
    }
   ],
   "source": [
    "model, run_hist = train_and_valid_classification(model, criterion, optimizer,run_hist, num_epochs=20)"
   ]
  },
  {
   "cell_type": "code",
   "execution_count": 42,
   "metadata": {},
   "outputs": [
    {
     "data": {
      "image/png": "[encoded data removed]",
      "text/plain": [
       "<Figure size 1440x432 with 2 Axes>"
      ]
     },
     "metadata": {
      "needs_background": "light"
     },
     "output_type": "display_data"
    }
   ],
   "source": [
    "plot_training_classification(run_hist)"
   ]
  },
  {
   "cell_type": "code",
   "execution_count": 41,
   "metadata": {},
   "outputs": [
    {
     "data": {
      "image/png": "[encoded data removed]",
      "text/plain": [
       "<Figure size 432x432 with 1 Axes>"
      ]
     },
     "metadata": {
      "needs_background": "light"
     },
     "output_type": "display_data"
    }
   ],
   "source": [
    "print_roc(model,X_valid, Y_valid )"
   ]
  },
  {
   "cell_type": "code",
   "execution_count": 40,
   "metadata": {},
   "outputs": [
    {
     "name": "stdout",
     "output_type": "stream",
     "text": [
      "              precision    recall  f1-score   support\n",
      "\n",
      "       ghost       0.97      0.33      0.50   1100498\n",
      "        true       0.19      0.94      0.32    185790\n",
      "\n",
      "   micro avg       0.42      0.42      0.42   1286288\n",
      "   macro avg       0.58      0.64      0.41   1286288\n",
      "weighted avg       0.86      0.42      0.47   1286288\n",
      "\n"
     ]
    }
   ],
   "source": [
    "print_classification_report(model,X_valid, Y_valid, 0.30)"
   ]
  }
 ],
 "metadata": {
  "kernelspec": {
   "display_name": "Python 3.6 - AzureML",
   "language": "python",
   "name": "python3-azureml"
  },
  "language_info": {
   "codemirror_mode": {
    "name": "ipython",
    "version": 3
   },
   "file_extension": ".py",
   "mimetype": "text/x-python",
   "name": "python",
   "nbconvert_exporter": "python",
   "pygments_lexer": "ipython3",
   "version": "3.6.9"
  }
 },
 "nbformat": 4,
 "nbformat_minor": 2
}

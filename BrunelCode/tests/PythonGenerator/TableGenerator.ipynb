{
 "cells": [
  {
   "cell_type": "code",
   "execution_count": 373,
   "metadata": {
    "collapsed": false
   },
   "outputs": [
    {
     "name": "stdout",
     "output_type": "stream",
     "text": [
      "Kernel is Alive!\n"
     ]
    }
   ],
   "source": [
    "print (\"Kernel is Alive!\")"
   ]
  },
  {
   "cell_type": "code",
   "execution_count": 374,
   "metadata": {
    "collapsed": true
   },
   "outputs": [],
   "source": [
    "import pandas as pd\n",
    "import numpy as np\n",
    "import matplotlib.pyplot as plt\n",
    "%matplotlib inline\n",
    "from sklearn.tree import DecisionTreeClassifier\n",
    "\n",
    "from root_numpy import root2array, tree2array\n",
    "\n",
    "import itertools  \n",
    "\n",
    "from hep_ml.speedup import LookupClassifier"
   ]
  },
  {
   "cell_type": "markdown",
   "metadata": {},
   "source": [
    "### create data"
   ]
  },
  {
   "cell_type": "code",
   "execution_count": 375,
   "metadata": {
    "collapsed": false
   },
   "outputs": [
    {
     "data": {
      "text/html": [
       "<div style=\"max-height:1000px;max-width:1500px;overflow:auto;\">\n",
       "<table border=\"1\" class=\"dataframe\">\n",
       "  <thead>\n",
       "    <tr style=\"text-align: right;\">\n",
       "      <th></th>\n",
       "      <th>x</th>\n",
       "      <th>y</th>\n",
       "    </tr>\n",
       "  </thead>\n",
       "  <tbody>\n",
       "    <tr>\n",
       "      <th>0</th>\n",
       "      <td>1</td>\n",
       "      <td>1</td>\n",
       "    </tr>\n",
       "    <tr>\n",
       "      <th>1</th>\n",
       "      <td>1</td>\n",
       "      <td>9</td>\n",
       "    </tr>\n",
       "    <tr>\n",
       "      <th>2</th>\n",
       "      <td>9</td>\n",
       "      <td>1</td>\n",
       "    </tr>\n",
       "    <tr>\n",
       "      <th>3</th>\n",
       "      <td>9</td>\n",
       "      <td>9</td>\n",
       "    </tr>\n",
       "  </tbody>\n",
       "</table>\n",
       "</div>"
      ],
      "text/plain": [
       "   x  y\n",
       "0  1  1\n",
       "1  1  9\n",
       "2  9  1\n",
       "3  9  9"
      ]
     },
     "execution_count": 375,
     "metadata": {},
     "output_type": "execute_result"
    }
   ],
   "source": [
    "data_dict = np.array([(1,1), (1,9), (9,1), (9,9)], dtype=[('x', '<f4'), ('y', '<f4')])\n",
    "data = pd.DataFrame(data_dict, columns=['x', 'y'],  )\n",
    "data.head()"
   ]
  },
  {
   "cell_type": "code",
   "execution_count": 376,
   "metadata": {
    "collapsed": false
   },
   "outputs": [
    {
     "data": {
      "text/html": [
       "<div style=\"max-height:1000px;max-width:1500px;overflow:auto;\">\n",
       "<table border=\"1\" class=\"dataframe\">\n",
       "  <thead>\n",
       "    <tr style=\"text-align: right;\">\n",
       "      <th></th>\n",
       "      <th>x</th>\n",
       "      <th>y</th>\n",
       "      <th>Label</th>\n",
       "    </tr>\n",
       "  </thead>\n",
       "  <tbody>\n",
       "    <tr>\n",
       "      <th>0</th>\n",
       "      <td>1</td>\n",
       "      <td>1</td>\n",
       "      <td>0</td>\n",
       "    </tr>\n",
       "    <tr>\n",
       "      <th>1</th>\n",
       "      <td>1</td>\n",
       "      <td>9</td>\n",
       "      <td>0</td>\n",
       "    </tr>\n",
       "    <tr>\n",
       "      <th>2</th>\n",
       "      <td>9</td>\n",
       "      <td>1</td>\n",
       "      <td>1</td>\n",
       "    </tr>\n",
       "    <tr>\n",
       "      <th>3</th>\n",
       "      <td>9</td>\n",
       "      <td>9</td>\n",
       "      <td>1</td>\n",
       "    </tr>\n",
       "  </tbody>\n",
       "</table>\n",
       "</div>"
      ],
      "text/plain": [
       "   x  y  Label\n",
       "0  1  1      0\n",
       "1  1  9      0\n",
       "2  9  1      1\n",
       "3  9  9      1"
      ]
     },
     "execution_count": 376,
     "metadata": {},
     "output_type": "execute_result"
    }
   ],
   "source": [
    "data[\"Label\"] = [0,0,1,1]\n",
    "target = data.Label\n",
    "features = data.drop(\"Label\", axis=1).astype(np.float64)\n",
    "data.head()"
   ]
  },
  {
   "cell_type": "code",
   "execution_count": 377,
   "metadata": {
    "collapsed": false
   },
   "outputs": [
    {
     "data": {
      "text/plain": [
       "LookupClassifier(base_estimator=DecisionTreeClassifier(class_weight=None, criterion='entropy', max_depth=1,\n",
       "            max_features=None, max_leaf_nodes=None, min_samples_leaf=1,\n",
       "            min_samples_split=2, min_weight_fraction_leaf=0.0,\n",
       "            random_state=None, splitter='best'),\n",
       "         keep_trained_estimator=False, max_cells=500000000, n_bins=2)"
      ]
     },
     "execution_count": 377,
     "metadata": {},
     "output_type": "execute_result"
    }
   ],
   "source": [
    "base_classifier = DecisionTreeClassifier(max_depth = 1, criterion = 'entropy')\n",
    "\n",
    "n_bins = 2\n",
    "\n",
    "classifier = LookupClassifier(base_estimator=base_classifier, n_bins=n_bins, keep_trained_estimator=False)\n",
    "classifier.fit(features, target)"
   ]
  },
  {
   "cell_type": "markdown",
   "metadata": {},
   "source": [
    "## Save BBDT into rootfile. "
   ]
  },
  {
   "cell_type": "code",
   "execution_count": 378,
   "metadata": {
    "collapsed": false
   },
   "outputs": [],
   "source": [
    "from root_pandas import to_root\n",
    "\n",
    "n_bins = 2\n",
    "n_features = 2\n",
    "\n",
    "\n",
    "all_bins_indices = np.dstack(np.meshgrid(range(n_bins), range(n_features))).reshape(-1, n_bins)# chrome: ujeb.se/38z6W\n",
    "all_bins_indices_df = pd.DataFrame(all_bins_indices)\n",
    "\n",
    "lookup_indices = classifier.convert_bins_to_lookup_index(all_bins_indices_df)\n",
    "predictions = np.array(classifier._lookup_table[lookup_indices] [:,1])\n",
    "\n",
    "\n",
    "combinated_array = np.c_[all_bins_indices, predictions]\n",
    "tuple_clf_df = pd.DataFrame(combinated_array, columns=[\"x\",\"y\",\"pred\"])\n",
    "tuple_clf_df.convert_objects(convert_numeric=True)\n",
    "\n",
    "to_root(tuple_clf_df, '../Source/tuple_classifer.root', key = 'tree')"
   ]
  },
  {
   "cell_type": "code",
   "execution_count": 379,
   "metadata": {
    "collapsed": false
   },
   "outputs": [
    {
     "data": {
      "text/html": [
       "<div style=\"max-height:1000px;max-width:1500px;overflow:auto;\">\n",
       "<table border=\"1\" class=\"dataframe\">\n",
       "  <thead>\n",
       "    <tr style=\"text-align: right;\">\n",
       "      <th></th>\n",
       "      <th>x</th>\n",
       "      <th>y</th>\n",
       "      <th>pred</th>\n",
       "    </tr>\n",
       "  </thead>\n",
       "  <tbody>\n",
       "    <tr>\n",
       "      <th>0</th>\n",
       "      <td>0</td>\n",
       "      <td>0</td>\n",
       "      <td>0</td>\n",
       "    </tr>\n",
       "    <tr>\n",
       "      <th>1</th>\n",
       "      <td>1</td>\n",
       "      <td>0</td>\n",
       "      <td>1</td>\n",
       "    </tr>\n",
       "    <tr>\n",
       "      <th>2</th>\n",
       "      <td>0</td>\n",
       "      <td>1</td>\n",
       "      <td>0</td>\n",
       "    </tr>\n",
       "    <tr>\n",
       "      <th>3</th>\n",
       "      <td>1</td>\n",
       "      <td>1</td>\n",
       "      <td>1</td>\n",
       "    </tr>\n",
       "  </tbody>\n",
       "</table>\n",
       "</div>"
      ],
      "text/plain": [
       "   x  y  pred\n",
       "0  0  0     0\n",
       "1  1  0     1\n",
       "2  0  1     0\n",
       "3  1  1     1"
      ]
     },
     "execution_count": 379,
     "metadata": {},
     "output_type": "execute_result"
    }
   ],
   "source": [
    "tuple_clf_df.head()"
   ]
  },
  {
   "cell_type": "markdown",
   "metadata": {},
   "source": [
    "# Generate C++ test class"
   ]
  },
  {
   "cell_type": "code",
   "execution_count": 381,
   "metadata": {
    "collapsed": true
   },
   "outputs": [],
   "source": [
    "def generate_header():\n",
    "    return \"\"\"    \n",
    "    \n",
    "#pragma once\n",
    "\n",
    "#include <vector>\n",
    "#include <map>\n",
    "#include <TROOT.h>\n",
    "#include <TFile.h>\n",
    "#include <TTree.h>\n",
    "\n",
    "\n",
    "class PatBBDTSeedClassifier \n",
    "{\n",
    "public:\n",
    "    PatBBDTSeedClassifier();\n",
    "\n",
    "    void initialize();\n",
    "    double getMvaValue(const std::vector<double>& parametersVector );\n",
    "    std::vector<int> getBinIndices(const std::vector<double>& parametersVector);\n",
    "\n",
    "\n",
    "private:\n",
    "    //initialization phase\n",
    "    void initBinEdgeMaps();\n",
    "    void initTupleClassifier();\n",
    "\n",
    "    // model prediction phase\n",
    "    double getBBDTPrediction(const std::vector<int>& binIndices);\n",
    "\n",
    "\n",
    "    std::vector <std::pair<std::string, std::vector<double>>> m_binsEdgeMap;\n",
    "    std::map <std::vector<int>, double > m_tupleClassifier;\n",
    "\n",
    "\n",
    "    // tree specific member fields\n",
    "\n",
    "    // Declaration of leaf types\n",
    "    std::vector<Double_t*> m_leafTypes;\n",
    "\n",
    "    Double_t           x;\n",
    "    Double_t           y;\n",
    "    Double_t        pred;\n",
    "\n",
    "    // List of branches\n",
    "    TBranch        *b_x;   //!\n",
    "    TBranch        *b_y;   //!\n",
    "    TBranch        *b_pred;   //!\n",
    "};\n",
    "\n",
    "\n",
    "\"\"\""
   ]
  },
  {
   "cell_type": "code",
   "execution_count": 382,
   "metadata": {
    "collapsed": true
   },
   "outputs": [],
   "source": [
    "def generate_source_file():\n",
    "    return \"\"\"\n",
    "\n",
    "#include \"PatBBDTSeedClassifier.h\"\n",
    "#include <iostream>\n",
    "\n",
    "using namespace std;\n",
    "\n",
    "\n",
    "double PatBBDTSeedClassifier::getMvaValue(const std::vector<double>& parametersVector )\n",
    "{\n",
    "    auto binIndices = getBinIndices(parametersVector);\n",
    "    return getBBDTPrediction(binIndices);\n",
    "}\n",
    "\n",
    "\n",
    "PatBBDTSeedClassifier::PatBBDTSeedClassifier( )\n",
    "{\n",
    "    initialize();\n",
    "}\n",
    "\n",
    "void PatBBDTSeedClassifier::initialize()\n",
    "{\n",
    "    initBinEdgeMaps();\n",
    "    initTupleClassifier();\n",
    "}\n",
    "\n",
    "std::vector<int> PatBBDTSeedClassifier::getBinIndices(const std::vector<double>& parametersVector)\n",
    "{\n",
    "    int actualFeature = 0;\n",
    "    int binPerFeatures = 2;\n",
    "    std::vector<int> binIndicesMap;\n",
    "    for (const auto& featurePair: m_binsEdgeMap){\n",
    "        int binNumber = 0;\n",
    "        for(const auto& binValue : featurePair.second) {\n",
    "            if (parametersVector[actualFeature] < binValue) {\n",
    "                binIndicesMap.push_back(binNumber);\n",
    "                break;\n",
    "            }\n",
    "            binNumber++;\n",
    "            if(binNumber == binPerFeatures -1 ) binIndicesMap.push_back(binNumber);\n",
    "\n",
    "        }\n",
    "        actualFeature++;\n",
    "    }\n",
    "    return binIndicesMap;\n",
    "}\n",
    "\n",
    "double PatBBDTSeedClassifier::getBBDTPrediction(const std::vector<int>& binIndices)\n",
    "{\n",
    "    return m_tupleClassifier[binIndices];\n",
    "}\n",
    "\n",
    "void PatBBDTSeedClassifier::initTupleClassifier() {\n",
    "    TTree *tree = 0;\n",
    "    TFile *f = (TFile *) gROOT->GetListOfFiles()->FindObject(\"Source/tuple_classifer.root\");\n",
    "    if (!f || !f->IsOpen()) {\n",
    "        f = new TFile(\"Source/tuple_classifer.root\");\n",
    "    }\n",
    "    f->GetObject(\"tree\", tree);\n",
    "\n",
    "    if (!tree) cout << \"Tree is null\" << endl;\n",
    "\n",
    "    tree->SetBranchAddress(\"x\", &x, &b_x);\n",
    "    tree->SetBranchAddress(\"y\", &y, &b_y);\n",
    "    tree->SetBranchAddress(\"pred\", &pred, &b_pred);\n",
    "\n",
    "    m_leafTypes.push_back(&x);\n",
    "    m_leafTypes.push_back(&y);\n",
    "\n",
    "\n",
    "    Long64_t nentries = tree->GetEntriesFast();\n",
    "    for (Long64_t jentry = 0; jentry < nentries; jentry++) {\n",
    "        tree->GetEntry(jentry);\n",
    "        std::vector<int> binIndices;\n",
    "        for (const auto &leaf : m_leafTypes) {\n",
    "            binIndices.push_back(*leaf);\n",
    "        }\n",
    "        m_tupleClassifier.insert(std::make_pair(binIndices, pred));\n",
    "    }\n",
    "    \n",
    "}\n",
    "\"\"\""
   ]
  },
  {
   "cell_type": "code",
   "execution_count": 383,
   "metadata": {
    "collapsed": true
   },
   "outputs": [],
   "source": [
    "def generate_InitBinEdgeMap_function():\n",
    "    function_body = \"\"\"\n",
    "void PatBBDTSeedClassifier::initBinEdgeMaps()\n",
    "{\n",
    "    m_binsEdgeMap ={\n",
    "    \"\"\"\n",
    "    for feature, bins_edges in classifier.bin_edges.iteritems():\n",
    "        function_body += \"\\t {\\\"\" + str(feature) +\"\\\", {\"\n",
    "        for bin_edge in bins_edges:\n",
    "            function_body += str(bin_edge)+ \",\"\n",
    "        function_body +=  \"}},\\n\"\n",
    "    \n",
    "    function_body += \"\"\"\\n };\n",
    "}\n",
    "    \"\"\"\n",
    "    return function_body\n"
   ]
  },
  {
   "cell_type": "code",
   "execution_count": 384,
   "metadata": {
    "collapsed": false
   },
   "outputs": [],
   "source": [
    "file = open(\"../Source/PatBBDTSeedClassifier.h\", 'w')\n",
    "file.write(generate_header())\n",
    "file.close()\n",
    "\n",
    "file = open(\"../Source/PatBBDTSeedClassifier.cpp\", 'w')\n",
    "file_content = generate_source_file()\n",
    "file_content += generate_InitBinEdgeMap_function()\n",
    "\n",
    "file.write(file_content)\n",
    "file.close()"
   ]
  },
  {
   "cell_type": "code",
   "execution_count": null,
   "metadata": {
    "collapsed": true
   },
   "outputs": [],
   "source": []
  },
  {
   "cell_type": "code",
   "execution_count": null,
   "metadata": {
    "collapsed": true
   },
   "outputs": [],
   "source": []
  }
 ],
 "metadata": {
  "kernelspec": {
   "display_name": "Python 2",
   "language": "python",
   "name": "python2"
  },
  "language_info": {
   "codemirror_mode": {
    "name": "ipython",
    "version": 2
   },
   "file_extension": ".py",
   "mimetype": "text/x-python",
   "name": "python",
   "nbconvert_exporter": "python",
   "pygments_lexer": "ipython2",
   "version": "2.7.10"
  }
 },
 "nbformat": 4,
 "nbformat_minor": 0
}

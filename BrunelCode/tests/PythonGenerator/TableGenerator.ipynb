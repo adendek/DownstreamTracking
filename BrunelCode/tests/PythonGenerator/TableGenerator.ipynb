{
 "cells": [
  {
   "cell_type": "code",
   "execution_count": 1,
   "metadata": {
    "collapsed": false
   },
   "outputs": [
    {
     "name": "stdout",
     "output_type": "stream",
     "text": [
      "Kernel is Alive!\n"
     ]
    }
   ],
   "source": [
    "print (\"Kernel is Alive!\")"
   ]
  },
  {
   "cell_type": "code",
   "execution_count": 73,
   "metadata": {
    "collapsed": true
   },
   "outputs": [],
   "source": [
    "import pandas as pd\n",
    "import numpy as np\n",
    "import matplotlib.pyplot as plt\n",
    "%matplotlib inline\n",
    "\n",
    "from hep_ml.speedup import LookupClassifier"
   ]
  },
  {
   "cell_type": "code",
   "execution_count": 85,
   "metadata": {
    "collapsed": false
   },
   "outputs": [],
   "source": [
    "from sklearn.base import ClassifierMixin, BaseEstimator\n",
    "\n",
    "__author__ = 'Adam Dendek'\n",
    "\n",
    "\n",
    "class DummyClassifier(BaseEstimator, ClassifierMixin):\n",
    "    def __init__(self):\n",
    "        self.threshold = 0.5\n",
    "    \n",
    "    def fit(self, X, y, sample_weight=None):\n",
    "        pass\n",
    "\n",
    "    def predict_proba(self, X):\n",
    "        print(X)\n",
    "        probas = numpy.where(X<self.threshold, [0.1,0.9], [0.9,0.1] )\n",
    "        return probas\n"
   ]
  },
  {
   "cell_type": "markdown",
   "metadata": {},
   "source": [
    "### create data"
   ]
  },
  {
   "cell_type": "code",
   "execution_count": 86,
   "metadata": {
    "collapsed": false
   },
   "outputs": [
    {
     "data": {
      "text/html": [
       "<div style=\"max-height:1000px;max-width:1500px;overflow:auto;\">\n",
       "<table border=\"1\" class=\"dataframe\">\n",
       "  <thead>\n",
       "    <tr style=\"text-align: right;\">\n",
       "      <th></th>\n",
       "      <th>x</th>\n",
       "      <th>y</th>\n",
       "    </tr>\n",
       "  </thead>\n",
       "  <tbody>\n",
       "    <tr>\n",
       "      <th>0</th>\n",
       "      <td>1</td>\n",
       "      <td>1</td>\n",
       "    </tr>\n",
       "    <tr>\n",
       "      <th>1</th>\n",
       "      <td>1</td>\n",
       "      <td>9</td>\n",
       "    </tr>\n",
       "    <tr>\n",
       "      <th>2</th>\n",
       "      <td>9</td>\n",
       "      <td>1</td>\n",
       "    </tr>\n",
       "    <tr>\n",
       "      <th>3</th>\n",
       "      <td>9</td>\n",
       "      <td>9</td>\n",
       "    </tr>\n",
       "  </tbody>\n",
       "</table>\n",
       "</div>"
      ],
      "text/plain": [
       "   x  y\n",
       "0  1  1\n",
       "1  1  9\n",
       "2  9  1\n",
       "3  9  9"
      ]
     },
     "execution_count": 86,
     "metadata": {},
     "output_type": "execute_result"
    }
   ],
   "source": [
    "data_dict = np.array([(1,1), (1,9), (9,1), (9,9)], dtype=[('x', '<i4'), ('y', '<i4')])\n",
    "data = pd.DataFrame(data_dict, columns=['x', 'y'],  )\n",
    "data.head()"
   ]
  },
  {
   "cell_type": "code",
   "execution_count": 87,
   "metadata": {
    "collapsed": false
   },
   "outputs": [],
   "source": [
    "data[\"Label\"] = [0,0,1,1]\n",
    "target = data.Label\n",
    "features = data.drop(\"Label\", axis=1).astype(numpy.float64)"
   ]
  },
  {
   "cell_type": "code",
   "execution_count": 88,
   "metadata": {
    "collapsed": false
   },
   "outputs": [
    {
     "name": "stdout",
     "output_type": "stream",
     "text": [
      "[[0 0]\n",
      " [0 1]\n",
      " [1 0]\n",
      " [1 1]]\n"
     ]
    },
    {
     "data": {
      "text/plain": [
       "LookupClassifier(base_estimator=DummyClassifier(),\n",
       "         keep_trained_estimator=False, max_cells=500000000, n_bins=2)"
      ]
     },
     "execution_count": 88,
     "metadata": {},
     "output_type": "execute_result"
    }
   ],
   "source": [
    "base_classifier = DummyClassifier()\n",
    "\n",
    "n_bins = 2\n",
    "\n",
    "classifier = LookupClassifier(base_estimator=base_classifier, n_bins=n_bins, keep_trained_estimator=False)\n",
    "classifier.fit(features, target)"
   ]
  },
  {
   "cell_type": "code",
   "execution_count": 89,
   "metadata": {
    "collapsed": false
   },
   "outputs": [
    {
     "name": "stdout",
     "output_type": "stream",
     "text": [
      "[[ 0.1  0.9]\n",
      " [ 0.1  0.1]\n",
      " [ 0.9  0.9]\n",
      " [ 0.9  0.1]]\n"
     ]
    }
   ],
   "source": [
    "print(classifier._lookup_table)"
   ]
  },
  {
   "cell_type": "code",
   "execution_count": 103,
   "metadata": {
    "collapsed": false
   },
   "outputs": [
    {
     "data": {
      "text/html": [
       "<div style=\"max-height:1000px;max-width:1500px;overflow:auto;\">\n",
       "<table border=\"1\" class=\"dataframe\">\n",
       "  <thead>\n",
       "    <tr style=\"text-align: right;\">\n",
       "      <th></th>\n",
       "      <th>x</th>\n",
       "      <th>y</th>\n",
       "    </tr>\n",
       "  </thead>\n",
       "  <tbody>\n",
       "    <tr>\n",
       "      <th>0</th>\n",
       "      <td>1</td>\n",
       "      <td>9</td>\n",
       "    </tr>\n",
       "  </tbody>\n",
       "</table>\n",
       "</div>"
      ],
      "text/plain": [
       "   x  y\n",
       "0  1  9"
      ]
     },
     "execution_count": 103,
     "metadata": {},
     "output_type": "execute_result"
    }
   ],
   "source": [
    "testX_dict =np.array([(1,9)], dtype=[('x', '<f4'), ('y', '<f4')])\n",
    "testX = pd.DataFrame(testX_dict, columns=['x', 'y'],  )\n",
    "\n",
    "testX.head()                "
   ]
  },
  {
   "cell_type": "code",
   "execution_count": 105,
   "metadata": {
    "collapsed": false
   },
   "outputs": [
    {
     "data": {
      "text/plain": [
       "array([ 0.1])"
      ]
     },
     "execution_count": 105,
     "metadata": {},
     "output_type": "execute_result"
    }
   ],
   "source": [
    "classifier.predict_proba(testX)[:,0]"
   ]
  },
  {
   "cell_type": "markdown",
   "metadata": {},
   "source": [
    "# Generate C++ test class"
   ]
  },
  {
   "cell_type": "code",
   "execution_count": 109,
   "metadata": {
    "collapsed": true
   },
   "outputs": [],
   "source": [
    "def generate_header():\n",
    "    return \"\"\"    \n",
    "#pragma once\n",
    "\n",
    "#include <vector>\n",
    "#include <map>\n",
    "\n",
    "\n",
    "class PatBBDTSeedClassifier \n",
    "{\n",
    "public:\n",
    "    PatBBDTSeedClassifier();\n",
    "\n",
    "    void \n",
    "    double getMvaValue(const std::vector<double>& parametersVector );\n",
    "    \n",
    "\n",
    "private:\n",
    "    //initialization phase\n",
    "    std::vector <std::pair<std::string, std::vector<double>>> initBinEdgeMaps();\n",
    "    std::vector<double> initLookupTable();\n",
    "\n",
    "    // model prediction phase\n",
    "    std::vector<int> getBinIndices(const std::vector<double>& parametersVector);\n",
    "    int convertBinIndicesToLookupIndex(std::vector<int>& binIndices);\n",
    "    double getBBDTPrediction(int lookupIndex);\n",
    "\n",
    "\n",
    "    std::vector <std::pair<std::string, std::vector<double>>> m_binsEdgeMap;\n",
    "    std::vector<double> m_lookupTable;\n",
    "};\n",
    "\n",
    "\"\"\""
   ]
  },
  {
   "cell_type": "code",
   "execution_count": 110,
   "metadata": {
    "collapsed": true
   },
   "outputs": [],
   "source": [
    "def generate_source_file():\n",
    "    return \"\"\"\n",
    "#include \"PatBBDTSeedClassifier.h\"\n",
    "#include <stdlib.h>\n",
    "#include <stdio.h>\n",
    "\n",
    "\n",
    "double PatBBDTSeedClassifier::getMvaValue(const std::vector<double>& parametersVector )\n",
    "{\n",
    "    auto binIndices = getBinIndices(parametersVector);\n",
    "    int lookupTableIndex = convertBinIndicesToLookupIndex(binIndices);\n",
    "    return getBBDTPrediction(lookupTableIndex);\n",
    "}\n",
    "\n",
    "\n",
    "\n",
    "PatBBDTSeedClassifier::PatBBDTSeedClassifier( )\n",
    "{\n",
    "    initialize();\n",
    "}\n",
    "\n",
    "void PatBBDTSeedClassifier::initialize()\n",
    "{\n",
    "\n",
    "    m_binsEdgeMap = initBinEdgeMaps();\n",
    "    m_lookupTable = initLookupTable();\n",
    "}\n",
    "\n",
    "std::vector<int> PatBBDTSeedClassifier::getBinIndices(const std::vector<double>& parametersVector)\n",
    "{\n",
    "    std::vector<int> binIndicesMap;\n",
    "    int actualFeature = 0;\n",
    "    for (const auto& featurePair: m_binsEdgeMap){\n",
    "        int binNumber = 0;\n",
    "        for(const auto& binValue : featurePair.second) {\n",
    "            if (parametersVector[actualFeature] > binValue) {\n",
    "                binIndicesMap.push_back(binNumber);\n",
    "                break;\n",
    "            }\n",
    "            binNumber++;\n",
    "        }\n",
    "        actualFeature++;\n",
    "    }\n",
    "    return binIndicesMap;\n",
    "}\n",
    "/**\n",
    " * adopt to C++ python method\n",
    " *  hep_ml.speedup.LookupClassifier.convert_lookup_index_to_bins()\n",
    " */\n",
    "\n",
    "\n",
    "int PatBBDTSeedClassifier::convertBinIndicesToLookupIndex(std::vector<int> &binIndices)\n",
    "{\n",
    "    int index = 0;\n",
    "    const int binPerFeature = 2;\n",
    "\n",
    "    for (const auto& indice : binIndices){\n",
    "        index *= binPerFeature+1;\n",
    "        index += indice;\n",
    "    }\n",
    "    return index;\n",
    "}\n",
    "\n",
    "double PatBBDTSeedClassifier::getBBDTPrediction(int lookupIndex)\n",
    "{\n",
    "    return m_lookupTable[lookupIndex];\n",
    "}\n",
    "    \"\"\""
   ]
  },
  {
   "cell_type": "code",
   "execution_count": 111,
   "metadata": {
    "collapsed": true
   },
   "outputs": [],
   "source": [
    "def generate_InitBinEdgeMap_function():\n",
    "    function_body = \"\"\"\n",
    "std::vector< std::pair<std::string, std::vector<double> > > PatBBDTSeedClassifier::initBinEdgeMaps()\n",
    "{\n",
    "    std::vector< std::pair<std::string, std::vector<double> > >   binMap ={\n",
    "    \"\"\"\n",
    "    for feature, bins_edges in classifier.bin_edges.iteritems():\n",
    "        function_body += \"\\t {\\\"\" + str(feature) +\"\\\", {\"\n",
    "        for bin_edge in bins_edges:\n",
    "            function_body += str(bin_edge)+ \",\"\n",
    "        function_body +=  \"}},\\n\"\n",
    "    \n",
    "    function_body += \"\"\"\\n };\n",
    "return binMap;\n",
    "}\n",
    "    \"\"\"\n",
    "    return function_body\n"
   ]
  },
  {
   "cell_type": "code",
   "execution_count": 112,
   "metadata": {
    "collapsed": true
   },
   "outputs": [],
   "source": [
    "def generate_initLookupTable_read_binary():\n",
    "    function_body = \"\"\"\n",
    "\n",
    "/** right now I am using the simplest idea of importing lookup table.\n",
    " *  More sophisticated method is described in \n",
    " *  http://stackoverflow.com/questions/39529799/initialization-of-very-big-vector-in-c/39531749#39531749\n",
    " *   thread. Don't know if will be implemented. \n",
    " */\n",
    "\n",
    "std::vector<double> PatBBDTSeedClassifier::initLookupTable()\n",
    "{\n",
    "    FILE *inFile;\n",
    "    const int elementNumber = \"\"\"\n",
    "    function_body +=  str(len(classifier._lookup_table[:,0])) +\";\\n\"\n",
    "    function_body += \"\"\"\n",
    "    std::vector<double> lookup_table(elementNumber);\n",
    "    if (!(inFile = fopen(\"BBDT_lookuptable_binary.dat\", \"rb\")))\n",
    "        exit(EXIT_FAILURE);\n",
    "\n",
    "    fread(&lookup_table[0], sizeof(double), elementNumber, inFile);\n",
    "    fclose(inFile);\n",
    "\n",
    "    return lookup_table;\n",
    "}\n",
    "    \"\"\"\n",
    "    return function_body"
   ]
  },
  {
   "cell_type": "code",
   "execution_count": 113,
   "metadata": {
    "collapsed": true
   },
   "outputs": [],
   "source": [
    "file = open(\"../Source/PatBBDTSeedClassifier.h\", 'w')\n",
    "file.write(generate_header())\n",
    "file.close()\n",
    "\n",
    "file = open(\"../Source/PatBBDTSeedClassifier.cpp\", 'w')\n",
    "file_content = generate_source_file()\n",
    "file_content += generate_InitBinEdgeMap_function()\n",
    "file_content += generate_initLookupTable_read_binary()\n",
    "\n",
    "file.write(file_content)\n",
    "file.close()"
   ]
  },
  {
   "cell_type": "code",
   "execution_count": 114,
   "metadata": {
    "collapsed": true
   },
   "outputs": [],
   "source": [
    "from struct import pack\n",
    "file_name =\"../Source/BBDT_lookuptable_binary.dat\"\n",
    "with open(file_name, 'wb') as file_out:\n",
    "    for u in classifier._lookup_table[:,0]:\n",
    "        file_out.write(pack(b'<d', u)) # Pack doubles as little-endian "
   ]
  },
  {
   "cell_type": "code",
   "execution_count": null,
   "metadata": {
    "collapsed": true
   },
   "outputs": [],
   "source": []
  }
 ],
 "metadata": {
  "kernelspec": {
   "display_name": "Python 2",
   "language": "python",
   "name": "python2"
  },
  "language_info": {
   "codemirror_mode": {
    "name": "ipython",
    "version": 2
   },
   "file_extension": ".py",
   "mimetype": "text/x-python",
   "name": "python",
   "nbconvert_exporter": "python",
   "pygments_lexer": "ipython2",
   "version": "2.7.10"
  }
 },
 "nbformat": 4,
 "nbformat_minor": 0
}

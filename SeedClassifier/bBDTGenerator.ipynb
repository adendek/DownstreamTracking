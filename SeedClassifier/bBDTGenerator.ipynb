{
 "cells": [
  {
   "cell_type": "markdown",
   "metadata": {},
   "source": [
    "# Bonsai Boosted Decision Tree generator \n",
    "This script has been created to retrain PatLongLivedTracking's seed classifier.  \n",
    "It also generates the c++ code that can be used within the PatLongLivedTracking class.   \n",
    "\n",
    "The following script contains such steps as: \n",
    "1. Convert training NTuple into pandas DataFrame\n",
    "2. Train the bonsai Boosted Decision Tree \n",
    "    * This script contains only final model training. The entire Machine Learning study contains model selection, tuning hyper-parameters and features engineering can be found [here](https://github.com/adendek/DownstreamTracking)\n",
    "    * The bBDT is based on hep_ml.speedup.LookupClassifier with xgboost as a base classifier\n",
    "3. Generate the tuple classifier (root file)\n",
    "4. Generate C++ code. This code can be deployed into PatLongLivevTracking class.   \n",
    "\n"
   ]
  },
  {
   "cell_type": "code",
   "execution_count": 1,
   "metadata": {
    "collapsed": false
   },
   "outputs": [
    {
     "name": "stdout",
     "output_type": "stream",
     "text": [
      "kernel is alive!\n"
     ]
    }
   ],
   "source": [
    "print (\"kernel is alive!\")"
   ]
  },
  {
   "cell_type": "code",
   "execution_count": 2,
   "metadata": {
    "collapsed": false
   },
   "outputs": [
    {
     "data": {
      "application/javascript": [
       "require(['codemirror/mode/clike/clike'], function(Clike) { console.log('ROOTaaS - C++ CodeMirror module loaded'); });"
      ]
     },
     "metadata": {},
     "output_type": "display_data"
    },
    {
     "data": {
      "application/javascript": [
       "IPython.CodeCell.config_defaults.highlight_modes['magic_text/x-c++src'] = {'reg':[/^%%cpp/]};"
      ]
     },
     "metadata": {},
     "output_type": "display_data"
    },
    {
     "name": "stdout",
     "output_type": "stream",
     "text": [
      "Welcome to ROOTaaS 6.06/02\n"
     ]
    }
   ],
   "source": [
    "import root_numpy\n",
    "import root_pandas\n",
    "import pandas as pd\n",
    "import itertools\n",
    "import numpy\n",
    "import matplotlib.pyplot as plt\n",
    "import ROOT\n",
    "%matplotlib inline\n",
    "\n",
    "#sklearn imports \n",
    "from sklearn.cross_validation import train_test_split\n",
    "from sklearn.metrics import roc_auc_score, accuracy_score\n",
    "from sklearn import cross_validation\n",
    "from sklearn.metrics import roc_curve, auc\n",
    "from sklearn import grid_search\n",
    "\n",
    "import xgboost as xgb\n",
    "\n",
    "from hep_ml.speedup import LookupClassifier"
   ]
  },
  {
   "cell_type": "markdown",
   "metadata": {},
   "source": [
    "## As a very first step I need to convert training data from root NTpule into pandas DataFrame \n",
    "\n",
    "To obtain this goal I will use **root_numpy**, that allows me to convert root NTuple to pandas.Dataframe  \n",
    "At first the training file name have to be defined"
   ]
  },
  {
   "cell_type": "code",
   "execution_count": 3,
   "metadata": {
    "collapsed": true
   },
   "outputs": [],
   "source": [
    "training_file_name = \"datasets/Brunel_BdJPsiKs_MagU_30k.root\""
   ]
  },
  {
   "cell_type": "code",
   "execution_count": 4,
   "metadata": {
    "collapsed": false
   },
   "outputs": [
    {
     "data": {
      "text/html": [
       "<div style=\"max-height:1000px;max-width:1500px;overflow:auto;\">\n",
       "<table border=\"1\" class=\"dataframe\">\n",
       "  <thead>\n",
       "    <tr style=\"text-align: right;\">\n",
       "      <th></th>\n",
       "      <th>seed_chi2PerDoF</th>\n",
       "      <th>seed_p</th>\n",
       "      <th>seed_pt</th>\n",
       "      <th>seed_nLHCbIDs</th>\n",
       "      <th>seed_nbIT</th>\n",
       "      <th>seed_nLayers</th>\n",
       "      <th>seed_x</th>\n",
       "      <th>seed_y</th>\n",
       "      <th>seed_tx</th>\n",
       "      <th>seed_ty</th>\n",
       "    </tr>\n",
       "  </thead>\n",
       "  <tbody>\n",
       "    <tr>\n",
       "      <th>0</th>\n",
       "      <td>1.447929</td>\n",
       "      <td>1849.101146</td>\n",
       "      <td>1083.522737</td>\n",
       "      <td>27</td>\n",
       "      <td>0</td>\n",
       "      <td>12</td>\n",
       "      <td>-1418.736880</td>\n",
       "      <td>-143.095899</td>\n",
       "      <td>-0.722093</td>\n",
       "      <td>-0.038671</td>\n",
       "    </tr>\n",
       "    <tr>\n",
       "      <th>1</th>\n",
       "      <td>0.354945</td>\n",
       "      <td>10085.622823</td>\n",
       "      <td>1345.148537</td>\n",
       "      <td>24</td>\n",
       "      <td>0</td>\n",
       "      <td>12</td>\n",
       "      <td>-393.699553</td>\n",
       "      <td>-284.193871</td>\n",
       "      <td>-0.129122</td>\n",
       "      <td>-0.037920</td>\n",
       "    </tr>\n",
       "    <tr>\n",
       "      <th>2</th>\n",
       "      <td>2.906524</td>\n",
       "      <td>2441.534682</td>\n",
       "      <td>1013.888408</td>\n",
       "      <td>24</td>\n",
       "      <td>0</td>\n",
       "      <td>12</td>\n",
       "      <td>-834.004914</td>\n",
       "      <td>-270.235334</td>\n",
       "      <td>-0.456235</td>\n",
       "      <td>-0.015198</td>\n",
       "    </tr>\n",
       "    <tr>\n",
       "      <th>3</th>\n",
       "      <td>3.234916</td>\n",
       "      <td>2604.073941</td>\n",
       "      <td>904.097232</td>\n",
       "      <td>24</td>\n",
       "      <td>0</td>\n",
       "      <td>12</td>\n",
       "      <td>-475.119652</td>\n",
       "      <td>-230.380918</td>\n",
       "      <td>-0.369728</td>\n",
       "      <td>-0.018967</td>\n",
       "    </tr>\n",
       "    <tr>\n",
       "      <th>4</th>\n",
       "      <td>0.842265</td>\n",
       "      <td>2644.554049</td>\n",
       "      <td>1068.602364</td>\n",
       "      <td>23</td>\n",
       "      <td>0</td>\n",
       "      <td>12</td>\n",
       "      <td>-899.187260</td>\n",
       "      <td>-101.826800</td>\n",
       "      <td>-0.440227</td>\n",
       "      <td>-0.036610</td>\n",
       "    </tr>\n",
       "  </tbody>\n",
       "</table>\n",
       "</div>"
      ],
      "text/plain": [
       "   seed_chi2PerDoF        seed_p      seed_pt  seed_nLHCbIDs  seed_nbIT  \\\n",
       "0         1.447929   1849.101146  1083.522737             27          0   \n",
       "1         0.354945  10085.622823  1345.148537             24          0   \n",
       "2         2.906524   2441.534682  1013.888408             24          0   \n",
       "3         3.234916   2604.073941   904.097232             24          0   \n",
       "4         0.842265   2644.554049  1068.602364             23          0   \n",
       "\n",
       "   seed_nLayers       seed_x      seed_y   seed_tx   seed_ty  \n",
       "0            12 -1418.736880 -143.095899 -0.722093 -0.038671  \n",
       "1            12  -393.699553 -284.193871 -0.129122 -0.037920  \n",
       "2            12  -834.004914 -270.235334 -0.456235 -0.015198  \n",
       "3            12  -475.119652 -230.380918 -0.369728 -0.018967  \n",
       "4            12  -899.187260 -101.826800 -0.440227 -0.036610  "
      ]
     },
     "execution_count": 4,
     "metadata": {},
     "output_type": "execute_result"
    }
   ],
   "source": [
    "root_file = ROOT.TFile(training_file_name)\n",
    "root_file.cd(\"ToolSvc.PatDebugTTTruthTool\")\n",
    "tree = ROOT.gDirectory.Get(\"DownstreamSeedDebugTuple\")\n",
    "data = pd.DataFrame(root_numpy.tree2array(tree))\n",
    "\n",
    "features = data.drop([\"is_true_seed\",\"has_MCParticle\",\n",
    "                      \"is_downstream_reconstructible\",\n",
    "                      \"has_MCParticle_not_electron\",\n",
    "                     \"is_downstream_reconstructible_not_electron\",\n",
    "                     \"seed_mva_value\"] , axis=1).astype(numpy.float64)\n",
    "\n",
    "target = data.is_downstream_reconstructible\n",
    "\n",
    "features.head()"
   ]
  },
  {
   "cell_type": "code",
   "execution_count": 5,
   "metadata": {
    "collapsed": false
   },
   "outputs": [
    {
     "data": {
      "text/html": [
       "<div style=\"max-height:1000px;max-width:1500px;overflow:auto;\">\n",
       "<table border=\"1\" class=\"dataframe\">\n",
       "  <thead>\n",
       "    <tr style=\"text-align: right;\">\n",
       "      <th></th>\n",
       "      <th>seed_chi2PerDoF</th>\n",
       "      <th>seed_p</th>\n",
       "      <th>seed_pt</th>\n",
       "      <th>seed_nLHCbIDs</th>\n",
       "      <th>seed_nbIT</th>\n",
       "      <th>seed_nLayers</th>\n",
       "      <th>seed_x</th>\n",
       "      <th>seed_y</th>\n",
       "      <th>seed_tx</th>\n",
       "      <th>seed_ty</th>\n",
       "    </tr>\n",
       "  </thead>\n",
       "  <tbody>\n",
       "    <tr>\n",
       "      <th>1</th>\n",
       "      <td>0.354945</td>\n",
       "      <td>10085.622823</td>\n",
       "      <td>1345.148537</td>\n",
       "      <td>24</td>\n",
       "      <td>0</td>\n",
       "      <td>12</td>\n",
       "      <td>-393.699553</td>\n",
       "      <td>-284.193871</td>\n",
       "      <td>-0.129122</td>\n",
       "      <td>-0.037920</td>\n",
       "    </tr>\n",
       "    <tr>\n",
       "      <th>9</th>\n",
       "      <td>1.879188</td>\n",
       "      <td>7168.990553</td>\n",
       "      <td>1161.375854</td>\n",
       "      <td>18</td>\n",
       "      <td>0</td>\n",
       "      <td>10</td>\n",
       "      <td>354.869485</td>\n",
       "      <td>-429.609191</td>\n",
       "      <td>0.155524</td>\n",
       "      <td>-0.052568</td>\n",
       "    </tr>\n",
       "    <tr>\n",
       "      <th>10</th>\n",
       "      <td>3.885850</td>\n",
       "      <td>6557.645783</td>\n",
       "      <td>1297.828112</td>\n",
       "      <td>18</td>\n",
       "      <td>0</td>\n",
       "      <td>11</td>\n",
       "      <td>-651.661886</td>\n",
       "      <td>-61.990891</td>\n",
       "      <td>-0.201860</td>\n",
       "      <td>0.004238</td>\n",
       "    </tr>\n",
       "    <tr>\n",
       "      <th>12</th>\n",
       "      <td>2.194147</td>\n",
       "      <td>12490.752519</td>\n",
       "      <td>1658.776470</td>\n",
       "      <td>20</td>\n",
       "      <td>0</td>\n",
       "      <td>11</td>\n",
       "      <td>544.057948</td>\n",
       "      <td>-62.587921</td>\n",
       "      <td>0.133723</td>\n",
       "      <td>-0.008409</td>\n",
       "    </tr>\n",
       "    <tr>\n",
       "      <th>13</th>\n",
       "      <td>1.328705</td>\n",
       "      <td>14385.018759</td>\n",
       "      <td>1315.787289</td>\n",
       "      <td>16</td>\n",
       "      <td>0</td>\n",
       "      <td>9</td>\n",
       "      <td>-290.457946</td>\n",
       "      <td>-89.084344</td>\n",
       "      <td>-0.091253</td>\n",
       "      <td>-0.010492</td>\n",
       "    </tr>\n",
       "  </tbody>\n",
       "</table>\n",
       "</div>"
      ],
      "text/plain": [
       "    seed_chi2PerDoF        seed_p      seed_pt  seed_nLHCbIDs  seed_nbIT  \\\n",
       "1          0.354945  10085.622823  1345.148537             24          0   \n",
       "9          1.879188   7168.990553  1161.375854             18          0   \n",
       "10         3.885850   6557.645783  1297.828112             18          0   \n",
       "12         2.194147  12490.752519  1658.776470             20          0   \n",
       "13         1.328705  14385.018759  1315.787289             16          0   \n",
       "\n",
       "    seed_nLayers      seed_x      seed_y   seed_tx   seed_ty  \n",
       "1             12 -393.699553 -284.193871 -0.129122 -0.037920  \n",
       "9             10  354.869485 -429.609191  0.155524 -0.052568  \n",
       "10            11 -651.661886  -61.990891 -0.201860  0.004238  \n",
       "12            11  544.057948  -62.587921  0.133723 -0.008409  \n",
       "13             9 -290.457946  -89.084344 -0.091253 -0.010492  "
      ]
     },
     "execution_count": 5,
     "metadata": {},
     "output_type": "execute_result"
    }
   ],
   "source": [
    "momentum_grater_5GV = features[features.seed_p>5000]\n",
    "momentum_grater_5GV.head()"
   ]
  },
  {
   "cell_type": "code",
   "execution_count": 6,
   "metadata": {
    "collapsed": true
   },
   "outputs": [],
   "source": [
    "def basic_transforamtion(data):\n",
    "    #abs transformation\n",
    "    out = data\n",
    "    out[\"abs_seed_x\"]=numpy.abs(data['seed_x'])\n",
    "    out[\"abs_seed_y\"]=numpy.abs(data['seed_y'])\n",
    "    out[\"abs_seed_tx\"]=numpy.abs(data['seed_tx'])\n",
    "    out[\"abs_seed_ty\"]=numpy.abs(data['seed_ty'])\n",
    "    out['seed_r'] = numpy.sqrt(numpy.square(data.seed_x) +numpy.square(data.seed_y))    \n",
    "    out['pseudo_rapidity'] = numpy.arctanh(data.seed_pt/data.seed_p)\n",
    "    return out"
   ]
  },
  {
   "cell_type": "code",
   "execution_count": 7,
   "metadata": {
    "collapsed": false
   },
   "outputs": [
    {
     "data": {
      "text/html": [
       "<div style=\"max-height:1000px;max-width:1500px;overflow:auto;\">\n",
       "<table border=\"1\" class=\"dataframe\">\n",
       "  <thead>\n",
       "    <tr style=\"text-align: right;\">\n",
       "      <th></th>\n",
       "      <th>seed_chi2PerDoF</th>\n",
       "      <th>seed_p</th>\n",
       "      <th>seed_pt</th>\n",
       "      <th>seed_nLHCbIDs</th>\n",
       "      <th>seed_nbIT</th>\n",
       "      <th>seed_nLayers</th>\n",
       "      <th>abs_seed_x</th>\n",
       "      <th>abs_seed_y</th>\n",
       "      <th>abs_seed_tx</th>\n",
       "      <th>abs_seed_ty</th>\n",
       "      <th>seed_r</th>\n",
       "      <th>pseudo_rapidity</th>\n",
       "    </tr>\n",
       "  </thead>\n",
       "  <tbody>\n",
       "    <tr>\n",
       "      <th>0</th>\n",
       "      <td>1.447929</td>\n",
       "      <td>1849.101146</td>\n",
       "      <td>1083.522737</td>\n",
       "      <td>27</td>\n",
       "      <td>0</td>\n",
       "      <td>12</td>\n",
       "      <td>1418.736880</td>\n",
       "      <td>143.095899</td>\n",
       "      <td>0.722093</td>\n",
       "      <td>0.038671</td>\n",
       "      <td>1425.935051</td>\n",
       "      <td>0.671511</td>\n",
       "    </tr>\n",
       "    <tr>\n",
       "      <th>1</th>\n",
       "      <td>0.354945</td>\n",
       "      <td>10085.622823</td>\n",
       "      <td>1345.148537</td>\n",
       "      <td>24</td>\n",
       "      <td>0</td>\n",
       "      <td>12</td>\n",
       "      <td>393.699553</td>\n",
       "      <td>284.193871</td>\n",
       "      <td>0.129122</td>\n",
       "      <td>0.037920</td>\n",
       "      <td>485.556891</td>\n",
       "      <td>0.134172</td>\n",
       "    </tr>\n",
       "    <tr>\n",
       "      <th>2</th>\n",
       "      <td>2.906524</td>\n",
       "      <td>2441.534682</td>\n",
       "      <td>1013.888408</td>\n",
       "      <td>24</td>\n",
       "      <td>0</td>\n",
       "      <td>12</td>\n",
       "      <td>834.004914</td>\n",
       "      <td>270.235334</td>\n",
       "      <td>0.456235</td>\n",
       "      <td>0.015198</td>\n",
       "      <td>876.693408</td>\n",
       "      <td>0.441959</td>\n",
       "    </tr>\n",
       "    <tr>\n",
       "      <th>3</th>\n",
       "      <td>3.234916</td>\n",
       "      <td>2604.073941</td>\n",
       "      <td>904.097232</td>\n",
       "      <td>24</td>\n",
       "      <td>0</td>\n",
       "      <td>12</td>\n",
       "      <td>475.119652</td>\n",
       "      <td>230.380918</td>\n",
       "      <td>0.369728</td>\n",
       "      <td>0.018967</td>\n",
       "      <td>528.028457</td>\n",
       "      <td>0.362240</td>\n",
       "    </tr>\n",
       "    <tr>\n",
       "      <th>4</th>\n",
       "      <td>0.842265</td>\n",
       "      <td>2644.554049</td>\n",
       "      <td>1068.602364</td>\n",
       "      <td>23</td>\n",
       "      <td>0</td>\n",
       "      <td>12</td>\n",
       "      <td>899.187260</td>\n",
       "      <td>101.826800</td>\n",
       "      <td>0.440227</td>\n",
       "      <td>0.036610</td>\n",
       "      <td>904.934487</td>\n",
       "      <td>0.428511</td>\n",
       "    </tr>\n",
       "  </tbody>\n",
       "</table>\n",
       "</div>"
      ],
      "text/plain": [
       "   seed_chi2PerDoF        seed_p      seed_pt  seed_nLHCbIDs  seed_nbIT  \\\n",
       "0         1.447929   1849.101146  1083.522737             27          0   \n",
       "1         0.354945  10085.622823  1345.148537             24          0   \n",
       "2         2.906524   2441.534682  1013.888408             24          0   \n",
       "3         3.234916   2604.073941   904.097232             24          0   \n",
       "4         0.842265   2644.554049  1068.602364             23          0   \n",
       "\n",
       "   seed_nLayers   abs_seed_x  abs_seed_y  abs_seed_tx  abs_seed_ty  \\\n",
       "0            12  1418.736880  143.095899     0.722093     0.038671   \n",
       "1            12   393.699553  284.193871     0.129122     0.037920   \n",
       "2            12   834.004914  270.235334     0.456235     0.015198   \n",
       "3            12   475.119652  230.380918     0.369728     0.018967   \n",
       "4            12   899.187260  101.826800     0.440227     0.036610   \n",
       "\n",
       "        seed_r  pseudo_rapidity  \n",
       "0  1425.935051         0.671511  \n",
       "1   485.556891         0.134172  \n",
       "2   876.693408         0.441959  \n",
       "3   528.028457         0.362240  \n",
       "4   904.934487         0.428511  "
      ]
     },
     "execution_count": 7,
     "metadata": {},
     "output_type": "execute_result"
    }
   ],
   "source": [
    "new_data = basic_transforamtion(data)\n",
    "new_features =  new_data.drop([\"is_true_seed\",\"has_MCParticle\",\n",
    "                    \"is_downstream_reconstructible\",\n",
    "                    \"has_MCParticle_not_electron\",\n",
    "                    \"is_downstream_reconstructible_not_electron\",\n",
    "                    \"seed_mva_value\",\n",
    "                    \"seed_x\",\n",
    "                    \"seed_y\",\n",
    "                    \"seed_tx\",\n",
    "                    \"seed_ty\"] , axis=1).astype(numpy.float64)\n",
    "\n",
    "new_features.head()"
   ]
  },
  {
   "cell_type": "markdown",
   "metadata": {},
   "source": [
    "### Balance the training dataset"
   ]
  },
  {
   "cell_type": "code",
   "execution_count": 8,
   "metadata": {
    "collapsed": false
   },
   "outputs": [
    {
     "name": "stdout",
     "output_type": "stream",
     "text": [
      "good tracks 1300187\n",
      "ghost track 1115013\n",
      "ratio ghost to good 0.858000\n"
     ]
    }
   ],
   "source": [
    "good_track_no = counts = new_features[target == 1].count()[0]\n",
    "ghost_track_no = counts = new_features[target == 0].count()[0]\n",
    "print(\"good tracks %d\") % good_track_no\n",
    "print(\"ghost track %d\") % ghost_track_no\n",
    "ratio_ghost_to_good = float(ghost_track_no)/good_track_no\n",
    "ratio_ghost_to_good = numpy.round(ratio_ghost_to_good, 3)\n",
    "print (\"ratio ghost to good %f\") % ratio_ghost_to_good"
   ]
  },
  {
   "cell_type": "code",
   "execution_count": 9,
   "metadata": {
    "collapsed": false
   },
   "outputs": [
    {
     "data": {
      "text/html": [
       "<div style=\"max-height:1000px;max-width:1500px;overflow:auto;\">\n",
       "<table border=\"1\" class=\"dataframe\">\n",
       "  <thead>\n",
       "    <tr style=\"text-align: right;\">\n",
       "      <th></th>\n",
       "      <th>seed_chi2PerDoF</th>\n",
       "      <th>seed_p</th>\n",
       "      <th>seed_pt</th>\n",
       "      <th>seed_nLHCbIDs</th>\n",
       "      <th>abs_seed_x</th>\n",
       "      <th>abs_seed_y</th>\n",
       "      <th>abs_seed_tx</th>\n",
       "      <th>abs_seed_ty</th>\n",
       "      <th>seed_r</th>\n",
       "      <th>pseudo_rapidity</th>\n",
       "    </tr>\n",
       "  </thead>\n",
       "  <tbody>\n",
       "    <tr>\n",
       "      <th>0</th>\n",
       "      <td>1.447929</td>\n",
       "      <td>1849.101146</td>\n",
       "      <td>1083.522737</td>\n",
       "      <td>27</td>\n",
       "      <td>1418.736880</td>\n",
       "      <td>143.095899</td>\n",
       "      <td>0.722093</td>\n",
       "      <td>0.038671</td>\n",
       "      <td>1425.935051</td>\n",
       "      <td>0.671511</td>\n",
       "    </tr>\n",
       "    <tr>\n",
       "      <th>1</th>\n",
       "      <td>0.354945</td>\n",
       "      <td>10085.622823</td>\n",
       "      <td>1345.148537</td>\n",
       "      <td>24</td>\n",
       "      <td>393.699553</td>\n",
       "      <td>284.193871</td>\n",
       "      <td>0.129122</td>\n",
       "      <td>0.037920</td>\n",
       "      <td>485.556891</td>\n",
       "      <td>0.134172</td>\n",
       "    </tr>\n",
       "    <tr>\n",
       "      <th>2</th>\n",
       "      <td>2.906524</td>\n",
       "      <td>2441.534682</td>\n",
       "      <td>1013.888408</td>\n",
       "      <td>24</td>\n",
       "      <td>834.004914</td>\n",
       "      <td>270.235334</td>\n",
       "      <td>0.456235</td>\n",
       "      <td>0.015198</td>\n",
       "      <td>876.693408</td>\n",
       "      <td>0.441959</td>\n",
       "    </tr>\n",
       "    <tr>\n",
       "      <th>3</th>\n",
       "      <td>3.234916</td>\n",
       "      <td>2604.073941</td>\n",
       "      <td>904.097232</td>\n",
       "      <td>24</td>\n",
       "      <td>475.119652</td>\n",
       "      <td>230.380918</td>\n",
       "      <td>0.369728</td>\n",
       "      <td>0.018967</td>\n",
       "      <td>528.028457</td>\n",
       "      <td>0.362240</td>\n",
       "    </tr>\n",
       "    <tr>\n",
       "      <th>4</th>\n",
       "      <td>0.842265</td>\n",
       "      <td>2644.554049</td>\n",
       "      <td>1068.602364</td>\n",
       "      <td>23</td>\n",
       "      <td>899.187260</td>\n",
       "      <td>101.826800</td>\n",
       "      <td>0.440227</td>\n",
       "      <td>0.036610</td>\n",
       "      <td>904.934487</td>\n",
       "      <td>0.428511</td>\n",
       "    </tr>\n",
       "  </tbody>\n",
       "</table>\n",
       "</div>"
      ],
      "text/plain": [
       "   seed_chi2PerDoF        seed_p      seed_pt  seed_nLHCbIDs   abs_seed_x  \\\n",
       "0         1.447929   1849.101146  1083.522737             27  1418.736880   \n",
       "1         0.354945  10085.622823  1345.148537             24   393.699553   \n",
       "2         2.906524   2441.534682  1013.888408             24   834.004914   \n",
       "3         3.234916   2604.073941   904.097232             24   475.119652   \n",
       "4         0.842265   2644.554049  1068.602364             23   899.187260   \n",
       "\n",
       "   abs_seed_y  abs_seed_tx  abs_seed_ty       seed_r  pseudo_rapidity  \n",
       "0  143.095899     0.722093     0.038671  1425.935051         0.671511  \n",
       "1  284.193871     0.129122     0.037920   485.556891         0.134172  \n",
       "2  270.235334     0.456235     0.015198   876.693408         0.441959  \n",
       "3  230.380918     0.369728     0.018967   528.028457         0.362240  \n",
       "4  101.826800     0.440227     0.036610   904.934487         0.428511  "
      ]
     },
     "execution_count": 9,
     "metadata": {},
     "output_type": "execute_result"
    }
   ],
   "source": [
    "new_features = new_features.drop([\"seed_nbIT\",\"seed_nLayers\"], axis=1).astype(numpy.float64)\n",
    "new_features.head()"
   ]
  },
  {
   "cell_type": "markdown",
   "metadata": {},
   "source": [
    "## Train the bonsai Boosted Decision Tree classifier\n",
    "As mentiond before the hyperparameters of the based classifier has beed selected in advance. "
   ]
  },
  {
   "cell_type": "code",
   "execution_count": 10,
   "metadata": {
    "collapsed": false
   },
   "outputs": [
    {
     "data": {
      "text/plain": [
       "LookupClassifier(base_estimator=XGBClassifier(base_score=0.5, colsample_bylevel=1, colsample_bytree=1,\n",
       "       gamma=0, learning_rate=0.1, max_delta_step=0, max_depth=6,\n",
       "       min_child_weight=1, missing=None, n_estimators=600, nthread=10,\n",
       "       objective='binary:logistic', reg_alpha=0, reg_lambda=1,\n",
       "       scale_pos_weight=1, seed=0, silent=True, subsample=0.8),\n",
       "         keep_trained_estimator=False, max_cells=500000000, n_bins=4)"
      ]
     },
     "execution_count": 10,
     "metadata": {},
     "output_type": "execute_result"
    }
   ],
   "source": [
    "train_X, test_X, train_Y, test_Y = train_test_split(new_features, target, random_state=42,train_size=0.8 )              \n",
    "\n",
    "n_bins = 4\n",
    "\n",
    "base_classifier = xgb.XGBClassifier(learning_rate=0.1, n_estimators=600, subsample=0.8, max_depth=6, nthread=10)\n",
    "classifier = LookupClassifier(base_estimator=base_classifier, n_bins=n_bins, \n",
    "                              keep_trained_estimator=False )\n",
    "classifier.fit(train_X, train_Y)"
   ]
  },
  {
   "cell_type": "markdown",
   "metadata": {},
   "source": [
    "### Check the model performance"
   ]
  },
  {
   "cell_type": "code",
   "execution_count": 11,
   "metadata": {
    "collapsed": false
   },
   "outputs": [
    {
     "name": "stdout",
     "output_type": "stream",
     "text": [
      "ROC AUC score of binarized XGBoost with 400 trees and trained using scale positive weight\n"
     ]
    },
    {
     "data": {
      "text/plain": [
       "0.87004952267714653"
      ]
     },
     "execution_count": 11,
     "metadata": {},
     "output_type": "execute_result"
    }
   ],
   "source": [
    "print \"ROC AUC score of binarized XGBoost with 400 trees and trained using scale positive weight\"\n",
    "roc_auc_score(test_Y, classifier.predict_proba(test_X)[:, 1])"
   ]
  },
  {
   "cell_type": "code",
   "execution_count": 12,
   "metadata": {
    "collapsed": false
   },
   "outputs": [
    {
     "data": {
      "image/png": "[encoded data removed]",
      "text/plain": [
       "<matplotlib.figure.Figure at 0x2b82cf018510>"
      ]
     },
     "metadata": {},
     "output_type": "display_data"
    }
   ],
   "source": [
    "plt.figure(figsize=[6, 6])\n",
    "fpr, tpr, thresholds = roc_curve(test_Y, classifier.predict_proba(test_X)[:, 1])\n",
    "roc_auc = auc(fpr, tpr)\n",
    "plt.plot(fpr, tpr, lw=1, label='ROC bBDT (area = %0.2f)'%(roc_auc))\n",
    "plt.plot([0, 1], [0, 1], '--', color=(0.6, 0.6, 0.6), label='no discrimination')\n",
    "plt.xlim([-0.05, 1.05])\n",
    "plt.ylim([-0.05, 1.05])\n",
    "plt.xlabel('False Positive Rate')\n",
    "plt.ylabel('True Positive Rate')\n",
    "plt.title('Receiver operating characteristic')\n",
    "plt.legend(loc=\"lower right\")\n",
    "plt.grid()\n",
    "plt.show()"
   ]
  },
  {
   "cell_type": "code",
   "execution_count": 13,
   "metadata": {
    "collapsed": false,
    "scrolled": true
   },
   "outputs": [
    {
     "data": {
      "image/png": "[encoded data removed]",
      "text/plain": [
       "<matplotlib.figure.Figure at 0x2b82cc4f4410>"
      ]
     },
     "metadata": {},
     "output_type": "display_data"
    }
   ],
   "source": [
    "plt.figure(figsize=[6, 6])\n",
    "fpr, tpr, thresholds = roc_curve(test_Y, classifier.predict_proba(test_X)[:, 1])\n",
    "roc_auc = auc(fpr, tpr)\n",
    "plt.plot(fpr, tpr, lw=1, label='ROC bBDT (area = %0.2f)'%(roc_auc))\n",
    "plt.plot([0, 1], [0, 1], '--', color=(0.6, 0.6, 0.6), label='no discrimination')\n",
    "plt.xlim([0.4, 1])\n",
    "plt.ylim([0.95, 1])\n",
    "plt.xlabel('False Positive Rate')\n",
    "plt.ylabel('True Positive Rate')\n",
    "plt.title('Zoomed receiver operating characteristic')\n",
    "plt.legend(loc=\"lower right\")\n",
    "plt.grid()\n",
    "plt.show()"
   ]
  },
  {
   "cell_type": "code",
   "execution_count": 14,
   "metadata": {
    "collapsed": false
   },
   "outputs": [
    {
     "name": "stdout",
     "output_type": "stream",
     "text": [
      "classification raport test\n",
      "             precision    recall  f1-score   support\n",
      "\n",
      " background       0.80      0.74      0.77    223514\n",
      "     signal       0.79      0.84      0.81    259526\n",
      "\n",
      "avg / total       0.79      0.79      0.79    483040\n",
      "\n"
     ]
    }
   ],
   "source": [
    "from sklearn.metrics import classification_report\n",
    "target_names = ['background', \"signal\"]\n",
    "print(\"classification raport test\")\n",
    "print(classification_report(test_Y, classifier.predict(test_X), target_names=target_names))\n"
   ]
  },
  {
   "cell_type": "code",
   "execution_count": 15,
   "metadata": {
    "collapsed": true
   },
   "outputs": [],
   "source": [
    "def plot_confusion_matrix(cm, classes,\n",
    "                          normalize=False,\n",
    "                          title='Confusion matrix',\n",
    "                          cmap=plt.cm.Blues):\n",
    "    if normalize:\n",
    "        cm = cm.astype('float') / cm.sum(axis=1)[:, np.newaxis]    \n",
    "    plt.imshow(cm, interpolation='nearest', cmap=cmap)\n",
    "    plt.title(title)\n",
    "    plt.colorbar()\n",
    "    tick_marks = np.arange(len(classes))\n",
    "    plt.xticks(tick_marks, classes, rotation=45)\n",
    "    plt.yticks(tick_marks, classes)\n",
    "\n",
    "    thresh = cm.max() / 2.\n",
    "    for i, j in itertools.product(range(cm.shape[0]), range(cm.shape[1])):\n",
    "        plt.text(j, i, cm[i, j],\n",
    "                 horizontalalignment=\"center\",\n",
    "                 color=\"white\" if cm[i, j] > thresh else \"black\")\n",
    "\n",
    "    plt.tight_layout()\n",
    "    plt.ylabel('True label')\n",
    "    plt.xlabel('Predicted label')"
   ]
  },
  {
   "cell_type": "code",
   "execution_count": 16,
   "metadata": {
    "collapsed": false
   },
   "outputs": [],
   "source": [
    "import numpy as np\n",
    "def predict_vs_threshold(probas,threshold):\n",
    "    probas_df = pd.DataFrame(probas[:, 1])\n",
    "    predicted = np.where(probas_df>threshold,1,0)\n",
    "    return predicted"
   ]
  },
  {
   "cell_type": "code",
   "execution_count": 25,
   "metadata": {
    "collapsed": false
   },
   "outputs": [
    {
     "data": {
      "image/png": "[encoded data removed]",
      "text/plain": [
       "<matplotlib.figure.Figure at 0x2b83799516d0>"
      ]
     },
     "metadata": {},
     "output_type": "display_data"
    }
   ],
   "source": [
    "from sklearn.metrics import confusion_matrix\n",
    "import itertools\n",
    "\n",
    "   \n",
    "threshold = 0.07\n",
    "\n",
    "cnf_matrix = confusion_matrix(test_Y ,predict_vs_threshold(classifier.predict_proba(test_X),threshold));\n",
    "target_names = [\"ghost\",\"true\"]\n",
    "plot_confusion_matrix(cnf_matrix, classes=target_names,\n",
    "                      title='Normalized confusion matrix')\n"
   ]
  },
  {
   "cell_type": "code",
   "execution_count": 26,
   "metadata": {
    "collapsed": false
   },
   "outputs": [
    {
     "data": {
      "image/png": "[encoded data removed]",
      "text/plain": [
       "<matplotlib.figure.Figure at 0x2b8379921050>"
      ]
     },
     "metadata": {},
     "output_type": "display_data"
    }
   ],
   "source": [
    "threshold = 0.07\n",
    "\n",
    "cnf_matrix = confusion_matrix(test_Y ,predict_vs_threshold(classifier.predict_proba(test_X),threshold));\n",
    "target_names = [\"ghost\",\"true\"]\n",
    "plot_confusion_matrix(cnf_matrix, classes=target_names,normalize=True,\n",
    "                      title='Normalized confusion matrix')\n"
   ]
  },
  {
   "cell_type": "code",
   "execution_count": 19,
   "metadata": {
    "collapsed": false
   },
   "outputs": [
    {
     "name": "stdout",
     "output_type": "stream",
     "text": [
      "Accurency\n"
     ]
    },
    {
     "data": {
      "text/plain": [
       "0.72071050016561777"
      ]
     },
     "execution_count": 19,
     "metadata": {},
     "output_type": "execute_result"
    }
   ],
   "source": [
    "print \"Accurency\"\n",
    "accuracy_score(test_Y, predict_vs_threshold(classifier.predict_proba(test_X),threshold))"
   ]
  },
  {
   "cell_type": "code",
   "execution_count": 20,
   "metadata": {
    "collapsed": false
   },
   "outputs": [
    {
     "data": {
      "text/html": [
       "<div style=\"max-height:1000px;max-width:1500px;overflow:auto;\">\n",
       "<table border=\"1\" class=\"dataframe\">\n",
       "  <thead>\n",
       "    <tr style=\"text-align: right;\">\n",
       "      <th></th>\n",
       "      <th>seed_chi2PerDoF</th>\n",
       "      <th>seed_p</th>\n",
       "      <th>seed_pt</th>\n",
       "      <th>seed_nLHCbIDs</th>\n",
       "      <th>abs_seed_x</th>\n",
       "      <th>abs_seed_y</th>\n",
       "      <th>abs_seed_tx</th>\n",
       "      <th>abs_seed_ty</th>\n",
       "      <th>seed_r</th>\n",
       "      <th>pseudo_rapidity</th>\n",
       "    </tr>\n",
       "  </thead>\n",
       "  <tbody>\n",
       "    <tr>\n",
       "      <th>2415185</th>\n",
       "      <td>1.574499</td>\n",
       "      <td>20320.608636</td>\n",
       "      <td>1571.315993</td>\n",
       "      <td>11</td>\n",
       "      <td>295.112276</td>\n",
       "      <td>68.782947</td>\n",
       "      <td>0.076946</td>\n",
       "      <td>0.009731</td>\n",
       "      <td>303.022028</td>\n",
       "      <td>0.077481</td>\n",
       "    </tr>\n",
       "    <tr>\n",
       "      <th>2415188</th>\n",
       "      <td>0.313083</td>\n",
       "      <td>28408.309891</td>\n",
       "      <td>1036.405936</td>\n",
       "      <td>12</td>\n",
       "      <td>40.336688</td>\n",
       "      <td>122.374996</td>\n",
       "      <td>0.032274</td>\n",
       "      <td>0.017063</td>\n",
       "      <td>128.851418</td>\n",
       "      <td>0.036499</td>\n",
       "    </tr>\n",
       "    <tr>\n",
       "      <th>2415189</th>\n",
       "      <td>0.951805</td>\n",
       "      <td>11858.867035</td>\n",
       "      <td>745.567330</td>\n",
       "      <td>12</td>\n",
       "      <td>29.083144</td>\n",
       "      <td>140.841257</td>\n",
       "      <td>0.060298</td>\n",
       "      <td>0.018233</td>\n",
       "      <td>143.812687</td>\n",
       "      <td>0.062953</td>\n",
       "    </tr>\n",
       "    <tr>\n",
       "      <th>2415192</th>\n",
       "      <td>2.301764</td>\n",
       "      <td>14785.201071</td>\n",
       "      <td>1569.749331</td>\n",
       "      <td>14</td>\n",
       "      <td>420.627710</td>\n",
       "      <td>97.083958</td>\n",
       "      <td>0.106640</td>\n",
       "      <td>0.005349</td>\n",
       "      <td>431.686189</td>\n",
       "      <td>0.106572</td>\n",
       "    </tr>\n",
       "    <tr>\n",
       "      <th>2415197</th>\n",
       "      <td>5.493763</td>\n",
       "      <td>1218.449560</td>\n",
       "      <td>927.026952</td>\n",
       "      <td>15</td>\n",
       "      <td>430.681559</td>\n",
       "      <td>318.414374</td>\n",
       "      <td>1.171714</td>\n",
       "      <td>0.039562</td>\n",
       "      <td>535.606497</td>\n",
       "      <td>0.998171</td>\n",
       "    </tr>\n",
       "  </tbody>\n",
       "</table>\n",
       "</div>"
      ],
      "text/plain": [
       "         seed_chi2PerDoF        seed_p      seed_pt  seed_nLHCbIDs  \\\n",
       "2415185         1.574499  20320.608636  1571.315993             11   \n",
       "2415188         0.313083  28408.309891  1036.405936             12   \n",
       "2415189         0.951805  11858.867035   745.567330             12   \n",
       "2415192         2.301764  14785.201071  1569.749331             14   \n",
       "2415197         5.493763   1218.449560   927.026952             15   \n",
       "\n",
       "         abs_seed_x  abs_seed_y  abs_seed_tx  abs_seed_ty      seed_r  \\\n",
       "2415185  295.112276   68.782947     0.076946     0.009731  303.022028   \n",
       "2415188   40.336688  122.374996     0.032274     0.017063  128.851418   \n",
       "2415189   29.083144  140.841257     0.060298     0.018233  143.812687   \n",
       "2415192  420.627710   97.083958     0.106640     0.005349  431.686189   \n",
       "2415197  430.681559  318.414374     1.171714     0.039562  535.606497   \n",
       "\n",
       "         pseudo_rapidity  \n",
       "2415185         0.077481  \n",
       "2415188         0.036499  \n",
       "2415189         0.062953  \n",
       "2415192         0.106572  \n",
       "2415197         0.998171  "
      ]
     },
     "execution_count": 20,
     "metadata": {},
     "output_type": "execute_result"
    }
   ],
   "source": [
    "true_data = new_features[target==True]\n",
    "true_data.tail()"
   ]
  },
  {
   "cell_type": "code",
   "execution_count": 21,
   "metadata": {
    "collapsed": false
   },
   "outputs": [
    {
     "data": {
      "text/html": [
       "<div style=\"max-height:1000px;max-width:1500px;overflow:auto;\">\n",
       "<table border=\"1\" class=\"dataframe\">\n",
       "  <thead>\n",
       "    <tr style=\"text-align: right;\">\n",
       "      <th></th>\n",
       "      <th>seed_chi2PerDoF</th>\n",
       "      <th>seed_p</th>\n",
       "      <th>seed_pt</th>\n",
       "      <th>seed_nLHCbIDs</th>\n",
       "      <th>abs_seed_x</th>\n",
       "      <th>abs_seed_y</th>\n",
       "      <th>abs_seed_tx</th>\n",
       "      <th>abs_seed_ty</th>\n",
       "      <th>seed_r</th>\n",
       "      <th>pseudo_rapidity</th>\n",
       "    </tr>\n",
       "  </thead>\n",
       "  <tbody>\n",
       "    <tr>\n",
       "      <th>2415194</th>\n",
       "      <td>5.365714</td>\n",
       "      <td>1753.934213</td>\n",
       "      <td>600.593480</td>\n",
       "      <td>9</td>\n",
       "      <td>590.014028</td>\n",
       "      <td>192.425611</td>\n",
       "      <td>0.364410</td>\n",
       "      <td>0.006040</td>\n",
       "      <td>620.599846</td>\n",
       "      <td>0.356839</td>\n",
       "    </tr>\n",
       "    <tr>\n",
       "      <th>2415195</th>\n",
       "      <td>3.882290</td>\n",
       "      <td>15398.646030</td>\n",
       "      <td>1095.358650</td>\n",
       "      <td>15</td>\n",
       "      <td>36.277684</td>\n",
       "      <td>151.936796</td>\n",
       "      <td>0.020292</td>\n",
       "      <td>0.068366</td>\n",
       "      <td>156.207747</td>\n",
       "      <td>0.071254</td>\n",
       "    </tr>\n",
       "    <tr>\n",
       "      <th>2415196</th>\n",
       "      <td>0.517674</td>\n",
       "      <td>10882.713942</td>\n",
       "      <td>987.509216</td>\n",
       "      <td>14</td>\n",
       "      <td>157.202010</td>\n",
       "      <td>110.555525</td>\n",
       "      <td>0.089963</td>\n",
       "      <td>0.014454</td>\n",
       "      <td>192.184797</td>\n",
       "      <td>0.090991</td>\n",
       "    </tr>\n",
       "    <tr>\n",
       "      <th>2415198</th>\n",
       "      <td>6.951783</td>\n",
       "      <td>1321.739587</td>\n",
       "      <td>963.163094</td>\n",
       "      <td>14</td>\n",
       "      <td>741.718881</td>\n",
       "      <td>212.572602</td>\n",
       "      <td>1.064052</td>\n",
       "      <td>0.007970</td>\n",
       "      <td>771.578907</td>\n",
       "      <td>0.925968</td>\n",
       "    </tr>\n",
       "    <tr>\n",
       "      <th>2415199</th>\n",
       "      <td>3.939336</td>\n",
       "      <td>2541.411873</td>\n",
       "      <td>1144.469858</td>\n",
       "      <td>18</td>\n",
       "      <td>515.129341</td>\n",
       "      <td>1156.432056</td>\n",
       "      <td>0.469775</td>\n",
       "      <td>0.183561</td>\n",
       "      <td>1265.975251</td>\n",
       "      <td>0.485112</td>\n",
       "    </tr>\n",
       "  </tbody>\n",
       "</table>\n",
       "</div>"
      ],
      "text/plain": [
       "         seed_chi2PerDoF        seed_p      seed_pt  seed_nLHCbIDs  \\\n",
       "2415194         5.365714   1753.934213   600.593480              9   \n",
       "2415195         3.882290  15398.646030  1095.358650             15   \n",
       "2415196         0.517674  10882.713942   987.509216             14   \n",
       "2415198         6.951783   1321.739587   963.163094             14   \n",
       "2415199         3.939336   2541.411873  1144.469858             18   \n",
       "\n",
       "         abs_seed_x   abs_seed_y  abs_seed_tx  abs_seed_ty       seed_r  \\\n",
       "2415194  590.014028   192.425611     0.364410     0.006040   620.599846   \n",
       "2415195   36.277684   151.936796     0.020292     0.068366   156.207747   \n",
       "2415196  157.202010   110.555525     0.089963     0.014454   192.184797   \n",
       "2415198  741.718881   212.572602     1.064052     0.007970   771.578907   \n",
       "2415199  515.129341  1156.432056     0.469775     0.183561  1265.975251   \n",
       "\n",
       "         pseudo_rapidity  \n",
       "2415194         0.356839  \n",
       "2415195         0.071254  \n",
       "2415196         0.090991  \n",
       "2415198         0.925968  \n",
       "2415199         0.485112  "
      ]
     },
     "execution_count": 21,
     "metadata": {},
     "output_type": "execute_result"
    }
   ],
   "source": [
    "false_data =  new_features[target==False]\n",
    "false_data.tail()"
   ]
  },
  {
   "cell_type": "code",
   "execution_count": 22,
   "metadata": {
    "collapsed": false
   },
   "outputs": [
    {
     "data": {
      "image/png": "[encoded data removed]",
      "text/plain": [
       "<matplotlib.figure.Figure at 0x2b836dfdecd0>"
      ]
     },
     "metadata": {},
     "output_type": "display_data"
    }
   ],
   "source": [
    "true_probas =  classifier.predict_proba(true_data)[:, 1]\n",
    "false_probsa = classifier.predict_proba(false_data)[:, 1]\n",
    "plt.hist(false_probsa, normed=1, label='false probas');\n",
    "plt.hist(true_probas, normed=1, label='true probas');\n",
    "plt.legend(loc=\"best\");\n"
   ]
  },
  {
   "cell_type": "markdown",
   "metadata": {},
   "source": [
    "Print the lookup table.\n",
    "-------------\n",
    "I want to see the structure of this array. \n",
    "I hope to find some structure. "
   ]
  },
  {
   "cell_type": "code",
   "execution_count": 23,
   "metadata": {
    "collapsed": true
   },
   "outputs": [],
   "source": [
    "lookup_table = list(classifier._lookup_table[:,0])"
   ]
  },
  {
   "cell_type": "code",
   "execution_count": 24,
   "metadata": {
    "collapsed": false
   },
   "outputs": [
    {
     "data": {
      "image/png": "[encoded data removed]",
      "text/plain": [
       "<matplotlib.figure.Figure at 0x2b82ceff0dd0>"
      ]
     },
     "metadata": {},
     "output_type": "display_data"
    }
   ],
   "source": [
    "f, ax =  plt.subplots(4)\n",
    "f.set_size_inches(18.5, 12.5)\n",
    "ranges = [100,1000,10000,400000]\n",
    "plot_it = 0\n",
    "for plot_range in ranges:\n",
    "    x = numpy.arange(0, plot_range)\n",
    "    ax[plot_it].plot(x,lookup_table[:plot_range])\n",
    "    ax[plot_it].set_title('\\n lookup table in range %d'%plot_range)\n",
    "    ax[plot_it].set_xlabel(\"lookup index\")\n",
    "    ax[plot_it].set_ylabel(\"classifier response\")\n",
    "\n",
    "    plot_it+=1\n",
    "f.tight_layout() \n"
   ]
  },
  {
   "cell_type": "markdown",
   "metadata": {},
   "source": [
    "## The generation of the T-Seed classifier starts here\n",
    "\n",
    "### Create the tuple classifier. \n"
   ]
  },
  {
   "cell_type": "code",
   "execution_count": 64,
   "metadata": {
    "collapsed": false
   },
   "outputs": [
    {
     "data": {
      "text/html": [
       "<div style=\"max-height:1000px;max-width:1500px;overflow:auto;\">\n",
       "<table border=\"1\" class=\"dataframe\">\n",
       "  <thead>\n",
       "    <tr style=\"text-align: right;\">\n",
       "      <th></th>\n",
       "      <th>seed_chi2PerDoF</th>\n",
       "      <th>seed_p</th>\n",
       "      <th>seed_pt</th>\n",
       "      <th>seed_nLHCbIDs</th>\n",
       "      <th>abs_seed_x</th>\n",
       "      <th>abs_seed_y</th>\n",
       "      <th>abs_seed_tx</th>\n",
       "      <th>abs_seed_ty</th>\n",
       "      <th>seed_r</th>\n",
       "      <th>pseudo_rapidity</th>\n",
       "    </tr>\n",
       "  </thead>\n",
       "  <tbody>\n",
       "    <tr>\n",
       "      <th>0</th>\n",
       "      <td>0</td>\n",
       "      <td>0</td>\n",
       "      <td>0</td>\n",
       "      <td>0</td>\n",
       "      <td>0</td>\n",
       "      <td>0</td>\n",
       "      <td>0</td>\n",
       "      <td>0</td>\n",
       "      <td>0</td>\n",
       "      <td>0</td>\n",
       "    </tr>\n",
       "    <tr>\n",
       "      <th>1</th>\n",
       "      <td>0</td>\n",
       "      <td>0</td>\n",
       "      <td>0</td>\n",
       "      <td>0</td>\n",
       "      <td>0</td>\n",
       "      <td>0</td>\n",
       "      <td>0</td>\n",
       "      <td>0</td>\n",
       "      <td>0</td>\n",
       "      <td>1</td>\n",
       "    </tr>\n",
       "    <tr>\n",
       "      <th>2</th>\n",
       "      <td>0</td>\n",
       "      <td>0</td>\n",
       "      <td>0</td>\n",
       "      <td>0</td>\n",
       "      <td>0</td>\n",
       "      <td>0</td>\n",
       "      <td>0</td>\n",
       "      <td>0</td>\n",
       "      <td>0</td>\n",
       "      <td>2</td>\n",
       "    </tr>\n",
       "    <tr>\n",
       "      <th>3</th>\n",
       "      <td>0</td>\n",
       "      <td>0</td>\n",
       "      <td>0</td>\n",
       "      <td>0</td>\n",
       "      <td>0</td>\n",
       "      <td>0</td>\n",
       "      <td>0</td>\n",
       "      <td>0</td>\n",
       "      <td>0</td>\n",
       "      <td>3</td>\n",
       "    </tr>\n",
       "    <tr>\n",
       "      <th>4</th>\n",
       "      <td>0</td>\n",
       "      <td>0</td>\n",
       "      <td>0</td>\n",
       "      <td>0</td>\n",
       "      <td>0</td>\n",
       "      <td>0</td>\n",
       "      <td>0</td>\n",
       "      <td>0</td>\n",
       "      <td>1</td>\n",
       "      <td>0</td>\n",
       "    </tr>\n",
       "  </tbody>\n",
       "</table>\n",
       "</div>"
      ],
      "text/plain": [
       "   seed_chi2PerDoF  seed_p  seed_pt  seed_nLHCbIDs  abs_seed_x  abs_seed_y  \\\n",
       "0                0       0        0              0           0           0   \n",
       "1                0       0        0              0           0           0   \n",
       "2                0       0        0              0           0           0   \n",
       "3                0       0        0              0           0           0   \n",
       "4                0       0        0              0           0           0   \n",
       "\n",
       "   abs_seed_tx  abs_seed_ty  seed_r  pseudo_rapidity  \n",
       "0            0            0       0                0  \n",
       "1            0            0       0                1  \n",
       "2            0            0       0                2  \n",
       "3            0            0       0                3  \n",
       "4            0            0       1                0  "
      ]
     },
     "execution_count": 64,
     "metadata": {},
     "output_type": "execute_result"
    }
   ],
   "source": [
    "n_features = new_features.shape[1]\n",
    "all_bins_indices = list(itertools.product(range(n_bins), repeat=n_features)) \n",
    "all_bins_indices_df = pd.DataFrame(all_bins_indices,columns=new_features.columns.values )\n",
    "all_bins_indices_df.head()"
   ]
  },
  {
   "cell_type": "code",
   "execution_count": 65,
   "metadata": {
    "collapsed": false
   },
   "outputs": [
    {
     "data": {
      "text/html": [
       "<div style=\"max-height:1000px;max-width:1500px;overflow:auto;\">\n",
       "<table border=\"1\" class=\"dataframe\">\n",
       "  <thead>\n",
       "    <tr style=\"text-align: right;\">\n",
       "      <th></th>\n",
       "      <th>seed_chi2PerDoF</th>\n",
       "      <th>seed_p</th>\n",
       "      <th>seed_pt</th>\n",
       "      <th>seed_nLHCbIDs</th>\n",
       "      <th>abs_seed_x</th>\n",
       "      <th>abs_seed_y</th>\n",
       "      <th>abs_seed_tx</th>\n",
       "      <th>abs_seed_ty</th>\n",
       "      <th>seed_r</th>\n",
       "      <th>pseudo_rapidity</th>\n",
       "      <th>pred</th>\n",
       "    </tr>\n",
       "  </thead>\n",
       "  <tbody>\n",
       "    <tr>\n",
       "      <th>0</th>\n",
       "      <td>0</td>\n",
       "      <td>0</td>\n",
       "      <td>0</td>\n",
       "      <td>0</td>\n",
       "      <td>0</td>\n",
       "      <td>0</td>\n",
       "      <td>0</td>\n",
       "      <td>0</td>\n",
       "      <td>0</td>\n",
       "      <td>0</td>\n",
       "      <td>0.000151</td>\n",
       "    </tr>\n",
       "    <tr>\n",
       "      <th>1</th>\n",
       "      <td>0</td>\n",
       "      <td>0</td>\n",
       "      <td>0</td>\n",
       "      <td>0</td>\n",
       "      <td>0</td>\n",
       "      <td>0</td>\n",
       "      <td>0</td>\n",
       "      <td>0</td>\n",
       "      <td>0</td>\n",
       "      <td>1</td>\n",
       "      <td>0.001695</td>\n",
       "    </tr>\n",
       "    <tr>\n",
       "      <th>2</th>\n",
       "      <td>0</td>\n",
       "      <td>0</td>\n",
       "      <td>0</td>\n",
       "      <td>0</td>\n",
       "      <td>0</td>\n",
       "      <td>0</td>\n",
       "      <td>0</td>\n",
       "      <td>0</td>\n",
       "      <td>0</td>\n",
       "      <td>2</td>\n",
       "      <td>0.002032</td>\n",
       "    </tr>\n",
       "    <tr>\n",
       "      <th>3</th>\n",
       "      <td>0</td>\n",
       "      <td>0</td>\n",
       "      <td>0</td>\n",
       "      <td>0</td>\n",
       "      <td>0</td>\n",
       "      <td>0</td>\n",
       "      <td>0</td>\n",
       "      <td>0</td>\n",
       "      <td>0</td>\n",
       "      <td>3</td>\n",
       "      <td>0.000755</td>\n",
       "    </tr>\n",
       "    <tr>\n",
       "      <th>4</th>\n",
       "      <td>0</td>\n",
       "      <td>0</td>\n",
       "      <td>0</td>\n",
       "      <td>0</td>\n",
       "      <td>0</td>\n",
       "      <td>0</td>\n",
       "      <td>0</td>\n",
       "      <td>0</td>\n",
       "      <td>1</td>\n",
       "      <td>0</td>\n",
       "      <td>0.000970</td>\n",
       "    </tr>\n",
       "  </tbody>\n",
       "</table>\n",
       "</div>"
      ],
      "text/plain": [
       "   seed_chi2PerDoF  seed_p  seed_pt  seed_nLHCbIDs  abs_seed_x  abs_seed_y  \\\n",
       "0                0       0        0              0           0           0   \n",
       "1                0       0        0              0           0           0   \n",
       "2                0       0        0              0           0           0   \n",
       "3                0       0        0              0           0           0   \n",
       "4                0       0        0              0           0           0   \n",
       "\n",
       "   abs_seed_tx  abs_seed_ty  seed_r  pseudo_rapidity      pred  \n",
       "0            0            0       0                0  0.000151  \n",
       "1            0            0       0                1  0.001695  \n",
       "2            0            0       0                2  0.002032  \n",
       "3            0            0       0                3  0.000755  \n",
       "4            0            0       1                0  0.000970  "
      ]
     },
     "execution_count": 65,
     "metadata": {},
     "output_type": "execute_result"
    }
   ],
   "source": [
    "lookup_indices = classifier.convert_bins_to_lookup_index(all_bins_indices_df)\n",
    "predictions = numpy.array(classifier._lookup_table[lookup_indices] [:,1])\n",
    "\n",
    "all_bins_indices_df['pred'] = predictions\n",
    "all_bins_indices_df.head()"
   ]
  },
  {
   "cell_type": "markdown",
   "metadata": {},
   "source": [
    "### Save the tuple classifier as a root tree into file. "
   ]
  },
  {
   "cell_type": "code",
   "execution_count": 63,
   "metadata": {
    "collapsed": false
   },
   "outputs": [],
   "source": [
    "!mkdir -p  models/cpp/\n",
    "all_bins_indices_df.to_csv('models/cpp/BBDT_tuple_DR.csv', index=False)"
   ]
  },
  {
   "cell_type": "markdown",
   "metadata": {},
   "source": [
    "## Generate classifer's c++ code\n",
    "\n",
    "The next step is to generate source code of the class responsible for evaluation of the bBDT classifier.  \n",
    "The template has been written manualy using CLion IDE.  \n",
    "\n",
    "There will be 2 python function:\n",
    "1. Generate header file (PatBBDTSeedClassifier.h)  \n",
    "2. Generate cpp source  file (PatBBDTSeedClassifier.cpp)"
   ]
  },
  {
   "cell_type": "code",
   "execution_count": 59,
   "metadata": {
    "collapsed": true
   },
   "outputs": [],
   "source": [
    "def generate_header():\n",
    "    return \"\"\"\n",
    "/** This file was generated automaticly by python script \n",
    "https://github.com/adendek/DownstreamTracking/blob/master/SeedClasifier/BDT-XGBoost.ipynb\n",
    "DO NOT MODIFY IT MANUALLY!!!!!!\n",
    "*/\n",
    "    \n",
    "#pragma once\n",
    "\n",
    "#include \"PatKernel/IPatMvaClassifier.h\"\n",
    "#include \"PatKernel/IPatMvaClassifier.h\"\n",
    "#include \"GaudiAlg/GaudiTool.h\"\n",
    "\n",
    "#include <vector>\n",
    "#include <map>\n",
    "#include <string>\n",
    "#include <iostream>\n",
    "#include <fstream>\n",
    "\n",
    "\n",
    "class PatBBDTSeedClassifier : public GaudiTool, virtual public IPatMvaClassifier\n",
    "{\n",
    "public:\n",
    "    PatBBDTSeedClassifier( const std::string& type,\n",
    "                           const std::string& name,\n",
    "                           const IInterface* parent);\n",
    "\n",
    "    double getMvaValue(const std::vector<double>& parametersVector );\n",
    "\n",
    "    virtual StatusCode initialize();\n",
    "\n",
    "private:\n",
    "//initialization phase\n",
    "    void initBinEdgeMaps();\n",
    "    void initTupleClassifier();\n",
    "    \n",
    "    int getIndex(const std::vector<double>& bins, double value);\n",
    "\n",
    "    \n",
    "    std::vector<int> getBinIndices(const std::vector<double>& parametersVector);\n",
    "    std::vector<std::string> splitString(const std::string& toSplit, char token );\n",
    "    void convertStringArrayToTuple(std::vector<std::string>& substrings, \n",
    "                                   std::vector<int>& indicesVector, double& prediction);\n",
    "\n",
    "    // model prediction phase\n",
    "    double getBBDTPrediction(const std::vector<int>& binIndices);\n",
    "\n",
    "\n",
    "    std::vector <std::pair<std::string, std::vector<double>>> m_binsEdgeMap;\n",
    "    std::map <std::vector<int>, double > m_tupleClassifier;\n",
    "    std::ofstream debugFile;\n",
    "};\n",
    "\"\"\""
   ]
  },
  {
   "cell_type": "code",
   "execution_count": 60,
   "metadata": {
    "collapsed": true
   },
   "outputs": [],
   "source": [
    "def generate_source_file():\n",
    "    return \"\"\"\n",
    "\n",
    "#include \"PatBBDTSeedClassifier.h\"\n",
    "#include <iostream>\n",
    "#include <sstream>\n",
    "#include <fstream>\n",
    "\n",
    "DECLARE_TOOL_FACTORY( PatBBDTSeedClassifier )\n",
    "\n",
    "using namespace std;\n",
    "\n",
    "\n",
    "double PatBBDTSeedClassifier::getMvaValue(const std::vector<double>& parametersVector )\n",
    "{\n",
    "    auto binIndices = getBinIndices(parametersVector);\n",
    "    double prediction = getBBDTPrediction(binIndices);\n",
    "    for(const auto& bin: binIndices) debugFile<<bin<<\" \";\n",
    "    debugFile<<prediction<<endl;\n",
    "    return prediction; \n",
    "}\n",
    "\n",
    "\n",
    "PatBBDTSeedClassifier::PatBBDTSeedClassifier( const std::string& type,\n",
    "                                                const std::string& name,\n",
    "                                                const IInterface* parent )\n",
    "        : GaudiTool ( type, name , parent )\n",
    "{\n",
    "    declareInterface<IPatMvaClassifier>(this);\n",
    "}\n",
    "\n",
    "\n",
    "StatusCode PatBBDTSeedClassifier::initialize()\n",
    "{\n",
    "    StatusCode sc =  GaudiTool::initialize();\n",
    "    if(sc.isFailure()) return Error(\"Failed to initialize\", sc);\n",
    "\n",
    "    initBinEdgeMaps();\n",
    "    initTupleClassifier();\n",
    "    debugFile.open(\"Brunel_indices_debug.txt\");\n",
    "    return StatusCode::SUCCESS;\n",
    "    \n",
    "}\n",
    "\n",
    "std::vector<int> PatBBDTSeedClassifier::getBinIndices(const std::vector<double>& parametersVector)\n",
    "{\n",
    "    std::vector<int> binIndices;\n",
    "    int featureIt = 0;\n",
    "    for (const auto& featurePair: m_binsEdgeMap){\n",
    "      binIndices.push_back(getIndex(featurePair.second,parametersVector[featureIt]));\n",
    "      featureIt++;\n",
    "    }\n",
    "    return binIndices;\n",
    "}\n",
    "\n",
    "\n",
    "int PatBBDTSeedClassifier::getIndex(const vector<double>& bins, double value)\n",
    "{\n",
    "  auto lower_bound = std::lower_bound(bins.begin(), bins.end(), value);\n",
    "  return std::distance(bins.begin(),lower_bound);   \n",
    "}\n",
    "\n",
    "\n",
    "double PatBBDTSeedClassifier::getBBDTPrediction(const std::vector<int>& binIndices)\n",
    "{\n",
    "    return m_tupleClassifier[binIndices];\n",
    "}\n",
    "\n",
    "void PatBBDTSeedClassifier::initTupleClassifier() {\n",
    "    \n",
    "    ifstream file(\"/afs/cern.ch/user/a/adendek/lb_devs/BrunelDev_v52r0/Tf/PatAlgorithms/src/BBDT_tuple_DR_notel.csv\", std::ifstream::in);\n",
    "    // dodac sprawdzanie checksum aby byc pewnym ze jest dobra wartosc \n",
    "    std::string line;\n",
    "    std::getline(file, line); // skip header\n",
    "    std::cout<<\"list of input features\"<<line<<std::endl;\n",
    "    // get the rest of the lines\n",
    "    \n",
    "    while (std::getline(file, line))\n",
    "    {\n",
    "        vector<string> substrings = splitString(line,',');\n",
    "        vector<int> indices; \n",
    "        double prediction;\n",
    "        convertStringArrayToTuple(substrings ,indices, prediction);\n",
    "        m_tupleClassifier.insert(make_pair(indices, prediction));\n",
    "    }\n",
    "    \n",
    "}\n",
    "\n",
    "vector<string> PatBBDTSeedClassifier::splitString(const string& toSplit, char token )\n",
    "{\n",
    "    vector<string> subStrings;\n",
    "    \n",
    "    std::stringstream stringStream;\n",
    "    stringStream.str(toSplit);\n",
    "    std::string item;\n",
    "    while (getline(stringStream, item, token)) {\n",
    "        subStrings.push_back(item);\n",
    "    }\n",
    "    return subStrings;\n",
    "}\n",
    "\n",
    "void PatBBDTSeedClassifier::convertStringArrayToTuple(vector<string>& substrings, vector<int>& indicesVector, double& prediction)\n",
    "{\n",
    "    for(auto it= substrings.begin();it!= substrings.end()-1;it++ ){\n",
    "        indicesVector.push_back(atoi((*it).c_str()));\n",
    "    }\n",
    "    prediction = atof((*(substrings.end()-1)).c_str());\n",
    "}\n",
    "\n",
    "\"\"\""
   ]
  },
  {
   "cell_type": "code",
   "execution_count": 61,
   "metadata": {
    "collapsed": true
   },
   "outputs": [],
   "source": [
    "def generate_InitBinEdgeMap_function():\n",
    "    function_body = \"\"\"\n",
    "void PatBBDTSeedClassifier::initBinEdgeMaps()\n",
    "{\n",
    "    m_binsEdgeMap ={\n",
    "    \"\"\"\n",
    "    for feature, bins_edges in classifier.bin_edges.iteritems():\n",
    "        function_body += \"\\t {\\\"\" + str(feature) +\"\\\", {\"\n",
    "        for bin_edge in bins_edges:\n",
    "            function_body += str(bin_edge)+ \",\"\n",
    "        function_body +=  \"}},\\n\"\n",
    "    \n",
    "    function_body += \"\"\"\\n };\n",
    "}\n",
    "    \"\"\"\n",
    "    return function_body"
   ]
  },
  {
   "cell_type": "code",
   "execution_count": 62,
   "metadata": {
    "collapsed": false
   },
   "outputs": [],
   "source": [
    "file = open(\"models/cpp/PatBBDTSeedClassifier.h\", 'w')\n",
    "file.write(generate_header())\n",
    "file.close()\n",
    "\n",
    "file = open(\"models/cpp/PatBBDTSeedClassifier.cpp\", 'w')\n",
    "file_content = generate_source_file()\n",
    "file_content += generate_InitBinEdgeMap_function()\n",
    "\n",
    "file.write(file_content)\n",
    "file.close()"
   ]
  },
  {
   "cell_type": "code",
   "execution_count": null,
   "metadata": {
    "collapsed": true
   },
   "outputs": [],
   "source": []
  }
 ],
 "metadata": {
  "kernelspec": {
   "display_name": "Python 2",
   "language": "python",
   "name": "python2"
  },
  "language_info": {
   "codemirror_mode": {
    "name": "ipython",
    "version": 2
   },
   "file_extension": ".py",
   "mimetype": "text/x-python",
   "name": "python",
   "nbconvert_exporter": "python",
   "pygments_lexer": "ipython2",
   "version": "2.7.10"
  }
 },
 "nbformat": 4,
 "nbformat_minor": 0
}

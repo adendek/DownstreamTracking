{
 "cells": [
  {
   "cell_type": "markdown",
   "metadata": {},
   "source": [
    "# Bonsai Boosted Decision Tree generator \n",
    "This script has been created to retrain PatLongLivedTracking's seed classifier.  \n",
    "It also generates the c++ code that can be used within the PatLongLivedTracking class.   \n",
    "\n",
    "The following script contains such steps as: \n",
    "1. Convert training NTuple into pandas DataFrame\n",
    "2. Train the bonsai Boosted Decision Tree \n",
    "    * This script contains only final model training. The entire Machine Learning study contains model selection, tuning hyper-parameters and features engineering can be found [here](https://github.com/adendek/DownstreamTracking)\n",
    "    * The bBDT is based on hep_ml.speedup.LookupClassifier with xgboost as a base classifier\n",
    "3. Generate the tuple classifier (root file)\n",
    "4. Generate C++ code. This code can be deployed into PatLongLivevTracking class.   \n",
    "\n"
   ]
  },
  {
   "cell_type": "code",
   "execution_count": 1,
   "metadata": {
    "collapsed": false
   },
   "outputs": [
    {
     "name": "stdout",
     "output_type": "stream",
     "text": [
      "kernel is alive!\n"
     ]
    }
   ],
   "source": [
    "print (\"kernel is alive!\")"
   ]
  },
  {
   "cell_type": "code",
   "execution_count": 1,
   "metadata": {
    "collapsed": false
   },
   "outputs": [
    {
     "data": {
      "application/javascript": [
       "require(['codemirror/mode/clike/clike'], function(Clike) { console.log('ROOTaaS - C++ CodeMirror module loaded'); });"
      ]
     },
     "metadata": {},
     "output_type": "display_data"
    },
    {
     "data": {
      "application/javascript": [
       "IPython.CodeCell.config_defaults.highlight_modes['magic_text/x-c++src'] = {'reg':[/^%%cpp/]};"
      ]
     },
     "metadata": {},
     "output_type": "display_data"
    },
    {
     "name": "stdout",
     "output_type": "stream",
     "text": [
      "Welcome to ROOTaaS 6.06/02\n"
     ]
    }
   ],
   "source": [
    "import root_numpy\n",
    "import root_pandas\n",
    "import pandas as pd\n",
    "import itertools\n",
    "import numpy\n",
    "import matplotlib.pyplot as plt\n",
    "import ROOT\n",
    "%matplotlib inline\n",
    "\n",
    "#sklearn imports \n",
    "from sklearn.cross_validation import train_test_split\n",
    "from sklearn.metrics import roc_auc_score\n",
    "from sklearn import cross_validation\n",
    "from sklearn.metrics import roc_curve, auc\n",
    "from sklearn import grid_search\n",
    "\n",
    "import xgboost as xgb\n",
    "\n",
    "from hep_ml.speedup import LookupClassifier"
   ]
  },
  {
   "cell_type": "markdown",
   "metadata": {},
   "source": [
    "## As a very first step I need to convert training data from root NTpule into pandas DataFrame \n",
    "\n",
    "To obtain this goal I will use **root_numpy**, that allows me to convert root NTuple to pandas.Dataframe  \n",
    "At first the training file name have to be defined"
   ]
  },
  {
   "cell_type": "code",
   "execution_count": 9,
   "metadata": {
    "collapsed": true
   },
   "outputs": [],
   "source": [
    "training_file_name = \"datasets/Brunel_test_30kev.root\""
   ]
  },
  {
   "cell_type": "code",
   "execution_count": 10,
   "metadata": {
    "collapsed": false
   },
   "outputs": [],
   "source": [
    "root_file = ROOT.TFile(training_file_name)\n",
    "root_file.cd(\"ToolSvc.PatDebugTTTruthTool\")\n",
    "tree = ROOT.gDirectory.Get(\"DownstreamSeedDebugTuple\")\n",
    "data = pd.DataFrame(root_numpy.tree2array(tree))\n",
    "\n",
    "target = data.is_true_seed\n",
    "features = data.drop(\"is_true_seed\", axis=1).astype(numpy.float64)"
   ]
  },
  {
   "cell_type": "code",
   "execution_count": 11,
   "metadata": {
    "collapsed": true
   },
   "outputs": [],
   "source": [
    "def basic_transforamtion(data):\n",
    "    #abs transformation\n",
    "    out = data\n",
    "    out[\"abs_seed_x\"]=numpy.abs(data['seed_x'])\n",
    "    out[\"abs_seed_y\"]=numpy.abs(data['seed_y'])\n",
    "    out[\"abs_seed_tx\"]=numpy.abs(data['seed_tx'])\n",
    "    out[\"abs_seed_ty\"]=numpy.abs(data['seed_ty'])\n",
    "    out['seed_r'] = numpy.sqrt(numpy.square(data.seed_x) +numpy.square(data.seed_y))    \n",
    "    out['pseudo_rapidity'] = numpy.arctanh(data.seed_pt/data.seed_p)\n",
    "    return out"
   ]
  },
  {
   "cell_type": "code",
   "execution_count": 12,
   "metadata": {
    "collapsed": false
   },
   "outputs": [
    {
     "data": {
      "text/html": [
       "<div style=\"max-height:1000px;max-width:1500px;overflow:auto;\">\n",
       "<table border=\"1\" class=\"dataframe\">\n",
       "  <thead>\n",
       "    <tr style=\"text-align: right;\">\n",
       "      <th></th>\n",
       "      <th>seed_chi2PerDoF</th>\n",
       "      <th>seed_p</th>\n",
       "      <th>seed_pt</th>\n",
       "      <th>seed_nLHCbIDs</th>\n",
       "      <th>seed_nbIT</th>\n",
       "      <th>seed_nLayers</th>\n",
       "      <th>seed_x</th>\n",
       "      <th>seed_y</th>\n",
       "      <th>seed_tx</th>\n",
       "      <th>seed_ty</th>\n",
       "      <th>abs_seed_x</th>\n",
       "      <th>abs_seed_y</th>\n",
       "      <th>abs_seed_tx</th>\n",
       "      <th>abs_seed_ty</th>\n",
       "      <th>seed_r</th>\n",
       "      <th>pseudo_rapidity</th>\n",
       "    </tr>\n",
       "  </thead>\n",
       "  <tbody>\n",
       "    <tr>\n",
       "      <th>0</th>\n",
       "      <td>1.213708</td>\n",
       "      <td>2543.471925</td>\n",
       "      <td>1187.267858</td>\n",
       "      <td>25</td>\n",
       "      <td>0</td>\n",
       "      <td>12</td>\n",
       "      <td>-1263.157617</td>\n",
       "      <td>-517.249191</td>\n",
       "      <td>-0.524220</td>\n",
       "      <td>-0.061572</td>\n",
       "      <td>1263.157617</td>\n",
       "      <td>517.249191</td>\n",
       "      <td>0.524220</td>\n",
       "      <td>0.061572</td>\n",
       "      <td>1364.959300</td>\n",
       "      <td>0.505958</td>\n",
       "    </tr>\n",
       "    <tr>\n",
       "      <th>1</th>\n",
       "      <td>1.346112</td>\n",
       "      <td>2781.485771</td>\n",
       "      <td>1204.396954</td>\n",
       "      <td>25</td>\n",
       "      <td>0</td>\n",
       "      <td>12</td>\n",
       "      <td>1264.522435</td>\n",
       "      <td>-99.363473</td>\n",
       "      <td>0.480288</td>\n",
       "      <td>-0.009081</td>\n",
       "      <td>1264.522435</td>\n",
       "      <td>99.363473</td>\n",
       "      <td>0.480288</td>\n",
       "      <td>0.009081</td>\n",
       "      <td>1268.420312</td>\n",
       "      <td>0.463589</td>\n",
       "    </tr>\n",
       "    <tr>\n",
       "      <th>2</th>\n",
       "      <td>1.627632</td>\n",
       "      <td>4769.446536</td>\n",
       "      <td>1708.511389</td>\n",
       "      <td>25</td>\n",
       "      <td>0</td>\n",
       "      <td>12</td>\n",
       "      <td>-1521.093160</td>\n",
       "      <td>-196.064807</td>\n",
       "      <td>-0.382802</td>\n",
       "      <td>-0.025975</td>\n",
       "      <td>1521.093160</td>\n",
       "      <td>196.064807</td>\n",
       "      <td>0.382802</td>\n",
       "      <td>0.025975</td>\n",
       "      <td>1533.677219</td>\n",
       "      <td>0.374842</td>\n",
       "    </tr>\n",
       "    <tr>\n",
       "      <th>3</th>\n",
       "      <td>1.789231</td>\n",
       "      <td>5202.918132</td>\n",
       "      <td>1823.936187</td>\n",
       "      <td>25</td>\n",
       "      <td>0</td>\n",
       "      <td>12</td>\n",
       "      <td>-1563.145597</td>\n",
       "      <td>-483.850246</td>\n",
       "      <td>-0.369674</td>\n",
       "      <td>-0.058753</td>\n",
       "      <td>1563.145597</td>\n",
       "      <td>483.850246</td>\n",
       "      <td>0.369674</td>\n",
       "      <td>0.058753</td>\n",
       "      <td>1636.317578</td>\n",
       "      <td>0.366082</td>\n",
       "    </tr>\n",
       "    <tr>\n",
       "      <th>4</th>\n",
       "      <td>1.269238</td>\n",
       "      <td>2300.960611</td>\n",
       "      <td>1252.585447</td>\n",
       "      <td>24</td>\n",
       "      <td>0</td>\n",
       "      <td>12</td>\n",
       "      <td>-1641.727752</td>\n",
       "      <td>-411.084316</td>\n",
       "      <td>-0.646627</td>\n",
       "      <td>-0.054980</td>\n",
       "      <td>1641.727752</td>\n",
       "      <td>411.084316</td>\n",
       "      <td>0.646627</td>\n",
       "      <td>0.054980</td>\n",
       "      <td>1692.412576</td>\n",
       "      <td>0.610352</td>\n",
       "    </tr>\n",
       "  </tbody>\n",
       "</table>\n",
       "</div>"
      ],
      "text/plain": [
       "   seed_chi2PerDoF       seed_p      seed_pt  seed_nLHCbIDs  seed_nbIT  \\\n",
       "0         1.213708  2543.471925  1187.267858             25          0   \n",
       "1         1.346112  2781.485771  1204.396954             25          0   \n",
       "2         1.627632  4769.446536  1708.511389             25          0   \n",
       "3         1.789231  5202.918132  1823.936187             25          0   \n",
       "4         1.269238  2300.960611  1252.585447             24          0   \n",
       "\n",
       "   seed_nLayers       seed_x      seed_y   seed_tx   seed_ty   abs_seed_x  \\\n",
       "0            12 -1263.157617 -517.249191 -0.524220 -0.061572  1263.157617   \n",
       "1            12  1264.522435  -99.363473  0.480288 -0.009081  1264.522435   \n",
       "2            12 -1521.093160 -196.064807 -0.382802 -0.025975  1521.093160   \n",
       "3            12 -1563.145597 -483.850246 -0.369674 -0.058753  1563.145597   \n",
       "4            12 -1641.727752 -411.084316 -0.646627 -0.054980  1641.727752   \n",
       "\n",
       "   abs_seed_y  abs_seed_tx  abs_seed_ty       seed_r  pseudo_rapidity  \n",
       "0  517.249191     0.524220     0.061572  1364.959300         0.505958  \n",
       "1   99.363473     0.480288     0.009081  1268.420312         0.463589  \n",
       "2  196.064807     0.382802     0.025975  1533.677219         0.374842  \n",
       "3  483.850246     0.369674     0.058753  1636.317578         0.366082  \n",
       "4  411.084316     0.646627     0.054980  1692.412576         0.610352  "
      ]
     },
     "execution_count": 12,
     "metadata": {},
     "output_type": "execute_result"
    }
   ],
   "source": [
    "new_data = basic_transforamtion(data)\n",
    "new_features = new_data.drop(\"is_true_seed\", axis=1).astype(numpy.float64)\n",
    "new_features.head()"
   ]
  },
  {
   "cell_type": "markdown",
   "metadata": {},
   "source": [
    "### Balance the training dataset"
   ]
  },
  {
   "cell_type": "code",
   "execution_count": 13,
   "metadata": {
    "collapsed": false
   },
   "outputs": [
    {
     "name": "stdout",
     "output_type": "stream",
     "text": [
      "good tracks 178831\n",
      "ghost track 2641394\n",
      "ratio ghost to good 14.770000\n"
     ]
    }
   ],
   "source": [
    "good_track_no = counts = new_features[target == 1].count()[0]\n",
    "ghost_track_no = counts = new_features[target == 0].count()[0]\n",
    "print(\"good tracks %d\") % good_track_no\n",
    "print(\"ghost track %d\") % ghost_track_no\n",
    "ratio_ghost_to_good = float(ghost_track_no)/good_track_no\n",
    "ratio_ghost_to_good = numpy.round(ratio_ghost_to_good, 3)\n",
    "print (\"ratio ghost to good %f\") % ratio_ghost_to_good"
   ]
  },
  {
   "cell_type": "code",
   "execution_count": 14,
   "metadata": {
    "collapsed": false
   },
   "outputs": [
    {
     "data": {
      "text/html": [
       "<div style=\"max-height:1000px;max-width:1500px;overflow:auto;\">\n",
       "<table border=\"1\" class=\"dataframe\">\n",
       "  <thead>\n",
       "    <tr style=\"text-align: right;\">\n",
       "      <th></th>\n",
       "      <th>seed_chi2PerDoF</th>\n",
       "      <th>seed_pt</th>\n",
       "      <th>seed_nLHCbIDs</th>\n",
       "      <th>seed_nbIT</th>\n",
       "      <th>seed_nLayers</th>\n",
       "      <th>abs_seed_x</th>\n",
       "      <th>abs_seed_y</th>\n",
       "      <th>abs_seed_tx</th>\n",
       "      <th>abs_seed_ty</th>\n",
       "      <th>seed_r</th>\n",
       "      <th>pseudo_rapidity</th>\n",
       "    </tr>\n",
       "  </thead>\n",
       "  <tbody>\n",
       "    <tr>\n",
       "      <th>0</th>\n",
       "      <td>1.213708</td>\n",
       "      <td>1187.267858</td>\n",
       "      <td>25</td>\n",
       "      <td>0</td>\n",
       "      <td>12</td>\n",
       "      <td>1263.157617</td>\n",
       "      <td>517.249191</td>\n",
       "      <td>0.524220</td>\n",
       "      <td>0.061572</td>\n",
       "      <td>1364.959300</td>\n",
       "      <td>0.505958</td>\n",
       "    </tr>\n",
       "    <tr>\n",
       "      <th>1</th>\n",
       "      <td>1.346112</td>\n",
       "      <td>1204.396954</td>\n",
       "      <td>25</td>\n",
       "      <td>0</td>\n",
       "      <td>12</td>\n",
       "      <td>1264.522435</td>\n",
       "      <td>99.363473</td>\n",
       "      <td>0.480288</td>\n",
       "      <td>0.009081</td>\n",
       "      <td>1268.420312</td>\n",
       "      <td>0.463589</td>\n",
       "    </tr>\n",
       "    <tr>\n",
       "      <th>2</th>\n",
       "      <td>1.627632</td>\n",
       "      <td>1708.511389</td>\n",
       "      <td>25</td>\n",
       "      <td>0</td>\n",
       "      <td>12</td>\n",
       "      <td>1521.093160</td>\n",
       "      <td>196.064807</td>\n",
       "      <td>0.382802</td>\n",
       "      <td>0.025975</td>\n",
       "      <td>1533.677219</td>\n",
       "      <td>0.374842</td>\n",
       "    </tr>\n",
       "    <tr>\n",
       "      <th>3</th>\n",
       "      <td>1.789231</td>\n",
       "      <td>1823.936187</td>\n",
       "      <td>25</td>\n",
       "      <td>0</td>\n",
       "      <td>12</td>\n",
       "      <td>1563.145597</td>\n",
       "      <td>483.850246</td>\n",
       "      <td>0.369674</td>\n",
       "      <td>0.058753</td>\n",
       "      <td>1636.317578</td>\n",
       "      <td>0.366082</td>\n",
       "    </tr>\n",
       "    <tr>\n",
       "      <th>4</th>\n",
       "      <td>1.269238</td>\n",
       "      <td>1252.585447</td>\n",
       "      <td>24</td>\n",
       "      <td>0</td>\n",
       "      <td>12</td>\n",
       "      <td>1641.727752</td>\n",
       "      <td>411.084316</td>\n",
       "      <td>0.646627</td>\n",
       "      <td>0.054980</td>\n",
       "      <td>1692.412576</td>\n",
       "      <td>0.610352</td>\n",
       "    </tr>\n",
       "  </tbody>\n",
       "</table>\n",
       "</div>"
      ],
      "text/plain": [
       "   seed_chi2PerDoF      seed_pt  seed_nLHCbIDs  seed_nbIT  seed_nLayers  \\\n",
       "0         1.213708  1187.267858             25          0            12   \n",
       "1         1.346112  1204.396954             25          0            12   \n",
       "2         1.627632  1708.511389             25          0            12   \n",
       "3         1.789231  1823.936187             25          0            12   \n",
       "4         1.269238  1252.585447             24          0            12   \n",
       "\n",
       "    abs_seed_x  abs_seed_y  abs_seed_tx  abs_seed_ty       seed_r  \\\n",
       "0  1263.157617  517.249191     0.524220     0.061572  1364.959300   \n",
       "1  1264.522435   99.363473     0.480288     0.009081  1268.420312   \n",
       "2  1521.093160  196.064807     0.382802     0.025975  1533.677219   \n",
       "3  1563.145597  483.850246     0.369674     0.058753  1636.317578   \n",
       "4  1641.727752  411.084316     0.646627     0.054980  1692.412576   \n",
       "\n",
       "   pseudo_rapidity  \n",
       "0         0.505958  \n",
       "1         0.463589  \n",
       "2         0.374842  \n",
       "3         0.366082  \n",
       "4         0.610352  "
      ]
     },
     "execution_count": 14,
     "metadata": {},
     "output_type": "execute_result"
    }
   ],
   "source": [
    "new_features = new_features.drop([\"seed_x\",\"seed_y\",\"seed_ty\",\"seed_tx\",\"seed_p\"], axis=1).astype(numpy.float64)\n",
    "new_features.head()"
   ]
  },
  {
   "cell_type": "markdown",
   "metadata": {},
   "source": [
    "## Train the bonsai Boosted Decision Tree classifier\n",
    "As mentiond before the hyperparameters of the based classifier has beed selected in advance. "
   ]
  },
  {
   "cell_type": "code",
   "execution_count": 15,
   "metadata": {
    "collapsed": false
   },
   "outputs": [
    {
     "data": {
      "text/plain": [
       "LookupClassifier(base_estimator=XGBClassifier(base_score=0.5, colsample_bylevel=1, colsample_bytree=1,\n",
       "       gamma=0, learning_rate=0.07, max_delta_step=0, max_depth=6,\n",
       "       min_child_weight=1, missing=None, n_estimators=400, nthread=-1,\n",
       "       objective='binary:logistic', reg_alpha=0, reg_lambda=1,\n",
       "       scale_pos_weight=14.77, seed=0, silent=True, subsample=1),\n",
       "         keep_trained_estimator=False, max_cells=500000000, n_bins=4)"
      ]
     },
     "execution_count": 15,
     "metadata": {},
     "output_type": "execute_result"
    }
   ],
   "source": [
    "train_X, test_X, train_Y, test_Y = train_test_split(new_features, target, random_state=42,train_size=0.5 )              \n",
    "\n",
    "n_bins = 4\n",
    "\n",
    "base_classifier = xgb.XGBClassifier(n_estimators=400, learning_rate=0.07 ,scale_pos_weight=ratio_ghost_to_good, max_depth=6)\n",
    "classifier = LookupClassifier(base_estimator=base_classifier, n_bins=n_bins, keep_trained_estimator=False)\n",
    "classifier.fit(train_X, train_Y)"
   ]
  },
  {
   "cell_type": "markdown",
   "metadata": {},
   "source": [
    "### Check the model performance"
   ]
  },
  {
   "cell_type": "code",
   "execution_count": 16,
   "metadata": {
    "collapsed": false
   },
   "outputs": [
    {
     "name": "stdout",
     "output_type": "stream",
     "text": [
      "ROC AUC score of binarized XGBoost with 400 trees and trained using scale positive weight\n"
     ]
    },
    {
     "data": {
      "text/plain": [
       "0.77325737147769302"
      ]
     },
     "execution_count": 16,
     "metadata": {},
     "output_type": "execute_result"
    }
   ],
   "source": [
    "print \"ROC AUC score of binarized XGBoost with 400 trees and trained using scale positive weight\"\n",
    "roc_auc_score(test_Y, classifier.predict_proba(test_X)[:, 1])"
   ]
  },
  {
   "cell_type": "code",
   "execution_count": 17,
   "metadata": {
    "collapsed": false
   },
   "outputs": [
    {
     "data": {
      "image/png": "[encoded data removed]",
      "text/plain": [
       "<matplotlib.figure.Figure at 0x7fe4181f8190>"
      ]
     },
     "metadata": {},
     "output_type": "display_data"
    }
   ],
   "source": [
    "plt.figure(figsize=[6, 6])\n",
    "fpr, tpr, thresholds = roc_curve(test_Y, classifier.predict_proba(test_X)[:, 1])\n",
    "roc_auc = auc(fpr, tpr)\n",
    "plt.plot(fpr, tpr, lw=1, label='ROC bBDT (area = %0.2f)'%(roc_auc))\n",
    "plt.plot([0, 1], [0, 1], '--', color=(0.6, 0.6, 0.6), label='no discrimination')\n",
    "plt.plot([0.95, 1], [0.95, 1], '--', color=(0.6, 0.6, 0.6), label='no discrimination')\n",
    "plt.xlim([-0.05, 1.05])\n",
    "plt.ylim([-0.05, 1.05])\n",
    "plt.xlabel('False Positive Rate')\n",
    "plt.ylabel('True Positive Rate')\n",
    "plt.title('Receiver operating characteristic')\n",
    "plt.legend(loc=\"lower right\")\n",
    "plt.grid()\n",
    "plt.show()"
   ]
  },
  {
   "cell_type": "code",
   "execution_count": 18,
   "metadata": {
    "collapsed": false
   },
   "outputs": [
    {
     "data": {
      "image/png": "[encoded data removed]",
      "text/plain": [
       "<matplotlib.figure.Figure at 0x7fe3c9a0fa50>"
      ]
     },
     "metadata": {},
     "output_type": "display_data"
    }
   ],
   "source": [
    "plt.figure(figsize=[6, 6])\n",
    "fpr, tpr, thresholds = roc_curve(test_Y, classifier.predict_proba(test_X)[:, 1])\n",
    "roc_auc = auc(fpr, tpr)\n",
    "plt.plot(fpr, tpr, lw=1, label='ROC bBDT (area = %0.2f)'%(roc_auc))\n",
    "plt.plot([0, 1], [0, 1], '--', color=(0.6, 0.6, 0.6), label='no discrimination')\n",
    "plt.plot([0.95, 1], [0.95, 1], '--', color=(0.6, 0.6, 0.6), label='no discrimination')\n",
    "plt.xlim([0.5, 1])\n",
    "plt.ylim([0.95, 1])\n",
    "plt.xlabel('False Positive Rate')\n",
    "plt.ylabel('True Positive Rate')\n",
    "plt.title('Zoomed receiver operating characteristic')\n",
    "plt.legend(loc=\"lower right\")\n",
    "plt.grid()\n",
    "plt.show()"
   ]
  },
  {
   "cell_type": "markdown",
   "metadata": {},
   "source": [
    "## The generation of the T-Seed classifier starts here\n",
    "\n",
    "### Create the tuple classifier. \n"
   ]
  },
  {
   "cell_type": "code",
   "execution_count": 19,
   "metadata": {
    "collapsed": false
   },
   "outputs": [
    {
     "data": {
      "text/html": [
       "<div style=\"max-height:1000px;max-width:1500px;overflow:auto;\">\n",
       "<table border=\"1\" class=\"dataframe\">\n",
       "  <thead>\n",
       "    <tr style=\"text-align: right;\">\n",
       "      <th></th>\n",
       "      <th>seed_chi2PerDoF</th>\n",
       "      <th>seed_pt</th>\n",
       "      <th>seed_nLHCbIDs</th>\n",
       "      <th>seed_nbIT</th>\n",
       "      <th>seed_nLayers</th>\n",
       "      <th>abs_seed_x</th>\n",
       "      <th>abs_seed_y</th>\n",
       "      <th>abs_seed_tx</th>\n",
       "      <th>abs_seed_ty</th>\n",
       "      <th>seed_r</th>\n",
       "      <th>pseudo_rapidity</th>\n",
       "    </tr>\n",
       "  </thead>\n",
       "  <tbody>\n",
       "    <tr>\n",
       "      <th>0</th>\n",
       "      <td>0</td>\n",
       "      <td>0</td>\n",
       "      <td>0</td>\n",
       "      <td>0</td>\n",
       "      <td>0</td>\n",
       "      <td>0</td>\n",
       "      <td>0</td>\n",
       "      <td>0</td>\n",
       "      <td>0</td>\n",
       "      <td>0</td>\n",
       "      <td>0</td>\n",
       "    </tr>\n",
       "    <tr>\n",
       "      <th>1</th>\n",
       "      <td>0</td>\n",
       "      <td>0</td>\n",
       "      <td>0</td>\n",
       "      <td>0</td>\n",
       "      <td>0</td>\n",
       "      <td>0</td>\n",
       "      <td>0</td>\n",
       "      <td>0</td>\n",
       "      <td>0</td>\n",
       "      <td>0</td>\n",
       "      <td>1</td>\n",
       "    </tr>\n",
       "    <tr>\n",
       "      <th>2</th>\n",
       "      <td>0</td>\n",
       "      <td>0</td>\n",
       "      <td>0</td>\n",
       "      <td>0</td>\n",
       "      <td>0</td>\n",
       "      <td>0</td>\n",
       "      <td>0</td>\n",
       "      <td>0</td>\n",
       "      <td>0</td>\n",
       "      <td>0</td>\n",
       "      <td>2</td>\n",
       "    </tr>\n",
       "    <tr>\n",
       "      <th>3</th>\n",
       "      <td>0</td>\n",
       "      <td>0</td>\n",
       "      <td>0</td>\n",
       "      <td>0</td>\n",
       "      <td>0</td>\n",
       "      <td>0</td>\n",
       "      <td>0</td>\n",
       "      <td>0</td>\n",
       "      <td>0</td>\n",
       "      <td>0</td>\n",
       "      <td>3</td>\n",
       "    </tr>\n",
       "    <tr>\n",
       "      <th>4</th>\n",
       "      <td>0</td>\n",
       "      <td>0</td>\n",
       "      <td>0</td>\n",
       "      <td>0</td>\n",
       "      <td>0</td>\n",
       "      <td>0</td>\n",
       "      <td>0</td>\n",
       "      <td>0</td>\n",
       "      <td>0</td>\n",
       "      <td>1</td>\n",
       "      <td>0</td>\n",
       "    </tr>\n",
       "  </tbody>\n",
       "</table>\n",
       "</div>"
      ],
      "text/plain": [
       "   seed_chi2PerDoF  seed_pt  seed_nLHCbIDs  seed_nbIT  seed_nLayers  \\\n",
       "0                0        0              0          0             0   \n",
       "1                0        0              0          0             0   \n",
       "2                0        0              0          0             0   \n",
       "3                0        0              0          0             0   \n",
       "4                0        0              0          0             0   \n",
       "\n",
       "   abs_seed_x  abs_seed_y  abs_seed_tx  abs_seed_ty  seed_r  pseudo_rapidity  \n",
       "0           0           0            0            0       0                0  \n",
       "1           0           0            0            0       0                1  \n",
       "2           0           0            0            0       0                2  \n",
       "3           0           0            0            0       0                3  \n",
       "4           0           0            0            0       1                0  "
      ]
     },
     "execution_count": 19,
     "metadata": {},
     "output_type": "execute_result"
    }
   ],
   "source": [
    "n_features = new_features.shape[1]\n",
    "all_bins_indices = list(itertools.product(range(n_bins), repeat=n_features)) \n",
    "all_bins_indices_df = pd.DataFrame(all_bins_indices,columns=new_features.columns.values )\n",
    "all_bins_indices_df.head()"
   ]
  },
  {
   "cell_type": "code",
   "execution_count": 20,
   "metadata": {
    "collapsed": false
   },
   "outputs": [
    {
     "data": {
      "text/html": [
       "<div style=\"max-height:1000px;max-width:1500px;overflow:auto;\">\n",
       "<table border=\"1\" class=\"dataframe\">\n",
       "  <thead>\n",
       "    <tr style=\"text-align: right;\">\n",
       "      <th></th>\n",
       "      <th>seed_chi2PerDoF</th>\n",
       "      <th>seed_pt</th>\n",
       "      <th>seed_nLHCbIDs</th>\n",
       "      <th>seed_nbIT</th>\n",
       "      <th>seed_nLayers</th>\n",
       "      <th>abs_seed_x</th>\n",
       "      <th>abs_seed_y</th>\n",
       "      <th>abs_seed_tx</th>\n",
       "      <th>abs_seed_ty</th>\n",
       "      <th>seed_r</th>\n",
       "      <th>pseudo_rapidity</th>\n",
       "      <th>pred</th>\n",
       "    </tr>\n",
       "  </thead>\n",
       "  <tbody>\n",
       "    <tr>\n",
       "      <th>0</th>\n",
       "      <td>0</td>\n",
       "      <td>0</td>\n",
       "      <td>0</td>\n",
       "      <td>0</td>\n",
       "      <td>0</td>\n",
       "      <td>0</td>\n",
       "      <td>0</td>\n",
       "      <td>0</td>\n",
       "      <td>0</td>\n",
       "      <td>0</td>\n",
       "      <td>0</td>\n",
       "      <td>0.254758</td>\n",
       "    </tr>\n",
       "    <tr>\n",
       "      <th>1</th>\n",
       "      <td>0</td>\n",
       "      <td>0</td>\n",
       "      <td>0</td>\n",
       "      <td>0</td>\n",
       "      <td>0</td>\n",
       "      <td>0</td>\n",
       "      <td>0</td>\n",
       "      <td>0</td>\n",
       "      <td>0</td>\n",
       "      <td>0</td>\n",
       "      <td>1</td>\n",
       "      <td>0.290244</td>\n",
       "    </tr>\n",
       "    <tr>\n",
       "      <th>2</th>\n",
       "      <td>0</td>\n",
       "      <td>0</td>\n",
       "      <td>0</td>\n",
       "      <td>0</td>\n",
       "      <td>0</td>\n",
       "      <td>0</td>\n",
       "      <td>0</td>\n",
       "      <td>0</td>\n",
       "      <td>0</td>\n",
       "      <td>0</td>\n",
       "      <td>2</td>\n",
       "      <td>0.011093</td>\n",
       "    </tr>\n",
       "    <tr>\n",
       "      <th>3</th>\n",
       "      <td>0</td>\n",
       "      <td>0</td>\n",
       "      <td>0</td>\n",
       "      <td>0</td>\n",
       "      <td>0</td>\n",
       "      <td>0</td>\n",
       "      <td>0</td>\n",
       "      <td>0</td>\n",
       "      <td>0</td>\n",
       "      <td>0</td>\n",
       "      <td>3</td>\n",
       "      <td>0.007577</td>\n",
       "    </tr>\n",
       "    <tr>\n",
       "      <th>4</th>\n",
       "      <td>0</td>\n",
       "      <td>0</td>\n",
       "      <td>0</td>\n",
       "      <td>0</td>\n",
       "      <td>0</td>\n",
       "      <td>0</td>\n",
       "      <td>0</td>\n",
       "      <td>0</td>\n",
       "      <td>0</td>\n",
       "      <td>1</td>\n",
       "      <td>0</td>\n",
       "      <td>0.240432</td>\n",
       "    </tr>\n",
       "  </tbody>\n",
       "</table>\n",
       "</div>"
      ],
      "text/plain": [
       "   seed_chi2PerDoF  seed_pt  seed_nLHCbIDs  seed_nbIT  seed_nLayers  \\\n",
       "0                0        0              0          0             0   \n",
       "1                0        0              0          0             0   \n",
       "2                0        0              0          0             0   \n",
       "3                0        0              0          0             0   \n",
       "4                0        0              0          0             0   \n",
       "\n",
       "   abs_seed_x  abs_seed_y  abs_seed_tx  abs_seed_ty  seed_r  pseudo_rapidity  \\\n",
       "0           0           0            0            0       0                0   \n",
       "1           0           0            0            0       0                1   \n",
       "2           0           0            0            0       0                2   \n",
       "3           0           0            0            0       0                3   \n",
       "4           0           0            0            0       1                0   \n",
       "\n",
       "       pred  \n",
       "0  0.254758  \n",
       "1  0.290244  \n",
       "2  0.011093  \n",
       "3  0.007577  \n",
       "4  0.240432  "
      ]
     },
     "execution_count": 20,
     "metadata": {},
     "output_type": "execute_result"
    }
   ],
   "source": [
    "lookup_indices = classifier.convert_bins_to_lookup_index(all_bins_indices_df)\n",
    "predictions = numpy.array(classifier._lookup_table[lookup_indices] [:,1])\n",
    "\n",
    "all_bins_indices_df['pred'] = predictions\n",
    "all_bins_indices_df.head()"
   ]
  },
  {
   "cell_type": "markdown",
   "metadata": {},
   "source": [
    "### Save the tuple classifier as a root tree into file. "
   ]
  },
  {
   "cell_type": "code",
   "execution_count": 21,
   "metadata": {
    "collapsed": false
   },
   "outputs": [],
   "source": [
    "from root_pandas import to_root\n",
    "!mkdir -p  models/cpp/\n",
    "to_root(all_bins_indices_df, 'models/cpp/tuple_classifer.root', key = 'tree')"
   ]
  },
  {
   "cell_type": "markdown",
   "metadata": {},
   "source": [
    "## Generate classifer's c++ code\n",
    "\n",
    "The next step is to generate source code of the class responsible for evaluation of the bBDT classifier.  \n",
    "The template has been written manualy using CLion IDE.  \n",
    "\n",
    "There will be 2 python function:\n",
    "1. Generate header file (PatBBDTSeedClassifier.h)  \n",
    "2. Generate cpp source  file (PatBBDTSeedClassifier.cpp)"
   ]
  },
  {
   "cell_type": "code",
   "execution_count": 22,
   "metadata": {
    "collapsed": true
   },
   "outputs": [],
   "source": [
    "def generate_header():\n",
    "    header =  \"\"\"\n",
    "/** This file was generated automaticly by python script \n",
    "https://github.com/adendek/DownstreamTracking/blob/master/SeedClasifier/BDT-XGBoost.ipynb\n",
    "DO NOT MODIFY IT MANUALLY!!!!!!\n",
    "*/\n",
    "    \n",
    "#pragma once\n",
    "\n",
    "#include \"PatKernel/IPatMvaClassifier.h\"\n",
    "#include \"PatKernel/IPatMvaClassifier.h\"\n",
    "#include \"GaudiAlg/GaudiTool.h\"\n",
    "\n",
    "#include <vector>\n",
    "#include <map>\n",
    "#include <TROOT.h>\n",
    "#include <TFile.h>\n",
    "#include <TTree.h>\n",
    "\n",
    "\n",
    "class PatBBDTSeedClassifier : public GaudiTool, virtual public IPatMvaClassifier\n",
    "{\n",
    "public:\n",
    "    PatBBDTSeedClassifier( const std::string& type,\n",
    "                           const std::string& name,\n",
    "                           const IInterface* parent);\n",
    "\n",
    "    double getMvaValue(const std::vector<double>& parametersVector );\n",
    "\n",
    "    virtual StatusCode initialize();\n",
    "\n",
    "\n",
    "\n",
    "private:\n",
    "    //initialization phase\n",
    "    void initBinEdgeMaps();\n",
    "    void initTupleClassifier();\n",
    "\n",
    "    // model prediction phase\n",
    "    double getBBDTPrediction(const std::vector<int>& binIndices);\n",
    "    std::vector<int> getBinIndices(const std::vector<double>& parametersVector);\n",
    "\n",
    "\n",
    "    std::vector <std::pair<std::string, std::vector<double>>> m_binsEdgeMap;\n",
    "    std::map <std::vector<int>, double > m_tupleClassifier;\n",
    "\n",
    "\n",
    "    // tree specific member fields\n",
    "\n",
    "    // Declaration of leaf types\n",
    "    std::vector<Double_t*> m_leafTypes;\n",
    "\"\"\"\n",
    "    for feature in all_bins_indices_df.columns.values:\n",
    "        header += \"\\t Double_t     \"+ str(feature)+\";\\n\"\n",
    "\n",
    "\n",
    "    header+=\"// List of branches\\n\"\n",
    "    for feature in all_bins_indices_df.columns.values:\n",
    "        header += \"\\t TBranch    *b_\"+str(feature) +\";\\n\"\n",
    "\n",
    "    header+= \"};\\n\"\n",
    "    return header"
   ]
  },
  {
   "cell_type": "code",
   "execution_count": 23,
   "metadata": {
    "collapsed": true
   },
   "outputs": [],
   "source": [
    "def generate_source_file():\n",
    "    source = \"\"\"\n",
    "#include \"PatBBDTSeedClassifier.h\"\n",
    "#include <stdlib.h>\n",
    "#include <stdio.h>\n",
    "\n",
    "DECLARE_TOOL_FACTORY( PatBBDTSeedClassifier )\n",
    "\n",
    "double PatBBDTSeedClassifier::getMvaValue(const std::vector<double>& parametersVector )\n",
    "{\n",
    "    auto binIndices = getBinIndices(parametersVector);\n",
    "    return getBBDTPrediction(binIndices);\n",
    "}\n",
    "\n",
    "\n",
    "\n",
    "\n",
    "PatBBDTSeedClassifier::PatBBDTSeedClassifier( const std::string& type,\n",
    "                                                const std::string& name,\n",
    "                                                const IInterface* parent )\n",
    "        : GaudiTool ( type, name , parent )\n",
    "{\n",
    "    declareInterface<IPatMvaClassifier>(this);\n",
    "}\n",
    "\n",
    "\n",
    "StatusCode PatBBDTSeedClassifier::initialize()\n",
    "{\n",
    "    StatusCode sc =  GaudiTool::initialize();\n",
    "    if(sc.isFailure()) return Error(\"Failed to initialize\", sc);\n",
    "\n",
    "    initBinEdgeMaps();\n",
    "    initTupleClassifier();\n",
    "    return StatusCode::SUCCESS;\n",
    "}\n",
    "\n",
    "std::vector<int> PatBBDTSeedClassifier::getBinIndices(const std::vector<double>& parametersVector)\n",
    "{\n",
    "    int actualFeature = 0;\n",
    "    int binPerFeatures = 2;\n",
    "    std::vector<int> binIndicesMap;\n",
    "    for (const auto& featurePair: m_binsEdgeMap){\n",
    "        int binNumber = 0;\n",
    "        for(const auto& binValue : featurePair.second) {\n",
    "            if (parametersVector[actualFeature] < binValue) {\n",
    "                binIndicesMap.push_back(binNumber);\n",
    "                break;\n",
    "            }\n",
    "            binNumber++;\n",
    "            if(binNumber == binPerFeatures -1 ) binIndicesMap.push_back(binNumber);\n",
    "\n",
    "        }\n",
    "        actualFeature++;\n",
    "    }\n",
    "    return binIndicesMap;\n",
    "}\n",
    "\n",
    "double PatBBDTSeedClassifier::getBBDTPrediction(const std::vector<int>& binIndices)\n",
    "{\n",
    "    return m_tupleClassifier[binIndices];\n",
    "}\n",
    "\n",
    "void PatBBDTSeedClassifier::initTupleClassifier() {\n",
    "    TTree *tree = 0;\n",
    "    TFile *f = (TFile *) gROOT->GetListOfFiles()->FindObject(\"tuple_classifer.root\");\n",
    "    if (!f || !f->IsOpen()) {\n",
    "        f = new TFile(\"/afs/cern.ch/user/a/adendek/tracking_brunel/BrunelDev_v51r0/Tf/PatAlgorithms/src/tuple_classifer.root\");\n",
    "    }\n",
    "    f->GetObject(\"tree\", tree);\n",
    "\"\"\"\n",
    "    for feature in all_bins_indices_df.columns.values:\n",
    "        source += \"\\t tree->SetBranchAddress(\\\"\"+ str(feature)+ \"\\\", &\"+str(feature)+\", &b_\"+str(feature)+\");\\n\"\n",
    "\n",
    "    for feature in all_bins_indices_df.columns.values:\n",
    "        source += \"\\t m_leafTypes.push_back(&\"+ str(feature)+\");\\n\"\n",
    "    source += \"\"\"\n",
    "    Long64_t nentries = tree->GetEntriesFast();\n",
    "    for (Long64_t jentry = 0; jentry < nentries; jentry++) {\n",
    "        tree->GetEntry(jentry);\n",
    "        std::vector<int> binIndices;\n",
    "        for (const auto &leaf : m_leafTypes) {\n",
    "            binIndices.push_back(*leaf);\n",
    "        }\n",
    "        m_tupleClassifier.insert(std::make_pair(binIndices, pred));\n",
    "    }\n",
    "    \n",
    "}\n",
    "\"\"\"\n",
    "    return source"
   ]
  },
  {
   "cell_type": "code",
   "execution_count": 24,
   "metadata": {
    "collapsed": true
   },
   "outputs": [],
   "source": [
    "def generate_InitBinEdgeMap_function():\n",
    "    function_body = \"\"\"\n",
    "void PatBBDTSeedClassifier::initBinEdgeMaps()\n",
    "{\n",
    "    m_binsEdgeMap ={\n",
    "    \"\"\"\n",
    "    for feature, bins_edges in classifier.bin_edges.iteritems():\n",
    "        function_body += \"\\t {\\\"\" + str(feature) +\"\\\", {\"\n",
    "        for bin_edge in bins_edges:\n",
    "            function_body += str(bin_edge)+ \",\"\n",
    "        function_body +=  \"}},\\n\"\n",
    "    \n",
    "    function_body += \"\"\"\\n };\n",
    "}\n",
    "    \"\"\"\n",
    "    return function_body"
   ]
  },
  {
   "cell_type": "code",
   "execution_count": 25,
   "metadata": {
    "collapsed": false
   },
   "outputs": [],
   "source": [
    "file = open(\"models/cpp/PatBBDTSeedClassifier.h\", 'w')\n",
    "file.write(generate_header())\n",
    "file.close()\n",
    "\n",
    "file = open(\"models/cpp/PatBBDTSeedClassifier.cpp\", 'w')\n",
    "file_content = generate_source_file()\n",
    "file_content += generate_InitBinEdgeMap_function()\n",
    "\n",
    "file.write(file_content)\n",
    "file.close()"
   ]
  },
  {
   "cell_type": "markdown",
   "metadata": {},
   "source": [
    "## Now you need to manualy copy all generated files into **Tf/PatAlgorithms/src/**"
   ]
  },
  {
   "cell_type": "code",
   "execution_count": null,
   "metadata": {
    "collapsed": true
   },
   "outputs": [],
   "source": []
  }
 ],
 "metadata": {
  "kernelspec": {
   "display_name": "Python 2",
   "language": "python",
   "name": "python2"
  },
  "language_info": {
   "codemirror_mode": {
    "name": "ipython",
    "version": 2
   },
   "file_extension": ".py",
   "mimetype": "text/x-python",
   "name": "python",
   "nbconvert_exporter": "python",
   "pygments_lexer": "ipython2",
   "version": "2.7.10"
  }
 },
 "nbformat": 4,
 "nbformat_minor": 0
}

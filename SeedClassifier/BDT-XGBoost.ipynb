{
 "cells": [
  {
   "cell_type": "markdown",
   "metadata": {},
   "source": [
    "##  Study of the T-seed selection using BDT- XGBoost classifier\n",
    "-----------------------------\n",
    "This script contains all of my study based on **BDT - [XGBoost](https://github.com/dmlc/xgboost)**.  \n",
    "I want to compare results of sklearn's GradientBoostedClassifier and XGBoost.  \n",
    "[Rumour](https://github.com/dmlc/xgboost/blob/master/demo/README.md) has it that XGBoost is better than sklern's Gradient Boosted Classifier. We will see.  \n",
    "The study contains similar steps as Baseline-BDT. \n",
    "\n",
    "Study roadmap \n",
    "--------------\n",
    "1. Train  the first version of XGBoost with default parameters and without any features engineering. Just to know baseline score. \n",
    "2. Add basic features transformation eg. pseudorapidity and absolute values. \n",
    "3. Tune hiperparameters. As a first take care of number of trees and learning rate\n",
    "4. Try to balance training dataset. \n",
    "4. Add linear combination and features's ratios  \n",
    "   4.1 See at the learning curve. If needed perform step 3 for the new dataset.  \n",
    "5. Speedup the algorithm using idea of [bonsai Decision Trees](http://arxiv.org/pdf/1210.6861v1.pdf)  \n",
    "   I will use implementation of bBDT from [hep_ml](https://github.com/arogozhnikov/hep_ml/blob/master/hep_ml/speedup.py). See detailed study description below. \n",
    "6. Implement bBDT in C++  \n",
    "\n",
    "-----------\n"
   ]
  },
  {
   "cell_type": "code",
   "execution_count": 1,
   "metadata": {
    "collapsed": false
   },
   "outputs": [
    {
     "name": "stdout",
     "output_type": "stream",
     "text": [
      "kernel is alive!\n"
     ]
    }
   ],
   "source": [
    "print (\"kernel is alive!\")"
   ]
  },
  {
   "cell_type": "code",
   "execution_count": 2,
   "metadata": {
    "collapsed": false
   },
   "outputs": [
    {
     "data": {
      "application/javascript": [
       "require(['codemirror/mode/clike/clike'], function(Clike) { console.log('ROOTaaS - C++ CodeMirror module loaded'); });"
      ]
     },
     "metadata": {},
     "output_type": "display_data"
    },
    {
     "data": {
      "application/javascript": [
       "IPython.CodeCell.config_defaults.highlight_modes['magic_text/x-c++src'] = {'reg':[/^%%cpp/]};"
      ]
     },
     "metadata": {},
     "output_type": "display_data"
    },
    {
     "name": "stdout",
     "output_type": "stream",
     "text": [
      "Welcome to ROOTaaS 6.06/02\n"
     ]
    }
   ],
   "source": [
    "import root_numpy\n",
    "import root_pandas\n",
    "import pandas as pd\n",
    "import numpy\n",
    "import matplotlib.pyplot as plt\n",
    "import ROOT\n",
    "%matplotlib inline\n",
    "\n",
    "import warnings # current version of seaborn generates a bunch of warnings that we'll ignore\n",
    "warnings.filterwarnings(\"ignore\")\n",
    "import seaborn as sns\n",
    "\n",
    "#sklearn imports \n",
    "from sklearn.cross_validation import train_test_split\n",
    "from sklearn.metrics import roc_auc_score\n",
    "from sklearn.pipeline import Pipeline\n",
    "from sklearn.preprocessing import StandardScaler\n",
    "from sklearn import cross_validation\n",
    "from sklearn.metrics import roc_curve, auc\n",
    "from sklearn import grid_search\n",
    "from sklearn.metrics import classification_report\n",
    "\n",
    "from sklearn.externals import joblib\n",
    "\n",
    "import xgboost as xgb\n",
    "\n",
    "from hep_ml.speedup import LookupClassifier"
   ]
  },
  {
   "cell_type": "markdown",
   "metadata": {},
   "source": [
    "As a very first step I need to grab training data form the NTpule. \n",
    "--------------------------\n",
    "To obtain this goal I will use **root_numpy**, that allows me to convert root NTuple to pandas.Dataframe"
   ]
  },
  {
   "cell_type": "code",
   "execution_count": 3,
   "metadata": {
    "collapsed": true
   },
   "outputs": [],
   "source": [
    "training_file_name = \"datasets/Brunel_BdJPsiKs_MagU_30k.root\""
   ]
  },
  {
   "cell_type": "code",
   "execution_count": 4,
   "metadata": {
    "collapsed": false
   },
   "outputs": [
    {
     "data": {
      "text/html": [
       "<div style=\"max-height:1000px;max-width:1500px;overflow:auto;\">\n",
       "<table border=\"1\" class=\"dataframe\">\n",
       "  <thead>\n",
       "    <tr style=\"text-align: right;\">\n",
       "      <th></th>\n",
       "      <th>seed_chi2PerDoF</th>\n",
       "      <th>seed_p</th>\n",
       "      <th>seed_pt</th>\n",
       "      <th>seed_nLHCbIDs</th>\n",
       "      <th>seed_nbIT</th>\n",
       "      <th>seed_nLayers</th>\n",
       "      <th>seed_x</th>\n",
       "      <th>seed_y</th>\n",
       "      <th>seed_tx</th>\n",
       "      <th>seed_ty</th>\n",
       "    </tr>\n",
       "  </thead>\n",
       "  <tbody>\n",
       "    <tr>\n",
       "      <th>0</th>\n",
       "      <td>1.447929</td>\n",
       "      <td>1849.101146</td>\n",
       "      <td>1083.522737</td>\n",
       "      <td>27</td>\n",
       "      <td>0</td>\n",
       "      <td>12</td>\n",
       "      <td>-1418.736880</td>\n",
       "      <td>-143.095899</td>\n",
       "      <td>-0.722093</td>\n",
       "      <td>-0.038671</td>\n",
       "    </tr>\n",
       "    <tr>\n",
       "      <th>1</th>\n",
       "      <td>0.354945</td>\n",
       "      <td>10085.622823</td>\n",
       "      <td>1345.148537</td>\n",
       "      <td>24</td>\n",
       "      <td>0</td>\n",
       "      <td>12</td>\n",
       "      <td>-393.699553</td>\n",
       "      <td>-284.193871</td>\n",
       "      <td>-0.129122</td>\n",
       "      <td>-0.037920</td>\n",
       "    </tr>\n",
       "    <tr>\n",
       "      <th>2</th>\n",
       "      <td>2.906524</td>\n",
       "      <td>2441.534682</td>\n",
       "      <td>1013.888408</td>\n",
       "      <td>24</td>\n",
       "      <td>0</td>\n",
       "      <td>12</td>\n",
       "      <td>-834.004914</td>\n",
       "      <td>-270.235334</td>\n",
       "      <td>-0.456235</td>\n",
       "      <td>-0.015198</td>\n",
       "    </tr>\n",
       "    <tr>\n",
       "      <th>3</th>\n",
       "      <td>3.234916</td>\n",
       "      <td>2604.073941</td>\n",
       "      <td>904.097232</td>\n",
       "      <td>24</td>\n",
       "      <td>0</td>\n",
       "      <td>12</td>\n",
       "      <td>-475.119652</td>\n",
       "      <td>-230.380918</td>\n",
       "      <td>-0.369728</td>\n",
       "      <td>-0.018967</td>\n",
       "    </tr>\n",
       "    <tr>\n",
       "      <th>4</th>\n",
       "      <td>0.842265</td>\n",
       "      <td>2644.554049</td>\n",
       "      <td>1068.602364</td>\n",
       "      <td>23</td>\n",
       "      <td>0</td>\n",
       "      <td>12</td>\n",
       "      <td>-899.187260</td>\n",
       "      <td>-101.826800</td>\n",
       "      <td>-0.440227</td>\n",
       "      <td>-0.036610</td>\n",
       "    </tr>\n",
       "  </tbody>\n",
       "</table>\n",
       "</div>"
      ],
      "text/plain": [
       "   seed_chi2PerDoF        seed_p      seed_pt  seed_nLHCbIDs  seed_nbIT  \\\n",
       "0         1.447929   1849.101146  1083.522737             27          0   \n",
       "1         0.354945  10085.622823  1345.148537             24          0   \n",
       "2         2.906524   2441.534682  1013.888408             24          0   \n",
       "3         3.234916   2604.073941   904.097232             24          0   \n",
       "4         0.842265   2644.554049  1068.602364             23          0   \n",
       "\n",
       "   seed_nLayers       seed_x      seed_y   seed_tx   seed_ty  \n",
       "0            12 -1418.736880 -143.095899 -0.722093 -0.038671  \n",
       "1            12  -393.699553 -284.193871 -0.129122 -0.037920  \n",
       "2            12  -834.004914 -270.235334 -0.456235 -0.015198  \n",
       "3            12  -475.119652 -230.380918 -0.369728 -0.018967  \n",
       "4            12  -899.187260 -101.826800 -0.440227 -0.036610  "
      ]
     },
     "execution_count": 4,
     "metadata": {},
     "output_type": "execute_result"
    }
   ],
   "source": [
    "root_file = ROOT.TFile(training_file_name)\n",
    "root_file.cd(\"ToolSvc.PatDebugTTTruthTool\")\n",
    "tree = ROOT.gDirectory.Get(\"DownstreamSeedDebugTuple\")\n",
    "data = pd.DataFrame(root_numpy.tree2array(tree))\n",
    "\n",
    "features = data.drop([\"is_true_seed\",\"has_MCParticle\",\n",
    "                      \"is_downstream_reconstructible\",\n",
    "                      \"has_MCParticle_not_electron\",\n",
    "                     \"is_downstream_reconstructible_not_electron\",\n",
    "                     \"seed_mva_value\"] , axis=1).astype(numpy.float64)\n",
    "\n",
    "target = data.is_downstream_reconstructible\n",
    "\n",
    "features.head()"
   ]
  },
  {
   "cell_type": "markdown",
   "metadata": {},
   "source": [
    "Train xgboost classifier with default parameters\n",
    "-------------\n",
    "At first I need to split data into training and test subsets. "
   ]
  },
  {
   "cell_type": "code",
   "execution_count": 5,
   "metadata": {
    "collapsed": false
   },
   "outputs": [],
   "source": [
    "trainX, testX, trainY, testY = train_test_split(features, target, random_state=42,train_size=0.5 )"
   ]
  },
  {
   "cell_type": "code",
   "execution_count": 6,
   "metadata": {
    "collapsed": false
   },
   "outputs": [
    {
     "data": {
      "text/plain": [
       "XGBClassifier(base_score=0.5, colsample_bylevel=1, colsample_bytree=1,\n",
       "       gamma=0, learning_rate=0.07, max_delta_step=0, max_depth=6,\n",
       "       min_child_weight=1, missing=None, n_estimators=600, nthread=10,\n",
       "       objective='binary:logistic', reg_alpha=0, reg_lambda=1,\n",
       "       scale_pos_weight=1, seed=0, silent=True, subsample=1)"
      ]
     },
     "execution_count": 6,
     "metadata": {},
     "output_type": "execute_result"
    }
   ],
   "source": [
    "gb = xgb.XGBClassifier(n_estimators=600, learning_rate=0.07 ,nthread=10,max_depth=6)\n",
    "gb.fit(trainX,trainY)"
   ]
  },
  {
   "cell_type": "code",
   "execution_count": 7,
   "metadata": {
    "collapsed": false
   },
   "outputs": [
    {
     "name": "stdout",
     "output_type": "stream",
     "text": [
      "ROC AUC score\n"
     ]
    },
    {
     "data": {
      "text/plain": [
       "0.93662753771821994"
      ]
     },
     "execution_count": 7,
     "metadata": {},
     "output_type": "execute_result"
    }
   ],
   "source": [
    "print \"ROC AUC score\"\n",
    "roc_auc_score(testY, gb.predict_proba(testX)[:, 1])"
   ]
  },
  {
   "cell_type": "code",
   "execution_count": 8,
   "metadata": {
    "collapsed": false
   },
   "outputs": [
    {
     "data": {
      "image/png": "[encoded data removed]",
      "text/plain": [
       "<matplotlib.figure.Figure at 0x2b93f8fbb790>"
      ]
     },
     "metadata": {},
     "output_type": "display_data"
    }
   ],
   "source": [
    "plt.figure(figsize=[6, 6])\n",
    "fpr, tpr, thresholds = roc_curve(testY, gb.predict_proba(testX)[:, 1])\n",
    "roc_auc = auc(fpr, tpr)\n",
    "plt.plot(fpr, tpr, lw=1, label='ROC BDT (area = %0.2f)'%(roc_auc))\n",
    "plt.plot([0, 1], [0, 1], '--', color=(0.6, 0.6, 0.6), label='no discrimination')\n",
    "plt.xlim([-0.05, 1.05])\n",
    "plt.ylim([-0.05, 1.05])\n",
    "plt.xlabel('False Positive Rate')\n",
    "plt.ylabel('True Positive Rate')\n",
    "plt.title('Receiver operating characteristic')\n",
    "plt.legend(loc=\"lower right\")\n",
    "plt.grid()\n",
    "plt.show()"
   ]
  },
  {
   "cell_type": "markdown",
   "metadata": {},
   "source": [
    "Feature Engineering\n",
    "======================\n",
    "Add transformated features\n",
    "-------------------\n",
    "At the begining let's try some very basic feature transformation.  \n",
    "I also add pseudorapidity and seed_r"
   ]
  },
  {
   "cell_type": "code",
   "execution_count": 9,
   "metadata": {
    "collapsed": false
   },
   "outputs": [],
   "source": [
    "def basic_transforamtion(data):\n",
    "    #abs transformation\n",
    "    out = data\n",
    "    out[\"abs_seed_x\"]=numpy.abs(data['seed_x'])\n",
    "    out[\"abs_seed_y\"]=numpy.abs(data['seed_y'])\n",
    "    out[\"abs_seed_tx\"]=numpy.abs(data['seed_tx'])\n",
    "    out[\"abs_seed_ty\"]=numpy.abs(data['seed_ty'])\n",
    "    out['seed_r'] = numpy.sqrt(numpy.square(data.seed_x) +numpy.square(data.seed_y))    \n",
    "    out['pseudo_rapidity'] = numpy.arctanh(data.seed_pt/data.seed_p)\n",
    "    return out"
   ]
  },
  {
   "cell_type": "code",
   "execution_count": 10,
   "metadata": {
    "collapsed": false
   },
   "outputs": [
    {
     "data": {
      "text/html": [
       "<div style=\"max-height:1000px;max-width:1500px;overflow:auto;\">\n",
       "<table border=\"1\" class=\"dataframe\">\n",
       "  <thead>\n",
       "    <tr style=\"text-align: right;\">\n",
       "      <th></th>\n",
       "      <th>seed_chi2PerDoF</th>\n",
       "      <th>seed_p</th>\n",
       "      <th>seed_pt</th>\n",
       "      <th>seed_nLHCbIDs</th>\n",
       "      <th>seed_nbIT</th>\n",
       "      <th>seed_nLayers</th>\n",
       "      <th>abs_seed_x</th>\n",
       "      <th>abs_seed_y</th>\n",
       "      <th>abs_seed_tx</th>\n",
       "      <th>abs_seed_ty</th>\n",
       "      <th>seed_r</th>\n",
       "      <th>pseudo_rapidity</th>\n",
       "    </tr>\n",
       "  </thead>\n",
       "  <tbody>\n",
       "    <tr>\n",
       "      <th>0</th>\n",
       "      <td>1.447929</td>\n",
       "      <td>1849.101146</td>\n",
       "      <td>1083.522737</td>\n",
       "      <td>27</td>\n",
       "      <td>0</td>\n",
       "      <td>12</td>\n",
       "      <td>1418.736880</td>\n",
       "      <td>143.095899</td>\n",
       "      <td>0.722093</td>\n",
       "      <td>0.038671</td>\n",
       "      <td>1425.935051</td>\n",
       "      <td>0.671511</td>\n",
       "    </tr>\n",
       "    <tr>\n",
       "      <th>1</th>\n",
       "      <td>0.354945</td>\n",
       "      <td>10085.622823</td>\n",
       "      <td>1345.148537</td>\n",
       "      <td>24</td>\n",
       "      <td>0</td>\n",
       "      <td>12</td>\n",
       "      <td>393.699553</td>\n",
       "      <td>284.193871</td>\n",
       "      <td>0.129122</td>\n",
       "      <td>0.037920</td>\n",
       "      <td>485.556891</td>\n",
       "      <td>0.134172</td>\n",
       "    </tr>\n",
       "    <tr>\n",
       "      <th>2</th>\n",
       "      <td>2.906524</td>\n",
       "      <td>2441.534682</td>\n",
       "      <td>1013.888408</td>\n",
       "      <td>24</td>\n",
       "      <td>0</td>\n",
       "      <td>12</td>\n",
       "      <td>834.004914</td>\n",
       "      <td>270.235334</td>\n",
       "      <td>0.456235</td>\n",
       "      <td>0.015198</td>\n",
       "      <td>876.693408</td>\n",
       "      <td>0.441959</td>\n",
       "    </tr>\n",
       "    <tr>\n",
       "      <th>3</th>\n",
       "      <td>3.234916</td>\n",
       "      <td>2604.073941</td>\n",
       "      <td>904.097232</td>\n",
       "      <td>24</td>\n",
       "      <td>0</td>\n",
       "      <td>12</td>\n",
       "      <td>475.119652</td>\n",
       "      <td>230.380918</td>\n",
       "      <td>0.369728</td>\n",
       "      <td>0.018967</td>\n",
       "      <td>528.028457</td>\n",
       "      <td>0.362240</td>\n",
       "    </tr>\n",
       "    <tr>\n",
       "      <th>4</th>\n",
       "      <td>0.842265</td>\n",
       "      <td>2644.554049</td>\n",
       "      <td>1068.602364</td>\n",
       "      <td>23</td>\n",
       "      <td>0</td>\n",
       "      <td>12</td>\n",
       "      <td>899.187260</td>\n",
       "      <td>101.826800</td>\n",
       "      <td>0.440227</td>\n",
       "      <td>0.036610</td>\n",
       "      <td>904.934487</td>\n",
       "      <td>0.428511</td>\n",
       "    </tr>\n",
       "  </tbody>\n",
       "</table>\n",
       "</div>"
      ],
      "text/plain": [
       "   seed_chi2PerDoF        seed_p      seed_pt  seed_nLHCbIDs  seed_nbIT  \\\n",
       "0         1.447929   1849.101146  1083.522737             27          0   \n",
       "1         0.354945  10085.622823  1345.148537             24          0   \n",
       "2         2.906524   2441.534682  1013.888408             24          0   \n",
       "3         3.234916   2604.073941   904.097232             24          0   \n",
       "4         0.842265   2644.554049  1068.602364             23          0   \n",
       "\n",
       "   seed_nLayers   abs_seed_x  abs_seed_y  abs_seed_tx  abs_seed_ty  \\\n",
       "0            12  1418.736880  143.095899     0.722093     0.038671   \n",
       "1            12   393.699553  284.193871     0.129122     0.037920   \n",
       "2            12   834.004914  270.235334     0.456235     0.015198   \n",
       "3            12   475.119652  230.380918     0.369728     0.018967   \n",
       "4            12   899.187260  101.826800     0.440227     0.036610   \n",
       "\n",
       "        seed_r  pseudo_rapidity  \n",
       "0  1425.935051         0.671511  \n",
       "1   485.556891         0.134172  \n",
       "2   876.693408         0.441959  \n",
       "3   528.028457         0.362240  \n",
       "4   904.934487         0.428511  "
      ]
     },
     "execution_count": 10,
     "metadata": {},
     "output_type": "execute_result"
    }
   ],
   "source": [
    "new_data = basic_transforamtion(data)\n",
    "new_features =  new_data.drop([\"is_true_seed\",\"has_MCParticle\",\n",
    "                    \"is_downstream_reconstructible\",\n",
    "                    \"has_MCParticle_not_electron\",\n",
    "                    \"is_downstream_reconstructible_not_electron\",\n",
    "                    \"seed_mva_value\",\n",
    "                    \"seed_x\",\n",
    "                    \"seed_y\",\n",
    "                    \"seed_tx\",\n",
    "                    \"seed_ty\"] , axis=1).astype(numpy.float64)\n",
    "\n",
    "new_features.head()"
   ]
  },
  {
   "cell_type": "code",
   "execution_count": 11,
   "metadata": {
    "collapsed": false
   },
   "outputs": [],
   "source": [
    "new_trainX, new_testX, new_trainY, new_testY = train_test_split(new_features, target, random_state=42,train_size=0.5 )"
   ]
  },
  {
   "cell_type": "code",
   "execution_count": 12,
   "metadata": {
    "collapsed": false
   },
   "outputs": [
    {
     "data": {
      "text/plain": [
       "XGBClassifier(base_score=0.5, colsample_bylevel=1, colsample_bytree=1,\n",
       "       gamma=0, learning_rate=0.1, max_delta_step=0, max_depth=6,\n",
       "       min_child_weight=1, missing=None, n_estimators=600, nthread=10,\n",
       "       objective='binary:logistic', reg_alpha=0, reg_lambda=1,\n",
       "       scale_pos_weight=1, seed=0, silent=True, subsample=0.8)"
      ]
     },
     "execution_count": 12,
     "metadata": {},
     "output_type": "execute_result"
    }
   ],
   "source": [
    "gb2 = xgb.XGBClassifier(learning_rate=0.1, n_estimators=600, subsample=0.8, max_depth=6, nthread=10)\n",
    "gb2.fit(new_trainX,new_trainY)"
   ]
  },
  {
   "cell_type": "code",
   "execution_count": 13,
   "metadata": {
    "collapsed": false
   },
   "outputs": [
    {
     "data": {
      "text/plain": [
       "0.94187246122178814"
      ]
     },
     "execution_count": 13,
     "metadata": {},
     "output_type": "execute_result"
    }
   ],
   "source": [
    "roc_auc_score(new_testY, gb2.predict_proba(new_testX)[:, 1])"
   ]
  },
  {
   "cell_type": "code",
   "execution_count": 14,
   "metadata": {
    "collapsed": false
   },
   "outputs": [
    {
     "data": {
      "image/png": "[encoded data removed]",
      "text/plain": [
       "<matplotlib.figure.Figure at 0x2b944b324350>"
      ]
     },
     "metadata": {},
     "output_type": "display_data"
    }
   ],
   "source": [
    "plt.figure(figsize=[6, 6])\n",
    "fpr, tpr, thresholds = roc_curve(new_testY, gb2.predict_proba(new_testX)[:, 1])\n",
    "roc_auc = auc(fpr, tpr)\n",
    "plt.plot(fpr, tpr, lw=1, label='ROC BDT (area = %0.2f)'%(roc_auc))\n",
    "plt.plot([0, 1], [0, 1], '--', color=(0.6, 0.6, 0.6), label='no discrimination')\n",
    "plt.xlim([-0.05, 1.05])\n",
    "plt.ylim([-0.05, 1.05])\n",
    "plt.xlabel('False Positive Rate')\n",
    "plt.ylabel('True Positive Rate')\n",
    "plt.title('Receiver operating characteristic')\n",
    "plt.legend(loc=\"lower right\")\n",
    "plt.grid()\n",
    "plt.show()"
   ]
  },
  {
   "cell_type": "code",
   "execution_count": 23,
   "metadata": {
    "collapsed": true
   },
   "outputs": [],
   "source": [
    "def plot_confusion_matrix(cm, classes,\n",
    "                          normalize=False,\n",
    "                          title='Confusion matrix',\n",
    "                          cmap=plt.cm.Blues):\n",
    "    if normalize:\n",
    "        cm = cm.astype('float') / cm.sum(axis=1)[:, np.newaxis]    \n",
    "    plt.imshow(cm, interpolation='nearest', cmap=cmap)\n",
    "    plt.title(title)\n",
    "    plt.colorbar()\n",
    "    tick_marks = np.arange(len(classes))\n",
    "    plt.xticks(tick_marks, classes, rotation=45)\n",
    "    plt.yticks(tick_marks, classes)\n",
    "\n",
    "    thresh = cm.max() / 2.\n",
    "    for i, j in itertools.product(range(cm.shape[0]), range(cm.shape[1])):\n",
    "        plt.text(j, i, cm[i, j],\n",
    "                 horizontalalignment=\"center\",\n",
    "                 color=\"white\" if cm[i, j] > thresh else \"black\")\n",
    "\n",
    "    plt.tight_layout()\n",
    "    plt.ylabel('True label')\n",
    "    plt.xlabel('Predicted label')"
   ]
  },
  {
   "cell_type": "code",
   "execution_count": 17,
   "metadata": {
    "collapsed": true
   },
   "outputs": [],
   "source": [
    "import numpy as np\n",
    "def predict_vs_threshold(probas,threshold):\n",
    "    probas_df = pd.DataFrame(probas[:, 1])\n",
    "    predicted = np.where(probas_df>threshold,1,0)\n",
    "    return predicted"
   ]
  },
  {
   "cell_type": "code",
   "execution_count": 24,
   "metadata": {
    "collapsed": false
   },
   "outputs": [
    {
     "data": {
      "image/png": "[encoded data removed]",
      "text/plain": [
       "<matplotlib.figure.Figure at 0x2b94b849df10>"
      ]
     },
     "metadata": {},
     "output_type": "display_data"
    }
   ],
   "source": [
    "from sklearn.metrics import confusion_matrix\n",
    "import itertools\n",
    "\n",
    "   \n",
    "threshold = 0.07\n",
    "\n",
    "cnf_matrix = confusion_matrix(testY ,predict_vs_threshold(gb2.predict_proba(new_testX),threshold));\n",
    "target_names = [\"ghost\",\"true\"]\n",
    "plot_confusion_matrix(cnf_matrix, classes=target_names,\n",
    "                      title='Normalized confusion matrix')\n"
   ]
  },
  {
   "cell_type": "code",
   "execution_count": 25,
   "metadata": {
    "collapsed": false
   },
   "outputs": [
    {
     "data": {
      "image/png": "[encoded data removed]",
      "text/plain": [
       "<matplotlib.figure.Figure at 0x2b94c7ee8950>"
      ]
     },
     "metadata": {},
     "output_type": "display_data"
    }
   ],
   "source": [
    "threshold = 0.07\n",
    "\n",
    "cnf_matrix = confusion_matrix(test_Y ,predict_vs_threshold(gb2.predict_proba(new_testX),threshold));\n",
    "target_names = [\"ghost\",\"true\"]\n",
    "plot_confusion_matrix(cnf_matrix, classes=target_names,normalize=True,\n",
    "                      title='Normalized confusion matrix')"
   ]
  },
  {
   "cell_type": "markdown",
   "metadata": {},
   "source": [
    "Hyperparameters optimalization\n",
    "----------------\n",
    "Let's try to improve above classifier by serching for the best hyperparameters values. \n",
    "In the first iteration I want to find the best values of following hyperparameters:\n",
    "* Number of trees. The cosidered range of n_estimators is between 50 and 250, step = 50\n",
    "* learning rate in range 0.01-3 with semilogaritmic step\n",
    "\n",
    "I use only 10% of data for grid search. Should be enough."
   ]
  },
  {
   "cell_type": "code",
   "execution_count": null,
   "metadata": {
    "collapsed": false
   },
   "outputs": [
    {
     "name": "stdout",
     "output_type": "stream",
     "text": [
      "{'n_estimators': [50, 100, 150, 200, 250], 'learning_rate': [0.01, 0.03, 0.1, 0.3, 1]}\n",
      "Fitting 3 folds for each of 25 candidates, totalling 75 fits\n",
      "[CV] n_estimators=50, learning_rate=0.01 .............................\n",
      "[CV] n_estimators=50, learning_rate=0.01 .............................\n",
      "[CV] n_estimators=50, learning_rate=0.01 .............................\n",
      "[CV] n_estimators=100, learning_rate=0.01 ............................\n",
      "[CV] n_estimators=100, learning_rate=0.01 ............................\n",
      "[CV] n_estimators=100, learning_rate=0.01 ............................\n",
      "[CV] n_estimators=150, learning_rate=0.01 ............................\n",
      "[CV] n_estimators=150, learning_rate=0.01 ............................\n"
     ]
    }
   ],
   "source": [
    "train_gs_X, test_gs_X, train_gs_Y, test_gs_Y = train_test_split(new_features, target, random_state=42,train_size=0.1 )\n",
    "gb_grid_params = {\"n_estimators\": [x  for x in range(49,251) if x % 50 == 0],\n",
    "                   \"learning_rate\": [0.01, 0.03,0.1,0.3,1]}\n",
    "print(gb_grid_params)\n",
    "\n",
    "gb_gs = xgb.XGBClassifier()\n",
    "\n",
    "clf = grid_search.GridSearchCV(gb_gs,                               \n",
    "                               gb_grid_params,\n",
    "                               cv=3,\n",
    "                               scoring='roc_auc',\n",
    "                               verbose = 3, \n",
    "                               n_jobs=8);\n",
    "clf.fit(train_gs_X, train_gs_Y);\n"
   ]
  },
  {
   "cell_type": "code",
   "execution_count": null,
   "metadata": {
    "collapsed": false,
    "scrolled": true
   },
   "outputs": [],
   "source": [
    "print(\"Best parameters set found on development set:\")\n",
    "print(clf.best_params_)\n",
    "print(\"Grid scores on development set:\")\n",
    "for params, mean_score, scores in clf.grid_scores_:\n",
    "    print(\"%0.3f (+/-%0.03f) for %r\"\n",
    "        % (mean_score, scores.std() * 2, params))"
   ]
  },
  {
   "cell_type": "code",
   "execution_count": null,
   "metadata": {
    "collapsed": false,
    "scrolled": true
   },
   "outputs": [],
   "source": [
    "new_trainX, new_testX, new_trainY, new_testY = train_test_split(new_features, target, random_state=42,train_size=0.5 )\n",
    "gb2 = xgb.XGBClassifier(learning_rate=0.3, n_estimators=250, max_depth=6)\n",
    "gb2.fit(new_trainX,new_trainY)"
   ]
  },
  {
   "cell_type": "code",
   "execution_count": null,
   "metadata": {
    "collapsed": false
   },
   "outputs": [],
   "source": [
    "print \"ROC AUC score - model XGBoost with learning rate 0.3 and number of trees 250\"\n",
    "roc_auc_score(new_testY, gb2.predict_proba(new_testX)[:, 1])"
   ]
  },
  {
   "cell_type": "code",
   "execution_count": null,
   "metadata": {
    "collapsed": false
   },
   "outputs": [],
   "source": [
    "plt.figure(figsize=[6, 6])\n",
    "fpr, tpr, thresholds = roc_curve(new_testY, gb2.predict_proba(new_testX)[:, 1])\n",
    "roc_auc = auc(fpr, tpr)\n",
    "plt.plot(fpr, tpr, lw=1, label='ROC BDT (area = %0.2f)'%(roc_auc))\n",
    "plt.plot([0, 1], [0, 1], '--', color=(0.6, 0.6, 0.6), label='no discrimination')\n",
    "plt.xlim([-0.05, 1.05])\n",
    "plt.ylim([-0.05, 1.05])\n",
    "plt.xlabel('False Positive Rate')\n",
    "plt.ylabel('True Positive Rate')\n",
    "plt.title('Receiver operating characteristic')\n",
    "plt.legend(loc=\"lower right\")\n",
    "plt.grid()\n",
    "plt.show()"
   ]
  },
  {
   "cell_type": "markdown",
   "metadata": {},
   "source": [
    "Show dependency of BDT quality on the number of trees. \n",
    "----------\n",
    "I plot the learning curve, number of trees vs score, of the BDT classifier.  \n",
    "This plot allows me to decide weather or not decrease the number of trees. \n",
    "\n",
    "To obtain this values I use staged_predict_proba"
   ]
  },
  {
   "cell_type": "code",
   "execution_count": null,
   "metadata": {
    "collapsed": false,
    "scrolled": true
   },
   "outputs": [],
   "source": [
    "tree_scores = [] \n",
    "for tree_nb in range(1,249):\n",
    "    proba = gb2.predict_proba(new_testX,ntree_limit=tree_nb)\n",
    "    predicted = proba[:, 1]\n",
    "    score =  roc_auc_score(new_testY, predicted)\n",
    "    tree_scores.append(score)"
   ]
  },
  {
   "cell_type": "code",
   "execution_count": null,
   "metadata": {
    "collapsed": false,
    "scrolled": true
   },
   "outputs": [],
   "source": [
    "x = numpy.array([x  for x in range(1,249)])\n",
    "plt.figure()\n",
    "plt.plot(x,tree_scores)\n",
    "plt.ylim(0.75, 0.82)\n",
    "plt.xlabel('no of trees')\n",
    "plt.ylabel('score ROC_AUC')\n",
    "plt.show()"
   ]
  },
  {
   "cell_type": "markdown",
   "metadata": {},
   "source": [
    "Train the new model\n",
    "----------\n",
    "* n_estimators 400\n",
    "* learning rate 0.3"
   ]
  },
  {
   "cell_type": "code",
   "execution_count": 27,
   "metadata": {
    "collapsed": false
   },
   "outputs": [
    {
     "ename": "NameError",
     "evalue": "name 'g3' is not defined",
     "output_type": "error",
     "traceback": [
      "\u001b[1;31m---------------------------------------------------------------------------\u001b[0m",
      "\u001b[1;31mNameError\u001b[0m                                 Traceback (most recent call last)",
      "\u001b[1;32m<ipython-input-27-50997327e554>\u001b[0m in \u001b[0;36m<module>\u001b[1;34m()\u001b[0m\n\u001b[0;32m      3\u001b[0m \u001b[0mgb3\u001b[0m \u001b[1;33m=\u001b[0m \u001b[0mxgb\u001b[0m\u001b[1;33m.\u001b[0m\u001b[0mXGBClassifier\u001b[0m\u001b[1;33m(\u001b[0m \u001b[0mn_estimators\u001b[0m\u001b[1;33m=\u001b[0m\u001b[1;36m400\u001b[0m\u001b[1;33m,\u001b[0m \u001b[0mlearning_rate\u001b[0m\u001b[1;33m=\u001b[0m\u001b[1;36m0.2\u001b[0m\u001b[1;33m,\u001b[0m \u001b[0mmax_depth\u001b[0m\u001b[1;33m=\u001b[0m\u001b[1;36m6\u001b[0m\u001b[1;33m)\u001b[0m\u001b[1;33m\u001b[0m\u001b[0m\n\u001b[0;32m      4\u001b[0m \u001b[0mgb3\u001b[0m\u001b[1;33m.\u001b[0m\u001b[0mfit\u001b[0m\u001b[1;33m(\u001b[0m\u001b[0mtrain_X\u001b[0m\u001b[1;33m,\u001b[0m\u001b[0mtrain_Y\u001b[0m\u001b[1;33m)\u001b[0m\u001b[1;33m\u001b[0m\u001b[0m\n\u001b[1;32m----> 5\u001b[1;33m \u001b[0mjoblib\u001b[0m\u001b[1;33m.\u001b[0m\u001b[0mdump\u001b[0m\u001b[1;33m(\u001b[0m\u001b[0mg3\u001b[0m\u001b[1;33m,\u001b[0m \u001b[1;34m'models/XGBoost_400_balanced.pkl'\u001b[0m\u001b[1;33m)\u001b[0m\u001b[1;33m\u001b[0m\u001b[0m\n\u001b[0m",
      "\u001b[1;31mNameError\u001b[0m: name 'g3' is not defined"
     ]
    }
   ],
   "source": [
    "train_X, test_X, train_Y, test_Y = train_test_split(new_features, target, random_state=42,train_size=0.8 )\n",
    "\n",
    "gb3 = xgb.XGBClassifier( n_estimators=400, learning_rate=0.2, max_depth=6)\n",
    "gb3.fit(train_X,train_Y)\n"
   ]
  },
  {
   "cell_type": "code",
   "execution_count": 28,
   "metadata": {
    "collapsed": false
   },
   "outputs": [
    {
     "name": "stdout",
     "output_type": "stream",
     "text": [
      "ROC AUC score\n"
     ]
    },
    {
     "data": {
      "text/plain": [
       "0.94306276669479649"
      ]
     },
     "execution_count": 28,
     "metadata": {},
     "output_type": "execute_result"
    }
   ],
   "source": [
    "print \"ROC AUC score\"\n",
    "roc_auc_score(test_Y, gb3.predict_proba(test_X)[:, 1])"
   ]
  },
  {
   "cell_type": "code",
   "execution_count": 29,
   "metadata": {
    "collapsed": false,
    "scrolled": true
   },
   "outputs": [
    {
     "data": {
      "image/png": "[encoded data removed]",
      "text/plain": [
       "<matplotlib.figure.Figure at 0x2b94c81eddd0>"
      ]
     },
     "metadata": {},
     "output_type": "display_data"
    }
   ],
   "source": [
    "plt.figure(figsize=[6, 6])\n",
    "fpr, tpr, thresholds = roc_curve(test_Y, gb3.predict_proba(test_X)[:, 1])\n",
    "roc_auc = auc(fpr, tpr)\n",
    "plt.plot(fpr, tpr, lw=1, label='ROC BDT (area = %0.2f)'%(roc_auc))\n",
    "plt.plot([0, 1], [0, 1], '--', color=(0.6, 0.6, 0.6), label='no discrimination')\n",
    "plt.plot([0.95, 1], [0.95, 1], '--', color=(0.6, 0.6, 0.6), label='no discrimination')\n",
    "plt.xlim([-0.05, 1.05])\n",
    "plt.ylim([-0.05, 1.05])\n",
    "plt.xlabel('False Positive Rate')\n",
    "plt.ylabel('True Positive Rate')\n",
    "plt.title('Receiver operating characteristic')\n",
    "plt.legend(loc=\"lower right\")\n",
    "plt.grid()\n",
    "plt.show()"
   ]
  },
  {
   "cell_type": "code",
   "execution_count": 34,
   "metadata": {
    "collapsed": false
   },
   "outputs": [
    {
     "data": {
      "image/png": "[encoded data removed]",
      "text/plain": [
       "<matplotlib.figure.Figure at 0x2b94c8014e50>"
      ]
     },
     "metadata": {},
     "output_type": "display_data"
    }
   ],
   "source": [
    "plt.figure(figsize=[6, 6])\n",
    "fpr, tpr, thresholds = roc_curve(test_Y, gb3.predict_proba(test_X)[:, 1])\n",
    "roc_auc = auc(fpr, tpr)\n",
    "plt.plot(fpr, tpr, lw=1, label='ROC BDT (area = %0.2f)'%(roc_auc))\n",
    "plt.plot([0, 1], [0, 1], '--', color=(0.6, 0.6, 0.6), label='no discrimination')\n",
    "plt.plot([0.95, 1], [0.95, 1], '--', color=(0.6, 0.6, 0.6), label='no discrimination')\n",
    "plt.xlim([0.2, 1])\n",
    "plt.ylim([0.95, 1])\n",
    "plt.xlabel('False Positive Rate')\n",
    "plt.ylabel('True Positive Rate')\n",
    "plt.title('Zoomed receiver operating characteristic')\n",
    "plt.legend(loc=\"lower right\")\n",
    "plt.grid()\n",
    "plt.show()"
   ]
  },
  {
   "cell_type": "code",
   "execution_count": 31,
   "metadata": {
    "collapsed": false,
    "scrolled": false
   },
   "outputs": [
    {
     "name": "stdout",
     "output_type": "stream",
     "text": [
      "tree 1 score 0.855592987804\n",
      "tree 2 score 0.867904202744\n",
      "tree 3 score 0.877356348412\n",
      "tree 4 score 0.885177773388\n",
      "tree 5 score 0.888463995459\n",
      "tree 6 score 0.894625641779\n",
      "tree 7 score 0.900066888944\n",
      "tree 8 score 0.902450183462\n",
      "tree 9 score 0.904675034026\n",
      "tree 10 score 0.906409996285\n",
      "tree 11 score 0.909349984521\n",
      "tree 12 score 0.910381173472\n",
      "tree 13 score 0.913144470941\n",
      "tree 14 score 0.915330516023\n",
      "tree 15 score 0.916511610286\n",
      "tree 16 score 0.918217765014\n",
      "tree 17 score 0.919722067675\n",
      "tree 18 score 0.920246054386\n",
      "tree 19 score 0.921396092906\n",
      "tree 20 score 0.922371153795\n",
      "tree 21 score 0.923034215255\n",
      "tree 22 score 0.923168084607\n",
      "tree 23 score 0.923716143255\n",
      "tree 24 score 0.924447986719\n",
      "tree 25 score 0.925243515416\n",
      "tree 26 score 0.925592637282\n",
      "tree 27 score 0.926143916381\n",
      "tree 28 score 0.926398257424\n",
      "tree 29 score 0.926775616294\n",
      "tree 30 score 0.927031915241\n",
      "tree 31 score 0.927187607285\n",
      "tree 32 score 0.927685461101\n",
      "tree 33 score 0.927726997436\n",
      "tree 34 score 0.927916758133\n",
      "tree 35 score 0.928146807683\n",
      "tree 36 score 0.928784299466\n",
      "tree 37 score 0.929150192555\n",
      "tree 38 score 0.929255842824\n",
      "tree 39 score 0.929525359147\n",
      "tree 40 score 0.929547676161\n",
      "tree 41 score 0.929802574932\n",
      "tree 42 score 0.930025001967\n",
      "tree 43 score 0.930148893282\n",
      "tree 44 score 0.930193970155\n",
      "tree 45 score 0.930727544017\n",
      "tree 46 score 0.930876192271\n",
      "tree 47 score 0.931027953104\n",
      "tree 48 score 0.931169929554\n",
      "tree 49 score 0.931202552364\n",
      "tree 50 score 0.93151300636\n",
      "tree 51 score 0.931672660809\n",
      "tree 52 score 0.931812974979\n",
      "tree 53 score 0.931832536643\n",
      "tree 54 score 0.93197816035\n",
      "tree 55 score 0.932060386243\n",
      "tree 56 score 0.932376453555\n",
      "tree 57 score 0.932604750122\n",
      "tree 58 score 0.932687023475\n",
      "tree 59 score 0.932913556216\n",
      "tree 60 score 0.932928947872\n",
      "tree 61 score 0.933021570559\n",
      "tree 62 score 0.933105401171\n",
      "tree 63 score 0.933384801208\n",
      "tree 64 score 0.933498383046\n",
      "tree 65 score 0.933510036551\n",
      "tree 66 score 0.933609129242\n",
      "tree 67 score 0.933789487746\n",
      "tree 68 score 0.933868968616\n",
      "tree 69 score 0.934047044716\n",
      "tree 70 score 0.934078146383\n",
      "tree 71 score 0.934093531773\n",
      "tree 72 score 0.934241873775\n",
      "tree 73 score 0.934381675901\n",
      "tree 74 score 0.934472237129\n",
      "tree 75 score 0.93466589742\n",
      "tree 76 score 0.934784152896\n",
      "tree 77 score 0.934989299629\n",
      "tree 78 score 0.935091485142\n",
      "tree 79 score 0.935196627047\n",
      "tree 80 score 0.935224478146\n",
      "tree 81 score 0.935265597958\n",
      "tree 82 score 0.935332097291\n",
      "tree 83 score 0.935478306024\n",
      "tree 84 score 0.935656405285\n",
      "tree 85 score 0.935800691316\n",
      "tree 86 score 0.935906444451\n",
      "tree 87 score 0.936067509747\n",
      "tree 88 score 0.936098776367\n",
      "tree 89 score 0.93610454742\n",
      "tree 90 score 0.936207185666\n",
      "tree 91 score 0.936242075374\n",
      "tree 92 score 0.936343453813\n",
      "tree 93 score 0.93639241268\n",
      "tree 94 score 0.936496718265\n",
      "tree 95 score 0.936590750325\n",
      "tree 96 score 0.936630969515\n",
      "tree 97 score 0.936742305599\n",
      "tree 98 score 0.936826498602\n",
      "tree 99 score 0.936826845858\n",
      "tree 100 score 0.936872049137\n",
      "tree 101 score 0.936900742132\n",
      "tree 102 score 0.936995968413\n",
      "tree 103 score 0.937060564792\n",
      "tree 104 score 0.937079849415\n",
      "tree 105 score 0.937235475174\n",
      "tree 106 score 0.937302005029\n",
      "tree 107 score 0.937325902212\n",
      "tree 108 score 0.937338255418\n",
      "tree 109 score 0.937480023267\n",
      "tree 110 score 0.937615853204\n",
      "tree 111 score 0.937660368704\n",
      "tree 112 score 0.937688532821\n",
      "tree 113 score 0.937706243678\n",
      "tree 114 score 0.937789483454\n",
      "tree 115 score 0.937791856717\n",
      "tree 116 score 0.937792970457\n",
      "tree 117 score 0.937864414566\n",
      "tree 118 score 0.937873360043\n",
      "tree 119 score 0.937882539463\n",
      "tree 120 score 0.937898380706\n",
      "tree 121 score 0.937959255251\n",
      "tree 122 score 0.937998525145\n",
      "tree 123 score 0.938071040413\n",
      "tree 124 score 0.93811433598\n",
      "tree 125 score 0.938162043116\n",
      "tree 126 score 0.93816725539\n",
      "tree 127 score 0.93826461781\n",
      "tree 128 score 0.938283599154\n",
      "tree 129 score 0.938305180291\n",
      "tree 130 score 0.938315051878\n",
      "tree 131 score 0.938325838223\n",
      "tree 132 score 0.938378403164\n",
      "tree 133 score 0.938401822962\n",
      "tree 134 score 0.93840068145\n",
      "tree 135 score 0.93840674524\n",
      "tree 136 score 0.938405731849\n",
      "tree 137 score 0.938406299428\n",
      "tree 138 score 0.938417759201\n",
      "tree 139 score 0.938497724412\n",
      "tree 140 score 0.938509236799\n",
      "tree 141 score 0.938561266207\n",
      "tree 142 score 0.938633988602\n",
      "tree 143 score 0.938634959948\n",
      "tree 144 score 0.938699502902\n",
      "tree 145 score 0.938751903873\n",
      "tree 146 score 0.938802636815\n",
      "tree 147 score 0.938841788251\n",
      "tree 148 score 0.938881928253\n",
      "tree 149 score 0.938920097905\n",
      "tree 150 score 0.93893071123\n",
      "tree 151 score 0.939000124987\n",
      "tree 152 score 0.939016551454\n",
      "tree 153 score 0.93902219081\n",
      "tree 154 score 0.939072863268\n",
      "tree 155 score 0.939122645966\n",
      "tree 156 score 0.939139605182\n",
      "tree 157 score 0.939161105898\n",
      "tree 158 score 0.939173637253\n",
      "tree 159 score 0.939172261703\n",
      "tree 160 score 0.939177904247\n",
      "tree 161 score 0.939191162575\n",
      "tree 162 score 0.939193489283\n",
      "tree 163 score 0.939213603218\n",
      "tree 164 score 0.939224628859\n",
      "tree 165 score 0.939229328598\n",
      "tree 166 score 0.939247940155\n",
      "tree 167 score 0.939298071823\n",
      "tree 168 score 0.939334681621\n",
      "tree 169 score 0.939459747961\n",
      "tree 170 score 0.939458160197\n",
      "tree 171 score 0.939552979446\n",
      "tree 172 score 0.93959771009\n",
      "tree 173 score 0.939630803475\n",
      "tree 174 score 0.939645009315\n",
      "tree 175 score 0.939653805777\n",
      "tree 176 score 0.939654588475\n",
      "tree 177 score 0.939655346504\n",
      "tree 178 score 0.939721243624\n",
      "tree 179 score 0.939764121177\n",
      "tree 180 score 0.939818404407\n",
      "tree 181 score 0.939833988365\n",
      "tree 182 score 0.939857770245\n",
      "tree 183 score 0.939915912945\n",
      "tree 184 score 0.939961667315\n",
      "tree 185 score 0.939983802068\n",
      "tree 186 score 0.939979470238\n",
      "tree 187 score 0.939992948855\n",
      "tree 188 score 0.94004187177\n",
      "tree 189 score 0.940049483984\n",
      "tree 190 score 0.940098778609\n",
      "tree 191 score 0.94019575976\n",
      "tree 192 score 0.940259132879\n",
      "tree 193 score 0.94029242741\n",
      "tree 194 score 0.940333667\n",
      "tree 195 score 0.940371924381\n",
      "tree 196 score 0.940405698789\n",
      "tree 197 score 0.940437097382\n",
      "tree 198 score 0.940481587256\n",
      "tree 199 score 0.940482797535\n",
      "tree 200 score 0.940506261129\n",
      "tree 201 score 0.940520517867\n",
      "tree 202 score 0.940523567764\n",
      "tree 203 score 0.940528663364\n",
      "tree 204 score 0.940532804616\n",
      "tree 205 score 0.940580724957\n",
      "tree 206 score 0.940582372497\n",
      "tree 207 score 0.940583805256\n",
      "tree 208 score 0.940603517287\n",
      "tree 209 score 0.940626963539\n",
      "tree 210 score 0.940629437487\n",
      "tree 211 score 0.940638947475\n",
      "tree 212 score 0.940674567689\n",
      "tree 213 score 0.940711311668\n",
      "tree 214 score 0.940715153271\n",
      "tree 215 score 0.940749715039\n",
      "tree 216 score 0.940763423772\n",
      "tree 217 score 0.940782873692\n",
      "tree 218 score 0.940794825572\n",
      "tree 219 score 0.94079684751\n",
      "tree 220 score 0.940796037799\n",
      "tree 221 score 0.940803709186\n",
      "tree 222 score 0.940807135861\n",
      "tree 223 score 0.940825931187\n",
      "tree 224 score 0.940824943619\n",
      "tree 225 score 0.940824653796\n",
      "tree 226 score 0.940824045549\n",
      "tree 227 score 0.940823708645\n",
      "tree 228 score 0.94084700552\n",
      "tree 229 score 0.940901715788\n",
      "tree 230 score 0.940914749688\n",
      "tree 231 score 0.940968306204\n",
      "tree 232 score 0.94099026455\n",
      "tree 233 score 0.941014029113\n",
      "tree 234 score 0.941038273172\n",
      "tree 235 score 0.941045121195\n",
      "tree 236 score 0.941099748793\n",
      "tree 237 score 0.94110537196\n",
      "tree 238 score 0.941113203965\n",
      "tree 239 score 0.941145440602\n",
      "tree 240 score 0.941179744792\n",
      "tree 241 score 0.941188431062\n",
      "tree 242 score 0.941220334252\n",
      "tree 243 score 0.941245871166\n",
      "tree 244 score 0.941264135683\n",
      "tree 245 score 0.941286602366\n",
      "tree 246 score 0.941306483694\n",
      "tree 247 score 0.941341940663\n",
      "tree 248 score 0.94136671454\n",
      "tree 249 score 0.941372526606\n",
      "tree 250 score 0.94138990636\n",
      "tree 251 score 0.94140286958\n",
      "tree 252 score 0.941403271561\n",
      "tree 253 score 0.941419849569\n",
      "tree 254 score 0.941428857408\n",
      "tree 255 score 0.941440883572\n",
      "tree 256 score 0.941458563157\n",
      "tree 257 score 0.941460475197\n",
      "tree 258 score 0.941478652837\n",
      "tree 259 score 0.941498614629\n",
      "tree 260 score 0.941520506776\n",
      "tree 261 score 0.941571867842\n",
      "tree 262 score 0.941577035872\n",
      "tree 263 score 0.941577883113\n",
      "tree 264 score 0.941618410753\n",
      "tree 265 score 0.941626543226\n",
      "tree 266 score 0.941628596385\n",
      "tree 267 score 0.941637162499\n",
      "tree 268 score 0.941638886735\n",
      "tree 269 score 0.941638819606\n",
      "tree 270 score 0.941638078825\n",
      "tree 271 score 0.941638352496\n",
      "tree 272 score 0.941650068192\n",
      "tree 273 score 0.941686808542\n",
      "tree 274 score 0.941722412784\n",
      "tree 275 score 0.941773876189\n",
      "tree 276 score 0.941799947403\n",
      "tree 277 score 0.941820139802\n",
      "tree 278 score 0.941820768089\n",
      "tree 279 score 0.941827357965\n",
      "tree 280 score 0.941832319264\n",
      "tree 281 score 0.941844913067\n",
      "tree 282 score 0.941857561131\n",
      "tree 283 score 0.941913986206\n",
      "tree 284 score 0.941932816578\n",
      "tree 285 score 0.941934818571\n",
      "tree 286 score 0.941939409264\n",
      "tree 287 score 0.941939781508\n",
      "tree 288 score 0.941941024567\n",
      "tree 289 score 0.941956028921\n",
      "tree 290 score 0.941965938891\n",
      "tree 291 score 0.941967255415\n",
      "tree 292 score 0.94198480407\n",
      "tree 293 score 0.941989723563\n",
      "tree 294 score 0.941990801877\n",
      "tree 295 score 0.941990199931\n",
      "tree 296 score 0.941990882841\n",
      "tree 297 score 0.941994201297\n",
      "tree 298 score 0.94201705892\n",
      "tree 299 score 0.942023033826\n",
      "tree 300 score 0.942027897025\n",
      "tree 301 score 0.942026628849\n",
      "tree 302 score 0.942027194343\n",
      "tree 303 score 0.942026601878\n",
      "tree 304 score 0.942026488488\n",
      "tree 305 score 0.942027326489\n",
      "tree 306 score 0.942028557213\n",
      "tree 307 score 0.942028453719\n",
      "tree 308 score 0.942028632126\n",
      "tree 309 score 0.942028938378\n",
      "tree 310 score 0.942028450012\n",
      "tree 311 score 0.942028435807\n",
      "tree 312 score 0.942032086237\n",
      "tree 313 score 0.942031627772\n",
      "tree 314 score 0.942039011059\n",
      "tree 315 score 0.942066439697\n",
      "tree 316 score 0.942114355969\n",
      "tree 317 score 0.942116523561\n",
      "tree 318 score 0.942136297524\n",
      "tree 319 score 0.94214366003\n",
      "tree 320 score 0.94217247138\n",
      "tree 321 score 0.942187460883\n",
      "tree 322 score 0.942207603461\n",
      "tree 323 score 0.942222241476\n",
      "tree 324 score 0.942236118135\n",
      "tree 325 score 0.942255822366\n",
      "tree 326 score 0.942265142388\n",
      "tree 327 score 0.942264631878\n",
      "tree 328 score 0.942276343204\n",
      "tree 329 score 0.942283739197\n",
      "tree 330 score 0.94230440199\n",
      "tree 331 score 0.942323499922\n",
      "tree 332 score 0.942340655353\n",
      "tree 333 score 0.942353007232\n",
      "tree 334 score 0.942366316906\n",
      "tree 335 score 0.942386426988\n",
      "tree 336 score 0.942391547188\n",
      "tree 337 score 0.942415326801\n",
      "tree 338 score 0.942417703537\n",
      "tree 339 score 0.942428219426\n",
      "tree 340 score 0.942426322773\n",
      "tree 341 score 0.942426339012\n",
      "tree 342 score 0.942434629378\n",
      "tree 343 score 0.942439678596\n",
      "tree 344 score 0.942458186658\n",
      "tree 345 score 0.942528401283\n",
      "tree 346 score 0.942526905378\n",
      "tree 347 score 0.942532881094\n",
      "tree 348 score 0.942534340409\n",
      "tree 349 score 0.942545399864\n",
      "tree 350 score 0.942555220406\n",
      "tree 351 score 0.942570750854\n",
      "tree 352 score 0.942579449287\n",
      "tree 353 score 0.942582786714\n",
      "tree 354 score 0.942590065163\n",
      "tree 355 score 0.9425906711\n",
      "tree 356 score 0.942602321459\n",
      "tree 357 score 0.942606236612\n",
      "tree 358 score 0.942608684374\n",
      "tree 359 score 0.942637323902\n",
      "tree 360 score 0.942643864836\n",
      "tree 361 score 0.942655593332\n",
      "tree 362 score 0.942668768248\n",
      "tree 363 score 0.942689430291\n",
      "tree 364 score 0.942740552457\n",
      "tree 365 score 0.942740944836\n",
      "tree 366 score 0.942755532599\n",
      "tree 367 score 0.942757374924\n",
      "tree 368 score 0.942770117984\n",
      "tree 369 score 0.942784902419\n",
      "tree 370 score 0.942787511883\n",
      "tree 371 score 0.942788135611\n",
      "tree 372 score 0.9428085792\n",
      "tree 373 score 0.942809929374\n",
      "tree 374 score 0.942808906639\n",
      "tree 375 score 0.942809878536\n",
      "tree 376 score 0.942830235198\n",
      "tree 377 score 0.942835660375\n",
      "tree 378 score 0.942848479476\n",
      "tree 379 score 0.942849683911\n",
      "tree 380 score 0.942865786602\n",
      "tree 381 score 0.942881004015\n",
      "tree 382 score 0.942886051345\n",
      "tree 383 score 0.942896585611\n",
      "tree 384 score 0.942904918023\n",
      "tree 385 score 0.942905768902\n",
      "tree 386 score 0.942905533674\n",
      "tree 387 score 0.942923323452\n",
      "tree 388 score 0.942941954248\n",
      "tree 389 score 0.942946950637\n",
      "tree 390 score 0.942946986201\n",
      "tree 391 score 0.942963302631\n",
      "tree 392 score 0.942980080069\n",
      "tree 393 score 0.942985715003\n",
      "tree 394 score 0.942989055025\n",
      "tree 395 score 0.943011743386\n",
      "tree 396 score 0.943019015223\n",
      "tree 397 score 0.943024179667\n",
      "tree 398 score 0.94304708081\n"
     ]
    }
   ],
   "source": [
    "tree_scores = [] \n",
    "for tree_nb in range(1,399):\n",
    "    proba = gb3.predict_proba(test_X,ntree_limit=tree_nb)\n",
    "    predicted = proba[:, 1]\n",
    "    score =  roc_auc_score(test_Y, predicted)\n",
    "    print(\"\".join([\"tree \",str(tree_nb), \" score \", str(score)]))\n",
    "    tree_scores.append(score)"
   ]
  },
  {
   "cell_type": "code",
   "execution_count": 39,
   "metadata": {
    "collapsed": false
   },
   "outputs": [
    {
     "data": {
      "image/png": "[encoded data removed]",
      "text/plain": [
       "<matplotlib.figure.Figure at 0x2b94e1dc8f90>"
      ]
     },
     "metadata": {},
     "output_type": "display_data"
    }
   ],
   "source": [
    "x = numpy.array([x  for x in range(398)])\n",
    "plt.figure()\n",
    "plt.plot(x,tree_scores)\n",
    "plt.ylim(0.76, 0.95)\n",
    "plt.xlabel('no of trees')\n",
    "plt.ylabel('score ROC_AUC')\n",
    "plt.show()"
   ]
  },
  {
   "cell_type": "code",
   "execution_count": 33,
   "metadata": {
    "collapsed": false
   },
   "outputs": [
    {
     "data": {
      "image/png": "[encoded data removed]",
      "text/plain": [
       "<matplotlib.figure.Figure at 0x2b94c8197110>"
      ]
     },
     "metadata": {},
     "output_type": "display_data"
    }
   ],
   "source": [
    "threshold = 0.07\n",
    "\n",
    "cnf_matrix = confusion_matrix(testY ,predict_vs_threshold(gb3.predict_proba(new_testX),threshold));\n",
    "target_names = [\"ghost\",\"true\"]\n",
    "plot_confusion_matrix(cnf_matrix, classes=target_names,\n",
    "                      title='Normalized confusion matrix')"
   ]
  },
  {
   "cell_type": "code",
   "execution_count": 45,
   "metadata": {
    "collapsed": false
   },
   "outputs": [
    {
     "data": {
      "image/png": "[encoded data removed]",
      "text/plain": [
       "<matplotlib.figure.Figure at 0x2b94e1d39f50>"
      ]
     },
     "metadata": {},
     "output_type": "display_data"
    }
   ],
   "source": [
    "threshold = 0.07\n",
    "\n",
    "cnf_matrix = confusion_matrix(testY ,predict_vs_threshold(gb3.predict_proba(new_testX),threshold));\n",
    "target_names = [\"ghost\",\"true\"]\n",
    "plot_confusion_matrix(cnf_matrix, classes=target_names,normalize=True,\n",
    "                      title='Normalized confusion matrix')"
   ]
  },
  {
   "cell_type": "code",
   "execution_count": null,
   "metadata": {
    "collapsed": true
   },
   "outputs": [],
   "source": []
  }
 ],
 "metadata": {
  "kernelspec": {
   "display_name": "Python 2",
   "language": "python",
   "name": "python2"
  },
  "language_info": {
   "codemirror_mode": {
    "name": "ipython",
    "version": 2
   },
   "file_extension": ".py",
   "mimetype": "text/x-python",
   "name": "python",
   "nbconvert_exporter": "python",
   "pygments_lexer": "ipython2",
   "version": "2.7.10"
  }
 },
 "nbformat": 4,
 "nbformat_minor": 0
}

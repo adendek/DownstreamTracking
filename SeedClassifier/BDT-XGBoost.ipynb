{
 "cells": [
  {
   "cell_type": "markdown",
   "metadata": {},
   "source": [
    "##  Study of the T-seed selection using BDT- XGBoost classifier\n",
    "-----------------------------\n",
    "This script contains all of my study based on **BDT - [XGBoost](https://github.com/dmlc/xgboost)**.  \n",
    "I want to compare results of sklearn's GradientBoostedClassifier and XGBoost.  \n",
    "[Rumour](https://github.com/dmlc/xgboost/blob/master/demo/README.md) has it that XGBoost is better than sklern's Gradient Boosted Classifier. We will see.  \n",
    "The study contains similar steps as Baseline-BDT. \n",
    "\n",
    "Study roadmap \n",
    "--------------\n",
    "1. Train  the first version of XGBoost with default parameters and without any features engineering. Just to know baseline score. \n",
    "2. Add basic features transformation eg. pseudorapidity and absolute values. \n",
    "3. Tune hiperparameters. As a first take care of number of trees and learning rate\n",
    "4. Try to balance training dataset. \n",
    "4. Add linear combination and features's ratios  \n",
    "   4.1 See at the learning curve. If needed perform step 3 for the new dataset.  \n",
    "5. Speedup the algorithm using idea of [bonsai Decision Trees](http://arxiv.org/pdf/1210.6861v1.pdf)  \n",
    "   I will use implementation of bBDT from [hep_ml](https://github.com/arogozhnikov/hep_ml/blob/master/hep_ml/speedup.py). See detailed study description below. \n",
    "6. Implement bBDT in C++  \n",
    "\n",
    "The result to beat is 0.8131906\n",
    "-----------\n"
   ]
  },
  {
   "cell_type": "code",
   "execution_count": 2,
   "metadata": {
    "collapsed": false
   },
   "outputs": [
    {
     "name": "stdout",
     "output_type": "stream",
     "text": [
      "kernel is alive!\n"
     ]
    }
   ],
   "source": [
    "print (\"kernel is alive!\")"
   ]
  },
  {
   "cell_type": "code",
   "execution_count": 3,
   "metadata": {
    "collapsed": false
   },
   "outputs": [
    {
     "data": {
      "application/javascript": [
       "require(['codemirror/mode/clike/clike'], function(Clike) { console.log('ROOTaaS - C++ CodeMirror module loaded'); });"
      ]
     },
     "metadata": {},
     "output_type": "display_data"
    },
    {
     "data": {
      "application/javascript": [
       "IPython.CodeCell.config_defaults.highlight_modes['magic_text/x-c++src'] = {'reg':[/^%%cpp/]};"
      ]
     },
     "metadata": {},
     "output_type": "display_data"
    },
    {
     "name": "stdout",
     "output_type": "stream",
     "text": [
      "Welcome to ROOTaaS 6.06/02\n"
     ]
    }
   ],
   "source": [
    "import root_numpy\n",
    "import root_pandas\n",
    "import pandas as pd\n",
    "import numpy\n",
    "import matplotlib.pyplot as plt\n",
    "import ROOT\n",
    "%matplotlib inline\n",
    "\n",
    "import warnings # current version of seaborn generates a bunch of warnings that we'll ignore\n",
    "warnings.filterwarnings(\"ignore\")\n",
    "import seaborn as sns\n",
    "\n",
    "#sklearn imports \n",
    "from sklearn.cross_validation import train_test_split\n",
    "from sklearn.metrics import roc_auc_score\n",
    "from sklearn.pipeline import Pipeline\n",
    "from sklearn.preprocessing import StandardScaler\n",
    "from sklearn import cross_validation\n",
    "from sklearn.metrics import roc_curve, auc\n",
    "from sklearn import grid_search\n",
    "from sklearn.metrics import classification_report\n",
    "\n",
    "from sklearn.externals import joblib\n",
    "\n",
    "import xgboost as xgb\n",
    "\n",
    "from hep_ml.speedup import LookupClassifier"
   ]
  },
  {
   "cell_type": "markdown",
   "metadata": {},
   "source": [
    "As a very first step I need to grab training data form the NTpule. \n",
    "--------------------------\n",
    "To obtain this goal I will use **root_numpy**, that allows me to convert root NTuple to pandas.Dataframe"
   ]
  },
  {
   "cell_type": "code",
   "execution_count": 10,
   "metadata": {
    "collapsed": true
   },
   "outputs": [],
   "source": [
    "training_file_name = \"datasets/Brunel_BdJPsiKs_MagU_30k.root\""
   ]
  },
  {
   "cell_type": "code",
   "execution_count": 11,
   "metadata": {
    "collapsed": false
   },
   "outputs": [
    {
     "data": {
      "text/html": [
       "<div style=\"max-height:1000px;max-width:1500px;overflow:auto;\">\n",
       "<table border=\"1\" class=\"dataframe\">\n",
       "  <thead>\n",
       "    <tr style=\"text-align: right;\">\n",
       "      <th></th>\n",
       "      <th>seed_chi2PerDoF</th>\n",
       "      <th>seed_p</th>\n",
       "      <th>seed_pt</th>\n",
       "      <th>seed_nLHCbIDs</th>\n",
       "      <th>seed_nbIT</th>\n",
       "      <th>seed_nLayers</th>\n",
       "      <th>seed_x</th>\n",
       "      <th>seed_y</th>\n",
       "      <th>seed_tx</th>\n",
       "      <th>seed_ty</th>\n",
       "    </tr>\n",
       "  </thead>\n",
       "  <tbody>\n",
       "    <tr>\n",
       "      <th>0</th>\n",
       "      <td>1.447929</td>\n",
       "      <td>1849.101146</td>\n",
       "      <td>1083.522737</td>\n",
       "      <td>27</td>\n",
       "      <td>0</td>\n",
       "      <td>12</td>\n",
       "      <td>-1418.736880</td>\n",
       "      <td>-143.095899</td>\n",
       "      <td>-0.722093</td>\n",
       "      <td>-0.038671</td>\n",
       "    </tr>\n",
       "    <tr>\n",
       "      <th>1</th>\n",
       "      <td>0.354945</td>\n",
       "      <td>10085.622823</td>\n",
       "      <td>1345.148537</td>\n",
       "      <td>24</td>\n",
       "      <td>0</td>\n",
       "      <td>12</td>\n",
       "      <td>-393.699553</td>\n",
       "      <td>-284.193871</td>\n",
       "      <td>-0.129122</td>\n",
       "      <td>-0.037920</td>\n",
       "    </tr>\n",
       "    <tr>\n",
       "      <th>2</th>\n",
       "      <td>2.906524</td>\n",
       "      <td>2441.534682</td>\n",
       "      <td>1013.888408</td>\n",
       "      <td>24</td>\n",
       "      <td>0</td>\n",
       "      <td>12</td>\n",
       "      <td>-834.004914</td>\n",
       "      <td>-270.235334</td>\n",
       "      <td>-0.456235</td>\n",
       "      <td>-0.015198</td>\n",
       "    </tr>\n",
       "    <tr>\n",
       "      <th>3</th>\n",
       "      <td>3.234916</td>\n",
       "      <td>2604.073941</td>\n",
       "      <td>904.097232</td>\n",
       "      <td>24</td>\n",
       "      <td>0</td>\n",
       "      <td>12</td>\n",
       "      <td>-475.119652</td>\n",
       "      <td>-230.380918</td>\n",
       "      <td>-0.369728</td>\n",
       "      <td>-0.018967</td>\n",
       "    </tr>\n",
       "    <tr>\n",
       "      <th>4</th>\n",
       "      <td>0.842265</td>\n",
       "      <td>2644.554049</td>\n",
       "      <td>1068.602364</td>\n",
       "      <td>23</td>\n",
       "      <td>0</td>\n",
       "      <td>12</td>\n",
       "      <td>-899.187260</td>\n",
       "      <td>-101.826800</td>\n",
       "      <td>-0.440227</td>\n",
       "      <td>-0.036610</td>\n",
       "    </tr>\n",
       "  </tbody>\n",
       "</table>\n",
       "</div>"
      ],
      "text/plain": [
       "   seed_chi2PerDoF        seed_p      seed_pt  seed_nLHCbIDs  seed_nbIT  \\\n",
       "0         1.447929   1849.101146  1083.522737             27          0   \n",
       "1         0.354945  10085.622823  1345.148537             24          0   \n",
       "2         2.906524   2441.534682  1013.888408             24          0   \n",
       "3         3.234916   2604.073941   904.097232             24          0   \n",
       "4         0.842265   2644.554049  1068.602364             23          0   \n",
       "\n",
       "   seed_nLayers       seed_x      seed_y   seed_tx   seed_ty  \n",
       "0            12 -1418.736880 -143.095899 -0.722093 -0.038671  \n",
       "1            12  -393.699553 -284.193871 -0.129122 -0.037920  \n",
       "2            12  -834.004914 -270.235334 -0.456235 -0.015198  \n",
       "3            12  -475.119652 -230.380918 -0.369728 -0.018967  \n",
       "4            12  -899.187260 -101.826800 -0.440227 -0.036610  "
      ]
     },
     "execution_count": 11,
     "metadata": {},
     "output_type": "execute_result"
    }
   ],
   "source": [
    "root_file = ROOT.TFile(training_file_name)\n",
    "root_file.cd(\"ToolSvc.PatDebugTTTruthTool\")\n",
    "tree = ROOT.gDirectory.Get(\"DownstreamSeedDebugTuple\")\n",
    "data = pd.DataFrame(root_numpy.tree2array(tree))\n",
    "\n",
    "features = data.drop([\"is_true_seed\",\"has_MCParticle\",\n",
    "                      \"is_downstream_reconstructible\",\n",
    "                      \"has_MCParticle_not_electron\",\n",
    "                     \"is_downstream_reconstructible_not_electron\",\n",
    "                     \"seed_mva_value\"] , axis=1).astype(numpy.float64)\n",
    "\n",
    "target = data.is_downstream_reconstructible\n",
    "\n",
    "features.head()"
   ]
  },
  {
   "cell_type": "markdown",
   "metadata": {},
   "source": [
    "Train xgboost classifier with default parameters\n",
    "-------------\n",
    "At first I need to split data into training and test subsets. "
   ]
  },
  {
   "cell_type": "code",
   "execution_count": 12,
   "metadata": {
    "collapsed": false
   },
   "outputs": [],
   "source": [
    "trainX, testX, trainY, testY = train_test_split(features, target, random_state=42,train_size=0.5 )"
   ]
  },
  {
   "cell_type": "code",
   "execution_count": 13,
   "metadata": {
    "collapsed": false
   },
   "outputs": [
    {
     "data": {
      "text/plain": [
       "XGBClassifier(base_score=0.5, colsample_bylevel=1, colsample_bytree=1,\n",
       "       gamma=0, learning_rate=0.07, max_delta_step=0, max_depth=6,\n",
       "       min_child_weight=1, missing=None, n_estimators=600, nthread=10,\n",
       "       objective='binary:logistic', reg_alpha=0, reg_lambda=1,\n",
       "       scale_pos_weight=1, seed=0, silent=True, subsample=1)"
      ]
     },
     "execution_count": 13,
     "metadata": {},
     "output_type": "execute_result"
    }
   ],
   "source": [
    "gb = xgb.XGBClassifier(n_estimators=600, learning_rate=0.07 ,nthread=10,max_depth=6)\n",
    "gb.fit(trainX,trainY)"
   ]
  },
  {
   "cell_type": "code",
   "execution_count": 14,
   "metadata": {
    "collapsed": false
   },
   "outputs": [
    {
     "name": "stdout",
     "output_type": "stream",
     "text": [
      "ROC AUC score\n"
     ]
    },
    {
     "data": {
      "text/plain": [
       "0.93662753771821994"
      ]
     },
     "execution_count": 14,
     "metadata": {},
     "output_type": "execute_result"
    }
   ],
   "source": [
    "print \"ROC AUC score\"\n",
    "roc_auc_score(testY, gb.predict_proba(testX)[:, 1])"
   ]
  },
  {
   "cell_type": "code",
   "execution_count": 15,
   "metadata": {
    "collapsed": false
   },
   "outputs": [
    {
     "data": {
      "image/png": "[encoded data removed]",
      "text/plain": [
       "<matplotlib.figure.Figure at 0x7f085a57a310>"
      ]
     },
     "metadata": {},
     "output_type": "display_data"
    }
   ],
   "source": [
    "plt.figure(figsize=[6, 6])\n",
    "fpr, tpr, thresholds = roc_curve(testY, gb.predict_proba(testX)[:, 1])\n",
    "roc_auc = auc(fpr, tpr)\n",
    "plt.plot(fpr, tpr, lw=1, label='ROC BDT (area = %0.2f)'%(roc_auc))\n",
    "plt.plot([0, 1], [0, 1], '--', color=(0.6, 0.6, 0.6), label='no discrimination')\n",
    "plt.xlim([-0.05, 1.05])\n",
    "plt.ylim([-0.05, 1.05])\n",
    "plt.xlabel('False Positive Rate')\n",
    "plt.ylabel('True Positive Rate')\n",
    "plt.title('Receiver operating characteristic')\n",
    "plt.legend(loc=\"lower right\")\n",
    "plt.grid()\n",
    "plt.show()"
   ]
  },
  {
   "cell_type": "markdown",
   "metadata": {},
   "source": [
    "Feature Engineering\n",
    "======================\n",
    "Add transformated features\n",
    "-------------------\n",
    "At the begining let's try some very basic feature transformation.  \n",
    "I also add pseudorapidity and seed_r"
   ]
  },
  {
   "cell_type": "code",
   "execution_count": 16,
   "metadata": {
    "collapsed": false
   },
   "outputs": [],
   "source": [
    "def basic_transforamtion(data):\n",
    "    #abs transformation\n",
    "    out = data\n",
    "    out[\"abs_seed_x\"]=numpy.abs(data['seed_x'])\n",
    "    out[\"abs_seed_y\"]=numpy.abs(data['seed_y'])\n",
    "    out[\"abs_seed_tx\"]=numpy.abs(data['seed_tx'])\n",
    "    out[\"abs_seed_ty\"]=numpy.abs(data['seed_ty'])\n",
    "    out['seed_r'] = numpy.sqrt(numpy.square(data.seed_x) +numpy.square(data.seed_y))    \n",
    "    out['pseudo_rapidity'] = numpy.arctanh(data.seed_pt/data.seed_p)\n",
    "    return out"
   ]
  },
  {
   "cell_type": "code",
   "execution_count": 17,
   "metadata": {
    "collapsed": false
   },
   "outputs": [
    {
     "data": {
      "text/html": [
       "<div style=\"max-height:1000px;max-width:1500px;overflow:auto;\">\n",
       "<table border=\"1\" class=\"dataframe\">\n",
       "  <thead>\n",
       "    <tr style=\"text-align: right;\">\n",
       "      <th></th>\n",
       "      <th>seed_chi2PerDoF</th>\n",
       "      <th>seed_p</th>\n",
       "      <th>seed_pt</th>\n",
       "      <th>seed_nLHCbIDs</th>\n",
       "      <th>seed_nbIT</th>\n",
       "      <th>seed_nLayers</th>\n",
       "      <th>abs_seed_x</th>\n",
       "      <th>abs_seed_y</th>\n",
       "      <th>abs_seed_tx</th>\n",
       "      <th>abs_seed_ty</th>\n",
       "      <th>seed_r</th>\n",
       "      <th>pseudo_rapidity</th>\n",
       "    </tr>\n",
       "  </thead>\n",
       "  <tbody>\n",
       "    <tr>\n",
       "      <th>0</th>\n",
       "      <td>1.447929</td>\n",
       "      <td>1849.101146</td>\n",
       "      <td>1083.522737</td>\n",
       "      <td>27</td>\n",
       "      <td>0</td>\n",
       "      <td>12</td>\n",
       "      <td>1418.736880</td>\n",
       "      <td>143.095899</td>\n",
       "      <td>0.722093</td>\n",
       "      <td>0.038671</td>\n",
       "      <td>1425.935051</td>\n",
       "      <td>0.671511</td>\n",
       "    </tr>\n",
       "    <tr>\n",
       "      <th>1</th>\n",
       "      <td>0.354945</td>\n",
       "      <td>10085.622823</td>\n",
       "      <td>1345.148537</td>\n",
       "      <td>24</td>\n",
       "      <td>0</td>\n",
       "      <td>12</td>\n",
       "      <td>393.699553</td>\n",
       "      <td>284.193871</td>\n",
       "      <td>0.129122</td>\n",
       "      <td>0.037920</td>\n",
       "      <td>485.556891</td>\n",
       "      <td>0.134172</td>\n",
       "    </tr>\n",
       "    <tr>\n",
       "      <th>2</th>\n",
       "      <td>2.906524</td>\n",
       "      <td>2441.534682</td>\n",
       "      <td>1013.888408</td>\n",
       "      <td>24</td>\n",
       "      <td>0</td>\n",
       "      <td>12</td>\n",
       "      <td>834.004914</td>\n",
       "      <td>270.235334</td>\n",
       "      <td>0.456235</td>\n",
       "      <td>0.015198</td>\n",
       "      <td>876.693408</td>\n",
       "      <td>0.441959</td>\n",
       "    </tr>\n",
       "    <tr>\n",
       "      <th>3</th>\n",
       "      <td>3.234916</td>\n",
       "      <td>2604.073941</td>\n",
       "      <td>904.097232</td>\n",
       "      <td>24</td>\n",
       "      <td>0</td>\n",
       "      <td>12</td>\n",
       "      <td>475.119652</td>\n",
       "      <td>230.380918</td>\n",
       "      <td>0.369728</td>\n",
       "      <td>0.018967</td>\n",
       "      <td>528.028457</td>\n",
       "      <td>0.362240</td>\n",
       "    </tr>\n",
       "    <tr>\n",
       "      <th>4</th>\n",
       "      <td>0.842265</td>\n",
       "      <td>2644.554049</td>\n",
       "      <td>1068.602364</td>\n",
       "      <td>23</td>\n",
       "      <td>0</td>\n",
       "      <td>12</td>\n",
       "      <td>899.187260</td>\n",
       "      <td>101.826800</td>\n",
       "      <td>0.440227</td>\n",
       "      <td>0.036610</td>\n",
       "      <td>904.934487</td>\n",
       "      <td>0.428511</td>\n",
       "    </tr>\n",
       "  </tbody>\n",
       "</table>\n",
       "</div>"
      ],
      "text/plain": [
       "   seed_chi2PerDoF        seed_p      seed_pt  seed_nLHCbIDs  seed_nbIT  \\\n",
       "0         1.447929   1849.101146  1083.522737             27          0   \n",
       "1         0.354945  10085.622823  1345.148537             24          0   \n",
       "2         2.906524   2441.534682  1013.888408             24          0   \n",
       "3         3.234916   2604.073941   904.097232             24          0   \n",
       "4         0.842265   2644.554049  1068.602364             23          0   \n",
       "\n",
       "   seed_nLayers   abs_seed_x  abs_seed_y  abs_seed_tx  abs_seed_ty  \\\n",
       "0            12  1418.736880  143.095899     0.722093     0.038671   \n",
       "1            12   393.699553  284.193871     0.129122     0.037920   \n",
       "2            12   834.004914  270.235334     0.456235     0.015198   \n",
       "3            12   475.119652  230.380918     0.369728     0.018967   \n",
       "4            12   899.187260  101.826800     0.440227     0.036610   \n",
       "\n",
       "        seed_r  pseudo_rapidity  \n",
       "0  1425.935051         0.671511  \n",
       "1   485.556891         0.134172  \n",
       "2   876.693408         0.441959  \n",
       "3   528.028457         0.362240  \n",
       "4   904.934487         0.428511  "
      ]
     },
     "execution_count": 17,
     "metadata": {},
     "output_type": "execute_result"
    }
   ],
   "source": [
    "new_data = basic_transforamtion(data)\n",
    "new_features =  new_data.drop([\"is_true_seed\",\"has_MCParticle\",\n",
    "                    \"is_downstream_reconstructible\",\n",
    "                    \"has_MCParticle_not_electron\",\n",
    "                    \"is_downstream_reconstructible_not_electron\",\n",
    "                    \"seed_mva_value\",\n",
    "                    \"seed_x\",\n",
    "                    \"seed_y\",\n",
    "                    \"seed_tx\",\n",
    "                    \"seed_ty\"] , axis=1).astype(numpy.float64)\n",
    "\n",
    "new_features.head()"
   ]
  },
  {
   "cell_type": "code",
   "execution_count": 18,
   "metadata": {
    "collapsed": false
   },
   "outputs": [],
   "source": [
    "new_trainX, new_testX, new_trainY, new_testY = train_test_split(new_features, target, random_state=42,train_size=0.5 )"
   ]
  },
  {
   "cell_type": "code",
   "execution_count": 19,
   "metadata": {
    "collapsed": false
   },
   "outputs": [
    {
     "data": {
      "text/plain": [
       "XGBClassifier(base_score=0.5, colsample_bylevel=1, colsample_bytree=1,\n",
       "       gamma=0, learning_rate=0.1, max_delta_step=0, max_depth=6,\n",
       "       min_child_weight=1, missing=None, n_estimators=600, nthread=10,\n",
       "       objective='binary:logistic', reg_alpha=0, reg_lambda=1,\n",
       "       scale_pos_weight=1, seed=0, silent=True, subsample=0.8)"
      ]
     },
     "execution_count": 19,
     "metadata": {},
     "output_type": "execute_result"
    }
   ],
   "source": [
    "gb2 = xgb.XGBClassifier(learning_rate=0.1, n_estimators=600, subsample=0.8, max_depth=6, nthread=10)\n",
    "gb2.fit(new_trainX,new_trainY)"
   ]
  },
  {
   "cell_type": "code",
   "execution_count": 20,
   "metadata": {
    "collapsed": false
   },
   "outputs": [
    {
     "data": {
      "text/plain": [
       "0.94187246122178814"
      ]
     },
     "execution_count": 20,
     "metadata": {},
     "output_type": "execute_result"
    }
   ],
   "source": [
    "roc_auc_score(new_testY, gb2.predict_proba(new_testX)[:, 1])"
   ]
  },
  {
   "cell_type": "code",
   "execution_count": null,
   "metadata": {
    "collapsed": false
   },
   "outputs": [
    {
     "data": {
      "image/png": "[encoded data removed]",
      "text/plain": [
       "<matplotlib.figure.Figure at 0x7f0832808d90>"
      ]
     },
     "metadata": {},
     "output_type": "display_data"
    }
   ],
   "source": [
    "plt.figure(figsize=[6, 6])\n",
    "fpr, tpr, thresholds = roc_curve(new_testY, gb2.predict_proba(new_testX)[:, 1])\n",
    "roc_auc = auc(fpr, tpr)\n",
    "plt.plot(fpr, tpr, lw=1, label='ROC BDT (area = %0.2f)'%(roc_auc))\n",
    "plt.plot([0, 1], [0, 1], '--', color=(0.6, 0.6, 0.6), label='no discrimination')\n",
    "plt.xlim([-0.05, 1.05])\n",
    "plt.ylim([-0.05, 1.05])\n",
    "plt.xlabel('False Positive Rate')\n",
    "plt.ylabel('True Positive Rate')\n",
    "plt.title('Receiver operating characteristic')\n",
    "plt.legend(loc=\"lower right\")\n",
    "plt.grid()\n",
    "plt.show()"
   ]
  },
  {
   "cell_type": "markdown",
   "metadata": {},
   "source": [
    "Hyperparameters optimalization\n",
    "----------------\n",
    "Let's try to improve above classifier by serching for the best hyperparameters values. \n",
    "In the first iteration I want to find the best values of following hyperparameters:\n",
    "* Number of trees. The cosidered range of n_estimators is between 50 and 250, step = 50\n",
    "* learning rate in range 0.01-3 with semilogaritmic step\n",
    "\n",
    "I use only 10% of data for grid search. Should be enough."
   ]
  },
  {
   "cell_type": "code",
   "execution_count": null,
   "metadata": {
    "collapsed": false
   },
   "outputs": [
    {
     "name": "stdout",
     "output_type": "stream",
     "text": [
      "{'n_estimators': [50, 100, 150, 200, 250], 'learning_rate': [0.01, 0.03, 0.1, 0.3, 1]}\n",
      "Fitting 3 folds for each of 25 candidates, totalling 75 fits\n",
      "[CV] n_estimators=50, learning_rate=0.01 .............................\n",
      "[CV] n_estimators=50, learning_rate=0.01 .............................\n",
      "[CV] n_estimators=50, learning_rate=0.01 .............................\n",
      "[CV] n_estimators=100, learning_rate=0.01 ............................\n",
      "[CV] n_estimators=100, learning_rate=0.01 ............................\n",
      "[CV] n_estimators=100, learning_rate=0.01 ............................\n",
      "[CV] n_estimators=150, learning_rate=0.01 ............................\n",
      "[CV] n_estimators=150, learning_rate=0.01 ............................\n"
     ]
    }
   ],
   "source": [
    "train_gs_X, test_gs_X, train_gs_Y, test_gs_Y = train_test_split(new_features, target, random_state=42,train_size=0.1 )\n",
    "gb_grid_params = {\"n_estimators\": [x  for x in range(49,251) if x % 50 == 0],\n",
    "                   \"learning_rate\": [0.01, 0.03,0.1,0.3,1]}\n",
    "print(gb_grid_params)\n",
    "\n",
    "gb_gs = xgb.XGBClassifier()\n",
    "\n",
    "clf = grid_search.GridSearchCV(gb_gs,                               \n",
    "                               gb_grid_params,\n",
    "                               cv=3,\n",
    "                               scoring='roc_auc',\n",
    "                               verbose = 3, \n",
    "                               n_jobs=8);\n",
    "clf.fit(train_gs_X, train_gs_Y);\n"
   ]
  },
  {
   "cell_type": "code",
   "execution_count": null,
   "metadata": {
    "collapsed": false,
    "scrolled": true
   },
   "outputs": [],
   "source": [
    "print(\"Best parameters set found on development set:\")\n",
    "print(clf.best_params_)\n",
    "print(\"Grid scores on development set:\")\n",
    "for params, mean_score, scores in clf.grid_scores_:\n",
    "    print(\"%0.3f (+/-%0.03f) for %r\"\n",
    "        % (mean_score, scores.std() * 2, params))"
   ]
  },
  {
   "cell_type": "code",
   "execution_count": null,
   "metadata": {
    "collapsed": false,
    "scrolled": true
   },
   "outputs": [],
   "source": [
    "new_trainX, new_testX, new_trainY, new_testY = train_test_split(new_features, target, random_state=42,train_size=0.5 )\n",
    "gb2 = xgb.XGBClassifier(learning_rate=0.3, n_estimators=250, max_depth=6)\n",
    "gb2.fit(new_trainX,new_trainY)"
   ]
  },
  {
   "cell_type": "code",
   "execution_count": null,
   "metadata": {
    "collapsed": false
   },
   "outputs": [],
   "source": [
    "print \"ROC AUC score - model XGBoost with learning rate 0.3 and number of trees 250\"\n",
    "roc_auc_score(new_testY, gb2.predict_proba(new_testX)[:, 1])"
   ]
  },
  {
   "cell_type": "code",
   "execution_count": null,
   "metadata": {
    "collapsed": false
   },
   "outputs": [],
   "source": [
    "plt.figure(figsize=[6, 6])\n",
    "fpr, tpr, thresholds = roc_curve(new_testY, gb2.predict_proba(new_testX)[:, 1])\n",
    "roc_auc = auc(fpr, tpr)\n",
    "plt.plot(fpr, tpr, lw=1, label='ROC BDT (area = %0.2f)'%(roc_auc))\n",
    "plt.plot([0, 1], [0, 1], '--', color=(0.6, 0.6, 0.6), label='no discrimination')\n",
    "plt.xlim([-0.05, 1.05])\n",
    "plt.ylim([-0.05, 1.05])\n",
    "plt.xlabel('False Positive Rate')\n",
    "plt.ylabel('True Positive Rate')\n",
    "plt.title('Receiver operating characteristic')\n",
    "plt.legend(loc=\"lower right\")\n",
    "plt.grid()\n",
    "plt.show()"
   ]
  },
  {
   "cell_type": "markdown",
   "metadata": {},
   "source": [
    "Show dependency of BDT quality on the number of trees. \n",
    "----------\n",
    "I plot the learning curve, number of trees vs score, of the BDT classifier.  \n",
    "This plot allows me to decide weather or not decrease the number of trees. \n",
    "\n",
    "To obtain this values I use staged_predict_proba"
   ]
  },
  {
   "cell_type": "code",
   "execution_count": null,
   "metadata": {
    "collapsed": false,
    "scrolled": true
   },
   "outputs": [],
   "source": [
    "tree_scores = [] \n",
    "for tree_nb in range(1,249):\n",
    "    proba = gb2.predict_proba(new_testX,ntree_limit=tree_nb)\n",
    "    predicted = proba[:, 1]\n",
    "    score =  roc_auc_score(new_testY, predicted)\n",
    "    tree_scores.append(score)"
   ]
  },
  {
   "cell_type": "code",
   "execution_count": null,
   "metadata": {
    "collapsed": false,
    "scrolled": true
   },
   "outputs": [],
   "source": [
    "x = numpy.array([x  for x in range(1,249)])\n",
    "plt.figure()\n",
    "plt.plot(x,tree_scores)\n",
    "plt.ylim(0.75, 0.82)\n",
    "plt.xlabel('no of trees')\n",
    "plt.ylabel('score ROC_AUC')\n",
    "plt.show()"
   ]
  },
  {
   "cell_type": "markdown",
   "metadata": {},
   "source": [
    "Train the new model\n",
    "----------\n",
    "* n_estimators 400\n",
    "* learning rate 0.3"
   ]
  },
  {
   "cell_type": "code",
   "execution_count": null,
   "metadata": {
    "collapsed": false
   },
   "outputs": [],
   "source": [
    "train_X, test_X, train_Y, test_Y = train_test_split(new_features, target, random_state=42,train_size=0.5 )\n",
    "\n",
    "gb3 = xgb.XGBClassifier( n_estimators=400, learning_rate=0.2, max_depth=6)\n",
    "gb4.fit(train_X,train_y2)\n",
    "joblib.dump(gb4, 'models/XGBoost_400_balanced.pkl') "
   ]
  },
  {
   "cell_type": "code",
   "execution_count": null,
   "metadata": {
    "collapsed": false
   },
   "outputs": [],
   "source": [
    "gb3 = joblib.load('models/XGBoost_400trees.pkl')\n",
    "train_X, test_X, train_Y, test_Y = train_test_split(new_features, target, random_state=42,train_size=0.5 )              "
   ]
  },
  {
   "cell_type": "code",
   "execution_count": null,
   "metadata": {
    "collapsed": false
   },
   "outputs": [],
   "source": [
    "print \"ROC AUC score\"\n",
    "roc_auc_score(test_Y, gb3.predict_proba(test_X)[:, 1])"
   ]
  },
  {
   "cell_type": "code",
   "execution_count": null,
   "metadata": {
    "collapsed": false,
    "scrolled": true
   },
   "outputs": [],
   "source": [
    "plt.figure(figsize=[6, 6])\n",
    "fpr, tpr, thresholds = roc_curve(test_Y, gb3.predict_proba(test_X)[:, 1])\n",
    "roc_auc = auc(fpr, tpr)\n",
    "plt.plot(fpr, tpr, lw=1, label='ROC BDT (area = %0.2f)'%(roc_auc))\n",
    "plt.plot([0, 1], [0, 1], '--', color=(0.6, 0.6, 0.6), label='no discrimination')\n",
    "plt.plot([0.95, 1], [0.95, 1], '--', color=(0.6, 0.6, 0.6), label='no discrimination')\n",
    "plt.xlim([-0.05, 1.05])\n",
    "plt.ylim([-0.05, 1.05])\n",
    "plt.xlabel('False Positive Rate')\n",
    "plt.ylabel('True Positive Rate')\n",
    "plt.title('Receiver operating characteristic')\n",
    "plt.legend(loc=\"lower right\")\n",
    "plt.grid()\n",
    "plt.show()"
   ]
  },
  {
   "cell_type": "code",
   "execution_count": null,
   "metadata": {
    "collapsed": false
   },
   "outputs": [],
   "source": [
    "plt.figure(figsize=[6, 6])\n",
    "fpr, tpr, thresholds = roc_curve(test_Y, gb3.predict_proba(test_X)[:, 1])\n",
    "roc_auc = auc(fpr, tpr)\n",
    "plt.plot(fpr, tpr, lw=1, label='ROC BDT (area = %0.2f)'%(roc_auc))\n",
    "plt.plot([0, 1], [0, 1], '--', color=(0.6, 0.6, 0.6), label='no discrimination')\n",
    "plt.plot([0.95, 1], [0.95, 1], '--', color=(0.6, 0.6, 0.6), label='no discrimination')\n",
    "plt.xlim([0.5, 1])\n",
    "plt.ylim([0.95, 1])\n",
    "plt.xlabel('False Positive Rate')\n",
    "plt.ylabel('True Positive Rate')\n",
    "plt.title('Zoomed receiver operating characteristic')\n",
    "plt.legend(loc=\"lower right\")\n",
    "plt.grid()\n",
    "plt.show()"
   ]
  },
  {
   "cell_type": "code",
   "execution_count": null,
   "metadata": {
    "collapsed": false,
    "scrolled": false
   },
   "outputs": [],
   "source": [
    "tree_scores = [] \n",
    "for tree_nb in range(1,399):\n",
    "    proba = gb3.predict_proba(test_X,ntree_limit=tree_nb)\n",
    "    predicted = proba[:, 1]\n",
    "    score =  roc_auc_score(test_Y, predicted)\n",
    "    print(\"\".join([\"tree \",str(tree_nb), \" score \", str(score)]))\n",
    "    tree_scores.append(score)"
   ]
  },
  {
   "cell_type": "code",
   "execution_count": null,
   "metadata": {
    "collapsed": false
   },
   "outputs": [],
   "source": [
    "x = numpy.array([x  for x in range(400)])\n",
    "plt.figure()\n",
    "plt.plot(x,tree_scores[:400])\n",
    "plt.ylim(0.76, 0.825)\n",
    "plt.xlabel('no of trees')\n",
    "plt.ylabel('score ROC_AUC')\n",
    "plt.show()"
   ]
  },
  {
   "cell_type": "code",
   "execution_count": null,
   "metadata": {
    "collapsed": true
   },
   "outputs": [],
   "source": []
  }
 ],
 "metadata": {
  "kernelspec": {
   "display_name": "Python 2",
   "language": "python",
   "name": "python2"
  },
  "language_info": {
   "codemirror_mode": {
    "name": "ipython",
    "version": 2
   },
   "file_extension": ".py",
   "mimetype": "text/x-python",
   "name": "python",
   "nbconvert_exporter": "python",
   "pygments_lexer": "ipython2",
   "version": "2.7.10"
  }
 },
 "nbformat": 4,
 "nbformat_minor": 0
}

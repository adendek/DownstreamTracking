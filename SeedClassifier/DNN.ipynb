{
 "cells": [
  {
   "cell_type": "markdown",
   "metadata": {},
   "source": [
    "(Deep) Neural Network approach to the LHCb Ddownstream Tracking T-Seed selection. \n",
    "====================\n",
    "Study description\n",
    "-------------\n",
    "This script contains all of my study based on deep and shalow neural networks.  \n",
    "To construct models I will use [Lasagne](https://github.com/Lasagne/Lasagne) with Theano background.  \n",
    "All features are normalized. As a hidden layer I assume lasagne.DenseLayer\n",
    "\n",
    "Study roadmap\n",
    "----------------\n",
    "1. Train 1 NN with ReLU nonlinearities  \n",
    "   1.1  Try different drop-out and regularization layers (both L1 and L2)  \n",
    "2. Use GridSearchCV to tune number of hidden layer\n",
    "3. Train second Shallow Neural Network contains 2 hidden layers. Do simillar optimalization steps as prevoiusly. \n",
    "4. Train Deep Neural Network (at least 5 hidden layer). \n",
    "5. (Optional) Compare the results with models based on [Keras](https://keras.io/)   \n",
    "\n",
    "\n",
    "The previous models scores to beat:\n",
    "----------\n",
    "* kNN **0.787**\n",
    "* BDT (XGboost) **0.82 **\n",
    "* Logistic Regresion **0.77**"
   ]
  },
  {
   "cell_type": "code",
   "execution_count": 1,
   "metadata": {
    "collapsed": false
   },
   "outputs": [
    {
     "name": "stdout",
     "output_type": "stream",
     "text": [
      "Kernel is alive!\n"
     ]
    }
   ],
   "source": [
    "print(\"Kernel is alive!\")"
   ]
  },
  {
   "cell_type": "code",
   "execution_count": 2,
   "metadata": {
    "collapsed": false
   },
   "outputs": [
    {
     "data": {
      "application/javascript": [
       "require(['codemirror/mode/clike/clike'], function(Clike) { console.log('ROOTaaS - C++ CodeMirror module loaded'); });"
      ]
     },
     "metadata": {},
     "output_type": "display_data"
    },
    {
     "data": {
      "application/javascript": [
       "IPython.CodeCell.config_defaults.highlight_modes['magic_text/x-c++src'] = {'reg':[/^%%cpp/]};"
      ]
     },
     "metadata": {},
     "output_type": "display_data"
    },
    {
     "name": "stdout",
     "output_type": "stream",
     "text": [
      "Welcome to ROOTaaS 6.06/02\n",
      "Couldn't import dot_parser, loading of dot files will not be possible.\n"
     ]
    }
   ],
   "source": [
    "import root_numpy\n",
    "import pandas as pd\n",
    "import numpy\n",
    "import numpy as np\n",
    "import matplotlib.pyplot as plt\n",
    "import ROOT\n",
    "%matplotlib inline\n",
    "\n",
    "import warnings # current version of seaborn generates a bunch of warnings that we'll ignore\n",
    "warnings.filterwarnings(\"ignore\")\n",
    "import seaborn as sns\n",
    "\n",
    "from sklearn import linear_model\n",
    "from sklearn.cross_validation import train_test_split\n",
    "from sklearn.metrics import roc_auc_score, accuracy_score\n",
    "from sklearn.metrics import roc_curve, auc\n",
    "from sklearn import cross_validation\n",
    "from sklearn.preprocessing import PolynomialFeatures\n",
    "from sklearn.learning_curve import learning_curve\n",
    "from sklearn.pipeline import Pipeline\n",
    "from sklearn.preprocessing import StandardScaler\n",
    "from sklearn.learning_curve import validation_curve\n",
    "\n",
    "import theano\n",
    "import theano.tensor as T\n",
    "import lasagne\n",
    "from lasagne.layers import InputLayer, DenseLayer, batch_norm, dropout\n",
    "from lasagne.regularization import regularize_layer_params, l2, l1\n",
    "\n",
    "import time"
   ]
  },
  {
   "cell_type": "markdown",
   "metadata": {},
   "source": [
    "As a very first step I need to grab training data form the NTpule. \n",
    "--------------------------"
   ]
  },
  {
   "cell_type": "code",
   "execution_count": 3,
   "metadata": {
    "collapsed": false
   },
   "outputs": [],
   "source": [
    "root_file = ROOT.TFile(\"datasets/Brunel_test_30kev.root\")\n",
    "root_file.cd(\"ToolSvc.PatDebugTTTruthTool\")\n",
    "tree = ROOT.gDirectory.Get(\"DownstreamSeedDebugTuple\")\n",
    "data = pd.DataFrame(root_numpy.tree2array(tree, stop=1000000))\n",
    "\n",
    "target = data.is_true_seed\n",
    "features = data.drop(\"is_true_seed\", axis=1).astype(numpy.float64)"
   ]
  },
  {
   "cell_type": "code",
   "execution_count": 4,
   "metadata": {
    "collapsed": false
   },
   "outputs": [],
   "source": [
    "def add_basic_features(data):\n",
    "    #abs transformation\n",
    "    out = data\n",
    "    out[\"seed_x\"]=numpy.abs(data['seed_x'])\n",
    "    out[\"seed_y\"]=numpy.abs(data['seed_y'])\n",
    "    out[\"seed_tx\"]=numpy.abs(data['seed_tx'])\n",
    "    out[\"seed_ty\"]=numpy.abs(data['seed_ty'])\n",
    "    #log transformation\n",
    "    out[\"seed_p\"]= numpy.log(data['seed_p'])\n",
    "    out[\"seed_pt\"]= numpy.log(data['seed_pt'])\n",
    "    out['pseudo_rapidity'] = numpy.arctanh(data.seed_pt/data.seed_p)\n",
    "    out['seed_r'] = numpy.sqrt(numpy.square(data.seed_x) +numpy.square(data.seed_y))\n",
    "    \n",
    "    return out"
   ]
  },
  {
   "cell_type": "code",
   "execution_count": 5,
   "metadata": {
    "collapsed": false
   },
   "outputs": [
    {
     "data": {
      "text/html": [
       "<div style=\"max-height:1000px;max-width:1500px;overflow:auto;\">\n",
       "<table border=\"1\" class=\"dataframe\">\n",
       "  <thead>\n",
       "    <tr style=\"text-align: right;\">\n",
       "      <th></th>\n",
       "      <th>seed_chi2PerDoF</th>\n",
       "      <th>seed_p</th>\n",
       "      <th>seed_pt</th>\n",
       "      <th>seed_nLHCbIDs</th>\n",
       "      <th>seed_nbIT</th>\n",
       "      <th>seed_nLayers</th>\n",
       "      <th>seed_x</th>\n",
       "      <th>seed_y</th>\n",
       "      <th>seed_tx</th>\n",
       "      <th>seed_ty</th>\n",
       "      <th>pseudo_rapidity</th>\n",
       "      <th>seed_r</th>\n",
       "    </tr>\n",
       "  </thead>\n",
       "  <tbody>\n",
       "    <tr>\n",
       "      <th>0</th>\n",
       "      <td>1.213708</td>\n",
       "      <td>7.841285</td>\n",
       "      <td>7.079410</td>\n",
       "      <td>25</td>\n",
       "      <td>0</td>\n",
       "      <td>12</td>\n",
       "      <td>1263.157617</td>\n",
       "      <td>517.249191</td>\n",
       "      <td>0.524220</td>\n",
       "      <td>0.061572</td>\n",
       "      <td>1.487361</td>\n",
       "      <td>1364.959300</td>\n",
       "    </tr>\n",
       "    <tr>\n",
       "      <th>1</th>\n",
       "      <td>1.346112</td>\n",
       "      <td>7.930741</td>\n",
       "      <td>7.093734</td>\n",
       "      <td>25</td>\n",
       "      <td>0</td>\n",
       "      <td>12</td>\n",
       "      <td>1264.522435</td>\n",
       "      <td>99.363473</td>\n",
       "      <td>0.480288</td>\n",
       "      <td>0.009081</td>\n",
       "      <td>1.443802</td>\n",
       "      <td>1268.420312</td>\n",
       "    </tr>\n",
       "    <tr>\n",
       "      <th>2</th>\n",
       "      <td>1.627632</td>\n",
       "      <td>8.469986</td>\n",
       "      <td>7.443378</td>\n",
       "      <td>25</td>\n",
       "      <td>0</td>\n",
       "      <td>12</td>\n",
       "      <td>1521.093160</td>\n",
       "      <td>196.064807</td>\n",
       "      <td>0.382802</td>\n",
       "      <td>0.025975</td>\n",
       "      <td>1.370450</td>\n",
       "      <td>1533.677219</td>\n",
       "    </tr>\n",
       "    <tr>\n",
       "      <th>3</th>\n",
       "      <td>1.789231</td>\n",
       "      <td>8.556975</td>\n",
       "      <td>7.508752</td>\n",
       "      <td>25</td>\n",
       "      <td>0</td>\n",
       "      <td>12</td>\n",
       "      <td>1563.145597</td>\n",
       "      <td>483.850246</td>\n",
       "      <td>0.369674</td>\n",
       "      <td>0.058753</td>\n",
       "      <td>1.364796</td>\n",
       "      <td>1636.317578</td>\n",
       "    </tr>\n",
       "    <tr>\n",
       "      <th>4</th>\n",
       "      <td>1.269238</td>\n",
       "      <td>7.741082</td>\n",
       "      <td>7.132965</td>\n",
       "      <td>24</td>\n",
       "      <td>0</td>\n",
       "      <td>12</td>\n",
       "      <td>1641.727752</td>\n",
       "      <td>411.084316</td>\n",
       "      <td>0.646627</td>\n",
       "      <td>0.054980</td>\n",
       "      <td>1.598503</td>\n",
       "      <td>1692.412576</td>\n",
       "    </tr>\n",
       "  </tbody>\n",
       "</table>\n",
       "</div>"
      ],
      "text/plain": [
       "   seed_chi2PerDoF    seed_p   seed_pt  seed_nLHCbIDs  seed_nbIT  \\\n",
       "0         1.213708  7.841285  7.079410             25          0   \n",
       "1         1.346112  7.930741  7.093734             25          0   \n",
       "2         1.627632  8.469986  7.443378             25          0   \n",
       "3         1.789231  8.556975  7.508752             25          0   \n",
       "4         1.269238  7.741082  7.132965             24          0   \n",
       "\n",
       "   seed_nLayers       seed_x      seed_y   seed_tx   seed_ty  pseudo_rapidity  \\\n",
       "0            12  1263.157617  517.249191  0.524220  0.061572         1.487361   \n",
       "1            12  1264.522435   99.363473  0.480288  0.009081         1.443802   \n",
       "2            12  1521.093160  196.064807  0.382802  0.025975         1.370450   \n",
       "3            12  1563.145597  483.850246  0.369674  0.058753         1.364796   \n",
       "4            12  1641.727752  411.084316  0.646627  0.054980         1.598503   \n",
       "\n",
       "        seed_r  \n",
       "0  1364.959300  \n",
       "1  1268.420312  \n",
       "2  1533.677219  \n",
       "3  1636.317578  \n",
       "4  1692.412576  "
      ]
     },
     "execution_count": 5,
     "metadata": {},
     "output_type": "execute_result"
    }
   ],
   "source": [
    "data = add_basic_features(data)\n",
    "features = data.drop(\"is_true_seed\", axis=1).astype(numpy.float64)\n",
    "features.head()"
   ]
  },
  {
   "cell_type": "markdown",
   "metadata": {},
   "source": [
    "Scale the features\n",
    "---------"
   ]
  },
  {
   "cell_type": "code",
   "execution_count": 6,
   "metadata": {
    "collapsed": true
   },
   "outputs": [],
   "source": [
    "features = pd.DataFrame(StandardScaler().fit_transform(features))"
   ]
  },
  {
   "cell_type": "markdown",
   "metadata": {},
   "source": [
    "Train Shallow Neural Network (1NN) \n",
    "==================\n",
    "I try to train the shallow, contains only 1 hidden layer, neural network. \n",
    "It contains 800 hidden unit.  \n",
    "The SNN is created using lasagne framework.  \n",
    "Then I will try to add some regularization layers (L1 and L2)\n",
    "I will train this classifier during 15 epoch. "
   ]
  },
  {
   "cell_type": "markdown",
   "metadata": {},
   "source": [
    "Split data into train and validation sets\n",
    "----------------------"
   ]
  },
  {
   "cell_type": "code",
   "execution_count": 7,
   "metadata": {
    "collapsed": false
   },
   "outputs": [],
   "source": [
    "y = data['is_true_seed'].values==1\n",
    "X = features[features.columns[1:]].values.astype(theano.config.floatX)"
   ]
  },
  {
   "cell_type": "code",
   "execution_count": 8,
   "metadata": {
    "collapsed": false
   },
   "outputs": [],
   "source": [
    "X_train,X_val,y_train,y_val = train_test_split(X,y,random_state=11, train_size=0.5)"
   ]
  },
  {
   "cell_type": "code",
   "execution_count": 9,
   "metadata": {
    "collapsed": false
   },
   "outputs": [],
   "source": [
    "input_X = T.matrix('input X')\n",
    "target_Y = T.ivector('target Y')"
   ]
  },
  {
   "cell_type": "markdown",
   "metadata": {},
   "source": [
    "Build SNN with 1 hidden layer\n",
    "------------"
   ]
  },
  {
   "cell_type": "code",
   "execution_count": 11,
   "metadata": {
    "collapsed": false
   },
   "outputs": [],
   "source": [
    "n_features =  len(features.columns.values)-1\n",
    "n_hidden = 800 \n",
    "p_drop = 0.2"
   ]
  },
  {
   "cell_type": "code",
   "execution_count": 12,
   "metadata": {
    "collapsed": false
   },
   "outputs": [],
   "source": [
    "l_in = InputLayer([None, n_features],input_X,'shallow input layer')\n",
    "\n",
    "l_0 = lasagne.layers.BatchNormLayer(l_in, name=\"l_0\")\n",
    "\n",
    "l_1 = batch_norm(DenseLayer(l_0,\n",
    "                num_units=n_hidden,\n",
    "                name='dense0',\n",
    "                nonlinearity=lasagne.nonlinearities.rectify))\n",
    "d_1 = dropout(l_1, p=p_drop)\n",
    "snn = DenseLayer(d_1,num_units=2,\n",
    "                name='shallow_dense_out',\n",
    "                nonlinearity=lasagne.nonlinearities.softmax,)"
   ]
  },
  {
   "cell_type": "code",
   "execution_count": 13,
   "metadata": {
    "collapsed": false
   },
   "outputs": [
    {
     "data": {
      "text/plain": [
       "[l_0.beta,\n",
       " l_0.gamma,\n",
       " dense0.W,\n",
       " dense0_bn.beta,\n",
       " dense0_bn.gamma,\n",
       " shallow_dense_out.W,\n",
       " shallow_dense_out.b]"
      ]
     },
     "execution_count": 13,
     "metadata": {},
     "output_type": "execute_result"
    }
   ],
   "source": [
    "weights_snn = lasagne.layers.get_all_params(snn,trainable=True)\n",
    "weights_snn"
   ]
  },
  {
   "cell_type": "code",
   "execution_count": 14,
   "metadata": {
    "collapsed": false
   },
   "outputs": [],
   "source": [
    "snn_out = lasagne.layers.get_output(snn)\n",
    "loss_snn = lasagne.objectives.categorical_crossentropy(snn_out, target_Y).mean()\n",
    "l2_penalty = regularize_layer_params(l_1, l2) * 1e-3\n",
    "loss_snn = loss_snn + l2_penalty"
   ]
  },
  {
   "cell_type": "code",
   "execution_count": 15,
   "metadata": {
    "collapsed": false
   },
   "outputs": [],
   "source": [
    "updates =lasagne.updates.adadelta(loss_snn,weights_snn)\n",
    "train_fun = theano.function([input_X,target_Y],[loss_snn,snn_out[:,1]],updates=updates)"
   ]
  },
  {
   "cell_type": "code",
   "execution_count": 16,
   "metadata": {
    "collapsed": true
   },
   "outputs": [],
   "source": [
    "det_snn_out = lasagne.layers.get_output(snn,deterministic=True)\n",
    "det_loss = lasagne.objectives.categorical_crossentropy(det_snn_out,target_Y).mean()\n",
    "val_fun = theano.function([input_X,target_Y],[det_loss,snn_out[:,1]])"
   ]
  },
  {
   "cell_type": "markdown",
   "metadata": {},
   "source": [
    "Training loop\n",
    "--------------\n",
    "This part of source code contains utilities responsible for training NN based on lasagne."
   ]
  },
  {
   "cell_type": "code",
   "execution_count": 27,
   "metadata": {
    "collapsed": true
   },
   "outputs": [],
   "source": [
    "def iterate_minibatches(inputs, targets, batchsize, shuffle=True):\n",
    "    assert len(inputs) == len(targets)\n",
    "    if shuffle:\n",
    "        indices = np.arange(len(inputs))\n",
    "        np.random.shuffle(indices)\n",
    "    for start_idx in range(0, len(inputs) - batchsize + 1, batchsize):\n",
    "        if shuffle:\n",
    "            excerpt = indices[start_idx:start_idx + batchsize]\n",
    "        else:\n",
    "            excerpt = slice(start_idx, start_idx + batchsize)\n",
    "        yield inputs[excerpt], targets[excerpt]"
   ]
  },
  {
   "cell_type": "code",
   "execution_count": 18,
   "metadata": {
    "collapsed": true
   },
   "outputs": [],
   "source": [
    "train_auc_curve = []\n",
    "train_acc_curve = []\n",
    "val_auc_curve = []\n",
    "val_acc_curve = []"
   ]
  },
  {
   "cell_type": "code",
   "execution_count": 28,
   "metadata": {
    "collapsed": false,
    "scrolled": true
   },
   "outputs": [],
   "source": [
    "def train_classifier(train_fun, val_fun, num_epochs, batch_size):\n",
    "    for epoch in range(num_epochs):\n",
    "        # In each epoch, we do a full pass over the training data:\n",
    "        #print (\"start epoch %d\"%epoch)\n",
    "        start_time = time.time()\n",
    "\n",
    "        train_err = 0\n",
    "        Ypred_batches = []\n",
    "        Ytrue_batches = []\n",
    "        train_batches = 0\n",
    "\n",
    "        for batch in iterate_minibatches(X_train, y_train, batch_size, shuffle=True):\n",
    "            inputs, targets = batch\n",
    "            err, y_pred = train_fun(inputs, targets)\n",
    "\n",
    "            Ypred_batches.append(y_pred)\n",
    "            Ytrue_batches.append(targets)\n",
    "            #if train_batches % 100 == 0:\n",
    "            #    print(\"train batch %d\"%train_batches)\n",
    "\n",
    "            train_err += err\n",
    "            train_batches += 1\n",
    "\n",
    "        Ypred_train = np.concatenate(Ypred_batches)\n",
    "        Ytrue_train = np.concatenate(Ytrue_batches)\n",
    "        train_acc = accuracy_score(Ytrue_train, Ypred_train>0.5)\n",
    "        train_auc = roc_auc_score(Ytrue_train, Ypred_train)\n",
    "\n",
    "        train_acc_curve.append(train_acc)\n",
    "        train_auc_curve.append(train_auc)\n",
    "\n",
    "        print (\"start validation\")\n",
    "        # And a full pass over the validation data:\n",
    "        val_err = 0\n",
    "        Ypred_batches = []\n",
    "        Ytrue_batches = []\n",
    "        val_batches = 0\n",
    "\n",
    "        for batch in iterate_minibatches(X_val, y_val, batch_size, shuffle=False):\n",
    "            inputs, targets = batch\n",
    "            err, y_pred = val_fun(inputs, targets)\n",
    "            Ypred_batches.append(y_pred)\n",
    "            Ytrue_batches.append(targets)\n",
    "            #if val_batches % 100 == 0:\n",
    "            #    print(\"val batch %d\"%val_batches)\n",
    "\n",
    "            val_err += err\n",
    "            val_batches += 1\n",
    "\n",
    "        Ypred_val = np.concatenate(Ypred_batches)\n",
    "        Ytrue_val = np.concatenate(Ytrue_batches)\n",
    "        val_acc = accuracy_score(Ytrue_val, Ypred_val>0.5)\n",
    "        val_auc = roc_auc_score(Ytrue_val, Ypred_val)\n",
    "\n",
    "        val_acc_curve.append(val_acc)\n",
    "        val_auc_curve.append(val_auc)\n",
    "\n",
    "\n",
    "        # Then we print the results for this epoch:\n",
    "        print(\"Epoch {} of {} took {:.3f}s\".format(\n",
    "            epoch + 1, num_epochs, time.time() - start_time))\n",
    "        print(\"  training loss:\\t\\t{:.6f}\".format(train_err / train_batches))\n",
    "        print(\"  training accuracy:\\t\\t{:.2f} %\".format(\n",
    "            train_acc * 100))\n",
    "        print(\"  training AUCscore:\\t\\t{:.2f} %\".format(\n",
    "            train_auc * 100))\n",
    "        print(\"  validation loss:\\t\\t{:.6f}\".format(val_err / val_batches))\n",
    "        print(\"  validation accuracy:\\t\\t{:.2f} %\".format(\n",
    "            val_acc  * 100))\n",
    "        print(\"  validation AUCscore:\\t\\t{:.2f} %\".format(\n",
    "            val_auc * 100))"
   ]
  },
  {
   "cell_type": "code",
   "execution_count": 52,
   "metadata": {
    "collapsed": false
   },
   "outputs": [
    {
     "name": "stdout",
     "output_type": "stream",
     "text": [
      "start validation\n",
      "Epoch 1 of 15 took 164.757s\n",
      "  training loss:\t\t0.227137\n",
      "  training accuracy:\t\t93.41 %\n",
      "  training AUCscore:\t\t71.92 %\n",
      "  validation loss:\t\t0.216804\n",
      "  validation accuracy:\t\t93.64 %\n",
      "  validation AUCscore:\t\t74.02 %\n",
      "start validation\n",
      "Epoch 2 of 15 took 179.010s\n",
      "  training loss:\t\t0.216524\n",
      "  training accuracy:\t\t93.57 %\n",
      "  training AUCscore:\t\t74.75 %\n",
      "  validation loss:\t\t0.220398\n",
      "  validation accuracy:\t\t93.64 %\n",
      "  validation AUCscore:\t\t76.17 %\n",
      "start validation\n",
      "Epoch 3 of 15 took 164.967s\n",
      "  training loss:\t\t0.213974\n",
      "  training accuracy:\t\t93.57 %\n",
      "  training AUCscore:\t\t75.53 %\n",
      "  validation loss:\t\t0.205970\n",
      "  validation accuracy:\t\t93.63 %\n",
      "  validation AUCscore:\t\t76.98 %\n",
      "start validation\n",
      "Epoch 4 of 15 took 162.922s\n",
      "  training loss:\t\t0.211682\n",
      "  training accuracy:\t\t93.59 %\n",
      "  training AUCscore:\t\t76.11 %\n",
      "  validation loss:\t\t0.209053\n",
      "  validation accuracy:\t\t93.61 %\n",
      "  validation AUCscore:\t\t76.91 %\n",
      "start validation\n",
      "Epoch 5 of 15 took 162.007s\n",
      "  training loss:\t\t0.210298\n",
      "  training accuracy:\t\t93.59 %\n",
      "  training AUCscore:\t\t76.49 %\n",
      "  validation loss:\t\t0.205575\n",
      "  validation accuracy:\t\t93.60 %\n",
      "  validation AUCscore:\t\t77.02 %\n",
      "start validation\n",
      "Epoch 6 of 15 took 161.959s\n",
      "  training loss:\t\t0.208950\n",
      "  training accuracy:\t\t93.59 %\n",
      "  training AUCscore:\t\t76.89 %\n",
      "  validation loss:\t\t0.207073\n",
      "  validation accuracy:\t\t93.62 %\n",
      "  validation AUCscore:\t\t76.79 %\n",
      "start validation\n",
      "Epoch 7 of 15 took 144.679s\n",
      "  training loss:\t\t0.207710\n",
      "  training accuracy:\t\t93.59 %\n",
      "  training AUCscore:\t\t77.27 %\n",
      "  validation loss:\t\t0.204818\n",
      "  validation accuracy:\t\t93.52 %\n",
      "  validation AUCscore:\t\t77.79 %\n",
      "start validation\n",
      "Epoch 8 of 15 took 143.548s\n",
      "  training loss:\t\t0.206850\n",
      "  training accuracy:\t\t93.59 %\n",
      "  training AUCscore:\t\t77.55 %\n",
      "  validation loss:\t\t0.202858\n",
      "  validation accuracy:\t\t93.61 %\n",
      "  validation AUCscore:\t\t77.79 %\n",
      "start validation\n",
      "Epoch 9 of 15 took 144.029s\n",
      "  training loss:\t\t0.206238\n",
      "  training accuracy:\t\t93.58 %\n",
      "  training AUCscore:\t\t77.72 %\n",
      "  validation loss:\t\t0.203358\n",
      "  validation accuracy:\t\t93.62 %\n",
      "  validation AUCscore:\t\t77.82 %\n",
      "start validation\n",
      "Epoch 10 of 15 took 138.974s\n",
      "  training loss:\t\t0.205810\n",
      "  training accuracy:\t\t93.59 %\n",
      "  training AUCscore:\t\t77.85 %\n",
      "  validation loss:\t\t0.203729\n",
      "  validation accuracy:\t\t93.62 %\n",
      "  validation AUCscore:\t\t77.87 %\n",
      "start validation\n",
      "Epoch 11 of 15 took 143.202s\n",
      "  training loss:\t\t0.205496\n",
      "  training accuracy:\t\t93.59 %\n",
      "  training AUCscore:\t\t77.95 %\n",
      "  validation loss:\t\t0.203527\n",
      "  validation accuracy:\t\t93.59 %\n",
      "  validation AUCscore:\t\t77.87 %\n",
      "start validation\n",
      "Epoch 12 of 15 took 152.954s\n",
      "  training loss:\t\t0.205036\n",
      "  training accuracy:\t\t93.59 %\n",
      "  training AUCscore:\t\t78.12 %\n",
      "  validation loss:\t\t0.202575\n",
      "  validation accuracy:\t\t93.61 %\n",
      "  validation AUCscore:\t\t77.98 %\n",
      "start validation\n",
      "Epoch 13 of 15 took 158.435s\n",
      "  training loss:\t\t0.204843\n",
      "  training accuracy:\t\t93.59 %\n",
      "  training AUCscore:\t\t78.13 %\n",
      "  validation loss:\t\t0.201487\n",
      "  validation accuracy:\t\t93.62 %\n",
      "  validation AUCscore:\t\t78.27 %\n",
      "start validation\n",
      "Epoch 14 of 15 took 179.604s\n",
      "  training loss:\t\t0.204501\n",
      "  training accuracy:\t\t93.59 %\n",
      "  training AUCscore:\t\t78.29 %\n",
      "  validation loss:\t\t0.203015\n",
      "  validation accuracy:\t\t93.61 %\n",
      "  validation AUCscore:\t\t78.33 %\n",
      "start validation\n",
      "Epoch 15 of 15 took 151.660s\n",
      "  training loss:\t\t0.204605\n",
      "  training accuracy:\t\t93.60 %\n",
      "  training AUCscore:\t\t78.22 %\n",
      "  validation loss:\t\t0.201693\n",
      "  validation accuracy:\t\t93.63 %\n",
      "  validation AUCscore:\t\t78.41 %\n"
     ]
    }
   ],
   "source": [
    "num_epochs = 15\n",
    "batch_size = 250\n",
    "train_classifier(train_fun=train_fun, val_fun=val_fun, num_epochs=num_epochs, batch_size=batch_size)"
   ]
  },
  {
   "cell_type": "code",
   "execution_count": 53,
   "metadata": {
    "collapsed": false
   },
   "outputs": [
    {
     "data": {
      "image/png": "[encoded data removed]",
      "text/plain": [
       "<matplotlib.figure.Figure at 0x7f77a18c8c50>"
      ]
     },
     "metadata": {},
     "output_type": "display_data"
    }
   ],
   "source": [
    "plt.figure(figsize=(12, 7))\n",
    "plt.plot(val_acc_curve,label='validation accuracy')\n",
    "plt.plot(val_auc_curve,label='validation auc')\n",
    "plt.plot(train_acc_curve,label='training accuracy')\n",
    "plt.plot(train_auc_curve,label='training auc')\n",
    "plt.xlabel(\"epochs\")\n",
    "plt.legend(loc='best')\n",
    "plt.ylim(0.7,1);"
   ]
  },
  {
   "cell_type": "code",
   "execution_count": 54,
   "metadata": {
    "collapsed": false
   },
   "outputs": [
    {
     "name": "stdout",
     "output_type": "stream",
     "text": [
      "ROC AUC score - model 1NN with 800 hidden units\n"
     ]
    },
    {
     "data": {
      "text/plain": [
       "0.7872207073579176"
      ]
     },
     "execution_count": 54,
     "metadata": {},
     "output_type": "execute_result"
    }
   ],
   "source": [
    "print \"ROC AUC score - model 1NN with 800 hidden units\"\n",
    "err, y_pred = val_fun(X_val, y_val)\n",
    "roc_auc_score(y_val, y_pred)"
   ]
  },
  {
   "cell_type": "code",
   "execution_count": 55,
   "metadata": {
    "collapsed": false
   },
   "outputs": [
    {
     "data": {
      "image/png": "[encoded data removed]",
      "text/plain": [
       "<matplotlib.figure.Figure at 0x7f776ae84810>"
      ]
     },
     "metadata": {},
     "output_type": "display_data"
    }
   ],
   "source": [
    "plt.figure(figsize=[6, 6])\n",
    "err, y_pred = val_fun(X_val, y_val)\n",
    "fpr, tpr, thresholds = roc_curve(y_val, y_pred)\n",
    "roc_auc = auc(fpr, tpr)\n",
    "plt.plot(fpr, tpr, lw=1, label='ROC 1NN (area = %0.2f)'%(roc_auc))\n",
    "plt.plot([0, 1], [0, 1], '--', color=(0.6, 0.6, 0.6), label='no discrimination')\n",
    "plt.xlim([-0.05, 1.05])\n",
    "plt.ylim([-0.05, 1.05])\n",
    "plt.xlabel('False Positive Rate')\n",
    "plt.ylabel('True Positive Rate')\n",
    "plt.title('Receiver operating characteristic')\n",
    "plt.legend(loc=\"lower right\")\n",
    "plt.grid()\n",
    "plt.show()"
   ]
  },
  {
   "cell_type": "code",
   "execution_count": 56,
   "metadata": {
    "collapsed": false
   },
   "outputs": [
    {
     "data": {
      "image/png": "[encoded data removed]",
      "text/plain": [
       "<matplotlib.figure.Figure at 0x7f775cc5d210>"
      ]
     },
     "metadata": {},
     "output_type": "display_data"
    }
   ],
   "source": [
    "roc_auc = auc(fpr, tpr)\n",
    "plt.plot(fpr, tpr, lw=1, label='ROC 1NN (area = %0.2f)'%(roc_auc))\n",
    "plt.plot([0, 1], [0, 1], '--', color=(0.6, 0.6, 0.6), label='no discrimination')\n",
    "plt.xlim([0.6, 1])\n",
    "plt.ylim([0.95, 1.])\n",
    "plt.xlabel('False Positive Rate')\n",
    "plt.ylabel('True Positive Rate')\n",
    "plt.title('Receiver operating characteristic')\n",
    "plt.legend(loc=\"lower right\")\n",
    "plt.grid()\n",
    "plt.show()"
   ]
  },
  {
   "cell_type": "markdown",
   "metadata": {},
   "source": [
    "Train Shallow Neural Network (2NN) \n",
    "======\n",
    "I take a simple NN with 2 hidden layers:\n",
    "* Layers must contain 800 hidden units each\n",
    "* Layers must use **relu** nonlinearity\n",
    "* Dropout probablilty set to 0.2\n",
    "\n",
    "Above structure can be optimized, but right now I need to make it work"
   ]
  },
  {
   "cell_type": "markdown",
   "metadata": {},
   "source": [
    "The network parameters\n",
    "------"
   ]
  },
  {
   "cell_type": "code",
   "execution_count": 10,
   "metadata": {
    "collapsed": true
   },
   "outputs": [],
   "source": [
    "n_features =  len(features.columns.values)-1\n",
    "n_hidden = 800 \n",
    "p_drop = 0.2"
   ]
  },
  {
   "cell_type": "code",
   "execution_count": 11,
   "metadata": {
    "collapsed": true
   },
   "outputs": [],
   "source": [
    "l_2nn_in = InputLayer([None, n_features],input_X,'shallow input layer')\n",
    "\n",
    "l_2nn_0 = lasagne.layers.BatchNormLayer(l_2nn_in, name=\"l_2nn_0\")\n",
    "\n",
    "l_2nn_1 = batch_norm(DenseLayer(l_2nn_0,\n",
    "                num_units=n_hidden,\n",
    "                name='dense0',\n",
    "                nonlinearity=lasagne.nonlinearities.rectify))\n",
    "d_2nn_1 = dropout(l_2nn_1, p=p_drop)\n",
    "\n",
    "l_2nn_2 = batch_norm(DenseLayer(d_2nn_1,\n",
    "                num_units=n_hidden,\n",
    "                name='dense1',\n",
    "                nonlinearity=lasagne.nonlinearities.rectify))\n",
    "d_2nn_2 = dropout(l_2nn_2, p=p_drop)\n",
    "snn_2nn = DenseLayer(d_2nn_2,num_units=2,\n",
    "                name='2nn_dense_out',\n",
    "                nonlinearity=lasagne.nonlinearities.softmax,)"
   ]
  },
  {
   "cell_type": "code",
   "execution_count": null,
   "metadata": {
    "collapsed": false
   },
   "outputs": [],
   "source": [
    "Theano.gcc.cxxflags=-march=avx\n",
    "weights_snn_2nn = lasagne.layers.get_all_params(snn_2nn,trainable=True)\n",
    "snn_2nn_out = lasagne.layers.get_output(snn_2nn)\n",
    "\n",
    "loss_snn_2nn = lasagne.objectives.categorical_crossentropy(snn_2nn_out, target_Y).mean()\n",
    "l2_2nn_penalty = regularize_layer_params([l_2nn_1, l_2nn_2], l2) * 1e-3\n",
    "loss_snn_2nn = loss_snn_2nn + l2_2nn_penalty\n",
    "\n",
    "updates_2nn =lasagne.updates.adadelta(loss_snn_2nn,weights_snn_2nn)\n",
    "train_fun_2nn = theano.function([input_X,target_Y],[loss_snn_2nn,snn_2nn_out[:,1]],updates=updates_2nn)\n",
    "\n",
    "det_snn_2nn_out = lasagne.layers.get_output(snn_2nn,deterministic=True)\n",
    "det_loss_2nn = lasagne.objectives.categorical_crossentropy(det_snn_2nn_out,target_Y).mean()\n",
    "val_fun_2nn = theano.function([input_X,target_Y],[det_loss_2nn,snn_2nn_out[:,1]])"
   ]
  },
  {
   "cell_type": "code",
   "execution_count": null,
   "metadata": {
    "collapsed": false
   },
   "outputs": [],
   "source": [
    "train_auc_curve = []\n",
    "train_acc_curve = []\n",
    "val_auc_curve = []\n",
    "val_acc_curve = []\n",
    "\n",
    "num_epochs = 15\n",
    "batch_size = 250\n",
    "\n",
    "train_classifier(train_fun=train_fun_2nn, val_fun=val_fun_2nn, num_epochs=num_epochs, batch_size=batch_size)"
   ]
  },
  {
   "cell_type": "markdown",
   "metadata": {},
   "source": [
    "Training the DNN is not possible without GPU cluster. \n",
    "================ \n",
    "I still waiting for access to it. "
   ]
  },
  {
   "cell_type": "code",
   "execution_count": null,
   "metadata": {
    "collapsed": true
   },
   "outputs": [],
   "source": []
  }
 ],
 "metadata": {
  "kernelspec": {
   "display_name": "Python 2",
   "language": "python",
   "name": "python2"
  },
  "language_info": {
   "codemirror_mode": {
    "name": "ipython",
    "version": 2
   },
   "file_extension": ".py",
   "mimetype": "text/x-python",
   "name": "python",
   "nbconvert_exporter": "python",
   "pygments_lexer": "ipython2",
   "version": "2.7.10"
  }
 },
 "nbformat": 4,
 "nbformat_minor": 0
}
